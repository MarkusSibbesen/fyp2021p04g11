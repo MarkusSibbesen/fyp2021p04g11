{
 "cells": [
  {
   "cell_type": "markdown",
   "source": "## Task 1",
   "metadata": {
    "tags": [],
    "cell_id": "00001-f034f263-c20b-483f-96db-88524a842fca",
    "deepnote_cell_type": "markdown"
   }
  },
  {
   "cell_type": "markdown",
   "source": "We have selected **hate speech detection** as the binary classifier and the **sentiment analysis** as the multiclass classifier.",
   "metadata": {
    "tags": [],
    "cell_id": "00001-437886a7-c638-4c73-86de-3ee62144d833",
    "deepnote_cell_type": "markdown"
   }
  },
  {
   "cell_type": "code",
   "metadata": {
    "tags": [],
    "cell_id": "00001-077c6e66-d22d-4e09-9227-6a35ed8c6592",
    "deepnote_to_be_reexecuted": false,
    "source_hash": "1e7967ad",
    "execution_start": 1620996099564,
    "execution_millis": 2650,
    "deepnote_cell_type": "code"
   },
   "source": "#Imports \nimport pandas as pd \nimport csv \nimport re\nimport nltk\nnltk.download('punkt')\nfrom nltk.tokenize import TweetTokenizer\nfrom difflib import ndiff\n",
   "execution_count": null,
   "outputs": [
    {
     "name": "stderr",
     "text": "[nltk_data] Downloading package punkt to /root/nltk_data...\n[nltk_data]   Unzipping tokenizers/punkt.zip.\n",
     "output_type": "stream"
    }
   ]
  },
  {
   "cell_type": "code",
   "metadata": {
    "tags": [],
    "cell_id": "00001-f733bea0-7ebd-47a7-9518-baf31430b8d3",
    "deepnote_to_be_reexecuted": false,
    "source_hash": "1e597065",
    "execution_start": 1620996102223,
    "execution_millis": 123,
    "deepnote_cell_type": "code"
   },
   "source": "# Data loading \n\n# hate\nhate_train = open(\"datasets/hate/train_text.txt\", \"r\", encoding=\"utf-8\").read()\nhate_test = open(\"datasets/hate/test_text.txt\", \"r\", encoding=\"utf-8\").read()\nhate_mapping = open(\"datasets/hate/mapping.txt\", \"r\", encoding=\"utf-8\").read()\n\n# sentiment \nsentiment_train = open(\"datasets/sentiment/train_text.txt\", \"r\", encoding=\"utf-8\").read()\nsentiment_test = open(\"datasets/sentiment/test_text.txt\", \"r\", encoding=\"utf-8\").read()\nsentiment_mapping = open(\"datasets/sentiment/mapping.txt\", \"r\", encoding=\"utf-8\").read()",
   "execution_count": null,
   "outputs": []
  },
  {
   "cell_type": "markdown",
   "source": "**Preprocessing** <br>\nUsing regular expressions, implement a tokeniser to split the input texts into meaningful tokens. Your tokeniser should be a script that takes as input the data as distributed in the dataset and outputs the tokenised text, one output line per input line, with spaces between tokens.",
   "metadata": {
    "tags": [],
    "cell_id": "00003-2828698c-36ad-4ba1-9ad5-b3ef0486a32e",
    "deepnote_cell_type": "markdown"
   }
  },
  {
   "cell_type": "code",
   "metadata": {
    "tags": [],
    "cell_id": "00004-72832362-94dd-4283-bd62-bcbd5c6e0e9f",
    "deepnote_to_be_reexecuted": false,
    "source_hash": "372aa900",
    "execution_start": 1620996102349,
    "execution_millis": 19,
    "deepnote_cell_type": "code"
   },
   "source": "def tokenize_line(line):\n    #replacements = \".,:;?!/#%\\(\\)@$\\-…\"\n    #temp = re.sub(f'([^ ])([{replacements}])', r'\\1 \\2', line)\n    #temp = re.sub(f'([{replacements}])([^ ])', r'\\1 \\2', temp)\n    temp = re.sub(f'([a-zA-Z])([^a-zA-Z ])', r'\\1 \\2', line)\n    temp = re.sub(f'([^a-zA-Z @#])([a-zA-Z])', r'\\1 \\2', temp)\n    return temp\n\ntokenize_line('hej, d/et.te (er) en .test!')",
   "execution_count": null,
   "outputs": [
    {
     "output_type": "execute_result",
     "execution_count": 3,
     "data": {
      "text/plain": "'hej , d / et . te ( er ) en . test !'"
     },
     "metadata": {}
    }
   ]
  },
  {
   "cell_type": "markdown",
   "source": "1. Use the training set of one of the tasks you’ve chosen to work on. Set aside a part of the training set for evaluating the tokeniser so you don’t have to touch the validation data for that.",
   "metadata": {
    "tags": [],
    "cell_id": "00003-56e1a21a-8531-45ba-85f7-fd44749020e6",
    "deepnote_cell_type": "markdown"
   }
  },
  {
   "cell_type": "code",
   "metadata": {
    "tags": [],
    "cell_id": "00006-518b0e08-4431-4feb-a90a-397a400679c8",
    "deepnote_to_be_reexecuted": false,
    "source_hash": "146d7afe",
    "execution_start": 1620996102369,
    "execution_millis": 14,
    "deepnote_cell_type": "code"
   },
   "source": "hate_train_lists = hate_train.split('\\n')\nhate_train_tokenize = hate_train_lists[0:4500]\nhate_train_set_aside = hate_train_lists[4500:-1]",
   "execution_count": null,
   "outputs": []
  },
  {
   "cell_type": "markdown",
   "source": "2. Start by taking a subset of the training data, look through it and discuss in your group what a good tokenisation of this subset should look like. Then design your initial Python implementation to match this ideal tokenisation, and run it over the portion of the training set that you didn’t hold out for tokeniser evaluation. Keep an eye on infrequently occurring tokens in the output that look like tokenisation errors.\n",
   "metadata": {
    "tags": [],
    "cell_id": "00005-20857666-1524-4133-9c66-87cc0298b3d9",
    "deepnote_cell_type": "markdown"
   }
  },
  {
   "cell_type": "code",
   "metadata": {
    "tags": [],
    "cell_id": "00006-205f08d1-9c92-4907-9ea2-a49a1791de97",
    "deepnote_to_be_reexecuted": false,
    "source_hash": "5fba0ad7",
    "execution_start": 1620996102389,
    "execution_millis": 49,
    "deepnote_cell_type": "code"
   },
   "source": "[tokenize_line(line) for line in hate_train_tokenize[0:20]]",
   "execution_count": null,
   "outputs": [
    {
     "output_type": "execute_result",
     "execution_count": 5,
     "data": {
      "text/plain": "['@user nice new signage . Are you not concerned by Beatlemania - style hysterical crowds crongregating on you … ',\n 'A woman who you fucked multiple times saying yo dick small is a compliment you know u hit that spot 😎 ',\n '@user @user real talk do you have eyes or were they gouged out by a rapefugee ? ',\n 'your girlfriend lookin at me like a groupie in this bitch ! ',\n 'Hysterical woman like @user ',\n 'Me flirting - So tell me about your father ... ',\n 'The Philippine Catholic bishops \\' work for migrant workers should focus on families who are \" paying the great ... ',\n \"I AM NOT GOING AFTER YOUR EX BF YOU LIEING SACK OF SHIT ! I ' m done with you dude that ' s why I dumped your ass cause your a lieing 😂😡 bitch \",\n 'When cuffin season is finally over ',\n 'Send home migrants not in need of protection , Peter Dutton tells UN , HEY DUTTON HOW ABOUT THE ONES THAT HAVE STAYED AND NOT LEFT THE COUNTRY WHEN THEY SHOULD OVERSTAYERS ? WHY DONT YOU GO AND ROUND ALL THEM UP ?  ',\n 'Cory Booker and Kamala Harris competing for Most Hysterical Woman at the Kavanaugh hearings , Coulter hilariously tweeted . And yes , liberals immediately got triggered on Twitter , saying her joke was offensive . To them we say , suck it up , snowflakes . ',\n \"Only that in you which is me can hear what I ' m saying . ~ Baba Ram Dass \",\n \"Should have let the Libyan Manchester bomber rot in his own country . How many more mass murderers did the Royal Navy import to Britain ? How many more terrorists do the NGO ' s rescue from international waters ? #RefugeesNotWelcome \",\n 'More migrants take sea route to #Spain than Italy this year : UN ',\n 'Essential reading for those in Scribner , Nebraska who are considering an anti - immigrant ballot measure . ',\n 'This account was temporarily inactive due to an irrational woman reporting us to Twitter . What a lack of judgement , shocking . #YesAllMen ',\n 'RT @user @user I am flattered tbh . I got an orgasm just by thinking of it you really are good at this . ',\n 'Making them look ~ anatomically correct ~ just makes them ... Bland . Not all women are tiny and fit , not all men are bulky . ',\n 'listen ... i love lil b but i would not fuck with dej loaf at all . she prob got poison up in her nail polish like that bitch from holes ',\n '@user @user keep calling her a bitch and a whore dude real grown up . ']"
     },
     "metadata": {}
    }
   ]
  },
  {
   "cell_type": "markdown",
   "source": "3. Once you’re done, compare your tokeniser’s output with the baseline tokenisation\nyou get from the social media tokeniser in the NLTK library (nltk.tokenize.TweetTokenizer), using the data you’ve set aside for this purpose.",
   "metadata": {
    "tags": [],
    "cell_id": "00007-ba90aa62-8537-4289-b066-6f78d12fb5d2",
    "deepnote_cell_type": "markdown"
   }
  },
  {
   "cell_type": "code",
   "metadata": {
    "tags": [],
    "cell_id": "00008-490dca95-88e0-4dd1-8fc5-0656573dbb9f",
    "deepnote_to_be_reexecuted": false,
    "source_hash": "4cc862ba",
    "execution_start": 1620996102439,
    "execution_millis": 0,
    "deepnote_cell_type": "code"
   },
   "source": "#TweetTokenizer(hate_train)\ntknzr = TweetTokenizer()\ntokens_homemade = [tokenize_line(hate_train_tokenize[i].strip()) for i in range(20)]\ntokens_nltk = [' '.join(tknzr.tokenize(hate_train_tokenize[i])) for i in range(20)]",
   "execution_count": null,
   "outputs": []
  },
  {
   "cell_type": "code",
   "metadata": {
    "tags": [],
    "cell_id": "00012-b6e8dd00-617d-436b-b88f-ec84bb359020",
    "deepnote_to_be_reexecuted": false,
    "source_hash": "24470fd9",
    "execution_start": 1620996102439,
    "execution_millis": 20,
    "deepnote_cell_type": "code"
   },
   "source": "print(tokens_homemade)\nprint(tokens_nltk)\n[i for i in ndiff(tokens_homemade, tokens_nltk)]",
   "execution_count": null,
   "outputs": [
    {
     "name": "stdout",
     "text": "['@user nice new signage . Are you not concerned by Beatlemania - style hysterical crowds crongregating on you …', 'A woman who you fucked multiple times saying yo dick small is a compliment you know u hit that spot 😎', '@user @user real talk do you have eyes or were they gouged out by a rapefugee ?', 'your girlfriend lookin at me like a groupie in this bitch !', 'Hysterical woman like @user', 'Me flirting - So tell me about your father ...', 'The Philippine Catholic bishops \\' work for migrant workers should focus on families who are \" paying the great ...', \"I AM NOT GOING AFTER YOUR EX BF YOU LIEING SACK OF SHIT ! I ' m done with you dude that ' s why I dumped your ass cause your a lieing 😂😡 bitch\", 'When cuffin season is finally over', 'Send home migrants not in need of protection , Peter Dutton tells UN , HEY DUTTON HOW ABOUT THE ONES THAT HAVE STAYED AND NOT LEFT THE COUNTRY WHEN THEY SHOULD OVERSTAYERS ? WHY DONT YOU GO AND ROUND ALL THEM UP ?', 'Cory Booker and Kamala Harris competing for Most Hysterical Woman at the Kavanaugh hearings , Coulter hilariously tweeted . And yes , liberals immediately got triggered on Twitter , saying her joke was offensive . To them we say , suck it up , snowflakes .', \"Only that in you which is me can hear what I ' m saying . ~ Baba Ram Dass\", \"Should have let the Libyan Manchester bomber rot in his own country . How many more mass murderers did the Royal Navy import to Britain ? How many more terrorists do the NGO ' s rescue from international waters ? #RefugeesNotWelcome\", 'More migrants take sea route to #Spain than Italy this year : UN', 'Essential reading for those in Scribner , Nebraska who are considering an anti - immigrant ballot measure .', 'This account was temporarily inactive due to an irrational woman reporting us to Twitter . What a lack of judgement , shocking . #YesAllMen', 'RT @user @user I am flattered tbh . I got an orgasm just by thinking of it you really are good at this .', 'Making them look ~ anatomically correct ~ just makes them ... Bland . Not all women are tiny and fit , not all men are bulky .', 'listen ... i love lil b but i would not fuck with dej loaf at all . she prob got poison up in her nail polish like that bitch from holes', '@user @user keep calling her a bitch and a whore dude real grown up .']\n['@user nice new signage . Are you not concerned by Beatlemania - style hysterical crowds crongregating on you …', 'A woman who you fucked multiple times saying yo dick small is a compliment you know u hit that spot 😎', '@user @user real talk do you have eyes or were they gouged out by a rapefugee ?', 'your girlfriend lookin at me like a groupie in this bitch !', 'Hysterical woman like @user', 'Me flirting - So tell me about your father ...', 'The Philippine Catholic bishops \\' work for migrant workers should focus on families who are \" paying the great ...', \"I AM NOT GOING AFTER YOUR EX BF YOU LIEING SACK OF SHIT ! I'm done with you dude that's why I dumped your ass cause your a lieing 😂 😡 bitch\", 'When cuffin season is finally over', 'Send home migrants not in need of protection , Peter Dutton tells UN , HEY DUTTON HOW ABOUT THE ONES THAT HAVE STAYED AND NOT LEFT THE COUNTRY WHEN THEY SHOULD OVERSTAYERS ? WHY DONT YOU GO AND ROUND ALL THEM UP ?', 'Cory Booker and Kamala Harris competing for Most Hysterical Woman at the Kavanaugh hearings , Coulter hilariously tweeted.And yes , liberals immediately got triggered on Twitter , saying her joke was offensive . To them we say , suck it up , snowflakes .', \"Only that in you which is me can hear what I'm saying . ~ Baba Ram Dass\", \"Should have let the Libyan Manchester bomber rot in his own country . How many more mass murderers did the Royal Navy import to Britain ? How many more terrorists do the NGO's rescue from international waters ? #RefugeesNotWelcome\", 'More migrants take sea route to #Spain than Italy this year : UN', 'Essential reading for those in Scribner , Nebraska who are considering an anti-immigrant ballot measure .', 'This account was temporarily inactive due to an irrational woman reporting us to Twitter . What a lack of judgement , shocking . #YesAllMen', 'RT @user @user I am flattered tbh . I got an orgasm just by thinking of it you really are good at this .', 'Making them look ~ anatomically correct ~ just makes them ... Bland . Not all women are tiny and fit , not all men are bulky .', 'listen ... i love lil b but i would not fuck with dej loaf at all . she prob got poison up in her nail polish like that bitch from holes', '@user @user keep calling her a bitch and a whore dude real grown up .']\n",
     "output_type": "stream"
    },
    {
     "output_type": "execute_result",
     "execution_count": 7,
     "data": {
      "text/plain": "['  @user nice new signage . Are you not concerned by Beatlemania - style hysterical crowds crongregating on you …',\n '  A woman who you fucked multiple times saying yo dick small is a compliment you know u hit that spot 😎',\n '  @user @user real talk do you have eyes or were they gouged out by a rapefugee ?',\n '  your girlfriend lookin at me like a groupie in this bitch !',\n '  Hysterical woman like @user',\n '  Me flirting - So tell me about your father ...',\n '  The Philippine Catholic bishops \\' work for migrant workers should focus on families who are \" paying the great ...',\n \"- I AM NOT GOING AFTER YOUR EX BF YOU LIEING SACK OF SHIT ! I ' m done with you dude that ' s why I dumped your ass cause your a lieing 😂😡 bitch\",\n '?                                                            - -                         - -\\n',\n \"+ I AM NOT GOING AFTER YOUR EX BF YOU LIEING SACK OF SHIT ! I'm done with you dude that's why I dumped your ass cause your a lieing 😂 😡 bitch\",\n '?                                                                                                                                    +\\n',\n '  When cuffin season is finally over',\n '  Send home migrants not in need of protection , Peter Dutton tells UN , HEY DUTTON HOW ABOUT THE ONES THAT HAVE STAYED AND NOT LEFT THE COUNTRY WHEN THEY SHOULD OVERSTAYERS ? WHY DONT YOU GO AND ROUND ALL THEM UP ?',\n '- Cory Booker and Kamala Harris competing for Most Hysterical Woman at the Kavanaugh hearings , Coulter hilariously tweeted . And yes , liberals immediately got triggered on Twitter , saying her joke was offensive . To them we say , suck it up , snowflakes .',\n '?                                                                                                                          - -\\n',\n '+ Cory Booker and Kamala Harris competing for Most Hysterical Woman at the Kavanaugh hearings , Coulter hilariously tweeted.And yes , liberals immediately got triggered on Twitter , saying her joke was offensive . To them we say , suck it up , snowflakes .',\n \"- Only that in you which is me can hear what I ' m saying . ~ Baba Ram Dass\",\n '?                                             - -\\n',\n \"+ Only that in you which is me can hear what I'm saying . ~ Baba Ram Dass\",\n \"- Should have let the Libyan Manchester bomber rot in his own country . How many more mass murderers did the Royal Navy import to Britain ? How many more terrorists do the NGO ' s rescue from international waters ? #RefugeesNotWelcome\",\n '?                                                                                                                                                                              - ^^^^^^^^^\\n',\n \"+ Should have let the Libyan Manchester bomber rot in his own country . How many more mass murderers did the Royal Navy import to Britain ? How many more terrorists do the NGO's rescue from international waters ? #RefugeesNotWelcome\",\n '?                                                                                                                                                                               ^^^^^^^^\\n',\n '  More migrants take sea route to #Spain than Italy this year : UN',\n '- Essential reading for those in Scribner , Nebraska who are considering an anti - immigrant ballot measure .',\n '?                                                                               - -\\n',\n '+ Essential reading for those in Scribner , Nebraska who are considering an anti-immigrant ballot measure .',\n '  This account was temporarily inactive due to an irrational woman reporting us to Twitter . What a lack of judgement , shocking . #YesAllMen',\n '  RT @user @user I am flattered tbh . I got an orgasm just by thinking of it you really are good at this .',\n '  Making them look ~ anatomically correct ~ just makes them ... Bland . Not all women are tiny and fit , not all men are bulky .',\n '  listen ... i love lil b but i would not fuck with dej loaf at all . she prob got poison up in her nail polish like that bitch from holes',\n '  @user @user keep calling her a bitch and a whore dude real grown up .']"
     },
     "metadata": {}
    }
   ]
  },
  {
   "cell_type": "markdown",
   "source": "4. Consider using the difflib package in Python, or the diff utility in the Unix shell, to compare the output of the two tokenisers efficiently.",
   "metadata": {
    "tags": [],
    "cell_id": "00009-50d0aa6c-8241-4ab7-8317-1fbf6612264c",
    "deepnote_cell_type": "markdown"
   }
  },
  {
   "cell_type": "markdown",
   "source": "## Task 2",
   "metadata": {
    "tags": [],
    "cell_id": "00014-34b7376f-dbc6-4c11-a910-b56bc8bd17b8",
    "deepnote_cell_type": "markdown"
   }
  },
  {
   "cell_type": "markdown",
   "source": "Characterise the training sets of the two tasks you’ve chosen in terms of elementary corpus\nstatistics:",
   "metadata": {
    "tags": [],
    "cell_id": "00015-43cc2031-ca35-45a0-aabe-ea818e185d7d",
    "deepnote_cell_type": "markdown"
   }
  },
  {
   "cell_type": "markdown",
   "source": "• Corpus size, vocabulary size, type/token ratio.",
   "metadata": {
    "tags": [],
    "cell_id": "00016-c93ebcd6-e009-4dc0-a967-652a6dc8e935",
    "deepnote_cell_type": "markdown"
   }
  },
  {
   "cell_type": "code",
   "metadata": {
    "tags": [],
    "cell_id": "00017-9aebaaac-e461-4675-8ddf-418c09a35812",
    "deepnote_to_be_reexecuted": false,
    "source_hash": "b623e53d",
    "execution_start": 1620996102498,
    "execution_millis": 0,
    "deepnote_cell_type": "code"
   },
   "source": "",
   "execution_count": null,
   "outputs": []
  },
  {
   "cell_type": "markdown",
   "source": "• What are the most frequent tokens?",
   "metadata": {
    "tags": [],
    "cell_id": "00018-17d031ac-f509-4c59-8da7-6358c8aecce8",
    "deepnote_cell_type": "markdown"
   }
  },
  {
   "cell_type": "code",
   "metadata": {
    "tags": [],
    "cell_id": "00019-02cb5325-385a-420e-be55-71cad7147dff",
    "deepnote_to_be_reexecuted": false,
    "source_hash": "b623e53d",
    "execution_start": 1620996102499,
    "deepnote_cell_type": "code"
   },
   "source": "",
   "execution_count": null,
   "outputs": []
  },
  {
   "cell_type": "markdown",
   "source": "• What types of tokens occur only once, or 2 or 3 times?",
   "metadata": {
    "tags": [],
    "cell_id": "00020-83d4adc5-1aea-49fb-8510-3c58672b07c0",
    "deepnote_cell_type": "markdown"
   }
  },
  {
   "cell_type": "code",
   "metadata": {
    "tags": [],
    "cell_id": "00015-1d17128c-7c47-4958-8430-826129dd10cd",
    "deepnote_to_be_reexecuted": false,
    "source_hash": "b623e53d",
    "execution_start": 1620996102500,
    "deepnote_cell_type": "code"
   },
   "source": "",
   "execution_count": null,
   "outputs": []
  },
  {
   "cell_type": "markdown",
   "source": "• Are there any noticeable differences between your two datasets?\n",
   "metadata": {
    "tags": [],
    "cell_id": "00022-38189f35-5ce4-4964-9ae6-91533ce12c06",
    "deepnote_cell_type": "markdown"
   }
  },
  {
   "cell_type": "code",
   "metadata": {
    "tags": [],
    "cell_id": "00023-31918f0a-bcb4-44a0-aa95-9e82daabb189",
    "deepnote_to_be_reexecuted": false,
    "source_hash": "b623e53d",
    "execution_start": 1620996102545,
    "deepnote_cell_type": "code"
   },
   "source": "",
   "execution_count": null,
   "outputs": []
  },
  {
   "cell_type": "markdown",
   "source": "• Are the corpus statistics consistent with Zipf’s law? (no formal test needed, but a plot\nwould be helpful)",
   "metadata": {
    "tags": [],
    "cell_id": "00023-57967e6f-64fc-4e7b-869b-c1e850884a8f",
    "deepnote_cell_type": "markdown"
   }
  },
  {
   "cell_type": "markdown",
   "source": "## Exercise 2",
   "metadata": {
    "tags": [],
    "cell_id": "00006-fe906622-f7e5-4d56-8af6-00e3e16cf078",
    "deepnote_cell_type": "markdown"
   }
  },
  {
   "cell_type": "markdown",
   "source": "Exercise: N-gram Language Modelling <br>\n\nIn this exercise, you will get familiar with n-gram language models using the\nnltk library.<br>\n\nYou can work with the corpora from the two tasks you selected for your project.\nAdditionally, you can download a dataset of news editorials collected and\ndistributed by the organisers of the Conference on Machine Translation from\nhere:\nhttp://data.statmt.org/news-commentary/v16/training-monolingual/news-commentary-v16.en.gz <br>\n\nThis is a sizeable data set (albeit still quite small by the standards of the\nNLP community), and if you find that your computer becomes intolerably slow or\nruns into memory problems, you can just use a subset of the corpus for the\nexercises.<br>",
   "metadata": {
    "tags": [],
    "cell_id": "00007-150da941-6517-4865-998d-1a28e8f33900",
    "deepnote_cell_type": "markdown"
   }
  },
  {
   "cell_type": "markdown",
   "source": "\n1. Remove a subset of about 5000 sentences from the news commentary dataset to\nbe used for evaluation. For the TweetEval datasets, you can use the standard\ntraining/validation split. <br>\n\n",
   "metadata": {
    "tags": [],
    "cell_id": "00008-800772e4-47ee-46a7-bc2b-78f84012b681",
    "deepnote_cell_type": "markdown"
   }
  },
  {
   "cell_type": "code",
   "metadata": {
    "tags": [],
    "cell_id": "00009-d530dda5-b60d-450a-916d-0ca0df0a9ad6",
    "deepnote_to_be_reexecuted": false,
    "source_hash": "cc83cd54",
    "execution_start": 1620996102545,
    "execution_millis": 1085,
    "deepnote_cell_type": "code"
   },
   "source": "# Loading in the data\nnews_commentary = open(\"news-commentary-v16.en\", \"r\", encoding=\"utf-8\").read()",
   "execution_count": null,
   "outputs": []
  },
  {
   "cell_type": "code",
   "metadata": {
    "tags": [],
    "cell_id": "00018-cf0b8ccc-7be6-4127-a583-baea28706912",
    "deepnote_to_be_reexecuted": false,
    "source_hash": "9d9bfdb7",
    "execution_start": 1620996103641,
    "execution_millis": 48097,
    "deepnote_cell_type": "code"
   },
   "source": "news_commentary = nltk.sent_tokenize(news_commentary)\n",
   "execution_count": null,
   "outputs": []
  },
  {
   "cell_type": "code",
   "metadata": {
    "tags": [],
    "cell_id": "00019-b34e263b-7272-4d22-8d77-6add9f636f2e",
    "deepnote_to_be_reexecuted": false,
    "source_hash": "44ddf78a",
    "execution_start": 1620996151739,
    "execution_millis": 6,
    "deepnote_cell_type": "code"
   },
   "source": "len(news_commentary)",
   "execution_count": null,
   "outputs": [
    {
     "output_type": "execute_result",
     "execution_count": 10,
     "data": {
      "text/plain": "616250"
     },
     "metadata": {}
    }
   ]
  },
  {
   "cell_type": "code",
   "metadata": {
    "tags": [],
    "cell_id": "00019-948ef9af-60db-4b20-b08c-c805903a6638",
    "deepnote_to_be_reexecuted": false,
    "source_hash": "4677954b",
    "execution_start": 1620996151739,
    "execution_millis": 189,
    "deepnote_cell_type": "code"
   },
   "source": "d = {'sentences': news_commentary[5000:10000]}\ne = {'evaluation': news_commentary[:5000]}\n\npd_news5k = pd.DataFrame(d)\npd_news5k",
   "execution_count": null,
   "outputs": [
    {
     "output_type": "execute_result",
     "execution_count": 11,
     "data": {
      "application/vnd.deepnote.dataframe.v2+json": {
       "row_count": 5000,
       "column_count": 1,
       "columns": [
        {
         "name": "sentences",
         "dtype": "object",
         "stats": {
          "unique_count": 4868,
          "nan_count": 0,
          "categories": [
           {
            "name": "Following its targeted killing of Iran's second most powerful leader, the US could well find itself with no alternative but to devote more military resources to the Middle East, a path that could lead to additional Iranian provocations.",
            "count": 18
           },
           {
            "name": "And that shift would occur at a time of growing challenges to US interests elsewhere in the world.",
            "count": 18
           },
           {
            "name": "4866 others",
            "count": 4964
           }
          ]
         }
        },
        {
         "name": "_deepnote_index_column",
         "dtype": "int64"
        }
       ],
       "rows_top": [
        {
         "sentences": "They have lived through countless trials, endured innumerable twists of fate, suffered domination again and again.",
         "_deepnote_index_column": 0
        },
        {
         "sentences": "But empires have crumbled; tyrants have passed away; and their executioners have fallen into the dustbins of history.",
         "_deepnote_index_column": 1
        },
        {
         "sentences": "All the while, the Kurds have held fast, resisting the forces that wanted them to disappear.",
         "_deepnote_index_column": 2
        },
        {
         "sentences": "And today, they are approaching a milestone: a declaration of self-determination in the form of a free state in which all citizens will be able to live in liberty, their heads held high.",
         "_deepnote_index_column": 3
        },
        {
         "sentences": "The Kurdish nation was forged over centuries of pain and pride.",
         "_deepnote_index_column": 4
        },
        {
         "sentences": "It was strengthened in the course of the war against Islamist terrorism, in which the Kurds have been the civilized world’s staunchest – and sometimes solitary – spearhead.",
         "_deepnote_index_column": 5
        },
        {
         "sentences": "I know not one Peshmerga fighter who, while waging our common battle, did not have in mind the achievement of that ancestral dream of Kurdish independence.",
         "_deepnote_index_column": 6
        },
        {
         "sentences": "Mosul will be liberated; the Islamic State (ISIS) will be defeated; and, when the moment comes for the referendum that Massoud Barzani, President of Iraq’s Kurdistan Regional Government, has described as the inalienable right of the Kurds, the will of each citizen will be shared by all.",
         "_deepnote_index_column": 7
        },
        {
         "sentences": "Even the Kurds’ closest allies worry that recognition of a Kurdish state might upset the regional balance and pose a threat to peace.",
         "_deepnote_index_column": 8
        },
        {
         "sentences": "I believe that the contrary is true: the Kurds will be a pole of stability in a region increasingly susceptible to fanaticism and terror.",
         "_deepnote_index_column": 9
        },
        {
         "sentences": "To their eternal credit, the Kurds have defended against all odds the standards – respect for borders, for the rule of law, and for the fundamental human rights of all – that underpin stability, and that tyrants from Saddam Hussein to Bashar al-Assad have flouted.",
         "_deepnote_index_column": 10
        },
        {
         "sentences": "In a region where others create refugees, the Kurds provide a safe haven.",
         "_deepnote_index_column": 11
        },
        {
         "sentences": "Indeed, the Kurds have forged one of the region’s few examples of a vibrant democracy that upholds tolerance, cultural coexistence, and the rule of law.",
         "_deepnote_index_column": 12
        },
        {
         "sentences": "In what other part of the Muslim Middle East does one find such a strong belief in a geopolitical order that tends toward peace, not war; favors reconciliation over ancient hatreds; and prefers respect for the other to a war of civilizations?",
         "_deepnote_index_column": 13
        },
        {
         "sentences": "For these reasons, I believe very deeply that, in this stormy region, swept by so many ill winds, threatened by the worst of ideologies and by the violence that accompanies them, the rebirth of an independent Kurdish nation and state will mark an advance.",
         "_deepnote_index_column": 14
        },
        {
         "sentences": "It will be an advance that helps to dispel from the region the terrible genies of disintegration, chaos, and bloody convulsion.",
         "_deepnote_index_column": 15
        },
        {
         "sentences": "What kind of nation-state will the ancient Kurdish people make?",
         "_deepnote_index_column": 16
        },
        {
         "sentences": "It will be small – a nation of only several million – but that will not make it fragile or weak.",
         "_deepnote_index_column": 17
        },
        {
         "sentences": "History offers many examples of what the writer Milan Kundera has called “small nations” that are solid and strong, because their people are united in the face of their powerful neighbors.",
         "_deepnote_index_column": 18
        },
        {
         "sentences": "When it came time to defend the nation, the sword has always been close to the plow.",
         "_deepnote_index_column": 19
        },
        {
         "sentences": "They are nations of citizens united by their history and spirit, rather than ethnicity, a sense of superiority, or an arrogant identity.",
         "_deepnote_index_column": 20
        },
        {
         "sentences": "The Kurds are such a nation: a people of volunteers who know why they fight, a people who, from the humblest to the greatest, from the Peshmerga regular to the loftiest of Kurdish commanders, does not hesitate to take up arms to discourage or to dismantle despotism – and not only on their behalf.",
         "_deepnote_index_column": 21
        },
        {
         "sentences": "They have been soldiers of freedom who kept Christians from being purged from the last place in the world where the language of Christ is still spoken, while defending the principle of equality of the sexes, even in combat – a principle that is the hallmark of great civilizations.",
         "_deepnote_index_column": 22
        },
        {
         "sentences": "For all these reasons, I believe that a Kurdish nation-state will be a force for peace, not disorder, in the Middle East, a stormy region that is threatened by the worst of ideologies and by the violence that they beget.",
         "_deepnote_index_column": 23
        },
        {
         "sentences": "I believe that the Kurds will build a strong and solid state that helps to return the awful genies of violent extremism, tyranny, and disintegration to their bottles.",
         "_deepnote_index_column": 24
        },
        {
         "sentences": "Furthermore, this new Kurdish nation-state will be a safe haven and a shared home for a people that has been scattered by the cruelties of history.",
         "_deepnote_index_column": 25
        },
        {
         "sentences": "It will help to unite a people long divided not just by scheming enemies, but also by deep disagreement over what it means to be a Kurd.",
         "_deepnote_index_column": 26
        },
        {
         "sentences": "Like one of the world’s greatest nations – though one currently debased by those who purport to lead it – the Kurdish nation-state will be a “shining city on a hill,” a luminous lodestar for the lost sons and daughters of Kurdistan, and a source of hope for all of the world’s dispossessed and displaced.",
         "_deepnote_index_column": 27
        },
        {
         "sentences": "As such, the Kurds should never be afraid to proclaim their vocation – a vocation which is both universal and, if the words have any meaning at all, truly internationalist.",
         "_deepnote_index_column": 28
        },
        {
         "sentences": "The very voices of the Kurds embody this.",
         "_deepnote_index_column": 29
        },
        {
         "sentences": "One thing that has struck me in the course of my frequent visits to Kurdistan is that the Kurds are a multilingual people.",
         "_deepnote_index_column": 30
        },
        {
         "sentences": "In addition to Kurdish – their mother tongue, rich with ancient culture – they speak the languages acquired in exile.",
         "_deepnote_index_column": 31
        },
        {
         "sentences": "Like the French nation, which was enriched over the centuries by immigrants and oppressed peoples, the Kurds are diverse in origin and cosmopolitan in outlook.",
         "_deepnote_index_column": 32
        },
        {
         "sentences": "Their provision of refuge for persecuted Yezidi and Christian communities is further proof of this.",
         "_deepnote_index_column": 33
        },
        {
         "sentences": "Today’s populist wreckers across the West deny it, but “internationalism” is a beautiful idea.",
         "_deepnote_index_column": 34
        },
        {
         "sentences": "For two centuries, it has been the animating spirit of so many battles for freedom, and has inspired so much courage, resistance, sacrifice, and nobility, and so many beautiful writings.",
         "_deepnote_index_column": 35
        },
        {
         "sentences": "Despite the traps into which it has sometimes fallen and become entangled, internationalism has nourished the best of what “the West” has represented.",
         "_deepnote_index_column": 36
        },
        {
         "sentences": "One of Kurdistan’s merits is to have kept alive the flame of internationalism in a benighted region.",
         "_deepnote_index_column": 37
        },
        {
         "sentences": "Reflect for a moment on the Kurds’ battle against ISIS, which they have waged not only for themselves and their safety, but also on behalf of the rest of the world.",
         "_deepnote_index_column": 38
        },
        {
         "sentences": "The Kurds have acted as internationalists, while also being internationalists in heart and soul.",
         "_deepnote_index_column": 39
        },
        {
         "sentences": "So the Kurds will soon – very soon, I hope – be free, with their own independent nation-state.",
         "_deepnote_index_column": 40
        },
        {
         "sentences": "But, after that, they will be surrounded by powerful neighbors that will, one expects, be hostile toward them – not least because of the precedent Kurdish independence sets.",
         "_deepnote_index_column": 41
        },
        {
         "sentences": "Free Kurdistan will be a living reproach to the many false nations, anti-nations, and prison nations across the Middle East, in which Kurds, among others, remain confined.",
         "_deepnote_index_column": 42
        },
        {
         "sentences": "Confronted with the new tests and challenges that are bound to stem from that reproach – challenges that independence alone will not suffice to surmount – the Kurdish people must recognize that they are likely to find themselves as alone as they have ever been in their long history.",
         "_deepnote_index_column": 43
        },
        {
         "sentences": "Charles de Gaulle once said that a people has no friends, and, alas, the Kurds will find out soon enough that today’s friends will not always be their friends.",
         "_deepnote_index_column": 44
        },
        {
         "sentences": "It may happen that they prefer their supposed world order to friendship, justice, and the cause of true stability and peace.",
         "_deepnote_index_column": 45
        },
        {
         "sentences": "The Kurds are preparing for this.",
         "_deepnote_index_column": 46
        },
        {
         "sentences": "And, fortunately, there are also millions of men and women abroad, in France and throughout the world, who believed in Kurdistan when governments wanted nothing to do with it.",
         "_deepnote_index_column": 47
        },
        {
         "sentences": "That sort of friendship – the support offered by so many of the world’s citizens – is much more constant.",
         "_deepnote_index_column": 48
        },
        {
         "sentences": "Friends like that will never fail.",
         "_deepnote_index_column": 49
        },
        {
         "sentences": "A Death of One’s Own\nPRINCETON – Dudley Clendinen, a writer and journalist, has amyotrophic lateral sclerosis (ALS), a terminal degenerative illness.",
         "_deepnote_index_column": 50
        },
        {
         "sentences": "In The New York Times earlier this year, he wrote movingly both of his current enjoyment of his life, and of his plan to end it when, as he put it, “the music stops – when I can’t tie my bow tie, tell a funny story, walk my dog, talk with Whitney, kiss someone special, or tap out lines like this.”\nA friend told Clendinen that he needed to buy a gun.",
         "_deepnote_index_column": 51
        },
        {
         "sentences": "In the United States, you can buy a gun and put a bullet through your brain without breaking any laws.",
         "_deepnote_index_column": 52
        },
        {
         "sentences": "But if you are a law-abiding person who is already too ill to buy a gun, or to use one, or if shooting yourself doesn’t strike you as a peaceful and dignified way to end your life, or if you just don’t want to leave a mess for others to clean up, what are you to do?",
         "_deepnote_index_column": 53
        },
        {
         "sentences": "You can’t ask someone else to shoot you, and, in most countries, if you tell your doctor that you have had enough, and that you would like his or her assistance in dying, you are asking your doctor to commit a crime.",
         "_deepnote_index_column": 54
        },
        {
         "sentences": "Last month, an expert panel of the Royal Society of Canada, chaired by Udo Schüklenk, a professor of bioethics at Queens University, released a report on decision-making at the end of life.",
         "_deepnote_index_column": 55
        },
        {
         "sentences": "The report provides a strong argument for allowing doctors to help their patients to die, provided that the patients are competent and freely request such assistance.",
         "_deepnote_index_column": 56
        },
        {
         "sentences": "The ethical basis of the panel’s argument is not so much the avoidance of unnecessary suffering in terminally ill patients, but rather the core value of individual autonomy or self-determination.",
         "_deepnote_index_column": 57
        },
        {
         "sentences": "“The manner of our dying,” the panel concludes, “reflects our sense of what is important just as much as do the other central decisions in our lives.”\nIn a state that protects individual rights, therefore, deciding how to die ought to be recognized as such a right.",
         "_deepnote_index_column": 58
        },
        {
         "sentences": "The report also offers an up-to-date review of how assistance by physicians in ending life is working in the “living laboratories” – the jurisdictions where it is legal.",
         "_deepnote_index_column": 59
        },
        {
         "sentences": "In Switzerland, as well as in the US states of Oregon, Washington, and Montana, the law now permits physicians, on request, to supply a terminally ill patient with a prescription for a drug that will bring about a peaceful death.",
         "_deepnote_index_column": 60
        },
        {
         "sentences": "In The Netherlands, Belgium, and Luxembourg, doctors have the additional option of responding to the patient’s request by giving the patient a lethal injection.",
         "_deepnote_index_column": 61
        },
        {
         "sentences": "The panel examined reports from each of these jurisdictions, with the exception of Montana (where legalization of assistance in dying occurred only in 2009, and reliable data are not yet available).",
         "_deepnote_index_column": 62
        },
        {
         "sentences": "In The Netherlands, voluntary euthanasia accounted for 1.7% of all deaths in 2005 – exactly the same level as in 1990.",
         "_deepnote_index_column": 63
        },
        {
         "sentences": "Moreover, the frequency of ending a patient’s life without an explicit request from the patient fell by half during the same period, from 0.8% to 0.4%.",
         "_deepnote_index_column": 64
        },
        {
         "sentences": "Indeed, several surveys suggest that ending a patient’s life without an explicit request is much more common in other countries, where patients cannot lawfully ask a doctor to end their lives.",
         "_deepnote_index_column": 65
        },
        {
         "sentences": "In Belgium, although voluntary euthanasia rose from 1.1% of all deaths in 1998 to 1.9% in 2007, the frequency of ending a patient’s life without an explicit request fell from 3.2% to 1.8%.",
         "_deepnote_index_column": 66
        },
        {
         "sentences": "In Oregon, where the Death with Dignity Act has been in effect for 13 years, the annual number of physician-assisted deaths has yet to reach 100 per year, and the annual total in Washington is even lower.",
         "_deepnote_index_column": 67
        },
        {
         "sentences": "The Canadian panel therefore concluded that there is strong evidence to rebut one of the greatest fears that opponents of voluntary euthanasia or physician-assisted dying often voice – that it is the first step down a slippery slope towards more widespread medical killing.",
         "_deepnote_index_column": 68
        },
        {
         "sentences": "The panel also found inadequate several other objections to legalization, and recommended that the law in Canada be changed to permit both physician-assisted suicide and voluntary euthanasia.",
         "_deepnote_index_column": 69
        },
        {
         "sentences": "Surveys show that more than two-thirds of Canadians support legalization of voluntary euthanasia – a level that has held steady for several decades.",
         "_deepnote_index_column": 70
        },
        {
         "sentences": "So it is not surprising that the report received strong backing in the mainstream Canadian media.",
         "_deepnote_index_column": 71
        },
        {
         "sentences": "What is more puzzling is the cool response from the country’s political parties, none of which indicated a willingness to support law reform in this area.",
         "_deepnote_index_column": 72
        },
        {
         "sentences": "There is a similar contrast between public opinion and political (in)action elsewhere, including the United Kingdom, Australia, New Zealand, and several continental European countries.",
         "_deepnote_index_column": 73
        },
        {
         "sentences": "Why, when it comes to dying, do democratic institutions so often fail to translate what people want into legislation?",
         "_deepnote_index_column": 74
        },
        {
         "sentences": "I suspect that, above all, mainstream politicians fear religious institutions that oppose voluntary euthanasia, even though individual believers often do not follow their religious leaders’ views.",
         "_deepnote_index_column": 75
        },
        {
         "sentences": "Polls in various countries have shown that a majority of Roman Catholics, for example, support legalization of voluntary euthanasia.",
         "_deepnote_index_column": 76
        },
        {
         "sentences": "Even in strongly Catholic Poland, more people now support legalization than oppose it.",
         "_deepnote_index_column": 77
        },
        {
         "sentences": "In any case, the religious beliefs of a minority should not deny individuals like Dudley Clendinen the right to end their lives in the manner of their own choosing.",
         "_deepnote_index_column": 78
        },
        {
         "sentences": "The Development Costs of Homophobia\nLONDON – As a gay man living in Nigeria, my biggest challenge was choosing between my sexuality and my job.",
         "_deepnote_index_column": 79
        },
        {
         "sentences": "In 2004, I was at the start of my acting career.",
         "_deepnote_index_column": 80
        },
        {
         "sentences": "I had just left university, and I was featured in “Roses and Thorns,” a prime-time soap opera on Galaxy Television, one of Nigeria’s most popular TV stations.",
         "_deepnote_index_column": 81
        },
        {
         "sentences": "I was playing the role of “Richard,” the only son of a rich family who was having an affair with the house maid.",
         "_deepnote_index_column": 82
        },
        {
         "sentences": "Whispers were making the rounds about my private life, and I decided it was time to come out.",
         "_deepnote_index_column": 83
        },
        {
         "sentences": "So I agreed to go on Nigeria’s most-watched television talk show to discuss my sexuality.",
         "_deepnote_index_column": 84
        },
        {
         "sentences": "Almost immediately, my character was eliminated.",
         "_deepnote_index_column": 85
        },
        {
         "sentences": "And when my job disappeared, so did my financial security.",
         "_deepnote_index_column": 86
        },
        {
         "sentences": "Like many gay men and lesbians in Africa, my choice was between economic freedom and mental imprisonment.",
         "_deepnote_index_column": 87
        },
        {
         "sentences": "This year, Nigeria and Uganda put in place draconian anti-gay laws, sparking a worldwide debate about human rights.",
         "_deepnote_index_column": 88
        },
        {
         "sentences": "This debate has also started at the World Bank, whose president, Jim Yong Kim, recently declared that “institutionalized discrimination is bad for people and for societies.”\nKim’s statement has invited criticism and controversy.",
         "_deepnote_index_column": 89
        },
        {
         "sentences": "Often, as in Uganda and Nigeria, we hear the claim that opposition to official discrimination against gay, lesbian, bisexual, and transgender (LGBT) people is simply a way to impose “Western” values on Africa.",
         "_deepnote_index_column": 90
        },
        {
         "sentences": "But this assumes that homosexuality is “un-African.”\nAnd, despite the absence of evidence that any given country or continent does not have LGBT people (and ample evidence to the contrary), it is an assumption that an increasing number of African leaders have embraced.",
         "_deepnote_index_column": 91
        },
        {
         "sentences": "In 2006, President Olusegun Obasanjo, then Nigeria’s president, was among the first to do so.",
         "_deepnote_index_column": 92
        },
        {
         "sentences": "Uganda’s President Yoweri Museveni followed suit when signing the anti-gay bill into law in 2014.",
         "_deepnote_index_column": 93
        },
        {
         "sentences": "Other leaders, from Gambia’s President Yahya Jammeh to Zimbabwe’s Robert Mugabe, have spoken in the same vein.",
         "_deepnote_index_column": 94
        },
        {
         "sentences": "These official attitudes have caused significant suffering for Africa’s gays and lesbians.",
         "_deepnote_index_column": 95
        },
        {
         "sentences": "Indeed, the price of homophobia for gay people in many African countries is painfully clear: legal penalties, social ostracism, and mob justice.",
         "_deepnote_index_column": 96
        },
        {
         "sentences": "But here is what Africa’s anti-gay leaders miss: legal protections are not only a human-rights issue, but also an economic issue.",
         "_deepnote_index_column": 97
        },
        {
         "sentences": "Kim is exactly right, and research has started measuring the economic costs of homophobia by exploring links between anti-gay sentiment and poverty in countries where laws and social attitudes proscribe same-sex relationships.",
         "_deepnote_index_column": 98
        },
        {
         "sentences": "M.V.",
         "_deepnote_index_column": 99
        },
        {
         "sentences": "Lee Badgett, an economist at the University of Massachusetts-Amherst, presented the initial findings of a study of the economic implications of homophobia in India at a World Bank meeting in March 2014.",
         "_deepnote_index_column": 100
        },
        {
         "sentences": "Badgett estimated that the Indian economy may have lost up to $23.1 billion in 2012 in direct health costs alone, owing to depression, suicide, and HIV treatment disparities caused by anti-gay stigma and discrimination.",
         "_deepnote_index_column": 101
        },
        {
         "sentences": "In addition to such concrete costs, being gay can bring violence, job loss, family rejection, harassment in schools, and pressure to marry.",
         "_deepnote_index_column": 102
        },
        {
         "sentences": "As a result, many gay people have less education, lower productivity, lower earnings, poorer health, and a shorter life expectancy.",
         "_deepnote_index_column": 103
        },
        {
         "sentences": "In Nigeria, I started the Independent Project for Equal Rights (TIERs) in 2005 to respond to the increasing number of people who were losing their jobs because of suspicions about their sexuality.",
         "_deepnote_index_column": 104
        },
        {
         "sentences": "During our first year, we provided support for dozens of people.",
         "_deepnote_index_column": 105
        },
        {
         "sentences": "One young man, “Olumide,” was given temporary housing after his family kicked him out for being gay.",
         "_deepnote_index_column": 106
        },
        {
         "sentences": "Another, “Uche,” was fired from his job as a chef after his sexuality was revealed.",
         "_deepnote_index_column": 107
        },
        {
         "sentences": "TIERs helped him with accommodation and capital to set up a catering business.",
         "_deepnote_index_column": 108
        },
        {
         "sentences": "Though almost 10 years have passed, it is still not safe to use their real names.",
         "_deepnote_index_column": 109
        },
        {
         "sentences": "Across Africa, the economic costs of discrimination are increasing, in line with growing pressure on employers, landlords, health-care providers, educational institutions, and others to exclude LGBT people.",
         "_deepnote_index_column": 110
        },
        {
         "sentences": "Today, the World Bank and other development agencies are mapping out the global development priorities that will follow the Millennium Development Goals (MDGs), which officially end in 2015 and included specific targets for promoting gender equality and empowering women as a strategy for economic growth.",
         "_deepnote_index_column": 111
        },
        {
         "sentences": "Looking ahead, the Bank should take the same approach to LGBT rights and make legal protections for sexual orientation and gender identity a condition for countries receiving loans.",
         "_deepnote_index_column": 112
        },
        {
         "sentences": "Building recognition of women’s rights into the MDGs did not corrupt African cultures by imposing “Western” values; in fact, it strengthened many African countries, which now lead the world in the representation of women in government.",
         "_deepnote_index_column": 113
        },
        {
         "sentences": "By pursuing similar protections for LGBT people, international investment and aid can improve economic performance and strengthen respect for basic human rights.",
         "_deepnote_index_column": 114
        },
        {
         "sentences": "The World Bank, always wary of entangling itself in “political” questions, emphasizes that it is not a global human-rights enforcer.",
         "_deepnote_index_column": 115
        },
        {
         "sentences": "But it also increasingly recognizes its own role as a facilitator in helping Bank members realize their human-rights obligations.",
         "_deepnote_index_column": 116
        },
        {
         "sentences": "LGBT rights should be a test case.",
         "_deepnote_index_column": 117
        },
        {
         "sentences": "Aid to governments that permit specific social groups to be ostracized can carry very real economic costs.",
         "_deepnote_index_column": 118
        },
        {
         "sentences": "As new loans are considered, steps should be taken to ensure that the benefits are as inclusive as possible.",
         "_deepnote_index_column": 119
        },
        {
         "sentences": "If the Bank – which currently lends Nigeria almost $5.5 billion and expects to commit an additional $2 billion in each of the next four years – moved in this direction, other funders might follow.",
         "_deepnote_index_column": 120
        },
        {
         "sentences": "Africa’s LGBT people desperately need such powerful allies in their struggle for human and economic rights.",
         "_deepnote_index_column": 121
        },
        {
         "sentences": "A Decade of Hugo Chávez\nSAN JOSE – We should have known that something was amiss when, during President Hugo Chávez’s inauguration on February 2, 1999, he swore on Venezuela’s 40-year-old Constitution by declaring it “moribund.”\nUnder “the moribund,” as the Constitution came to be known, Venezuela not only had eight peaceful presidential transitions, but also enjoyed the fruits of democratic pluralism and strong civil and political liberties.",
         "_deepnote_index_column": 122
        },
        {
         "sentences": "Of course, during this period Venezuela produced as much corruption and political irresponsibility as it did barrels of oil.",
         "_deepnote_index_column": 123
        },
        {
         "sentences": "Nonetheless, Venezuela fared far better than the average Latin American country.",
         "_deepnote_index_column": 124
        },
        {
         "sentences": "It wasn’t Switzerland, but, by anyone’s measure, it was a genuine democracy.",
         "_deepnote_index_column": 125
        },
        {
         "sentences": "Not anymore.",
         "_deepnote_index_column": 126
        },
        {
         "sentences": "Elections are still held, but the legacy of Chávez’s decade in power consists, first and foremost, in the demolition of democratic institutions.",
         "_deepnote_index_column": 127
        },
        {
         "sentences": "Elected in a landslide to clean up the political vices of the previous establishment, Chávez chose to throw the baby out with the bathwater.",
         "_deepnote_index_column": 128
        },
        {
         "sentences": "The previous regime, including its system of checks and balances and its tradition of political tolerance, did disappear, but its vices – particularly graft and demagoguery – became worse than ever.",
         "_deepnote_index_column": 129
        },
        {
         "sentences": "Pretty much like 10 years ago, Venezuela, once a destination for immigrants from around the world, remains under-developed.",
         "_deepnote_index_column": 130
        },
        {
         "sentences": "More fundamentally, Chávez represents ideas that have long stifled Latin America’s political and economic growth.",
         "_deepnote_index_column": 131
        },
        {
         "sentences": "This includes the notion that social justice can be achieved only by abandoning the path of reform and rejecting “bourgeois” democratic forms in favor of “real” democracy, born of revolutionary purity and the leader’s millenarian dreams.",
         "_deepnote_index_column": 132
        },
        {
         "sentences": "That’s simply false.",
         "_deepnote_index_column": 133
        },
        {
         "sentences": "Though the Chávez revolution has made progress against poverty and inequality, it is hardly sustainable and reeks of patronage.",
         "_deepnote_index_column": 134
        },
        {
         "sentences": "In fact, one can find similar achievements in Chile and Brazil, which have not given up on democratic checks and balances, political pluralism, or freedom of the press, and have not enjoyed the luxury of $300 billion in oil revenue in the space of one decade.",
         "_deepnote_index_column": 135
        },
        {
         "sentences": "Moreover, it ought not to be forgotten that between 1950 and 1980, Venezuela itself reduced extreme poverty from 43% to 8% of the population, one of the lowest figures in Latin America.",
         "_deepnote_index_column": 136
        },
        {
         "sentences": "It did so with democracy and freedom.",
         "_deepnote_index_column": 137
        },
        {
         "sentences": "Chávez also repeats, ad nauseam, the idea that others are to blame for Latin America’s ills.",
         "_deepnote_index_column": 138
        },
        {
         "sentences": "This is the pernicious victimization narrative – still very popular in universities across Latin America – the late Venezuelan journalist Carlos Rangel eloquently refuted in books such as The Third World Ideology.",
         "_deepnote_index_column": 139
        },
        {
         "sentences": "It is obvious that Yankee imperialism cannot be blamed for Venezuela’s emaciated tax system, dismally bad schools, rampant corruption, high crime rate, and feeble political institutions.",
         "_deepnote_index_column": 140
        },
        {
         "sentences": "In all of these areas, Venezuela is faring poorly even by Latin America’s low standards.",
         "_deepnote_index_column": 141
        },
        {
         "sentences": "This is particularly true in the case of institutional weakness.",
         "_deepnote_index_column": 142
        },
        {
         "sentences": "When Chávez declares “moribund” a legitimate constitution, or when he proclaims l’état c’est moi by declaring a national holiday to commemorate his 10 years in power, we see eloquent examples of a homemade institutional farce that would doom any country to the ninth circle of misery.",
         "_deepnote_index_column": 143
        },
        {
         "sentences": "None of these ideas would fly, of course, in a contented nation.",
         "_deepnote_index_column": 144
        },
        {
         "sentences": "In this sense, Venezuela’s experience speaks to all of Latin America.",
         "_deepnote_index_column": 145
        },
        {
         "sentences": "The combination of economic growth (now in reverse because of the global crisis) and atrocious levels of inequality and social segmentation will continue to breed the same unmet expectations and social resentment that cleared Chávez’s path to power.",
         "_deepnote_index_column": 146
        },
        {
         "sentences": "As long as Latin America’s democracies fail to take seriously the tasks of reducing inequality, spreading opportunity, and nurturing more cohesive societies, they will continue to court disaster.",
         "_deepnote_index_column": 147
        },
        {
         "sentences": "To avoid this outcome, it is vital to purge certain reactionary and numbing beliefs, including the idea that reducing poverty obviates the need to address inequality, or that development is possible without introducing modern and progressive tax systems.",
         "_deepnote_index_column": 148
        },
        {
         "sentences": "If the tenth anniversary of Chávez’s tenure can serve as a reminder of the perils that beset unjust democracies – especially now that a new electoral cycle in Latin America looms – then Venezuela’s agonizing recent history would, at least, be redeemed.",
         "_deepnote_index_column": 149
        },
        {
         "sentences": "A Declaration of America's Interdependence\nPRAGUE: Many Americans seem overwhelmed by the feeling that, because the Soviet Empire collapsed, the dangers of war can be crossed off the list of potential risks.",
         "_deepnote_index_column": 150
        },
        {
         "sentences": "America, they say, should pay attention to its own problems, and should not get involved in a world where its attempts to do good are rewarded with ingratitude.",
         "_deepnote_index_column": 151
        },
        {
         "sentences": "Isolationism has a long tradition in America; it returns in fits and differing forms.",
         "_deepnote_index_column": 152
        },
        {
         "sentences": "Never in modern times, however, has isolationism protected America from danger; instead it delays engagement when conflagrations are ablaze.",
         "_deepnote_index_column": 153
        },
        {
         "sentences": "Eventually, America pays a thousand times more for its initial lack of interest than it would have paid had it become engaged at the outset of crisis or, better yet, even before.",
         "_deepnote_index_column": 154
        },
        {
         "sentences": "Americans pay for short-sightedness not only in larger expenditures, but with lives wasted unnecessarily.",
         "_deepnote_index_column": 155
        },
        {
         "sentences": "So isolationism is shortsighted and never pays off.",
         "_deepnote_index_column": 156
        },
        {
         "sentences": "This is all the more true when defense of the values that America stands for is more difficult now than before.",
         "_deepnote_index_column": 157
        },
        {
         "sentences": "Previously, the enemy was solitary, armed to the teeth, and quite predictable.",
         "_deepnote_index_column": 158
        },
        {
         "sentences": "The threats looming over today's world, however, are to the threat of communism as metastasis is to an isolated tumor.",
         "_deepnote_index_column": 159
        },
        {
         "sentences": "For the world is awash in dangers that are diverse, decentralized (yet intertwined), and difficult to predict .",
         "_deepnote_index_column": 160
        },
        {
         "sentences": "I believe that across the globe, America is a symbolic concentration of all the good and bad within our civilization -- from the fantastic development of science and technology, to civil liberty and strong democratic institutions, to the cult of perpetual economic growth and never-ending consumption, to the dictates of materialism and the voiding of human uniqueness by the uniformity of the round-the-clock noise of TV banality.",
         "_deepnote_index_column": 161
        },
        {
         "sentences": "For these reasons, the ways in which America assumes its global responsibilities must embody those premises that alone may save civilization as a whole: this way should be imbued with a new spirituality, a new ethos and new ethics; exactly with the things that should be adopted by all cultures, all spheres of civilization and all nations of today's world as a condition of their survival.",
         "_deepnote_index_column": 162
        },
        {
         "sentences": "What does this mean in concrete terms?",
         "_deepnote_index_column": 163
        },
        {
         "sentences": "For one thing, a respect for and understanding of the positive values inherent in other cultures.",
         "_deepnote_index_column": 164
        },
        {
         "sentences": "It also requires the courage to step out of the world of pragmatic power and defend -- non-violently -- truth and justice wherever they are violated, whether or not profitable commercial contracts are placed at risk.",
         "_deepnote_index_column": 165
        },
        {
         "sentences": "As for security matters, I believe that in cases that are beyond any doubt, America, while enjoying the general support of freedom-loving people and peaceful democracies, must have the strength to intervene with force -- that is by military means -- against evil.",
         "_deepnote_index_column": 166
        },
        {
         "sentences": "The United States cannot and must not give up this obligation, which is a very specific and extreme manifestation of its responsibility for the world.",
         "_deepnote_index_column": 167
        },
        {
         "sentences": "In the course of the Cold War America understood this, though historians argue about the situations in which it tested its competence, or the means it employed.",
         "_deepnote_index_column": 168
        },
        {
         "sentences": "It seems to me that after all the good and bad experiences America has had in the 20th century, it should understand that the most effective, most ethical, and in the end, the least expensive way of dealing with these challenges is to invest all its intellectual potential and a significant share of its material strength into what I call \"security prevention\".",
         "_deepnote_index_column": 169
        },
        {
         "sentences": "Of course: to predict and avert conflicts is more difficult than to engage and win them.",
         "_deepnote_index_column": 170
        },
        {
         "sentences": "Enlarging the North Atlantic Alliance is part of America's reckoning with its destiny.",
         "_deepnote_index_column": 171
        },
        {
         "sentences": "Some Americans now maintain that NATO enlargement makes no sense.",
         "_deepnote_index_column": 172
        },
        {
         "sentences": "Why take in countries that were part of the Communist Empire, and therefore somewhat suspect, they say, when the West faces no serious threats?",
         "_deepnote_index_column": 173
        },
        {
         "sentences": "Furthermore, NATO enlargement might allegedly be resented by a certain large Euro-Asian state and would cost taxpayers money.",
         "_deepnote_index_column": 174
        },
        {
         "sentences": "Such thoughts -- after all we have endured in the 20th century, when more than 200 million people died in wars and oncentration camps -- are naive, short-sighted, even dangerous.",
         "_deepnote_index_column": 175
        },
        {
         "sentences": "Europe is a strange continent.",
         "_deepnote_index_column": 176
        },
        {
         "sentences": "Today's civilization was born within it but so were two World Wars.",
         "_deepnote_index_column": 177
        },
        {
         "sentences": "For the first time in its history, Europe has a chance to establish its internal order on the principle of cooperation and equality of the large and the small, the strong and the weak, on shared democratic values.",
         "_deepnote_index_column": 178
        },
        {
         "sentences": "This is also a chance, once and for all, to put an end to the export of wars and coercion, and to become an example of peaceful collaboration.",
         "_deepnote_index_column": 179
        },
        {
         "sentences": "Should Europe miss this chance, we might head for a new global catastrophe, even graver than previous ones.",
         "_deepnote_index_column": 180
        },
        {
         "sentences": "For reasons I have described, this time the forces of freedom would not be facing one totalitarian enemy.",
         "_deepnote_index_column": 181
        },
        {
         "sentences": "Here would be a strange war of all against all, war with no clear-cut fronts; war difficult to distinguish from terrorism, genocide, and organized crime; war into which the whole world would be dragged by a myriad of indirect and hidden means.",
         "_deepnote_index_column": 182
        },
        {
         "sentences": "I don't mean to frighten, but anybody with a little imagination and some knowledge of what has recently been going on -- for example, in Bosnia- Herzegovina -- must understand that this is not empty talk.",
         "_deepnote_index_column": 183
        },
        {
         "sentences": "If the ongoing process of European integration were to stop at the gates of today's NATO, the consequences of such a rupture, regardless of the form it assumes, and regardless of whether they befall us in three years or fifteen, could cost much more than the two World Wars Europe \"donated\" in this century combined.",
         "_deepnote_index_column": 184
        },
        {
         "sentences": "After prolonged hesitation, the West took a step to avoid this threat in Madrid not long ago when it invited three former communist countries to join NATO.",
         "_deepnote_index_column": 185
        },
        {
         "sentences": "But this was the beginning, not the end.",
         "_deepnote_index_column": 186
        },
        {
         "sentences": "Any judicious person must admit that the cost is worthwhile, for the costliest preventive security is cheaper than the cheapest war.",
         "_deepnote_index_column": 187
        },
        {
         "sentences": "A Declaration of Independence from the US\nGeorge W. Bush is obsessed with the war on terrorism, especially with the military response to terrorism.",
         "_deepnote_index_column": 188
        },
        {
         "sentences": "American foreign policy reflects that obsession.",
         "_deepnote_index_column": 189
        },
        {
         "sentences": "This year, the US will spend around $450 billion for the military, including the costs of the Iraq War, while it will spend no more than $15 billion to overcome global poverty, global environmental degradation, and global diseases.",
         "_deepnote_index_column": 190
        },
        {
         "sentences": "In other words, US foreign policy spending is thirty times more focused on the military than on building global prosperity, global public health, and a sustainable environment.",
         "_deepnote_index_column": 191
        },
        {
         "sentences": "Throughout 2003, the world lived with Bush's obsession.",
         "_deepnote_index_column": 192
        },
        {
         "sentences": "Debate over Iraq dominated international diplomacy, and took up almost the entire UN agenda.",
         "_deepnote_index_column": 193
        },
        {
         "sentences": "The war in Iraq cost countless innocent lives, such as when the UN headquarters in Baghdad was bombed.",
         "_deepnote_index_column": 194
        },
        {
         "sentences": "At the same time, Bush's emphasis on a one-dimensional, militarized approach to global problems has fueled unrest and instability throughout the Islamic world, leading to increased terrorism in Turkey, North Africa, Saudi Arabia, and Southeast Asia.",
         "_deepnote_index_column": 195
        },
        {
         "sentences": "The nature of suffering around the world hardly justifies this narrow strategy.",
         "_deepnote_index_column": 196
        },
        {
         "sentences": "Focusing on terrorism to the exclusion of other issues, and emphasizing the military response to it, will not bring prosperity and peace, or even a significant reduction in the number of attacks.",
         "_deepnote_index_column": 197
        },
        {
         "sentences": "While 3,000 innocent people died in the US on September 11, 2001, in Africa 8,000 innocent children die every day from malaria.",
         "_deepnote_index_column": 198
        },
        {
         "sentences": "Yet malaria is preventable and treatable.",
         "_deepnote_index_column": 199
        },
        {
         "sentences": "The problem is that most of Africa is too poor to mobilize the methods of prevention (bed nets) and treatments (anti-malarial medicines) that could save millions of children every year.",
         "_deepnote_index_column": 200
        },
        {
         "sentences": "The US spends more on Iraq each day than it does on Africa's malaria in a year.",
         "_deepnote_index_column": 201
        },
        {
         "sentences": "As 2003 draws to a close, it is time for world leaders to help guide the world away from the obsessive, failing approach of America's government.",
         "_deepnote_index_column": 202
        },
        {
         "sentences": "President Bush should be made to understand that the US will find no true international support if America speaks incessantly about terrorism while doing almost nothing about the problems that really affect most of the world: poverty, lack of access to safe water and sanitation, vulnerability to disease, and climate change.",
         "_deepnote_index_column": 203
        },
        {
         "sentences": "Ironically, President Bush claims that the UN does not follow through on its word.",
         "_deepnote_index_column": 204
        },
        {
         "sentences": "He declared in London recently that \"the credibility of the UN depends on a willingness to keep its word and to act when action is required.\"",
         "_deepnote_index_column": 205
        },
        {
         "sentences": "Yet the US repeatedly violates its own UN pledges.",
         "_deepnote_index_column": 206
        },
        {
         "sentences": "For example, at the International Conference on Financing for Development, in Monterrey, Mexico in March 2002, America signed the Monterrey Consensus, which includes a promise by rich countries to raise their development assistance towards 0.7% of national income.",
         "_deepnote_index_column": 207
        },
        {
         "sentences": "That would bring an additional $60 billion per year in foreign assistance from the US--approximately what it spent on Iraq this year.",
         "_deepnote_index_column": 208
        },
        {
         "sentences": "Yet President Bush has simply ignored this promise.",
         "_deepnote_index_column": 209
        },
        {
         "sentences": "There are many other similar commitments that the US has made in recent years to the UN that remain utterly unfulfilled.",
         "_deepnote_index_column": 210
        },
        {
         "sentences": "The US promised action to fight man-made climate change as a signatory to the UN Framework Convention on Climate Change (UNFCC) in 1992.",
         "_deepnote_index_column": 211
        },
        {
         "sentences": "It has so far failed to act.",
         "_deepnote_index_column": 212
        },
        {
         "sentences": "America also promised--in the Doha Declaration in 2001--to open its markets to the world's poorest countries.",
         "_deepnote_index_column": 213
        },
        {
         "sentences": "Yet at Cancun, Mexico earlier this summer, it refused to open its markets even to exports from struggling African economies.",
         "_deepnote_index_column": 214
        },
        {
         "sentences": "The list goes on and on.",
         "_deepnote_index_column": 215
        },
        {
         "sentences": "At the Millennium Assembly in 2000, the US promised to pursue reduction of global poverty, yet it has taken few steps in that direction.",
         "_deepnote_index_column": 216
        },
        {
         "sentences": "At the World Summit on Sustainable Development in Johannesburg in 2002, America committed itself to protect global ecosystems, yet little has been seen or heard from US policy makers on this issue since then.",
         "_deepnote_index_column": 217
        },
        {
         "sentences": "America is certainly not alone in failing to promote the international goals adopted in the UN.",
         "_deepnote_index_column": 218
        },
        {
         "sentences": "But because the US is the richest, most powerful country in the world, its neglect is devastating.",
         "_deepnote_index_column": 219
        },
        {
         "sentences": "If the US really wants to undercut terrorism, it must recognize the interconnectedness of extremism, poverty, and environmental degradation, and it will need to understand the struggles for survival that are underway among the poor everywhere.",
         "_deepnote_index_column": 220
        },
        {
         "sentences": "But the world should not wait for the America to come to its senses.",
         "_deepnote_index_column": 221
        },
        {
         "sentences": "The US represents just 5% of the world's population, and just one vote of 191 countries in the UN General Assembly.",
         "_deepnote_index_column": 222
        },
        {
         "sentences": "Poor countries, especially the democracies of the developing world--Brazil, South Africa, India, Mexico, Ghana, the Philippines--should say, \"We need to act on the issues that concern us, not just on the issues that concern the US.\"",
         "_deepnote_index_column": 223
        },
        {
         "sentences": "What the world needs most in 2004 is a declaration of independence from American willfulness.",
         "_deepnote_index_column": 224
        },
        {
         "sentences": "A De-Globalized World?",
         "_deepnote_index_column": 225
        },
        {
         "sentences": "Cambridge – It may take a few months or a couple of years, but one way or another the United States and other advanced economies will eventually recover from today’s crisis.",
         "_deepnote_index_column": 226
        },
        {
         "sentences": "The world economy, however, is unlikely to look the same.",
         "_deepnote_index_column": 227
        },
        {
         "sentences": "Even with the worst of the crisis over, we are likely to find ourselves in a somewhat de-globalized world, one in which international trade grows at a slower pace, there is less external finance, and rich countries’ appetite for running large current-account deficits is significantly diminished.",
         "_deepnote_index_column": 228
        },
        {
         "sentences": "Will this spell doom for developing countries?",
         "_deepnote_index_column": 229
        },
        {
         "sentences": "Not necesarily.",
         "_deepnote_index_column": 230
        },
        {
         "sentences": "Growth in the developing world tends to come in three distinct variants.",
         "_deepnote_index_column": 231
        },
        {
         "sentences": "First comes growth driven by foreign borrowing.",
         "_deepnote_index_column": 232
        },
        {
         "sentences": "Second is growth as a by-product of commodity booms.",
         "_deepnote_index_column": 233
        },
        {
         "sentences": "Third is growth led by economic restructuring and diversification into new products.",
         "_deepnote_index_column": 234
        },
        {
         "sentences": "The first two models are at greater risk than the third.",
         "_deepnote_index_column": 235
        },
        {
         "sentences": "But we should not lose sleep over them, because they are flawed and ultimately unsustainable.",
         "_deepnote_index_column": 236
        },
        {
         "sentences": "What should be of greater concern is the potential plight of countries in the last group.",
         "_deepnote_index_column": 237
        },
        {
         "sentences": "These countries will need to undertake major changes in their policies to adjust to today’s new realities.",
         "_deepnote_index_column": 238
        },
        {
         "sentences": "The first two growth models invariably come to a bad end.",
         "_deepnote_index_column": 239
        },
        {
         "sentences": "Foreign borrowing can enable consumers and governments to live beyond their means for a while, but reliance on foreign capital is an unwise strategy.",
         "_deepnote_index_column": 240
        },
        {
         "sentences": "The problem is not only that foreign capital flows can easily reverse direction, but also that they produce the wrong kind of growth, based on overvalued currencies and investments in non-traded goods and services, such as housing and construction.",
         "_deepnote_index_column": 241
        },
        {
         "sentences": "Growth driven by high commodity prices is also susceptible to busts, for similar reasons.",
         "_deepnote_index_column": 242
        },
        {
         "sentences": "Commodity prices tend to move in cycles.",
         "_deepnote_index_column": 243
        },
        {
         "sentences": "When they are high, they are apt to crowd out investments in manufactures and other, non-traditional tradables.",
         "_deepnote_index_column": 244
        },
        {
         "sentences": "Moreover, commodity booms frequently produce ugly politics in countries with weak institutions, leading to costly struggles for resource rents, which are rarely invested wisely.",
         "_deepnote_index_column": 245
        },
        {
         "sentences": "So it is no surprise that the countries that have produced steady, long-term growth during the last six decades are those that relied on a different strategy: promoting diversification into manufactured and other “modern” goods.",
         "_deepnote_index_column": 246
        },
        {
         "sentences": "By capturing a growing share of world markets for manufactures and other non-primary products, these countries increased their domestic employment opportunities in high-productivity activities.",
         "_deepnote_index_column": 247
        },
        {
         "sentences": "Their governments pursued not just good “fundamentals” (e.g., macroeconomic stability and an outward orientation), but also what might be called “productivist” policies: undervalued currencies, industrial policies, and financial controls.",
         "_deepnote_index_column": 248
        },
        {
         "sentences": "China exemplified this approach.",
         "_deepnote_index_column": 249
        },
        {
         "sentences": "Its growth was fueled by an extraordinarily rapid structural transformation towards an increasingly sophisticated set of industrial goods.",
         "_deepnote_index_column": 250
        },
        {
         "sentences": "In recent years, China also got hooked on a large trade surplus vis-à-vis the US – the counterpart of its undervalued currency.",
         "_deepnote_index_column": 251
        },
        {
         "sentences": "But it wasn’t just China.",
         "_deepnote_index_column": 252
        },
        {
         "sentences": "Countries that had been growing rapidly in the run-up to the great crash of 2008 typically had trade surpluses (or very small deficits).",
         "_deepnote_index_column": 253
        },
        {
         "sentences": "These countries did not want to be recipients of capital inflows, because they realized that this would wreak havoc with their need to maintain competitive currencies.",
         "_deepnote_index_column": 254
        },
        {
         "sentences": "It is now part of conventional wisdom that large external balances – typified by the bilateral US-China trade relationship – played a major contributing role in the great crash.",
         "_deepnote_index_column": 255
        },
        {
         "sentences": "Global macroeconomic stability requires that we avoid such large current-account imbalances in the future.",
         "_deepnote_index_column": 256
        },
        {
         "sentences": "But a return to high growth in developing countries requires that they resume their push into tradable goods and services.",
         "_deepnote_index_column": 257
        },
        {
         "sentences": "In the past, this push was accommodated by the willingness of the US and a few other developed nations to run large trade deficits.",
         "_deepnote_index_column": 258
        },
        {
         "sentences": "This is no longer a feasible strategy for large or middle-income developing countries.",
         "_deepnote_index_column": 259
        },
        {
         "sentences": "So, are the requirements of global macroeconomic stability and of growth for developing countries at odds with each other?",
         "_deepnote_index_column": 260
        },
        {
         "sentences": "Will developing countries’ need to generate large increases in the supply of industrial products inevitably clash with the world’s intolerance of trade imbalances?",
         "_deepnote_index_column": 261
        },
        {
         "sentences": "There is in fact no inherent conflict, once we understand that what matters for growth in developing countries is not the size of their trade surpluses, nor even the volume of their exports.",
         "_deepnote_index_column": 262
        },
        {
         "sentences": "What matters is their output of modern industrial goods (and services), which can expand without limit as long as domestic demand expands simultaneously.",
         "_deepnote_index_column": 263
        },
        {
         "sentences": "Maintaining an undervalued currency has the upside that it subsidizes the production of such goods; but it also has the downside that it taxes domestic consumption – which is why it generates a trade surplus.",
         "_deepnote_index_column": 264
        },
        {
         "sentences": "By encouraging industrial production directly, it is possible to have the upside without the downside.",
         "_deepnote_index_column": 265
        },
        {
         "sentences": "There are many ways that this can be done, including reducing the cost of domestic inputs and services through targeted investments in infrastructure.",
         "_deepnote_index_column": 266
        },
        {
         "sentences": "Explicit industrial policies can be an even more potent instrument.",
         "_deepnote_index_column": 267
        },
        {
         "sentences": "The key point is that developing countries that are concerned about the competitiveness of their modern sectors can afford to allow their currencies to appreciate (in real terms) as long as they have access to alternative policies that promote industrial activities more directly.",
         "_deepnote_index_column": 268
        },
        {
         "sentences": "So the good news is that developing countries can continue to grow rapidly even if world trade slows in and there is reduced appetite for capital flows and trade imbalances.",
         "_deepnote_index_column": 269
        },
        {
         "sentences": "Their growth potential need not be severely affected as long as the implications of this new world for domestic and international policies are understood.",
         "_deepnote_index_column": 270
        },
        {
         "sentences": "One such implication is that developing countries will have to substitute real industrial policies for those that operate through the exchange rate.",
         "_deepnote_index_column": 271
        },
        {
         "sentences": "Another is that external policy actors (for example, the World Trade Organization) will have to be more tolerant of these policies as long as the effects on trade balances are neutralized through appropriate adjustments in the real exchange rate.",
         "_deepnote_index_column": 272
        },
        {
         "sentences": "Greater use of industrial policies is the price to be paid for a reduction of macroeconomic imbalances.",
         "_deepnote_index_column": 273
        },
        {
         "sentences": "A Democratic Burma?",
         "_deepnote_index_column": 274
        },
        {
         "sentences": "TOKYO – Historic transformations often happen when least expected.",
         "_deepnote_index_column": 275
        },
        {
         "sentences": "Mikhail Gorbachev’s liberalizing policies of glasnost and perestroika in the Soviet Union emerged at one of the Cold War’s darkest hours, with US President Ronald Reagan pushing for strategic missile defense and the two sides fighting proxy wars in Afghanistan and elsewhere.",
         "_deepnote_index_column": 276
        },
        {
         "sentences": "Deng Xiaoping’s economic opening followed China’s bloody – and failed – invasion of Vietnam in 1978.",
         "_deepnote_index_column": 277
        },
        {
         "sentences": "And South Africa’s last apartheid leader, F. W. de Klerk, was initially perceived as just another apologist for the system – hardly the man to free Nelson Mandela and oversee the end of white minority rule.",
         "_deepnote_index_column": 278
        },
        {
         "sentences": "Now the world is suddenly asking whether Burma (Myanmar), after six decades of military dictatorship, has embarked on a genuine political transition that could end the country’s pariah status.",
         "_deepnote_index_column": 279
        },
        {
         "sentences": "Is Burma, like South Africa under de Klerk, truly poised to emerge from a half-century of self-imposed isolation?",
         "_deepnote_index_column": 280
        },
        {
         "sentences": "And can Aung San Suu Kyi, the heroic opposition leader, and Thein Sein, Burma’s new president, engineer a political transition as skillfully and peacefully as Mandela and de Klerk did for South Africa in the early 1990’s?",
         "_deepnote_index_column": 281
        },
        {
         "sentences": "Despite her two decades of house arrest and isolation, Suu Kyi possesses two of the gifts that enabled Mandela to carry out his great task: a reassuring serenity and an utter lack of vindictiveness.",
         "_deepnote_index_column": 282
        },
        {
         "sentences": "As Burma’s authorities test reform, these gifts, together with her negotiating skills and, most of all, her vast moral authority, will be tested as never before.",
         "_deepnote_index_column": 283
        },
        {
         "sentences": "Moreover, unlike Mandela during his 27-year imprisonment, Suu Kyi has had her hopes raised – and dashed – before.",
         "_deepnote_index_column": 284
        },
        {
         "sentences": "In the mid-1990’s, and again in 2002-2003, reconciliation between Suu Kyi’s National League for Democracy (NLD) and the military junta seemed to be in the offing.",
         "_deepnote_index_column": 285
        },
        {
         "sentences": "On both occasions, however, the regime’s hardliners gained the upper hand, crushing prospects for reform.",
         "_deepnote_index_column": 286
        },
        {
         "sentences": "Yet Suu Kyi, and much of the Burmese opposition, is beginning to admit that today’s political liberalization might be the real thing.",
         "_deepnote_index_column": 287
        },
        {
         "sentences": "Because Burma’s generals say almost nothing in public, it is difficult to fathom why they allowed elections that elevated Thein Sein to power, or to explain their willingness to embrace dialogue with the long-suppressed opposition.",
         "_deepnote_index_column": 288
        },
        {
         "sentences": "Recent events suggest one possible explanation: Burma’s rulers have grown wary of China’s almost smothering embrace – a result of the country’s international isolation.",
         "_deepnote_index_column": 289
        },
        {
         "sentences": "Indeed, public protests against China’s commercial exploitation of Burma’s natural resources became so widespread that the government called a halt to construction by Chinese investors on the huge and environmentally damaging Myitsone Dam on the Irrawaddy River.",
         "_deepnote_index_column": 290
        },
        {
         "sentences": "Thein Sein’s decision to halt the project is clearly an important policy shift.",
         "_deepnote_index_column": 291
        },
        {
         "sentences": "It is also a signal to the outside world that Burma’s new government may be much more willing than any of its predecessors to heed both public pressure and international opinion, both of which vehemently opposed the dam’s construction.",
         "_deepnote_index_column": 292
        },
        {
         "sentences": "Almost simultaneously, Thein Sein offered even stronger signals that his was a very different Burmese administration: he freed political prisoners and invited Suu Kyi for direct talks with him.",
         "_deepnote_index_column": 293
        },
        {
         "sentences": "Indeed, Suu Kyi now enjoys far greater freedom of movement than she has at any time since she received the Nobel Peace Prize 20 years ago, and the NLD recently announced that it will field candidates in the forthcoming by-elections to the country’s newly established parliament.",
         "_deepnote_index_column": 294
        },
        {
         "sentences": "If Suu Kyi is permitted to campaign free of restraint, for both her own seat and to boost the electoral chances of her NLD colleagues, it will be clear that Thein Sein and his government are truly determined to bring their country in from the cold.",
         "_deepnote_index_column": 295
        },
        {
         "sentences": "For both Suu Kyi and Thein Sein, every step from now on will be delicate, to be calibrated with the same care and deliberation that Mandela and de Klerk used in bridging their differences and leading their country out of isolation.",
         "_deepnote_index_column": 296
        },
        {
         "sentences": "But the international community, too, must act with great care.",
         "_deepnote_index_column": 297
        },
        {
         "sentences": "While Thein Sein would undoubtedly wish to see the myriad economic and political sanctions imposed on Burma quickly lifted, it is too soon for a general easing of such measures.",
         "_deepnote_index_column": 298
        },
        {
         "sentences": "But the outside world should demonstrate that every clear move toward greater political openness will merit more international political and economic engagement.",
         "_deepnote_index_column": 299
        },
        {
         "sentences": "The Japan Investment Bank’s decision to invest in port development in Burma – essential if the economy, too, is to be opened – is one positive sign that the world will keep pace with Thein Sein step for step.",
         "_deepnote_index_column": 300
        },
        {
         "sentences": "And US President Barack Obama’s decision to send Secretary of State Hillary Clinton to Burma to meet Thein Sein is another clear sign that the world is ready to end the country’s isolation.",
         "_deepnote_index_column": 301
        },
        {
         "sentences": "Closer to home, ASEAN’s recent decision to give Burma a chance to chair the organization in 2014 underscores its neighbors’ desire for the country’s full participation in Asia’s growing prosperity.",
         "_deepnote_index_column": 302
        },
        {
         "sentences": "No one should rush to judgment yet, but Thein Sein’s decisions, at least so far, are beginning to resemble those of South Africa’s de Klerk when he initiated his country’s reform process.",
         "_deepnote_index_column": 303
        },
        {
         "sentences": "Fortunately, Burma already has in Aung San Suu Kyi its very own Nelson Mandela.",
         "_deepnote_index_column": 304
        },
        {
         "sentences": "A Democratic Windfall for Turkey?",
         "_deepnote_index_column": 305
        },
        {
         "sentences": "Turkey's seeming fall from grace with the US may turn out to be a blessing in disguise.",
         "_deepnote_index_column": 306
        },
        {
         "sentences": "The Iraq war and the tortured diplomacy that led up to it may help resolve Turkey's conflict between its \"strategic alliance\" with America and its drive to join the EU.",
         "_deepnote_index_column": 307
        },
        {
         "sentences": "The elections last November that brought the Justice and Development Party (AKP) to power were preceded by a dispute between the members of the then-ruling coalition over enacting the reforms demanded by the EU.",
         "_deepnote_index_column": 308
        },
        {
         "sentences": "Some liberal elements of that \"secular\" coalition resigned from the government and joined with the Islamists to push the reforms through parliament.",
         "_deepnote_index_column": 309
        },
        {
         "sentences": "After coming to power, the AKP's leaders, former Islamists who had reinvented themselves as \"conservative democrats,\" energetically engaged with the US, the EU, and the UN on issues ranging from Cyprus to Iraq, from Kurdish language rights to other human rights issues within Turkey.",
         "_deepnote_index_column": 310
        },
        {
         "sentences": "Having suffered the oppressive practices of Turkey's \"secular\" state and recognizing that human rights must be protected across-the-board, the AKP emerged as a credible interlocutor with the West.",
         "_deepnote_index_column": 311
        },
        {
         "sentences": "The US, preoccupied with the supposed specter of a \"clash of civilizations\" between Islam and the West, saw the AKP's modern, westernized face as an opportunity and urged the EU to admit Turkey.",
         "_deepnote_index_column": 312
        },
        {
         "sentences": "Today, both \"conservative democrats\" and liberals advocate passing all the reforms needed to gain accession to the EU, while opponents include extreme nationalists, of both left and right, as well as some elements of the \"secular\" establishment.",
         "_deepnote_index_column": 313
        },
        {
         "sentences": "The Europeans could have tipped the balance decisively in favor of the reformers by finally rewarding the efforts of the pro-EU Turks at last December's summit of EU leaders.",
         "_deepnote_index_column": 314
        },
        {
         "sentences": "Instead, the EU kept Turkey waiting yet again, putting off formal negotiations that, in any case, may take years to complete.",
         "_deepnote_index_column": 315
        },
        {
         "sentences": "Europe's persistent reluctance puts the Turks in a quandary.",
         "_deepnote_index_column": 316
        },
        {
         "sentences": "The Americans want full EU membership for Turkey--a longstanding NATO member and close American ally--while Europeans complain about the Turkish military's domestic political role.",
         "_deepnote_index_column": 317
        },
        {
         "sentences": "The paradox is that, by maintaining a political distance and thus limiting Turkey's options, Europe may end up reinforcing Turkey's status as a military outpost of the US.",
         "_deepnote_index_column": 318
        },
        {
         "sentences": "At least, that was how things were shaping up prior to the war in Iraq.",
         "_deepnote_index_column": 319
        },
        {
         "sentences": "Then, despite massive US pressure, Turkey's parliament unexpectedly rejected the government's proposal to allow US troops in Turkey to launch an invasion from Turkish territory.",
         "_deepnote_index_column": 320
        },
        {
         "sentences": "Turkey's refusal to grant the Americans access to military bases on its territory effectively ruled out a northern front in the war.",
         "_deepnote_index_column": 321
        },
        {
         "sentences": "The Turkish government even attempted a regional initiative for a peaceful solution to the crisis, an effort no current EU member could have contemplated.",
         "_deepnote_index_column": 322
        },
        {
         "sentences": "Parliament's rejection of US troops powerfully refutes suggestions that Turkey was primarily concerned about the size of the American aid package on offer as an inducement to cooperate.",
         "_deepnote_index_column": 323
        },
        {
         "sentences": "Suggestions that characterized the vote as revealing the government's true \"Islamic\" character ignore the fact that the only opposition party in parliament, the Republican People's Party--founded by Atatürk and still fully \"secularist\"--voted against the plan.",
         "_deepnote_index_column": 324
        },
        {
         "sentences": "Likewise, other elements of Turkey's secular establishment, including the President and the military leadership, either opposed or were lukewarm, at best, to the idea of war in Iraq.",
         "_deepnote_index_column": 325
        },
        {
         "sentences": "Turkey's military initially remained silent on the issue, uncharacteristically watching the civilian political process unfold.",
         "_deepnote_index_column": 326
        },
        {
         "sentences": "By contrast, the military had earlier publicly criticized AKP initiatives on Cyprus.",
         "_deepnote_index_column": 327
        },
        {
         "sentences": "Their silence on Iraq reflected their apprehension about unwanted alternatives: either support the US plan and risk encouraging Kurdish moves toward an independent state, or oppose the Americans and jeopardize a critical strategic relationship.",
         "_deepnote_index_column": 328
        },
        {
         "sentences": "They chose to defer to the civilian leadership and to parliament, which, in voting down the US plan, reflected overwhelming public sentiment against the war.",
         "_deepnote_index_column": 329
        },
        {
         "sentences": "Only after the vote did the Chief of Staff publicly endorse the original proposal to bring in American troops.",
         "_deepnote_index_column": 330
        },
        {
         "sentences": "In fact, the allegedly Islamic party had skilfully managed to negotiate with an unrelenting US, consult with the Turkish military and President, and share all information with the public and parliament.",
         "_deepnote_index_column": 331
        },
        {
         "sentences": "Walking a fine line in what was essentially a lose-lose situation, the party leadership laid out the stakes clearly and judiciously left the final decision to parliament.",
         "_deepnote_index_column": 332
        },
        {
         "sentences": "The outcome was a victory for Turkish democracy and recognized as such internationally.",
         "_deepnote_index_column": 333
        },
        {
         "sentences": "After the US military action in Iraq, the tables may be turning in surprising ways.",
         "_deepnote_index_column": 334
        },
        {
         "sentences": "As America establishes itself in Iraq, Turkey's geopolitical military significance may decline.",
         "_deepnote_index_column": 335
        },
        {
         "sentences": "Yet the declared American aim of building a Muslim democracy in Iraq will only enhance Turkey's symbolic importance as a role model.",
         "_deepnote_index_column": 336
        },
        {
         "sentences": "This shift in Turkey's strategic role may also be reflected in a new domestic balance between the military and the forces pushing for reform.",
         "_deepnote_index_column": 337
        },
        {
         "sentences": "With careful management, Turkey may find itself drawing closer to Europe, while rebuilding its relationship with America.",
         "_deepnote_index_column": 338
        },
        {
         "sentences": "A Devaluation Option for Southern Europe\nCAMBRIDGE – This year is likely to mark a make-or-break ordeal for the euro.",
         "_deepnote_index_column": 339
        },
        {
         "sentences": "The eurozone’s survival demands a credible solution to its long-running sovereign-debt crisis, which in turn requires addressing the two macroeconomic imbalances – external and fiscal – which are at the heart of that crisis.",
         "_deepnote_index_column": 340
        },
        {
         "sentences": "The crisis has exposed the deep disparities in competitiveness that have developed within the eurozone.",
         "_deepnote_index_column": 341
        },
        {
         "sentences": "From 1996 to 2010, unit labor costs in Germany increased by just 8%, and by 13% in France.",
         "_deepnote_index_column": 342
        },
        {
         "sentences": "Compare that to 24% in Portugal, 35% in Spain, 37% in Italy, and a whopping 59% in Greece.",
         "_deepnote_index_column": 343
        },
        {
         "sentences": "The result has been large trade imbalances between eurozone countries, a problem compounded by large fiscal deficits and high levels of public debt in southern Europe (and France) – much of it owed to foreign creditors.",
         "_deepnote_index_column": 344
        },
        {
         "sentences": "Does addressing these imbalances require breaking up the eurozone?",
         "_deepnote_index_column": 345
        },
        {
         "sentences": "Suppose, for example, that Portugal were to leave and re-introduce the escudo.",
         "_deepnote_index_column": 346
        },
        {
         "sentences": "The ensuing exchange-rate devaluation would immediately lower the price of Portugal’s exports, raise its import prices, stimulate the economy, and bring about much-needed growth.",
         "_deepnote_index_column": 347
        },
        {
         "sentences": "But a euro exit would be a messy affair.",
         "_deepnote_index_column": 348
        },
        {
         "sentences": "The resulting turmoil could very well trump any short-term gains in competitiveness from devaluation.",
         "_deepnote_index_column": 349
        },
        {
         "sentences": "There is a remarkably simple alternative that does not require southern Europe’s troubled economies to abandon the euro and devalue their exchange rates.",
         "_deepnote_index_column": 350
        },
        {
         "sentences": "It involves increasing the value-added tax while cutting payroll taxes.",
         "_deepnote_index_column": 351
        },
        {
         "sentences": "Our recent research demonstrates that such a “fiscal devaluation” has very similar effects on the economy in terms of its impact on GDP, consumption, employment, and inflation.",
         "_deepnote_index_column": 352
        },
        {
         "sentences": "A currency devaluation works by making imports more costly and exports cheaper.",
         "_deepnote_index_column": 353
        },
        {
         "sentences": "A VAT/payroll-tax swap would do exactly the same thing.",
         "_deepnote_index_column": 354
        },
        {
         "sentences": "An increase in VAT raises the price of imported goods, as foreign firms face a higher tax.",
         "_deepnote_index_column": 355
        },
        {
         "sentences": "To ensure that domestic firms do not have an incentive to raise prices, an increase in VAT needs to be accompanied by a cut in payroll taxes.",
         "_deepnote_index_column": 356
        },
        {
         "sentences": "Moreover, since exports are exempt from VAT, the price of domestic exports will fall.",
         "_deepnote_index_column": 357
        },
        {
         "sentences": "The desired competitiveness effects of exchange-rate devaluation can thus be had while staying in the euro.",
         "_deepnote_index_column": 358
        },
        {
         "sentences": "This policy can also help on the fiscal front.",
         "_deepnote_index_column": 359
        },
        {
         "sentences": "As is true of an exchange-rate devaluation, the positive impact on growth of an increase in competitiveness can strengthen the fiscal position by raising tax revenues.",
         "_deepnote_index_column": 360
        },
        {
         "sentences": "Moreover, an important advantage of fiscal devaluations is that they generate additional revenues in proportion to the country’s trade deficit.",
         "_deepnote_index_column": 361
        },
        {
         "sentences": "For countries that are suffering from weak competitiveness and, as a consequence, running trade deficits, this typically means more revenues, especially in the short run.",
         "_deepnote_index_column": 362
        },
        {
         "sentences": "Like exchange-rate devaluations, fiscal devaluations create winners and losers.",
         "_deepnote_index_column": 363
        },
        {
         "sentences": "Both act as a wealth levy: inflation means that bondholders suffer a real loss in proportion to their wealth and the size of the devaluation.",
         "_deepnote_index_column": 364
        },
        {
         "sentences": "If taxes on capital are not adjusted, holders of domestic stocks suffer a comparable loss.",
         "_deepnote_index_column": 365
        },
        {
         "sentences": "By contrast, many transfers, such as unemployment benefits, health benefits, and public pensions, are indexed to inflation, and thus maintain their real value.",
         "_deepnote_index_column": 366
        },
        {
         "sentences": "The same is true of minimum wages.",
         "_deepnote_index_column": 367
        },
        {
         "sentences": "These distributive effects play an important role in the politics of exchange-rate devaluations, and most of these effects appear in fiscal devaluations as well.",
         "_deepnote_index_column": 368
        },
        {
         "sentences": "Fiscal devaluations already have some advocates.",
         "_deepnote_index_column": 369
        },
        {
         "sentences": "Indeed, French President Nicolas Sarkozy’s government just announced one.",
         "_deepnote_index_column": 370
        },
        {
         "sentences": "And concerns that a fiscal devaluation will conflict with euro rules can be met by simply pointing out that Germany’s government carried one out in 2007, though by another name, when it raised VAT from 16% to 19% and cut employers’ contribution to social insurance, from 6.5% to 4.2%.",
         "_deepnote_index_column": 371
        },
        {
         "sentences": "In short, there are simple fiscal alternatives to exchange-rate devaluation that can address southern Europe’s short-term competitiveness problems.",
         "_deepnote_index_column": 372
        },
        {
         "sentences": "To be sure, feasible fiscal devaluations would be limited in size.",
         "_deepnote_index_column": 373
        },
        {
         "sentences": "But, together with debt restructuring, accommodative monetary policy, liquidity support from the European Central Bank, and much-required structural reforms, they can help to put these troubled economies on a sound footing without a euro breakup or a major austerity-induced recession.",
         "_deepnote_index_column": 374
        },
        {
         "sentences": "A Dim Light on Global Warming\nCOPENHAGEN – Amid a growing wave of concern about climate change, many countries – including Brazil, Australia, the United States, and the members of the European Union – passed laws in the 2000’s outlawing or severely restricting access to incandescent light bulbs.",
         "_deepnote_index_column": 375
        },
        {
         "sentences": "The intention was understandable: if everyone in the world exchanged most light bulbs for energy-efficient compact fluorescent light bulbs (CFLs), we could save 3.5% of all electricity, or 1% of our CO2 emissions.",
         "_deepnote_index_column": 376
        },
        {
         "sentences": "The current attempt by Republicans in the US Congress to roll back America’s effort to ban incandescent bulbs has revived this discussion.",
         "_deepnote_index_column": 377
        },
        {
         "sentences": "Many contend that the agenda is being driven by knuckle-dragging climate-change deniers.",
         "_deepnote_index_column": 378
        },
        {
         "sentences": "But it’s worth taking a closer look at the premise that banning things is the smartest way to tackle global warming.",
         "_deepnote_index_column": 379
        },
        {
         "sentences": "Let’s be clear: we do need to tackle climate change.",
         "_deepnote_index_column": 380
        },
        {
         "sentences": "But this does not mean that we should just cut all emissions.",
         "_deepnote_index_column": 381
        },
        {
         "sentences": "Burning fossil fuels also has significant benefits, and we should weigh those benefits against the costs.",
         "_deepnote_index_column": 382
        },
        {
         "sentences": "A tax on carbon should be equivalent to its damage.",
         "_deepnote_index_column": 383
        },
        {
         "sentences": "The best estimate of this is about $7/ton of CO2 or $0.06/gallon of gasoline (€0.015/liter).",
         "_deepnote_index_column": 384
        },
        {
         "sentences": "Most developed countries already have a tax of this size (and often much larger) on electricity and fossil fuels, although this also incorporates the costs of air pollution and supply insecurity.",
         "_deepnote_index_column": 385
        },
        {
         "sentences": "While CFLs are more expensive to buy, they are much cheaper over their lifespan, because they use much less energy (even more so with the cost of CO2 factored into taxes on electricity).",
         "_deepnote_index_column": 386
        },
        {
         "sentences": "Thus, on a straightforward cost-benefit basis, it seems to make sense for most people to switch from incandescent bulbs to the new, greener technology.",
         "_deepnote_index_column": 387
        },
        {
         "sentences": "This is what is great about technological solutions to climate change: if an alternative option is cheaper, people will start using it.",
         "_deepnote_index_column": 388
        },
        {
         "sentences": "My household uses CFLs, and I enjoy knowing that I am causing fewer CO2 emissions and spending less money.",
         "_deepnote_index_column": 389
        },
        {
         "sentences": "Why, then, is it even necessary to outlaw the old bulbs?",
         "_deepnote_index_column": 390
        },
        {
         "sentences": "The reason is that monetary cost is only one factor.",
         "_deepnote_index_column": 391
        },
        {
         "sentences": "Many people find it annoying that CFLs take time to “warm up.”\nOr they believe that their light is “funny.”\nOr they worry that the bulbs can spread poisonous mercury if they break.",
         "_deepnote_index_column": 392
        },
        {
         "sentences": "For some people, energy-efficient bulbs can trigger epileptic seizures and migraines.",
         "_deepnote_index_column": 393
        },
        {
         "sentences": "The up-front cost is a factor, too, especially for those on low budgets.",
         "_deepnote_index_column": 394
        },
        {
         "sentences": "And in places where lights are not used very often, a lower-price incandescent bulb can cost less overall than the energy-efficient alternative.",
         "_deepnote_index_column": 395
        },
        {
         "sentences": "You might imagine that people could choose the right light bulbs for themselves.",
         "_deepnote_index_column": 396
        },
        {
         "sentences": "But proponents of phasing out access to incandescent bulbs argue that they know better.",
         "_deepnote_index_column": 397
        },
        {
         "sentences": "As US Energy Secretary Steven Chu put it recently, “We are taking away a choice that continues to let people waste their own money.”\nSetting aside other possible objections to this view, there is the problem that it presumes that all incandescent bulbs are worth less than $7/ton of CO2.",
         "_deepnote_index_column": 398
        },
        {
         "sentences": "This is clearly not true for those who suffer from migraines or epileptic seizures because of the new bulbs, or for those who are seriously worried about mercury, or for those who have other reasons for preferring incandescent bulbs.",
         "_deepnote_index_column": 399
        },
        {
         "sentences": "The solution should be to focus on improving the technology – making the lights safer, brighter, warm up faster, and save more energy, so that more people will replace more of their lights.",
         "_deepnote_index_column": 400
        },
        {
         "sentences": "But it is not just light bulbs that policymakers have tried to ban.",
         "_deepnote_index_column": 401
        },
        {
         "sentences": "EU parliamentarians voted overwhelmingly to outlaw patio heaters, which one MEP declared to be “a luxury the planet cannot afford.”\nWho decides when something is luxurious?",
         "_deepnote_index_column": 402
        },
        {
         "sentences": "And where does this end?",
         "_deepnote_index_column": 403
        },
        {
         "sentences": "Should we outlaw air conditioning or television satellite boxes because some people find them luxurious?",
         "_deepnote_index_column": 404
        },
        {
         "sentences": "Should we ban private cars wherever public transport is available to move us from A to B with fewer CO2 emissions?",
         "_deepnote_index_column": 405
        },
        {
         "sentences": "It makes sense to reflect the cost of CO2 (among many other factors) in the price paid to drive our cars or heat our patios; but when the phase-out proceeds more slowly than some lawmakers wish, a ban is not the right solution.",
         "_deepnote_index_column": 406
        },
        {
         "sentences": "Real reductions in carbon emissions will occur only when better technology makes it worthwhile for individuals and businesses to change their behavior.",
         "_deepnote_index_column": 407
        },
        {
         "sentences": "CFLs and other advances can take us part of the way, but there are massive technological hurdles to overcome before fossil fuels generally become less attractive than greener alternatives.",
         "_deepnote_index_column": 408
        },
        {
         "sentences": "This is where a lot of policymakers get it wrong.",
         "_deepnote_index_column": 409
        },
        {
         "sentences": "Governments talk far too much about setting a relatively high carbon tax on emissions, while focusing far too little on ensuring a meaningful increase in research and development to bring about necessary breakthroughs.",
         "_deepnote_index_column": 410
        },
        {
         "sentences": "Limiting access to the ‘wrong’ light bulbs or patio heaters, ultimately, is not the right path.",
         "_deepnote_index_column": 411
        },
        {
         "sentences": "We will only solve global warming by ensuring that alternative technologies are better than our current options.",
         "_deepnote_index_column": 412
        },
        {
         "sentences": "Then, people the world over will choose to use them.",
         "_deepnote_index_column": 413
        },
        {
         "sentences": "A Dissident in China\nTOKYO – 2009 was a good year for China.",
         "_deepnote_index_column": 414
        },
        {
         "sentences": "The Chinese economy still roared ahead in the midst of a worldwide recession.",
         "_deepnote_index_column": 415
        },
        {
         "sentences": "American President Barack Obama visited China, more in the spirit of a supplicant to an imperial court than the leader of the world’s greatest superpower.",
         "_deepnote_index_column": 416
        },
        {
         "sentences": "Even the Copenhagen summit on climate change ended just the way China wanted: failure in its attempt to commit China, or any other industrial nation, to making significant cuts in carbon emissions, with the United States getting the blame.",
         "_deepnote_index_column": 417
        },
        {
         "sentences": "The Chinese government, under the Communist Party, has every reason to feel confident.",
         "_deepnote_index_column": 418
        },
        {
         "sentences": "So why did a gentle former literature professor named Liu Xiaobo have to be sentenced to 11 years in prison, just because he publicly advocated freedom of expression and an end to one-party rule?",
         "_deepnote_index_column": 419
        },
        {
         "sentences": "Liu was co-author in 2008 of a petition, Charter 08, signed by thousands of Chinese, calling for basic rights to be respected.",
         "_deepnote_index_column": 420
        },
        {
         "sentences": "Liu is not a violent rebel.",
         "_deepnote_index_column": 421
        },
        {
         "sentences": "His opinions, in articles published on the Internet, are entirely peaceful.",
         "_deepnote_index_column": 422
        },
        {
         "sentences": "Yet he was jailed for “inciting subversion of state power.”\nThe notion that Liu might be capable of subverting the immense power of the Communist Party of China is patently absurd.",
         "_deepnote_index_column": 423
        },
        {
         "sentences": "And yet the authorities clearly believe that they had to make an example of him, to prevent others from expressing similar views.",
         "_deepnote_index_column": 424
        },
        {
         "sentences": "Why does a regime that appears to be so secure consider mere opinions, or even peaceful petitions, so dangerous?",
         "_deepnote_index_column": 425
        },
        {
         "sentences": "Perhaps because the regime does not feel as secure as it looks.",
         "_deepnote_index_column": 426
        },
        {
         "sentences": "Without legitimacy, no government can rule with any sense of confidence.",
         "_deepnote_index_column": 427
        },
        {
         "sentences": "There are many ways to legitimize political arrangements.",
         "_deepnote_index_column": 428
        },
        {
         "sentences": "Liberal democracy is only a recent invention.",
         "_deepnote_index_column": 429
        },
        {
         "sentences": "Hereditary monarchy, often backed by divine authority, has worked in the past.",
         "_deepnote_index_column": 430
        },
        {
         "sentences": "And some modern autocrats, such as Robert Mugabe, have been bolstered by their credentials as national freedom fighters.",
         "_deepnote_index_column": 431
        },
        {
         "sentences": "China has changed a great deal in the last century, but it has remained the same in one respect: it is still ruled by a religious concept of politics.",
         "_deepnote_index_column": 432
        },
        {
         "sentences": "Legitimacy is not based on the give and take, the necessary compromises, and the wheeling and dealing that form the basis of an economic concept of politics such as that which underpins liberal democracy.",
         "_deepnote_index_column": 433
        },
        {
         "sentences": "Instead, the foundation of religious politics is a shared belief, imposed from above, in ideological orthodoxy.",
         "_deepnote_index_column": 434
        },
        {
         "sentences": "In imperial China, this meant Confucian orthodoxy.",
         "_deepnote_index_column": 435
        },
        {
         "sentences": "The ideal of the Confucian state is “harmony.”\nIf all people conform to a particular set of beliefs, including moral codes of behavior, conflicts will disappear.",
         "_deepnote_index_column": 436
        },
        {
         "sentences": "The ruled, in this ideal system, will naturally obey their rulers, just as sons obey their fathers.",
         "_deepnote_index_column": 437
        },
        {
         "sentences": "After the various revolutions in the early decades of the twentieth century, Confucianism was replaced by a Chinese version of Communism.",
         "_deepnote_index_column": 438
        },
        {
         "sentences": "Marxism appealed to Chinese intellectuals, because it was bookish, introduced a modern moral orthodoxy, and was based, like Confucianism, on a promise of perfect harmony.",
         "_deepnote_index_column": 439
        },
        {
         "sentences": "Ultimately, in the Communist utopia, conflicts of interests would melt away.",
         "_deepnote_index_column": 440
        },
        {
         "sentences": "Chairman Mao’s rule combined elements of the Chinese imperial system with Communist totalitarianism.",
         "_deepnote_index_column": 441
        },
        {
         "sentences": "This orthodoxy, however, was also destined to fade away.",
         "_deepnote_index_column": 442
        },
        {
         "sentences": "Few Chinese, even in the top ranks of the Communist Party, are convinced Marxists anymore.",
         "_deepnote_index_column": 443
        },
        {
         "sentences": "This left an ideological vacuum, swiftly filled in the 1980’s by greed, cynicism, and corruption.",
         "_deepnote_index_column": 444
        },
        {
         "sentences": "Out of this crisis came the demonstrations all over China, collectively known as “Tiananmen.”\nLiu Xiaobo was an active spokesman in 1989 for the student protests against official corruption and in favor of greater freedom.",
         "_deepnote_index_column": 445
        },
        {
         "sentences": "Soon after the bloody crackdown on Tiananmen, a new orthodoxy replaced Chinese Marxism: Chinese nationalism.",
         "_deepnote_index_column": 446
        },
        {
         "sentences": "Only one-party rule would guarantee the continuing rise of China and put an end to centuries of national humiliation.",
         "_deepnote_index_column": 447
        },
        {
         "sentences": "The Communist Party represented China’s destiny as a great power.",
         "_deepnote_index_column": 448
        },
        {
         "sentences": "To doubt this was not just mistaken, but unpatriotic, even “anti-Chinese.”\nFrom this perspective, Liu Xiaobo’s critical views were indeed subversive.",
         "_deepnote_index_column": 449
        },
        {
         "sentences": "They cast doubt on the official orthodoxy, and thus on the legitimacy of the state.",
         "_deepnote_index_column": 450
        },
        {
         "sentences": "To wonder, as many have, why the Chinese regime refused to negotiate with the students in 1989 – or to find some accommodation with its critics today – is to misunderstand the nature of religious politics.",
         "_deepnote_index_column": 451
        },
        {
         "sentences": "Negotiation, compromise, and accommodation are the marks of economic politics, where every deal has its price.",
         "_deepnote_index_column": 452
        },
        {
         "sentences": "By contrast, those who rule according to a shared belief cannot afford to negotiate, for that would undermine the belief itself.",
         "_deepnote_index_column": 453
        },
        {
         "sentences": "This is not to say that the economic concept of politics is utterly strange to the Chinese – or, for that matter, that the religious notion of politics is unknown in the democratic West.",
         "_deepnote_index_column": 454
        },
        {
         "sentences": "But the insistence on orthodoxy is still sufficiently strong in China to remain the default defense against political critics.",
         "_deepnote_index_column": 455
        },
        {
         "sentences": "These things can change.",
         "_deepnote_index_column": 456
        },
        {
         "sentences": "Other Confucian societies, such as South Korea, Taiwan, and Japan, now have thriving liberal democracies, and there is no reason to believe that such a transition is impossible in China.",
         "_deepnote_index_column": 457
        },
        {
         "sentences": "But external pressure is unlikely to bring it about.",
         "_deepnote_index_column": 458
        },
        {
         "sentences": "Many non-Chinese, including me, have signed a letter of protest against the jailing of Liu Xiaobo.",
         "_deepnote_index_column": 459
        },
        {
         "sentences": "One hopes that this will lend comfort to him, and give a moral boost to Chinese who share his views.",
         "_deepnote_index_column": 460
        },
        {
         "sentences": "But it is unlikely to impress those who believe in the current orthodoxy of Chinese nationalism.",
         "_deepnote_index_column": 461
        },
        {
         "sentences": "Until China is released from the grip of religious politics, Liu’s ideals are unlikely to take root.",
         "_deepnote_index_column": 462
        },
        {
         "sentences": "This does not bode well for China, or, indeed, for the rest of the world.",
         "_deepnote_index_column": 463
        },
        {
         "sentences": "Adjust and Reschedule or Delay and Default\nBRUSSELS – As Greece activates its €45 billion rescue package with the International Monetary Fund and the European Union, it is becoming clear that a new, far more comprehensive approach is needed.",
         "_deepnote_index_column": 464
        },
        {
         "sentences": "Two problems need to be addressed: the credibility of Greece’s fiscal stabilization program, and how to cover the country’s medium-term financing gap.",
         "_deepnote_index_column": 465
        },
        {
         "sentences": "The magnitude of the fiscal adjustment effort being demanded of Greece is now well known.",
         "_deepnote_index_column": 466
        },
        {
         "sentences": "The deficit has to be reduced by at least 10 percentage points of GDP (from around 13% of GDP to less than 3% of GDP).",
         "_deepnote_index_column": 467
        },
        {
         "sentences": "The key problem, which has not been addressed so far, is that a fiscal adjustment on this scale requires the government to take two steps that can be implemented only with wide social approval: a cut in wages and a cut in social expenditure.",
         "_deepnote_index_column": 468
        },
        {
         "sentences": "Both steps are now as unpopular in Greece as they are unavoidable.",
         "_deepnote_index_column": 469
        },
        {
         "sentences": "The country’s competitiveness problems are also well known.",
         "_deepnote_index_column": 470
        },
        {
         "sentences": "Unit labor costs have increased by 10-20% more than in Germany.",
         "_deepnote_index_column": 471
        },
        {
         "sentences": "Assuming that Greece wishes to stay within the eurozone, an “internal devaluation,” i.e., a significant cut in nominal wages, is inevitable.",
         "_deepnote_index_column": 472
        },
        {
         "sentences": "The government can (and has) cut wages in the public sector, but this is not sufficient.",
         "_deepnote_index_column": 473
        },
        {
         "sentences": "A large cut in private-sector wages also is urgently needed to stimulate exports (which currently amount to less than 20% of GDP, even if one counts both goods and services) to create at least one source of growth.",
         "_deepnote_index_column": 474
        },
        {
         "sentences": "Greece thus needs a “National Competitiveness Pact” in which government, opposition, employers, and workers agree on a set of measures that cut unit labor costs by at least 10%.",
         "_deepnote_index_column": 475
        },
        {
         "sentences": "Three levers could be used to reach this goal: adjustment in nominal wages, extension of working time, and a reduction in social-security contributions (compensated for by an increase in value-added tax).",
         "_deepnote_index_column": 476
        },
        {
         "sentences": "The mix of measures should be left to Greece to decide, but a cut in unit labor costs of this size is an essential first step for a successful adjustment, and should be a pre-condition for the IMF/EU support package.",
         "_deepnote_index_column": 477
        },
        {
         "sentences": "Deep cuts in social expenditure are also unavoidable in order to achieve sustainable public finances.",
         "_deepnote_index_column": 478
        },
        {
         "sentences": "The growing fiscal deficits in Greece over the last decade were essentially the result of a massive increase in the size of state social benefits, from 20% to close to 30% of GDP, without any significant increase in tax revenues.",
         "_deepnote_index_column": 479
        },
        {
         "sentences": "Contrary to popular perception, the public-sector wage bill is only of marginal importance.",
         "_deepnote_index_column": 480
        },
        {
         "sentences": "The government has already forced through most of the necessary adjustment in this area.",
         "_deepnote_index_column": 481
        },
        {
         "sentences": "Indeed, cuts in public-sector wages can yield at most 1-2% of GDP in fiscal consolidation.",
         "_deepnote_index_column": 482
        },
        {
         "sentences": "Given that social expenditure amounts to close to 60% of total public spending, a successful fiscal adjustment will ultimately require that it be cut significantly.",
         "_deepnote_index_column": 483
        },
        {
         "sentences": "The alternative, an increase in tax revenues by almost 50% in the span of a few years, simply is not feasible.",
         "_deepnote_index_column": 484
        },
        {
         "sentences": "Profound reform of the welfare state and building a modern tax administration system requires time.",
         "_deepnote_index_column": 485
        },
        {
         "sentences": "But financial markets are in no mood to give Greece time, which brings us to the second major problem facing the country.",
         "_deepnote_index_column": 486
        },
        {
         "sentences": "In order to gain the breathing space necessary for the reform process to be effective, the Greek government could just announce a simple rescheduling: the due date of all existing public debt is extended by five years at an unchanged interest rate.",
         "_deepnote_index_column": 487
        },
        {
         "sentences": "In that case, the Greek government would face no redemptions for the next five years and would have to refinance about €30 billion per year from 2015 onwards, which should be manageable by then.",
         "_deepnote_index_column": 488
        },
        {
         "sentences": "Official financing needs would then be much more limited, and the IMF/EU package of around €45 billion should be sufficient to cover most of the progressively lower deficits over this grace period.",
         "_deepnote_index_column": 489
        },
        {
         "sentences": "Without such a rescheduling, it is unlikely that Greece will be able to roll over the approximately €30 billion maturing annually for the next few years.",
         "_deepnote_index_column": 490
        },
        {
         "sentences": "Over time, the eurozone countries would inevitably have to refinance most of Greece’s public debt.",
         "_deepnote_index_column": 491
        },
        {
         "sentences": "This is a recipe for continuing political problems, as the Greeks would always consider the interest rate too high, while Germany would consider it too low (at least relative to market rates).",
         "_deepnote_index_column": 492
        },
        {
         "sentences": "Moreover, once the eurozone had started refinancing Greece without any contribution from private creditors, it would be politically impossible to stop.",
         "_deepnote_index_column": 493
        },
        {
         "sentences": "The type of rescheduling proposed here would signal the Greek government’s readiness to service its debt in full, and thus might be accepted without too much disruption in financial markets.",
         "_deepnote_index_column": 494
        },
        {
         "sentences": "Of course, markets would view any rescheduling without a credible adjustment program merely as a prelude to a real default later on, thus leading to an even higher risk premium.",
         "_deepnote_index_column": 495
        },
        {
         "sentences": "But even the best adjustment program cannot be financed without some contribution by private creditors, i.e., some form of rescheduling.",
         "_deepnote_index_column": 496
        },
        {
         "sentences": "The only way out for Greece is thus to combine both elements: rescheduling its debt plus national agreements on wages and social expenditure.",
         "_deepnote_index_column": 497
        },
        {
         "sentences": "The current approach – concentrating only on the financing needs and fiscal adjustment in 2010, and leaving all the hard choices for later – will not work.",
         "_deepnote_index_column": 498
        },
        {
         "sentences": "A Doomsday Scenario\nAs America debates whether or not to invade Iraq, fears that the country's economic recovery will stall are beginning to creep into the discussion; with that, worries about the health of the global economy are growing, too.",
         "_deepnote_index_column": 499
        }
       ],
       "rows_bottom": [
        {
         "sentences": "And that shift would occur at a time of growing challenges to US interests elsewhere in the world.",
         "_deepnote_index_column": 4500
        },
        {
         "sentences": "The targeted killing by the United States of one of Iran's top military leaders represents a significant symbolic defeat for the Iranian regime, but it does not augur all-out war.",
         "_deepnote_index_column": 4501
        },
        {
         "sentences": "After all, Iran and the US have already been at war for decades, and neither side has an interest in an uncontrolled military escalation now.",
         "_deepnote_index_column": 4502
        },
        {
         "sentences": "As in previous years, Project Syndicate asked its commentators to offer their best guesses about the events and trends that will define the coming 12 months.",
         "_deepnote_index_column": 4503
        },
        {
         "sentences": "If there is one common theme in this year's selection, it is that what happens in 2020 will weigh on the present for many years to come.",
         "_deepnote_index_column": 4504
        },
        {
         "sentences": "Making globalization more inclusive will require policies that tackle inequality within advanced economies and boost convergence in living standards between Africa and high-income countries.",
         "_deepnote_index_column": 4505
        },
        {
         "sentences": "African policymakers, with support from external partners, can play their part by accelerating regional integration, bridging gaps in labor skills and digital infrastructure, and creating a mechanism to own and regulate Africa’s digital data.",
         "_deepnote_index_column": 4506
        },
        {
         "sentences": "Ever since the first industrial revolution led to a surge in international trade, Africa has remained largely on the sidelines of the global economy.",
         "_deepnote_index_column": 4507
        },
        {
         "sentences": "The main beneficiaries of early globalization were today’s advanced economies, where industrial technologies emerged.",
         "_deepnote_index_column": 4508
        },
        {
         "sentences": "This, in turn, led to the “great divergence” in income levels between the Global North and South.",
         "_deepnote_index_column": 4509
        },
        {
         "sentences": "More recently, the advent of new information and communications technology in the 1990s dramatically lowered the costs of distance and ushered in another wave of globalization, characterized by the emergence of complex global value chains (GVCs).",
         "_deepnote_index_column": 4510
        },
        {
         "sentences": "These GVCs contributed to the “great convergence” of recent decades by boosting industrial output in countries such as China, India, Indonesia, Poland, South Korea, Taiwan, and Singapore, enabling them to narrow the gap with advanced economies.",
         "_deepnote_index_column": 4511
        },
        {
         "sentences": "Yet African countries have remained excluded from this process.",
         "_deepnote_index_column": 4512
        },
        {
         "sentences": "The continent’s share of global merchandise trade has stagnated at around 3%, similar to its share of world manufacturing output.",
         "_deepnote_index_column": 4513
        },
        {
         "sentences": "To be sure, globalization has brought benefits to Africa.",
         "_deepnote_index_column": 4514
        },
        {
         "sentences": "Rising incomes elsewhere in the world have increased demand for African commodities and natural resources, boosting national economies.",
         "_deepnote_index_column": 4515
        },
        {
         "sentences": "Globalization has also supported knowledge transfer, enabling African countries to improve living standards by “leapfrogging” to new technologies.",
         "_deepnote_index_column": 4516
        },
        {
         "sentences": "But myriad challenges have far outweighed such benefits.",
         "_deepnote_index_column": 4517
        },
        {
         "sentences": "For one thing, globalization has contributed to premature deindustrialization.",
         "_deepnote_index_column": 4518
        },
        {
         "sentences": "Because advanced economies can now produce goods more cheaply, African countries have found it difficult to develop local industries that create jobs.",
         "_deepnote_index_column": 4519
        },
        {
         "sentences": "Moreover, some multinational corporations operating in the region are dodging taxes through sophisticated – and legal – accounting mechanisms such as profit shifting, depriving governments of much-needed resources for economic development.",
         "_deepnote_index_column": 4520
        },
        {
         "sentences": "Globalization is also contributing to climate change, which has a disproportionate effect on Africa despite the continent’s limited contribution to the problem.",
         "_deepnote_index_column": 4521
        },
        {
         "sentences": "Cyclones Idai and Kenneth, which recently devastated Malawi, Mozambique, and Zimbabwe, are a tragic example of what is to come.",
         "_deepnote_index_column": 4522
        },
        {
         "sentences": "Unsurprisingly, therefore, the economic disparity between Africa and richer countries has widened in recent decades, with the ratio of African incomes to those in advanced economies falling from 12% in the early 1980s to 8% today.",
         "_deepnote_index_column": 4523
        },
        {
         "sentences": "In order to reverse this trend and enable Africa to benefit more from globalization, the region’s policymakers should accelerate their efforts in three areas.",
         "_deepnote_index_column": 4524
        },
        {
         "sentences": "First, governments should promote further regional integration to make Africa economically stronger and more effective at advancing its agenda internationally.",
         "_deepnote_index_column": 4525
        },
        {
         "sentences": "Progress so far is very encouraging.",
         "_deepnote_index_column": 4526
        },
        {
         "sentences": "The African Continental Free Trade Agreement recently obtained the minimum 22 ratifications needed to enter into force, thus creating a single African market for goods and services.",
         "_deepnote_index_column": 4527
        },
        {
         "sentences": "The AfCFTA, along with the Single African Air Transport Market and the Protocol on Free Movement of Persons, will help to unlock the region’s tremendous economic potential.",
         "_deepnote_index_column": 4528
        },
        {
         "sentences": "Second, Africa must improve its digital infrastructure and technology-related skills to avoid being further marginalized.",
         "_deepnote_index_column": 4529
        },
        {
         "sentences": "At present, the cost of Internet access in Africa is the highest in the world, and Internet penetration is only 37%, significantly below the world average of 57%.",
         "_deepnote_index_column": 4530
        },
        {
         "sentences": "Moreover, the low-cost, low-skill labor on which Africa has traditionally relied is becoming less of a competitive advantage, given the advent of the Fourth Industrial Revolution and the higher production standards and infrastructure requirements of GVCs.",
         "_deepnote_index_column": 4531
        },
        {
         "sentences": "Education and training programs should therefore focus more on developing digital knowhow, as well as on soft skills such as critical thinking and cognitive and socio-behavioral capabilities.",
         "_deepnote_index_column": 4532
        },
        {
         "sentences": "Third, Africa must create a system for owning and regulating its digital data.",
         "_deepnote_index_column": 4533
        },
        {
         "sentences": "In the modern era, capital has displaced land as the most important asset and determinant of wealth.",
         "_deepnote_index_column": 4534
        },
        {
         "sentences": "But in the digital economy, data will be key – as demonstrated by the scramble among global technology firms such as Facebook, Google, and Tencent to control it.",
         "_deepnote_index_column": 4535
        },
        {
         "sentences": "And, as Kai-Fu Lee argues in his book AI Superpowers, the abundance of data generated by China’s large population is giving the country an advantage over the United States in the field of artificial intelligence.",
         "_deepnote_index_column": 4536
        },
        {
         "sentences": "Africa’s population boom means the continent will also generate large amounts of data, particularly as digitization makes inroads, e-commerce platforms spread, the middle class expands, and consumer spending increases.",
         "_deepnote_index_column": 4537
        },
        {
         "sentences": "This new data-driven wealth will accrue to those who actively harvest, own, and regulate such information, leaving latecomers to play catch up.",
         "_deepnote_index_column": 4538
        },
        {
         "sentences": "Africa’s potential may be huge, but it faces formidable challenges.",
         "_deepnote_index_column": 4539
        },
        {
         "sentences": "By 2030, the continent will be home to almost 90% of the world’s poorest people.",
         "_deepnote_index_column": 4540
        },
        {
         "sentences": "Unless globalization works better for Africa than it has in the past, its promise of shared prosperity will remain unfulfilled.",
         "_deepnote_index_column": 4541
        },
        {
         "sentences": "Liberal Democracy in Africa Can Wait\nYAOUNDÉ – Africa’s policymakers understand that strong economic and political leadership is essential to growth and stability.",
         "_deepnote_index_column": 4542
        },
        {
         "sentences": "For years, African economies have fared better than expected, owing to a commitment to improving governance.",
         "_deepnote_index_column": 4543
        },
        {
         "sentences": "The question now is how to sustain the momentum.",
         "_deepnote_index_column": 4544
        },
        {
         "sentences": "Current strategies do not provide an adequate answer.",
         "_deepnote_index_column": 4545
        },
        {
         "sentences": "Although leaders at a recent African Economic Conference in Addis Ababa, Ethiopia, committed to keeping governance reforms at the top of Africa’s agenda, they offered no blueprint.",
         "_deepnote_index_column": 4546
        },
        {
         "sentences": "From my perspective, this void presents an opportunity to consider new governance paradigms, including those that borrow from two commonly discussed models: the “Washington Consensus” and the “Beijing Model.”\nDevelopment practitioners have long debated which model offers the best framework for reform.",
         "_deepnote_index_column": 4547
        },
        {
         "sentences": "Put simply, “governance” refers to a dynamic framework of rules, structures, and processes that help a government manage its economic, political, and administrative affairs.",
         "_deepnote_index_column": 4548
        },
        {
         "sentences": "But which principles a government focuses on varies by approach.",
         "_deepnote_index_column": 4549
        },
        {
         "sentences": "The model championed by the West places a premium on human rights and democracy, while the one advocated by China is more concerned with political stability and economic growth.",
         "_deepnote_index_column": 4550
        },
        {
         "sentences": "Since the election of President Donald Trump, the United States, which remains one of Africa’s top donors, has focused more on the principles China favors – like political stability, trade, and counterterrorism – than on human rights.",
         "_deepnote_index_column": 4551
        },
        {
         "sentences": "The rationale is that the Beijing Model is better for Africa in the short and medium term.",
         "_deepnote_index_column": 4552
        },
        {
         "sentences": "And, while it might not be popular to admit, Trump has a point.",
         "_deepnote_index_column": 4553
        },
        {
         "sentences": "Simply put, food, shelter, health, and good sanitation are more relevant for most Africans than the right to vote.",
         "_deepnote_index_column": 4554
        },
        {
         "sentences": "Moreover, only a moderately wealthy population, with a healthy middle class, can adequately demand the rights that democracy provides.",
         "_deepnote_index_column": 4555
        },
        {
         "sentences": "Paradoxically, the fastest way to build a strong middle class in Africa would be to move toward the hierarchy of principles that China’s model promotes.",
         "_deepnote_index_column": 4556
        },
        {
         "sentences": "For Africa to reorient its governance approach, and embrace a post-Washington Consensus, its leaders must commit to improving institutional effectiveness and economic management.",
         "_deepnote_index_column": 4557
        },
        {
         "sentences": "The first set of reforms would involve establishing clear lines of sovereignty with international partners.",
         "_deepnote_index_column": 4558
        },
        {
         "sentences": "Africa’s relationship with Western donors, for example, has historically placed individual rights over national rights.",
         "_deepnote_index_column": 4559
        },
        {
         "sentences": "But in my view, individual rights should not supersede sovereign ones.",
         "_deepnote_index_column": 4560
        },
        {
         "sentences": "Punishing entire countries for laws that affect a minority is counterproductive.",
         "_deepnote_index_column": 4561
        },
        {
         "sentences": "An example of such collective punishment occurred in Uganda in 2014, when the World Bank froze some $90 million in loans following the government’s enactment of legislation criminalizing homosexuality.",
         "_deepnote_index_column": 4562
        },
        {
         "sentences": "As a Ugandan government spokesman said at the time, the bank “should not blackmail its members” to adopt Western values.",
         "_deepnote_index_column": 4563
        },
        {
         "sentences": "Yet, when governance models are judged solely through the lens of the Washington Consensus, there is very little alternative.",
         "_deepnote_index_column": 4564
        },
        {
         "sentences": "Along the same lines, the second set of reforms pertains to prioritizing economic rights over political rights.",
         "_deepnote_index_column": 4565
        },
        {
         "sentences": "For example, politicians who manage an economy well should not be subject to term limits.",
         "_deepnote_index_column": 4566
        },
        {
         "sentences": "Neither Singapore nor China is a democracy; but leaders in both countries have used their political power to improve living standards.",
         "_deepnote_index_column": 4567
        },
        {
         "sentences": "Forcing leaders to step down in the middle of economic reforms seems counterproductive.",
         "_deepnote_index_column": 4568
        },
        {
         "sentences": "These are not far-fetched ideas.",
         "_deepnote_index_column": 4569
        },
        {
         "sentences": "Today, leaders in Rwanda, which is widely considered an African success story, have improved stability by moving away from the Washington Consensus approach to governance.",
         "_deepnote_index_column": 4570
        },
        {
         "sentences": "Politically, Rwanda is strong, disciplined, and organized, but it is not liberal.",
         "_deepnote_index_column": 4571
        },
        {
         "sentences": "The landslide reelection of President Paul Kagame last year had more to do with power than democracy.",
         "_deepnote_index_column": 4572
        },
        {
         "sentences": "Although Kagame remains popular, his government was criticized for stifling free speech and human rights in the run-up to the vote.",
         "_deepnote_index_column": 4573
        },
        {
         "sentences": "The conclusion I draw is not that human rights don’t matter, but that political discipline and imperfect forms of democracy are acceptable if the tradeoff is sustained progress in economic and institutional governance.",
         "_deepnote_index_column": 4574
        },
        {
         "sentences": "We should be intellectually honest and call a spade a spade.",
         "_deepnote_index_column": 4575
        },
        {
         "sentences": "Rwandans should not be ashamed to value economic and administrative strength more than fair elections.",
         "_deepnote_index_column": 4576
        },
        {
         "sentences": "The question for other African states seeking to reform their governance models, then, is how much of Rwanda’s approach to emulate.",
         "_deepnote_index_column": 4577
        },
        {
         "sentences": "Neither the Washington Consensus nor the Beijing Model has all the answers.",
         "_deepnote_index_column": 4578
        },
        {
         "sentences": "But, as Rwanda has demonstrated, if discipline and strong leadership are improving lives and delivering public goods, perhaps liberal democracy should be a long-term priority.",
         "_deepnote_index_column": 4579
        },
        {
         "sentences": "Africa’s Green Energy Opportunity\nABUJA – Climate change confronts developing countries with a dilemma.",
         "_deepnote_index_column": 4580
        },
        {
         "sentences": "On one hand, they are particularly vulnerable to its effects, giving them a strong interest in the global reduction of greenhouse-gas emissions.",
         "_deepnote_index_column": 4581
        },
        {
         "sentences": "On the other hand, they are in desperate need of energy, with some 1.3 billion people around the world – and two out of three Africans – currently lacking access to electricity.",
         "_deepnote_index_column": 4582
        },
        {
         "sentences": "In the past, the solutions to these imperatives would have been at odds with each other.",
         "_deepnote_index_column": 4583
        },
        {
         "sentences": "Providing more people with access to electricity would have necessitated emitting more greenhouse gases, aggravating the consequences of climate change.",
         "_deepnote_index_column": 4584
        },
        {
         "sentences": "Fortunately, the economics of energy has shifted significantly in recent years.",
         "_deepnote_index_column": 4585
        },
        {
         "sentences": "It is now possible to expand access to energy in developing countries while also limiting emissions – if investments are channeled into clean energy.",
         "_deepnote_index_column": 4586
        },
        {
         "sentences": "In 2013, roughly $1.6 trillion was invested in energy infrastructure worldwide, with about 70% going to systems that depend on burning fossil fuels and the rest going to clean energy.",
         "_deepnote_index_column": 4587
        },
        {
         "sentences": "Fortunately, these percentages are starting to change; with the right policies, they could be reversed.",
         "_deepnote_index_column": 4588
        },
        {
         "sentences": "If investment in clean energy can be raised to at least $1 trillion per year by 2030, it will be possible to provide energy access to those most in need while cutting annual carbon-dioxide emissions by 5.5-7.5 gigatons – roughly what the United States emits in a year today.",
         "_deepnote_index_column": 4589
        },
        {
         "sentences": "Already, investments in clean energy are soaring as the cost of producing it plunges.",
         "_deepnote_index_column": 4590
        },
        {
         "sentences": "In many places, solar and wind energy are now competitive with fossil fuels.",
         "_deepnote_index_column": 4591
        },
        {
         "sentences": "As prices continue to fall and technologies mature, each dollar invested produces more power.",
         "_deepnote_index_column": 4592
        },
        {
         "sentences": "The $270 billion invested in renewable energy in 2014 created 36% more generating capacity than the $279 billion invested in 2011.",
         "_deepnote_index_column": 4593
        },
        {
         "sentences": "Thanks to this trend, the installation of capacity for the production of renewable energy exceeded that for fossil-fuel-based production for the first time ever in 2013.",
         "_deepnote_index_column": 4594
        },
        {
         "sentences": "The costs of off-grid electricity are also falling, providing exciting new opportunities to provide affordable and reliable power to rural communities.",
         "_deepnote_index_column": 4595
        },
        {
         "sentences": "Solar photovoltaic modules, which are about 80% cheaper now than they were in 2008, can be used in isolated locations.",
         "_deepnote_index_column": 4596
        },
        {
         "sentences": "And new developments in battery technology, together with declining manufacturing costs, are expanding the availability of off-grid energy storage.",
         "_deepnote_index_column": 4597
        },
        {
         "sentences": "And yet, despite these advances, the transition to clean energy is not happening fast enough.",
         "_deepnote_index_column": 4598
        },
        {
         "sentences": "At the current rate of change, the total share of global electricity production from renewable sources will reach just 20% by 2030.",
         "_deepnote_index_column": 4599
        },
        {
         "sentences": "That is less than half the 41% target that the International Energy Agency recommends if the world is to avert global warming of more than two degrees Celsius during this century.",
         "_deepnote_index_column": 4600
        },
        {
         "sentences": "Africa, where much of the energy infrastructure is being built from scratch, could take the lead in renewable energy production.",
         "_deepnote_index_column": 4601
        },
        {
         "sentences": "Indeed, the International Renewable Energy Agency estimates that the continent’s potential for wind and solar power alone amounts to more than 1.5 trillion gigawatt hours a year.",
         "_deepnote_index_column": 4602
        },
        {
         "sentences": "But if this opportunity is to be seized and the clean-energy transition accelerated, a series of institutional bottlenecks must be removed.",
         "_deepnote_index_column": 4603
        },
        {
         "sentences": "Governments must put in place stable and supportive policies and regulations, reduce investment risks in the sector, and properly price clean energy.",
         "_deepnote_index_column": 4604
        },
        {
         "sentences": "Steps should include the elimination of fossil-fuel subsidies, setting a price for CO2 emissions, and improving the governance of electricity markets.",
         "_deepnote_index_column": 4605
        },
        {
         "sentences": "Meanwhile, multilateral and national development banks should increase funding for climate-related investments, shift resources away from projects that imply a large carbon footprint, and coordinate stakeholders and investors, so that risks can be mitigated and private-sector finance can be attracted.",
         "_deepnote_index_column": 4606
        },
        {
         "sentences": "Cooperation between the public and private sector can improve the risk-reward profile of low-carbon energy projects.",
         "_deepnote_index_column": 4607
        },
        {
         "sentences": "Companies have a clear stake in low-carbon infrastructure, as climate change poses substantial risks for global supply chains.",
         "_deepnote_index_column": 4608
        },
        {
         "sentences": "The private sector can shift investment toward renewables through new financial instruments like credit guarantees and currency swaps, co-investment funds, and green bond markets.",
         "_deepnote_index_column": 4609
        },
        {
         "sentences": "The change is already underway: issuances of green bonds more than tripled between 2013 and 2014, to more than $35 billion worldwide.",
         "_deepnote_index_column": 4610
        },
        {
         "sentences": "Developing countries no longer have to choose between energy production and sustainability.",
         "_deepnote_index_column": 4611
        },
        {
         "sentences": "Affordable solutions to both problems are within reach, and much of the world – particularly Africa – has a unique opportunity to leapfrog to the next generation of electricity generation.",
         "_deepnote_index_column": 4612
        },
        {
         "sentences": "As the international community works this year to address the challenges of climate change and promote sustainable development, efforts to expand access to clean energy should be placed near the top of the agenda.",
         "_deepnote_index_column": 4613
        },
        {
         "sentences": "Africa’s Growing War on Corruption\nNAIROBI – To the chagrin of most Africans, the world has long viewed their continent through the prism of the three “Cs” – conflict, contagion, and corruption.",
         "_deepnote_index_column": 4614
        },
        {
         "sentences": "Yet the first two are anything but general.",
         "_deepnote_index_column": 4615
        },
        {
         "sentences": "Civil war is confined mainly to particular regions – for example, South Sudan or the Democratic Republic of Congo.",
         "_deepnote_index_column": 4616
        },
        {
         "sentences": "And Ebola in West Africa spread more to Europe and the United States than to the rest of the continent.",
         "_deepnote_index_column": 4617
        },
        {
         "sentences": "But the third, corruption, has been universal, blighting almost every country.",
         "_deepnote_index_column": 4618
        },
        {
         "sentences": "There are, however, encouraging glimmers of change.",
         "_deepnote_index_column": 4619
        },
        {
         "sentences": "If they grow and spread, Africa’s fortunes could brighten considerably.",
         "_deepnote_index_column": 4620
        },
        {
         "sentences": "Begin in Rwanda.",
         "_deepnote_index_column": 4621
        },
        {
         "sentences": "As President Paul Kagame advances a constitutional amendment to seek a third term in office, Western diplomats mutter darkly about the making of yet another African autocrat.",
         "_deepnote_index_column": 4622
        },
        {
         "sentences": "Visit the place, however, and you find a thriving country.",
         "_deepnote_index_column": 4623
        },
        {
         "sentences": "In most of Africa, a traffic stop means a bribe; in Rwanda, both the officer and the motorist would land in jail.",
         "_deepnote_index_column": 4624
        },
        {
         "sentences": "Government institutions work remarkably transparently, and the rule of law is real.",
         "_deepnote_index_column": 4625
        },
        {
         "sentences": "One Saturday a month, Kagame and citizens alike turn out to sweep the streets – a metaphor not lost on the global anti-corruption watchdog Transparency International, which ranks Rwanda as Africa’s cleanest country.",
         "_deepnote_index_column": 4626
        },
        {
         "sentences": "Now consider Nigeria, the continent’s largest oil producer.",
         "_deepnote_index_column": 4627
        },
        {
         "sentences": "By some estimates, previous rulers stole some 3% of the country’s GDP every year.",
         "_deepnote_index_column": 4628
        },
        {
         "sentences": "Those billions of petro-dollars could have built a modern Nigeria of good roads, hospitals, and schools.",
         "_deepnote_index_column": 4629
        },
        {
         "sentences": "Instead, the money went into a small elite’s mansions, cars, and foreign bank accounts.",
         "_deepnote_index_column": 4630
        },
        {
         "sentences": "Now a new president is rewriting the rules.",
         "_deepnote_index_column": 4631
        },
        {
         "sentences": "Since taking office in May, Muhammadu Buhari (like Kagame, a former soldier) has launched a concerted offensive against high-level corruption.",
         "_deepnote_index_column": 4632
        },
        {
         "sentences": "In November, two top officials were charged in a $2 billion scam to buy fighter jets, helicopters, and ammunition that were never delivered.",
         "_deepnote_index_column": 4633
        },
        {
         "sentences": "In October, the former oil minister and the chief of the national petroleum company were arrested.",
         "_deepnote_index_column": 4634
        },
        {
         "sentences": "Suddenly, personal austerity is all the rage.",
         "_deepnote_index_column": 4635
        },
        {
         "sentences": "Sales of Mercedes-Benzes and Rolls-Royces have tanked.",
         "_deepnote_index_column": 4636
        },
        {
         "sentences": "Ostentatious luxury villas go unsold.",
         "_deepnote_index_column": 4637
        },
        {
         "sentences": "Whether such reforms can go deep enough to make a difference depends partly on whether they gain traction elsewhere.",
         "_deepnote_index_column": 4638
        },
        {
         "sentences": "Here, too, there are propitious signs.",
         "_deepnote_index_column": 4639
        },
        {
         "sentences": "The president of tiny Benin, also in West Africa, recently apologized after corrupt officials made off with a $4 million foreign grant.",
         "_deepnote_index_column": 4640
        },
        {
         "sentences": "Senegal is mounting its own anti-corruption campaign.",
         "_deepnote_index_column": 4641
        },
        {
         "sentences": "And nowhere is drawing as much attention than Tanzania, where newly elected President John Pombe Magufuli has set a rare standard for leadership.",
         "_deepnote_index_column": 4642
        },
        {
         "sentences": "After visiting a hospital where patients lay in corridors, Magufuli downsized an opulent dinner marking the opening of parliament and spent the money on hospital beds.",
         "_deepnote_index_column": 4643
        },
        {
         "sentences": "He also canceled Independence Day celebrations and put the savings into stemming a cholera outbreak.",
         "_deepnote_index_column": 4644
        },
        {
         "sentences": "He banned business-class travel and expensive government retreats, sacked allegedly corrupt senior officials, and began streamlining complicated regulations that crooked bureaucrats exploited to extract hefty bribes.",
         "_deepnote_index_column": 4645
        },
        {
         "sentences": "In East Africa, where Twitter is popular, users are pressing their own governments to act with hashtags like #WhatWouldMagufuliDo?",
         "_deepnote_index_column": 4646
        },
        {
         "sentences": "That question is most salient in Kenya, the face of a rising Africa – and the continent’s third most corrupt country, according to Transparency International, surpassed only by two near-failed states, Liberia and Sierra Leone\nEvery day brings sensational news of mind-boggling plunder: pens and photocopiers purchased at many multiples of their market price; millions paid out to bogus contractors for phantom services; and state industrial plants simply disappearing – stripped and sold off as scrap by their executives.",
         "_deepnote_index_column": 4647
        },
        {
         "sentences": "Half of a recent $2.5 billion Eurobond issue has reportedly gone missing.",
         "_deepnote_index_column": 4648
        },
        {
         "sentences": "Members of parliament, among the world’s highest paid, unabashedly pad expenses and take expensive junkets, while neutering government investigative agencies and prohibiting journalists from casting lawmakers in a bad light.",
         "_deepnote_index_column": 4649
        },
        {
         "sentences": "The good news is that many of these revelations come from government inspectors and reformers bent on change.",
         "_deepnote_index_column": 4650
        },
        {
         "sentences": "They have been encouraged by President Uhuru Kenyatta, who has launched Kenya’s most ambitious good-governance campaign ever.",
         "_deepnote_index_column": 4651
        },
        {
         "sentences": "In the last few weeks, Kenyatta, a son of Kenya’s first president, fired a third of his cabinet, in his own words, “to curb rampant corruption.”\nPolice have raided senior officials’ houses, confiscating bags of cash in at least one instance, and the government has set reference prices for public procurement, established special corruption courts, and instituted so-called “lifestyle” audits of leading officeholders.",
         "_deepnote_index_column": 4652
        },
        {
         "sentences": "Kenyans are skeptical.",
         "_deepnote_index_column": 4653
        },
        {
         "sentences": "Corruption is too endemic, and the criminal cartels are too powerful, for brave talk to make a dent.",
         "_deepnote_index_column": 4654
        },
        {
         "sentences": "Yet progress must start somewhere, and now is the moment for Kenya’s international friends to step up.",
         "_deepnote_index_column": 4655
        },
        {
         "sentences": "In July, US President Barack Obama signed a pact to help Kenya in its war on corruption.",
         "_deepnote_index_column": 4656
        },
        {
         "sentences": "As with bilateral cooperation to fight terrorism, the pact focuses on illicit financial flows, in addition to the recovery of stolen assets.",
         "_deepnote_index_column": 4657
        },
        {
         "sentences": "The US has since imposed an entry ban on an unspecified number of public officials.",
         "_deepnote_index_column": 4658
        },
        {
         "sentences": "European countries should follow suit, in Kenya and elsewhere.",
         "_deepnote_index_column": 4659
        },
        {
         "sentences": "Nigeria’s President Buhari has urged the international community to crack down on the safe havens where corrupt leaders stash stolen wealth.",
         "_deepnote_index_column": 4660
        },
        {
         "sentences": "Freezing the foreign holdings of officials under investigation would be a big step.",
         "_deepnote_index_column": 4661
        },
        {
         "sentences": "So would local confiscation of purloined assets.",
         "_deepnote_index_column": 4662
        },
        {
         "sentences": "Kenya is expected to do so soon.",
         "_deepnote_index_column": 4663
        },
        {
         "sentences": "Most important is ending the culture of impunity.",
         "_deepnote_index_column": 4664
        },
        {
         "sentences": "A forthcoming survey of Kenyan youth conducted by the East African Institute at Aga Khan University found a startling “integrity deficit.”\nHalf of the respondents believe that how one earns money is irrelevant, and a third said they would readily give or take a bribe.",
         "_deepnote_index_column": 4665
        },
        {
         "sentences": "Three-quarters would not report corruption, fearing retribution.",
         "_deepnote_index_column": 4666
        },
        {
         "sentences": "Changing that mindset is crucial.",
         "_deepnote_index_column": 4667
        },
        {
         "sentences": "Corruption will never be wiped out in Africa or anywhere else.",
         "_deepnote_index_column": 4668
        },
        {
         "sentences": "But it should be an aberration, not an absolute.",
         "_deepnote_index_column": 4669
        },
        {
         "sentences": "Africa Is the Last Frontier for Global Growth\nNEW HAVEN – Africa today accounts for around 17% of the world’s population, but only about 3% of global GDP.",
         "_deepnote_index_column": 4670
        },
        {
         "sentences": "These statistics not only attest to a failure to tap the continent’s developmental potential, but also highlight the tremendous opportunities and risks ahead.",
         "_deepnote_index_column": 4671
        },
        {
         "sentences": "As long as Africa continues to lag economically, it will be a source of global instability and extremism.",
         "_deepnote_index_column": 4672
        },
        {
         "sentences": "But if it rises, it could be one of the major sources of growth for the world.",
         "_deepnote_index_column": 4673
        },
        {
         "sentences": "Project Syndicate commentators have once again shared some of their favorite books from the past year.",
         "_deepnote_index_column": 4674
        },
        {
         "sentences": "From economics, history, and long-form reporting to poetry and timely re-issues of old classics, all readers should find something of interest.",
         "_deepnote_index_column": 4675
        },
        {
         "sentences": "Africa is no stranger to suffering.",
         "_deepnote_index_column": 4676
        },
        {
         "sentences": "The continent has been ravaged by slavers, plundered by colonizers, exploited by world powers during the Cold War, and ravaged by the post-colonial conflicts leaving a legacy of relentless volatility, horrific violence, and widespread poverty.",
         "_deepnote_index_column": 4677
        },
        {
         "sentences": "Consider the atrocities committed by King Leopold II of Belgium in the so-called Congo Free State (today the Democratic Republic of the Congo, DRC) in the late 1890s, as he looted the country’s ivory and rubber.",
         "_deepnote_index_column": 4678
        },
        {
         "sentences": "As Adam Hochschild recounts in his book King Leopold’s Ghost, a young Edmund Morel, who witnessed Leopold’s plunder for profit, described the forced labor, “directed by the [king’s] closest associates,” as “terrible and continuous.”\nWomen were abducted and raped.",
         "_deepnote_index_column": 4679
        },
        {
         "sentences": "Men were enslaved and worked to death.",
         "_deepnote_index_column": 4680
        },
        {
         "sentences": "Resisters risked death, and their hands would be severed – while they were still alive – as proof of punishment.",
         "_deepnote_index_column": 4681
        },
        {
         "sentences": "And with nobody left to cultivate or find food, millions suffered near-famine and died of diseases that they might have survived otherwise.",
         "_deepnote_index_column": 4682
        },
        {
         "sentences": "“It must be bad enough to stumble upon a murder,” recalled Morel.",
         "_deepnote_index_column": 4683
        },
        {
         "sentences": "“I had stumbled upon a secret society of murderers with a King for a croniman.”\nWell over a century later, the DRC still struggles to maintain peace and stability, let alone secure growth and development.",
         "_deepnote_index_column": 4684
        },
        {
         "sentences": "Indeed, all of Central Africa has suffered from seemingly unremitting conflicts – a dynamic that, since the end of the Cold War, “developed into an avalanche of killing and destruction,” as the regional analyst and advocate Kris Berwouts put it a decade ago.",
         "_deepnote_index_column": 4685
        },
        {
         "sentences": "Approximately six million people died as a direct or indirect consequence of the two wars in the DRC – in 1996-1997 and 1998-2002 – which followed the brutal genocide in Rwanda.",
         "_deepnote_index_column": 4686
        },
        {
         "sentences": "Yet, in spite of this history, Africa has managed to make important gains in recent decades.",
         "_deepnote_index_column": 4687
        },
        {
         "sentences": "In Sub-Saharan Africa, GDP growth has averaged 5% per year since 2000.",
         "_deepnote_index_column": 4688
        },
        {
         "sentences": "For the entire continent, the rate is only slightly lower.",
         "_deepnote_index_column": 4689
        },
        {
         "sentences": "Enjoy unlimited access to the ideas and opinions of the world's leading thinkers, including weekly long reads, book reviews, and interviews; The Year Ahead annual print magazine; the complete PS archive; and more – All for less than $9 a month.",
         "_deepnote_index_column": 4690
        },
        {
         "sentences": "Moreover, according to a 2019 World Bank report, poverty in Africa (defined as income of less than $1.90 per day) declined from 54% in 1990 to just over 41% – affecting around 400 million people – in 2015.",
         "_deepnote_index_column": 4691
        },
        {
         "sentences": "If the economy continues to grow at today’s rate through 2030, the continent’s poverty rate will decline to 23%.",
         "_deepnote_index_column": 4692
        },
        {
         "sentences": "Given rates of poverty reduction elsewhere in the world, however, this would still represent a rising share of global poverty.",
         "_deepnote_index_column": 4693
        },
        {
         "sentences": "Africa has the potential to go much further.",
         "_deepnote_index_column": 4694
        },
        {
         "sentences": "The world’s youngest and fastest-urbanizing continent, Africa will have 24 million more people, on average, living in its cities each year between 2015 and 2045 – more than India and China combined – according to a 2016 McKinsey & Company estimate.",
         "_deepnote_index_column": 4695
        },
        {
         "sentences": "This implies major increases in consumption.",
         "_deepnote_index_column": 4696
        },
        {
         "sentences": "Already, spending by consumers and businesses in Africa totals $4 trillion.",
         "_deepnote_index_column": 4697
        },
        {
         "sentences": "Household consumption is expected to grow by 3.8% annually until 2025, reaching $2.1 trillion, and business spending should grow from $2.6 trillion in 2015 to $3.5 trillion in 2025.",
         "_deepnote_index_column": 4698
        },
        {
         "sentences": "Altogether, the McKinsey report predicts $5.6 trillion in African business opportunities by 2025.",
         "_deepnote_index_column": 4699
        },
        {
         "sentences": "Some of these opportunities lie in agriculture: if Africa, which possesses 60% of the world’s uncultivated arable land, intensified its agricultural productivity, it could produce 2-3 times more cereals and grains, with similar increases in horticulture crops and livestock.",
         "_deepnote_index_column": 4700
        },
        {
         "sentences": "Other opportunities lie in infrastructure: as of 2010, Africa still needed at least $46 billion in additional spending each year to upgrade its energy, water, and transportation networks.",
         "_deepnote_index_column": 4701
        },
        {
         "sentences": "Of course, some valuable investment opportunities also involve Africa’s abundant natural resources, which include 10% of the world’s oil reserves, 40% of its gold, and 80% of its platinum.",
         "_deepnote_index_column": 4702
        },
        {
         "sentences": "But the importance of such resources to Africa’s future prosperity shouldn’t be overestimated.",
         "_deepnote_index_column": 4703
        },
        {
         "sentences": "According to a 2019 Goldman Sachs economic research report, commodities have accounted for only around 30% of Africa’s GDP growth since 2000.",
         "_deepnote_index_column": 4704
        },
        {
         "sentences": "In fact, the report concludes, the drivers of Africa’s “secular acceleration” appear to be “deep and structural.”\nThis reflects success, which needs to be reinforced from now on by continuing to strengthen institutions, support political stability, promote democratization, enhance policy coordination, improve ease of doing business, reduce debt, open financial markets, attract foreign direct investment, facilitate technology transfers, and nurture human capital (such as through education and health care).",
         "_deepnote_index_column": 4705
        },
        {
         "sentences": "Some countries – particularly the smaller economies of East Africa – are already demonstrating how powerful such reforms can be.",
         "_deepnote_index_column": 4706
        },
        {
         "sentences": "If the entire continent took this approach, sustaining and accelerating the needed reforms over the next half-century, some believe that Africa could emulate China’s rapid rise of the last 50 years.",
         "_deepnote_index_column": 4707
        },
        {
         "sentences": "But not everyone is optimistic about Africa’s ability to fulfill its promise.",
         "_deepnote_index_column": 4708
        },
        {
         "sentences": "Some doubt that the continent will manage to overcome its legacy of slavery, colonialism, and great-power competition.",
         "_deepnote_index_column": 4709
        },
        {
         "sentences": "There are also concerns about the global economic landscape, especially trade tensions between the United States and China, and the attendant effects on growth and commodity prices.",
         "_deepnote_index_column": 4710
        },
        {
         "sentences": "Much will hinge on the performance of Africa’s largest economies – Egypt, Nigeria, and South Africa – and progress on making the African Continental Free Trade Area a functioning regional economic bloc.",
         "_deepnote_index_column": 4711
        },
        {
         "sentences": "If Africa succeeds, it could lift millions of its own out of poverty, while serving as a stable and prosperous economic partner for the rest of the world.",
         "_deepnote_index_column": 4712
        },
        {
         "sentences": "Otherwise, the continent will remain constrained by poverty, institutional lethargy, and corruption, which will feed instability, and possibly spill over to the rest of the world.",
         "_deepnote_index_column": 4713
        },
        {
         "sentences": "Africa will soon to be home to one-fifth of the global population.",
         "_deepnote_index_column": 4714
        },
        {
         "sentences": "The world would sleep easier if the continent could put itself on the road to growth and prosperity.",
         "_deepnote_index_column": 4715
        },
        {
         "sentences": "Investing in Africans’ Health\nLOMÉ – Africa’s health sector represents a massive investment opportunity, estimated by the United Nations Economic Commission for Africa to be worth $66 billion annually.",
         "_deepnote_index_column": 4716
        },
        {
         "sentences": "Yet African leaders and donors continue to discuss Africa’s health-care systems in terms of funding gaps.",
         "_deepnote_index_column": 4717
        },
        {
         "sentences": "In fact, those gaps will close only when Africa is viewed as an investment destination, not a foreign-aid recipient.",
         "_deepnote_index_column": 4718
        },
        {
         "sentences": "Following its targeted killing of Iran's second most powerful leader, the US could well find itself with no alternative but to devote more military resources to the Middle East, a path that could lead to additional Iranian provocations.",
         "_deepnote_index_column": 4719
        },
        {
         "sentences": "And that shift would occur at a time of growing challenges to US interests elsewhere in the world.",
         "_deepnote_index_column": 4720
        },
        {
         "sentences": "The targeted killing by the United States of one of Iran's top military leaders represents a significant symbolic defeat for the Iranian regime, but it does not augur all-out war.",
         "_deepnote_index_column": 4721
        },
        {
         "sentences": "After all, Iran and the US have already been at war for decades, and neither side has an interest in an uncontrolled military escalation now.",
         "_deepnote_index_column": 4722
        },
        {
         "sentences": "As in previous years, Project Syndicate asked its commentators to offer their best guesses about the events and trends that will define the coming 12 months.",
         "_deepnote_index_column": 4723
        },
        {
         "sentences": "If there is one common theme in this year's selection, it is that what happens in 2020 will weigh on the present for many years to come.",
         "_deepnote_index_column": 4724
        },
        {
         "sentences": "A strong health-care system is a prerequisite for economic development.",
         "_deepnote_index_column": 4725
        },
        {
         "sentences": "But the development aid to Africa that is designated for health is not predictable enough to sustain the kinds of long-term investments that are needed.",
         "_deepnote_index_column": 4726
        },
        {
         "sentences": "Importing pharmaceuticals, for example, costs Africa an estimated $14 billion annually.",
         "_deepnote_index_column": 4727
        },
        {
         "sentences": "Creating the conditions for local pharmaceutical manufacturing would not only slash that bill; it would also result in the creation of 16 million jobs.",
         "_deepnote_index_column": 4728
        },
        {
         "sentences": "(This is yet another reason to support the African Continental Free Trade Area, AfCFTA.)",
         "_deepnote_index_column": 4729
        },
        {
         "sentences": "Yet aid is often promised according to three-year timelines, with no guarantee that it will actually be delivered when needed to fund planned programs.",
         "_deepnote_index_column": 4730
        },
        {
         "sentences": "Of course, domestic public resources could be used for this purpose.",
         "_deepnote_index_column": 4731
        },
        {
         "sentences": "But low economic growth and high debt-servicing costs have left many African governments with limited fiscal space.",
         "_deepnote_index_column": 4732
        },
        {
         "sentences": "Yet, with a greater focus on improving tax collection, Africans stand a better chance of increasing their domestic revenues.",
         "_deepnote_index_column": 4733
        },
        {
         "sentences": "And budgets are often subject to shifting political leadership and priorities, which can preclude consistent, long-term investment.",
         "_deepnote_index_column": 4734
        },
        {
         "sentences": "The result is that health-care spending in Africa is woefully inadequate.",
         "_deepnote_index_column": 4735
        },
        {
         "sentences": "In 2015, the continent accounted for just 2% of the $9.7 trillion in global health-care spending, even though it represents 16% of the global population and 26% of the global disease burden.",
         "_deepnote_index_column": 4736
        },
        {
         "sentences": "Increasing health-care spending in Africa is not a matter of ramping up aid; the limits of external generosity are clearly already being reached.",
         "_deepnote_index_column": 4737
        },
        {
         "sentences": "Rather, it is about getting private actors – especially Africans – to seize the relevant business opportunities.",
         "_deepnote_index_column": 4738
        },
        {
         "sentences": "The scale of those opportunities should not be underestimated.",
         "_deepnote_index_column": 4739
        },
        {
         "sentences": "Rapid population growth, coupled with longer life expectancy, means that countries’ health-care needs will skyrocket in the coming years.",
         "_deepnote_index_column": 4740
        },
        {
         "sentences": "By 2030, 14% of business opportunities in global health are expected to be in Africa, and the continent’s health and wellbeing markets will be worth $259 billion.",
         "_deepnote_index_column": 4741
        },
        {
         "sentences": "Meeting the health-care needs of a growing African population – and thereby ensuring that the continent has a healthy workforce to drive economic transformation – will require funding that is more predictable and sustainable, guided by reliable long-term strategies.",
         "_deepnote_index_column": 4742
        },
        {
         "sentences": "Here, the African diaspora should take the lead.",
         "_deepnote_index_column": 4743
        },
        {
         "sentences": "As it stands, health-care spending funded by money from the African diaspora is more likely to be used to pay the medical bills of a sick relative (or, more broadly, on consumption) than to be invested in strengthening the system.",
         "_deepnote_index_column": 4744
        },
        {
         "sentences": "Such investment would require pooling and channeling resources (via trusted intermediaries) toward projects that can meet the needs of entire communities at any given moment.",
         "_deepnote_index_column": 4745
        },
        {
         "sentences": "And this presupposes a shift in focus from top-down solutions to the development of resilient systems that start at the community level.",
         "_deepnote_index_column": 4746
        },
        {
         "sentences": "For example, two million community health workers will be needed by 2020 to ensure that every African has access to quality care.",
         "_deepnote_index_column": 4747
        },
        {
         "sentences": "This is not a new solution; community health workers were key to the health care received by my own parents in Côte d’Ivoire in the 1950s.",
         "_deepnote_index_column": 4748
        },
        {
         "sentences": "But predictable funding is needed to build a system that can meet today’s health-care needs, while creating two million jobs.",
         "_deepnote_index_column": 4749
        },
        {
         "sentences": "Other targeted investments include disease management, a market estimated to be worth $14 billion, and remote patient monitoring, estimated to be worth $15 billion.",
         "_deepnote_index_column": 4750
        },
        {
         "sentences": "The more stable the investment environment is, the more willing private-sector actors will be to fund the kinds of large-scale interventions needed to unlock Africa’s productive potential.",
         "_deepnote_index_column": 4751
        },
        {
         "sentences": "Establishing special economic zones, which have been successful in countries like Ethiopia, will further boost predictability and confidence, driving further progress.",
         "_deepnote_index_column": 4752
        },
        {
         "sentences": "As leaders gear up for the World Health Organization’s 72nd World Health Assembly in Geneva this month, it is worth highlighting the limits of donor-driven development in Africa.",
         "_deepnote_index_column": 4753
        },
        {
         "sentences": "To lay the foundations for economic transformation – including by implementing AfCFTA – Africans at home and abroad must step up.",
         "_deepnote_index_column": 4754
        },
        {
         "sentences": "In the long term, the economist John Maynard Keynes reminded us, we are all dead.",
         "_deepnote_index_column": 4755
        },
        {
         "sentences": "But long-term health investment is for the living.",
         "_deepnote_index_column": 4756
        },
        {
         "sentences": "It means that those whose lives are just beginning will be able to build a more prosperous future and ensure that future generations, too, enjoy longer, healthier, more productive lives.",
         "_deepnote_index_column": 4757
        },
        {
         "sentences": "Health Coverage Must Not Ignore Africa’s Elderly\nDAR ES SALAAM – My grandmother is 76, and my grandfather is 83.",
         "_deepnote_index_column": 4758
        },
        {
         "sentences": "They have lived fruitful lives together, cultivating crops and grazing cattle in a remote village in the hills of southwest Uganda.",
         "_deepnote_index_column": 4759
        },
        {
         "sentences": "But whenever I think of them, I am more in awe of their good health than their hard work.",
         "_deepnote_index_column": 4760
        },
        {
         "sentences": "Because of the remoteness of their community, anytime my grandparents need medical care, they must travel 25 miles to the nearest hospital on motorcycles known as boda-bodas, paying about 50,000 Ugandan shillings (about $13) for the round-trip journey.",
         "_deepnote_index_column": 4761
        },
        {
         "sentences": "Then, because they were recently dropped from their health-insurance plan due to age, they must cough up more money to foot the bill for treatment.",
         "_deepnote_index_column": 4762
        },
        {
         "sentences": "In other words, for my grandparents – and for many older Africans – a visit to the doctor is onerous, costly, and exceedingly rare.",
         "_deepnote_index_column": 4763
        },
        {
         "sentences": "Access to health care is an obsession for experts in international development.",
         "_deepnote_index_column": 4764
        },
        {
         "sentences": "In May, at the World Health Organization’s annual World Health Assembly, officials from dozens of countries discussed how to achieve universal health coverage through the United Nations Sustainable Development Goals.",
         "_deepnote_index_column": 4765
        },
        {
         "sentences": "And yet, most of the attention centered on mothers, newborns, and children; elderly populations in developing countries were largely ignored.",
         "_deepnote_index_column": 4766
        },
        {
         "sentences": "Failure to address this omission would leave an increasing share of the population without access to affordable health care.",
         "_deepnote_index_column": 4767
        },
        {
         "sentences": "According to the World Bank, life expectancy in Sub-Saharan Africa has risen steadily in recent decades, from just 40 years in 1960 to 60 years today.",
         "_deepnote_index_column": 4768
        },
        {
         "sentences": "If this trend continues, the number of Africans living past their 60th birthday will more than double by 2050.",
         "_deepnote_index_column": 4769
        },
        {
         "sentences": "This is of course good news; longevity is a key indicator of human development.",
         "_deepnote_index_column": 4770
        },
        {
         "sentences": "But Africa’s elder boom will be a disaster if living longer means living sicker because of inadequate health care.",
         "_deepnote_index_column": 4771
        },
        {
         "sentences": "In Uganda, many rural health-care centers lack the personnel, supplies, and infrastructure to meet the needs of older patients.",
         "_deepnote_index_column": 4772
        },
        {
         "sentences": "Small clinics typically refer their oldest patients to the closest big hospital, which is often many miles away.",
         "_deepnote_index_column": 4773
        },
        {
         "sentences": "Traveling by motorcycle over rough terrain can worsen health conditions; but with no other options, the frail must choose between a bumpy ride on the back of a bike and no treatment at all.",
         "_deepnote_index_column": 4774
        },
        {
         "sentences": "It’s hard to blame those who opt for the latter.",
         "_deepnote_index_column": 4775
        },
        {
         "sentences": "According to a 2010 survey by doctors at the Mulago National Referral Hospital in Kampala, boda-bodas are Uganda’s leading cause of road-related injuries.",
         "_deepnote_index_column": 4776
        },
        {
         "sentences": "During the survey period, motorcycle passengers accounted for 41% of the hospital’s 1,500 trauma cases, and riders’ injuries consumed 62.5% of the hospital’s surgery budget.",
         "_deepnote_index_column": 4777
        },
        {
         "sentences": "Given the dangers of travel, it is no wonder that my grandparents are reluctant to seek medical care.",
         "_deepnote_index_column": 4778
        },
        {
         "sentences": "Of course, the biggest obstacle to health care in Uganda – like everywhere else – is money.",
         "_deepnote_index_column": 4779
        },
        {
         "sentences": "In 2015, researchers at Makerere University found that household income is the main determinant of elderly people’s access to and use of health-care services.",
         "_deepnote_index_column": 4780
        },
        {
         "sentences": "The story is similar in the United States, where average annual health-care costs have been increasing for decades.",
         "_deepnote_index_column": 4781
        },
        {
         "sentences": "But while older patients in the US can turn to Medicare (which accounted for 15% of federal spending in 2017), the elderly in most African countries have less government support.",
         "_deepnote_index_column": 4782
        },
        {
         "sentences": "Still, a dearth of dedicated resources does not mean that Africa’s leaders must ignore their older constituents.",
         "_deepnote_index_column": 4783
        },
        {
         "sentences": "By combining elder-care services with existing programs, health benefits can be extended to underserved populations.",
         "_deepnote_index_column": 4784
        },
        {
         "sentences": "For example, single-sector initiatives, like HIV/AIDS treatment schemes, could include elderly-friendly health-care components.",
         "_deepnote_index_column": 4785
        },
        {
         "sentences": "Health-care workers who serve expectant and new mothers could also be trained to provide in-home care for the elderly in multigenerational households.",
         "_deepnote_index_column": 4786
        },
        {
         "sentences": "These types of initiatives would not require vast sums of money; rather, the most important factor in launching them is political support and effective program integration.",
         "_deepnote_index_column": 4787
        },
        {
         "sentences": "Developing countries have made considerable gains when it comes to improving health care for the young.",
         "_deepnote_index_column": 4788
        },
        {
         "sentences": "Now, we must do the same for the elderly.",
         "_deepnote_index_column": 4789
        },
        {
         "sentences": "In Uganda, the government’s national health-care strategy could easily be strengthened by adding seniors to the list of so-called vulnerable groups.",
         "_deepnote_index_column": 4790
        },
        {
         "sentences": "Integrating elder-care options into existing frameworks – such as the health extension program in Ethiopia, the community-based health program in Tanzania, and village health teams in my country – are other ways to extend coverage.",
         "_deepnote_index_column": 4791
        },
        {
         "sentences": "Finally, community health-insurance schemes must be overhauled to prevent the exclusion of poor older patients.",
         "_deepnote_index_column": 4792
        },
        {
         "sentences": "To maintain coverage and protect the elderly from financial ruin, reforms are needed to create plans that are financially sound and drawn from a larger pool of subscribers.",
         "_deepnote_index_column": 4793
        },
        {
         "sentences": "We all yearn to live long, healthy, productive lives – just as my grandparents have.",
         "_deepnote_index_column": 4794
        },
        {
         "sentences": "But without lifelong access to quality health care, longevity will be more luck than science.",
         "_deepnote_index_column": 4795
        },
        {
         "sentences": "The integrity of any society can be judged by how well it treats its youngest and oldest members.",
         "_deepnote_index_column": 4796
        },
        {
         "sentences": "That calculus applies to governments, too.",
         "_deepnote_index_column": 4797
        },
        {
         "sentences": "Africa’s Must-Do Decade\nVIENNA – Since 2000, Africa has recorded impressive rates of economic growth, owing largely to development assistance and a prolonged commodity boom.",
         "_deepnote_index_column": 4798
        },
        {
         "sentences": "While the continent shows great diversity in the socioeconomic trajectories, growth rates have generally masked an underlying lack of structural transformation.",
         "_deepnote_index_column": 4799
        },
        {
         "sentences": "Many African countries have yet to undergo the kind of transformation that is necessary for socially inclusive and environmentally sustainable development over the long term: namely, industrialization.",
         "_deepnote_index_column": 4800
        },
        {
         "sentences": "Wherever industrialization has occurred, it has reliably improved economic diversification and helped to nurture, strengthen, and uphold the conditions for competitive growth and development.",
         "_deepnote_index_column": 4801
        },
        {
         "sentences": "In recent decades, some developing countries – mainly in Asia – have managed to industrialize.",
         "_deepnote_index_column": 4802
        },
        {
         "sentences": "But, despite repeated attempts, African countries have not.",
         "_deepnote_index_column": 4803
        },
        {
         "sentences": "In 2014, the Asia and Pacific region’s share of value added in global manufacturing was 44.6%, whereas Africa’s was just 1.6%.",
         "_deepnote_index_column": 4804
        },
        {
         "sentences": "With South Africa as its only industrialized country, Sub-Saharan Africa is the least industrialized region in the world.",
         "_deepnote_index_column": 4805
        },
        {
         "sentences": "For African countries to achieve sustainable development, they will have to increase substantially the share of industry – especially manufacturing – in their national investment, output, and trade.",
         "_deepnote_index_column": 4806
        },
        {
         "sentences": "And, to their credit, most African countries already recognize that such a transformation is necessary to address a wide range of interconnected challenges that they are now confronting.",
         "_deepnote_index_column": 4807
        },
        {
         "sentences": "One such challenge is population growth.",
         "_deepnote_index_column": 4808
        },
        {
         "sentences": "More than half of the continent’s 1.2 billion people are under the age of 19, and almost one in five are between the ages of 15 and 24.",
         "_deepnote_index_column": 4809
        },
        {
         "sentences": "Each year, 12 million new workers join the labor force, and they will need the tools and skills to ensure their future livelihoods.",
         "_deepnote_index_column": 4810
        },
        {
         "sentences": "Industrialization is the key to helping Africa’s fast-growing population realize a demographic dividend.",
         "_deepnote_index_column": 4811
        },
        {
         "sentences": "A related challenge is migration.",
         "_deepnote_index_column": 4812
        },
        {
         "sentences": "Many of Africa’s most ambitious and entrepreneurially minded young people are joining others in migrating north.",
         "_deepnote_index_column": 4813
        },
        {
         "sentences": "But no country, especially in Africa, can afford to lose so much talent and potential.",
         "_deepnote_index_column": 4814
        },
        {
         "sentences": "Industrialization alone cannot resolve the migration crisis, but it can address one root cause, by creating jobs in the countries of origin.",
         "_deepnote_index_column": 4815
        },
        {
         "sentences": "A third challenge is climate change, which weighs heavily on countries where agriculture is still the primary sector for employment.",
         "_deepnote_index_column": 4816
        },
        {
         "sentences": "To confront the threat, Africa will need to develop and adopt green technologies, while channeling more investment into resource efficiency and clean energy.",
         "_deepnote_index_column": 4817
        },
        {
         "sentences": "With the right investments, African countries can reduce the cost of delivering power to rural areas, and contribute to global efforts to reduce emissions and mitigate the effects of climate change.",
         "_deepnote_index_column": 4818
        },
        {
         "sentences": "In short, Africa must industrialize, and it must do so in a socially inclusive and environmentally sustainable manner.",
         "_deepnote_index_column": 4819
        },
        {
         "sentences": "Given that most previous efforts at sustainable development in Africa have failed, there is a clear need for a new approach: a broad-based, country-owned process that taps financial and non-financial resources, promotes regional integration, and fosters cooperation among Africa’s development partners.",
         "_deepnote_index_column": 4820
        },
        {
         "sentences": "As it happens, the United Nations General Assembly has declared 2016-2025 to be the Third Industrial Development Decade for Africa.",
         "_deepnote_index_column": 4821
        },
        {
         "sentences": "During IDDA III, the United Nations Industrial Development Organization, which I lead, will spearhead the new approach to sustainable development sketched above.",
         "_deepnote_index_column": 4822
        },
        {
         "sentences": "UNIDO has put its full support behind partnerships for mobilizing resources, and is offering a tested model for African countries to follow: the Programme for Country Partnership (PCP).",
         "_deepnote_index_column": 4823
        },
        {
         "sentences": "UNIDO’s PCP provides countries with technical assistance, policy advice, and investments to help them design and implement industrialization strategies.",
         "_deepnote_index_column": 4824
        },
        {
         "sentences": "The program was launched in 2014, and is already being successfully implemented in two African countries – Ethiopia and Senegal – and in Peru.",
         "_deepnote_index_column": 4825
        },
        {
         "sentences": "The PCP provides a multi-stakeholder partnership model that can be adapted to each country’s national development agenda.",
         "_deepnote_index_column": 4826
        },
        {
         "sentences": "It is designed to work in synergy with governments and their partners’ ongoing development efforts, while funneling additional funds and investments toward sectors that have high growth potential and are important to a particular government’s industrial-development agenda.",
         "_deepnote_index_column": 4827
        },
        {
         "sentences": "Priority sectors are typically chosen for their job-creation, investment, and export potential, and for their access to necessary raw materials.",
         "_deepnote_index_column": 4828
        },
        {
         "sentences": "The PCP approach is designed to maximize the impact of all partner programs and projects that are relevant to industrial development.",
         "_deepnote_index_column": 4829
        },
        {
         "sentences": "To that end, strategic partnerships with financial institutions and the business sector are particularly important.",
         "_deepnote_index_column": 4830
        },
        {
         "sentences": "With these in place, African countries can marshal additional resources for infrastructure, innovation, expertise, and new technologies.",
         "_deepnote_index_column": 4831
        },
        {
         "sentences": "UNIDO’s goal is to make the PCP model the mainstream approach for all African countries.",
         "_deepnote_index_column": 4832
        },
        {
         "sentences": "We stand ready to support Africa on its path to inclusive and sustainable industrial development – during IDDA III and beyond.",
         "_deepnote_index_column": 4833
        },
        {
         "sentences": "Africa’s Decade of Industrialization\nVIENNA – In today’s interdependent global economy, Africa remains a weak link.",
         "_deepnote_index_column": 4834
        },
        {
         "sentences": "If the world is to achieve the Sustainable Development Goals, thereby completing the United Nations 2030 Agenda for Sustainable Development, it must help Africa accelerate its development by promoting rapid and responsible industrialization.",
         "_deepnote_index_column": 4835
        },
        {
         "sentences": "Africa is by no means destined to lag behind the rest of the world economy.",
         "_deepnote_index_column": 4836
        },
        {
         "sentences": "On the contrary, it could easily become a global economic powerhouse – and within the next decade.",
         "_deepnote_index_column": 4837
        },
        {
         "sentences": "But, to fulfill its economic potential, Africa must industrialize.",
         "_deepnote_index_column": 4838
        },
        {
         "sentences": "The importance of this has been stressed repeatedly at recent international forums, including last August’s Sixth Tokyo International Conference on African Development (TICAD VI), and the G20 summit in Hangzhou, China, the following month.",
         "_deepnote_index_column": 4839
        },
        {
         "sentences": "For the first time, the G20 placed industrialization in Africa – and all of the Least Developed Countries (LDCs) – on its agenda.",
         "_deepnote_index_column": 4840
        },
        {
         "sentences": "The African Union’s Agenda 2063 also supports this drive.",
         "_deepnote_index_column": 4841
        },
        {
         "sentences": "The recent UN General Assembly resolution declaring 2016-2025 the Third Industrial Development Decade for Africa is yet another push in this direction.",
         "_deepnote_index_column": 4842
        },
        {
         "sentences": "The organization that I represent, the UN Industrial Development Organization (UNIDO), has been tasked with operationalizing and leading the implementation of the concomitant program, including mobilizing the needed resources.",
         "_deepnote_index_column": 4843
        },
        {
         "sentences": "All of these declarations and commitments are an important first step.",
         "_deepnote_index_column": 4844
        },
        {
         "sentences": "But they will mean little unless they are translated into concrete and effective action that advances African industrialization, creates jobs, and fosters inclusive and sustainable economic growth and development.",
         "_deepnote_index_column": 4845
        },
        {
         "sentences": "The question is how.",
         "_deepnote_index_column": 4846
        },
        {
         "sentences": "The short answer is money and action.",
         "_deepnote_index_column": 4847
        },
        {
         "sentences": "We must challenge the international community and development partners to back their words with real financial commitments.",
         "_deepnote_index_column": 4848
        },
        {
         "sentences": "And we must build partnerships to operationalize programs that will enable Africa to become the world’s next main engine of economic growth.",
         "_deepnote_index_column": 4849
        },
        {
         "sentences": "Such programs must recognize and tackle the acute challenges the continent faces.",
         "_deepnote_index_column": 4850
        },
        {
         "sentences": "The economic growth experienced in recent decades has not been structurally driven, sustainable, or fully inclusive.",
         "_deepnote_index_column": 4851
        },
        {
         "sentences": "Indeed, growth rates vary widely across the continent, and not all Africans are benefiting.",
         "_deepnote_index_column": 4852
        },
        {
         "sentences": "Though the middle class in Africa has expanded markedly in recent years, generating a consumer boom and boosting domestic investment, many people still struggle to make a living.",
         "_deepnote_index_column": 4853
        },
        {
         "sentences": "Unemployment rates are high, especially for young people and women – a reality that drives many Africans to head north.",
         "_deepnote_index_column": 4854
        },
        {
         "sentences": "To keep them home, Africa’s economies must move beyond producing raw materials to build dynamic and competitive manufacturing sectors with higher value added.",
         "_deepnote_index_column": 4855
        },
        {
         "sentences": "Here, Africa must draw on the opportunities presented by participation in global and regional value chains.",
         "_deepnote_index_column": 4856
        },
        {
         "sentences": "New and innovative industrial-development strategies, as well as carefully tailored measures to attract foreign direct investment, must be introduced.",
         "_deepnote_index_column": 4857
        },
        {
         "sentences": "Of course, to develop such strategies and participate effectively in industrial value chains, Africans need knowledge.",
         "_deepnote_index_column": 4858
        },
        {
         "sentences": "Investment in education and skills training is imperative to facilitate successful and lasting industrialization.",
         "_deepnote_index_column": 4859
        },
        {
         "sentences": "By understanding and drawing on proven innovations from around the world, Africa could leapfrog more developed countries technologically, building the capacity to produce more sophisticated, higher-value goods.",
         "_deepnote_index_column": 4860
        },
        {
         "sentences": "Knowledge of other countries’ experiences will also help Africa to avoid the pitfalls of unbridled industrialization – particularly environmental damage.",
         "_deepnote_index_column": 4861
        },
        {
         "sentences": "Africa must ensure that its industrial-development strategy includes effective environmental safeguards.",
         "_deepnote_index_column": 4862
        },
        {
         "sentences": "Africa is well placed to industrialize.",
         "_deepnote_index_column": 4863
        },
        {
         "sentences": "Beyond its massive natural-resource endowments, the continent has a favorable demographic profile (its rapidly growing population means that it will soon have the world’s largest workforce) and high urbanization rates.",
         "_deepnote_index_column": 4864
        },
        {
         "sentences": "It also benefits from a highly educated diaspora.",
         "_deepnote_index_column": 4865
        },
        {
         "sentences": "But industrialization is never automatic.",
         "_deepnote_index_column": 4866
        },
        {
         "sentences": "Governments must step up to address market failures, while planning, implementing, and enforcing industrial policies that address the shortcomings of previous ineffective versions.",
         "_deepnote_index_column": 4867
        },
        {
         "sentences": "They must then institutionalize these new policies in national and regional development strategies.",
         "_deepnote_index_column": 4868
        },
        {
         "sentences": "To succeed, governments will need adequate capacity, competence, and legitimacy to mobilize and interact with all stakeholders, thereby creating an attractive investment climate.",
         "_deepnote_index_column": 4869
        },
        {
         "sentences": "The necessary reforms will open the way for public-private partnerships, which can provide investment for infrastructure development and maintenance.",
         "_deepnote_index_column": 4870
        },
        {
         "sentences": "They will also facilitate cooperation with international organizations and development finance institutions, which can provide additional funds, while helping countries to upgrade their productive capacity.",
         "_deepnote_index_column": 4871
        },
        {
         "sentences": "A recent report, prepared for the Hangzhou G20 Summit, features a number of recommendations for Africa.",
         "_deepnote_index_column": 4872
        },
        {
         "sentences": "It suggests support for agriculture and agribusiness development and linking them with other sectors, as well as measures to boost resilience to price shocks.",
         "_deepnote_index_column": 4873
        },
        {
         "sentences": "Furthermore, the report emphasizes the need to deepen, broaden, and update the local knowledge base, invest in energy- and material-resource efficiency, and promote green technologies and industries.",
         "_deepnote_index_column": 4874
        },
        {
         "sentences": "Other recommendations relate to trade and regional integration, leveraging domestic and external finance, and promoting what it calls the “New Industrial Revolution.”\nMy numerous meetings with African leaders and visits to dozens of countries across the continent have convinced me that Africa is committed to industrialization.",
         "_deepnote_index_column": 4875
        },
        {
         "sentences": "In fact, the process is already underway in many countries, including Ethiopia, Ghana, Rwanda, and Senegal.",
         "_deepnote_index_column": 4876
        },
        {
         "sentences": "By offering our commitment and support, we can enable these countries to realize inclusive and sustainable development for the benefit of everyone.",
         "_deepnote_index_column": 4877
        },
        {
         "sentences": "A Roadmap for African Industrialization\nABIDJAN – Africa is at a crossroads.",
         "_deepnote_index_column": 4878
        },
        {
         "sentences": "Six of the world’s ten fastest-growing economies are now located in the region, and the continent’s GDP is expected to grow at a rate of 4.1% this year, up from 3.6% in 2017.",
         "_deepnote_index_column": 4879
        },
        {
         "sentences": "Yet Africa’s economic growth has not been accompanied by a commensurate level of job creation, which has particularly negative implications for women and young people.",
         "_deepnote_index_column": 4880
        },
        {
         "sentences": "In fact, today’s jobless growth could even reverse the gains made in eradicating poverty in recent years.",
         "_deepnote_index_column": 4881
        },
        {
         "sentences": "The problem is that Africa’s growth, while impressive, has been volatile, because it has been driven mainly by high commodity prices, rather than by manufacturing.",
         "_deepnote_index_column": 4882
        },
        {
         "sentences": "The economic effects of this imbalance should not be underestimated.",
         "_deepnote_index_column": 4883
        },
        {
         "sentences": "Among other things, it explains why a region that produces about 75% of the world’s cocoa accounts for just 5% of the nearly $100 billion annual chocolate market.",
         "_deepnote_index_column": 4884
        },
        {
         "sentences": "Despite its vast natural resources, Africa will remain at the mercy of commodity prices and trade flows until it undertakes a profound structural transformation.",
         "_deepnote_index_column": 4885
        },
        {
         "sentences": "The time has come for Africa to unlock its true economic potential by following in the footsteps of every modern economy and undertaking the transition from agriculture to manufacturing.",
         "_deepnote_index_column": 4886
        },
        {
         "sentences": "Africa’s manufacturing sector is the weakest link in its ongoing integration into the global economy.",
         "_deepnote_index_column": 4887
        },
        {
         "sentences": "Today, primary products (raw materials) comprise 62% of Africa’s total exports, the highest share in the world.",
         "_deepnote_index_column": 4888
        },
        {
         "sentences": "At the same time, manufactured exports per capita in 2014 totaled just $218, which is among the lowest levels in the world, and far below other developing regions such as Asia ($883) and Latin America ($1,099).",
         "_deepnote_index_column": 4889
        },
        {
         "sentences": "Clearly, Africa must start catching up.",
         "_deepnote_index_column": 4890
        },
        {
         "sentences": "Fortunately, there is already a global consensus that industrialization matters, and that it is in everyone’s interest for Africa to become the global manufacturing power it ought to be.",
         "_deepnote_index_column": 4891
        },
        {
         "sentences": "With its “High 5 Agenda,” the African Development Bank (AfDB) has made industrialization a top priority.",
         "_deepnote_index_column": 4892
        },
        {
         "sentences": "Likewise, industrialization is a key component of the African Union’s “Agenda 2063.”\nAnd, in 2016, the United Nations General Assembly declared 2016-2025 the “Third Industrial Development Decade for Africa.”\nBut such pronouncements are meaningless in the absence of concrete action.",
         "_deepnote_index_column": 4893
        },
        {
         "sentences": "To change the region’s economic trajectory, African policymakers must focus on three key areas: industrial policies, infrastructure financing, and leadership.",
         "_deepnote_index_column": 4894
        },
        {
         "sentences": "We now know that industrial policies can be effective in boosting growth.",
         "_deepnote_index_column": 4895
        },
        {
         "sentences": "The question is whether states possess the capacity to implement the policies they design.",
         "_deepnote_index_column": 4896
        },
        {
         "sentences": "If they do, they can channel resources toward industry and marshal available technologies to create synergy between the agriculture and manufacturing sectors.",
         "_deepnote_index_column": 4897
        },
        {
         "sentences": "A number of African countries have already moved in this direction.",
         "_deepnote_index_column": 4898
        },
        {
         "sentences": "Ethiopia, for example, has created special economic zones, where it has lowered production costs by investing in infrastructure.",
         "_deepnote_index_column": 4899
        },
        {
         "sentences": "As a result, the country has emerged as Africa’s largest hub for textile manufacturing, attracting major players like H&M and Primark.",
         "_deepnote_index_column": 4900
        },
        {
         "sentences": "Similarly, Rwanda’s Kigali Special Economic Zone, which exempts firms from taxes for ten years, has attracted a $20 million investment from Volkswagen for a new vehicle-assembly plant.",
         "_deepnote_index_column": 4901
        },
        {
         "sentences": "But industrialization cannot happen without power, roads, and railways, which is why infrastructure must be a key focus.",
         "_deepnote_index_column": 4902
        },
        {
         "sentences": "As of now, the AfDB pegs Africa’s infrastructure gap at $130–170 billion per year.",
         "_deepnote_index_column": 4903
        },
        {
         "sentences": "Closing it will require not just more financing, but also more innovative thinking, particularly concerning joint public-private efforts.",
         "_deepnote_index_column": 4904
        },
        {
         "sentences": "To that end, the AfDB has expanded its portfolio for financing new infrastructure projects in several countries.",
         "_deepnote_index_column": 4905
        },
        {
         "sentences": "As part of our “New Deal on Energy for Africa,” we have scaled up investment in renewable energy and put $265 million toward developing two solar-power plants in Morocco.",
         "_deepnote_index_column": 4906
        },
        {
         "sentences": "In Côte d’Ivoire, where demand for energy is surging by 8-9% annually, we are investing $60 million to bring a new 44-megawatt hydropower plant onstream.",
         "_deepnote_index_column": 4907
        },
        {
         "sentences": "African countries should make such investments now to reap the demographic dividend of the continent’s population bulge in the years ahead.",
         "_deepnote_index_column": 4908
        },
        {
         "sentences": "As manufacturing activities expand, they will need to be supported by more robust knowledge- and skill-based economies, which will require higher investment in education to boost technical and vocational skills and training.",
         "_deepnote_index_column": 4909
        },
        {
         "sentences": "No country has ever undergone economic modernization without industry.",
         "_deepnote_index_column": 4910
        },
        {
         "sentences": "But, more to the point, no functional industrial sector has ever emerged in the absence of strong, committed leadership.",
         "_deepnote_index_column": 4911
        },
        {
         "sentences": "Consider Mauritius, which in the 1970s was a low-income mono-crop economy with a per capita GDP of just under $250.",
         "_deepnote_index_column": 4912
        },
        {
         "sentences": "Today, Mauritius is an upper-middle-income country with a more diversified economy and a per capita GDP of around $9,600.",
         "_deepnote_index_column": 4913
        },
        {
         "sentences": "It is often cited as a model of economic success in Africa.",
         "_deepnote_index_column": 4914
        },
        {
         "sentences": "How did this come about?",
         "_deepnote_index_column": 4915
        },
        {
         "sentences": "As former Mauritian Prime Minister and President Anerood Jugnauth has put it, “There is no miracle.",
         "_deepnote_index_column": 4916
        },
        {
         "sentences": "It is due simply to hard work, discipline, and will.”\nLeaders who want to develop a strong manufacturing base must have the political will to distribute resources fairly and pull the private sector along.",
         "_deepnote_index_column": 4917
        },
        {
         "sentences": "Mauritius experienced its fair share of challenges in moving from low-end manufacturing to technology-intensive goods and services.",
         "_deepnote_index_column": 4918
        },
        {
         "sentences": "But it now stands as an example of what committed leadership can accomplish.",
         "_deepnote_index_column": 4919
        },
        {
         "sentences": "Other African countries would do well to emulate it as they pursue their own economic transformations.",
         "_deepnote_index_column": 4920
        },
        {
         "sentences": "All told, Africa is well placed to seize many of the opportunities that the global economy offers emerging markets.",
         "_deepnote_index_column": 4921
        },
        {
         "sentences": "It already has the resources and the labor; now it needs committed leaders like Jugnauth who will implement the right policies.",
         "_deepnote_index_column": 4922
        },
        {
         "sentences": "Africa’s Alternative Path to Development\nWASHINGTON, DC – Recent projections indicate that several Sub-Saharan African countries will experience robust economic growth over the next five years.",
         "_deepnote_index_column": 4923
        },
        {
         "sentences": "By 2023, around one-third of the region’s economies will have grown at an average annual rate of 5% or higher since 2000.",
         "_deepnote_index_column": 4924
        },
        {
         "sentences": "And yet, as The Economist observed last year, Africa’s development model “puzzles economists.”\nAfter all, only four of the continent’s high-growth countries are natural-resource dependent.",
         "_deepnote_index_column": 4925
        },
        {
         "sentences": "Nor is overall performance due primarily to industrialization, as traditional development models would have predicted.",
         "_deepnote_index_column": 4926
        },
        {
         "sentences": "What, then, explains the strong economic performance?",
         "_deepnote_index_column": 4927
        },
        {
         "sentences": "New research by the Brookings Institution’s Africa Growth Initiative and the United Nations University World Institute for Development Economics Research (UNU-WIDER) might hold the key to answering that question.",
         "_deepnote_index_column": 4928
        },
        {
         "sentences": "According to the forthcoming book Industries Without Smokestacks: Industrialization in Africa Reconsidered, there is evidence to suggest that Sub-Saharan Africa is undergoing a more profound structural transformation than we think.",
         "_deepnote_index_column": 4929
        },
        {
         "sentences": "Africa owes this structural transformation not to traditional industries, but to new developments in tradable services and agro-industries that resemble traditional industrialization.",
         "_deepnote_index_column": 4930
        },
        {
         "sentences": "Aside from horticulture and agro-business, these new industries include information and communication technology-based services (ICT) and tourism.",
         "_deepnote_index_column": 4931
        },
        {
         "sentences": "This is a departure from the historical norm.",
         "_deepnote_index_column": 4932
        },
        {
         "sentences": "Traditionally, as Harvard University economist Dani Rodrik points out, economies that have sustained robust growth rates without relying on natural-resource booms, “typically do so through export-oriented industrialization.”\nBut in Africa, manufacturing as a share of total economic activity has stagnated at around 10%, with economic activity moving from agriculture to services.",
         "_deepnote_index_column": 4933
        },
        {
         "sentences": "And because the rate of productivity growth in services is only about half that of manufacturing, the aggregate productivity gains needed for sustained growth have fallen relatively short.",
         "_deepnote_index_column": 4934
        },
        {
         "sentences": "This process of premature deindustrialization is not unique to Africa.",
         "_deepnote_index_column": 4935
        },
        {
         "sentences": "But it is more consequential for the continent, given the scale of its development challenges.",
         "_deepnote_index_column": 4936
        },
        {
         "sentences": "Owing to its young, rapidly growing labor force, Africa now needs to create more than 11 million jobs in the formal economy every year.",
         "_deepnote_index_column": 4937
        },
        {
         "sentences": "But as Nobel laureate economist Joseph E. Stiglitz has warned, Africa cannot replicate East Asia’s manufacturing-led model, so the question is whether it can leverage modern services to achieve economic development.",
         "_deepnote_index_column": 4938
        },
        {
         "sentences": "According to Foresight Africa: Top Priorities for 2018, a Brookings Institution report previewing the results of Industries Without Smokestacks, services exports from Africa grew more than six times faster than merchandise exports between 1998 and 2015.",
         "_deepnote_index_column": 4939
        },
        {
         "sentences": "In Kenya, Rwanda, Senegal, and South Africa, the ICT sector is flourishing.",
         "_deepnote_index_column": 4940
        },
        {
         "sentences": "In Rwanda, tourism is now the single largest export activity, accounting for about 30% of total exports.",
         "_deepnote_index_column": 4941
        },
        {
         "sentences": "Ethiopia, Ghana, Kenya, and Senegal are all integrated into global horticultural value chains, and Ethiopia has become a leading player in global flower exports.",
         "_deepnote_index_column": 4942
        },
        {
         "sentences": "As these smokestack-less industries have grown, they have generated new patterns of structural change that are distinct from those of East Asia’s manufacturing-led transformation.",
         "_deepnote_index_column": 4943
        },
        {
         "sentences": "But, if properly stewarded, they could play the same role in Africa’s development as manufacturing did in East Asia.",
         "_deepnote_index_column": 4944
        },
        {
         "sentences": "Manufacturing-led growth proved to be an effective development model in East Asia for three main reasons.",
         "_deepnote_index_column": 4945
        },
        {
         "sentences": "First, manufacturing has higher productivity than agriculture, and it can absorb a large number of moderately skilled workers migrating out of the agriculture sector.",
         "_deepnote_index_column": 4946
        },
        {
         "sentences": "Second, manufacturers benefit from technological transfers from abroad, so their productivity rises in line with global trends.",
         "_deepnote_index_column": 4947
        },
        {
         "sentences": "And third, the shift to manufacturing in East Asia was oriented toward exports, which allowed production to be scaled up.",
         "_deepnote_index_column": 4948
        },
        {
         "sentences": "According to John Page, one of the editors of Industries Without Smokestacks, Africa’s growing service sectors share these same characteristics.",
         "_deepnote_index_column": 4949
        },
        {
         "sentences": "In addition to being tradable, they have higher productivity and can absorb large numbers of moderately skilled workers.",
         "_deepnote_index_column": 4950
        },
        {
         "sentences": "And like manufacturing, they also benefit from technological change and economies of scale and agglomeration.",
         "_deepnote_index_column": 4951
        },
        {
         "sentences": "Moreover, Africa’s smokestack-less service sectors have the added advantage of being less vulnerable to automation.",
         "_deepnote_index_column": 4952
        },
        {
         "sentences": "Notwithstanding automation’s many benefits, it presents challenges for countries where the overriding priority is to create a sufficient number of formal-sector jobs.",
         "_deepnote_index_column": 4953
        },
        {
         "sentences": "While economists have been increasingly confident that Africa’s development model will be different from that of East Asia, they have been less certain about what shape it will take.",
         "_deepnote_index_column": 4954
        },
        {
         "sentences": "An industries-without-smokestacks model offers one possible answer.",
         "_deepnote_index_column": 4955
        },
        {
         "sentences": "From a policy perspective, African leaders should explore more ways to support these industries’ growth, either through targeted reforms or by incorporating them into national industrialization strategies and broader development agendas.",
         "_deepnote_index_column": 4956
        },
        {
         "sentences": "The development of industries without smokestacks can occur alongside efforts to develop those with smokestacks, thus offering a multifaceted approach for Africa to achieve structural transformation.",
         "_deepnote_index_column": 4957
        },
        {
         "sentences": "Recognizing the High Value of Africa’s Migrants\nLOMÉ – As we mark International Migrants Day on December 18, it’s time to rethink how we value the informal skills and resources of many of Africa’s migrants.",
         "_deepnote_index_column": 4958
        },
        {
         "sentences": "In particular, we need to recognize that migration can help boost long-term economic growth in Africa and the rest of the world.",
         "_deepnote_index_column": 4959
        },
        {
         "sentences": "Following its targeted killing of Iran's second most powerful leader, the US could well find itself with no alternative but to devote more military resources to the Middle East, a path that could lead to additional Iranian provocations.",
         "_deepnote_index_column": 4960
        },
        {
         "sentences": "And that shift would occur at a time of growing challenges to US interests elsewhere in the world.",
         "_deepnote_index_column": 4961
        },
        {
         "sentences": "The targeted killing by the United States of one of Iran's top military leaders represents a significant symbolic defeat for the Iranian regime, but it does not augur all-out war.",
         "_deepnote_index_column": 4962
        },
        {
         "sentences": "After all, Iran and the US have already been at war for decades, and neither side has an interest in an uncontrolled military escalation now.",
         "_deepnote_index_column": 4963
        },
        {
         "sentences": "As in previous years, Project Syndicate asked its commentators to offer their best guesses about the events and trends that will define the coming 12 months.",
         "_deepnote_index_column": 4964
        },
        {
         "sentences": "If there is one common theme in this year's selection, it is that what happens in 2020 will weigh on the present for many years to come.",
         "_deepnote_index_column": 4965
        },
        {
         "sentences": "On one hand, African migration is less globally significant than many think.",
         "_deepnote_index_column": 4966
        },
        {
         "sentences": "According to a report produced by the Mo Ibrahim Foundation, just 14% of the world’s migrants in 2017 came from Africa, while 41% came from Asia and 24% from Europe.",
         "_deepnote_index_column": 4967
        },
        {
         "sentences": "The 36.3 million Africans who migrated that year represented less than 3% of the continent’s population (and almost 90% of African refugees remain within the continent.)",
         "_deepnote_index_column": 4968
        },
        {
         "sentences": "On the other hand, those Africans who do exercise their human right to work where their skills are needed make a significant contribution to the continent’s large informal economy.",
         "_deepnote_index_column": 4969
        },
        {
         "sentences": "African cities are full of creative traders negotiating prices, supplying jerseys for sports events, and selling drinks to thirsty drivers stuck in traffic jams.",
         "_deepnote_index_column": 4970
        },
        {
         "sentences": "In fact, trading skills –especially those of women – should be at the center of the African migration narrative.",
         "_deepnote_index_column": 4971
        },
        {
         "sentences": "In Togo, for example, women previously dominated domestic and international trade in textiles, wax prints, and women’s clothing, running businesses that expanded to Burkina Faso, Mali, Niger, Chad, and other countries in the region.",
         "_deepnote_index_column": 4972
        },
        {
         "sentences": "From 1976 to 1984, these “Nana Benz” women – so called because their wealth enabled them to own Mercedes-Benz cars – controlled at least 40% of informal-sector business in Togo.",
         "_deepnote_index_column": 4973
        },
        {
         "sentences": "While they are no longer quite so dominant, a third generation of women is keeping their entrepreneurial model alive.",
         "_deepnote_index_column": 4974
        },
        {
         "sentences": "The Nana Benz demonstrated that informal economies could create pathways to success for their children and communities.",
         "_deepnote_index_column": 4975
        },
        {
         "sentences": "They not only built mansions in Togo and owned properties around the world, but also invested in their children’s education at home and abroad.",
         "_deepnote_index_column": 4976
        },
        {
         "sentences": "And they commanded respect despite their own lack of formal education.",
         "_deepnote_index_column": 4977
        },
        {
         "sentences": "European business partners offered them favorable terms to expand their businesses.",
         "_deepnote_index_column": 4978
        },
        {
         "sentences": "Today, the informal economy accounts for more than 70% of total employment in Sub-Saharan Africa.",
         "_deepnote_index_column": 4979
        },
        {
         "sentences": "At the same time, however, almost 16 million young Africans are unemployed, in many cases because potential employers undervalue the informal skills that these job seekers learned outside school.",
         "_deepnote_index_column": 4980
        },
        {
         "sentences": "So, although we need to create more formal-sector jobs on the continent, we also must recognize the value and skills embedded in the rest of the economy – including through the contribution of internal and cross-border migrants.",
         "_deepnote_index_column": 4981
        },
        {
         "sentences": "Of course, informal employment is not just an African phenomenon.",
         "_deepnote_index_column": 4982
        },
        {
         "sentences": "According to the International Labor Organization, two billion people worldwide work in the informal economy, including 1.3 billion in the Asia-Pacific region.",
         "_deepnote_index_column": 4983
        },
        {
         "sentences": "And even in Europe and Central Asia, where the share of formal employment is highest, 25% of the employed population work informally.",
         "_deepnote_index_column": 4984
        },
        {
         "sentences": "It is a global coping mechanism through which creative minds address market opportunities.",
         "_deepnote_index_column": 4985
        },
        {
         "sentences": "To continue Africa’s social and economic transformation, we must recognize the informal economy as a key lever of development and a facilitator of trade-based migration.",
         "_deepnote_index_column": 4986
        },
        {
         "sentences": "African investors could help this process by providing digitally connected migrants with tailor-made safety mechanisms such as insurance and other financial products.",
         "_deepnote_index_column": 4987
        },
        {
         "sentences": "The informal economy sometimes is associated with poverty, disease, and low levels of education.",
         "_deepnote_index_column": 4988
        },
        {
         "sentences": "But most African migrants are young, educated women and men who can help economies in Europe, Asia, and North America address the challenges posed by aging populations.",
         "_deepnote_index_column": 4989
        },
        {
         "sentences": "Between now and 2100, Africa’s young population (aged 15-34) is expected to grow by 181%, while Europe’s will shrink by 21% and Asia’s by almost 28%.",
         "_deepnote_index_column": 4990
        },
        {
         "sentences": "But if politicians in destination countries fail to make a positive case for migration, the world will miss out on this opportunity.",
         "_deepnote_index_column": 4991
        },
        {
         "sentences": "At the same time, Africa must invest in education, like the Nana Benz did, to ensure that its young people are better educated, healthier, and more connected than previous generations.",
         "_deepnote_index_column": 4992
        },
        {
         "sentences": "Without broader access to quality education, intergenerational transfers of wealth within Africa will damage the future prospects of the 16 million young people looking for work.",
         "_deepnote_index_column": 4993
        },
        {
         "sentences": "There is thus a case for legal migration, which would help to generate additional tax revenues for host-country governments and enable migrants to send remittances back to their home countries.",
         "_deepnote_index_column": 4994
        },
        {
         "sentences": "On average, African migrants spend or invest about 85% of their income in their destination country, and remit the remaining 15%.",
         "_deepnote_index_column": 4995
        },
        {
         "sentences": "These remittances, which represented 3.5% of Africa’s $2.3 trillion GDP in 2018, should be pooled to accelerate the continent’s economic transformation.",
         "_deepnote_index_column": 4996
        },
        {
         "sentences": "In the longer term, the facilitation of free movement envisaged under the African Union’s Agenda 2063 will determine the extent to which informal-sector skills transform the continent’s economies.",
         "_deepnote_index_column": 4997
        },
        {
         "sentences": "And although market conditions have changed over the last few decades, the Nana Benz women of Togo already have shown us the way.",
         "_deepnote_index_column": 4998
        },
        {
         "sentences": "In Africa and elsewhere, development processes are stronger when they are built on existing networks and mechanisms.",
         "_deepnote_index_column": 4999
        }
       ]
      },
      "text/plain": "                                              sentences\n0     They have lived through countless trials, endu...\n1     But empires have crumbled; tyrants have passed...\n2     All the while, the Kurds have held fast, resis...\n3     And today, they are approaching a milestone: a...\n4     The Kurdish nation was forged over centuries o...\n...                                                 ...\n4995  On average, African migrants spend or invest a...\n4996  These remittances, which represented 3.5% of A...\n4997  In the longer term, the facilitation of free m...\n4998  And although market conditions have changed ov...\n4999  In Africa and elsewhere, development processes...\n\n[5000 rows x 1 columns]",
      "text/html": "<div>\n<style scoped>\n    .dataframe tbody tr th:only-of-type {\n        vertical-align: middle;\n    }\n\n    .dataframe tbody tr th {\n        vertical-align: top;\n    }\n\n    .dataframe thead th {\n        text-align: right;\n    }\n</style>\n<table border=\"1\" class=\"dataframe\">\n  <thead>\n    <tr style=\"text-align: right;\">\n      <th></th>\n      <th>sentences</th>\n    </tr>\n  </thead>\n  <tbody>\n    <tr>\n      <th>0</th>\n      <td>They have lived through countless trials, endu...</td>\n    </tr>\n    <tr>\n      <th>1</th>\n      <td>But empires have crumbled; tyrants have passed...</td>\n    </tr>\n    <tr>\n      <th>2</th>\n      <td>All the while, the Kurds have held fast, resis...</td>\n    </tr>\n    <tr>\n      <th>3</th>\n      <td>And today, they are approaching a milestone: a...</td>\n    </tr>\n    <tr>\n      <th>4</th>\n      <td>The Kurdish nation was forged over centuries o...</td>\n    </tr>\n    <tr>\n      <th>...</th>\n      <td>...</td>\n    </tr>\n    <tr>\n      <th>4995</th>\n      <td>On average, African migrants spend or invest a...</td>\n    </tr>\n    <tr>\n      <th>4996</th>\n      <td>These remittances, which represented 3.5% of A...</td>\n    </tr>\n    <tr>\n      <th>4997</th>\n      <td>In the longer term, the facilitation of free m...</td>\n    </tr>\n    <tr>\n      <th>4998</th>\n      <td>And although market conditions have changed ov...</td>\n    </tr>\n    <tr>\n      <th>4999</th>\n      <td>In Africa and elsewhere, development processes...</td>\n    </tr>\n  </tbody>\n</table>\n<p>5000 rows × 1 columns</p>\n</div>"
     },
     "metadata": {}
    }
   ]
  },
  {
   "cell_type": "markdown",
   "source": "2. Load and tokenise your datasets so that, for each of the corpora, you get a\nlist of sentences, each sentence represented by a list of tokens. Use the same\ntokeniser for all datasets. <br>\n",
   "metadata": {
    "tags": [],
    "cell_id": "00008-f53cbfac-b18e-4d14-8974-9a70bfc431de",
    "deepnote_cell_type": "markdown"
   }
  },
  {
   "cell_type": "code",
   "metadata": {
    "tags": [],
    "cell_id": "00011-3b74044a-7f1f-4a39-ad03-aa7d5753c6a3",
    "deepnote_to_be_reexecuted": false,
    "source_hash": "61521d3c",
    "execution_start": 1620996151902,
    "execution_millis": 1971,
    "deepnote_cell_type": "code"
   },
   "source": "tokenized_text = [nltk.word_tokenize(i) for i in pd_news5k[\"sentences\"]]\npd_news5k[\"words\"] = tokenized_text\namount_words = lambda x: len(x)\npd_news5k['num_words'] = pd_news5k['words'].apply(amount_words)\n\npd_news5k",
   "execution_count": null,
   "outputs": [
    {
     "output_type": "execute_result",
     "execution_count": 12,
     "data": {
      "application/vnd.deepnote.dataframe.v2+json": {
       "row_count": 5000,
       "column_count": 3,
       "columns": [
        {
         "name": "sentences",
         "dtype": "object",
         "stats": {
          "unique_count": 4868,
          "nan_count": 0,
          "categories": [
           {
            "name": "Following its targeted killing of Iran's second most powerful leader, the US could well find itself with no alternative but to devote more military resources to the Middle East, a path that could lead to additional Iranian provocations.",
            "count": 18
           },
           {
            "name": "And that shift would occur at a time of growing challenges to US interests elsewhere in the world.",
            "count": 18
           },
           {
            "name": "4866 others",
            "count": 4964
           }
          ]
         }
        },
        {
         "name": "words",
         "dtype": "object",
         "stats": {
          "unique_count": 5000,
          "nan_count": 0,
          "categories": [
           {
            "name": "['Following', 'its', 'targeted', 'killing', 'of', 'Iran', \"'s\", 'second', 'most', 'powerful', 'leader', ',', 'the', 'US', 'could', 'well', 'find', 'itself', 'with', 'no', 'alternative', 'but', 'to', 'devote', 'more', 'military', 'resources', 'to', 'the', 'Middle', 'East', ',', 'a', 'path', 'that', 'could', 'lead', 'to', 'additional', 'Iranian', 'provocations', '.']",
            "count": 18
           },
           {
            "name": "['And', 'that', 'shift', 'would', 'occur', 'at', 'a', 'time', 'of', 'growing', 'challenges', 'to', 'US', 'interests', 'elsewhere', 'in', 'the', 'world', '.']",
            "count": 18
           },
           {
            "name": "4866 others",
            "count": 4964
           }
          ]
         }
        },
        {
         "name": "num_words",
         "dtype": "int64",
         "stats": {
          "unique_count": 82,
          "nan_count": 0,
          "min": "2",
          "max": "167",
          "histogram": [
           {
            "bin_start": 2,
            "bin_end": 18.5,
            "count": 1462
           },
           {
            "bin_start": 18.5,
            "bin_end": 35,
            "count": 2470
           },
           {
            "bin_start": 35,
            "bin_end": 51.5,
            "count": 895
           },
           {
            "bin_start": 51.5,
            "bin_end": 68,
            "count": 146
           },
           {
            "bin_start": 68,
            "bin_end": 84.5,
            "count": 20
           },
           {
            "bin_start": 84.5,
            "bin_end": 101,
            "count": 5
           },
           {
            "bin_start": 101,
            "bin_end": 117.5,
            "count": 1
           },
           {
            "bin_start": 117.5,
            "bin_end": 134,
            "count": 0
           },
           {
            "bin_start": 134,
            "bin_end": 150.5,
            "count": 0
           },
           {
            "bin_start": 150.5,
            "bin_end": 167,
            "count": 1
           }
          ]
         }
        },
        {
         "name": "_deepnote_index_column",
         "dtype": "int64"
        }
       ],
       "rows_top": [
        {
         "sentences": "They have lived through countless trials, endured innumerable twists of fate, suffered domination again and again.",
         "words": "['They', 'have', 'lived', 'through', 'countless', 'trials', ',', 'endured', 'innumerable', 'twists', 'of', 'fate', ',', 'suffered', 'domination', 'again', 'and', 'again', '.']",
         "num_words": 19,
         "_deepnote_index_column": 0
        },
        {
         "sentences": "But empires have crumbled; tyrants have passed away; and their executioners have fallen into the dustbins of history.",
         "words": "['But', 'empires', 'have', 'crumbled', ';', 'tyrants', 'have', 'passed', 'away', ';', 'and', 'their', 'executioners', 'have', 'fallen', 'into', 'the', 'dustbins', 'of', 'history', '.']",
         "num_words": 21,
         "_deepnote_index_column": 1
        },
        {
         "sentences": "All the while, the Kurds have held fast, resisting the forces that wanted them to disappear.",
         "words": "['All', 'the', 'while', ',', 'the', 'Kurds', 'have', 'held', 'fast', ',', 'resisting', 'the', 'forces', 'that', 'wanted', 'them', 'to', 'disappear', '.']",
         "num_words": 19,
         "_deepnote_index_column": 2
        },
        {
         "sentences": "And today, they are approaching a milestone: a declaration of self-determination in the form of a free state in which all citizens will be able to live in liberty, their heads held high.",
         "words": "['And', 'today', ',', 'they', 'are', 'approaching', 'a', 'milestone', ':', 'a', 'declaration', 'of', 'self-determination', 'in', 'the', 'form', 'of', 'a', 'free', 'state', 'in', 'which', 'all', 'citizens', 'will', 'be', 'able', 'to', 'live', 'in', 'liberty', ',', 'their', 'heads', 'held', 'high', '.']",
         "num_words": 37,
         "_deepnote_index_column": 3
        },
        {
         "sentences": "The Kurdish nation was forged over centuries of pain and pride.",
         "words": "['The', 'Kurdish', 'nation', 'was', 'forged', 'over', 'centuries', 'of', 'pain', 'and', 'pride', '.']",
         "num_words": 12,
         "_deepnote_index_column": 4
        },
        {
         "sentences": "It was strengthened in the course of the war against Islamist terrorism, in which the Kurds have been the civilized world’s staunchest – and sometimes solitary – spearhead.",
         "words": "['It', 'was', 'strengthened', 'in', 'the', 'course', 'of', 'the', 'war', 'against', 'Islamist', 'terrorism', ',', 'in', 'which', 'the', 'Kurds', 'have', 'been', 'the', 'civilized', 'world', '’', 's', 'staunchest', '–', 'and', 'sometimes', 'solitary', '–', 'spearhead', '.']",
         "num_words": 32,
         "_deepnote_index_column": 5
        },
        {
         "sentences": "I know not one Peshmerga fighter who, while waging our common battle, did not have in mind the achievement of that ancestral dream of Kurdish independence.",
         "words": "['I', 'know', 'not', 'one', 'Peshmerga', 'fighter', 'who', ',', 'while', 'waging', 'our', 'common', 'battle', ',', 'did', 'not', 'have', 'in', 'mind', 'the', 'achievement', 'of', 'that', 'ancestral', 'dream', 'of', 'Kurdish', 'independence', '.']",
         "num_words": 29,
         "_deepnote_index_column": 6
        },
        {
         "sentences": "Mosul will be liberated; the Islamic State (ISIS) will be defeated; and, when the moment comes for the referendum that Massoud Barzani, President of Iraq’s Kurdistan Regional Government, has described as the inalienable right of the Kurds, the will of each citizen will be shared by all.",
         "words": "['Mosul', 'will', 'be', 'liberated', ';', 'the', 'Islamic', 'State', '(', 'ISIS', ')', 'will', 'be', 'defeated', ';', 'and', ',', 'when', 'the', 'moment', 'comes', 'for', 'the', 'referendum', 'that', 'Massoud', 'Barzani', ',', 'President', 'of', 'Iraq', '’', 's', 'Kurdistan', 'Regional', 'Government', ',', 'has', 'described', 'as', 'the', 'inalienable', 'right', 'of', 'the', 'Kurds', ',', 'the', 'will', 'of', 'each', 'citizen', 'will', 'be', 'shared', 'by', 'all', '.']",
         "num_words": 58,
         "_deepnote_index_column": 7
        },
        {
         "sentences": "Even the Kurds’ closest allies worry that recognition of a Kurdish state might upset the regional balance and pose a threat to peace.",
         "words": "['Even', 'the', 'Kurds', '’', 'closest', 'allies', 'worry', 'that', 'recognition', 'of', 'a', 'Kurdish', 'state', 'might', 'upset', 'the', 'regional', 'balance', 'and', 'pose', 'a', 'threat', 'to', 'peace', '.']",
         "num_words": 25,
         "_deepnote_index_column": 8
        },
        {
         "sentences": "I believe that the contrary is true: the Kurds will be a pole of stability in a region increasingly susceptible to fanaticism and terror.",
         "words": "['I', 'believe', 'that', 'the', 'contrary', 'is', 'true', ':', 'the', 'Kurds', 'will', 'be', 'a', 'pole', 'of', 'stability', 'in', 'a', 'region', 'increasingly', 'susceptible', 'to', 'fanaticism', 'and', 'terror', '.']",
         "num_words": 26,
         "_deepnote_index_column": 9
        },
        {
         "sentences": "To their eternal credit, the Kurds have defended against all odds the standards – respect for borders, for the rule of law, and for the fundamental human rights of all – that underpin stability, and that tyrants from Saddam Hussein to Bashar al-Assad have flouted.",
         "words": "['To', 'their', 'eternal', 'credit', ',', 'the', 'Kurds', 'have', 'defended', 'against', 'all', 'odds', 'the', 'standards', '–', 'respect', 'for', 'borders', ',', 'for', 'the', 'rule', 'of', 'law', ',', 'and', 'for', 'the', 'fundamental', 'human', 'rights', 'of', 'all', '–', 'that', 'underpin', 'stability', ',', 'and', 'that', 'tyrants', 'from', 'Saddam', 'Hussein', 'to', 'Bashar', 'al-Assad', 'have', 'flouted', '.']",
         "num_words": 50,
         "_deepnote_index_column": 10
        },
        {
         "sentences": "In a region where others create refugees, the Kurds provide a safe haven.",
         "words": "['In', 'a', 'region', 'where', 'others', 'create', 'refugees', ',', 'the', 'Kurds', 'provide', 'a', 'safe', 'haven', '.']",
         "num_words": 15,
         "_deepnote_index_column": 11
        },
        {
         "sentences": "Indeed, the Kurds have forged one of the region’s few examples of a vibrant democracy that upholds tolerance, cultural coexistence, and the rule of law.",
         "words": "['Indeed', ',', 'the', 'Kurds', 'have', 'forged', 'one', 'of', 'the', 'region', '’', 's', 'few', 'examples', 'of', 'a', 'vibrant', 'democracy', 'that', 'upholds', 'tolerance', ',', 'cultural', 'coexistence', ',', 'and', 'the', 'rule', 'of', 'law', '.']",
         "num_words": 31,
         "_deepnote_index_column": 12
        },
        {
         "sentences": "In what other part of the Muslim Middle East does one find such a strong belief in a geopolitical order that tends toward peace, not war; favors reconciliation over ancient hatreds; and prefers respect for the other to a war of civilizations?",
         "words": "['In', 'what', 'other', 'part', 'of', 'the', 'Muslim', 'Middle', 'East', 'does', 'one', 'find', 'such', 'a', 'strong', 'belief', 'in', 'a', 'geopolitical', 'order', 'that', 'tends', 'toward', 'peace', ',', 'not', 'war', ';', 'favors', 'reconciliation', 'over', 'ancient', 'hatreds', ';', 'and', 'prefers', 'respect', 'for', 'the', 'other', 'to', 'a', 'war', 'of', 'civilizations', '?']",
         "num_words": 46,
         "_deepnote_index_column": 13
        },
        {
         "sentences": "For these reasons, I believe very deeply that, in this stormy region, swept by so many ill winds, threatened by the worst of ideologies and by the violence that accompanies them, the rebirth of an independent Kurdish nation and state will mark an advance.",
         "words": "['For', 'these', 'reasons', ',', 'I', 'believe', 'very', 'deeply', 'that', ',', 'in', 'this', 'stormy', 'region', ',', 'swept', 'by', 'so', 'many', 'ill', 'winds', ',', 'threatened', 'by', 'the', 'worst', 'of', 'ideologies', 'and', 'by', 'the', 'violence', 'that', 'accompanies', 'them', ',', 'the', 'rebirth', 'of', 'an', 'independent', 'Kurdish', 'nation', 'and', 'state', 'will', 'mark', 'an', 'advance', '.']",
         "num_words": 50,
         "_deepnote_index_column": 14
        },
        {
         "sentences": "It will be an advance that helps to dispel from the region the terrible genies of disintegration, chaos, and bloody convulsion.",
         "words": "['It', 'will', 'be', 'an', 'advance', 'that', 'helps', 'to', 'dispel', 'from', 'the', 'region', 'the', 'terrible', 'genies', 'of', 'disintegration', ',', 'chaos', ',', 'and', 'bloody', 'convulsion', '.']",
         "num_words": 24,
         "_deepnote_index_column": 15
        },
        {
         "sentences": "What kind of nation-state will the ancient Kurdish people make?",
         "words": "['What', 'kind', 'of', 'nation-state', 'will', 'the', 'ancient', 'Kurdish', 'people', 'make', '?']",
         "num_words": 11,
         "_deepnote_index_column": 16
        },
        {
         "sentences": "It will be small – a nation of only several million – but that will not make it fragile or weak.",
         "words": "['It', 'will', 'be', 'small', '–', 'a', 'nation', 'of', 'only', 'several', 'million', '–', 'but', 'that', 'will', 'not', 'make', 'it', 'fragile', 'or', 'weak', '.']",
         "num_words": 22,
         "_deepnote_index_column": 17
        },
        {
         "sentences": "History offers many examples of what the writer Milan Kundera has called “small nations” that are solid and strong, because their people are united in the face of their powerful neighbors.",
         "words": "['History', 'offers', 'many', 'examples', 'of', 'what', 'the', 'writer', 'Milan', 'Kundera', 'has', 'called', '“', 'small', 'nations', '”', 'that', 'are', 'solid', 'and', 'strong', ',', 'because', 'their', 'people', 'are', 'united', 'in', 'the', 'face', 'of', 'their', 'powerful', 'neighbors', '.']",
         "num_words": 35,
         "_deepnote_index_column": 18
        },
        {
         "sentences": "When it came time to defend the nation, the sword has always been close to the plow.",
         "words": "['When', 'it', 'came', 'time', 'to', 'defend', 'the', 'nation', ',', 'the', 'sword', 'has', 'always', 'been', 'close', 'to', 'the', 'plow', '.']",
         "num_words": 19,
         "_deepnote_index_column": 19
        },
        {
         "sentences": "They are nations of citizens united by their history and spirit, rather than ethnicity, a sense of superiority, or an arrogant identity.",
         "words": "['They', 'are', 'nations', 'of', 'citizens', 'united', 'by', 'their', 'history', 'and', 'spirit', ',', 'rather', 'than', 'ethnicity', ',', 'a', 'sense', 'of', 'superiority', ',', 'or', 'an', 'arrogant', 'identity', '.']",
         "num_words": 26,
         "_deepnote_index_column": 20
        },
        {
         "sentences": "The Kurds are such a nation: a people of volunteers who know why they fight, a people who, from the humblest to the greatest, from the Peshmerga regular to the loftiest of Kurdish commanders, does not hesitate to take up arms to discourage or to dismantle despotism – and not only on their behalf.",
         "words": "['The', 'Kurds', 'are', 'such', 'a', 'nation', ':', 'a', 'people', 'of', 'volunteers', 'who', 'know', 'why', 'they', 'fight', ',', 'a', 'people', 'who', ',', 'from', 'the', 'humblest', 'to', 'the', 'greatest', ',', 'from', 'the', 'Peshmerga', 'regular', 'to', 'the', 'loftiest', 'of', 'Kurdish', 'commanders', ',', 'does', 'not', 'hesitate', 'to', 'take', 'up', 'arms', 'to', 'discourage', 'or', 'to', 'dismantle', 'despotism', '–', 'and', 'not', 'only', 'on', 'their', 'behalf', '.']",
         "num_words": 60,
         "_deepnote_index_column": 21
        },
        {
         "sentences": "They have been soldiers of freedom who kept Christians from being purged from the last place in the world where the language of Christ is still spoken, while defending the principle of equality of the sexes, even in combat – a principle that is the hallmark of great civilizations.",
         "words": "['They', 'have', 'been', 'soldiers', 'of', 'freedom', 'who', 'kept', 'Christians', 'from', 'being', 'purged', 'from', 'the', 'last', 'place', 'in', 'the', 'world', 'where', 'the', 'language', 'of', 'Christ', 'is', 'still', 'spoken', ',', 'while', 'defending', 'the', 'principle', 'of', 'equality', 'of', 'the', 'sexes', ',', 'even', 'in', 'combat', '–', 'a', 'principle', 'that', 'is', 'the', 'hallmark', 'of', 'great', 'civilizations', '.']",
         "num_words": 52,
         "_deepnote_index_column": 22
        },
        {
         "sentences": "For all these reasons, I believe that a Kurdish nation-state will be a force for peace, not disorder, in the Middle East, a stormy region that is threatened by the worst of ideologies and by the violence that they beget.",
         "words": "['For', 'all', 'these', 'reasons', ',', 'I', 'believe', 'that', 'a', 'Kurdish', 'nation-state', 'will', 'be', 'a', 'force', 'for', 'peace', ',', 'not', 'disorder', ',', 'in', 'the', 'Middle', 'East', ',', 'a', 'stormy', 'region', 'that', 'is', 'threatened', 'by', 'the', 'worst', 'of', 'ideologies', 'and', 'by', 'the', 'violence', 'that', 'they', 'beget', '.']",
         "num_words": 45,
         "_deepnote_index_column": 23
        },
        {
         "sentences": "I believe that the Kurds will build a strong and solid state that helps to return the awful genies of violent extremism, tyranny, and disintegration to their bottles.",
         "words": "['I', 'believe', 'that', 'the', 'Kurds', 'will', 'build', 'a', 'strong', 'and', 'solid', 'state', 'that', 'helps', 'to', 'return', 'the', 'awful', 'genies', 'of', 'violent', 'extremism', ',', 'tyranny', ',', 'and', 'disintegration', 'to', 'their', 'bottles', '.']",
         "num_words": 31,
         "_deepnote_index_column": 24
        },
        {
         "sentences": "Furthermore, this new Kurdish nation-state will be a safe haven and a shared home for a people that has been scattered by the cruelties of history.",
         "words": "['Furthermore', ',', 'this', 'new', 'Kurdish', 'nation-state', 'will', 'be', 'a', 'safe', 'haven', 'and', 'a', 'shared', 'home', 'for', 'a', 'people', 'that', 'has', 'been', 'scattered', 'by', 'the', 'cruelties', 'of', 'history', '.']",
         "num_words": 28,
         "_deepnote_index_column": 25
        },
        {
         "sentences": "It will help to unite a people long divided not just by scheming enemies, but also by deep disagreement over what it means to be a Kurd.",
         "words": "['It', 'will', 'help', 'to', 'unite', 'a', 'people', 'long', 'divided', 'not', 'just', 'by', 'scheming', 'enemies', ',', 'but', 'also', 'by', 'deep', 'disagreement', 'over', 'what', 'it', 'means', 'to', 'be', 'a', 'Kurd', '.']",
         "num_words": 29,
         "_deepnote_index_column": 26
        },
        {
         "sentences": "Like one of the world’s greatest nations – though one currently debased by those who purport to lead it – the Kurdish nation-state will be a “shining city on a hill,” a luminous lodestar for the lost sons and daughters of Kurdistan, and a source of hope for all of the world’s dispossessed and displaced.",
         "words": "['Like', 'one', 'of', 'the', 'world', '’', 's', 'greatest', 'nations', '–', 'though', 'one', 'currently', 'debased', 'by', 'those', 'who', 'purport', 'to', 'lead', 'it', '–', 'the', 'Kurdish', 'nation-state', 'will', 'be', 'a', '“', 'shining', 'city', 'on', 'a', 'hill', ',', '”', 'a', 'luminous', 'lodestar', 'for', 'the', 'lost', 'sons', 'and', 'daughters', 'of', 'Kurdistan', ',', 'and', 'a', 'source', 'of', 'hope', 'for', 'all', 'of', 'the', 'world', '’', 's', 'dispossessed', 'and', 'displaced', '.']",
         "num_words": 64,
         "_deepnote_index_column": 27
        },
        {
         "sentences": "As such, the Kurds should never be afraid to proclaim their vocation – a vocation which is both universal and, if the words have any meaning at all, truly internationalist.",
         "words": "['As', 'such', ',', 'the', 'Kurds', 'should', 'never', 'be', 'afraid', 'to', 'proclaim', 'their', 'vocation', '–', 'a', 'vocation', 'which', 'is', 'both', 'universal', 'and', ',', 'if', 'the', 'words', 'have', 'any', 'meaning', 'at', 'all', ',', 'truly', 'internationalist', '.']",
         "num_words": 34,
         "_deepnote_index_column": 28
        },
        {
         "sentences": "The very voices of the Kurds embody this.",
         "words": "['The', 'very', 'voices', 'of', 'the', 'Kurds', 'embody', 'this', '.']",
         "num_words": 9,
         "_deepnote_index_column": 29
        },
        {
         "sentences": "One thing that has struck me in the course of my frequent visits to Kurdistan is that the Kurds are a multilingual people.",
         "words": "['One', 'thing', 'that', 'has', 'struck', 'me', 'in', 'the', 'course', 'of', 'my', 'frequent', 'visits', 'to', 'Kurdistan', 'is', 'that', 'the', 'Kurds', 'are', 'a', 'multilingual', 'people', '.']",
         "num_words": 24,
         "_deepnote_index_column": 30
        },
        {
         "sentences": "In addition to Kurdish – their mother tongue, rich with ancient culture – they speak the languages acquired in exile.",
         "words": "['In', 'addition', 'to', 'Kurdish', '–', 'their', 'mother', 'tongue', ',', 'rich', 'with', 'ancient', 'culture', '–', 'they', 'speak', 'the', 'languages', 'acquired', 'in', 'exile', '.']",
         "num_words": 22,
         "_deepnote_index_column": 31
        },
        {
         "sentences": "Like the French nation, which was enriched over the centuries by immigrants and oppressed peoples, the Kurds are diverse in origin and cosmopolitan in outlook.",
         "words": "['Like', 'the', 'French', 'nation', ',', 'which', 'was', 'enriched', 'over', 'the', 'centuries', 'by', 'immigrants', 'and', 'oppressed', 'peoples', ',', 'the', 'Kurds', 'are', 'diverse', 'in', 'origin', 'and', 'cosmopolitan', 'in', 'outlook', '.']",
         "num_words": 28,
         "_deepnote_index_column": 32
        },
        {
         "sentences": "Their provision of refuge for persecuted Yezidi and Christian communities is further proof of this.",
         "words": "['Their', 'provision', 'of', 'refuge', 'for', 'persecuted', 'Yezidi', 'and', 'Christian', 'communities', 'is', 'further', 'proof', 'of', 'this', '.']",
         "num_words": 16,
         "_deepnote_index_column": 33
        },
        {
         "sentences": "Today’s populist wreckers across the West deny it, but “internationalism” is a beautiful idea.",
         "words": "['Today', '’', 's', 'populist', 'wreckers', 'across', 'the', 'West', 'deny', 'it', ',', 'but', '“', 'internationalism', '”', 'is', 'a', 'beautiful', 'idea', '.']",
         "num_words": 20,
         "_deepnote_index_column": 34
        },
        {
         "sentences": "For two centuries, it has been the animating spirit of so many battles for freedom, and has inspired so much courage, resistance, sacrifice, and nobility, and so many beautiful writings.",
         "words": "['For', 'two', 'centuries', ',', 'it', 'has', 'been', 'the', 'animating', 'spirit', 'of', 'so', 'many', 'battles', 'for', 'freedom', ',', 'and', 'has', 'inspired', 'so', 'much', 'courage', ',', 'resistance', ',', 'sacrifice', ',', 'and', 'nobility', ',', 'and', 'so', 'many', 'beautiful', 'writings', '.']",
         "num_words": 37,
         "_deepnote_index_column": 35
        },
        {
         "sentences": "Despite the traps into which it has sometimes fallen and become entangled, internationalism has nourished the best of what “the West” has represented.",
         "words": "['Despite', 'the', 'traps', 'into', 'which', 'it', 'has', 'sometimes', 'fallen', 'and', 'become', 'entangled', ',', 'internationalism', 'has', 'nourished', 'the', 'best', 'of', 'what', '“', 'the', 'West', '”', 'has', 'represented', '.']",
         "num_words": 27,
         "_deepnote_index_column": 36
        },
        {
         "sentences": "One of Kurdistan’s merits is to have kept alive the flame of internationalism in a benighted region.",
         "words": "['One', 'of', 'Kurdistan', '’', 's', 'merits', 'is', 'to', 'have', 'kept', 'alive', 'the', 'flame', 'of', 'internationalism', 'in', 'a', 'benighted', 'region', '.']",
         "num_words": 20,
         "_deepnote_index_column": 37
        },
        {
         "sentences": "Reflect for a moment on the Kurds’ battle against ISIS, which they have waged not only for themselves and their safety, but also on behalf of the rest of the world.",
         "words": "['Reflect', 'for', 'a', 'moment', 'on', 'the', 'Kurds', '’', 'battle', 'against', 'ISIS', ',', 'which', 'they', 'have', 'waged', 'not', 'only', 'for', 'themselves', 'and', 'their', 'safety', ',', 'but', 'also', 'on', 'behalf', 'of', 'the', 'rest', 'of', 'the', 'world', '.']",
         "num_words": 35,
         "_deepnote_index_column": 38
        },
        {
         "sentences": "The Kurds have acted as internationalists, while also being internationalists in heart and soul.",
         "words": "['The', 'Kurds', 'have', 'acted', 'as', 'internationalists', ',', 'while', 'also', 'being', 'internationalists', 'in', 'heart', 'and', 'soul', '.']",
         "num_words": 16,
         "_deepnote_index_column": 39
        },
        {
         "sentences": "So the Kurds will soon – very soon, I hope – be free, with their own independent nation-state.",
         "words": "['So', 'the', 'Kurds', 'will', 'soon', '–', 'very', 'soon', ',', 'I', 'hope', '–', 'be', 'free', ',', 'with', 'their', 'own', 'independent', 'nation-state', '.']",
         "num_words": 21,
         "_deepnote_index_column": 40
        },
        {
         "sentences": "But, after that, they will be surrounded by powerful neighbors that will, one expects, be hostile toward them – not least because of the precedent Kurdish independence sets.",
         "words": "['But', ',', 'after', 'that', ',', 'they', 'will', 'be', 'surrounded', 'by', 'powerful', 'neighbors', 'that', 'will', ',', 'one', 'expects', ',', 'be', 'hostile', 'toward', 'them', '–', 'not', 'least', 'because', 'of', 'the', 'precedent', 'Kurdish', 'independence', 'sets', '.']",
         "num_words": 33,
         "_deepnote_index_column": 41
        },
        {
         "sentences": "Free Kurdistan will be a living reproach to the many false nations, anti-nations, and prison nations across the Middle East, in which Kurds, among others, remain confined.",
         "words": "['Free', 'Kurdistan', 'will', 'be', 'a', 'living', 'reproach', 'to', 'the', 'many', 'false', 'nations', ',', 'anti-nations', ',', 'and', 'prison', 'nations', 'across', 'the', 'Middle', 'East', ',', 'in', 'which', 'Kurds', ',', 'among', 'others', ',', 'remain', 'confined', '.']",
         "num_words": 33,
         "_deepnote_index_column": 42
        },
        {
         "sentences": "Confronted with the new tests and challenges that are bound to stem from that reproach – challenges that independence alone will not suffice to surmount – the Kurdish people must recognize that they are likely to find themselves as alone as they have ever been in their long history.",
         "words": "['Confronted', 'with', 'the', 'new', 'tests', 'and', 'challenges', 'that', 'are', 'bound', 'to', 'stem', 'from', 'that', 'reproach', '–', 'challenges', 'that', 'independence', 'alone', 'will', 'not', 'suffice', 'to', 'surmount', '–', 'the', 'Kurdish', 'people', 'must', 'recognize', 'that', 'they', 'are', 'likely', 'to', 'find', 'themselves', 'as', 'alone', 'as', 'they', 'have', 'ever', 'been', 'in', 'their', 'long', 'history', '.']",
         "num_words": 50,
         "_deepnote_index_column": 43
        },
        {
         "sentences": "Charles de Gaulle once said that a people has no friends, and, alas, the Kurds will find out soon enough that today’s friends will not always be their friends.",
         "words": "['Charles', 'de', 'Gaulle', 'once', 'said', 'that', 'a', 'people', 'has', 'no', 'friends', ',', 'and', ',', 'alas', ',', 'the', 'Kurds', 'will', 'find', 'out', 'soon', 'enough', 'that', 'today', '’', 's', 'friends', 'will', 'not', 'always', 'be', 'their', 'friends', '.']",
         "num_words": 35,
         "_deepnote_index_column": 44
        },
        {
         "sentences": "It may happen that they prefer their supposed world order to friendship, justice, and the cause of true stability and peace.",
         "words": "['It', 'may', 'happen', 'that', 'they', 'prefer', 'their', 'supposed', 'world', 'order', 'to', 'friendship', ',', 'justice', ',', 'and', 'the', 'cause', 'of', 'true', 'stability', 'and', 'peace', '.']",
         "num_words": 24,
         "_deepnote_index_column": 45
        },
        {
         "sentences": "The Kurds are preparing for this.",
         "words": "['The', 'Kurds', 'are', 'preparing', 'for', 'this', '.']",
         "num_words": 7,
         "_deepnote_index_column": 46
        },
        {
         "sentences": "And, fortunately, there are also millions of men and women abroad, in France and throughout the world, who believed in Kurdistan when governments wanted nothing to do with it.",
         "words": "['And', ',', 'fortunately', ',', 'there', 'are', 'also', 'millions', 'of', 'men', 'and', 'women', 'abroad', ',', 'in', 'France', 'and', 'throughout', 'the', 'world', ',', 'who', 'believed', 'in', 'Kurdistan', 'when', 'governments', 'wanted', 'nothing', 'to', 'do', 'with', 'it', '.']",
         "num_words": 34,
         "_deepnote_index_column": 47
        },
        {
         "sentences": "That sort of friendship – the support offered by so many of the world’s citizens – is much more constant.",
         "words": "['That', 'sort', 'of', 'friendship', '–', 'the', 'support', 'offered', 'by', 'so', 'many', 'of', 'the', 'world', '’', 's', 'citizens', '–', 'is', 'much', 'more', 'constant', '.']",
         "num_words": 23,
         "_deepnote_index_column": 48
        },
        {
         "sentences": "Friends like that will never fail.",
         "words": "['Friends', 'like', 'that', 'will', 'never', 'fail', '.']",
         "num_words": 7,
         "_deepnote_index_column": 49
        },
        {
         "sentences": "A Death of One’s Own\nPRINCETON – Dudley Clendinen, a writer and journalist, has amyotrophic lateral sclerosis (ALS), a terminal degenerative illness.",
         "words": "['A', 'Death', 'of', 'One', '’', 's', 'Own', 'PRINCETON', '–', 'Dudley', 'Clendinen', ',', 'a', 'writer', 'and', 'journalist', ',', 'has', 'amyotrophic', 'lateral', 'sclerosis', '(', 'ALS', ')', ',', 'a', 'terminal', 'degenerative', 'illness', '.']",
         "num_words": 30,
         "_deepnote_index_column": 50
        },
        {
         "sentences": "In The New York Times earlier this year, he wrote movingly both of his current enjoyment of his life, and of his plan to end it when, as he put it, “the music stops – when I can’t tie my bow tie, tell a funny story, walk my dog, talk with Whitney, kiss someone special, or tap out lines like this.”\nA friend told Clendinen that he needed to buy a gun.",
         "words": "['In', 'The', 'New', 'York', 'Times', 'earlier', 'this', 'year', ',', 'he', 'wrote', 'movingly', 'both', 'of', 'his', 'current', 'enjoyment', 'of', 'his', 'life', ',', 'and', 'of', 'his', 'plan', 'to', 'end', 'it', 'when', ',', 'as', 'he', 'put', 'it', ',', '“', 'the', 'music', 'stops', '–', 'when', 'I', 'can', '’', 't', 'tie', 'my', 'bow', 'tie', ',', 'tell', 'a', 'funny', 'story', ',', 'walk', 'my', 'dog', ',', 'talk', 'with', 'Whitney', ',', 'kiss', 'someone', 'special', ',', 'or', 'tap', 'out', 'lines', 'like', 'this.', '”', 'A', 'friend', 'told', 'Clendinen', 'that', 'he', 'needed', 'to', 'buy', 'a', 'gun', '.']",
         "num_words": 86,
         "_deepnote_index_column": 51
        },
        {
         "sentences": "In the United States, you can buy a gun and put a bullet through your brain without breaking any laws.",
         "words": "['In', 'the', 'United', 'States', ',', 'you', 'can', 'buy', 'a', 'gun', 'and', 'put', 'a', 'bullet', 'through', 'your', 'brain', 'without', 'breaking', 'any', 'laws', '.']",
         "num_words": 22,
         "_deepnote_index_column": 52
        },
        {
         "sentences": "But if you are a law-abiding person who is already too ill to buy a gun, or to use one, or if shooting yourself doesn’t strike you as a peaceful and dignified way to end your life, or if you just don’t want to leave a mess for others to clean up, what are you to do?",
         "words": "['But', 'if', 'you', 'are', 'a', 'law-abiding', 'person', 'who', 'is', 'already', 'too', 'ill', 'to', 'buy', 'a', 'gun', ',', 'or', 'to', 'use', 'one', ',', 'or', 'if', 'shooting', 'yourself', 'doesn', '’', 't', 'strike', 'you', 'as', 'a', 'peaceful', 'and', 'dignified', 'way', 'to', 'end', 'your', 'life', ',', 'or', 'if', 'you', 'just', 'don', '’', 't', 'want', 'to', 'leave', 'a', 'mess', 'for', 'others', 'to', 'clean', 'up', ',', 'what', 'are', 'you', 'to', 'do', '?']",
         "num_words": 66,
         "_deepnote_index_column": 53
        },
        {
         "sentences": "You can’t ask someone else to shoot you, and, in most countries, if you tell your doctor that you have had enough, and that you would like his or her assistance in dying, you are asking your doctor to commit a crime.",
         "words": "['You', 'can', '’', 't', 'ask', 'someone', 'else', 'to', 'shoot', 'you', ',', 'and', ',', 'in', 'most', 'countries', ',', 'if', 'you', 'tell', 'your', 'doctor', 'that', 'you', 'have', 'had', 'enough', ',', 'and', 'that', 'you', 'would', 'like', 'his', 'or', 'her', 'assistance', 'in', 'dying', ',', 'you', 'are', 'asking', 'your', 'doctor', 'to', 'commit', 'a', 'crime', '.']",
         "num_words": 50,
         "_deepnote_index_column": 54
        },
        {
         "sentences": "Last month, an expert panel of the Royal Society of Canada, chaired by Udo Schüklenk, a professor of bioethics at Queens University, released a report on decision-making at the end of life.",
         "words": "['Last', 'month', ',', 'an', 'expert', 'panel', 'of', 'the', 'Royal', 'Society', 'of', 'Canada', ',', 'chaired', 'by', 'Udo', 'Schüklenk', ',', 'a', 'professor', 'of', 'bioethics', 'at', 'Queens', 'University', ',', 'released', 'a', 'report', 'on', 'decision-making', 'at', 'the', 'end', 'of', 'life', '.']",
         "num_words": 37,
         "_deepnote_index_column": 55
        },
        {
         "sentences": "The report provides a strong argument for allowing doctors to help their patients to die, provided that the patients are competent and freely request such assistance.",
         "words": "['The', 'report', 'provides', 'a', 'strong', 'argument', 'for', 'allowing', 'doctors', 'to', 'help', 'their', 'patients', 'to', 'die', ',', 'provided', 'that', 'the', 'patients', 'are', 'competent', 'and', 'freely', 'request', 'such', 'assistance', '.']",
         "num_words": 28,
         "_deepnote_index_column": 56
        },
        {
         "sentences": "The ethical basis of the panel’s argument is not so much the avoidance of unnecessary suffering in terminally ill patients, but rather the core value of individual autonomy or self-determination.",
         "words": "['The', 'ethical', 'basis', 'of', 'the', 'panel', '’', 's', 'argument', 'is', 'not', 'so', 'much', 'the', 'avoidance', 'of', 'unnecessary', 'suffering', 'in', 'terminally', 'ill', 'patients', ',', 'but', 'rather', 'the', 'core', 'value', 'of', 'individual', 'autonomy', 'or', 'self-determination', '.']",
         "num_words": 34,
         "_deepnote_index_column": 57
        },
        {
         "sentences": "“The manner of our dying,” the panel concludes, “reflects our sense of what is important just as much as do the other central decisions in our lives.”\nIn a state that protects individual rights, therefore, deciding how to die ought to be recognized as such a right.",
         "words": "['“', 'The', 'manner', 'of', 'our', 'dying', ',', '”', 'the', 'panel', 'concludes', ',', '“', 'reflects', 'our', 'sense', 'of', 'what', 'is', 'important', 'just', 'as', 'much', 'as', 'do', 'the', 'other', 'central', 'decisions', 'in', 'our', 'lives.', '”', 'In', 'a', 'state', 'that', 'protects', 'individual', 'rights', ',', 'therefore', ',', 'deciding', 'how', 'to', 'die', 'ought', 'to', 'be', 'recognized', 'as', 'such', 'a', 'right', '.']",
         "num_words": 56,
         "_deepnote_index_column": 58
        },
        {
         "sentences": "The report also offers an up-to-date review of how assistance by physicians in ending life is working in the “living laboratories” – the jurisdictions where it is legal.",
         "words": "['The', 'report', 'also', 'offers', 'an', 'up-to-date', 'review', 'of', 'how', 'assistance', 'by', 'physicians', 'in', 'ending', 'life', 'is', 'working', 'in', 'the', '“', 'living', 'laboratories', '”', '–', 'the', 'jurisdictions', 'where', 'it', 'is', 'legal', '.']",
         "num_words": 31,
         "_deepnote_index_column": 59
        },
        {
         "sentences": "In Switzerland, as well as in the US states of Oregon, Washington, and Montana, the law now permits physicians, on request, to supply a terminally ill patient with a prescription for a drug that will bring about a peaceful death.",
         "words": "['In', 'Switzerland', ',', 'as', 'well', 'as', 'in', 'the', 'US', 'states', 'of', 'Oregon', ',', 'Washington', ',', 'and', 'Montana', ',', 'the', 'law', 'now', 'permits', 'physicians', ',', 'on', 'request', ',', 'to', 'supply', 'a', 'terminally', 'ill', 'patient', 'with', 'a', 'prescription', 'for', 'a', 'drug', 'that', 'will', 'bring', 'about', 'a', 'peaceful', 'death', '.']",
         "num_words": 47,
         "_deepnote_index_column": 60
        },
        {
         "sentences": "In The Netherlands, Belgium, and Luxembourg, doctors have the additional option of responding to the patient’s request by giving the patient a lethal injection.",
         "words": "['In', 'The', 'Netherlands', ',', 'Belgium', ',', 'and', 'Luxembourg', ',', 'doctors', 'have', 'the', 'additional', 'option', 'of', 'responding', 'to', 'the', 'patient', '’', 's', 'request', 'by', 'giving', 'the', 'patient', 'a', 'lethal', 'injection', '.']",
         "num_words": 30,
         "_deepnote_index_column": 61
        },
        {
         "sentences": "The panel examined reports from each of these jurisdictions, with the exception of Montana (where legalization of assistance in dying occurred only in 2009, and reliable data are not yet available).",
         "words": "['The', 'panel', 'examined', 'reports', 'from', 'each', 'of', 'these', 'jurisdictions', ',', 'with', 'the', 'exception', 'of', 'Montana', '(', 'where', 'legalization', 'of', 'assistance', 'in', 'dying', 'occurred', 'only', 'in', '2009', ',', 'and', 'reliable', 'data', 'are', 'not', 'yet', 'available', ')', '.']",
         "num_words": 36,
         "_deepnote_index_column": 62
        },
        {
         "sentences": "In The Netherlands, voluntary euthanasia accounted for 1.7% of all deaths in 2005 – exactly the same level as in 1990.",
         "words": "['In', 'The', 'Netherlands', ',', 'voluntary', 'euthanasia', 'accounted', 'for', '1.7', '%', 'of', 'all', 'deaths', 'in', '2005', '–', 'exactly', 'the', 'same', 'level', 'as', 'in', '1990', '.']",
         "num_words": 24,
         "_deepnote_index_column": 63
        },
        {
         "sentences": "Moreover, the frequency of ending a patient’s life without an explicit request from the patient fell by half during the same period, from 0.8% to 0.4%.",
         "words": "['Moreover', ',', 'the', 'frequency', 'of', 'ending', 'a', 'patient', '’', 's', 'life', 'without', 'an', 'explicit', 'request', 'from', 'the', 'patient', 'fell', 'by', 'half', 'during', 'the', 'same', 'period', ',', 'from', '0.8', '%', 'to', '0.4', '%', '.']",
         "num_words": 33,
         "_deepnote_index_column": 64
        },
        {
         "sentences": "Indeed, several surveys suggest that ending a patient’s life without an explicit request is much more common in other countries, where patients cannot lawfully ask a doctor to end their lives.",
         "words": "['Indeed', ',', 'several', 'surveys', 'suggest', 'that', 'ending', 'a', 'patient', '’', 's', 'life', 'without', 'an', 'explicit', 'request', 'is', 'much', 'more', 'common', 'in', 'other', 'countries', ',', 'where', 'patients', 'can', 'not', 'lawfully', 'ask', 'a', 'doctor', 'to', 'end', 'their', 'lives', '.']",
         "num_words": 37,
         "_deepnote_index_column": 65
        },
        {
         "sentences": "In Belgium, although voluntary euthanasia rose from 1.1% of all deaths in 1998 to 1.9% in 2007, the frequency of ending a patient’s life without an explicit request fell from 3.2% to 1.8%.",
         "words": "['In', 'Belgium', ',', 'although', 'voluntary', 'euthanasia', 'rose', 'from', '1.1', '%', 'of', 'all', 'deaths', 'in', '1998', 'to', '1.9', '%', 'in', '2007', ',', 'the', 'frequency', 'of', 'ending', 'a', 'patient', '’', 's', 'life', 'without', 'an', 'explicit', 'request', 'fell', 'from', '3.2', '%', 'to', '1.8', '%', '.']",
         "num_words": 42,
         "_deepnote_index_column": 66
        },
        {
         "sentences": "In Oregon, where the Death with Dignity Act has been in effect for 13 years, the annual number of physician-assisted deaths has yet to reach 100 per year, and the annual total in Washington is even lower.",
         "words": "['In', 'Oregon', ',', 'where', 'the', 'Death', 'with', 'Dignity', 'Act', 'has', 'been', 'in', 'effect', 'for', '13', 'years', ',', 'the', 'annual', 'number', 'of', 'physician-assisted', 'deaths', 'has', 'yet', 'to', 'reach', '100', 'per', 'year', ',', 'and', 'the', 'annual', 'total', 'in', 'Washington', 'is', 'even', 'lower', '.']",
         "num_words": 41,
         "_deepnote_index_column": 67
        },
        {
         "sentences": "The Canadian panel therefore concluded that there is strong evidence to rebut one of the greatest fears that opponents of voluntary euthanasia or physician-assisted dying often voice – that it is the first step down a slippery slope towards more widespread medical killing.",
         "words": "['The', 'Canadian', 'panel', 'therefore', 'concluded', 'that', 'there', 'is', 'strong', 'evidence', 'to', 'rebut', 'one', 'of', 'the', 'greatest', 'fears', 'that', 'opponents', 'of', 'voluntary', 'euthanasia', 'or', 'physician-assisted', 'dying', 'often', 'voice', '–', 'that', 'it', 'is', 'the', 'first', 'step', 'down', 'a', 'slippery', 'slope', 'towards', 'more', 'widespread', 'medical', 'killing', '.']",
         "num_words": 44,
         "_deepnote_index_column": 68
        },
        {
         "sentences": "The panel also found inadequate several other objections to legalization, and recommended that the law in Canada be changed to permit both physician-assisted suicide and voluntary euthanasia.",
         "words": "['The', 'panel', 'also', 'found', 'inadequate', 'several', 'other', 'objections', 'to', 'legalization', ',', 'and', 'recommended', 'that', 'the', 'law', 'in', 'Canada', 'be', 'changed', 'to', 'permit', 'both', 'physician-assisted', 'suicide', 'and', 'voluntary', 'euthanasia', '.']",
         "num_words": 29,
         "_deepnote_index_column": 69
        },
        {
         "sentences": "Surveys show that more than two-thirds of Canadians support legalization of voluntary euthanasia – a level that has held steady for several decades.",
         "words": "['Surveys', 'show', 'that', 'more', 'than', 'two-thirds', 'of', 'Canadians', 'support', 'legalization', 'of', 'voluntary', 'euthanasia', '–', 'a', 'level', 'that', 'has', 'held', 'steady', 'for', 'several', 'decades', '.']",
         "num_words": 24,
         "_deepnote_index_column": 70
        },
        {
         "sentences": "So it is not surprising that the report received strong backing in the mainstream Canadian media.",
         "words": "['So', 'it', 'is', 'not', 'surprising', 'that', 'the', 'report', 'received', 'strong', 'backing', 'in', 'the', 'mainstream', 'Canadian', 'media', '.']",
         "num_words": 17,
         "_deepnote_index_column": 71
        },
        {
         "sentences": "What is more puzzling is the cool response from the country’s political parties, none of which indicated a willingness to support law reform in this area.",
         "words": "['What', 'is', 'more', 'puzzling', 'is', 'the', 'cool', 'response', 'from', 'the', 'country', '’', 's', 'political', 'parties', ',', 'none', 'of', 'which', 'indicated', 'a', 'willingness', 'to', 'support', 'law', 'reform', 'in', 'this', 'area', '.']",
         "num_words": 30,
         "_deepnote_index_column": 72
        },
        {
         "sentences": "There is a similar contrast between public opinion and political (in)action elsewhere, including the United Kingdom, Australia, New Zealand, and several continental European countries.",
         "words": "['There', 'is', 'a', 'similar', 'contrast', 'between', 'public', 'opinion', 'and', 'political', '(', 'in', ')', 'action', 'elsewhere', ',', 'including', 'the', 'United', 'Kingdom', ',', 'Australia', ',', 'New', 'Zealand', ',', 'and', 'several', 'continental', 'European', 'countries', '.']",
         "num_words": 32,
         "_deepnote_index_column": 73
        },
        {
         "sentences": "Why, when it comes to dying, do democratic institutions so often fail to translate what people want into legislation?",
         "words": "['Why', ',', 'when', 'it', 'comes', 'to', 'dying', ',', 'do', 'democratic', 'institutions', 'so', 'often', 'fail', 'to', 'translate', 'what', 'people', 'want', 'into', 'legislation', '?']",
         "num_words": 22,
         "_deepnote_index_column": 74
        },
        {
         "sentences": "I suspect that, above all, mainstream politicians fear religious institutions that oppose voluntary euthanasia, even though individual believers often do not follow their religious leaders’ views.",
         "words": "['I', 'suspect', 'that', ',', 'above', 'all', ',', 'mainstream', 'politicians', 'fear', 'religious', 'institutions', 'that', 'oppose', 'voluntary', 'euthanasia', ',', 'even', 'though', 'individual', 'believers', 'often', 'do', 'not', 'follow', 'their', 'religious', 'leaders', '’', 'views', '.']",
         "num_words": 31,
         "_deepnote_index_column": 75
        },
        {
         "sentences": "Polls in various countries have shown that a majority of Roman Catholics, for example, support legalization of voluntary euthanasia.",
         "words": "['Polls', 'in', 'various', 'countries', 'have', 'shown', 'that', 'a', 'majority', 'of', 'Roman', 'Catholics', ',', 'for', 'example', ',', 'support', 'legalization', 'of', 'voluntary', 'euthanasia', '.']",
         "num_words": 22,
         "_deepnote_index_column": 76
        },
        {
         "sentences": "Even in strongly Catholic Poland, more people now support legalization than oppose it.",
         "words": "['Even', 'in', 'strongly', 'Catholic', 'Poland', ',', 'more', 'people', 'now', 'support', 'legalization', 'than', 'oppose', 'it', '.']",
         "num_words": 15,
         "_deepnote_index_column": 77
        },
        {
         "sentences": "In any case, the religious beliefs of a minority should not deny individuals like Dudley Clendinen the right to end their lives in the manner of their own choosing.",
         "words": "['In', 'any', 'case', ',', 'the', 'religious', 'beliefs', 'of', 'a', 'minority', 'should', 'not', 'deny', 'individuals', 'like', 'Dudley', 'Clendinen', 'the', 'right', 'to', 'end', 'their', 'lives', 'in', 'the', 'manner', 'of', 'their', 'own', 'choosing', '.']",
         "num_words": 31,
         "_deepnote_index_column": 78
        },
        {
         "sentences": "The Development Costs of Homophobia\nLONDON – As a gay man living in Nigeria, my biggest challenge was choosing between my sexuality and my job.",
         "words": "['The', 'Development', 'Costs', 'of', 'Homophobia', 'LONDON', '–', 'As', 'a', 'gay', 'man', 'living', 'in', 'Nigeria', ',', 'my', 'biggest', 'challenge', 'was', 'choosing', 'between', 'my', 'sexuality', 'and', 'my', 'job', '.']",
         "num_words": 27,
         "_deepnote_index_column": 79
        },
        {
         "sentences": "In 2004, I was at the start of my acting career.",
         "words": "['In', '2004', ',', 'I', 'was', 'at', 'the', 'start', 'of', 'my', 'acting', 'career', '.']",
         "num_words": 13,
         "_deepnote_index_column": 80
        },
        {
         "sentences": "I had just left university, and I was featured in “Roses and Thorns,” a prime-time soap opera on Galaxy Television, one of Nigeria’s most popular TV stations.",
         "words": "['I', 'had', 'just', 'left', 'university', ',', 'and', 'I', 'was', 'featured', 'in', '“', 'Roses', 'and', 'Thorns', ',', '”', 'a', 'prime-time', 'soap', 'opera', 'on', 'Galaxy', 'Television', ',', 'one', 'of', 'Nigeria', '’', 's', 'most', 'popular', 'TV', 'stations', '.']",
         "num_words": 35,
         "_deepnote_index_column": 81
        },
        {
         "sentences": "I was playing the role of “Richard,” the only son of a rich family who was having an affair with the house maid.",
         "words": "['I', 'was', 'playing', 'the', 'role', 'of', '“', 'Richard', ',', '”', 'the', 'only', 'son', 'of', 'a', 'rich', 'family', 'who', 'was', 'having', 'an', 'affair', 'with', 'the', 'house', 'maid', '.']",
         "num_words": 27,
         "_deepnote_index_column": 82
        },
        {
         "sentences": "Whispers were making the rounds about my private life, and I decided it was time to come out.",
         "words": "['Whispers', 'were', 'making', 'the', 'rounds', 'about', 'my', 'private', 'life', ',', 'and', 'I', 'decided', 'it', 'was', 'time', 'to', 'come', 'out', '.']",
         "num_words": 20,
         "_deepnote_index_column": 83
        },
        {
         "sentences": "So I agreed to go on Nigeria’s most-watched television talk show to discuss my sexuality.",
         "words": "['So', 'I', 'agreed', 'to', 'go', 'on', 'Nigeria', '’', 's', 'most-watched', 'television', 'talk', 'show', 'to', 'discuss', 'my', 'sexuality', '.']",
         "num_words": 18,
         "_deepnote_index_column": 84
        },
        {
         "sentences": "Almost immediately, my character was eliminated.",
         "words": "['Almost', 'immediately', ',', 'my', 'character', 'was', 'eliminated', '.']",
         "num_words": 8,
         "_deepnote_index_column": 85
        },
        {
         "sentences": "And when my job disappeared, so did my financial security.",
         "words": "['And', 'when', 'my', 'job', 'disappeared', ',', 'so', 'did', 'my', 'financial', 'security', '.']",
         "num_words": 12,
         "_deepnote_index_column": 86
        },
        {
         "sentences": "Like many gay men and lesbians in Africa, my choice was between economic freedom and mental imprisonment.",
         "words": "['Like', 'many', 'gay', 'men', 'and', 'lesbians', 'in', 'Africa', ',', 'my', 'choice', 'was', 'between', 'economic', 'freedom', 'and', 'mental', 'imprisonment', '.']",
         "num_words": 19,
         "_deepnote_index_column": 87
        },
        {
         "sentences": "This year, Nigeria and Uganda put in place draconian anti-gay laws, sparking a worldwide debate about human rights.",
         "words": "['This', 'year', ',', 'Nigeria', 'and', 'Uganda', 'put', 'in', 'place', 'draconian', 'anti-gay', 'laws', ',', 'sparking', 'a', 'worldwide', 'debate', 'about', 'human', 'rights', '.']",
         "num_words": 21,
         "_deepnote_index_column": 88
        },
        {
         "sentences": "This debate has also started at the World Bank, whose president, Jim Yong Kim, recently declared that “institutionalized discrimination is bad for people and for societies.”\nKim’s statement has invited criticism and controversy.",
         "words": "['This', 'debate', 'has', 'also', 'started', 'at', 'the', 'World', 'Bank', ',', 'whose', 'president', ',', 'Jim', 'Yong', 'Kim', ',', 'recently', 'declared', 'that', '“', 'institutionalized', 'discrimination', 'is', 'bad', 'for', 'people', 'and', 'for', 'societies.', '”', 'Kim', '’', 's', 'statement', 'has', 'invited', 'criticism', 'and', 'controversy', '.']",
         "num_words": 41,
         "_deepnote_index_column": 89
        },
        {
         "sentences": "Often, as in Uganda and Nigeria, we hear the claim that opposition to official discrimination against gay, lesbian, bisexual, and transgender (LGBT) people is simply a way to impose “Western” values on Africa.",
         "words": "['Often', ',', 'as', 'in', 'Uganda', 'and', 'Nigeria', ',', 'we', 'hear', 'the', 'claim', 'that', 'opposition', 'to', 'official', 'discrimination', 'against', 'gay', ',', 'lesbian', ',', 'bisexual', ',', 'and', 'transgender', '(', 'LGBT', ')', 'people', 'is', 'simply', 'a', 'way', 'to', 'impose', '“', 'Western', '”', 'values', 'on', 'Africa', '.']",
         "num_words": 43,
         "_deepnote_index_column": 90
        },
        {
         "sentences": "But this assumes that homosexuality is “un-African.”\nAnd, despite the absence of evidence that any given country or continent does not have LGBT people (and ample evidence to the contrary), it is an assumption that an increasing number of African leaders have embraced.",
         "words": "['But', 'this', 'assumes', 'that', 'homosexuality', 'is', '“', 'un-African.', '”', 'And', ',', 'despite', 'the', 'absence', 'of', 'evidence', 'that', 'any', 'given', 'country', 'or', 'continent', 'does', 'not', 'have', 'LGBT', 'people', '(', 'and', 'ample', 'evidence', 'to', 'the', 'contrary', ')', ',', 'it', 'is', 'an', 'assumption', 'that', 'an', 'increasing', 'number', 'of', 'African', 'leaders', 'have', 'embraced', '.']",
         "num_words": 50,
         "_deepnote_index_column": 91
        },
        {
         "sentences": "In 2006, President Olusegun Obasanjo, then Nigeria’s president, was among the first to do so.",
         "words": "['In', '2006', ',', 'President', 'Olusegun', 'Obasanjo', ',', 'then', 'Nigeria', '’', 's', 'president', ',', 'was', 'among', 'the', 'first', 'to', 'do', 'so', '.']",
         "num_words": 21,
         "_deepnote_index_column": 92
        },
        {
         "sentences": "Uganda’s President Yoweri Museveni followed suit when signing the anti-gay bill into law in 2014.",
         "words": "['Uganda', '’', 's', 'President', 'Yoweri', 'Museveni', 'followed', 'suit', 'when', 'signing', 'the', 'anti-gay', 'bill', 'into', 'law', 'in', '2014', '.']",
         "num_words": 18,
         "_deepnote_index_column": 93
        },
        {
         "sentences": "Other leaders, from Gambia’s President Yahya Jammeh to Zimbabwe’s Robert Mugabe, have spoken in the same vein.",
         "words": "['Other', 'leaders', ',', 'from', 'Gambia', '’', 's', 'President', 'Yahya', 'Jammeh', 'to', 'Zimbabwe', '’', 's', 'Robert', 'Mugabe', ',', 'have', 'spoken', 'in', 'the', 'same', 'vein', '.']",
         "num_words": 24,
         "_deepnote_index_column": 94
        },
        {
         "sentences": "These official attitudes have caused significant suffering for Africa’s gays and lesbians.",
         "words": "['These', 'official', 'attitudes', 'have', 'caused', 'significant', 'suffering', 'for', 'Africa', '’', 's', 'gays', 'and', 'lesbians', '.']",
         "num_words": 15,
         "_deepnote_index_column": 95
        },
        {
         "sentences": "Indeed, the price of homophobia for gay people in many African countries is painfully clear: legal penalties, social ostracism, and mob justice.",
         "words": "['Indeed', ',', 'the', 'price', 'of', 'homophobia', 'for', 'gay', 'people', 'in', 'many', 'African', 'countries', 'is', 'painfully', 'clear', ':', 'legal', 'penalties', ',', 'social', 'ostracism', ',', 'and', 'mob', 'justice', '.']",
         "num_words": 27,
         "_deepnote_index_column": 96
        },
        {
         "sentences": "But here is what Africa’s anti-gay leaders miss: legal protections are not only a human-rights issue, but also an economic issue.",
         "words": "['But', 'here', 'is', 'what', 'Africa', '’', 's', 'anti-gay', 'leaders', 'miss', ':', 'legal', 'protections', 'are', 'not', 'only', 'a', 'human-rights', 'issue', ',', 'but', 'also', 'an', 'economic', 'issue', '.']",
         "num_words": 26,
         "_deepnote_index_column": 97
        },
        {
         "sentences": "Kim is exactly right, and research has started measuring the economic costs of homophobia by exploring links between anti-gay sentiment and poverty in countries where laws and social attitudes proscribe same-sex relationships.",
         "words": "['Kim', 'is', 'exactly', 'right', ',', 'and', 'research', 'has', 'started', 'measuring', 'the', 'economic', 'costs', 'of', 'homophobia', 'by', 'exploring', 'links', 'between', 'anti-gay', 'sentiment', 'and', 'poverty', 'in', 'countries', 'where', 'laws', 'and', 'social', 'attitudes', 'proscribe', 'same-sex', 'relationships', '.']",
         "num_words": 34,
         "_deepnote_index_column": 98
        },
        {
         "sentences": "M.V.",
         "words": "['M.V', '.']",
         "num_words": 2,
         "_deepnote_index_column": 99
        },
        {
         "sentences": "Lee Badgett, an economist at the University of Massachusetts-Amherst, presented the initial findings of a study of the economic implications of homophobia in India at a World Bank meeting in March 2014.",
         "words": "['Lee', 'Badgett', ',', 'an', 'economist', 'at', 'the', 'University', 'of', 'Massachusetts-Amherst', ',', 'presented', 'the', 'initial', 'findings', 'of', 'a', 'study', 'of', 'the', 'economic', 'implications', 'of', 'homophobia', 'in', 'India', 'at', 'a', 'World', 'Bank', 'meeting', 'in', 'March', '2014', '.']",
         "num_words": 35,
         "_deepnote_index_column": 100
        },
        {
         "sentences": "Badgett estimated that the Indian economy may have lost up to $23.1 billion in 2012 in direct health costs alone, owing to depression, suicide, and HIV treatment disparities caused by anti-gay stigma and discrimination.",
         "words": "['Badgett', 'estimated', 'that', 'the', 'Indian', 'economy', 'may', 'have', 'lost', 'up', 'to', '$', '23.1', 'billion', 'in', '2012', 'in', 'direct', 'health', 'costs', 'alone', ',', 'owing', 'to', 'depression', ',', 'suicide', ',', 'and', 'HIV', 'treatment', 'disparities', 'caused', 'by', 'anti-gay', 'stigma', 'and', 'discrimination', '.']",
         "num_words": 39,
         "_deepnote_index_column": 101
        },
        {
         "sentences": "In addition to such concrete costs, being gay can bring violence, job loss, family rejection, harassment in schools, and pressure to marry.",
         "words": "['In', 'addition', 'to', 'such', 'concrete', 'costs', ',', 'being', 'gay', 'can', 'bring', 'violence', ',', 'job', 'loss', ',', 'family', 'rejection', ',', 'harassment', 'in', 'schools', ',', 'and', 'pressure', 'to', 'marry', '.']",
         "num_words": 28,
         "_deepnote_index_column": 102
        },
        {
         "sentences": "As a result, many gay people have less education, lower productivity, lower earnings, poorer health, and a shorter life expectancy.",
         "words": "['As', 'a', 'result', ',', 'many', 'gay', 'people', 'have', 'less', 'education', ',', 'lower', 'productivity', ',', 'lower', 'earnings', ',', 'poorer', 'health', ',', 'and', 'a', 'shorter', 'life', 'expectancy', '.']",
         "num_words": 26,
         "_deepnote_index_column": 103
        },
        {
         "sentences": "In Nigeria, I started the Independent Project for Equal Rights (TIERs) in 2005 to respond to the increasing number of people who were losing their jobs because of suspicions about their sexuality.",
         "words": "['In', 'Nigeria', ',', 'I', 'started', 'the', 'Independent', 'Project', 'for', 'Equal', 'Rights', '(', 'TIERs', ')', 'in', '2005', 'to', 'respond', 'to', 'the', 'increasing', 'number', 'of', 'people', 'who', 'were', 'losing', 'their', 'jobs', 'because', 'of', 'suspicions', 'about', 'their', 'sexuality', '.']",
         "num_words": 36,
         "_deepnote_index_column": 104
        },
        {
         "sentences": "During our first year, we provided support for dozens of people.",
         "words": "['During', 'our', 'first', 'year', ',', 'we', 'provided', 'support', 'for', 'dozens', 'of', 'people', '.']",
         "num_words": 13,
         "_deepnote_index_column": 105
        },
        {
         "sentences": "One young man, “Olumide,” was given temporary housing after his family kicked him out for being gay.",
         "words": "['One', 'young', 'man', ',', '“', 'Olumide', ',', '”', 'was', 'given', 'temporary', 'housing', 'after', 'his', 'family', 'kicked', 'him', 'out', 'for', 'being', 'gay', '.']",
         "num_words": 22,
         "_deepnote_index_column": 106
        },
        {
         "sentences": "Another, “Uche,” was fired from his job as a chef after his sexuality was revealed.",
         "words": "['Another', ',', '“', 'Uche', ',', '”', 'was', 'fired', 'from', 'his', 'job', 'as', 'a', 'chef', 'after', 'his', 'sexuality', 'was', 'revealed', '.']",
         "num_words": 20,
         "_deepnote_index_column": 107
        },
        {
         "sentences": "TIERs helped him with accommodation and capital to set up a catering business.",
         "words": "['TIERs', 'helped', 'him', 'with', 'accommodation', 'and', 'capital', 'to', 'set', 'up', 'a', 'catering', 'business', '.']",
         "num_words": 14,
         "_deepnote_index_column": 108
        },
        {
         "sentences": "Though almost 10 years have passed, it is still not safe to use their real names.",
         "words": "['Though', 'almost', '10', 'years', 'have', 'passed', ',', 'it', 'is', 'still', 'not', 'safe', 'to', 'use', 'their', 'real', 'names', '.']",
         "num_words": 18,
         "_deepnote_index_column": 109
        },
        {
         "sentences": "Across Africa, the economic costs of discrimination are increasing, in line with growing pressure on employers, landlords, health-care providers, educational institutions, and others to exclude LGBT people.",
         "words": "['Across', 'Africa', ',', 'the', 'economic', 'costs', 'of', 'discrimination', 'are', 'increasing', ',', 'in', 'line', 'with', 'growing', 'pressure', 'on', 'employers', ',', 'landlords', ',', 'health-care', 'providers', ',', 'educational', 'institutions', ',', 'and', 'others', 'to', 'exclude', 'LGBT', 'people', '.']",
         "num_words": 34,
         "_deepnote_index_column": 110
        },
        {
         "sentences": "Today, the World Bank and other development agencies are mapping out the global development priorities that will follow the Millennium Development Goals (MDGs), which officially end in 2015 and included specific targets for promoting gender equality and empowering women as a strategy for economic growth.",
         "words": "['Today', ',', 'the', 'World', 'Bank', 'and', 'other', 'development', 'agencies', 'are', 'mapping', 'out', 'the', 'global', 'development', 'priorities', 'that', 'will', 'follow', 'the', 'Millennium', 'Development', 'Goals', '(', 'MDGs', ')', ',', 'which', 'officially', 'end', 'in', '2015', 'and', 'included', 'specific', 'targets', 'for', 'promoting', 'gender', 'equality', 'and', 'empowering', 'women', 'as', 'a', 'strategy', 'for', 'economic', 'growth', '.']",
         "num_words": 50,
         "_deepnote_index_column": 111
        },
        {
         "sentences": "Looking ahead, the Bank should take the same approach to LGBT rights and make legal protections for sexual orientation and gender identity a condition for countries receiving loans.",
         "words": "['Looking', 'ahead', ',', 'the', 'Bank', 'should', 'take', 'the', 'same', 'approach', 'to', 'LGBT', 'rights', 'and', 'make', 'legal', 'protections', 'for', 'sexual', 'orientation', 'and', 'gender', 'identity', 'a', 'condition', 'for', 'countries', 'receiving', 'loans', '.']",
         "num_words": 30,
         "_deepnote_index_column": 112
        },
        {
         "sentences": "Building recognition of women’s rights into the MDGs did not corrupt African cultures by imposing “Western” values; in fact, it strengthened many African countries, which now lead the world in the representation of women in government.",
         "words": "['Building', 'recognition', 'of', 'women', '’', 's', 'rights', 'into', 'the', 'MDGs', 'did', 'not', 'corrupt', 'African', 'cultures', 'by', 'imposing', '“', 'Western', '”', 'values', ';', 'in', 'fact', ',', 'it', 'strengthened', 'many', 'African', 'countries', ',', 'which', 'now', 'lead', 'the', 'world', 'in', 'the', 'representation', 'of', 'women', 'in', 'government', '.']",
         "num_words": 44,
         "_deepnote_index_column": 113
        },
        {
         "sentences": "By pursuing similar protections for LGBT people, international investment and aid can improve economic performance and strengthen respect for basic human rights.",
         "words": "['By', 'pursuing', 'similar', 'protections', 'for', 'LGBT', 'people', ',', 'international', 'investment', 'and', 'aid', 'can', 'improve', 'economic', 'performance', 'and', 'strengthen', 'respect', 'for', 'basic', 'human', 'rights', '.']",
         "num_words": 24,
         "_deepnote_index_column": 114
        },
        {
         "sentences": "The World Bank, always wary of entangling itself in “political” questions, emphasizes that it is not a global human-rights enforcer.",
         "words": "['The', 'World', 'Bank', ',', 'always', 'wary', 'of', 'entangling', 'itself', 'in', '“', 'political', '”', 'questions', ',', 'emphasizes', 'that', 'it', 'is', 'not', 'a', 'global', 'human-rights', 'enforcer', '.']",
         "num_words": 25,
         "_deepnote_index_column": 115
        },
        {
         "sentences": "But it also increasingly recognizes its own role as a facilitator in helping Bank members realize their human-rights obligations.",
         "words": "['But', 'it', 'also', 'increasingly', 'recognizes', 'its', 'own', 'role', 'as', 'a', 'facilitator', 'in', 'helping', 'Bank', 'members', 'realize', 'their', 'human-rights', 'obligations', '.']",
         "num_words": 20,
         "_deepnote_index_column": 116
        },
        {
         "sentences": "LGBT rights should be a test case.",
         "words": "['LGBT', 'rights', 'should', 'be', 'a', 'test', 'case', '.']",
         "num_words": 8,
         "_deepnote_index_column": 117
        },
        {
         "sentences": "Aid to governments that permit specific social groups to be ostracized can carry very real economic costs.",
         "words": "['Aid', 'to', 'governments', 'that', 'permit', 'specific', 'social', 'groups', 'to', 'be', 'ostracized', 'can', 'carry', 'very', 'real', 'economic', 'costs', '.']",
         "num_words": 18,
         "_deepnote_index_column": 118
        },
        {
         "sentences": "As new loans are considered, steps should be taken to ensure that the benefits are as inclusive as possible.",
         "words": "['As', 'new', 'loans', 'are', 'considered', ',', 'steps', 'should', 'be', 'taken', 'to', 'ensure', 'that', 'the', 'benefits', 'are', 'as', 'inclusive', 'as', 'possible', '.']",
         "num_words": 21,
         "_deepnote_index_column": 119
        },
        {
         "sentences": "If the Bank – which currently lends Nigeria almost $5.5 billion and expects to commit an additional $2 billion in each of the next four years – moved in this direction, other funders might follow.",
         "words": "['If', 'the', 'Bank', '–', 'which', 'currently', 'lends', 'Nigeria', 'almost', '$', '5.5', 'billion', 'and', 'expects', 'to', 'commit', 'an', 'additional', '$', '2', 'billion', 'in', 'each', 'of', 'the', 'next', 'four', 'years', '–', 'moved', 'in', 'this', 'direction', ',', 'other', 'funders', 'might', 'follow', '.']",
         "num_words": 39,
         "_deepnote_index_column": 120
        },
        {
         "sentences": "Africa’s LGBT people desperately need such powerful allies in their struggle for human and economic rights.",
         "words": "['Africa', '’', 's', 'LGBT', 'people', 'desperately', 'need', 'such', 'powerful', 'allies', 'in', 'their', 'struggle', 'for', 'human', 'and', 'economic', 'rights', '.']",
         "num_words": 19,
         "_deepnote_index_column": 121
        },
        {
         "sentences": "A Decade of Hugo Chávez\nSAN JOSE – We should have known that something was amiss when, during President Hugo Chávez’s inauguration on February 2, 1999, he swore on Venezuela’s 40-year-old Constitution by declaring it “moribund.”\nUnder “the moribund,” as the Constitution came to be known, Venezuela not only had eight peaceful presidential transitions, but also enjoyed the fruits of democratic pluralism and strong civil and political liberties.",
         "words": "['A', 'Decade', 'of', 'Hugo', 'Chávez', 'SAN', 'JOSE', '–', 'We', 'should', 'have', 'known', 'that', 'something', 'was', 'amiss', 'when', ',', 'during', 'President', 'Hugo', 'Chávez', '’', 's', 'inauguration', 'on', 'February', '2', ',', '1999', ',', 'he', 'swore', 'on', 'Venezuela', '’', 's', '40-year-old', 'Constitution', 'by', 'declaring', 'it', '“', 'moribund.', '”', 'Under', '“', 'the', 'moribund', ',', '”', 'as', 'the', 'Constitution', 'came', 'to', 'be', 'known', ',', 'Venezuela', 'not', 'only', 'had', 'eight', 'peaceful', 'presidential', 'transitions', ',', 'but', 'also', 'enjoyed', 'the', 'fruits', 'of', 'democratic', 'pluralism', 'and', 'strong', 'civil', 'and', 'political', 'liberties', '.']",
         "num_words": 83,
         "_deepnote_index_column": 122
        },
        {
         "sentences": "Of course, during this period Venezuela produced as much corruption and political irresponsibility as it did barrels of oil.",
         "words": "['Of', 'course', ',', 'during', 'this', 'period', 'Venezuela', 'produced', 'as', 'much', 'corruption', 'and', 'political', 'irresponsibility', 'as', 'it', 'did', 'barrels', 'of', 'oil', '.']",
         "num_words": 21,
         "_deepnote_index_column": 123
        },
        {
         "sentences": "Nonetheless, Venezuela fared far better than the average Latin American country.",
         "words": "['Nonetheless', ',', 'Venezuela', 'fared', 'far', 'better', 'than', 'the', 'average', 'Latin', 'American', 'country', '.']",
         "num_words": 13,
         "_deepnote_index_column": 124
        },
        {
         "sentences": "It wasn’t Switzerland, but, by anyone’s measure, it was a genuine democracy.",
         "words": "['It', 'wasn', '’', 't', 'Switzerland', ',', 'but', ',', 'by', 'anyone', '’', 's', 'measure', ',', 'it', 'was', 'a', 'genuine', 'democracy', '.']",
         "num_words": 20,
         "_deepnote_index_column": 125
        },
        {
         "sentences": "Not anymore.",
         "words": "['Not', 'anymore', '.']",
         "num_words": 3,
         "_deepnote_index_column": 126
        },
        {
         "sentences": "Elections are still held, but the legacy of Chávez’s decade in power consists, first and foremost, in the demolition of democratic institutions.",
         "words": "['Elections', 'are', 'still', 'held', ',', 'but', 'the', 'legacy', 'of', 'Chávez', '’', 's', 'decade', 'in', 'power', 'consists', ',', 'first', 'and', 'foremost', ',', 'in', 'the', 'demolition', 'of', 'democratic', 'institutions', '.']",
         "num_words": 28,
         "_deepnote_index_column": 127
        },
        {
         "sentences": "Elected in a landslide to clean up the political vices of the previous establishment, Chávez chose to throw the baby out with the bathwater.",
         "words": "['Elected', 'in', 'a', 'landslide', 'to', 'clean', 'up', 'the', 'political', 'vices', 'of', 'the', 'previous', 'establishment', ',', 'Chávez', 'chose', 'to', 'throw', 'the', 'baby', 'out', 'with', 'the', 'bathwater', '.']",
         "num_words": 26,
         "_deepnote_index_column": 128
        },
        {
         "sentences": "The previous regime, including its system of checks and balances and its tradition of political tolerance, did disappear, but its vices – particularly graft and demagoguery – became worse than ever.",
         "words": "['The', 'previous', 'regime', ',', 'including', 'its', 'system', 'of', 'checks', 'and', 'balances', 'and', 'its', 'tradition', 'of', 'political', 'tolerance', ',', 'did', 'disappear', ',', 'but', 'its', 'vices', '–', 'particularly', 'graft', 'and', 'demagoguery', '–', 'became', 'worse', 'than', 'ever', '.']",
         "num_words": 35,
         "_deepnote_index_column": 129
        },
        {
         "sentences": "Pretty much like 10 years ago, Venezuela, once a destination for immigrants from around the world, remains under-developed.",
         "words": "['Pretty', 'much', 'like', '10', 'years', 'ago', ',', 'Venezuela', ',', 'once', 'a', 'destination', 'for', 'immigrants', 'from', 'around', 'the', 'world', ',', 'remains', 'under-developed', '.']",
         "num_words": 22,
         "_deepnote_index_column": 130
        },
        {
         "sentences": "More fundamentally, Chávez represents ideas that have long stifled Latin America’s political and economic growth.",
         "words": "['More', 'fundamentally', ',', 'Chávez', 'represents', 'ideas', 'that', 'have', 'long', 'stifled', 'Latin', 'America', '’', 's', 'political', 'and', 'economic', 'growth', '.']",
         "num_words": 19,
         "_deepnote_index_column": 131
        },
        {
         "sentences": "This includes the notion that social justice can be achieved only by abandoning the path of reform and rejecting “bourgeois” democratic forms in favor of “real” democracy, born of revolutionary purity and the leader’s millenarian dreams.",
         "words": "['This', 'includes', 'the', 'notion', 'that', 'social', 'justice', 'can', 'be', 'achieved', 'only', 'by', 'abandoning', 'the', 'path', 'of', 'reform', 'and', 'rejecting', '“', 'bourgeois', '”', 'democratic', 'forms', 'in', 'favor', 'of', '“', 'real', '”', 'democracy', ',', 'born', 'of', 'revolutionary', 'purity', 'and', 'the', 'leader', '’', 's', 'millenarian', 'dreams', '.']",
         "num_words": 44,
         "_deepnote_index_column": 132
        },
        {
         "sentences": "That’s simply false.",
         "words": "['That', '’', 's', 'simply', 'false', '.']",
         "num_words": 6,
         "_deepnote_index_column": 133
        },
        {
         "sentences": "Though the Chávez revolution has made progress against poverty and inequality, it is hardly sustainable and reeks of patronage.",
         "words": "['Though', 'the', 'Chávez', 'revolution', 'has', 'made', 'progress', 'against', 'poverty', 'and', 'inequality', ',', 'it', 'is', 'hardly', 'sustainable', 'and', 'reeks', 'of', 'patronage', '.']",
         "num_words": 21,
         "_deepnote_index_column": 134
        },
        {
         "sentences": "In fact, one can find similar achievements in Chile and Brazil, which have not given up on democratic checks and balances, political pluralism, or freedom of the press, and have not enjoyed the luxury of $300 billion in oil revenue in the space of one decade.",
         "words": "['In', 'fact', ',', 'one', 'can', 'find', 'similar', 'achievements', 'in', 'Chile', 'and', 'Brazil', ',', 'which', 'have', 'not', 'given', 'up', 'on', 'democratic', 'checks', 'and', 'balances', ',', 'political', 'pluralism', ',', 'or', 'freedom', 'of', 'the', 'press', ',', 'and', 'have', 'not', 'enjoyed', 'the', 'luxury', 'of', '$', '300', 'billion', 'in', 'oil', 'revenue', 'in', 'the', 'space', 'of', 'one', 'decade', '.']",
         "num_words": 53,
         "_deepnote_index_column": 135
        },
        {
         "sentences": "Moreover, it ought not to be forgotten that between 1950 and 1980, Venezuela itself reduced extreme poverty from 43% to 8% of the population, one of the lowest figures in Latin America.",
         "words": "['Moreover', ',', 'it', 'ought', 'not', 'to', 'be', 'forgotten', 'that', 'between', '1950', 'and', '1980', ',', 'Venezuela', 'itself', 'reduced', 'extreme', 'poverty', 'from', '43', '%', 'to', '8', '%', 'of', 'the', 'population', ',', 'one', 'of', 'the', 'lowest', 'figures', 'in', 'Latin', 'America', '.']",
         "num_words": 38,
         "_deepnote_index_column": 136
        },
        {
         "sentences": "It did so with democracy and freedom.",
         "words": "['It', 'did', 'so', 'with', 'democracy', 'and', 'freedom', '.']",
         "num_words": 8,
         "_deepnote_index_column": 137
        },
        {
         "sentences": "Chávez also repeats, ad nauseam, the idea that others are to blame for Latin America’s ills.",
         "words": "['Chávez', 'also', 'repeats', ',', 'ad', 'nauseam', ',', 'the', 'idea', 'that', 'others', 'are', 'to', 'blame', 'for', 'Latin', 'America', '’', 's', 'ills', '.']",
         "num_words": 21,
         "_deepnote_index_column": 138
        },
        {
         "sentences": "This is the pernicious victimization narrative – still very popular in universities across Latin America – the late Venezuelan journalist Carlos Rangel eloquently refuted in books such as The Third World Ideology.",
         "words": "['This', 'is', 'the', 'pernicious', 'victimization', 'narrative', '–', 'still', 'very', 'popular', 'in', 'universities', 'across', 'Latin', 'America', '–', 'the', 'late', 'Venezuelan', 'journalist', 'Carlos', 'Rangel', 'eloquently', 'refuted', 'in', 'books', 'such', 'as', 'The', 'Third', 'World', 'Ideology', '.']",
         "num_words": 33,
         "_deepnote_index_column": 139
        },
        {
         "sentences": "It is obvious that Yankee imperialism cannot be blamed for Venezuela’s emaciated tax system, dismally bad schools, rampant corruption, high crime rate, and feeble political institutions.",
         "words": "['It', 'is', 'obvious', 'that', 'Yankee', 'imperialism', 'can', 'not', 'be', 'blamed', 'for', 'Venezuela', '’', 's', 'emaciated', 'tax', 'system', ',', 'dismally', 'bad', 'schools', ',', 'rampant', 'corruption', ',', 'high', 'crime', 'rate', ',', 'and', 'feeble', 'political', 'institutions', '.']",
         "num_words": 34,
         "_deepnote_index_column": 140
        },
        {
         "sentences": "In all of these areas, Venezuela is faring poorly even by Latin America’s low standards.",
         "words": "['In', 'all', 'of', 'these', 'areas', ',', 'Venezuela', 'is', 'faring', 'poorly', 'even', 'by', 'Latin', 'America', '’', 's', 'low', 'standards', '.']",
         "num_words": 19,
         "_deepnote_index_column": 141
        },
        {
         "sentences": "This is particularly true in the case of institutional weakness.",
         "words": "['This', 'is', 'particularly', 'true', 'in', 'the', 'case', 'of', 'institutional', 'weakness', '.']",
         "num_words": 11,
         "_deepnote_index_column": 142
        },
        {
         "sentences": "When Chávez declares “moribund” a legitimate constitution, or when he proclaims l’état c’est moi by declaring a national holiday to commemorate his 10 years in power, we see eloquent examples of a homemade institutional farce that would doom any country to the ninth circle of misery.",
         "words": "['When', 'Chávez', 'declares', '“', 'moribund', '”', 'a', 'legitimate', 'constitution', ',', 'or', 'when', 'he', 'proclaims', 'l', '’', 'état', 'c', '’', 'est', 'moi', 'by', 'declaring', 'a', 'national', 'holiday', 'to', 'commemorate', 'his', '10', 'years', 'in', 'power', ',', 'we', 'see', 'eloquent', 'examples', 'of', 'a', 'homemade', 'institutional', 'farce', 'that', 'would', 'doom', 'any', 'country', 'to', 'the', 'ninth', 'circle', 'of', 'misery', '.']",
         "num_words": 55,
         "_deepnote_index_column": 143
        },
        {
         "sentences": "None of these ideas would fly, of course, in a contented nation.",
         "words": "['None', 'of', 'these', 'ideas', 'would', 'fly', ',', 'of', 'course', ',', 'in', 'a', 'contented', 'nation', '.']",
         "num_words": 15,
         "_deepnote_index_column": 144
        },
        {
         "sentences": "In this sense, Venezuela’s experience speaks to all of Latin America.",
         "words": "['In', 'this', 'sense', ',', 'Venezuela', '’', 's', 'experience', 'speaks', 'to', 'all', 'of', 'Latin', 'America', '.']",
         "num_words": 15,
         "_deepnote_index_column": 145
        },
        {
         "sentences": "The combination of economic growth (now in reverse because of the global crisis) and atrocious levels of inequality and social segmentation will continue to breed the same unmet expectations and social resentment that cleared Chávez’s path to power.",
         "words": "['The', 'combination', 'of', 'economic', 'growth', '(', 'now', 'in', 'reverse', 'because', 'of', 'the', 'global', 'crisis', ')', 'and', 'atrocious', 'levels', 'of', 'inequality', 'and', 'social', 'segmentation', 'will', 'continue', 'to', 'breed', 'the', 'same', 'unmet', 'expectations', 'and', 'social', 'resentment', 'that', 'cleared', 'Chávez', '’', 's', 'path', 'to', 'power', '.']",
         "num_words": 43,
         "_deepnote_index_column": 146
        },
        {
         "sentences": "As long as Latin America’s democracies fail to take seriously the tasks of reducing inequality, spreading opportunity, and nurturing more cohesive societies, they will continue to court disaster.",
         "words": "['As', 'long', 'as', 'Latin', 'America', '’', 's', 'democracies', 'fail', 'to', 'take', 'seriously', 'the', 'tasks', 'of', 'reducing', 'inequality', ',', 'spreading', 'opportunity', ',', 'and', 'nurturing', 'more', 'cohesive', 'societies', ',', 'they', 'will', 'continue', 'to', 'court', 'disaster', '.']",
         "num_words": 34,
         "_deepnote_index_column": 147
        },
        {
         "sentences": "To avoid this outcome, it is vital to purge certain reactionary and numbing beliefs, including the idea that reducing poverty obviates the need to address inequality, or that development is possible without introducing modern and progressive tax systems.",
         "words": "['To', 'avoid', 'this', 'outcome', ',', 'it', 'is', 'vital', 'to', 'purge', 'certain', 'reactionary', 'and', 'numbing', 'beliefs', ',', 'including', 'the', 'idea', 'that', 'reducing', 'poverty', 'obviates', 'the', 'need', 'to', 'address', 'inequality', ',', 'or', 'that', 'development', 'is', 'possible', 'without', 'introducing', 'modern', 'and', 'progressive', 'tax', 'systems', '.']",
         "num_words": 42,
         "_deepnote_index_column": 148
        },
        {
         "sentences": "If the tenth anniversary of Chávez’s tenure can serve as a reminder of the perils that beset unjust democracies – especially now that a new electoral cycle in Latin America looms – then Venezuela’s agonizing recent history would, at least, be redeemed.",
         "words": "['If', 'the', 'tenth', 'anniversary', 'of', 'Chávez', '’', 's', 'tenure', 'can', 'serve', 'as', 'a', 'reminder', 'of', 'the', 'perils', 'that', 'beset', 'unjust', 'democracies', '–', 'especially', 'now', 'that', 'a', 'new', 'electoral', 'cycle', 'in', 'Latin', 'America', 'looms', '–', 'then', 'Venezuela', '’', 's', 'agonizing', 'recent', 'history', 'would', ',', 'at', 'least', ',', 'be', 'redeemed', '.']",
         "num_words": 49,
         "_deepnote_index_column": 149
        },
        {
         "sentences": "A Declaration of America's Interdependence\nPRAGUE: Many Americans seem overwhelmed by the feeling that, because the Soviet Empire collapsed, the dangers of war can be crossed off the list of potential risks.",
         "words": "['A', 'Declaration', 'of', 'America', \"'s\", 'Interdependence', 'PRAGUE', ':', 'Many', 'Americans', 'seem', 'overwhelmed', 'by', 'the', 'feeling', 'that', ',', 'because', 'the', 'Soviet', 'Empire', 'collapsed', ',', 'the', 'dangers', 'of', 'war', 'can', 'be', 'crossed', 'off', 'the', 'list', 'of', 'potential', 'risks', '.']",
         "num_words": 37,
         "_deepnote_index_column": 150
        },
        {
         "sentences": "America, they say, should pay attention to its own problems, and should not get involved in a world where its attempts to do good are rewarded with ingratitude.",
         "words": "['America', ',', 'they', 'say', ',', 'should', 'pay', 'attention', 'to', 'its', 'own', 'problems', ',', 'and', 'should', 'not', 'get', 'involved', 'in', 'a', 'world', 'where', 'its', 'attempts', 'to', 'do', 'good', 'are', 'rewarded', 'with', 'ingratitude', '.']",
         "num_words": 32,
         "_deepnote_index_column": 151
        },
        {
         "sentences": "Isolationism has a long tradition in America; it returns in fits and differing forms.",
         "words": "['Isolationism', 'has', 'a', 'long', 'tradition', 'in', 'America', ';', 'it', 'returns', 'in', 'fits', 'and', 'differing', 'forms', '.']",
         "num_words": 16,
         "_deepnote_index_column": 152
        },
        {
         "sentences": "Never in modern times, however, has isolationism protected America from danger; instead it delays engagement when conflagrations are ablaze.",
         "words": "['Never', 'in', 'modern', 'times', ',', 'however', ',', 'has', 'isolationism', 'protected', 'America', 'from', 'danger', ';', 'instead', 'it', 'delays', 'engagement', 'when', 'conflagrations', 'are', 'ablaze', '.']",
         "num_words": 23,
         "_deepnote_index_column": 153
        },
        {
         "sentences": "Eventually, America pays a thousand times more for its initial lack of interest than it would have paid had it become engaged at the outset of crisis or, better yet, even before.",
         "words": "['Eventually', ',', 'America', 'pays', 'a', 'thousand', 'times', 'more', 'for', 'its', 'initial', 'lack', 'of', 'interest', 'than', 'it', 'would', 'have', 'paid', 'had', 'it', 'become', 'engaged', 'at', 'the', 'outset', 'of', 'crisis', 'or', ',', 'better', 'yet', ',', 'even', 'before', '.']",
         "num_words": 36,
         "_deepnote_index_column": 154
        },
        {
         "sentences": "Americans pay for short-sightedness not only in larger expenditures, but with lives wasted unnecessarily.",
         "words": "['Americans', 'pay', 'for', 'short-sightedness', 'not', 'only', 'in', 'larger', 'expenditures', ',', 'but', 'with', 'lives', 'wasted', 'unnecessarily', '.']",
         "num_words": 16,
         "_deepnote_index_column": 155
        },
        {
         "sentences": "So isolationism is shortsighted and never pays off.",
         "words": "['So', 'isolationism', 'is', 'shortsighted', 'and', 'never', 'pays', 'off', '.']",
         "num_words": 9,
         "_deepnote_index_column": 156
        },
        {
         "sentences": "This is all the more true when defense of the values that America stands for is more difficult now than before.",
         "words": "['This', 'is', 'all', 'the', 'more', 'true', 'when', 'defense', 'of', 'the', 'values', 'that', 'America', 'stands', 'for', 'is', 'more', 'difficult', 'now', 'than', 'before', '.']",
         "num_words": 22,
         "_deepnote_index_column": 157
        },
        {
         "sentences": "Previously, the enemy was solitary, armed to the teeth, and quite predictable.",
         "words": "['Previously', ',', 'the', 'enemy', 'was', 'solitary', ',', 'armed', 'to', 'the', 'teeth', ',', 'and', 'quite', 'predictable', '.']",
         "num_words": 16,
         "_deepnote_index_column": 158
        },
        {
         "sentences": "The threats looming over today's world, however, are to the threat of communism as metastasis is to an isolated tumor.",
         "words": "['The', 'threats', 'looming', 'over', 'today', \"'s\", 'world', ',', 'however', ',', 'are', 'to', 'the', 'threat', 'of', 'communism', 'as', 'metastasis', 'is', 'to', 'an', 'isolated', 'tumor', '.']",
         "num_words": 24,
         "_deepnote_index_column": 159
        },
        {
         "sentences": "For the world is awash in dangers that are diverse, decentralized (yet intertwined), and difficult to predict .",
         "words": "['For', 'the', 'world', 'is', 'awash', 'in', 'dangers', 'that', 'are', 'diverse', ',', 'decentralized', '(', 'yet', 'intertwined', ')', ',', 'and', 'difficult', 'to', 'predict', '.']",
         "num_words": 22,
         "_deepnote_index_column": 160
        },
        {
         "sentences": "I believe that across the globe, America is a symbolic concentration of all the good and bad within our civilization -- from the fantastic development of science and technology, to civil liberty and strong democratic institutions, to the cult of perpetual economic growth and never-ending consumption, to the dictates of materialism and the voiding of human uniqueness by the uniformity of the round-the-clock noise of TV banality.",
         "words": "['I', 'believe', 'that', 'across', 'the', 'globe', ',', 'America', 'is', 'a', 'symbolic', 'concentration', 'of', 'all', 'the', 'good', 'and', 'bad', 'within', 'our', 'civilization', '--', 'from', 'the', 'fantastic', 'development', 'of', 'science', 'and', 'technology', ',', 'to', 'civil', 'liberty', 'and', 'strong', 'democratic', 'institutions', ',', 'to', 'the', 'cult', 'of', 'perpetual', 'economic', 'growth', 'and', 'never-ending', 'consumption', ',', 'to', 'the', 'dictates', 'of', 'materialism', 'and', 'the', 'voiding', 'of', 'human', 'uniqueness', 'by', 'the', 'uniformity', 'of', 'the', 'round-the-clock', 'noise', 'of', 'TV', 'banality', '.']",
         "num_words": 72,
         "_deepnote_index_column": 161
        },
        {
         "sentences": "For these reasons, the ways in which America assumes its global responsibilities must embody those premises that alone may save civilization as a whole: this way should be imbued with a new spirituality, a new ethos and new ethics; exactly with the things that should be adopted by all cultures, all spheres of civilization and all nations of today's world as a condition of their survival.",
         "words": "['For', 'these', 'reasons', ',', 'the', 'ways', 'in', 'which', 'America', 'assumes', 'its', 'global', 'responsibilities', 'must', 'embody', 'those', 'premises', 'that', 'alone', 'may', 'save', 'civilization', 'as', 'a', 'whole', ':', 'this', 'way', 'should', 'be', 'imbued', 'with', 'a', 'new', 'spirituality', ',', 'a', 'new', 'ethos', 'and', 'new', 'ethics', ';', 'exactly', 'with', 'the', 'things', 'that', 'should', 'be', 'adopted', 'by', 'all', 'cultures', ',', 'all', 'spheres', 'of', 'civilization', 'and', 'all', 'nations', 'of', 'today', \"'s\", 'world', 'as', 'a', 'condition', 'of', 'their', 'survival', '.']",
         "num_words": 73,
         "_deepnote_index_column": 162
        },
        {
         "sentences": "What does this mean in concrete terms?",
         "words": "['What', 'does', 'this', 'mean', 'in', 'concrete', 'terms', '?']",
         "num_words": 8,
         "_deepnote_index_column": 163
        },
        {
         "sentences": "For one thing, a respect for and understanding of the positive values inherent in other cultures.",
         "words": "['For', 'one', 'thing', ',', 'a', 'respect', 'for', 'and', 'understanding', 'of', 'the', 'positive', 'values', 'inherent', 'in', 'other', 'cultures', '.']",
         "num_words": 18,
         "_deepnote_index_column": 164
        },
        {
         "sentences": "It also requires the courage to step out of the world of pragmatic power and defend -- non-violently -- truth and justice wherever they are violated, whether or not profitable commercial contracts are placed at risk.",
         "words": "['It', 'also', 'requires', 'the', 'courage', 'to', 'step', 'out', 'of', 'the', 'world', 'of', 'pragmatic', 'power', 'and', 'defend', '--', 'non-violently', '--', 'truth', 'and', 'justice', 'wherever', 'they', 'are', 'violated', ',', 'whether', 'or', 'not', 'profitable', 'commercial', 'contracts', 'are', 'placed', 'at', 'risk', '.']",
         "num_words": 38,
         "_deepnote_index_column": 165
        }
       ],
       "rows_bottom": [
        {
         "sentences": "We stand ready to support Africa on its path to inclusive and sustainable industrial development – during IDDA III and beyond.",
         "words": "['We', 'stand', 'ready', 'to', 'support', 'Africa', 'on', 'its', 'path', 'to', 'inclusive', 'and', 'sustainable', 'industrial', 'development', '–', 'during', 'IDDA', 'III', 'and', 'beyond', '.']",
         "num_words": 22,
         "_deepnote_index_column": 4833
        },
        {
         "sentences": "Africa’s Decade of Industrialization\nVIENNA – In today’s interdependent global economy, Africa remains a weak link.",
         "words": "['Africa', '’', 's', 'Decade', 'of', 'Industrialization', 'VIENNA', '–', 'In', 'today', '’', 's', 'interdependent', 'global', 'economy', ',', 'Africa', 'remains', 'a', 'weak', 'link', '.']",
         "num_words": 22,
         "_deepnote_index_column": 4834
        },
        {
         "sentences": "If the world is to achieve the Sustainable Development Goals, thereby completing the United Nations 2030 Agenda for Sustainable Development, it must help Africa accelerate its development by promoting rapid and responsible industrialization.",
         "words": "['If', 'the', 'world', 'is', 'to', 'achieve', 'the', 'Sustainable', 'Development', 'Goals', ',', 'thereby', 'completing', 'the', 'United', 'Nations', '2030', 'Agenda', 'for', 'Sustainable', 'Development', ',', 'it', 'must', 'help', 'Africa', 'accelerate', 'its', 'development', 'by', 'promoting', 'rapid', 'and', 'responsible', 'industrialization', '.']",
         "num_words": 36,
         "_deepnote_index_column": 4835
        },
        {
         "sentences": "Africa is by no means destined to lag behind the rest of the world economy.",
         "words": "['Africa', 'is', 'by', 'no', 'means', 'destined', 'to', 'lag', 'behind', 'the', 'rest', 'of', 'the', 'world', 'economy', '.']",
         "num_words": 16,
         "_deepnote_index_column": 4836
        },
        {
         "sentences": "On the contrary, it could easily become a global economic powerhouse – and within the next decade.",
         "words": "['On', 'the', 'contrary', ',', 'it', 'could', 'easily', 'become', 'a', 'global', 'economic', 'powerhouse', '–', 'and', 'within', 'the', 'next', 'decade', '.']",
         "num_words": 19,
         "_deepnote_index_column": 4837
        },
        {
         "sentences": "But, to fulfill its economic potential, Africa must industrialize.",
         "words": "['But', ',', 'to', 'fulfill', 'its', 'economic', 'potential', ',', 'Africa', 'must', 'industrialize', '.']",
         "num_words": 12,
         "_deepnote_index_column": 4838
        },
        {
         "sentences": "The importance of this has been stressed repeatedly at recent international forums, including last August’s Sixth Tokyo International Conference on African Development (TICAD VI), and the G20 summit in Hangzhou, China, the following month.",
         "words": "['The', 'importance', 'of', 'this', 'has', 'been', 'stressed', 'repeatedly', 'at', 'recent', 'international', 'forums', ',', 'including', 'last', 'August', '’', 's', 'Sixth', 'Tokyo', 'International', 'Conference', 'on', 'African', 'Development', '(', 'TICAD', 'VI', ')', ',', 'and', 'the', 'G20', 'summit', 'in', 'Hangzhou', ',', 'China', ',', 'the', 'following', 'month', '.']",
         "num_words": 43,
         "_deepnote_index_column": 4839
        },
        {
         "sentences": "For the first time, the G20 placed industrialization in Africa – and all of the Least Developed Countries (LDCs) – on its agenda.",
         "words": "['For', 'the', 'first', 'time', ',', 'the', 'G20', 'placed', 'industrialization', 'in', 'Africa', '–', 'and', 'all', 'of', 'the', 'Least', 'Developed', 'Countries', '(', 'LDCs', ')', '–', 'on', 'its', 'agenda', '.']",
         "num_words": 27,
         "_deepnote_index_column": 4840
        },
        {
         "sentences": "The African Union’s Agenda 2063 also supports this drive.",
         "words": "['The', 'African', 'Union', '’', 's', 'Agenda', '2063', 'also', 'supports', 'this', 'drive', '.']",
         "num_words": 12,
         "_deepnote_index_column": 4841
        },
        {
         "sentences": "The recent UN General Assembly resolution declaring 2016-2025 the Third Industrial Development Decade for Africa is yet another push in this direction.",
         "words": "['The', 'recent', 'UN', 'General', 'Assembly', 'resolution', 'declaring', '2016-2025', 'the', 'Third', 'Industrial', 'Development', 'Decade', 'for', 'Africa', 'is', 'yet', 'another', 'push', 'in', 'this', 'direction', '.']",
         "num_words": 23,
         "_deepnote_index_column": 4842
        },
        {
         "sentences": "The organization that I represent, the UN Industrial Development Organization (UNIDO), has been tasked with operationalizing and leading the implementation of the concomitant program, including mobilizing the needed resources.",
         "words": "['The', 'organization', 'that', 'I', 'represent', ',', 'the', 'UN', 'Industrial', 'Development', 'Organization', '(', 'UNIDO', ')', ',', 'has', 'been', 'tasked', 'with', 'operationalizing', 'and', 'leading', 'the', 'implementation', 'of', 'the', 'concomitant', 'program', ',', 'including', 'mobilizing', 'the', 'needed', 'resources', '.']",
         "num_words": 35,
         "_deepnote_index_column": 4843
        },
        {
         "sentences": "All of these declarations and commitments are an important first step.",
         "words": "['All', 'of', 'these', 'declarations', 'and', 'commitments', 'are', 'an', 'important', 'first', 'step', '.']",
         "num_words": 12,
         "_deepnote_index_column": 4844
        },
        {
         "sentences": "But they will mean little unless they are translated into concrete and effective action that advances African industrialization, creates jobs, and fosters inclusive and sustainable economic growth and development.",
         "words": "['But', 'they', 'will', 'mean', 'little', 'unless', 'they', 'are', 'translated', 'into', 'concrete', 'and', 'effective', 'action', 'that', 'advances', 'African', 'industrialization', ',', 'creates', 'jobs', ',', 'and', 'fosters', 'inclusive', 'and', 'sustainable', 'economic', 'growth', 'and', 'development', '.']",
         "num_words": 32,
         "_deepnote_index_column": 4845
        },
        {
         "sentences": "The question is how.",
         "words": "['The', 'question', 'is', 'how', '.']",
         "num_words": 5,
         "_deepnote_index_column": 4846
        },
        {
         "sentences": "The short answer is money and action.",
         "words": "['The', 'short', 'answer', 'is', 'money', 'and', 'action', '.']",
         "num_words": 8,
         "_deepnote_index_column": 4847
        },
        {
         "sentences": "We must challenge the international community and development partners to back their words with real financial commitments.",
         "words": "['We', 'must', 'challenge', 'the', 'international', 'community', 'and', 'development', 'partners', 'to', 'back', 'their', 'words', 'with', 'real', 'financial', 'commitments', '.']",
         "num_words": 18,
         "_deepnote_index_column": 4848
        },
        {
         "sentences": "And we must build partnerships to operationalize programs that will enable Africa to become the world’s next main engine of economic growth.",
         "words": "['And', 'we', 'must', 'build', 'partnerships', 'to', 'operationalize', 'programs', 'that', 'will', 'enable', 'Africa', 'to', 'become', 'the', 'world', '’', 's', 'next', 'main', 'engine', 'of', 'economic', 'growth', '.']",
         "num_words": 25,
         "_deepnote_index_column": 4849
        },
        {
         "sentences": "Such programs must recognize and tackle the acute challenges the continent faces.",
         "words": "['Such', 'programs', 'must', 'recognize', 'and', 'tackle', 'the', 'acute', 'challenges', 'the', 'continent', 'faces', '.']",
         "num_words": 13,
         "_deepnote_index_column": 4850
        },
        {
         "sentences": "The economic growth experienced in recent decades has not been structurally driven, sustainable, or fully inclusive.",
         "words": "['The', 'economic', 'growth', 'experienced', 'in', 'recent', 'decades', 'has', 'not', 'been', 'structurally', 'driven', ',', 'sustainable', ',', 'or', 'fully', 'inclusive', '.']",
         "num_words": 19,
         "_deepnote_index_column": 4851
        },
        {
         "sentences": "Indeed, growth rates vary widely across the continent, and not all Africans are benefiting.",
         "words": "['Indeed', ',', 'growth', 'rates', 'vary', 'widely', 'across', 'the', 'continent', ',', 'and', 'not', 'all', 'Africans', 'are', 'benefiting', '.']",
         "num_words": 17,
         "_deepnote_index_column": 4852
        },
        {
         "sentences": "Though the middle class in Africa has expanded markedly in recent years, generating a consumer boom and boosting domestic investment, many people still struggle to make a living.",
         "words": "['Though', 'the', 'middle', 'class', 'in', 'Africa', 'has', 'expanded', 'markedly', 'in', 'recent', 'years', ',', 'generating', 'a', 'consumer', 'boom', 'and', 'boosting', 'domestic', 'investment', ',', 'many', 'people', 'still', 'struggle', 'to', 'make', 'a', 'living', '.']",
         "num_words": 31,
         "_deepnote_index_column": 4853
        },
        {
         "sentences": "Unemployment rates are high, especially for young people and women – a reality that drives many Africans to head north.",
         "words": "['Unemployment', 'rates', 'are', 'high', ',', 'especially', 'for', 'young', 'people', 'and', 'women', '–', 'a', 'reality', 'that', 'drives', 'many', 'Africans', 'to', 'head', 'north', '.']",
         "num_words": 22,
         "_deepnote_index_column": 4854
        },
        {
         "sentences": "To keep them home, Africa’s economies must move beyond producing raw materials to build dynamic and competitive manufacturing sectors with higher value added.",
         "words": "['To', 'keep', 'them', 'home', ',', 'Africa', '’', 's', 'economies', 'must', 'move', 'beyond', 'producing', 'raw', 'materials', 'to', 'build', 'dynamic', 'and', 'competitive', 'manufacturing', 'sectors', 'with', 'higher', 'value', 'added', '.']",
         "num_words": 27,
         "_deepnote_index_column": 4855
        },
        {
         "sentences": "Here, Africa must draw on the opportunities presented by participation in global and regional value chains.",
         "words": "['Here', ',', 'Africa', 'must', 'draw', 'on', 'the', 'opportunities', 'presented', 'by', 'participation', 'in', 'global', 'and', 'regional', 'value', 'chains', '.']",
         "num_words": 18,
         "_deepnote_index_column": 4856
        },
        {
         "sentences": "New and innovative industrial-development strategies, as well as carefully tailored measures to attract foreign direct investment, must be introduced.",
         "words": "['New', 'and', 'innovative', 'industrial-development', 'strategies', ',', 'as', 'well', 'as', 'carefully', 'tailored', 'measures', 'to', 'attract', 'foreign', 'direct', 'investment', ',', 'must', 'be', 'introduced', '.']",
         "num_words": 22,
         "_deepnote_index_column": 4857
        },
        {
         "sentences": "Of course, to develop such strategies and participate effectively in industrial value chains, Africans need knowledge.",
         "words": "['Of', 'course', ',', 'to', 'develop', 'such', 'strategies', 'and', 'participate', 'effectively', 'in', 'industrial', 'value', 'chains', ',', 'Africans', 'need', 'knowledge', '.']",
         "num_words": 19,
         "_deepnote_index_column": 4858
        },
        {
         "sentences": "Investment in education and skills training is imperative to facilitate successful and lasting industrialization.",
         "words": "['Investment', 'in', 'education', 'and', 'skills', 'training', 'is', 'imperative', 'to', 'facilitate', 'successful', 'and', 'lasting', 'industrialization', '.']",
         "num_words": 15,
         "_deepnote_index_column": 4859
        },
        {
         "sentences": "By understanding and drawing on proven innovations from around the world, Africa could leapfrog more developed countries technologically, building the capacity to produce more sophisticated, higher-value goods.",
         "words": "['By', 'understanding', 'and', 'drawing', 'on', 'proven', 'innovations', 'from', 'around', 'the', 'world', ',', 'Africa', 'could', 'leapfrog', 'more', 'developed', 'countries', 'technologically', ',', 'building', 'the', 'capacity', 'to', 'produce', 'more', 'sophisticated', ',', 'higher-value', 'goods', '.']",
         "num_words": 31,
         "_deepnote_index_column": 4860
        },
        {
         "sentences": "Knowledge of other countries’ experiences will also help Africa to avoid the pitfalls of unbridled industrialization – particularly environmental damage.",
         "words": "['Knowledge', 'of', 'other', 'countries', '’', 'experiences', 'will', 'also', 'help', 'Africa', 'to', 'avoid', 'the', 'pitfalls', 'of', 'unbridled', 'industrialization', '–', 'particularly', 'environmental', 'damage', '.']",
         "num_words": 22,
         "_deepnote_index_column": 4861
        },
        {
         "sentences": "Africa must ensure that its industrial-development strategy includes effective environmental safeguards.",
         "words": "['Africa', 'must', 'ensure', 'that', 'its', 'industrial-development', 'strategy', 'includes', 'effective', 'environmental', 'safeguards', '.']",
         "num_words": 12,
         "_deepnote_index_column": 4862
        },
        {
         "sentences": "Africa is well placed to industrialize.",
         "words": "['Africa', 'is', 'well', 'placed', 'to', 'industrialize', '.']",
         "num_words": 7,
         "_deepnote_index_column": 4863
        },
        {
         "sentences": "Beyond its massive natural-resource endowments, the continent has a favorable demographic profile (its rapidly growing population means that it will soon have the world’s largest workforce) and high urbanization rates.",
         "words": "['Beyond', 'its', 'massive', 'natural-resource', 'endowments', ',', 'the', 'continent', 'has', 'a', 'favorable', 'demographic', 'profile', '(', 'its', 'rapidly', 'growing', 'population', 'means', 'that', 'it', 'will', 'soon', 'have', 'the', 'world', '’', 's', 'largest', 'workforce', ')', 'and', 'high', 'urbanization', 'rates', '.']",
         "num_words": 36,
         "_deepnote_index_column": 4864
        },
        {
         "sentences": "It also benefits from a highly educated diaspora.",
         "words": "['It', 'also', 'benefits', 'from', 'a', 'highly', 'educated', 'diaspora', '.']",
         "num_words": 9,
         "_deepnote_index_column": 4865
        },
        {
         "sentences": "But industrialization is never automatic.",
         "words": "['But', 'industrialization', 'is', 'never', 'automatic', '.']",
         "num_words": 6,
         "_deepnote_index_column": 4866
        },
        {
         "sentences": "Governments must step up to address market failures, while planning, implementing, and enforcing industrial policies that address the shortcomings of previous ineffective versions.",
         "words": "['Governments', 'must', 'step', 'up', 'to', 'address', 'market', 'failures', ',', 'while', 'planning', ',', 'implementing', ',', 'and', 'enforcing', 'industrial', 'policies', 'that', 'address', 'the', 'shortcomings', 'of', 'previous', 'ineffective', 'versions', '.']",
         "num_words": 27,
         "_deepnote_index_column": 4867
        },
        {
         "sentences": "They must then institutionalize these new policies in national and regional development strategies.",
         "words": "['They', 'must', 'then', 'institutionalize', 'these', 'new', 'policies', 'in', 'national', 'and', 'regional', 'development', 'strategies', '.']",
         "num_words": 14,
         "_deepnote_index_column": 4868
        },
        {
         "sentences": "To succeed, governments will need adequate capacity, competence, and legitimacy to mobilize and interact with all stakeholders, thereby creating an attractive investment climate.",
         "words": "['To', 'succeed', ',', 'governments', 'will', 'need', 'adequate', 'capacity', ',', 'competence', ',', 'and', 'legitimacy', 'to', 'mobilize', 'and', 'interact', 'with', 'all', 'stakeholders', ',', 'thereby', 'creating', 'an', 'attractive', 'investment', 'climate', '.']",
         "num_words": 28,
         "_deepnote_index_column": 4869
        },
        {
         "sentences": "The necessary reforms will open the way for public-private partnerships, which can provide investment for infrastructure development and maintenance.",
         "words": "['The', 'necessary', 'reforms', 'will', 'open', 'the', 'way', 'for', 'public-private', 'partnerships', ',', 'which', 'can', 'provide', 'investment', 'for', 'infrastructure', 'development', 'and', 'maintenance', '.']",
         "num_words": 21,
         "_deepnote_index_column": 4870
        },
        {
         "sentences": "They will also facilitate cooperation with international organizations and development finance institutions, which can provide additional funds, while helping countries to upgrade their productive capacity.",
         "words": "['They', 'will', 'also', 'facilitate', 'cooperation', 'with', 'international', 'organizations', 'and', 'development', 'finance', 'institutions', ',', 'which', 'can', 'provide', 'additional', 'funds', ',', 'while', 'helping', 'countries', 'to', 'upgrade', 'their', 'productive', 'capacity', '.']",
         "num_words": 28,
         "_deepnote_index_column": 4871
        },
        {
         "sentences": "A recent report, prepared for the Hangzhou G20 Summit, features a number of recommendations for Africa.",
         "words": "['A', 'recent', 'report', ',', 'prepared', 'for', 'the', 'Hangzhou', 'G20', 'Summit', ',', 'features', 'a', 'number', 'of', 'recommendations', 'for', 'Africa', '.']",
         "num_words": 19,
         "_deepnote_index_column": 4872
        },
        {
         "sentences": "It suggests support for agriculture and agribusiness development and linking them with other sectors, as well as measures to boost resilience to price shocks.",
         "words": "['It', 'suggests', 'support', 'for', 'agriculture', 'and', 'agribusiness', 'development', 'and', 'linking', 'them', 'with', 'other', 'sectors', ',', 'as', 'well', 'as', 'measures', 'to', 'boost', 'resilience', 'to', 'price', 'shocks', '.']",
         "num_words": 26,
         "_deepnote_index_column": 4873
        },
        {
         "sentences": "Furthermore, the report emphasizes the need to deepen, broaden, and update the local knowledge base, invest in energy- and material-resource efficiency, and promote green technologies and industries.",
         "words": "['Furthermore', ',', 'the', 'report', 'emphasizes', 'the', 'need', 'to', 'deepen', ',', 'broaden', ',', 'and', 'update', 'the', 'local', 'knowledge', 'base', ',', 'invest', 'in', 'energy-', 'and', 'material-resource', 'efficiency', ',', 'and', 'promote', 'green', 'technologies', 'and', 'industries', '.']",
         "num_words": 33,
         "_deepnote_index_column": 4874
        },
        {
         "sentences": "Other recommendations relate to trade and regional integration, leveraging domestic and external finance, and promoting what it calls the “New Industrial Revolution.”\nMy numerous meetings with African leaders and visits to dozens of countries across the continent have convinced me that Africa is committed to industrialization.",
         "words": "['Other', 'recommendations', 'relate', 'to', 'trade', 'and', 'regional', 'integration', ',', 'leveraging', 'domestic', 'and', 'external', 'finance', ',', 'and', 'promoting', 'what', 'it', 'calls', 'the', '“', 'New', 'Industrial', 'Revolution.', '”', 'My', 'numerous', 'meetings', 'with', 'African', 'leaders', 'and', 'visits', 'to', 'dozens', 'of', 'countries', 'across', 'the', 'continent', 'have', 'convinced', 'me', 'that', 'Africa', 'is', 'committed', 'to', 'industrialization', '.']",
         "num_words": 51,
         "_deepnote_index_column": 4875
        },
        {
         "sentences": "In fact, the process is already underway in many countries, including Ethiopia, Ghana, Rwanda, and Senegal.",
         "words": "['In', 'fact', ',', 'the', 'process', 'is', 'already', 'underway', 'in', 'many', 'countries', ',', 'including', 'Ethiopia', ',', 'Ghana', ',', 'Rwanda', ',', 'and', 'Senegal', '.']",
         "num_words": 22,
         "_deepnote_index_column": 4876
        },
        {
         "sentences": "By offering our commitment and support, we can enable these countries to realize inclusive and sustainable development for the benefit of everyone.",
         "words": "['By', 'offering', 'our', 'commitment', 'and', 'support', ',', 'we', 'can', 'enable', 'these', 'countries', 'to', 'realize', 'inclusive', 'and', 'sustainable', 'development', 'for', 'the', 'benefit', 'of', 'everyone', '.']",
         "num_words": 24,
         "_deepnote_index_column": 4877
        },
        {
         "sentences": "A Roadmap for African Industrialization\nABIDJAN – Africa is at a crossroads.",
         "words": "['A', 'Roadmap', 'for', 'African', 'Industrialization', 'ABIDJAN', '–', 'Africa', 'is', 'at', 'a', 'crossroads', '.']",
         "num_words": 13,
         "_deepnote_index_column": 4878
        },
        {
         "sentences": "Six of the world’s ten fastest-growing economies are now located in the region, and the continent’s GDP is expected to grow at a rate of 4.1% this year, up from 3.6% in 2017.",
         "words": "['Six', 'of', 'the', 'world', '’', 's', 'ten', 'fastest-growing', 'economies', 'are', 'now', 'located', 'in', 'the', 'region', ',', 'and', 'the', 'continent', '’', 's', 'GDP', 'is', 'expected', 'to', 'grow', 'at', 'a', 'rate', 'of', '4.1', '%', 'this', 'year', ',', 'up', 'from', '3.6', '%', 'in', '2017', '.']",
         "num_words": 42,
         "_deepnote_index_column": 4879
        },
        {
         "sentences": "Yet Africa’s economic growth has not been accompanied by a commensurate level of job creation, which has particularly negative implications for women and young people.",
         "words": "['Yet', 'Africa', '’', 's', 'economic', 'growth', 'has', 'not', 'been', 'accompanied', 'by', 'a', 'commensurate', 'level', 'of', 'job', 'creation', ',', 'which', 'has', 'particularly', 'negative', 'implications', 'for', 'women', 'and', 'young', 'people', '.']",
         "num_words": 29,
         "_deepnote_index_column": 4880
        },
        {
         "sentences": "In fact, today’s jobless growth could even reverse the gains made in eradicating poverty in recent years.",
         "words": "['In', 'fact', ',', 'today', '’', 's', 'jobless', 'growth', 'could', 'even', 'reverse', 'the', 'gains', 'made', 'in', 'eradicating', 'poverty', 'in', 'recent', 'years', '.']",
         "num_words": 21,
         "_deepnote_index_column": 4881
        },
        {
         "sentences": "The problem is that Africa’s growth, while impressive, has been volatile, because it has been driven mainly by high commodity prices, rather than by manufacturing.",
         "words": "['The', 'problem', 'is', 'that', 'Africa', '’', 's', 'growth', ',', 'while', 'impressive', ',', 'has', 'been', 'volatile', ',', 'because', 'it', 'has', 'been', 'driven', 'mainly', 'by', 'high', 'commodity', 'prices', ',', 'rather', 'than', 'by', 'manufacturing', '.']",
         "num_words": 32,
         "_deepnote_index_column": 4882
        },
        {
         "sentences": "The economic effects of this imbalance should not be underestimated.",
         "words": "['The', 'economic', 'effects', 'of', 'this', 'imbalance', 'should', 'not', 'be', 'underestimated', '.']",
         "num_words": 11,
         "_deepnote_index_column": 4883
        },
        {
         "sentences": "Among other things, it explains why a region that produces about 75% of the world’s cocoa accounts for just 5% of the nearly $100 billion annual chocolate market.",
         "words": "['Among', 'other', 'things', ',', 'it', 'explains', 'why', 'a', 'region', 'that', 'produces', 'about', '75', '%', 'of', 'the', 'world', '’', 's', 'cocoa', 'accounts', 'for', 'just', '5', '%', 'of', 'the', 'nearly', '$', '100', 'billion', 'annual', 'chocolate', 'market', '.']",
         "num_words": 35,
         "_deepnote_index_column": 4884
        },
        {
         "sentences": "Despite its vast natural resources, Africa will remain at the mercy of commodity prices and trade flows until it undertakes a profound structural transformation.",
         "words": "['Despite', 'its', 'vast', 'natural', 'resources', ',', 'Africa', 'will', 'remain', 'at', 'the', 'mercy', 'of', 'commodity', 'prices', 'and', 'trade', 'flows', 'until', 'it', 'undertakes', 'a', 'profound', 'structural', 'transformation', '.']",
         "num_words": 26,
         "_deepnote_index_column": 4885
        },
        {
         "sentences": "The time has come for Africa to unlock its true economic potential by following in the footsteps of every modern economy and undertaking the transition from agriculture to manufacturing.",
         "words": "['The', 'time', 'has', 'come', 'for', 'Africa', 'to', 'unlock', 'its', 'true', 'economic', 'potential', 'by', 'following', 'in', 'the', 'footsteps', 'of', 'every', 'modern', 'economy', 'and', 'undertaking', 'the', 'transition', 'from', 'agriculture', 'to', 'manufacturing', '.']",
         "num_words": 30,
         "_deepnote_index_column": 4886
        },
        {
         "sentences": "Africa’s manufacturing sector is the weakest link in its ongoing integration into the global economy.",
         "words": "['Africa', '’', 's', 'manufacturing', 'sector', 'is', 'the', 'weakest', 'link', 'in', 'its', 'ongoing', 'integration', 'into', 'the', 'global', 'economy', '.']",
         "num_words": 18,
         "_deepnote_index_column": 4887
        },
        {
         "sentences": "Today, primary products (raw materials) comprise 62% of Africa’s total exports, the highest share in the world.",
         "words": "['Today', ',', 'primary', 'products', '(', 'raw', 'materials', ')', 'comprise', '62', '%', 'of', 'Africa', '’', 's', 'total', 'exports', ',', 'the', 'highest', 'share', 'in', 'the', 'world', '.']",
         "num_words": 25,
         "_deepnote_index_column": 4888
        },
        {
         "sentences": "At the same time, manufactured exports per capita in 2014 totaled just $218, which is among the lowest levels in the world, and far below other developing regions such as Asia ($883) and Latin America ($1,099).",
         "words": "['At', 'the', 'same', 'time', ',', 'manufactured', 'exports', 'per', 'capita', 'in', '2014', 'totaled', 'just', '$', '218', ',', 'which', 'is', 'among', 'the', 'lowest', 'levels', 'in', 'the', 'world', ',', 'and', 'far', 'below', 'other', 'developing', 'regions', 'such', 'as', 'Asia', '(', '$', '883', ')', 'and', 'Latin', 'America', '(', '$', '1,099', ')', '.']",
         "num_words": 47,
         "_deepnote_index_column": 4889
        },
        {
         "sentences": "Clearly, Africa must start catching up.",
         "words": "['Clearly', ',', 'Africa', 'must', 'start', 'catching', 'up', '.']",
         "num_words": 8,
         "_deepnote_index_column": 4890
        },
        {
         "sentences": "Fortunately, there is already a global consensus that industrialization matters, and that it is in everyone’s interest for Africa to become the global manufacturing power it ought to be.",
         "words": "['Fortunately', ',', 'there', 'is', 'already', 'a', 'global', 'consensus', 'that', 'industrialization', 'matters', ',', 'and', 'that', 'it', 'is', 'in', 'everyone', '’', 's', 'interest', 'for', 'Africa', 'to', 'become', 'the', 'global', 'manufacturing', 'power', 'it', 'ought', 'to', 'be', '.']",
         "num_words": 34,
         "_deepnote_index_column": 4891
        },
        {
         "sentences": "With its “High 5 Agenda,” the African Development Bank (AfDB) has made industrialization a top priority.",
         "words": "['With', 'its', '“', 'High', '5', 'Agenda', ',', '”', 'the', 'African', 'Development', 'Bank', '(', 'AfDB', ')', 'has', 'made', 'industrialization', 'a', 'top', 'priority', '.']",
         "num_words": 22,
         "_deepnote_index_column": 4892
        },
        {
         "sentences": "Likewise, industrialization is a key component of the African Union’s “Agenda 2063.”\nAnd, in 2016, the United Nations General Assembly declared 2016-2025 the “Third Industrial Development Decade for Africa.”\nBut such pronouncements are meaningless in the absence of concrete action.",
         "words": "['Likewise', ',', 'industrialization', 'is', 'a', 'key', 'component', 'of', 'the', 'African', 'Union', '’', 's', '“', 'Agenda', '2063.', '”', 'And', ',', 'in', '2016', ',', 'the', 'United', 'Nations', 'General', 'Assembly', 'declared', '2016-2025', 'the', '“', 'Third', 'Industrial', 'Development', 'Decade', 'for', 'Africa.', '”', 'But', 'such', 'pronouncements', 'are', 'meaningless', 'in', 'the', 'absence', 'of', 'concrete', 'action', '.']",
         "num_words": 50,
         "_deepnote_index_column": 4893
        },
        {
         "sentences": "To change the region’s economic trajectory, African policymakers must focus on three key areas: industrial policies, infrastructure financing, and leadership.",
         "words": "['To', 'change', 'the', 'region', '’', 's', 'economic', 'trajectory', ',', 'African', 'policymakers', 'must', 'focus', 'on', 'three', 'key', 'areas', ':', 'industrial', 'policies', ',', 'infrastructure', 'financing', ',', 'and', 'leadership', '.']",
         "num_words": 27,
         "_deepnote_index_column": 4894
        },
        {
         "sentences": "We now know that industrial policies can be effective in boosting growth.",
         "words": "['We', 'now', 'know', 'that', 'industrial', 'policies', 'can', 'be', 'effective', 'in', 'boosting', 'growth', '.']",
         "num_words": 13,
         "_deepnote_index_column": 4895
        },
        {
         "sentences": "The question is whether states possess the capacity to implement the policies they design.",
         "words": "['The', 'question', 'is', 'whether', 'states', 'possess', 'the', 'capacity', 'to', 'implement', 'the', 'policies', 'they', 'design', '.']",
         "num_words": 15,
         "_deepnote_index_column": 4896
        },
        {
         "sentences": "If they do, they can channel resources toward industry and marshal available technologies to create synergy between the agriculture and manufacturing sectors.",
         "words": "['If', 'they', 'do', ',', 'they', 'can', 'channel', 'resources', 'toward', 'industry', 'and', 'marshal', 'available', 'technologies', 'to', 'create', 'synergy', 'between', 'the', 'agriculture', 'and', 'manufacturing', 'sectors', '.']",
         "num_words": 24,
         "_deepnote_index_column": 4897
        },
        {
         "sentences": "A number of African countries have already moved in this direction.",
         "words": "['A', 'number', 'of', 'African', 'countries', 'have', 'already', 'moved', 'in', 'this', 'direction', '.']",
         "num_words": 12,
         "_deepnote_index_column": 4898
        },
        {
         "sentences": "Ethiopia, for example, has created special economic zones, where it has lowered production costs by investing in infrastructure.",
         "words": "['Ethiopia', ',', 'for', 'example', ',', 'has', 'created', 'special', 'economic', 'zones', ',', 'where', 'it', 'has', 'lowered', 'production', 'costs', 'by', 'investing', 'in', 'infrastructure', '.']",
         "num_words": 22,
         "_deepnote_index_column": 4899
        },
        {
         "sentences": "As a result, the country has emerged as Africa’s largest hub for textile manufacturing, attracting major players like H&M and Primark.",
         "words": "['As', 'a', 'result', ',', 'the', 'country', 'has', 'emerged', 'as', 'Africa', '’', 's', 'largest', 'hub', 'for', 'textile', 'manufacturing', ',', 'attracting', 'major', 'players', 'like', 'H', '&', 'M', 'and', 'Primark', '.']",
         "num_words": 28,
         "_deepnote_index_column": 4900
        },
        {
         "sentences": "Similarly, Rwanda’s Kigali Special Economic Zone, which exempts firms from taxes for ten years, has attracted a $20 million investment from Volkswagen for a new vehicle-assembly plant.",
         "words": "['Similarly', ',', 'Rwanda', '’', 's', 'Kigali', 'Special', 'Economic', 'Zone', ',', 'which', 'exempts', 'firms', 'from', 'taxes', 'for', 'ten', 'years', ',', 'has', 'attracted', 'a', '$', '20', 'million', 'investment', 'from', 'Volkswagen', 'for', 'a', 'new', 'vehicle-assembly', 'plant', '.']",
         "num_words": 34,
         "_deepnote_index_column": 4901
        },
        {
         "sentences": "But industrialization cannot happen without power, roads, and railways, which is why infrastructure must be a key focus.",
         "words": "['But', 'industrialization', 'can', 'not', 'happen', 'without', 'power', ',', 'roads', ',', 'and', 'railways', ',', 'which', 'is', 'why', 'infrastructure', 'must', 'be', 'a', 'key', 'focus', '.']",
         "num_words": 23,
         "_deepnote_index_column": 4902
        },
        {
         "sentences": "As of now, the AfDB pegs Africa’s infrastructure gap at $130–170 billion per year.",
         "words": "['As', 'of', 'now', ',', 'the', 'AfDB', 'pegs', 'Africa', '’', 's', 'infrastructure', 'gap', 'at', '$', '130–170', 'billion', 'per', 'year', '.']",
         "num_words": 19,
         "_deepnote_index_column": 4903
        },
        {
         "sentences": "Closing it will require not just more financing, but also more innovative thinking, particularly concerning joint public-private efforts.",
         "words": "['Closing', 'it', 'will', 'require', 'not', 'just', 'more', 'financing', ',', 'but', 'also', 'more', 'innovative', 'thinking', ',', 'particularly', 'concerning', 'joint', 'public-private', 'efforts', '.']",
         "num_words": 21,
         "_deepnote_index_column": 4904
        },
        {
         "sentences": "To that end, the AfDB has expanded its portfolio for financing new infrastructure projects in several countries.",
         "words": "['To', 'that', 'end', ',', 'the', 'AfDB', 'has', 'expanded', 'its', 'portfolio', 'for', 'financing', 'new', 'infrastructure', 'projects', 'in', 'several', 'countries', '.']",
         "num_words": 19,
         "_deepnote_index_column": 4905
        },
        {
         "sentences": "As part of our “New Deal on Energy for Africa,” we have scaled up investment in renewable energy and put $265 million toward developing two solar-power plants in Morocco.",
         "words": "['As', 'part', 'of', 'our', '“', 'New', 'Deal', 'on', 'Energy', 'for', 'Africa', ',', '”', 'we', 'have', 'scaled', 'up', 'investment', 'in', 'renewable', 'energy', 'and', 'put', '$', '265', 'million', 'toward', 'developing', 'two', 'solar-power', 'plants', 'in', 'Morocco', '.']",
         "num_words": 34,
         "_deepnote_index_column": 4906
        },
        {
         "sentences": "In Côte d’Ivoire, where demand for energy is surging by 8-9% annually, we are investing $60 million to bring a new 44-megawatt hydropower plant onstream.",
         "words": "['In', 'Côte', 'd', '’', 'Ivoire', ',', 'where', 'demand', 'for', 'energy', 'is', 'surging', 'by', '8-9', '%', 'annually', ',', 'we', 'are', 'investing', '$', '60', 'million', 'to', 'bring', 'a', 'new', '44-megawatt', 'hydropower', 'plant', 'onstream', '.']",
         "num_words": 32,
         "_deepnote_index_column": 4907
        },
        {
         "sentences": "African countries should make such investments now to reap the demographic dividend of the continent’s population bulge in the years ahead.",
         "words": "['African', 'countries', 'should', 'make', 'such', 'investments', 'now', 'to', 'reap', 'the', 'demographic', 'dividend', 'of', 'the', 'continent', '’', 's', 'population', 'bulge', 'in', 'the', 'years', 'ahead', '.']",
         "num_words": 24,
         "_deepnote_index_column": 4908
        },
        {
         "sentences": "As manufacturing activities expand, they will need to be supported by more robust knowledge- and skill-based economies, which will require higher investment in education to boost technical and vocational skills and training.",
         "words": "['As', 'manufacturing', 'activities', 'expand', ',', 'they', 'will', 'need', 'to', 'be', 'supported', 'by', 'more', 'robust', 'knowledge-', 'and', 'skill-based', 'economies', ',', 'which', 'will', 'require', 'higher', 'investment', 'in', 'education', 'to', 'boost', 'technical', 'and', 'vocational', 'skills', 'and', 'training', '.']",
         "num_words": 35,
         "_deepnote_index_column": 4909
        },
        {
         "sentences": "No country has ever undergone economic modernization without industry.",
         "words": "['No', 'country', 'has', 'ever', 'undergone', 'economic', 'modernization', 'without', 'industry', '.']",
         "num_words": 10,
         "_deepnote_index_column": 4910
        },
        {
         "sentences": "But, more to the point, no functional industrial sector has ever emerged in the absence of strong, committed leadership.",
         "words": "['But', ',', 'more', 'to', 'the', 'point', ',', 'no', 'functional', 'industrial', 'sector', 'has', 'ever', 'emerged', 'in', 'the', 'absence', 'of', 'strong', ',', 'committed', 'leadership', '.']",
         "num_words": 23,
         "_deepnote_index_column": 4911
        },
        {
         "sentences": "Consider Mauritius, which in the 1970s was a low-income mono-crop economy with a per capita GDP of just under $250.",
         "words": "['Consider', 'Mauritius', ',', 'which', 'in', 'the', '1970s', 'was', 'a', 'low-income', 'mono-crop', 'economy', 'with', 'a', 'per', 'capita', 'GDP', 'of', 'just', 'under', '$', '250', '.']",
         "num_words": 23,
         "_deepnote_index_column": 4912
        },
        {
         "sentences": "Today, Mauritius is an upper-middle-income country with a more diversified economy and a per capita GDP of around $9,600.",
         "words": "['Today', ',', 'Mauritius', 'is', 'an', 'upper-middle-income', 'country', 'with', 'a', 'more', 'diversified', 'economy', 'and', 'a', 'per', 'capita', 'GDP', 'of', 'around', '$', '9,600', '.']",
         "num_words": 22,
         "_deepnote_index_column": 4913
        },
        {
         "sentences": "It is often cited as a model of economic success in Africa.",
         "words": "['It', 'is', 'often', 'cited', 'as', 'a', 'model', 'of', 'economic', 'success', 'in', 'Africa', '.']",
         "num_words": 13,
         "_deepnote_index_column": 4914
        },
        {
         "sentences": "How did this come about?",
         "words": "['How', 'did', 'this', 'come', 'about', '?']",
         "num_words": 6,
         "_deepnote_index_column": 4915
        },
        {
         "sentences": "As former Mauritian Prime Minister and President Anerood Jugnauth has put it, “There is no miracle.",
         "words": "['As', 'former', 'Mauritian', 'Prime', 'Minister', 'and', 'President', 'Anerood', 'Jugnauth', 'has', 'put', 'it', ',', '“', 'There', 'is', 'no', 'miracle', '.']",
         "num_words": 19,
         "_deepnote_index_column": 4916
        },
        {
         "sentences": "It is due simply to hard work, discipline, and will.”\nLeaders who want to develop a strong manufacturing base must have the political will to distribute resources fairly and pull the private sector along.",
         "words": "['It', 'is', 'due', 'simply', 'to', 'hard', 'work', ',', 'discipline', ',', 'and', 'will.', '”', 'Leaders', 'who', 'want', 'to', 'develop', 'a', 'strong', 'manufacturing', 'base', 'must', 'have', 'the', 'political', 'will', 'to', 'distribute', 'resources', 'fairly', 'and', 'pull', 'the', 'private', 'sector', 'along', '.']",
         "num_words": 38,
         "_deepnote_index_column": 4917
        },
        {
         "sentences": "Mauritius experienced its fair share of challenges in moving from low-end manufacturing to technology-intensive goods and services.",
         "words": "['Mauritius', 'experienced', 'its', 'fair', 'share', 'of', 'challenges', 'in', 'moving', 'from', 'low-end', 'manufacturing', 'to', 'technology-intensive', 'goods', 'and', 'services', '.']",
         "num_words": 18,
         "_deepnote_index_column": 4918
        },
        {
         "sentences": "But it now stands as an example of what committed leadership can accomplish.",
         "words": "['But', 'it', 'now', 'stands', 'as', 'an', 'example', 'of', 'what', 'committed', 'leadership', 'can', 'accomplish', '.']",
         "num_words": 14,
         "_deepnote_index_column": 4919
        },
        {
         "sentences": "Other African countries would do well to emulate it as they pursue their own economic transformations.",
         "words": "['Other', 'African', 'countries', 'would', 'do', 'well', 'to', 'emulate', 'it', 'as', 'they', 'pursue', 'their', 'own', 'economic', 'transformations', '.']",
         "num_words": 17,
         "_deepnote_index_column": 4920
        },
        {
         "sentences": "All told, Africa is well placed to seize many of the opportunities that the global economy offers emerging markets.",
         "words": "['All', 'told', ',', 'Africa', 'is', 'well', 'placed', 'to', 'seize', 'many', 'of', 'the', 'opportunities', 'that', 'the', 'global', 'economy', 'offers', 'emerging', 'markets', '.']",
         "num_words": 21,
         "_deepnote_index_column": 4921
        },
        {
         "sentences": "It already has the resources and the labor; now it needs committed leaders like Jugnauth who will implement the right policies.",
         "words": "['It', 'already', 'has', 'the', 'resources', 'and', 'the', 'labor', ';', 'now', 'it', 'needs', 'committed', 'leaders', 'like', 'Jugnauth', 'who', 'will', 'implement', 'the', 'right', 'policies', '.']",
         "num_words": 23,
         "_deepnote_index_column": 4922
        },
        {
         "sentences": "Africa’s Alternative Path to Development\nWASHINGTON, DC – Recent projections indicate that several Sub-Saharan African countries will experience robust economic growth over the next five years.",
         "words": "['Africa', '’', 's', 'Alternative', 'Path', 'to', 'Development', 'WASHINGTON', ',', 'DC', '–', 'Recent', 'projections', 'indicate', 'that', 'several', 'Sub-Saharan', 'African', 'countries', 'will', 'experience', 'robust', 'economic', 'growth', 'over', 'the', 'next', 'five', 'years', '.']",
         "num_words": 30,
         "_deepnote_index_column": 4923
        },
        {
         "sentences": "By 2023, around one-third of the region’s economies will have grown at an average annual rate of 5% or higher since 2000.",
         "words": "['By', '2023', ',', 'around', 'one-third', 'of', 'the', 'region', '’', 's', 'economies', 'will', 'have', 'grown', 'at', 'an', 'average', 'annual', 'rate', 'of', '5', '%', 'or', 'higher', 'since', '2000', '.']",
         "num_words": 27,
         "_deepnote_index_column": 4924
        },
        {
         "sentences": "And yet, as The Economist observed last year, Africa’s development model “puzzles economists.”\nAfter all, only four of the continent’s high-growth countries are natural-resource dependent.",
         "words": "['And', 'yet', ',', 'as', 'The', 'Economist', 'observed', 'last', 'year', ',', 'Africa', '’', 's', 'development', 'model', '“', 'puzzles', 'economists.', '”', 'After', 'all', ',', 'only', 'four', 'of', 'the', 'continent', '’', 's', 'high-growth', 'countries', 'are', 'natural-resource', 'dependent', '.']",
         "num_words": 35,
         "_deepnote_index_column": 4925
        },
        {
         "sentences": "Nor is overall performance due primarily to industrialization, as traditional development models would have predicted.",
         "words": "['Nor', 'is', 'overall', 'performance', 'due', 'primarily', 'to', 'industrialization', ',', 'as', 'traditional', 'development', 'models', 'would', 'have', 'predicted', '.']",
         "num_words": 17,
         "_deepnote_index_column": 4926
        },
        {
         "sentences": "What, then, explains the strong economic performance?",
         "words": "['What', ',', 'then', ',', 'explains', 'the', 'strong', 'economic', 'performance', '?']",
         "num_words": 10,
         "_deepnote_index_column": 4927
        },
        {
         "sentences": "New research by the Brookings Institution’s Africa Growth Initiative and the United Nations University World Institute for Development Economics Research (UNU-WIDER) might hold the key to answering that question.",
         "words": "['New', 'research', 'by', 'the', 'Brookings', 'Institution', '’', 's', 'Africa', 'Growth', 'Initiative', 'and', 'the', 'United', 'Nations', 'University', 'World', 'Institute', 'for', 'Development', 'Economics', 'Research', '(', 'UNU-WIDER', ')', 'might', 'hold', 'the', 'key', 'to', 'answering', 'that', 'question', '.']",
         "num_words": 34,
         "_deepnote_index_column": 4928
        },
        {
         "sentences": "According to the forthcoming book Industries Without Smokestacks: Industrialization in Africa Reconsidered, there is evidence to suggest that Sub-Saharan Africa is undergoing a more profound structural transformation than we think.",
         "words": "['According', 'to', 'the', 'forthcoming', 'book', 'Industries', 'Without', 'Smokestacks', ':', 'Industrialization', 'in', 'Africa', 'Reconsidered', ',', 'there', 'is', 'evidence', 'to', 'suggest', 'that', 'Sub-Saharan', 'Africa', 'is', 'undergoing', 'a', 'more', 'profound', 'structural', 'transformation', 'than', 'we', 'think', '.']",
         "num_words": 33,
         "_deepnote_index_column": 4929
        },
        {
         "sentences": "Africa owes this structural transformation not to traditional industries, but to new developments in tradable services and agro-industries that resemble traditional industrialization.",
         "words": "['Africa', 'owes', 'this', 'structural', 'transformation', 'not', 'to', 'traditional', 'industries', ',', 'but', 'to', 'new', 'developments', 'in', 'tradable', 'services', 'and', 'agro-industries', 'that', 'resemble', 'traditional', 'industrialization', '.']",
         "num_words": 24,
         "_deepnote_index_column": 4930
        },
        {
         "sentences": "Aside from horticulture and agro-business, these new industries include information and communication technology-based services (ICT) and tourism.",
         "words": "['Aside', 'from', 'horticulture', 'and', 'agro-business', ',', 'these', 'new', 'industries', 'include', 'information', 'and', 'communication', 'technology-based', 'services', '(', 'ICT', ')', 'and', 'tourism', '.']",
         "num_words": 21,
         "_deepnote_index_column": 4931
        },
        {
         "sentences": "This is a departure from the historical norm.",
         "words": "['This', 'is', 'a', 'departure', 'from', 'the', 'historical', 'norm', '.']",
         "num_words": 9,
         "_deepnote_index_column": 4932
        },
        {
         "sentences": "Traditionally, as Harvard University economist Dani Rodrik points out, economies that have sustained robust growth rates without relying on natural-resource booms, “typically do so through export-oriented industrialization.”\nBut in Africa, manufacturing as a share of total economic activity has stagnated at around 10%, with economic activity moving from agriculture to services.",
         "words": "['Traditionally', ',', 'as', 'Harvard', 'University', 'economist', 'Dani', 'Rodrik', 'points', 'out', ',', 'economies', 'that', 'have', 'sustained', 'robust', 'growth', 'rates', 'without', 'relying', 'on', 'natural-resource', 'booms', ',', '“', 'typically', 'do', 'so', 'through', 'export-oriented', 'industrialization.', '”', 'But', 'in', 'Africa', ',', 'manufacturing', 'as', 'a', 'share', 'of', 'total', 'economic', 'activity', 'has', 'stagnated', 'at', 'around', '10', '%', ',', 'with', 'economic', 'activity', 'moving', 'from', 'agriculture', 'to', 'services', '.']",
         "num_words": 60,
         "_deepnote_index_column": 4933
        },
        {
         "sentences": "And because the rate of productivity growth in services is only about half that of manufacturing, the aggregate productivity gains needed for sustained growth have fallen relatively short.",
         "words": "['And', 'because', 'the', 'rate', 'of', 'productivity', 'growth', 'in', 'services', 'is', 'only', 'about', 'half', 'that', 'of', 'manufacturing', ',', 'the', 'aggregate', 'productivity', 'gains', 'needed', 'for', 'sustained', 'growth', 'have', 'fallen', 'relatively', 'short', '.']",
         "num_words": 30,
         "_deepnote_index_column": 4934
        },
        {
         "sentences": "This process of premature deindustrialization is not unique to Africa.",
         "words": "['This', 'process', 'of', 'premature', 'deindustrialization', 'is', 'not', 'unique', 'to', 'Africa', '.']",
         "num_words": 11,
         "_deepnote_index_column": 4935
        },
        {
         "sentences": "But it is more consequential for the continent, given the scale of its development challenges.",
         "words": "['But', 'it', 'is', 'more', 'consequential', 'for', 'the', 'continent', ',', 'given', 'the', 'scale', 'of', 'its', 'development', 'challenges', '.']",
         "num_words": 17,
         "_deepnote_index_column": 4936
        },
        {
         "sentences": "Owing to its young, rapidly growing labor force, Africa now needs to create more than 11 million jobs in the formal economy every year.",
         "words": "['Owing', 'to', 'its', 'young', ',', 'rapidly', 'growing', 'labor', 'force', ',', 'Africa', 'now', 'needs', 'to', 'create', 'more', 'than', '11', 'million', 'jobs', 'in', 'the', 'formal', 'economy', 'every', 'year', '.']",
         "num_words": 27,
         "_deepnote_index_column": 4937
        },
        {
         "sentences": "But as Nobel laureate economist Joseph E. Stiglitz has warned, Africa cannot replicate East Asia’s manufacturing-led model, so the question is whether it can leverage modern services to achieve economic development.",
         "words": "['But', 'as', 'Nobel', 'laureate', 'economist', 'Joseph', 'E.', 'Stiglitz', 'has', 'warned', ',', 'Africa', 'can', 'not', 'replicate', 'East', 'Asia', '’', 's', 'manufacturing-led', 'model', ',', 'so', 'the', 'question', 'is', 'whether', 'it', 'can', 'leverage', 'modern', 'services', 'to', 'achieve', 'economic', 'development', '.']",
         "num_words": 37,
         "_deepnote_index_column": 4938
        },
        {
         "sentences": "According to Foresight Africa: Top Priorities for 2018, a Brookings Institution report previewing the results of Industries Without Smokestacks, services exports from Africa grew more than six times faster than merchandise exports between 1998 and 2015.",
         "words": "['According', 'to', 'Foresight', 'Africa', ':', 'Top', 'Priorities', 'for', '2018', ',', 'a', 'Brookings', 'Institution', 'report', 'previewing', 'the', 'results', 'of', 'Industries', 'Without', 'Smokestacks', ',', 'services', 'exports', 'from', 'Africa', 'grew', 'more', 'than', 'six', 'times', 'faster', 'than', 'merchandise', 'exports', 'between', '1998', 'and', '2015', '.']",
         "num_words": 40,
         "_deepnote_index_column": 4939
        },
        {
         "sentences": "In Kenya, Rwanda, Senegal, and South Africa, the ICT sector is flourishing.",
         "words": "['In', 'Kenya', ',', 'Rwanda', ',', 'Senegal', ',', 'and', 'South', 'Africa', ',', 'the', 'ICT', 'sector', 'is', 'flourishing', '.']",
         "num_words": 17,
         "_deepnote_index_column": 4940
        },
        {
         "sentences": "In Rwanda, tourism is now the single largest export activity, accounting for about 30% of total exports.",
         "words": "['In', 'Rwanda', ',', 'tourism', 'is', 'now', 'the', 'single', 'largest', 'export', 'activity', ',', 'accounting', 'for', 'about', '30', '%', 'of', 'total', 'exports', '.']",
         "num_words": 21,
         "_deepnote_index_column": 4941
        },
        {
         "sentences": "Ethiopia, Ghana, Kenya, and Senegal are all integrated into global horticultural value chains, and Ethiopia has become a leading player in global flower exports.",
         "words": "['Ethiopia', ',', 'Ghana', ',', 'Kenya', ',', 'and', 'Senegal', 'are', 'all', 'integrated', 'into', 'global', 'horticultural', 'value', 'chains', ',', 'and', 'Ethiopia', 'has', 'become', 'a', 'leading', 'player', 'in', 'global', 'flower', 'exports', '.']",
         "num_words": 29,
         "_deepnote_index_column": 4942
        },
        {
         "sentences": "As these smokestack-less industries have grown, they have generated new patterns of structural change that are distinct from those of East Asia’s manufacturing-led transformation.",
         "words": "['As', 'these', 'smokestack-less', 'industries', 'have', 'grown', ',', 'they', 'have', 'generated', 'new', 'patterns', 'of', 'structural', 'change', 'that', 'are', 'distinct', 'from', 'those', 'of', 'East', 'Asia', '’', 's', 'manufacturing-led', 'transformation', '.']",
         "num_words": 28,
         "_deepnote_index_column": 4943
        },
        {
         "sentences": "But, if properly stewarded, they could play the same role in Africa’s development as manufacturing did in East Asia.",
         "words": "['But', ',', 'if', 'properly', 'stewarded', ',', 'they', 'could', 'play', 'the', 'same', 'role', 'in', 'Africa', '’', 's', 'development', 'as', 'manufacturing', 'did', 'in', 'East', 'Asia', '.']",
         "num_words": 24,
         "_deepnote_index_column": 4944
        },
        {
         "sentences": "Manufacturing-led growth proved to be an effective development model in East Asia for three main reasons.",
         "words": "['Manufacturing-led', 'growth', 'proved', 'to', 'be', 'an', 'effective', 'development', 'model', 'in', 'East', 'Asia', 'for', 'three', 'main', 'reasons', '.']",
         "num_words": 17,
         "_deepnote_index_column": 4945
        },
        {
         "sentences": "First, manufacturing has higher productivity than agriculture, and it can absorb a large number of moderately skilled workers migrating out of the agriculture sector.",
         "words": "['First', ',', 'manufacturing', 'has', 'higher', 'productivity', 'than', 'agriculture', ',', 'and', 'it', 'can', 'absorb', 'a', 'large', 'number', 'of', 'moderately', 'skilled', 'workers', 'migrating', 'out', 'of', 'the', 'agriculture', 'sector', '.']",
         "num_words": 27,
         "_deepnote_index_column": 4946
        },
        {
         "sentences": "Second, manufacturers benefit from technological transfers from abroad, so their productivity rises in line with global trends.",
         "words": "['Second', ',', 'manufacturers', 'benefit', 'from', 'technological', 'transfers', 'from', 'abroad', ',', 'so', 'their', 'productivity', 'rises', 'in', 'line', 'with', 'global', 'trends', '.']",
         "num_words": 20,
         "_deepnote_index_column": 4947
        },
        {
         "sentences": "And third, the shift to manufacturing in East Asia was oriented toward exports, which allowed production to be scaled up.",
         "words": "['And', 'third', ',', 'the', 'shift', 'to', 'manufacturing', 'in', 'East', 'Asia', 'was', 'oriented', 'toward', 'exports', ',', 'which', 'allowed', 'production', 'to', 'be', 'scaled', 'up', '.']",
         "num_words": 23,
         "_deepnote_index_column": 4948
        },
        {
         "sentences": "According to John Page, one of the editors of Industries Without Smokestacks, Africa’s growing service sectors share these same characteristics.",
         "words": "['According', 'to', 'John', 'Page', ',', 'one', 'of', 'the', 'editors', 'of', 'Industries', 'Without', 'Smokestacks', ',', 'Africa', '’', 's', 'growing', 'service', 'sectors', 'share', 'these', 'same', 'characteristics', '.']",
         "num_words": 25,
         "_deepnote_index_column": 4949
        },
        {
         "sentences": "In addition to being tradable, they have higher productivity and can absorb large numbers of moderately skilled workers.",
         "words": "['In', 'addition', 'to', 'being', 'tradable', ',', 'they', 'have', 'higher', 'productivity', 'and', 'can', 'absorb', 'large', 'numbers', 'of', 'moderately', 'skilled', 'workers', '.']",
         "num_words": 20,
         "_deepnote_index_column": 4950
        },
        {
         "sentences": "And like manufacturing, they also benefit from technological change and economies of scale and agglomeration.",
         "words": "['And', 'like', 'manufacturing', ',', 'they', 'also', 'benefit', 'from', 'technological', 'change', 'and', 'economies', 'of', 'scale', 'and', 'agglomeration', '.']",
         "num_words": 17,
         "_deepnote_index_column": 4951
        },
        {
         "sentences": "Moreover, Africa’s smokestack-less service sectors have the added advantage of being less vulnerable to automation.",
         "words": "['Moreover', ',', 'Africa', '’', 's', 'smokestack-less', 'service', 'sectors', 'have', 'the', 'added', 'advantage', 'of', 'being', 'less', 'vulnerable', 'to', 'automation', '.']",
         "num_words": 19,
         "_deepnote_index_column": 4952
        },
        {
         "sentences": "Notwithstanding automation’s many benefits, it presents challenges for countries where the overriding priority is to create a sufficient number of formal-sector jobs.",
         "words": "['Notwithstanding', 'automation', '’', 's', 'many', 'benefits', ',', 'it', 'presents', 'challenges', 'for', 'countries', 'where', 'the', 'overriding', 'priority', 'is', 'to', 'create', 'a', 'sufficient', 'number', 'of', 'formal-sector', 'jobs', '.']",
         "num_words": 26,
         "_deepnote_index_column": 4953
        },
        {
         "sentences": "While economists have been increasingly confident that Africa’s development model will be different from that of East Asia, they have been less certain about what shape it will take.",
         "words": "['While', 'economists', 'have', 'been', 'increasingly', 'confident', 'that', 'Africa', '’', 's', 'development', 'model', 'will', 'be', 'different', 'from', 'that', 'of', 'East', 'Asia', ',', 'they', 'have', 'been', 'less', 'certain', 'about', 'what', 'shape', 'it', 'will', 'take', '.']",
         "num_words": 33,
         "_deepnote_index_column": 4954
        },
        {
         "sentences": "An industries-without-smokestacks model offers one possible answer.",
         "words": "['An', 'industries-without-smokestacks', 'model', 'offers', 'one', 'possible', 'answer', '.']",
         "num_words": 8,
         "_deepnote_index_column": 4955
        },
        {
         "sentences": "From a policy perspective, African leaders should explore more ways to support these industries’ growth, either through targeted reforms or by incorporating them into national industrialization strategies and broader development agendas.",
         "words": "['From', 'a', 'policy', 'perspective', ',', 'African', 'leaders', 'should', 'explore', 'more', 'ways', 'to', 'support', 'these', 'industries', '’', 'growth', ',', 'either', 'through', 'targeted', 'reforms', 'or', 'by', 'incorporating', 'them', 'into', 'national', 'industrialization', 'strategies', 'and', 'broader', 'development', 'agendas', '.']",
         "num_words": 35,
         "_deepnote_index_column": 4956
        },
        {
         "sentences": "The development of industries without smokestacks can occur alongside efforts to develop those with smokestacks, thus offering a multifaceted approach for Africa to achieve structural transformation.",
         "words": "['The', 'development', 'of', 'industries', 'without', 'smokestacks', 'can', 'occur', 'alongside', 'efforts', 'to', 'develop', 'those', 'with', 'smokestacks', ',', 'thus', 'offering', 'a', 'multifaceted', 'approach', 'for', 'Africa', 'to', 'achieve', 'structural', 'transformation', '.']",
         "num_words": 28,
         "_deepnote_index_column": 4957
        },
        {
         "sentences": "Recognizing the High Value of Africa’s Migrants\nLOMÉ – As we mark International Migrants Day on December 18, it’s time to rethink how we value the informal skills and resources of many of Africa’s migrants.",
         "words": "['Recognizing', 'the', 'High', 'Value', 'of', 'Africa', '’', 's', 'Migrants', 'LOMÉ', '–', 'As', 'we', 'mark', 'International', 'Migrants', 'Day', 'on', 'December', '18', ',', 'it', '’', 's', 'time', 'to', 'rethink', 'how', 'we', 'value', 'the', 'informal', 'skills', 'and', 'resources', 'of', 'many', 'of', 'Africa', '’', 's', 'migrants', '.']",
         "num_words": 43,
         "_deepnote_index_column": 4958
        },
        {
         "sentences": "In particular, we need to recognize that migration can help boost long-term economic growth in Africa and the rest of the world.",
         "words": "['In', 'particular', ',', 'we', 'need', 'to', 'recognize', 'that', 'migration', 'can', 'help', 'boost', 'long-term', 'economic', 'growth', 'in', 'Africa', 'and', 'the', 'rest', 'of', 'the', 'world', '.']",
         "num_words": 24,
         "_deepnote_index_column": 4959
        },
        {
         "sentences": "Following its targeted killing of Iran's second most powerful leader, the US could well find itself with no alternative but to devote more military resources to the Middle East, a path that could lead to additional Iranian provocations.",
         "words": "['Following', 'its', 'targeted', 'killing', 'of', 'Iran', \"'s\", 'second', 'most', 'powerful', 'leader', ',', 'the', 'US', 'could', 'well', 'find', 'itself', 'with', 'no', 'alternative', 'but', 'to', 'devote', 'more', 'military', 'resources', 'to', 'the', 'Middle', 'East', ',', 'a', 'path', 'that', 'could', 'lead', 'to', 'additional', 'Iranian', 'provocations', '.']",
         "num_words": 42,
         "_deepnote_index_column": 4960
        },
        {
         "sentences": "And that shift would occur at a time of growing challenges to US interests elsewhere in the world.",
         "words": "['And', 'that', 'shift', 'would', 'occur', 'at', 'a', 'time', 'of', 'growing', 'challenges', 'to', 'US', 'interests', 'elsewhere', 'in', 'the', 'world', '.']",
         "num_words": 19,
         "_deepnote_index_column": 4961
        },
        {
         "sentences": "The targeted killing by the United States of one of Iran's top military leaders represents a significant symbolic defeat for the Iranian regime, but it does not augur all-out war.",
         "words": "['The', 'targeted', 'killing', 'by', 'the', 'United', 'States', 'of', 'one', 'of', 'Iran', \"'s\", 'top', 'military', 'leaders', 'represents', 'a', 'significant', 'symbolic', 'defeat', 'for', 'the', 'Iranian', 'regime', ',', 'but', 'it', 'does', 'not', 'augur', 'all-out', 'war', '.']",
         "num_words": 33,
         "_deepnote_index_column": 4962
        },
        {
         "sentences": "After all, Iran and the US have already been at war for decades, and neither side has an interest in an uncontrolled military escalation now.",
         "words": "['After', 'all', ',', 'Iran', 'and', 'the', 'US', 'have', 'already', 'been', 'at', 'war', 'for', 'decades', ',', 'and', 'neither', 'side', 'has', 'an', 'interest', 'in', 'an', 'uncontrolled', 'military', 'escalation', 'now', '.']",
         "num_words": 28,
         "_deepnote_index_column": 4963
        },
        {
         "sentences": "As in previous years, Project Syndicate asked its commentators to offer their best guesses about the events and trends that will define the coming 12 months.",
         "words": "['As', 'in', 'previous', 'years', ',', 'Project', 'Syndicate', 'asked', 'its', 'commentators', 'to', 'offer', 'their', 'best', 'guesses', 'about', 'the', 'events', 'and', 'trends', 'that', 'will', 'define', 'the', 'coming', '12', 'months', '.']",
         "num_words": 28,
         "_deepnote_index_column": 4964
        },
        {
         "sentences": "If there is one common theme in this year's selection, it is that what happens in 2020 will weigh on the present for many years to come.",
         "words": "['If', 'there', 'is', 'one', 'common', 'theme', 'in', 'this', 'year', \"'s\", 'selection', ',', 'it', 'is', 'that', 'what', 'happens', 'in', '2020', 'will', 'weigh', 'on', 'the', 'present', 'for', 'many', 'years', 'to', 'come', '.']",
         "num_words": 30,
         "_deepnote_index_column": 4965
        },
        {
         "sentences": "On one hand, African migration is less globally significant than many think.",
         "words": "['On', 'one', 'hand', ',', 'African', 'migration', 'is', 'less', 'globally', 'significant', 'than', 'many', 'think', '.']",
         "num_words": 14,
         "_deepnote_index_column": 4966
        },
        {
         "sentences": "According to a report produced by the Mo Ibrahim Foundation, just 14% of the world’s migrants in 2017 came from Africa, while 41% came from Asia and 24% from Europe.",
         "words": "['According', 'to', 'a', 'report', 'produced', 'by', 'the', 'Mo', 'Ibrahim', 'Foundation', ',', 'just', '14', '%', 'of', 'the', 'world', '’', 's', 'migrants', 'in', '2017', 'came', 'from', 'Africa', ',', 'while', '41', '%', 'came', 'from', 'Asia', 'and', '24', '%', 'from', 'Europe', '.']",
         "num_words": 38,
         "_deepnote_index_column": 4967
        },
        {
         "sentences": "The 36.3 million Africans who migrated that year represented less than 3% of the continent’s population (and almost 90% of African refugees remain within the continent.)",
         "words": "['The', '36.3', 'million', 'Africans', 'who', 'migrated', 'that', 'year', 'represented', 'less', 'than', '3', '%', 'of', 'the', 'continent', '’', 's', 'population', '(', 'and', 'almost', '90', '%', 'of', 'African', 'refugees', 'remain', 'within', 'the', 'continent', '.', ')']",
         "num_words": 33,
         "_deepnote_index_column": 4968
        },
        {
         "sentences": "On the other hand, those Africans who do exercise their human right to work where their skills are needed make a significant contribution to the continent’s large informal economy.",
         "words": "['On', 'the', 'other', 'hand', ',', 'those', 'Africans', 'who', 'do', 'exercise', 'their', 'human', 'right', 'to', 'work', 'where', 'their', 'skills', 'are', 'needed', 'make', 'a', 'significant', 'contribution', 'to', 'the', 'continent', '’', 's', 'large', 'informal', 'economy', '.']",
         "num_words": 33,
         "_deepnote_index_column": 4969
        },
        {
         "sentences": "African cities are full of creative traders negotiating prices, supplying jerseys for sports events, and selling drinks to thirsty drivers stuck in traffic jams.",
         "words": "['African', 'cities', 'are', 'full', 'of', 'creative', 'traders', 'negotiating', 'prices', ',', 'supplying', 'jerseys', 'for', 'sports', 'events', ',', 'and', 'selling', 'drinks', 'to', 'thirsty', 'drivers', 'stuck', 'in', 'traffic', 'jams', '.']",
         "num_words": 27,
         "_deepnote_index_column": 4970
        },
        {
         "sentences": "In fact, trading skills –especially those of women – should be at the center of the African migration narrative.",
         "words": "['In', 'fact', ',', 'trading', 'skills', '–especially', 'those', 'of', 'women', '–', 'should', 'be', 'at', 'the', 'center', 'of', 'the', 'African', 'migration', 'narrative', '.']",
         "num_words": 21,
         "_deepnote_index_column": 4971
        },
        {
         "sentences": "In Togo, for example, women previously dominated domestic and international trade in textiles, wax prints, and women’s clothing, running businesses that expanded to Burkina Faso, Mali, Niger, Chad, and other countries in the region.",
         "words": "['In', 'Togo', ',', 'for', 'example', ',', 'women', 'previously', 'dominated', 'domestic', 'and', 'international', 'trade', 'in', 'textiles', ',', 'wax', 'prints', ',', 'and', 'women', '’', 's', 'clothing', ',', 'running', 'businesses', 'that', 'expanded', 'to', 'Burkina', 'Faso', ',', 'Mali', ',', 'Niger', ',', 'Chad', ',', 'and', 'other', 'countries', 'in', 'the', 'region', '.']",
         "num_words": 46,
         "_deepnote_index_column": 4972
        },
        {
         "sentences": "From 1976 to 1984, these “Nana Benz” women – so called because their wealth enabled them to own Mercedes-Benz cars – controlled at least 40% of informal-sector business in Togo.",
         "words": "['From', '1976', 'to', '1984', ',', 'these', '“', 'Nana', 'Benz', '”', 'women', '–', 'so', 'called', 'because', 'their', 'wealth', 'enabled', 'them', 'to', 'own', 'Mercedes-Benz', 'cars', '–', 'controlled', 'at', 'least', '40', '%', 'of', 'informal-sector', 'business', 'in', 'Togo', '.']",
         "num_words": 35,
         "_deepnote_index_column": 4973
        },
        {
         "sentences": "While they are no longer quite so dominant, a third generation of women is keeping their entrepreneurial model alive.",
         "words": "['While', 'they', 'are', 'no', 'longer', 'quite', 'so', 'dominant', ',', 'a', 'third', 'generation', 'of', 'women', 'is', 'keeping', 'their', 'entrepreneurial', 'model', 'alive', '.']",
         "num_words": 21,
         "_deepnote_index_column": 4974
        },
        {
         "sentences": "The Nana Benz demonstrated that informal economies could create pathways to success for their children and communities.",
         "words": "['The', 'Nana', 'Benz', 'demonstrated', 'that', 'informal', 'economies', 'could', 'create', 'pathways', 'to', 'success', 'for', 'their', 'children', 'and', 'communities', '.']",
         "num_words": 18,
         "_deepnote_index_column": 4975
        },
        {
         "sentences": "They not only built mansions in Togo and owned properties around the world, but also invested in their children’s education at home and abroad.",
         "words": "['They', 'not', 'only', 'built', 'mansions', 'in', 'Togo', 'and', 'owned', 'properties', 'around', 'the', 'world', ',', 'but', 'also', 'invested', 'in', 'their', 'children', '’', 's', 'education', 'at', 'home', 'and', 'abroad', '.']",
         "num_words": 28,
         "_deepnote_index_column": 4976
        },
        {
         "sentences": "And they commanded respect despite their own lack of formal education.",
         "words": "['And', 'they', 'commanded', 'respect', 'despite', 'their', 'own', 'lack', 'of', 'formal', 'education', '.']",
         "num_words": 12,
         "_deepnote_index_column": 4977
        },
        {
         "sentences": "European business partners offered them favorable terms to expand their businesses.",
         "words": "['European', 'business', 'partners', 'offered', 'them', 'favorable', 'terms', 'to', 'expand', 'their', 'businesses', '.']",
         "num_words": 12,
         "_deepnote_index_column": 4978
        },
        {
         "sentences": "Today, the informal economy accounts for more than 70% of total employment in Sub-Saharan Africa.",
         "words": "['Today', ',', 'the', 'informal', 'economy', 'accounts', 'for', 'more', 'than', '70', '%', 'of', 'total', 'employment', 'in', 'Sub-Saharan', 'Africa', '.']",
         "num_words": 18,
         "_deepnote_index_column": 4979
        },
        {
         "sentences": "At the same time, however, almost 16 million young Africans are unemployed, in many cases because potential employers undervalue the informal skills that these job seekers learned outside school.",
         "words": "['At', 'the', 'same', 'time', ',', 'however', ',', 'almost', '16', 'million', 'young', 'Africans', 'are', 'unemployed', ',', 'in', 'many', 'cases', 'because', 'potential', 'employers', 'undervalue', 'the', 'informal', 'skills', 'that', 'these', 'job', 'seekers', 'learned', 'outside', 'school', '.']",
         "num_words": 33,
         "_deepnote_index_column": 4980
        },
        {
         "sentences": "So, although we need to create more formal-sector jobs on the continent, we also must recognize the value and skills embedded in the rest of the economy – including through the contribution of internal and cross-border migrants.",
         "words": "['So', ',', 'although', 'we', 'need', 'to', 'create', 'more', 'formal-sector', 'jobs', 'on', 'the', 'continent', ',', 'we', 'also', 'must', 'recognize', 'the', 'value', 'and', 'skills', 'embedded', 'in', 'the', 'rest', 'of', 'the', 'economy', '–', 'including', 'through', 'the', 'contribution', 'of', 'internal', 'and', 'cross-border', 'migrants', '.']",
         "num_words": 40,
         "_deepnote_index_column": 4981
        },
        {
         "sentences": "Of course, informal employment is not just an African phenomenon.",
         "words": "['Of', 'course', ',', 'informal', 'employment', 'is', 'not', 'just', 'an', 'African', 'phenomenon', '.']",
         "num_words": 12,
         "_deepnote_index_column": 4982
        },
        {
         "sentences": "According to the International Labor Organization, two billion people worldwide work in the informal economy, including 1.3 billion in the Asia-Pacific region.",
         "words": "['According', 'to', 'the', 'International', 'Labor', 'Organization', ',', 'two', 'billion', 'people', 'worldwide', 'work', 'in', 'the', 'informal', 'economy', ',', 'including', '1.3', 'billion', 'in', 'the', 'Asia-Pacific', 'region', '.']",
         "num_words": 25,
         "_deepnote_index_column": 4983
        },
        {
         "sentences": "And even in Europe and Central Asia, where the share of formal employment is highest, 25% of the employed population work informally.",
         "words": "['And', 'even', 'in', 'Europe', 'and', 'Central', 'Asia', ',', 'where', 'the', 'share', 'of', 'formal', 'employment', 'is', 'highest', ',', '25', '%', 'of', 'the', 'employed', 'population', 'work', 'informally', '.']",
         "num_words": 26,
         "_deepnote_index_column": 4984
        },
        {
         "sentences": "It is a global coping mechanism through which creative minds address market opportunities.",
         "words": "['It', 'is', 'a', 'global', 'coping', 'mechanism', 'through', 'which', 'creative', 'minds', 'address', 'market', 'opportunities', '.']",
         "num_words": 14,
         "_deepnote_index_column": 4985
        },
        {
         "sentences": "To continue Africa’s social and economic transformation, we must recognize the informal economy as a key lever of development and a facilitator of trade-based migration.",
         "words": "['To', 'continue', 'Africa', '’', 's', 'social', 'and', 'economic', 'transformation', ',', 'we', 'must', 'recognize', 'the', 'informal', 'economy', 'as', 'a', 'key', 'lever', 'of', 'development', 'and', 'a', 'facilitator', 'of', 'trade-based', 'migration', '.']",
         "num_words": 29,
         "_deepnote_index_column": 4986
        },
        {
         "sentences": "African investors could help this process by providing digitally connected migrants with tailor-made safety mechanisms such as insurance and other financial products.",
         "words": "['African', 'investors', 'could', 'help', 'this', 'process', 'by', 'providing', 'digitally', 'connected', 'migrants', 'with', 'tailor-made', 'safety', 'mechanisms', 'such', 'as', 'insurance', 'and', 'other', 'financial', 'products', '.']",
         "num_words": 23,
         "_deepnote_index_column": 4987
        },
        {
         "sentences": "The informal economy sometimes is associated with poverty, disease, and low levels of education.",
         "words": "['The', 'informal', 'economy', 'sometimes', 'is', 'associated', 'with', 'poverty', ',', 'disease', ',', 'and', 'low', 'levels', 'of', 'education', '.']",
         "num_words": 17,
         "_deepnote_index_column": 4988
        },
        {
         "sentences": "But most African migrants are young, educated women and men who can help economies in Europe, Asia, and North America address the challenges posed by aging populations.",
         "words": "['But', 'most', 'African', 'migrants', 'are', 'young', ',', 'educated', 'women', 'and', 'men', 'who', 'can', 'help', 'economies', 'in', 'Europe', ',', 'Asia', ',', 'and', 'North', 'America', 'address', 'the', 'challenges', 'posed', 'by', 'aging', 'populations', '.']",
         "num_words": 31,
         "_deepnote_index_column": 4989
        },
        {
         "sentences": "Between now and 2100, Africa’s young population (aged 15-34) is expected to grow by 181%, while Europe’s will shrink by 21% and Asia’s by almost 28%.",
         "words": "['Between', 'now', 'and', '2100', ',', 'Africa', '’', 's', 'young', 'population', '(', 'aged', '15-34', ')', 'is', 'expected', 'to', 'grow', 'by', '181', '%', ',', 'while', 'Europe', '’', 's', 'will', 'shrink', 'by', '21', '%', 'and', 'Asia', '’', 's', 'by', 'almost', '28', '%', '.']",
         "num_words": 40,
         "_deepnote_index_column": 4990
        },
        {
         "sentences": "But if politicians in destination countries fail to make a positive case for migration, the world will miss out on this opportunity.",
         "words": "['But', 'if', 'politicians', 'in', 'destination', 'countries', 'fail', 'to', 'make', 'a', 'positive', 'case', 'for', 'migration', ',', 'the', 'world', 'will', 'miss', 'out', 'on', 'this', 'opportunity', '.']",
         "num_words": 24,
         "_deepnote_index_column": 4991
        },
        {
         "sentences": "At the same time, Africa must invest in education, like the Nana Benz did, to ensure that its young people are better educated, healthier, and more connected than previous generations.",
         "words": "['At', 'the', 'same', 'time', ',', 'Africa', 'must', 'invest', 'in', 'education', ',', 'like', 'the', 'Nana', 'Benz', 'did', ',', 'to', 'ensure', 'that', 'its', 'young', 'people', 'are', 'better', 'educated', ',', 'healthier', ',', 'and', 'more', 'connected', 'than', 'previous', 'generations', '.']",
         "num_words": 36,
         "_deepnote_index_column": 4992
        },
        {
         "sentences": "Without broader access to quality education, intergenerational transfers of wealth within Africa will damage the future prospects of the 16 million young people looking for work.",
         "words": "['Without', 'broader', 'access', 'to', 'quality', 'education', ',', 'intergenerational', 'transfers', 'of', 'wealth', 'within', 'Africa', 'will', 'damage', 'the', 'future', 'prospects', 'of', 'the', '16', 'million', 'young', 'people', 'looking', 'for', 'work', '.']",
         "num_words": 28,
         "_deepnote_index_column": 4993
        },
        {
         "sentences": "There is thus a case for legal migration, which would help to generate additional tax revenues for host-country governments and enable migrants to send remittances back to their home countries.",
         "words": "['There', 'is', 'thus', 'a', 'case', 'for', 'legal', 'migration', ',', 'which', 'would', 'help', 'to', 'generate', 'additional', 'tax', 'revenues', 'for', 'host-country', 'governments', 'and', 'enable', 'migrants', 'to', 'send', 'remittances', 'back', 'to', 'their', 'home', 'countries', '.']",
         "num_words": 32,
         "_deepnote_index_column": 4994
        },
        {
         "sentences": "On average, African migrants spend or invest about 85% of their income in their destination country, and remit the remaining 15%.",
         "words": "['On', 'average', ',', 'African', 'migrants', 'spend', 'or', 'invest', 'about', '85', '%', 'of', 'their', 'income', 'in', 'their', 'destination', 'country', ',', 'and', 'remit', 'the', 'remaining', '15', '%', '.']",
         "num_words": 26,
         "_deepnote_index_column": 4995
        },
        {
         "sentences": "These remittances, which represented 3.5% of Africa’s $2.3 trillion GDP in 2018, should be pooled to accelerate the continent’s economic transformation.",
         "words": "['These', 'remittances', ',', 'which', 'represented', '3.5', '%', 'of', 'Africa', '’', 's', '$', '2.3', 'trillion', 'GDP', 'in', '2018', ',', 'should', 'be', 'pooled', 'to', 'accelerate', 'the', 'continent', '’', 's', 'economic', 'transformation', '.']",
         "num_words": 30,
         "_deepnote_index_column": 4996
        },
        {
         "sentences": "In the longer term, the facilitation of free movement envisaged under the African Union’s Agenda 2063 will determine the extent to which informal-sector skills transform the continent’s economies.",
         "words": "['In', 'the', 'longer', 'term', ',', 'the', 'facilitation', 'of', 'free', 'movement', 'envisaged', 'under', 'the', 'African', 'Union', '’', 's', 'Agenda', '2063', 'will', 'determine', 'the', 'extent', 'to', 'which', 'informal-sector', 'skills', 'transform', 'the', 'continent', '’', 's', 'economies', '.']",
         "num_words": 34,
         "_deepnote_index_column": 4997
        },
        {
         "sentences": "And although market conditions have changed over the last few decades, the Nana Benz women of Togo already have shown us the way.",
         "words": "['And', 'although', 'market', 'conditions', 'have', 'changed', 'over', 'the', 'last', 'few', 'decades', ',', 'the', 'Nana', 'Benz', 'women', 'of', 'Togo', 'already', 'have', 'shown', 'us', 'the', 'way', '.']",
         "num_words": 25,
         "_deepnote_index_column": 4998
        },
        {
         "sentences": "In Africa and elsewhere, development processes are stronger when they are built on existing networks and mechanisms.",
         "words": "['In', 'Africa', 'and', 'elsewhere', ',', 'development', 'processes', 'are', 'stronger', 'when', 'they', 'are', 'built', 'on', 'existing', 'networks', 'and', 'mechanisms', '.']",
         "num_words": 19,
         "_deepnote_index_column": 4999
        }
       ]
      },
      "text/plain": "                                              sentences  \\\n0     They have lived through countless trials, endu...   \n1     But empires have crumbled; tyrants have passed...   \n2     All the while, the Kurds have held fast, resis...   \n3     And today, they are approaching a milestone: a...   \n4     The Kurdish nation was forged over centuries o...   \n...                                                 ...   \n4995  On average, African migrants spend or invest a...   \n4996  These remittances, which represented 3.5% of A...   \n4997  In the longer term, the facilitation of free m...   \n4998  And although market conditions have changed ov...   \n4999  In Africa and elsewhere, development processes...   \n\n                                                  words  num_words  \n0     [They, have, lived, through, countless, trials...         19  \n1     [But, empires, have, crumbled, ;, tyrants, hav...         21  \n2     [All, the, while, ,, the, Kurds, have, held, f...         19  \n3     [And, today, ,, they, are, approaching, a, mil...         37  \n4     [The, Kurdish, nation, was, forged, over, cent...         12  \n...                                                 ...        ...  \n4995  [On, average, ,, African, migrants, spend, or,...         26  \n4996  [These, remittances, ,, which, represented, 3....         30  \n4997  [In, the, longer, term, ,, the, facilitation, ...         34  \n4998  [And, although, market, conditions, have, chan...         25  \n4999  [In, Africa, and, elsewhere, ,, development, p...         19  \n\n[5000 rows x 3 columns]",
      "text/html": "<div>\n<style scoped>\n    .dataframe tbody tr th:only-of-type {\n        vertical-align: middle;\n    }\n\n    .dataframe tbody tr th {\n        vertical-align: top;\n    }\n\n    .dataframe thead th {\n        text-align: right;\n    }\n</style>\n<table border=\"1\" class=\"dataframe\">\n  <thead>\n    <tr style=\"text-align: right;\">\n      <th></th>\n      <th>sentences</th>\n      <th>words</th>\n      <th>num_words</th>\n    </tr>\n  </thead>\n  <tbody>\n    <tr>\n      <th>0</th>\n      <td>They have lived through countless trials, endu...</td>\n      <td>[They, have, lived, through, countless, trials...</td>\n      <td>19</td>\n    </tr>\n    <tr>\n      <th>1</th>\n      <td>But empires have crumbled; tyrants have passed...</td>\n      <td>[But, empires, have, crumbled, ;, tyrants, hav...</td>\n      <td>21</td>\n    </tr>\n    <tr>\n      <th>2</th>\n      <td>All the while, the Kurds have held fast, resis...</td>\n      <td>[All, the, while, ,, the, Kurds, have, held, f...</td>\n      <td>19</td>\n    </tr>\n    <tr>\n      <th>3</th>\n      <td>And today, they are approaching a milestone: a...</td>\n      <td>[And, today, ,, they, are, approaching, a, mil...</td>\n      <td>37</td>\n    </tr>\n    <tr>\n      <th>4</th>\n      <td>The Kurdish nation was forged over centuries o...</td>\n      <td>[The, Kurdish, nation, was, forged, over, cent...</td>\n      <td>12</td>\n    </tr>\n    <tr>\n      <th>...</th>\n      <td>...</td>\n      <td>...</td>\n      <td>...</td>\n    </tr>\n    <tr>\n      <th>4995</th>\n      <td>On average, African migrants spend or invest a...</td>\n      <td>[On, average, ,, African, migrants, spend, or,...</td>\n      <td>26</td>\n    </tr>\n    <tr>\n      <th>4996</th>\n      <td>These remittances, which represented 3.5% of A...</td>\n      <td>[These, remittances, ,, which, represented, 3....</td>\n      <td>30</td>\n    </tr>\n    <tr>\n      <th>4997</th>\n      <td>In the longer term, the facilitation of free m...</td>\n      <td>[In, the, longer, term, ,, the, facilitation, ...</td>\n      <td>34</td>\n    </tr>\n    <tr>\n      <th>4998</th>\n      <td>And although market conditions have changed ov...</td>\n      <td>[And, although, market, conditions, have, chan...</td>\n      <td>25</td>\n    </tr>\n    <tr>\n      <th>4999</th>\n      <td>In Africa and elsewhere, development processes...</td>\n      <td>[In, Africa, and, elsewhere, ,, development, p...</td>\n      <td>19</td>\n    </tr>\n  </tbody>\n</table>\n<p>5000 rows × 3 columns</p>\n</div>"
     },
     "metadata": {}
    }
   ]
  },
  {
   "cell_type": "markdown",
   "source": "3. Follow the instructions at\nhttp://www.nltk.org/api/nltk.lm.html#module-nltk.lm\nto train maximum-likelihood language models of varying orders (e.g., n=2..6) for\neach of your corpora. Make a note of the size of the n-gram lists for each\nn-gram order. You might also plot them. <br>\n\nIMPORTANT: We will want to compare perplexities across different corpora. This\nonly produces meaningful results if all the models use exactly the same\nvocabulary. To ensure that, create a vocabulary from the largest of your\ndatasets and use it for ALL the corpora. <br>",
   "metadata": {
    "tags": [],
    "cell_id": "00007-ebde3f31-95ab-47a5-8377-a134a941fcd1",
    "deepnote_cell_type": "markdown"
   }
  },
  {
   "cell_type": "code",
   "metadata": {
    "tags": [],
    "cell_id": "00035-d74ece57-1004-4af9-b38a-8bb11dd4641d",
    "deepnote_to_be_reexecuted": false,
    "source_hash": "4bda9fb5",
    "execution_start": 1620996596917,
    "execution_millis": 13,
    "deepnote_cell_type": "code"
   },
   "source": "",
   "execution_count": null,
   "outputs": [
    {
     "output_type": "execute_result",
     "execution_count": 22,
     "data": {
      "text/plain": "0    They have lived through countless trials, endu...\n1    But empires have crumbled; tyrants have passed...\n2    All the while, the Kurds have held fast, resis...\n3    And today, they are approaching a milestone: a...\n4    The Kurdish nation was forged over centuries o...\n5    It was strengthened in the course of the war a...\n6    I know not one Peshmerga fighter who, while wa...\n7    Mosul will be liberated; the Islamic State (IS...\n8    Even the Kurds’ closest allies worry that reco...\n9    I believe that the contrary is true: the Kurds...\nName: sentences, dtype: object"
     },
     "metadata": {}
    }
   ]
  },
  {
   "cell_type": "code",
   "metadata": {
    "tags": [],
    "cell_id": "00013-3e5f75ba-250f-4d6d-b1c2-7416d40554b6",
    "deepnote_to_be_reexecuted": false,
    "source_hash": "18369b56",
    "execution_start": 1620996789746,
    "execution_millis": 17,
    "deepnote_cell_type": "code"
   },
   "source": "vocabulary = list()\nfrom nltk.lm.preprocessing import pad_both_ends\nfrom nltk.util import bigrams, everygrams\n\n\nfor i in pd_news5k[\"words\"][0:10]:\n    #print(list(pad_both_ends(i, n=2)))\n    print(list(everygrams(pad_both_ends(i, n=2), max_len=2)))\n\n",
   "execution_count": null,
   "outputs": [
    {
     "name": "stdout",
     "text": "[('<s>',), ('<s>', 'They'), ('They',), ('They', 'have'), ('have',), ('have', 'lived'), ('lived',), ('lived', 'through'), ('through',), ('through', 'countless'), ('countless',), ('countless', 'trials'), ('trials',), ('trials', ','), (',',), (',', 'endured'), ('endured',), ('endured', 'innumerable'), ('innumerable',), ('innumerable', 'twists'), ('twists',), ('twists', 'of'), ('of',), ('of', 'fate'), ('fate',), ('fate', ','), (',',), (',', 'suffered'), ('suffered',), ('suffered', 'domination'), ('domination',), ('domination', 'again'), ('again',), ('again', 'and'), ('and',), ('and', 'again'), ('again',), ('again', '.'), ('.',), ('.', '</s>'), ('</s>',)]\n[('<s>',), ('<s>', 'But'), ('But',), ('But', 'empires'), ('empires',), ('empires', 'have'), ('have',), ('have', 'crumbled'), ('crumbled',), ('crumbled', ';'), (';',), (';', 'tyrants'), ('tyrants',), ('tyrants', 'have'), ('have',), ('have', 'passed'), ('passed',), ('passed', 'away'), ('away',), ('away', ';'), (';',), (';', 'and'), ('and',), ('and', 'their'), ('their',), ('their', 'executioners'), ('executioners',), ('executioners', 'have'), ('have',), ('have', 'fallen'), ('fallen',), ('fallen', 'into'), ('into',), ('into', 'the'), ('the',), ('the', 'dustbins'), ('dustbins',), ('dustbins', 'of'), ('of',), ('of', 'history'), ('history',), ('history', '.'), ('.',), ('.', '</s>'), ('</s>',)]\n[('<s>',), ('<s>', 'All'), ('All',), ('All', 'the'), ('the',), ('the', 'while'), ('while',), ('while', ','), (',',), (',', 'the'), ('the',), ('the', 'Kurds'), ('Kurds',), ('Kurds', 'have'), ('have',), ('have', 'held'), ('held',), ('held', 'fast'), ('fast',), ('fast', ','), (',',), (',', 'resisting'), ('resisting',), ('resisting', 'the'), ('the',), ('the', 'forces'), ('forces',), ('forces', 'that'), ('that',), ('that', 'wanted'), ('wanted',), ('wanted', 'them'), ('them',), ('them', 'to'), ('to',), ('to', 'disappear'), ('disappear',), ('disappear', '.'), ('.',), ('.', '</s>'), ('</s>',)]\n[('<s>',), ('<s>', 'And'), ('And',), ('And', 'today'), ('today',), ('today', ','), (',',), (',', 'they'), ('they',), ('they', 'are'), ('are',), ('are', 'approaching'), ('approaching',), ('approaching', 'a'), ('a',), ('a', 'milestone'), ('milestone',), ('milestone', ':'), (':',), (':', 'a'), ('a',), ('a', 'declaration'), ('declaration',), ('declaration', 'of'), ('of',), ('of', 'self-determination'), ('self-determination',), ('self-determination', 'in'), ('in',), ('in', 'the'), ('the',), ('the', 'form'), ('form',), ('form', 'of'), ('of',), ('of', 'a'), ('a',), ('a', 'free'), ('free',), ('free', 'state'), ('state',), ('state', 'in'), ('in',), ('in', 'which'), ('which',), ('which', 'all'), ('all',), ('all', 'citizens'), ('citizens',), ('citizens', 'will'), ('will',), ('will', 'be'), ('be',), ('be', 'able'), ('able',), ('able', 'to'), ('to',), ('to', 'live'), ('live',), ('live', 'in'), ('in',), ('in', 'liberty'), ('liberty',), ('liberty', ','), (',',), (',', 'their'), ('their',), ('their', 'heads'), ('heads',), ('heads', 'held'), ('held',), ('held', 'high'), ('high',), ('high', '.'), ('.',), ('.', '</s>'), ('</s>',)]\n[('<s>',), ('<s>', 'The'), ('The',), ('The', 'Kurdish'), ('Kurdish',), ('Kurdish', 'nation'), ('nation',), ('nation', 'was'), ('was',), ('was', 'forged'), ('forged',), ('forged', 'over'), ('over',), ('over', 'centuries'), ('centuries',), ('centuries', 'of'), ('of',), ('of', 'pain'), ('pain',), ('pain', 'and'), ('and',), ('and', 'pride'), ('pride',), ('pride', '.'), ('.',), ('.', '</s>'), ('</s>',)]\n[('<s>',), ('<s>', 'It'), ('It',), ('It', 'was'), ('was',), ('was', 'strengthened'), ('strengthened',), ('strengthened', 'in'), ('in',), ('in', 'the'), ('the',), ('the', 'course'), ('course',), ('course', 'of'), ('of',), ('of', 'the'), ('the',), ('the', 'war'), ('war',), ('war', 'against'), ('against',), ('against', 'Islamist'), ('Islamist',), ('Islamist', 'terrorism'), ('terrorism',), ('terrorism', ','), (',',), (',', 'in'), ('in',), ('in', 'which'), ('which',), ('which', 'the'), ('the',), ('the', 'Kurds'), ('Kurds',), ('Kurds', 'have'), ('have',), ('have', 'been'), ('been',), ('been', 'the'), ('the',), ('the', 'civilized'), ('civilized',), ('civilized', 'world'), ('world',), ('world', '’'), ('’',), ('’', 's'), ('s',), ('s', 'staunchest'), ('staunchest',), ('staunchest', '–'), ('–',), ('–', 'and'), ('and',), ('and', 'sometimes'), ('sometimes',), ('sometimes', 'solitary'), ('solitary',), ('solitary', '–'), ('–',), ('–', 'spearhead'), ('spearhead',), ('spearhead', '.'), ('.',), ('.', '</s>'), ('</s>',)]\n[('<s>',), ('<s>', 'I'), ('I',), ('I', 'know'), ('know',), ('know', 'not'), ('not',), ('not', 'one'), ('one',), ('one', 'Peshmerga'), ('Peshmerga',), ('Peshmerga', 'fighter'), ('fighter',), ('fighter', 'who'), ('who',), ('who', ','), (',',), (',', 'while'), ('while',), ('while', 'waging'), ('waging',), ('waging', 'our'), ('our',), ('our', 'common'), ('common',), ('common', 'battle'), ('battle',), ('battle', ','), (',',), (',', 'did'), ('did',), ('did', 'not'), ('not',), ('not', 'have'), ('have',), ('have', 'in'), ('in',), ('in', 'mind'), ('mind',), ('mind', 'the'), ('the',), ('the', 'achievement'), ('achievement',), ('achievement', 'of'), ('of',), ('of', 'that'), ('that',), ('that', 'ancestral'), ('ancestral',), ('ancestral', 'dream'), ('dream',), ('dream', 'of'), ('of',), ('of', 'Kurdish'), ('Kurdish',), ('Kurdish', 'independence'), ('independence',), ('independence', '.'), ('.',), ('.', '</s>'), ('</s>',)]\n[('<s>',), ('<s>', 'Mosul'), ('Mosul',), ('Mosul', 'will'), ('will',), ('will', 'be'), ('be',), ('be', 'liberated'), ('liberated',), ('liberated', ';'), (';',), (';', 'the'), ('the',), ('the', 'Islamic'), ('Islamic',), ('Islamic', 'State'), ('State',), ('State', '('), ('(',), ('(', 'ISIS'), ('ISIS',), ('ISIS', ')'), (')',), (')', 'will'), ('will',), ('will', 'be'), ('be',), ('be', 'defeated'), ('defeated',), ('defeated', ';'), (';',), (';', 'and'), ('and',), ('and', ','), (',',), (',', 'when'), ('when',), ('when', 'the'), ('the',), ('the', 'moment'), ('moment',), ('moment', 'comes'), ('comes',), ('comes', 'for'), ('for',), ('for', 'the'), ('the',), ('the', 'referendum'), ('referendum',), ('referendum', 'that'), ('that',), ('that', 'Massoud'), ('Massoud',), ('Massoud', 'Barzani'), ('Barzani',), ('Barzani', ','), (',',), (',', 'President'), ('President',), ('President', 'of'), ('of',), ('of', 'Iraq'), ('Iraq',), ('Iraq', '’'), ('’',), ('’', 's'), ('s',), ('s', 'Kurdistan'), ('Kurdistan',), ('Kurdistan', 'Regional'), ('Regional',), ('Regional', 'Government'), ('Government',), ('Government', ','), (',',), (',', 'has'), ('has',), ('has', 'described'), ('described',), ('described', 'as'), ('as',), ('as', 'the'), ('the',), ('the', 'inalienable'), ('inalienable',), ('inalienable', 'right'), ('right',), ('right', 'of'), ('of',), ('of', 'the'), ('the',), ('the', 'Kurds'), ('Kurds',), ('Kurds', ','), (',',), (',', 'the'), ('the',), ('the', 'will'), ('will',), ('will', 'of'), ('of',), ('of', 'each'), ('each',), ('each', 'citizen'), ('citizen',), ('citizen', 'will'), ('will',), ('will', 'be'), ('be',), ('be', 'shared'), ('shared',), ('shared', 'by'), ('by',), ('by', 'all'), ('all',), ('all', '.'), ('.',), ('.', '</s>'), ('</s>',)]\n[('<s>',), ('<s>', 'Even'), ('Even',), ('Even', 'the'), ('the',), ('the', 'Kurds'), ('Kurds',), ('Kurds', '’'), ('’',), ('’', 'closest'), ('closest',), ('closest', 'allies'), ('allies',), ('allies', 'worry'), ('worry',), ('worry', 'that'), ('that',), ('that', 'recognition'), ('recognition',), ('recognition', 'of'), ('of',), ('of', 'a'), ('a',), ('a', 'Kurdish'), ('Kurdish',), ('Kurdish', 'state'), ('state',), ('state', 'might'), ('might',), ('might', 'upset'), ('upset',), ('upset', 'the'), ('the',), ('the', 'regional'), ('regional',), ('regional', 'balance'), ('balance',), ('balance', 'and'), ('and',), ('and', 'pose'), ('pose',), ('pose', 'a'), ('a',), ('a', 'threat'), ('threat',), ('threat', 'to'), ('to',), ('to', 'peace'), ('peace',), ('peace', '.'), ('.',), ('.', '</s>'), ('</s>',)]\n[('<s>',), ('<s>', 'I'), ('I',), ('I', 'believe'), ('believe',), ('believe', 'that'), ('that',), ('that', 'the'), ('the',), ('the', 'contrary'), ('contrary',), ('contrary', 'is'), ('is',), ('is', 'true'), ('true',), ('true', ':'), (':',), (':', 'the'), ('the',), ('the', 'Kurds'), ('Kurds',), ('Kurds', 'will'), ('will',), ('will', 'be'), ('be',), ('be', 'a'), ('a',), ('a', 'pole'), ('pole',), ('pole', 'of'), ('of',), ('of', 'stability'), ('stability',), ('stability', 'in'), ('in',), ('in', 'a'), ('a',), ('a', 'region'), ('region',), ('region', 'increasingly'), ('increasingly',), ('increasingly', 'susceptible'), ('susceptible',), ('susceptible', 'to'), ('to',), ('to', 'fanaticism'), ('fanaticism',), ('fanaticism', 'and'), ('and',), ('and', 'terror'), ('terror',), ('terror', '.'), ('.',), ('.', '</s>'), ('</s>',)]\n",
     "output_type": "stream"
    }
   ]
  },
  {
   "cell_type": "code",
   "metadata": {
    "tags": [],
    "cell_id": "00037-b05fa604-3317-44fe-a0c8-e46511032301",
    "deepnote_to_be_reexecuted": false,
    "source_hash": "84513a66",
    "execution_start": 1620997438507,
    "execution_millis": 4,
    "deepnote_cell_type": "code"
   },
   "source": "from nltk.lm.preprocessing import padded_everygram_pipeline\n\ntrain, vocab = padded_everygram_pipeline(2, pd_news5k['words'])",
   "execution_count": null,
   "outputs": []
  },
  {
   "cell_type": "code",
   "metadata": {
    "tags": [],
    "cell_id": "00037-2f51c30f-58cf-4045-8bf8-f576b7a85d7c",
    "deepnote_to_be_reexecuted": false,
    "source_hash": "e7821fe1",
    "execution_start": 1620997678708,
    "execution_millis": 1,
    "deepnote_cell_type": "code"
   },
   "source": "# train \nfrom nltk.lm import MLE\n\nlm = MLE(2)",
   "execution_count": null,
   "outputs": []
  },
  {
   "cell_type": "code",
   "metadata": {
    "tags": [],
    "cell_id": "00039-d57a807a-f6c8-4936-ad8c-176658ad6452",
    "deepnote_to_be_reexecuted": false,
    "source_hash": "2e08a9db",
    "execution_start": 1620997839517,
    "execution_millis": 3385,
    "deepnote_cell_type": "code"
   },
   "source": "lm.fit(train,vocab)",
   "execution_count": null,
   "outputs": []
  },
  {
   "cell_type": "code",
   "metadata": {
    "tags": [],
    "cell_id": "00040-2276f785-adfc-49fd-9939-819a51ecae25",
    "deepnote_to_be_reexecuted": false,
    "source_hash": "97a7219d",
    "execution_start": 1620997994158,
    "execution_millis": 9,
    "deepnote_cell_type": "code"
   },
   "source": "len(lm.vocab)\nlm.score(\"a\")",
   "execution_count": null,
   "outputs": [
    {
     "output_type": "execute_result",
     "execution_count": 37,
     "data": {
      "text/plain": "0.014679303818184405"
     },
     "metadata": {}
    }
   ]
  },
  {
   "cell_type": "markdown",
   "source": "4. Use the lm.generate function to generate some example text from each of your\nmodels and compare. <br>",
   "metadata": {
    "tags": [],
    "cell_id": "00013-deddbf58-562b-4c2d-90b4-a62779c10979",
    "deepnote_cell_type": "markdown"
   }
  },
  {
   "cell_type": "code",
   "metadata": {
    "tags": [],
    "cell_id": "00015-a0a9f302-e60d-42f5-bb36-030dbbb950be",
    "deepnote_to_be_reexecuted": false,
    "source_hash": "60beb11f",
    "execution_start": 1620998131760,
    "execution_millis": 225,
    "deepnote_cell_type": "code"
   },
   "source": "lm.generate(10)",
   "execution_count": null,
   "outputs": [
    {
     "output_type": "execute_result",
     "execution_count": 43,
     "data": {
      "text/plain": "['and',\n 'ten-month',\n 'recovery',\n 'fails',\n 'to',\n 'negotiate',\n ',',\n 'the',\n 'Cold',\n 'War']"
     },
     "metadata": {}
    }
   ]
  },
  {
   "cell_type": "code",
   "metadata": {
    "tags": [],
    "cell_id": "00043-cf47db58-e758-470d-b75c-df4120061c09",
    "deepnote_to_be_reexecuted": false,
    "source_hash": "2d4270e5",
    "execution_start": 1620998602308,
    "execution_millis": 2219,
    "deepnote_cell_type": "code"
   },
   "source": "tknzr = TweetTokenizer()\ntokenized_hate = [tknzr.tokenize(i) for i in hate_train_tokenize]",
   "execution_count": null,
   "outputs": [
    {
     "output_type": "execute_result",
     "execution_count": 55,
     "data": {
      "text/plain": "[['@user',\n  'nice',\n  'new',\n  'signage',\n  '.',\n  'Are',\n  'you',\n  'not',\n  'concerned',\n  'by',\n  'Beatlemania',\n  '-',\n  'style',\n  'hysterical',\n  'crowds',\n  'crongregating',\n  'on',\n  'you',\n  '…'],\n ['A',\n  'woman',\n  'who',\n  'you',\n  'fucked',\n  'multiple',\n  'times',\n  'saying',\n  'yo',\n  'dick',\n  'small',\n  'is',\n  'a',\n  'compliment',\n  'you',\n  'know',\n  'u',\n  'hit',\n  'that',\n  'spot',\n  '😎'],\n ['@user',\n  '@user',\n  'real',\n  'talk',\n  'do',\n  'you',\n  'have',\n  'eyes',\n  'or',\n  'were',\n  'they',\n  'gouged',\n  'out',\n  'by',\n  'a',\n  'rapefugee',\n  '?'],\n ['your',\n  'girlfriend',\n  'lookin',\n  'at',\n  'me',\n  'like',\n  'a',\n  'groupie',\n  'in',\n  'this',\n  'bitch',\n  '!'],\n ['Hysterical', 'woman', 'like', '@user'],\n ['Me', 'flirting', '-', 'So', 'tell', 'me', 'about', 'your', 'father', '...'],\n ['The',\n  'Philippine',\n  'Catholic',\n  'bishops',\n  \"'\",\n  'work',\n  'for',\n  'migrant',\n  'workers',\n  'should',\n  'focus',\n  'on',\n  'families',\n  'who',\n  'are',\n  '\"',\n  'paying',\n  'the',\n  'great',\n  '...'],\n ['I',\n  'AM',\n  'NOT',\n  'GOING',\n  'AFTER',\n  'YOUR',\n  'EX',\n  'BF',\n  'YOU',\n  'LIEING',\n  'SACK',\n  'OF',\n  'SHIT',\n  '!',\n  \"I'm\",\n  'done',\n  'with',\n  'you',\n  'dude',\n  \"that's\",\n  'why',\n  'I',\n  'dumped',\n  'your',\n  'ass',\n  'cause',\n  'your',\n  'a',\n  'lieing',\n  '😂',\n  '😡',\n  'bitch'],\n ['When', 'cuffin', 'season', 'is', 'finally', 'over'],\n ['Send',\n  'home',\n  'migrants',\n  'not',\n  'in',\n  'need',\n  'of',\n  'protection',\n  ',',\n  'Peter',\n  'Dutton',\n  'tells',\n  'UN',\n  ',',\n  'HEY',\n  'DUTTON',\n  'HOW',\n  'ABOUT',\n  'THE',\n  'ONES',\n  'THAT',\n  'HAVE',\n  'STAYED',\n  'AND',\n  'NOT',\n  'LEFT',\n  'THE',\n  'COUNTRY',\n  'WHEN',\n  'THEY',\n  'SHOULD',\n  'OVERSTAYERS',\n  '?',\n  'WHY',\n  'DONT',\n  'YOU',\n  'GO',\n  'AND',\n  'ROUND',\n  'ALL',\n  'THEM',\n  'UP',\n  '?'],\n ['Cory',\n  'Booker',\n  'and',\n  'Kamala',\n  'Harris',\n  'competing',\n  'for',\n  'Most',\n  'Hysterical',\n  'Woman',\n  'at',\n  'the',\n  'Kavanaugh',\n  'hearings',\n  ',',\n  'Coulter',\n  'hilariously',\n  'tweeted.And',\n  'yes',\n  ',',\n  'liberals',\n  'immediately',\n  'got',\n  'triggered',\n  'on',\n  'Twitter',\n  ',',\n  'saying',\n  'her',\n  'joke',\n  'was',\n  'offensive',\n  '.',\n  'To',\n  'them',\n  'we',\n  'say',\n  ',',\n  'suck',\n  'it',\n  'up',\n  ',',\n  'snowflakes',\n  '.'],\n ['Only',\n  'that',\n  'in',\n  'you',\n  'which',\n  'is',\n  'me',\n  'can',\n  'hear',\n  'what',\n  \"I'm\",\n  'saying',\n  '.',\n  '~',\n  'Baba',\n  'Ram',\n  'Dass'],\n ['Should',\n  'have',\n  'let',\n  'the',\n  'Libyan',\n  'Manchester',\n  'bomber',\n  'rot',\n  'in',\n  'his',\n  'own',\n  'country',\n  '.',\n  'How',\n  'many',\n  'more',\n  'mass',\n  'murderers',\n  'did',\n  'the',\n  'Royal',\n  'Navy',\n  'import',\n  'to',\n  'Britain',\n  '?',\n  'How',\n  'many',\n  'more',\n  'terrorists',\n  'do',\n  'the',\n  \"NGO's\",\n  'rescue',\n  'from',\n  'international',\n  'waters',\n  '?',\n  '#RefugeesNotWelcome'],\n ['More',\n  'migrants',\n  'take',\n  'sea',\n  'route',\n  'to',\n  '#Spain',\n  'than',\n  'Italy',\n  'this',\n  'year',\n  ':',\n  'UN'],\n ['Essential',\n  'reading',\n  'for',\n  'those',\n  'in',\n  'Scribner',\n  ',',\n  'Nebraska',\n  'who',\n  'are',\n  'considering',\n  'an',\n  'anti-immigrant',\n  'ballot',\n  'measure',\n  '.'],\n ['This',\n  'account',\n  'was',\n  'temporarily',\n  'inactive',\n  'due',\n  'to',\n  'an',\n  'irrational',\n  'woman',\n  'reporting',\n  'us',\n  'to',\n  'Twitter',\n  '.',\n  'What',\n  'a',\n  'lack',\n  'of',\n  'judgement',\n  ',',\n  'shocking',\n  '.',\n  '#YesAllMen'],\n ['RT',\n  '@user',\n  '@user',\n  'I',\n  'am',\n  'flattered',\n  'tbh',\n  '.',\n  'I',\n  'got',\n  'an',\n  'orgasm',\n  'just',\n  'by',\n  'thinking',\n  'of',\n  'it',\n  'you',\n  'really',\n  'are',\n  'good',\n  'at',\n  'this',\n  '.'],\n ['Making',\n  'them',\n  'look',\n  '~',\n  'anatomically',\n  'correct',\n  '~',\n  'just',\n  'makes',\n  'them',\n  '...',\n  'Bland',\n  '.',\n  'Not',\n  'all',\n  'women',\n  'are',\n  'tiny',\n  'and',\n  'fit',\n  ',',\n  'not',\n  'all',\n  'men',\n  'are',\n  'bulky',\n  '.'],\n ['listen',\n  '...',\n  'i',\n  'love',\n  'lil',\n  'b',\n  'but',\n  'i',\n  'would',\n  'not',\n  'fuck',\n  'with',\n  'dej',\n  'loaf',\n  'at',\n  'all',\n  '.',\n  'she',\n  'prob',\n  'got',\n  'poison',\n  'up',\n  'in',\n  'her',\n  'nail',\n  'polish',\n  'like',\n  'that',\n  'bitch',\n  'from',\n  'holes'],\n ['@user',\n  '@user',\n  'keep',\n  'calling',\n  'her',\n  'a',\n  'bitch',\n  'and',\n  'a',\n  'whore',\n  'dude',\n  'real',\n  'grown',\n  'up',\n  '.'],\n ['Glad',\n  'your',\n  'having',\n  'another',\n  'nice',\n  'vacation',\n  '.',\n  \"How's\",\n  'the',\n  'illegal',\n  'border',\n  'crossings',\n  ',',\n  'illegal',\n  'oportunistic',\n  'migrant',\n  'entries',\n  ',',\n  'tax',\n  'payer',\n  'funded',\n  'hotel',\n  'rooms',\n  'for',\n  'same',\n  'without',\n  'a',\n  'strategic',\n  'plan',\n  'going',\n  '?',\n  '@user',\n  '@user',\n  '@user',\n  '@user',\n  '@user',\n  '@user'],\n ['@user',\n  'Unchecked',\n  'Population',\n  '&',\n  'migration',\n  'to',\n  'cities',\n  'is',\n  'biggest',\n  'evil',\n  'for',\n  'dirty',\n  'India.Disincentive',\n  'large',\n  'families',\n  ',',\n  'such',\n  'as',\n  'withdrawl',\n  'of',\n  'sops'],\n ['Illegal',\n  'Alien',\n  'Hit',\n  'Man',\n  ',',\n  'Dragged',\n  'Him',\n  'For',\n  'Blocks',\n  'In',\n  'Deadly',\n  'DUI',\n  'Crash',\n  '#BuildTheWall',\n  '#NoAmnesty',\n  '#NoDACA',\n  '#DeportThemAll',\n  '#KeepAmericaSafe'],\n ['An',\n  'Honest',\n  'Article',\n  'About',\n  'Illegal',\n  'Immigration',\n  'By',\n  'a',\n  'Lefty',\n  '?',\n  '?',\n  'Are',\n  'Pigs',\n  'Flying',\n  '?',\n  '-',\n  'A',\n  'miracle',\n  '...'],\n ['@user',\n  '@user',\n  '@user',\n  '@user',\n  'please',\n  'spread',\n  'the',\n  'word',\n  '->',\n  '>',\n  'using',\n  'frequent',\n  'flyer',\n  'miles',\n  'to',\n  'reunite',\n  'immigrant',\n  'families',\n  '!'],\n ['knuckle',\n  'up',\n  'cause',\n  \"I'll\",\n  'fight',\n  'for',\n  'mines',\n  'Yo',\n  'pussy',\n  'petty',\n  ',',\n  'U',\n  'wasting',\n  'time',\n  '..',\n  'U',\n  'seasonal',\n  ',',\n  'part',\n  'time',\n  'U',\n  'get',\n  'fucked',\n  'up',\n  'fuckin',\n  'w',\n  '/',\n  'mine',\n  'U',\n  'lil',\n  'bitch'],\n ['Yes',\n  ',',\n  'women',\n  'who',\n  'protest',\n  'are',\n  \"'\",\n  'irrational',\n  \"'\",\n  \"'\",\n  'hysterical',\n  \"'\",\n  \"'\",\n  'bitters',\n  'spinsters',\n  \"'\",\n  '-',\n  'long',\n  'history',\n  'of',\n  'using',\n  'that',\n  'shit',\n  'to',\n  'dismi',\n  '…'],\n ['@user',\n  'Not',\n  'all',\n  'men',\n  'are',\n  'animals',\n  '.',\n  'You',\n  'Libs',\n  'want',\n  'muslims',\n  'to',\n  'come',\n  'over',\n  'still',\n  '?',\n  'Better',\n  'pick',\n  'a',\n  'side',\n  '.'],\n ['Federal',\n  'judge',\n  'to',\n  '#Trump',\n  ':',\n  '\"',\n  'imminent',\n  'danger',\n  '\"',\n  'of',\n  '\"',\n  'irreparable',\n  'injury',\n  'to',\n  '#refugees',\n  ',',\n  'visa-holders',\n  '\"',\n  ',',\n  'etc',\n  '.',\n  '@user'],\n ['This',\n  'bitch',\n  'whom',\n  'I',\n  \"won't\",\n  'name',\n  'on',\n  'Facebook',\n  'is',\n  'such',\n  'a',\n  'shameless',\n  'woman',\n  'ruining',\n  'a',\n  'relationship',\n  '.',\n  '#getalife',\n  '#stopspreadinglies',\n  '#hoe'],\n ['@user',\n  '@user',\n  'Omg',\n  'he',\n  'gave',\n  'her',\n  'his',\n  'number',\n  'and',\n  'she',\n  \"didn't\",\n  'say',\n  'no',\n  'what',\n  'a',\n  'cunt',\n  'The',\n  'girl',\n  'is',\n  'the',\n  'cunt',\n  'for',\n  'giving',\n  'it',\n  'to',\n  'some',\n  'random',\n  'fucktard'],\n ['Why',\n  'we',\n  'need',\n  'to',\n  'protect',\n  'refugees',\n  'from',\n  'the',\n  '‘',\n  '˜',\n  'big',\n  'ideas',\n  '’',\n  'designed',\n  'to',\n  'save',\n  'them',\n  '@user',\n  '@user',\n  '@user',\n  '@user',\n  '@user',\n  '@user',\n  '@user'],\n ['Kevin',\n  'Rosero',\n  'of',\n  'the',\n  'Latino',\n  'Immigrant',\n  'Experience',\n  'Oral',\n  'History',\n  'Project',\n  '#NJHRIC',\n  '#NewarkPublicLibrary',\n  'needs',\n  'help',\n  'identifying',\n  'Newark',\n  'Latino',\n  'immigrant',\n  'residents',\n  'to',\n  'interview',\n  'and',\n  'capture',\n  'their',\n  'stories',\n  'and',\n  'experiences',\n  '.',\n  'MORE',\n  'INFO',\n  ':'],\n ['@user', 'Are', 'you', 'pussy', 'grabbing', 'tonight', '?', '?'],\n ['Some',\n  'people',\n  'really',\n  'dont',\n  'understand',\n  'why',\n  'I',\n  'get',\n  'so',\n  'upset',\n  'at',\n  'injustices',\n  'happening',\n  'in',\n  'this',\n  'country',\n  '.',\n  'Trust',\n  'me',\n  ',',\n  \"it's\",\n  'not',\n  'that',\n  'I',\n  'like',\n  'getting',\n  'my',\n  'panties',\n  'in',\n  'a',\n  'wad',\n  'over',\n  'dumb',\n  'things',\n  '.',\n  \"It's\",\n  'the',\n  'fact',\n  'that',\n  'people',\n  'like',\n  'me',\n  '(',\n  'minority',\n  ',',\n  'brown',\n  ',',\n  'immigrant',\n  ',',\n  'etc',\n  ')',\n  'r',\n  'suffering',\n  'and',\n  'it',\n  'affects',\n  'me',\n  'directly'],\n [\"I've\",\n  'been',\n  'called',\n  'a',\n  'son',\n  'of',\n  'a',\n  'whore',\n  'and',\n  'a',\n  'cunt',\n  'today',\n  'already',\n  '.',\n  \"It's\",\n  'not',\n  'even',\n  '1',\n  'yet'],\n ['Pope',\n  'Francis',\n  ':',\n  'Immigrants',\n  'Provide',\n  '‘',\n  '˜',\n  'Enrichment',\n  '’',\n  'to',\n  'Society',\n  ',',\n  'Not',\n  '‘',\n  '˜',\n  'Threats',\n  '’'],\n ['What',\n  'were',\n  'they',\n  'planning',\n  'to',\n  'do',\n  'with',\n  'the',\n  'immigrant',\n  'children',\n  'they',\n  'kidnapped',\n  '?',\n  'Slavery',\n  ',',\n  'sex',\n  'traffic',\n  ',',\n  'organ',\n  'harvesting',\n  '?'],\n ['masturbate', 'intensive', 'for', 'that', 'whore', 'slut'],\n ['The', 'Truth', 'about', '#Immigration'],\n ['@user',\n  '@user',\n  'Must',\n  'Make',\n  'Illegal',\n  '#Immigration',\n  'and',\n  'Over',\n  'Stays',\n  'a',\n  'Felon',\n  'Pass',\n  'Mandatory',\n  'E-Verify',\n  'for',\n  '#Jobs',\n  'and',\n  'Welfare',\n  '#Trump',\n  '#MAGA',\n  '#RedNationRising'],\n ['@user',\n  'immigration',\n  'on',\n  'mass',\n  'in',\n  'Europe',\n  'Kills',\n  'our',\n  'Culture',\n  'our',\n  'languages',\n  'and',\n  'over',\n  'stretches',\n  'our',\n  'own',\n  'resources',\n  'such',\n  'as',\n  'Hospitals',\n  ',',\n  'Schools',\n  ',',\n  'now',\n  'Italy',\n  ',',\n  'Greece',\n  ',',\n  'etc',\n  ',',\n  'Your',\n  'right',\n  'send',\n  'them',\n  'back',\n  'home',\n  'but',\n  'please',\n  'do',\n  'not',\n  'separate',\n  'families',\n  'Islamic',\n  'countries'],\n ['Lebanese',\n  'Christian',\n  'victim',\n  'of',\n  'a',\n  'quarrel',\n  'between',\n  'Syrian',\n  'refugees',\n  'carrying',\n  'knives',\n  '&',\n  'cleavers',\n  'in',\n  'Lebanon'],\n ['CoreCivic',\n  'found',\n  'its',\n  'best',\n  'interest',\n  'is',\n  'to',\n  'grow',\n  'US',\n  'detention',\n  'capacity',\n  ',',\n  'for',\n  'women',\n  'and',\n  'children',\n  ',',\n  'by',\n  'over',\n  '450',\n  '%',\n  '.',\n  'Expanding',\n  'the',\n  'number',\n  'of',\n  'mother-child',\n  'beds',\n  'from',\n  '3,500',\n  'up',\n  'to',\n  '20,000',\n  '.',\n  'This',\n  'signals',\n  'the',\n  'largest',\n  'increase',\n  'in',\n  'immigrant',\n  'detention',\n  'since',\n  'WW2',\n  '#ResistICENashville',\n  'photo',\n  ':',\n  'Julie',\n  'Henry'],\n ['I',\n  'wonder',\n  'is',\n  'this',\n  'is',\n  'where',\n  'Caitlyn',\n  'gets',\n  'his',\n  'car',\n  'services',\n  '🌚'],\n ['@user',\n  'Uhhhhhh',\n  ',',\n  'that',\n  '’',\n  's',\n  'stupid',\n  'LITTLE',\n  'bitch',\n  ',',\n  'ma',\n  '’',\n  'am',\n  '😉'],\n ['Bishop',\n  'appeals',\n  'to',\n  'church',\n  'groups',\n  'to',\n  'take',\n  'action',\n  'as',\n  'migrants',\n  'now',\n  'account',\n  'for',\n  '11',\n  'percent',\n  'of',\n  'reported',\n  'cases'],\n ['Because', 'some', 'women', 'are', 'stupid'],\n ['@user', 'BITCH', 'TEXT', 'ME'],\n ['because',\n  'they',\n  'had',\n  'a',\n  'cross',\n  'on',\n  '!',\n  '!',\n  'The',\n  'lovely',\n  'NHS',\n  'cannot',\n  'get',\n  '100',\n  'Indian',\n  'Doctors',\n  'over',\n  'from',\n  'India',\n  'because',\n  'of',\n  'Immigration',\n  'rules',\n  ',',\n  'good',\n  'do',\n  'we',\n  'want',\n  'to',\n  'hire',\n  'from',\n  'a',\n  'land',\n  'of',\n  'Rapists',\n  'and',\n  'ignorant',\n  'beliefs',\n  'sadly',\n  'we',\n  'cannot',\n  'get',\n  'enough',\n  'training',\n  'places',\n  'here',\n  ',',\n  'why',\n  'dont',\n  'we',\n  'use',\n  'nurse',\n  'Practitioners',\n  '#'],\n ['@user',\n  'RT',\n  '@user',\n  \"Don't\",\n  'betray',\n  'Your',\n  '#Voters',\n  'on',\n  '#Immigration',\n  '.',\n  '#Americans',\n  ',',\n  '#WeThePeople',\n  ',',\n  '&',\n  'the',\n  '#USA',\n  'reject',\n  '#DACA',\n  ',',\n  '#Amnesty',\n  ',',\n  'the',\n  '#DreamAct',\n  ',',\n  '&',\n  'all',\n  '#illegal',\n  'immigration',\n  '.',\n  'Do',\n  'Not',\n  'Break',\n  'Our',\n  'Constitutional',\n  'Laws',\n  '.',\n  'Deport',\n  'all',\n  'illegals',\n  '&',\n  '#DACA',\n  'immigr'],\n ['@user',\n  'Elizabeth',\n  \"Warren's\",\n  'radical',\n  'agenda',\n  'to',\n  'abolish',\n  'ICE',\n  'and',\n  'create',\n  'open',\n  'borders',\n  'must',\n  'be',\n  'stopped',\n  '.',\n  'Geoff',\n  'Diehl',\n  'is',\n  'the',\n  'only',\n  'candidate',\n  'with',\n  'a',\n  'proven',\n  'record',\n  'of',\n  'fighting',\n  'illegal',\n  'immigration',\n  '.',\n  'VOTE',\n  'FOR',\n  '@user',\n  'FOR',\n  'SENATE',\n  'in',\n  'MA'],\n ['What',\n  'an',\n  'absolute',\n  'cock',\n  'womble',\n  'this',\n  'cunt',\n  'is',\n  '.',\n  'Does',\n  'she',\n  'also',\n  'alude',\n  'to',\n  'the',\n  'fact',\n  'she',\n  'recieved',\n  'FREE',\n  'university',\n  'education',\n  'aswel',\n  '.'],\n ['No',\n  'matter',\n  'what',\n  'color',\n  'a',\n  'girl',\n  'is',\n  'she',\n  'still',\n  'a',\n  'ho',\n  '😂',\n  '😂'],\n ['@user',\n  'I',\n  'am',\n  'not',\n  'forcing',\n  'anyone',\n  '.',\n  'I',\n  'am',\n  'just',\n  'putting',\n  'out',\n  'my',\n  'view',\n  '.',\n  'People',\n  'believe',\n  'it',\n  'or',\n  'not',\n  'is',\n  'their',\n  'prerogative.Even',\n  'if',\n  'a',\n  'single',\n  'person',\n  'agree',\n  'with',\n  'me',\n  ',',\n  'it',\n  'is',\n  'ok',\n  'with',\n  'me',\n  '.',\n  'Thanks',\n  ','],\n ['#FactCheck',\n  '👍',\n  '#BoycottUnitedArlines',\n  '#AidingAndAbetting',\n  '#Felons',\n  '#WeThePeople',\n  'are',\n  'FED',\n  'UP',\n  '#EnoughIsEnough',\n  '#ICE',\n  '#DHS',\n  '#DOJ',\n  '#WakeUpAmerica',\n  '#StopTheInvasion'],\n ['#NRC',\n  'Assam',\n  'Govt',\n  'must',\n  'initiate',\n  'immediate',\n  'action',\n  '2',\n  'cancel',\n  'Voting',\n  'id',\n  'cards',\n  '&',\n  'Aadhaar',\n  'cards',\n  'of',\n  'the',\n  'identified',\n  'illegal',\n  'migrants',\n  'Let',\n  '\"',\n  'commited',\n  '\"',\n  'political',\n  'dogs',\n  'bark',\n  'any',\n  'length',\n  '&',\n  'as',\n  'loud',\n  'as',\n  'they',\n  'can',\n  'Nation',\n  'must',\n  'remain',\n  'firm',\n  'on',\n  'its',\n  'security',\n  'concerns'],\n ['@user',\n  'Dan',\n  ',',\n  'WAY',\n  'too',\n  'tough',\n  'to',\n  'choose',\n  'between',\n  'all',\n  'the',\n  'lying',\n  ',',\n  'deceitful',\n  'corrupt',\n  'losers',\n  'representing',\n  'Dems',\n  '(',\n  '&',\n  'some',\n  'GOP',\n  ')',\n  '.',\n  'The',\n  'list',\n  'is',\n  'long',\n  '&',\n  'disgusting',\n  '.',\n  'Embarrassing',\n  'that',\n  'we',\n  'pay',\n  'these',\n  'lying',\n  'losers',\n  'large',\n  'salaries',\n  'to',\n  'corrupt',\n  'our',\n  'democracy',\n  '.',\n  '#MAGA',\n  '#KAG',\n  '#POTUS',\n  '#Tr'],\n ['Russia',\n  ',',\n  'Turkey',\n  ',',\n  'Jordan',\n  'are',\n  'in',\n  'talks',\n  'on',\n  'return',\n  'of',\n  'Syrian',\n  'refugees',\n  '‘',\n  '“',\n  'Lavrov'],\n ['@user',\n  '@user',\n  'No',\n  '...',\n  'really',\n  '?',\n  'A',\n  'refugee',\n  '?',\n  'They',\n  'are',\n  'here',\n  'to',\n  'enrich',\n  'our',\n  'cultures',\n  ',',\n  'right',\n  '?',\n  'I',\n  'bet',\n  'ya',\n  \"he's\",\n  'older',\n  'than',\n  '17',\n  'too',\n  '...',\n  '#sendthemback',\n  \"it's\",\n  'not',\n  'late',\n  'to',\n  'save',\n  'Europe'],\n ['NEVERRRRRRRRRRR'],\n ['Thank',\n  'you',\n  ',',\n  '@user',\n  'for',\n  'taking',\n  'a',\n  'stand',\n  '.',\n  \"It's\",\n  'up',\n  'to',\n  'all',\n  'of',\n  'us',\n  'to',\n  'fight',\n  'misinformation',\n  'and',\n  'anti-immigrant',\n  'hate',\n  '.',\n  '#SourcesMatter'],\n ['And',\n  'now',\n  'another',\n  'flood',\n  'of',\n  'immigrants',\n  'coming',\n  'our',\n  'way',\n  '.',\n  '#BuildThatWall'],\n ['Nothing',\n  'irks',\n  'me',\n  'more',\n  'than',\n  'when',\n  'bitches',\n  'end',\n  'it',\n  'with',\n  'a',\n  'good',\n  'guy',\n  'then',\n  'complain',\n  'about',\n  'getting',\n  'hurt',\n  'by',\n  'a',\n  'douche',\n  'bag',\n  '.',\n  '#WakeUpYouWhore'],\n ['Realizing',\n  'the',\n  'rights',\n  'of',\n  'Eritrean',\n  'refugees',\n  'in',\n  'Israel',\n  '.',\n  'A',\n  'new',\n  'article',\n  ':',\n  'https://t.co/0SsTUvgQ6z'],\n ['Judge',\n  'orders',\n  'government',\n  'to',\n  'release',\n  'immigrant',\n  'kids',\n  'from',\n  'Texas',\n  'shelter',\n  '|',\n  'The',\n  'Texas',\n  'Tribune'],\n ['@user',\n  '@user',\n  '@user',\n  \"Don't\",\n  'dare',\n  'to',\n  'tell',\n  'us',\n  'about',\n  'Syrian',\n  'refugees',\n  '.'],\n ['@user',\n  '@user',\n  'It',\n  'should',\n  'foment',\n  'anger',\n  '.',\n  'Only',\n  'idiots',\n  'open',\n  'their',\n  'borders',\n  'to',\n  'people',\n  'who',\n  'will',\n  'NEVER',\n  'assimilate',\n  '.',\n  'Majority',\n  'of',\n  'Black',\n  'Africans',\n  'coming',\n  'into',\n  'Europe',\n  'are',\n  'NOT',\n  'refugees',\n  'and',\n  'had',\n  'the',\n  'money',\n  'to',\n  'pay',\n  'for',\n  'trip',\n  'over',\n  ',',\n  'which',\n  'is',\n  'expensive',\n  '.'],\n ['This', 'is', 'what', 'Trump', 'supporters', 'call', 'humane', 'smh'],\n ['MegynKelly',\n  'is',\n  'skank',\n  '.',\n  'Whore',\n  'paid',\n  '$',\n  '$',\n  'for',\n  'what',\n  '?',\n  'Only',\n  'thing',\n  'left',\n  'to',\n  'watch',\n  'on',\n  '.',\n  '@nbc',\n  'anymore',\n  'is',\n  'SNL',\n  '.',\n  'More',\n  'truth',\n  'to',\n  'them',\n  't',\n  '…'],\n ['#OccupyICEPHL',\n  'was',\n  'delighted',\n  'to',\n  'learn',\n  'that',\n  'Charlie',\n  'Kirk',\n  ',',\n  'the',\n  'anti-immigrant',\n  ',',\n  'anti-Muslim',\n  ',',\n  'conspiracy',\n  'theory-touting',\n  ',',\n  'founder',\n  '&',\n  'executive',\n  'director',\n  'of',\n  'the',\n  'white',\n  'nationalist-allied',\n  'Turning',\n  'Point',\n  'USA',\n  '(',\n  'TPUSA',\n  ')',\n  \"didn't\",\n  'have',\n  'a',\n  'very',\n  'good',\n  'morning',\n  'either',\n  '.',\n  '#NationalistsNotWelcome'],\n ['Med',\n  'not',\n  'a',\n  'house',\n  '/',\n  'EU',\n  'not',\n  'adult',\n  'day',\n  'care',\n  'camp',\n  'for',\n  'migrants',\n  'seeking',\n  'handouts',\n  'or',\n  'to',\n  'profit',\n  'from',\n  'crime.Tunisia',\n  'abusing',\n  '#Italy',\n  'EU',\n  ',',\n  'which',\n  'has',\n  'leverage',\n  'bt',\n  'lacks',\n  'courage',\n  'to',\n  'use',\n  'it',\n  '.',\n  '#Salvini',\n  'must',\n  'send',\n  'messageðŸ',\n  '‘',\n  '‰',\n  'either',\n  'stop',\n  'boats',\n  '&',\n  'take',\n  'back',\n  'citizens',\n  'or',\n  'we',\n  'bury',\n  'you',\n  'economically',\n  ',',\n  'esp',\n  '.',\n  'leaders'],\n ['@user', 'good', 'girl'],\n ['you',\n  'know',\n  'your',\n  'women',\n  'are',\n  'stupid',\n  'just',\n  'like',\n  \"you're\",\n  '_',\n  'bitch',\n  'please',\n  'did',\n  'i',\n  'fuck',\n  'you',\n  '_',\n  'what',\n  'importance',\n  'do',\n  'you',\n  'have',\n  'in',\n  'my',\n  'life',\n  '_',\n  'are',\n  'you',\n  'retarded',\n  '_',\n  '😏',\n  '🌹'],\n [\"Don't\",\n  'you',\n  'hate',\n  'how',\n  'girls',\n  'just',\n  'Whore',\n  'around',\n  'because',\n  'they',\n  'never',\n  'got',\n  \"daddy's\",\n  'attention',\n  '?',\n  '?',\n  'And',\n  'so',\n  'they',\n  'have',\n  'to',\n  'interfere',\n  'in',\n  'relationships',\n  '..',\n  'hoe'],\n ['@user',\n  'Greedy',\n  ',',\n  'you',\n  'have',\n  'to',\n  'talk',\n  'about',\n  'this',\n  'tomorrow',\n  'including',\n  'the',\n  'hysterical',\n  'responses',\n  '.'],\n ['@user',\n  'Wow',\n  '!',\n  '!',\n  'Never',\n  'seen',\n  'a',\n  'woman',\n  'juggle',\n  'a',\n  'big',\n  'cock',\n  'like',\n  'that'],\n ['Fuck',\n  'you',\n  ',',\n  'you',\n  'hoe',\n  'I',\n  'don',\n  '’',\n  't',\n  'want',\n  'you',\n  'back'],\n ['@user',\n  'Screw',\n  'her',\n  'and',\n  'her',\n  'beliefs',\n  '!',\n  '!',\n  'Send',\n  'them',\n  'packing',\n  '!',\n  '!',\n  'This',\n  'is',\n  'a',\n  'Christian',\n  'nation',\n  'with',\n  'Christian',\n  'laws',\n  '.',\n  '#BuildThatWall',\n  '#kag'],\n ['@user', 'You', 'are', 'the', 'sloppy', 'queen', 'of', 'sucking', 'cock'],\n ['World',\n  'Relief',\n  'is',\n  'continuing',\n  'to',\n  'provide',\n  'legal',\n  'aid',\n  'and',\n  'advocating',\n  'for',\n  'immigrant',\n  'families',\n  'who',\n  'have',\n  'been',\n  'separated',\n  'at',\n  'the',\n  'U',\n  '.',\n  'S',\n  '.',\n  '-',\n  'Mexico',\n  'border',\n  '.',\n  'You',\n  'can',\n  'make',\n  'a',\n  'difference',\n  'and',\n  'help',\n  'reunite',\n  'families',\n  'by',\n  'making',\n  'a',\n  'donation',\n  'today',\n  '.',\n  'âž',\n  '\\x9d'],\n ['@user',\n  'Africa',\n  'for',\n  'Africans',\n  ',',\n  'Asia',\n  'for',\n  'Asians',\n  ',',\n  'White',\n  'countries',\n  'for',\n  'everyone',\n  'IS',\n  'White',\n  'Genocide.Some',\n  'basic',\n  'truths',\n  ':',\n  'Access',\n  'to',\n  'White',\n  'people',\n  'is',\n  'not',\n  'a',\n  'human',\n  'righthttps',\n  ':/',\n  '/',\n  't.co/c0gHvd6iMBRemigration',\n  '2018',\n  ':',\n  'Easy',\n  'come',\n  ',',\n  'easy',\n  'GO',\n  '!',\n  '!'],\n ['@user',\n  'you',\n  'dumb',\n  'cunt',\n  'you',\n  'trick',\n  '12',\n  'and',\n  '30',\n  'year',\n  'old',\n  'virgins',\n  'into',\n  'giving',\n  'you',\n  'money',\n  'you',\n  'fucking',\n  'bitch',\n  '.',\n  'kys',\n  'honest',\n  '…'],\n ['From',\n  'refugee',\n  'to',\n  'sole',\n  'survivor',\n  '-',\n  'How',\n  'one',\n  'Syrian',\n  'has',\n  'become',\n  'shoemaker',\n  'to',\n  'the',\n  'famous'],\n ['@user',\n  '@user',\n  '@user',\n  '@user',\n  'Earth',\n  'to',\n  'Andrew',\n  ',',\n  'come',\n  'in',\n  'Andrew',\n  ':',\n  'its',\n  'about',\n  'immigration.Denying',\n  'Canadians',\n  'their',\n  'right',\n  'to',\n  'survive',\n  'and',\n  'defend',\n  'their',\n  'racial',\n  'interests',\n  'IS',\n  \"'\",\n  'racial',\n  'hatred',\n  \"'\",\n  '.',\n  'IN',\n  'fact',\n  'its',\n  'White',\n  'Genocide',\n  '.',\n  'Its',\n  'a',\n  'crime',\n  ':',\n  'Access',\n  'to',\n  'White',\n  'peopl'],\n ['When',\n  \"you're\",\n  'sneaking',\n  'in',\n  'after',\n  'a',\n  'long',\n  ',',\n  'hard',\n  'night',\n  'of',\n  'cheating',\n  'and',\n  \"don't\",\n  'wanna',\n  'wake',\n  'your',\n  'girl',\n  'cause',\n  \"you're\",\n  'a',\n  'good',\n  'guy'],\n ['@user',\n  'sweetie',\n  ',',\n  'how',\n  'the',\n  'hell',\n  'can',\n  'you',\n  'take',\n  '“',\n  'oh',\n  'my',\n  'god',\n  'that',\n  '’',\n  's',\n  'a',\n  'DICK',\n  '?',\n  '!',\n  '?',\n  '!',\n  '?',\n  '!',\n  '?',\n  '!',\n  '”',\n  'Style',\n  'monologue'],\n ['Absolutely',\n  'perfect',\n  'keep',\n  'the',\n  'whole',\n  'lot',\n  'of',\n  'Illegal',\n  'Aliens',\n  'out',\n  ',',\n  'now',\n  'maybe',\n  'libtarded',\n  'snowflakes',\n  'will',\n  'be',\n  'happy',\n  'they',\n  'are',\n  'not',\n  'being',\n  'split',\n  'up',\n  '?',\n  '#maga',\n  '#kag',\n  '#nodaca',\n  '#noamnesty',\n  '#BuildThatWall',\n  '#BuildTheWallNow',\n  '#BuildTheDamnWall',\n  '#BuildTheWall'],\n ['Hundreds',\n  'of',\n  'Syrian',\n  'refugees',\n  'return',\n  'home',\n  'from',\n  'Lebanon',\n  '-',\n  'ABC',\n  'News'],\n ['VIDEO',\n  ':',\n  'Immigrant',\n  'activist',\n  'who',\n  'climbed',\n  'Statue',\n  'of',\n  'Liberty',\n  'has',\n  'a',\n  'new',\n  'song',\n  ':',\n  '\"',\n  'America',\n  ',',\n  'you',\n  'motherfuckers',\n  ',',\n  '...'],\n ['Turkish',\n  'government',\n  'must',\n  'immediately',\n  'take',\n  'precautions',\n  'to',\n  'protect',\n  \"it's\",\n  'borders',\n  'and',\n  'find',\n  'solution',\n  'for',\n  'the',\n  'trouble',\n  'in',\n  'Syria',\n  'or',\n  'else',\n  'Turkey',\n  'will',\n  'be',\n  'a',\n  'refugee',\n  'storage',\n  'in',\n  'the',\n  'near',\n  'future',\n  'and',\n  'this',\n  'is',\n  'a',\n  'big',\n  'threat',\n  'for',\n  'our',\n  'survival',\n  '#nomorerefugees'],\n ['/',\n  '/',\n  \"'\",\n  'We',\n  'will',\n  'send',\n  'back',\n  'the',\n  'illegal',\n  'immigrants',\n  'to',\n  'Bangladesh',\n  '.',\n  'Tough',\n  'days',\n  'are',\n  'ahead',\n  ',',\n  'we',\n  'will',\n  'not',\n  'tolerate',\n  'any',\n  'illegal',\n  'immigrants',\n  'in',\n  'Bengal',\n  '.',\n  \"'\",\n  'With',\n  'these',\n  'statements',\n  ',',\n  'West',\n  'Bengal',\n  '...'],\n ['RT',\n  '@user',\n  'I',\n  'bet',\n  'a',\n  'lot',\n  'of',\n  \"people's\",\n  'therapists',\n  'are',\n  'dying',\n  'to',\n  'meet',\n  'me',\n  'just',\n  'to',\n  'see',\n  'if',\n  'the',\n  'stories',\n  'are',\n  'true',\n  '.'],\n ['HOLLERINGGGGGGG', '.', 'stupid', 'baby', 'bitch', '.'],\n ['a',\n  'bitch',\n  'in',\n  'which',\n  'I',\n  'find',\n  'attractive',\n  'can',\n  'take',\n  'her',\n  'sock',\n  'off',\n  'and',\n  'my',\n  'dick',\n  'will',\n  'suddenly',\n  'become',\n  'hard',\n  'as',\n  'shit',\n  '..'],\n ['RT',\n  '@user',\n  \"'\",\n  'You',\n  'miss',\n  '100',\n  '%',\n  'of',\n  'the',\n  'shots',\n  'you',\n  \"don't\",\n  'take',\n  '.',\n  \"'\",\n  '-',\n  '-',\n  'Wayne',\n  'Gretzky'],\n ['@user',\n  'Actually',\n  'that',\n  'is',\n  'any',\n  'benefits',\n  'which',\n  'would',\n  'make',\n  'a',\n  'Immigrant',\n  'a',\n  '\"',\n  'Public',\n  'Charge',\n  '\"',\n  'law',\n  'on',\n  'the',\n  'books',\n  'for',\n  'over',\n  '100',\n  'years',\n  'not',\n  'entitled',\n  'to',\n  'hold',\n  'a',\n  'green',\n  'card',\n  'or',\n  'become',\n  'a',\n  'citizen',\n  'but',\n  '#Dems',\n  'wont',\n  'enforce',\n  'it',\n  '!',\n  'That',\n  'is',\n  'why',\n  '73',\n  '%',\n  'of',\n  'Mexican',\n  'and',\n  'Central',\n  'Amer'],\n ['How',\n  'much',\n  'is',\n  'John',\n  'McCains',\n  'funeral',\n  'costing',\n  'tax',\n  'payers',\n  '?',\n  'Not',\n  'including',\n  'his',\n  'no',\n  'vote',\n  'to',\n  'scrap',\n  'Obamacare',\n  '.',\n  'Next',\n  'time',\n  'use',\n  'our',\n  'hard',\n  'earned',\n  'money',\n  'for',\n  'something',\n  'useful',\n  'like',\n  'building',\n  'the',\n  'wall',\n  '!',\n  '!',\n  '#BuildThatWall',\n  '#McCainFuneral',\n  '#Baloney'],\n [\"I've\",\n  'never',\n  'in',\n  'my',\n  'LIFE',\n  'met',\n  'a',\n  'woman',\n  'who',\n  'was',\n  'smarter',\n  'then',\n  'ME',\n  '.',\n  'Maybe',\n  'that',\n  'has',\n  'to',\n  'do',\n  'with',\n  'their',\n  'small',\n  'retard',\n  'brains',\n  '?',\n  '#womenaredumb',\n  '..'],\n ['Syrian',\n  'activist',\n  'alleges',\n  'UN',\n  'gave',\n  'Rakban',\n  'camp',\n  'refugee',\n  'children',\n  'expired',\n  'sweets'],\n ['@user',\n  'I',\n  'bit',\n  'my',\n  'toungue',\n  'when',\n  'l',\n  'heard',\n  'Syrian',\n  'refugees',\n  'complain',\n  'about',\n  'Rothsey',\n  'then',\n  'again',\n  ',',\n  'maybe',\n  'someone',\n  'can',\n  'swop',\n  'them',\n  'with',\n  'a',\n  'high',\n  'rise'],\n ['@user',\n  'List',\n  'fails',\n  'without',\n  \"'\",\n  '50',\n  'Things',\n  'To',\n  'Think',\n  'About',\n  'To',\n  'Stop',\n  'You',\n  'Doing',\n  'Your',\n  'Beans',\n  \"'\",\n  'by',\n  'Kunt',\n  'and',\n  'the',\n  'Gang'],\n ['SWEDEN',\n  'Dentist',\n  'fined',\n  'nearly',\n  '$',\n  '50,000',\n  'for',\n  'revealing',\n  'that',\n  'many',\n  'adult',\n  'Muslim',\n  'migrants',\n  'are',\n  'posing',\n  'as',\n  \"'\",\n  'unaccompanied',\n  'refugee',\n  'children',\n  \"'\",\n  'via',\n  '@user',\n  'Swedenstan',\n  'update',\n  '...'],\n ['The',\n  'US',\n  'bill',\n  'is',\n  'an',\n  'illegal',\n  'endeavour',\n  'and',\n  'cannot',\n  'impact',\n  'the',\n  'current',\n  'situation',\n  '.',\n  'It',\n  'is',\n  'a',\n  'part',\n  'of',\n  'the',\n  '“',\n  'deal',\n  'of',\n  'the',\n  'century',\n  '”',\n  'which',\n  'aims',\n  'to',\n  'revoke',\n  'the',\n  'Palestinian',\n  'refugees',\n  '’',\n  'right',\n  'of',\n  'return',\n  'and',\n  'works',\n  'hand',\n  'in',\n  'hand',\n  'with',\n  'the',\n  'Israeli',\n  'racist',\n  'Nation',\n  'State',\n  'Law',\n  ','],\n ['UGH',\n  '!',\n  'Fake',\n  'Christians',\n  'really',\n  'out',\n  'here',\n  'trying',\n  'to',\n  'take',\n  'away',\n  'our',\n  'rights',\n  '!',\n  '!',\n  'IF',\n  'YOU',\n  'CARE',\n  'SO',\n  'MUCH',\n  'ABOUT',\n  'LIFE',\n  'THEN',\n  'FIX',\n  'THE',\n  'ALREADY',\n  'BROKEN',\n  'FOSTER',\n  'CARE',\n  'SYSTEM',\n  'AND',\n  'WELCOME',\n  'REFUGEES',\n  'WITH',\n  'OPEN',\n  'ARMS',\n  '.',\n  'FOLLOWER',\n  'OF',\n  'CHRIST',\n  '?',\n  '?',\n  'WHILE',\n  'NOT',\n  'LOVING',\n  'YOUR',\n  'NEIGHBORS',\n  '?',\n  'YIKES',\n  '.'],\n ['@user',\n  'Lmao',\n  'on',\n  'my',\n  'grandmother',\n  ',',\n  'you',\n  'never',\n  'knew',\n  'me',\n  'in',\n  '2012',\n  'so',\n  'stop',\n  'while',\n  'you',\n  'really',\n  'ahead',\n  'hoe'],\n ['Could',\n  'you',\n  'please',\n  'explain',\n  'why',\n  'you',\n  'praised',\n  'the',\n  'research',\n  'of',\n  'an',\n  'anti-Muslim',\n  'and',\n  'anti-immigrant',\n  'foundation',\n  'linked',\n  'to',\n  \"Orban's\",\n  'far-right',\n  'government',\n  '?',\n  'Or',\n  'why',\n  'you',\n  'are',\n  'hosting',\n  'events',\n  'at',\n  'the',\n  'Hungarian',\n  'Embassy',\n  'for',\n  'this',\n  'foundation',\n  '?'],\n ['Was',\n  'a',\n  'legal',\n  'Resident',\n  'until',\n  'she',\n  'was',\n  'Convicted',\n  'of',\n  'Shoplifting',\n  'Deported',\n  'then',\n  'Came',\n  'Back',\n  'Illegally',\n  'Now',\n  'She',\n  'wants',\n  'U',\n  ',',\n  'S',\n  'Taxpayers',\n  'to',\n  'pay',\n  'her',\n  'Medical',\n  'Bills',\n  '#SendHerBack',\n  'let',\n  'her',\n  'family',\n  'go',\n  'with',\n  'her',\n  '!',\n  '#Immigration'],\n ['Italy',\n  'and',\n  'France',\n  'try',\n  'to',\n  'patch',\n  'up',\n  'migrant',\n  'row',\n  ',',\n  'draw',\n  'papal',\n  'rebuke',\n  'Send',\n  'them',\n  'to',\n  'the',\n  'Vatican',\n  '...'],\n ['@user',\n  '@user',\n  'in',\n  'an',\n  'interview',\n  'with',\n  '@user',\n  'Trump',\n  \"doesn't\",\n  'need',\n  'Congress',\n  'to',\n  'Build',\n  'The',\n  'Wall.We',\n  'are',\n  'being',\n  'invaded',\n  'by',\n  'a',\n  'foreign',\n  'country',\n  ';',\n  'defending',\n  'our',\n  'Borders',\n  'is',\n  'the',\n  '#',\n  '1',\n  'job',\n  'of',\n  'the',\n  'Commander-In-Chief',\n  ',',\n  'use',\n  'DOD',\n  'funds',\n  '.',\n  '\"',\n  'PLEASE',\n  '@user'],\n ['If',\n  'you',\n  'hate',\n  'fuckboys',\n  \"it's\",\n  'only',\n  'cause',\n  'you',\n  'let',\n  'one',\n  'break',\n  'your',\n  'stupid',\n  'little',\n  'heart',\n  '...',\n  'Dumb',\n  'dumb'],\n ['@user',\n  'Then',\n  \"don't\",\n  'be',\n  'a',\n  'whore',\n  'and',\n  'open',\n  'your',\n  'legs',\n  'for',\n  'everyone',\n  ',',\n  'and',\n  'not',\n  'fuck',\n  'everyone',\n  'you',\n  'want',\n  ',',\n  'and',\n  'magically',\n  ',',\n  \"you'll\",\n  'prevent',\n  'getting',\n  'an',\n  'STD',\n  '.'],\n ['@',\n  'THE',\n  'BROKE',\n  'BITCHES',\n  'WHO',\n  'ARE',\n  'PARTYING',\n  'IN',\n  'MY',\n  'OVARIES',\n  '.',\n  'I',\n  'HOPE',\n  'YOU',\n  'FUCKING',\n  'DIE',\n  'AND',\n  'ROT',\n  'IN',\n  'HELL',\n  'YOU',\n  'STUPID',\n  'UGLY',\n  'ASS',\n  'BITCH'],\n ['@user',\n  '@user',\n  'We',\n  'need',\n  'to',\n  'keep',\n  'saying',\n  'it',\n  'until',\n  'its',\n  'built',\n  '!',\n  '#BuildThatWall'],\n ['ICE',\n  ':',\n  '124',\n  'illegal',\n  'immigrants',\n  'released',\n  'from',\n  'jail',\n  'later',\n  'charged',\n  'in',\n  '138',\n  'murder',\n  'cases',\n  '#BuildTheWall',\n  '#EnforceUSLaws',\n  '#KeepAmericansSafeThis',\n  'is',\n  'all',\n  'the',\n  'Congress',\n  'should',\n  'be',\n  'comtemplating',\n  '!',\n  '#BanSanctuaryCities',\n  '#NoAmnesty',\n  '#NoDACADeal',\n  '#EndChainMigration',\n  '#Deport'],\n ['@user',\n  'Facts',\n  '!',\n  'like',\n  'bitch',\n  'stfu',\n  '&',\n  'sit',\n  'in',\n  'the',\n  'corner',\n  'hoe',\n  '.',\n  'Catch',\n  'a',\n  'fit',\n  'in',\n  'the',\n  'corner',\n  ',',\n  'facing',\n  'the',\n  'wall'],\n ['#information_warfare'],\n ['Here',\n  'comes',\n  'the',\n  'results',\n  'of',\n  'socialism',\n  '.',\n  'To',\n  'all',\n  'Liberals',\n  'who',\n  'want',\n  'communism',\n  ';',\n  'here',\n  'comes',\n  'your',\n  'new',\n  'roomies',\n  '.',\n  '#BuildThatWall'],\n ['Iraqi',\n  'Immigrant',\n  'Accused',\n  'Of',\n  'Critically',\n  'Wounding',\n  'Colorado',\n  'Cop',\n  'Evaded',\n  'Deportation',\n  'Despite',\n  'Criminal',\n  'Record'],\n ['And',\n  'why',\n  'should',\n  'he',\n  'now',\n  'buckle',\n  'to',\n  'their',\n  'demands',\n  'that',\n  'he',\n  'swear',\n  'undying',\n  'trust',\n  'for',\n  'these',\n  'A',\n  '*',\n  '*',\n  '*',\n  '?',\n  '?',\n  '?',\n  'THEY',\n  'are',\n  'the',\n  'enemy',\n  'of',\n  'this',\n  'nation',\n  '!',\n  '#Treason'],\n ['Trump',\n  'Administration',\n  'May',\n  'Be',\n  'Creating',\n  \"'\",\n  'Permanently',\n  'Orphaned',\n  \"'\",\n  'Immigrant',\n  'Kids',\n  ',',\n  'Judge',\n  'Says',\n  '–',\n  'Texas',\n  'Monthly'],\n ['@user',\n  'Families',\n  'should',\n  'not',\n  'bring',\n  'their',\n  'kids',\n  'into',\n  'a',\n  'country',\n  'illegally',\n  ',',\n  'would',\n  'you',\n  '?',\n  'We',\n  'can',\n  '’',\n  't',\n  'afford',\n  'them',\n  '#sendthemhome'],\n ['Effects',\n  'of',\n  'Third',\n  'World',\n  'Immigration',\n  'into',\n  'Canada',\n  'via',\n  '@user'],\n ['THINGS',\n  'GOT',\n  'HEATED',\n  ':',\n  'BREAKING',\n  ':',\n  'Woman',\n  'Sets',\n  'Pedophile',\n  'Muslim',\n  'Man',\n  'on',\n  'Fire',\n  'After',\n  'Catching',\n  'Him',\n  'Rape',\n  '7',\n  '-',\n  'Yr',\n  '-',\n  'Old',\n  'Daughter'],\n ['#FactCheck',\n  'true',\n  '#WakeUpAmerica',\n  '#LeftistSedition',\n  '#DemocratsHateAmerica',\n  '#OpenYourEyes',\n  '#FreeYourMind',\n  '#BuildTheWall',\n  '#StopTheInvasion'],\n ['Youth',\n  '#Care',\n  'Worker',\n  'Accused',\n  'of',\n  'Sexually',\n  'Abusing',\n  '#Immigrant',\n  'Boys',\n  '-',\n  '#PrescientInfo'],\n ['This',\n  'year',\n  'a',\n  'young',\n  'immigrant',\n  'from',\n  'Mali',\n  'saved',\n  'the',\n  'life',\n  'of',\n  'a',\n  'child',\n  'in',\n  'France',\n  '.',\n  'The',\n  'President',\n  'of',\n  'France',\n  'personally',\n  'awarded',\n  'him',\n  'a',\n  'National',\n  'hero',\n  'medal',\n  'for',\n  'bravery',\n  'after',\n  'inviting',\n  'him',\n  'to',\n  'the',\n  'Elysée',\n  'Palace',\n  ',',\n  'offered',\n  'him',\n  'French',\n  'citizenship',\n  'and',\n  'a',\n  'job',\n  '.',\n  'This',\n  'year',\n  ',',\n  'the',\n  '…',\n  'https://t.co/hKdEgTi5ya'],\n [\"'\",\n  'Come',\n  'up',\n  'here',\n  'and',\n  'say',\n  'somethin',\n  'now',\n  'you',\n  'broke',\n  ',',\n  'beggin',\n  ',',\n  'fingers',\n  'in',\n  'the',\n  'booty',\n  'ass',\n  'bitch',\n  \"'\"],\n ['Goals', 'AF'],\n ['Hmm',\n  '...',\n  'Someone',\n  'named',\n  '\"',\n  'Garcia',\n  '\"',\n  'wants',\n  'to',\n  'eliminate',\n  'the',\n  'US',\n  '/',\n  'Mexico',\n  'border',\n  '.',\n  'Imagine',\n  'my',\n  'surprise.What',\n  \"'\",\n  's',\n  'it',\n  'called',\n  'when',\n  'a',\n  'foreign',\n  'agent',\n  'enters',\n  'your',\n  'country',\n  '&',\n  'sabotages',\n  'your',\n  '#BorderSecurity',\n  'for',\n  'the',\n  'benefit',\n  'of',\n  'their',\n  'own',\n  'country',\n  '?',\n  '#StopTheInvasion',\n  '#SecureTheBorder',\n  '#BuildTheWall',\n  '#NoIllegals'],\n ['@user', 'Coming', 'from', 'a', 'hysterical', 'woman', '.'],\n ['@user',\n  'Hahahahahahahaha',\n  'no',\n  'wonder',\n  'you',\n  'work',\n  'for',\n  'the',\n  'sun',\n  'you',\n  'thick',\n  'kunt',\n  '.'],\n ['@user',\n  'you',\n  'guys',\n  'nailed',\n  'it',\n  '.',\n  \"I've\",\n  'had',\n  '3',\n  'seperate',\n  'fits',\n  'of',\n  'hysterical',\n  'laughter',\n  'and',\n  'I',\n  \"didn't\",\n  'even',\n  'make',\n  'it',\n  'to',\n  'the',\n  'school',\n  'yet',\n  '.'],\n ['American',\n  '#FamiliesBelongTogether',\n  'but',\n  'the',\n  '#Democrat',\n  'Socialist',\n  'Party',\n  'Keeps',\n  'allowing',\n  'Illegals',\n  'to',\n  'Kill',\n  'them',\n  '#FamiliesBelongTogetherMarch',\n  '#AmericansFirst',\n  'Not',\n  'Illegals',\n  'Breaking',\n  '#Inmigration',\n  'laws'],\n ['@user',\n  'this',\n  'your',\n  'whore',\n  'you',\n  'going',\n  'to',\n  'marry',\n  'and',\n  'lie',\n  'to',\n  'me',\n  'about',\n  'will',\n  'never',\n  'marry',\n  'women',\n  'who',\n  'show',\n  'body',\n  'to',\n  'public'],\n ['Russian',\n  'immigrant',\n  'seeks',\n  'Democratic',\n  'nomination',\n  'for',\n  'Alaska',\n  '’',\n  's',\n  'U',\n  '.',\n  'S',\n  '.',\n  'House',\n  'seat'],\n ['dawgg',\n  'im',\n  'fr',\n  'boutta',\n  'roast',\n  'this',\n  'bitch',\n  'LMFOAOO',\n  'DONT',\n  'EVER',\n  'POST',\n  'IAN',\n  'AGAIN',\n  'U',\n  'STUPID',\n  'ASS',\n  'SLUT'],\n ['Fox',\n  'News',\n  'host',\n  ':',\n  'Lock',\n  'Clinton',\n  'up',\n  'Get',\n  'this',\n  'CUNT',\n  'Pirro',\n  'off',\n  'the',\n  'air',\n  '.',\n  'She',\n  'is',\n  'a',\n  'woman',\n  'hating',\n  'woman',\n  '.'],\n ['@user',\n  'sorry',\n  'sweetie',\n  ',',\n  'but',\n  'women',\n  'are',\n  'the',\n  'causes',\n  'of',\n  'all',\n  'problems'],\n ['Thousands',\n  'march',\n  'in',\n  '#Munich',\n  'to',\n  'show',\n  'support',\n  'for',\n  'migrants'],\n ['How', 'to', 'Pronounce', 'Whore', 'Eyed', 'Cunt', '↺', 'RT', '❤', '#'],\n ['@user',\n  'bitches',\n  'love',\n  'electric',\n  'toothbrushes',\n  'in',\n  'their',\n  'twats',\n  '...'],\n ['Can',\n  'you',\n  'bitches',\n  'stop',\n  'pulling',\n  'ya',\n  'pants',\n  'up',\n  'above',\n  'your',\n  'belly',\n  'button',\n  ',',\n  'you',\n  'look',\n  'like',\n  'my',\n  'fuckin',\n  'grandfather'],\n ['Last',\n  'week',\n  ',',\n  'Her',\n  'Justice',\n  'staff',\n  'members',\n  'spoke',\n  'about',\n  'immigrant',\n  'detention',\n  ',',\n  'focusing',\n  'on',\n  'the',\n  'inhumane',\n  'treatment',\n  'and',\n  'poor',\n  'conditions',\n  'they',\n  'observed',\n  'volunteering',\n  'at',\n  'South',\n  'Texas',\n  'Family',\n  'Residential',\n  'Center',\n  'in',\n  'Dilley',\n  ',',\n  'TX',\n  'and',\n  'how',\n  'chaotic',\n  'policy',\n  'changes',\n  'continue',\n  'to',\n  'adversely',\n  'affect',\n  'detainees',\n  '.'],\n ['@user',\n  ':',\n  'Vogue',\n  'hijabi',\n  'cover',\n  'star',\n  'on',\n  'growing',\n  'up',\n  'in',\n  'a',\n  '#refugee',\n  'camp',\n  'via',\n  '@user',\n  '#WithRefugees',\n  '#WorldRefugeeDay',\n  '@user',\n  '@user',\n  '@user',\n  '@user'],\n ['*',\n  'Croatia',\n  'ðŸ',\n  '‡',\n  '\\xad',\n  'ðŸ',\n  '‡',\n  '·',\n  ':',\n  'Last',\n  'Wednesday',\n  ',',\n  'illegal',\n  'migrants',\n  'from',\n  'Iran',\n  'were',\n  'detained',\n  'in',\n  'a',\n  'neighborhood',\n  'near',\n  'ZapreÅ',\n  '¡',\n  'iÄ',\n  '‡',\n  '.',\n  '#v4',\n  '#visegrad'],\n ['Paris',\n  'dont',\n  'like',\n  'tentrefugees',\n  '.',\n  'Now',\n  'they',\n  'bring',\n  'them',\n  'to',\n  'the',\n  'parque',\n  '\"',\n  'Bois',\n  'de',\n  'Bologne',\n  '\"',\n  '.',\n  'Close',\n  'of',\n  'this',\n  'place',\n  'life',\n  'the',\n  'most',\n  'rich',\n  'people',\n  'of',\n  'France',\n  'in',\n  'the',\n  'Avenue',\n  'Foch',\n  '.',\n  'The',\n  'rich',\n  'have',\n  'made',\n  'big',\n  'walls',\n  'around',\n  'their',\n  'property',\n  '.'],\n ['Alabama',\n  ':',\n  'Illegals',\n  'Force',\n  '13',\n  '-',\n  'Year-Old',\n  'Girl',\n  'to',\n  'Watch',\n  'Murder',\n  'of',\n  'her',\n  'Grandmother',\n  ',',\n  'Then',\n  'Behead',\n  'Girl',\n  '#IllegalAliens',\n  '#Alabama',\n  '#Animals',\n  '#KAG',\n  '#RollTide',\n  '#WalkAway',\n  '#LockThemAllUp',\n  '#SendThemBack',\n  '#BuildTheWall',\n  '#MAGA',\n  '#Trump',\n  '#Trump2020',\n  '#QResearch',\n  '#PatriotsFight',\n  '#RedPill'],\n ['Like',\n  'if',\n  'you',\n  'didnt',\n  'want',\n  'to',\n  'have',\n  'a',\n  'party',\n  ',',\n  \"don't\",\n  'fucking',\n  'broadcast',\n  'it',\n  '#ThatsTheShitIDontLike',\n  '#WomenSuck'],\n ['@user',\n  'Cameron',\n  'you',\n  'could',\n  'not',\n  'stop',\n  'migration',\n  'in',\n  'ur',\n  'one',\n  'of',\n  'many',\n  'broken',\n  'promises',\n  'y',\n  'do',\n  'we',\n  'need',\n  'to',\n  'stay',\n  'in',\n  'Europe',\n  'to',\n  'rub',\n  'it',\n  'in'],\n ['@user', 'I', 'know', 'you', 'do', ',', 'slut'],\n ['When',\n  'you',\n  'thought',\n  \"you'd\",\n  'try',\n  'a',\n  'little',\n  's',\n  '&',\n  ';',\n  'm',\n  'and',\n  'now',\n  'your',\n  'ass',\n  'hurts',\n  'so',\n  'bad',\n  'you',\n  'can',\n  'hardly',\n  'sit'],\n ['\\u2066',\n  '@RepMcClintock',\n  '\\u2069',\n  'has',\n  'voted',\n  'to',\n  'destroy',\n  'the',\n  '#ACA',\n  'more',\n  'times',\n  'than',\n  'I',\n  'can',\n  'count',\n  '.',\n  'Don',\n  '’',\n  't',\n  'give',\n  'him',\n  'another',\n  'opportunity',\n  '.',\n  'Choose',\n  'to',\n  'support',\n  'healthcare',\n  ',',\n  'science',\n  ',',\n  'immigrant',\n  'rights',\n  ',',\n  'civil',\n  'rights',\n  '&',\n  'social',\n  'justice',\n  '.',\n  'Choose',\n  '\\u2066',\n  '@Morse4America',\n  '\\u2069',\n  '#TeamMorse'],\n ['cocks',\n  'of',\n  'the',\n  'beasts',\n  'we',\n  'keep',\n  '.',\n  'The',\n  'life',\n  'of',\n  'a',\n  'slut',\n  'or',\n  'breeding',\n  'whore',\n  'is',\n  'quite',\n  'exciting',\n  '.',\n  '”'],\n ['Immigrant', 'Health', 'Workers', 'in', 'the', 'UK'],\n [\"That's\",\n  'the',\n  'original',\n  'it',\n  'came',\n  'from',\n  '.',\n  'But',\n  'I',\n  'appreciate',\n  'the',\n  'fact',\n  'that',\n  'you',\n  'think',\n  'I',\n  'would',\n  'follow',\n  'or',\n  'steal',\n  'from',\n  'u',\n  '.',\n  'Sit',\n  'down'],\n ['Illegal',\n  'immigration',\n  'drives',\n  'up',\n  'real',\n  'estate',\n  'prices',\n  ',',\n  'widens',\n  'wealth-gaps',\n  ',',\n  'reduces',\n  'high-tech',\n  'investment',\n  ',',\n  'increases',\n  'state',\n  'and',\n  'local',\n  'tax',\n  'burdens',\n  ',',\n  'hurts',\n  'kids',\n  '’',\n  'schools',\n  'and',\n  'college',\n  'education',\n  ',',\n  'pushes',\n  'Americans',\n  'away',\n  'from',\n  'high-tech',\n  'jobs'],\n ['@user',\n  'Some',\n  'women',\n  'are',\n  'aggressive',\n  ',',\n  'promiscuous',\n  'whores',\n  ',',\n  'but',\n  'all',\n  'women',\n  'must',\n  'try',\n  'harder',\n  'not',\n  'to',\n  'make',\n  'men',\n  'feel',\n  'uncomf',\n  '…'],\n ['Totally',\n  'out',\n  'of',\n  'control',\n  '.',\n  'These',\n  'people',\n  '@user',\n  '@user',\n  '@user',\n  '@user',\n  'need',\n  'to',\n  'be',\n  'reigned',\n  'in',\n  '.',\n  'Hotel',\n  'rooms',\n  'for',\n  'opportunist',\n  'migrants',\n  ',',\n  'millions',\n  'being',\n  'spent',\n  'trying',\n  'to',\n  'stuff',\n  'the',\n  'genie',\n  'back',\n  'in',\n  'the',\n  'bottle',\n  ',',\n  'no',\n  'end',\n  'or',\n  'strategy',\n  'in',\n  'sight',\n  '.'],\n ['@user',\n  'Wake',\n  'Up',\n  '&',\n  'Prepare',\n  'to',\n  'Stop',\n  'the',\n  'Evil',\n  'Dead',\n  'in',\n  \"it's\",\n  'Tracks',\n  '!',\n  '#SendThemBack',\n  '#DeportTheUndesirables',\n  '#KickOutTheLyers',\n  '#SaveTheWorldUnderTheOneTrueGod'],\n ['Please',\n  'rape',\n  'my',\n  'slut',\n  'cunt',\n  'and',\n  'fill',\n  'it',\n  'up',\n  'to',\n  'the',\n  'brim',\n  'with',\n  'thick',\n  ',',\n  'hot',\n  'cum'],\n ['As',\n  'long',\n  'as',\n  'the',\n  'position',\n  'is',\n  'on',\n  'all',\n  'fours',\n  'who',\n  'cares'],\n ['@user',\n  'well',\n  'stfu',\n  'then',\n  'BITCH',\n  'you',\n  'coming',\n  'to',\n  'some',\n  'yeen',\n  'got',\n  'NO',\n  'BUSINESS',\n  'being',\n  'in',\n  '.',\n  'You',\n  'need',\n  'to',\n  'mind',\n  'the',\n  'business',\n  'that',\n  'pays',\n  'you',\n  'hoe'],\n ['When', 'the', 'pizza', 'man', 'is', 'more', 'than', 'a', 'minute', 'late'],\n ['LIBYA',\n  'TELLS',\n  'ITALY',\n  ':',\n  '\"',\n  'We',\n  \"don't\",\n  'care',\n  'how',\n  'much',\n  'you',\n  'pay',\n  'us',\n  ',',\n  'we',\n  \"don't\",\n  'want',\n  'to',\n  'take',\n  'back',\n  'the',\n  'migrant',\n  'wannabes',\n  'that',\n  'you',\n  'reject',\n  'because',\n  '“',\n  'they',\n  'include',\n  'terrorists',\n  ',',\n  'criminals',\n  ',',\n  'and',\n  'human',\n  'traffickers',\n  '\"',\n  'via',\n  '@user'],\n ['You',\n  'ever',\n  'be',\n  'talkin',\n  'to',\n  'someone',\n  'that',\n  'you',\n  'really',\n  'wanna',\n  'fuck',\n  ',',\n  'then',\n  'they',\n  'say',\n  'one',\n  'thing',\n  'and',\n  'all',\n  'of',\n  'the',\n  'sudden',\n  'you',\n  'have',\n  'no',\n  'desire',\n  'to',\n  'fuck',\n  'at',\n  'all',\n  '?'],\n ['500,000',\n  'angry',\n  'Democrat',\n  'women',\n  'swarm',\n  'Hollywood',\n  'to',\n  'protest',\n  'rampant',\n  'rape',\n  ',',\n  'misogyny',\n  'and',\n  'sexism',\n  'Oh',\n  ',',\n  'wait',\n  '...',\n  'Ne',\n  '…'],\n ['Number',\n  'of',\n  'illegal',\n  'migrants',\n  'in',\n  'Ukraine',\n  'grows',\n  'by',\n  '22',\n  '%'],\n ['@user',\n  'I',\n  'get',\n  'suspended',\n  'at',\n  'least',\n  'every',\n  'other',\n  'day',\n  '.',\n  'But',\n  'you',\n  'still',\n  'see',\n  'that',\n  'skank',\n  'whore',\n  'Chelsea',\n  'Handler',\n  'still',\n  'tweeting',\n  'away',\n  '.'],\n ['RT',\n  '@user',\n  'Her',\n  ':',\n  'I',\n  \"don't\",\n  'get',\n  'what',\n  'u',\n  'want',\n  'outta',\n  'this',\n  'relationship',\n  'Him',\n  ':',\n  'Well',\n  ',',\n  'I',\n  'was',\n  'only',\n  'looking',\n  'for',\n  'a',\n  'bj',\n  'but',\n  'u',\n  'kept',\n  'coming',\n  'back'],\n ['Imagine',\n  'when',\n  'all',\n  'the',\n  'EU',\n  'migrants',\n  'go',\n  'home',\n  'after',\n  '#Brexit',\n  '.',\n  'No',\n  'more',\n  'baguettes',\n  'or',\n  'pizza',\n  '.',\n  'People',\n  'in',\n  'the',\n  'UK',\n  'will',\n  'be',\n  'reduced',\n  'to',\n  'just',\n  'eating',\n  'traditional',\n  'UK',\n  'foods',\n  '.',\n  'Like',\n  'chicken',\n  'Balti',\n  '.'],\n ['An',\n  'undercount',\n  'would',\n  'allow',\n  'the',\n  'federal',\n  'government',\n  'to',\n  'direct',\n  'resources',\n  'away',\n  'from',\n  'California',\n  ',',\n  'which',\n  'has',\n  'the',\n  'largest',\n  '#immigrant',\n  'population',\n  'in',\n  'the',\n  'country',\n  '.',\n  '#Census',\n  'takers',\n  'could',\n  'miss',\n  'counting',\n  'millions',\n  'of',\n  '#Californians',\n  ',',\n  'researchers',\n  'say'],\n ['Nikki',\n  'Haley',\n  ':',\n  'UN',\n  'can',\n  '’',\n  't',\n  \"'\",\n  'dictate',\n  \"'\",\n  'US',\n  'immigration',\n  'policy'],\n ['I',\n  'cannot',\n  'stand',\n  'girls',\n  'that',\n  'ALWAYS',\n  'have',\n  'to',\n  'have',\n  'a',\n  'boyfriend',\n  '.',\n  '#AttentionWhores',\n  '#WomenSuck'],\n ['@user', 'Why', 'you', 'getting', 'so', 'hysterical', '.'],\n ['THIS',\n  'WOMEN',\n  'CAN',\n  'DO',\n  'ONLY',\n  'ONE',\n  'THINK',\n  ',',\n  'BACK',\n  'INTO',\n  'HER',\n  'RAT',\n  '🐀',\n  'HOLE',\n  'NEVER',\n  'TO',\n  'COME',\n  'OUT',\n  'AGAIN',\n  '🐀',\n  'IF',\n  'SHE',\n  'SHOW',\n  'UP',\n  'ON',\n  'SURFACE',\n  'AM',\n  'CALL',\n  '…'],\n ['#ACTNOW',\n  '!',\n  '#USA',\n  '#EB5',\n  '#EB5Visa',\n  '#Immigrant',\n  '#Foreign',\n  '#Investor',\n  '#Visa',\n  'Program',\n  'Laws',\n  'ARE',\n  'Changing',\n  '!',\n  '$',\n  '500k',\n  '#Investment',\n  '.',\n  'Payment',\n  'plans',\n  'available',\n  '.',\n  'Use',\n  '#bitcoin',\n  '#ether',\n  '#cryptocurrency',\n  '.',\n  'Become',\n  'a',\n  'US',\n  'Citizen',\n  '!',\n  'Visit',\n  'us',\n  'at',\n  'Contact',\n  'us',\n  'TODAY',\n  'at',\n  'gbibuildingco@outlook.com',\n  '.',\n  'RT'],\n ['The',\n  'Latest',\n  ':',\n  'Spanish',\n  'PM',\n  'lets',\n  'migrant',\n  'boat',\n  'dock',\n  'at',\n  'Valencia',\n  'You',\n  'idiots',\n  'are',\n  'killing',\n  'Spain',\n  'with',\n  'islamists',\n  '...'],\n ['Afghan',\n  'and',\n  'Pakistani',\n  'migrants',\n  'were',\n  'shot',\n  'at',\n  'as',\n  'they',\n  'tried',\n  'to',\n  'invade',\n  'Hungary',\n  '-',\n  'Free',\n  'Speech',\n  'Time',\n  '-',\n  '@user'],\n ['@user',\n  'shut',\n  'the',\n  'fuck',\n  'up',\n  'hes',\n  'not',\n  'gonna',\n  'dick',\n  'you',\n  'was',\n  'gonna',\n  'send',\n  'u',\n  'this',\n  'dope',\n  'steroline',\n  'edit',\n  'but',\n  'u',\n  'can',\n  'go',\n  'cry',\n  'to',\n  'olly'],\n ['you',\n  'low',\n  'life',\n  'scum',\n  ',',\n  'pathetic',\n  ',',\n  'deprave',\n  ',',\n  'pile',\n  'of',\n  'shit',\n  ',',\n  'maggots',\n  '.',\n  'like',\n  'i',\n  'said',\n  'that',\n  'brainless',\n  'skank',\n  'bitch',\n  \"should've\",\n  'died',\n  '…'],\n ['@user', '@user', 'bitch', 'we', 'r', 'now', 'TxF', 'sluts'],\n ['@user',\n  'At',\n  'the',\n  'very',\n  'least',\n  'Ryan',\n  'and',\n  'McConnell',\n  'need',\n  'to',\n  'force',\n  'the',\n  'dems',\n  'to',\n  'vote',\n  'against',\n  'the',\n  'wall',\n  '.'],\n ['Russia',\n  'Liquidates',\n  'Its',\n  'US',\n  'Treasury',\n  'Holdings',\n  '|',\n  'Zero',\n  'Hedge',\n  'No',\n  'surprise',\n  'here',\n  '...'],\n ['#FactCheck',\n  'wow',\n  '#FactsMatter',\n  '#VoteDemsOut',\n  '#RedWaveRising2018',\n  '#StopTheInvasion',\n  '#BuildTheWall',\n  '#DeportThemAll',\n  '#EndSanctuaryCities',\n  '#TakeAmericaBack',\n  '#WalkAwayMovementGrowing',\n  '#MAGA'],\n ['@user',\n  '@user',\n  '@user',\n  'THIS',\n  'CANNOT',\n  'BE',\n  'ALLOWED',\n  'TO',\n  'HAPPEN---CHILD',\n  'KIDNAPPER',\n  'AND',\n  'MOLESTER',\n  'MILLER',\n  'NEEDS',\n  'TO',\n  'BE',\n  'GONE',\n  '!'],\n ['@user',\n  'IDS',\n  'the',\n  'man',\n  'who',\n  'smirks',\n  'at',\n  'his',\n  'own',\n  'policies',\n  'and',\n  'implications',\n  'on',\n  'his',\n  'own',\n  'people',\n  'y',\n  'wont',\n  'he',\n  'admit',\n  'its',\n  'migration',\n  'that',\n  'fuels',\n  'this'],\n ['UN',\n  'seeks',\n  'new',\n  'funding',\n  'pledges',\n  'for',\n  'Palestinian',\n  'refugees',\n  '...'],\n ['@user',\n  'Total',\n  'lie',\n  '.',\n  'CONG',\n  'is',\n  'the',\n  'main',\n  'culprit',\n  'for',\n  'influx',\n  'of',\n  'illegal',\n  'migrants',\n  'both',\n  'Bangladeshis',\n  '&',\n  'Rhongyias',\n  '.',\n  'If',\n  'they',\n  'deported',\n  'few',\n  ',',\n  'millions',\n  'came',\n  'during',\n  'their',\n  'tenures',\n  '&',\n  'they',\n  'encouraged',\n  'Muslim',\n  'illegal',\n  'migrants',\n  '&',\n  'shooed',\n  'away',\n  'Hindu',\n  'migrants'],\n ['Sigh', '...'],\n ['Immigration', 'Will', 'Not', 'Make', 'America', 'Great', 'Again'],\n ['Obama',\n  ',',\n  'our',\n  'SMALLEST',\n  'president',\n  '.',\n  'Must',\n  'take',\n  'credit',\n  'for',\n  'all',\n  'good',\n  ';',\n  'disavows',\n  'all',\n  'that',\n  'was',\n  'bad',\n  'during',\n  'his',\n  '8',\n  'year',\n  'assault',\n  'on',\n  'our',\n  'great',\n  'country',\n  '.',\n  '#MAGA',\n  '#KAG',\n  '#POTUS',\n  '#Trump',\n  '#NEWS',\n  '#VoteRed',\n  '#NoDACA',\n  '#WalkAway',\n  '#AmericaFirst',\n  '#USA',\n  '#BackTheBlue',\n  '#AllLivesMatter',\n  '#LiberalismIsAMentalDisorder',\n  '#NRA'],\n ['@user',\n  'This',\n  'trashy',\n  'whore',\n  'gold',\n  'digger',\n  'at',\n  'again',\n  'trying',\n  'be',\n  'something',\n  'that',\n  'makes',\n  'her',\n  'think',\n  'shes',\n  'good',\n  'ughhh',\n  'not',\n  'happening',\n  'hoe',\n  'bag',\n  'pos'],\n ['When',\n  'his',\n  'dick',\n  'game',\n  'is',\n  'garbage',\n  'but',\n  'his',\n  'mouth',\n  'game',\n  'is',\n  'fire',\n  'AF'],\n ['“',\n  'The',\n  'verification',\n  'will',\n  'play',\n  'a',\n  'key',\n  'role',\n  'in',\n  'establishing',\n  'refugees',\n  '’',\n  'identities',\n  'and',\n  'their',\n  'declared',\n  'places',\n  'of',\n  'origin',\n  'in',\n  'Myanmar',\n  '.',\n  'It',\n  'will',\n  'help',\n  'to',\n  'preserve',\n  'their',\n  'right',\n  'to',\n  'voluntarily',\n  'return',\n  'home',\n  ',',\n  'if',\n  'and',\n  'when',\n  'they',\n  'decide',\n  'that',\n  'the',\n  'conditions',\n  'are',\n  'right',\n  'to',\n  'do',\n  'so',\n  '.',\n  '”'],\n ['I',\n  'recently',\n  'read',\n  'a',\n  'book',\n  'with',\n  'a',\n  'passage',\n  'between',\n  'a',\n  'woman',\n  'and',\n  'a',\n  'powerful',\n  'man',\n  '.',\n  'I',\n  'had',\n  'to',\n  'ask',\n  'author',\n  'if',\n  'it',\n  'was',\n  'rape',\n  'or',\n  'nah',\n  '.',\n  \"That's\",\n  'how',\n  'blurry',\n  'it',\n  'is'],\n ['#Rohingya',\n  'refugees',\n  'move',\n  'to',\n  'higher',\n  'ground',\n  'to',\n  'avert',\n  'loss',\n  'of',\n  'lives',\n  'in',\n  'the',\n  'upcoming',\n  'monsoon',\n  'season',\n  '#ucanews',\n  '#voiceforthevoiceless',\n  '#refugee',\n  '#Bangladesh',\n  '@user',\n  '@user',\n  '@user',\n  '@user',\n  '@user'],\n ['Tesla',\n  'Driving',\n  'Russian',\n  'Immigrant',\n  'Running',\n  'As',\n  'A',\n  'Democrat',\n  'For',\n  'US',\n  'House',\n  'Seat',\n  'In',\n  'Alaska'],\n ['Never',\n  'try',\n  'to',\n  'Holla',\n  'at',\n  'women',\n  'who',\n  'dissed',\n  'you',\n  'in',\n  'his',\n  'school',\n  'I',\n  'got',\n  'called',\n  'misogynistic',\n  'egotistical',\n  'whore',\n  'monger',\n  'damn',\n  'bitch',\n  'OK',\n  'have',\n  'a',\n  'nice',\n  'day',\n  '😂'],\n ['HIV-positive',\n  'shelter',\n  'worker',\n  'in',\n  'Mesa',\n  'sexually',\n  'abused',\n  '8',\n  'immigrant',\n  'boys',\n  ',',\n  'authorities',\n  'say'],\n ['#TeenWolf',\n  '#menstruafacts',\n  'Question',\n  'of',\n  'the',\n  'Day',\n  ':',\n  'When',\n  'does',\n  'a',\n  '#feminist',\n  'forget',\n  'feminism',\n  '?',\n  'Answer',\n  ':',\n  'When',\n  'the',\n  'restaurant',\n  'check',\n  'hits',\n  'the',\n  'table',\n  '.'],\n ['\"',\n  'The',\n  \"church's\",\n  'position',\n  'on',\n  'immigration',\n  'will',\n  'define',\n  'its',\n  'witness',\n  'to',\n  'a',\n  'hurt',\n  'and',\n  'broken',\n  'world',\n  '.',\n  '\"',\n  '-',\n  'Welcoming',\n  'the',\n  'Stranger',\n  '.',\n  'This',\n  'updated',\n  'book',\n  'is',\n  'written',\n  'by',\n  'World',\n  \"Relief's\",\n  'Matthew',\n  'Soerens',\n  'and',\n  'Jenny',\n  'Yang',\n  '.',\n  'Find',\n  'your',\n  'copy',\n  'today',\n  '!'],\n ['@user',\n  '@user',\n  'Grant',\n  'you',\n  'the',\n  'first',\n  'point',\n  ',',\n  'but',\n  'it',\n  'was',\n  'a',\n  'joke',\n  'more',\n  'than',\n  'an',\n  'insult.About',\n  'the',\n  'second',\n  'point',\n  'though',\n  ',',\n  'calling',\n  'an',\n  'hysterical',\n  'person',\n  'hysterical',\n  \"doesn't\",\n  'set',\n  'anyone',\n  'back',\n  '.',\n  'There',\n  'are',\n  'hysterical',\n  'women',\n  '(',\n  'and',\n  'men',\n  ')',\n  ',',\n  'bitches',\n  'and',\n  'douchebags',\n  ',',\n  'ass'],\n ['No',\n  'your',\n  'not',\n  '!',\n  'You',\n  'are',\n  'scroungers',\n  '/',\n  'soldiers',\n  'coming',\n  'to',\n  'create',\n  'a',\n  'caliphate',\n  'or',\n  'create',\n  'chaos',\n  '.',\n  'Go',\n  'home',\n  ',',\n  'look',\n  'after',\n  'your',\n  'girlfriends',\n  '/',\n  'wives',\n  '/',\n  'kids',\n  '.',\n  'All',\n  'fighting',\n  'age',\n  '.',\n  'The',\n  'last',\n  'thing',\n  'you',\n  'are',\n  ',',\n  'are',\n  'refugees',\n  '!',\n  'Bugger',\n  'off',\n  '!',\n  'Bye',\n  ',',\n  'bey',\n  ',',\n  'cheers',\n  '...'],\n ['#act4_southernsyria',\n  'Apparently',\n  'secret',\n  'meeting',\n  'this',\n  'week',\n  'bet',\n  '#angelamerkel',\n  '@user',\n  '&',\n  'Russia',\n  'fm',\n  'Lavrov',\n  '&',\n  'headRussian',\n  'army',\n  '-',\n  '#Europe',\n  'will',\n  'come',\n  'in',\n  '&',\n  'help',\n  'rebuild',\n  '#Syria',\n  ',',\n  'which',\n  'Russia',\n  'wants',\n  '-',\n  'sothat',\n  'what',\n  'Europe',\n  'wants',\n  'most',\n  'can',\n  'materialize',\n  '‘',\n  '“',\n  'returnof',\n  '#refugees',\n  '-',\n  'German',\n  'journo',\n  '#datelinelondon'],\n ['Make',\n  'Canada',\n  'like',\n  'Hungary',\n  'Again',\n  ':P',\n  'rime',\n  'Minster',\n  'Viktor',\n  'OrbÃ',\n  '¡',\n  'n',\n  'has',\n  'vowed',\n  'to',\n  'not',\n  'allow',\n  'his',\n  'CHRISTIAN',\n  'country',\n  'to',\n  'be',\n  'changed',\n  'by',\n  'incompatible',\n  'Jihadi',\n  'Invaders',\n  '.',\n  'OrbÃ',\n  '¡',\n  'n',\n  ',',\n  'has',\n  'warned',\n  ':',\n  '“',\n  'Europe',\n  'is',\n  'under',\n  'invasion',\n  ',',\n  'countries',\n  'that',\n  'don',\n  '’',\n  't',\n  'stop',\n  'immigration',\n  'will',\n  'be',\n  'lost',\n  '”'],\n ['I',\n  'am',\n  'an',\n  'immigrant',\n  '.',\n  'I',\n  'live',\n  'with',\n  'my',\n  'child',\n  '.',\n  'I',\n  'am',\n  'a',\n  '29',\n  'year',\n  'old',\n  'female',\n  '.',\n  'I',\n  'earned',\n  '$',\n  '13,000',\n  'last',\n  'year',\n  '.',\n  'I',\n  'work',\n  '40',\n  'hours',\n  'per',\n  'week',\n  '.',\n  'I',\n  'have',\n  'a',\n  \"Bachelor's\",\n  'degree',\n  'in',\n  'accounting',\n  '.',\n  'I',\n  'live',\n  'in',\n  'MI',\n  \"cc'Rep\",\n  '.',\n  'John',\n  'Moolenaar',\n  '.',\n  '#ImmigrantsAreUS'],\n ['Africans',\n  'having',\n  'their',\n  'say',\n  'about',\n  'Blacks',\n  'in',\n  'Europe',\n  ',',\n  'and',\n  'Europeans',\n  'in',\n  'Africa',\n  ',',\n  'at',\n  'the',\n  '#LandExpropriationHearings',\n  ',',\n  'currently',\n  'underway',\n  'in',\n  '#SouthAfrica',\n  '.',\n  '#SendThemBack'],\n ['Dems',\n  'suggest',\n  'Kavanaugh',\n  'should',\n  'NOT',\n  'be',\n  'considered',\n  'for',\n  'SCOTUS',\n  'b',\n  '/',\n  'c',\n  '#Trump',\n  'is',\n  'under',\n  'investigation',\n  '!',\n  'NEVER',\n  'MIND',\n  'that',\n  'said',\n  'investigation',\n  'is',\n  'a',\n  'TRUMPed-up',\n  'phony',\n  'witch-hunt',\n  'begun',\n  'by',\n  'Dems',\n  'in',\n  'the',\n  '1st',\n  'place',\n  '#POTUS',\n  '#MAGA',\n  '#DrainTheSwamp',\n  '#VoteRed',\n  '#NEWS',\n  '#NoDACA',\n  '#KAG',\n  '#GetOutTheVote',\n  '#BuildTheWall'],\n ['He',\n  'is',\n  'in',\n  'and',\n  'out',\n  'of',\n  'jail',\n  '.',\n  \"He's\",\n  'a',\n  'bum',\n  ',',\n  'he',\n  'a',\n  'pussy',\n  'bitch',\n  '!',\n  'He',\n  'just',\n  \"ain't\",\n  'shit',\n  '!',\n  'I',\n  'pray',\n  'his',\n  'next',\n  'child',\n  'he',\n  'do',\n  'wayyyyy',\n  'better',\n  'with',\n  'fr',\n  '.'],\n ['U',\n  'dont',\n  'so',\n  'why',\n  'tweet',\n  'it',\n  '😂',\n  '😂',\n  'the',\n  'only',\n  'bitch',\n  'u',\n  'talk',\n  'to',\n  'is',\n  'HELLLO',\n  'ME',\n  'TF',\n  'WHORE',\n  '🙄',\n  '😂'],\n ['The',\n  'relocationprogramm',\n  'of',\n  'the',\n  'EU',\n  'doesnt',\n  'work',\n  '.',\n  'The',\n  'refugees',\n  'dont',\n  'want',\n  'to',\n  'go',\n  'to',\n  'countries',\n  'without',\n  'a',\n  'comfortabel',\n  'socialsystem',\n  '.'],\n ['Illegal',\n  'immigrant',\n  'who',\n  'killed',\n  'Kate',\n  'Steinle',\n  'likely',\n  'will',\n  'be',\n  'sentenced',\n  'to',\n  'time',\n  'served',\n  '#PreventableDeath',\n  '#BuildTheWall',\n  '#StopTheInvasion',\n  '#TherIsMoreOfThemOutThere'],\n ['I',\n  '’',\n  've',\n  'never',\n  'understood',\n  'why',\n  'people',\n  'stand',\n  'and',\n  'wait',\n  'on',\n  'they',\n  'food',\n  'at',\n  'Tolly',\n  'Ho',\n  '...',\n  'you',\n  'a',\n  'good',\n  'one'],\n ['Friend',\n  '-',\n  'how',\n  'are',\n  'you',\n  'so',\n  'carefree',\n  'living',\n  'a',\n  'life',\n  'of',\n  'drinking',\n  ',',\n  'drugs',\n  'and',\n  'unprotected',\n  'sex',\n  'with',\n  'complete',\n  'strangers',\n  '?',\n  'Me',\n  '-'],\n ['Most',\n  'people',\n  'and',\n  'including',\n  'me',\n  'have',\n  'no',\n  'problem',\n  'with',\n  'immigration',\n  'it',\n  'the',\n  'illegal',\n  'immigrant',\n  'that',\n  'we',\n  'think',\n  'should',\n  'be',\n  'stopped',\n  'and',\n  'deported',\n  '.',\n  'There',\n  'is',\n  'a',\n  'different',\n  'between',\n  'a',\n  'legal',\n  'and',\n  'illegal',\n  'immigrants',\n  '.'],\n ['Virginia',\n  'governor',\n  'calls',\n  'for',\n  'probe',\n  'into',\n  'abuse',\n  'allegations',\n  'at',\n  'facility',\n  'that',\n  'holds',\n  'immigrant',\n  'teens'],\n ['When',\n  'you',\n  'and',\n  'your',\n  'girlfriend',\n  'are',\n  'so',\n  'close',\n  'that',\n  \"you're\",\n  'best',\n  'friends',\n  '..',\n  'So',\n  'much',\n  'so',\n  'that',\n  'you',\n  'just',\n  'wanna',\n  'tell',\n  'her',\n  'about',\n  'the',\n  'other',\n  'girls',\n  'ur',\n  'fuckin'],\n ['RT',\n  '@user',\n  \"It's\",\n  'not',\n  'her',\n  'fault',\n  'that',\n  'your',\n  'dick',\n  'is',\n  'extra',\n  'special',\n  '.',\n  'It',\n  'makes',\n  'people',\n  'daydream',\n  'ya',\n  'know',\n  '?',\n  'xp'],\n ['you', 'stupid', 'fucking', 'whore', 'mom'],\n ['allies',\n  '10',\n  'year',\n  'old',\n  'brother',\n  'is',\n  'calling',\n  'me',\n  'a',\n  'cunt',\n  'and',\n  'a',\n  'bitch',\n  'bc',\n  'I',\n  'asked',\n  'him',\n  'a',\n  'question',\n  '💀'],\n ['@user',\n  'Fucking',\n  'cunt',\n  'bitch',\n  'has',\n  'learned',\n  'nothing',\n  'from',\n  'the',\n  'election'],\n ['Illegal',\n  'Alien',\n  'Awaiting',\n  'Deportation',\n  'For',\n  'Child',\n  'Rape',\n  ',',\n  'Now',\n  'Caught',\n  'Producing',\n  'Child',\n  'Porn'],\n ['The',\n  '#commonweath',\n  'of',\n  'VA',\n  'welcomes',\n  'all',\n  'immigrants',\n  'to',\n  'its',\n  'benefit',\n  'and',\n  'theirs',\n  '@user'],\n ['Denmark',\n  'has',\n  'cut',\n  'welfare',\n  'benefits',\n  'for',\n  'migrants',\n  '-',\n  '\"',\n  \"We'll\",\n  'move',\n  'to',\n  'Finland',\n  '\"',\n  'They',\n  'threaten',\n  '\"',\n  'Finland',\n  'will',\n  'treat',\n  'us',\n  'better',\n  '\"',\n  '-',\n  'Free',\n  'Speech',\n  'Time',\n  '-',\n  '@user'],\n ['@user',\n  'o',\n  'right',\n  'settle',\n  'down',\n  '75',\n  'm',\n  'turks',\n  'could',\n  'invade',\n  'Europe',\n  'no',\n  'more',\n  'kebabs',\n  ',',\n  'Cameron',\n  'ur',\n  'immigration',\n  'policy',\n  'as',\n  'a',\n  'nappy',\n  'for',\n  'constipated',\n  'people'],\n ['@user', 'No', 'bitch', 'you', 'a', 'hoe'],\n ['Shoutout',\n  'to',\n  'everyone',\n  'accidentally',\n  'blowing',\n  'fingers',\n  'off',\n  'on',\n  'video',\n  'today',\n  'so',\n  'we',\n  'can',\n  'all',\n  'have',\n  'a',\n  'good',\n  'laugh',\n  'tomorrow',\n  '...',\n  \"Y'all\",\n  'patriotic',\n  'AF'],\n ['Women',\n  'in',\n  'their',\n  '30',\n  \"'\",\n  's',\n  'on',\n  'vacation',\n  'will',\n  'literally',\n  'fuck',\n  'anything'],\n ['@user',\n  '@user',\n  '#AtlantaHitRockBottoms',\n  'This',\n  'FOOL',\n  'is',\n  'promoting',\n  'lawlessness',\n  'from',\n  'illegals',\n  'and',\n  'wants',\n  'to',\n  'turn',\n  'ATL',\n  'into',\n  'a',\n  '3rd',\n  'world',\n  'city',\n  'like',\n  'Chicago',\n  'and',\n  'LA',\n  '.',\n  'We',\n  'are',\n  'better',\n  'than',\n  'this',\n  'brainless',\n  'idiot',\n  '!',\n  '#ImpeachBottoms',\n  '#BuildThatWall'],\n ['Her', '-', 'can', 'I', 'stay', 'the', 'night', '?', 'Me', '-'],\n ['Watch',\n  ':',\n  \"Merkel's\",\n  'Germany',\n  'is',\n  'starting',\n  'to',\n  'look',\n  'like',\n  'Syria',\n  '-',\n  'immigrants',\n  'set',\n  'cars',\n  'on',\n  'fire',\n  '\"',\n  'just',\n  'for',\n  'fun',\n  '\"',\n  '-',\n  'Free',\n  'Speech',\n  'Time',\n  '-',\n  '@user'],\n [\"I'd\",\n  'say',\n  'electrify',\n  'the',\n  'water',\n  'but',\n  'that',\n  'would',\n  'kill',\n  'wildlife',\n  '.',\n  '#SendThemBack'],\n ['@user',\n  'The',\n  'Politics',\n  'of',\n  'hard',\n  'done',\n  'Asylum',\n  'seekers',\n  'and',\n  'designer',\n  'Immigration',\n  'policies',\n  'to',\n  'help',\n  'them',\n  'into',\n  'Housing',\n  'and',\n  'NHS',\n  'and',\n  'other',\n  'resources',\n  'that',\n  'can',\n  'not',\n  'be',\n  'accessed',\n  'by',\n  'ordinary',\n  'Uk',\n  'Public',\n  'all',\n  'you',\n  'do',\n  'go',\n  'on',\n  'hunger',\n  'strike',\n  'or',\n  'buy',\n  'a',\n  'Budgie',\n  'get',\n  'some',\n  'publicity',\n  'whi'],\n ['Disgusting',\n  ',',\n  'and',\n  'bitch',\n  'you',\n  'are',\n  'NO',\n  'ROCK',\n  'STAR',\n  '!',\n  '!',\n  'YOU',\n  'are',\n  'a',\n  'no',\n  'class',\n  'skank',\n  '🤡',\n  '😱',\n  '🐍',\n  '🙈',\n  '🙉',\n  '🙊',\n  '👁'],\n ['To',\n  'use',\n  'rape',\n  'as',\n  'a',\n  'weapon',\n  'towards',\n  'women',\n  'are',\n  'far',\n  'worse',\n  'than',\n  'using',\n  'a',\n  'bullet',\n  '.',\n  'Only',\n  'other',\n  'men',\n  'can',\n  'help',\n  'the',\n  'women',\n  'in',\n  'Burma',\n  '.',\n  'Stand',\n  'up',\n  'for',\n  'the',\n  'women'],\n [\"Trump's\",\n  'border',\n  'wall',\n  ',',\n  'immigration',\n  'plans',\n  're-emerge',\n  'at',\n  'top',\n  'of',\n  'national',\n  'debate',\n  '#StopTheInvasion'],\n ['@user',\n  '#NoDACA',\n  '#TuesdayThoughtsObama',\n  'Used',\n  'Dreamer',\n  'Illegal',\n  'AliensTo',\n  'Defraud',\n  'The',\n  'American',\n  'Dream',\n  '#NoDACAdeal',\n  '#AmericaFirst',\n  'Clint',\n  'Eastwood',\n  'was',\n  'mocked',\n  'forhis',\n  '2012',\n  'RNC',\n  'speech',\n  ',',\n  'yet',\n  'the',\n  'new',\n  '#ObamaPainting',\n  'confirms',\n  'ObamaIS',\n  'nothing',\n  'but',\n  'an',\n  'empty',\n  'chair.CLINT'],\n ['@user', 'Protect', 'undocumented', 'immigrants', '?', '?', '?'],\n ['President',\n  'Trump',\n  'Weekly',\n  'Address',\n  '‘',\n  '“',\n  'Immigration',\n  'ReformÂ',\n  'Needed',\n  '‘',\n  '¦'],\n ['How',\n  'retarded',\n  'must',\n  'you',\n  'be',\n  'to',\n  'have',\n  'a',\n  'skank',\n  'shave',\n  'your',\n  'legs',\n  '🤦',\n  '🏻',\n  '\\u200d',\n  '♀',\n  '️',\n  '#jeremykyle'],\n ['Pope', 'to', 'explore', 'links', 'between', 'poverty', 'and', 'migration'],\n ['The',\n  'United',\n  'States',\n  'is',\n  'a',\n  'country',\n  'founded',\n  'by',\n  'immigrants',\n  'and',\n  'dependent',\n  'for',\n  'its',\n  'success',\n  'on',\n  '#immigration',\n  '.'],\n ['@user',\n  'Not',\n  'all',\n  'men',\n  'youre',\n  'right',\n  'Doyoung',\n  'wouldnt',\n  'treat',\n  'me',\n  'like',\n  'this',\n  '!',\n  '!',\n  '!'],\n ['Well',\n  ',',\n  'I',\n  'guess',\n  'Booker',\n  'won',\n  'the',\n  '\"',\n  'most',\n  'hysterical',\n  'woman',\n  '\"',\n  'award',\n  'today',\n  '!',\n  '!',\n  '!',\n  '!',\n  '!'],\n ['Left-wing',\n  'Spanish',\n  'Government',\n  'deny',\n  \"'\",\n  'mass',\n  \"'\",\n  'migration',\n  ':',\n  \"'\",\n  'Europe',\n  'needs',\n  'new',\n  'blood',\n  \"'\"],\n ['@user',\n  'Hillary',\n  'Clinton',\n  'does',\n  'give',\n  'a',\n  'shit',\n  'about',\n  'women',\n  \"that's\",\n  'why',\n  'she',\n  'lied',\n  'again',\n  'she',\n  'is',\n  'now',\n  'keeping',\n  'all',\n  'the',\n  'Harvey',\n  'Weinstein',\n  'money',\n  'GREEDY',\n  'BITCH'],\n ['@user',\n  '@user',\n  '@user',\n  'Immigration',\n  'in',\n  'a',\n  'picturehttps',\n  ':/',\n  '/',\n  't.co/bNRq7N7Oj3'],\n ['Working',\n  'on',\n  '#memories',\n  '#immigrant',\n  '#lives',\n  '#newyork',\n  '#theworld',\n  '@',\n  'New',\n  'York',\n  ',',\n  'New',\n  'York'],\n ['RT',\n  '@user',\n  'After',\n  'three',\n  'years',\n  'of',\n  'separation',\n  ',',\n  'a',\n  'young',\n  'Syrian',\n  'refugee',\n  'hugs',\n  'his',\n  'mother',\n  'in',\n  'Germany',\n  '.',\n  'The',\n  'picture',\n  'says',\n  'it',\n  'all',\n  '.',\n  '#familyreunification'],\n ['@user',\n  '@user',\n  '@user',\n  'That',\n  '’',\n  's',\n  'RIGHT',\n  'you',\n  'The',\n  'MAN',\n  '#FavoritePresident',\n  '#BuildTheWall',\n  '#StopTheInvasion',\n  '#AmericansFirst',\n  'One',\n  'Flag',\n  'One',\n  'Country',\n  'ðŸ',\n  '‡',\n  'ºðŸ',\n  '‡',\n  '¸'],\n ['@user',\n  '#BuildThatWall',\n  'end',\n  '#chainmigration',\n  'replace',\n  '#ImmigrationLottery'],\n ['@user',\n  'Whore',\n  '?',\n  'Really',\n  '?',\n  'Why',\n  \"don't\",\n  'you',\n  'have',\n  'some',\n  'respect',\n  'for',\n  'women',\n  'you',\n  'asshole',\n  '!'],\n [\"'\",\n  'Lawless',\n  'Area',\n  \"'\",\n  ':',\n  'German',\n  'police',\n  'conducts',\n  'raid',\n  'at',\n  'refugee',\n  'center',\n  'after',\n  'mob',\n  '...',\n  'via',\n  '@user'],\n [\"Marianna's\",\n  '*',\n  'status',\n  'and',\n  'documentation',\n  'as',\n  'the',\n  'wife',\n  'of',\n  'a',\n  'refugee',\n  'was',\n  'what',\n  'she',\n  'thought',\n  'she',\n  'needed',\n  '...',\n  'However',\n  ',',\n  'only',\n  '...'],\n ['PREYING', 'ON', 'WOMEN', 'IS', 'A', 'BITCH', 'TENDENCY', '‼', '️', '🗣'],\n ['Ha',\n  'ha',\n  'BJP',\n  'knows',\n  'that',\n  'Hindus',\n  'r',\n  'so',\n  'stupid',\n  'that',\n  'they',\n  'r',\n  'ready',\n  'to',\n  'starve',\n  'with',\n  'no',\n  'jobs',\n  'but',\n  'first',\n  'like',\n  'to',\n  'see',\n  'Ram',\n  'Mandir',\n  'then',\n  'Taj',\n  'Mahal',\n  '.'],\n ['@user',\n  'MELISSA',\n  ',',\n  'YOU',\n  '’',\n  'RE',\n  'HYSTERICAL',\n  '.',\n  '😂',\n  'I',\n  'AM',\n  'GIVING',\n  'YOU',\n  'A',\n  'HAPPY',\n  'DANCE',\n  'FOR',\n  'TODAY',\n  '🙌',\n  '🏻'],\n ['Before',\n  '@user',\n  'and',\n  '@user',\n  '@user',\n  'was',\n  'a',\n  'young',\n  'girl',\n  'whose',\n  'immigrant',\n  'parents',\n  'were',\n  'deported',\n  '.',\n  \"Don't\",\n  'miss',\n  'her',\n  'stunning',\n  'memoir',\n  'MY',\n  'FAMILY',\n  'DIVDED',\n  '.'],\n ['@user',\n  'If',\n  'immigration',\n  'will',\n  'not',\n  'stopped',\n  'in',\n  'Europe',\n  ',',\n  'the',\n  'refugees',\n  'will',\n  'destroy',\n  'the',\n  'welfare',\n  '.',\n  'This',\n  'means',\n  'streetfights',\n  'and',\n  'dead',\n  'on',\n  'European',\n  'streets',\n  '.'],\n ['NEW',\n  'BLOG',\n  'POST',\n  'âž',\n  '\\x9d',\n  'At',\n  'World',\n  'Relief',\n  ',',\n  'we',\n  '’',\n  've',\n  'welcomed',\n  'and',\n  'provided',\n  'support',\n  'to',\n  'almost',\n  '300,000',\n  'refugees',\n  'since',\n  '1979',\n  '.',\n  'We',\n  'love',\n  'these',\n  'strangers',\n  'as',\n  'neighbors',\n  'because',\n  'Jesus',\n  'calls',\n  'us',\n  'to',\n  '.',\n  'But',\n  'we',\n  'also',\n  'do',\n  'it',\n  'because',\n  'we',\n  'know',\n  'that',\n  '’',\n  's',\n  'what',\n  'we',\n  '’',\n  'd',\n  'all',\n  'want',\n  'for',\n  'our',\n  'own',\n  'families',\n  '.'],\n ['Because',\n  'it',\n  '’',\n  's',\n  'easy',\n  'to',\n  'call',\n  'women',\n  'those',\n  'things',\n  'when',\n  'the',\n  'one',\n  'hurting',\n  'you',\n  'repeatedly',\n  'acts',\n  'like',\n  'he',\n  'wasn',\n  '’',\n  't',\n  'being',\n  'the',\n  'slut',\n  'and',\n  'whore',\n  'himself',\n  '.'],\n ['When',\n  'you',\n  'go',\n  'to',\n  'take',\n  'a',\n  'sip',\n  'and',\n  'and',\n  'spill',\n  'it',\n  'on',\n  'your',\n  'face',\n  '...',\n  'Like',\n  'wtf',\n  'hand',\n  ',',\n  'why',\n  'you',\n  'let',\n  'me',\n  'down',\n  'like',\n  'that',\n  ',',\n  'bruh'],\n ['@user',\n  '@user',\n  'Skank',\n  ',',\n  'hoe',\n  ',',\n  'all',\n  'these',\n  'words',\n  'you',\n  'use',\n  'to',\n  'describe',\n  'female',\n  'artists.gosh',\n  ',',\n  'get',\n  'a',\n  'grip',\n  '.',\n  'Do',\n  'u',\n  '…'],\n ['The',\n  'German',\n  'Government',\n  'Pays',\n  'for',\n  '3',\n  'Week',\n  'Vacation',\n  'for',\n  'Refugees',\n  'to',\n  'Go',\n  'Home',\n  'The',\n  'German',\n  'government',\n  'is',\n  'actually',\n  'giving',\n  'refugees',\n  'three',\n  'weeks',\n  'paid',\n  'vacations',\n  'INCLUDING',\n  'airfare',\n  'BACK',\n  'to',\n  'the',\n  'very',\n  'countries',\n  'that',\n  'claim',\n  'they',\n  'are',\n  'fleeing',\n  'because',\n  'it',\n  'is',\n  'unsafe',\n  '.',\n  'JUST'],\n ['“',\n  'Many',\n  'of',\n  'these',\n  'parents',\n  'were',\n  'removed',\n  'from',\n  'the',\n  'country',\n  'without',\n  'their',\n  'child',\n  ',',\n  'all',\n  'of',\n  'this',\n  'is',\n  'the',\n  'result',\n  'of',\n  'the',\n  'government',\n  '’',\n  's',\n  'separation',\n  'and',\n  'then',\n  'inability',\n  'and',\n  'failure',\n  'to',\n  'track',\n  'and',\n  'reunite',\n  ',',\n  '”',\n  '[',\n  'Judge',\n  ']',\n  'Sabraw',\n  'said',\n  '.'],\n ['@user',\n  '@user',\n  '@user',\n  'Your',\n  'a',\n  'bitch',\n  'who',\n  'needed',\n  'to',\n  'shut',\n  'his',\n  'hole'],\n ['Have',\n  'you',\n  'heard',\n  '‘',\n  'Wavy',\n  'Bassline',\n  'Mix',\n  '(',\n  'HALLOWEEN',\n  'SPECIAL',\n  ')',\n  '’',\n  'by',\n  'The',\n  'Skank',\n  'Bank',\n  'on',\n  '#SoundCloud',\n  '?',\n  '#np'],\n ['@user',\n  '@user',\n  '@user',\n  'What',\n  'the',\n  'hell',\n  'is',\n  'this',\n  '?',\n  'Is',\n  'this',\n  'part',\n  'of',\n  'the',\n  'healthy',\n  'conversation',\n  'you',\n  'were',\n  'just',\n  'preaching',\n  'to',\n  'us',\n  'about',\n  '?',\n  \"She's\",\n  'our',\n  'First',\n  'Lady',\n  ',',\n  'like',\n  'it',\n  'or',\n  'not',\n  '.',\n  \"She's\",\n  'also',\n  'an',\n  'immigrant',\n  ',',\n  'a',\n  'mother',\n  'and',\n  'daughter',\n  ',',\n  'and',\n  'fuck',\n  'you',\n  'for',\n  'allowing',\n  'this',\n  '.',\n  'ht'],\n ['of',\n  'i',\n  'wanna',\n  'scream',\n  'ppl',\n  'that',\n  'STUPID',\n  '!',\n  'Cube',\n  'is',\n  'the',\n  'shitty',\n  'company',\n  '?',\n  'cube',\n  'is',\n  'cancelled',\n  '?',\n  '?',\n  'NO',\n  '.',\n  'edawn',\n  'and',\n  'hyuna',\n  'went',\n  'against',\n  'rules.ofc',\n  'cube',\n  'pissed',\n  'bc',\n  'they',\n  \"didn't\",\n  'even',\n  'listen',\n  'to',\n  'them',\n  '?',\n  '?',\n  'what',\n  'are',\n  'you',\n  'thinking',\n  '?',\n  'sm',\n  'jyp',\n  'yg',\n  '..',\n  'all',\n  'of',\n  'them',\n  'will',\n  'do',\n  'same',\n  '.',\n  'just',\n  'shut',\n  'the',\n  'fuck',\n  'up',\n  'anymore',\n  '.'],\n ['fucking',\n  'take',\n  'that',\n  'stupid',\n  'bitch',\n  'FILTHY',\n  'whore',\n  'nobody',\n  'will',\n  'love',\n  'you',\n  'fuck',\n  'you',\n  'idgaf',\n  'if',\n  'ur',\n  'pregnant',\n  'ill',\n  'kill',\n  'u',\n  'go',\n  'ahead',\n  'call',\n  'the',\n  'cops',\n  'nobody',\n  'wi'],\n ['The',\n  'Dr.Ron',\n  'Paul',\n  '!',\n  '#makelibertywin',\n  '#yalcon2018',\n  '#presidentpaul',\n  '#endthefed',\n  '#sendthemhome',\n  '#liberty',\n  '@',\n  'Reston',\n  ',',\n  'Virginia'],\n ['WOW',\n  ',',\n  'Trump',\n  'Just',\n  'Did',\n  'It',\n  ':',\n  'TWEETS',\n  'Video',\n  'Exposing',\n  'Dem',\n  '/',\n  'Obama',\n  '/',\n  'Hillary',\n  'Immigration',\n  'Hypocrisy'],\n ['@user',\n  'War',\n  'torn',\n  '?',\n  'Most',\n  'so',\n  'called',\n  'refugees',\n  'come',\n  'from',\n  'safe',\n  'countries',\n  '!',\n  'Moron',\n  '!',\n  '#fuckEU',\n  '#leaveEU',\n  '#sendthemback',\n  \"it's\",\n  'the',\n  'only',\n  'option',\n  'to',\n  'save',\n  'Europe'],\n ['@user',\n  '@user',\n  'These',\n  'weak',\n  'little',\n  'men',\n  'cannot',\n  'abide',\n  'women',\n  'who',\n  '...',\n  'are',\n  'alive',\n  '?',\n  'This',\n  'is',\n  \"today's\",\n  '@user',\n  'Too',\n  'emotional',\n  'to',\n  'think',\n  '.',\n  'Hysterical',\n  '!'],\n ['Dutch',\n  'prisons',\n  'are',\n  'so',\n  'empty',\n  \"they're\",\n  'being',\n  'turned',\n  'into',\n  'homes',\n  'for',\n  'refugees',\n  'via',\n  '@user'],\n ['It', 'must', 'suck', 'to', 'not', 'be', 'me'],\n ['It',\n  'appears',\n  'the',\n  'left',\n  'is',\n  'out',\n  'of',\n  'control',\n  'in',\n  'Germany',\n  'as',\n  'well',\n  ',',\n  'son',\n  'murder',\n  'and',\n  'he',\n  'is',\n  'the',\n  'bad',\n  'guy',\n  ',',\n  'they',\n  'are',\n  'crazy',\n  'for',\n  'sure',\n  '@user',\n  '@user',\n  '#BuildTheWall',\n  '#LockThemUp',\n  '#EndDACA',\n  '#BoycottNFL',\n  '#BoycottNike',\n  'enough',\n  'already'],\n ['Bitch',\n  'mad',\n  'cuz',\n  'I',\n  'nutted',\n  'quick',\n  '...',\n  'first',\n  'of',\n  'all',\n  'yo',\n  'pussy',\n  'just',\n  'good',\n  'so',\n  'be',\n  'happy'],\n ['How',\n  'about',\n  'a',\n  'GoFundMe',\n  'for',\n  'a',\n  'few',\n  'hundred',\n  'million',\n  'dollars',\n  ',',\n  'to',\n  'build',\n  'a',\n  'wall',\n  'along',\n  'the',\n  'border',\n  'side',\n  'of',\n  'this',\n  'farm',\n  '?',\n  '#BuildTheWall',\n  '#BuildThatWall',\n  '#BuildTheDamnWall'],\n ['@user',\n  '@user',\n  'Lower',\n  'taxes',\n  ',',\n  'raise',\n  'the',\n  'TFSA',\n  ',',\n  'stop',\n  'immigration',\n  ',',\n  'end',\n  'White',\n  'Genocide',\n  'as',\n  'government',\n  'policySome',\n  'basic',\n  'truths',\n  ':',\n  'Access',\n  'to',\n  'White',\n  'people',\n  'is',\n  'not',\n  'a',\n  'human',\n  'righthttps',\n  ':/',\n  '/',\n  't.co/DImPWggSVZ'],\n ['@user', 'come', 'on', 'woman', 'do', 'your', 'job', 'right', '#WomenSuck'],\n ['2017ðŸ',\n  '‘',\n  '‰',\n  'Should',\n  'EU',\n  'take',\n  'migrants',\n  'from',\n  '#Italy',\n  'when',\n  'they',\n  'already',\n  'sent',\n  '100,000+',\n  'to',\n  'roam',\n  'Europe.All',\n  'for',\n  '@user',\n  'bt',\n  '“',\n  'migrant',\n  'sharing',\n  '”',\n  'a',\n  'nonsense',\n  '&',\n  'plays',\n  'into',\n  'hands',\n  'of',\n  'Brussels',\n  ',',\n  'which',\n  'seeks',\n  'to',\n  'commit',\n  'EU',\n  'to',\n  'mass',\n  'migration',\n  '.',\n  '#Visegrad',\n  '@user'],\n ['He',\n  'is',\n  'the',\n  'new',\n  'enemy',\n  '(',\n  'H.Kickl',\n  ',',\n  'minister',\n  'of',\n  'interior',\n  ')',\n  'of',\n  'the',\n  'left',\n  'comunistic-socialist-green',\n  'groups',\n  'which',\n  'make',\n  'business',\n  'with',\n  'refugees',\n  '.',\n  'He',\n  'will',\n  'do',\n  'everything',\n  'to',\n  'bring',\n  'refugees',\n  'out',\n  'of',\n  'Austria',\n  ',',\n  'this',\n  'disturb',\n  'the',\n  'business',\n  '.'],\n ['#BorderSecurity',\n  '#BorderPatrol',\n  '#Immigration',\n  '#Undocumented',\n  '#Aliens',\n  '#PresidentTrump',\n  'has',\n  'signed',\n  'an',\n  'Executive',\n  'Order',\n  'ending',\n  '#CatchAndRelease',\n  '.',\n  'This',\n  'is',\n  'a',\n  'huge',\n  ',',\n  'Catch',\n  'and',\n  'Release',\n  'has',\n  'been',\n  'a',\n  '...'],\n ['Frustration',\n  'and',\n  'heartbreak',\n  'as',\n  'migrant',\n  'parents',\n  'look',\n  'for',\n  'kids'],\n ['#immigrants', '#racist', '#Trump'],\n ['Aw', '😍', '😘', 'I', 'owe', 'you', 'a', 'mustache', 'ride', '!'],\n ['Russian',\n  'immigrant',\n  'seeks',\n  'Democratic',\n  'nod',\n  'for',\n  'Alaska',\n  'House',\n  'seat',\n  '(',\n  'from',\n  '@user',\n  'by',\n  '\\u2066',\n  '@beckybohrerap',\n  '\\u2069',\n  '\\u2066',\n  '@MThiessen',\n  '\\u2069'],\n ['@user',\n  'Beware',\n  'USA',\n  '+',\n  'Europe',\n  'from',\n  'illigal',\n  'immigration',\n  '!'],\n ['When',\n  \"you're\",\n  'tryna',\n  'sneak',\n  'out',\n  'their',\n  'crib',\n  'quietly',\n  'in',\n  'the',\n  'middle',\n  'of',\n  'the',\n  'night'],\n ['Stop',\n  'tweeting',\n  'about',\n  'your',\n  'boyfriend',\n  '.',\n  'No',\n  'one',\n  'gives',\n  'a',\n  'shit',\n  '.',\n  'And',\n  \"you're\",\n  'gonna',\n  'break',\n  'up',\n  'in',\n  'a',\n  'month',\n  'anyway',\n  '#WomenSuck'],\n ['Young', 'people', 'taking', 'care', 'of', 'business', '.'],\n ['@user',\n  'The',\n  'real',\n  '@user',\n  '@user',\n  'bho',\n  '&',\n  'holder',\n  'also',\n  'killed',\n  '@user',\n  'Officer',\n  'Brian',\n  'Terry',\n  'with',\n  'his',\n  '#FastandFurious',\n  'debacle',\n  '.',\n  'many',\n  'others',\n  'died',\n  'because',\n  'of',\n  'your',\n  'negligence',\n  '?',\n  '?',\n  '#buildthewall',\n  '#DeportThemAll',\n  '#NoDACA',\n  '#NoAmnesty',\n  '#noworkforEWI'],\n ['@user',\n  'thank',\n  'you',\n  'for',\n  'liking',\n  'my',\n  \"'\",\n  'not',\n  'all',\n  'men',\n  \"'\",\n  'tweet',\n  'btw'],\n ['@user',\n  'Another',\n  'incident',\n  'in',\n  'Germany',\n  'will',\n  'it',\n  'be',\n  'a',\n  'drunk',\n  'driver',\n  'or',\n  'another',\n  'angry',\n  'immigrant',\n  'with',\n  'issues',\n  'innocent',\n  'to',\n  'proven',\n  'Guilty',\n  'there',\n  'is',\n  'so',\n  'much',\n  'goodwill',\n  'before',\n  'it',\n  'becomes',\n  'salt',\n  'in',\n  'the',\n  'wounds',\n  'of',\n  'a',\n  'giving',\n  'Nation'],\n ['@user',\n  '@user',\n  '@user',\n  'Women',\n  'Are',\n  'Offended',\n  'by',\n  'his',\n  'Porn',\n  '&',\n  'Rape',\n  'Essay',\n  'Stating',\n  '“',\n  'A',\n  'Woman',\n  'Enjoys',\n  'Interc',\n  '…'],\n ['You',\n  'gotta',\n  'throw',\n  'glitter',\n  'after',\n  'that',\n  '.',\n  'Bitch',\n  'pussy',\n  'must',\n  'be',\n  'SERIOUS',\n  '.'],\n ['@user',\n  '@user',\n  'This',\n  'old',\n  'bitch',\n  'needs',\n  'to',\n  'go',\n  'out',\n  'to',\n  'pasture',\n  '!',\n  'Dig',\n  'a',\n  'hole',\n  'too',\n  'racist'],\n ['Large',\n  'areas',\n  'have',\n  'been',\n  'evacuated',\n  'and',\n  'people',\n  'were',\n  'moved',\n  'to',\n  'shelters',\n  'to',\n  'wait',\n  'for',\n  'the',\n  'waters',\n  'to',\n  'subside',\n  '.'],\n [\"I'm\",\n  'at',\n  'the',\n  'Plaza',\n  'Roberto',\n  'Maestas',\n  'on',\n  'Beacon',\n  'Hill',\n  'with',\n  '@user',\n  'to',\n  'stand',\n  'with',\n  'people',\n  'of',\n  'color',\n  'and',\n  'immigrant',\n  'communities',\n  'as',\n  'a',\n  'collective',\n  'voice',\n  'of',\n  'engaged',\n  'voters',\n  '.',\n  'Watch',\n  'LIVE',\n  'on',\n  'Facebook',\n  ':'],\n ['As',\n  'the',\n  'European',\n  'Union',\n  'gives',\n  'political',\n  'cover',\n  'to',\n  'Italy',\n  '&',\n  'other',\n  'states',\n  'blocking',\n  '&',\n  'threatening',\n  'charities',\n  'rescuing',\n  'refugees',\n  '&',\n  'migrants',\n  'escaping',\n  'Libya',\n  ',',\n  'death',\n  'rate',\n  'soars',\n  'to',\n  'staggering',\n  '1',\n  'in',\n  '7'],\n ['@user',\n  \"'\",\n  'Oh',\n  'said',\n  'a',\n  'bitch',\n  'who',\n  'lost',\n  'everything',\n  '.',\n  'You',\n  'whore',\n  '.',\n  \"'\"],\n ['Was',\n  'getting',\n  'elbowed',\n  'by',\n  'a',\n  'triple',\n  'chinned',\n  'cunt',\n  'with',\n  'nails',\n  'like',\n  'a',\n  'woman',\n  'ont',\n  'train',\n  'Let',\n  'a',\n  'smelly',\n  'fart',\n  'out',\n  'before',\n  'moving',\n  '…'],\n ['#ICE',\n  '#IllegalAliens',\n  '#Border',\n  '#Immigration',\n  '#BringBackOurBorders',\n  '#Oakland',\n  'Mayor',\n  '#LibbySchaaf',\n  'warned',\n  'everyone',\n  'in',\n  '...'],\n ['my',\n  'neighbour',\n  'is',\n  'such',\n  'a',\n  'cunt',\n  'i',\n  'hope',\n  'someone',\n  'murders',\n  'that',\n  'stupid',\n  'bitch',\n  '.',\n  'preferably',\n  'tortures',\n  'her',\n  'first',\n  'as',\n  'well'],\n ['Trump',\n  'is',\n  'correct',\n  'he',\n  'just',\n  'said',\n  'it',\n  'the',\n  'wrong',\n  'way',\n  'should',\n  'the',\n  'Queen',\n  'head',\n  'of',\n  'the',\n  'british',\n  'Commonwealth',\n  'just',\n  'tell',\n  'the',\n  'shitty',\n  'nations',\n  'to',\n  'buzz',\n  'off',\n  'certainly',\n  'not',\n  'but',\n  'would',\n  'the',\n  'uk',\n  'people',\n  'vote',\n  'to',\n  'end',\n  'the',\n  'commonwealth',\n  'l',\n  'think',\n  'yes',\n  'less',\n  'pressure',\n  'on',\n  'NHS',\n  'Housing',\n  'etc',\n  'Brexit',\n  'no',\n  'to',\n  'immigration'],\n ['Angel',\n  'Families',\n  'Hold',\n  'Rally',\n  'to',\n  'Combat',\n  'Illegal',\n  'Immigration',\n  '.',\n  '#DeportThemAll',\n  '#NoAmnesty',\n  '#NoDACA'],\n ['Why',\n  'do',\n  'women',\n  'use',\n  'them',\n  'being',\n  'on',\n  'their',\n  'period',\n  'as',\n  'a',\n  'excuse',\n  'to',\n  'be',\n  'a',\n  'cunt',\n  '?',\n  'You',\n  'had',\n  'it',\n  'since',\n  'you',\n  'were',\n  '13',\n  'you',\n  'can',\n  '’',\n  't',\n  'control',\n  'yourself',\n  '?'],\n ['While',\n  '#forestfires',\n  'are',\n  'terrifying',\n  'and',\n  'tragic',\n  ',',\n  'should',\n  'the',\n  'fed',\n  '.',\n  'gov',\n  '.',\n  'grant',\n  '#California',\n  'assistance',\n  'with',\n  'which',\n  'to',\n  'fight',\n  'them',\n  'while',\n  'it',\n  'thumbs',\n  'its',\n  'nose',\n  'at',\n  'the',\n  'rest',\n  'of',\n  'the',\n  'country',\n  'by',\n  'protecting',\n  'illegal',\n  'immigrant',\n  'criminals',\n  '?',\n  '(',\n  \"Hasn't\",\n  'Cali',\n  'been',\n  'denying',\n  'federal',\n  'jurisdiction',\n  'over',\n  'its',\n  'land',\n  '?',\n  ')'],\n [\"Don't\", 'fucking', 'toy', 'with', 'me', '#WomenSuck'],\n ['@user',\n  '@user',\n  '@user',\n  '@user',\n  '@user',\n  'So',\n  'you',\n  'cant',\n  'stand',\n  'your',\n  'own',\n  'kind',\n  'either',\n  'you',\n  'gotta',\n  'breed',\n  'with',\n  'something',\n  'else',\n  '.'],\n ['Criminals',\n  'NOT',\n  'immigrants',\n  '!',\n  'Lets',\n  'call',\n  'them',\n  'who',\n  'they',\n  'are',\n  'if',\n  'they',\n  'DID',\n  'NOT',\n  'come',\n  'in',\n  'our',\n  'AMERICA',\n  'LEGALLY',\n  '!',\n  'They',\n  'get',\n  'NO',\n  'amnesty',\n  'for',\n  'breaking',\n  'the',\n  'AMERICAN',\n  'LAW',\n  '.',\n  '@user',\n  '@user',\n  '@user',\n  '@user',\n  '@user',\n  '@user',\n  '@user',\n  '@user',\n  '@user'],\n ['@user',\n  'LMAOO',\n  'you',\n  'pussy',\n  '.',\n  'What',\n  'those',\n  'emojis',\n  'mean',\n  '?',\n  '!'],\n ['@user',\n  '@user',\n  'Agree',\n  'with',\n  'your',\n  'idea',\n  'to',\n  'use',\n  'the',\n  'Army',\n  'to',\n  'build',\n  'the',\n  'wall',\n  '!',\n  'Do',\n  'it',\n  '!',\n  '#BuildThatWall',\n  '#BuildTheWall'],\n ['Over',\n  '62',\n  'million',\n  'people',\n  'voted',\n  'for',\n  '@user',\n  'b',\n  '/',\n  'c',\n  'of',\n  'policies',\n  'clearly',\n  'stated',\n  'at',\n  'dozens',\n  'of',\n  'rallies',\n  '.',\n  '#BuildThatWall',\n  '#TaxCutReformBill',\n  '#EliminateRegulations',\n  '#ConstitutionalistsOnSCOTUS',\n  '#AmericaFirstTradePolicy',\n  '#EndGovermentWaste',\n  '#ReformTheVA',\n  '#DestroyISIS',\n  'Keeping',\n  'Promices',\n  '#MAGA'],\n ['Me', 'after', 'The', 'Walking', 'Dead', 'season', 'finale'],\n ['Int',\n  '’',\n  'l',\n  ',',\n  '1st',\n  '-',\n  'and',\n  '2nd',\n  '-',\n  'gen',\n  'immigrant',\n  'students',\n  'make',\n  'up',\n  'an',\n  'average',\n  'of',\n  '30',\n  '%',\n  'of',\n  'undergrads',\n  'in',\n  'U',\n  '.',\n  'S',\n  '.',\n  '-',\n  'Miriam',\n  'Feldblum',\n  ',',\n  'executive',\n  'director',\n  ',',\n  'Presidents',\n  '’',\n  'Alliance',\n  'on',\n  'Higher',\n  'Ed',\n  'and',\n  'Immigration',\n  '\\u2066',\n  '@AraceliHLaroche',\n  '\\u2069',\n  '\\u2066',\n  '@MegitaSmith',\n  '\\u2069',\n  '\\u2066',\n  '@nmvalenzuela',\n  '\\u2069'],\n ['When',\n  'your',\n  'friend',\n  'moves',\n  'away',\n  'to',\n  'be',\n  'with',\n  'someone',\n  '...'],\n ['No',\n  'one',\n  'gives',\n  'less',\n  'fucks',\n  'than',\n  'a',\n  'pitcher',\n  'that',\n  'intentionally',\n  'hits',\n  'a',\n  'man',\n  'holding',\n  'a',\n  'bat',\n  'with',\n  'a',\n  'baseball'],\n ['Watch',\n  'my',\n  'snap',\n  'story',\n  'tonight',\n  'it',\n  'will',\n  'be',\n  'all',\n  'over',\n  'it',\n  '😇'],\n ['@user',\n  'WHAT',\n  'some',\n  'of',\n  'these',\n  'BITch',\n  'Part',\n  'starlets',\n  'promote',\n  'to',\n  'young',\n  'is',\n  'worse',\n  'than',\n  'rape',\n  'it',\n  'is',\n  'rape',\n  'of',\n  'young',\n  'minds',\n  '.',\n  'What',\n  'goes',\n  'around',\n  'comes',\n  'around',\n  '!'],\n ['Angels',\n  \"Don't\",\n  'Die',\n  '.',\n  'I',\n  'think',\n  \"it's\",\n  'better',\n  'that',\n  'two',\n  'Immigrant',\n  'children',\n  'in',\n  'a',\n  'concentration',\n  'camp',\n  'in',\n  'Southwest',\n  'US',\n  'die',\n  'every',\n  'time',\n  'Donald',\n  'Trump',\n  'tweets',\n  ',',\n  'tweet',\n  'tweet',\n  'tweet',\n  'tweet',\n  'tweet',\n  'like',\n  'a',\n  'bird',\n  '.'],\n ['ISO',\n  'several',\n  '*',\n  'new',\n  'or',\n  'used',\n  '*',\n  'items',\n  'to',\n  'foster',\n  'greater',\n  'self-sufficiency',\n  'of',\n  'a',\n  'few',\n  'recent',\n  'refugee',\n  'families',\n  ':',\n  'work',\n  'boots',\n  ',',\n  'lunch',\n  'boxes',\n  '/',\n  'bags',\n  ',',\n  'apt',\n  'size',\n  'microwaves',\n  ',',\n  'food',\n  'storage',\n  'containers',\n  ',',\n  'laptops',\n  '...',\n  'and',\n  'drumroll',\n  '...',\n  'a',\n  'large',\n  'family',\n  '...'],\n ['I',\n  'love',\n  'how',\n  'I',\n  'wasted',\n  '5',\n  'years',\n  'on',\n  'a',\n  'stupid',\n  'cunt',\n  '.',\n  'Only',\n  'to',\n  'find',\n  'true',\n  'love',\n  'with',\n  'the',\n  'beautiful',\n  'woman',\n  'I',\n  'was',\n  'with',\n  'before',\n  'that',\n  '.',\n  \"Life's\",\n  'funny',\n  'sometimes'],\n ['We',\n  'want',\n  'the',\n  'world',\n  'to',\n  'give',\n  'us',\n  'justice',\n  'and',\n  'make',\n  'it',\n  'possible',\n  'for',\n  'us',\n  'to',\n  'go',\n  'back.The',\n  'fact',\n  'that',\n  'we',\n  'had',\n  'to',\n  'flee',\n  ',',\n  'we',\n  'want',\n  'justice',\n  'for',\n  'that',\n  '.',\n  'We',\n  'ask',\n  'for',\n  'justice',\n  'from',\n  'the',\n  'leaders',\n  'of',\n  'the',\n  'entire',\n  'world.https',\n  ':/',\n  '/',\n  't.co/3jv0hnp8Md'],\n ['Austrian',\n  ',',\n  'Italian',\n  'and',\n  'German',\n  'interior',\n  'ministers',\n  'discuss',\n  'migration'],\n ['@user',\n  'Biggest',\n  'menace',\n  'affecting',\n  'growth',\n  'of',\n  'India',\n  'is',\n  'its',\n  'population.Must',\n  'take',\n  'steps',\n  'to',\n  'curb',\n  'population',\n  '&',\n  'illegal',\n  'immigrants'],\n ['At',\n  'this',\n  'time',\n  ',',\n  'w-organized',\n  'crime',\n  '/',\n  'returning',\n  'jihadists',\n  ',',\n  'it',\n  '’',\n  's',\n  'a',\n  'matter',\n  'of',\n  'national',\n  'security',\n  '.',\n  '#Italy',\n  '#Salvini',\n  'must',\n  'ignore',\n  'international',\n  'social',\n  'engineers',\n  '/',\n  'cultural',\n  'Marxists',\n  '.',\n  '#V4',\n  'Italy',\n  'Kurz',\n  'others',\n  'must',\n  'challenge',\n  'empty',\n  'threats',\n  'from',\n  'UN-EU',\n  'migration',\n  'pimps',\n  '.',\n  'What',\n  'can',\n  'they',\n  'really',\n  'do',\n  'about',\n  'it',\n  '?'],\n ['Coding',\n  'program',\n  'in',\n  'NY',\n  'seeks',\n  'to',\n  'open',\n  'tech',\n  'career',\n  'doors',\n  'for',\n  'immigrant',\n  'girls'],\n ['@user',\n  'I',\n  'am',\n  'serious',\n  'and',\n  'sure',\n  'that',\n  'I',\n  'want',\n  'to',\n  'put',\n  'my',\n  'penis',\n  'in',\n  'the',\n  'hole',\n  'of',\n  'your',\n  'ass'],\n ['@user',\n  '@user',\n  '@user',\n  'THAT',\n  'BITCH',\n  'MUST',\n  'HAVE',\n  'A',\n  'STRONG',\n  'BACK',\n  '.',\n  'SHE',\n  'CANT',\n  'STOP',\n  'DIGGING',\n  'THE',\n  'HOLE',\n  'SHES',\n  'IN',\n  '.',\n  'JESUS',\n  'HILLA',\n  'M',\n  '…'],\n ['I',\n  '’',\n  'm',\n  'watching',\n  'Kim',\n  '’',\n  's',\n  'Convenience',\n  'on',\n  'Netflix',\n  'and',\n  'honestly',\n  'the',\n  'immigrant',\n  '/',\n  'first',\n  'gen',\n  'experience',\n  'in',\n  'America',\n  'is',\n  'so',\n  'universal',\n  '.',\n  'We',\n  'really',\n  'could',\n  'all',\n  'link',\n  'up',\n  'and',\n  'be',\n  'in',\n  'this',\n  'together',\n  'except',\n  'literally',\n  'every',\n  'immigrant',\n  'culture',\n  '’',\n  's',\n  '#',\n  '1',\n  'rule',\n  'is',\n  '“',\n  'stick',\n  'with',\n  'your',\n  'own',\n  '”',\n  'lol'],\n ['#LandDegradation',\n  'drives',\n  'mass',\n  '#migration',\n  ',',\n  '#climatechange',\n  '.',\n  'Degraded',\n  '#land',\n  'could',\n  'be',\n  'restored',\n  'by',\n  'planting',\n  '#trees',\n  ',',\n  'using',\n  'salt-tolerant',\n  'crops',\n  ',',\n  'and',\n  're-flooding',\n  'drained',\n  '#wetlands',\n  '.',\n  'ðŸŒ',\n  '²',\n  'ðŸŒ',\n  '³',\n  'ðŸŒ',\n  '´',\n  'ðŸŽ',\n  '‹',\n  'ðŸŒ',\n  '„',\n  '#soil',\n  '#landrestoration',\n  '#landlivespeace',\n  '#livelihoods'],\n ['Oh',\n  'btw',\n  'just',\n  'to',\n  'offend',\n  'the',\n  'femalesss',\n  'CUNT',\n  'CUNT',\n  'CUNT',\n  'WHORE',\n  'CUNT',\n  'WHORE',\n  'SLUT',\n  'BITCHSLUT',\n  'FEMINISTSHIT'],\n ['@user',\n  '@user',\n  '@user',\n  '@user',\n  '@user',\n  '@user',\n  \"You're\",\n  'not',\n  'welcome',\n  'Illegal',\n  'immigrant',\n  '.',\n  'You',\n  'belong',\n  'to',\n  'the',\n  'low',\n  'class',\n  'monkeys',\n  \"who's\",\n  'only',\n  'good',\n  'at',\n  'dying',\n  'everyday',\n  'and',\n  'begging',\n  'the',\n  'world',\n  'to',\n  'help',\n  'them',\n  '.',\n  'Such',\n  'a',\n  'poor',\n  'godless',\n  'nation',\n  '.',\n  'No',\n  'wond'],\n ['@user',\n  '@user',\n  '@user',\n  '@user',\n  '@user',\n  '@user',\n  'No',\n  'One',\n  'believes',\n  'that',\n  'Myth',\n  '!',\n  'Legal',\n  'Workers',\n  'Line',\n  'Up',\n  'for',\n  'Restaurant',\n  'Jobs',\n  'After',\n  'Sheriff',\n  'Joe',\n  '#Immigration',\n  'Raids',\n  'via',\n  '@user'],\n ['Me',\n  'flirting',\n  '-',\n  'So',\n  'how',\n  'wealthy',\n  'are',\n  'your',\n  'parents',\n  '?'],\n ['A',\n  'judge',\n  'sentenced',\n  'three',\n  'Muslim',\n  'refugee',\n  'boys',\n  'in',\n  'the',\n  'sexual',\n  'assault',\n  'of',\n  'a',\n  '5',\n  '-',\n  'year-old',\n  'girl',\n  'in',\n  'Idaho',\n  ',',\n  'but',\n  'nobody',\n  'knows',\n  '...'],\n ['Still',\n  'baffles',\n  'me',\n  'that',\n  \"Baylor's\",\n  'football',\n  'team',\n  'can',\n  'rape',\n  'women',\n  'w',\n  'literally',\n  'everyone',\n  'knowing',\n  '(',\n  'including',\n  'the',\n  'police',\n  ')',\n  'and',\n  'nothing',\n  'is',\n  'done',\n  'abt',\n  'it'],\n ['@user',\n  'oh',\n  'god',\n  ',',\n  'I',\n  'can',\n  'imagine',\n  'that',\n  'you',\n  '’',\n  'll',\n  'get',\n  'even',\n  'more',\n  'men',\n  'talking',\n  'to',\n  'you',\n  'about',\n  'some',\n  '“',\n  'not',\n  'all',\n  'men',\n  '”',\n  '“',\n  'not',\n  'me',\n  '”',\n  'bullshit',\n  '😤'],\n ['@user',\n  'Babe',\n  ',',\n  'I',\n  'wanna',\n  'thank',\n  'you',\n  'for',\n  'having',\n  'such',\n  'insane',\n  'anal',\n  'scenes',\n  '.',\n  'Your',\n  'scene',\n  'from',\n  'Slut',\n  'Auditions',\n  '#',\n  '3',\n  'is',\n  'my',\n  'all-time',\n  'fav',\n  '!'],\n ['@user',\n  'And',\n  \"that's\",\n  'only',\n  'the',\n  'women',\n  'that',\n  'have',\n  'posted',\n  'it',\n  '..',\n  'I',\n  'wrote',\n  'about',\n  'the',\n  \"'\",\n  'Not',\n  'All',\n  'Men',\n  \"'\",\n  'culture',\n  'as',\n  'well',\n  '-'],\n ['Sweden',\n  'is',\n  'almost',\n  'like',\n  'the',\n  'perfect',\n  'experiment',\n  'on',\n  'multiculturalism',\n  '.',\n  'Wanna',\n  'let',\n  'in',\n  'massive',\n  'amounts',\n  'of',\n  'people',\n  'from',\n  'Muslim',\n  'majority',\n  'and',\n  'third',\n  'world',\n  'countries',\n  '?',\n  'Okay',\n  ',',\n  'get',\n  'ready',\n  'to',\n  'become',\n  'one',\n  'yourself',\n  '!',\n  'P',\n  '.',\n  'S',\n  '.',\n  'We',\n  'told',\n  'yah',\n  'so',\n  '!',\n  '#Immigration',\n  '#sweden',\n  '#stopimmigration'],\n ['@user',\n  'Delhi',\n  'have',\n  'understood',\n  'ur',\n  'gameplan',\n  '.',\n  'U',\n  'only',\n  'focussing',\n  'on',\n  'ur',\n  'Votebank',\n  '.',\n  'No',\n  'action',\n  'against',\n  'encroachments',\n  ',',\n  'filth',\n  'in',\n  'over',\n  'crowded',\n  'Muslim',\n  'areas',\n  '.',\n  'Lot',\n  'of',\n  'muslim',\n  'migration',\n  'to',\n  'Delhi'],\n ['There',\n  'are',\n  'good',\n  'men',\n  'out',\n  'there',\n  'women',\n  'stop',\n  'accepting',\n  'ass',\n  'holes',\n  'that',\n  'appear',\n  'to',\n  'be',\n  'right.It',\n  'is',\n  'a',\n  'excuse',\n  'to',\n  'turn',\n  'lesbian',\n  'cuz',\n  'of',\n  'a',\n  'no',\n  'good',\n  'man',\n  '.'],\n ['For',\n  '@user',\n  '’',\n  's',\n  'Clever',\n  'I',\n  'wrote',\n  'about',\n  'my',\n  'shifting',\n  'understanding',\n  'of',\n  'home',\n  ',',\n  'from',\n  'those',\n  'of',\n  'the',\n  'displaced',\n  'communities',\n  'in',\n  'Colombia',\n  ',',\n  'my',\n  'grandmother',\n  '’',\n  's',\n  'handbuilt',\n  'house',\n  ',',\n  'and',\n  'my',\n  'own',\n  'as',\n  'an',\n  'immigrant',\n  ':'],\n [\"Couldn't\", 'have', 'said', 'it', 'better', '#YesAllMen'],\n ['@user',\n  \"Let's\",\n  'get',\n  '#ProudDeplorable',\n  'Trending',\n  'Now',\n  '!',\n  'Please',\n  '#RETWEET',\n  'this',\n  '#SundayMorning',\n  'Visit',\n  'to',\n  'help',\n  '#BuildThatWall'],\n ['@user',\n  'Sooo',\n  'you',\n  'trying',\n  'to',\n  'pimp',\n  'em',\n  'out',\n  '.',\n  'Bet',\n  '.'],\n ['#BuildTheWallNow',\n  'Before',\n  'the',\n  'Midterm',\n  'elections',\n  '@user',\n  '@user',\n  '@user',\n  '@user',\n  '#MAGA',\n  '#MakeDCListen',\n  '#NoAmnesty',\n  '#NoDACAdeal',\n  '#MandateEverify',\n  '#EndChainMigration'],\n ['Last',\n  'I',\n  'checked',\n  'men',\n  'HAVE',\n  'THE',\n  'PENIS',\n  'and',\n  'women',\n  \"DON'T\",\n  '.',\n  'I',\n  \"Won't\",\n  'say',\n  'it',\n  'again',\n  'but',\n  'THE',\n  'DICK',\n  'IS',\n  'ALL',\n  'THAT',\n  'MATTERS',\n  '#MensRights',\n  '!'],\n ['#MaleDominance', \"let's\", 'get', 'it', 'trending', '!'],\n ['#Ireland',\n  '#EU',\n  'must',\n  'raise',\n  'concerns',\n  'asap',\n  'about',\n  'Russian',\n  'current',\n  'plans',\n  'to',\n  'return',\n  '#Syrian',\n  '#refugees',\n  '@simoncoveney',\n  '@user',\n  '@user',\n  '@user',\n  '@user',\n  '@user',\n  '@user',\n  '@user',\n  '@user',\n  '@user',\n  '@user',\n  '@user',\n  '@user'],\n ['@user', '@user', 'You', 'shut', 'your', 'whore', 'mouth'],\n [\"'\",\n  'It',\n  '’',\n  's',\n  'not',\n  'that',\n  'we',\n  'think',\n  'you',\n  'will',\n  ',',\n  'it',\n  '’',\n  's',\n  'that',\n  'we',\n  'know',\n  'you',\n  'could',\n  '.',\n  \"'\",\n  '@user',\n  'nails',\n  'why',\n  \"'\",\n  'not',\n  'all',\n  'men',\n  \"'\",\n  'is',\n  'irrelevant',\n  '…'],\n ['@user',\n  'I',\n  'would',\n  'enjoy',\n  'standing',\n  'back',\n  'to',\n  'watch',\n  'you',\n  'suck',\n  'cocks',\n  'and',\n  'swallow',\n  'huge',\n  'loads',\n  'of',\n  'cum',\n  ',',\n  'while',\n  \"you're\",\n  'helpless',\n  '.',\n  'As',\n  'you',\n  'suck',\n  'each',\n  'cock',\n  \"I'll\",\n  'finger',\n  'your',\n  'pussy',\n  'until',\n  'you',\n  'cum',\n  ',',\n  'while',\n  'you',\n  'choke',\n  'on',\n  'cocks',\n  'and',\n  'cum',\n  '!',\n  'When',\n  'I',\n  'do',\n  'take',\n  'you',\n  'home',\n  ',',\n  \"you'll\",\n  'be',\n  'exhauste'],\n ['Mandatory',\n  'E-Verify',\n  'for',\n  'Welfare',\n  'and',\n  'Jobs',\n  ',',\n  'Faster',\n  'Deportation',\n  'for',\n  'All',\n  'Illegals',\n  ',',\n  'End',\n  '#DACA',\n  'will',\n  'fix',\n  'the',\n  'Problem',\n  '#Trump',\n  '#MAGA',\n  '#RedNationRising',\n  '#Immigration'],\n ['When',\n  'yo',\n  'girl',\n  'start',\n  'yelling',\n  'at',\n  'you',\n  'for',\n  'no',\n  'reason',\n  '.'],\n ['@user',\n  'Cameron',\n  'have',\n  'some',\n  'back',\n  'bone',\n  '75',\n  'million',\n  'Turks',\n  'waiting',\n  'to',\n  'come',\n  'to',\n  'Europe',\n  'no',\n  'thanks',\n  ',',\n  'l',\n  'million',\n  'migrants',\n  'go',\n  'awol',\n  'we',\n  'r',\n  'scared',\n  'r',\n  'u'],\n ['If',\n  \"she's\",\n  'over',\n  '18',\n  'and',\n  'owns',\n  'anything',\n  'Hello',\n  'Kitty',\n  '...',\n  'Get',\n  'that',\n  'bitch',\n  'in',\n  'bed',\n  ',',\n  'she',\n  'knows',\n  'things',\n  'that',\n  'you',\n  \"didn't\",\n  'even',\n  'know',\n  'existed'],\n ['@user',\n  'its',\n  'Time',\n  'to',\n  'Enforce',\n  'the',\n  'Public',\n  'Charge',\n  '#Immigration',\n  'laws',\n  '!',\n  'U',\n  '.',\n  'S',\n  'Taxpayers',\n  'should',\n  'not',\n  'be',\n  'forced',\n  'to',\n  'take',\n  'care',\n  'of',\n  '#Immigrants',\n  'and',\n  'Refugees',\n  'collecting',\n  'Welfare',\n  'while',\n  'our',\n  '#Veterans',\n  'are',\n  'Homeless',\n  '#Trump',\n  '#MAGA',\n  '#SendThemBack',\n  '#RedNationRising'],\n ['So',\n  'if',\n  'your',\n  'reading',\n  'this',\n  'and',\n  'I',\n  'know',\n  'you',\n  'are',\n  '..',\n  'STOP',\n  'HITTING',\n  'ME',\n  'UP',\n  'YO',\n  'DICK',\n  'LIDDO',\n  'AND',\n  'NOW',\n  'THE',\n  'WORLD',\n  'KNOWS',\n  '😭',\n  '🤦',\n  '🏽',\n  '\\u200d',\n  '♀',\n  '️'],\n ['Good',\n  'Morning',\n  'Canada',\n  '🇨',\n  '🇦',\n  'We',\n  'will',\n  'not',\n  'let',\n  'anyone',\n  'harm',\n  'you'],\n ['think',\n  'Spain',\n  'is',\n  'biting',\n  'off',\n  'more',\n  'than',\n  'it',\n  'can',\n  'chew',\n  '#nomore',\n  '#sendthemback'],\n ['Lots',\n  'of',\n  'Proud',\n  'Veterans',\n  'would',\n  'lend',\n  'a',\n  'hand',\n  'as',\n  'well',\n  '!',\n  '#BuildThatWall'],\n ['When',\n  'you',\n  'spent',\n  'the',\n  'last',\n  '2',\n  'days',\n  'waking',\n  'up',\n  'in',\n  'complete',\n  'strangers',\n  'beds'],\n ['Rep',\n  '.',\n  'agrees',\n  'w-Sebastian',\n  'Kurz',\n  'regarding',\n  'Turkey',\n  '.',\n  'Visa-free',\n  'status',\n  'or',\n  'EU',\n  'membership',\n  'would',\n  'be',\n  'an',\n  'absolute',\n  'disaster.Erdogan',\n  'a',\n  'global',\n  'tyrant',\n  'who',\n  'flooded',\n  'Europe',\n  'w-aggressive',\n  'male',\n  'migrants',\n  ',',\n  'helped',\n  'destabilize',\n  'Syria',\n  'and',\n  'supported',\n  'Islamic',\n  'extremists',\n  '.',\n  '#Visegrad'],\n ['@user',\n  'If',\n  'you',\n  'take',\n  'dick',\n  'off',\n  'of',\n  'the',\n  'pizza',\n  \"you're\",\n  'erasing',\n  'my',\n  'history',\n  'and',\n  'heritage'],\n ['i',\n  \"can't\",\n  'have',\n  'a',\n  'girlfriend',\n  'my',\n  \"dick's\",\n  'only',\n  'big',\n  'enough',\n  'for',\n  'one',\n  'of',\n  'us'],\n ['#UK',\n  \"'\",\n  'complicit',\n  \"'\",\n  'in',\n  'spiralling',\n  'death',\n  'toll',\n  'of',\n  'refugees',\n  'in',\n  'Mediterranean'],\n ['This',\n  'stupid',\n  'dick',\n  'head',\n  'didn',\n  '’',\n  't',\n  'say',\n  'thank',\n  'you',\n  'when',\n  'I',\n  'held',\n  'the',\n  'door',\n  'for',\n  'him',\n  'going',\n  'into',\n  '7/11',\n  'so',\n  'I',\n  'pulled',\n  'that',\n  'shit',\n  'close',\n  'in',\n  'his',\n  'face',\n  'when',\n  'I',\n  'left'],\n ['tired',\n  'of',\n  '#dems',\n  'trying',\n  'to',\n  'speak',\n  '4',\n  'all',\n  'ppl',\n  'of',\n  'color',\n  '.',\n  'Im',\n  '#hispanic',\n  'and',\n  'they',\n  'dont',\n  'speak',\n  '4',\n  'me',\n  '.',\n  'I',\n  'support',\n  '#trump',\n  'and',\n  'support',\n  'deporting',\n  'all',\n  '#illegals',\n  '.',\n  '#buildthatwall',\n  '.',\n  '#immigration',\n  'needs',\n  'to',\n  'be',\n  'done',\n  'legally',\n  ',',\n  'no',\n  'excuses',\n  '.',\n  'also',\n  ',',\n  'abolish',\n  'the',\n  '#h1bvisa',\n  'program',\n  '.',\n  'foreigns',\n  'r',\n  'taking',\n  '#americans',\n  'jobs'],\n ['@user',\n  '@user',\n  \"America's\",\n  'public',\n  'assistance',\n  ',',\n  'Medicare',\n  'Medicaid',\n  ',',\n  'SS',\n  ',',\n  'et',\n  'al',\n  'are',\n  'strained',\n  'and',\n  'Americans',\n  '\"',\n  'benefits',\n  '\"',\n  'are',\n  'being',\n  'cut',\n  'not',\n  'even',\n  'able',\n  'to',\n  'maintain',\n  'status',\n  'quo',\n  '.',\n  'No',\n  'immigrants',\n  'should',\n  'be',\n  'granted',\n  'entry',\n  'that',\n  'need',\n  'assistance',\n  '!',\n  '#NODACA',\n  '#NOREFUGE'],\n ['MS',\n  '-',\n  '13',\n  'spreads',\n  'to',\n  '22',\n  'states',\n  ',',\n  'fed',\n  'by',\n  '300,000',\n  'illegals',\n  ',',\n  'DACA',\n  'recipients',\n  ',',\n  'tied',\n  'to',\n  '207',\n  'murders',\n  '@GOPLeader',\n  '@user',\n  '#NoAmnesty',\n  '#DeportThemAll',\n  '#BuildTheWallAmnesty',\n  'creates',\n  'more',\n  'Illegal',\n  'Migration',\n  ',',\n  'always',\n  'has',\n  ',',\n  'always',\n  'will',\n  '.'],\n ['@user',\n  'I',\n  'know',\n  'fucker',\n  'bitch',\n  'i',\n  'rode',\n  'with',\n  'you',\n  'one',\n  'time',\n  'remember',\n  'cunt',\n  'whore',\n  '?',\n  'Never',\n  'again',\n  'will',\n  'i',\n  'fuck',\n  'around',\n  'with',\n  'the',\n  'fuck',\n  'around',\n  '😂',\n  '😂'],\n ['Omg',\n  \"let's\",\n  'all',\n  'get',\n  'wet',\n  'over',\n  'every',\n  'muscular',\n  'Olympian',\n  '!',\n  '#WomenSuck'],\n ['Warning',\n  'of',\n  \"'\",\n  'dangerous',\n  'acceleration',\n  \"'\",\n  'in',\n  'attacks',\n  'on',\n  'immigrants',\n  'in',\n  'Italy'],\n ['#MS13',\n  'Gang',\n  'Members',\n  ',',\n  'Criminals',\n  'Embedding',\n  'in',\n  'Record',\n  'Number',\n  'of',\n  '#IllegalAlien',\n  'Family',\n  'Units',\n  'Pouring',\n  'Over',\n  'Rio',\n  'Grande',\n  'Valley',\n  '#Border',\n  'in',\n  'Texas',\n  '#MAGA',\n  '#BuildTheWall',\n  '#NoDACA',\n  '#NoAmnesty',\n  '#Election2018'],\n ['In',\n  'Trump',\n  '’',\n  's',\n  'America',\n  ',',\n  'immigrants',\n  'are',\n  'modern-day',\n  '‘',\n  '˜',\n  'savage',\n  'Indians',\n  '’'],\n ['@user',\n  'They',\n  'need',\n  'to',\n  'be',\n  'deported',\n  \"shouldn't\",\n  'even',\n  'go',\n  'to',\n  'court',\n  'immigration',\n  'should',\n  'step',\n  'in'],\n ['It',\n  'will',\n  'be',\n  'such',\n  'a',\n  'shame',\n  'to',\n  'see',\n  '@user',\n  'qualifying',\n  'for',\n  'any',\n  'tournament',\n  '(',\n  'including',\n  'WC',\n  ')',\n  'with',\n  'the',\n  'help',\n  'of',\n  'immigrants',\n  '.',\n  'I',\n  \"can't\",\n  'even',\n  'imagine',\n  '11',\n  'Africans',\n  '/',\n  'Whites',\n  'representing',\n  'India',\n  'and',\n  'me',\n  'cheering',\n  'them',\n  'on',\n  '.',\n  'Both',\n  '@user',\n  'brother',\n  'plays',\n  'for',\n  'Guinea',\n  'national',\n  'team',\n  '.',\n  'Plain',\n  'crazy',\n  '!'],\n ['At',\n  '16',\n  ',',\n  \"Ancila's\",\n  'father',\n  'was',\n  'killed',\n  'in',\n  \"Burundi's\",\n  'civil',\n  'war',\n  ',',\n  'forcing',\n  'her',\n  'to',\n  'flee',\n  '.',\n  'She',\n  'spent',\n  '43',\n  'years',\n  'living',\n  'in',\n  '5',\n  'different',\n  'refugee',\n  'camps',\n  'until',\n  'she',\n  'was',\n  'finally',\n  'resettled',\n  'to',\n  'the',\n  'U.S.Help',\n  'refugees',\n  'like',\n  'Ancila',\n  'rebuild',\n  'their',\n  'lives',\n  'after',\n  'years',\n  'of',\n  'uncertainty',\n  '.',\n  'âž',\n  '\\x9d'],\n ['I',\n  'don',\n  '’',\n  't',\n  'know',\n  '.',\n  '@user',\n  'ombudsman',\n  'could',\n  'answer',\n  'the',\n  'question',\n  'but',\n  'nobody',\n  'cares',\n  'under',\n  'this',\n  'administration',\n  '.',\n  'All',\n  'this',\n  'does',\n  'is',\n  'create',\n  'chaos',\n  'for',\n  'refugees',\n  'and',\n  'asylees',\n  'that',\n  'are',\n  'perfectly',\n  'in',\n  'status',\n  'and',\n  'discourages',\n  'travel',\n  '.'],\n ['Munah',\n  ',',\n  'an',\n  'Iraqi',\n  'refugee',\n  ',',\n  'comes',\n  'to',\n  'volunteer',\n  'with',\n  'kids',\n  'at',\n  'CRP',\n  'everyday',\n  '.',\n  'She',\n  'gives',\n  'back',\n  'to',\n  'CRP',\n  'because',\n  'CRP',\n  'has',\n  'given',\n  'her',\n  'so',\n  'much',\n  '.',\n  'You',\n  'can',\n  'give',\n  'too',\n  '.'],\n ['Immigrants', 'become', 'a', 'bargaining', 'chip', '...'],\n ['@user',\n  'The',\n  'Assamese',\n  'laws',\n  'on',\n  'immigration',\n  'were',\n  'made',\n  'during',\n  'emergency',\n  'and',\n  'are',\n  'malafide',\n  ',',\n  'they',\n  'should',\n  'not',\n  'be',\n  'applied'],\n ['Posted',\n  'a',\n  'tweet',\n  'on',\n  'one',\n  'of',\n  \"O'Reilly's\",\n  'today',\n  'and',\n  'it',\n  'appears',\n  'I',\n  'unleashed',\n  'the',\n  'psychos',\n  '.',\n  'Been',\n  'called',\n  'a',\n  'Russian',\n  '...',\n  'cunt',\n  '...',\n  'bitch',\n  'and',\n  'whore',\n  'already',\n  '.'],\n ['Immigrant',\n  'sex',\n  'fiend',\n  'claims',\n  'he',\n  '‘',\n  '˜',\n  'did',\n  'not',\n  'know',\n  'it',\n  'was',\n  'illegal',\n  'to',\n  'grope',\n  'women',\n  '’'],\n ['Brazil-Venezuela',\n  'border',\n  'reopens',\n  'amid',\n  'fight',\n  'over',\n  'refugees',\n  '#FoxNews',\n  '@user'],\n ['Illegal',\n  'Alien',\n  'kills',\n  '2',\n  'Search',\n  'Dogs',\n  'during',\n  'pursuit',\n  '#BuildTheWall',\n  '#EndSanctuaryCities',\n  '#EndChainMigration',\n  '#AmericansFirst',\n  '@user',\n  '@user',\n  '@user',\n  '@user'],\n ['@user',\n  '@user',\n  'Tom',\n  ',',\n  'I',\n  'am',\n  'not',\n  'arguing',\n  'w',\n  'results',\n  ',',\n  'I',\n  'am',\n  'disgusted',\n  'that',\n  'America',\n  'business',\n  'men',\n  '/',\n  'women',\n  'chose',\n  'to',\n  'hire',\n  'illegals',\n  'in',\n  'the',\n  'first',\n  'place',\n  '.',\n  'I',\n  'believe',\n  'this',\n  'all',\n  'started',\n  'w',\n  'a',\n  'broken',\n  'seasonal',\n  'immigrant',\n  'hiring',\n  'system',\n  ',',\n  'loss',\n  'of',\n  'prevailing',\n  'wage',\n  'ru'],\n ['Anyone',\n  'else',\n  'notice',\n  'that',\n  'for',\n  'the',\n  'most',\n  'part',\n  'Trump',\n  'is',\n  'completely',\n  'deaf',\n  'dumb',\n  'and',\n  'blind',\n  'to',\n  'the',\n  'existence',\n  'of',\n  'the',\n  'indigenous',\n  'people',\n  '?',\n  'Unlike',\n  'him',\n  ',',\n  'even',\n  'though',\n  'some',\n  'of',\n  'them',\n  'are',\n  'of',\n  'mixed',\n  'blood',\n  ',',\n  'not',\n  'one',\n  'of',\n  'them',\n  'are',\n  'immigrants',\n  '.',\n  'Saw',\n  't-shirt',\n  'said',\n  \"can't\",\n  'be',\n  'an',\n  'illegal',\n  'immigrant',\n  'in',\n  'a',\n  'stolen',\n  'land'],\n ['Black', 'Bitch', 'Gets', 'Cock', 'Shoved', 'In', 'Her', 'Waiting', 'Cunt'],\n ['Absolutely',\n  'shameful',\n  '27',\n  'month',\n  'sentence',\n  '!',\n  '!',\n  'Woman',\n  'jailed',\n  'for',\n  'false',\n  'rape',\n  'allegation',\n  'against',\n  'police',\n  'officer'],\n ['@user',\n  'When',\n  'Roman',\n  'Polanski',\n  'drugged',\n  ',',\n  'raped',\n  'and',\n  'sodomized',\n  'a',\n  '13',\n  'year',\n  'old',\n  'girl',\n  'it',\n  'wasnt',\n  \"'\",\n  'rape',\n  ',',\n  'rape',\n  \"'\",\n  'right',\n  'Whoppi',\n  '?'],\n ['Things',\n  'we',\n  'heard',\n  'on',\n  'primetime',\n  'last',\n  'night',\n  ':',\n  '“',\n  'The',\n  'growth',\n  'rate',\n  'of',\n  'Muslims',\n  'in',\n  'Assam',\n  'from',\n  '1971',\n  'to',\n  '1991',\n  'is',\n  '77',\n  'per',\n  'cent',\n  ',',\n  'that',\n  'is',\n  'not',\n  'an',\n  'indigenous',\n  'population',\n  '.',\n  'A',\n  'large',\n  'part',\n  'of',\n  'that',\n  '77',\n  'per',\n  'cent',\n  'are',\n  'Bangladeshis',\n  '…',\n  '.',\n  'Bangladeshi',\n  'go',\n  'home',\n  '.',\n  '\"',\n  '#NRCAssam'],\n ['@user',\n  'well',\n  'if',\n  'feminists',\n  'make',\n  'up',\n  'stats',\n  'all',\n  'the',\n  'time',\n  \"can't\",\n  'a',\n  'guy',\n  '?',\n  'Double',\n  'standard',\n  'yet',\n  'again',\n  '.'],\n ['When',\n  'you',\n  'think',\n  \"you're\",\n  'going',\n  'on',\n  'a',\n  'date',\n  'and',\n  'she',\n  'shows',\n  'up',\n  'with',\n  'her',\n  'bff',\n  'and',\n  'shakes',\n  'your',\n  'hand'],\n ['Fist',\n  'pumping',\n  'a',\n  'pimp',\n  'through',\n  'glass',\n  'in',\n  'prison',\n  '😂',\n  'yes',\n  'sir',\n  '@user',\n  'you',\n  'are',\n  'the',\n  'top',\n  'boi',\n  '👏',\n  '🏻'],\n ['Ewk', 'man', 'this', 'bitch', 'be', 'with', 'mad', 'whores'],\n ['@user',\n  'How',\n  'bout',\n  'women',\n  'that',\n  'bitch',\n  'the',\n  'wolf',\n  '?',\n  'No',\n  'fine',\n  '?',\n  \"Where's\",\n  'the',\n  'equality',\n  '?'],\n ['Every',\n  'time',\n  'I',\n  'hear',\n  'a',\n  'women',\n  'slut-shame',\n  'another',\n  'women',\n  'for',\n  'what',\n  'their',\n  'wearing',\n  'I',\n  'can',\n  '’',\n  't',\n  'help',\n  'but',\n  'think',\n  '“',\n  'Bitch',\n  'you',\n  'wack',\n  'as',\n  'fuck',\n  '.',\n  '”'],\n ['Anhyone',\n  'else',\n  'hate',\n  'the',\n  'way',\n  'women',\n  'smell',\n  '?',\n  'I',\n  'think',\n  \"it's\",\n  'because',\n  \"they're\",\n  'BITCHES',\n  '!',\n  '!',\n  '!',\n  'Fuck',\n  'you',\n  'bitch',\n  '!',\n  '!',\n  '!',\n  '?',\n  '!'],\n ['@user',\n  'Immigration',\n  'leads',\n  'to',\n  'people',\n  'not',\n  'being',\n  'used',\n  'to',\n  'self',\n  'mange',\n  'in',\n  'the',\n  'NHS',\n  'I',\n  'often',\n  'hear',\n  'in',\n  'our',\n  'country',\n  'well',\n  'its',\n  'not',\n  'your',\n  'country',\n  'u',\n  'take'],\n ['@user',\n  'No',\n  'bitch',\n  'when',\n  'Sue',\n  '’',\n  's',\n  'sister',\n  'died',\n  'I',\n  'was',\n  'hysterical',\n  '..',\n  'so',\n  'much',\n  'sad',\n  'shit',\n  'happens',\n  'but',\n  'it',\n  '’',\n  's',\n  'so',\n  'good',\n  '!'],\n ['@user',\n  'ice',\n  'has',\n  'more',\n  'talent',\n  'in',\n  'his',\n  'ejeculated',\n  'sperm',\n  'than',\n  'you',\n  'do',\n  'in',\n  'ur',\n  'whole',\n  'body',\n  'please',\n  'shut',\n  'the',\n  'fuck',\n  'up',\n  'and',\n  'go',\n  'suck',\n  'idubbz',\n  'dick',\n  'u',\n  'cunt'],\n ['The',\n  'German',\n  'people',\n  'want',\n  'the',\n  'change',\n  'of',\n  'immigration',\n  'from',\n  'evrybodys',\n  'countries',\n  'to',\n  'come',\n  '.',\n  'To',\n  'send',\n  'all',\n  'the',\n  'refugees',\n  'home',\n  'is',\n  'possible',\n  ',',\n  'if',\n  'Merkel',\n  'retire',\n  '.',\n  'Will',\n  'Seehofer',\n  'protect',\n  'his',\n  'country',\n  'and',\n  'send',\n  'Merkel',\n  'in',\n  'pension',\n  '?'],\n ['Dirty',\n  'euro',\n  'skank',\n  'needs',\n  'a',\n  'massive',\n  'schlong',\n  'in',\n  'her',\n  'juicy',\n  'cunt'],\n ['@user',\n  '@user',\n  'Remember',\n  'when',\n  '@user',\n  'supt',\n  'Dr',\n  '.',\n  'Daniel',\n  'King',\n  'and',\n  '@user',\n  'police',\n  'wouldnt',\n  'lift',\n  'a',\n  'finger',\n  'or',\n  'bother',\n  'commenting',\n  'when',\n  'an',\n  'immigrant',\n  'student',\n  'was',\n  'separated',\n  'from',\n  'his',\n  'mother',\n  'and',\n  'deported',\n  'in',\n  '2010',\n  '?'],\n ['Welcome',\n  'to',\n  'Germany',\n  ',',\n  'and',\n  'you',\n  'get',\n  'three',\n  'weeks',\n  'paid',\n  'vacations',\n  'INCLUDING',\n  'airfare',\n  'BACK',\n  'to',\n  'the',\n  'very',\n  'countries',\n  'that',\n  'claim',\n  'they',\n  'are',\n  'fleeing',\n  'because',\n  'it',\n  'is',\n  'unsafe',\n  '.'],\n ['Refugees',\n  'forced',\n  'into',\n  'destitution',\n  'by',\n  'lack',\n  'of',\n  'information',\n  ',',\n  'charities',\n  'say',\n  '.',\n  'If',\n  'it',\n  'is',\n  'a',\n  'problem',\n  'they',\n  'could',\n  'go',\n  'home',\n  '?'],\n ['And',\n  'HE',\n  'HAD',\n  'ANOTHER',\n  'GIRL',\n  'WITH',\n  'HIM',\n  'bitch',\n  'she',\n  'was',\n  'shook'],\n ['@user',\n  'His',\n  'mama',\n  'is',\n  'a',\n  'whore',\n  '!',\n  'Smh',\n  'the',\n  'BLATANT',\n  'DISRESPECT',\n  'for',\n  'women',\n  'of',\n  'color',\n  'who',\n  'hold',\n  'political',\n  'seats',\n  'is',\n  'appalling'],\n ['@user',\n  '@user',\n  'No',\n  'compassion',\n  'for',\n  'Canadians',\n  'though',\n  'eh',\n  'Justin',\n  '?',\n  ':',\n  'Gang',\n  'violence',\n  'caused',\n  'by',\n  'non-White',\n  'immigration',\n  ',',\n  'transit',\n  'congestion',\n  'caused',\n  'by',\n  'overpopulation',\n  'and',\n  'immigrant',\n  'invasion',\n  '.',\n  'asylum',\n  'seekers',\n  'means',\n  'Canadians',\n  'lose',\n  'their',\n  'nation.It',\n  \"'\",\n  's',\n  'time',\n  'to',\n  'let',\n  \"'\",\n  'di'],\n ['I',\n  'woke',\n  'up',\n  'to',\n  'the',\n  'most',\n  'hysterical',\n  'message',\n  '.',\n  '“',\n  'Wtf',\n  'is',\n  '@user',\n  'in',\n  'jail',\n  '?',\n  '”',\n  '😂',\n  '😂',\n  '😂',\n  'Nooo',\n  '!',\n  'You',\n  'dumb',\n  'bitch',\n  'she',\n  '’',\n  's',\n  'in',\n  'boot',\n  'camp',\n  '.'],\n ['These',\n  'are',\n  'poor',\n  'Syrian',\n  'refugees',\n  'in',\n  'camps',\n  'in',\n  'turkey',\n  'and',\n  'Jordan'],\n ['Build',\n  'the',\n  'WALL',\n  '!',\n  'Undocumented',\n  'immigrant',\n  'arrested',\n  'in',\n  'connection',\n  'with',\n  'rape',\n  'of',\n  '11',\n  '-',\n  'year-old',\n  'girl',\n  ':',\n  'https://t.co/i5zGw9VKGe'],\n ['@user',\n  'Take',\n  'your',\n  'time',\n  '.',\n  'Find',\n  'your',\n  'peace',\n  'and',\n  'grow',\n  'in',\n  'it',\n  '.',\n  'Not',\n  'all',\n  'men',\n  'are',\n  'like',\n  'that',\n  ',',\n  'you',\n  'deserve',\n  'better',\n  '.'],\n ['Your',\n  'nose',\n  'ring',\n  'looks',\n  'like',\n  'a',\n  'fucking',\n  'booger',\n  '.',\n  \"It's\",\n  'not',\n  'cute',\n  ',',\n  \"it's\",\n  'trashy',\n  '#WomenSuck'],\n ['break',\n  'up',\n  'with',\n  'your',\n  'girlfriends',\n  'before',\n  'you',\n  'leave',\n  'for',\n  'college',\n  '.',\n  'Theyre',\n  'just',\n  'gonna',\n  'tie',\n  'you',\n  'down',\n  'and',\n  'we',\n  'all',\n  'know',\n  \"they're\",\n  'gonna',\n  'cheat',\n  '#WomenSuck'],\n ['@user',\n  'Since',\n  'you',\n  'believe',\n  'in',\n  'justice',\n  'for',\n  'rape',\n  'victims',\n  'I',\n  'hope',\n  'you',\n  'will',\n  'stand',\n  'up',\n  'for',\n  'the',\n  'women',\n  'who',\n  'have',\n  'accus',\n  '…'],\n [\"'\",\n  'Women',\n  'for',\n  'the',\n  'first',\n  'time',\n  'are',\n  'raising',\n  'their',\n  'voice',\n  'and',\n  'asking',\n  'for',\n  'peace',\n  \"'\",\n  'bitch',\n  'Palestinian',\n  'women',\n  'have',\n  'been',\n  'protesting',\n  '/',\n  'marching',\n  'for',\n  '69',\n  'years'],\n ['@user',\n  'YOU',\n  'FVCKING',\n  'CUNT',\n  'BITCH',\n  '!',\n  '!',\n  '!',\n  'APOLOGIZE',\n  '!',\n  '@user',\n  '@user',\n  '@user'],\n ['RT',\n  '@user',\n  \"I'm\",\n  'not',\n  'just',\n  'legs',\n  'and',\n  'a',\n  'wallet',\n  '#YesAllMen'],\n ['Oh',\n  'please',\n  'stfu',\n  '.',\n  'No',\n  'one',\n  'cares',\n  'Susan',\n  'you',\n  'told',\n  'everyone',\n  'Hillary',\n  'was',\n  'worse',\n  'than',\n  'trump',\n  'you',\n  'no',\n  'longer',\n  'get',\n  'to',\n  'tell',\n  'us',\n  'anything'],\n ['Church',\n  'leaders',\n  'determine',\n  'to',\n  'ease',\n  '#economic',\n  'problems',\n  'at',\n  'the',\n  'heart',\n  'of',\n  '#humantrafficking',\n  'plaguing',\n  '#Indonesia',\n  '@user',\n  '@user',\n  '@user'],\n ['rape',\n  'is',\n  'bad',\n  'but',\n  'alota',\n  'hoes',\n  'be',\n  'lying',\n  'bout',\n  'that',\n  'shit',\n  'women',\n  'are',\n  'crazy',\n  'dawg',\n  '&',\n  'will',\n  'fuck',\n  'ya',\n  'life',\n  'up',\n  'be',\n  'careful',\n  '..'],\n ['I',\n  'refuse',\n  'to',\n  'be',\n  'a',\n  'stuck',\n  'up',\n  ',',\n  'judgmental',\n  ',',\n  'hypocritical',\n  ',',\n  'boring',\n  ',',\n  'non',\n  'progressive',\n  'cunt',\n  ',',\n  'just',\n  'to',\n  'put',\n  'other',\n  'women',\n  'streamers',\n  'down'],\n ['Darmian',\n  \"he's\",\n  'left',\n  'footed',\n  'mate',\n  \"don't\",\n  'you',\n  'know',\n  'that',\n  'already',\n  'you',\n  'stupid',\n  'cunt'],\n [\"I'm\",\n  'an',\n  'immigrant',\n  '—',\n  'and',\n  'Trump',\n  'is',\n  'right',\n  'on',\n  'immigration',\n  '.',\n  'via',\n  '@user',\n  '#BuildTheWall',\n  '#DeportIllegalAliens'],\n ['@user', 'WHITE', 'CRACKER', 'BITCH', 'YOUR', 'MOMS', 'A', 'SLUT', 'BITCH'],\n ['Last', 'time', 'I', 'DM', 'you'],\n ['Could', 'the', 'migration', 'crisis', 'finish', 'the', 'EU', '?'],\n ['@user',\n  'Please',\n  'use',\n  'the',\n  'Armed',\n  \"Force's\",\n  'to',\n  'build',\n  'the',\n  'wall',\n  'sir',\n  '!',\n  '!',\n  '!',\n  'We',\n  'really',\n  'need',\n  'to',\n  'stop',\n  'all',\n  'the',\n  'illegals',\n  'from',\n  'voting',\n  'and',\n  'changing',\n  'our',\n  'culture',\n  '!',\n  '!',\n  '!',\n  '#BuildThatWall'],\n ['if',\n  'the',\n  'temp',\n  'is',\n  '50',\n  'degrees',\n  '&',\n  'up',\n  'in',\n  'the',\n  'fall',\n  'time',\n  '🍂',\n  'i',\n  'will',\n  'always',\n  'wear',\n  'shorts',\n  '&',\n  'booties',\n  '.',\n  'call',\n  'me',\n  'a',\n  'slut',\n  ',',\n  'hoe',\n  ',',\n  'or',\n  'whore',\n  'idc',\n  '🙂'],\n ['Are',\n  'you',\n  'an',\n  'educator',\n  'looking',\n  'for',\n  'ways',\n  'to',\n  'help',\n  'immigrant',\n  'youth',\n  '?',\n  'Here',\n  'are',\n  '4',\n  'things',\n  'you',\n  'can',\n  'start',\n  'doing',\n  'this',\n  'week',\n  'to',\n  'provide',\n  'support',\n  '.',\n  'Please',\n  'share',\n  'and',\n  'help',\n  'another',\n  'teacher',\n  'stay',\n  'informed',\n  '!',\n  'To',\n  'learn',\n  'more',\n  'go',\n  'to',\n  '#InformedImmigrant'],\n ['Hey',\n  'Lady',\n  'Control',\n  'Your',\n  \"'\",\n  'Man',\n  \"'\",\n  'Control',\n  'Your',\n  \"'\",\n  'Spiritual',\n  'Man',\n  'and',\n  'His',\n  'yogi',\n  'Dick',\n  \"'\",\n  'Women',\n  'are',\n  'not',\n  'object',\n  '...',\n  'I',\n  'will',\n  'show',\n  'all',\n  'captures',\n  'Warning',\n  '1'],\n ['Too',\n  'bad',\n  'some',\n  'of',\n  'you',\n  'bitches',\n  \"can't\",\n  'draw',\n  'on',\n  'a',\n  'better',\n  'personality',\n  ',',\n  'the',\n  'way',\n  'you',\n  'draw',\n  'on',\n  'your',\n  'fuckin',\n  'eyebrows'],\n ['RT',\n  '@user',\n  '\"',\n  'You',\n  'too',\n  'skinny',\n  ',',\n  'imma',\n  'hurt',\n  'you',\n  '\"',\n  'Girl',\n  'if',\n  'you',\n  \"don't\",\n  'shut',\n  'the',\n  'fuck',\n  'up',\n  'and',\n  'ride',\n  'this',\n  'dick',\n  '.',\n  'Imma',\n  'be',\n  'aight',\n  '.',\n  'I',\n  'got',\n  'Obamacare',\n  '.',\n  '\"'],\n ['The',\n  'new',\n  'hunter',\n  'of',\n  'the',\n  'puppets',\n  'of',\n  'the',\n  'EU',\n  'establishment',\n  'and',\n  'the',\n  'refugees',\n  '(',\n  '500.000',\n  'stay',\n  'in',\n  'Italia',\n  ')',\n  'is',\n  'named',\n  'SALVINI',\n  '.',\n  'Europe',\n  'is',\n  'running',\n  'straight',\n  'into',\n  'the',\n  'collaps',\n  ',',\n  'we',\n  'will',\n  'see',\n  '.',\n  'And',\n  'only',\n  'because',\n  'Merkel',\n  'likes',\n  'to',\n  'support',\n  '1,5',\n  'mio',\n  '.',\n  'refugees',\n  'in',\n  'Germany',\n  '.'],\n ['Naw',\n  'depends',\n  'if',\n  'he',\n  'rape',\n  'fam',\n  \"that's\",\n  'a',\n  'dub',\n  'if',\n  'its',\n  'a',\n  'random',\n  'bitch',\n  'he',\n  'a',\n  'whole',\n  'dicchead',\n  'but',\n  'i',\n  'stand',\n  'by',\n  'em',\n  'right',\n  'or',\n  'wrong'],\n ['So',\n  'if',\n  'the',\n  'best',\n  'way',\n  'to',\n  'bring',\n  'awareness',\n  '&',\n  'fight',\n  'the',\n  'problem',\n  'is',\n  'by',\n  'U',\n  '-',\n  'problematically',\n  '-',\n  'crying',\n  'about',\n  \"'\",\n  'Not',\n  'all',\n  'men',\n  \"'\",\n  'YOU',\n  'ARE',\n  'PART',\n  'OF',\n  'THE',\n  'PROBLEM',\n  '.'],\n ['@user',\n  'In',\n  'fact',\n  'both',\n  'Centre',\n  '/',\n  'States',\n  'need',\n  'to',\n  'hound',\n  'out',\n  'all',\n  'illegal',\n  'immigrants',\n  '&',\n  'deport',\n  'them',\n  'immediately',\n  'to',\n  'their',\n  'Country',\n  '.'],\n ['@user',\n  '@user',\n  '@user',\n  'you',\n  'can',\n  'state',\n  'what',\n  'you',\n  'want',\n  '.',\n  'But',\n  'dont',\n  'bitch',\n  'when',\n  'you',\n  'are',\n  'called',\n  'out',\n  'for',\n  'perpetuating',\n  'rape',\n  'culture',\n  '.'],\n ['President',\n  'Trump',\n  'can',\n  'solve',\n  'the',\n  'immigration',\n  'crisis',\n  'with',\n  'legislation',\n  'that',\n  'died',\n  'in',\n  '2013',\n  '.',\n  'New',\n  'op-ed',\n  'from',\n  '@user',\n  'âž',\n  '\\x9d'],\n ['EU',\n  'leaders',\n  'meet',\n  'in',\n  'Brussels',\n  'to',\n  'discuss',\n  'migration',\n  'challenge'],\n ['You', 'give', 'me', 'life', '!', '!', '😘', '😘'],\n ['@user',\n  'A',\n  'big',\n  'fat',\n  'zero',\n  '#bookerfordogcatcher2020',\n  '#KeepAmericaGreat',\n  '#Trump2020',\n  '#BuildThatWall'],\n ['This',\n  'needs',\n  'to',\n  'go',\n  'viral',\n  '!',\n  'Please',\n  'RT',\n  '!',\n  '#BuildThatWall'],\n ['Stop',\n  'allowing',\n  'Illegals',\n  'to',\n  'Dump',\n  'their',\n  'kids',\n  'at',\n  'the',\n  'border',\n  'like',\n  'Road',\n  'Kill',\n  'Make',\n  'them',\n  'take',\n  'they',\n  'kids',\n  'with',\n  'them',\n  'and',\n  'not',\n  'burden',\n  'U',\n  '.',\n  'S',\n  'Taxpayers',\n  'for',\n  'Medicaid',\n  'Education',\n  'and',\n  'Food',\n  'Stamps',\n  'which',\n  'is',\n  'what',\n  'their',\n  'kids',\n  'get',\n  'Trump',\n  '#MGA',\n  '#RedNationRising',\n  '@user',\n  '#Immigration'],\n ['You', 'mean', 'before', 'she', 'sucked', 'dick', 'for', 'fame', '?'],\n ['My',\n  'friends',\n  'kids',\n  'are',\n  'being',\n  'shitheads',\n  'and',\n  'they',\n  'just',\n  'took',\n  'them',\n  'upstairs',\n  'to',\n  'get',\n  'showered',\n  '...',\n  'Guess',\n  'who',\n  'keeps',\n  'flushing',\n  'the',\n  '1st',\n  'floor',\n  'toilet',\n  '?'],\n ['Nuclear',\n  'power',\n  'takes',\n  'a',\n  'hit',\n  'as',\n  'European',\n  'heatwave',\n  'rolls',\n  'on',\n  '—',\n  'RenewEconomy'],\n ['When', 'your', 'crush', 'finally', 'slides', 'in', 'ya', 'DM'],\n ['The',\n  'Home',\n  'Office',\n  'has',\n  'put',\n  'on',\n  'hold',\n  'plans',\n  'to',\n  're',\n  'patriate',\n  '240',\n  'Glasgow',\n  'failed',\n  'asylum',\n  'seekers',\n  'with',\n  'a',\n  'week',\n  'to',\n  'go',\n  'its',\n  'always',\n  'bad',\n  'news',\n  'for',\n  'Brits',\n  'where',\n  'migrants',\n  'are',\n  'concerned',\n  'and',\n  'a',\n  'Pakistani',\n  'Home',\n  'Office',\n  'Minister',\n  'Sanjiv',\n  'Javid',\n  'it',\n  'will',\n  'never',\n  'get',\n  'better',\n  '😥'],\n ['Lazy',\n  'Sunday',\n  'in',\n  'Denmark',\n  '...',\n  'Police',\n  'officers',\n  'attacked',\n  'by',\n  'migrant',\n  'family',\n  ',',\n  'including',\n  'mom',\n  'in',\n  'a',\n  'head-scarf.Person',\n  'recording',\n  'considers',\n  'the',\n  'situation',\n  'very',\n  'funny',\n  'as',\n  'he',\n  'laughs',\n  'at',\n  'the',\n  'end',\n  '.',\n  'A',\n  'police',\n  'officer',\n  'in',\n  'the',\n  'hospital',\n  'w',\n  '/',\n  'a',\n  'head',\n  'wound',\n  '.',\n  '#DiversityIsOurStrengthhttps',\n  ':/',\n  '/',\n  't.co/4w471UFY6F'],\n ['Today',\n  'my',\n  'daughter',\n  'got',\n  'her',\n  'period',\n  '.',\n  'I',\n  'guess',\n  \"It's\",\n  'time',\n  'to',\n  'throw',\n  'her',\n  'away',\n  'and',\n  'get',\n  'a',\n  'new',\n  'one',\n  ',',\n  'right',\n  '?',\n  'LOL',\n  'Fuck',\n  'her',\n  ',',\n  'stupid',\n  'bitch',\n  'kid',\n  '.',\n  'I',\n  'hate',\n  'my',\n  '!',\n  '!'],\n ['Easy',\n  'solution',\n  'no',\n  'benefits',\n  'after',\n  'child',\n  '2',\n  'and',\n  'wife',\n  '1',\n  'and',\n  'no',\n  'votes',\n  'for',\n  '1st',\n  'and',\n  '2nd',\n  'generation',\n  'immigrants',\n  'simple',\n  'solution',\n  '.',\n  'No',\n  'combined',\n  'benefits',\n  'and',\n  'no',\n  'guarantees',\n  'of',\n  'jobs',\n  'or',\n  'homes',\n  'unless',\n  'they',\n  'apply',\n  'before',\n  'arrival',\n  'NO',\n  'MORE',\n  'SOFT',\n  'TOUCHES',\n  'ps',\n  'Gulf',\n  'States',\n  'and',\n  'Saudi',\n  'intake',\n  'of',\n  \"'\",\n  'refugees',\n  \"'\",\n  '=',\n  '0'],\n ['MAINSTREAM',\n  'MEDIA',\n  'finally',\n  'reporting',\n  'the',\n  'good',\n  'immigration',\n  'news',\n  'that',\n  'until',\n  'now',\n  'was',\n  'only',\n  'being',\n  'reported',\n  'in',\n  'alternative',\n  'media',\n  'via',\n  '@user'],\n ['And', 'on', 'and', 'it', 'goes', '.', '#BUILDTHATWALL'],\n ['@user',\n  'sup',\n  'bitch',\n  'yo',\n  'be',\n  'fuxking',\n  'care',\n  'ful',\n  'i',\n  'find',\n  'out',\n  'ur',\n  'touching',\n  'my',\n  'man',\n  '.',\n  'ima',\n  'find',\n  'you',\n  '.',\n  'be',\n  'scared',\n  'whore',\n  'be',\n  'fuxking',\n  'scared',\n  '.'],\n ['Israel',\n  'helps',\n  'White',\n  'Helmets',\n  ',',\n  'but',\n  'rejects',\n  'Syrian',\n  'refugees'],\n ['I',\n  \"don't\",\n  'have',\n  'to',\n  'smile',\n  ',',\n  'my',\n  'emojis',\n  'do',\n  'that',\n  'for',\n  'me'],\n ['More',\n  'Evidence',\n  'that',\n  'the',\n  'US',\n  'Constitution',\n  'Does',\n  'Not',\n  'Mandate',\n  'Federal',\n  'Control',\n  'of',\n  'Immigration'],\n ['#immigrant',\n  'Worker',\n  'at',\n  'Arizona',\n  'Immigration',\n  'Shelter',\n  'Accused',\n  'of',\n  'Sexually',\n  'Abusing',\n  '8',\n  'Teen',\n  'Boys',\n  'via',\n  '@user'],\n ['@user',\n  '@user',\n  'You',\n  'nasty',\n  'ugly',\n  'whore',\n  '!',\n  '!',\n  '!',\n  'No',\n  'one',\n  'cares',\n  'what',\n  'you',\n  'think',\n  'and',\n  '#THEBIGDUMP',\n  'only',\n  'sucks',\n  'black',\n  'dick',\n  'now',\n  'so',\n  'stop',\n  'trying',\n  'to',\n  'suck',\n  '#donthecon',\n  'dick',\n  '.',\n  '🖕',\n  '🖕',\n  '🖕',\n  '💩',\n  '💩'],\n ['Did',\n  'Morocco',\n  'let',\n  'more',\n  'migrants',\n  'make',\n  'dangerous',\n  '#Spain',\n  'crossing',\n  'to',\n  'get',\n  'a',\n  'good',\n  'deal',\n  'with',\n  'EU',\n  '?'],\n ['New',\n  '@user',\n  'report',\n  'coming',\n  ':',\n  '\"',\n  '#Bangladesh',\n  'is',\n  'Not',\n  'My',\n  'Country',\n  '\"',\n  'about',\n  '#Rohingya',\n  '#refugees',\n  'in',\n  'camps',\n  '.',\n  'Press',\n  'conference',\n  'on',\n  '6',\n  'August',\n  'at',\n  '10:30',\n  'am',\n  'in',\n  '#Bangkok',\n  'at',\n  'the',\n  '@user',\n  '-',\n  'all',\n  'welcome',\n  '.',\n  'Details',\n  'here',\n  ':'],\n ['@user',\n  'I',\n  'dont',\n  'think',\n  'us',\n  'women',\n  'will',\n  'ever',\n  'be',\n  'ok',\n  'with',\n  'anyone',\n  'calling',\n  'us',\n  'a',\n  'bitch',\n  '..',\n  'lmao',\n  'no',\n  'matter',\n  'how',\n  'you',\n  'mean',\n  'it'],\n ['Victory',\n  'for',\n  'Trump',\n  '!',\n  'But',\n  'only',\n  '6',\n  'islamic',\n  'countries',\n  'now',\n  'are',\n  'stopped',\n  'for',\n  'immigration',\n  'into',\n  'USA',\n  '!',\n  'There',\n  'are',\n  '34',\n  'islamic',\n  'countries',\n  'more',\n  '.',\n  'To',\n  'beware',\n  'the',\n  'USA',\n  'from',\n  'terrorists',\n  'these',\n  'also',\n  'has',\n  'to',\n  'get',\n  'banned',\n  '.'],\n ['When',\n  'they',\n  'REALLY',\n  \"don't\",\n  'want',\n  'you',\n  'to',\n  'advertise',\n  '😂',\n  '😂',\n  '😂'],\n ['‘',\n  '˜',\n  'Developing',\n  'countries',\n  'host',\n  '85',\n  '%',\n  'of',\n  'world',\n  '’',\n  's',\n  'refugees',\n  '’'],\n ['@user',\n  '@user',\n  'Lies',\n  '!',\n  'Women',\n  'who',\n  'came',\n  'out',\n  'of',\n  'the',\n  'gutter',\n  'all',\n  'of',\n  'a',\n  'sudden',\n  'cry',\n  'rape',\n  'or',\n  'abuse',\n  'but',\n  'traded',\n  'it',\n  'fo',\n  '…'],\n ['When',\n  'you',\n  'put',\n  'it',\n  'in',\n  'her',\n  'butt',\n  'without',\n  'tellin',\n  'her',\n  'and',\n  'her',\n  'head',\n  'spins',\n  'all',\n  'the',\n  'way',\n  'around',\n  'to',\n  'cuss',\n  'you',\n  'out'],\n ['followed',\n  'all',\n  'not',\n  'previously',\n  'followed',\n  '.',\n  '#Trumptrain',\n  '#MAGA',\n  '#KAG',\n  '#WalkAway',\n  '#Nodaca',\n  '#iwantthewall'],\n ['@user',\n  'ahshshsjs',\n  'IM',\n  'GONNA',\n  'KILL',\n  'A',\n  'BITCH',\n  '!',\n  '!',\n  '!',\n  'MY',\n  'GIRL',\n  'GOT',\n  'WHAT',\n  'SHE',\n  'DESERVES',\n  'CAUSE',\n  'SHE',\n  'GOT',\n  'TALENT',\n  'AHSJSJD',\n  'HOW',\n  'CAN',\n  'PPL',\n  'DISCREDIT',\n  'HER',\n  'LIKE',\n  'THAT',\n  '?',\n  '!',\n  '?',\n  '?',\n  '?',\n  '!',\n  '!'],\n ['LMFAO',\n  'lil',\n  'biddy',\n  'whores',\n  'prison',\n  'rape',\n  'bitch',\n  'im',\n  'whose',\n  'bitch'],\n ['Stop',\n  'sayin',\n  'you',\n  'have',\n  'resting',\n  'bitch',\n  'face',\n  '...',\n  'Bitch',\n  'you',\n  'just',\n  'ugly',\n  'AF'],\n ['Philadelphia',\n  'will',\n  'issue',\n  'municipal',\n  'ID',\n  'cards',\n  'starting',\n  'next',\n  'year',\n  '-',\n  'Philly'],\n ['@user',\n  '@user',\n  '@user',\n  '@user',\n  '@user',\n  '@user',\n  '@user',\n  '@user',\n  '@user',\n  '@user',\n  'Bc',\n  ',',\n  'if',\n  'you',\n  'care',\n  'so',\n  'much',\n  'for',\n  'these',\n  'immigrants',\n  ',',\n  'you',\n  'can',\n  'take',\n  'them',\n  'to',\n  'your',\n  'state',\n  '.'],\n ['Seriously',\n  'mam',\n  ',',\n  'sometimes',\n  'I',\n  'feel',\n  'u',\n  'lack',\n  'brains',\n  'or',\n  'u',\n  'are',\n  'acting',\n  '.',\n  'Illegal',\n  'immigrants',\n  'are',\n  'illegal',\n  'immigrants',\n  'period',\n  '.',\n  'Where',\n  'does',\n  'rich',\n  '/',\n  'poor',\n  'come',\n  'to',\n  'question',\n  '?',\n  'Anybody',\n  'who',\n  'has',\n  'illegal',\n  'documents',\n  'will',\n  'be',\n  'sent',\n  'home',\n  '/',\n  'detained',\n  'in',\n  'any',\n  'country',\n  '.',\n  'Even',\n  'in',\n  'the',\n  'country',\n  'u',\n  'go',\n  'whining',\n  'against',\n  'India'],\n ['Thank',\n  'you',\n  '#Pac12AfterDark',\n  '#MTN8Final',\n  '#BMFConference2017',\n  'Johann',\n  'van',\n  'Graan',\n  'chile',\n  'con',\n  'la',\n  'ram'],\n ['@user',\n  '@user',\n  'Do',\n  'it',\n  'now',\n  ',',\n  'build',\n  'the',\n  'wall',\n  'before',\n  'any',\n  'more',\n  'innocent',\n  'Americans',\n  'are',\n  'slaughtered',\n  '!',\n  '#BuildThatWall',\n  '#BuildTheWall',\n  '#BuildTheDamnWall'],\n ['Follow',\n  'pioneers',\n  'on',\n  'Swedish',\n  'Immigrant',\n  'Trail',\n  '#chisagocounty',\n  '#exploreminn'],\n ['How',\n  'many',\n  'thousands',\n  'of',\n  'taxpayer',\n  'dollars',\n  'did',\n  'Rockelle',\n  'Garza',\n  'fleece',\n  'to',\n  'defend',\n  'free',\n  'abortions',\n  'for',\n  'illegal',\n  'aliens',\n  '?',\n  'Oh',\n  'the',\n  'poor',\n  'illegal',\n  'alien',\n  'might',\n  'get',\n  'spanked',\n  'by',\n  'her',\n  'parents',\n  ',',\n  'gimmie',\n  'a',\n  'break',\n  '.',\n  '#BuildThatWall',\n  '#FridayFeeIings'],\n ['@user',\n  'I',\n  'find',\n  'it',\n  'odd',\n  'that',\n  'they',\n  'think',\n  'a',\n  'woman',\n  'is',\n  'the',\n  'authority',\n  'on',\n  'what',\n  'men',\n  'should',\n  'do',\n  'with',\n  'their',\n  'lives',\n  ',',\n  'but',\n  'then',\n  'many',\n  'of',\n  'them',\n  'think',\n  'women',\n  'are',\n  'inferior',\n  'to',\n  'men',\n  'and',\n  'women',\n  'who',\n  'want',\n  'equal',\n  'treatment',\n  'are',\n  'feminazis',\n  '.',\n  'WTF',\n  'alt-right',\n  '?',\n  'Cognitive',\n  'dissonance',\n  'much',\n  '?'],\n ['@user',\n  'did',\n  'you',\n  'fight',\n  'for',\n  'women',\n  '?',\n  'Ever',\n  '?',\n  '?',\n  '?',\n  'Did',\n  'you',\n  'fight',\n  'against',\n  'the',\n  'AESO',\n  'in',\n  'our',\n  'recession',\n  '?',\n  'Did',\n  'you',\n  'acknowledge',\n  'sustainability',\n  'in',\n  'the',\n  'context',\n  'of',\n  'our',\n  'energy',\n  'industry',\n  '?',\n  'Ever',\n  '?',\n  '?',\n  '?',\n  'Shut',\n  'your',\n  'stupid',\n  'fucking',\n  'cunt',\n  'mouth',\n  '.'],\n ['Train',\n  'in',\n  'Greece',\n  'hits',\n  ',',\n  'kills',\n  '2',\n  'migrants',\n  'near',\n  'Turkish',\n  'border'],\n ['Of',\n  'our',\n  'many',\n  'planned',\n  'events',\n  'this',\n  'Refugee',\n  'Awareness',\n  'Month',\n  'and',\n  'Immigrant',\n  'Heritage',\n  'Month',\n  ',',\n  'we',\n  'cannot',\n  'think',\n  'of',\n  'a',\n  'better',\n  'conclusion',\n  'than',\n  'an',\n  'evening',\n  'of',\n  'prayer',\n  'and',\n  'worship',\n  '.',\n  'Join',\n  'our',\n  'international',\n  'group',\n  'of',\n  'family',\n  ',',\n  '...'],\n ['When',\n  'eating',\n  'the',\n  'groceries',\n  \"didn't\",\n  'quite',\n  'go',\n  'as',\n  'planned',\n  '...'],\n ['Immigrant', 'Defense', 'Project', '#HereToStay'],\n ['Fellas',\n  ',',\n  'if',\n  'you',\n  'have',\n  'a',\n  'good',\n  'girl',\n  'in',\n  'your',\n  'life',\n  'cherish',\n  'her',\n  'and',\n  'love',\n  'her',\n  ',',\n  'because',\n  'most',\n  'of',\n  'these',\n  'girls',\n  '/',\n  'women',\n  'rather',\n  'play',\n  'the',\n  'Hoe',\n  '💯'],\n ['If',\n  'Saudi',\n  'Arabia',\n  \"doesn't\",\n  'back',\n  'off',\n  '@user',\n  'will',\n  'send',\n  'in',\n  \"Canada's\",\n  '2',\n  'Sea',\n  'Kings',\n  'and',\n  'refuse',\n  'to',\n  'give',\n  'all',\n  'their',\n  'illegal',\n  'immigrants',\n  'to',\n  'Canada',\n  'anymore',\n  'hugs',\n  '!',\n  '#cdnpoli',\n  '#canpoli',\n  '#onpoli',\n  '#abpoli',\n  '#ableg',\n  '#cpc',\n  '#pcpo',\n  '#ucp',\n  '#lpc',\n  '#SaudiArabia'],\n ['@user',\n  \"That's\",\n  'rich',\n  'coming',\n  'from',\n  'the',\n  'hysterical',\n  'woman',\n  'who',\n  \"didn't\",\n  'get',\n  'the',\n  'right',\n  'seat',\n  'on',\n  'an',\n  'airplane',\n  '.'],\n ['@user',\n  'Julian',\n  ',',\n  'you',\n  'are',\n  'currently',\n  'hiding',\n  'in',\n  'a',\n  'cupboard',\n  'to',\n  'avoid',\n  'a',\n  'rape',\n  'allegation',\n  'or',\n  'two',\n  '...'],\n ['honey',\n  ',',\n  \"it's\",\n  'not',\n  'you',\n  'vs',\n  '.',\n  'skank',\n  '.',\n  \"It's\",\n  'you',\n  'versus',\n  'EVERY',\n  'skank',\n  '.',\n  \"It's\",\n  'like',\n  \"she's\",\n  'a',\n  'mighty',\n  'Spartan',\n  'warrior',\n  'but',\n  \"there's\",\n  'a',\n  '…'],\n ['@user',\n  'you',\n  'are',\n  'a',\n  'big',\n  'piece',\n  'of',\n  'white',\n  'trash',\n  'you',\n  'fucking',\n  'pussy',\n  'son',\n  'of',\n  'a',\n  'bitch',\n  \"you're\",\n  'a',\n  'fucking',\n  'pussy',\n  '.',\n  \"i'll\",\n  'bitch',\n  'slap',\n  'u',\n  'make',\n  'u',\n  'my',\n  'prison',\n  'whore'],\n ['Mr',\n  'Shorter',\n  '-',\n  'scum',\n  'bag',\n  'posting',\n  'things',\n  'like',\n  'this',\n  '-',\n  'FADEC',\n  'ON',\n  'LSE',\n  'YOU',\n  'ARE',\n  'A',\n  'CUNT',\n  '-',\n  'SON',\n  'OF',\n  'A',\n  'WHORE',\n  '#hnr'],\n ['#WakeUpAmerica',\n  '~',\n  '>',\n  '#WalkAwayFromDemocrats',\n  '@user',\n  '@user',\n  '@user',\n  'are',\n  'more',\n  'worried',\n  'about',\n  'bringing',\n  'in',\n  'future',\n  'voters',\n  'than',\n  'protecting',\n  'America',\n  'from',\n  'Criminals',\n  '@user',\n  'is',\n  'doing',\n  'what',\n  'its',\n  'supposed',\n  'to',\n  '!',\n  '#SecureOurBorder',\n  '#KeepCriminalsOUT',\n  '#BuildThatWall',\n  '#MAGA',\n  '#StandWithTrump',\n  '@user'],\n ['@user',\n  '@user',\n  'Illegal',\n  'Aliens',\n  'should',\n  'all',\n  'be',\n  'deported',\n  'along',\n  'with',\n  'their',\n  'entire',\n  'family',\n  'NOT',\n  ',',\n  'I',\n  'repeat',\n  'NOT',\n  'given',\n  'free',\n  'anything',\n  '..',\n  '#NoHealthCare',\n  '#NoHousing',\n  '#NoFinancialSupport',\n  '#NoDACA',\n  '#NoAmnesty',\n  '#SendThemBack',\n  '#StopTheInvasion',\n  '#BuildTheWallNow',\n  'from',\n  'the',\n  'Pa'],\n ['Just',\n  'cause',\n  'you',\n  'pussy',\n  'boys',\n  'get',\n  'a',\n  'strap',\n  'don',\n  'mean',\n  'you',\n  'a',\n  'shoota',\n  '('],\n ['They',\n  'native',\n  'Americans',\n  'you',\n  'no',\n  'good',\n  'hill',\n  'billy',\n  'immigrant'],\n ['@user',\n  '@user',\n  '@user',\n  'Stop',\n  'the',\n  'invasion',\n  'of',\n  '3rd',\n  'world',\n  'immigrants',\n  '.',\n  'Support',\n  'Europeans',\n  'to',\n  'have',\n  'more',\n  'children',\n  '.',\n  'Preserve',\n  'our',\n  'culture',\n  'and',\n  'history',\n  '.',\n  'Stop',\n  'Islam',\n  '!',\n  '#stop_islamization',\n  '#StopInvasion',\n  '##complicediSalvini',\n  '#REFUGEESNOTWELCOME'],\n ['Guys',\n  'cheat',\n  'and',\n  'are',\n  'tried',\n  'and',\n  'hanged',\n  '.',\n  'Women',\n  'cheat',\n  'and',\n  'its',\n  'somehow',\n  'their',\n  'guys',\n  'fault',\n  '.'],\n ['When',\n  \"you're\",\n  'up',\n  'till',\n  '5am',\n  'but',\n  'had',\n  'to',\n  'be',\n  'to',\n  'work',\n  'by',\n  '8:',\n  '30'],\n ['@user',\n  '@user',\n  '@user',\n  \"You're\",\n  'a',\n  'stupid',\n  'cunt',\n  '!',\n  'Hope',\n  '45',\n  'cause',\n  'your',\n  'death',\n  '!'],\n ['@user',\n  '@user',\n  'Women',\n  'were',\n  'never',\n  'sacred',\n  '.',\n  \"He's\",\n  'talking',\n  'about',\n  'the',\n  'ancient',\n  'trope',\n  'of',\n  'Virgin',\n  'vs',\n  '.',\n  'Whore',\n  '.',\n  '#clueless'],\n ['Serbian', 'government', 'committed', 'to', 'resolving', 'refugee', 'issue'],\n ['From',\n  'A',\n  '-',\n  'list',\n  'stars',\n  'to',\n  'budding',\n  'actresses',\n  ':',\n  'The',\n  'women',\n  'who',\n  'accuse',\n  'Harvey',\n  'Weinstein',\n  'of',\n  'rape',\n  'and',\n  '...',\n  'via',\n  '@user'],\n ['congrats', 'slut', \"he's\", 'yours', 'you', 'win', ':)'],\n ['When', 'the', 'invaders', 'protest', 'new', 'invaders', '#stoptheinvasion'],\n ['German',\n  'Interior',\n  'Minister',\n  'Slams',\n  'Merkel',\n  'and',\n  'bans',\n  'the',\n  'entry',\n  'of',\n  'new',\n  'migrants',\n  'into',\n  'Germany',\n  '-',\n  'Free',\n  'Speech',\n  'Time',\n  '-',\n  '@user'],\n ['@user',\n  \"You're\",\n  'the',\n  'most',\n  'dumb',\n  'nigga',\n  'in',\n  'the',\n  'history',\n  'of',\n  'dumb',\n  'niggas',\n  ',',\n  'arguing',\n  'with',\n  'women',\n  'like',\n  'a',\n  'lil',\n  'bitch'],\n ['Oh', 'ffs', 'NO', 'MORE', 'MIGRANTS', 'GO', 'HOME'],\n ['@user',\n  'pimp',\n  'Butters',\n  '😂',\n  '”',\n  'do',\n  'you',\n  'understand',\n  'what',\n  'I',\n  'am',\n  'saying',\n  '?',\n  '”'],\n ['@user', 'Grow', 'up', 'you', 'slag'],\n ['Say',\n  'it',\n  'loud',\n  ',',\n  'say',\n  'it',\n  'clear',\n  ',',\n  'illegal',\n  '#immigrants',\n  'are',\n  'not',\n  'welcome',\n  'here'],\n ['Absurdity',\n  '!',\n  'The',\n  'Swedes',\n  'overwhelmingly',\n  'voted',\n  'for',\n  'Democracy',\n  ',',\n  'Freedom',\n  ',',\n  'Human',\n  'Rights',\n  ',',\n  'and',\n  'the',\n  'Nectar',\n  'of',\n  'Rapefugee',\n  'welfare',\n  '!',\n  \"I'm\",\n  'so',\n  'moved',\n  \"I'm\",\n  'willing',\n  'to',\n  'fund',\n  '10',\n  'of',\n  'the',\n  'local',\n  'Roachingfugees',\n  'to',\n  'fuck',\n  'off',\n  'there',\n  '&',\n  'never',\n  'return',\n  '.',\n  'I',\n  'hope',\n  'the',\n  'Swedish',\n  'Gormint',\n  'funds',\n  'me',\n  'in',\n  'this',\n  'grand',\n  'undertaking',\n  '.'],\n ['Protecting',\n  'refugee',\n  'children',\n  'is',\n  'a',\n  'test',\n  'of',\n  'our',\n  'humanity'],\n ['I',\n  \"can't\",\n  'believe',\n  'Immigrant',\n  'song',\n  'official',\n  'music',\n  'video',\n  'is',\n  '2h',\n  'and',\n  '10mins',\n  'long'],\n ['@user',\n  '@user',\n  '@user',\n  '@user',\n  '@user',\n  '@user',\n  '@user',\n  '@user',\n  '@user',\n  '@user',\n  '@user',\n  '@user',\n  '@user',\n  '@user',\n  '@user',\n  'Please',\n  'follow',\n  'back',\n  '#Turnout2018',\n  '#MAGA',\n  '#BUILDTHATWALL'],\n ['The',\n  'illegal',\n  'aliens',\n  'are',\n  'treated',\n  'better',\n  'than',\n  'American',\n  'children',\n  'with',\n  'facilities',\n  'that',\n  'are',\n  'luxurious',\n  'and',\n  'the',\n  'liberal',\n  'socialists',\n  'want',\n  'to',\n  'abolish',\n  'ICE',\n  '.',\n  '#BuildThatWall',\n  '@user'],\n ['No',\n  ',',\n  'Mr',\n  '#Trump',\n  '.',\n  'The',\n  'borders',\n  \"aren't\",\n  'open',\n  '.',\n  'And',\n  'pretending',\n  'that',\n  'they',\n  'are',\n  \"doesn't\",\n  'justify',\n  'extreme',\n  'policies',\n  'that',\n  'are',\n  'anathema',\n  'to',\n  'American',\n  'values',\n  '.',\n  'An',\n  'excellent',\n  'article',\n  '.',\n  '#immigration',\n  '@user',\n  '@user',\n  '@user',\n  '@user'],\n ['EU',\n  'has',\n  'stayed',\n  'silent',\n  'for',\n  '3',\n  'years',\n  'while',\n  'its',\n  'migration-control',\n  'partner',\n  'Turkey',\n  'kills',\n  'and',\n  'injures',\n  'Syrian',\n  'asylum',\n  'seekers',\n  'and',\n  'pushes',\n  'massive',\n  'numbers',\n  'back',\n  'at',\n  'the',\n  'border',\n  '-',\n  'now',\n  \"it's\",\n  'silent',\n  'over',\n  'Turkey',\n  'blocking',\n  'registration',\n  'for',\n  'those',\n  'who',\n  'manage',\n  'to',\n  'get',\n  'in',\n  '@user'],\n ['The',\n  'democratic',\n  'processes',\n  'of',\n  'having',\n  'my',\n  'money',\n  'stolen',\n  '(',\n  'aka',\n  'taxes',\n  ')',\n  'to',\n  'be',\n  'given',\n  'to',\n  'low',\n  'IQ',\n  'immigrants',\n  '.'],\n ['In',\n  'fact',\n  ',',\n  'the',\n  'study',\n  'found',\n  'that',\n  'a',\n  '1',\n  'percent',\n  'increase',\n  'in',\n  'the',\n  'immigrant',\n  'share',\n  'of',\n  'the',\n  'labor',\n  'force',\n  ',',\n  'in',\n  'turn',\n  ',',\n  'decreases',\n  'U',\n  '.',\n  'S',\n  '.',\n  '-',\n  'born',\n  'unemployment',\n  'by',\n  '0.062',\n  'percentage',\n  'points',\n  'and',\n  'increases',\n  'U',\n  '.',\n  'S',\n  '.',\n  '-',\n  'born',\n  'labor',\n  'force',\n  'participation',\n  'by',\n  '0.045',\n  'percentage',\n  'points',\n  '...'],\n ['@user',\n  'Some',\n  'stupid',\n  'cunt',\n  'blogger',\n  'on',\n  'Skynews',\n  'earlier',\n  '.',\n  'Said',\n  'if',\n  'we',\n  'are',\n  'to',\n  'prevent',\n  'more',\n  \"Weinstein's\",\n  'we',\n  'need',\n  \"'\",\n  'l',\n  '…'],\n ['@user',\n  '@user',\n  'To',\n  'follow',\n  'Lord',\n  'Ram',\n  ',',\n  's',\n  'teachings',\n  'is',\n  'more',\n  'important',\n  'than',\n  'his',\n  'temple',\n  ',',\n  'to',\n  'start',\n  'with',\n  'you',\n  'may',\n  'ho',\n  '…'],\n ['Our',\n  'ancestors',\n  'have',\n  'thus',\n  'lived',\n  'here',\n  'for',\n  'millennia',\n  ',',\n  'yet',\n  ',',\n  'we',\n  'are',\n  'being',\n  'denied',\n  'our',\n  'identity',\n  'by',\n  'mass',\n  'immigration',\n  'and',\n  'the',\n  'successive',\n  'governments',\n  'that',\n  'are',\n  'complicit',\n  '.',\n  'We',\n  'are',\n  'told',\n  'that',\n  'there',\n  'is',\n  'no',\n  'such',\n  'thing',\n  'as',\n  'the',\n  'British',\n  'race',\n  'as',\n  'we',\n  'are',\n  'all',\n  'mixed',\n  'between',\n  'numerous',\n  'ethnic',\n  'groups',\n  '. ...'],\n ['All',\n  'you',\n  'boys',\n  'going',\n  'to',\n  'senior',\n  'week',\n  'WEAR',\n  'A',\n  'CONDOM',\n  '!',\n  'Cuz',\n  'when',\n  'girls',\n  'say',\n  \"they're\",\n  'on',\n  'the',\n  'pill',\n  ',',\n  \"they're\",\n  'probably',\n  'lying',\n  '!'],\n ['When',\n  'a',\n  'baby',\n  \"won't\",\n  'stop',\n  'crying',\n  'so',\n  'naturally',\n  'you',\n  'have',\n  'to',\n  'outdo',\n  'the',\n  'little',\n  'shit'],\n ['@user',\n  'No',\n  ',',\n  'Keith',\n  ',',\n  'you',\n  'should',\n  'be',\n  'next',\n  '.',\n  'Your',\n  'hysterical',\n  'girlie',\n  'rants',\n  'are',\n  'pretty',\n  'hilarious',\n  ',',\n  'I',\n  'might',\n  'miss',\n  'them',\n  '…'],\n ['@user', 'Yeah', 'me', 'too', '😵', 'lol'],\n ['#BuildThatWall',\n  '#BuildTheWall',\n  '@user',\n  '@user',\n  'help',\n  '@user',\n  '#NationalSecurity',\n  '#IllegalAliens',\n  '#crime'],\n ['@user',\n  '@user',\n  'My',\n  'question',\n  'to',\n  'Obama',\n  '&',\n  'the',\n  'libs',\n  ':',\n  'Do',\n  'you',\n  'leave',\n  'your',\n  \"home's\",\n  'door',\n  'wide',\n  'open',\n  'when',\n  'you',\n  'sleep',\n  'so',\n  'that',\n  'anyone',\n  'can',\n  'walk',\n  'in',\n  '?',\n  'Or',\n  'do',\n  'you',\n  'keep',\n  'it',\n  'locked',\n  'so',\n  'that',\n  'if',\n  'someone',\n  'tries',\n  'to',\n  'enter',\n  'they',\n  'have',\n  'to',\n  'knock',\n  'so',\n  'that',\n  'you',\n  'can',\n  'find',\n  'out',\n  'who',\n  'they'],\n ['RT',\n  '@user',\n  \"You're\",\n  'wearing',\n  'yoga',\n  'pants',\n  'to',\n  'show',\n  'off',\n  'your',\n  'ass',\n  '.',\n  \"Don't\",\n  'give',\n  'me',\n  'this',\n  'bull',\n  'shit',\n  \"'\",\n  \"they're\",\n  'comfy',\n  '!',\n  \"'\",\n  'we',\n  'all',\n  'know',\n  'the',\n  'truth',\n  'ladies',\n  '#ASS',\n  '#ASS',\n  '#ASS'],\n ['bitch',\n  'stfu',\n  'yall',\n  'call',\n  'angela',\n  'an',\n  'ice',\n  'queen',\n  'but',\n  'then',\n  'say',\n  'oh',\n  'sure',\n  'angelas',\n  'the',\n  'mean',\n  'one',\n  'you',\n  'can',\n  'say',\n  'this',\n  'shit',\n  'and',\n  'still',\n  'recognize',\n  'angela',\n  'being',\n  'a',\n  'whole',\n  'bitch'],\n ['South',\n  'Koreans',\n  'do',\n  'not',\n  'want',\n  'Muslim',\n  'refugees',\n  ',',\n  'say',\n  'their',\n  'Prez',\n  'should',\n  'be',\n  'more',\n  'like',\n  'Trump',\n  'via',\n  '@user',\n  'Smart',\n  'move',\n  ',',\n  'they',\n  'are',\n  'invaders',\n  'not',\n  'refugees',\n  '...'],\n ['Fucking',\n  'dropped',\n  'my',\n  'phone',\n  'and',\n  'cracked',\n  'the',\n  'screen',\n  'fucking',\n  'shit',\n  'cunt',\n  'bitch'],\n ['@user',\n  '4',\n  '/',\n  'unfailing',\n  'respect',\n  'and',\n  'concern',\n  '.',\n  'The',\n  'tired',\n  'old',\n  'narrative',\n  'of',\n  \"'\",\n  'hysterical',\n  \"'\",\n  ',',\n  \"'\",\n  'paranoid',\n  \"'\",\n  ',',\n  \"'\",\n  'crazy',\n  \"'\",\n  'women',\n  'w',\n  '…'],\n ['This',\n  'is',\n  'the',\n  'most',\n  'important',\n  'sign',\n  \"I've\",\n  'ever',\n  'seen',\n  'in',\n  'my',\n  'life'],\n ['@user',\n  'Agriculture',\n  'for',\n  'one',\n  '.',\n  'Services',\n  'and',\n  'manufacturing',\n  'too',\n  '...',\n  'do',\n  'you',\n  'live',\n  'in',\n  'a',\n  'hole',\n  '?'],\n ['@user',\n  'Sheme',\n  'there',\n  'is',\n  'no',\n  'attention',\n  'on',\n  'our',\n  'own',\n  'people',\n  'and',\n  'foodbanks',\n  'while',\n  'do',\n  'you',\n  'have',\n  'to',\n  'be',\n  'a',\n  'migrant',\n  'to',\n  'be',\n  'treated',\n  'with',\n  'respect',\n  '?'],\n ['I',\n  \"wouldn't\",\n  'have',\n  'done',\n  'anything',\n  'if',\n  'you',\n  \"didn't\",\n  'express',\n  'any',\n  'interest',\n  'THE',\n  'BITCH',\n  'WAS',\n  '12',\n  'YOU',\n  'MOTHER',\n  'FUCKING',\n  'CUNT',\n  '.',\n  'HE',\n  'REALLY',\n  'IS',\n  'TRYING',\n  'TO',\n  'JUSTIFY',\n  'HIMSELD',\n  '..',\n  'THIS',\n  'IS',\n  'EXACTLY',\n  'WHY',\n  'HE',\n  \"SHOULDN'T\",\n  'HAVE',\n  'BEEN',\n  'RELEASED'],\n ['@user',\n  '@user',\n  '@user',\n  'I',\n  '100',\n  '%',\n  'believe',\n  \"I'm\",\n  'gonna',\n  'catch',\n  'one',\n  'of',\n  'you',\n  'in',\n  'this',\n  'attire',\n  'Bussin',\n  'a',\n  'wild',\n  'skank',\n  'on',\n  'Choumert',\n  'Grove',\n  '🤣',\n  '😅',\n  '😂'],\n ['@user',\n  '@user',\n  '@user',\n  'I',\n  'mean',\n  'all',\n  'women',\n  'have',\n  'fathers',\n  '.',\n  'Not',\n  'all',\n  'men',\n  'have',\n  'daughters',\n  'so',\n  \"'\",\n  'daughter',\n  'issue',\n  \"'\",\n  'i',\n  '…'],\n ['@user',\n  'After',\n  'AAP',\n  'coming',\n  'to',\n  'power',\n  'influx',\n  'of',\n  'illegal',\n  'migrants',\n  'from',\n  'Bangladesh',\n  'to',\n  'Delhi',\n  'increased',\n  'multi',\n  'fold.Jhugis',\n  'seen',\n  'all',\n  'around'],\n ['@user',\n  '@user',\n  'OLD',\n  'SICK',\n  'DOG',\n  'HILLARY',\n  'IS',\n  'A',\n  'DISGUSTING',\n  'BITCH',\n  '.',\n  'BUT',\n  'EVEN',\n  'A',\n  'SKANK',\n  'HAS',\n  'A',\n  'FRIEND',\n  '.',\n  'IM',\n  'SURE',\n  'GERMAN',\n  '…'],\n [\"'\",\n  'She',\n  'was',\n  'acting',\n  'hysterical',\n  \"'\",\n  'is',\n  'literally',\n  'what',\n  'every',\n  'misogynist',\n  'says',\n  'to',\n  'describe',\n  'women',\n  'who',\n  'call',\n  'you',\n  'out',\n  'on',\n  'your',\n  'bull',\n  '…'],\n ['@user',\n  '@user',\n  '@user',\n  \"Isn't\",\n  'a',\n  'pussy',\n  'an',\n  'exit',\n  'hole',\n  'too',\n  '?'],\n ['North', 'Korea', 'reportedly', 'launches', 'ballistic', 'missile'],\n ['Bitch',\n  'is',\n  'literal',\n  'referring',\n  'to',\n  'the',\n  'mass',\n  'murder',\n  'of',\n  'falsely',\n  'accused',\n  'women',\n  '(',\n  'and',\n  'one',\n  'man',\n  ')',\n  '.',\n  'Weinstein',\n  'isn',\n  '’',\n  't',\n  'even',\n  'to',\n  'court',\n  '…'],\n ['Texas',\n  'has',\n  \"'\",\n  'moral',\n  'responsibility',\n  \"'\",\n  'to',\n  'protect',\n  'detained',\n  'immigrant',\n  'kids',\n  ',',\n  'Hispanic',\n  'lawmakers',\n  'say',\n  'Yes',\n  ',',\n  'and',\n  'so',\n  'do',\n  'other',\n  '49',\n  'other',\n  'jurisdictions',\n  'in',\n  'as',\n  'many',\n  'States',\n  'of',\n  'the',\n  'Union',\n  '-',\n  'each',\n  'having',\n  'state',\n  'laws',\n  'against',\n  'child',\n  'abuse',\n  '.'],\n ['HOW',\n  'REFRESHING',\n  '!',\n  'In',\n  'South',\n  'Korea',\n  ',',\n  'there',\n  'is',\n  'no',\n  'such',\n  'thing',\n  'as',\n  \"'\",\n  'political',\n  'correctness',\n  '\"',\n  'when',\n  'it',\n  'comes',\n  'to',\n  'dealing',\n  'with',\n  'Muslim',\n  'refugee',\n  'wannabes',\n  'via',\n  '@user'],\n ['Domestic',\n  'abuse',\n  'is',\n  'never',\n  'okay',\n  '...',\n  'Unless',\n  'your',\n  'wife',\n  'is',\n  'a',\n  'bitch',\n  '#WomenSuck'],\n ['@user', '@user', '@user', '@user', '@user'],\n ['When',\n  'someone',\n  'announces',\n  'that',\n  'they',\n  'are',\n  \"'\",\n  'officially',\n  'unfollowing',\n  \"'\"],\n ['Taking',\n  'of',\n  'Salah',\n  'for',\n  'the',\n  'Ox',\n  'is',\n  'like',\n  'forcefully',\n  'ramming',\n  'a',\n  'broom',\n  'up',\n  'your',\n  'arse',\n  ',',\n  'just',\n  'why',\n  'would',\n  'you',\n  'do',\n  'it',\n  '#LIVMUN'],\n ['More',\n  'rapes',\n  'in',\n  'Halifax',\n  'by',\n  'Muslim',\n  'migrants',\n  ',',\n  'as',\n  'rape',\n  'culture',\n  'invades',\n  'our',\n  'high-trust',\n  'society'],\n ['RT',\n  '@user',\n  'Some',\n  'are',\n  'building',\n  'a',\n  'taller',\n  'wall',\n  '.',\n  'But',\n  'here',\n  'at',\n  'Amnesty',\n  'International',\n  ',',\n  'we',\n  'are',\n  'building',\n  'a',\n  '#LongerTable',\n  'for',\n  'refugees',\n  '.',\n  'Learn',\n  'about',\n  'how',\n  'you',\n  'can',\n  'get',\n  'involved',\n  ':'],\n ['WASNT',\n  'IT',\n  'GEORGE',\n  'WASHINGTON',\n  'WHO',\n  'SAID',\n  \"'\",\n  'FUCK',\n  'BITCHES',\n  'GET',\n  'MONEY',\n  \"'\",\n  '?'],\n ['Bitch',\n  'boi',\n  'still',\n  'doesn',\n  '’',\n  't',\n  'know',\n  'his',\n  'girl',\n  'still',\n  'barking',\n  'up',\n  'my',\n  'tree',\n  '😴'],\n ['Family', 'reunification', 'for', 'refugees', 'resumes', 'in', 'Germany'],\n ['#stillwestand', '#wewelcomerefugees'],\n ['Also',\n  '.',\n  'Some',\n  'of',\n  'you',\n  'Latina',\n  'women',\n  'and',\n  'your',\n  'white',\n  'people',\n  'racism',\n  'can',\n  'also',\n  'eat',\n  'a',\n  'giant',\n  'dick',\n  '.',\n  'Cuz',\n  'they',\n  \"don't\",\n  'like',\n  'your',\n  'ass',\n  'either',\n  '.',\n  '👏',\n  '🏾'],\n ['#EU',\n  'countries',\n  'may',\n  'be',\n  'paid',\n  'to',\n  'host',\n  'migrants',\n  'in',\n  'secure',\n  'centres'],\n ['@user',\n  'Fuck',\n  'this',\n  'fat',\n  'pig',\n  'bastard',\n  'woman',\n  'you',\n  'fucking',\n  'cunt',\n  '.',\n  'Wish',\n  'I',\n  'could',\n  'cut',\n  'your',\n  'tits',\n  'so',\n  'that',\n  'you',\n  'could',\n  'feel',\n  'the',\n  'pain',\n  'cunt',\n  '!',\n  '!'],\n ['When',\n  \"you're\",\n  'out',\n  'to',\n  'dinner',\n  'but',\n  'you',\n  'wanna',\n  'make',\n  'sure',\n  'they',\n  'know',\n  'what',\n  'set',\n  'you',\n  'claimin'],\n ['Pro',\n  'Tip',\n  '-',\n  'Stop',\n  'trying',\n  'to',\n  'appeal',\n  'to',\n  'my',\n  'feelings',\n  ',',\n  'I',\n  \"don't\",\n  'have',\n  'any'],\n ['BBC', 'News', '-', 'School', 'where', 'refugees', 'are', 'the', 'teachers'],\n ['Be',\n  'sure',\n  'to',\n  'visit',\n  'our',\n  'World',\n  'Relief',\n  'tent',\n  'this',\n  'afternoon',\n  'at',\n  'the',\n  '2nd',\n  'annual',\n  'Kaleidoscope',\n  'Food',\n  'Festival',\n  ',',\n  '3-7',\n  'pm',\n  '!',\n  'We',\n  'are',\n  'celebrating',\n  'food',\n  ',',\n  'culture',\n  ',',\n  'music',\n  'and',\n  'entrepreneurs',\n  'among',\n  'our',\n  'refugee',\n  'and',\n  'immigrant',\n  'community',\n  'in',\n  'Binghampton',\n  'with',\n  'Binghampton',\n  '...'],\n ['Was',\n  'called',\n  'a',\n  'slut',\n  'and',\n  'a',\n  'whore',\n  'because',\n  'I',\n  'wore',\n  'shorts',\n  'to',\n  'school',\n  'during',\n  'the',\n  'summer',\n  '.'],\n ['@user',\n  'Nice',\n  'DP',\n  'Ram',\n  'sir',\n  '...',\n  'None',\n  'other',\n  'than',\n  'you',\n  'is',\n  'the',\n  'best',\n  'brand',\n  'ambassador',\n  'of',\n  'New',\n  'shining',\n  'TELANGANA',\n  '...',\n  'jai',\n  'Telangana',\n  '-',\n  'from',\n  '.',\n  'Sameer',\n  'Nawaz',\n  '.',\n  '(',\n  'Jubilee',\n  'hills',\n  'Constituency',\n  ',',\n  'Hyderabad',\n  ')'],\n ['When', \"I'm\", 'trying', 'to', 'get', 'my', 'life', 'together'],\n ['When',\n  'a',\n  'girl',\n  'just',\n  'stops',\n  'talking',\n  'to',\n  'you',\n  ',',\n  \"don't\",\n  'sweat',\n  'it',\n  'guys',\n  'you',\n  'did',\n  'nothing',\n  'wrong',\n  '.',\n  'Girls',\n  'are',\n  'just',\n  'stupid',\n  'and',\n  \"don't\",\n  'ever',\n  'know',\n  'what',\n  'they',\n  'want',\n  '.'],\n ['@user', 'You', 'love', 'and', 'support', 'this', 'slut', 'tho'],\n ['#BeBestMyAss',\n  'This',\n  'week',\n  '-',\n  'I',\n  'want',\n  'my',\n  'supporters',\n  'to',\n  'wear',\n  'shorts',\n  'or',\n  'skirts',\n  'that',\n  'read',\n  ',',\n  '\"',\n  'Be',\n  'Best',\n  '\"',\n  'on',\n  'the',\n  'back',\n  '-',\n  'synonym',\n  'for',\n  '\"',\n  'Be',\n  'Best',\n  'My',\n  'Ass',\n  '!',\n  '\"',\n  \"Let's\",\n  'be',\n  'ridiculous',\n  '(',\n  'film',\n  'your',\n  'ass',\n  'shaking',\n  ')',\n  '@user',\n  'lacks',\n  'sensitivity',\n  'towards',\n  'immigrant',\n  'children',\n  '!',\n  'Photo',\n  'Credit',\n  ':',\n  'theGrio'],\n ['@user',\n  '@user',\n  \"Don't\",\n  'be',\n  'such',\n  'a',\n  'cunt',\n  'Joann',\n  'LOL',\n  '.',\n  'Nov',\n  '8th',\n  'has',\n  'come',\n  'and',\n  'gone',\n  ',',\n  'the',\n  'Wicked',\n  'Bitch',\n  'of',\n  'The',\n  'Eas',\n  '…'],\n ['@user',\n  'Wait',\n  'till',\n  \"you've\",\n  'got',\n  'gin',\n  'tomorrow',\n  'you',\n  \"won't\",\n  'have',\n  'it',\n  'then',\n  'cock'],\n ['Let',\n  '’',\n  's',\n  'me',\n  'honest',\n  ',',\n  'Jews',\n  'offer',\n  'things',\n  'and',\n  'the',\n  'white',\n  'women',\n  'are',\n  'just',\n  'skanks',\n  '.',\n  'Muslims',\n  'gang',\n  'rape',\n  'and',\n  'beat',\n  'white',\n  'women',\n  '.'],\n ['@user',\n  '@user',\n  '@user',\n  'A',\n  'Mexican',\n  'asked',\n  'me',\n  'whether',\n  'I',\n  'was',\n  'saying',\n  'that',\n  'Hispanic',\n  'immigrants',\n  'had',\n  'no',\n  'right',\n  'to',\n  'a',\n  'country',\n  ',',\n  'meaning',\n  'OURS',\n  '.',\n  'I',\n  'replied',\n  ',',\n  '\"',\n  'Immigrants',\n  'HAVE',\n  'a',\n  'country',\n  ',',\n  'or',\n  'they',\n  \"wouldn't\",\n  'be',\n  'IMMIGRANTS',\n  '.',\n  '\"',\n  'Immigration',\n  'is',\n  'about',\n  'sharing'],\n ['your',\n  'girlfriend',\n  'a',\n  'major',\n  'snorter',\n  'but',\n  'that',\n  'bitch',\n  \"ain't\",\n  'worth',\n  'a',\n  'quarter',\n  '😬'],\n ['Our',\n  'friends',\n  'at',\n  '@user',\n  'have',\n  'a',\n  'new',\n  'series',\n  'premiering',\n  'today',\n  'on',\n  '#AmazonPrime',\n  '!',\n  'MR',\n  '.',\n  'SHAN',\n  'is',\n  'the',\n  'story',\n  'of',\n  'a',\n  'young',\n  'Chinese',\n  'immigrant',\n  'in',\n  'Hollywood',\n  'on',\n  'his',\n  'journey',\n  'to',\n  'become',\n  'the',\n  'greatest',\n  'actor',\n  'of',\n  'all',\n  'time',\n  '.',\n  'Catch',\n  'Season',\n  '1',\n  'at'],\n ['He',\n  'was',\n  'being',\n  'nice',\n  'and',\n  'cool',\n  '.',\n  'You',\n  'were',\n  'Being',\n  'an',\n  'attention',\n  'whore',\n  '.',\n  'Next',\n  'time',\n  'explicitly',\n  'say',\n  'you',\n  '’',\n  're',\n  'not',\n  'interested',\n  'instead',\n  'of',\n  'flexing',\n  'for',\n  'Twitter'],\n ['You',\n  \"don't\",\n  'have',\n  'haters',\n  ',',\n  'people',\n  'just',\n  'hate',\n  'you',\n  ',',\n  'dumb',\n  'dumb'],\n ['Katie',\n  'Hop',\n  'it',\n  'Hopkins',\n  'you',\n  'couldnt',\n  'fit',\n  'a',\n  'dummy',\n  'in',\n  'your',\n  'mouth',\n  'its',\n  'to',\n  'big',\n  ',',\n  'open',\n  'it',\n  'a',\n  'wee',\n  'bit',\n  'more',\n  'and',\n  'we',\n  'can',\n  'use',\n  'it',\n  'for',\n  'a',\n  'migrant',\n  'hotel'],\n ['@user',\n  '@user',\n  '@user',\n  'I',\n  'can',\n  'get',\n  'behind',\n  'the',\n  'decriminalisation',\n  'of',\n  'drugs',\n  'and',\n  'better',\n  'communication',\n  '.',\n  'However',\n  'the',\n  'idea',\n  'that',\n  'illegal',\n  'immigration',\n  'is',\n  'not',\n  'a',\n  'big',\n  'issue',\n  'I',\n  'believe',\n  'is',\n  'untrue',\n  '.',\n  '80',\n  '%',\n  'of',\n  'women',\n  'who',\n  'crosss',\n  'the',\n  'border',\n  'illegally',\n  'get',\n  'raped',\n  'by'],\n ['@user',\n  '“',\n  'Can',\n  'you',\n  'think',\n  'of',\n  'a',\n  'place',\n  'that',\n  'has',\n  'been',\n  'improved',\n  'by',\n  'mass',\n  'immigration',\n  'or',\n  'the',\n  'movements',\n  'of',\n  'large',\n  'numbers',\n  'of',\n  'refugees',\n  '?',\n  '”',\n  '“',\n  'Not',\n  'one',\n  '...',\n  'the',\n  'immigration',\n  'policies',\n  'in',\n  'Europe',\n  'are',\n  'a',\n  'disaster',\n  ',',\n  'you',\n  '’',\n  're',\n  'destroying',\n  'Europe',\n  ',',\n  'you',\n  '’',\n  're',\n  'destroying',\n  'the',\n  'cultureâ'],\n ['#BuildThatWall',\n  '#BuildTheWall',\n  '#BuildTheDamnWall',\n  '#BuildThatWall',\n  '#BuildTheWall',\n  '#BuildTheDamnWall',\n  '#BuildThatWall',\n  '#BuildTheWall',\n  '#BuildTheDamnWall',\n  '#BuildThatWall',\n  '#BuildTheWall',\n  '#BuildTheDamnWall',\n  'BUILD',\n  'THAT',\n  'EFFEN',\n  'WALL',\n  '!',\n  \"I'm\",\n  'sorry',\n  'my',\n  'Lord',\n  '#Jesus',\n  'but',\n  'people',\n  'are',\n  'just',\n  'deaf',\n  'down',\n  'here'],\n ['#jackandjackdoingitright',\n  '#USAvsBEL',\n  'New',\n  'blog',\n  \"'\",\n  'Fighting',\n  'for',\n  \"Men's\",\n  'Rights',\n  \"'\",\n  '-',\n  '-',\n  '-',\n  'have',\n  'a',\n  'look',\n  ':',\n  '#USA'],\n ['Eric',\n  'Cartman',\n  ':',\n  'How',\n  \"'\",\n  'bout',\n  'we',\n  'sing',\n  ',',\n  \"'\",\n  \"Kyle's\",\n  'Mom',\n  'is',\n  'a',\n  'stupid',\n  'bitch',\n  \"'\",\n  'in',\n  'D',\n  'Minor',\n  '.'],\n ['When', \"it's\", '@user', 'birthday'],\n ['Another',\n  'liberal',\n  'wasteland',\n  'on',\n  'the',\n  'road',\n  'to',\n  'hell',\n  '.',\n  'I',\n  \"wouldn't\",\n  'mind',\n  'so',\n  'much',\n  'if',\n  'it',\n  \"weren't\",\n  'the',\n  'city',\n  'of',\n  'our',\n  \"nation's\",\n  'founding',\n  '.'],\n ['ugly', 'skank', 'bitch', '>:('],\n ['This', 'illegal', 'immigrant', 'should', 'be', 'arrested', 'for', 'lying'],\n ['nbs', 'stfu', 'hoe', 'ik', 'bout', 'you'],\n ['@user',\n  'oh',\n  'ya',\n  'because',\n  'in',\n  '2009',\n  '14',\n  '%',\n  'of',\n  'America',\n  'said',\n  'they',\n  'cared',\n  '/',\n  'supported',\n  \"women's\",\n  'rights'],\n ['Germany', 'and', 'Spain', 'reach', 'agreement', 'on', 'migrant', 'return'],\n ['My',\n  'life',\n  'has',\n  'been',\n  'so',\n  'much',\n  'better',\n  'without',\n  'you',\n  'in',\n  'it',\n  '#WomenSuck'],\n ['@user',\n  'I',\n  'assure',\n  'you',\n  'I',\n  \"wasn't\",\n  'feeling',\n  'the',\n  'least',\n  'bit',\n  'hysterical',\n  'when',\n  'I',\n  'asked',\n  'that',\n  'valid',\n  'question',\n  '.',\n  'I',\n  'cannot',\n  'say',\n  'the',\n  'same',\n  'about',\n  'the',\n  'response',\n  '.'],\n ['All',\n  'women',\n  'have',\n  'the',\n  'incredible',\n  'ability',\n  'to',\n  'determine',\n  'if',\n  'another',\n  'woman',\n  'is',\n  'a',\n  'bitch',\n  'based',\n  'solely',\n  'on',\n  'her',\n  'shoes',\n  '.'],\n ['At',\n  'number',\n  '4',\n  ',',\n  '#Burundi-an',\n  'refugees',\n  'are',\n  'among',\n  'the',\n  'most',\n  'neglected',\n  'in',\n  'the',\n  'world',\n  '.',\n  'We',\n  'are',\n  'the',\n  'invisible',\n  'people',\n  '...'],\n ['Eat',\n  ',',\n  'bite',\n  ',',\n  'fuck',\n  ',',\n  'suck',\n  ',',\n  'nibble',\n  ',',\n  'gobble',\n  ',',\n  'chew',\n  '!',\n  'Finger-fuck',\n  'hair',\n  'pie',\n  ',',\n  'dick',\n  'cunt',\n  'screw',\n  '!',\n  'Hurray',\n  '!',\n  'Bat',\n  'fuck',\n  '!',\n  'Blow',\n  'me',\n  '!',\n  '#Syria',\n  '❀'],\n ['Stfu', 'pussy'],\n ['FFS', \"you're\", 'such', 'a', 'loser', '😊'],\n ['JOKE',\n  ',',\n  'Not',\n  'laughing',\n  '!',\n  'Booker',\n  'is',\n  'lying',\n  'for',\n  '\"',\n  'EFFECT',\n  '\"',\n  'to',\n  'make',\n  'it',\n  'LOOK',\n  '&',\n  'SOUND',\n  'as',\n  'if',\n  'he',\n  'is',\n  '\"',\n  'risking',\n  '\"',\n  'his',\n  'JOB',\n  ',',\n  'when',\n  'in',\n  'fact',\n  'DOJ',\n  'gave',\n  'him',\n  'clearance',\n  'the',\n  'night',\n  'before',\n  '#DemocratsAreDangerous',\n  '#BuildThatWall'],\n ['The',\n  'Cubans',\n  'never',\n  'assimilated',\n  'in',\n  'Miami',\n  '.',\n  'Thats',\n  'why',\n  'I',\n  'left',\n  '.',\n  '#ThirdWorldCountry',\n  '#StopTheInvasion'],\n ['@user',\n  '@user',\n  'Excellent',\n  '.',\n  'May',\n  'almighty',\n  'ram',\n  'give',\n  'lot',\n  'of',\n  'power',\n  'all',\n  'of',\n  'you',\n  'to',\n  'construct',\n  'ram',\n  'mandir',\n  ',',\n  'break',\n  '370',\n  'in',\n  'j',\n  '&',\n  ';',\n  'k',\n  ',',\n  'crush',\n  'islamic',\n  'agenda',\n  'and',\n  'amend',\n  'constitut'],\n ['@user',\n  'Nice',\n  'tweet',\n  ',',\n  'Joyce',\n  ',',\n  'Truth',\n  'is',\n  'they',\n  'flee',\n  'Iran',\n  'etc',\n  'but',\n  'want',\n  'to',\n  'bring',\n  'their',\n  'hate',\n  'to',\n  'the',\n  'Eu',\n  'even',\n  'in',\n  'refugee',\n  'camps',\n  'Christians',\n  'not',\n  'safe',\n  '.'],\n [\"It's\",\n  'worth',\n  'to',\n  'keep',\n  'an',\n  'eye',\n  'on',\n  'the',\n  'reactions',\n  'of',\n  'the',\n  'refugees',\n  'who',\n  'are',\n  'already',\n  'on',\n  'the',\n  'islands',\n  'and',\n  'are',\n  'not',\n  'included',\n  'in',\n  'this',\n  'change',\n  '.',\n  'Camps',\n  'like',\n  '#Moria',\n  ',',\n  'on',\n  'Lesvos',\n  ',',\n  'are',\n  'extremely',\n  'volatile',\n  'and',\n  'protests',\n  '/',\n  'riots',\n  'have',\n  'happened',\n  'for',\n  'smaller',\n  'issues',\n  'in',\n  'the',\n  'past',\n  '.',\n  'We',\n  'can',\n  'expect',\n  'some',\n  'sort',\n  'of',\n  'reaction'],\n ['@user',\n  'I',\n  \"don't\",\n  'mind',\n  'her',\n  'saying',\n  \"she's\",\n  'a',\n  'whore',\n  ',',\n  'but',\n  'the',\n  'implication',\n  'regarding',\n  'other',\n  'women',\n  'and',\n  '#MeToo',\n  'goes',\n  'beyond',\n  'the',\n  'pale',\n  '.'],\n ['@user',\n  '@user',\n  'Eat',\n  'fucking',\n  'shit',\n  'you',\n  'stupid',\n  'cunt',\n  'bitch',\n  'whore',\n  'twat'],\n ['Bri',\n  ':',\n  'you',\n  'put',\n  'in',\n  'the',\n  'hole',\n  '-',\n  'Me',\n  ':',\n  '*',\n  'starts',\n  'laughing',\n  'like',\n  'a',\n  'child',\n  '*',\n  'Bri',\n  ':',\n  '*',\n  'starts',\n  'laughing',\n  '*',\n  'whoops'],\n ['From',\n  '#MeToo',\n  'to',\n  'Who',\n  'Me',\n  '?',\n  'Where',\n  'Are',\n  'White',\n  'Women',\n  'Allies',\n  'When',\n  'A',\n  'Black',\n  'Woman',\n  'is',\n  'Called',\n  'a',\n  'Whore',\n  '?'],\n ['Wherever',\n  'they',\n  'arrive',\n  '#Muslim',\n  'migrants',\n  'bring',\n  'destruction',\n  ',',\n  'unrest',\n  ',',\n  'fear',\n  '&',\n  'crime',\n  '!',\n  'So',\n  'why',\n  'do',\n  'we',\n  'keep',\n  'taking',\n  'them',\n  'in',\n  '?',\n  '#Spanish',\n  'people',\n  'may',\n  'have',\n  'voted',\n  'in',\n  'a',\n  'socialist',\n  'government',\n  'but',\n  'surely',\n  'they',\n  \"haven't\",\n  'voted',\n  'for',\n  'their',\n  'own',\n  'demiseVote',\n  'the',\n  'gov',\n  'down',\n  ',',\n  'fight',\n  'back',\n  'or',\n  'accept',\n  'being',\n  'conquered'],\n ['NPR',\n  'is',\n  'trying',\n  'to',\n  'group',\n  'legal',\n  'and',\n  'illegal',\n  'immigration',\n  '\"',\n  'Jeff',\n  'Sessions',\n  'is',\n  'threatening',\n  'immigrants',\n  'rights',\n  'in',\n  '...'],\n ['#BuildThatWall',\n  '#IllegalAliens',\n  '@user',\n  '.',\n  '@EXPECT_KA0S',\n  'Eric',\n  'Lang',\n  ',',\n  'CEO',\n  'Yarrabee',\n  'Farms',\n  'admitted',\n  'did',\n  'not',\n  'use',\n  'EVerify',\n  'for',\n  'this',\n  'killer',\n  'or',\n  'workers',\n  '.',\n  'Tell',\n  'AG',\n  '.',\n  '@jeffsessions',\n  'to',\n  'get',\n  'off',\n  'his',\n  'behind',\n  'work',\n  'on',\n  'getting',\n  'EVerify',\n  'mandatory',\n  '4all',\n  'jobs',\n  '.',\n  'Hopefully',\n  'ICE',\n  'raids',\n  'YarebeeFarms',\n  'as',\n  'regular',\n  'visit'],\n ['@user',\n  'U',\n  'should',\n  'be',\n  'sucking',\n  'and',\n  'gagging',\n  'on',\n  'my',\n  'cock',\n  'Melissa',\n  'and',\n  'me',\n  'Fucking',\n  'that',\n  'hot',\n  'Booty',\n  'and',\n  'stunning',\n  'sweet',\n  'Pussy',\n  'tonight',\n  'Love',\n  '😚',\n  '😚',\n  '😚'],\n ['@user',\n  'Yes',\n  'you',\n  'are',\n  'right',\n  '.',\n  'I',\n  'must',\n  'save',\n  'the',\n  'philosophical',\n  'stuff',\n  'for',\n  'others',\n  '.',\n  'Different',\n  'people',\n  'have',\n  'different',\n  'skills',\n  '/',\n  'roles',\n  '.',\n  'U',\n  'are',\n  'soldier'],\n ['I',\n  'like',\n  'to',\n  'blog',\n  'about',\n  'masculinity',\n  ',',\n  'fascism',\n  ',',\n  'alternative',\n  'ideas',\n  ',',\n  'heres',\n  'my',\n  'next',\n  'account'],\n ['@user',\n  \"I'm\",\n  '16',\n  '.',\n  'Had',\n  'plenty',\n  'of',\n  'women',\n  '.',\n  'They',\n  'all',\n  'suck',\n  'b'],\n ['#Immigrants',\n  'from',\n  'travel',\n  'ban-affected',\n  'countries',\n  'are',\n  'highly',\n  'educated',\n  '.',\n  '46',\n  '%',\n  'of',\n  'them',\n  'age',\n  '25',\n  '+',\n  'with',\n  'BA',\n  'or',\n  'higher',\n  'compared',\n  'to',\n  '30',\n  '%',\n  'of',\n  'native-born',\n  'U',\n  '.',\n  'S',\n  '.',\n  'citizens',\n  '.',\n  'Stay',\n  'tuned',\n  'for',\n  'full',\n  'report',\n  'next',\n  'week',\n  '@user',\n  '@user',\n  '@user',\n  '@user',\n  '@user',\n  '@user'],\n ['You',\n  'look',\n  'like',\n  'your',\n  'mom',\n  'beat',\n  'you',\n  'with',\n  'an',\n  'ugly',\n  'stick',\n  'while',\n  'your',\n  'dad',\n  'poured',\n  'cat',\n  'piss',\n  'all',\n  'over',\n  'you',\n  '.'],\n ['@user',\n  'if',\n  'you',\n  'count',\n  'prison',\n  'rape',\n  'men',\n  'are',\n  'raped',\n  'more',\n  'than',\n  'women',\n  '.'],\n ['@user',\n  'If',\n  'your',\n  'body',\n  'is',\n  'female',\n  ',',\n  'you',\n  \"can't\",\n  'identify',\n  'your',\n  'way',\n  'out',\n  'of',\n  'rape',\n  '.',\n  'Rapists',\n  \"don't\",\n  'care',\n  '.'],\n ['When', \"someone's\", 'talking', 'about', 'something', 'other', 'than', 'me'],\n ['U',\n  '.',\n  'N',\n  '.',\n  'refugee',\n  'boss',\n  'concerned',\n  'over',\n  'U',\n  '.',\n  'S',\n  '.',\n  'separating',\n  'children',\n  'from',\n  '...',\n  '#Washington',\n  '#UnitedNations',\n  '#FilippoGrandi',\n  '...'],\n ['@user',\n  'Muslims',\n  'still',\n  'use',\n  'there',\n  'âœ',\n  '‹',\n  'to',\n  'wipe',\n  'there',\n  'asses',\n  'and',\n  'mary',\n  'there',\n  'own',\n  'family',\n  '.',\n  \"I'm\",\n  'not',\n  'allowed',\n  'to',\n  'do',\n  'that',\n  'but',\n  'Muslims',\n  'can',\n  'and',\n  'have',\n  'ten',\n  'wives',\n  'and',\n  'draw',\n  'welfare',\n  'on',\n  'all',\n  'ten',\n  '.',\n  'I',\n  \"can't\",\n  '.',\n  'Democrats',\n  'brought',\n  'them',\n  'here',\n  'as',\n  'refugees',\n  'and',\n  'now',\n  'they',\n  'vote',\n  '.',\n  'Stop',\n  'an'],\n ['I',\n  'tweeted',\n  'one',\n  'day',\n  \"'\",\n  'I',\n  'hate',\n  'broke',\n  'hoes',\n  'w',\n  'rich',\n  'bitch',\n  'mouths',\n  \"'\",\n  'and',\n  'now',\n  'all',\n  'the',\n  'lil',\n  'Houston',\n  '16',\n  \"'\",\n  's',\n  'tweeting',\n  'that',\n  'shit',\n  '😂',\n  '😂',\n  '😂'],\n ['RIP', 'fat', 'Jonah', 'Hill', '#ShitWomenDontSay', '#WomenSuck'],\n [\"I'm\",\n  'confident',\n  'cause',\n  \"I've\",\n  'earned',\n  'the',\n  'right',\n  'to',\n  'be',\n  ',',\n  \"don't\",\n  'confuse',\n  'that',\n  'with',\n  'arrogance'],\n ['@user',\n  '@user',\n  'Shut',\n  'the',\n  'fuck',\n  'up',\n  'bitch',\n  'how',\n  'do',\n  'you',\n  'know',\n  'what',\n  'people',\n  'have',\n  'and',\n  \"don't\",\n  'have',\n  '?'],\n ['Watch',\n  ':',\n  'Muslim',\n  'migrants',\n  'terrorizing',\n  'Swedish',\n  'people',\n  ',',\n  'including',\n  'the',\n  'elderly',\n  'people',\n  'who',\n  'stand',\n  'on',\n  'their',\n  'way',\n  '-',\n  'Free',\n  'Speech',\n  'Time',\n  '-',\n  '@user'],\n ['Goodbye',\n  'to',\n  'Pepsi',\n  '’',\n  's',\n  'political',\n  'hack',\n  ',',\n  'Indra',\n  'Nooyi',\n  ',',\n  'an',\n  'immigrant',\n  'who',\n  'used',\n  'America',\n  'to',\n  'achieve',\n  'her',\n  'dreams',\n  ',',\n  'then',\n  'complains',\n  'about',\n  'being',\n  'the',\n  'only',\n  'person',\n  'of',\n  'color',\n  'in',\n  'the',\n  'room',\n  'in',\n  'a',\n  'majority',\n  'white',\n  'country',\n  '.',\n  'Hope',\n  'she',\n  'retires',\n  'in',\n  'India',\n  'and',\n  'takes',\n  'her',\n  'bad',\n  'attitude',\n  'with',\n  'her',\n  '.'],\n ['@user',\n  'Israel',\n  'needs',\n  'more',\n  'diversity',\n  '.',\n  'Ur',\n  'walls',\n  'are',\n  'racist',\n  '.',\n  'Let',\n  'those',\n  'Arab',\n  'refugees',\n  'into',\n  'your',\n  'civilization',\n  '.',\n  'This',\n  'is',\n  'cultural',\n  'enrichment',\n  '.'],\n ['How', 'far', 'can', 'you', 'go', 'down', 'the', 'rabbit', 'hole', '?'],\n ['Spanish',\n  'rescuers',\n  'pluck',\n  'over',\n  '750',\n  'migrants',\n  'safely',\n  'from',\n  'boats'],\n ['@user',\n  'This',\n  'bloke',\n  'is',\n  'the',\n  'sort',\n  'of',\n  'cunt',\n  \"who's\",\n  'old',\n  'woman',\n  'is',\n  'fucking',\n  'someone',\n  'else',\n  'but',\n  'says',\n  'well',\n  'what',\n  'can',\n  'you',\n  'do',\n  '?',\n  '!'],\n ['This',\n  'cunt',\n  'likes',\n  'every',\n  'single',\n  'post',\n  'on',\n  'that',\n  \"bitch's\",\n  'account',\n  'and',\n  'she',\n  \"doesn't\",\n  'even',\n  'follow',\n  'him'],\n ['#Immigrants',\n  'from',\n  'travel',\n  'ban-affected',\n  'countries',\n  'are',\n  'highly',\n  'educated',\n  '.',\n  '46',\n  '%',\n  'of',\n  'them',\n  'age',\n  '25',\n  '+',\n  'with',\n  'BA',\n  'or',\n  'higher',\n  'compared',\n  'to',\n  '30',\n  '%',\n  'of',\n  'native-born',\n  'U',\n  '.',\n  'S',\n  '.',\n  'citizens',\n  '.',\n  'Stay',\n  'tuned',\n  'for',\n  'full',\n  'report',\n  'next',\n  'week',\n  '@user',\n  '@user',\n  '@user',\n  '@user',\n  '@user',\n  '@user',\n  '@user',\n  '@user'],\n ['The',\n  'chances',\n  'that',\n  '#Rohingya',\n  'refugees',\n  'may',\n  'benefit',\n  'from',\n  \"parliament's\",\n  'shake',\n  'up',\n  'are',\n  'still',\n  'slim',\n  '#ucanews',\n  '#voiceforthevoiceless',\n  '#refugees',\n  '#SocialJustice',\n  '#Myanmar',\n  '#AungSanSuuKyi',\n  '@user',\n  '@user',\n  '@user',\n  '@user',\n  '@user',\n  '@user'],\n ['Rachel',\n  'Caswell',\n  '-',\n  \"we're\",\n  'all',\n  'in',\n  'the',\n  'dance',\n  'Sara',\n  'Caswell',\n  'Dave',\n  'Stryker',\n  'Fabian',\n  'Almazan',\n  'Linda',\n  'May',\n  'Han',\n  'Oh',\n  'Johnathan',\n  'Blake',\n  \"We're\",\n  'All',\n  'in',\n  'the',\n  'Dance',\n  'PSAs',\n  'High',\n  'Blood',\n  'Pressure',\n  'National',\n  'Immigrant',\n  'Justice',\n  'Center'],\n ['bitch',\n  'just',\n  'called',\n  'me',\n  'her',\n  'fuck',\n  'buddy',\n  'I',\n  'told',\n  'the',\n  'bitch',\n  'I',\n  'aint',\n  'no',\n  'hoe',\n  'smh'],\n ['refugees',\n  'are',\n  'welcome',\n  'if',\n  'trump',\n  'like',\n  'it',\n  'or',\n  'not',\n  '#ResistTrump'],\n ['@user', 'you', 'drunken', 'slut', ',', 'come', 'play', 'overwatch'],\n ['BEL',\n  'WHERE',\n  'THE',\n  'HELL',\n  'ARE',\n  'YOU',\n  'YOUR',\n  'SIDE',\n  'HOE',\n  'MINHYUK',\n  'IS',\n  'NOW',\n  'IN',\n  'BLACK',\n  'MYDMD',\n  '!',\n  'DMMF'],\n ['15',\n  'Minutes',\n  'free',\n  'Eligibility',\n  'Assessment',\n  'for',\n  'NZ',\n  'Immigration'],\n ['@user',\n  ',',\n  'my',\n  'community',\n  'stands',\n  '#WithRefugees',\n  '!',\n  'Show',\n  'that',\n  '#AmericaWelcomes',\n  'by',\n  'supporting',\n  'U',\n  '.',\n  'S',\n  '.',\n  'refugee',\n  'resettlement',\n  '!',\n  '#RefugeesWelcome'],\n ['@user',\n  'Just',\n  'look',\n  'at',\n  'her',\n  'face',\n  '..',\n  'sorry',\n  'women',\n  'but',\n  'look',\n  'up',\n  'CUNT',\n  'and',\n  'you',\n  'will',\n  'see',\n  'this',\n  'bitch',\n  'face',\n  '.',\n  'If',\n  'ever',\n  'a',\n  'woman',\n  'to',\n  'get',\n  'punched',\n  'JS',\n  '😂',\n  '😂'],\n ['if',\n  'ur',\n  'ugly',\n  '-',\n  '@ing',\n  'women',\n  'who',\n  'interacted',\n  'with',\n  'kriss',\n  'before',\n  'this',\n  'u',\n  'deserve',\n  'to',\n  'have',\n  'ur',\n  'GI',\n  'tract',\n  'rammed',\n  'through',\n  'with',\n  'a',\n  'hot',\n  'iron',\n  'stake',\n  'u',\n  'smug',\n  'bitch'],\n ['My',\n  'latest',\n  ':',\n  'For',\n  'one',\n  'immigrant',\n  'woman',\n  ',',\n  'the',\n  'Trump',\n  'administration',\n  '’',\n  's',\n  'family',\n  'separation',\n  'policy',\n  'may',\n  'end',\n  'up',\n  'costing',\n  'her',\n  'life',\n  '—',\n  'and',\n  'that',\n  'of',\n  'her',\n  'ten-year-old',\n  'son',\n  '.'],\n ['2k19',\n  'drops',\n  'tm',\n  'and',\n  'you',\n  'pussy',\n  'boys',\n  'aint',\n  'ready',\n  'for',\n  'the',\n  'slappings',\n  'in',\n  'my',\n  'park',\n  'by',\n  'me',\n  'an',\n  '@user',\n  'pull',\n  'up',\n  'lil',\n  'niggas'],\n ['@user',\n  'What',\n  'Trump',\n  'knows',\n  'and',\n  'China',\n  \"doesn't\",\n  'is',\n  'illegal',\n  \"immigrant's\",\n  'are',\n  'affected',\n  'by',\n  \"China's\",\n  \"Tariff's\",\n  'not',\n  'Trump',\n  'voters',\n  '.',\n  'LOL'],\n ['@user',\n  'You',\n  'said',\n  'it',\n  '.',\n  \"Let's\",\n  'see',\n  'how',\n  'that',\n  'works',\n  'when',\n  \"you're\",\n  'wearing',\n  'handcuffs',\n  '.',\n  'I',\n  'noticed',\n  'Eric',\n  'is',\n  'quiet',\n  'and',\n  'so',\n  'is',\n  'that',\n  'skank',\n  'Conway',\n  '.'],\n ['@user',\n  'Bitch',\n  'you',\n  \"don't\",\n  'know',\n  'my',\n  'mf',\n  'life',\n  \"I'll\",\n  'see',\n  'you',\n  'when',\n  'I',\n  'do',\n  'hoe'],\n ['@user',\n  'If',\n  'YOU',\n  'fuck',\n  'the',\n  'rapist',\n  'then',\n  'its',\n  'not',\n  'rape',\n  '.'],\n ['People',\n  'Are',\n  'Waking',\n  'Up',\n  'Politicans',\n  'are',\n  'Protecting',\n  'Illegal',\n  'Immigrants',\n  'Not',\n  'their',\n  'Citizens',\n  'for',\n  'Some',\n  'Globalist',\n  'Cheap',\n  'Labor',\n  'Scheme',\n  '@user',\n  'Had',\n  'the',\n  'Guts',\n  'to',\n  'Tell',\n  'the',\n  'Truth',\n  '#MAGA',\n  '#SendThemBack',\n  '#Sweden',\n  'via',\n  '@user'],\n ['Bitch', 'you', 'look', 'stupid', 'af', '🤗'],\n ['Sending', 'you', 'one', 'now', '😘'],\n ['@user',\n  'We',\n  'have',\n  'head',\n  'enough',\n  'yooh',\n  'not',\n  'all',\n  'men',\n  'r',\n  'rapist',\n  ',',\n  'what',\n  'about',\n  'women',\n  'who',\n  'r',\n  'rapists',\n  '?',\n  'So',\n  'please',\n  'stop',\n  'it'],\n ['@user',\n  '@user',\n  '@user',\n  '@user',\n  'Hirono',\n  ',',\n  'Booker',\n  '&',\n  'Harris',\n  'competing',\n  'for',\n  \"'\",\n  'Most',\n  'Hysterical',\n  'Woman',\n  \"'\",\n  'at',\n  'the',\n  'Kavanaugh',\n  'hearings'],\n [\"I've\",\n  'never',\n  'been',\n  'more',\n  'ashamed',\n  'to',\n  'be',\n  'a',\n  'former',\n  'democrat',\n  'than',\n  'I',\n  'am',\n  'now',\n  '.',\n  'Fuck',\n  'u',\n  'Hillary',\n  'you',\n  'stupid',\n  'ass',\n  'bitch',\n  'whore',\n  'cunt',\n  'bitch'],\n ['@user',\n  'Yorkshire',\n  'woman',\n  'who',\n  'taught',\n  'a',\n  'man',\n  '#Consent',\n  'while',\n  'he',\n  'was',\n  '#Rape',\n  '-',\n  'ing',\n  'her',\n  'launches',\n  '1st',\n  'real',\n  'anti',\n  '-',\n  '#Rape',\n  '…'],\n ['\"',\n  'We',\n  'have',\n  'nothing',\n  'except',\n  'the',\n  'e-card',\n  ',',\n  'but',\n  'at',\n  'least',\n  'we',\n  'can',\n  'eat',\n  '.',\n  '\"',\n  'Ahmad',\n  '&',\n  'his',\n  'family',\n  'of',\n  '8',\n  'no',\n  'longer',\n  'need',\n  'to',\n  'beg',\n  'for',\n  'food',\n  'thanks',\n  'to',\n  '@user',\n  '&',\n  '@user',\n  'who',\n  'provide',\n  'e-cards',\n  'for',\n  'vulnerable',\n  'Syrians',\n  '#refugees',\n  'in',\n  'Lebanon',\n  'so',\n  'they',\n  'can',\n  'buy',\n  'food',\n  'for',\n  'their',\n  'families',\n  '.'],\n ['\"',\n  'If',\n  \"you're\",\n  'in',\n  'the',\n  'forest',\n  'to',\n  'collect',\n  'firewood',\n  'and',\n  'the',\n  'soldiers',\n  'see',\n  'you',\n  ',',\n  'they',\n  'will',\n  'rape',\n  'you',\n  '\"',\n  'Horrifying',\n  'stories',\n  'from',\n  'women',\n  'in',\n  '#refugee',\n  'camps',\n  'in',\n  '#SouthSudan'],\n ['@user',\n  'Yeah',\n  'do',\n  'the',\n  'right',\n  'thing',\n  'and',\n  'vote',\n  'for',\n  'the',\n  'Sweden',\n  'Democrats',\n  'Sweden',\n  'for',\n  'Swedes',\n  'not',\n  '3rd',\n  'world',\n  'rapefugee',\n  'terrorists',\n  '!',\n  '#MakeSwedenGreatAgain'],\n ['@user',\n  '@user',\n  '@user',\n  'thanks',\n  'man',\n  ',',\n  'sometimes',\n  'we',\n  'gotta',\n  'state',\n  'the',\n  'obvious',\n  'for',\n  'the',\n  'women',\n  ',',\n  'this',\n  'is',\n  'a',\n  'parody',\n  'account',\n  '#YesAllMen'],\n ['When',\n  'the',\n  'DJ',\n  'plays',\n  'your',\n  'joint',\n  'and',\n  'the',\n  'whole',\n  'crew',\n  'gets',\n  'lit'],\n ['She',\n  'degraded',\n  'dark',\n  'skin',\n  'women',\n  'and',\n  'the',\n  'LGBTQ',\n  'community',\n  ',',\n  'that',\n  'hoe',\n  'is',\n  'cancelled',\n  'for',\n  'life'],\n ['@user',\n  'Some',\n  'basic',\n  'truths',\n  ':',\n  'Access',\n  'to',\n  'White',\n  'people',\n  'is',\n  'not',\n  'a',\n  'human',\n  'righthttps',\n  ':/',\n  '/',\n  't.co/c0gHvd6iMBRemigration',\n  '2018',\n  ':',\n  'Easy',\n  'come',\n  ',',\n  'easy',\n  'GO',\n  '!',\n  '!'],\n ['The',\n  'patients',\n  'I',\n  \"can't\",\n  'help',\n  ',',\n  'the',\n  'plight',\n  'of',\n  'the',\n  'impoverished',\n  ',',\n  'the',\n  'treatment',\n  'of',\n  'immigrant',\n  'children',\n  ',',\n  'the',\n  'assaults',\n  'on',\n  'science',\n  ',',\n  'and',\n  'the',\n  'profiteers',\n  'who',\n  'cash',\n  'in',\n  'on',\n  'the',\n  'suffering',\n  'enrage',\n  'me',\n  '.',\n  'Empathy',\n  \"shouldn't\",\n  'be',\n  'a',\n  'painful',\n  'condition',\n  '.'],\n ['@user',\n  '@user',\n  '@user',\n  '@user',\n  '@user',\n  '#BuildThatWall',\n  'NOW',\n  '!',\n  '#BuildThatWall',\n  ',',\n  'pass',\n  'the',\n  'budget',\n  'with',\n  'money',\n  'for',\n  'the',\n  'WALL',\n  '.',\n  'We',\n  'the',\n  'people',\n  'have',\n  'spoken',\n  '!',\n  'Do',\n  'it',\n  'now',\n  ',',\n  'no',\n  'pet',\n  'projects',\n  'in',\n  'this',\n  'budget',\n  '!',\n  '#BuildThatWall',\n  ',',\n  '#BuildThatWall',\n  '!'],\n ['Each',\n  'second',\n  'citizien',\n  'in',\n  'Germany',\n  'think',\n  'Merkel',\n  'should',\n  'retire',\n  '.'],\n ['nice',\n  'writeup',\n  'on',\n  '@user',\n  'of',\n  'Tuan',\n  'Ho',\n  '@user',\n  'and',\n  '@user'],\n ['What',\n  'did',\n  'the',\n  'EU',\n  'do',\n  'so',\n  'Wrong',\n  'when',\n  'the',\n  'Millions',\n  'of',\n  'Immigrants',\n  'came',\n  'many',\n  'stood',\n  'in',\n  'reality',\n  'square',\n  'they',\n  'were',\n  'welcomed',\n  'now',\n  'they',\n  'demand',\n  'Housing',\n  'and',\n  'Schools',\n  'and',\n  'take',\n  'everything',\n  'in',\n  'Hospitals',\n  'now',\n  'we',\n  'are',\n  'the',\n  'ones',\n  'having',\n  'to',\n  'stand',\n  'tip',\n  'toeing',\n  'on',\n  'waiting',\n  'lists',\n  'and',\n  'ridiculed',\n  'if',\n  'we',\n  'deny',\n  'them',\n  'o',\n  ',',\n  'y'],\n ['Every',\n  'time',\n  'you',\n  'say',\n  \"'\",\n  'not',\n  'all',\n  'men',\n  \"'\",\n  'you',\n  'are',\n  'part',\n  'of',\n  'the',\n  'problem',\n  '.',\n  'Claiming',\n  'that',\n  'telling',\n  'men',\n  'to',\n  'step',\n  'their',\n  'game',\n  'up',\n  'only',\n  'alienates',\n  'good',\n  'men',\n  'is',\n  'BS',\n  '.'],\n [\"It's\",\n  'real',\n  'simple',\n  ':',\n  '#DeportIllegalCriminalsNow',\n  '#BuildThatWall',\n  '#KeepAmericaSafe'],\n ['Detained', 'Immigrant', 'Moms', 'Released', 'in', 'Washington'],\n ['@user',\n  'Going',\n  'to',\n  'take',\n  'a',\n  'lot',\n  'more',\n  'than',\n  'a',\n  'skank',\n  'like',\n  'you',\n  '!',\n  '#wearethestorm'],\n ['Eiffel',\n  'Tower',\n  'workers',\n  'go',\n  'on',\n  'strike',\n  'over',\n  \"monument's\",\n  'new',\n  'visitor',\n  'access',\n  'policy',\n  ',',\n  'queues',\n  '.',\n  'A',\n  'French',\n  'city',\n  'near',\n  'the',\n  '#EiffelTower',\n  'is',\n  'now',\n  'home',\n  'to',\n  '300,000',\n  'illegal',\n  'immigrants',\n  ',',\n  'according',\n  'to',\n  'a',\n  'government',\n  'report'],\n ['They',\n  'must',\n  'Votesk',\n  'why',\n  'should',\n  'give',\n  'boarder',\n  'jumpers',\n  'rights',\n  '.',\n  'That',\n  'mean',\n  'Zimbabwe',\n  'will',\n  'be',\n  'legalising',\n  'illegal',\n  'immigrants',\n  '.',\n  'Elevations',\n  'have',\n  'been',\n  'free',\n  'and',\n  'fair',\n  'they',\n  'must',\n  'now',\n  'go',\n  'home',\n  'and',\n  'build',\n  'their',\n  'country',\n  'Zimbabwe',\n  'is',\n  'a',\n  'free',\n  'state',\n  '.'],\n ['#Refugees', 'not', 'welcome', '!', '!', '!'],\n ['Y',\n  '’',\n  'all',\n  ',',\n  'Bush',\n  'Sr',\n  '.',\n  'literally',\n  'made',\n  'jokes',\n  'about',\n  'copping',\n  'a',\n  'feel',\n  '.',\n  'That',\n  'isn',\n  '’',\n  't',\n  'a',\n  'man',\n  '“',\n  'accidentally',\n  '”',\n  'brushing',\n  'up',\n  'and',\n  'women',\n  'being',\n  'hysterical',\n  '.'],\n ['When', 'you', 'ask', 'her', 'what', 'that', 'mouth', 'do'],\n ['When',\n  \"it's\",\n  'my',\n  'birthday',\n  'but',\n  \"you're\",\n  'the',\n  'one',\n  \"that's\",\n  'getting',\n  'spanked'],\n ['VIDEO',\n  ':',\n  '(',\n  'Part',\n  '2',\n  ')',\n  'London',\n  '#BNP',\n  'A',\n  'Frame',\n  'trailer',\n  'with',\n  'sound',\n  'system',\n  'delivering',\n  'the',\n  'most',\n  'important',\n  'message',\n  'to',\n  'the',\n  'country',\n  '.',\n  '\"',\n  'SAY',\n  'NO',\n  'TO',\n  'IMMIGRATION',\n  '.',\n  '\"',\n  '#Brexit',\n  '#immigration',\n  '#Trump',\n  '#Britain',\n  '#British',\n  '#Patriots',\n  '#London',\n  '#england',\n  '#UK'],\n ['RT',\n  '@user',\n  'People',\n  'with',\n  'babies',\n  ',',\n  'keep',\n  'posting',\n  'about',\n  'how',\n  'shitty',\n  'they',\n  'are',\n  'so',\n  'I',\n  'always',\n  'feel',\n  'good',\n  'about',\n  'never',\n  'having',\n  'any',\n  '.'],\n ['Your',\n  'mom',\n  'was',\n  'being',\n  'a',\n  'bitch',\n  'to',\n  'you',\n  '?',\n  'I',\n  'totally',\n  'see',\n  'how',\n  \"that's\",\n  'my',\n  'fault',\n  '.',\n  '#WomenSuck'],\n ['When',\n  'you',\n  'shaved',\n  'and',\n  'all',\n  'he',\n  'was',\n  'good',\n  'for',\n  'was',\n  'ten',\n  'minutes',\n  'of',\n  'missionary',\n  'and',\n  'the',\n  'choke',\n  'of',\n  'a',\n  'child'],\n [\"I'd\",\n  'like',\n  'to',\n  'claim',\n  \"'\",\n  'not',\n  'all',\n  'men',\n  ',',\n  \"'\",\n  'but',\n  'I',\n  'too',\n  'have',\n  'been',\n  'a',\n  'misogynistic',\n  '&',\n  'sexist',\n  'ass',\n  'to',\n  'women',\n  'who',\n  'have',\n  'been',\n  '&',\n  'remain',\n  'my',\n  'friends',\n  '.',\n  'I',\n  'repent',\n  '.'],\n ['I',\n  'used',\n  'to',\n  'ride',\n  'with',\n  'my',\n  'father',\n  'before',\n  'he',\n  'retired',\n  'as',\n  'a',\n  'Phoenix',\n  'police',\n  'officer',\n  '.',\n  'He',\n  'worked',\n  'in',\n  'west',\n  'Phoenix',\n  'over',\n  'night',\n  '.',\n  'Drunk',\n  'illegal',\n  'immigrant',\n  'drivers',\n  'were',\n  'everywhere',\n  '.',\n  'One',\n  'almost',\n  'T-boned',\n  'us',\n  'at',\n  'an',\n  'intersection',\n  '.',\n  'They',\n  'pose',\n  'great',\n  'danger',\n  'the',\n  'the',\n  'rest',\n  'of',\n  'us',\n  'who',\n  'do',\n  'follow',\n  'laws',\n  '.',\n  '😡'],\n ['@user',\n  '@user',\n  'sugar',\n  'you',\n  'should',\n  'have',\n  'witnessed',\n  'a',\n  'true',\n  'Jason',\n  'classic',\n  'last',\n  'night',\n  '.',\n  'Cherry',\n  'Falls',\n  '.',\n  'I',\n  'was',\n  'hysterical',\n  '.'],\n ['@user',\n  \"I'd\",\n  'like',\n  'to',\n  'think',\n  'you',\n  'just',\n  'blew',\n  'on',\n  'the',\n  'tower',\n  'lol',\n  '.',\n  'But',\n  'reseating',\n  'the',\n  'RAM',\n  'was',\n  'a',\n  'good',\n  'idea',\n  'too',\n  '.'],\n ['Fuck',\n  'love',\n  'wat',\n  'love',\n  'that',\n  'fake',\n  'love',\n  'u',\n  'give',\n  'u',\n  'lil',\n  'kid',\n  'u',\n  'bitch',\n  'that',\n  'once',\n  'i',\n  'turn',\n  'woman',\n  'on',\n  'u',\n  'u',\n  'run',\n  'away'],\n ['@user',\n  '@user',\n  '@user',\n  'Says',\n  'the',\n  'supporter',\n  'of',\n  'a',\n  'woman',\n  '..',\n  '@HillaryClinton',\n  '...',\n  'that',\n  'literally',\n  'protected',\n  '&',\n  'threw',\n  'every',\n  'woman',\n  'under',\n  'the',\n  'bus',\n  'that',\n  'accused',\n  'her',\n  'President',\n  'husband',\n  'of',\n  'rape',\n  ',',\n  'affairs',\n  ',',\n  'etc',\n  '.',\n  'Pleeeeeease',\n  ',',\n  'STFU',\n  ',',\n  'or',\n  'educate',\n  'yourself',\n  '.'],\n ['Bored',\n  'with',\n  'your',\n  'home',\n  '?',\n  'Pimp',\n  'it',\n  'up',\n  '.',\n  'Add',\n  'some',\n  'spice',\n  '#Laminate',\n  'Cutter',\n  'D-I-Y',\n  '.',\n  'Easier',\n  'than',\n  'you',\n  'think',\n  '(',\n  'USA',\n  '/',\n  'Canada',\n  '&',\n  ';',\n  'UK',\n  ')'],\n ['@user',\n  'The',\n  'rise',\n  'of',\n  'ISIS',\n  'is',\n  'due',\n  'to',\n  'the',\n  'aid',\n  'they',\n  'received',\n  'from',\n  'Assad',\n  '.',\n  'The',\n  'refugees',\n  'are',\n  'mostly',\n  'fleeing',\n  'from',\n  'Assad',\n  '.',\n  'It',\n  'is',\n  'Corbyn',\n  'with',\n  'his',\n  'pro-Assad',\n  'policy',\n  'who',\n  'should',\n  'hang',\n  'his',\n  'head',\n  'in',\n  'shame',\n  '.'],\n ['@user', 'needs', 'to', 'STFU'],\n ['Observing',\n  'Ramadan',\n  'with',\n  'union',\n  'member',\n  'and',\n  'activist',\n  'Khai',\n  '(',\n  'first',\n  'photo',\n  'in',\n  'the',\n  'middle',\n  ')',\n  'and',\n  'his',\n  'fellow',\n  'migrant',\n  'workers',\n  'from',\n  'Malaysia',\n  '.',\n  'The',\n  'lady',\n  'who',\n  'prepared',\n  'the',\n  'food',\n  'is',\n  'an',\n  'amazing',\n  'cook',\n  '!',\n  'National',\n  'Union',\n  'of',\n  'Workers',\n  'organiser',\n  'Anh',\n  'is',\n  'phenomenal',\n  '!',\n  'ðŸ',\n  '’',\n  'ª',\n  '@user',\n  'was',\n  'eating',\n  'like',\n  'a',\n  'horseðŸ',\n  '˜',\n  '\\x9d'],\n ['When', \"it's\", 'not', 'your', 'fathers', 'birthday', '...'],\n [\"Hungary's\",\n  'latest',\n  'attempt',\n  'to',\n  'demonize',\n  'refugees',\n  'and',\n  'stoke',\n  'xenophobia',\n  'targets',\n  'charities',\n  'trying',\n  'to',\n  'help',\n  'them',\n  '-',\n  'UN',\n  '@user'],\n ['@user',\n  '@user',\n  'Not',\n  'all',\n  'men',\n  'are',\n  'evil',\n  'and',\n  'sexist',\n  ',',\n  'pigs',\n  'who',\n  \"don't\",\n  'give',\n  'a',\n  'damn',\n  '.',\n  'And',\n  'for',\n  'you',\n  'to',\n  'take',\n  'what',\n  'I',\n  'said',\n  ',',\n  'and',\n  '…'],\n ['Media',\n  'has',\n  'sold',\n  'out',\n  'to',\n  'Soros',\n  ',',\n  'etc',\n  ',',\n  'and',\n  'selling',\n  'USA',\n  'Public',\n  'down',\n  'the',\n  'river',\n  'for',\n  'power',\n  'and',\n  'money',\n  ',',\n  'we',\n  'are',\n  'nothing',\n  'to',\n  'them',\n  '@user',\n  '@user',\n  '#BuildTheWall',\n  '#LockThemUp',\n  '#EndDACA',\n  '#BoycottNFL',\n  '#BoycottNike',\n  'enough',\n  'already'],\n ['All',\n  'of',\n  'a',\n  'sudden',\n  'the',\n  'guy',\n  'went',\n  'hysterical',\n  'because',\n  'he',\n  'thought',\n  'that',\n  'the',\n  'girl',\n  'is',\n  'assuming',\n  'that',\n  'something',\n  '’',\n  's',\n  'going',\n  'on',\n  'between',\n  'the',\n  'both',\n  'of',\n  'them',\n  '.'],\n ['When',\n  'your',\n  \"makeup's\",\n  'on',\n  'point',\n  'and',\n  'still',\n  'nobody',\n  'wants',\n  'you'],\n ['@user',\n  'Where',\n  'were',\n  'u',\n  'when',\n  'Pandits',\n  'were',\n  'made',\n  'Refugees',\n  'in',\n  'their',\n  'Homeland',\n  '.',\n  'U',\n  'never',\n  'raised',\n  'voice',\n  'then',\n  '.',\n  'Now',\n  'fighting',\n  'for',\n  'illegal',\n  'migrants'],\n ['Women',\n  'who',\n  'strive',\n  'to',\n  'be',\n  \"'\",\n  'equal',\n  \"'\",\n  'to',\n  'men',\n  'lack',\n  'ambition',\n  '#YesAllMen'],\n ['@user',\n  'horrified',\n  'to',\n  'see',\n  '@user',\n  'London',\n  'anti-immigrant',\n  'rhetoric',\n  'appearing',\n  'in',\n  'official',\n  '@user',\n  'July',\n  'publication',\n  'on',\n  'economy',\n  'trying',\n  'to',\n  'stir',\n  'up',\n  'race',\n  'hate',\n  '.',\n  'These',\n  'dark',\n  'money',\n  'think',\n  'tank',\n  'infest',\n  'everything',\n  'and',\n  'corrupt',\n  'them',\n  '.',\n  'Very',\n  'angry',\n  '!',\n  '(',\n  '29',\n  'year',\n  'ICAEW',\n  'member',\n  '!',\n  ')',\n  'B'],\n ['If',\n  \"she's\",\n  'doin',\n  'this',\n  ',',\n  \"she's\",\n  'about',\n  'to',\n  'suck',\n  'the',\n  'souls',\n  'of',\n  '10',\n  'dead',\n  'men',\n  'out',\n  'your',\n  'dick'],\n ['@user',\n  'You',\n  \"can't\",\n  'call',\n  'anyone',\n  'a',\n  'whore',\n  'when',\n  \"you're\",\n  'taking',\n  'up',\n  'the',\n  'ass',\n  'from',\n  'your',\n  'father',\n  'cunt',\n  '.'],\n ['RT',\n  '@user',\n  'If',\n  'you',\n  'play',\n  'field',\n  'hockey',\n  \"there's\",\n  'a',\n  'good',\n  'chance',\n  \"you're\",\n  'a',\n  'lesbian',\n  '.'],\n ['Glam',\n  'Skanks',\n  '-',\n  'Karma',\n  '/',\n  'Bad',\n  'Bitch',\n  'Double',\n  'Feature',\n  '[',\n  'Official',\n  'Video',\n  ']:',\n  'via',\n  '@user'],\n ['how',\n  'the',\n  'hell',\n  'that',\n  'bitch',\n  'know',\n  'him',\n  '?',\n  'hmmm',\n  'she',\n  'just',\n  'proved',\n  'to',\n  'me',\n  'that',\n  \"she's\",\n  'really',\n  'a',\n  'whore'],\n ['@user', 'you', 'give', 'me', 'a', 'penis', 'boner', '😘'],\n ['IDF', 'murders', 'non', 'threatening', 'protestors', 'in', 'Gaze'],\n ['Pro-Trump',\n  'Counter',\n  'Protester',\n  'Arrested',\n  'At',\n  'Immigration',\n  'Rally',\n  'For',\n  'Brandishing',\n  'Gun'],\n ['Stop',\n  'talking',\n  'about',\n  'yourself',\n  ',',\n  'we',\n  'will',\n  'let',\n  'you',\n  'rest',\n  'while',\n  'you',\n  'are',\n  'in',\n  'prison',\n  'for',\n  'treason',\n  ',',\n  'high',\n  'crimes',\n  ',',\n  'etc',\n  '@user',\n  '@user',\n  '#BuildTheWall',\n  '#LockThemUp',\n  '#EndDACA',\n  'now',\n  '!',\n  '!',\n  '!'],\n ['Online', 'seller', ',', 'pls', 'display', 'price', 'you', 'cunt', '!'],\n ['Join',\n  '@user',\n  'for',\n  'a',\n  'teach-in',\n  'about',\n  'surviving',\n  'violence',\n  ',',\n  'ICE',\n  'and',\n  'the',\n  'experiences',\n  'of',\n  'criminalized',\n  'immigrant',\n  'survivors',\n  'this',\n  'Thursday',\n  'in',\n  'SF'],\n ['This', 'is', 'the', 'kind', 'of', 'Easter', 'egg', 'hunt', 'I', 'need'],\n ['Your', 'hoes', 'vs', 'my', 'hoes'],\n ['Do',\n  'not',\n  'announce',\n  'your',\n  'not',\n  'all',\n  'men',\n  'argument',\n  'when',\n  'I',\n  'tell',\n  'you',\n  'that',\n  'in',\n  'the',\n  '16th',\n  'century',\n  'anything',\n  'a',\n  'woman',\n  'did',\n  'without',\n  'the',\n  'OK',\n  'of',\n  'her',\n  'husband',\n  '...'],\n ['@user',\n  '@user',\n  '@user',\n  'This',\n  'kunt',\n  'is',\n  'from',\n  'Chicago',\n  'too',\n  'you',\n  'know',\n  'that',\n  'right',\n  '?',\n  'Another',\n  'Alinsky',\n  'foll',\n  '…'],\n ['In',\n  'commemoration',\n  'of',\n  '#WorldRefugeeDay',\n  'and',\n  'beautiful',\n  'families',\n  'who',\n  'have',\n  'made',\n  '#Memphis',\n  'home',\n  'through',\n  'refugee',\n  'resettlement',\n  ',',\n  'visit',\n  'our',\n  'photo',\n  'exhibit',\n  '\"',\n  'Images',\n  'of',\n  'Inspiration',\n  '&',\n  'Integration',\n  '\"',\n  'at',\n  '@user',\n  'through',\n  'Wednesday',\n  '!'],\n ['It',\n  'amazes',\n  'me',\n  'how',\n  'many',\n  'women',\n  'masturbate',\n  'at',\n  'work',\n  '...',\n  'Please',\n  'come',\n  'work',\n  'for',\n  'me',\n  ',',\n  'I',\n  'have',\n  'a',\n  'position',\n  'open',\n  'under',\n  'my',\n  'desk'],\n ['off',\n  'your',\n  'left',\n  'wing',\n  'high',\n  'horse',\n  '@user',\n  'Certainly',\n  'not',\n  'the',\n  'average',\n  \"person's\",\n  'take',\n  'on',\n  'a',\n  '\"',\n  'refugee',\n  '\"',\n  '.',\n  'Remove',\n  'the',\n  'country',\n  'shoppers',\n  ',',\n  'the',\n  'opportunist',\n  'migrants',\n  ',',\n  'those',\n  'with',\n  'criminal',\n  'or',\n  'terrorist',\n  'ties',\n  ',',\n  'those',\n  'with',\n  'hidden',\n  'wealth',\n  'and',\n  \"who's\",\n  'left',\n  '?'],\n ['\"',\n  \"I'm\",\n  'going',\n  'to',\n  'LARP',\n  'as',\n  'someone',\n  'from',\n  'a',\n  'TV',\n  'show',\n  'because',\n  'otherwise',\n  'I',\n  'might',\n  'not',\n  'get',\n  'to',\n  'engage',\n  'in',\n  'recreational',\n  'infanticide',\n  '\"',\n  'said',\n  'the',\n  'well',\n  'adjusted',\n  'and',\n  'not',\n  'at',\n  'all',\n  'hysterical',\n  'woman',\n  '.'],\n ['A',\n  'director',\n  'can',\n  'lose',\n  'a',\n  'job',\n  'because',\n  'of',\n  '10',\n  'year',\n  'old',\n  'jokes',\n  'but',\n  '@user',\n  'can',\n  'grab',\n  'them',\n  'by',\n  'the',\n  'pussy',\n  ',',\n  'be',\n  'a',\n  'pussy',\n  'for',\n  'Putin',\n  '🇷',\n  '🇺',\n  ',',\n  'be',\n  'an',\n  'ah',\n  'to',\n  'a',\n  'queen',\n  '🇬',\n  '🇧',\n  ',',\n  'be',\n  'a',\n  'tyrant',\n  'for',\n  'latin',\n  'immigrant',\n  'families',\n  'but',\n  'marry',\n  'a',\n  'white',\n  'immigrant',\n  '.'],\n ['Oxymoron',\n  'of',\n  'the',\n  'Day',\n  ':',\n  'Factual',\n  'Feminist',\n  'See',\n  'the',\n  'Blog',\n  ':'],\n ['@user',\n  'Um',\n  'excuse',\n  'you',\n  'I',\n  'am',\n  'a',\n  'twank',\n  ',',\n  'a',\n  'twink',\n  'and',\n  'a',\n  'skank'],\n ['Why',\n  'tf',\n  'these',\n  'hoes',\n  'be',\n  'hoein',\n  'while',\n  'pregnant',\n  '?',\n  'Bitch',\n  'you',\n  \"can't\",\n  'get',\n  'a',\n  'regular',\n  'ass',\n  'job',\n  'for',\n  '9months',\n  'or',\n  'what',\n  '?',\n  'Smdh'],\n ['Immigrant',\n  'girl',\n  'hides',\n  'escaped',\n  'Homestead',\n  'detention',\n  'center',\n  '|',\n  'Miami',\n  'Herald',\n  'More',\n  'importantly',\n  ',',\n  'some',\n  'one',\n  'needs',\n  'to',\n  'interview',\n  'her',\n  'IN',\n  'HER',\n  'LANGUAGE',\n  'about',\n  'her',\n  'experiences',\n  'at',\n  'the',\n  'immigrant',\n  'detention',\n  'center',\n  '.'],\n ['cormacs',\n  'such',\n  'a',\n  'cunt',\n  'won',\n  '’',\n  't',\n  'even',\n  'let',\n  'me',\n  'squeeze',\n  'his',\n  'blackheads',\n  'pussy',\n  'bitch'],\n ['IF',\n  'FOR',\n  'NO',\n  'OTHER',\n  'REASON',\n  ',',\n  'REMEMBER',\n  'TRUMP',\n  '’',\n  'S',\n  'ADMINISTRATION',\n  'IS',\n  'RESPONSIBLE',\n  'FOR',\n  'THIS',\n  'ATROCITY',\n  'AND',\n  'VOTE',\n  'STRAIGHT',\n  'DEMOCRAT',\n  'IN',\n  'NOVEMBER',\n  '!'],\n ['One',\n  'of',\n  'our',\n  'newest',\n  'releases',\n  'investigates',\n  'experiences',\n  'surrounding',\n  'hate',\n  'and',\n  'bias',\n  'crimes',\n  'and',\n  'incidents',\n  ',',\n  'and',\n  'the',\n  'reasons',\n  'and',\n  'factors',\n  'affecting',\n  'reporting',\n  'and',\n  'under-reporting',\n  'among',\n  'youth',\n  'and',\n  'adults',\n  'in',\n  'LGBT',\n  ',',\n  'immigrant',\n  ',',\n  'Hispanic',\n  ',',\n  'Black',\n  ',',\n  'and',\n  'Muslim',\n  'communities',\n  '.'],\n ['Check',\n  'this',\n  'out',\n  'and',\n  'Retweet',\n  'if',\n  'you',\n  'Agree',\n  '!',\n  '#draintheswamp',\n  '#buildthatwall',\n  '#kag',\n  '#politics',\n  '#government',\n  '#gop',\n  '#Trumplicans',\n  '#PresidentTrump',\n  '#MAGA',\n  '#TrumpTrain',\n  '#AmericaFirst',\n  '#donaldtrump',\n  '#sorrynotsorry',\n  '#politicalmemes',\n  '#madmax',\n  '#trumplicans',\n  '#whitehouse',\n  '#patriot'],\n ['Italian',\n  'mayor',\n  'abandons',\n  'international',\n  'human',\n  'rights',\n  'laws',\n  ',',\n  'cuts',\n  'electricity',\n  'supply',\n  'to',\n  'refugee',\n  'shelters',\n  '\"',\n  'You',\n  'are',\n  'not',\n  'welcome',\n  'here',\n  '\"',\n  '-',\n  'Free',\n  'Speech',\n  'Time',\n  '-',\n  '@user'],\n ['Get',\n  'excited',\n  '!',\n  'On',\n  'May',\n  '30',\n  'at',\n  '8P',\n  'M',\n  'CST',\n  \"we're\",\n  'releasing',\n  'a',\n  'brand',\n  'new',\n  'video',\n  'on',\n  'our',\n  'Facebook',\n  'page',\n  'that',\n  'tells',\n  'the',\n  'inspiring',\n  'story',\n  'of',\n  'Al',\n  ',',\n  'a',\n  'former',\n  'refugee',\n  'from',\n  'Iraq',\n  'who',\n  'recently',\n  'became',\n  'a',\n  'U',\n  '.',\n  'S',\n  '.',\n  'citizen',\n  '.',\n  'Make',\n  'sure',\n  \"you've\",\n  'liked',\n  'our',\n  'page',\n  'so',\n  'you',\n  \"don't\",\n  'miss',\n  'it',\n  '!',\n  'âž',\n  '\\x9d'],\n ['I',\n  \"don't\",\n  'run',\n  'from',\n  'my',\n  'problems',\n  ',',\n  'I',\n  'laugh',\n  'at',\n  'them',\n  'and',\n  'act',\n  'like',\n  'they',\n  \"don't\",\n  'exists',\n  'like',\n  'a',\n  'normal',\n  'human',\n  'being'],\n ['Sweden',\n  ':',\n  'If',\n  'the',\n  'country',\n  'needs',\n  'the',\n  'money',\n  'for',\n  'refugees',\n  'to',\n  'give',\n  'them',\n  'a',\n  'better',\n  'life',\n  ',',\n  'the',\n  'swedish',\n  'retireage',\n  'must',\n  'increase',\n  '.',\n  'This',\n  'is',\n  'the',\n  'end',\n  'of',\n  'socialwelfare',\n  'for',\n  'Swedisch',\n  'people',\n  '.'],\n ['We',\n  'appreciate',\n  'the',\n  'ongoing',\n  'advocacy',\n  'for',\n  'immigrants',\n  'by',\n  '@user',\n  'and',\n  '@user'],\n ['@user',\n  'You',\n  'ungrateful',\n  'whore',\n  '. . .',\n  \"I'd\",\n  'have',\n  'bought',\n  'it',\n  'n',\n  'everything',\n  '😂'],\n ['Russian',\n  'meddling',\n  'in',\n  'Syrian',\n  'refugee',\n  'repatriation',\n  ':',\n  'https://t.co/nCjMUFCJc0'],\n ['@user',\n  '😘',\n  '😘',\n  'down',\n  'bitch',\n  '.',\n  'That',\n  '’',\n  's',\n  'what',\n  'women',\n  'do',\n  '.',\n  'Provide',\n  'for',\n  'her',\n  'man',\n  'and',\n  'put',\n  'his',\n  'head',\n  'towards',\n  'God',\n  'when',\n  'he',\n  'have',\n  'doubts',\n  '.',\n  'I',\n  'love',\n  'you',\n  '💙'],\n ['@user',\n  '@user',\n  'To',\n  'take',\n  'over',\n  'your',\n  'reign',\n  'of',\n  'the',\n  'Most',\n  'Hysterical',\n  'Woman',\n  'on',\n  'a',\n  'Delta',\n  'Airlines',\n  'flight',\n  '?'],\n ['@user', 'Bitch', 'show', 'me', 'attention', 'too', 'you', 'whore'],\n ['@user',\n  'bonnie',\n  'is',\n  'a',\n  'sneaky',\n  'cunt',\n  'bitch',\n  'and',\n  'she',\n  'probably',\n  'has',\n  'something',\n  'to',\n  'do',\n  'with',\n  'whatever',\n  'happened',\n  'to',\n  'laurels',\n  'baby'],\n ['Monday', 'you', 'slag'],\n ['This',\n  'ignorant',\n  'cunt',\n  'bitch',\n  '@user',\n  'bout',\n  'people',\n  'hate',\n  'her',\n  'cus',\n  'she',\n  '’',\n  's',\n  'lightskin',\n  '...',\n  'no',\n  '.',\n  'We',\n  'hate',\n  'you',\n  'cus',\n  'you',\n  'are',\n  'a',\n  'man',\n  '.'],\n ['One',\n  'of',\n  'many',\n  'dumb',\n  'deals',\n  'this',\n  'country',\n  'has',\n  'and',\n  'is',\n  'doing',\n  'regarding',\n  'immigration',\n  '.'],\n ['Sick',\n  'barstewards',\n  '!',\n  'This',\n  'is',\n  'what',\n  'happens',\n  'when',\n  'we',\n  'put',\n  'up',\n  'the',\n  'refugees',\n  'welcome',\n  'signs',\n  '!',\n  'They',\n  'not',\n  'only',\n  'rape',\n  'our',\n  'wives',\n  'or',\n  'girlfriends',\n  ',',\n  'our',\n  'daughters',\n  'but',\n  'our',\n  'ruddy',\n  'mothers',\n  'too',\n  '!',\n  '!'],\n ['If',\n  'she',\n  'dressed',\n  'like',\n  'a',\n  'hoe',\n  'in',\n  'the',\n  'cold',\n  'she',\n  'a',\n  'real',\n  'Whore',\n  '✋',\n  '🏾',\n  '😂',\n  '😭'],\n ['Rape',\n  'is',\n  'DISGUSTING',\n  '.',\n  'No',\n  'woman',\n  'or',\n  'man',\n  'deserves',\n  'to',\n  'go',\n  'through',\n  'something',\n  'as',\n  'traumatic',\n  'as',\n  'that',\n  '.',\n  'Nothing',\n  'can',\n  'ever',\n  'justify',\n  'rape',\n  '.',\n  'Rape',\n  'is',\n  'a',\n  'choice',\n  '.'],\n ['RT',\n  '@user',\n  'Lol',\n  'when',\n  'you',\n  'have',\n  'two',\n  'girlfriends',\n  '@user',\n  '#huntermourer'],\n ['Just',\n  'seen',\n  'a',\n  'girl',\n  'on',\n  'tinder',\n  \"who's\",\n  'bio',\n  'just',\n  'said',\n  \"'\",\n  \"I'm\",\n  'a',\n  'hoe',\n  '.',\n  \"'\",\n  'So',\n  'poetic',\n  '.',\n  'I',\n  'might',\n  'marry',\n  'this',\n  'woman',\n  'fam',\n  '.'],\n ['@user', 'I', 'run', 'from', 'those', 'bitches'],\n [\"Chicago's\",\n  'a',\n  'killing',\n  'field',\n  'from',\n  'decades',\n  'of',\n  'inept',\n  'corrupt',\n  'liberal',\n  'leaders',\n  ',',\n  'the',\n  'mayor',\n  'distracts',\n  'by',\n  'attacking',\n  'Trump',\n  '&',\n  'endorsing',\n  'illegals',\n  ',',\n  'national',\n  'media',\n  'distracts',\n  'with',\n  'stories',\n  'of',\n  'Russia',\n  ',',\n  'Trump',\n  'hate',\n  '&',\n  'endless',\n  'parades',\n  'of',\n  'climate',\n  'change',\n  ',',\n  'immigrant',\n  'rights',\n  ',',\n  'race',\n  'baiting',\n  '&',\n  'victimization',\n  '..'],\n ['@user', '@user', 'You', 'seem', 'hysterical', '.'],\n ['@user',\n  'Do',\n  'MeP',\n  ',',\n  's',\n  'visit',\n  ',',\n  'Greece',\n  'to',\n  'see',\n  ',',\n  'the',\n  'refugee',\n  'reductions',\n  'already',\n  'trying',\n  'to',\n  'justify',\n  'the',\n  'Turkey',\n  'deal',\n  ',',\n  'afraid',\n  'its',\n  'not',\n  'working'],\n ['I',\n  \"Can't\",\n  'Stand',\n  '#Hypocrites',\n  'The',\n  '#LooneyLeft',\n  '#Liberals',\n  'and',\n  '#Demoncrats',\n  'Are',\n  'Miserable',\n  'Ppl'],\n ['âš',\n  '¡',\n  'ï',\n  '¸',\n  '\\x8f',\n  '2.9',\n  'million',\n  'more',\n  'refugees',\n  'fled',\n  'their',\n  'home',\n  'countries',\n  'between',\n  '2016',\n  'and',\n  '2017.That',\n  \"'\",\n  's',\n  'the',\n  'biggest',\n  'increase',\n  'we',\n  'have',\n  'seen',\n  'in',\n  'a',\n  'single',\n  'year',\n  '.',\n  'Ever.https',\n  ':/',\n  '/',\n  't.co/JuUlS4r1DQ'],\n ['Nutting', 'inside', 'a', 'bitch', 'is', 'rape', '?', '?', '?'],\n ['@user',\n  '@user',\n  'A',\n  'man',\n  'with',\n  '3',\n  'wives',\n  ',',\n  '15',\n  'women',\n  'accused',\n  'him',\n  'of',\n  'assault',\n  ',',\n  '13',\n  'yr',\n  'old',\n  'girl',\n  'accused',\n  'him',\n  'of',\n  'rape',\n  ',',\n  'makes',\n  'speech',\n  'about',\n  'religion',\n  '&',\n  ';',\n  'values',\n  '.',\n  'Funny',\n  '!'],\n ['Tajani',\n  ',',\n  'Weber',\n  'on',\n  'migrant',\n  'issue',\n  'as',\n  'they',\n  'arive',\n  'for',\n  'EU',\n  'summit'],\n ['@user',\n  'Cobra',\n  'didn',\n  '’',\n  't',\n  'do',\n  'anything',\n  '.',\n  'Insecure',\n  'drunken',\n  'whore',\n  'ass',\n  'Lily',\n  'basically',\n  'lied',\n  '&',\n  'manipulated',\n  'out',\n  'of',\n  'anger',\n  'bc',\n  'Jr',\n  'didn',\n  '’',\n  't',\n  'want',\n  'a',\n  'slut',\n  '!'],\n ['Its',\n  'time',\n  '-',\n  'to',\n  'stop',\n  'the',\n  'immigration',\n  '-',\n  'to',\n  'USA',\n  '!',\n  'Specially',\n  'from',\n  '40',\n  'muslim',\n  'countries',\n  '.',\n  'The',\n  'president',\n  'named',\n  'it',\n  ':',\n  'SHITHOLE-countries',\n  '.',\n  'And',\n  'he',\n  'is',\n  'right',\n  'and',\n  'also',\n  'his',\n  'wall',\n  'must',\n  'be',\n  'build',\n  '.',\n  'But',\n  'all',\n  'foreign',\n  'invaders',\n  'inside',\n  'of',\n  'USA',\n  'must',\n  'go',\n  'home',\n  '!'],\n [\"You'll\",\n  'never',\n  'be',\n  'girlfriend',\n  'or',\n  'wife',\n  'or',\n  'none',\n  'of',\n  'that',\n  '😌',\n  \"that's\",\n  'MY',\n  'place',\n  'bitch',\n  'know',\n  'your',\n  'role',\n  'and',\n  'play',\n  'your',\n  'position',\n  '🤣',\n  '🤣',\n  '🤣',\n  'the',\n  'rebound',\n  'one',\n  '😂',\n  '😭',\n  '😭',\n  '😩',\n  '✌',\n  '🏾'],\n ['To',\n  'make',\n  'an',\n  'open',\n  'Europe',\n  'for',\n  'many',\n  'refugees',\n  'the',\n  'poltical',\n  'puppets',\n  'will',\n  'open',\n  'all',\n  'borders',\n  '.',\n  'They',\n  'believe',\n  'that',\n  'the',\n  'costs',\n  'of',\n  'workers',\n  'fall',\n  'down',\n  'and',\n  'the',\n  'rich',\n  'earn',\n  'more',\n  'money',\n  '.',\n  'So',\n  'the',\n  'establishment',\n  'works',\n  'in',\n  'Europe',\n  'against',\n  'the',\n  'voters',\n  '.'],\n ['I',\n  \"can't\",\n  'believe',\n  'that',\n  'amidst',\n  'a',\n  'rape',\n  'discussion',\n  ',',\n  'a',\n  'whole',\n  'woman',\n  'called',\n  'in',\n  'to',\n  'remind',\n  'us',\n  'that',\n  'not',\n  'all',\n  'men',\n  'are',\n  'trash',\n  '.',\n  'Increds',\n  '.'],\n ['I',\n  'swear',\n  'that',\n  'I',\n  'am',\n  'watching',\n  'a',\n  'show',\n  'about',\n  'immigration',\n  'fraud',\n  '!',\n  '#90DaysFiance'],\n [\"What's\",\n  'the',\n  'difference',\n  'between',\n  'a',\n  'pencil',\n  'arguing',\n  'and',\n  'a',\n  'woman',\n  'arguing',\n  '?',\n  'A',\n  'pencil',\n  'has',\n  'a',\n  'point'],\n ['And',\n  'the',\n  'US',\n  'State',\n  'Department',\n  'just',\n  'increased',\n  'the',\n  'number',\n  'of',\n  'refugees',\n  'we',\n  'are',\n  'taking',\n  'in',\n  '!',\n  '!',\n  \"Can't\",\n  'anyone',\n  'but',\n  'us',\n  '\"',\n  'common',\n  '...'],\n ['As',\n  'someone',\n  'who',\n  'works',\n  'with',\n  'refugees',\n  ';',\n  'thank',\n  'you',\n  'Sprudge',\n  '.'],\n ['@user', 'Women', 'don', '’', 't', 'do', 'cunt'],\n ['UNSC',\n  'faces',\n  'difficult',\n  'dilemma',\n  'with',\n  '#Rohingya',\n  'crisis',\n  '#ucanews',\n  '#voiceforthevoiceless',\n  '#UN',\n  '#humanrights',\n  '#Bangladesh',\n  '@user',\n  '@user',\n  '@user',\n  '@user',\n  '@user',\n  '@user',\n  '@user'],\n ['Is',\n  'it',\n  'rape',\n  'if',\n  'you',\n  'stick',\n  'your',\n  'finger',\n  'in',\n  'a',\n  'bootyhole',\n  'when',\n  'they',\n  'sleep',\n  '?'],\n ['When', 'you', 'send', 'a', 'dick', 'pic', 'and', 'get', 'no', 'response'],\n ['Bitches',\n  'that',\n  'wear',\n  'chokers',\n  'that',\n  \"aren't\",\n  'complete',\n  'whores',\n  'is',\n  'why',\n  'I',\n  'hate',\n  'you',\n  'bitches'],\n ['Stephen',\n  'Miller',\n  '(',\n  'right',\n  ')',\n  'and',\n  'Larry',\n  'McKenney',\n  'of',\n  'Capitol',\n  'Radiology',\n  'listen',\n  'as',\n  'Trump',\n  'speaks',\n  'during',\n  'a',\n  'meeting',\n  'at',\n  'the',\n  'White',\n  'House',\n  'last',\n  'year',\n  '.',\n  'are',\n  'not',\n  'in',\n  '1950',\n  ',',\n  'we',\n  'have',\n  'to',\n  'start',\n  'limiting',\n  'legal',\n  'immigration',\n  '.',\n  'And',\n  'completely',\n  'stop',\n  'illegal',\n  'immigration',\n  '.'],\n ['#Refugees',\n  'cost',\n  'American',\n  'taxpayers',\n  'over',\n  '$',\n  '8',\n  'BILLION',\n  'EVERY',\n  'YEAR',\n  '.',\n  'They',\n  'cost',\n  'more',\n  'than',\n  'they',\n  'contribute',\n  '.',\n  'I',\n  'only',\n  'can',\n  'afford',\n  '1',\n  'child',\n  '.',\n  'Why',\n  'do',\n  'I',\n  'have',\n  'to',\n  'pay',\n  'for',\n  'refugees',\n  'who',\n  'hate',\n  'America',\n  ',',\n  'call',\n  'me',\n  'infidel',\n  '/',\n  'Kafir',\n  'AND',\n  'raise',\n  ',',\n  'house',\n  '&',\n  'educate',\n  'their',\n  'children',\n  'who',\n  'are',\n  'taught',\n  'to',\n  'hate',\n  'America',\n  'too',\n  '?'],\n ['@user',\n  'only',\n  'if',\n  'a',\n  'woman',\n  'of',\n  'good',\n  'standing',\n  'can',\n  'back',\n  'up',\n  'what',\n  'they',\n  'are',\n  'saying',\n  ',',\n  'I',\n  'mean',\n  ',',\n  'can',\n  'we',\n  'trust',\n  'men',\n  'to',\n  'not',\n  'be',\n  'hysterical',\n  '?'],\n ['Do',\n  'you',\n  'get',\n  'up',\n  'off',\n  'the',\n  'couch',\n  'and',\n  'stand',\n  'for',\n  'the',\n  'Anthem',\n  'when',\n  'youre',\n  'at',\n  'home',\n  '?',\n  'Then',\n  'shut',\n  'the',\n  'fuck',\n  'up',\n  '.'],\n ['@user',\n  'That',\n  'woman',\n  'is',\n  'a',\n  'grade',\n  'A',\n  ',',\n  'attention',\n  'seeking',\n  'cunt',\n  'of',\n  'the',\n  'highest',\n  'order',\n  '.'],\n ['#Burundi',\n  '—',\n  'Rubaya',\n  'Ramazani',\n  ',',\n  'a',\n  'Congolese',\n  'refugee',\n  'was',\n  'illegally',\n  'arrested',\n  '(',\n  'no',\n  'warrant',\n  ')',\n  'on',\n  'Monday',\n  'by',\n  'the',\n  'police',\n  '.',\n  'He',\n  'is',\n  'accused',\n  'of',\n  '\"',\n  'having',\n  'participated',\n  'in',\n  'the',\n  '2015',\n  'protests',\n  '\"',\n  ';',\n  'which',\n  'he',\n  'rejects',\n  '.',\n  'Testimonies',\n  'from',\n  'neighbors',\n  'support',\n  'his',\n  'assertion',\n  '.'],\n ['@user',\n  'Cameron',\n  'we',\n  'need',\n  'a',\n  'break',\n  'from',\n  'u',\n  'forget',\n  'benefits',\n  'we',\n  'do',\n  'not',\n  'want',\n  'mass',\n  'immigration',\n  '.',\n  'stop',\n  'immigration',\n  'and',\n  'get',\n  'out',\n  'of',\n  'Europe',\n  'no',\n  'probs'],\n ['Nazi',\n  'sympathizing',\n  'congressman',\n  'Steve',\n  'King',\n  'wants',\n  'to',\n  'replace',\n  'immigrant',\n  'labor',\n  'with',\n  '\"',\n  'thousands',\n  '\"',\n  'of',\n  'children',\n  'under',\n  '16',\n  '.',\n  '#MakeChildrenWorkAgain'],\n ['“',\n  'The',\n  'companies',\n  'that',\n  'really',\n  'want',\n  'to',\n  'have',\n  'a',\n  'global',\n  'impact',\n  'need',\n  'to',\n  'understand',\n  'cultural',\n  'differences',\n  ',',\n  '”'],\n ['2015',\n  '!',\n  'OLD',\n  'BUT',\n  'GOOD',\n  'ENOUGH',\n  '!',\n  '62',\n  '%',\n  'of',\n  'Illegal',\n  'Immigrant',\n  'Households',\n  'on',\n  'Welfare',\n  '|',\n  'Steven',\n  'Camarota',\n  'and',\n  'Ste',\n  '...',\n  'via',\n  '@user'],\n ['Daily',\n  'work',\n  'for',\n  'Germans',\n  'police',\n  '.',\n  'Smuggler',\n  'take',\n  '21',\n  'refugees',\n  'out',\n  'of',\n  'their',\n  'car',\n  'on',\n  'landscape',\n  'in',\n  'Bajuvaria',\n  '.'],\n ['Some',\n  'migrants',\n  'study',\n  'in',\n  'NZ',\n  'and',\n  'go',\n  'back',\n  'to',\n  'their',\n  'home',\n  'countries',\n  '.',\n  'While',\n  'there',\n  'are',\n  'others',\n  'who',\n  'like',\n  'to',\n  'retrain',\n  'in',\n  'a',\n  'different',\n  'occupation',\n  'instead',\n  'of',\n  'going',\n  'back',\n  '.',\n  'We',\n  'celebrate',\n  'Gurpreet',\n  'Singh',\n  'as',\n  'a',\n  'relentless',\n  'migrant',\n  'and',\n  'a',\n  'keen',\n  'student',\n  'on',\n  'his',\n  'student',\n  'visa',\n  'approval',\n  '!',\n  '#BrainGainNewZealand'],\n ['Bloody',\n  'immigrants',\n  'like',\n  'uk',\n  'say',\n  'you',\n  'must',\n  'obide',\n  'the',\n  'law',\n  'of',\n  'the',\n  'country',\n  'should',\n  'be',\n  'put',\n  'in',\n  'prison',\n  'until',\n  'the',\n  'immigrant',\n  'pays',\n  'the',\n  'fine'],\n ['@user',\n  'Time',\n  'for',\n  'some',\n  'honest',\n  'discussions',\n  'on',\n  'the',\n  'struggle',\n  'faced',\n  'by',\n  'councils',\n  'to',\n  'house',\n  'refugees',\n  'and',\n  'failed',\n  'asylum',\n  'seekers',\n  'it',\n  'is',\n  'better',\n  'to',\n  'say',\n  'sorry',\n  'we',\n  'have',\n  'not',\n  'got',\n  'a',\n  'big',\n  'enough',\n  'housing',\n  'stock',\n  'to',\n  'cater',\n  'for',\n  'everyone',\n  'while',\n  'our',\n  'own',\n  'people',\n  'languish',\n  'on',\n  'ever'],\n ['@user',\n  '@user',\n  '@user',\n  'Wrong',\n  '!',\n  'None',\n  'are',\n  'refugees',\n  ',',\n  'Zero',\n  '!',\n  'The',\n  'are',\n  'economic',\n  'migrants',\n  '/',\n  'invaders',\n  'colonizing',\n  'at',\n  'the',\n  'expense',\n  'of',\n  'host',\n  'countries',\n  'while',\n  'pretending',\n  'to',\n  'be',\n  '\"',\n  'asylum',\n  'seekers',\n  '\"',\n  'They',\n  'are',\n  'a',\n  'disaster',\n  'for',\n  'the',\n  'countries',\n  'that',\n  'allow',\n  'this',\n  'to',\n  'hap'],\n ['@user',\n  '@user',\n  ',',\n  'you',\n  \"don't\",\n  'have',\n  'to',\n  'be',\n  'a',\n  'skank',\n  'anymore',\n  '.',\n  'He',\n  ',',\n  'the',\n  'skunk',\n  ',',\n  'done',\n  'you',\n  'wrong',\n  '.',\n  'Someone',\n  'standing',\n  'up',\n  'and',\n  'exposing',\n  'your',\n  'philandering',\n  'immoral',\n  'husband',\n  'is',\n  'a',\n  'hero',\n  '@user',\n  '@user'],\n ['Via',\n  'Daniella',\n  'Peled',\n  \"'\",\n  'hysterical',\n  \"'\",\n  'Jews',\n  'and',\n  \"'\",\n  'frenzied',\n  \"'\",\n  'women'],\n ['ICE',\n  'raid',\n  'hits',\n  '77',\n  'businesses',\n  'in',\n  'Northern',\n  'California',\n  '#StopTheInvasion',\n  '#TherIsMoreOfThemOutThere',\n  '#TheICEManCometh',\n  '#DeportationsEqualPublicSafety'],\n ['When', 'you', 'bust', 'a', 'nut', 'in', '30', 'seconds'],\n ['RT',\n  '@user',\n  'You',\n  \"don't\",\n  'need',\n  'to',\n  'explain',\n  'your',\n  'happiness',\n  'to',\n  'anyone',\n  '.'],\n ['@user',\n  'Remigration',\n  '2018',\n  ':',\n  'Easy',\n  'come',\n  ',',\n  'easy',\n  'GO',\n  '!',\n  '!',\n  'Anti-White',\n  'Proposition',\n  ':',\n  'White',\n  'Genocide',\n  'Definedhttps',\n  ':/',\n  '/',\n  't.co/kqEv7xdS26'],\n ['@user',\n  'Ann',\n  ',',\n  'I',\n  'thought',\n  'Most',\n  'Hysterical',\n  'Woman',\n  'was',\n  'engraved',\n  'on',\n  'the',\n  'participation',\n  'trophy',\n  'they',\n  'gave',\n  'you',\n  'at',\n  'the',\n  'GOP',\n  'convention',\n  '.',\n  'Bless',\n  'your',\n  'heart',\n  '.'],\n ['Proposed',\n  'relaxation',\n  'of',\n  'immigration',\n  'rules',\n  'for',\n  'non-EU',\n  'skilled',\n  'workers',\n  '|',\n  'Migration',\n  'Watch',\n  'UK'],\n [\"I'm\",\n  'picky',\n  'AF',\n  'when',\n  'it',\n  'comes',\n  'to',\n  'girls',\n  '...',\n  'Until',\n  'a',\n  'girl',\n  'wants',\n  'to',\n  'bring',\n  'her',\n  'not',\n  'so',\n  'cute',\n  'friend',\n  'over',\n  'for',\n  'a',\n  'threesome'],\n ['224', 'illegal', 'migrants', 'held', 'in', 'western', 'Turkey'],\n ['#Repost',\n  '@user',\n  'with',\n  'get_repost',\n  '・',\n  '・',\n  '・',\n  '\"',\n  'If',\n  'you',\n  'go',\n  'inside',\n  'my',\n  'heart',\n  ',',\n  'it',\n  'will',\n  'explain',\n  'my',\n  'joy',\n  'to',\n  'you',\n  '...',\n  'I',\n  'cannot',\n  'express',\n  'it',\n  'with',\n  'my',\n  'words',\n  '.',\n  '\"',\n  '.',\n  'Eritrean',\n  'refugee',\n  'Berek',\n  'fled',\n  'home',\n  'in',\n  '2017',\n  'and',\n  '…'],\n ['Politicians',\n  'from',\n  'both',\n  'parties',\n  'agree',\n  'that',\n  'President',\n  'Donald',\n  \"Trump's\",\n  'zero',\n  'tolerance',\n  '\"',\n  'policy',\n  'that',\n  'separated',\n  'thousands',\n  'of',\n  'families',\n  'along',\n  'the',\n  'southern',\n  'border',\n  'was',\n  'a',\n  'failure',\n  '.'],\n ['Treacherous',\n  'traitorous',\n  'bitch',\n  '.',\n  'Sold',\n  'out',\n  'her',\n  'country',\n  ',',\n  'and',\n  'women',\n  'for',\n  'money',\n  'and',\n  'fame',\n  '.'],\n ['Noela',\n  'and',\n  'her',\n  '6',\n  'children',\n  'arrived',\n  'in',\n  'Moline',\n  ',',\n  'IL',\n  'after',\n  'fleeing',\n  'the',\n  'Democratic',\n  'Republic',\n  'of',\n  'Congo',\n  'and',\n  'living',\n  'as',\n  'refugees',\n  'in',\n  'Uganda',\n  'for',\n  '10',\n  'years',\n  '.',\n  'Noela',\n  'works',\n  'full-time',\n  '&',\n  'is',\n  'learning',\n  'English',\n  '.',\n  'She',\n  'is',\n  'thankful',\n  'for',\n  'the',\n  'opportunity',\n  'her',\n  'kids',\n  'have',\n  'in',\n  'their',\n  'new',\n  'community',\n  '.',\n  '/',\n  '/',\n  '#ThankGodForWomen'],\n ['Nigeria',\n  'targets',\n  'crude',\n  'oil',\n  'production',\n  'cost',\n  'of',\n  '$',\n  '15',\n  '/',\n  'b',\n  '-'],\n ['@user',\n  'fucking',\n  'whore',\n  'bag',\n  'cunt',\n  'face',\n  'mamona',\n  'puta',\n  'toda',\n  'ugly',\n  ',',\n  'ily'],\n ['@user',\n  '@user',\n  '@user',\n  '...',\n  '>',\n  '🔨',\n  '🔨',\n  '🔨',\n  'You',\n  'stupid',\n  'dumbass',\n  '.',\n  'You',\n  'are',\n  'a',\n  'hysterical',\n  'little',\n  'girl',\n  '.'],\n ['Introducing',\n  'the',\n  \"'\",\n  \"I'm\",\n  'over',\n  '30',\n  'and',\n  'no',\n  'man',\n  'wants',\n  'me',\n  \"'\",\n  'pillow'],\n ['@user',\n  '@user',\n  '@user',\n  '@user',\n  '@user',\n  '@user',\n  '@user',\n  '@user',\n  '@user',\n  '@user',\n  '@user',\n  '@user',\n  '@user',\n  '@user',\n  '@user',\n  '@user',\n  '@user',\n  '@user',\n  '@user'],\n ['@user',\n  '@user',\n  'Yup',\n  'I',\n  'want',\n  '#TonyPaul',\n  'to',\n  'song',\n  'at',\n  'The',\n  '\"',\n  'BIG',\n  'BAD',\n  'DON',\n  '#TRUMP',\n  '\"',\n  '#RALLY',\n  'IN',\n  '#TEXAS',\n  '..',\n  'WITH',\n  '#TEDCRUZ',\n  'WHO',\n  'IS',\n  'THE',\n  'SHARPEST',\n  'MEANEST',\n  'FAIREST',\n  'LEGAL',\n  'MIND',\n  'AND',\n  '#SENATOR',\n  'IN',\n  'THE',\n  '#GOP',\n  '#OCTOBER',\n  'MAKE',\n  'YUR',\n  'RESERVATIONS',\n  ',',\n  '#RV',\n  'SPOTS',\n  'PLANE',\n  'TICKETS',\n  '118,000',\n  'SEAT'],\n ['This',\n  'is',\n  'how',\n  'simple',\n  'it',\n  'is',\n  ',',\n  'not',\n  'only',\n  'for',\n  'wages',\n  ',',\n  'but',\n  'for',\n  'other',\n  'nice',\n  'things',\n  'in',\n  'our',\n  'country',\n  '-',\n  'like',\n  'universal',\n  'health',\n  'care',\n  '.',\n  'Not',\n  'possible',\n  'with',\n  'this',\n  'many',\n  'illegal',\n  'immigrants',\n  'in',\n  'the',\n  'country',\n  'along',\n  'with',\n  'porous',\n  'borders',\n  'and',\n  'employers',\n  'wanting',\n  'unending',\n  'flow',\n  'of',\n  'cheap',\n  'labor',\n  '.',\n  'Consensus',\n  \"won't\",\n  'happen',\n  '.'],\n ['when',\n  'making',\n  'my',\n  'costume',\n  'last',\n  'night',\n  ',',\n  'brey',\n  'had',\n  'Arthur',\n  '’',\n  's',\n  'theme',\n  'song',\n  'on',\n  'repeat',\n  '🙄',\n  '😭',\n  '😂',\n  '“',\n  'i',\n  'didn',\n  '’',\n  't',\n  'realize',\n  'his',\n  'song',\n  'was',\n  'reggae',\n  'you',\n  'can',\n  'skank',\n  'to',\n  'this',\n  '”'],\n ['Women', 'drivers', 'no', 'survivors'],\n ['Here',\n  '’',\n  's',\n  'what',\n  'I',\n  'WON',\n  '’',\n  'T',\n  'do:',\n  'demean',\n  'another',\n  'woman',\n  'for',\n  'the',\n  'way',\n  'she',\n  'dresses',\n  '.',\n  'Slut',\n  '/',\n  'whore',\n  '/',\n  'skank',\n  'are',\n  'not',\n  'part',\n  'of',\n  'my',\n  'vocabulary',\n  '.'],\n ['World',\n  'Bank',\n  'ease',\n  'of',\n  'doing',\n  'business',\n  'ranking',\n  'jump',\n  'by',\n  'India',\n  'to',\n  '100th',\n  'spot',\n  'would',\n  'have',\n  'been',\n  'greater',\n  ';',\n  'here',\n  '’',\n  's',\n  'why'],\n [\"It's\",\n  'Not',\n  'Just',\n  'The',\n  'Eyes',\n  'of',\n  'Texas',\n  'Are',\n  'Upon',\n  'U',\n  '@user',\n  \"It's\",\n  'The',\n  'Country',\n  'Consider',\n  'Name',\n  'Change',\n  '2',\n  '@user',\n  'Shame',\n  'On',\n  'U',\n  '!',\n  'Perspective',\n  '|',\n  '‘',\n  'They',\n  'have',\n  'nothing',\n  '’',\n  ':',\n  'How',\n  'a',\n  '$',\n  '20',\n  'tip',\n  'cost',\n  'an',\n  'immigrant',\n  'her',\n  'Dulles',\n  'job',\n  'and',\n  'severed',\n  'a',\n  'lifeline',\n  'to',\n  'Sierra',\n  'Leone'],\n ['@user',\n  '@user',\n  'So',\n  'you',\n  'hate',\n  \"'\",\n  'Ominous',\n  \"'\",\n  'as',\n  'a',\n  'hole',\n  'because',\n  'of',\n  'this',\n  '...',\n  'seems',\n  'legitimate',\n  'and',\n  'highly',\n  'mature',\n  '.'],\n ['UK',\n  ':',\n  'Home',\n  'Office',\n  'told',\n  'to',\n  'put',\n  'refugees',\n  'in',\n  'every',\n  'town',\n  'and',\n  'village',\n  'Ukk',\n  'death',\n  'sentence',\n  '...'],\n ['@user',\n  'Polish',\n  'MP',\n  ':',\n  'Our',\n  'country',\n  'is',\n  'safe',\n  'because',\n  'we',\n  'did',\n  'not',\n  'accept',\n  'illegal',\n  'immigrantshttps',\n  ':/',\n  '/',\n  't.co/LGn8JaAHftAccess',\n  'to',\n  'White',\n  'people',\n  'is',\n  'not',\n  'a',\n  'human',\n  'righthttps',\n  ':/',\n  '/',\n  't.co/c0gHvd6iMB'],\n ['@user',\n  '@user',\n  '@user',\n  '@user',\n  '@user',\n  '#BuildThatWall',\n  'to',\n  'end',\n  '#Corruption',\n  'and',\n  'then',\n  'deport',\n  ',',\n  'deport',\n  ',',\n  'and',\n  'deport',\n  '.'],\n ['Illegal',\n  'Alien',\n  'Accused',\n  'of',\n  'Trying',\n  'to',\n  'Rob',\n  ',',\n  'Stab',\n  'Woman',\n  'in',\n  'Home',\n  'Invasion',\n  '|',\n  'Breitbart',\n  '#StopTheInvasion'],\n ['Sarah',\n  'Brooke',\n  'Vs',\n  'Carmen',\n  'Skank',\n  'Pussy',\n  'Bitch',\n  '#SEXFIGHT',\n  'via',\n  '@user'],\n ['I',\n  'never',\n  'trapped',\n  'around',\n  'no',\n  'bitch',\n  'except',\n  'Te',\n  'cuz',\n  'hoes',\n  'be',\n  'showin',\n  'da',\n  'next',\n  'nigga',\n  'ya',\n  'plays',\n  '💯',\n  '💯',\n  '💯'],\n ['Dear',\n  'God',\n  '-',\n  'make',\n  'it',\n  'stop',\n  '!',\n  '!',\n  '!',\n  'Illegal',\n  'Alien',\n  'from',\n  'Mexico',\n  'Accused',\n  'of',\n  'Raping',\n  '11',\n  '-',\n  'Year-Old',\n  'Girl',\n  'via',\n  '@user',\n  '#StopTheInvasion',\n  '@user',\n  '@user',\n  '@user',\n  '@user',\n  '@user',\n  '@user',\n  '@user',\n  '@user'],\n ['@user',\n  '@user',\n  'Muhhhhh',\n  'privilege',\n  '?',\n  'Excuse',\n  'me',\n  '?',\n  'IM',\n  'OFFENDED',\n  '!',\n  '!',\n  'HATE',\n  'SPEECH',\n  '!',\n  '!',\n  '!',\n  'But',\n  'of',\n  'course',\n  'you',\n  'dont',\n  'see',\n  'the',\n  'slippery',\n  'slope.And',\n  'yes',\n  ',',\n  'the',\n  'made',\n  'up',\n  'arbitrary',\n  'term',\n  'hate',\n  'speech',\n  'is',\n  'free',\n  'speech',\n  '.',\n  'If',\n  'you',\n  'choose',\n  'to',\n  'get',\n  'offended',\n  'by',\n  'shit',\n  ',',\n  'I',\n  'suggest',\n  'you',\n  'get',\n  'a',\n  'backbone',\n  'and',\n  'grow',\n  'the',\n  'f',\n  '*',\n  'ck',\n  'up',\n  'you',\n  'pussy',\n  '.'],\n ['Identity',\n  'cards',\n  \"'\",\n  'would',\n  'curb',\n  'illegal',\n  'immigration',\n  'and',\n  'prevent',\n  'another',\n  'Windrush',\n  \"'\"],\n ['Ethiopians',\n  'in',\n  'Lebanon',\n  'lining',\n  'up',\n  'to',\n  'go',\n  'home',\n  '.',\n  'It',\n  '’',\n  's',\n  'a',\n  'give',\n  'to',\n  'those',\n  'who',\n  'think',\n  'refugees',\n  'are',\n  'threat',\n  'to',\n  'the',\n  'purity',\n  'of',\n  'threat',\n  'society',\n  '.'],\n ['Presidential',\n  'determination',\n  'for',\n  'the',\n  'number',\n  'of',\n  'refugees',\n  'that',\n  'COULD',\n  'be',\n  'admitted',\n  'to',\n  'the',\n  'US',\n  'in',\n  'coming',\n  'fiscal',\n  'year',\n  '\"',\n  'due',\n  'Sept',\n  '.',\n  '30',\n  '\"',\n  '?',\n  'via',\n  '@user',\n  '@user',\n  '#NOMORERefugees',\n  '#NOmoreSomaliRefugees',\n  '@user',\n  'Where',\n  'the',\n  'heck',\n  'r',\n  'u',\n  '?',\n  '?'],\n ['#ShitPussiesSay'],\n ['RT',\n  'IF',\n  'UR',\n  'A',\n  'SHEMALE',\n  'DOM',\n  'OR',\n  'A',\n  'SISSY',\n  'LOOKING',\n  'OR',\n  'WILLING',\n  'TO',\n  'DO',\n  'REALTIME',\n  'ANAL',\n  '!',\n  'U',\n  'HAVE',\n  'TO',\n  'BE',\n  'THE',\n  'GIVER',\n  'THIS',\n  'BITCH',\n  'ONLY',\n  'TAKES',\n  'LIKE',\n  'A',\n  'SLUT',\n  '!',\n  '😈',\n  '@user'],\n ['Deputy',\n  'Prime',\n  'Minister',\n  'of',\n  'Italy',\n  ',',\n  '@user',\n  'calls',\n  'for',\n  'anti',\n  'immigration',\n  'alliance',\n  'across',\n  'Europe',\n  '!',\n  '#immigration',\n  '#Brexit',\n  '#summer',\n  '#whitegenocide',\n  '#BNP',\n  '#Wimbledon',\n  '#WorldCup2018',\n  '#BrexitShambles'],\n ['Like',\n  \"I'm\",\n  'so',\n  'glad',\n  'you',\n  'guys',\n  'are',\n  'standing',\n  'with',\n  'skales',\n  'against',\n  'that',\n  'boy',\n  'with',\n  'the',\n  'gutter',\n  'mouth',\n  'and',\n  'pot',\n  'hole',\n  'face',\n  '.'],\n ['#BringBackOurBorders',\n  '#HillaryClinton',\n  '#IllegalImmigration',\n  '#Clinton',\n  '#Democrats',\n  'could',\n  'EASILY',\n  'fix',\n  'the',\n  'problem',\n  'with',\n  '‘',\n  '˜',\n  'separating',\n  'children',\n  '’',\n  'if',\n  'they',\n  'desired',\n  ',',\n  'but',\n  'they',\n  'really',\n  'don',\n  '’',\n  't',\n  'care',\n  'about',\n  'the',\n  '...'],\n ['Worker',\n  'Charged',\n  'With',\n  'Sexually',\n  'Molesting',\n  'Eight',\n  'Children',\n  'at',\n  'Immigrant',\n  'Shelter',\n  'via',\n  '@user',\n  '#realDonaldTrump',\n  'do',\n  'something',\n  'about',\n  'this',\n  'disgrace',\n  'and',\n  'stop',\n  'separating',\n  'children',\n  'from',\n  'their',\n  'parents',\n  '.'],\n ['I',\n  'saw',\n  'a',\n  'woman',\n  'dressed',\n  'up',\n  'like',\n  'a',\n  'hot',\n  'dog',\n  'tonight',\n  '.',\n  'Bitch',\n  ',',\n  'it',\n  \"ain't\",\n  'Halloween',\n  'yet'],\n ['The',\n  'Management',\n  'of',\n  'CEMENCO',\n  'in',\n  'consultation',\n  'with',\n  'the',\n  'Ministry',\n  'of',\n  'Commerce',\n  'has',\n  'announced',\n  'a',\n  'new',\n  'measure',\n  'aim',\n  'at',\n  'providing',\n  'affordable',\n  'and',\n  'quality',\n  'cement',\n  'to',\n  'the',\n  'people',\n  'of',\n  'Liberia.https',\n  ':/',\n  '/',\n  't.co/cJS7PmfVVk'],\n ['Many',\n  'thanks',\n  'to',\n  '@user',\n  '@user',\n  '@user',\n  'for',\n  'attending',\n  'today',\n  '’',\n  's',\n  'anti-fascist',\n  'demo',\n  'in',\n  'Newtownards',\n  '.',\n  '#HopeNotHate',\n  'Refugees',\n  'welcome',\n  'fascists',\n  'not',\n  '!',\n  '#NoPaseran'],\n ['Put',\n  'his',\n  'ass',\n  'to',\n  'death',\n  '!',\n  '!',\n  '#BuildTheWall',\n  '#BuildThatWall',\n  '#KAG'],\n ['@user',\n  'Thank',\n  'god',\n  'for',\n  'anti',\n  '-',\n  'hysterical',\n  'women',\n  'like',\n  '@user',\n  '&',\n  '@user',\n  ',',\n  'that',\n  'have',\n  'the',\n  'guts',\n  'to',\n  'stand',\n  'up',\n  'for',\n  'reason',\n  'over',\n  'witch',\n  '-',\n  'hunts'],\n [\"'\",\n  'Hey',\n  \"I've\",\n  'been',\n  'raped',\n  'before',\n  \"'\",\n  'uh',\n  'excuse',\n  'me',\n  '?',\n  '?',\n  'How',\n  'dare',\n  'you',\n  'act',\n  'like',\n  'every',\n  'man',\n  \"you've\",\n  'met',\n  'has',\n  'raped',\n  'you',\n  '?',\n  '!',\n  'Ur',\n  'tone',\n  'is',\n  'so',\n  'harsh',\n  ',',\n  'ugh',\n  'not',\n  'all',\n  'men'],\n ['this',\n  'time',\n  'last',\n  'year',\n  'i',\n  'was',\n  'in',\n  'a',\n  'bar',\n  'in',\n  'nyc',\n  'and',\n  'a',\n  'bald',\n  'white',\n  'guy',\n  'tried',\n  'to',\n  'hit',\n  'on',\n  'me',\n  'by',\n  'speaking',\n  'norwegian',\n  'and',\n  'when',\n  'it',\n  'didnt',\n  'work',\n  'he',\n  'got',\n  'increasingly',\n  'hostile',\n  'and',\n  'said',\n  'the',\n  'reason',\n  'i',\n  'wasnt',\n  'impressed',\n  'by',\n  'his',\n  'language',\n  'skills',\n  'was',\n  'because',\n  'im',\n  'an',\n  'immigrant',\n  'and',\n  'not',\n  'a',\n  'real',\n  'swede'],\n ['@user',\n  '@user',\n  \"You're\",\n  \"hystericalYou're\",\n  'hysterical',\n  \"You're\",\n  'hysterical',\n  \"You're\",\n  \"hystericalYou're\",\n  \"hystericalYou're\",\n  'hysterical',\n  \"You're\",\n  \"hystericalYou're\",\n  \"hystericalYou're\",\n  \"hystericalYou're\",\n  \"hystericalYou're\",\n  'hysterical',\n  \"You're\",\n  \"hystericalYou're\",\n  'hysterical'],\n ['@user',\n  'White',\n  'woman',\n  'are',\n  'so',\n  'quick',\n  'to',\n  'claim',\n  'rape',\n  ',',\n  'so',\n  'how',\n  'about',\n  'you',\n  'black',\n  'sisters',\n  '?',\n  'We',\n  'rarely',\n  'heard',\n  'you',\n  '!'],\n ['@user', 'You', 'kunt', 'loool'],\n ['Unbelievable',\n  '!',\n  '!',\n  '!',\n  'Census',\n  'Bureau',\n  ':',\n  '44.6',\n  '%',\n  'in',\n  'CA',\n  'Don',\n  '’',\n  't',\n  '#SpeakEnglish',\n  'at',\n  'Home',\n  ';',\n  '35.6',\n  '%',\n  ';',\n  '35.6',\n  '%',\n  'in',\n  'TX',\n  ';',\n  '34.5',\n  '%',\n  'in',\n  'NM',\n  ';',\n  '31.7',\n  '%',\n  'in',\n  'NJ',\n  ';',\n  '31.0',\n  '%',\n  'in',\n  'NY',\n  '!',\n  'Our',\n  'schools',\n  'R',\n  'getting',\n  '150',\n  '%',\n  'funding',\n  'for',\n  'every',\n  'student',\n  'who',\n  'doesn',\n  '’',\n  't',\n  'speak',\n  '#English',\n  'well',\n  '!',\n  'Parents',\n  '’',\n  'job',\n  '!',\n  '#StopImmigration'],\n ['FUUUCCKK',\n  '!',\n  'ASS',\n  'BITCH',\n  'CUNT',\n  'FART',\n  '!',\n  '!',\n  '!',\n  'I',\n  \"CAN'T\",\n  'BELIEVE',\n  'IT',\n  '!',\n  '!',\n  '!'],\n ['A',\n  'little',\n  'theory',\n  'I',\n  '’',\n  'm',\n  'working',\n  'on',\n  '.',\n  'If',\n  'there',\n  '’',\n  's',\n  'a',\n  'voice',\n  'in',\n  'your',\n  'spirit',\n  'compelling',\n  'you',\n  'to',\n  'say',\n  '#notallmen',\n  '#notallwomen',\n  '…'],\n ['Eight', 'Years', 'of', \"Obama's\", 'Weakness', 'Toward', 'Russia'],\n ['More',\n  'than',\n  '1,500',\n  'refugees',\n  'and',\n  'migrants',\n  'have',\n  'died',\n  'attempting',\n  'to',\n  'cross',\n  'the',\n  'Mediterranean',\n  'in',\n  'the',\n  'first',\n  '7',\n  'months',\n  'of',\n  'this',\n  'year',\n  '.',\n  'News',\n  'release',\n  ':'],\n ['Obama',\n  'Released',\n  '24,680',\n  'UAC',\n  'Gangesters',\n  ',',\n  'Murders',\n  'and',\n  'Rapists',\n  'into',\n  'the',\n  'U',\n  '.',\n  'S',\n  'and',\n  'Our',\n  'Schools',\n  'Time',\n  'To',\n  'Deport',\n  '#Trump',\n  '#MAGA',\n  '#RedNationRising',\n  'via',\n  '@user'],\n ['@user',\n  'youre',\n  'just',\n  'a',\n  'shameless',\n  'stupid',\n  'cunt',\n  '.',\n  'get',\n  'a',\n  'life',\n  '!',\n  '!'],\n ['@user',\n  'You',\n  'work',\n  'for',\n  'the',\n  'S',\n  '*',\n  'n',\n  ',',\n  'standard',\n  'practice',\n  'to',\n  'be',\n  'a',\n  'lier',\n  'and',\n  'a',\n  'complete',\n  'cunt',\n  '.'],\n [\"'\",\n  'not',\n  'all',\n  'men',\n  'hurt',\n  'women',\n  'but',\n  'all',\n  'women',\n  'are',\n  'hurt',\n  'by',\n  'men',\n  \"'\",\n  'tattoo',\n  'that',\n  'on',\n  'ur',\n  'tits',\n  'and',\n  'fuck',\n  'them'],\n ['@user', 'Sometimes', 'you', 'can', 'be', 'a', 'dick', '.', '#allin'],\n ['How',\n  'basic',\n  'bitches',\n  'wash',\n  'away',\n  'their',\n  'weekend',\n  'sins',\n  'and',\n  'mistakes'],\n ['Watch',\n  ':',\n  'Hundreds',\n  'Irish',\n  'people',\n  'took',\n  'to',\n  'the',\n  'streets',\n  'to',\n  'protest',\n  'against',\n  'Islam',\n  'and',\n  'call',\n  'to',\n  'ban',\n  'Islamic',\n  'immigration',\n  '-',\n  'Free',\n  'Speech',\n  'Time',\n  '-',\n  '@user'],\n ['Let',\n  'me',\n  'tell',\n  'you',\n  'something',\n  'about',\n  'you',\n  'that',\n  'you',\n  \"don't\",\n  'know',\n  '!',\n  '#OkayBitch',\n  '#WomenSuck'],\n ['@user',\n  '@user',\n  '@user',\n  '@user',\n  '@user',\n  '@user',\n  'Build',\n  'Wall',\n  '/',\n  'EndDACA',\n  '/',\n  'End',\n  'Sanctuary',\n  'Cities',\n  '/',\n  'End',\n  'Chain',\n  'Migration',\n  '/',\n  'Pass',\n  'Raise',\n  'Act',\n  '/',\n  'Enact',\n  'E-Verify',\n  '/',\n  'Enforce',\n  'Travel',\n  'Ban',\n  '/',\n  'Require',\n  'Photo',\n  'ID',\n  'To',\n  'Vote',\n  '/',\n  'Stop',\n  'Diversity',\n  'Lottery',\n  'Immigration',\n  '/',\n  'Require',\n  'Photo',\n  'ID',\n  'To',\n  'Vote',\n  '/',\n  'End',\n  'Div'],\n ['Are',\n  'Acid',\n  'Attacks',\n  'the',\n  'result',\n  'of',\n  'mass',\n  'immigration',\n  '?',\n  'via',\n  '@user'],\n ['Miriam',\n  'Dalli',\n  'appointed',\n  'EP',\n  'rapporteur',\n  'on',\n  '#EU',\n  'fund',\n  'to',\n  'manage',\n  'migration',\n  'flows'],\n ['🙄',\n  'Says',\n  'a',\n  'colored',\n  'woman',\n  'of',\n  'a',\n  'race',\n  'that',\n  'claims',\n  'to',\n  'have',\n  'a',\n  \"'\",\n  'Hysterical',\n  'Fear',\n  \"'\",\n  'of',\n  'the',\n  'Police',\n  '.',\n  '🤫'],\n ['@user',\n  '@user',\n  'No',\n  'room',\n  'for',\n  'anyone',\n  'illegal',\n  '.',\n  'Color',\n  'or',\n  'wealth',\n  'is',\n  'not',\n  'the',\n  'criteria',\n  ',',\n  'you',\n  'stupid',\n  'bitch',\n  '.'],\n ['We',\n  'are',\n  'excited',\n  'to',\n  'host',\n  'the',\n  '#ImmigrantStories',\n  'film',\n  'screening',\n  'and',\n  'panel',\n  'today',\n  'with',\n  '@user',\n  'to',\n  'show',\n  'how',\n  'the',\n  'Trump',\n  'administration',\n  '’',\n  's',\n  'overhaul',\n  'of',\n  'immigration',\n  'policy',\n  'has',\n  'forced',\n  'the',\n  'immigrant',\n  'community',\n  'to',\n  'choose',\n  'between',\n  'deportation',\n  'and',\n  'medical',\n  'care',\n  '.'],\n ['oh',\n  'my',\n  'god',\n  'okay',\n  'but',\n  'i',\n  'saw',\n  'this',\n  'jennie',\n  'x',\n  'pretty',\n  'girl',\n  'video',\n  'and',\n  'bitch',\n  \"i'm\",\n  '—'],\n ['CRP',\n  \"doesn't\",\n  'only',\n  'serve',\n  'refugees',\n  'living',\n  'in',\n  'Jordan',\n  '.',\n  'We',\n  'also',\n  'offer',\n  'assistance',\n  'and',\n  'programming',\n  'to',\n  'Jordanians',\n  'living',\n  'in',\n  'the',\n  'area',\n  '.',\n  'Learn',\n  'more',\n  'about',\n  'our',\n  'diverse',\n  'community',\n  'in',\n  'this',\n  'blog',\n  'post',\n  ':'],\n ['My', 'friends', 'know', 'better'],\n ['Ask',\n  'any',\n  'liberal',\n  'how',\n  'many',\n  'illegal',\n  'aliens',\n  \"they've\",\n  'let',\n  'stay',\n  'in',\n  'their',\n  'house',\n  '.',\n  'The',\n  'answer',\n  'probably',\n  \"won't\",\n  'surprise',\n  'you',\n  '.',\n  '#SendThemBack',\n  '#BuildTheWall'],\n ['@user',\n  '@user',\n  'Predictable',\n  ',',\n  'carbon-copy',\n  'reviews',\n  ',',\n  'written',\n  'by',\n  'leftist',\n  'wankers',\n  '&',\n  'lacking',\n  'any',\n  'kind',\n  'of',\n  'impartiality',\n  ',',\n  'are',\n  'also',\n  'meaningless',\n  '.'],\n ['Praying',\n  'for',\n  '#Memphis',\n  'to',\n  'be',\n  'known',\n  'for',\n  'loving',\n  'our',\n  'neighbors',\n  ',',\n  'not',\n  'profiling',\n  'them',\n  '.',\n  '@user',\n  'we',\n  'are',\n  'with',\n  'you',\n  ',',\n  'advocating',\n  'for',\n  'our',\n  'immigrant',\n  'neighbors',\n  '.'],\n ['When',\n  'he',\n  'wraps',\n  '1',\n  'hand',\n  'around',\n  'your',\n  'throat',\n  ',',\n  'puts',\n  'the',\n  'other',\n  'betwn',\n  'your',\n  'legs',\n  '&',\n  ';',\n  'whispers',\n  \"'\",\n  'this',\n  'pussy',\n  'is',\n  'mine',\n  \"'\",\n  'in',\n  'your',\n  'ear'],\n ['@user',\n  'Thats',\n  'a',\n  'real',\n  'low',\n  'blow',\n  'to',\n  'hysterical',\n  'women',\n  '.'],\n ['@user',\n  '@user',\n  'I',\n  'would',\n  'hate',\n  'hate',\n  'to',\n  'own',\n  'border',\n  'property',\n  '!',\n  'Terrifying',\n  'to',\n  'see',\n  'and',\n  'know',\n  'that',\n  'was',\n  'happening',\n  'in',\n  'my',\n  'backyard',\n  '!',\n  'Hundreds',\n  'of',\n  'them',\n  'in',\n  'such',\n  'a',\n  'short',\n  'time',\n  ',',\n  \"it's\",\n  'no',\n  'wonder',\n  'they',\n  'are',\n  'in',\n  'Iowa',\n  'corn',\n  'fields',\n  '.',\n  'Please',\n  '#BuildThatWall',\n  'Please',\n  'for',\n  'o'],\n ['@user',\n  '@user',\n  'THAT',\n  'SHIT',\n  'ENDED',\n  'A',\n  'LONG',\n  'TIME',\n  'AGO',\n  'BITCH',\n  'ASS',\n  'CUNT',\n  '🗣'],\n ['Bitches',\n  \"can't\",\n  'keep',\n  'a',\n  'man',\n  'for',\n  'shit',\n  'but',\n  'got',\n  'a',\n  'steady',\n  'ass',\n  'work',\n  'husband',\n  'at',\n  'all',\n  'times'],\n ['The',\n  'awkward',\n  'moment',\n  'when',\n  'Lexus',\n  'is',\n  'showing',\n  'you',\n  'how',\n  'much',\n  'crack',\n  'fits',\n  'in',\n  'the',\n  'cup',\n  'holders',\n  '...'],\n ['@user',\n  'Tells',\n  '#Trump',\n  'Not',\n  'to',\n  'give',\n  'Immigrants',\n  'DNA',\n  'test',\n  'to',\n  'make',\n  'sure',\n  'their',\n  'the',\n  'kids',\n  'parents',\n  'just',\n  'hand',\n  'them',\n  'over',\n  'to',\n  'Child',\n  'Trafficers',\n  'like',\n  'Obama',\n  '#MAGA',\n  '#RedNationRising',\n  '#FridayMotivation',\n  'via',\n  '@user'],\n ['Some',\n  'women',\n  'will',\n  'goto',\n  'war',\n  'for',\n  'their',\n  'nigga',\n  '.',\n  'I',\n  'will',\n  'leave',\n  'your',\n  'ass',\n  'dead',\n  'ass',\n  'hanging',\n  'I',\n  '’',\n  'll',\n  'never',\n  'go',\n  'towar',\n  'with',\n  'another',\n  'bitch'],\n ['@user',\n  'No',\n  ',',\n  'we',\n  'should',\n  'cover',\n  'their',\n  'transportation',\n  'across',\n  'the',\n  'southern',\n  'border',\n  '&',\n  'let',\n  'them',\n  'go',\n  'on',\n  'their',\n  'way',\n  '.',\n  '#BUILDTHEWALL',\n  '#deportALLaliens',\n  '#noAnchorBabies',\n  '#NODACA',\n  '#NoDreamers',\n  '#NOcitizenship',\n  '#NoChainMigration',\n  '#NoVisaLottery',\n  '#secureOURborder'],\n ['@user',\n  '@user',\n  'Stupid',\n  'as',\n  ',',\n  'it',\n  'dosent',\n  'make',\n  'the',\n  'mullas',\n  'angry',\n  ',',\n  'the',\n  'hole',\n  'nation',\n  'is',\n  'angry'],\n ['After',\n  'Libs',\n  'Help',\n  'Them',\n  'Avoid',\n  'Audit',\n  ',',\n  'California',\n  'DMV',\n  'Finds',\n  '23,000',\n  'Bad',\n  'Voter',\n  'Registrations',\n  '#IllegalAliens',\n  '#BuildTheWall',\n  '#NoDACA',\n  '#NoAmnasty',\n  '#UnderminesOurDemocracy',\n  '#VoteRedToSaveAmerica'],\n ['at',\n  'EU',\n  'CoreðŸ',\n  '‘',\n  '‰',\n  '54,000',\n  '“',\n  'relatives',\n  '”',\n  'of',\n  'migrants',\n  'came',\n  'to',\n  'ðŸ',\n  '‡',\n  '©',\n  'ðŸ',\n  '‡',\n  'ª',\n  'last',\n  'year',\n  'for',\n  '“',\n  'reunification',\n  '”',\n  '.',\n  'Little',\n  'Sisters',\n  '@user',\n  'wanted',\n  'new',\n  'limits',\n  'at',\n  '1,000',\n  '/',\n  'month',\n  'bt',\n  'embassies',\n  'already',\n  'report',\n  '34,000',\n  'new',\n  'requests',\n  '.',\n  'No',\n  'end',\n  'to',\n  'delusions',\n  'of',\n  'Merkel',\n  ',',\n  'CSU',\n  '.',\n  '#Visegrad',\n  '#V4'],\n ['The',\n  \"'\",\n  'I',\n  \"can't\",\n  'get',\n  'a',\n  'date',\n  'so',\n  'Ima',\n  'just',\n  'take',\n  'one',\n  \"'\",\n  'starter',\n  'pack'],\n ['Nice',\n  'to',\n  'see',\n  'the',\n  'guardian',\n  'acknowledging',\n  'that',\n  'mass',\n  'immigration',\n  'destroys',\n  'culture',\n  'and',\n  'a',\n  \"people's\",\n  'identity',\n  '.',\n  'I',\n  'sure',\n  'that',\n  \"wasn't\",\n  'the',\n  'intention',\n  'of',\n  'the',\n  'article',\n  ',',\n  'but',\n  'it',\n  'is',\n  'the',\n  'truth',\n  '.'],\n ['MN',\n  ':',\n  'SOMALI',\n  'MUSLIM',\n  'IMMIGRANTS',\n  'Explain',\n  'Why',\n  \"It's\",\n  'Acceptable',\n  'To',\n  'Kill',\n  'Anyone',\n  'Who',\n  'Insults',\n  'Mohammed',\n  '[',\n  'VIDEO',\n  ']',\n  'via',\n  '@user',\n  'we',\n  \"don't\",\n  'worship',\n  'Mohammed',\n  '&',\n  'Sharia',\n  '!',\n  \"Don't\",\n  'like',\n  'it',\n  '?',\n  'Go',\n  'home',\n  'or',\n  'we',\n  'will',\n  'deport',\n  'you',\n  '!'],\n ['How',\n  'many',\n  'feminists',\n  'does',\n  'it',\n  'take',\n  'to',\n  'change',\n  'a',\n  'lightbulb',\n  '?',\n  'Trick',\n  'question',\n  ',',\n  'feminists',\n  \"can't\",\n  'change',\n  'anything'],\n ['Our',\n  'report',\n  'on',\n  'the',\n  'lack',\n  'of',\n  'supervision',\n  ',',\n  'sexual',\n  'activity',\n  'and',\n  'runaways',\n  'at',\n  'the',\n  'shelters',\n  'that',\n  'house',\n  'immigrant',\n  'children',\n  'in',\n  'and',\n  'around',\n  'Chicago',\n  'was',\n  'just',\n  'published',\n  'in',\n  'Spanish',\n  '👇'],\n [\"'\",\n  'I',\n  \"don't\",\n  'want',\n  'to',\n  'be',\n  'like',\n  'the',\n  'jealous',\n  'girlfriend',\n  'who',\n  \"won't\",\n  'let',\n  'you',\n  'have',\n  'friends',\n  \"'\",\n  'bitch',\n  'you',\n  'have',\n  'to',\n  'be',\n  'my',\n  'girlfriend',\n  'first'],\n ['Only',\n  'men',\n  'have',\n  'a',\n  'dick',\n  'they',\n  'can',\n  'insert',\n  'without',\n  'consent',\n  ',',\n  'and',\n  'women',\n  'doing',\n  'other',\n  'shit',\n  '.',\n  'Not',\n  'that',\n  'women',\n  \"can't\",\n  'rape',\n  '&',\n  'sexually',\n  'harass',\n  'either',\n  '.'],\n [\"Let's\", 'build', 'that', 'wall', '.', '#BuildThatWall'],\n ['In',\n  'Rome',\n  'a',\n  'house',\n  'was',\n  'cleared',\n  'by',\n  'police',\n  'from',\n  'refugees',\n  '.',\n  'Look',\n  'how',\n  'nice',\n  'the',\n  'riots',\n  'are',\n  'at',\n  'this',\n  'mission',\n  '.'],\n ['Remember',\n  'when',\n  'Canadian',\n  'PM',\n  'Justin',\n  'Trudeau',\n  'said',\n  'this',\n  '?',\n  'Well',\n  'the',\n  'tide',\n  'is',\n  'turning',\n  'in',\n  'Canada',\n  'as',\n  'citizens',\n  'tell',\n  'him',\n  'enough',\n  'is',\n  'enough',\n  '...',\n  'we',\n  \"can't\",\n  \"'\",\n  'welcome',\n  \"'\",\n  'this',\n  'many',\n  '#Refugees',\n  '.'],\n ['You',\n  'know',\n  \"you're\",\n  'doing',\n  'something',\n  'right',\n  'when',\n  'you',\n  'got',\n  'haters',\n  '✌',\n  '🏼'],\n ['@user',\n  'Massive',\n  'explosion',\n  'in',\n  'Muslim',\n  'population',\n  ',',\n  'illegal',\n  'migrants',\n  'r',\n  'root',\n  'cause',\n  'of',\n  'pollution.Focus',\n  'on',\n  'aligning',\n  'them',\n  'as',\n  'good',\n  'citizens'],\n ['Palestinians',\n  'slam',\n  'reported',\n  'US',\n  'plan',\n  'to',\n  'weaken',\n  'UN',\n  \"'\",\n  'refugee',\n  \"'\",\n  'agency',\n  '#UnitedStates',\n  '...'],\n ['#WorldRefugeeDay',\n  'is',\n  'tomorrow',\n  '!',\n  'You',\n  'can',\n  'help',\n  'refugee',\n  'rebuild',\n  'their',\n  'lives',\n  'in',\n  'the',\n  'U',\n  '.',\n  'S',\n  '.',\n  'by',\n  'joining',\n  'our',\n  'World',\n  'Refugee',\n  'Day',\n  'campaign',\n  '.',\n  'Get',\n  'started',\n  'âž',\n  '\\x9d'],\n ['I',\n  'really',\n  'do',\n  'cuss',\n  'a',\n  'lot',\n  'though',\n  '.',\n  'Cunt',\n  'comes',\n  'out',\n  'of',\n  'my',\n  'mouth',\n  'all',\n  'day',\n  '.',\n  'Men',\n  'women',\n  'and',\n  'children',\n  '.',\n  'No',\n  'ones',\n  'safe',\n  '.'],\n ['ASOS',\n  'and',\n  'Katharine',\n  'Hamnett',\n  'team',\n  'up',\n  'on',\n  'underwear',\n  'line',\n  'to',\n  'support',\n  'refugees'],\n ['President',\n  'Trump',\n  'Participates',\n  'in',\n  'Roundtable',\n  'Discussion',\n  'on',\n  'Immigration',\n  '‘',\n  '“',\n  '2:00',\n  'pmÂ',\n  'Livestream',\n  '‘',\n  '¦'],\n ['@user', 'we', 'are', 'gonna', 'be', 'friends', '#YesAllMen'],\n ['@user',\n  '@user',\n  '@user',\n  \"here's\",\n  'my',\n  'point',\n  'you',\n  'dog',\n  'of',\n  'assad',\n  'son',\n  'of',\n  'whore',\n  'father',\n  'of',\n  'slut'],\n ['Every',\n  'convo',\n  'ever',\n  'w',\n  '/',\n  'an',\n  '#MRA',\n  ':',\n  \"'\",\n  'men',\n  'are',\n  'pigs',\n  '.',\n  \"'\",\n  \"'\",\n  'WTF',\n  'MEN',\n  'R',\n  'NOT',\n  'PIGS',\n  'U',\n  'FUGLY',\n  'FEMENAZI',\n  'CUNT',\n  'IMA',\n  'CUT',\n  'UR',\n  'HEAD',\n  'OFF',\n  'N',\n  'FUCK',\n  'UR',\n  'NECK',\n  'HOLE',\n  '4',\n  'SAYIN',\n  'THAT',\n  \"'\"],\n ['Refugees', 'not', 'welcome', '.'],\n ['@user',\n  'I',\n  'was',\n  'in',\n  'Toronto',\n  'last',\n  'year',\n  '.',\n  'It',\n  'no',\n  'longer',\n  'looked',\n  'like',\n  'Canada',\n  '.',\n  'Very',\n  'sad',\n  'situation',\n  '.',\n  'The',\n  'Canadians',\n  'were',\n  'good',\n  'people.https',\n  ':/',\n  '/',\n  't.co/7bHGpS1cH0Stop',\n  'immigration',\n  '.',\n  'Start',\n  'deportations',\n  '.',\n  'We',\n  'have',\n  'the',\n  'right',\n  'to',\n  'our',\n  'homelands',\n  '.'],\n ['When',\n  \"you're\",\n  'hungover',\n  'AF',\n  'and',\n  'you',\n  'realize',\n  'tomorrow',\n  'is',\n  'Monday'],\n ['Me',\n  '-',\n  'dear',\n  'IG',\n  ',',\n  'I',\n  'follow',\n  'all',\n  'of',\n  'your',\n  'guidelines',\n  ',',\n  'please',\n  'reactivate',\n  'my',\n  'account',\n  'IG',\n  '-'],\n ['Nelly',\n  'should',\n  'beware',\n  'of',\n  'other',\n  'woman',\n  'now',\n  'trying',\n  'to',\n  'accuse',\n  'him',\n  'for',\n  'rape',\n  '..',\n  'Ladies',\n  'after',\n  'this',\n  'lady',\n  'because',\n  'if',\n  'one',\n  'does',\n  'it',\n  'others',\n  'will',\n  'try',\n  'it',\n  'too'],\n ['The',\n  'world',\n  'divided',\n  'over',\n  'trumped',\n  'up',\n  'charges',\n  'and',\n  'more',\n  'refugees',\n  'drowning',\n  'l',\n  'blame',\n  'the',\n  'refugees',\n  'who',\n  'burnt',\n  'and',\n  'murdered',\n  'Christians',\n  'their',\n  'religion'],\n ['These',\n  'savages',\n  'invade',\n  'Our',\n  'Country',\n  ',',\n  'disrupt',\n  'cities',\n  ',',\n  'turn',\n  'many',\n  'into',\n  'shitholes',\n  'like',\n  'where',\n  'they',\n  'came',\n  'from',\n  'and',\n  'WE',\n  'THE',\n  'PEOPLE',\n  'are',\n  'paying',\n  'for',\n  'this',\n  'SHIT',\n  '.',\n  'How',\n  'about',\n  'taking',\n  'or',\n  'Our',\n  'OWN',\n  'Citizens',\n  ',',\n  'Veterans',\n  'and',\n  'other',\n  'AMERICANS',\n  'in',\n  'need',\n  '?',\n  'To',\n  'HELL',\n  'with',\n  'these',\n  'ungrateful',\n  'idiots',\n  ';',\n  '#SendThemBack'],\n ['I',\n  'got',\n  'offered',\n  'once',\n  'by',\n  'a',\n  'neighbor',\n  'to',\n  'go',\n  'to',\n  'a',\n  'church',\n  'down',\n  'the',\n  'street',\n  '&',\n  'thought',\n  'about',\n  'it',\n  'but',\n  'then',\n  'found',\n  'out',\n  'a',\n  'week',\n  'later',\n  'the',\n  'priest',\n  'was',\n  'sexually',\n  'assaulting',\n  'immigrant',\n  'women',\n  '&',\n  'threatening',\n  'to',\n  'call',\n  'ICE',\n  'on',\n  'them',\n  'if',\n  'they',\n  'told',\n  '.',\n  'That',\n  'was',\n  'my',\n  'sign',\n  'to',\n  'stay',\n  'w',\n  'my',\n  'little',\n  'shrine',\n  'in',\n  'my',\n  'room',\n  '👋',\n  '🏼'],\n ['Why',\n  'is',\n  'thos',\n  'racist',\n  ',',\n  'homophobic',\n  'whore',\n  '@user',\n  'getting',\n  'so',\n  'much',\n  'success',\n  'all',\n  'of',\n  'the',\n  'sudden',\n  '?',\n  'Like',\n  'go',\n  'away',\n  'ugly',\n  'cunt',\n  '.'],\n ['The',\n  'most',\n  'filled',\n  'with',\n  'misogyny',\n  '(',\n  'calling',\n  'women',\n  'hysterical',\n  'for',\n  'the',\n  '#MeToo',\n  'movement',\n  ')',\n  'and',\n  'victim',\n  'blaming',\n  's',\n  '*',\n  'it',\n  '.',\n  'Why',\n  'does',\n  '…'],\n ['@user',\n  'I',\n  \"can't\",\n  'believe',\n  'just',\n  'what',\n  'a',\n  'poor',\n  'state',\n  'those',\n  'roads',\n  'in',\n  'the',\n  'pictures',\n  'are',\n  'in',\n  'and',\n  'why',\n  'council',\n  'has',\n  'allowed',\n  'so',\n  'much',\n  'development',\n  'on',\n  'those',\n  'roads',\n  ',',\n  'oh',\n  'thats',\n  'right',\n  ',',\n  'its',\n  'because',\n  'of',\n  'Turnbulls',\n  'insane',\n  'immigration',\n  'policy',\n  '.'],\n ['[',\n  'Feature',\n  ']',\n  'Congolese',\n  'refugees',\n  'ask',\n  'Korean',\n  'firm',\n  'not',\n  'to',\n  'supply',\n  'voting',\n  'machines',\n  'to',\n  'their',\n  'country'],\n ['If',\n  'rape',\n  'is',\n  'real',\n  'why',\n  \"aren't\",\n  'more',\n  'people',\n  'reporting',\n  'it',\n  '?',\n  'Just',\n  'another',\n  'feminist',\n  'lie',\n  '.',\n  ';'],\n ['@user', 'go', 'rape', 'your', 'whore', 'of', 'a', 'mother'],\n ['True', 'AF', '😂', '👌', '🏼'],\n ['Skinny',\n  'is',\n  'not',\n  'always',\n  'healthy',\n  ',',\n  'tell',\n  'that',\n  'to',\n  'Hollywood.They',\n  \"wouldn't\",\n  'house',\n  'the',\n  'immigrants',\n  'or',\n  'refugees',\n  'from',\n  \"Obama's\",\n  'wars',\n  'n',\n  'dare',\n  'to',\n  'say',\n  'they',\n  'hate',\n  'Trump',\n  'bc',\n  'globalist',\n  'democracy.Have',\n  'they',\n  'looked',\n  'at',\n  'Paris',\n  'France',\n  'lately.Poor',\n  \"People's\",\n  'Campaign',\n  'should',\n  'get',\n  'more',\n  'funding',\n  'from',\n  'Dem',\n  'or',\n  'Rep'],\n ['The',\n  'Philippines',\n  'is',\n  'sending',\n  'a',\n  'Catholic',\n  'priest',\n  'to',\n  'Kuwait',\n  'next',\n  'month',\n  'to',\n  'assist',\n  'Filipino',\n  'migrant',\n  'workers',\n  'who',\n  'escaped',\n  'from',\n  'abusive',\n  'employers',\n  '.'],\n ['@user',\n  '@user',\n  'Actually',\n  'I',\n  'do',\n  'think',\n  'women',\n  'should',\n  'be',\n  'reclaiming',\n  \"'\",\n  'cunt',\n  \"'\",\n  '.',\n  \"It's\",\n  'past',\n  'time',\n  '.'],\n ['@user',\n  'Meanwhile',\n  'the',\n  'same',\n  'women',\n  'need',\n  'only',\n  'to',\n  'be',\n  '1',\n  '.',\n  'Not',\n  'fat',\n  '2',\n  '.',\n  'Not',\n  'a',\n  'cunt',\n  'And',\n  \"can't\",\n  'even',\n  'pull',\n  'that',\n  'off'],\n ['The',\n  'head',\n  'of',\n  'the',\n  'Philippine',\n  'Catholic',\n  'bishops',\n  \"'\",\n  'commission',\n  'for',\n  'migrants',\n  'has',\n  'welcomed',\n  'a',\n  'Kuwaiti',\n  \"court's\",\n  'decision',\n  'to',\n  'sentence',\n  'the',\n  'employers',\n  'of',\n  'a',\n  'murdered',\n  'Filipino',\n  'maid',\n  'to',\n  'death',\n  '.'],\n ['If',\n  'they',\n  \"don't\",\n  'trust',\n  'you',\n  'enough',\n  'to',\n  'let',\n  'you',\n  'cheat',\n  'in',\n  'peace',\n  'is',\n  'the',\n  'relationship',\n  'really',\n  'real',\n  '?'],\n [\"I've\",\n  'reached',\n  'a',\n  'point',\n  'in',\n  'my',\n  'life',\n  'where',\n  \"I've\",\n  'realized',\n  'theres',\n  'no',\n  'such',\n  'thing',\n  'as',\n  'a',\n  'girl',\n  'that',\n  \"won't\",\n  'hurt',\n  'you',\n  '.',\n  'Eventually',\n  'they',\n  'all',\n  'will',\n  '#WomenSuck'],\n ['UPDATE',\n  '—',\n  'Draconian',\n  'measures',\n  'are',\n  'being',\n  'taken',\n  'to',\n  'force',\n  'Burundian',\n  'refugees',\n  'in',\n  'Mtendeli',\n  'camp',\n  'in',\n  'Tanzania',\n  'to',\n  'return',\n  'to',\n  '#Burundi',\n  'despite',\n  'their',\n  'fear',\n  '.',\n  'Here',\n  'is',\n  'an',\n  'order',\n  'by',\n  'Tanzanian',\n  'authorities',\n  'closing',\n  'refugees',\n  '’',\n  'small',\n  'businesses',\n  'in',\n  'the',\n  'camp',\n  'effective',\n  'immediately',\n  '.'],\n ['Women',\n  'are',\n  'stupid',\n  '.',\n  'They',\n  'get',\n  'cheated',\n  'on',\n  'and',\n  'approach',\n  'and',\n  'fight',\n  'the',\n  'side',\n  'chic',\n  '.',\n  'Bitch',\n  'who',\n  'cheated',\n  'on',\n  'you',\n  '?',\n  'Who',\n  '?',\n  'Stupidity',\n  'is',\n  'unbelievable',\n  '.'],\n ['@user',\n  'I',\n  'am',\n  'not',\n  'sure',\n  'how',\n  'much',\n  'you',\n  'have',\n  'seen',\n  'about',\n  'this',\n  ',',\n  'but',\n  'this',\n  'is',\n  'a',\n  'pretty',\n  'strange',\n  'take',\n  'on',\n  'it',\n  '.',\n  'to',\n  'say',\n  'rape',\n  'is',\n  'the',\n  'main',\n  'plot',\n  'point',\n  'is',\n  'dismissive'],\n ['Texts',\n  'after',\n  'calling',\n  'me',\n  'a',\n  'slut',\n  'and',\n  'telling',\n  'me',\n  'I',\n  'was',\n  'a',\n  'bitch',\n  'and',\n  'that',\n  'no',\n  'one',\n  'liked',\n  'me',\n  '.',\n  'When',\n  'I',\n  'went',\n  'to',\n  'the',\n  'dean',\n  'with',\n  'my',\n  'mom',\n  'and',\n  'showed',\n  'him',\n  'the'],\n ['Read',\n  'me',\n  'and',\n  '@user',\n  'on',\n  'the',\n  'intra-Palestinian',\n  'feud',\n  'that',\n  'threatens',\n  'long-term',\n  'relief',\n  'in',\n  'Gaza'],\n ['I',\n  'am',\n  'not',\n  'a',\n  'morning',\n  'person',\n  '&',\n  'I',\n  'keep',\n  'to',\n  'myself',\n  'because',\n  'of',\n  'it',\n  ',',\n  'you',\n  'wanna',\n  'be',\n  'a',\n  'smart',\n  'ass',\n  '&',\n  'gimme',\n  'attitude',\n  '?',\n  '?',\n  'Imma',\n  'be',\n  'a',\n  'Kunt',\n  'to',\n  'you'],\n ['@user',\n  \"don't\",\n  'worry',\n  'about',\n  'it',\n  'and',\n  'go',\n  'make',\n  'me',\n  'a',\n  'sandwich',\n  'woman',\n  '.',\n  '#WomenSuck'],\n ['#Tech',\n  '#News',\n  \"Facebook's\",\n  'new',\n  'political',\n  'advertising',\n  'policy',\n  'denounced',\n  'by',\n  'immigrant',\n  ',',\n  'civil',\n  'rights',\n  'groups',\n  \"Facebook's\",\n  'new',\n  'political',\n  'advertising',\n  'policy',\n  'denounced',\n  'by',\n  'immigrant',\n  ',',\n  'civil',\n  'rights',\n  'groups',\n  'A',\n  'wide',\n  'range',\n  'of',\n  'advocates',\n  'for',\n  'immigrants',\n  '…'],\n ['When', 'you', 'wanna', 'eat', 'your', 'own', 'ass'],\n ['Facts', 'vs', 'Fiction', 'about', '#refugees'],\n ['Blocking', 'people', 'is', 'my', 'cardio'],\n ['I',\n  'have',\n  'condoms',\n  'everywhere',\n  'cause',\n  'I',\n  'bought',\n  'a',\n  'value',\n  'pack',\n  'once',\n  'and',\n  'never',\n  'used',\n  'one',\n  'of',\n  'them'],\n ['How',\n  'a',\n  '$',\n  '20',\n  'tip',\n  'cost',\n  'an',\n  'immigrant',\n  'her',\n  'airport',\n  'job',\n  '.',\n  'I',\n  'was',\n  'so',\n  'happy',\n  'to',\n  'see',\n  'this',\n  'woman',\n  ',',\n  'who',\n  'had',\n  'a',\n  'GoFundMe',\n  'goal',\n  'of',\n  '$',\n  '5,000',\n  ',',\n  'reach',\n  'over',\n  '$',\n  '42,000'],\n ['Illegal',\n  'Alien',\n  'Who',\n  'Had',\n  'Already',\n  'Been',\n  'Deported',\n  'In',\n  'The',\n  'Past',\n  'Returns',\n  'To',\n  'Florida',\n  '&',\n  'Sexual',\n  'Assaults',\n  'A',\n  'Young',\n  'Girl',\n  'Then',\n  'Nearly',\n  'Beats',\n  'Her',\n  'To',\n  'Death',\n  '#BuildThatWall'],\n ['@user',\n  'please',\n  'think',\n  'carefully',\n  'it',\n  'is',\n  'not',\n  'about',\n  'benifits',\n  'it',\n  'is',\n  'about',\n  'to',\n  'many',\n  'migrants',\n  'ur',\n  'already',\n  'punishing',\n  'our',\n  'poor',\n  'god',\n  'will',\n  'interven'],\n ['Calling',\n  'some',\n  'one',\n  \"'\",\n  'Dwight',\n  'you',\n  'ignorant',\n  'slut',\n  \"'\",\n  'is',\n  'the',\n  'only',\n  'thing',\n  'that',\n  'would',\n  'make',\n  'this',\n  'day',\n  'better'],\n ['@user',\n  'God',\n  'I',\n  'hate',\n  'that',\n  'dumb',\n  'cunt',\n  'with',\n  'her',\n  'shitty',\n  'music',\n  'and',\n  'feminism',\n  '™',\n  ',',\n  'meanwhile',\n  'her',\n  'country',\n  'is',\n  'the',\n  'rape',\n  'capital',\n  'of',\n  'Europe'],\n ['Am',\n  'I',\n  'piece',\n  'of',\n  'shit',\n  '?',\n  'Yes',\n  '.',\n  'Do',\n  'I',\n  'at',\n  'least',\n  'feel',\n  'bad',\n  'about',\n  'it',\n  '?',\n  'Absolutely',\n  'not'],\n ['@user', 'Do', 'it', '@user', '#BuildThatWall'],\n ['@user',\n  '@user',\n  'Germans',\n  'are',\n  'OK',\n  ',',\n  'like',\n  'the',\n  'rest',\n  'of',\n  'Western',\n  'Europe',\n  ',',\n  'the',\n  'immigration',\n  'problem',\n  'came',\n  'from',\n  'the',\n  'East',\n  '(',\n  'Romania',\n  ')',\n  'The',\n  'are',\n  'partly',\n  'responsible',\n  'for',\n  'the',\n  'no',\n  'vote',\n  ',',\n  'also',\n  'the',\n  'EU',\n  'being',\n  'unelected',\n  'can',\n  'hardly',\n  'claim',\n  'to',\n  'represent',\n  'any',\n  'European',\n  'nation',\n  '..'],\n ['@user',\n  'and',\n  \"I'd\",\n  'rather',\n  'shove',\n  'the',\n  'fat',\n  'side',\n  'of',\n  'a',\n  'wine',\n  'bottle',\n  'up',\n  'your',\n  'ass',\n  '...',\n  'We',\n  'all',\n  'have',\n  'our',\n  'preferences',\n  '🌚'],\n ['#nonSense',\n  'we',\n  'do',\n  'not',\n  'want',\n  'this',\n  'in',\n  'US',\n  '.',\n  '#MuslimBan',\n  'no',\n  'people',\n  'from',\n  'these',\n  'countries',\n  'should',\n  'be',\n  'allowed',\n  'without',\n  'proper',\n  'vetting',\n  '.',\n  'It',\n  'is',\n  'really',\n  'scary',\n  'imagine',\n  '#ShariaLaw',\n  '#EndDiversity',\n  '#EndChainMigration'],\n ['Why',\n  'do',\n  'girls',\n  'follow',\n  'me',\n  '?',\n  'All',\n  'I',\n  'do',\n  'is',\n  'make',\n  'fun',\n  'of',\n  'them',\n  'for',\n  'how',\n  'dumb',\n  'they',\n  'are',\n  '#WomenSuck'],\n ['If',\n  'I',\n  'ask',\n  'you',\n  'how',\n  'many',\n  'men',\n  'you',\n  'slept',\n  'with',\n  'and',\n  'you',\n  'actually',\n  'know',\n  ',',\n  \"you're\",\n  'not',\n  'the',\n  'girl',\n  'for',\n  'me'],\n ['#impeachtrump',\n  '#republican',\n  '#democrat',\n  'Just',\n  'consider',\n  'how',\n  'different',\n  'life',\n  'would',\n  'be',\n  'today',\n  'if',\n  'Hillary',\n  'had',\n  'picked',\n  'Bernie',\n  'as',\n  'her',\n  'VP',\n  'candidate',\n  ',',\n  'they',\n  'would',\n  'have',\n  'beaten',\n  'the',\n  'orange',\n  'king',\n  'by',\n  '30',\n  'points',\n  ',',\n  'saving',\n  'SS',\n  ',',\n  'the',\n  'budget',\n  ',',\n  'immigrant',\n  'children',\n  ',',\n  'and',\n  \"journalist's\",\n  'lives',\n  '.'],\n ['Wake',\n  'up',\n  'at',\n  '6',\n  'in',\n  'the',\n  'morning',\n  'to',\n  'hear',\n  '@user',\n  'commentating',\n  'on',\n  'the',\n  'game',\n  '.',\n  'Guy',\n  'speaks',\n  'out',\n  'of',\n  'his',\n  'butt',\n  'hole',\n  ',',\n  'don',\n  '’',\n  't',\n  'know',\n  'how',\n  'you',\n  'got',\n  'this',\n  'job',\n  '😒',\n  '😒',\n  '😒'],\n ['@user',\n  'What',\n  'if',\n  'she',\n  'enjoys',\n  'it',\n  '?',\n  'I',\n  'think',\n  'the',\n  'days',\n  'where',\n  'women',\n  'are',\n  'forced',\n  'to',\n  'stay',\n  'in',\n  'the',\n  'kitchen',\n  ',',\n  'not',\n  'work',\n  ',',\n  'etc',\n  'are',\n  'over',\n  '.'],\n ['I',\n  'grew',\n  'up',\n  'in',\n  'an',\n  'immigrant',\n  'household',\n  '.',\n  'We',\n  'were',\n  'taught',\n  'to',\n  'embrace',\n  'our',\n  'heritage',\n  'and',\n  'celebrate',\n  'our',\n  'differences',\n  '.',\n  'Here',\n  '’',\n  's',\n  'Dad',\n  'and',\n  'I',\n  'on',\n  'my',\n  'last',\n  'trip',\n  'home',\n  'to',\n  'Jamaica',\n  '.',\n  'Happy',\n  '56th',\n  'Jamaican',\n  'Independence',\n  'Day',\n  '!',\n  '🇯',\n  '🇲',\n  '🎉',\n  '🇯',\n  '🇲',\n  '🎉',\n  '🇯',\n  '🇲',\n  '🎉'],\n ['@user',\n  'Well',\n  'I',\n  'mean',\n  'by',\n  'all',\n  'means',\n  'do',\n  'you',\n  'but',\n  'not',\n  'all',\n  'men',\n  'are',\n  'like',\n  'that',\n  '!',\n  '!',\n  '!'],\n ['@user',\n  'Girl',\n  'people',\n  'really',\n  'do',\n  'that',\n  ',',\n  'like',\n  'damn',\n  'bitch',\n  'you',\n  'so',\n  'selfish',\n  'you',\n  'don',\n  '’',\n  't',\n  'wanna',\n  'rt',\n  'me',\n  'and',\n  'get',\n  'me',\n  'clout'],\n ['\"',\n  'Often',\n  'employers',\n  'consider',\n  'employees',\n  'slaves',\n  'as',\n  'they',\n  'think',\n  'they',\n  'have',\n  'bought',\n  'them',\n  '[',\n  'because',\n  ']',\n  'they',\n  'pay',\n  'them',\n  '.',\n  '\"',\n  '#ucanews',\n  '#thereforthevoiceless',\n  '#women',\n  '#migrants',\n  '#abuse',\n  '#Bangladesh',\n  '@user',\n  '@user',\n  '@user',\n  '@user',\n  '@user',\n  '@user',\n  '@user'],\n ['Immigrant',\n  'children',\n  'being',\n  'reunited',\n  'with',\n  'families',\n  'in',\n  'US'],\n ['Two',\n  'immigrant',\n  'fathers',\n  'reunited',\n  'with',\n  'their',\n  'young',\n  'sons',\n  'in',\n  'New',\n  'York'],\n ['#StopChildAbuse',\n  'The',\n  'next',\n  'social',\n  'movement',\n  'will',\n  'be',\n  'about',\n  'stopping',\n  'women',\n  'who',\n  'abuse',\n  'children',\n  '.',\n  'It',\n  'is',\n  'a',\n  'real',\n  'problem',\n  '.'],\n ['Making',\n  'fun',\n  'of',\n  'the',\n  'GOP',\n  'for',\n  'being',\n  'hypocrites',\n  'on',\n  'all',\n  'lives',\n  'matter',\n  'but',\n  'not',\n  'immigrant',\n  'lives',\n  '.',\n  'Than',\n  'turning',\n  'around',\n  'and',\n  'being',\n  'a',\n  'hypocrite',\n  'on',\n  'racist',\n  'and',\n  'offensive',\n  'tweets',\n  '>',\n  '>',\n  '>'],\n ['BBC',\n  'withdraws',\n  \"'\",\n  'biased',\n  \"'\",\n  'educational',\n  'film',\n  'about',\n  'immigration',\n  'via',\n  '@user'],\n ['@user', 'And', 'you', 'are', 'a', 'hysterical', 'Cunt', '.'],\n ['DREAMER',\n  \"'\",\n  'Sodomized',\n  'Multiple',\n  'Boys',\n  ',',\n  'Between',\n  'The',\n  'Ages',\n  '7',\n  'and',\n  '9',\n  'via',\n  '@user',\n  '#DeathPenalty',\n  'is',\n  'too',\n  'good',\n  'for',\n  'this',\n  'dispicable',\n  'creature',\n  '.',\n  '#BuildTheWall',\n  '#EndDACA',\n  'What',\n  'about',\n  'the',\n  'dreams',\n  'this',\n  'POS',\n  'Stole',\n  'from',\n  'these',\n  'children',\n  '?',\n  'I',\n  'hope',\n  'you',\n  'burn',\n  'in',\n  'pits',\n  'of',\n  'hell',\n  '!'],\n ['Doctors',\n  'saw',\n  'immigrant',\n  'kids',\n  'separated',\n  'from',\n  'their',\n  'parents',\n  '.',\n  'Now',\n  'they',\n  '’',\n  're',\n  'trying',\n  'to',\n  'stop',\n  'it',\n  '.',\n  ':',\n  'Separating',\n  'immigrant',\n  'kids',\n  'from',\n  'parents',\n  '“',\n  'really',\n  'is',\n  'nothing',\n  'less',\n  'than',\n  'government-sanctioned',\n  'child',\n  'abuse',\n  ',',\n  '”',\n  'the',\n  'president',\n  'of',\n  'the',\n  'American',\n  'Academy',\n  'of',\n  'Pediatrics',\n  'says',\n  '.',\n  '…'],\n ['Pro',\n  'Tip',\n  '-',\n  'Always',\n  'call',\n  'skinny',\n  'girls',\n  'fat',\n  ',',\n  'they',\n  'live',\n  'that',\n  'shit',\n  '🌚'],\n ['It',\n  '’',\n  's',\n  'too',\n  'much',\n  'loose',\n  'pussy',\n  'in',\n  'the',\n  'world',\n  'to',\n  'be',\n  'raping',\n  'bitches',\n  '.',\n  'Literally',\n  'some',\n  'of',\n  'these',\n  'skanks',\n  ',',\n  'goin',\n  'on',\n  'sight',\n  '💀',\n  '💯'],\n ['The',\n  'media',\n  'and',\n  'the',\n  'D',\n  'party',\n  'tried',\n  'to',\n  'destroy',\n  'America',\n  'with',\n  'Obama',\n  '.',\n  'They',\n  'r',\n  'hysterical',\n  'cuz',\n  'they',\n  'afraid',\n  'you',\n  'will',\n  'find',\n  'out',\n  'just',\n  'how',\n  'terrible',\n  'they',\n  'r'],\n ['Watch',\n  ':',\n  'Muslim',\n  'refugee',\n  'calls',\n  'on',\n  'the',\n  'UN',\n  'to',\n  'take',\n  'action',\n  'against',\n  'Britain',\n  'because',\n  'the',\n  'food',\n  'is',\n  'disgusting',\n  '-',\n  'Free',\n  'Speech',\n  'Time',\n  '-',\n  '@user'],\n ['@user',\n  '@user',\n  '@user',\n  'Oh',\n  'sure',\n  'thing',\n  'Ralph',\n  '.',\n  'Can',\n  'you',\n  'tell',\n  'us',\n  'exactly',\n  'how',\n  'many',\n  'of',\n  'the',\n  '\"',\n  'refugees',\n  '\"',\n  '(',\n  'code',\n  'for',\n  'country',\n  'shoppers',\n  ')',\n  'have',\n  'been',\n  'deported',\n  '?',\n  '@user'],\n ['Yes',\n  'exactly',\n  '.',\n  'Works',\n  'both',\n  'ways',\n  '.',\n  'The',\n  'amount',\n  'of',\n  'times',\n  'I',\n  '’',\n  've',\n  'been',\n  'groped',\n  'by',\n  'some',\n  'hysterical',\n  'straight',\n  'girl',\n  'on',\n  'a',\n  'night',\n  'out',\n  '…'],\n ['Philippine',\n  'Catholic',\n  'bishops',\n  'want',\n  'a',\n  'total',\n  'ban',\n  'on',\n  'the',\n  'deployment',\n  'of',\n  'Filipino',\n  'workers',\n  'to',\n  'countries',\n  'that',\n  'do',\n  'not',\n  'have',\n  'laws',\n  'to',\n  'protect',\n  'migrants',\n  '.'],\n ['When', 'you', 'see', 'your', 'first', 'pair', 'of', 'titties'],\n ['Nine',\n  'people',\n  'killed',\n  'in',\n  'booby-trapped',\n  'house',\n  'in',\n  'Mosul',\n  ',',\n  'once',\n  'back',\n  'from',\n  'refugee',\n  'camp'],\n ['In',\n  'Germany',\n  'gayrefugees',\n  'get',\n  'a',\n  'special',\n  'invitation',\n  'for',\n  'housing',\n  'together',\n  '.'],\n ['Me', 'when', 'I', 'go', 'anywhere', ',', 'ever'],\n ['Poland',\n  '’',\n  's',\n  'interior',\n  'minister',\n  'defends',\n  'anti-migration',\n  'stance',\n  'during',\n  'Visegrad',\n  'meeting'],\n [\"Don't\",\n  'mind',\n  'me',\n  '...',\n  \"I'm\",\n  'just',\n  'waiting',\n  'for',\n  '@user',\n  'to',\n  'start',\n  'ranting',\n  '🌚'],\n ['My',\n  'brother',\n  'is',\n  'such',\n  'a',\n  'dick',\n  'to',\n  'his',\n  'girlfriend',\n  'who',\n  'is',\n  'so',\n  'damn',\n  'nice',\n  'and',\n  'it',\n  'literally',\n  'pisses',\n  'me',\n  'off',\n  '.'],\n ['@user',\n  '#NoDaca',\n  '#NoAmnesty',\n  '#NoAnchorBabies',\n  '2',\n  'illegals',\n  'do',\n  'not',\n  'make',\n  'a',\n  'legal',\n  '#BuildTheWall'],\n [\"I'm\",\n  'actually',\n  'really',\n  'happy',\n  'your',\n  'ass',\n  'got',\n  'pregnant',\n  'and',\n  'that',\n  \"you're\",\n  'having',\n  'a',\n  'shotgun',\n  'wedding',\n  '.',\n  'Karma',\n  'is',\n  'a',\n  'bitch',\n  'you',\n  'cheating',\n  'skank'],\n ['@user',\n  'Been',\n  'digging',\n  'the',\n  'podcast',\n  '.',\n  'Always',\n  'liked',\n  'you',\n  'as',\n  'an',\n  'actor',\n  '.',\n  'Keep',\n  'doing',\n  'your',\n  'thing',\n  '!',\n  '!',\n  'Viva',\n  'Dick',\n  'Ritchie',\n  '!'],\n ['Trump',\n  'officials',\n  'asked',\n  '#Jordan',\n  'to',\n  'end',\n  'refugee',\n  'status',\n  'for',\n  'twoÂ',\n  'million',\n  'Palestinians',\n  '#JaredKushner',\n  '...'],\n ['Pro',\n  'Tip',\n  '-',\n  'Stop',\n  'waiting',\n  'for',\n  'me',\n  'to',\n  'care',\n  ',',\n  \"it's\",\n  'not',\n  'gonna',\n  'to',\n  'happen'],\n [\"Don't\",\n  'miss',\n  '#DeathofANation',\n  'while',\n  \"it's\",\n  'on',\n  'the',\n  'big',\n  'screens',\n  '...',\n  'A',\n  'courageous',\n  ',',\n  'eye-opening',\n  'exposé',\n  'of',\n  'the',\n  'truth',\n  'about',\n  'leftwing',\n  'fascism',\n  ',',\n  'and',\n  'tactics',\n  'of',\n  'the',\n  'liberals',\n  '-',\n  'it',\n  'took',\n  'a',\n  'LEGAL',\n  'grateful',\n  ',',\n  'intelligent',\n  'immigrant',\n  'to',\n  'recognize',\n  'and',\n  'uncover',\n  'the',\n  'truth',\n  'Thanks',\n  '@user',\n  '!',\n  '!'],\n ['The',\n  'wall',\n  'should',\n  'have',\n  'names',\n  'of',\n  'Americans',\n  'who',\n  'died',\n  'in',\n  'the',\n  'hands',\n  'of',\n  'illegal',\n  'immigration',\n  '.',\n  'As',\n  'a',\n  'reminder',\n  'for',\n  'why',\n  'we',\n  'are',\n  'building',\n  'it',\n  'in',\n  'the',\n  'first',\n  'place',\n  '.'],\n ['This',\n  'bitch',\n  'Cunt',\n  'Whore',\n  'Slut',\n  'every',\n  'type',\n  'of',\n  'name',\n  'deserves',\n  'to',\n  'fucking',\n  'die',\n  'u',\n  'Wildin',\n  'for',\n  'this'],\n ['Yall',\n  'STAY',\n  'making',\n  'post',\n  'about',\n  'the',\n  'LGBT',\n  'community',\n  '.',\n  'You',\n  'quoted',\n  'my',\n  'tweet',\n  'and',\n  'started',\n  'bitching',\n  'like',\n  'the',\n  'insecure',\n  'little',\n  'brat',\n  'you',\n  'are',\n  'shut',\n  'the',\n  'fuck',\n  'up',\n  'and',\n  'go',\n  'cry',\n  'to',\n  'your',\n  'mommy',\n  '.',\n  'I',\n  'dont',\n  'give',\n  'a',\n  'fuck',\n  'about',\n  'what',\n  'you',\n  'have',\n  'to',\n  'say',\n  '.'],\n ['@user',\n  'First',\n  'of',\n  'all',\n  'bitch',\n  'fuck',\n  'u',\n  ',',\n  'second',\n  'of',\n  'all',\n  'we',\n  'BOTH',\n  'hoes',\n  '😴'],\n ['Quite',\n  'a',\n  'lot',\n  'of',\n  'tension',\n  'already',\n  'exist',\n  'in',\n  'Moria',\n  'due',\n  'to',\n  'the',\n  'approaching',\n  'trial',\n  'of',\n  'the',\n  '#Moria35',\n  'and',\n  'the',\n  'death',\n  'of',\n  'an',\n  'Afghani',\n  'refugee',\n  'yesterday',\n  '-',\n  'due',\n  'to',\n  'health',\n  'care',\n  'limitations',\n  '.',\n  'More',\n  'than',\n  '200',\n  'refugees',\n  'protested',\n  'in',\n  'memory',\n  'of',\n  'the',\n  'man',\n  'who',\n  'died',\n  'and',\n  'contested',\n  'the',\n  'living',\n  'conditions',\n  'in',\n  'Moria',\n  '.'],\n ['Me',\n  'flirting',\n  '-',\n  'Tell',\n  'me',\n  'about',\n  'your',\n  'father',\n  '...',\n  'Start',\n  'at',\n  'the',\n  'part',\n  'when',\n  'he',\n  'left',\n  '...'],\n ['Sometimes',\n  'I',\n  'just',\n  'wanna',\n  'crash',\n  'into',\n  'psychic',\n  'reading',\n  'places',\n  'and',\n  'ask',\n  'them',\n  'if',\n  'they',\n  'saw',\n  'that',\n  'coming',\n  '...'],\n ['I',\n  'love',\n  'how',\n  'women',\n  'can',\n  'just',\n  'talk',\n  'all',\n  'day',\n  'about',\n  'a',\n  'nigga',\n  'not',\n  'being',\n  'shit',\n  ',',\n  'But',\n  'soon',\n  'as',\n  'a',\n  'nigga',\n  'say',\n  'sum',\n  'boutta',\n  'bitch',\n  '.',\n  \"Y'all\",\n  'wanna',\n  'attack',\n  'the',\n  'nigga'],\n ['Important',\n  ':',\n  'Appeal',\n  'from',\n  'GM',\n  'Police',\n  'for',\n  'information',\n  're',\n  'attempted',\n  'rape',\n  'of',\n  'young',\n  'woman',\n  'at',\n  'Green',\n  'Lane',\n  'Patricroft',\n  'at',\n  '11.30',\n  '…'],\n ['Remember',\n  ',',\n  'this',\n  'the',\n  'same',\n  'bitch',\n  'that',\n  'was',\n  'on',\n  'FOX',\n  'news',\n  'saying',\n  'rape',\n  'culture',\n  'was',\n  'an',\n  'attack',\n  'on',\n  'young',\n  'men',\n  '.',\n  'Its',\n  'her',\n  'pussy',\n  'be',\n  '…'],\n ['Greece',\n  'begins',\n  'mass',\n  'deportation',\n  'of',\n  'Muslim',\n  'immigrants',\n  '-',\n  'Turns',\n  'their',\n  'boats',\n  'back',\n  'to',\n  'Turkey',\n  '-',\n  'Free',\n  'Speech',\n  'Time',\n  '-',\n  '@user'],\n ['@user',\n  '3rd',\n  ',',\n  'you',\n  'are',\n  'a',\n  'fuckin',\n  'BIRD',\n  'you',\n  'dumb',\n  'bitch',\n  'so',\n  'what',\n  'anytime',\n  'you',\n  'got',\n  'drunk',\n  'and',\n  'had',\n  'sex',\n  'it',\n  'was',\n  'rape',\n  '?',\n  '!',\n  \"I'm\",\n  'sick',\n  'of',\n  'you',\n  'feminazis'],\n ['listen',\n  'here',\n  'dumb',\n  'fucker',\n  'you',\n  'dont',\n  'call',\n  'rania',\n  '“',\n  'whore',\n  '”',\n  'and',\n  'youre',\n  'the',\n  'only',\n  'crazy',\n  'bitch',\n  'here',\n  '😘',\n  'deactivate',\n  'pls',\n  'bc',\n  'nobody',\n  'c',\n  '…'],\n ['Of',\n  'course',\n  '*',\n  'Control',\n  '*',\n  'Increase',\n  'the',\n  'Production',\n  'of',\n  'Hateful',\n  'Invaders',\n  'while',\n  'Exterminating',\n  'the',\n  'Native',\n  'Species',\n  '=',\n  '#AbortionGenocide',\n  '#WakeUp',\n  '#StopTheInvasion'],\n ...]"
     },
     "metadata": {}
    }
   ]
  },
  {
   "cell_type": "code",
   "metadata": {
    "tags": [],
    "cell_id": "00044-8ba335b3-01f2-45c5-ae77-a5a8e76488a9",
    "deepnote_to_be_reexecuted": false,
    "source_hash": "fb09d2c0",
    "execution_start": 1620998981572,
    "execution_millis": 2768,
    "deepnote_cell_type": "code"
   },
   "source": "train, vocab = padded_everygram_pipeline(2, tokenized_hate)\nlm_hate = MLE(2)\nlm_hate.fit(train,vocab)",
   "execution_count": null,
   "outputs": []
  },
  {
   "cell_type": "code",
   "metadata": {
    "tags": [],
    "cell_id": "00045-a5afee81-77d3-470b-a86a-dd545c5b615c",
    "deepnote_to_be_reexecuted": false,
    "source_hash": "c09025c6",
    "execution_start": 1621000009004,
    "execution_millis": 249,
    "deepnote_cell_type": "code"
   },
   "source": "' '.join(lm_hate.generate(15))",
   "execution_count": null,
   "outputs": [
    {
     "output_type": "execute_result",
     "execution_count": 203,
     "data": {
      "text/plain": "'<s> @user @user Says a Russian vote , & we think shes ignored \" </s>'"
     },
     "metadata": {}
    }
   ]
  },
  {
   "cell_type": "code",
   "metadata": {
    "tags": [],
    "cell_id": "00045-6e4e302e-9106-4d72-ba8a-999151fe2756",
    "deepnote_to_be_reexecuted": false,
    "source_hash": "3013b68a",
    "execution_start": 1620999019883,
    "execution_millis": 19,
    "deepnote_cell_type": "code"
   },
   "source": "sentiment_train_lists = sentiment_train.split('\\n')\nsentiment_train_tokenize = sentiment_train_lists[0:4500]\nsentiment_train_set_aside = hate_train_lists[4500:-1]",
   "execution_count": null,
   "outputs": []
  },
  {
   "cell_type": "code",
   "metadata": {
    "tags": [],
    "cell_id": "00044-db63f026-32f1-4f72-90ae-e719e81cc1f6",
    "deepnote_to_be_reexecuted": false,
    "source_hash": "bc3df65d",
    "execution_start": 1620998883288,
    "execution_millis": 9,
    "deepnote_cell_type": "code"
   },
   "source": "#TweetTokenizer(sentiment_train)\ntokens_homemade = [tokenize_line(sentiment_train_tokenize[i].strip()) for i in range(20)]\ntokens_nltk = [' '.join(tknzr.tokenize(sentiment_train_tokenize[i])) for i in range(20)]",
   "execution_count": null,
   "outputs": []
  },
  {
   "cell_type": "code",
   "metadata": {
    "tags": [],
    "cell_id": "00048-f95e0a92-1454-4b8e-bef5-8febe91e3fc3",
    "deepnote_to_be_reexecuted": false,
    "source_hash": "2862d0a1",
    "execution_start": 1620998786291,
    "execution_millis": 614,
    "deepnote_cell_type": "code"
   },
   "source": "tokenized_sentiment = [tknzr.tokenize(i) for i in sentiment_train_tokenize]",
   "execution_count": null,
   "outputs": []
  },
  {
   "cell_type": "code",
   "metadata": {
    "tags": [],
    "cell_id": "00049-18f9b0b8-d1cd-41ad-b12a-1ce61adbc39e",
    "deepnote_to_be_reexecuted": false,
    "source_hash": "c8a6907",
    "execution_start": 1620998970733,
    "execution_millis": 2859,
    "deepnote_cell_type": "code"
   },
   "source": "train, vocab = padded_everygram_pipeline(2, tokenized_sentiment)\nlm_sent = MLE(2)\nlm_sent.fit(train,vocab)",
   "execution_count": null,
   "outputs": []
  },
  {
   "cell_type": "code",
   "metadata": {
    "tags": [],
    "cell_id": "00050-5ea634ca-4231-4c36-8a6d-fa2606e1c9e6",
    "deepnote_to_be_reexecuted": false,
    "source_hash": "d854d299",
    "execution_start": 1620999943778,
    "execution_millis": 363,
    "deepnote_cell_type": "code"
   },
   "source": "' '.join(lm_sent.generate(15))",
   "execution_count": null,
   "outputs": [
    {
     "output_type": "execute_result",
     "execution_count": 183,
     "data": {
      "text/plain": "'to see some resurgence ( jueves ) this is the only the loo since just'"
     },
     "metadata": {}
    }
   ]
  },
  {
   "cell_type": "markdown",
   "source": "5. Use lm.score and lm.logscore to calculate the scores of a couple of n-grams\nyou find in the texts with the different models. Try 1 or 2 n-grams with all\nfunction words and 1 or 2 n-grams that contain specific content words or names.",
   "metadata": {
    "tags": [],
    "cell_id": "00015-be1bf706-8544-4b64-9ceb-916dc2892989",
    "deepnote_cell_type": "markdown"
   }
  },
  {
   "cell_type": "code",
   "metadata": {
    "tags": [],
    "cell_id": "00044-c0cbb687-be25-4ca6-975b-d4c7653d3776",
    "deepnote_to_be_reexecuted": false,
    "source_hash": "d0891b07",
    "execution_start": 1621000291479,
    "execution_millis": 43,
    "deepnote_cell_type": "code"
   },
   "source": "print(lm_hate.score(\"you\"))\nprint(lm_sent.score(\"you\"))\nprint(lm_hate.logscore(\"and\"))\nprint(lm_sent.logscore(\"and\"))\n\n",
   "execution_count": null,
   "outputs": [
    {
     "name": "stdout",
     "text": "0.012150573173065215\n0.006724726162686299\n-6.283471118137621\n-6.48552009113189\n",
     "output_type": "stream"
    }
   ]
  },
  {
   "cell_type": "markdown",
   "source": "6. Use the lm.perplexity function to compute the perplexity of the validation\nsets from each dataset with each of the language models and compare. Keep in\nmind that LOWER perplexity is BETTER.",
   "metadata": {
    "tags": [],
    "cell_id": "00017-8ba35625-02cc-4617-8bf6-21f5b9f955ef",
    "deepnote_cell_type": "markdown"
   }
  },
  {
   "cell_type": "code",
   "metadata": {
    "tags": [],
    "cell_id": "00019-0deaa1b4-a550-4822-88a6-b4c3f3f8bbba",
    "deepnote_to_be_reexecuted": false,
    "source_hash": "fda40773",
    "execution_start": 1621001254228,
    "execution_millis": 0,
    "deepnote_cell_type": "code"
   },
   "source": "print(lm.perplexity(\"you\"))",
   "execution_count": null,
   "outputs": [
    {
     "name": "stdout",
     "text": "6925.3666307675\n",
     "output_type": "stream"
    }
   ]
  },
  {
   "cell_type": "markdown",
   "source": "\n\n7. Repeat the steps above with another language model implementation, such as\nLaplace, WittenBellInterpolated or KneserNeyInterpolated.",
   "metadata": {
    "tags": [],
    "cell_id": "00019-53f10152-2e1f-4553-802e-d9633cd81656",
    "deepnote_cell_type": "markdown"
   }
  },
  {
   "cell_type": "code",
   "metadata": {
    "tags": [],
    "cell_id": "00021-0296d85a-7888-4ed7-a316-2e9435457c54",
    "deepnote_to_be_reexecuted": true,
    "source_hash": "b623e53d",
    "execution_start": 1620390382039,
    "deepnote_cell_type": "code"
   },
   "source": "",
   "execution_count": null,
   "outputs": []
  },
  {
   "cell_type": "markdown",
   "source": "",
   "metadata": {
    "tags": [],
    "cell_id": "00021-80bc4c01-31e6-4ed2-91de-98f1d9325a0b",
    "deepnote_cell_type": "markdown"
   }
  },
  {
   "cell_type": "markdown",
   "source": "",
   "metadata": {
    "tags": [],
    "cell_id": "00033-1db4464d-f242-4b7e-8252-6cd7b0b6bae2",
    "deepnote_cell_type": "markdown"
   }
  },
  {
   "cell_type": "markdown",
   "source": "<a style='text-decoration:none;line-height:16px;display:flex;color:#5B5B62;padding:10px;justify-content:end;' href='https://deepnote.com?utm_source=created-in-deepnote-cell&projectId=5235cf77-d347-437f-a336-60ef81766ce7' target=\"_blank\">\n<img alt='Created in deepnote.com' style='display:inline;max-height:16px;margin:0px;margin-right:7.5px;' src='data:image/svg+xml;base64,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' > </img>\nCreated in <span style='font-weight:600;margin-left:4px;'>Deepnote</span></a>",
   "metadata": {
    "tags": [],
    "created_in_deepnote_cell": true,
    "deepnote_cell_type": "markdown"
   }
  }
 ],
 "nbformat": 4,
 "nbformat_minor": 2,
 "metadata": {
  "orig_nbformat": 2,
  "deepnote": {
   "is_reactive": false
  },
  "deepnote_notebook_id": "9ce5f367-9087-4380-adfd-233a3c3f01d1",
  "deepnote_execution_queue": []
 }
}