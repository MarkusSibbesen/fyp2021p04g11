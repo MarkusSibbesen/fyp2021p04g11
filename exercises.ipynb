{
 "cells": [
  {
   "cell_type": "markdown",
   "source": "## Task 1",
   "metadata": {
    "tags": [],
    "cell_id": "00001-f034f263-c20b-483f-96db-88524a842fca",
    "deepnote_cell_type": "markdown"
   }
  },
  {
   "cell_type": "markdown",
   "source": "We have selected **hate speech detection** as the binary classifier and the **sentiment analysis** as the multiclass classifier.",
   "metadata": {
    "tags": [],
    "cell_id": "00001-437886a7-c638-4c73-86de-3ee62144d833",
    "deepnote_cell_type": "markdown"
   }
  },
  {
   "cell_type": "code",
   "metadata": {
    "tags": [],
    "cell_id": "00001-077c6e66-d22d-4e09-9227-6a35ed8c6592",
    "deepnote_to_be_reexecuted": false,
    "source_hash": "1e7967ad",
    "execution_start": 1620390050896,
    "execution_millis": 2871,
    "deepnote_cell_type": "code"
   },
   "source": "#Imports \nimport pandas as pd \nimport csv \nimport re\nimport nltk\nnltk.download('punkt')\nfrom nltk.tokenize import TweetTokenizer\nfrom difflib import ndiff\n",
   "execution_count": null,
   "outputs": [
    {
     "name": "stderr",
     "text": "[nltk_data] Downloading package punkt to /root/nltk_data...\n[nltk_data]   Unzipping tokenizers/punkt.zip.\n",
     "output_type": "stream"
    }
   ]
  },
  {
   "cell_type": "code",
   "metadata": {
    "tags": [],
    "cell_id": "00001-f733bea0-7ebd-47a7-9518-baf31430b8d3",
    "deepnote_to_be_reexecuted": false,
    "source_hash": "1e597065",
    "execution_start": 1620390053771,
    "execution_millis": 66,
    "deepnote_cell_type": "code"
   },
   "source": "# Data loading \n\n# hate\nhate_train = open(\"datasets/hate/train_text.txt\", \"r\", encoding=\"utf-8\").read()\nhate_test = open(\"datasets/hate/test_text.txt\", \"r\", encoding=\"utf-8\").read()\nhate_mapping = open(\"datasets/hate/mapping.txt\", \"r\", encoding=\"utf-8\").read()\n\n# sentiment \nsentiment_train = open(\"datasets/sentiment/train_text.txt\", \"r\", encoding=\"utf-8\").read()\nsentiment_test = open(\"datasets/sentiment/test_text.txt\", \"r\", encoding=\"utf-8\").read()\nsentiment_mapping = open(\"datasets/sentiment/mapping.txt\", \"r\", encoding=\"utf-8\").read()",
   "execution_count": null,
   "outputs": []
  },
  {
   "cell_type": "markdown",
   "source": "**Preprocessing** <br>\nUsing regular expressions, implement a tokeniser to split the input texts into meaningful tokens. Your tokeniser should be a script that takes as input the data as distributed in the dataset and outputs the tokenised text, one output line per input line, with spaces between tokens.",
   "metadata": {
    "tags": [],
    "cell_id": "00003-2828698c-36ad-4ba1-9ad5-b3ef0486a32e",
    "deepnote_cell_type": "markdown"
   }
  },
  {
   "cell_type": "code",
   "metadata": {
    "tags": [],
    "cell_id": "00004-72832362-94dd-4283-bd62-bcbd5c6e0e9f",
    "deepnote_to_be_reexecuted": false,
    "source_hash": "372aa900",
    "execution_start": 1620390053848,
    "execution_millis": 22,
    "deepnote_cell_type": "code"
   },
   "source": "def tokenize_line(line):\n    #replacements = \".,:;?!/#%\\(\\)@$\\-…\"\n    #temp = re.sub(f'([^ ])([{replacements}])', r'\\1 \\2', line)\n    #temp = re.sub(f'([{replacements}])([^ ])', r'\\1 \\2', temp)\n    temp = re.sub(f'([a-zA-Z])([^a-zA-Z ])', r'\\1 \\2', line)\n    temp = re.sub(f'([^a-zA-Z @#])([a-zA-Z])', r'\\1 \\2', temp)\n    return temp\n\ntokenize_line('hej, d/et.te (er) en .test!')",
   "execution_count": null,
   "outputs": [
    {
     "output_type": "execute_result",
     "execution_count": 3,
     "data": {
      "text/plain": "'hej , d / et . te ( er ) en . test !'"
     },
     "metadata": {}
    }
   ]
  },
  {
   "cell_type": "markdown",
   "source": "1. Use the training set of one of the tasks you’ve chosen to work on. Set aside a part of the training set for evaluating the tokeniser so you don’t have to touch the validation data for that.",
   "metadata": {
    "tags": [],
    "cell_id": "00003-56e1a21a-8531-45ba-85f7-fd44749020e6",
    "deepnote_cell_type": "markdown"
   }
  },
  {
   "cell_type": "code",
   "metadata": {
    "tags": [],
    "cell_id": "00006-518b0e08-4431-4feb-a90a-397a400679c8",
    "deepnote_to_be_reexecuted": false,
    "source_hash": "146d7afe",
    "execution_start": 1620390351553,
    "execution_millis": 1,
    "deepnote_cell_type": "code"
   },
   "source": "hate_train_lists = hate_train.split('\\n')\nhate_train_tokenize = hate_train_lists[0:4500]\nhate_train_set_aside = hate_train_lists[4500:-1]",
   "execution_count": null,
   "outputs": []
  },
  {
   "cell_type": "markdown",
   "source": "2. Start by taking a subset of the training data, look through it and discuss in your group what a good tokenisation of this subset should look like. Then design your initial Python implementation to match this ideal tokenisation, and run it over the portion of the training set that you didn’t hold out for tokeniser evaluation. Keep an eye on infrequently occurring tokens in the output that look like tokenisation errors.\n",
   "metadata": {
    "tags": [],
    "cell_id": "00005-20857666-1524-4133-9c66-87cc0298b3d9",
    "deepnote_cell_type": "markdown"
   }
  },
  {
   "cell_type": "code",
   "metadata": {
    "tags": [],
    "cell_id": "00006-205f08d1-9c92-4907-9ea2-a49a1791de97",
    "deepnote_to_be_reexecuted": false,
    "source_hash": "5fba0ad7",
    "execution_start": 1620390354010,
    "execution_millis": 1,
    "deepnote_cell_type": "code"
   },
   "source": "[tokenize_line(line) for line in hate_train_tokenize[0:20]]",
   "execution_count": null,
   "outputs": [
    {
     "output_type": "execute_result",
     "execution_count": 10,
     "data": {
      "text/plain": "['@user nice new signage . Are you not concerned by Beatlemania - style hysterical crowds crongregating on you … ',\n 'A woman who you fucked multiple times saying yo dick small is a compliment you know u hit that spot 😎 ',\n '@user @user real talk do you have eyes or were they gouged out by a rapefugee ? ',\n 'your girlfriend lookin at me like a groupie in this bitch ! ',\n 'Hysterical woman like @user ',\n 'Me flirting - So tell me about your father ... ',\n 'The Philippine Catholic bishops \\' work for migrant workers should focus on families who are \" paying the great ... ',\n \"I AM NOT GOING AFTER YOUR EX BF YOU LIEING SACK OF SHIT ! I ' m done with you dude that ' s why I dumped your ass cause your a lieing 😂😡 bitch \",\n 'When cuffin season is finally over ',\n 'Send home migrants not in need of protection , Peter Dutton tells UN , HEY DUTTON HOW ABOUT THE ONES THAT HAVE STAYED AND NOT LEFT THE COUNTRY WHEN THEY SHOULD OVERSTAYERS ? WHY DONT YOU GO AND ROUND ALL THEM UP ?  ',\n 'Cory Booker and Kamala Harris competing for Most Hysterical Woman at the Kavanaugh hearings , Coulter hilariously tweeted . And yes , liberals immediately got triggered on Twitter , saying her joke was offensive . To them we say , suck it up , snowflakes . ',\n \"Only that in you which is me can hear what I ' m saying . ~ Baba Ram Dass \",\n \"Should have let the Libyan Manchester bomber rot in his own country . How many more mass murderers did the Royal Navy import to Britain ? How many more terrorists do the NGO ' s rescue from international waters ? #RefugeesNotWelcome \",\n 'More migrants take sea route to #Spain than Italy this year : UN ',\n 'Essential reading for those in Scribner , Nebraska who are considering an anti - immigrant ballot measure . ',\n 'This account was temporarily inactive due to an irrational woman reporting us to Twitter . What a lack of judgement , shocking . #YesAllMen ',\n 'RT @user @user I am flattered tbh . I got an orgasm just by thinking of it you really are good at this . ',\n 'Making them look ~ anatomically correct ~ just makes them ... Bland . Not all women are tiny and fit , not all men are bulky . ',\n 'listen ... i love lil b but i would not fuck with dej loaf at all . she prob got poison up in her nail polish like that bitch from holes ',\n '@user @user keep calling her a bitch and a whore dude real grown up . ']"
     },
     "metadata": {}
    }
   ]
  },
  {
   "cell_type": "markdown",
   "source": "3. Once you’re done, compare your tokeniser’s output with the baseline tokenisation\nyou get from the social media tokeniser in the NLTK library (nltk.tokenize.TweetTokenizer), using the data you’ve set aside for this purpose.",
   "metadata": {
    "tags": [],
    "cell_id": "00007-ba90aa62-8537-4289-b066-6f78d12fb5d2",
    "deepnote_cell_type": "markdown"
   }
  },
  {
   "cell_type": "code",
   "metadata": {
    "tags": [],
    "cell_id": "00008-490dca95-88e0-4dd1-8fc5-0656573dbb9f",
    "deepnote_to_be_reexecuted": false,
    "source_hash": "4cc862ba",
    "execution_start": 1620390354671,
    "execution_millis": 4,
    "deepnote_cell_type": "code"
   },
   "source": "#TweetTokenizer(hate_train)\ntknzr = TweetTokenizer()\ntokens_homemade = [tokenize_line(hate_train_tokenize[i].strip()) for i in range(20)]\ntokens_nltk = [' '.join(tknzr.tokenize(hate_train_tokenize[i])) for i in range(20)]",
   "execution_count": null,
   "outputs": []
  },
  {
   "cell_type": "code",
   "metadata": {
    "tags": [],
    "cell_id": "00012-b6e8dd00-617d-436b-b88f-ec84bb359020",
    "deepnote_to_be_reexecuted": false,
    "source_hash": "24470fd9",
    "execution_start": 1620390354828,
    "execution_millis": 6,
    "deepnote_cell_type": "code"
   },
   "source": "print(tokens_homemade)\nprint(tokens_nltk)\n[i for i in ndiff(tokens_homemade, tokens_nltk)]",
   "execution_count": null,
   "outputs": [
    {
     "name": "stdout",
     "text": "['@user nice new signage . Are you not concerned by Beatlemania - style hysterical crowds crongregating on you …', 'A woman who you fucked multiple times saying yo dick small is a compliment you know u hit that spot 😎', '@user @user real talk do you have eyes or were they gouged out by a rapefugee ?', 'your girlfriend lookin at me like a groupie in this bitch !', 'Hysterical woman like @user', 'Me flirting - So tell me about your father ...', 'The Philippine Catholic bishops \\' work for migrant workers should focus on families who are \" paying the great ...', \"I AM NOT GOING AFTER YOUR EX BF YOU LIEING SACK OF SHIT ! I ' m done with you dude that ' s why I dumped your ass cause your a lieing 😂😡 bitch\", 'When cuffin season is finally over', 'Send home migrants not in need of protection , Peter Dutton tells UN , HEY DUTTON HOW ABOUT THE ONES THAT HAVE STAYED AND NOT LEFT THE COUNTRY WHEN THEY SHOULD OVERSTAYERS ? WHY DONT YOU GO AND ROUND ALL THEM UP ?', 'Cory Booker and Kamala Harris competing for Most Hysterical Woman at the Kavanaugh hearings , Coulter hilariously tweeted . And yes , liberals immediately got triggered on Twitter , saying her joke was offensive . To them we say , suck it up , snowflakes .', \"Only that in you which is me can hear what I ' m saying . ~ Baba Ram Dass\", \"Should have let the Libyan Manchester bomber rot in his own country . How many more mass murderers did the Royal Navy import to Britain ? How many more terrorists do the NGO ' s rescue from international waters ? #RefugeesNotWelcome\", 'More migrants take sea route to #Spain than Italy this year : UN', 'Essential reading for those in Scribner , Nebraska who are considering an anti - immigrant ballot measure .', 'This account was temporarily inactive due to an irrational woman reporting us to Twitter . What a lack of judgement , shocking . #YesAllMen', 'RT @user @user I am flattered tbh . I got an orgasm just by thinking of it you really are good at this .', 'Making them look ~ anatomically correct ~ just makes them ... Bland . Not all women are tiny and fit , not all men are bulky .', 'listen ... i love lil b but i would not fuck with dej loaf at all . she prob got poison up in her nail polish like that bitch from holes', '@user @user keep calling her a bitch and a whore dude real grown up .']\n['@user nice new signage . Are you not concerned by Beatlemania - style hysterical crowds crongregating on you …', 'A woman who you fucked multiple times saying yo dick small is a compliment you know u hit that spot 😎', '@user @user real talk do you have eyes or were they gouged out by a rapefugee ?', 'your girlfriend lookin at me like a groupie in this bitch !', 'Hysterical woman like @user', 'Me flirting - So tell me about your father ...', 'The Philippine Catholic bishops \\' work for migrant workers should focus on families who are \" paying the great ...', \"I AM NOT GOING AFTER YOUR EX BF YOU LIEING SACK OF SHIT ! I'm done with you dude that's why I dumped your ass cause your a lieing 😂 😡 bitch\", 'When cuffin season is finally over', 'Send home migrants not in need of protection , Peter Dutton tells UN , HEY DUTTON HOW ABOUT THE ONES THAT HAVE STAYED AND NOT LEFT THE COUNTRY WHEN THEY SHOULD OVERSTAYERS ? WHY DONT YOU GO AND ROUND ALL THEM UP ?', 'Cory Booker and Kamala Harris competing for Most Hysterical Woman at the Kavanaugh hearings , Coulter hilariously tweeted.And yes , liberals immediately got triggered on Twitter , saying her joke was offensive . To them we say , suck it up , snowflakes .', \"Only that in you which is me can hear what I'm saying . ~ Baba Ram Dass\", \"Should have let the Libyan Manchester bomber rot in his own country . How many more mass murderers did the Royal Navy import to Britain ? How many more terrorists do the NGO's rescue from international waters ? #RefugeesNotWelcome\", 'More migrants take sea route to #Spain than Italy this year : UN', 'Essential reading for those in Scribner , Nebraska who are considering an anti-immigrant ballot measure .', 'This account was temporarily inactive due to an irrational woman reporting us to Twitter . What a lack of judgement , shocking . #YesAllMen', 'RT @user @user I am flattered tbh . I got an orgasm just by thinking of it you really are good at this .', 'Making them look ~ anatomically correct ~ just makes them ... Bland . Not all women are tiny and fit , not all men are bulky .', 'listen ... i love lil b but i would not fuck with dej loaf at all . she prob got poison up in her nail polish like that bitch from holes', '@user @user keep calling her a bitch and a whore dude real grown up .']\n",
     "output_type": "stream"
    },
    {
     "output_type": "execute_result",
     "execution_count": 12,
     "data": {
      "text/plain": "['  @user nice new signage . Are you not concerned by Beatlemania - style hysterical crowds crongregating on you …',\n '  A woman who you fucked multiple times saying yo dick small is a compliment you know u hit that spot 😎',\n '  @user @user real talk do you have eyes or were they gouged out by a rapefugee ?',\n '  your girlfriend lookin at me like a groupie in this bitch !',\n '  Hysterical woman like @user',\n '  Me flirting - So tell me about your father ...',\n '  The Philippine Catholic bishops \\' work for migrant workers should focus on families who are \" paying the great ...',\n \"- I AM NOT GOING AFTER YOUR EX BF YOU LIEING SACK OF SHIT ! I ' m done with you dude that ' s why I dumped your ass cause your a lieing 😂😡 bitch\",\n '?                                                            - -                         - -\\n',\n \"+ I AM NOT GOING AFTER YOUR EX BF YOU LIEING SACK OF SHIT ! I'm done with you dude that's why I dumped your ass cause your a lieing 😂 😡 bitch\",\n '?                                                                                                                                    +\\n',\n '  When cuffin season is finally over',\n '  Send home migrants not in need of protection , Peter Dutton tells UN , HEY DUTTON HOW ABOUT THE ONES THAT HAVE STAYED AND NOT LEFT THE COUNTRY WHEN THEY SHOULD OVERSTAYERS ? WHY DONT YOU GO AND ROUND ALL THEM UP ?',\n '- Cory Booker and Kamala Harris competing for Most Hysterical Woman at the Kavanaugh hearings , Coulter hilariously tweeted . And yes , liberals immediately got triggered on Twitter , saying her joke was offensive . To them we say , suck it up , snowflakes .',\n '?                                                                                                                          - -\\n',\n '+ Cory Booker and Kamala Harris competing for Most Hysterical Woman at the Kavanaugh hearings , Coulter hilariously tweeted.And yes , liberals immediately got triggered on Twitter , saying her joke was offensive . To them we say , suck it up , snowflakes .',\n \"- Only that in you which is me can hear what I ' m saying . ~ Baba Ram Dass\",\n '?                                             - -\\n',\n \"+ Only that in you which is me can hear what I'm saying . ~ Baba Ram Dass\",\n \"- Should have let the Libyan Manchester bomber rot in his own country . How many more mass murderers did the Royal Navy import to Britain ? How many more terrorists do the NGO ' s rescue from international waters ? #RefugeesNotWelcome\",\n '?                                                                                                                                                                              - ^^^^^^^^^\\n',\n \"+ Should have let the Libyan Manchester bomber rot in his own country . How many more mass murderers did the Royal Navy import to Britain ? How many more terrorists do the NGO's rescue from international waters ? #RefugeesNotWelcome\",\n '?                                                                                                                                                                               ^^^^^^^^\\n',\n '  More migrants take sea route to #Spain than Italy this year : UN',\n '- Essential reading for those in Scribner , Nebraska who are considering an anti - immigrant ballot measure .',\n '?                                                                               - -\\n',\n '+ Essential reading for those in Scribner , Nebraska who are considering an anti-immigrant ballot measure .',\n '  This account was temporarily inactive due to an irrational woman reporting us to Twitter . What a lack of judgement , shocking . #YesAllMen',\n '  RT @user @user I am flattered tbh . I got an orgasm just by thinking of it you really are good at this .',\n '  Making them look ~ anatomically correct ~ just makes them ... Bland . Not all women are tiny and fit , not all men are bulky .',\n '  listen ... i love lil b but i would not fuck with dej loaf at all . she prob got poison up in her nail polish like that bitch from holes',\n '  @user @user keep calling her a bitch and a whore dude real grown up .']"
     },
     "metadata": {}
    }
   ]
  },
  {
   "cell_type": "markdown",
   "source": "4. Consider using the difflib package in Python, or the diff utility in the Unix shell, to compare the output of the two tokenisers efficiently.",
   "metadata": {
    "tags": [],
    "cell_id": "00009-50d0aa6c-8241-4ab7-8317-1fbf6612264c",
    "deepnote_cell_type": "markdown"
   }
  },
  {
   "cell_type": "markdown",
   "source": "## Task 2",
   "metadata": {
    "tags": [],
    "cell_id": "00014-34b7376f-dbc6-4c11-a910-b56bc8bd17b8",
    "deepnote_cell_type": "markdown"
   }
  },
  {
   "cell_type": "markdown",
   "source": "Characterise the training sets of the two tasks you’ve chosen in terms of elementary corpus\nstatistics:",
   "metadata": {
    "tags": [],
    "cell_id": "00015-43cc2031-ca35-45a0-aabe-ea818e185d7d",
    "deepnote_cell_type": "markdown"
   }
  },
  {
   "cell_type": "markdown",
   "source": "• Corpus size, vocabulary size, type/token ratio.",
   "metadata": {
    "tags": [],
    "cell_id": "00016-c93ebcd6-e009-4dc0-a967-652a6dc8e935",
    "deepnote_cell_type": "markdown"
   }
  },
  {
   "cell_type": "code",
   "metadata": {
    "tags": [],
    "cell_id": "00017-9aebaaac-e461-4675-8ddf-418c09a35812",
    "deepnote_to_be_reexecuted": false,
    "source_hash": "b623e53d",
    "execution_start": 1620391936547,
    "execution_millis": 1,
    "deepnote_cell_type": "code"
   },
   "source": "",
   "execution_count": null,
   "outputs": []
  },
  {
   "cell_type": "markdown",
   "source": "• What are the most frequent tokens?",
   "metadata": {
    "tags": [],
    "cell_id": "00018-17d031ac-f509-4c59-8da7-6358c8aecce8",
    "deepnote_cell_type": "markdown"
   }
  },
  {
   "cell_type": "code",
   "metadata": {
    "tags": [],
    "cell_id": "00019-02cb5325-385a-420e-be55-71cad7147dff",
    "deepnote_cell_type": "code"
   },
   "source": "",
   "execution_count": null,
   "outputs": []
  },
  {
   "cell_type": "markdown",
   "source": "• What types of tokens occur only once, or 2 or 3 times?",
   "metadata": {
    "tags": [],
    "cell_id": "00020-83d4adc5-1aea-49fb-8510-3c58672b07c0",
    "deepnote_cell_type": "markdown"
   }
  },
  {
   "cell_type": "code",
   "metadata": {
    "tags": [],
    "cell_id": "00015-1d17128c-7c47-4958-8430-826129dd10cd",
    "deepnote_cell_type": "code"
   },
   "source": "",
   "execution_count": null,
   "outputs": []
  },
  {
   "cell_type": "markdown",
   "source": "• Are there any noticeable differences between your two datasets?\n",
   "metadata": {
    "tags": [],
    "cell_id": "00022-38189f35-5ce4-4964-9ae6-91533ce12c06",
    "deepnote_cell_type": "markdown"
   }
  },
  {
   "cell_type": "code",
   "metadata": {
    "tags": [],
    "cell_id": "00023-31918f0a-bcb4-44a0-aa95-9e82daabb189",
    "deepnote_cell_type": "code"
   },
   "source": "",
   "execution_count": null,
   "outputs": []
  },
  {
   "cell_type": "markdown",
   "source": "• Are the corpus statistics consistent with Zipf’s law? (no formal test needed, but a plot\nwould be helpful)",
   "metadata": {
    "tags": [],
    "cell_id": "00023-57967e6f-64fc-4e7b-869b-c1e850884a8f",
    "deepnote_cell_type": "markdown"
   }
  },
  {
   "cell_type": "markdown",
   "source": "## Exercise 2",
   "metadata": {
    "tags": [],
    "cell_id": "00006-fe906622-f7e5-4d56-8af6-00e3e16cf078",
    "deepnote_cell_type": "markdown"
   }
  },
  {
   "cell_type": "markdown",
   "source": "Exercise: N-gram Language Modelling <br>\n\nIn this exercise, you will get familiar with n-gram language models using the\nnltk library.<br>\n\nYou can work with the corpora from the two tasks you selected for your project.\nAdditionally, you can download a dataset of news editorials collected and\ndistributed by the organisers of the Conference on Machine Translation from\nhere:\nhttp://data.statmt.org/news-commentary/v16/training-monolingual/news-commentary-v16.en.gz <br>\n\nThis is a sizeable data set (albeit still quite small by the standards of the\nNLP community), and if you find that your computer becomes intolerably slow or\nruns into memory problems, you can just use a subset of the corpus for the\nexercises.<br>",
   "metadata": {
    "tags": [],
    "cell_id": "00007-150da941-6517-4865-998d-1a28e8f33900",
    "deepnote_cell_type": "markdown"
   }
  },
  {
   "cell_type": "markdown",
   "source": "\n1. Remove a subset of about 5000 sentences from the news commentary dataset to\nbe used for evaluation. For the TweetEval datasets, you can use the standard\ntraining/validation split. <br>\n\n",
   "metadata": {
    "tags": [],
    "cell_id": "00008-800772e4-47ee-46a7-bc2b-78f84012b681",
    "deepnote_cell_type": "markdown"
   }
  },
  {
   "cell_type": "code",
   "metadata": {
    "tags": [],
    "cell_id": "00009-d530dda5-b60d-450a-916d-0ca0df0a9ad6",
    "deepnote_to_be_reexecuted": false,
    "source_hash": "cc83cd54",
    "execution_start": 1620390355406,
    "execution_millis": 800,
    "deepnote_cell_type": "code"
   },
   "source": "# Loading in the data\nnews_commentary = open(\"news-commentary-v16.en\", \"r\", encoding=\"utf-8\").read()",
   "execution_count": null,
   "outputs": []
  },
  {
   "cell_type": "code",
   "metadata": {
    "tags": [],
    "cell_id": "00018-cf0b8ccc-7be6-4127-a583-baea28706912",
    "deepnote_to_be_reexecuted": false,
    "source_hash": "9d9bfdb7",
    "execution_start": 1620390356209,
    "execution_millis": 24696,
    "deepnote_cell_type": "code"
   },
   "source": "news_commentary = nltk.sent_tokenize(news_commentary)\n",
   "execution_count": null,
   "outputs": []
  },
  {
   "cell_type": "code",
   "metadata": {
    "tags": [],
    "cell_id": "00019-b34e263b-7272-4d22-8d77-6add9f636f2e",
    "deepnote_to_be_reexecuted": false,
    "source_hash": "44ddf78a",
    "execution_start": 1620390750323,
    "execution_millis": 9,
    "deepnote_cell_type": "code"
   },
   "source": "len(news_commentary)",
   "execution_count": null,
   "outputs": [
    {
     "output_type": "execute_result",
     "execution_count": 22,
     "data": {
      "text/plain": "616250"
     },
     "metadata": {}
    }
   ]
  },
  {
   "cell_type": "code",
   "metadata": {
    "tags": [],
    "cell_id": "00019-948ef9af-60db-4b20-b08c-c805903a6638",
    "deepnote_to_be_reexecuted": false,
    "source_hash": "4677954b",
    "execution_start": 1620391015189,
    "execution_millis": 55,
    "deepnote_cell_type": "code"
   },
   "source": "d = {'sentences': news_commentary[5000:10000]}\ne = {'evaluation': news_commentary[:5000]}\n\npd_news5k = pd.DataFrame(d)\npd_news5k",
   "execution_count": null,
   "outputs": [
    {
     "output_type": "execute_result",
     "execution_count": 26,
     "data": {
      "application/vnd.deepnote.dataframe.v2+json": {
       "row_count": 5000,
       "column_count": 1,
       "columns": [
        {
         "name": "sentences",
         "dtype": "object",
         "stats": {
          "unique_count": 4868,
          "nan_count": 0,
          "categories": [
           {
            "name": "Following its targeted killing of Iran's second most powerful leader, the US could well find itself with no alternative but to devote more military resources to the Middle East, a path that could lead to additional Iranian provocations.",
            "count": 18
           },
           {
            "name": "And that shift would occur at a time of growing challenges to US interests elsewhere in the world.",
            "count": 18
           },
           {
            "name": "4866 others",
            "count": 4964
           }
          ]
         }
        },
        {
         "name": "_deepnote_index_column",
         "dtype": "int64"
        }
       ],
       "rows_top": [
        {
         "sentences": "They have lived through countless trials, endured innumerable twists of fate, suffered domination again and again.",
         "_deepnote_index_column": 0
        },
        {
         "sentences": "But empires have crumbled; tyrants have passed away; and their executioners have fallen into the dustbins of history.",
         "_deepnote_index_column": 1
        },
        {
         "sentences": "All the while, the Kurds have held fast, resisting the forces that wanted them to disappear.",
         "_deepnote_index_column": 2
        },
        {
         "sentences": "And today, they are approaching a milestone: a declaration of self-determination in the form of a free state in which all citizens will be able to live in liberty, their heads held high.",
         "_deepnote_index_column": 3
        },
        {
         "sentences": "The Kurdish nation was forged over centuries of pain and pride.",
         "_deepnote_index_column": 4
        },
        {
         "sentences": "It was strengthened in the course of the war against Islamist terrorism, in which the Kurds have been the civilized world’s staunchest – and sometimes solitary – spearhead.",
         "_deepnote_index_column": 5
        },
        {
         "sentences": "I know not one Peshmerga fighter who, while waging our common battle, did not have in mind the achievement of that ancestral dream of Kurdish independence.",
         "_deepnote_index_column": 6
        },
        {
         "sentences": "Mosul will be liberated; the Islamic State (ISIS) will be defeated; and, when the moment comes for the referendum that Massoud Barzani, President of Iraq’s Kurdistan Regional Government, has described as the inalienable right of the Kurds, the will of each citizen will be shared by all.",
         "_deepnote_index_column": 7
        },
        {
         "sentences": "Even the Kurds’ closest allies worry that recognition of a Kurdish state might upset the regional balance and pose a threat to peace.",
         "_deepnote_index_column": 8
        },
        {
         "sentences": "I believe that the contrary is true: the Kurds will be a pole of stability in a region increasingly susceptible to fanaticism and terror.",
         "_deepnote_index_column": 9
        },
        {
         "sentences": "To their eternal credit, the Kurds have defended against all odds the standards – respect for borders, for the rule of law, and for the fundamental human rights of all – that underpin stability, and that tyrants from Saddam Hussein to Bashar al-Assad have flouted.",
         "_deepnote_index_column": 10
        },
        {
         "sentences": "In a region where others create refugees, the Kurds provide a safe haven.",
         "_deepnote_index_column": 11
        },
        {
         "sentences": "Indeed, the Kurds have forged one of the region’s few examples of a vibrant democracy that upholds tolerance, cultural coexistence, and the rule of law.",
         "_deepnote_index_column": 12
        },
        {
         "sentences": "In what other part of the Muslim Middle East does one find such a strong belief in a geopolitical order that tends toward peace, not war; favors reconciliation over ancient hatreds; and prefers respect for the other to a war of civilizations?",
         "_deepnote_index_column": 13
        },
        {
         "sentences": "For these reasons, I believe very deeply that, in this stormy region, swept by so many ill winds, threatened by the worst of ideologies and by the violence that accompanies them, the rebirth of an independent Kurdish nation and state will mark an advance.",
         "_deepnote_index_column": 14
        },
        {
         "sentences": "It will be an advance that helps to dispel from the region the terrible genies of disintegration, chaos, and bloody convulsion.",
         "_deepnote_index_column": 15
        },
        {
         "sentences": "What kind of nation-state will the ancient Kurdish people make?",
         "_deepnote_index_column": 16
        },
        {
         "sentences": "It will be small – a nation of only several million – but that will not make it fragile or weak.",
         "_deepnote_index_column": 17
        },
        {
         "sentences": "History offers many examples of what the writer Milan Kundera has called “small nations” that are solid and strong, because their people are united in the face of their powerful neighbors.",
         "_deepnote_index_column": 18
        },
        {
         "sentences": "When it came time to defend the nation, the sword has always been close to the plow.",
         "_deepnote_index_column": 19
        },
        {
         "sentences": "They are nations of citizens united by their history and spirit, rather than ethnicity, a sense of superiority, or an arrogant identity.",
         "_deepnote_index_column": 20
        },
        {
         "sentences": "The Kurds are such a nation: a people of volunteers who know why they fight, a people who, from the humblest to the greatest, from the Peshmerga regular to the loftiest of Kurdish commanders, does not hesitate to take up arms to discourage or to dismantle despotism – and not only on their behalf.",
         "_deepnote_index_column": 21
        },
        {
         "sentences": "They have been soldiers of freedom who kept Christians from being purged from the last place in the world where the language of Christ is still spoken, while defending the principle of equality of the sexes, even in combat – a principle that is the hallmark of great civilizations.",
         "_deepnote_index_column": 22
        },
        {
         "sentences": "For all these reasons, I believe that a Kurdish nation-state will be a force for peace, not disorder, in the Middle East, a stormy region that is threatened by the worst of ideologies and by the violence that they beget.",
         "_deepnote_index_column": 23
        },
        {
         "sentences": "I believe that the Kurds will build a strong and solid state that helps to return the awful genies of violent extremism, tyranny, and disintegration to their bottles.",
         "_deepnote_index_column": 24
        },
        {
         "sentences": "Furthermore, this new Kurdish nation-state will be a safe haven and a shared home for a people that has been scattered by the cruelties of history.",
         "_deepnote_index_column": 25
        },
        {
         "sentences": "It will help to unite a people long divided not just by scheming enemies, but also by deep disagreement over what it means to be a Kurd.",
         "_deepnote_index_column": 26
        },
        {
         "sentences": "Like one of the world’s greatest nations – though one currently debased by those who purport to lead it – the Kurdish nation-state will be a “shining city on a hill,” a luminous lodestar for the lost sons and daughters of Kurdistan, and a source of hope for all of the world’s dispossessed and displaced.",
         "_deepnote_index_column": 27
        },
        {
         "sentences": "As such, the Kurds should never be afraid to proclaim their vocation – a vocation which is both universal and, if the words have any meaning at all, truly internationalist.",
         "_deepnote_index_column": 28
        },
        {
         "sentences": "The very voices of the Kurds embody this.",
         "_deepnote_index_column": 29
        },
        {
         "sentences": "One thing that has struck me in the course of my frequent visits to Kurdistan is that the Kurds are a multilingual people.",
         "_deepnote_index_column": 30
        },
        {
         "sentences": "In addition to Kurdish – their mother tongue, rich with ancient culture – they speak the languages acquired in exile.",
         "_deepnote_index_column": 31
        },
        {
         "sentences": "Like the French nation, which was enriched over the centuries by immigrants and oppressed peoples, the Kurds are diverse in origin and cosmopolitan in outlook.",
         "_deepnote_index_column": 32
        },
        {
         "sentences": "Their provision of refuge for persecuted Yezidi and Christian communities is further proof of this.",
         "_deepnote_index_column": 33
        },
        {
         "sentences": "Today’s populist wreckers across the West deny it, but “internationalism” is a beautiful idea.",
         "_deepnote_index_column": 34
        },
        {
         "sentences": "For two centuries, it has been the animating spirit of so many battles for freedom, and has inspired so much courage, resistance, sacrifice, and nobility, and so many beautiful writings.",
         "_deepnote_index_column": 35
        },
        {
         "sentences": "Despite the traps into which it has sometimes fallen and become entangled, internationalism has nourished the best of what “the West” has represented.",
         "_deepnote_index_column": 36
        },
        {
         "sentences": "One of Kurdistan’s merits is to have kept alive the flame of internationalism in a benighted region.",
         "_deepnote_index_column": 37
        },
        {
         "sentences": "Reflect for a moment on the Kurds’ battle against ISIS, which they have waged not only for themselves and their safety, but also on behalf of the rest of the world.",
         "_deepnote_index_column": 38
        },
        {
         "sentences": "The Kurds have acted as internationalists, while also being internationalists in heart and soul.",
         "_deepnote_index_column": 39
        },
        {
         "sentences": "So the Kurds will soon – very soon, I hope – be free, with their own independent nation-state.",
         "_deepnote_index_column": 40
        },
        {
         "sentences": "But, after that, they will be surrounded by powerful neighbors that will, one expects, be hostile toward them – not least because of the precedent Kurdish independence sets.",
         "_deepnote_index_column": 41
        },
        {
         "sentences": "Free Kurdistan will be a living reproach to the many false nations, anti-nations, and prison nations across the Middle East, in which Kurds, among others, remain confined.",
         "_deepnote_index_column": 42
        },
        {
         "sentences": "Confronted with the new tests and challenges that are bound to stem from that reproach – challenges that independence alone will not suffice to surmount – the Kurdish people must recognize that they are likely to find themselves as alone as they have ever been in their long history.",
         "_deepnote_index_column": 43
        },
        {
         "sentences": "Charles de Gaulle once said that a people has no friends, and, alas, the Kurds will find out soon enough that today’s friends will not always be their friends.",
         "_deepnote_index_column": 44
        },
        {
         "sentences": "It may happen that they prefer their supposed world order to friendship, justice, and the cause of true stability and peace.",
         "_deepnote_index_column": 45
        },
        {
         "sentences": "The Kurds are preparing for this.",
         "_deepnote_index_column": 46
        },
        {
         "sentences": "And, fortunately, there are also millions of men and women abroad, in France and throughout the world, who believed in Kurdistan when governments wanted nothing to do with it.",
         "_deepnote_index_column": 47
        },
        {
         "sentences": "That sort of friendship – the support offered by so many of the world’s citizens – is much more constant.",
         "_deepnote_index_column": 48
        },
        {
         "sentences": "Friends like that will never fail.",
         "_deepnote_index_column": 49
        },
        {
         "sentences": "A Death of One’s Own\nPRINCETON – Dudley Clendinen, a writer and journalist, has amyotrophic lateral sclerosis (ALS), a terminal degenerative illness.",
         "_deepnote_index_column": 50
        },
        {
         "sentences": "In The New York Times earlier this year, he wrote movingly both of his current enjoyment of his life, and of his plan to end it when, as he put it, “the music stops – when I can’t tie my bow tie, tell a funny story, walk my dog, talk with Whitney, kiss someone special, or tap out lines like this.”\nA friend told Clendinen that he needed to buy a gun.",
         "_deepnote_index_column": 51
        },
        {
         "sentences": "In the United States, you can buy a gun and put a bullet through your brain without breaking any laws.",
         "_deepnote_index_column": 52
        },
        {
         "sentences": "But if you are a law-abiding person who is already too ill to buy a gun, or to use one, or if shooting yourself doesn’t strike you as a peaceful and dignified way to end your life, or if you just don’t want to leave a mess for others to clean up, what are you to do?",
         "_deepnote_index_column": 53
        },
        {
         "sentences": "You can’t ask someone else to shoot you, and, in most countries, if you tell your doctor that you have had enough, and that you would like his or her assistance in dying, you are asking your doctor to commit a crime.",
         "_deepnote_index_column": 54
        },
        {
         "sentences": "Last month, an expert panel of the Royal Society of Canada, chaired by Udo Schüklenk, a professor of bioethics at Queens University, released a report on decision-making at the end of life.",
         "_deepnote_index_column": 55
        },
        {
         "sentences": "The report provides a strong argument for allowing doctors to help their patients to die, provided that the patients are competent and freely request such assistance.",
         "_deepnote_index_column": 56
        },
        {
         "sentences": "The ethical basis of the panel’s argument is not so much the avoidance of unnecessary suffering in terminally ill patients, but rather the core value of individual autonomy or self-determination.",
         "_deepnote_index_column": 57
        },
        {
         "sentences": "“The manner of our dying,” the panel concludes, “reflects our sense of what is important just as much as do the other central decisions in our lives.”\nIn a state that protects individual rights, therefore, deciding how to die ought to be recognized as such a right.",
         "_deepnote_index_column": 58
        },
        {
         "sentences": "The report also offers an up-to-date review of how assistance by physicians in ending life is working in the “living laboratories” – the jurisdictions where it is legal.",
         "_deepnote_index_column": 59
        },
        {
         "sentences": "In Switzerland, as well as in the US states of Oregon, Washington, and Montana, the law now permits physicians, on request, to supply a terminally ill patient with a prescription for a drug that will bring about a peaceful death.",
         "_deepnote_index_column": 60
        },
        {
         "sentences": "In The Netherlands, Belgium, and Luxembourg, doctors have the additional option of responding to the patient’s request by giving the patient a lethal injection.",
         "_deepnote_index_column": 61
        },
        {
         "sentences": "The panel examined reports from each of these jurisdictions, with the exception of Montana (where legalization of assistance in dying occurred only in 2009, and reliable data are not yet available).",
         "_deepnote_index_column": 62
        },
        {
         "sentences": "In The Netherlands, voluntary euthanasia accounted for 1.7% of all deaths in 2005 – exactly the same level as in 1990.",
         "_deepnote_index_column": 63
        },
        {
         "sentences": "Moreover, the frequency of ending a patient’s life without an explicit request from the patient fell by half during the same period, from 0.8% to 0.4%.",
         "_deepnote_index_column": 64
        },
        {
         "sentences": "Indeed, several surveys suggest that ending a patient’s life without an explicit request is much more common in other countries, where patients cannot lawfully ask a doctor to end their lives.",
         "_deepnote_index_column": 65
        },
        {
         "sentences": "In Belgium, although voluntary euthanasia rose from 1.1% of all deaths in 1998 to 1.9% in 2007, the frequency of ending a patient’s life without an explicit request fell from 3.2% to 1.8%.",
         "_deepnote_index_column": 66
        },
        {
         "sentences": "In Oregon, where the Death with Dignity Act has been in effect for 13 years, the annual number of physician-assisted deaths has yet to reach 100 per year, and the annual total in Washington is even lower.",
         "_deepnote_index_column": 67
        },
        {
         "sentences": "The Canadian panel therefore concluded that there is strong evidence to rebut one of the greatest fears that opponents of voluntary euthanasia or physician-assisted dying often voice – that it is the first step down a slippery slope towards more widespread medical killing.",
         "_deepnote_index_column": 68
        },
        {
         "sentences": "The panel also found inadequate several other objections to legalization, and recommended that the law in Canada be changed to permit both physician-assisted suicide and voluntary euthanasia.",
         "_deepnote_index_column": 69
        },
        {
         "sentences": "Surveys show that more than two-thirds of Canadians support legalization of voluntary euthanasia – a level that has held steady for several decades.",
         "_deepnote_index_column": 70
        },
        {
         "sentences": "So it is not surprising that the report received strong backing in the mainstream Canadian media.",
         "_deepnote_index_column": 71
        },
        {
         "sentences": "What is more puzzling is the cool response from the country’s political parties, none of which indicated a willingness to support law reform in this area.",
         "_deepnote_index_column": 72
        },
        {
         "sentences": "There is a similar contrast between public opinion and political (in)action elsewhere, including the United Kingdom, Australia, New Zealand, and several continental European countries.",
         "_deepnote_index_column": 73
        },
        {
         "sentences": "Why, when it comes to dying, do democratic institutions so often fail to translate what people want into legislation?",
         "_deepnote_index_column": 74
        },
        {
         "sentences": "I suspect that, above all, mainstream politicians fear religious institutions that oppose voluntary euthanasia, even though individual believers often do not follow their religious leaders’ views.",
         "_deepnote_index_column": 75
        },
        {
         "sentences": "Polls in various countries have shown that a majority of Roman Catholics, for example, support legalization of voluntary euthanasia.",
         "_deepnote_index_column": 76
        },
        {
         "sentences": "Even in strongly Catholic Poland, more people now support legalization than oppose it.",
         "_deepnote_index_column": 77
        },
        {
         "sentences": "In any case, the religious beliefs of a minority should not deny individuals like Dudley Clendinen the right to end their lives in the manner of their own choosing.",
         "_deepnote_index_column": 78
        },
        {
         "sentences": "The Development Costs of Homophobia\nLONDON – As a gay man living in Nigeria, my biggest challenge was choosing between my sexuality and my job.",
         "_deepnote_index_column": 79
        },
        {
         "sentences": "In 2004, I was at the start of my acting career.",
         "_deepnote_index_column": 80
        },
        {
         "sentences": "I had just left university, and I was featured in “Roses and Thorns,” a prime-time soap opera on Galaxy Television, one of Nigeria’s most popular TV stations.",
         "_deepnote_index_column": 81
        },
        {
         "sentences": "I was playing the role of “Richard,” the only son of a rich family who was having an affair with the house maid.",
         "_deepnote_index_column": 82
        },
        {
         "sentences": "Whispers were making the rounds about my private life, and I decided it was time to come out.",
         "_deepnote_index_column": 83
        },
        {
         "sentences": "So I agreed to go on Nigeria’s most-watched television talk show to discuss my sexuality.",
         "_deepnote_index_column": 84
        },
        {
         "sentences": "Almost immediately, my character was eliminated.",
         "_deepnote_index_column": 85
        },
        {
         "sentences": "And when my job disappeared, so did my financial security.",
         "_deepnote_index_column": 86
        },
        {
         "sentences": "Like many gay men and lesbians in Africa, my choice was between economic freedom and mental imprisonment.",
         "_deepnote_index_column": 87
        },
        {
         "sentences": "This year, Nigeria and Uganda put in place draconian anti-gay laws, sparking a worldwide debate about human rights.",
         "_deepnote_index_column": 88
        },
        {
         "sentences": "This debate has also started at the World Bank, whose president, Jim Yong Kim, recently declared that “institutionalized discrimination is bad for people and for societies.”\nKim’s statement has invited criticism and controversy.",
         "_deepnote_index_column": 89
        },
        {
         "sentences": "Often, as in Uganda and Nigeria, we hear the claim that opposition to official discrimination against gay, lesbian, bisexual, and transgender (LGBT) people is simply a way to impose “Western” values on Africa.",
         "_deepnote_index_column": 90
        },
        {
         "sentences": "But this assumes that homosexuality is “un-African.”\nAnd, despite the absence of evidence that any given country or continent does not have LGBT people (and ample evidence to the contrary), it is an assumption that an increasing number of African leaders have embraced.",
         "_deepnote_index_column": 91
        },
        {
         "sentences": "In 2006, President Olusegun Obasanjo, then Nigeria’s president, was among the first to do so.",
         "_deepnote_index_column": 92
        },
        {
         "sentences": "Uganda’s President Yoweri Museveni followed suit when signing the anti-gay bill into law in 2014.",
         "_deepnote_index_column": 93
        },
        {
         "sentences": "Other leaders, from Gambia’s President Yahya Jammeh to Zimbabwe’s Robert Mugabe, have spoken in the same vein.",
         "_deepnote_index_column": 94
        },
        {
         "sentences": "These official attitudes have caused significant suffering for Africa’s gays and lesbians.",
         "_deepnote_index_column": 95
        },
        {
         "sentences": "Indeed, the price of homophobia for gay people in many African countries is painfully clear: legal penalties, social ostracism, and mob justice.",
         "_deepnote_index_column": 96
        },
        {
         "sentences": "But here is what Africa’s anti-gay leaders miss: legal protections are not only a human-rights issue, but also an economic issue.",
         "_deepnote_index_column": 97
        },
        {
         "sentences": "Kim is exactly right, and research has started measuring the economic costs of homophobia by exploring links between anti-gay sentiment and poverty in countries where laws and social attitudes proscribe same-sex relationships.",
         "_deepnote_index_column": 98
        },
        {
         "sentences": "M.V.",
         "_deepnote_index_column": 99
        },
        {
         "sentences": "Lee Badgett, an economist at the University of Massachusetts-Amherst, presented the initial findings of a study of the economic implications of homophobia in India at a World Bank meeting in March 2014.",
         "_deepnote_index_column": 100
        },
        {
         "sentences": "Badgett estimated that the Indian economy may have lost up to $23.1 billion in 2012 in direct health costs alone, owing to depression, suicide, and HIV treatment disparities caused by anti-gay stigma and discrimination.",
         "_deepnote_index_column": 101
        },
        {
         "sentences": "In addition to such concrete costs, being gay can bring violence, job loss, family rejection, harassment in schools, and pressure to marry.",
         "_deepnote_index_column": 102
        },
        {
         "sentences": "As a result, many gay people have less education, lower productivity, lower earnings, poorer health, and a shorter life expectancy.",
         "_deepnote_index_column": 103
        },
        {
         "sentences": "In Nigeria, I started the Independent Project for Equal Rights (TIERs) in 2005 to respond to the increasing number of people who were losing their jobs because of suspicions about their sexuality.",
         "_deepnote_index_column": 104
        },
        {
         "sentences": "During our first year, we provided support for dozens of people.",
         "_deepnote_index_column": 105
        },
        {
         "sentences": "One young man, “Olumide,” was given temporary housing after his family kicked him out for being gay.",
         "_deepnote_index_column": 106
        },
        {
         "sentences": "Another, “Uche,” was fired from his job as a chef after his sexuality was revealed.",
         "_deepnote_index_column": 107
        },
        {
         "sentences": "TIERs helped him with accommodation and capital to set up a catering business.",
         "_deepnote_index_column": 108
        },
        {
         "sentences": "Though almost 10 years have passed, it is still not safe to use their real names.",
         "_deepnote_index_column": 109
        },
        {
         "sentences": "Across Africa, the economic costs of discrimination are increasing, in line with growing pressure on employers, landlords, health-care providers, educational institutions, and others to exclude LGBT people.",
         "_deepnote_index_column": 110
        },
        {
         "sentences": "Today, the World Bank and other development agencies are mapping out the global development priorities that will follow the Millennium Development Goals (MDGs), which officially end in 2015 and included specific targets for promoting gender equality and empowering women as a strategy for economic growth.",
         "_deepnote_index_column": 111
        },
        {
         "sentences": "Looking ahead, the Bank should take the same approach to LGBT rights and make legal protections for sexual orientation and gender identity a condition for countries receiving loans.",
         "_deepnote_index_column": 112
        },
        {
         "sentences": "Building recognition of women’s rights into the MDGs did not corrupt African cultures by imposing “Western” values; in fact, it strengthened many African countries, which now lead the world in the representation of women in government.",
         "_deepnote_index_column": 113
        },
        {
         "sentences": "By pursuing similar protections for LGBT people, international investment and aid can improve economic performance and strengthen respect for basic human rights.",
         "_deepnote_index_column": 114
        },
        {
         "sentences": "The World Bank, always wary of entangling itself in “political” questions, emphasizes that it is not a global human-rights enforcer.",
         "_deepnote_index_column": 115
        },
        {
         "sentences": "But it also increasingly recognizes its own role as a facilitator in helping Bank members realize their human-rights obligations.",
         "_deepnote_index_column": 116
        },
        {
         "sentences": "LGBT rights should be a test case.",
         "_deepnote_index_column": 117
        },
        {
         "sentences": "Aid to governments that permit specific social groups to be ostracized can carry very real economic costs.",
         "_deepnote_index_column": 118
        },
        {
         "sentences": "As new loans are considered, steps should be taken to ensure that the benefits are as inclusive as possible.",
         "_deepnote_index_column": 119
        },
        {
         "sentences": "If the Bank – which currently lends Nigeria almost $5.5 billion and expects to commit an additional $2 billion in each of the next four years – moved in this direction, other funders might follow.",
         "_deepnote_index_column": 120
        },
        {
         "sentences": "Africa’s LGBT people desperately need such powerful allies in their struggle for human and economic rights.",
         "_deepnote_index_column": 121
        },
        {
         "sentences": "A Decade of Hugo Chávez\nSAN JOSE – We should have known that something was amiss when, during President Hugo Chávez’s inauguration on February 2, 1999, he swore on Venezuela’s 40-year-old Constitution by declaring it “moribund.”\nUnder “the moribund,” as the Constitution came to be known, Venezuela not only had eight peaceful presidential transitions, but also enjoyed the fruits of democratic pluralism and strong civil and political liberties.",
         "_deepnote_index_column": 122
        },
        {
         "sentences": "Of course, during this period Venezuela produced as much corruption and political irresponsibility as it did barrels of oil.",
         "_deepnote_index_column": 123
        },
        {
         "sentences": "Nonetheless, Venezuela fared far better than the average Latin American country.",
         "_deepnote_index_column": 124
        },
        {
         "sentences": "It wasn’t Switzerland, but, by anyone’s measure, it was a genuine democracy.",
         "_deepnote_index_column": 125
        },
        {
         "sentences": "Not anymore.",
         "_deepnote_index_column": 126
        },
        {
         "sentences": "Elections are still held, but the legacy of Chávez’s decade in power consists, first and foremost, in the demolition of democratic institutions.",
         "_deepnote_index_column": 127
        },
        {
         "sentences": "Elected in a landslide to clean up the political vices of the previous establishment, Chávez chose to throw the baby out with the bathwater.",
         "_deepnote_index_column": 128
        },
        {
         "sentences": "The previous regime, including its system of checks and balances and its tradition of political tolerance, did disappear, but its vices – particularly graft and demagoguery – became worse than ever.",
         "_deepnote_index_column": 129
        },
        {
         "sentences": "Pretty much like 10 years ago, Venezuela, once a destination for immigrants from around the world, remains under-developed.",
         "_deepnote_index_column": 130
        },
        {
         "sentences": "More fundamentally, Chávez represents ideas that have long stifled Latin America’s political and economic growth.",
         "_deepnote_index_column": 131
        },
        {
         "sentences": "This includes the notion that social justice can be achieved only by abandoning the path of reform and rejecting “bourgeois” democratic forms in favor of “real” democracy, born of revolutionary purity and the leader’s millenarian dreams.",
         "_deepnote_index_column": 132
        },
        {
         "sentences": "That’s simply false.",
         "_deepnote_index_column": 133
        },
        {
         "sentences": "Though the Chávez revolution has made progress against poverty and inequality, it is hardly sustainable and reeks of patronage.",
         "_deepnote_index_column": 134
        },
        {
         "sentences": "In fact, one can find similar achievements in Chile and Brazil, which have not given up on democratic checks and balances, political pluralism, or freedom of the press, and have not enjoyed the luxury of $300 billion in oil revenue in the space of one decade.",
         "_deepnote_index_column": 135
        },
        {
         "sentences": "Moreover, it ought not to be forgotten that between 1950 and 1980, Venezuela itself reduced extreme poverty from 43% to 8% of the population, one of the lowest figures in Latin America.",
         "_deepnote_index_column": 136
        },
        {
         "sentences": "It did so with democracy and freedom.",
         "_deepnote_index_column": 137
        },
        {
         "sentences": "Chávez also repeats, ad nauseam, the idea that others are to blame for Latin America’s ills.",
         "_deepnote_index_column": 138
        },
        {
         "sentences": "This is the pernicious victimization narrative – still very popular in universities across Latin America – the late Venezuelan journalist Carlos Rangel eloquently refuted in books such as The Third World Ideology.",
         "_deepnote_index_column": 139
        },
        {
         "sentences": "It is obvious that Yankee imperialism cannot be blamed for Venezuela’s emaciated tax system, dismally bad schools, rampant corruption, high crime rate, and feeble political institutions.",
         "_deepnote_index_column": 140
        },
        {
         "sentences": "In all of these areas, Venezuela is faring poorly even by Latin America’s low standards.",
         "_deepnote_index_column": 141
        },
        {
         "sentences": "This is particularly true in the case of institutional weakness.",
         "_deepnote_index_column": 142
        },
        {
         "sentences": "When Chávez declares “moribund” a legitimate constitution, or when he proclaims l’état c’est moi by declaring a national holiday to commemorate his 10 years in power, we see eloquent examples of a homemade institutional farce that would doom any country to the ninth circle of misery.",
         "_deepnote_index_column": 143
        },
        {
         "sentences": "None of these ideas would fly, of course, in a contented nation.",
         "_deepnote_index_column": 144
        },
        {
         "sentences": "In this sense, Venezuela’s experience speaks to all of Latin America.",
         "_deepnote_index_column": 145
        },
        {
         "sentences": "The combination of economic growth (now in reverse because of the global crisis) and atrocious levels of inequality and social segmentation will continue to breed the same unmet expectations and social resentment that cleared Chávez’s path to power.",
         "_deepnote_index_column": 146
        },
        {
         "sentences": "As long as Latin America’s democracies fail to take seriously the tasks of reducing inequality, spreading opportunity, and nurturing more cohesive societies, they will continue to court disaster.",
         "_deepnote_index_column": 147
        },
        {
         "sentences": "To avoid this outcome, it is vital to purge certain reactionary and numbing beliefs, including the idea that reducing poverty obviates the need to address inequality, or that development is possible without introducing modern and progressive tax systems.",
         "_deepnote_index_column": 148
        },
        {
         "sentences": "If the tenth anniversary of Chávez’s tenure can serve as a reminder of the perils that beset unjust democracies – especially now that a new electoral cycle in Latin America looms – then Venezuela’s agonizing recent history would, at least, be redeemed.",
         "_deepnote_index_column": 149
        },
        {
         "sentences": "A Declaration of America's Interdependence\nPRAGUE: Many Americans seem overwhelmed by the feeling that, because the Soviet Empire collapsed, the dangers of war can be crossed off the list of potential risks.",
         "_deepnote_index_column": 150
        },
        {
         "sentences": "America, they say, should pay attention to its own problems, and should not get involved in a world where its attempts to do good are rewarded with ingratitude.",
         "_deepnote_index_column": 151
        },
        {
         "sentences": "Isolationism has a long tradition in America; it returns in fits and differing forms.",
         "_deepnote_index_column": 152
        },
        {
         "sentences": "Never in modern times, however, has isolationism protected America from danger; instead it delays engagement when conflagrations are ablaze.",
         "_deepnote_index_column": 153
        },
        {
         "sentences": "Eventually, America pays a thousand times more for its initial lack of interest than it would have paid had it become engaged at the outset of crisis or, better yet, even before.",
         "_deepnote_index_column": 154
        },
        {
         "sentences": "Americans pay for short-sightedness not only in larger expenditures, but with lives wasted unnecessarily.",
         "_deepnote_index_column": 155
        },
        {
         "sentences": "So isolationism is shortsighted and never pays off.",
         "_deepnote_index_column": 156
        },
        {
         "sentences": "This is all the more true when defense of the values that America stands for is more difficult now than before.",
         "_deepnote_index_column": 157
        },
        {
         "sentences": "Previously, the enemy was solitary, armed to the teeth, and quite predictable.",
         "_deepnote_index_column": 158
        },
        {
         "sentences": "The threats looming over today's world, however, are to the threat of communism as metastasis is to an isolated tumor.",
         "_deepnote_index_column": 159
        },
        {
         "sentences": "For the world is awash in dangers that are diverse, decentralized (yet intertwined), and difficult to predict .",
         "_deepnote_index_column": 160
        },
        {
         "sentences": "I believe that across the globe, America is a symbolic concentration of all the good and bad within our civilization -- from the fantastic development of science and technology, to civil liberty and strong democratic institutions, to the cult of perpetual economic growth and never-ending consumption, to the dictates of materialism and the voiding of human uniqueness by the uniformity of the round-the-clock noise of TV banality.",
         "_deepnote_index_column": 161
        },
        {
         "sentences": "For these reasons, the ways in which America assumes its global responsibilities must embody those premises that alone may save civilization as a whole: this way should be imbued with a new spirituality, a new ethos and new ethics; exactly with the things that should be adopted by all cultures, all spheres of civilization and all nations of today's world as a condition of their survival.",
         "_deepnote_index_column": 162
        },
        {
         "sentences": "What does this mean in concrete terms?",
         "_deepnote_index_column": 163
        },
        {
         "sentences": "For one thing, a respect for and understanding of the positive values inherent in other cultures.",
         "_deepnote_index_column": 164
        },
        {
         "sentences": "It also requires the courage to step out of the world of pragmatic power and defend -- non-violently -- truth and justice wherever they are violated, whether or not profitable commercial contracts are placed at risk.",
         "_deepnote_index_column": 165
        },
        {
         "sentences": "As for security matters, I believe that in cases that are beyond any doubt, America, while enjoying the general support of freedom-loving people and peaceful democracies, must have the strength to intervene with force -- that is by military means -- against evil.",
         "_deepnote_index_column": 166
        },
        {
         "sentences": "The United States cannot and must not give up this obligation, which is a very specific and extreme manifestation of its responsibility for the world.",
         "_deepnote_index_column": 167
        },
        {
         "sentences": "In the course of the Cold War America understood this, though historians argue about the situations in which it tested its competence, or the means it employed.",
         "_deepnote_index_column": 168
        },
        {
         "sentences": "It seems to me that after all the good and bad experiences America has had in the 20th century, it should understand that the most effective, most ethical, and in the end, the least expensive way of dealing with these challenges is to invest all its intellectual potential and a significant share of its material strength into what I call \"security prevention\".",
         "_deepnote_index_column": 169
        },
        {
         "sentences": "Of course: to predict and avert conflicts is more difficult than to engage and win them.",
         "_deepnote_index_column": 170
        },
        {
         "sentences": "Enlarging the North Atlantic Alliance is part of America's reckoning with its destiny.",
         "_deepnote_index_column": 171
        },
        {
         "sentences": "Some Americans now maintain that NATO enlargement makes no sense.",
         "_deepnote_index_column": 172
        },
        {
         "sentences": "Why take in countries that were part of the Communist Empire, and therefore somewhat suspect, they say, when the West faces no serious threats?",
         "_deepnote_index_column": 173
        },
        {
         "sentences": "Furthermore, NATO enlargement might allegedly be resented by a certain large Euro-Asian state and would cost taxpayers money.",
         "_deepnote_index_column": 174
        },
        {
         "sentences": "Such thoughts -- after all we have endured in the 20th century, when more than 200 million people died in wars and oncentration camps -- are naive, short-sighted, even dangerous.",
         "_deepnote_index_column": 175
        },
        {
         "sentences": "Europe is a strange continent.",
         "_deepnote_index_column": 176
        },
        {
         "sentences": "Today's civilization was born within it but so were two World Wars.",
         "_deepnote_index_column": 177
        },
        {
         "sentences": "For the first time in its history, Europe has a chance to establish its internal order on the principle of cooperation and equality of the large and the small, the strong and the weak, on shared democratic values.",
         "_deepnote_index_column": 178
        },
        {
         "sentences": "This is also a chance, once and for all, to put an end to the export of wars and coercion, and to become an example of peaceful collaboration.",
         "_deepnote_index_column": 179
        },
        {
         "sentences": "Should Europe miss this chance, we might head for a new global catastrophe, even graver than previous ones.",
         "_deepnote_index_column": 180
        },
        {
         "sentences": "For reasons I have described, this time the forces of freedom would not be facing one totalitarian enemy.",
         "_deepnote_index_column": 181
        },
        {
         "sentences": "Here would be a strange war of all against all, war with no clear-cut fronts; war difficult to distinguish from terrorism, genocide, and organized crime; war into which the whole world would be dragged by a myriad of indirect and hidden means.",
         "_deepnote_index_column": 182
        },
        {
         "sentences": "I don't mean to frighten, but anybody with a little imagination and some knowledge of what has recently been going on -- for example, in Bosnia- Herzegovina -- must understand that this is not empty talk.",
         "_deepnote_index_column": 183
        },
        {
         "sentences": "If the ongoing process of European integration were to stop at the gates of today's NATO, the consequences of such a rupture, regardless of the form it assumes, and regardless of whether they befall us in three years or fifteen, could cost much more than the two World Wars Europe \"donated\" in this century combined.",
         "_deepnote_index_column": 184
        },
        {
         "sentences": "After prolonged hesitation, the West took a step to avoid this threat in Madrid not long ago when it invited three former communist countries to join NATO.",
         "_deepnote_index_column": 185
        },
        {
         "sentences": "But this was the beginning, not the end.",
         "_deepnote_index_column": 186
        },
        {
         "sentences": "Any judicious person must admit that the cost is worthwhile, for the costliest preventive security is cheaper than the cheapest war.",
         "_deepnote_index_column": 187
        },
        {
         "sentences": "A Declaration of Independence from the US\nGeorge W. Bush is obsessed with the war on terrorism, especially with the military response to terrorism.",
         "_deepnote_index_column": 188
        },
        {
         "sentences": "American foreign policy reflects that obsession.",
         "_deepnote_index_column": 189
        },
        {
         "sentences": "This year, the US will spend around $450 billion for the military, including the costs of the Iraq War, while it will spend no more than $15 billion to overcome global poverty, global environmental degradation, and global diseases.",
         "_deepnote_index_column": 190
        },
        {
         "sentences": "In other words, US foreign policy spending is thirty times more focused on the military than on building global prosperity, global public health, and a sustainable environment.",
         "_deepnote_index_column": 191
        },
        {
         "sentences": "Throughout 2003, the world lived with Bush's obsession.",
         "_deepnote_index_column": 192
        },
        {
         "sentences": "Debate over Iraq dominated international diplomacy, and took up almost the entire UN agenda.",
         "_deepnote_index_column": 193
        },
        {
         "sentences": "The war in Iraq cost countless innocent lives, such as when the UN headquarters in Baghdad was bombed.",
         "_deepnote_index_column": 194
        },
        {
         "sentences": "At the same time, Bush's emphasis on a one-dimensional, militarized approach to global problems has fueled unrest and instability throughout the Islamic world, leading to increased terrorism in Turkey, North Africa, Saudi Arabia, and Southeast Asia.",
         "_deepnote_index_column": 195
        },
        {
         "sentences": "The nature of suffering around the world hardly justifies this narrow strategy.",
         "_deepnote_index_column": 196
        },
        {
         "sentences": "Focusing on terrorism to the exclusion of other issues, and emphasizing the military response to it, will not bring prosperity and peace, or even a significant reduction in the number of attacks.",
         "_deepnote_index_column": 197
        },
        {
         "sentences": "While 3,000 innocent people died in the US on September 11, 2001, in Africa 8,000 innocent children die every day from malaria.",
         "_deepnote_index_column": 198
        },
        {
         "sentences": "Yet malaria is preventable and treatable.",
         "_deepnote_index_column": 199
        },
        {
         "sentences": "The problem is that most of Africa is too poor to mobilize the methods of prevention (bed nets) and treatments (anti-malarial medicines) that could save millions of children every year.",
         "_deepnote_index_column": 200
        },
        {
         "sentences": "The US spends more on Iraq each day than it does on Africa's malaria in a year.",
         "_deepnote_index_column": 201
        },
        {
         "sentences": "As 2003 draws to a close, it is time for world leaders to help guide the world away from the obsessive, failing approach of America's government.",
         "_deepnote_index_column": 202
        },
        {
         "sentences": "President Bush should be made to understand that the US will find no true international support if America speaks incessantly about terrorism while doing almost nothing about the problems that really affect most of the world: poverty, lack of access to safe water and sanitation, vulnerability to disease, and climate change.",
         "_deepnote_index_column": 203
        },
        {
         "sentences": "Ironically, President Bush claims that the UN does not follow through on its word.",
         "_deepnote_index_column": 204
        },
        {
         "sentences": "He declared in London recently that \"the credibility of the UN depends on a willingness to keep its word and to act when action is required.\"",
         "_deepnote_index_column": 205
        },
        {
         "sentences": "Yet the US repeatedly violates its own UN pledges.",
         "_deepnote_index_column": 206
        },
        {
         "sentences": "For example, at the International Conference on Financing for Development, in Monterrey, Mexico in March 2002, America signed the Monterrey Consensus, which includes a promise by rich countries to raise their development assistance towards 0.7% of national income.",
         "_deepnote_index_column": 207
        },
        {
         "sentences": "That would bring an additional $60 billion per year in foreign assistance from the US--approximately what it spent on Iraq this year.",
         "_deepnote_index_column": 208
        },
        {
         "sentences": "Yet President Bush has simply ignored this promise.",
         "_deepnote_index_column": 209
        },
        {
         "sentences": "There are many other similar commitments that the US has made in recent years to the UN that remain utterly unfulfilled.",
         "_deepnote_index_column": 210
        },
        {
         "sentences": "The US promised action to fight man-made climate change as a signatory to the UN Framework Convention on Climate Change (UNFCC) in 1992.",
         "_deepnote_index_column": 211
        },
        {
         "sentences": "It has so far failed to act.",
         "_deepnote_index_column": 212
        },
        {
         "sentences": "America also promised--in the Doha Declaration in 2001--to open its markets to the world's poorest countries.",
         "_deepnote_index_column": 213
        },
        {
         "sentences": "Yet at Cancun, Mexico earlier this summer, it refused to open its markets even to exports from struggling African economies.",
         "_deepnote_index_column": 214
        },
        {
         "sentences": "The list goes on and on.",
         "_deepnote_index_column": 215
        },
        {
         "sentences": "At the Millennium Assembly in 2000, the US promised to pursue reduction of global poverty, yet it has taken few steps in that direction.",
         "_deepnote_index_column": 216
        },
        {
         "sentences": "At the World Summit on Sustainable Development in Johannesburg in 2002, America committed itself to protect global ecosystems, yet little has been seen or heard from US policy makers on this issue since then.",
         "_deepnote_index_column": 217
        },
        {
         "sentences": "America is certainly not alone in failing to promote the international goals adopted in the UN.",
         "_deepnote_index_column": 218
        },
        {
         "sentences": "But because the US is the richest, most powerful country in the world, its neglect is devastating.",
         "_deepnote_index_column": 219
        },
        {
         "sentences": "If the US really wants to undercut terrorism, it must recognize the interconnectedness of extremism, poverty, and environmental degradation, and it will need to understand the struggles for survival that are underway among the poor everywhere.",
         "_deepnote_index_column": 220
        },
        {
         "sentences": "But the world should not wait for the America to come to its senses.",
         "_deepnote_index_column": 221
        },
        {
         "sentences": "The US represents just 5% of the world's population, and just one vote of 191 countries in the UN General Assembly.",
         "_deepnote_index_column": 222
        },
        {
         "sentences": "Poor countries, especially the democracies of the developing world--Brazil, South Africa, India, Mexico, Ghana, the Philippines--should say, \"We need to act on the issues that concern us, not just on the issues that concern the US.\"",
         "_deepnote_index_column": 223
        },
        {
         "sentences": "What the world needs most in 2004 is a declaration of independence from American willfulness.",
         "_deepnote_index_column": 224
        },
        {
         "sentences": "A De-Globalized World?",
         "_deepnote_index_column": 225
        },
        {
         "sentences": "Cambridge – It may take a few months or a couple of years, but one way or another the United States and other advanced economies will eventually recover from today’s crisis.",
         "_deepnote_index_column": 226
        },
        {
         "sentences": "The world economy, however, is unlikely to look the same.",
         "_deepnote_index_column": 227
        },
        {
         "sentences": "Even with the worst of the crisis over, we are likely to find ourselves in a somewhat de-globalized world, one in which international trade grows at a slower pace, there is less external finance, and rich countries’ appetite for running large current-account deficits is significantly diminished.",
         "_deepnote_index_column": 228
        },
        {
         "sentences": "Will this spell doom for developing countries?",
         "_deepnote_index_column": 229
        },
        {
         "sentences": "Not necesarily.",
         "_deepnote_index_column": 230
        },
        {
         "sentences": "Growth in the developing world tends to come in three distinct variants.",
         "_deepnote_index_column": 231
        },
        {
         "sentences": "First comes growth driven by foreign borrowing.",
         "_deepnote_index_column": 232
        },
        {
         "sentences": "Second is growth as a by-product of commodity booms.",
         "_deepnote_index_column": 233
        },
        {
         "sentences": "Third is growth led by economic restructuring and diversification into new products.",
         "_deepnote_index_column": 234
        },
        {
         "sentences": "The first two models are at greater risk than the third.",
         "_deepnote_index_column": 235
        },
        {
         "sentences": "But we should not lose sleep over them, because they are flawed and ultimately unsustainable.",
         "_deepnote_index_column": 236
        },
        {
         "sentences": "What should be of greater concern is the potential plight of countries in the last group.",
         "_deepnote_index_column": 237
        },
        {
         "sentences": "These countries will need to undertake major changes in their policies to adjust to today’s new realities.",
         "_deepnote_index_column": 238
        },
        {
         "sentences": "The first two growth models invariably come to a bad end.",
         "_deepnote_index_column": 239
        },
        {
         "sentences": "Foreign borrowing can enable consumers and governments to live beyond their means for a while, but reliance on foreign capital is an unwise strategy.",
         "_deepnote_index_column": 240
        },
        {
         "sentences": "The problem is not only that foreign capital flows can easily reverse direction, but also that they produce the wrong kind of growth, based on overvalued currencies and investments in non-traded goods and services, such as housing and construction.",
         "_deepnote_index_column": 241
        },
        {
         "sentences": "Growth driven by high commodity prices is also susceptible to busts, for similar reasons.",
         "_deepnote_index_column": 242
        },
        {
         "sentences": "Commodity prices tend to move in cycles.",
         "_deepnote_index_column": 243
        },
        {
         "sentences": "When they are high, they are apt to crowd out investments in manufactures and other, non-traditional tradables.",
         "_deepnote_index_column": 244
        },
        {
         "sentences": "Moreover, commodity booms frequently produce ugly politics in countries with weak institutions, leading to costly struggles for resource rents, which are rarely invested wisely.",
         "_deepnote_index_column": 245
        },
        {
         "sentences": "So it is no surprise that the countries that have produced steady, long-term growth during the last six decades are those that relied on a different strategy: promoting diversification into manufactured and other “modern” goods.",
         "_deepnote_index_column": 246
        },
        {
         "sentences": "By capturing a growing share of world markets for manufactures and other non-primary products, these countries increased their domestic employment opportunities in high-productivity activities.",
         "_deepnote_index_column": 247
        },
        {
         "sentences": "Their governments pursued not just good “fundamentals” (e.g., macroeconomic stability and an outward orientation), but also what might be called “productivist” policies: undervalued currencies, industrial policies, and financial controls.",
         "_deepnote_index_column": 248
        },
        {
         "sentences": "China exemplified this approach.",
         "_deepnote_index_column": 249
        },
        {
         "sentences": "Its growth was fueled by an extraordinarily rapid structural transformation towards an increasingly sophisticated set of industrial goods.",
         "_deepnote_index_column": 250
        },
        {
         "sentences": "In recent years, China also got hooked on a large trade surplus vis-à-vis the US – the counterpart of its undervalued currency.",
         "_deepnote_index_column": 251
        },
        {
         "sentences": "But it wasn’t just China.",
         "_deepnote_index_column": 252
        },
        {
         "sentences": "Countries that had been growing rapidly in the run-up to the great crash of 2008 typically had trade surpluses (or very small deficits).",
         "_deepnote_index_column": 253
        },
        {
         "sentences": "These countries did not want to be recipients of capital inflows, because they realized that this would wreak havoc with their need to maintain competitive currencies.",
         "_deepnote_index_column": 254
        },
        {
         "sentences": "It is now part of conventional wisdom that large external balances – typified by the bilateral US-China trade relationship – played a major contributing role in the great crash.",
         "_deepnote_index_column": 255
        },
        {
         "sentences": "Global macroeconomic stability requires that we avoid such large current-account imbalances in the future.",
         "_deepnote_index_column": 256
        },
        {
         "sentences": "But a return to high growth in developing countries requires that they resume their push into tradable goods and services.",
         "_deepnote_index_column": 257
        },
        {
         "sentences": "In the past, this push was accommodated by the willingness of the US and a few other developed nations to run large trade deficits.",
         "_deepnote_index_column": 258
        },
        {
         "sentences": "This is no longer a feasible strategy for large or middle-income developing countries.",
         "_deepnote_index_column": 259
        },
        {
         "sentences": "So, are the requirements of global macroeconomic stability and of growth for developing countries at odds with each other?",
         "_deepnote_index_column": 260
        },
        {
         "sentences": "Will developing countries’ need to generate large increases in the supply of industrial products inevitably clash with the world’s intolerance of trade imbalances?",
         "_deepnote_index_column": 261
        },
        {
         "sentences": "There is in fact no inherent conflict, once we understand that what matters for growth in developing countries is not the size of their trade surpluses, nor even the volume of their exports.",
         "_deepnote_index_column": 262
        },
        {
         "sentences": "What matters is their output of modern industrial goods (and services), which can expand without limit as long as domestic demand expands simultaneously.",
         "_deepnote_index_column": 263
        },
        {
         "sentences": "Maintaining an undervalued currency has the upside that it subsidizes the production of such goods; but it also has the downside that it taxes domestic consumption – which is why it generates a trade surplus.",
         "_deepnote_index_column": 264
        },
        {
         "sentences": "By encouraging industrial production directly, it is possible to have the upside without the downside.",
         "_deepnote_index_column": 265
        },
        {
         "sentences": "There are many ways that this can be done, including reducing the cost of domestic inputs and services through targeted investments in infrastructure.",
         "_deepnote_index_column": 266
        },
        {
         "sentences": "Explicit industrial policies can be an even more potent instrument.",
         "_deepnote_index_column": 267
        },
        {
         "sentences": "The key point is that developing countries that are concerned about the competitiveness of their modern sectors can afford to allow their currencies to appreciate (in real terms) as long as they have access to alternative policies that promote industrial activities more directly.",
         "_deepnote_index_column": 268
        },
        {
         "sentences": "So the good news is that developing countries can continue to grow rapidly even if world trade slows in and there is reduced appetite for capital flows and trade imbalances.",
         "_deepnote_index_column": 269
        },
        {
         "sentences": "Their growth potential need not be severely affected as long as the implications of this new world for domestic and international policies are understood.",
         "_deepnote_index_column": 270
        },
        {
         "sentences": "One such implication is that developing countries will have to substitute real industrial policies for those that operate through the exchange rate.",
         "_deepnote_index_column": 271
        },
        {
         "sentences": "Another is that external policy actors (for example, the World Trade Organization) will have to be more tolerant of these policies as long as the effects on trade balances are neutralized through appropriate adjustments in the real exchange rate.",
         "_deepnote_index_column": 272
        },
        {
         "sentences": "Greater use of industrial policies is the price to be paid for a reduction of macroeconomic imbalances.",
         "_deepnote_index_column": 273
        },
        {
         "sentences": "A Democratic Burma?",
         "_deepnote_index_column": 274
        },
        {
         "sentences": "TOKYO – Historic transformations often happen when least expected.",
         "_deepnote_index_column": 275
        },
        {
         "sentences": "Mikhail Gorbachev’s liberalizing policies of glasnost and perestroika in the Soviet Union emerged at one of the Cold War’s darkest hours, with US President Ronald Reagan pushing for strategic missile defense and the two sides fighting proxy wars in Afghanistan and elsewhere.",
         "_deepnote_index_column": 276
        },
        {
         "sentences": "Deng Xiaoping’s economic opening followed China’s bloody – and failed – invasion of Vietnam in 1978.",
         "_deepnote_index_column": 277
        },
        {
         "sentences": "And South Africa’s last apartheid leader, F. W. de Klerk, was initially perceived as just another apologist for the system – hardly the man to free Nelson Mandela and oversee the end of white minority rule.",
         "_deepnote_index_column": 278
        },
        {
         "sentences": "Now the world is suddenly asking whether Burma (Myanmar), after six decades of military dictatorship, has embarked on a genuine political transition that could end the country’s pariah status.",
         "_deepnote_index_column": 279
        },
        {
         "sentences": "Is Burma, like South Africa under de Klerk, truly poised to emerge from a half-century of self-imposed isolation?",
         "_deepnote_index_column": 280
        },
        {
         "sentences": "And can Aung San Suu Kyi, the heroic opposition leader, and Thein Sein, Burma’s new president, engineer a political transition as skillfully and peacefully as Mandela and de Klerk did for South Africa in the early 1990’s?",
         "_deepnote_index_column": 281
        },
        {
         "sentences": "Despite her two decades of house arrest and isolation, Suu Kyi possesses two of the gifts that enabled Mandela to carry out his great task: a reassuring serenity and an utter lack of vindictiveness.",
         "_deepnote_index_column": 282
        },
        {
         "sentences": "As Burma’s authorities test reform, these gifts, together with her negotiating skills and, most of all, her vast moral authority, will be tested as never before.",
         "_deepnote_index_column": 283
        },
        {
         "sentences": "Moreover, unlike Mandela during his 27-year imprisonment, Suu Kyi has had her hopes raised – and dashed – before.",
         "_deepnote_index_column": 284
        },
        {
         "sentences": "In the mid-1990’s, and again in 2002-2003, reconciliation between Suu Kyi’s National League for Democracy (NLD) and the military junta seemed to be in the offing.",
         "_deepnote_index_column": 285
        },
        {
         "sentences": "On both occasions, however, the regime’s hardliners gained the upper hand, crushing prospects for reform.",
         "_deepnote_index_column": 286
        },
        {
         "sentences": "Yet Suu Kyi, and much of the Burmese opposition, is beginning to admit that today’s political liberalization might be the real thing.",
         "_deepnote_index_column": 287
        },
        {
         "sentences": "Because Burma’s generals say almost nothing in public, it is difficult to fathom why they allowed elections that elevated Thein Sein to power, or to explain their willingness to embrace dialogue with the long-suppressed opposition.",
         "_deepnote_index_column": 288
        },
        {
         "sentences": "Recent events suggest one possible explanation: Burma’s rulers have grown wary of China’s almost smothering embrace – a result of the country’s international isolation.",
         "_deepnote_index_column": 289
        },
        {
         "sentences": "Indeed, public protests against China’s commercial exploitation of Burma’s natural resources became so widespread that the government called a halt to construction by Chinese investors on the huge and environmentally damaging Myitsone Dam on the Irrawaddy River.",
         "_deepnote_index_column": 290
        },
        {
         "sentences": "Thein Sein’s decision to halt the project is clearly an important policy shift.",
         "_deepnote_index_column": 291
        },
        {
         "sentences": "It is also a signal to the outside world that Burma’s new government may be much more willing than any of its predecessors to heed both public pressure and international opinion, both of which vehemently opposed the dam’s construction.",
         "_deepnote_index_column": 292
        },
        {
         "sentences": "Almost simultaneously, Thein Sein offered even stronger signals that his was a very different Burmese administration: he freed political prisoners and invited Suu Kyi for direct talks with him.",
         "_deepnote_index_column": 293
        },
        {
         "sentences": "Indeed, Suu Kyi now enjoys far greater freedom of movement than she has at any time since she received the Nobel Peace Prize 20 years ago, and the NLD recently announced that it will field candidates in the forthcoming by-elections to the country’s newly established parliament.",
         "_deepnote_index_column": 294
        },
        {
         "sentences": "If Suu Kyi is permitted to campaign free of restraint, for both her own seat and to boost the electoral chances of her NLD colleagues, it will be clear that Thein Sein and his government are truly determined to bring their country in from the cold.",
         "_deepnote_index_column": 295
        },
        {
         "sentences": "For both Suu Kyi and Thein Sein, every step from now on will be delicate, to be calibrated with the same care and deliberation that Mandela and de Klerk used in bridging their differences and leading their country out of isolation.",
         "_deepnote_index_column": 296
        },
        {
         "sentences": "But the international community, too, must act with great care.",
         "_deepnote_index_column": 297
        },
        {
         "sentences": "While Thein Sein would undoubtedly wish to see the myriad economic and political sanctions imposed on Burma quickly lifted, it is too soon for a general easing of such measures.",
         "_deepnote_index_column": 298
        },
        {
         "sentences": "But the outside world should demonstrate that every clear move toward greater political openness will merit more international political and economic engagement.",
         "_deepnote_index_column": 299
        },
        {
         "sentences": "The Japan Investment Bank’s decision to invest in port development in Burma – essential if the economy, too, is to be opened – is one positive sign that the world will keep pace with Thein Sein step for step.",
         "_deepnote_index_column": 300
        },
        {
         "sentences": "And US President Barack Obama’s decision to send Secretary of State Hillary Clinton to Burma to meet Thein Sein is another clear sign that the world is ready to end the country’s isolation.",
         "_deepnote_index_column": 301
        },
        {
         "sentences": "Closer to home, ASEAN’s recent decision to give Burma a chance to chair the organization in 2014 underscores its neighbors’ desire for the country’s full participation in Asia’s growing prosperity.",
         "_deepnote_index_column": 302
        },
        {
         "sentences": "No one should rush to judgment yet, but Thein Sein’s decisions, at least so far, are beginning to resemble those of South Africa’s de Klerk when he initiated his country’s reform process.",
         "_deepnote_index_column": 303
        },
        {
         "sentences": "Fortunately, Burma already has in Aung San Suu Kyi its very own Nelson Mandela.",
         "_deepnote_index_column": 304
        },
        {
         "sentences": "A Democratic Windfall for Turkey?",
         "_deepnote_index_column": 305
        },
        {
         "sentences": "Turkey's seeming fall from grace with the US may turn out to be a blessing in disguise.",
         "_deepnote_index_column": 306
        },
        {
         "sentences": "The Iraq war and the tortured diplomacy that led up to it may help resolve Turkey's conflict between its \"strategic alliance\" with America and its drive to join the EU.",
         "_deepnote_index_column": 307
        },
        {
         "sentences": "The elections last November that brought the Justice and Development Party (AKP) to power were preceded by a dispute between the members of the then-ruling coalition over enacting the reforms demanded by the EU.",
         "_deepnote_index_column": 308
        },
        {
         "sentences": "Some liberal elements of that \"secular\" coalition resigned from the government and joined with the Islamists to push the reforms through parliament.",
         "_deepnote_index_column": 309
        },
        {
         "sentences": "After coming to power, the AKP's leaders, former Islamists who had reinvented themselves as \"conservative democrats,\" energetically engaged with the US, the EU, and the UN on issues ranging from Cyprus to Iraq, from Kurdish language rights to other human rights issues within Turkey.",
         "_deepnote_index_column": 310
        },
        {
         "sentences": "Having suffered the oppressive practices of Turkey's \"secular\" state and recognizing that human rights must be protected across-the-board, the AKP emerged as a credible interlocutor with the West.",
         "_deepnote_index_column": 311
        },
        {
         "sentences": "The US, preoccupied with the supposed specter of a \"clash of civilizations\" between Islam and the West, saw the AKP's modern, westernized face as an opportunity and urged the EU to admit Turkey.",
         "_deepnote_index_column": 312
        },
        {
         "sentences": "Today, both \"conservative democrats\" and liberals advocate passing all the reforms needed to gain accession to the EU, while opponents include extreme nationalists, of both left and right, as well as some elements of the \"secular\" establishment.",
         "_deepnote_index_column": 313
        },
        {
         "sentences": "The Europeans could have tipped the balance decisively in favor of the reformers by finally rewarding the efforts of the pro-EU Turks at last December's summit of EU leaders.",
         "_deepnote_index_column": 314
        },
        {
         "sentences": "Instead, the EU kept Turkey waiting yet again, putting off formal negotiations that, in any case, may take years to complete.",
         "_deepnote_index_column": 315
        },
        {
         "sentences": "Europe's persistent reluctance puts the Turks in a quandary.",
         "_deepnote_index_column": 316
        },
        {
         "sentences": "The Americans want full EU membership for Turkey--a longstanding NATO member and close American ally--while Europeans complain about the Turkish military's domestic political role.",
         "_deepnote_index_column": 317
        },
        {
         "sentences": "The paradox is that, by maintaining a political distance and thus limiting Turkey's options, Europe may end up reinforcing Turkey's status as a military outpost of the US.",
         "_deepnote_index_column": 318
        },
        {
         "sentences": "At least, that was how things were shaping up prior to the war in Iraq.",
         "_deepnote_index_column": 319
        },
        {
         "sentences": "Then, despite massive US pressure, Turkey's parliament unexpectedly rejected the government's proposal to allow US troops in Turkey to launch an invasion from Turkish territory.",
         "_deepnote_index_column": 320
        },
        {
         "sentences": "Turkey's refusal to grant the Americans access to military bases on its territory effectively ruled out a northern front in the war.",
         "_deepnote_index_column": 321
        },
        {
         "sentences": "The Turkish government even attempted a regional initiative for a peaceful solution to the crisis, an effort no current EU member could have contemplated.",
         "_deepnote_index_column": 322
        },
        {
         "sentences": "Parliament's rejection of US troops powerfully refutes suggestions that Turkey was primarily concerned about the size of the American aid package on offer as an inducement to cooperate.",
         "_deepnote_index_column": 323
        },
        {
         "sentences": "Suggestions that characterized the vote as revealing the government's true \"Islamic\" character ignore the fact that the only opposition party in parliament, the Republican People's Party--founded by Atatürk and still fully \"secularist\"--voted against the plan.",
         "_deepnote_index_column": 324
        },
        {
         "sentences": "Likewise, other elements of Turkey's secular establishment, including the President and the military leadership, either opposed or were lukewarm, at best, to the idea of war in Iraq.",
         "_deepnote_index_column": 325
        },
        {
         "sentences": "Turkey's military initially remained silent on the issue, uncharacteristically watching the civilian political process unfold.",
         "_deepnote_index_column": 326
        },
        {
         "sentences": "By contrast, the military had earlier publicly criticized AKP initiatives on Cyprus.",
         "_deepnote_index_column": 327
        },
        {
         "sentences": "Their silence on Iraq reflected their apprehension about unwanted alternatives: either support the US plan and risk encouraging Kurdish moves toward an independent state, or oppose the Americans and jeopardize a critical strategic relationship.",
         "_deepnote_index_column": 328
        },
        {
         "sentences": "They chose to defer to the civilian leadership and to parliament, which, in voting down the US plan, reflected overwhelming public sentiment against the war.",
         "_deepnote_index_column": 329
        },
        {
         "sentences": "Only after the vote did the Chief of Staff publicly endorse the original proposal to bring in American troops.",
         "_deepnote_index_column": 330
        },
        {
         "sentences": "In fact, the allegedly Islamic party had skilfully managed to negotiate with an unrelenting US, consult with the Turkish military and President, and share all information with the public and parliament.",
         "_deepnote_index_column": 331
        },
        {
         "sentences": "Walking a fine line in what was essentially a lose-lose situation, the party leadership laid out the stakes clearly and judiciously left the final decision to parliament.",
         "_deepnote_index_column": 332
        },
        {
         "sentences": "The outcome was a victory for Turkish democracy and recognized as such internationally.",
         "_deepnote_index_column": 333
        },
        {
         "sentences": "After the US military action in Iraq, the tables may be turning in surprising ways.",
         "_deepnote_index_column": 334
        },
        {
         "sentences": "As America establishes itself in Iraq, Turkey's geopolitical military significance may decline.",
         "_deepnote_index_column": 335
        },
        {
         "sentences": "Yet the declared American aim of building a Muslim democracy in Iraq will only enhance Turkey's symbolic importance as a role model.",
         "_deepnote_index_column": 336
        },
        {
         "sentences": "This shift in Turkey's strategic role may also be reflected in a new domestic balance between the military and the forces pushing for reform.",
         "_deepnote_index_column": 337
        },
        {
         "sentences": "With careful management, Turkey may find itself drawing closer to Europe, while rebuilding its relationship with America.",
         "_deepnote_index_column": 338
        },
        {
         "sentences": "A Devaluation Option for Southern Europe\nCAMBRIDGE – This year is likely to mark a make-or-break ordeal for the euro.",
         "_deepnote_index_column": 339
        },
        {
         "sentences": "The eurozone’s survival demands a credible solution to its long-running sovereign-debt crisis, which in turn requires addressing the two macroeconomic imbalances – external and fiscal – which are at the heart of that crisis.",
         "_deepnote_index_column": 340
        },
        {
         "sentences": "The crisis has exposed the deep disparities in competitiveness that have developed within the eurozone.",
         "_deepnote_index_column": 341
        },
        {
         "sentences": "From 1996 to 2010, unit labor costs in Germany increased by just 8%, and by 13% in France.",
         "_deepnote_index_column": 342
        },
        {
         "sentences": "Compare that to 24% in Portugal, 35% in Spain, 37% in Italy, and a whopping 59% in Greece.",
         "_deepnote_index_column": 343
        },
        {
         "sentences": "The result has been large trade imbalances between eurozone countries, a problem compounded by large fiscal deficits and high levels of public debt in southern Europe (and France) – much of it owed to foreign creditors.",
         "_deepnote_index_column": 344
        },
        {
         "sentences": "Does addressing these imbalances require breaking up the eurozone?",
         "_deepnote_index_column": 345
        },
        {
         "sentences": "Suppose, for example, that Portugal were to leave and re-introduce the escudo.",
         "_deepnote_index_column": 346
        },
        {
         "sentences": "The ensuing exchange-rate devaluation would immediately lower the price of Portugal’s exports, raise its import prices, stimulate the economy, and bring about much-needed growth.",
         "_deepnote_index_column": 347
        },
        {
         "sentences": "But a euro exit would be a messy affair.",
         "_deepnote_index_column": 348
        },
        {
         "sentences": "The resulting turmoil could very well trump any short-term gains in competitiveness from devaluation.",
         "_deepnote_index_column": 349
        },
        {
         "sentences": "There is a remarkably simple alternative that does not require southern Europe’s troubled economies to abandon the euro and devalue their exchange rates.",
         "_deepnote_index_column": 350
        },
        {
         "sentences": "It involves increasing the value-added tax while cutting payroll taxes.",
         "_deepnote_index_column": 351
        },
        {
         "sentences": "Our recent research demonstrates that such a “fiscal devaluation” has very similar effects on the economy in terms of its impact on GDP, consumption, employment, and inflation.",
         "_deepnote_index_column": 352
        },
        {
         "sentences": "A currency devaluation works by making imports more costly and exports cheaper.",
         "_deepnote_index_column": 353
        },
        {
         "sentences": "A VAT/payroll-tax swap would do exactly the same thing.",
         "_deepnote_index_column": 354
        },
        {
         "sentences": "An increase in VAT raises the price of imported goods, as foreign firms face a higher tax.",
         "_deepnote_index_column": 355
        },
        {
         "sentences": "To ensure that domestic firms do not have an incentive to raise prices, an increase in VAT needs to be accompanied by a cut in payroll taxes.",
         "_deepnote_index_column": 356
        },
        {
         "sentences": "Moreover, since exports are exempt from VAT, the price of domestic exports will fall.",
         "_deepnote_index_column": 357
        },
        {
         "sentences": "The desired competitiveness effects of exchange-rate devaluation can thus be had while staying in the euro.",
         "_deepnote_index_column": 358
        },
        {
         "sentences": "This policy can also help on the fiscal front.",
         "_deepnote_index_column": 359
        },
        {
         "sentences": "As is true of an exchange-rate devaluation, the positive impact on growth of an increase in competitiveness can strengthen the fiscal position by raising tax revenues.",
         "_deepnote_index_column": 360
        },
        {
         "sentences": "Moreover, an important advantage of fiscal devaluations is that they generate additional revenues in proportion to the country’s trade deficit.",
         "_deepnote_index_column": 361
        },
        {
         "sentences": "For countries that are suffering from weak competitiveness and, as a consequence, running trade deficits, this typically means more revenues, especially in the short run.",
         "_deepnote_index_column": 362
        },
        {
         "sentences": "Like exchange-rate devaluations, fiscal devaluations create winners and losers.",
         "_deepnote_index_column": 363
        },
        {
         "sentences": "Both act as a wealth levy: inflation means that bondholders suffer a real loss in proportion to their wealth and the size of the devaluation.",
         "_deepnote_index_column": 364
        },
        {
         "sentences": "If taxes on capital are not adjusted, holders of domestic stocks suffer a comparable loss.",
         "_deepnote_index_column": 365
        },
        {
         "sentences": "By contrast, many transfers, such as unemployment benefits, health benefits, and public pensions, are indexed to inflation, and thus maintain their real value.",
         "_deepnote_index_column": 366
        },
        {
         "sentences": "The same is true of minimum wages.",
         "_deepnote_index_column": 367
        },
        {
         "sentences": "These distributive effects play an important role in the politics of exchange-rate devaluations, and most of these effects appear in fiscal devaluations as well.",
         "_deepnote_index_column": 368
        },
        {
         "sentences": "Fiscal devaluations already have some advocates.",
         "_deepnote_index_column": 369
        },
        {
         "sentences": "Indeed, French President Nicolas Sarkozy’s government just announced one.",
         "_deepnote_index_column": 370
        },
        {
         "sentences": "And concerns that a fiscal devaluation will conflict with euro rules can be met by simply pointing out that Germany’s government carried one out in 2007, though by another name, when it raised VAT from 16% to 19% and cut employers’ contribution to social insurance, from 6.5% to 4.2%.",
         "_deepnote_index_column": 371
        },
        {
         "sentences": "In short, there are simple fiscal alternatives to exchange-rate devaluation that can address southern Europe’s short-term competitiveness problems.",
         "_deepnote_index_column": 372
        },
        {
         "sentences": "To be sure, feasible fiscal devaluations would be limited in size.",
         "_deepnote_index_column": 373
        },
        {
         "sentences": "But, together with debt restructuring, accommodative monetary policy, liquidity support from the European Central Bank, and much-required structural reforms, they can help to put these troubled economies on a sound footing without a euro breakup or a major austerity-induced recession.",
         "_deepnote_index_column": 374
        },
        {
         "sentences": "A Dim Light on Global Warming\nCOPENHAGEN – Amid a growing wave of concern about climate change, many countries – including Brazil, Australia, the United States, and the members of the European Union – passed laws in the 2000’s outlawing or severely restricting access to incandescent light bulbs.",
         "_deepnote_index_column": 375
        },
        {
         "sentences": "The intention was understandable: if everyone in the world exchanged most light bulbs for energy-efficient compact fluorescent light bulbs (CFLs), we could save 3.5% of all electricity, or 1% of our CO2 emissions.",
         "_deepnote_index_column": 376
        },
        {
         "sentences": "The current attempt by Republicans in the US Congress to roll back America’s effort to ban incandescent bulbs has revived this discussion.",
         "_deepnote_index_column": 377
        },
        {
         "sentences": "Many contend that the agenda is being driven by knuckle-dragging climate-change deniers.",
         "_deepnote_index_column": 378
        },
        {
         "sentences": "But it’s worth taking a closer look at the premise that banning things is the smartest way to tackle global warming.",
         "_deepnote_index_column": 379
        },
        {
         "sentences": "Let’s be clear: we do need to tackle climate change.",
         "_deepnote_index_column": 380
        },
        {
         "sentences": "But this does not mean that we should just cut all emissions.",
         "_deepnote_index_column": 381
        },
        {
         "sentences": "Burning fossil fuels also has significant benefits, and we should weigh those benefits against the costs.",
         "_deepnote_index_column": 382
        },
        {
         "sentences": "A tax on carbon should be equivalent to its damage.",
         "_deepnote_index_column": 383
        },
        {
         "sentences": "The best estimate of this is about $7/ton of CO2 or $0.06/gallon of gasoline (€0.015/liter).",
         "_deepnote_index_column": 384
        },
        {
         "sentences": "Most developed countries already have a tax of this size (and often much larger) on electricity and fossil fuels, although this also incorporates the costs of air pollution and supply insecurity.",
         "_deepnote_index_column": 385
        },
        {
         "sentences": "While CFLs are more expensive to buy, they are much cheaper over their lifespan, because they use much less energy (even more so with the cost of CO2 factored into taxes on electricity).",
         "_deepnote_index_column": 386
        },
        {
         "sentences": "Thus, on a straightforward cost-benefit basis, it seems to make sense for most people to switch from incandescent bulbs to the new, greener technology.",
         "_deepnote_index_column": 387
        },
        {
         "sentences": "This is what is great about technological solutions to climate change: if an alternative option is cheaper, people will start using it.",
         "_deepnote_index_column": 388
        },
        {
         "sentences": "My household uses CFLs, and I enjoy knowing that I am causing fewer CO2 emissions and spending less money.",
         "_deepnote_index_column": 389
        },
        {
         "sentences": "Why, then, is it even necessary to outlaw the old bulbs?",
         "_deepnote_index_column": 390
        },
        {
         "sentences": "The reason is that monetary cost is only one factor.",
         "_deepnote_index_column": 391
        },
        {
         "sentences": "Many people find it annoying that CFLs take time to “warm up.”\nOr they believe that their light is “funny.”\nOr they worry that the bulbs can spread poisonous mercury if they break.",
         "_deepnote_index_column": 392
        },
        {
         "sentences": "For some people, energy-efficient bulbs can trigger epileptic seizures and migraines.",
         "_deepnote_index_column": 393
        },
        {
         "sentences": "The up-front cost is a factor, too, especially for those on low budgets.",
         "_deepnote_index_column": 394
        },
        {
         "sentences": "And in places where lights are not used very often, a lower-price incandescent bulb can cost less overall than the energy-efficient alternative.",
         "_deepnote_index_column": 395
        },
        {
         "sentences": "You might imagine that people could choose the right light bulbs for themselves.",
         "_deepnote_index_column": 396
        },
        {
         "sentences": "But proponents of phasing out access to incandescent bulbs argue that they know better.",
         "_deepnote_index_column": 397
        },
        {
         "sentences": "As US Energy Secretary Steven Chu put it recently, “We are taking away a choice that continues to let people waste their own money.”\nSetting aside other possible objections to this view, there is the problem that it presumes that all incandescent bulbs are worth less than $7/ton of CO2.",
         "_deepnote_index_column": 398
        },
        {
         "sentences": "This is clearly not true for those who suffer from migraines or epileptic seizures because of the new bulbs, or for those who are seriously worried about mercury, or for those who have other reasons for preferring incandescent bulbs.",
         "_deepnote_index_column": 399
        },
        {
         "sentences": "The solution should be to focus on improving the technology – making the lights safer, brighter, warm up faster, and save more energy, so that more people will replace more of their lights.",
         "_deepnote_index_column": 400
        },
        {
         "sentences": "But it is not just light bulbs that policymakers have tried to ban.",
         "_deepnote_index_column": 401
        },
        {
         "sentences": "EU parliamentarians voted overwhelmingly to outlaw patio heaters, which one MEP declared to be “a luxury the planet cannot afford.”\nWho decides when something is luxurious?",
         "_deepnote_index_column": 402
        },
        {
         "sentences": "And where does this end?",
         "_deepnote_index_column": 403
        },
        {
         "sentences": "Should we outlaw air conditioning or television satellite boxes because some people find them luxurious?",
         "_deepnote_index_column": 404
        },
        {
         "sentences": "Should we ban private cars wherever public transport is available to move us from A to B with fewer CO2 emissions?",
         "_deepnote_index_column": 405
        },
        {
         "sentences": "It makes sense to reflect the cost of CO2 (among many other factors) in the price paid to drive our cars or heat our patios; but when the phase-out proceeds more slowly than some lawmakers wish, a ban is not the right solution.",
         "_deepnote_index_column": 406
        },
        {
         "sentences": "Real reductions in carbon emissions will occur only when better technology makes it worthwhile for individuals and businesses to change their behavior.",
         "_deepnote_index_column": 407
        },
        {
         "sentences": "CFLs and other advances can take us part of the way, but there are massive technological hurdles to overcome before fossil fuels generally become less attractive than greener alternatives.",
         "_deepnote_index_column": 408
        },
        {
         "sentences": "This is where a lot of policymakers get it wrong.",
         "_deepnote_index_column": 409
        },
        {
         "sentences": "Governments talk far too much about setting a relatively high carbon tax on emissions, while focusing far too little on ensuring a meaningful increase in research and development to bring about necessary breakthroughs.",
         "_deepnote_index_column": 410
        },
        {
         "sentences": "Limiting access to the ‘wrong’ light bulbs or patio heaters, ultimately, is not the right path.",
         "_deepnote_index_column": 411
        },
        {
         "sentences": "We will only solve global warming by ensuring that alternative technologies are better than our current options.",
         "_deepnote_index_column": 412
        },
        {
         "sentences": "Then, people the world over will choose to use them.",
         "_deepnote_index_column": 413
        },
        {
         "sentences": "A Dissident in China\nTOKYO – 2009 was a good year for China.",
         "_deepnote_index_column": 414
        },
        {
         "sentences": "The Chinese economy still roared ahead in the midst of a worldwide recession.",
         "_deepnote_index_column": 415
        },
        {
         "sentences": "American President Barack Obama visited China, more in the spirit of a supplicant to an imperial court than the leader of the world’s greatest superpower.",
         "_deepnote_index_column": 416
        },
        {
         "sentences": "Even the Copenhagen summit on climate change ended just the way China wanted: failure in its attempt to commit China, or any other industrial nation, to making significant cuts in carbon emissions, with the United States getting the blame.",
         "_deepnote_index_column": 417
        },
        {
         "sentences": "The Chinese government, under the Communist Party, has every reason to feel confident.",
         "_deepnote_index_column": 418
        },
        {
         "sentences": "So why did a gentle former literature professor named Liu Xiaobo have to be sentenced to 11 years in prison, just because he publicly advocated freedom of expression and an end to one-party rule?",
         "_deepnote_index_column": 419
        },
        {
         "sentences": "Liu was co-author in 2008 of a petition, Charter 08, signed by thousands of Chinese, calling for basic rights to be respected.",
         "_deepnote_index_column": 420
        },
        {
         "sentences": "Liu is not a violent rebel.",
         "_deepnote_index_column": 421
        },
        {
         "sentences": "His opinions, in articles published on the Internet, are entirely peaceful.",
         "_deepnote_index_column": 422
        },
        {
         "sentences": "Yet he was jailed for “inciting subversion of state power.”\nThe notion that Liu might be capable of subverting the immense power of the Communist Party of China is patently absurd.",
         "_deepnote_index_column": 423
        },
        {
         "sentences": "And yet the authorities clearly believe that they had to make an example of him, to prevent others from expressing similar views.",
         "_deepnote_index_column": 424
        },
        {
         "sentences": "Why does a regime that appears to be so secure consider mere opinions, or even peaceful petitions, so dangerous?",
         "_deepnote_index_column": 425
        },
        {
         "sentences": "Perhaps because the regime does not feel as secure as it looks.",
         "_deepnote_index_column": 426
        },
        {
         "sentences": "Without legitimacy, no government can rule with any sense of confidence.",
         "_deepnote_index_column": 427
        },
        {
         "sentences": "There are many ways to legitimize political arrangements.",
         "_deepnote_index_column": 428
        },
        {
         "sentences": "Liberal democracy is only a recent invention.",
         "_deepnote_index_column": 429
        },
        {
         "sentences": "Hereditary monarchy, often backed by divine authority, has worked in the past.",
         "_deepnote_index_column": 430
        },
        {
         "sentences": "And some modern autocrats, such as Robert Mugabe, have been bolstered by their credentials as national freedom fighters.",
         "_deepnote_index_column": 431
        },
        {
         "sentences": "China has changed a great deal in the last century, but it has remained the same in one respect: it is still ruled by a religious concept of politics.",
         "_deepnote_index_column": 432
        },
        {
         "sentences": "Legitimacy is not based on the give and take, the necessary compromises, and the wheeling and dealing that form the basis of an economic concept of politics such as that which underpins liberal democracy.",
         "_deepnote_index_column": 433
        },
        {
         "sentences": "Instead, the foundation of religious politics is a shared belief, imposed from above, in ideological orthodoxy.",
         "_deepnote_index_column": 434
        },
        {
         "sentences": "In imperial China, this meant Confucian orthodoxy.",
         "_deepnote_index_column": 435
        },
        {
         "sentences": "The ideal of the Confucian state is “harmony.”\nIf all people conform to a particular set of beliefs, including moral codes of behavior, conflicts will disappear.",
         "_deepnote_index_column": 436
        },
        {
         "sentences": "The ruled, in this ideal system, will naturally obey their rulers, just as sons obey their fathers.",
         "_deepnote_index_column": 437
        },
        {
         "sentences": "After the various revolutions in the early decades of the twentieth century, Confucianism was replaced by a Chinese version of Communism.",
         "_deepnote_index_column": 438
        },
        {
         "sentences": "Marxism appealed to Chinese intellectuals, because it was bookish, introduced a modern moral orthodoxy, and was based, like Confucianism, on a promise of perfect harmony.",
         "_deepnote_index_column": 439
        },
        {
         "sentences": "Ultimately, in the Communist utopia, conflicts of interests would melt away.",
         "_deepnote_index_column": 440
        },
        {
         "sentences": "Chairman Mao’s rule combined elements of the Chinese imperial system with Communist totalitarianism.",
         "_deepnote_index_column": 441
        },
        {
         "sentences": "This orthodoxy, however, was also destined to fade away.",
         "_deepnote_index_column": 442
        },
        {
         "sentences": "Few Chinese, even in the top ranks of the Communist Party, are convinced Marxists anymore.",
         "_deepnote_index_column": 443
        },
        {
         "sentences": "This left an ideological vacuum, swiftly filled in the 1980’s by greed, cynicism, and corruption.",
         "_deepnote_index_column": 444
        },
        {
         "sentences": "Out of this crisis came the demonstrations all over China, collectively known as “Tiananmen.”\nLiu Xiaobo was an active spokesman in 1989 for the student protests against official corruption and in favor of greater freedom.",
         "_deepnote_index_column": 445
        },
        {
         "sentences": "Soon after the bloody crackdown on Tiananmen, a new orthodoxy replaced Chinese Marxism: Chinese nationalism.",
         "_deepnote_index_column": 446
        },
        {
         "sentences": "Only one-party rule would guarantee the continuing rise of China and put an end to centuries of national humiliation.",
         "_deepnote_index_column": 447
        },
        {
         "sentences": "The Communist Party represented China’s destiny as a great power.",
         "_deepnote_index_column": 448
        },
        {
         "sentences": "To doubt this was not just mistaken, but unpatriotic, even “anti-Chinese.”\nFrom this perspective, Liu Xiaobo’s critical views were indeed subversive.",
         "_deepnote_index_column": 449
        },
        {
         "sentences": "They cast doubt on the official orthodoxy, and thus on the legitimacy of the state.",
         "_deepnote_index_column": 450
        },
        {
         "sentences": "To wonder, as many have, why the Chinese regime refused to negotiate with the students in 1989 – or to find some accommodation with its critics today – is to misunderstand the nature of religious politics.",
         "_deepnote_index_column": 451
        },
        {
         "sentences": "Negotiation, compromise, and accommodation are the marks of economic politics, where every deal has its price.",
         "_deepnote_index_column": 452
        },
        {
         "sentences": "By contrast, those who rule according to a shared belief cannot afford to negotiate, for that would undermine the belief itself.",
         "_deepnote_index_column": 453
        },
        {
         "sentences": "This is not to say that the economic concept of politics is utterly strange to the Chinese – or, for that matter, that the religious notion of politics is unknown in the democratic West.",
         "_deepnote_index_column": 454
        },
        {
         "sentences": "But the insistence on orthodoxy is still sufficiently strong in China to remain the default defense against political critics.",
         "_deepnote_index_column": 455
        },
        {
         "sentences": "These things can change.",
         "_deepnote_index_column": 456
        },
        {
         "sentences": "Other Confucian societies, such as South Korea, Taiwan, and Japan, now have thriving liberal democracies, and there is no reason to believe that such a transition is impossible in China.",
         "_deepnote_index_column": 457
        },
        {
         "sentences": "But external pressure is unlikely to bring it about.",
         "_deepnote_index_column": 458
        },
        {
         "sentences": "Many non-Chinese, including me, have signed a letter of protest against the jailing of Liu Xiaobo.",
         "_deepnote_index_column": 459
        },
        {
         "sentences": "One hopes that this will lend comfort to him, and give a moral boost to Chinese who share his views.",
         "_deepnote_index_column": 460
        },
        {
         "sentences": "But it is unlikely to impress those who believe in the current orthodoxy of Chinese nationalism.",
         "_deepnote_index_column": 461
        },
        {
         "sentences": "Until China is released from the grip of religious politics, Liu’s ideals are unlikely to take root.",
         "_deepnote_index_column": 462
        },
        {
         "sentences": "This does not bode well for China, or, indeed, for the rest of the world.",
         "_deepnote_index_column": 463
        },
        {
         "sentences": "Adjust and Reschedule or Delay and Default\nBRUSSELS – As Greece activates its €45 billion rescue package with the International Monetary Fund and the European Union, it is becoming clear that a new, far more comprehensive approach is needed.",
         "_deepnote_index_column": 464
        },
        {
         "sentences": "Two problems need to be addressed: the credibility of Greece’s fiscal stabilization program, and how to cover the country’s medium-term financing gap.",
         "_deepnote_index_column": 465
        },
        {
         "sentences": "The magnitude of the fiscal adjustment effort being demanded of Greece is now well known.",
         "_deepnote_index_column": 466
        },
        {
         "sentences": "The deficit has to be reduced by at least 10 percentage points of GDP (from around 13% of GDP to less than 3% of GDP).",
         "_deepnote_index_column": 467
        },
        {
         "sentences": "The key problem, which has not been addressed so far, is that a fiscal adjustment on this scale requires the government to take two steps that can be implemented only with wide social approval: a cut in wages and a cut in social expenditure.",
         "_deepnote_index_column": 468
        },
        {
         "sentences": "Both steps are now as unpopular in Greece as they are unavoidable.",
         "_deepnote_index_column": 469
        },
        {
         "sentences": "The country’s competitiveness problems are also well known.",
         "_deepnote_index_column": 470
        },
        {
         "sentences": "Unit labor costs have increased by 10-20% more than in Germany.",
         "_deepnote_index_column": 471
        },
        {
         "sentences": "Assuming that Greece wishes to stay within the eurozone, an “internal devaluation,” i.e., a significant cut in nominal wages, is inevitable.",
         "_deepnote_index_column": 472
        },
        {
         "sentences": "The government can (and has) cut wages in the public sector, but this is not sufficient.",
         "_deepnote_index_column": 473
        },
        {
         "sentences": "A large cut in private-sector wages also is urgently needed to stimulate exports (which currently amount to less than 20% of GDP, even if one counts both goods and services) to create at least one source of growth.",
         "_deepnote_index_column": 474
        },
        {
         "sentences": "Greece thus needs a “National Competitiveness Pact” in which government, opposition, employers, and workers agree on a set of measures that cut unit labor costs by at least 10%.",
         "_deepnote_index_column": 475
        },
        {
         "sentences": "Three levers could be used to reach this goal: adjustment in nominal wages, extension of working time, and a reduction in social-security contributions (compensated for by an increase in value-added tax).",
         "_deepnote_index_column": 476
        },
        {
         "sentences": "The mix of measures should be left to Greece to decide, but a cut in unit labor costs of this size is an essential first step for a successful adjustment, and should be a pre-condition for the IMF/EU support package.",
         "_deepnote_index_column": 477
        },
        {
         "sentences": "Deep cuts in social expenditure are also unavoidable in order to achieve sustainable public finances.",
         "_deepnote_index_column": 478
        },
        {
         "sentences": "The growing fiscal deficits in Greece over the last decade were essentially the result of a massive increase in the size of state social benefits, from 20% to close to 30% of GDP, without any significant increase in tax revenues.",
         "_deepnote_index_column": 479
        },
        {
         "sentences": "Contrary to popular perception, the public-sector wage bill is only of marginal importance.",
         "_deepnote_index_column": 480
        },
        {
         "sentences": "The government has already forced through most of the necessary adjustment in this area.",
         "_deepnote_index_column": 481
        },
        {
         "sentences": "Indeed, cuts in public-sector wages can yield at most 1-2% of GDP in fiscal consolidation.",
         "_deepnote_index_column": 482
        },
        {
         "sentences": "Given that social expenditure amounts to close to 60% of total public spending, a successful fiscal adjustment will ultimately require that it be cut significantly.",
         "_deepnote_index_column": 483
        },
        {
         "sentences": "The alternative, an increase in tax revenues by almost 50% in the span of a few years, simply is not feasible.",
         "_deepnote_index_column": 484
        },
        {
         "sentences": "Profound reform of the welfare state and building a modern tax administration system requires time.",
         "_deepnote_index_column": 485
        },
        {
         "sentences": "But financial markets are in no mood to give Greece time, which brings us to the second major problem facing the country.",
         "_deepnote_index_column": 486
        },
        {
         "sentences": "In order to gain the breathing space necessary for the reform process to be effective, the Greek government could just announce a simple rescheduling: the due date of all existing public debt is extended by five years at an unchanged interest rate.",
         "_deepnote_index_column": 487
        },
        {
         "sentences": "In that case, the Greek government would face no redemptions for the next five years and would have to refinance about €30 billion per year from 2015 onwards, which should be manageable by then.",
         "_deepnote_index_column": 488
        },
        {
         "sentences": "Official financing needs would then be much more limited, and the IMF/EU package of around €45 billion should be sufficient to cover most of the progressively lower deficits over this grace period.",
         "_deepnote_index_column": 489
        },
        {
         "sentences": "Without such a rescheduling, it is unlikely that Greece will be able to roll over the approximately €30 billion maturing annually for the next few years.",
         "_deepnote_index_column": 490
        },
        {
         "sentences": "Over time, the eurozone countries would inevitably have to refinance most of Greece’s public debt.",
         "_deepnote_index_column": 491
        },
        {
         "sentences": "This is a recipe for continuing political problems, as the Greeks would always consider the interest rate too high, while Germany would consider it too low (at least relative to market rates).",
         "_deepnote_index_column": 492
        },
        {
         "sentences": "Moreover, once the eurozone had started refinancing Greece without any contribution from private creditors, it would be politically impossible to stop.",
         "_deepnote_index_column": 493
        },
        {
         "sentences": "The type of rescheduling proposed here would signal the Greek government’s readiness to service its debt in full, and thus might be accepted without too much disruption in financial markets.",
         "_deepnote_index_column": 494
        },
        {
         "sentences": "Of course, markets would view any rescheduling without a credible adjustment program merely as a prelude to a real default later on, thus leading to an even higher risk premium.",
         "_deepnote_index_column": 495
        },
        {
         "sentences": "But even the best adjustment program cannot be financed without some contribution by private creditors, i.e., some form of rescheduling.",
         "_deepnote_index_column": 496
        },
        {
         "sentences": "The only way out for Greece is thus to combine both elements: rescheduling its debt plus national agreements on wages and social expenditure.",
         "_deepnote_index_column": 497
        },
        {
         "sentences": "The current approach – concentrating only on the financing needs and fiscal adjustment in 2010, and leaving all the hard choices for later – will not work.",
         "_deepnote_index_column": 498
        },
        {
         "sentences": "A Doomsday Scenario\nAs America debates whether or not to invade Iraq, fears that the country's economic recovery will stall are beginning to creep into the discussion; with that, worries about the health of the global economy are growing, too.",
         "_deepnote_index_column": 499
        }
       ],
       "rows_bottom": [
        {
         "sentences": "And that shift would occur at a time of growing challenges to US interests elsewhere in the world.",
         "_deepnote_index_column": 4500
        },
        {
         "sentences": "The targeted killing by the United States of one of Iran's top military leaders represents a significant symbolic defeat for the Iranian regime, but it does not augur all-out war.",
         "_deepnote_index_column": 4501
        },
        {
         "sentences": "After all, Iran and the US have already been at war for decades, and neither side has an interest in an uncontrolled military escalation now.",
         "_deepnote_index_column": 4502
        },
        {
         "sentences": "As in previous years, Project Syndicate asked its commentators to offer their best guesses about the events and trends that will define the coming 12 months.",
         "_deepnote_index_column": 4503
        },
        {
         "sentences": "If there is one common theme in this year's selection, it is that what happens in 2020 will weigh on the present for many years to come.",
         "_deepnote_index_column": 4504
        },
        {
         "sentences": "Making globalization more inclusive will require policies that tackle inequality within advanced economies and boost convergence in living standards between Africa and high-income countries.",
         "_deepnote_index_column": 4505
        },
        {
         "sentences": "African policymakers, with support from external partners, can play their part by accelerating regional integration, bridging gaps in labor skills and digital infrastructure, and creating a mechanism to own and regulate Africa’s digital data.",
         "_deepnote_index_column": 4506
        },
        {
         "sentences": "Ever since the first industrial revolution led to a surge in international trade, Africa has remained largely on the sidelines of the global economy.",
         "_deepnote_index_column": 4507
        },
        {
         "sentences": "The main beneficiaries of early globalization were today’s advanced economies, where industrial technologies emerged.",
         "_deepnote_index_column": 4508
        },
        {
         "sentences": "This, in turn, led to the “great divergence” in income levels between the Global North and South.",
         "_deepnote_index_column": 4509
        },
        {
         "sentences": "More recently, the advent of new information and communications technology in the 1990s dramatically lowered the costs of distance and ushered in another wave of globalization, characterized by the emergence of complex global value chains (GVCs).",
         "_deepnote_index_column": 4510
        },
        {
         "sentences": "These GVCs contributed to the “great convergence” of recent decades by boosting industrial output in countries such as China, India, Indonesia, Poland, South Korea, Taiwan, and Singapore, enabling them to narrow the gap with advanced economies.",
         "_deepnote_index_column": 4511
        },
        {
         "sentences": "Yet African countries have remained excluded from this process.",
         "_deepnote_index_column": 4512
        },
        {
         "sentences": "The continent’s share of global merchandise trade has stagnated at around 3%, similar to its share of world manufacturing output.",
         "_deepnote_index_column": 4513
        },
        {
         "sentences": "To be sure, globalization has brought benefits to Africa.",
         "_deepnote_index_column": 4514
        },
        {
         "sentences": "Rising incomes elsewhere in the world have increased demand for African commodities and natural resources, boosting national economies.",
         "_deepnote_index_column": 4515
        },
        {
         "sentences": "Globalization has also supported knowledge transfer, enabling African countries to improve living standards by “leapfrogging” to new technologies.",
         "_deepnote_index_column": 4516
        },
        {
         "sentences": "But myriad challenges have far outweighed such benefits.",
         "_deepnote_index_column": 4517
        },
        {
         "sentences": "For one thing, globalization has contributed to premature deindustrialization.",
         "_deepnote_index_column": 4518
        },
        {
         "sentences": "Because advanced economies can now produce goods more cheaply, African countries have found it difficult to develop local industries that create jobs.",
         "_deepnote_index_column": 4519
        },
        {
         "sentences": "Moreover, some multinational corporations operating in the region are dodging taxes through sophisticated – and legal – accounting mechanisms such as profit shifting, depriving governments of much-needed resources for economic development.",
         "_deepnote_index_column": 4520
        },
        {
         "sentences": "Globalization is also contributing to climate change, which has a disproportionate effect on Africa despite the continent’s limited contribution to the problem.",
         "_deepnote_index_column": 4521
        },
        {
         "sentences": "Cyclones Idai and Kenneth, which recently devastated Malawi, Mozambique, and Zimbabwe, are a tragic example of what is to come.",
         "_deepnote_index_column": 4522
        },
        {
         "sentences": "Unsurprisingly, therefore, the economic disparity between Africa and richer countries has widened in recent decades, with the ratio of African incomes to those in advanced economies falling from 12% in the early 1980s to 8% today.",
         "_deepnote_index_column": 4523
        },
        {
         "sentences": "In order to reverse this trend and enable Africa to benefit more from globalization, the region’s policymakers should accelerate their efforts in three areas.",
         "_deepnote_index_column": 4524
        },
        {
         "sentences": "First, governments should promote further regional integration to make Africa economically stronger and more effective at advancing its agenda internationally.",
         "_deepnote_index_column": 4525
        },
        {
         "sentences": "Progress so far is very encouraging.",
         "_deepnote_index_column": 4526
        },
        {
         "sentences": "The African Continental Free Trade Agreement recently obtained the minimum 22 ratifications needed to enter into force, thus creating a single African market for goods and services.",
         "_deepnote_index_column": 4527
        },
        {
         "sentences": "The AfCFTA, along with the Single African Air Transport Market and the Protocol on Free Movement of Persons, will help to unlock the region’s tremendous economic potential.",
         "_deepnote_index_column": 4528
        },
        {
         "sentences": "Second, Africa must improve its digital infrastructure and technology-related skills to avoid being further marginalized.",
         "_deepnote_index_column": 4529
        },
        {
         "sentences": "At present, the cost of Internet access in Africa is the highest in the world, and Internet penetration is only 37%, significantly below the world average of 57%.",
         "_deepnote_index_column": 4530
        },
        {
         "sentences": "Moreover, the low-cost, low-skill labor on which Africa has traditionally relied is becoming less of a competitive advantage, given the advent of the Fourth Industrial Revolution and the higher production standards and infrastructure requirements of GVCs.",
         "_deepnote_index_column": 4531
        },
        {
         "sentences": "Education and training programs should therefore focus more on developing digital knowhow, as well as on soft skills such as critical thinking and cognitive and socio-behavioral capabilities.",
         "_deepnote_index_column": 4532
        },
        {
         "sentences": "Third, Africa must create a system for owning and regulating its digital data.",
         "_deepnote_index_column": 4533
        },
        {
         "sentences": "In the modern era, capital has displaced land as the most important asset and determinant of wealth.",
         "_deepnote_index_column": 4534
        },
        {
         "sentences": "But in the digital economy, data will be key – as demonstrated by the scramble among global technology firms such as Facebook, Google, and Tencent to control it.",
         "_deepnote_index_column": 4535
        },
        {
         "sentences": "And, as Kai-Fu Lee argues in his book AI Superpowers, the abundance of data generated by China’s large population is giving the country an advantage over the United States in the field of artificial intelligence.",
         "_deepnote_index_column": 4536
        },
        {
         "sentences": "Africa’s population boom means the continent will also generate large amounts of data, particularly as digitization makes inroads, e-commerce platforms spread, the middle class expands, and consumer spending increases.",
         "_deepnote_index_column": 4537
        },
        {
         "sentences": "This new data-driven wealth will accrue to those who actively harvest, own, and regulate such information, leaving latecomers to play catch up.",
         "_deepnote_index_column": 4538
        },
        {
         "sentences": "Africa’s potential may be huge, but it faces formidable challenges.",
         "_deepnote_index_column": 4539
        },
        {
         "sentences": "By 2030, the continent will be home to almost 90% of the world’s poorest people.",
         "_deepnote_index_column": 4540
        },
        {
         "sentences": "Unless globalization works better for Africa than it has in the past, its promise of shared prosperity will remain unfulfilled.",
         "_deepnote_index_column": 4541
        },
        {
         "sentences": "Liberal Democracy in Africa Can Wait\nYAOUNDÉ – Africa’s policymakers understand that strong economic and political leadership is essential to growth and stability.",
         "_deepnote_index_column": 4542
        },
        {
         "sentences": "For years, African economies have fared better than expected, owing to a commitment to improving governance.",
         "_deepnote_index_column": 4543
        },
        {
         "sentences": "The question now is how to sustain the momentum.",
         "_deepnote_index_column": 4544
        },
        {
         "sentences": "Current strategies do not provide an adequate answer.",
         "_deepnote_index_column": 4545
        },
        {
         "sentences": "Although leaders at a recent African Economic Conference in Addis Ababa, Ethiopia, committed to keeping governance reforms at the top of Africa’s agenda, they offered no blueprint.",
         "_deepnote_index_column": 4546
        },
        {
         "sentences": "From my perspective, this void presents an opportunity to consider new governance paradigms, including those that borrow from two commonly discussed models: the “Washington Consensus” and the “Beijing Model.”\nDevelopment practitioners have long debated which model offers the best framework for reform.",
         "_deepnote_index_column": 4547
        },
        {
         "sentences": "Put simply, “governance” refers to a dynamic framework of rules, structures, and processes that help a government manage its economic, political, and administrative affairs.",
         "_deepnote_index_column": 4548
        },
        {
         "sentences": "But which principles a government focuses on varies by approach.",
         "_deepnote_index_column": 4549
        },
        {
         "sentences": "The model championed by the West places a premium on human rights and democracy, while the one advocated by China is more concerned with political stability and economic growth.",
         "_deepnote_index_column": 4550
        },
        {
         "sentences": "Since the election of President Donald Trump, the United States, which remains one of Africa’s top donors, has focused more on the principles China favors – like political stability, trade, and counterterrorism – than on human rights.",
         "_deepnote_index_column": 4551
        },
        {
         "sentences": "The rationale is that the Beijing Model is better for Africa in the short and medium term.",
         "_deepnote_index_column": 4552
        },
        {
         "sentences": "And, while it might not be popular to admit, Trump has a point.",
         "_deepnote_index_column": 4553
        },
        {
         "sentences": "Simply put, food, shelter, health, and good sanitation are more relevant for most Africans than the right to vote.",
         "_deepnote_index_column": 4554
        },
        {
         "sentences": "Moreover, only a moderately wealthy population, with a healthy middle class, can adequately demand the rights that democracy provides.",
         "_deepnote_index_column": 4555
        },
        {
         "sentences": "Paradoxically, the fastest way to build a strong middle class in Africa would be to move toward the hierarchy of principles that China’s model promotes.",
         "_deepnote_index_column": 4556
        },
        {
         "sentences": "For Africa to reorient its governance approach, and embrace a post-Washington Consensus, its leaders must commit to improving institutional effectiveness and economic management.",
         "_deepnote_index_column": 4557
        },
        {
         "sentences": "The first set of reforms would involve establishing clear lines of sovereignty with international partners.",
         "_deepnote_index_column": 4558
        },
        {
         "sentences": "Africa’s relationship with Western donors, for example, has historically placed individual rights over national rights.",
         "_deepnote_index_column": 4559
        },
        {
         "sentences": "But in my view, individual rights should not supersede sovereign ones.",
         "_deepnote_index_column": 4560
        },
        {
         "sentences": "Punishing entire countries for laws that affect a minority is counterproductive.",
         "_deepnote_index_column": 4561
        },
        {
         "sentences": "An example of such collective punishment occurred in Uganda in 2014, when the World Bank froze some $90 million in loans following the government’s enactment of legislation criminalizing homosexuality.",
         "_deepnote_index_column": 4562
        },
        {
         "sentences": "As a Ugandan government spokesman said at the time, the bank “should not blackmail its members” to adopt Western values.",
         "_deepnote_index_column": 4563
        },
        {
         "sentences": "Yet, when governance models are judged solely through the lens of the Washington Consensus, there is very little alternative.",
         "_deepnote_index_column": 4564
        },
        {
         "sentences": "Along the same lines, the second set of reforms pertains to prioritizing economic rights over political rights.",
         "_deepnote_index_column": 4565
        },
        {
         "sentences": "For example, politicians who manage an economy well should not be subject to term limits.",
         "_deepnote_index_column": 4566
        },
        {
         "sentences": "Neither Singapore nor China is a democracy; but leaders in both countries have used their political power to improve living standards.",
         "_deepnote_index_column": 4567
        },
        {
         "sentences": "Forcing leaders to step down in the middle of economic reforms seems counterproductive.",
         "_deepnote_index_column": 4568
        },
        {
         "sentences": "These are not far-fetched ideas.",
         "_deepnote_index_column": 4569
        },
        {
         "sentences": "Today, leaders in Rwanda, which is widely considered an African success story, have improved stability by moving away from the Washington Consensus approach to governance.",
         "_deepnote_index_column": 4570
        },
        {
         "sentences": "Politically, Rwanda is strong, disciplined, and organized, but it is not liberal.",
         "_deepnote_index_column": 4571
        },
        {
         "sentences": "The landslide reelection of President Paul Kagame last year had more to do with power than democracy.",
         "_deepnote_index_column": 4572
        },
        {
         "sentences": "Although Kagame remains popular, his government was criticized for stifling free speech and human rights in the run-up to the vote.",
         "_deepnote_index_column": 4573
        },
        {
         "sentences": "The conclusion I draw is not that human rights don’t matter, but that political discipline and imperfect forms of democracy are acceptable if the tradeoff is sustained progress in economic and institutional governance.",
         "_deepnote_index_column": 4574
        },
        {
         "sentences": "We should be intellectually honest and call a spade a spade.",
         "_deepnote_index_column": 4575
        },
        {
         "sentences": "Rwandans should not be ashamed to value economic and administrative strength more than fair elections.",
         "_deepnote_index_column": 4576
        },
        {
         "sentences": "The question for other African states seeking to reform their governance models, then, is how much of Rwanda’s approach to emulate.",
         "_deepnote_index_column": 4577
        },
        {
         "sentences": "Neither the Washington Consensus nor the Beijing Model has all the answers.",
         "_deepnote_index_column": 4578
        },
        {
         "sentences": "But, as Rwanda has demonstrated, if discipline and strong leadership are improving lives and delivering public goods, perhaps liberal democracy should be a long-term priority.",
         "_deepnote_index_column": 4579
        },
        {
         "sentences": "Africa’s Green Energy Opportunity\nABUJA – Climate change confronts developing countries with a dilemma.",
         "_deepnote_index_column": 4580
        },
        {
         "sentences": "On one hand, they are particularly vulnerable to its effects, giving them a strong interest in the global reduction of greenhouse-gas emissions.",
         "_deepnote_index_column": 4581
        },
        {
         "sentences": "On the other hand, they are in desperate need of energy, with some 1.3 billion people around the world – and two out of three Africans – currently lacking access to electricity.",
         "_deepnote_index_column": 4582
        },
        {
         "sentences": "In the past, the solutions to these imperatives would have been at odds with each other.",
         "_deepnote_index_column": 4583
        },
        {
         "sentences": "Providing more people with access to electricity would have necessitated emitting more greenhouse gases, aggravating the consequences of climate change.",
         "_deepnote_index_column": 4584
        },
        {
         "sentences": "Fortunately, the economics of energy has shifted significantly in recent years.",
         "_deepnote_index_column": 4585
        },
        {
         "sentences": "It is now possible to expand access to energy in developing countries while also limiting emissions – if investments are channeled into clean energy.",
         "_deepnote_index_column": 4586
        },
        {
         "sentences": "In 2013, roughly $1.6 trillion was invested in energy infrastructure worldwide, with about 70% going to systems that depend on burning fossil fuels and the rest going to clean energy.",
         "_deepnote_index_column": 4587
        },
        {
         "sentences": "Fortunately, these percentages are starting to change; with the right policies, they could be reversed.",
         "_deepnote_index_column": 4588
        },
        {
         "sentences": "If investment in clean energy can be raised to at least $1 trillion per year by 2030, it will be possible to provide energy access to those most in need while cutting annual carbon-dioxide emissions by 5.5-7.5 gigatons – roughly what the United States emits in a year today.",
         "_deepnote_index_column": 4589
        },
        {
         "sentences": "Already, investments in clean energy are soaring as the cost of producing it plunges.",
         "_deepnote_index_column": 4590
        },
        {
         "sentences": "In many places, solar and wind energy are now competitive with fossil fuels.",
         "_deepnote_index_column": 4591
        },
        {
         "sentences": "As prices continue to fall and technologies mature, each dollar invested produces more power.",
         "_deepnote_index_column": 4592
        },
        {
         "sentences": "The $270 billion invested in renewable energy in 2014 created 36% more generating capacity than the $279 billion invested in 2011.",
         "_deepnote_index_column": 4593
        },
        {
         "sentences": "Thanks to this trend, the installation of capacity for the production of renewable energy exceeded that for fossil-fuel-based production for the first time ever in 2013.",
         "_deepnote_index_column": 4594
        },
        {
         "sentences": "The costs of off-grid electricity are also falling, providing exciting new opportunities to provide affordable and reliable power to rural communities.",
         "_deepnote_index_column": 4595
        },
        {
         "sentences": "Solar photovoltaic modules, which are about 80% cheaper now than they were in 2008, can be used in isolated locations.",
         "_deepnote_index_column": 4596
        },
        {
         "sentences": "And new developments in battery technology, together with declining manufacturing costs, are expanding the availability of off-grid energy storage.",
         "_deepnote_index_column": 4597
        },
        {
         "sentences": "And yet, despite these advances, the transition to clean energy is not happening fast enough.",
         "_deepnote_index_column": 4598
        },
        {
         "sentences": "At the current rate of change, the total share of global electricity production from renewable sources will reach just 20% by 2030.",
         "_deepnote_index_column": 4599
        },
        {
         "sentences": "That is less than half the 41% target that the International Energy Agency recommends if the world is to avert global warming of more than two degrees Celsius during this century.",
         "_deepnote_index_column": 4600
        },
        {
         "sentences": "Africa, where much of the energy infrastructure is being built from scratch, could take the lead in renewable energy production.",
         "_deepnote_index_column": 4601
        },
        {
         "sentences": "Indeed, the International Renewable Energy Agency estimates that the continent’s potential for wind and solar power alone amounts to more than 1.5 trillion gigawatt hours a year.",
         "_deepnote_index_column": 4602
        },
        {
         "sentences": "But if this opportunity is to be seized and the clean-energy transition accelerated, a series of institutional bottlenecks must be removed.",
         "_deepnote_index_column": 4603
        },
        {
         "sentences": "Governments must put in place stable and supportive policies and regulations, reduce investment risks in the sector, and properly price clean energy.",
         "_deepnote_index_column": 4604
        },
        {
         "sentences": "Steps should include the elimination of fossil-fuel subsidies, setting a price for CO2 emissions, and improving the governance of electricity markets.",
         "_deepnote_index_column": 4605
        },
        {
         "sentences": "Meanwhile, multilateral and national development banks should increase funding for climate-related investments, shift resources away from projects that imply a large carbon footprint, and coordinate stakeholders and investors, so that risks can be mitigated and private-sector finance can be attracted.",
         "_deepnote_index_column": 4606
        },
        {
         "sentences": "Cooperation between the public and private sector can improve the risk-reward profile of low-carbon energy projects.",
         "_deepnote_index_column": 4607
        },
        {
         "sentences": "Companies have a clear stake in low-carbon infrastructure, as climate change poses substantial risks for global supply chains.",
         "_deepnote_index_column": 4608
        },
        {
         "sentences": "The private sector can shift investment toward renewables through new financial instruments like credit guarantees and currency swaps, co-investment funds, and green bond markets.",
         "_deepnote_index_column": 4609
        },
        {
         "sentences": "The change is already underway: issuances of green bonds more than tripled between 2013 and 2014, to more than $35 billion worldwide.",
         "_deepnote_index_column": 4610
        },
        {
         "sentences": "Developing countries no longer have to choose between energy production and sustainability.",
         "_deepnote_index_column": 4611
        },
        {
         "sentences": "Affordable solutions to both problems are within reach, and much of the world – particularly Africa – has a unique opportunity to leapfrog to the next generation of electricity generation.",
         "_deepnote_index_column": 4612
        },
        {
         "sentences": "As the international community works this year to address the challenges of climate change and promote sustainable development, efforts to expand access to clean energy should be placed near the top of the agenda.",
         "_deepnote_index_column": 4613
        },
        {
         "sentences": "Africa’s Growing War on Corruption\nNAIROBI – To the chagrin of most Africans, the world has long viewed their continent through the prism of the three “Cs” – conflict, contagion, and corruption.",
         "_deepnote_index_column": 4614
        },
        {
         "sentences": "Yet the first two are anything but general.",
         "_deepnote_index_column": 4615
        },
        {
         "sentences": "Civil war is confined mainly to particular regions – for example, South Sudan or the Democratic Republic of Congo.",
         "_deepnote_index_column": 4616
        },
        {
         "sentences": "And Ebola in West Africa spread more to Europe and the United States than to the rest of the continent.",
         "_deepnote_index_column": 4617
        },
        {
         "sentences": "But the third, corruption, has been universal, blighting almost every country.",
         "_deepnote_index_column": 4618
        },
        {
         "sentences": "There are, however, encouraging glimmers of change.",
         "_deepnote_index_column": 4619
        },
        {
         "sentences": "If they grow and spread, Africa’s fortunes could brighten considerably.",
         "_deepnote_index_column": 4620
        },
        {
         "sentences": "Begin in Rwanda.",
         "_deepnote_index_column": 4621
        },
        {
         "sentences": "As President Paul Kagame advances a constitutional amendment to seek a third term in office, Western diplomats mutter darkly about the making of yet another African autocrat.",
         "_deepnote_index_column": 4622
        },
        {
         "sentences": "Visit the place, however, and you find a thriving country.",
         "_deepnote_index_column": 4623
        },
        {
         "sentences": "In most of Africa, a traffic stop means a bribe; in Rwanda, both the officer and the motorist would land in jail.",
         "_deepnote_index_column": 4624
        },
        {
         "sentences": "Government institutions work remarkably transparently, and the rule of law is real.",
         "_deepnote_index_column": 4625
        },
        {
         "sentences": "One Saturday a month, Kagame and citizens alike turn out to sweep the streets – a metaphor not lost on the global anti-corruption watchdog Transparency International, which ranks Rwanda as Africa’s cleanest country.",
         "_deepnote_index_column": 4626
        },
        {
         "sentences": "Now consider Nigeria, the continent’s largest oil producer.",
         "_deepnote_index_column": 4627
        },
        {
         "sentences": "By some estimates, previous rulers stole some 3% of the country’s GDP every year.",
         "_deepnote_index_column": 4628
        },
        {
         "sentences": "Those billions of petro-dollars could have built a modern Nigeria of good roads, hospitals, and schools.",
         "_deepnote_index_column": 4629
        },
        {
         "sentences": "Instead, the money went into a small elite’s mansions, cars, and foreign bank accounts.",
         "_deepnote_index_column": 4630
        },
        {
         "sentences": "Now a new president is rewriting the rules.",
         "_deepnote_index_column": 4631
        },
        {
         "sentences": "Since taking office in May, Muhammadu Buhari (like Kagame, a former soldier) has launched a concerted offensive against high-level corruption.",
         "_deepnote_index_column": 4632
        },
        {
         "sentences": "In November, two top officials were charged in a $2 billion scam to buy fighter jets, helicopters, and ammunition that were never delivered.",
         "_deepnote_index_column": 4633
        },
        {
         "sentences": "In October, the former oil minister and the chief of the national petroleum company were arrested.",
         "_deepnote_index_column": 4634
        },
        {
         "sentences": "Suddenly, personal austerity is all the rage.",
         "_deepnote_index_column": 4635
        },
        {
         "sentences": "Sales of Mercedes-Benzes and Rolls-Royces have tanked.",
         "_deepnote_index_column": 4636
        },
        {
         "sentences": "Ostentatious luxury villas go unsold.",
         "_deepnote_index_column": 4637
        },
        {
         "sentences": "Whether such reforms can go deep enough to make a difference depends partly on whether they gain traction elsewhere.",
         "_deepnote_index_column": 4638
        },
        {
         "sentences": "Here, too, there are propitious signs.",
         "_deepnote_index_column": 4639
        },
        {
         "sentences": "The president of tiny Benin, also in West Africa, recently apologized after corrupt officials made off with a $4 million foreign grant.",
         "_deepnote_index_column": 4640
        },
        {
         "sentences": "Senegal is mounting its own anti-corruption campaign.",
         "_deepnote_index_column": 4641
        },
        {
         "sentences": "And nowhere is drawing as much attention than Tanzania, where newly elected President John Pombe Magufuli has set a rare standard for leadership.",
         "_deepnote_index_column": 4642
        },
        {
         "sentences": "After visiting a hospital where patients lay in corridors, Magufuli downsized an opulent dinner marking the opening of parliament and spent the money on hospital beds.",
         "_deepnote_index_column": 4643
        },
        {
         "sentences": "He also canceled Independence Day celebrations and put the savings into stemming a cholera outbreak.",
         "_deepnote_index_column": 4644
        },
        {
         "sentences": "He banned business-class travel and expensive government retreats, sacked allegedly corrupt senior officials, and began streamlining complicated regulations that crooked bureaucrats exploited to extract hefty bribes.",
         "_deepnote_index_column": 4645
        },
        {
         "sentences": "In East Africa, where Twitter is popular, users are pressing their own governments to act with hashtags like #WhatWouldMagufuliDo?",
         "_deepnote_index_column": 4646
        },
        {
         "sentences": "That question is most salient in Kenya, the face of a rising Africa – and the continent’s third most corrupt country, according to Transparency International, surpassed only by two near-failed states, Liberia and Sierra Leone\nEvery day brings sensational news of mind-boggling plunder: pens and photocopiers purchased at many multiples of their market price; millions paid out to bogus contractors for phantom services; and state industrial plants simply disappearing – stripped and sold off as scrap by their executives.",
         "_deepnote_index_column": 4647
        },
        {
         "sentences": "Half of a recent $2.5 billion Eurobond issue has reportedly gone missing.",
         "_deepnote_index_column": 4648
        },
        {
         "sentences": "Members of parliament, among the world’s highest paid, unabashedly pad expenses and take expensive junkets, while neutering government investigative agencies and prohibiting journalists from casting lawmakers in a bad light.",
         "_deepnote_index_column": 4649
        },
        {
         "sentences": "The good news is that many of these revelations come from government inspectors and reformers bent on change.",
         "_deepnote_index_column": 4650
        },
        {
         "sentences": "They have been encouraged by President Uhuru Kenyatta, who has launched Kenya’s most ambitious good-governance campaign ever.",
         "_deepnote_index_column": 4651
        },
        {
         "sentences": "In the last few weeks, Kenyatta, a son of Kenya’s first president, fired a third of his cabinet, in his own words, “to curb rampant corruption.”\nPolice have raided senior officials’ houses, confiscating bags of cash in at least one instance, and the government has set reference prices for public procurement, established special corruption courts, and instituted so-called “lifestyle” audits of leading officeholders.",
         "_deepnote_index_column": 4652
        },
        {
         "sentences": "Kenyans are skeptical.",
         "_deepnote_index_column": 4653
        },
        {
         "sentences": "Corruption is too endemic, and the criminal cartels are too powerful, for brave talk to make a dent.",
         "_deepnote_index_column": 4654
        },
        {
         "sentences": "Yet progress must start somewhere, and now is the moment for Kenya’s international friends to step up.",
         "_deepnote_index_column": 4655
        },
        {
         "sentences": "In July, US President Barack Obama signed a pact to help Kenya in its war on corruption.",
         "_deepnote_index_column": 4656
        },
        {
         "sentences": "As with bilateral cooperation to fight terrorism, the pact focuses on illicit financial flows, in addition to the recovery of stolen assets.",
         "_deepnote_index_column": 4657
        },
        {
         "sentences": "The US has since imposed an entry ban on an unspecified number of public officials.",
         "_deepnote_index_column": 4658
        },
        {
         "sentences": "European countries should follow suit, in Kenya and elsewhere.",
         "_deepnote_index_column": 4659
        },
        {
         "sentences": "Nigeria’s President Buhari has urged the international community to crack down on the safe havens where corrupt leaders stash stolen wealth.",
         "_deepnote_index_column": 4660
        },
        {
         "sentences": "Freezing the foreign holdings of officials under investigation would be a big step.",
         "_deepnote_index_column": 4661
        },
        {
         "sentences": "So would local confiscation of purloined assets.",
         "_deepnote_index_column": 4662
        },
        {
         "sentences": "Kenya is expected to do so soon.",
         "_deepnote_index_column": 4663
        },
        {
         "sentences": "Most important is ending the culture of impunity.",
         "_deepnote_index_column": 4664
        },
        {
         "sentences": "A forthcoming survey of Kenyan youth conducted by the East African Institute at Aga Khan University found a startling “integrity deficit.”\nHalf of the respondents believe that how one earns money is irrelevant, and a third said they would readily give or take a bribe.",
         "_deepnote_index_column": 4665
        },
        {
         "sentences": "Three-quarters would not report corruption, fearing retribution.",
         "_deepnote_index_column": 4666
        },
        {
         "sentences": "Changing that mindset is crucial.",
         "_deepnote_index_column": 4667
        },
        {
         "sentences": "Corruption will never be wiped out in Africa or anywhere else.",
         "_deepnote_index_column": 4668
        },
        {
         "sentences": "But it should be an aberration, not an absolute.",
         "_deepnote_index_column": 4669
        },
        {
         "sentences": "Africa Is the Last Frontier for Global Growth\nNEW HAVEN – Africa today accounts for around 17% of the world’s population, but only about 3% of global GDP.",
         "_deepnote_index_column": 4670
        },
        {
         "sentences": "These statistics not only attest to a failure to tap the continent’s developmental potential, but also highlight the tremendous opportunities and risks ahead.",
         "_deepnote_index_column": 4671
        },
        {
         "sentences": "As long as Africa continues to lag economically, it will be a source of global instability and extremism.",
         "_deepnote_index_column": 4672
        },
        {
         "sentences": "But if it rises, it could be one of the major sources of growth for the world.",
         "_deepnote_index_column": 4673
        },
        {
         "sentences": "Project Syndicate commentators have once again shared some of their favorite books from the past year.",
         "_deepnote_index_column": 4674
        },
        {
         "sentences": "From economics, history, and long-form reporting to poetry and timely re-issues of old classics, all readers should find something of interest.",
         "_deepnote_index_column": 4675
        },
        {
         "sentences": "Africa is no stranger to suffering.",
         "_deepnote_index_column": 4676
        },
        {
         "sentences": "The continent has been ravaged by slavers, plundered by colonizers, exploited by world powers during the Cold War, and ravaged by the post-colonial conflicts leaving a legacy of relentless volatility, horrific violence, and widespread poverty.",
         "_deepnote_index_column": 4677
        },
        {
         "sentences": "Consider the atrocities committed by King Leopold II of Belgium in the so-called Congo Free State (today the Democratic Republic of the Congo, DRC) in the late 1890s, as he looted the country’s ivory and rubber.",
         "_deepnote_index_column": 4678
        },
        {
         "sentences": "As Adam Hochschild recounts in his book King Leopold’s Ghost, a young Edmund Morel, who witnessed Leopold’s plunder for profit, described the forced labor, “directed by the [king’s] closest associates,” as “terrible and continuous.”\nWomen were abducted and raped.",
         "_deepnote_index_column": 4679
        },
        {
         "sentences": "Men were enslaved and worked to death.",
         "_deepnote_index_column": 4680
        },
        {
         "sentences": "Resisters risked death, and their hands would be severed – while they were still alive – as proof of punishment.",
         "_deepnote_index_column": 4681
        },
        {
         "sentences": "And with nobody left to cultivate or find food, millions suffered near-famine and died of diseases that they might have survived otherwise.",
         "_deepnote_index_column": 4682
        },
        {
         "sentences": "“It must be bad enough to stumble upon a murder,” recalled Morel.",
         "_deepnote_index_column": 4683
        },
        {
         "sentences": "“I had stumbled upon a secret society of murderers with a King for a croniman.”\nWell over a century later, the DRC still struggles to maintain peace and stability, let alone secure growth and development.",
         "_deepnote_index_column": 4684
        },
        {
         "sentences": "Indeed, all of Central Africa has suffered from seemingly unremitting conflicts – a dynamic that, since the end of the Cold War, “developed into an avalanche of killing and destruction,” as the regional analyst and advocate Kris Berwouts put it a decade ago.",
         "_deepnote_index_column": 4685
        },
        {
         "sentences": "Approximately six million people died as a direct or indirect consequence of the two wars in the DRC – in 1996-1997 and 1998-2002 – which followed the brutal genocide in Rwanda.",
         "_deepnote_index_column": 4686
        },
        {
         "sentences": "Yet, in spite of this history, Africa has managed to make important gains in recent decades.",
         "_deepnote_index_column": 4687
        },
        {
         "sentences": "In Sub-Saharan Africa, GDP growth has averaged 5% per year since 2000.",
         "_deepnote_index_column": 4688
        },
        {
         "sentences": "For the entire continent, the rate is only slightly lower.",
         "_deepnote_index_column": 4689
        },
        {
         "sentences": "Enjoy unlimited access to the ideas and opinions of the world's leading thinkers, including weekly long reads, book reviews, and interviews; The Year Ahead annual print magazine; the complete PS archive; and more – All for less than $9 a month.",
         "_deepnote_index_column": 4690
        },
        {
         "sentences": "Moreover, according to a 2019 World Bank report, poverty in Africa (defined as income of less than $1.90 per day) declined from 54% in 1990 to just over 41% – affecting around 400 million people – in 2015.",
         "_deepnote_index_column": 4691
        },
        {
         "sentences": "If the economy continues to grow at today’s rate through 2030, the continent’s poverty rate will decline to 23%.",
         "_deepnote_index_column": 4692
        },
        {
         "sentences": "Given rates of poverty reduction elsewhere in the world, however, this would still represent a rising share of global poverty.",
         "_deepnote_index_column": 4693
        },
        {
         "sentences": "Africa has the potential to go much further.",
         "_deepnote_index_column": 4694
        },
        {
         "sentences": "The world’s youngest and fastest-urbanizing continent, Africa will have 24 million more people, on average, living in its cities each year between 2015 and 2045 – more than India and China combined – according to a 2016 McKinsey & Company estimate.",
         "_deepnote_index_column": 4695
        },
        {
         "sentences": "This implies major increases in consumption.",
         "_deepnote_index_column": 4696
        },
        {
         "sentences": "Already, spending by consumers and businesses in Africa totals $4 trillion.",
         "_deepnote_index_column": 4697
        },
        {
         "sentences": "Household consumption is expected to grow by 3.8% annually until 2025, reaching $2.1 trillion, and business spending should grow from $2.6 trillion in 2015 to $3.5 trillion in 2025.",
         "_deepnote_index_column": 4698
        },
        {
         "sentences": "Altogether, the McKinsey report predicts $5.6 trillion in African business opportunities by 2025.",
         "_deepnote_index_column": 4699
        },
        {
         "sentences": "Some of these opportunities lie in agriculture: if Africa, which possesses 60% of the world’s uncultivated arable land, intensified its agricultural productivity, it could produce 2-3 times more cereals and grains, with similar increases in horticulture crops and livestock.",
         "_deepnote_index_column": 4700
        },
        {
         "sentences": "Other opportunities lie in infrastructure: as of 2010, Africa still needed at least $46 billion in additional spending each year to upgrade its energy, water, and transportation networks.",
         "_deepnote_index_column": 4701
        },
        {
         "sentences": "Of course, some valuable investment opportunities also involve Africa’s abundant natural resources, which include 10% of the world’s oil reserves, 40% of its gold, and 80% of its platinum.",
         "_deepnote_index_column": 4702
        },
        {
         "sentences": "But the importance of such resources to Africa’s future prosperity shouldn’t be overestimated.",
         "_deepnote_index_column": 4703
        },
        {
         "sentences": "According to a 2019 Goldman Sachs economic research report, commodities have accounted for only around 30% of Africa’s GDP growth since 2000.",
         "_deepnote_index_column": 4704
        },
        {
         "sentences": "In fact, the report concludes, the drivers of Africa’s “secular acceleration” appear to be “deep and structural.”\nThis reflects success, which needs to be reinforced from now on by continuing to strengthen institutions, support political stability, promote democratization, enhance policy coordination, improve ease of doing business, reduce debt, open financial markets, attract foreign direct investment, facilitate technology transfers, and nurture human capital (such as through education and health care).",
         "_deepnote_index_column": 4705
        },
        {
         "sentences": "Some countries – particularly the smaller economies of East Africa – are already demonstrating how powerful such reforms can be.",
         "_deepnote_index_column": 4706
        },
        {
         "sentences": "If the entire continent took this approach, sustaining and accelerating the needed reforms over the next half-century, some believe that Africa could emulate China’s rapid rise of the last 50 years.",
         "_deepnote_index_column": 4707
        },
        {
         "sentences": "But not everyone is optimistic about Africa’s ability to fulfill its promise.",
         "_deepnote_index_column": 4708
        },
        {
         "sentences": "Some doubt that the continent will manage to overcome its legacy of slavery, colonialism, and great-power competition.",
         "_deepnote_index_column": 4709
        },
        {
         "sentences": "There are also concerns about the global economic landscape, especially trade tensions between the United States and China, and the attendant effects on growth and commodity prices.",
         "_deepnote_index_column": 4710
        },
        {
         "sentences": "Much will hinge on the performance of Africa’s largest economies – Egypt, Nigeria, and South Africa – and progress on making the African Continental Free Trade Area a functioning regional economic bloc.",
         "_deepnote_index_column": 4711
        },
        {
         "sentences": "If Africa succeeds, it could lift millions of its own out of poverty, while serving as a stable and prosperous economic partner for the rest of the world.",
         "_deepnote_index_column": 4712
        },
        {
         "sentences": "Otherwise, the continent will remain constrained by poverty, institutional lethargy, and corruption, which will feed instability, and possibly spill over to the rest of the world.",
         "_deepnote_index_column": 4713
        },
        {
         "sentences": "Africa will soon to be home to one-fifth of the global population.",
         "_deepnote_index_column": 4714
        },
        {
         "sentences": "The world would sleep easier if the continent could put itself on the road to growth and prosperity.",
         "_deepnote_index_column": 4715
        },
        {
         "sentences": "Investing in Africans’ Health\nLOMÉ – Africa’s health sector represents a massive investment opportunity, estimated by the United Nations Economic Commission for Africa to be worth $66 billion annually.",
         "_deepnote_index_column": 4716
        },
        {
         "sentences": "Yet African leaders and donors continue to discuss Africa’s health-care systems in terms of funding gaps.",
         "_deepnote_index_column": 4717
        },
        {
         "sentences": "In fact, those gaps will close only when Africa is viewed as an investment destination, not a foreign-aid recipient.",
         "_deepnote_index_column": 4718
        },
        {
         "sentences": "Following its targeted killing of Iran's second most powerful leader, the US could well find itself with no alternative but to devote more military resources to the Middle East, a path that could lead to additional Iranian provocations.",
         "_deepnote_index_column": 4719
        },
        {
         "sentences": "And that shift would occur at a time of growing challenges to US interests elsewhere in the world.",
         "_deepnote_index_column": 4720
        },
        {
         "sentences": "The targeted killing by the United States of one of Iran's top military leaders represents a significant symbolic defeat for the Iranian regime, but it does not augur all-out war.",
         "_deepnote_index_column": 4721
        },
        {
         "sentences": "After all, Iran and the US have already been at war for decades, and neither side has an interest in an uncontrolled military escalation now.",
         "_deepnote_index_column": 4722
        },
        {
         "sentences": "As in previous years, Project Syndicate asked its commentators to offer their best guesses about the events and trends that will define the coming 12 months.",
         "_deepnote_index_column": 4723
        },
        {
         "sentences": "If there is one common theme in this year's selection, it is that what happens in 2020 will weigh on the present for many years to come.",
         "_deepnote_index_column": 4724
        },
        {
         "sentences": "A strong health-care system is a prerequisite for economic development.",
         "_deepnote_index_column": 4725
        },
        {
         "sentences": "But the development aid to Africa that is designated for health is not predictable enough to sustain the kinds of long-term investments that are needed.",
         "_deepnote_index_column": 4726
        },
        {
         "sentences": "Importing pharmaceuticals, for example, costs Africa an estimated $14 billion annually.",
         "_deepnote_index_column": 4727
        },
        {
         "sentences": "Creating the conditions for local pharmaceutical manufacturing would not only slash that bill; it would also result in the creation of 16 million jobs.",
         "_deepnote_index_column": 4728
        },
        {
         "sentences": "(This is yet another reason to support the African Continental Free Trade Area, AfCFTA.)",
         "_deepnote_index_column": 4729
        },
        {
         "sentences": "Yet aid is often promised according to three-year timelines, with no guarantee that it will actually be delivered when needed to fund planned programs.",
         "_deepnote_index_column": 4730
        },
        {
         "sentences": "Of course, domestic public resources could be used for this purpose.",
         "_deepnote_index_column": 4731
        },
        {
         "sentences": "But low economic growth and high debt-servicing costs have left many African governments with limited fiscal space.",
         "_deepnote_index_column": 4732
        },
        {
         "sentences": "Yet, with a greater focus on improving tax collection, Africans stand a better chance of increasing their domestic revenues.",
         "_deepnote_index_column": 4733
        },
        {
         "sentences": "And budgets are often subject to shifting political leadership and priorities, which can preclude consistent, long-term investment.",
         "_deepnote_index_column": 4734
        },
        {
         "sentences": "The result is that health-care spending in Africa is woefully inadequate.",
         "_deepnote_index_column": 4735
        },
        {
         "sentences": "In 2015, the continent accounted for just 2% of the $9.7 trillion in global health-care spending, even though it represents 16% of the global population and 26% of the global disease burden.",
         "_deepnote_index_column": 4736
        },
        {
         "sentences": "Increasing health-care spending in Africa is not a matter of ramping up aid; the limits of external generosity are clearly already being reached.",
         "_deepnote_index_column": 4737
        },
        {
         "sentences": "Rather, it is about getting private actors – especially Africans – to seize the relevant business opportunities.",
         "_deepnote_index_column": 4738
        },
        {
         "sentences": "The scale of those opportunities should not be underestimated.",
         "_deepnote_index_column": 4739
        },
        {
         "sentences": "Rapid population growth, coupled with longer life expectancy, means that countries’ health-care needs will skyrocket in the coming years.",
         "_deepnote_index_column": 4740
        },
        {
         "sentences": "By 2030, 14% of business opportunities in global health are expected to be in Africa, and the continent’s health and wellbeing markets will be worth $259 billion.",
         "_deepnote_index_column": 4741
        },
        {
         "sentences": "Meeting the health-care needs of a growing African population – and thereby ensuring that the continent has a healthy workforce to drive economic transformation – will require funding that is more predictable and sustainable, guided by reliable long-term strategies.",
         "_deepnote_index_column": 4742
        },
        {
         "sentences": "Here, the African diaspora should take the lead.",
         "_deepnote_index_column": 4743
        },
        {
         "sentences": "As it stands, health-care spending funded by money from the African diaspora is more likely to be used to pay the medical bills of a sick relative (or, more broadly, on consumption) than to be invested in strengthening the system.",
         "_deepnote_index_column": 4744
        },
        {
         "sentences": "Such investment would require pooling and channeling resources (via trusted intermediaries) toward projects that can meet the needs of entire communities at any given moment.",
         "_deepnote_index_column": 4745
        },
        {
         "sentences": "And this presupposes a shift in focus from top-down solutions to the development of resilient systems that start at the community level.",
         "_deepnote_index_column": 4746
        },
        {
         "sentences": "For example, two million community health workers will be needed by 2020 to ensure that every African has access to quality care.",
         "_deepnote_index_column": 4747
        },
        {
         "sentences": "This is not a new solution; community health workers were key to the health care received by my own parents in Côte d’Ivoire in the 1950s.",
         "_deepnote_index_column": 4748
        },
        {
         "sentences": "But predictable funding is needed to build a system that can meet today’s health-care needs, while creating two million jobs.",
         "_deepnote_index_column": 4749
        },
        {
         "sentences": "Other targeted investments include disease management, a market estimated to be worth $14 billion, and remote patient monitoring, estimated to be worth $15 billion.",
         "_deepnote_index_column": 4750
        },
        {
         "sentences": "The more stable the investment environment is, the more willing private-sector actors will be to fund the kinds of large-scale interventions needed to unlock Africa’s productive potential.",
         "_deepnote_index_column": 4751
        },
        {
         "sentences": "Establishing special economic zones, which have been successful in countries like Ethiopia, will further boost predictability and confidence, driving further progress.",
         "_deepnote_index_column": 4752
        },
        {
         "sentences": "As leaders gear up for the World Health Organization’s 72nd World Health Assembly in Geneva this month, it is worth highlighting the limits of donor-driven development in Africa.",
         "_deepnote_index_column": 4753
        },
        {
         "sentences": "To lay the foundations for economic transformation – including by implementing AfCFTA – Africans at home and abroad must step up.",
         "_deepnote_index_column": 4754
        },
        {
         "sentences": "In the long term, the economist John Maynard Keynes reminded us, we are all dead.",
         "_deepnote_index_column": 4755
        },
        {
         "sentences": "But long-term health investment is for the living.",
         "_deepnote_index_column": 4756
        },
        {
         "sentences": "It means that those whose lives are just beginning will be able to build a more prosperous future and ensure that future generations, too, enjoy longer, healthier, more productive lives.",
         "_deepnote_index_column": 4757
        },
        {
         "sentences": "Health Coverage Must Not Ignore Africa’s Elderly\nDAR ES SALAAM – My grandmother is 76, and my grandfather is 83.",
         "_deepnote_index_column": 4758
        },
        {
         "sentences": "They have lived fruitful lives together, cultivating crops and grazing cattle in a remote village in the hills of southwest Uganda.",
         "_deepnote_index_column": 4759
        },
        {
         "sentences": "But whenever I think of them, I am more in awe of their good health than their hard work.",
         "_deepnote_index_column": 4760
        },
        {
         "sentences": "Because of the remoteness of their community, anytime my grandparents need medical care, they must travel 25 miles to the nearest hospital on motorcycles known as boda-bodas, paying about 50,000 Ugandan shillings (about $13) for the round-trip journey.",
         "_deepnote_index_column": 4761
        },
        {
         "sentences": "Then, because they were recently dropped from their health-insurance plan due to age, they must cough up more money to foot the bill for treatment.",
         "_deepnote_index_column": 4762
        },
        {
         "sentences": "In other words, for my grandparents – and for many older Africans – a visit to the doctor is onerous, costly, and exceedingly rare.",
         "_deepnote_index_column": 4763
        },
        {
         "sentences": "Access to health care is an obsession for experts in international development.",
         "_deepnote_index_column": 4764
        },
        {
         "sentences": "In May, at the World Health Organization’s annual World Health Assembly, officials from dozens of countries discussed how to achieve universal health coverage through the United Nations Sustainable Development Goals.",
         "_deepnote_index_column": 4765
        },
        {
         "sentences": "And yet, most of the attention centered on mothers, newborns, and children; elderly populations in developing countries were largely ignored.",
         "_deepnote_index_column": 4766
        },
        {
         "sentences": "Failure to address this omission would leave an increasing share of the population without access to affordable health care.",
         "_deepnote_index_column": 4767
        },
        {
         "sentences": "According to the World Bank, life expectancy in Sub-Saharan Africa has risen steadily in recent decades, from just 40 years in 1960 to 60 years today.",
         "_deepnote_index_column": 4768
        },
        {
         "sentences": "If this trend continues, the number of Africans living past their 60th birthday will more than double by 2050.",
         "_deepnote_index_column": 4769
        },
        {
         "sentences": "This is of course good news; longevity is a key indicator of human development.",
         "_deepnote_index_column": 4770
        },
        {
         "sentences": "But Africa’s elder boom will be a disaster if living longer means living sicker because of inadequate health care.",
         "_deepnote_index_column": 4771
        },
        {
         "sentences": "In Uganda, many rural health-care centers lack the personnel, supplies, and infrastructure to meet the needs of older patients.",
         "_deepnote_index_column": 4772
        },
        {
         "sentences": "Small clinics typically refer their oldest patients to the closest big hospital, which is often many miles away.",
         "_deepnote_index_column": 4773
        },
        {
         "sentences": "Traveling by motorcycle over rough terrain can worsen health conditions; but with no other options, the frail must choose between a bumpy ride on the back of a bike and no treatment at all.",
         "_deepnote_index_column": 4774
        },
        {
         "sentences": "It’s hard to blame those who opt for the latter.",
         "_deepnote_index_column": 4775
        },
        {
         "sentences": "According to a 2010 survey by doctors at the Mulago National Referral Hospital in Kampala, boda-bodas are Uganda’s leading cause of road-related injuries.",
         "_deepnote_index_column": 4776
        },
        {
         "sentences": "During the survey period, motorcycle passengers accounted for 41% of the hospital’s 1,500 trauma cases, and riders’ injuries consumed 62.5% of the hospital’s surgery budget.",
         "_deepnote_index_column": 4777
        },
        {
         "sentences": "Given the dangers of travel, it is no wonder that my grandparents are reluctant to seek medical care.",
         "_deepnote_index_column": 4778
        },
        {
         "sentences": "Of course, the biggest obstacle to health care in Uganda – like everywhere else – is money.",
         "_deepnote_index_column": 4779
        },
        {
         "sentences": "In 2015, researchers at Makerere University found that household income is the main determinant of elderly people’s access to and use of health-care services.",
         "_deepnote_index_column": 4780
        },
        {
         "sentences": "The story is similar in the United States, where average annual health-care costs have been increasing for decades.",
         "_deepnote_index_column": 4781
        },
        {
         "sentences": "But while older patients in the US can turn to Medicare (which accounted for 15% of federal spending in 2017), the elderly in most African countries have less government support.",
         "_deepnote_index_column": 4782
        },
        {
         "sentences": "Still, a dearth of dedicated resources does not mean that Africa’s leaders must ignore their older constituents.",
         "_deepnote_index_column": 4783
        },
        {
         "sentences": "By combining elder-care services with existing programs, health benefits can be extended to underserved populations.",
         "_deepnote_index_column": 4784
        },
        {
         "sentences": "For example, single-sector initiatives, like HIV/AIDS treatment schemes, could include elderly-friendly health-care components.",
         "_deepnote_index_column": 4785
        },
        {
         "sentences": "Health-care workers who serve expectant and new mothers could also be trained to provide in-home care for the elderly in multigenerational households.",
         "_deepnote_index_column": 4786
        },
        {
         "sentences": "These types of initiatives would not require vast sums of money; rather, the most important factor in launching them is political support and effective program integration.",
         "_deepnote_index_column": 4787
        },
        {
         "sentences": "Developing countries have made considerable gains when it comes to improving health care for the young.",
         "_deepnote_index_column": 4788
        },
        {
         "sentences": "Now, we must do the same for the elderly.",
         "_deepnote_index_column": 4789
        },
        {
         "sentences": "In Uganda, the government’s national health-care strategy could easily be strengthened by adding seniors to the list of so-called vulnerable groups.",
         "_deepnote_index_column": 4790
        },
        {
         "sentences": "Integrating elder-care options into existing frameworks – such as the health extension program in Ethiopia, the community-based health program in Tanzania, and village health teams in my country – are other ways to extend coverage.",
         "_deepnote_index_column": 4791
        },
        {
         "sentences": "Finally, community health-insurance schemes must be overhauled to prevent the exclusion of poor older patients.",
         "_deepnote_index_column": 4792
        },
        {
         "sentences": "To maintain coverage and protect the elderly from financial ruin, reforms are needed to create plans that are financially sound and drawn from a larger pool of subscribers.",
         "_deepnote_index_column": 4793
        },
        {
         "sentences": "We all yearn to live long, healthy, productive lives – just as my grandparents have.",
         "_deepnote_index_column": 4794
        },
        {
         "sentences": "But without lifelong access to quality health care, longevity will be more luck than science.",
         "_deepnote_index_column": 4795
        },
        {
         "sentences": "The integrity of any society can be judged by how well it treats its youngest and oldest members.",
         "_deepnote_index_column": 4796
        },
        {
         "sentences": "That calculus applies to governments, too.",
         "_deepnote_index_column": 4797
        },
        {
         "sentences": "Africa’s Must-Do Decade\nVIENNA – Since 2000, Africa has recorded impressive rates of economic growth, owing largely to development assistance and a prolonged commodity boom.",
         "_deepnote_index_column": 4798
        },
        {
         "sentences": "While the continent shows great diversity in the socioeconomic trajectories, growth rates have generally masked an underlying lack of structural transformation.",
         "_deepnote_index_column": 4799
        },
        {
         "sentences": "Many African countries have yet to undergo the kind of transformation that is necessary for socially inclusive and environmentally sustainable development over the long term: namely, industrialization.",
         "_deepnote_index_column": 4800
        },
        {
         "sentences": "Wherever industrialization has occurred, it has reliably improved economic diversification and helped to nurture, strengthen, and uphold the conditions for competitive growth and development.",
         "_deepnote_index_column": 4801
        },
        {
         "sentences": "In recent decades, some developing countries – mainly in Asia – have managed to industrialize.",
         "_deepnote_index_column": 4802
        },
        {
         "sentences": "But, despite repeated attempts, African countries have not.",
         "_deepnote_index_column": 4803
        },
        {
         "sentences": "In 2014, the Asia and Pacific region’s share of value added in global manufacturing was 44.6%, whereas Africa’s was just 1.6%.",
         "_deepnote_index_column": 4804
        },
        {
         "sentences": "With South Africa as its only industrialized country, Sub-Saharan Africa is the least industrialized region in the world.",
         "_deepnote_index_column": 4805
        },
        {
         "sentences": "For African countries to achieve sustainable development, they will have to increase substantially the share of industry – especially manufacturing – in their national investment, output, and trade.",
         "_deepnote_index_column": 4806
        },
        {
         "sentences": "And, to their credit, most African countries already recognize that such a transformation is necessary to address a wide range of interconnected challenges that they are now confronting.",
         "_deepnote_index_column": 4807
        },
        {
         "sentences": "One such challenge is population growth.",
         "_deepnote_index_column": 4808
        },
        {
         "sentences": "More than half of the continent’s 1.2 billion people are under the age of 19, and almost one in five are between the ages of 15 and 24.",
         "_deepnote_index_column": 4809
        },
        {
         "sentences": "Each year, 12 million new workers join the labor force, and they will need the tools and skills to ensure their future livelihoods.",
         "_deepnote_index_column": 4810
        },
        {
         "sentences": "Industrialization is the key to helping Africa’s fast-growing population realize a demographic dividend.",
         "_deepnote_index_column": 4811
        },
        {
         "sentences": "A related challenge is migration.",
         "_deepnote_index_column": 4812
        },
        {
         "sentences": "Many of Africa’s most ambitious and entrepreneurially minded young people are joining others in migrating north.",
         "_deepnote_index_column": 4813
        },
        {
         "sentences": "But no country, especially in Africa, can afford to lose so much talent and potential.",
         "_deepnote_index_column": 4814
        },
        {
         "sentences": "Industrialization alone cannot resolve the migration crisis, but it can address one root cause, by creating jobs in the countries of origin.",
         "_deepnote_index_column": 4815
        },
        {
         "sentences": "A third challenge is climate change, which weighs heavily on countries where agriculture is still the primary sector for employment.",
         "_deepnote_index_column": 4816
        },
        {
         "sentences": "To confront the threat, Africa will need to develop and adopt green technologies, while channeling more investment into resource efficiency and clean energy.",
         "_deepnote_index_column": 4817
        },
        {
         "sentences": "With the right investments, African countries can reduce the cost of delivering power to rural areas, and contribute to global efforts to reduce emissions and mitigate the effects of climate change.",
         "_deepnote_index_column": 4818
        },
        {
         "sentences": "In short, Africa must industrialize, and it must do so in a socially inclusive and environmentally sustainable manner.",
         "_deepnote_index_column": 4819
        },
        {
         "sentences": "Given that most previous efforts at sustainable development in Africa have failed, there is a clear need for a new approach: a broad-based, country-owned process that taps financial and non-financial resources, promotes regional integration, and fosters cooperation among Africa’s development partners.",
         "_deepnote_index_column": 4820
        },
        {
         "sentences": "As it happens, the United Nations General Assembly has declared 2016-2025 to be the Third Industrial Development Decade for Africa.",
         "_deepnote_index_column": 4821
        },
        {
         "sentences": "During IDDA III, the United Nations Industrial Development Organization, which I lead, will spearhead the new approach to sustainable development sketched above.",
         "_deepnote_index_column": 4822
        },
        {
         "sentences": "UNIDO has put its full support behind partnerships for mobilizing resources, and is offering a tested model for African countries to follow: the Programme for Country Partnership (PCP).",
         "_deepnote_index_column": 4823
        },
        {
         "sentences": "UNIDO’s PCP provides countries with technical assistance, policy advice, and investments to help them design and implement industrialization strategies.",
         "_deepnote_index_column": 4824
        },
        {
         "sentences": "The program was launched in 2014, and is already being successfully implemented in two African countries – Ethiopia and Senegal – and in Peru.",
         "_deepnote_index_column": 4825
        },
        {
         "sentences": "The PCP provides a multi-stakeholder partnership model that can be adapted to each country’s national development agenda.",
         "_deepnote_index_column": 4826
        },
        {
         "sentences": "It is designed to work in synergy with governments and their partners’ ongoing development efforts, while funneling additional funds and investments toward sectors that have high growth potential and are important to a particular government’s industrial-development agenda.",
         "_deepnote_index_column": 4827
        },
        {
         "sentences": "Priority sectors are typically chosen for their job-creation, investment, and export potential, and for their access to necessary raw materials.",
         "_deepnote_index_column": 4828
        },
        {
         "sentences": "The PCP approach is designed to maximize the impact of all partner programs and projects that are relevant to industrial development.",
         "_deepnote_index_column": 4829
        },
        {
         "sentences": "To that end, strategic partnerships with financial institutions and the business sector are particularly important.",
         "_deepnote_index_column": 4830
        },
        {
         "sentences": "With these in place, African countries can marshal additional resources for infrastructure, innovation, expertise, and new technologies.",
         "_deepnote_index_column": 4831
        },
        {
         "sentences": "UNIDO’s goal is to make the PCP model the mainstream approach for all African countries.",
         "_deepnote_index_column": 4832
        },
        {
         "sentences": "We stand ready to support Africa on its path to inclusive and sustainable industrial development – during IDDA III and beyond.",
         "_deepnote_index_column": 4833
        },
        {
         "sentences": "Africa’s Decade of Industrialization\nVIENNA – In today’s interdependent global economy, Africa remains a weak link.",
         "_deepnote_index_column": 4834
        },
        {
         "sentences": "If the world is to achieve the Sustainable Development Goals, thereby completing the United Nations 2030 Agenda for Sustainable Development, it must help Africa accelerate its development by promoting rapid and responsible industrialization.",
         "_deepnote_index_column": 4835
        },
        {
         "sentences": "Africa is by no means destined to lag behind the rest of the world economy.",
         "_deepnote_index_column": 4836
        },
        {
         "sentences": "On the contrary, it could easily become a global economic powerhouse – and within the next decade.",
         "_deepnote_index_column": 4837
        },
        {
         "sentences": "But, to fulfill its economic potential, Africa must industrialize.",
         "_deepnote_index_column": 4838
        },
        {
         "sentences": "The importance of this has been stressed repeatedly at recent international forums, including last August’s Sixth Tokyo International Conference on African Development (TICAD VI), and the G20 summit in Hangzhou, China, the following month.",
         "_deepnote_index_column": 4839
        },
        {
         "sentences": "For the first time, the G20 placed industrialization in Africa – and all of the Least Developed Countries (LDCs) – on its agenda.",
         "_deepnote_index_column": 4840
        },
        {
         "sentences": "The African Union’s Agenda 2063 also supports this drive.",
         "_deepnote_index_column": 4841
        },
        {
         "sentences": "The recent UN General Assembly resolution declaring 2016-2025 the Third Industrial Development Decade for Africa is yet another push in this direction.",
         "_deepnote_index_column": 4842
        },
        {
         "sentences": "The organization that I represent, the UN Industrial Development Organization (UNIDO), has been tasked with operationalizing and leading the implementation of the concomitant program, including mobilizing the needed resources.",
         "_deepnote_index_column": 4843
        },
        {
         "sentences": "All of these declarations and commitments are an important first step.",
         "_deepnote_index_column": 4844
        },
        {
         "sentences": "But they will mean little unless they are translated into concrete and effective action that advances African industrialization, creates jobs, and fosters inclusive and sustainable economic growth and development.",
         "_deepnote_index_column": 4845
        },
        {
         "sentences": "The question is how.",
         "_deepnote_index_column": 4846
        },
        {
         "sentences": "The short answer is money and action.",
         "_deepnote_index_column": 4847
        },
        {
         "sentences": "We must challenge the international community and development partners to back their words with real financial commitments.",
         "_deepnote_index_column": 4848
        },
        {
         "sentences": "And we must build partnerships to operationalize programs that will enable Africa to become the world’s next main engine of economic growth.",
         "_deepnote_index_column": 4849
        },
        {
         "sentences": "Such programs must recognize and tackle the acute challenges the continent faces.",
         "_deepnote_index_column": 4850
        },
        {
         "sentences": "The economic growth experienced in recent decades has not been structurally driven, sustainable, or fully inclusive.",
         "_deepnote_index_column": 4851
        },
        {
         "sentences": "Indeed, growth rates vary widely across the continent, and not all Africans are benefiting.",
         "_deepnote_index_column": 4852
        },
        {
         "sentences": "Though the middle class in Africa has expanded markedly in recent years, generating a consumer boom and boosting domestic investment, many people still struggle to make a living.",
         "_deepnote_index_column": 4853
        },
        {
         "sentences": "Unemployment rates are high, especially for young people and women – a reality that drives many Africans to head north.",
         "_deepnote_index_column": 4854
        },
        {
         "sentences": "To keep them home, Africa’s economies must move beyond producing raw materials to build dynamic and competitive manufacturing sectors with higher value added.",
         "_deepnote_index_column": 4855
        },
        {
         "sentences": "Here, Africa must draw on the opportunities presented by participation in global and regional value chains.",
         "_deepnote_index_column": 4856
        },
        {
         "sentences": "New and innovative industrial-development strategies, as well as carefully tailored measures to attract foreign direct investment, must be introduced.",
         "_deepnote_index_column": 4857
        },
        {
         "sentences": "Of course, to develop such strategies and participate effectively in industrial value chains, Africans need knowledge.",
         "_deepnote_index_column": 4858
        },
        {
         "sentences": "Investment in education and skills training is imperative to facilitate successful and lasting industrialization.",
         "_deepnote_index_column": 4859
        },
        {
         "sentences": "By understanding and drawing on proven innovations from around the world, Africa could leapfrog more developed countries technologically, building the capacity to produce more sophisticated, higher-value goods.",
         "_deepnote_index_column": 4860
        },
        {
         "sentences": "Knowledge of other countries’ experiences will also help Africa to avoid the pitfalls of unbridled industrialization – particularly environmental damage.",
         "_deepnote_index_column": 4861
        },
        {
         "sentences": "Africa must ensure that its industrial-development strategy includes effective environmental safeguards.",
         "_deepnote_index_column": 4862
        },
        {
         "sentences": "Africa is well placed to industrialize.",
         "_deepnote_index_column": 4863
        },
        {
         "sentences": "Beyond its massive natural-resource endowments, the continent has a favorable demographic profile (its rapidly growing population means that it will soon have the world’s largest workforce) and high urbanization rates.",
         "_deepnote_index_column": 4864
        },
        {
         "sentences": "It also benefits from a highly educated diaspora.",
         "_deepnote_index_column": 4865
        },
        {
         "sentences": "But industrialization is never automatic.",
         "_deepnote_index_column": 4866
        },
        {
         "sentences": "Governments must step up to address market failures, while planning, implementing, and enforcing industrial policies that address the shortcomings of previous ineffective versions.",
         "_deepnote_index_column": 4867
        },
        {
         "sentences": "They must then institutionalize these new policies in national and regional development strategies.",
         "_deepnote_index_column": 4868
        },
        {
         "sentences": "To succeed, governments will need adequate capacity, competence, and legitimacy to mobilize and interact with all stakeholders, thereby creating an attractive investment climate.",
         "_deepnote_index_column": 4869
        },
        {
         "sentences": "The necessary reforms will open the way for public-private partnerships, which can provide investment for infrastructure development and maintenance.",
         "_deepnote_index_column": 4870
        },
        {
         "sentences": "They will also facilitate cooperation with international organizations and development finance institutions, which can provide additional funds, while helping countries to upgrade their productive capacity.",
         "_deepnote_index_column": 4871
        },
        {
         "sentences": "A recent report, prepared for the Hangzhou G20 Summit, features a number of recommendations for Africa.",
         "_deepnote_index_column": 4872
        },
        {
         "sentences": "It suggests support for agriculture and agribusiness development and linking them with other sectors, as well as measures to boost resilience to price shocks.",
         "_deepnote_index_column": 4873
        },
        {
         "sentences": "Furthermore, the report emphasizes the need to deepen, broaden, and update the local knowledge base, invest in energy- and material-resource efficiency, and promote green technologies and industries.",
         "_deepnote_index_column": 4874
        },
        {
         "sentences": "Other recommendations relate to trade and regional integration, leveraging domestic and external finance, and promoting what it calls the “New Industrial Revolution.”\nMy numerous meetings with African leaders and visits to dozens of countries across the continent have convinced me that Africa is committed to industrialization.",
         "_deepnote_index_column": 4875
        },
        {
         "sentences": "In fact, the process is already underway in many countries, including Ethiopia, Ghana, Rwanda, and Senegal.",
         "_deepnote_index_column": 4876
        },
        {
         "sentences": "By offering our commitment and support, we can enable these countries to realize inclusive and sustainable development for the benefit of everyone.",
         "_deepnote_index_column": 4877
        },
        {
         "sentences": "A Roadmap for African Industrialization\nABIDJAN – Africa is at a crossroads.",
         "_deepnote_index_column": 4878
        },
        {
         "sentences": "Six of the world’s ten fastest-growing economies are now located in the region, and the continent’s GDP is expected to grow at a rate of 4.1% this year, up from 3.6% in 2017.",
         "_deepnote_index_column": 4879
        },
        {
         "sentences": "Yet Africa’s economic growth has not been accompanied by a commensurate level of job creation, which has particularly negative implications for women and young people.",
         "_deepnote_index_column": 4880
        },
        {
         "sentences": "In fact, today’s jobless growth could even reverse the gains made in eradicating poverty in recent years.",
         "_deepnote_index_column": 4881
        },
        {
         "sentences": "The problem is that Africa’s growth, while impressive, has been volatile, because it has been driven mainly by high commodity prices, rather than by manufacturing.",
         "_deepnote_index_column": 4882
        },
        {
         "sentences": "The economic effects of this imbalance should not be underestimated.",
         "_deepnote_index_column": 4883
        },
        {
         "sentences": "Among other things, it explains why a region that produces about 75% of the world’s cocoa accounts for just 5% of the nearly $100 billion annual chocolate market.",
         "_deepnote_index_column": 4884
        },
        {
         "sentences": "Despite its vast natural resources, Africa will remain at the mercy of commodity prices and trade flows until it undertakes a profound structural transformation.",
         "_deepnote_index_column": 4885
        },
        {
         "sentences": "The time has come for Africa to unlock its true economic potential by following in the footsteps of every modern economy and undertaking the transition from agriculture to manufacturing.",
         "_deepnote_index_column": 4886
        },
        {
         "sentences": "Africa’s manufacturing sector is the weakest link in its ongoing integration into the global economy.",
         "_deepnote_index_column": 4887
        },
        {
         "sentences": "Today, primary products (raw materials) comprise 62% of Africa’s total exports, the highest share in the world.",
         "_deepnote_index_column": 4888
        },
        {
         "sentences": "At the same time, manufactured exports per capita in 2014 totaled just $218, which is among the lowest levels in the world, and far below other developing regions such as Asia ($883) and Latin America ($1,099).",
         "_deepnote_index_column": 4889
        },
        {
         "sentences": "Clearly, Africa must start catching up.",
         "_deepnote_index_column": 4890
        },
        {
         "sentences": "Fortunately, there is already a global consensus that industrialization matters, and that it is in everyone’s interest for Africa to become the global manufacturing power it ought to be.",
         "_deepnote_index_column": 4891
        },
        {
         "sentences": "With its “High 5 Agenda,” the African Development Bank (AfDB) has made industrialization a top priority.",
         "_deepnote_index_column": 4892
        },
        {
         "sentences": "Likewise, industrialization is a key component of the African Union’s “Agenda 2063.”\nAnd, in 2016, the United Nations General Assembly declared 2016-2025 the “Third Industrial Development Decade for Africa.”\nBut such pronouncements are meaningless in the absence of concrete action.",
         "_deepnote_index_column": 4893
        },
        {
         "sentences": "To change the region’s economic trajectory, African policymakers must focus on three key areas: industrial policies, infrastructure financing, and leadership.",
         "_deepnote_index_column": 4894
        },
        {
         "sentences": "We now know that industrial policies can be effective in boosting growth.",
         "_deepnote_index_column": 4895
        },
        {
         "sentences": "The question is whether states possess the capacity to implement the policies they design.",
         "_deepnote_index_column": 4896
        },
        {
         "sentences": "If they do, they can channel resources toward industry and marshal available technologies to create synergy between the agriculture and manufacturing sectors.",
         "_deepnote_index_column": 4897
        },
        {
         "sentences": "A number of African countries have already moved in this direction.",
         "_deepnote_index_column": 4898
        },
        {
         "sentences": "Ethiopia, for example, has created special economic zones, where it has lowered production costs by investing in infrastructure.",
         "_deepnote_index_column": 4899
        },
        {
         "sentences": "As a result, the country has emerged as Africa’s largest hub for textile manufacturing, attracting major players like H&M and Primark.",
         "_deepnote_index_column": 4900
        },
        {
         "sentences": "Similarly, Rwanda’s Kigali Special Economic Zone, which exempts firms from taxes for ten years, has attracted a $20 million investment from Volkswagen for a new vehicle-assembly plant.",
         "_deepnote_index_column": 4901
        },
        {
         "sentences": "But industrialization cannot happen without power, roads, and railways, which is why infrastructure must be a key focus.",
         "_deepnote_index_column": 4902
        },
        {
         "sentences": "As of now, the AfDB pegs Africa’s infrastructure gap at $130–170 billion per year.",
         "_deepnote_index_column": 4903
        },
        {
         "sentences": "Closing it will require not just more financing, but also more innovative thinking, particularly concerning joint public-private efforts.",
         "_deepnote_index_column": 4904
        },
        {
         "sentences": "To that end, the AfDB has expanded its portfolio for financing new infrastructure projects in several countries.",
         "_deepnote_index_column": 4905
        },
        {
         "sentences": "As part of our “New Deal on Energy for Africa,” we have scaled up investment in renewable energy and put $265 million toward developing two solar-power plants in Morocco.",
         "_deepnote_index_column": 4906
        },
        {
         "sentences": "In Côte d’Ivoire, where demand for energy is surging by 8-9% annually, we are investing $60 million to bring a new 44-megawatt hydropower plant onstream.",
         "_deepnote_index_column": 4907
        },
        {
         "sentences": "African countries should make such investments now to reap the demographic dividend of the continent’s population bulge in the years ahead.",
         "_deepnote_index_column": 4908
        },
        {
         "sentences": "As manufacturing activities expand, they will need to be supported by more robust knowledge- and skill-based economies, which will require higher investment in education to boost technical and vocational skills and training.",
         "_deepnote_index_column": 4909
        },
        {
         "sentences": "No country has ever undergone economic modernization without industry.",
         "_deepnote_index_column": 4910
        },
        {
         "sentences": "But, more to the point, no functional industrial sector has ever emerged in the absence of strong, committed leadership.",
         "_deepnote_index_column": 4911
        },
        {
         "sentences": "Consider Mauritius, which in the 1970s was a low-income mono-crop economy with a per capita GDP of just under $250.",
         "_deepnote_index_column": 4912
        },
        {
         "sentences": "Today, Mauritius is an upper-middle-income country with a more diversified economy and a per capita GDP of around $9,600.",
         "_deepnote_index_column": 4913
        },
        {
         "sentences": "It is often cited as a model of economic success in Africa.",
         "_deepnote_index_column": 4914
        },
        {
         "sentences": "How did this come about?",
         "_deepnote_index_column": 4915
        },
        {
         "sentences": "As former Mauritian Prime Minister and President Anerood Jugnauth has put it, “There is no miracle.",
         "_deepnote_index_column": 4916
        },
        {
         "sentences": "It is due simply to hard work, discipline, and will.”\nLeaders who want to develop a strong manufacturing base must have the political will to distribute resources fairly and pull the private sector along.",
         "_deepnote_index_column": 4917
        },
        {
         "sentences": "Mauritius experienced its fair share of challenges in moving from low-end manufacturing to technology-intensive goods and services.",
         "_deepnote_index_column": 4918
        },
        {
         "sentences": "But it now stands as an example of what committed leadership can accomplish.",
         "_deepnote_index_column": 4919
        },
        {
         "sentences": "Other African countries would do well to emulate it as they pursue their own economic transformations.",
         "_deepnote_index_column": 4920
        },
        {
         "sentences": "All told, Africa is well placed to seize many of the opportunities that the global economy offers emerging markets.",
         "_deepnote_index_column": 4921
        },
        {
         "sentences": "It already has the resources and the labor; now it needs committed leaders like Jugnauth who will implement the right policies.",
         "_deepnote_index_column": 4922
        },
        {
         "sentences": "Africa’s Alternative Path to Development\nWASHINGTON, DC – Recent projections indicate that several Sub-Saharan African countries will experience robust economic growth over the next five years.",
         "_deepnote_index_column": 4923
        },
        {
         "sentences": "By 2023, around one-third of the region’s economies will have grown at an average annual rate of 5% or higher since 2000.",
         "_deepnote_index_column": 4924
        },
        {
         "sentences": "And yet, as The Economist observed last year, Africa’s development model “puzzles economists.”\nAfter all, only four of the continent’s high-growth countries are natural-resource dependent.",
         "_deepnote_index_column": 4925
        },
        {
         "sentences": "Nor is overall performance due primarily to industrialization, as traditional development models would have predicted.",
         "_deepnote_index_column": 4926
        },
        {
         "sentences": "What, then, explains the strong economic performance?",
         "_deepnote_index_column": 4927
        },
        {
         "sentences": "New research by the Brookings Institution’s Africa Growth Initiative and the United Nations University World Institute for Development Economics Research (UNU-WIDER) might hold the key to answering that question.",
         "_deepnote_index_column": 4928
        },
        {
         "sentences": "According to the forthcoming book Industries Without Smokestacks: Industrialization in Africa Reconsidered, there is evidence to suggest that Sub-Saharan Africa is undergoing a more profound structural transformation than we think.",
         "_deepnote_index_column": 4929
        },
        {
         "sentences": "Africa owes this structural transformation not to traditional industries, but to new developments in tradable services and agro-industries that resemble traditional industrialization.",
         "_deepnote_index_column": 4930
        },
        {
         "sentences": "Aside from horticulture and agro-business, these new industries include information and communication technology-based services (ICT) and tourism.",
         "_deepnote_index_column": 4931
        },
        {
         "sentences": "This is a departure from the historical norm.",
         "_deepnote_index_column": 4932
        },
        {
         "sentences": "Traditionally, as Harvard University economist Dani Rodrik points out, economies that have sustained robust growth rates without relying on natural-resource booms, “typically do so through export-oriented industrialization.”\nBut in Africa, manufacturing as a share of total economic activity has stagnated at around 10%, with economic activity moving from agriculture to services.",
         "_deepnote_index_column": 4933
        },
        {
         "sentences": "And because the rate of productivity growth in services is only about half that of manufacturing, the aggregate productivity gains needed for sustained growth have fallen relatively short.",
         "_deepnote_index_column": 4934
        },
        {
         "sentences": "This process of premature deindustrialization is not unique to Africa.",
         "_deepnote_index_column": 4935
        },
        {
         "sentences": "But it is more consequential for the continent, given the scale of its development challenges.",
         "_deepnote_index_column": 4936
        },
        {
         "sentences": "Owing to its young, rapidly growing labor force, Africa now needs to create more than 11 million jobs in the formal economy every year.",
         "_deepnote_index_column": 4937
        },
        {
         "sentences": "But as Nobel laureate economist Joseph E. Stiglitz has warned, Africa cannot replicate East Asia’s manufacturing-led model, so the question is whether it can leverage modern services to achieve economic development.",
         "_deepnote_index_column": 4938
        },
        {
         "sentences": "According to Foresight Africa: Top Priorities for 2018, a Brookings Institution report previewing the results of Industries Without Smokestacks, services exports from Africa grew more than six times faster than merchandise exports between 1998 and 2015.",
         "_deepnote_index_column": 4939
        },
        {
         "sentences": "In Kenya, Rwanda, Senegal, and South Africa, the ICT sector is flourishing.",
         "_deepnote_index_column": 4940
        },
        {
         "sentences": "In Rwanda, tourism is now the single largest export activity, accounting for about 30% of total exports.",
         "_deepnote_index_column": 4941
        },
        {
         "sentences": "Ethiopia, Ghana, Kenya, and Senegal are all integrated into global horticultural value chains, and Ethiopia has become a leading player in global flower exports.",
         "_deepnote_index_column": 4942
        },
        {
         "sentences": "As these smokestack-less industries have grown, they have generated new patterns of structural change that are distinct from those of East Asia’s manufacturing-led transformation.",
         "_deepnote_index_column": 4943
        },
        {
         "sentences": "But, if properly stewarded, they could play the same role in Africa’s development as manufacturing did in East Asia.",
         "_deepnote_index_column": 4944
        },
        {
         "sentences": "Manufacturing-led growth proved to be an effective development model in East Asia for three main reasons.",
         "_deepnote_index_column": 4945
        },
        {
         "sentences": "First, manufacturing has higher productivity than agriculture, and it can absorb a large number of moderately skilled workers migrating out of the agriculture sector.",
         "_deepnote_index_column": 4946
        },
        {
         "sentences": "Second, manufacturers benefit from technological transfers from abroad, so their productivity rises in line with global trends.",
         "_deepnote_index_column": 4947
        },
        {
         "sentences": "And third, the shift to manufacturing in East Asia was oriented toward exports, which allowed production to be scaled up.",
         "_deepnote_index_column": 4948
        },
        {
         "sentences": "According to John Page, one of the editors of Industries Without Smokestacks, Africa’s growing service sectors share these same characteristics.",
         "_deepnote_index_column": 4949
        },
        {
         "sentences": "In addition to being tradable, they have higher productivity and can absorb large numbers of moderately skilled workers.",
         "_deepnote_index_column": 4950
        },
        {
         "sentences": "And like manufacturing, they also benefit from technological change and economies of scale and agglomeration.",
         "_deepnote_index_column": 4951
        },
        {
         "sentences": "Moreover, Africa’s smokestack-less service sectors have the added advantage of being less vulnerable to automation.",
         "_deepnote_index_column": 4952
        },
        {
         "sentences": "Notwithstanding automation’s many benefits, it presents challenges for countries where the overriding priority is to create a sufficient number of formal-sector jobs.",
         "_deepnote_index_column": 4953
        },
        {
         "sentences": "While economists have been increasingly confident that Africa’s development model will be different from that of East Asia, they have been less certain about what shape it will take.",
         "_deepnote_index_column": 4954
        },
        {
         "sentences": "An industries-without-smokestacks model offers one possible answer.",
         "_deepnote_index_column": 4955
        },
        {
         "sentences": "From a policy perspective, African leaders should explore more ways to support these industries’ growth, either through targeted reforms or by incorporating them into national industrialization strategies and broader development agendas.",
         "_deepnote_index_column": 4956
        },
        {
         "sentences": "The development of industries without smokestacks can occur alongside efforts to develop those with smokestacks, thus offering a multifaceted approach for Africa to achieve structural transformation.",
         "_deepnote_index_column": 4957
        },
        {
         "sentences": "Recognizing the High Value of Africa’s Migrants\nLOMÉ – As we mark International Migrants Day on December 18, it’s time to rethink how we value the informal skills and resources of many of Africa’s migrants.",
         "_deepnote_index_column": 4958
        },
        {
         "sentences": "In particular, we need to recognize that migration can help boost long-term economic growth in Africa and the rest of the world.",
         "_deepnote_index_column": 4959
        },
        {
         "sentences": "Following its targeted killing of Iran's second most powerful leader, the US could well find itself with no alternative but to devote more military resources to the Middle East, a path that could lead to additional Iranian provocations.",
         "_deepnote_index_column": 4960
        },
        {
         "sentences": "And that shift would occur at a time of growing challenges to US interests elsewhere in the world.",
         "_deepnote_index_column": 4961
        },
        {
         "sentences": "The targeted killing by the United States of one of Iran's top military leaders represents a significant symbolic defeat for the Iranian regime, but it does not augur all-out war.",
         "_deepnote_index_column": 4962
        },
        {
         "sentences": "After all, Iran and the US have already been at war for decades, and neither side has an interest in an uncontrolled military escalation now.",
         "_deepnote_index_column": 4963
        },
        {
         "sentences": "As in previous years, Project Syndicate asked its commentators to offer their best guesses about the events and trends that will define the coming 12 months.",
         "_deepnote_index_column": 4964
        },
        {
         "sentences": "If there is one common theme in this year's selection, it is that what happens in 2020 will weigh on the present for many years to come.",
         "_deepnote_index_column": 4965
        },
        {
         "sentences": "On one hand, African migration is less globally significant than many think.",
         "_deepnote_index_column": 4966
        },
        {
         "sentences": "According to a report produced by the Mo Ibrahim Foundation, just 14% of the world’s migrants in 2017 came from Africa, while 41% came from Asia and 24% from Europe.",
         "_deepnote_index_column": 4967
        },
        {
         "sentences": "The 36.3 million Africans who migrated that year represented less than 3% of the continent’s population (and almost 90% of African refugees remain within the continent.)",
         "_deepnote_index_column": 4968
        },
        {
         "sentences": "On the other hand, those Africans who do exercise their human right to work where their skills are needed make a significant contribution to the continent’s large informal economy.",
         "_deepnote_index_column": 4969
        },
        {
         "sentences": "African cities are full of creative traders negotiating prices, supplying jerseys for sports events, and selling drinks to thirsty drivers stuck in traffic jams.",
         "_deepnote_index_column": 4970
        },
        {
         "sentences": "In fact, trading skills –especially those of women – should be at the center of the African migration narrative.",
         "_deepnote_index_column": 4971
        },
        {
         "sentences": "In Togo, for example, women previously dominated domestic and international trade in textiles, wax prints, and women’s clothing, running businesses that expanded to Burkina Faso, Mali, Niger, Chad, and other countries in the region.",
         "_deepnote_index_column": 4972
        },
        {
         "sentences": "From 1976 to 1984, these “Nana Benz” women – so called because their wealth enabled them to own Mercedes-Benz cars – controlled at least 40% of informal-sector business in Togo.",
         "_deepnote_index_column": 4973
        },
        {
         "sentences": "While they are no longer quite so dominant, a third generation of women is keeping their entrepreneurial model alive.",
         "_deepnote_index_column": 4974
        },
        {
         "sentences": "The Nana Benz demonstrated that informal economies could create pathways to success for their children and communities.",
         "_deepnote_index_column": 4975
        },
        {
         "sentences": "They not only built mansions in Togo and owned properties around the world, but also invested in their children’s education at home and abroad.",
         "_deepnote_index_column": 4976
        },
        {
         "sentences": "And they commanded respect despite their own lack of formal education.",
         "_deepnote_index_column": 4977
        },
        {
         "sentences": "European business partners offered them favorable terms to expand their businesses.",
         "_deepnote_index_column": 4978
        },
        {
         "sentences": "Today, the informal economy accounts for more than 70% of total employment in Sub-Saharan Africa.",
         "_deepnote_index_column": 4979
        },
        {
         "sentences": "At the same time, however, almost 16 million young Africans are unemployed, in many cases because potential employers undervalue the informal skills that these job seekers learned outside school.",
         "_deepnote_index_column": 4980
        },
        {
         "sentences": "So, although we need to create more formal-sector jobs on the continent, we also must recognize the value and skills embedded in the rest of the economy – including through the contribution of internal and cross-border migrants.",
         "_deepnote_index_column": 4981
        },
        {
         "sentences": "Of course, informal employment is not just an African phenomenon.",
         "_deepnote_index_column": 4982
        },
        {
         "sentences": "According to the International Labor Organization, two billion people worldwide work in the informal economy, including 1.3 billion in the Asia-Pacific region.",
         "_deepnote_index_column": 4983
        },
        {
         "sentences": "And even in Europe and Central Asia, where the share of formal employment is highest, 25% of the employed population work informally.",
         "_deepnote_index_column": 4984
        },
        {
         "sentences": "It is a global coping mechanism through which creative minds address market opportunities.",
         "_deepnote_index_column": 4985
        },
        {
         "sentences": "To continue Africa’s social and economic transformation, we must recognize the informal economy as a key lever of development and a facilitator of trade-based migration.",
         "_deepnote_index_column": 4986
        },
        {
         "sentences": "African investors could help this process by providing digitally connected migrants with tailor-made safety mechanisms such as insurance and other financial products.",
         "_deepnote_index_column": 4987
        },
        {
         "sentences": "The informal economy sometimes is associated with poverty, disease, and low levels of education.",
         "_deepnote_index_column": 4988
        },
        {
         "sentences": "But most African migrants are young, educated women and men who can help economies in Europe, Asia, and North America address the challenges posed by aging populations.",
         "_deepnote_index_column": 4989
        },
        {
         "sentences": "Between now and 2100, Africa’s young population (aged 15-34) is expected to grow by 181%, while Europe’s will shrink by 21% and Asia’s by almost 28%.",
         "_deepnote_index_column": 4990
        },
        {
         "sentences": "But if politicians in destination countries fail to make a positive case for migration, the world will miss out on this opportunity.",
         "_deepnote_index_column": 4991
        },
        {
         "sentences": "At the same time, Africa must invest in education, like the Nana Benz did, to ensure that its young people are better educated, healthier, and more connected than previous generations.",
         "_deepnote_index_column": 4992
        },
        {
         "sentences": "Without broader access to quality education, intergenerational transfers of wealth within Africa will damage the future prospects of the 16 million young people looking for work.",
         "_deepnote_index_column": 4993
        },
        {
         "sentences": "There is thus a case for legal migration, which would help to generate additional tax revenues for host-country governments and enable migrants to send remittances back to their home countries.",
         "_deepnote_index_column": 4994
        },
        {
         "sentences": "On average, African migrants spend or invest about 85% of their income in their destination country, and remit the remaining 15%.",
         "_deepnote_index_column": 4995
        },
        {
         "sentences": "These remittances, which represented 3.5% of Africa’s $2.3 trillion GDP in 2018, should be pooled to accelerate the continent’s economic transformation.",
         "_deepnote_index_column": 4996
        },
        {
         "sentences": "In the longer term, the facilitation of free movement envisaged under the African Union’s Agenda 2063 will determine the extent to which informal-sector skills transform the continent’s economies.",
         "_deepnote_index_column": 4997
        },
        {
         "sentences": "And although market conditions have changed over the last few decades, the Nana Benz women of Togo already have shown us the way.",
         "_deepnote_index_column": 4998
        },
        {
         "sentences": "In Africa and elsewhere, development processes are stronger when they are built on existing networks and mechanisms.",
         "_deepnote_index_column": 4999
        }
       ]
      },
      "text/plain": "                                              sentences\n0     They have lived through countless trials, endu...\n1     But empires have crumbled; tyrants have passed...\n2     All the while, the Kurds have held fast, resis...\n3     And today, they are approaching a milestone: a...\n4     The Kurdish nation was forged over centuries o...\n...                                                 ...\n4995  On average, African migrants spend or invest a...\n4996  These remittances, which represented 3.5% of A...\n4997  In the longer term, the facilitation of free m...\n4998  And although market conditions have changed ov...\n4999  In Africa and elsewhere, development processes...\n\n[5000 rows x 1 columns]",
      "text/html": "<div>\n<style scoped>\n    .dataframe tbody tr th:only-of-type {\n        vertical-align: middle;\n    }\n\n    .dataframe tbody tr th {\n        vertical-align: top;\n    }\n\n    .dataframe thead th {\n        text-align: right;\n    }\n</style>\n<table border=\"1\" class=\"dataframe\">\n  <thead>\n    <tr style=\"text-align: right;\">\n      <th></th>\n      <th>sentences</th>\n    </tr>\n  </thead>\n  <tbody>\n    <tr>\n      <th>0</th>\n      <td>They have lived through countless trials, endu...</td>\n    </tr>\n    <tr>\n      <th>1</th>\n      <td>But empires have crumbled; tyrants have passed...</td>\n    </tr>\n    <tr>\n      <th>2</th>\n      <td>All the while, the Kurds have held fast, resis...</td>\n    </tr>\n    <tr>\n      <th>3</th>\n      <td>And today, they are approaching a milestone: a...</td>\n    </tr>\n    <tr>\n      <th>4</th>\n      <td>The Kurdish nation was forged over centuries o...</td>\n    </tr>\n    <tr>\n      <th>...</th>\n      <td>...</td>\n    </tr>\n    <tr>\n      <th>4995</th>\n      <td>On average, African migrants spend or invest a...</td>\n    </tr>\n    <tr>\n      <th>4996</th>\n      <td>These remittances, which represented 3.5% of A...</td>\n    </tr>\n    <tr>\n      <th>4997</th>\n      <td>In the longer term, the facilitation of free m...</td>\n    </tr>\n    <tr>\n      <th>4998</th>\n      <td>And although market conditions have changed ov...</td>\n    </tr>\n    <tr>\n      <th>4999</th>\n      <td>In Africa and elsewhere, development processes...</td>\n    </tr>\n  </tbody>\n</table>\n<p>5000 rows × 1 columns</p>\n</div>"
     },
     "metadata": {}
    }
   ]
  },
  {
   "cell_type": "markdown",
   "source": "2. Load and tokenise your datasets so that, for each of the corpora, you get a\nlist of sentences, each sentence represented by a list of tokens. Use the same\ntokeniser for all datasets. <br>\n",
   "metadata": {
    "tags": [],
    "cell_id": "00008-f53cbfac-b18e-4d14-8974-9a70bfc431de",
    "deepnote_cell_type": "markdown"
   }
  },
  {
   "cell_type": "code",
   "metadata": {
    "tags": [],
    "cell_id": "00011-3b74044a-7f1f-4a39-ad03-aa7d5753c6a3",
    "deepnote_to_be_reexecuted": false,
    "source_hash": "61521d3c",
    "execution_start": 1620391017906,
    "execution_millis": 1006,
    "deepnote_cell_type": "code"
   },
   "source": "tokenized_text = [nltk.word_tokenize(i) for i in pd_news5k[\"sentences\"]]\npd_news5k[\"words\"] = tokenized_text\namount_words = lambda x: len(x)\npd_news5k['num_words'] = pd_news5k['words'].apply(amount_words)\n\npd_news5k",
   "execution_count": null,
   "outputs": [
    {
     "output_type": "execute_result",
     "execution_count": 27,
     "data": {
      "application/vnd.deepnote.dataframe.v2+json": {
       "row_count": 5000,
       "column_count": 3,
       "columns": [
        {
         "name": "sentences",
         "dtype": "object",
         "stats": {
          "unique_count": 4868,
          "nan_count": 0,
          "categories": [
           {
            "name": "Following its targeted killing of Iran's second most powerful leader, the US could well find itself with no alternative but to devote more military resources to the Middle East, a path that could lead to additional Iranian provocations.",
            "count": 18
           },
           {
            "name": "And that shift would occur at a time of growing challenges to US interests elsewhere in the world.",
            "count": 18
           },
           {
            "name": "4866 others",
            "count": 4964
           }
          ]
         }
        },
        {
         "name": "words",
         "dtype": "object",
         "stats": {
          "unique_count": 5000,
          "nan_count": 0,
          "categories": [
           {
            "name": "['Following', 'its', 'targeted', 'killing', 'of', 'Iran', \"'s\", 'second', 'most', 'powerful', 'leader', ',', 'the', 'US', 'could', 'well', 'find', 'itself', 'with', 'no', 'alternative', 'but', 'to', 'devote', 'more', 'military', 'resources', 'to', 'the', 'Middle', 'East', ',', 'a', 'path', 'that', 'could', 'lead', 'to', 'additional', 'Iranian', 'provocations', '.']",
            "count": 18
           },
           {
            "name": "['And', 'that', 'shift', 'would', 'occur', 'at', 'a', 'time', 'of', 'growing', 'challenges', 'to', 'US', 'interests', 'elsewhere', 'in', 'the', 'world', '.']",
            "count": 18
           },
           {
            "name": "4866 others",
            "count": 4964
           }
          ]
         }
        },
        {
         "name": "num_words",
         "dtype": "int64",
         "stats": {
          "unique_count": 82,
          "nan_count": 0,
          "min": "2",
          "max": "167",
          "histogram": [
           {
            "bin_start": 2,
            "bin_end": 18.5,
            "count": 1462
           },
           {
            "bin_start": 18.5,
            "bin_end": 35,
            "count": 2470
           },
           {
            "bin_start": 35,
            "bin_end": 51.5,
            "count": 895
           },
           {
            "bin_start": 51.5,
            "bin_end": 68,
            "count": 146
           },
           {
            "bin_start": 68,
            "bin_end": 84.5,
            "count": 20
           },
           {
            "bin_start": 84.5,
            "bin_end": 101,
            "count": 5
           },
           {
            "bin_start": 101,
            "bin_end": 117.5,
            "count": 1
           },
           {
            "bin_start": 117.5,
            "bin_end": 134,
            "count": 0
           },
           {
            "bin_start": 134,
            "bin_end": 150.5,
            "count": 0
           },
           {
            "bin_start": 150.5,
            "bin_end": 167,
            "count": 1
           }
          ]
         }
        },
        {
         "name": "_deepnote_index_column",
         "dtype": "int64"
        }
       ],
       "rows_top": [
        {
         "sentences": "They have lived through countless trials, endured innumerable twists of fate, suffered domination again and again.",
         "words": "['They', 'have', 'lived', 'through', 'countless', 'trials', ',', 'endured', 'innumerable', 'twists', 'of', 'fate', ',', 'suffered', 'domination', 'again', 'and', 'again', '.']",
         "num_words": 19,
         "_deepnote_index_column": 0
        },
        {
         "sentences": "But empires have crumbled; tyrants have passed away; and their executioners have fallen into the dustbins of history.",
         "words": "['But', 'empires', 'have', 'crumbled', ';', 'tyrants', 'have', 'passed', 'away', ';', 'and', 'their', 'executioners', 'have', 'fallen', 'into', 'the', 'dustbins', 'of', 'history', '.']",
         "num_words": 21,
         "_deepnote_index_column": 1
        },
        {
         "sentences": "All the while, the Kurds have held fast, resisting the forces that wanted them to disappear.",
         "words": "['All', 'the', 'while', ',', 'the', 'Kurds', 'have', 'held', 'fast', ',', 'resisting', 'the', 'forces', 'that', 'wanted', 'them', 'to', 'disappear', '.']",
         "num_words": 19,
         "_deepnote_index_column": 2
        },
        {
         "sentences": "And today, they are approaching a milestone: a declaration of self-determination in the form of a free state in which all citizens will be able to live in liberty, their heads held high.",
         "words": "['And', 'today', ',', 'they', 'are', 'approaching', 'a', 'milestone', ':', 'a', 'declaration', 'of', 'self-determination', 'in', 'the', 'form', 'of', 'a', 'free', 'state', 'in', 'which', 'all', 'citizens', 'will', 'be', 'able', 'to', 'live', 'in', 'liberty', ',', 'their', 'heads', 'held', 'high', '.']",
         "num_words": 37,
         "_deepnote_index_column": 3
        },
        {
         "sentences": "The Kurdish nation was forged over centuries of pain and pride.",
         "words": "['The', 'Kurdish', 'nation', 'was', 'forged', 'over', 'centuries', 'of', 'pain', 'and', 'pride', '.']",
         "num_words": 12,
         "_deepnote_index_column": 4
        },
        {
         "sentences": "It was strengthened in the course of the war against Islamist terrorism, in which the Kurds have been the civilized world’s staunchest – and sometimes solitary – spearhead.",
         "words": "['It', 'was', 'strengthened', 'in', 'the', 'course', 'of', 'the', 'war', 'against', 'Islamist', 'terrorism', ',', 'in', 'which', 'the', 'Kurds', 'have', 'been', 'the', 'civilized', 'world', '’', 's', 'staunchest', '–', 'and', 'sometimes', 'solitary', '–', 'spearhead', '.']",
         "num_words": 32,
         "_deepnote_index_column": 5
        },
        {
         "sentences": "I know not one Peshmerga fighter who, while waging our common battle, did not have in mind the achievement of that ancestral dream of Kurdish independence.",
         "words": "['I', 'know', 'not', 'one', 'Peshmerga', 'fighter', 'who', ',', 'while', 'waging', 'our', 'common', 'battle', ',', 'did', 'not', 'have', 'in', 'mind', 'the', 'achievement', 'of', 'that', 'ancestral', 'dream', 'of', 'Kurdish', 'independence', '.']",
         "num_words": 29,
         "_deepnote_index_column": 6
        },
        {
         "sentences": "Mosul will be liberated; the Islamic State (ISIS) will be defeated; and, when the moment comes for the referendum that Massoud Barzani, President of Iraq’s Kurdistan Regional Government, has described as the inalienable right of the Kurds, the will of each citizen will be shared by all.",
         "words": "['Mosul', 'will', 'be', 'liberated', ';', 'the', 'Islamic', 'State', '(', 'ISIS', ')', 'will', 'be', 'defeated', ';', 'and', ',', 'when', 'the', 'moment', 'comes', 'for', 'the', 'referendum', 'that', 'Massoud', 'Barzani', ',', 'President', 'of', 'Iraq', '’', 's', 'Kurdistan', 'Regional', 'Government', ',', 'has', 'described', 'as', 'the', 'inalienable', 'right', 'of', 'the', 'Kurds', ',', 'the', 'will', 'of', 'each', 'citizen', 'will', 'be', 'shared', 'by', 'all', '.']",
         "num_words": 58,
         "_deepnote_index_column": 7
        },
        {
         "sentences": "Even the Kurds’ closest allies worry that recognition of a Kurdish state might upset the regional balance and pose a threat to peace.",
         "words": "['Even', 'the', 'Kurds', '’', 'closest', 'allies', 'worry', 'that', 'recognition', 'of', 'a', 'Kurdish', 'state', 'might', 'upset', 'the', 'regional', 'balance', 'and', 'pose', 'a', 'threat', 'to', 'peace', '.']",
         "num_words": 25,
         "_deepnote_index_column": 8
        },
        {
         "sentences": "I believe that the contrary is true: the Kurds will be a pole of stability in a region increasingly susceptible to fanaticism and terror.",
         "words": "['I', 'believe', 'that', 'the', 'contrary', 'is', 'true', ':', 'the', 'Kurds', 'will', 'be', 'a', 'pole', 'of', 'stability', 'in', 'a', 'region', 'increasingly', 'susceptible', 'to', 'fanaticism', 'and', 'terror', '.']",
         "num_words": 26,
         "_deepnote_index_column": 9
        },
        {
         "sentences": "To their eternal credit, the Kurds have defended against all odds the standards – respect for borders, for the rule of law, and for the fundamental human rights of all – that underpin stability, and that tyrants from Saddam Hussein to Bashar al-Assad have flouted.",
         "words": "['To', 'their', 'eternal', 'credit', ',', 'the', 'Kurds', 'have', 'defended', 'against', 'all', 'odds', 'the', 'standards', '–', 'respect', 'for', 'borders', ',', 'for', 'the', 'rule', 'of', 'law', ',', 'and', 'for', 'the', 'fundamental', 'human', 'rights', 'of', 'all', '–', 'that', 'underpin', 'stability', ',', 'and', 'that', 'tyrants', 'from', 'Saddam', 'Hussein', 'to', 'Bashar', 'al-Assad', 'have', 'flouted', '.']",
         "num_words": 50,
         "_deepnote_index_column": 10
        },
        {
         "sentences": "In a region where others create refugees, the Kurds provide a safe haven.",
         "words": "['In', 'a', 'region', 'where', 'others', 'create', 'refugees', ',', 'the', 'Kurds', 'provide', 'a', 'safe', 'haven', '.']",
         "num_words": 15,
         "_deepnote_index_column": 11
        },
        {
         "sentences": "Indeed, the Kurds have forged one of the region’s few examples of a vibrant democracy that upholds tolerance, cultural coexistence, and the rule of law.",
         "words": "['Indeed', ',', 'the', 'Kurds', 'have', 'forged', 'one', 'of', 'the', 'region', '’', 's', 'few', 'examples', 'of', 'a', 'vibrant', 'democracy', 'that', 'upholds', 'tolerance', ',', 'cultural', 'coexistence', ',', 'and', 'the', 'rule', 'of', 'law', '.']",
         "num_words": 31,
         "_deepnote_index_column": 12
        },
        {
         "sentences": "In what other part of the Muslim Middle East does one find such a strong belief in a geopolitical order that tends toward peace, not war; favors reconciliation over ancient hatreds; and prefers respect for the other to a war of civilizations?",
         "words": "['In', 'what', 'other', 'part', 'of', 'the', 'Muslim', 'Middle', 'East', 'does', 'one', 'find', 'such', 'a', 'strong', 'belief', 'in', 'a', 'geopolitical', 'order', 'that', 'tends', 'toward', 'peace', ',', 'not', 'war', ';', 'favors', 'reconciliation', 'over', 'ancient', 'hatreds', ';', 'and', 'prefers', 'respect', 'for', 'the', 'other', 'to', 'a', 'war', 'of', 'civilizations', '?']",
         "num_words": 46,
         "_deepnote_index_column": 13
        },
        {
         "sentences": "For these reasons, I believe very deeply that, in this stormy region, swept by so many ill winds, threatened by the worst of ideologies and by the violence that accompanies them, the rebirth of an independent Kurdish nation and state will mark an advance.",
         "words": "['For', 'these', 'reasons', ',', 'I', 'believe', 'very', 'deeply', 'that', ',', 'in', 'this', 'stormy', 'region', ',', 'swept', 'by', 'so', 'many', 'ill', 'winds', ',', 'threatened', 'by', 'the', 'worst', 'of', 'ideologies', 'and', 'by', 'the', 'violence', 'that', 'accompanies', 'them', ',', 'the', 'rebirth', 'of', 'an', 'independent', 'Kurdish', 'nation', 'and', 'state', 'will', 'mark', 'an', 'advance', '.']",
         "num_words": 50,
         "_deepnote_index_column": 14
        },
        {
         "sentences": "It will be an advance that helps to dispel from the region the terrible genies of disintegration, chaos, and bloody convulsion.",
         "words": "['It', 'will', 'be', 'an', 'advance', 'that', 'helps', 'to', 'dispel', 'from', 'the', 'region', 'the', 'terrible', 'genies', 'of', 'disintegration', ',', 'chaos', ',', 'and', 'bloody', 'convulsion', '.']",
         "num_words": 24,
         "_deepnote_index_column": 15
        },
        {
         "sentences": "What kind of nation-state will the ancient Kurdish people make?",
         "words": "['What', 'kind', 'of', 'nation-state', 'will', 'the', 'ancient', 'Kurdish', 'people', 'make', '?']",
         "num_words": 11,
         "_deepnote_index_column": 16
        },
        {
         "sentences": "It will be small – a nation of only several million – but that will not make it fragile or weak.",
         "words": "['It', 'will', 'be', 'small', '–', 'a', 'nation', 'of', 'only', 'several', 'million', '–', 'but', 'that', 'will', 'not', 'make', 'it', 'fragile', 'or', 'weak', '.']",
         "num_words": 22,
         "_deepnote_index_column": 17
        },
        {
         "sentences": "History offers many examples of what the writer Milan Kundera has called “small nations” that are solid and strong, because their people are united in the face of their powerful neighbors.",
         "words": "['History', 'offers', 'many', 'examples', 'of', 'what', 'the', 'writer', 'Milan', 'Kundera', 'has', 'called', '“', 'small', 'nations', '”', 'that', 'are', 'solid', 'and', 'strong', ',', 'because', 'their', 'people', 'are', 'united', 'in', 'the', 'face', 'of', 'their', 'powerful', 'neighbors', '.']",
         "num_words": 35,
         "_deepnote_index_column": 18
        },
        {
         "sentences": "When it came time to defend the nation, the sword has always been close to the plow.",
         "words": "['When', 'it', 'came', 'time', 'to', 'defend', 'the', 'nation', ',', 'the', 'sword', 'has', 'always', 'been', 'close', 'to', 'the', 'plow', '.']",
         "num_words": 19,
         "_deepnote_index_column": 19
        },
        {
         "sentences": "They are nations of citizens united by their history and spirit, rather than ethnicity, a sense of superiority, or an arrogant identity.",
         "words": "['They', 'are', 'nations', 'of', 'citizens', 'united', 'by', 'their', 'history', 'and', 'spirit', ',', 'rather', 'than', 'ethnicity', ',', 'a', 'sense', 'of', 'superiority', ',', 'or', 'an', 'arrogant', 'identity', '.']",
         "num_words": 26,
         "_deepnote_index_column": 20
        },
        {
         "sentences": "The Kurds are such a nation: a people of volunteers who know why they fight, a people who, from the humblest to the greatest, from the Peshmerga regular to the loftiest of Kurdish commanders, does not hesitate to take up arms to discourage or to dismantle despotism – and not only on their behalf.",
         "words": "['The', 'Kurds', 'are', 'such', 'a', 'nation', ':', 'a', 'people', 'of', 'volunteers', 'who', 'know', 'why', 'they', 'fight', ',', 'a', 'people', 'who', ',', 'from', 'the', 'humblest', 'to', 'the', 'greatest', ',', 'from', 'the', 'Peshmerga', 'regular', 'to', 'the', 'loftiest', 'of', 'Kurdish', 'commanders', ',', 'does', 'not', 'hesitate', 'to', 'take', 'up', 'arms', 'to', 'discourage', 'or', 'to', 'dismantle', 'despotism', '–', 'and', 'not', 'only', 'on', 'their', 'behalf', '.']",
         "num_words": 60,
         "_deepnote_index_column": 21
        },
        {
         "sentences": "They have been soldiers of freedom who kept Christians from being purged from the last place in the world where the language of Christ is still spoken, while defending the principle of equality of the sexes, even in combat – a principle that is the hallmark of great civilizations.",
         "words": "['They', 'have', 'been', 'soldiers', 'of', 'freedom', 'who', 'kept', 'Christians', 'from', 'being', 'purged', 'from', 'the', 'last', 'place', 'in', 'the', 'world', 'where', 'the', 'language', 'of', 'Christ', 'is', 'still', 'spoken', ',', 'while', 'defending', 'the', 'principle', 'of', 'equality', 'of', 'the', 'sexes', ',', 'even', 'in', 'combat', '–', 'a', 'principle', 'that', 'is', 'the', 'hallmark', 'of', 'great', 'civilizations', '.']",
         "num_words": 52,
         "_deepnote_index_column": 22
        },
        {
         "sentences": "For all these reasons, I believe that a Kurdish nation-state will be a force for peace, not disorder, in the Middle East, a stormy region that is threatened by the worst of ideologies and by the violence that they beget.",
         "words": "['For', 'all', 'these', 'reasons', ',', 'I', 'believe', 'that', 'a', 'Kurdish', 'nation-state', 'will', 'be', 'a', 'force', 'for', 'peace', ',', 'not', 'disorder', ',', 'in', 'the', 'Middle', 'East', ',', 'a', 'stormy', 'region', 'that', 'is', 'threatened', 'by', 'the', 'worst', 'of', 'ideologies', 'and', 'by', 'the', 'violence', 'that', 'they', 'beget', '.']",
         "num_words": 45,
         "_deepnote_index_column": 23
        },
        {
         "sentences": "I believe that the Kurds will build a strong and solid state that helps to return the awful genies of violent extremism, tyranny, and disintegration to their bottles.",
         "words": "['I', 'believe', 'that', 'the', 'Kurds', 'will', 'build', 'a', 'strong', 'and', 'solid', 'state', 'that', 'helps', 'to', 'return', 'the', 'awful', 'genies', 'of', 'violent', 'extremism', ',', 'tyranny', ',', 'and', 'disintegration', 'to', 'their', 'bottles', '.']",
         "num_words": 31,
         "_deepnote_index_column": 24
        },
        {
         "sentences": "Furthermore, this new Kurdish nation-state will be a safe haven and a shared home for a people that has been scattered by the cruelties of history.",
         "words": "['Furthermore', ',', 'this', 'new', 'Kurdish', 'nation-state', 'will', 'be', 'a', 'safe', 'haven', 'and', 'a', 'shared', 'home', 'for', 'a', 'people', 'that', 'has', 'been', 'scattered', 'by', 'the', 'cruelties', 'of', 'history', '.']",
         "num_words": 28,
         "_deepnote_index_column": 25
        },
        {
         "sentences": "It will help to unite a people long divided not just by scheming enemies, but also by deep disagreement over what it means to be a Kurd.",
         "words": "['It', 'will', 'help', 'to', 'unite', 'a', 'people', 'long', 'divided', 'not', 'just', 'by', 'scheming', 'enemies', ',', 'but', 'also', 'by', 'deep', 'disagreement', 'over', 'what', 'it', 'means', 'to', 'be', 'a', 'Kurd', '.']",
         "num_words": 29,
         "_deepnote_index_column": 26
        },
        {
         "sentences": "Like one of the world’s greatest nations – though one currently debased by those who purport to lead it – the Kurdish nation-state will be a “shining city on a hill,” a luminous lodestar for the lost sons and daughters of Kurdistan, and a source of hope for all of the world’s dispossessed and displaced.",
         "words": "['Like', 'one', 'of', 'the', 'world', '’', 's', 'greatest', 'nations', '–', 'though', 'one', 'currently', 'debased', 'by', 'those', 'who', 'purport', 'to', 'lead', 'it', '–', 'the', 'Kurdish', 'nation-state', 'will', 'be', 'a', '“', 'shining', 'city', 'on', 'a', 'hill', ',', '”', 'a', 'luminous', 'lodestar', 'for', 'the', 'lost', 'sons', 'and', 'daughters', 'of', 'Kurdistan', ',', 'and', 'a', 'source', 'of', 'hope', 'for', 'all', 'of', 'the', 'world', '’', 's', 'dispossessed', 'and', 'displaced', '.']",
         "num_words": 64,
         "_deepnote_index_column": 27
        },
        {
         "sentences": "As such, the Kurds should never be afraid to proclaim their vocation – a vocation which is both universal and, if the words have any meaning at all, truly internationalist.",
         "words": "['As', 'such', ',', 'the', 'Kurds', 'should', 'never', 'be', 'afraid', 'to', 'proclaim', 'their', 'vocation', '–', 'a', 'vocation', 'which', 'is', 'both', 'universal', 'and', ',', 'if', 'the', 'words', 'have', 'any', 'meaning', 'at', 'all', ',', 'truly', 'internationalist', '.']",
         "num_words": 34,
         "_deepnote_index_column": 28
        },
        {
         "sentences": "The very voices of the Kurds embody this.",
         "words": "['The', 'very', 'voices', 'of', 'the', 'Kurds', 'embody', 'this', '.']",
         "num_words": 9,
         "_deepnote_index_column": 29
        },
        {
         "sentences": "One thing that has struck me in the course of my frequent visits to Kurdistan is that the Kurds are a multilingual people.",
         "words": "['One', 'thing', 'that', 'has', 'struck', 'me', 'in', 'the', 'course', 'of', 'my', 'frequent', 'visits', 'to', 'Kurdistan', 'is', 'that', 'the', 'Kurds', 'are', 'a', 'multilingual', 'people', '.']",
         "num_words": 24,
         "_deepnote_index_column": 30
        },
        {
         "sentences": "In addition to Kurdish – their mother tongue, rich with ancient culture – they speak the languages acquired in exile.",
         "words": "['In', 'addition', 'to', 'Kurdish', '–', 'their', 'mother', 'tongue', ',', 'rich', 'with', 'ancient', 'culture', '–', 'they', 'speak', 'the', 'languages', 'acquired', 'in', 'exile', '.']",
         "num_words": 22,
         "_deepnote_index_column": 31
        },
        {
         "sentences": "Like the French nation, which was enriched over the centuries by immigrants and oppressed peoples, the Kurds are diverse in origin and cosmopolitan in outlook.",
         "words": "['Like', 'the', 'French', 'nation', ',', 'which', 'was', 'enriched', 'over', 'the', 'centuries', 'by', 'immigrants', 'and', 'oppressed', 'peoples', ',', 'the', 'Kurds', 'are', 'diverse', 'in', 'origin', 'and', 'cosmopolitan', 'in', 'outlook', '.']",
         "num_words": 28,
         "_deepnote_index_column": 32
        },
        {
         "sentences": "Their provision of refuge for persecuted Yezidi and Christian communities is further proof of this.",
         "words": "['Their', 'provision', 'of', 'refuge', 'for', 'persecuted', 'Yezidi', 'and', 'Christian', 'communities', 'is', 'further', 'proof', 'of', 'this', '.']",
         "num_words": 16,
         "_deepnote_index_column": 33
        },
        {
         "sentences": "Today’s populist wreckers across the West deny it, but “internationalism” is a beautiful idea.",
         "words": "['Today', '’', 's', 'populist', 'wreckers', 'across', 'the', 'West', 'deny', 'it', ',', 'but', '“', 'internationalism', '”', 'is', 'a', 'beautiful', 'idea', '.']",
         "num_words": 20,
         "_deepnote_index_column": 34
        },
        {
         "sentences": "For two centuries, it has been the animating spirit of so many battles for freedom, and has inspired so much courage, resistance, sacrifice, and nobility, and so many beautiful writings.",
         "words": "['For', 'two', 'centuries', ',', 'it', 'has', 'been', 'the', 'animating', 'spirit', 'of', 'so', 'many', 'battles', 'for', 'freedom', ',', 'and', 'has', 'inspired', 'so', 'much', 'courage', ',', 'resistance', ',', 'sacrifice', ',', 'and', 'nobility', ',', 'and', 'so', 'many', 'beautiful', 'writings', '.']",
         "num_words": 37,
         "_deepnote_index_column": 35
        },
        {
         "sentences": "Despite the traps into which it has sometimes fallen and become entangled, internationalism has nourished the best of what “the West” has represented.",
         "words": "['Despite', 'the', 'traps', 'into', 'which', 'it', 'has', 'sometimes', 'fallen', 'and', 'become', 'entangled', ',', 'internationalism', 'has', 'nourished', 'the', 'best', 'of', 'what', '“', 'the', 'West', '”', 'has', 'represented', '.']",
         "num_words": 27,
         "_deepnote_index_column": 36
        },
        {
         "sentences": "One of Kurdistan’s merits is to have kept alive the flame of internationalism in a benighted region.",
         "words": "['One', 'of', 'Kurdistan', '’', 's', 'merits', 'is', 'to', 'have', 'kept', 'alive', 'the', 'flame', 'of', 'internationalism', 'in', 'a', 'benighted', 'region', '.']",
         "num_words": 20,
         "_deepnote_index_column": 37
        },
        {
         "sentences": "Reflect for a moment on the Kurds’ battle against ISIS, which they have waged not only for themselves and their safety, but also on behalf of the rest of the world.",
         "words": "['Reflect', 'for', 'a', 'moment', 'on', 'the', 'Kurds', '’', 'battle', 'against', 'ISIS', ',', 'which', 'they', 'have', 'waged', 'not', 'only', 'for', 'themselves', 'and', 'their', 'safety', ',', 'but', 'also', 'on', 'behalf', 'of', 'the', 'rest', 'of', 'the', 'world', '.']",
         "num_words": 35,
         "_deepnote_index_column": 38
        },
        {
         "sentences": "The Kurds have acted as internationalists, while also being internationalists in heart and soul.",
         "words": "['The', 'Kurds', 'have', 'acted', 'as', 'internationalists', ',', 'while', 'also', 'being', 'internationalists', 'in', 'heart', 'and', 'soul', '.']",
         "num_words": 16,
         "_deepnote_index_column": 39
        },
        {
         "sentences": "So the Kurds will soon – very soon, I hope – be free, with their own independent nation-state.",
         "words": "['So', 'the', 'Kurds', 'will', 'soon', '–', 'very', 'soon', ',', 'I', 'hope', '–', 'be', 'free', ',', 'with', 'their', 'own', 'independent', 'nation-state', '.']",
         "num_words": 21,
         "_deepnote_index_column": 40
        },
        {
         "sentences": "But, after that, they will be surrounded by powerful neighbors that will, one expects, be hostile toward them – not least because of the precedent Kurdish independence sets.",
         "words": "['But', ',', 'after', 'that', ',', 'they', 'will', 'be', 'surrounded', 'by', 'powerful', 'neighbors', 'that', 'will', ',', 'one', 'expects', ',', 'be', 'hostile', 'toward', 'them', '–', 'not', 'least', 'because', 'of', 'the', 'precedent', 'Kurdish', 'independence', 'sets', '.']",
         "num_words": 33,
         "_deepnote_index_column": 41
        },
        {
         "sentences": "Free Kurdistan will be a living reproach to the many false nations, anti-nations, and prison nations across the Middle East, in which Kurds, among others, remain confined.",
         "words": "['Free', 'Kurdistan', 'will', 'be', 'a', 'living', 'reproach', 'to', 'the', 'many', 'false', 'nations', ',', 'anti-nations', ',', 'and', 'prison', 'nations', 'across', 'the', 'Middle', 'East', ',', 'in', 'which', 'Kurds', ',', 'among', 'others', ',', 'remain', 'confined', '.']",
         "num_words": 33,
         "_deepnote_index_column": 42
        },
        {
         "sentences": "Confronted with the new tests and challenges that are bound to stem from that reproach – challenges that independence alone will not suffice to surmount – the Kurdish people must recognize that they are likely to find themselves as alone as they have ever been in their long history.",
         "words": "['Confronted', 'with', 'the', 'new', 'tests', 'and', 'challenges', 'that', 'are', 'bound', 'to', 'stem', 'from', 'that', 'reproach', '–', 'challenges', 'that', 'independence', 'alone', 'will', 'not', 'suffice', 'to', 'surmount', '–', 'the', 'Kurdish', 'people', 'must', 'recognize', 'that', 'they', 'are', 'likely', 'to', 'find', 'themselves', 'as', 'alone', 'as', 'they', 'have', 'ever', 'been', 'in', 'their', 'long', 'history', '.']",
         "num_words": 50,
         "_deepnote_index_column": 43
        },
        {
         "sentences": "Charles de Gaulle once said that a people has no friends, and, alas, the Kurds will find out soon enough that today’s friends will not always be their friends.",
         "words": "['Charles', 'de', 'Gaulle', 'once', 'said', 'that', 'a', 'people', 'has', 'no', 'friends', ',', 'and', ',', 'alas', ',', 'the', 'Kurds', 'will', 'find', 'out', 'soon', 'enough', 'that', 'today', '’', 's', 'friends', 'will', 'not', 'always', 'be', 'their', 'friends', '.']",
         "num_words": 35,
         "_deepnote_index_column": 44
        },
        {
         "sentences": "It may happen that they prefer their supposed world order to friendship, justice, and the cause of true stability and peace.",
         "words": "['It', 'may', 'happen', 'that', 'they', 'prefer', 'their', 'supposed', 'world', 'order', 'to', 'friendship', ',', 'justice', ',', 'and', 'the', 'cause', 'of', 'true', 'stability', 'and', 'peace', '.']",
         "num_words": 24,
         "_deepnote_index_column": 45
        },
        {
         "sentences": "The Kurds are preparing for this.",
         "words": "['The', 'Kurds', 'are', 'preparing', 'for', 'this', '.']",
         "num_words": 7,
         "_deepnote_index_column": 46
        },
        {
         "sentences": "And, fortunately, there are also millions of men and women abroad, in France and throughout the world, who believed in Kurdistan when governments wanted nothing to do with it.",
         "words": "['And', ',', 'fortunately', ',', 'there', 'are', 'also', 'millions', 'of', 'men', 'and', 'women', 'abroad', ',', 'in', 'France', 'and', 'throughout', 'the', 'world', ',', 'who', 'believed', 'in', 'Kurdistan', 'when', 'governments', 'wanted', 'nothing', 'to', 'do', 'with', 'it', '.']",
         "num_words": 34,
         "_deepnote_index_column": 47
        },
        {
         "sentences": "That sort of friendship – the support offered by so many of the world’s citizens – is much more constant.",
         "words": "['That', 'sort', 'of', 'friendship', '–', 'the', 'support', 'offered', 'by', 'so', 'many', 'of', 'the', 'world', '’', 's', 'citizens', '–', 'is', 'much', 'more', 'constant', '.']",
         "num_words": 23,
         "_deepnote_index_column": 48
        },
        {
         "sentences": "Friends like that will never fail.",
         "words": "['Friends', 'like', 'that', 'will', 'never', 'fail', '.']",
         "num_words": 7,
         "_deepnote_index_column": 49
        },
        {
         "sentences": "A Death of One’s Own\nPRINCETON – Dudley Clendinen, a writer and journalist, has amyotrophic lateral sclerosis (ALS), a terminal degenerative illness.",
         "words": "['A', 'Death', 'of', 'One', '’', 's', 'Own', 'PRINCETON', '–', 'Dudley', 'Clendinen', ',', 'a', 'writer', 'and', 'journalist', ',', 'has', 'amyotrophic', 'lateral', 'sclerosis', '(', 'ALS', ')', ',', 'a', 'terminal', 'degenerative', 'illness', '.']",
         "num_words": 30,
         "_deepnote_index_column": 50
        },
        {
         "sentences": "In The New York Times earlier this year, he wrote movingly both of his current enjoyment of his life, and of his plan to end it when, as he put it, “the music stops – when I can’t tie my bow tie, tell a funny story, walk my dog, talk with Whitney, kiss someone special, or tap out lines like this.”\nA friend told Clendinen that he needed to buy a gun.",
         "words": "['In', 'The', 'New', 'York', 'Times', 'earlier', 'this', 'year', ',', 'he', 'wrote', 'movingly', 'both', 'of', 'his', 'current', 'enjoyment', 'of', 'his', 'life', ',', 'and', 'of', 'his', 'plan', 'to', 'end', 'it', 'when', ',', 'as', 'he', 'put', 'it', ',', '“', 'the', 'music', 'stops', '–', 'when', 'I', 'can', '’', 't', 'tie', 'my', 'bow', 'tie', ',', 'tell', 'a', 'funny', 'story', ',', 'walk', 'my', 'dog', ',', 'talk', 'with', 'Whitney', ',', 'kiss', 'someone', 'special', ',', 'or', 'tap', 'out', 'lines', 'like', 'this.', '”', 'A', 'friend', 'told', 'Clendinen', 'that', 'he', 'needed', 'to', 'buy', 'a', 'gun', '.']",
         "num_words": 86,
         "_deepnote_index_column": 51
        },
        {
         "sentences": "In the United States, you can buy a gun and put a bullet through your brain without breaking any laws.",
         "words": "['In', 'the', 'United', 'States', ',', 'you', 'can', 'buy', 'a', 'gun', 'and', 'put', 'a', 'bullet', 'through', 'your', 'brain', 'without', 'breaking', 'any', 'laws', '.']",
         "num_words": 22,
         "_deepnote_index_column": 52
        },
        {
         "sentences": "But if you are a law-abiding person who is already too ill to buy a gun, or to use one, or if shooting yourself doesn’t strike you as a peaceful and dignified way to end your life, or if you just don’t want to leave a mess for others to clean up, what are you to do?",
         "words": "['But', 'if', 'you', 'are', 'a', 'law-abiding', 'person', 'who', 'is', 'already', 'too', 'ill', 'to', 'buy', 'a', 'gun', ',', 'or', 'to', 'use', 'one', ',', 'or', 'if', 'shooting', 'yourself', 'doesn', '’', 't', 'strike', 'you', 'as', 'a', 'peaceful', 'and', 'dignified', 'way', 'to', 'end', 'your', 'life', ',', 'or', 'if', 'you', 'just', 'don', '’', 't', 'want', 'to', 'leave', 'a', 'mess', 'for', 'others', 'to', 'clean', 'up', ',', 'what', 'are', 'you', 'to', 'do', '?']",
         "num_words": 66,
         "_deepnote_index_column": 53
        },
        {
         "sentences": "You can’t ask someone else to shoot you, and, in most countries, if you tell your doctor that you have had enough, and that you would like his or her assistance in dying, you are asking your doctor to commit a crime.",
         "words": "['You', 'can', '’', 't', 'ask', 'someone', 'else', 'to', 'shoot', 'you', ',', 'and', ',', 'in', 'most', 'countries', ',', 'if', 'you', 'tell', 'your', 'doctor', 'that', 'you', 'have', 'had', 'enough', ',', 'and', 'that', 'you', 'would', 'like', 'his', 'or', 'her', 'assistance', 'in', 'dying', ',', 'you', 'are', 'asking', 'your', 'doctor', 'to', 'commit', 'a', 'crime', '.']",
         "num_words": 50,
         "_deepnote_index_column": 54
        },
        {
         "sentences": "Last month, an expert panel of the Royal Society of Canada, chaired by Udo Schüklenk, a professor of bioethics at Queens University, released a report on decision-making at the end of life.",
         "words": "['Last', 'month', ',', 'an', 'expert', 'panel', 'of', 'the', 'Royal', 'Society', 'of', 'Canada', ',', 'chaired', 'by', 'Udo', 'Schüklenk', ',', 'a', 'professor', 'of', 'bioethics', 'at', 'Queens', 'University', ',', 'released', 'a', 'report', 'on', 'decision-making', 'at', 'the', 'end', 'of', 'life', '.']",
         "num_words": 37,
         "_deepnote_index_column": 55
        },
        {
         "sentences": "The report provides a strong argument for allowing doctors to help their patients to die, provided that the patients are competent and freely request such assistance.",
         "words": "['The', 'report', 'provides', 'a', 'strong', 'argument', 'for', 'allowing', 'doctors', 'to', 'help', 'their', 'patients', 'to', 'die', ',', 'provided', 'that', 'the', 'patients', 'are', 'competent', 'and', 'freely', 'request', 'such', 'assistance', '.']",
         "num_words": 28,
         "_deepnote_index_column": 56
        },
        {
         "sentences": "The ethical basis of the panel’s argument is not so much the avoidance of unnecessary suffering in terminally ill patients, but rather the core value of individual autonomy or self-determination.",
         "words": "['The', 'ethical', 'basis', 'of', 'the', 'panel', '’', 's', 'argument', 'is', 'not', 'so', 'much', 'the', 'avoidance', 'of', 'unnecessary', 'suffering', 'in', 'terminally', 'ill', 'patients', ',', 'but', 'rather', 'the', 'core', 'value', 'of', 'individual', 'autonomy', 'or', 'self-determination', '.']",
         "num_words": 34,
         "_deepnote_index_column": 57
        },
        {
         "sentences": "“The manner of our dying,” the panel concludes, “reflects our sense of what is important just as much as do the other central decisions in our lives.”\nIn a state that protects individual rights, therefore, deciding how to die ought to be recognized as such a right.",
         "words": "['“', 'The', 'manner', 'of', 'our', 'dying', ',', '”', 'the', 'panel', 'concludes', ',', '“', 'reflects', 'our', 'sense', 'of', 'what', 'is', 'important', 'just', 'as', 'much', 'as', 'do', 'the', 'other', 'central', 'decisions', 'in', 'our', 'lives.', '”', 'In', 'a', 'state', 'that', 'protects', 'individual', 'rights', ',', 'therefore', ',', 'deciding', 'how', 'to', 'die', 'ought', 'to', 'be', 'recognized', 'as', 'such', 'a', 'right', '.']",
         "num_words": 56,
         "_deepnote_index_column": 58
        },
        {
         "sentences": "The report also offers an up-to-date review of how assistance by physicians in ending life is working in the “living laboratories” – the jurisdictions where it is legal.",
         "words": "['The', 'report', 'also', 'offers', 'an', 'up-to-date', 'review', 'of', 'how', 'assistance', 'by', 'physicians', 'in', 'ending', 'life', 'is', 'working', 'in', 'the', '“', 'living', 'laboratories', '”', '–', 'the', 'jurisdictions', 'where', 'it', 'is', 'legal', '.']",
         "num_words": 31,
         "_deepnote_index_column": 59
        },
        {
         "sentences": "In Switzerland, as well as in the US states of Oregon, Washington, and Montana, the law now permits physicians, on request, to supply a terminally ill patient with a prescription for a drug that will bring about a peaceful death.",
         "words": "['In', 'Switzerland', ',', 'as', 'well', 'as', 'in', 'the', 'US', 'states', 'of', 'Oregon', ',', 'Washington', ',', 'and', 'Montana', ',', 'the', 'law', 'now', 'permits', 'physicians', ',', 'on', 'request', ',', 'to', 'supply', 'a', 'terminally', 'ill', 'patient', 'with', 'a', 'prescription', 'for', 'a', 'drug', 'that', 'will', 'bring', 'about', 'a', 'peaceful', 'death', '.']",
         "num_words": 47,
         "_deepnote_index_column": 60
        },
        {
         "sentences": "In The Netherlands, Belgium, and Luxembourg, doctors have the additional option of responding to the patient’s request by giving the patient a lethal injection.",
         "words": "['In', 'The', 'Netherlands', ',', 'Belgium', ',', 'and', 'Luxembourg', ',', 'doctors', 'have', 'the', 'additional', 'option', 'of', 'responding', 'to', 'the', 'patient', '’', 's', 'request', 'by', 'giving', 'the', 'patient', 'a', 'lethal', 'injection', '.']",
         "num_words": 30,
         "_deepnote_index_column": 61
        },
        {
         "sentences": "The panel examined reports from each of these jurisdictions, with the exception of Montana (where legalization of assistance in dying occurred only in 2009, and reliable data are not yet available).",
         "words": "['The', 'panel', 'examined', 'reports', 'from', 'each', 'of', 'these', 'jurisdictions', ',', 'with', 'the', 'exception', 'of', 'Montana', '(', 'where', 'legalization', 'of', 'assistance', 'in', 'dying', 'occurred', 'only', 'in', '2009', ',', 'and', 'reliable', 'data', 'are', 'not', 'yet', 'available', ')', '.']",
         "num_words": 36,
         "_deepnote_index_column": 62
        },
        {
         "sentences": "In The Netherlands, voluntary euthanasia accounted for 1.7% of all deaths in 2005 – exactly the same level as in 1990.",
         "words": "['In', 'The', 'Netherlands', ',', 'voluntary', 'euthanasia', 'accounted', 'for', '1.7', '%', 'of', 'all', 'deaths', 'in', '2005', '–', 'exactly', 'the', 'same', 'level', 'as', 'in', '1990', '.']",
         "num_words": 24,
         "_deepnote_index_column": 63
        },
        {
         "sentences": "Moreover, the frequency of ending a patient’s life without an explicit request from the patient fell by half during the same period, from 0.8% to 0.4%.",
         "words": "['Moreover', ',', 'the', 'frequency', 'of', 'ending', 'a', 'patient', '’', 's', 'life', 'without', 'an', 'explicit', 'request', 'from', 'the', 'patient', 'fell', 'by', 'half', 'during', 'the', 'same', 'period', ',', 'from', '0.8', '%', 'to', '0.4', '%', '.']",
         "num_words": 33,
         "_deepnote_index_column": 64
        },
        {
         "sentences": "Indeed, several surveys suggest that ending a patient’s life without an explicit request is much more common in other countries, where patients cannot lawfully ask a doctor to end their lives.",
         "words": "['Indeed', ',', 'several', 'surveys', 'suggest', 'that', 'ending', 'a', 'patient', '’', 's', 'life', 'without', 'an', 'explicit', 'request', 'is', 'much', 'more', 'common', 'in', 'other', 'countries', ',', 'where', 'patients', 'can', 'not', 'lawfully', 'ask', 'a', 'doctor', 'to', 'end', 'their', 'lives', '.']",
         "num_words": 37,
         "_deepnote_index_column": 65
        },
        {
         "sentences": "In Belgium, although voluntary euthanasia rose from 1.1% of all deaths in 1998 to 1.9% in 2007, the frequency of ending a patient’s life without an explicit request fell from 3.2% to 1.8%.",
         "words": "['In', 'Belgium', ',', 'although', 'voluntary', 'euthanasia', 'rose', 'from', '1.1', '%', 'of', 'all', 'deaths', 'in', '1998', 'to', '1.9', '%', 'in', '2007', ',', 'the', 'frequency', 'of', 'ending', 'a', 'patient', '’', 's', 'life', 'without', 'an', 'explicit', 'request', 'fell', 'from', '3.2', '%', 'to', '1.8', '%', '.']",
         "num_words": 42,
         "_deepnote_index_column": 66
        },
        {
         "sentences": "In Oregon, where the Death with Dignity Act has been in effect for 13 years, the annual number of physician-assisted deaths has yet to reach 100 per year, and the annual total in Washington is even lower.",
         "words": "['In', 'Oregon', ',', 'where', 'the', 'Death', 'with', 'Dignity', 'Act', 'has', 'been', 'in', 'effect', 'for', '13', 'years', ',', 'the', 'annual', 'number', 'of', 'physician-assisted', 'deaths', 'has', 'yet', 'to', 'reach', '100', 'per', 'year', ',', 'and', 'the', 'annual', 'total', 'in', 'Washington', 'is', 'even', 'lower', '.']",
         "num_words": 41,
         "_deepnote_index_column": 67
        },
        {
         "sentences": "The Canadian panel therefore concluded that there is strong evidence to rebut one of the greatest fears that opponents of voluntary euthanasia or physician-assisted dying often voice – that it is the first step down a slippery slope towards more widespread medical killing.",
         "words": "['The', 'Canadian', 'panel', 'therefore', 'concluded', 'that', 'there', 'is', 'strong', 'evidence', 'to', 'rebut', 'one', 'of', 'the', 'greatest', 'fears', 'that', 'opponents', 'of', 'voluntary', 'euthanasia', 'or', 'physician-assisted', 'dying', 'often', 'voice', '–', 'that', 'it', 'is', 'the', 'first', 'step', 'down', 'a', 'slippery', 'slope', 'towards', 'more', 'widespread', 'medical', 'killing', '.']",
         "num_words": 44,
         "_deepnote_index_column": 68
        },
        {
         "sentences": "The panel also found inadequate several other objections to legalization, and recommended that the law in Canada be changed to permit both physician-assisted suicide and voluntary euthanasia.",
         "words": "['The', 'panel', 'also', 'found', 'inadequate', 'several', 'other', 'objections', 'to', 'legalization', ',', 'and', 'recommended', 'that', 'the', 'law', 'in', 'Canada', 'be', 'changed', 'to', 'permit', 'both', 'physician-assisted', 'suicide', 'and', 'voluntary', 'euthanasia', '.']",
         "num_words": 29,
         "_deepnote_index_column": 69
        },
        {
         "sentences": "Surveys show that more than two-thirds of Canadians support legalization of voluntary euthanasia – a level that has held steady for several decades.",
         "words": "['Surveys', 'show', 'that', 'more', 'than', 'two-thirds', 'of', 'Canadians', 'support', 'legalization', 'of', 'voluntary', 'euthanasia', '–', 'a', 'level', 'that', 'has', 'held', 'steady', 'for', 'several', 'decades', '.']",
         "num_words": 24,
         "_deepnote_index_column": 70
        },
        {
         "sentences": "So it is not surprising that the report received strong backing in the mainstream Canadian media.",
         "words": "['So', 'it', 'is', 'not', 'surprising', 'that', 'the', 'report', 'received', 'strong', 'backing', 'in', 'the', 'mainstream', 'Canadian', 'media', '.']",
         "num_words": 17,
         "_deepnote_index_column": 71
        },
        {
         "sentences": "What is more puzzling is the cool response from the country’s political parties, none of which indicated a willingness to support law reform in this area.",
         "words": "['What', 'is', 'more', 'puzzling', 'is', 'the', 'cool', 'response', 'from', 'the', 'country', '’', 's', 'political', 'parties', ',', 'none', 'of', 'which', 'indicated', 'a', 'willingness', 'to', 'support', 'law', 'reform', 'in', 'this', 'area', '.']",
         "num_words": 30,
         "_deepnote_index_column": 72
        },
        {
         "sentences": "There is a similar contrast between public opinion and political (in)action elsewhere, including the United Kingdom, Australia, New Zealand, and several continental European countries.",
         "words": "['There', 'is', 'a', 'similar', 'contrast', 'between', 'public', 'opinion', 'and', 'political', '(', 'in', ')', 'action', 'elsewhere', ',', 'including', 'the', 'United', 'Kingdom', ',', 'Australia', ',', 'New', 'Zealand', ',', 'and', 'several', 'continental', 'European', 'countries', '.']",
         "num_words": 32,
         "_deepnote_index_column": 73
        },
        {
         "sentences": "Why, when it comes to dying, do democratic institutions so often fail to translate what people want into legislation?",
         "words": "['Why', ',', 'when', 'it', 'comes', 'to', 'dying', ',', 'do', 'democratic', 'institutions', 'so', 'often', 'fail', 'to', 'translate', 'what', 'people', 'want', 'into', 'legislation', '?']",
         "num_words": 22,
         "_deepnote_index_column": 74
        },
        {
         "sentences": "I suspect that, above all, mainstream politicians fear religious institutions that oppose voluntary euthanasia, even though individual believers often do not follow their religious leaders’ views.",
         "words": "['I', 'suspect', 'that', ',', 'above', 'all', ',', 'mainstream', 'politicians', 'fear', 'religious', 'institutions', 'that', 'oppose', 'voluntary', 'euthanasia', ',', 'even', 'though', 'individual', 'believers', 'often', 'do', 'not', 'follow', 'their', 'religious', 'leaders', '’', 'views', '.']",
         "num_words": 31,
         "_deepnote_index_column": 75
        },
        {
         "sentences": "Polls in various countries have shown that a majority of Roman Catholics, for example, support legalization of voluntary euthanasia.",
         "words": "['Polls', 'in', 'various', 'countries', 'have', 'shown', 'that', 'a', 'majority', 'of', 'Roman', 'Catholics', ',', 'for', 'example', ',', 'support', 'legalization', 'of', 'voluntary', 'euthanasia', '.']",
         "num_words": 22,
         "_deepnote_index_column": 76
        },
        {
         "sentences": "Even in strongly Catholic Poland, more people now support legalization than oppose it.",
         "words": "['Even', 'in', 'strongly', 'Catholic', 'Poland', ',', 'more', 'people', 'now', 'support', 'legalization', 'than', 'oppose', 'it', '.']",
         "num_words": 15,
         "_deepnote_index_column": 77
        },
        {
         "sentences": "In any case, the religious beliefs of a minority should not deny individuals like Dudley Clendinen the right to end their lives in the manner of their own choosing.",
         "words": "['In', 'any', 'case', ',', 'the', 'religious', 'beliefs', 'of', 'a', 'minority', 'should', 'not', 'deny', 'individuals', 'like', 'Dudley', 'Clendinen', 'the', 'right', 'to', 'end', 'their', 'lives', 'in', 'the', 'manner', 'of', 'their', 'own', 'choosing', '.']",
         "num_words": 31,
         "_deepnote_index_column": 78
        },
        {
         "sentences": "The Development Costs of Homophobia\nLONDON – As a gay man living in Nigeria, my biggest challenge was choosing between my sexuality and my job.",
         "words": "['The', 'Development', 'Costs', 'of', 'Homophobia', 'LONDON', '–', 'As', 'a', 'gay', 'man', 'living', 'in', 'Nigeria', ',', 'my', 'biggest', 'challenge', 'was', 'choosing', 'between', 'my', 'sexuality', 'and', 'my', 'job', '.']",
         "num_words": 27,
         "_deepnote_index_column": 79
        },
        {
         "sentences": "In 2004, I was at the start of my acting career.",
         "words": "['In', '2004', ',', 'I', 'was', 'at', 'the', 'start', 'of', 'my', 'acting', 'career', '.']",
         "num_words": 13,
         "_deepnote_index_column": 80
        },
        {
         "sentences": "I had just left university, and I was featured in “Roses and Thorns,” a prime-time soap opera on Galaxy Television, one of Nigeria’s most popular TV stations.",
         "words": "['I', 'had', 'just', 'left', 'university', ',', 'and', 'I', 'was', 'featured', 'in', '“', 'Roses', 'and', 'Thorns', ',', '”', 'a', 'prime-time', 'soap', 'opera', 'on', 'Galaxy', 'Television', ',', 'one', 'of', 'Nigeria', '’', 's', 'most', 'popular', 'TV', 'stations', '.']",
         "num_words": 35,
         "_deepnote_index_column": 81
        },
        {
         "sentences": "I was playing the role of “Richard,” the only son of a rich family who was having an affair with the house maid.",
         "words": "['I', 'was', 'playing', 'the', 'role', 'of', '“', 'Richard', ',', '”', 'the', 'only', 'son', 'of', 'a', 'rich', 'family', 'who', 'was', 'having', 'an', 'affair', 'with', 'the', 'house', 'maid', '.']",
         "num_words": 27,
         "_deepnote_index_column": 82
        },
        {
         "sentences": "Whispers were making the rounds about my private life, and I decided it was time to come out.",
         "words": "['Whispers', 'were', 'making', 'the', 'rounds', 'about', 'my', 'private', 'life', ',', 'and', 'I', 'decided', 'it', 'was', 'time', 'to', 'come', 'out', '.']",
         "num_words": 20,
         "_deepnote_index_column": 83
        },
        {
         "sentences": "So I agreed to go on Nigeria’s most-watched television talk show to discuss my sexuality.",
         "words": "['So', 'I', 'agreed', 'to', 'go', 'on', 'Nigeria', '’', 's', 'most-watched', 'television', 'talk', 'show', 'to', 'discuss', 'my', 'sexuality', '.']",
         "num_words": 18,
         "_deepnote_index_column": 84
        },
        {
         "sentences": "Almost immediately, my character was eliminated.",
         "words": "['Almost', 'immediately', ',', 'my', 'character', 'was', 'eliminated', '.']",
         "num_words": 8,
         "_deepnote_index_column": 85
        },
        {
         "sentences": "And when my job disappeared, so did my financial security.",
         "words": "['And', 'when', 'my', 'job', 'disappeared', ',', 'so', 'did', 'my', 'financial', 'security', '.']",
         "num_words": 12,
         "_deepnote_index_column": 86
        },
        {
         "sentences": "Like many gay men and lesbians in Africa, my choice was between economic freedom and mental imprisonment.",
         "words": "['Like', 'many', 'gay', 'men', 'and', 'lesbians', 'in', 'Africa', ',', 'my', 'choice', 'was', 'between', 'economic', 'freedom', 'and', 'mental', 'imprisonment', '.']",
         "num_words": 19,
         "_deepnote_index_column": 87
        },
        {
         "sentences": "This year, Nigeria and Uganda put in place draconian anti-gay laws, sparking a worldwide debate about human rights.",
         "words": "['This', 'year', ',', 'Nigeria', 'and', 'Uganda', 'put', 'in', 'place', 'draconian', 'anti-gay', 'laws', ',', 'sparking', 'a', 'worldwide', 'debate', 'about', 'human', 'rights', '.']",
         "num_words": 21,
         "_deepnote_index_column": 88
        },
        {
         "sentences": "This debate has also started at the World Bank, whose president, Jim Yong Kim, recently declared that “institutionalized discrimination is bad for people and for societies.”\nKim’s statement has invited criticism and controversy.",
         "words": "['This', 'debate', 'has', 'also', 'started', 'at', 'the', 'World', 'Bank', ',', 'whose', 'president', ',', 'Jim', 'Yong', 'Kim', ',', 'recently', 'declared', 'that', '“', 'institutionalized', 'discrimination', 'is', 'bad', 'for', 'people', 'and', 'for', 'societies.', '”', 'Kim', '’', 's', 'statement', 'has', 'invited', 'criticism', 'and', 'controversy', '.']",
         "num_words": 41,
         "_deepnote_index_column": 89
        },
        {
         "sentences": "Often, as in Uganda and Nigeria, we hear the claim that opposition to official discrimination against gay, lesbian, bisexual, and transgender (LGBT) people is simply a way to impose “Western” values on Africa.",
         "words": "['Often', ',', 'as', 'in', 'Uganda', 'and', 'Nigeria', ',', 'we', 'hear', 'the', 'claim', 'that', 'opposition', 'to', 'official', 'discrimination', 'against', 'gay', ',', 'lesbian', ',', 'bisexual', ',', 'and', 'transgender', '(', 'LGBT', ')', 'people', 'is', 'simply', 'a', 'way', 'to', 'impose', '“', 'Western', '”', 'values', 'on', 'Africa', '.']",
         "num_words": 43,
         "_deepnote_index_column": 90
        },
        {
         "sentences": "But this assumes that homosexuality is “un-African.”\nAnd, despite the absence of evidence that any given country or continent does not have LGBT people (and ample evidence to the contrary), it is an assumption that an increasing number of African leaders have embraced.",
         "words": "['But', 'this', 'assumes', 'that', 'homosexuality', 'is', '“', 'un-African.', '”', 'And', ',', 'despite', 'the', 'absence', 'of', 'evidence', 'that', 'any', 'given', 'country', 'or', 'continent', 'does', 'not', 'have', 'LGBT', 'people', '(', 'and', 'ample', 'evidence', 'to', 'the', 'contrary', ')', ',', 'it', 'is', 'an', 'assumption', 'that', 'an', 'increasing', 'number', 'of', 'African', 'leaders', 'have', 'embraced', '.']",
         "num_words": 50,
         "_deepnote_index_column": 91
        },
        {
         "sentences": "In 2006, President Olusegun Obasanjo, then Nigeria’s president, was among the first to do so.",
         "words": "['In', '2006', ',', 'President', 'Olusegun', 'Obasanjo', ',', 'then', 'Nigeria', '’', 's', 'president', ',', 'was', 'among', 'the', 'first', 'to', 'do', 'so', '.']",
         "num_words": 21,
         "_deepnote_index_column": 92
        },
        {
         "sentences": "Uganda’s President Yoweri Museveni followed suit when signing the anti-gay bill into law in 2014.",
         "words": "['Uganda', '’', 's', 'President', 'Yoweri', 'Museveni', 'followed', 'suit', 'when', 'signing', 'the', 'anti-gay', 'bill', 'into', 'law', 'in', '2014', '.']",
         "num_words": 18,
         "_deepnote_index_column": 93
        },
        {
         "sentences": "Other leaders, from Gambia’s President Yahya Jammeh to Zimbabwe’s Robert Mugabe, have spoken in the same vein.",
         "words": "['Other', 'leaders', ',', 'from', 'Gambia', '’', 's', 'President', 'Yahya', 'Jammeh', 'to', 'Zimbabwe', '’', 's', 'Robert', 'Mugabe', ',', 'have', 'spoken', 'in', 'the', 'same', 'vein', '.']",
         "num_words": 24,
         "_deepnote_index_column": 94
        },
        {
         "sentences": "These official attitudes have caused significant suffering for Africa’s gays and lesbians.",
         "words": "['These', 'official', 'attitudes', 'have', 'caused', 'significant', 'suffering', 'for', 'Africa', '’', 's', 'gays', 'and', 'lesbians', '.']",
         "num_words": 15,
         "_deepnote_index_column": 95
        },
        {
         "sentences": "Indeed, the price of homophobia for gay people in many African countries is painfully clear: legal penalties, social ostracism, and mob justice.",
         "words": "['Indeed', ',', 'the', 'price', 'of', 'homophobia', 'for', 'gay', 'people', 'in', 'many', 'African', 'countries', 'is', 'painfully', 'clear', ':', 'legal', 'penalties', ',', 'social', 'ostracism', ',', 'and', 'mob', 'justice', '.']",
         "num_words": 27,
         "_deepnote_index_column": 96
        },
        {
         "sentences": "But here is what Africa’s anti-gay leaders miss: legal protections are not only a human-rights issue, but also an economic issue.",
         "words": "['But', 'here', 'is', 'what', 'Africa', '’', 's', 'anti-gay', 'leaders', 'miss', ':', 'legal', 'protections', 'are', 'not', 'only', 'a', 'human-rights', 'issue', ',', 'but', 'also', 'an', 'economic', 'issue', '.']",
         "num_words": 26,
         "_deepnote_index_column": 97
        },
        {
         "sentences": "Kim is exactly right, and research has started measuring the economic costs of homophobia by exploring links between anti-gay sentiment and poverty in countries where laws and social attitudes proscribe same-sex relationships.",
         "words": "['Kim', 'is', 'exactly', 'right', ',', 'and', 'research', 'has', 'started', 'measuring', 'the', 'economic', 'costs', 'of', 'homophobia', 'by', 'exploring', 'links', 'between', 'anti-gay', 'sentiment', 'and', 'poverty', 'in', 'countries', 'where', 'laws', 'and', 'social', 'attitudes', 'proscribe', 'same-sex', 'relationships', '.']",
         "num_words": 34,
         "_deepnote_index_column": 98
        },
        {
         "sentences": "M.V.",
         "words": "['M.V', '.']",
         "num_words": 2,
         "_deepnote_index_column": 99
        },
        {
         "sentences": "Lee Badgett, an economist at the University of Massachusetts-Amherst, presented the initial findings of a study of the economic implications of homophobia in India at a World Bank meeting in March 2014.",
         "words": "['Lee', 'Badgett', ',', 'an', 'economist', 'at', 'the', 'University', 'of', 'Massachusetts-Amherst', ',', 'presented', 'the', 'initial', 'findings', 'of', 'a', 'study', 'of', 'the', 'economic', 'implications', 'of', 'homophobia', 'in', 'India', 'at', 'a', 'World', 'Bank', 'meeting', 'in', 'March', '2014', '.']",
         "num_words": 35,
         "_deepnote_index_column": 100
        },
        {
         "sentences": "Badgett estimated that the Indian economy may have lost up to $23.1 billion in 2012 in direct health costs alone, owing to depression, suicide, and HIV treatment disparities caused by anti-gay stigma and discrimination.",
         "words": "['Badgett', 'estimated', 'that', 'the', 'Indian', 'economy', 'may', 'have', 'lost', 'up', 'to', '$', '23.1', 'billion', 'in', '2012', 'in', 'direct', 'health', 'costs', 'alone', ',', 'owing', 'to', 'depression', ',', 'suicide', ',', 'and', 'HIV', 'treatment', 'disparities', 'caused', 'by', 'anti-gay', 'stigma', 'and', 'discrimination', '.']",
         "num_words": 39,
         "_deepnote_index_column": 101
        },
        {
         "sentences": "In addition to such concrete costs, being gay can bring violence, job loss, family rejection, harassment in schools, and pressure to marry.",
         "words": "['In', 'addition', 'to', 'such', 'concrete', 'costs', ',', 'being', 'gay', 'can', 'bring', 'violence', ',', 'job', 'loss', ',', 'family', 'rejection', ',', 'harassment', 'in', 'schools', ',', 'and', 'pressure', 'to', 'marry', '.']",
         "num_words": 28,
         "_deepnote_index_column": 102
        },
        {
         "sentences": "As a result, many gay people have less education, lower productivity, lower earnings, poorer health, and a shorter life expectancy.",
         "words": "['As', 'a', 'result', ',', 'many', 'gay', 'people', 'have', 'less', 'education', ',', 'lower', 'productivity', ',', 'lower', 'earnings', ',', 'poorer', 'health', ',', 'and', 'a', 'shorter', 'life', 'expectancy', '.']",
         "num_words": 26,
         "_deepnote_index_column": 103
        },
        {
         "sentences": "In Nigeria, I started the Independent Project for Equal Rights (TIERs) in 2005 to respond to the increasing number of people who were losing their jobs because of suspicions about their sexuality.",
         "words": "['In', 'Nigeria', ',', 'I', 'started', 'the', 'Independent', 'Project', 'for', 'Equal', 'Rights', '(', 'TIERs', ')', 'in', '2005', 'to', 'respond', 'to', 'the', 'increasing', 'number', 'of', 'people', 'who', 'were', 'losing', 'their', 'jobs', 'because', 'of', 'suspicions', 'about', 'their', 'sexuality', '.']",
         "num_words": 36,
         "_deepnote_index_column": 104
        },
        {
         "sentences": "During our first year, we provided support for dozens of people.",
         "words": "['During', 'our', 'first', 'year', ',', 'we', 'provided', 'support', 'for', 'dozens', 'of', 'people', '.']",
         "num_words": 13,
         "_deepnote_index_column": 105
        },
        {
         "sentences": "One young man, “Olumide,” was given temporary housing after his family kicked him out for being gay.",
         "words": "['One', 'young', 'man', ',', '“', 'Olumide', ',', '”', 'was', 'given', 'temporary', 'housing', 'after', 'his', 'family', 'kicked', 'him', 'out', 'for', 'being', 'gay', '.']",
         "num_words": 22,
         "_deepnote_index_column": 106
        },
        {
         "sentences": "Another, “Uche,” was fired from his job as a chef after his sexuality was revealed.",
         "words": "['Another', ',', '“', 'Uche', ',', '”', 'was', 'fired', 'from', 'his', 'job', 'as', 'a', 'chef', 'after', 'his', 'sexuality', 'was', 'revealed', '.']",
         "num_words": 20,
         "_deepnote_index_column": 107
        },
        {
         "sentences": "TIERs helped him with accommodation and capital to set up a catering business.",
         "words": "['TIERs', 'helped', 'him', 'with', 'accommodation', 'and', 'capital', 'to', 'set', 'up', 'a', 'catering', 'business', '.']",
         "num_words": 14,
         "_deepnote_index_column": 108
        },
        {
         "sentences": "Though almost 10 years have passed, it is still not safe to use their real names.",
         "words": "['Though', 'almost', '10', 'years', 'have', 'passed', ',', 'it', 'is', 'still', 'not', 'safe', 'to', 'use', 'their', 'real', 'names', '.']",
         "num_words": 18,
         "_deepnote_index_column": 109
        },
        {
         "sentences": "Across Africa, the economic costs of discrimination are increasing, in line with growing pressure on employers, landlords, health-care providers, educational institutions, and others to exclude LGBT people.",
         "words": "['Across', 'Africa', ',', 'the', 'economic', 'costs', 'of', 'discrimination', 'are', 'increasing', ',', 'in', 'line', 'with', 'growing', 'pressure', 'on', 'employers', ',', 'landlords', ',', 'health-care', 'providers', ',', 'educational', 'institutions', ',', 'and', 'others', 'to', 'exclude', 'LGBT', 'people', '.']",
         "num_words": 34,
         "_deepnote_index_column": 110
        },
        {
         "sentences": "Today, the World Bank and other development agencies are mapping out the global development priorities that will follow the Millennium Development Goals (MDGs), which officially end in 2015 and included specific targets for promoting gender equality and empowering women as a strategy for economic growth.",
         "words": "['Today', ',', 'the', 'World', 'Bank', 'and', 'other', 'development', 'agencies', 'are', 'mapping', 'out', 'the', 'global', 'development', 'priorities', 'that', 'will', 'follow', 'the', 'Millennium', 'Development', 'Goals', '(', 'MDGs', ')', ',', 'which', 'officially', 'end', 'in', '2015', 'and', 'included', 'specific', 'targets', 'for', 'promoting', 'gender', 'equality', 'and', 'empowering', 'women', 'as', 'a', 'strategy', 'for', 'economic', 'growth', '.']",
         "num_words": 50,
         "_deepnote_index_column": 111
        },
        {
         "sentences": "Looking ahead, the Bank should take the same approach to LGBT rights and make legal protections for sexual orientation and gender identity a condition for countries receiving loans.",
         "words": "['Looking', 'ahead', ',', 'the', 'Bank', 'should', 'take', 'the', 'same', 'approach', 'to', 'LGBT', 'rights', 'and', 'make', 'legal', 'protections', 'for', 'sexual', 'orientation', 'and', 'gender', 'identity', 'a', 'condition', 'for', 'countries', 'receiving', 'loans', '.']",
         "num_words": 30,
         "_deepnote_index_column": 112
        },
        {
         "sentences": "Building recognition of women’s rights into the MDGs did not corrupt African cultures by imposing “Western” values; in fact, it strengthened many African countries, which now lead the world in the representation of women in government.",
         "words": "['Building', 'recognition', 'of', 'women', '’', 's', 'rights', 'into', 'the', 'MDGs', 'did', 'not', 'corrupt', 'African', 'cultures', 'by', 'imposing', '“', 'Western', '”', 'values', ';', 'in', 'fact', ',', 'it', 'strengthened', 'many', 'African', 'countries', ',', 'which', 'now', 'lead', 'the', 'world', 'in', 'the', 'representation', 'of', 'women', 'in', 'government', '.']",
         "num_words": 44,
         "_deepnote_index_column": 113
        },
        {
         "sentences": "By pursuing similar protections for LGBT people, international investment and aid can improve economic performance and strengthen respect for basic human rights.",
         "words": "['By', 'pursuing', 'similar', 'protections', 'for', 'LGBT', 'people', ',', 'international', 'investment', 'and', 'aid', 'can', 'improve', 'economic', 'performance', 'and', 'strengthen', 'respect', 'for', 'basic', 'human', 'rights', '.']",
         "num_words": 24,
         "_deepnote_index_column": 114
        },
        {
         "sentences": "The World Bank, always wary of entangling itself in “political” questions, emphasizes that it is not a global human-rights enforcer.",
         "words": "['The', 'World', 'Bank', ',', 'always', 'wary', 'of', 'entangling', 'itself', 'in', '“', 'political', '”', 'questions', ',', 'emphasizes', 'that', 'it', 'is', 'not', 'a', 'global', 'human-rights', 'enforcer', '.']",
         "num_words": 25,
         "_deepnote_index_column": 115
        },
        {
         "sentences": "But it also increasingly recognizes its own role as a facilitator in helping Bank members realize their human-rights obligations.",
         "words": "['But', 'it', 'also', 'increasingly', 'recognizes', 'its', 'own', 'role', 'as', 'a', 'facilitator', 'in', 'helping', 'Bank', 'members', 'realize', 'their', 'human-rights', 'obligations', '.']",
         "num_words": 20,
         "_deepnote_index_column": 116
        },
        {
         "sentences": "LGBT rights should be a test case.",
         "words": "['LGBT', 'rights', 'should', 'be', 'a', 'test', 'case', '.']",
         "num_words": 8,
         "_deepnote_index_column": 117
        },
        {
         "sentences": "Aid to governments that permit specific social groups to be ostracized can carry very real economic costs.",
         "words": "['Aid', 'to', 'governments', 'that', 'permit', 'specific', 'social', 'groups', 'to', 'be', 'ostracized', 'can', 'carry', 'very', 'real', 'economic', 'costs', '.']",
         "num_words": 18,
         "_deepnote_index_column": 118
        },
        {
         "sentences": "As new loans are considered, steps should be taken to ensure that the benefits are as inclusive as possible.",
         "words": "['As', 'new', 'loans', 'are', 'considered', ',', 'steps', 'should', 'be', 'taken', 'to', 'ensure', 'that', 'the', 'benefits', 'are', 'as', 'inclusive', 'as', 'possible', '.']",
         "num_words": 21,
         "_deepnote_index_column": 119
        },
        {
         "sentences": "If the Bank – which currently lends Nigeria almost $5.5 billion and expects to commit an additional $2 billion in each of the next four years – moved in this direction, other funders might follow.",
         "words": "['If', 'the', 'Bank', '–', 'which', 'currently', 'lends', 'Nigeria', 'almost', '$', '5.5', 'billion', 'and', 'expects', 'to', 'commit', 'an', 'additional', '$', '2', 'billion', 'in', 'each', 'of', 'the', 'next', 'four', 'years', '–', 'moved', 'in', 'this', 'direction', ',', 'other', 'funders', 'might', 'follow', '.']",
         "num_words": 39,
         "_deepnote_index_column": 120
        },
        {
         "sentences": "Africa’s LGBT people desperately need such powerful allies in their struggle for human and economic rights.",
         "words": "['Africa', '’', 's', 'LGBT', 'people', 'desperately', 'need', 'such', 'powerful', 'allies', 'in', 'their', 'struggle', 'for', 'human', 'and', 'economic', 'rights', '.']",
         "num_words": 19,
         "_deepnote_index_column": 121
        },
        {
         "sentences": "A Decade of Hugo Chávez\nSAN JOSE – We should have known that something was amiss when, during President Hugo Chávez’s inauguration on February 2, 1999, he swore on Venezuela’s 40-year-old Constitution by declaring it “moribund.”\nUnder “the moribund,” as the Constitution came to be known, Venezuela not only had eight peaceful presidential transitions, but also enjoyed the fruits of democratic pluralism and strong civil and political liberties.",
         "words": "['A', 'Decade', 'of', 'Hugo', 'Chávez', 'SAN', 'JOSE', '–', 'We', 'should', 'have', 'known', 'that', 'something', 'was', 'amiss', 'when', ',', 'during', 'President', 'Hugo', 'Chávez', '’', 's', 'inauguration', 'on', 'February', '2', ',', '1999', ',', 'he', 'swore', 'on', 'Venezuela', '’', 's', '40-year-old', 'Constitution', 'by', 'declaring', 'it', '“', 'moribund.', '”', 'Under', '“', 'the', 'moribund', ',', '”', 'as', 'the', 'Constitution', 'came', 'to', 'be', 'known', ',', 'Venezuela', 'not', 'only', 'had', 'eight', 'peaceful', 'presidential', 'transitions', ',', 'but', 'also', 'enjoyed', 'the', 'fruits', 'of', 'democratic', 'pluralism', 'and', 'strong', 'civil', 'and', 'political', 'liberties', '.']",
         "num_words": 83,
         "_deepnote_index_column": 122
        },
        {
         "sentences": "Of course, during this period Venezuela produced as much corruption and political irresponsibility as it did barrels of oil.",
         "words": "['Of', 'course', ',', 'during', 'this', 'period', 'Venezuela', 'produced', 'as', 'much', 'corruption', 'and', 'political', 'irresponsibility', 'as', 'it', 'did', 'barrels', 'of', 'oil', '.']",
         "num_words": 21,
         "_deepnote_index_column": 123
        },
        {
         "sentences": "Nonetheless, Venezuela fared far better than the average Latin American country.",
         "words": "['Nonetheless', ',', 'Venezuela', 'fared', 'far', 'better', 'than', 'the', 'average', 'Latin', 'American', 'country', '.']",
         "num_words": 13,
         "_deepnote_index_column": 124
        },
        {
         "sentences": "It wasn’t Switzerland, but, by anyone’s measure, it was a genuine democracy.",
         "words": "['It', 'wasn', '’', 't', 'Switzerland', ',', 'but', ',', 'by', 'anyone', '’', 's', 'measure', ',', 'it', 'was', 'a', 'genuine', 'democracy', '.']",
         "num_words": 20,
         "_deepnote_index_column": 125
        },
        {
         "sentences": "Not anymore.",
         "words": "['Not', 'anymore', '.']",
         "num_words": 3,
         "_deepnote_index_column": 126
        },
        {
         "sentences": "Elections are still held, but the legacy of Chávez’s decade in power consists, first and foremost, in the demolition of democratic institutions.",
         "words": "['Elections', 'are', 'still', 'held', ',', 'but', 'the', 'legacy', 'of', 'Chávez', '’', 's', 'decade', 'in', 'power', 'consists', ',', 'first', 'and', 'foremost', ',', 'in', 'the', 'demolition', 'of', 'democratic', 'institutions', '.']",
         "num_words": 28,
         "_deepnote_index_column": 127
        },
        {
         "sentences": "Elected in a landslide to clean up the political vices of the previous establishment, Chávez chose to throw the baby out with the bathwater.",
         "words": "['Elected', 'in', 'a', 'landslide', 'to', 'clean', 'up', 'the', 'political', 'vices', 'of', 'the', 'previous', 'establishment', ',', 'Chávez', 'chose', 'to', 'throw', 'the', 'baby', 'out', 'with', 'the', 'bathwater', '.']",
         "num_words": 26,
         "_deepnote_index_column": 128
        },
        {
         "sentences": "The previous regime, including its system of checks and balances and its tradition of political tolerance, did disappear, but its vices – particularly graft and demagoguery – became worse than ever.",
         "words": "['The', 'previous', 'regime', ',', 'including', 'its', 'system', 'of', 'checks', 'and', 'balances', 'and', 'its', 'tradition', 'of', 'political', 'tolerance', ',', 'did', 'disappear', ',', 'but', 'its', 'vices', '–', 'particularly', 'graft', 'and', 'demagoguery', '–', 'became', 'worse', 'than', 'ever', '.']",
         "num_words": 35,
         "_deepnote_index_column": 129
        },
        {
         "sentences": "Pretty much like 10 years ago, Venezuela, once a destination for immigrants from around the world, remains under-developed.",
         "words": "['Pretty', 'much', 'like', '10', 'years', 'ago', ',', 'Venezuela', ',', 'once', 'a', 'destination', 'for', 'immigrants', 'from', 'around', 'the', 'world', ',', 'remains', 'under-developed', '.']",
         "num_words": 22,
         "_deepnote_index_column": 130
        },
        {
         "sentences": "More fundamentally, Chávez represents ideas that have long stifled Latin America’s political and economic growth.",
         "words": "['More', 'fundamentally', ',', 'Chávez', 'represents', 'ideas', 'that', 'have', 'long', 'stifled', 'Latin', 'America', '’', 's', 'political', 'and', 'economic', 'growth', '.']",
         "num_words": 19,
         "_deepnote_index_column": 131
        },
        {
         "sentences": "This includes the notion that social justice can be achieved only by abandoning the path of reform and rejecting “bourgeois” democratic forms in favor of “real” democracy, born of revolutionary purity and the leader’s millenarian dreams.",
         "words": "['This', 'includes', 'the', 'notion', 'that', 'social', 'justice', 'can', 'be', 'achieved', 'only', 'by', 'abandoning', 'the', 'path', 'of', 'reform', 'and', 'rejecting', '“', 'bourgeois', '”', 'democratic', 'forms', 'in', 'favor', 'of', '“', 'real', '”', 'democracy', ',', 'born', 'of', 'revolutionary', 'purity', 'and', 'the', 'leader', '’', 's', 'millenarian', 'dreams', '.']",
         "num_words": 44,
         "_deepnote_index_column": 132
        },
        {
         "sentences": "That’s simply false.",
         "words": "['That', '’', 's', 'simply', 'false', '.']",
         "num_words": 6,
         "_deepnote_index_column": 133
        },
        {
         "sentences": "Though the Chávez revolution has made progress against poverty and inequality, it is hardly sustainable and reeks of patronage.",
         "words": "['Though', 'the', 'Chávez', 'revolution', 'has', 'made', 'progress', 'against', 'poverty', 'and', 'inequality', ',', 'it', 'is', 'hardly', 'sustainable', 'and', 'reeks', 'of', 'patronage', '.']",
         "num_words": 21,
         "_deepnote_index_column": 134
        },
        {
         "sentences": "In fact, one can find similar achievements in Chile and Brazil, which have not given up on democratic checks and balances, political pluralism, or freedom of the press, and have not enjoyed the luxury of $300 billion in oil revenue in the space of one decade.",
         "words": "['In', 'fact', ',', 'one', 'can', 'find', 'similar', 'achievements', 'in', 'Chile', 'and', 'Brazil', ',', 'which', 'have', 'not', 'given', 'up', 'on', 'democratic', 'checks', 'and', 'balances', ',', 'political', 'pluralism', ',', 'or', 'freedom', 'of', 'the', 'press', ',', 'and', 'have', 'not', 'enjoyed', 'the', 'luxury', 'of', '$', '300', 'billion', 'in', 'oil', 'revenue', 'in', 'the', 'space', 'of', 'one', 'decade', '.']",
         "num_words": 53,
         "_deepnote_index_column": 135
        },
        {
         "sentences": "Moreover, it ought not to be forgotten that between 1950 and 1980, Venezuela itself reduced extreme poverty from 43% to 8% of the population, one of the lowest figures in Latin America.",
         "words": "['Moreover', ',', 'it', 'ought', 'not', 'to', 'be', 'forgotten', 'that', 'between', '1950', 'and', '1980', ',', 'Venezuela', 'itself', 'reduced', 'extreme', 'poverty', 'from', '43', '%', 'to', '8', '%', 'of', 'the', 'population', ',', 'one', 'of', 'the', 'lowest', 'figures', 'in', 'Latin', 'America', '.']",
         "num_words": 38,
         "_deepnote_index_column": 136
        },
        {
         "sentences": "It did so with democracy and freedom.",
         "words": "['It', 'did', 'so', 'with', 'democracy', 'and', 'freedom', '.']",
         "num_words": 8,
         "_deepnote_index_column": 137
        },
        {
         "sentences": "Chávez also repeats, ad nauseam, the idea that others are to blame for Latin America’s ills.",
         "words": "['Chávez', 'also', 'repeats', ',', 'ad', 'nauseam', ',', 'the', 'idea', 'that', 'others', 'are', 'to', 'blame', 'for', 'Latin', 'America', '’', 's', 'ills', '.']",
         "num_words": 21,
         "_deepnote_index_column": 138
        },
        {
         "sentences": "This is the pernicious victimization narrative – still very popular in universities across Latin America – the late Venezuelan journalist Carlos Rangel eloquently refuted in books such as The Third World Ideology.",
         "words": "['This', 'is', 'the', 'pernicious', 'victimization', 'narrative', '–', 'still', 'very', 'popular', 'in', 'universities', 'across', 'Latin', 'America', '–', 'the', 'late', 'Venezuelan', 'journalist', 'Carlos', 'Rangel', 'eloquently', 'refuted', 'in', 'books', 'such', 'as', 'The', 'Third', 'World', 'Ideology', '.']",
         "num_words": 33,
         "_deepnote_index_column": 139
        },
        {
         "sentences": "It is obvious that Yankee imperialism cannot be blamed for Venezuela’s emaciated tax system, dismally bad schools, rampant corruption, high crime rate, and feeble political institutions.",
         "words": "['It', 'is', 'obvious', 'that', 'Yankee', 'imperialism', 'can', 'not', 'be', 'blamed', 'for', 'Venezuela', '’', 's', 'emaciated', 'tax', 'system', ',', 'dismally', 'bad', 'schools', ',', 'rampant', 'corruption', ',', 'high', 'crime', 'rate', ',', 'and', 'feeble', 'political', 'institutions', '.']",
         "num_words": 34,
         "_deepnote_index_column": 140
        },
        {
         "sentences": "In all of these areas, Venezuela is faring poorly even by Latin America’s low standards.",
         "words": "['In', 'all', 'of', 'these', 'areas', ',', 'Venezuela', 'is', 'faring', 'poorly', 'even', 'by', 'Latin', 'America', '’', 's', 'low', 'standards', '.']",
         "num_words": 19,
         "_deepnote_index_column": 141
        },
        {
         "sentences": "This is particularly true in the case of institutional weakness.",
         "words": "['This', 'is', 'particularly', 'true', 'in', 'the', 'case', 'of', 'institutional', 'weakness', '.']",
         "num_words": 11,
         "_deepnote_index_column": 142
        },
        {
         "sentences": "When Chávez declares “moribund” a legitimate constitution, or when he proclaims l’état c’est moi by declaring a national holiday to commemorate his 10 years in power, we see eloquent examples of a homemade institutional farce that would doom any country to the ninth circle of misery.",
         "words": "['When', 'Chávez', 'declares', '“', 'moribund', '”', 'a', 'legitimate', 'constitution', ',', 'or', 'when', 'he', 'proclaims', 'l', '’', 'état', 'c', '’', 'est', 'moi', 'by', 'declaring', 'a', 'national', 'holiday', 'to', 'commemorate', 'his', '10', 'years', 'in', 'power', ',', 'we', 'see', 'eloquent', 'examples', 'of', 'a', 'homemade', 'institutional', 'farce', 'that', 'would', 'doom', 'any', 'country', 'to', 'the', 'ninth', 'circle', 'of', 'misery', '.']",
         "num_words": 55,
         "_deepnote_index_column": 143
        },
        {
         "sentences": "None of these ideas would fly, of course, in a contented nation.",
         "words": "['None', 'of', 'these', 'ideas', 'would', 'fly', ',', 'of', 'course', ',', 'in', 'a', 'contented', 'nation', '.']",
         "num_words": 15,
         "_deepnote_index_column": 144
        },
        {
         "sentences": "In this sense, Venezuela’s experience speaks to all of Latin America.",
         "words": "['In', 'this', 'sense', ',', 'Venezuela', '’', 's', 'experience', 'speaks', 'to', 'all', 'of', 'Latin', 'America', '.']",
         "num_words": 15,
         "_deepnote_index_column": 145
        },
        {
         "sentences": "The combination of economic growth (now in reverse because of the global crisis) and atrocious levels of inequality and social segmentation will continue to breed the same unmet expectations and social resentment that cleared Chávez’s path to power.",
         "words": "['The', 'combination', 'of', 'economic', 'growth', '(', 'now', 'in', 'reverse', 'because', 'of', 'the', 'global', 'crisis', ')', 'and', 'atrocious', 'levels', 'of', 'inequality', 'and', 'social', 'segmentation', 'will', 'continue', 'to', 'breed', 'the', 'same', 'unmet', 'expectations', 'and', 'social', 'resentment', 'that', 'cleared', 'Chávez', '’', 's', 'path', 'to', 'power', '.']",
         "num_words": 43,
         "_deepnote_index_column": 146
        },
        {
         "sentences": "As long as Latin America’s democracies fail to take seriously the tasks of reducing inequality, spreading opportunity, and nurturing more cohesive societies, they will continue to court disaster.",
         "words": "['As', 'long', 'as', 'Latin', 'America', '’', 's', 'democracies', 'fail', 'to', 'take', 'seriously', 'the', 'tasks', 'of', 'reducing', 'inequality', ',', 'spreading', 'opportunity', ',', 'and', 'nurturing', 'more', 'cohesive', 'societies', ',', 'they', 'will', 'continue', 'to', 'court', 'disaster', '.']",
         "num_words": 34,
         "_deepnote_index_column": 147
        },
        {
         "sentences": "To avoid this outcome, it is vital to purge certain reactionary and numbing beliefs, including the idea that reducing poverty obviates the need to address inequality, or that development is possible without introducing modern and progressive tax systems.",
         "words": "['To', 'avoid', 'this', 'outcome', ',', 'it', 'is', 'vital', 'to', 'purge', 'certain', 'reactionary', 'and', 'numbing', 'beliefs', ',', 'including', 'the', 'idea', 'that', 'reducing', 'poverty', 'obviates', 'the', 'need', 'to', 'address', 'inequality', ',', 'or', 'that', 'development', 'is', 'possible', 'without', 'introducing', 'modern', 'and', 'progressive', 'tax', 'systems', '.']",
         "num_words": 42,
         "_deepnote_index_column": 148
        },
        {
         "sentences": "If the tenth anniversary of Chávez’s tenure can serve as a reminder of the perils that beset unjust democracies – especially now that a new electoral cycle in Latin America looms – then Venezuela’s agonizing recent history would, at least, be redeemed.",
         "words": "['If', 'the', 'tenth', 'anniversary', 'of', 'Chávez', '’', 's', 'tenure', 'can', 'serve', 'as', 'a', 'reminder', 'of', 'the', 'perils', 'that', 'beset', 'unjust', 'democracies', '–', 'especially', 'now', 'that', 'a', 'new', 'electoral', 'cycle', 'in', 'Latin', 'America', 'looms', '–', 'then', 'Venezuela', '’', 's', 'agonizing', 'recent', 'history', 'would', ',', 'at', 'least', ',', 'be', 'redeemed', '.']",
         "num_words": 49,
         "_deepnote_index_column": 149
        },
        {
         "sentences": "A Declaration of America's Interdependence\nPRAGUE: Many Americans seem overwhelmed by the feeling that, because the Soviet Empire collapsed, the dangers of war can be crossed off the list of potential risks.",
         "words": "['A', 'Declaration', 'of', 'America', \"'s\", 'Interdependence', 'PRAGUE', ':', 'Many', 'Americans', 'seem', 'overwhelmed', 'by', 'the', 'feeling', 'that', ',', 'because', 'the', 'Soviet', 'Empire', 'collapsed', ',', 'the', 'dangers', 'of', 'war', 'can', 'be', 'crossed', 'off', 'the', 'list', 'of', 'potential', 'risks', '.']",
         "num_words": 37,
         "_deepnote_index_column": 150
        },
        {
         "sentences": "America, they say, should pay attention to its own problems, and should not get involved in a world where its attempts to do good are rewarded with ingratitude.",
         "words": "['America', ',', 'they', 'say', ',', 'should', 'pay', 'attention', 'to', 'its', 'own', 'problems', ',', 'and', 'should', 'not', 'get', 'involved', 'in', 'a', 'world', 'where', 'its', 'attempts', 'to', 'do', 'good', 'are', 'rewarded', 'with', 'ingratitude', '.']",
         "num_words": 32,
         "_deepnote_index_column": 151
        },
        {
         "sentences": "Isolationism has a long tradition in America; it returns in fits and differing forms.",
         "words": "['Isolationism', 'has', 'a', 'long', 'tradition', 'in', 'America', ';', 'it', 'returns', 'in', 'fits', 'and', 'differing', 'forms', '.']",
         "num_words": 16,
         "_deepnote_index_column": 152
        },
        {
         "sentences": "Never in modern times, however, has isolationism protected America from danger; instead it delays engagement when conflagrations are ablaze.",
         "words": "['Never', 'in', 'modern', 'times', ',', 'however', ',', 'has', 'isolationism', 'protected', 'America', 'from', 'danger', ';', 'instead', 'it', 'delays', 'engagement', 'when', 'conflagrations', 'are', 'ablaze', '.']",
         "num_words": 23,
         "_deepnote_index_column": 153
        },
        {
         "sentences": "Eventually, America pays a thousand times more for its initial lack of interest than it would have paid had it become engaged at the outset of crisis or, better yet, even before.",
         "words": "['Eventually', ',', 'America', 'pays', 'a', 'thousand', 'times', 'more', 'for', 'its', 'initial', 'lack', 'of', 'interest', 'than', 'it', 'would', 'have', 'paid', 'had', 'it', 'become', 'engaged', 'at', 'the', 'outset', 'of', 'crisis', 'or', ',', 'better', 'yet', ',', 'even', 'before', '.']",
         "num_words": 36,
         "_deepnote_index_column": 154
        },
        {
         "sentences": "Americans pay for short-sightedness not only in larger expenditures, but with lives wasted unnecessarily.",
         "words": "['Americans', 'pay', 'for', 'short-sightedness', 'not', 'only', 'in', 'larger', 'expenditures', ',', 'but', 'with', 'lives', 'wasted', 'unnecessarily', '.']",
         "num_words": 16,
         "_deepnote_index_column": 155
        },
        {
         "sentences": "So isolationism is shortsighted and never pays off.",
         "words": "['So', 'isolationism', 'is', 'shortsighted', 'and', 'never', 'pays', 'off', '.']",
         "num_words": 9,
         "_deepnote_index_column": 156
        },
        {
         "sentences": "This is all the more true when defense of the values that America stands for is more difficult now than before.",
         "words": "['This', 'is', 'all', 'the', 'more', 'true', 'when', 'defense', 'of', 'the', 'values', 'that', 'America', 'stands', 'for', 'is', 'more', 'difficult', 'now', 'than', 'before', '.']",
         "num_words": 22,
         "_deepnote_index_column": 157
        },
        {
         "sentences": "Previously, the enemy was solitary, armed to the teeth, and quite predictable.",
         "words": "['Previously', ',', 'the', 'enemy', 'was', 'solitary', ',', 'armed', 'to', 'the', 'teeth', ',', 'and', 'quite', 'predictable', '.']",
         "num_words": 16,
         "_deepnote_index_column": 158
        },
        {
         "sentences": "The threats looming over today's world, however, are to the threat of communism as metastasis is to an isolated tumor.",
         "words": "['The', 'threats', 'looming', 'over', 'today', \"'s\", 'world', ',', 'however', ',', 'are', 'to', 'the', 'threat', 'of', 'communism', 'as', 'metastasis', 'is', 'to', 'an', 'isolated', 'tumor', '.']",
         "num_words": 24,
         "_deepnote_index_column": 159
        },
        {
         "sentences": "For the world is awash in dangers that are diverse, decentralized (yet intertwined), and difficult to predict .",
         "words": "['For', 'the', 'world', 'is', 'awash', 'in', 'dangers', 'that', 'are', 'diverse', ',', 'decentralized', '(', 'yet', 'intertwined', ')', ',', 'and', 'difficult', 'to', 'predict', '.']",
         "num_words": 22,
         "_deepnote_index_column": 160
        },
        {
         "sentences": "I believe that across the globe, America is a symbolic concentration of all the good and bad within our civilization -- from the fantastic development of science and technology, to civil liberty and strong democratic institutions, to the cult of perpetual economic growth and never-ending consumption, to the dictates of materialism and the voiding of human uniqueness by the uniformity of the round-the-clock noise of TV banality.",
         "words": "['I', 'believe', 'that', 'across', 'the', 'globe', ',', 'America', 'is', 'a', 'symbolic', 'concentration', 'of', 'all', 'the', 'good', 'and', 'bad', 'within', 'our', 'civilization', '--', 'from', 'the', 'fantastic', 'development', 'of', 'science', 'and', 'technology', ',', 'to', 'civil', 'liberty', 'and', 'strong', 'democratic', 'institutions', ',', 'to', 'the', 'cult', 'of', 'perpetual', 'economic', 'growth', 'and', 'never-ending', 'consumption', ',', 'to', 'the', 'dictates', 'of', 'materialism', 'and', 'the', 'voiding', 'of', 'human', 'uniqueness', 'by', 'the', 'uniformity', 'of', 'the', 'round-the-clock', 'noise', 'of', 'TV', 'banality', '.']",
         "num_words": 72,
         "_deepnote_index_column": 161
        },
        {
         "sentences": "For these reasons, the ways in which America assumes its global responsibilities must embody those premises that alone may save civilization as a whole: this way should be imbued with a new spirituality, a new ethos and new ethics; exactly with the things that should be adopted by all cultures, all spheres of civilization and all nations of today's world as a condition of their survival.",
         "words": "['For', 'these', 'reasons', ',', 'the', 'ways', 'in', 'which', 'America', 'assumes', 'its', 'global', 'responsibilities', 'must', 'embody', 'those', 'premises', 'that', 'alone', 'may', 'save', 'civilization', 'as', 'a', 'whole', ':', 'this', 'way', 'should', 'be', 'imbued', 'with', 'a', 'new', 'spirituality', ',', 'a', 'new', 'ethos', 'and', 'new', 'ethics', ';', 'exactly', 'with', 'the', 'things', 'that', 'should', 'be', 'adopted', 'by', 'all', 'cultures', ',', 'all', 'spheres', 'of', 'civilization', 'and', 'all', 'nations', 'of', 'today', \"'s\", 'world', 'as', 'a', 'condition', 'of', 'their', 'survival', '.']",
         "num_words": 73,
         "_deepnote_index_column": 162
        },
        {
         "sentences": "What does this mean in concrete terms?",
         "words": "['What', 'does', 'this', 'mean', 'in', 'concrete', 'terms', '?']",
         "num_words": 8,
         "_deepnote_index_column": 163
        },
        {
         "sentences": "For one thing, a respect for and understanding of the positive values inherent in other cultures.",
         "words": "['For', 'one', 'thing', ',', 'a', 'respect', 'for', 'and', 'understanding', 'of', 'the', 'positive', 'values', 'inherent', 'in', 'other', 'cultures', '.']",
         "num_words": 18,
         "_deepnote_index_column": 164
        },
        {
         "sentences": "It also requires the courage to step out of the world of pragmatic power and defend -- non-violently -- truth and justice wherever they are violated, whether or not profitable commercial contracts are placed at risk.",
         "words": "['It', 'also', 'requires', 'the', 'courage', 'to', 'step', 'out', 'of', 'the', 'world', 'of', 'pragmatic', 'power', 'and', 'defend', '--', 'non-violently', '--', 'truth', 'and', 'justice', 'wherever', 'they', 'are', 'violated', ',', 'whether', 'or', 'not', 'profitable', 'commercial', 'contracts', 'are', 'placed', 'at', 'risk', '.']",
         "num_words": 38,
         "_deepnote_index_column": 165
        }
       ],
       "rows_bottom": [
        {
         "sentences": "We stand ready to support Africa on its path to inclusive and sustainable industrial development – during IDDA III and beyond.",
         "words": "['We', 'stand', 'ready', 'to', 'support', 'Africa', 'on', 'its', 'path', 'to', 'inclusive', 'and', 'sustainable', 'industrial', 'development', '–', 'during', 'IDDA', 'III', 'and', 'beyond', '.']",
         "num_words": 22,
         "_deepnote_index_column": 4833
        },
        {
         "sentences": "Africa’s Decade of Industrialization\nVIENNA – In today’s interdependent global economy, Africa remains a weak link.",
         "words": "['Africa', '’', 's', 'Decade', 'of', 'Industrialization', 'VIENNA', '–', 'In', 'today', '’', 's', 'interdependent', 'global', 'economy', ',', 'Africa', 'remains', 'a', 'weak', 'link', '.']",
         "num_words": 22,
         "_deepnote_index_column": 4834
        },
        {
         "sentences": "If the world is to achieve the Sustainable Development Goals, thereby completing the United Nations 2030 Agenda for Sustainable Development, it must help Africa accelerate its development by promoting rapid and responsible industrialization.",
         "words": "['If', 'the', 'world', 'is', 'to', 'achieve', 'the', 'Sustainable', 'Development', 'Goals', ',', 'thereby', 'completing', 'the', 'United', 'Nations', '2030', 'Agenda', 'for', 'Sustainable', 'Development', ',', 'it', 'must', 'help', 'Africa', 'accelerate', 'its', 'development', 'by', 'promoting', 'rapid', 'and', 'responsible', 'industrialization', '.']",
         "num_words": 36,
         "_deepnote_index_column": 4835
        },
        {
         "sentences": "Africa is by no means destined to lag behind the rest of the world economy.",
         "words": "['Africa', 'is', 'by', 'no', 'means', 'destined', 'to', 'lag', 'behind', 'the', 'rest', 'of', 'the', 'world', 'economy', '.']",
         "num_words": 16,
         "_deepnote_index_column": 4836
        },
        {
         "sentences": "On the contrary, it could easily become a global economic powerhouse – and within the next decade.",
         "words": "['On', 'the', 'contrary', ',', 'it', 'could', 'easily', 'become', 'a', 'global', 'economic', 'powerhouse', '–', 'and', 'within', 'the', 'next', 'decade', '.']",
         "num_words": 19,
         "_deepnote_index_column": 4837
        },
        {
         "sentences": "But, to fulfill its economic potential, Africa must industrialize.",
         "words": "['But', ',', 'to', 'fulfill', 'its', 'economic', 'potential', ',', 'Africa', 'must', 'industrialize', '.']",
         "num_words": 12,
         "_deepnote_index_column": 4838
        },
        {
         "sentences": "The importance of this has been stressed repeatedly at recent international forums, including last August’s Sixth Tokyo International Conference on African Development (TICAD VI), and the G20 summit in Hangzhou, China, the following month.",
         "words": "['The', 'importance', 'of', 'this', 'has', 'been', 'stressed', 'repeatedly', 'at', 'recent', 'international', 'forums', ',', 'including', 'last', 'August', '’', 's', 'Sixth', 'Tokyo', 'International', 'Conference', 'on', 'African', 'Development', '(', 'TICAD', 'VI', ')', ',', 'and', 'the', 'G20', 'summit', 'in', 'Hangzhou', ',', 'China', ',', 'the', 'following', 'month', '.']",
         "num_words": 43,
         "_deepnote_index_column": 4839
        },
        {
         "sentences": "For the first time, the G20 placed industrialization in Africa – and all of the Least Developed Countries (LDCs) – on its agenda.",
         "words": "['For', 'the', 'first', 'time', ',', 'the', 'G20', 'placed', 'industrialization', 'in', 'Africa', '–', 'and', 'all', 'of', 'the', 'Least', 'Developed', 'Countries', '(', 'LDCs', ')', '–', 'on', 'its', 'agenda', '.']",
         "num_words": 27,
         "_deepnote_index_column": 4840
        },
        {
         "sentences": "The African Union’s Agenda 2063 also supports this drive.",
         "words": "['The', 'African', 'Union', '’', 's', 'Agenda', '2063', 'also', 'supports', 'this', 'drive', '.']",
         "num_words": 12,
         "_deepnote_index_column": 4841
        },
        {
         "sentences": "The recent UN General Assembly resolution declaring 2016-2025 the Third Industrial Development Decade for Africa is yet another push in this direction.",
         "words": "['The', 'recent', 'UN', 'General', 'Assembly', 'resolution', 'declaring', '2016-2025', 'the', 'Third', 'Industrial', 'Development', 'Decade', 'for', 'Africa', 'is', 'yet', 'another', 'push', 'in', 'this', 'direction', '.']",
         "num_words": 23,
         "_deepnote_index_column": 4842
        },
        {
         "sentences": "The organization that I represent, the UN Industrial Development Organization (UNIDO), has been tasked with operationalizing and leading the implementation of the concomitant program, including mobilizing the needed resources.",
         "words": "['The', 'organization', 'that', 'I', 'represent', ',', 'the', 'UN', 'Industrial', 'Development', 'Organization', '(', 'UNIDO', ')', ',', 'has', 'been', 'tasked', 'with', 'operationalizing', 'and', 'leading', 'the', 'implementation', 'of', 'the', 'concomitant', 'program', ',', 'including', 'mobilizing', 'the', 'needed', 'resources', '.']",
         "num_words": 35,
         "_deepnote_index_column": 4843
        },
        {
         "sentences": "All of these declarations and commitments are an important first step.",
         "words": "['All', 'of', 'these', 'declarations', 'and', 'commitments', 'are', 'an', 'important', 'first', 'step', '.']",
         "num_words": 12,
         "_deepnote_index_column": 4844
        },
        {
         "sentences": "But they will mean little unless they are translated into concrete and effective action that advances African industrialization, creates jobs, and fosters inclusive and sustainable economic growth and development.",
         "words": "['But', 'they', 'will', 'mean', 'little', 'unless', 'they', 'are', 'translated', 'into', 'concrete', 'and', 'effective', 'action', 'that', 'advances', 'African', 'industrialization', ',', 'creates', 'jobs', ',', 'and', 'fosters', 'inclusive', 'and', 'sustainable', 'economic', 'growth', 'and', 'development', '.']",
         "num_words": 32,
         "_deepnote_index_column": 4845
        },
        {
         "sentences": "The question is how.",
         "words": "['The', 'question', 'is', 'how', '.']",
         "num_words": 5,
         "_deepnote_index_column": 4846
        },
        {
         "sentences": "The short answer is money and action.",
         "words": "['The', 'short', 'answer', 'is', 'money', 'and', 'action', '.']",
         "num_words": 8,
         "_deepnote_index_column": 4847
        },
        {
         "sentences": "We must challenge the international community and development partners to back their words with real financial commitments.",
         "words": "['We', 'must', 'challenge', 'the', 'international', 'community', 'and', 'development', 'partners', 'to', 'back', 'their', 'words', 'with', 'real', 'financial', 'commitments', '.']",
         "num_words": 18,
         "_deepnote_index_column": 4848
        },
        {
         "sentences": "And we must build partnerships to operationalize programs that will enable Africa to become the world’s next main engine of economic growth.",
         "words": "['And', 'we', 'must', 'build', 'partnerships', 'to', 'operationalize', 'programs', 'that', 'will', 'enable', 'Africa', 'to', 'become', 'the', 'world', '’', 's', 'next', 'main', 'engine', 'of', 'economic', 'growth', '.']",
         "num_words": 25,
         "_deepnote_index_column": 4849
        },
        {
         "sentences": "Such programs must recognize and tackle the acute challenges the continent faces.",
         "words": "['Such', 'programs', 'must', 'recognize', 'and', 'tackle', 'the', 'acute', 'challenges', 'the', 'continent', 'faces', '.']",
         "num_words": 13,
         "_deepnote_index_column": 4850
        },
        {
         "sentences": "The economic growth experienced in recent decades has not been structurally driven, sustainable, or fully inclusive.",
         "words": "['The', 'economic', 'growth', 'experienced', 'in', 'recent', 'decades', 'has', 'not', 'been', 'structurally', 'driven', ',', 'sustainable', ',', 'or', 'fully', 'inclusive', '.']",
         "num_words": 19,
         "_deepnote_index_column": 4851
        },
        {
         "sentences": "Indeed, growth rates vary widely across the continent, and not all Africans are benefiting.",
         "words": "['Indeed', ',', 'growth', 'rates', 'vary', 'widely', 'across', 'the', 'continent', ',', 'and', 'not', 'all', 'Africans', 'are', 'benefiting', '.']",
         "num_words": 17,
         "_deepnote_index_column": 4852
        },
        {
         "sentences": "Though the middle class in Africa has expanded markedly in recent years, generating a consumer boom and boosting domestic investment, many people still struggle to make a living.",
         "words": "['Though', 'the', 'middle', 'class', 'in', 'Africa', 'has', 'expanded', 'markedly', 'in', 'recent', 'years', ',', 'generating', 'a', 'consumer', 'boom', 'and', 'boosting', 'domestic', 'investment', ',', 'many', 'people', 'still', 'struggle', 'to', 'make', 'a', 'living', '.']",
         "num_words": 31,
         "_deepnote_index_column": 4853
        },
        {
         "sentences": "Unemployment rates are high, especially for young people and women – a reality that drives many Africans to head north.",
         "words": "['Unemployment', 'rates', 'are', 'high', ',', 'especially', 'for', 'young', 'people', 'and', 'women', '–', 'a', 'reality', 'that', 'drives', 'many', 'Africans', 'to', 'head', 'north', '.']",
         "num_words": 22,
         "_deepnote_index_column": 4854
        },
        {
         "sentences": "To keep them home, Africa’s economies must move beyond producing raw materials to build dynamic and competitive manufacturing sectors with higher value added.",
         "words": "['To', 'keep', 'them', 'home', ',', 'Africa', '’', 's', 'economies', 'must', 'move', 'beyond', 'producing', 'raw', 'materials', 'to', 'build', 'dynamic', 'and', 'competitive', 'manufacturing', 'sectors', 'with', 'higher', 'value', 'added', '.']",
         "num_words": 27,
         "_deepnote_index_column": 4855
        },
        {
         "sentences": "Here, Africa must draw on the opportunities presented by participation in global and regional value chains.",
         "words": "['Here', ',', 'Africa', 'must', 'draw', 'on', 'the', 'opportunities', 'presented', 'by', 'participation', 'in', 'global', 'and', 'regional', 'value', 'chains', '.']",
         "num_words": 18,
         "_deepnote_index_column": 4856
        },
        {
         "sentences": "New and innovative industrial-development strategies, as well as carefully tailored measures to attract foreign direct investment, must be introduced.",
         "words": "['New', 'and', 'innovative', 'industrial-development', 'strategies', ',', 'as', 'well', 'as', 'carefully', 'tailored', 'measures', 'to', 'attract', 'foreign', 'direct', 'investment', ',', 'must', 'be', 'introduced', '.']",
         "num_words": 22,
         "_deepnote_index_column": 4857
        },
        {
         "sentences": "Of course, to develop such strategies and participate effectively in industrial value chains, Africans need knowledge.",
         "words": "['Of', 'course', ',', 'to', 'develop', 'such', 'strategies', 'and', 'participate', 'effectively', 'in', 'industrial', 'value', 'chains', ',', 'Africans', 'need', 'knowledge', '.']",
         "num_words": 19,
         "_deepnote_index_column": 4858
        },
        {
         "sentences": "Investment in education and skills training is imperative to facilitate successful and lasting industrialization.",
         "words": "['Investment', 'in', 'education', 'and', 'skills', 'training', 'is', 'imperative', 'to', 'facilitate', 'successful', 'and', 'lasting', 'industrialization', '.']",
         "num_words": 15,
         "_deepnote_index_column": 4859
        },
        {
         "sentences": "By understanding and drawing on proven innovations from around the world, Africa could leapfrog more developed countries technologically, building the capacity to produce more sophisticated, higher-value goods.",
         "words": "['By', 'understanding', 'and', 'drawing', 'on', 'proven', 'innovations', 'from', 'around', 'the', 'world', ',', 'Africa', 'could', 'leapfrog', 'more', 'developed', 'countries', 'technologically', ',', 'building', 'the', 'capacity', 'to', 'produce', 'more', 'sophisticated', ',', 'higher-value', 'goods', '.']",
         "num_words": 31,
         "_deepnote_index_column": 4860
        },
        {
         "sentences": "Knowledge of other countries’ experiences will also help Africa to avoid the pitfalls of unbridled industrialization – particularly environmental damage.",
         "words": "['Knowledge', 'of', 'other', 'countries', '’', 'experiences', 'will', 'also', 'help', 'Africa', 'to', 'avoid', 'the', 'pitfalls', 'of', 'unbridled', 'industrialization', '–', 'particularly', 'environmental', 'damage', '.']",
         "num_words": 22,
         "_deepnote_index_column": 4861
        },
        {
         "sentences": "Africa must ensure that its industrial-development strategy includes effective environmental safeguards.",
         "words": "['Africa', 'must', 'ensure', 'that', 'its', 'industrial-development', 'strategy', 'includes', 'effective', 'environmental', 'safeguards', '.']",
         "num_words": 12,
         "_deepnote_index_column": 4862
        },
        {
         "sentences": "Africa is well placed to industrialize.",
         "words": "['Africa', 'is', 'well', 'placed', 'to', 'industrialize', '.']",
         "num_words": 7,
         "_deepnote_index_column": 4863
        },
        {
         "sentences": "Beyond its massive natural-resource endowments, the continent has a favorable demographic profile (its rapidly growing population means that it will soon have the world’s largest workforce) and high urbanization rates.",
         "words": "['Beyond', 'its', 'massive', 'natural-resource', 'endowments', ',', 'the', 'continent', 'has', 'a', 'favorable', 'demographic', 'profile', '(', 'its', 'rapidly', 'growing', 'population', 'means', 'that', 'it', 'will', 'soon', 'have', 'the', 'world', '’', 's', 'largest', 'workforce', ')', 'and', 'high', 'urbanization', 'rates', '.']",
         "num_words": 36,
         "_deepnote_index_column": 4864
        },
        {
         "sentences": "It also benefits from a highly educated diaspora.",
         "words": "['It', 'also', 'benefits', 'from', 'a', 'highly', 'educated', 'diaspora', '.']",
         "num_words": 9,
         "_deepnote_index_column": 4865
        },
        {
         "sentences": "But industrialization is never automatic.",
         "words": "['But', 'industrialization', 'is', 'never', 'automatic', '.']",
         "num_words": 6,
         "_deepnote_index_column": 4866
        },
        {
         "sentences": "Governments must step up to address market failures, while planning, implementing, and enforcing industrial policies that address the shortcomings of previous ineffective versions.",
         "words": "['Governments', 'must', 'step', 'up', 'to', 'address', 'market', 'failures', ',', 'while', 'planning', ',', 'implementing', ',', 'and', 'enforcing', 'industrial', 'policies', 'that', 'address', 'the', 'shortcomings', 'of', 'previous', 'ineffective', 'versions', '.']",
         "num_words": 27,
         "_deepnote_index_column": 4867
        },
        {
         "sentences": "They must then institutionalize these new policies in national and regional development strategies.",
         "words": "['They', 'must', 'then', 'institutionalize', 'these', 'new', 'policies', 'in', 'national', 'and', 'regional', 'development', 'strategies', '.']",
         "num_words": 14,
         "_deepnote_index_column": 4868
        },
        {
         "sentences": "To succeed, governments will need adequate capacity, competence, and legitimacy to mobilize and interact with all stakeholders, thereby creating an attractive investment climate.",
         "words": "['To', 'succeed', ',', 'governments', 'will', 'need', 'adequate', 'capacity', ',', 'competence', ',', 'and', 'legitimacy', 'to', 'mobilize', 'and', 'interact', 'with', 'all', 'stakeholders', ',', 'thereby', 'creating', 'an', 'attractive', 'investment', 'climate', '.']",
         "num_words": 28,
         "_deepnote_index_column": 4869
        },
        {
         "sentences": "The necessary reforms will open the way for public-private partnerships, which can provide investment for infrastructure development and maintenance.",
         "words": "['The', 'necessary', 'reforms', 'will', 'open', 'the', 'way', 'for', 'public-private', 'partnerships', ',', 'which', 'can', 'provide', 'investment', 'for', 'infrastructure', 'development', 'and', 'maintenance', '.']",
         "num_words": 21,
         "_deepnote_index_column": 4870
        },
        {
         "sentences": "They will also facilitate cooperation with international organizations and development finance institutions, which can provide additional funds, while helping countries to upgrade their productive capacity.",
         "words": "['They', 'will', 'also', 'facilitate', 'cooperation', 'with', 'international', 'organizations', 'and', 'development', 'finance', 'institutions', ',', 'which', 'can', 'provide', 'additional', 'funds', ',', 'while', 'helping', 'countries', 'to', 'upgrade', 'their', 'productive', 'capacity', '.']",
         "num_words": 28,
         "_deepnote_index_column": 4871
        },
        {
         "sentences": "A recent report, prepared for the Hangzhou G20 Summit, features a number of recommendations for Africa.",
         "words": "['A', 'recent', 'report', ',', 'prepared', 'for', 'the', 'Hangzhou', 'G20', 'Summit', ',', 'features', 'a', 'number', 'of', 'recommendations', 'for', 'Africa', '.']",
         "num_words": 19,
         "_deepnote_index_column": 4872
        },
        {
         "sentences": "It suggests support for agriculture and agribusiness development and linking them with other sectors, as well as measures to boost resilience to price shocks.",
         "words": "['It', 'suggests', 'support', 'for', 'agriculture', 'and', 'agribusiness', 'development', 'and', 'linking', 'them', 'with', 'other', 'sectors', ',', 'as', 'well', 'as', 'measures', 'to', 'boost', 'resilience', 'to', 'price', 'shocks', '.']",
         "num_words": 26,
         "_deepnote_index_column": 4873
        },
        {
         "sentences": "Furthermore, the report emphasizes the need to deepen, broaden, and update the local knowledge base, invest in energy- and material-resource efficiency, and promote green technologies and industries.",
         "words": "['Furthermore', ',', 'the', 'report', 'emphasizes', 'the', 'need', 'to', 'deepen', ',', 'broaden', ',', 'and', 'update', 'the', 'local', 'knowledge', 'base', ',', 'invest', 'in', 'energy-', 'and', 'material-resource', 'efficiency', ',', 'and', 'promote', 'green', 'technologies', 'and', 'industries', '.']",
         "num_words": 33,
         "_deepnote_index_column": 4874
        },
        {
         "sentences": "Other recommendations relate to trade and regional integration, leveraging domestic and external finance, and promoting what it calls the “New Industrial Revolution.”\nMy numerous meetings with African leaders and visits to dozens of countries across the continent have convinced me that Africa is committed to industrialization.",
         "words": "['Other', 'recommendations', 'relate', 'to', 'trade', 'and', 'regional', 'integration', ',', 'leveraging', 'domestic', 'and', 'external', 'finance', ',', 'and', 'promoting', 'what', 'it', 'calls', 'the', '“', 'New', 'Industrial', 'Revolution.', '”', 'My', 'numerous', 'meetings', 'with', 'African', 'leaders', 'and', 'visits', 'to', 'dozens', 'of', 'countries', 'across', 'the', 'continent', 'have', 'convinced', 'me', 'that', 'Africa', 'is', 'committed', 'to', 'industrialization', '.']",
         "num_words": 51,
         "_deepnote_index_column": 4875
        },
        {
         "sentences": "In fact, the process is already underway in many countries, including Ethiopia, Ghana, Rwanda, and Senegal.",
         "words": "['In', 'fact', ',', 'the', 'process', 'is', 'already', 'underway', 'in', 'many', 'countries', ',', 'including', 'Ethiopia', ',', 'Ghana', ',', 'Rwanda', ',', 'and', 'Senegal', '.']",
         "num_words": 22,
         "_deepnote_index_column": 4876
        },
        {
         "sentences": "By offering our commitment and support, we can enable these countries to realize inclusive and sustainable development for the benefit of everyone.",
         "words": "['By', 'offering', 'our', 'commitment', 'and', 'support', ',', 'we', 'can', 'enable', 'these', 'countries', 'to', 'realize', 'inclusive', 'and', 'sustainable', 'development', 'for', 'the', 'benefit', 'of', 'everyone', '.']",
         "num_words": 24,
         "_deepnote_index_column": 4877
        },
        {
         "sentences": "A Roadmap for African Industrialization\nABIDJAN – Africa is at a crossroads.",
         "words": "['A', 'Roadmap', 'for', 'African', 'Industrialization', 'ABIDJAN', '–', 'Africa', 'is', 'at', 'a', 'crossroads', '.']",
         "num_words": 13,
         "_deepnote_index_column": 4878
        },
        {
         "sentences": "Six of the world’s ten fastest-growing economies are now located in the region, and the continent’s GDP is expected to grow at a rate of 4.1% this year, up from 3.6% in 2017.",
         "words": "['Six', 'of', 'the', 'world', '’', 's', 'ten', 'fastest-growing', 'economies', 'are', 'now', 'located', 'in', 'the', 'region', ',', 'and', 'the', 'continent', '’', 's', 'GDP', 'is', 'expected', 'to', 'grow', 'at', 'a', 'rate', 'of', '4.1', '%', 'this', 'year', ',', 'up', 'from', '3.6', '%', 'in', '2017', '.']",
         "num_words": 42,
         "_deepnote_index_column": 4879
        },
        {
         "sentences": "Yet Africa’s economic growth has not been accompanied by a commensurate level of job creation, which has particularly negative implications for women and young people.",
         "words": "['Yet', 'Africa', '’', 's', 'economic', 'growth', 'has', 'not', 'been', 'accompanied', 'by', 'a', 'commensurate', 'level', 'of', 'job', 'creation', ',', 'which', 'has', 'particularly', 'negative', 'implications', 'for', 'women', 'and', 'young', 'people', '.']",
         "num_words": 29,
         "_deepnote_index_column": 4880
        },
        {
         "sentences": "In fact, today’s jobless growth could even reverse the gains made in eradicating poverty in recent years.",
         "words": "['In', 'fact', ',', 'today', '’', 's', 'jobless', 'growth', 'could', 'even', 'reverse', 'the', 'gains', 'made', 'in', 'eradicating', 'poverty', 'in', 'recent', 'years', '.']",
         "num_words": 21,
         "_deepnote_index_column": 4881
        },
        {
         "sentences": "The problem is that Africa’s growth, while impressive, has been volatile, because it has been driven mainly by high commodity prices, rather than by manufacturing.",
         "words": "['The', 'problem', 'is', 'that', 'Africa', '’', 's', 'growth', ',', 'while', 'impressive', ',', 'has', 'been', 'volatile', ',', 'because', 'it', 'has', 'been', 'driven', 'mainly', 'by', 'high', 'commodity', 'prices', ',', 'rather', 'than', 'by', 'manufacturing', '.']",
         "num_words": 32,
         "_deepnote_index_column": 4882
        },
        {
         "sentences": "The economic effects of this imbalance should not be underestimated.",
         "words": "['The', 'economic', 'effects', 'of', 'this', 'imbalance', 'should', 'not', 'be', 'underestimated', '.']",
         "num_words": 11,
         "_deepnote_index_column": 4883
        },
        {
         "sentences": "Among other things, it explains why a region that produces about 75% of the world’s cocoa accounts for just 5% of the nearly $100 billion annual chocolate market.",
         "words": "['Among', 'other', 'things', ',', 'it', 'explains', 'why', 'a', 'region', 'that', 'produces', 'about', '75', '%', 'of', 'the', 'world', '’', 's', 'cocoa', 'accounts', 'for', 'just', '5', '%', 'of', 'the', 'nearly', '$', '100', 'billion', 'annual', 'chocolate', 'market', '.']",
         "num_words": 35,
         "_deepnote_index_column": 4884
        },
        {
         "sentences": "Despite its vast natural resources, Africa will remain at the mercy of commodity prices and trade flows until it undertakes a profound structural transformation.",
         "words": "['Despite', 'its', 'vast', 'natural', 'resources', ',', 'Africa', 'will', 'remain', 'at', 'the', 'mercy', 'of', 'commodity', 'prices', 'and', 'trade', 'flows', 'until', 'it', 'undertakes', 'a', 'profound', 'structural', 'transformation', '.']",
         "num_words": 26,
         "_deepnote_index_column": 4885
        },
        {
         "sentences": "The time has come for Africa to unlock its true economic potential by following in the footsteps of every modern economy and undertaking the transition from agriculture to manufacturing.",
         "words": "['The', 'time', 'has', 'come', 'for', 'Africa', 'to', 'unlock', 'its', 'true', 'economic', 'potential', 'by', 'following', 'in', 'the', 'footsteps', 'of', 'every', 'modern', 'economy', 'and', 'undertaking', 'the', 'transition', 'from', 'agriculture', 'to', 'manufacturing', '.']",
         "num_words": 30,
         "_deepnote_index_column": 4886
        },
        {
         "sentences": "Africa’s manufacturing sector is the weakest link in its ongoing integration into the global economy.",
         "words": "['Africa', '’', 's', 'manufacturing', 'sector', 'is', 'the', 'weakest', 'link', 'in', 'its', 'ongoing', 'integration', 'into', 'the', 'global', 'economy', '.']",
         "num_words": 18,
         "_deepnote_index_column": 4887
        },
        {
         "sentences": "Today, primary products (raw materials) comprise 62% of Africa’s total exports, the highest share in the world.",
         "words": "['Today', ',', 'primary', 'products', '(', 'raw', 'materials', ')', 'comprise', '62', '%', 'of', 'Africa', '’', 's', 'total', 'exports', ',', 'the', 'highest', 'share', 'in', 'the', 'world', '.']",
         "num_words": 25,
         "_deepnote_index_column": 4888
        },
        {
         "sentences": "At the same time, manufactured exports per capita in 2014 totaled just $218, which is among the lowest levels in the world, and far below other developing regions such as Asia ($883) and Latin America ($1,099).",
         "words": "['At', 'the', 'same', 'time', ',', 'manufactured', 'exports', 'per', 'capita', 'in', '2014', 'totaled', 'just', '$', '218', ',', 'which', 'is', 'among', 'the', 'lowest', 'levels', 'in', 'the', 'world', ',', 'and', 'far', 'below', 'other', 'developing', 'regions', 'such', 'as', 'Asia', '(', '$', '883', ')', 'and', 'Latin', 'America', '(', '$', '1,099', ')', '.']",
         "num_words": 47,
         "_deepnote_index_column": 4889
        },
        {
         "sentences": "Clearly, Africa must start catching up.",
         "words": "['Clearly', ',', 'Africa', 'must', 'start', 'catching', 'up', '.']",
         "num_words": 8,
         "_deepnote_index_column": 4890
        },
        {
         "sentences": "Fortunately, there is already a global consensus that industrialization matters, and that it is in everyone’s interest for Africa to become the global manufacturing power it ought to be.",
         "words": "['Fortunately', ',', 'there', 'is', 'already', 'a', 'global', 'consensus', 'that', 'industrialization', 'matters', ',', 'and', 'that', 'it', 'is', 'in', 'everyone', '’', 's', 'interest', 'for', 'Africa', 'to', 'become', 'the', 'global', 'manufacturing', 'power', 'it', 'ought', 'to', 'be', '.']",
         "num_words": 34,
         "_deepnote_index_column": 4891
        },
        {
         "sentences": "With its “High 5 Agenda,” the African Development Bank (AfDB) has made industrialization a top priority.",
         "words": "['With', 'its', '“', 'High', '5', 'Agenda', ',', '”', 'the', 'African', 'Development', 'Bank', '(', 'AfDB', ')', 'has', 'made', 'industrialization', 'a', 'top', 'priority', '.']",
         "num_words": 22,
         "_deepnote_index_column": 4892
        },
        {
         "sentences": "Likewise, industrialization is a key component of the African Union’s “Agenda 2063.”\nAnd, in 2016, the United Nations General Assembly declared 2016-2025 the “Third Industrial Development Decade for Africa.”\nBut such pronouncements are meaningless in the absence of concrete action.",
         "words": "['Likewise', ',', 'industrialization', 'is', 'a', 'key', 'component', 'of', 'the', 'African', 'Union', '’', 's', '“', 'Agenda', '2063.', '”', 'And', ',', 'in', '2016', ',', 'the', 'United', 'Nations', 'General', 'Assembly', 'declared', '2016-2025', 'the', '“', 'Third', 'Industrial', 'Development', 'Decade', 'for', 'Africa.', '”', 'But', 'such', 'pronouncements', 'are', 'meaningless', 'in', 'the', 'absence', 'of', 'concrete', 'action', '.']",
         "num_words": 50,
         "_deepnote_index_column": 4893
        },
        {
         "sentences": "To change the region’s economic trajectory, African policymakers must focus on three key areas: industrial policies, infrastructure financing, and leadership.",
         "words": "['To', 'change', 'the', 'region', '’', 's', 'economic', 'trajectory', ',', 'African', 'policymakers', 'must', 'focus', 'on', 'three', 'key', 'areas', ':', 'industrial', 'policies', ',', 'infrastructure', 'financing', ',', 'and', 'leadership', '.']",
         "num_words": 27,
         "_deepnote_index_column": 4894
        },
        {
         "sentences": "We now know that industrial policies can be effective in boosting growth.",
         "words": "['We', 'now', 'know', 'that', 'industrial', 'policies', 'can', 'be', 'effective', 'in', 'boosting', 'growth', '.']",
         "num_words": 13,
         "_deepnote_index_column": 4895
        },
        {
         "sentences": "The question is whether states possess the capacity to implement the policies they design.",
         "words": "['The', 'question', 'is', 'whether', 'states', 'possess', 'the', 'capacity', 'to', 'implement', 'the', 'policies', 'they', 'design', '.']",
         "num_words": 15,
         "_deepnote_index_column": 4896
        },
        {
         "sentences": "If they do, they can channel resources toward industry and marshal available technologies to create synergy between the agriculture and manufacturing sectors.",
         "words": "['If', 'they', 'do', ',', 'they', 'can', 'channel', 'resources', 'toward', 'industry', 'and', 'marshal', 'available', 'technologies', 'to', 'create', 'synergy', 'between', 'the', 'agriculture', 'and', 'manufacturing', 'sectors', '.']",
         "num_words": 24,
         "_deepnote_index_column": 4897
        },
        {
         "sentences": "A number of African countries have already moved in this direction.",
         "words": "['A', 'number', 'of', 'African', 'countries', 'have', 'already', 'moved', 'in', 'this', 'direction', '.']",
         "num_words": 12,
         "_deepnote_index_column": 4898
        },
        {
         "sentences": "Ethiopia, for example, has created special economic zones, where it has lowered production costs by investing in infrastructure.",
         "words": "['Ethiopia', ',', 'for', 'example', ',', 'has', 'created', 'special', 'economic', 'zones', ',', 'where', 'it', 'has', 'lowered', 'production', 'costs', 'by', 'investing', 'in', 'infrastructure', '.']",
         "num_words": 22,
         "_deepnote_index_column": 4899
        },
        {
         "sentences": "As a result, the country has emerged as Africa’s largest hub for textile manufacturing, attracting major players like H&M and Primark.",
         "words": "['As', 'a', 'result', ',', 'the', 'country', 'has', 'emerged', 'as', 'Africa', '’', 's', 'largest', 'hub', 'for', 'textile', 'manufacturing', ',', 'attracting', 'major', 'players', 'like', 'H', '&', 'M', 'and', 'Primark', '.']",
         "num_words": 28,
         "_deepnote_index_column": 4900
        },
        {
         "sentences": "Similarly, Rwanda’s Kigali Special Economic Zone, which exempts firms from taxes for ten years, has attracted a $20 million investment from Volkswagen for a new vehicle-assembly plant.",
         "words": "['Similarly', ',', 'Rwanda', '’', 's', 'Kigali', 'Special', 'Economic', 'Zone', ',', 'which', 'exempts', 'firms', 'from', 'taxes', 'for', 'ten', 'years', ',', 'has', 'attracted', 'a', '$', '20', 'million', 'investment', 'from', 'Volkswagen', 'for', 'a', 'new', 'vehicle-assembly', 'plant', '.']",
         "num_words": 34,
         "_deepnote_index_column": 4901
        },
        {
         "sentences": "But industrialization cannot happen without power, roads, and railways, which is why infrastructure must be a key focus.",
         "words": "['But', 'industrialization', 'can', 'not', 'happen', 'without', 'power', ',', 'roads', ',', 'and', 'railways', ',', 'which', 'is', 'why', 'infrastructure', 'must', 'be', 'a', 'key', 'focus', '.']",
         "num_words": 23,
         "_deepnote_index_column": 4902
        },
        {
         "sentences": "As of now, the AfDB pegs Africa’s infrastructure gap at $130–170 billion per year.",
         "words": "['As', 'of', 'now', ',', 'the', 'AfDB', 'pegs', 'Africa', '’', 's', 'infrastructure', 'gap', 'at', '$', '130–170', 'billion', 'per', 'year', '.']",
         "num_words": 19,
         "_deepnote_index_column": 4903
        },
        {
         "sentences": "Closing it will require not just more financing, but also more innovative thinking, particularly concerning joint public-private efforts.",
         "words": "['Closing', 'it', 'will', 'require', 'not', 'just', 'more', 'financing', ',', 'but', 'also', 'more', 'innovative', 'thinking', ',', 'particularly', 'concerning', 'joint', 'public-private', 'efforts', '.']",
         "num_words": 21,
         "_deepnote_index_column": 4904
        },
        {
         "sentences": "To that end, the AfDB has expanded its portfolio for financing new infrastructure projects in several countries.",
         "words": "['To', 'that', 'end', ',', 'the', 'AfDB', 'has', 'expanded', 'its', 'portfolio', 'for', 'financing', 'new', 'infrastructure', 'projects', 'in', 'several', 'countries', '.']",
         "num_words": 19,
         "_deepnote_index_column": 4905
        },
        {
         "sentences": "As part of our “New Deal on Energy for Africa,” we have scaled up investment in renewable energy and put $265 million toward developing two solar-power plants in Morocco.",
         "words": "['As', 'part', 'of', 'our', '“', 'New', 'Deal', 'on', 'Energy', 'for', 'Africa', ',', '”', 'we', 'have', 'scaled', 'up', 'investment', 'in', 'renewable', 'energy', 'and', 'put', '$', '265', 'million', 'toward', 'developing', 'two', 'solar-power', 'plants', 'in', 'Morocco', '.']",
         "num_words": 34,
         "_deepnote_index_column": 4906
        },
        {
         "sentences": "In Côte d’Ivoire, where demand for energy is surging by 8-9% annually, we are investing $60 million to bring a new 44-megawatt hydropower plant onstream.",
         "words": "['In', 'Côte', 'd', '’', 'Ivoire', ',', 'where', 'demand', 'for', 'energy', 'is', 'surging', 'by', '8-9', '%', 'annually', ',', 'we', 'are', 'investing', '$', '60', 'million', 'to', 'bring', 'a', 'new', '44-megawatt', 'hydropower', 'plant', 'onstream', '.']",
         "num_words": 32,
         "_deepnote_index_column": 4907
        },
        {
         "sentences": "African countries should make such investments now to reap the demographic dividend of the continent’s population bulge in the years ahead.",
         "words": "['African', 'countries', 'should', 'make', 'such', 'investments', 'now', 'to', 'reap', 'the', 'demographic', 'dividend', 'of', 'the', 'continent', '’', 's', 'population', 'bulge', 'in', 'the', 'years', 'ahead', '.']",
         "num_words": 24,
         "_deepnote_index_column": 4908
        },
        {
         "sentences": "As manufacturing activities expand, they will need to be supported by more robust knowledge- and skill-based economies, which will require higher investment in education to boost technical and vocational skills and training.",
         "words": "['As', 'manufacturing', 'activities', 'expand', ',', 'they', 'will', 'need', 'to', 'be', 'supported', 'by', 'more', 'robust', 'knowledge-', 'and', 'skill-based', 'economies', ',', 'which', 'will', 'require', 'higher', 'investment', 'in', 'education', 'to', 'boost', 'technical', 'and', 'vocational', 'skills', 'and', 'training', '.']",
         "num_words": 35,
         "_deepnote_index_column": 4909
        },
        {
         "sentences": "No country has ever undergone economic modernization without industry.",
         "words": "['No', 'country', 'has', 'ever', 'undergone', 'economic', 'modernization', 'without', 'industry', '.']",
         "num_words": 10,
         "_deepnote_index_column": 4910
        },
        {
         "sentences": "But, more to the point, no functional industrial sector has ever emerged in the absence of strong, committed leadership.",
         "words": "['But', ',', 'more', 'to', 'the', 'point', ',', 'no', 'functional', 'industrial', 'sector', 'has', 'ever', 'emerged', 'in', 'the', 'absence', 'of', 'strong', ',', 'committed', 'leadership', '.']",
         "num_words": 23,
         "_deepnote_index_column": 4911
        },
        {
         "sentences": "Consider Mauritius, which in the 1970s was a low-income mono-crop economy with a per capita GDP of just under $250.",
         "words": "['Consider', 'Mauritius', ',', 'which', 'in', 'the', '1970s', 'was', 'a', 'low-income', 'mono-crop', 'economy', 'with', 'a', 'per', 'capita', 'GDP', 'of', 'just', 'under', '$', '250', '.']",
         "num_words": 23,
         "_deepnote_index_column": 4912
        },
        {
         "sentences": "Today, Mauritius is an upper-middle-income country with a more diversified economy and a per capita GDP of around $9,600.",
         "words": "['Today', ',', 'Mauritius', 'is', 'an', 'upper-middle-income', 'country', 'with', 'a', 'more', 'diversified', 'economy', 'and', 'a', 'per', 'capita', 'GDP', 'of', 'around', '$', '9,600', '.']",
         "num_words": 22,
         "_deepnote_index_column": 4913
        },
        {
         "sentences": "It is often cited as a model of economic success in Africa.",
         "words": "['It', 'is', 'often', 'cited', 'as', 'a', 'model', 'of', 'economic', 'success', 'in', 'Africa', '.']",
         "num_words": 13,
         "_deepnote_index_column": 4914
        },
        {
         "sentences": "How did this come about?",
         "words": "['How', 'did', 'this', 'come', 'about', '?']",
         "num_words": 6,
         "_deepnote_index_column": 4915
        },
        {
         "sentences": "As former Mauritian Prime Minister and President Anerood Jugnauth has put it, “There is no miracle.",
         "words": "['As', 'former', 'Mauritian', 'Prime', 'Minister', 'and', 'President', 'Anerood', 'Jugnauth', 'has', 'put', 'it', ',', '“', 'There', 'is', 'no', 'miracle', '.']",
         "num_words": 19,
         "_deepnote_index_column": 4916
        },
        {
         "sentences": "It is due simply to hard work, discipline, and will.”\nLeaders who want to develop a strong manufacturing base must have the political will to distribute resources fairly and pull the private sector along.",
         "words": "['It', 'is', 'due', 'simply', 'to', 'hard', 'work', ',', 'discipline', ',', 'and', 'will.', '”', 'Leaders', 'who', 'want', 'to', 'develop', 'a', 'strong', 'manufacturing', 'base', 'must', 'have', 'the', 'political', 'will', 'to', 'distribute', 'resources', 'fairly', 'and', 'pull', 'the', 'private', 'sector', 'along', '.']",
         "num_words": 38,
         "_deepnote_index_column": 4917
        },
        {
         "sentences": "Mauritius experienced its fair share of challenges in moving from low-end manufacturing to technology-intensive goods and services.",
         "words": "['Mauritius', 'experienced', 'its', 'fair', 'share', 'of', 'challenges', 'in', 'moving', 'from', 'low-end', 'manufacturing', 'to', 'technology-intensive', 'goods', 'and', 'services', '.']",
         "num_words": 18,
         "_deepnote_index_column": 4918
        },
        {
         "sentences": "But it now stands as an example of what committed leadership can accomplish.",
         "words": "['But', 'it', 'now', 'stands', 'as', 'an', 'example', 'of', 'what', 'committed', 'leadership', 'can', 'accomplish', '.']",
         "num_words": 14,
         "_deepnote_index_column": 4919
        },
        {
         "sentences": "Other African countries would do well to emulate it as they pursue their own economic transformations.",
         "words": "['Other', 'African', 'countries', 'would', 'do', 'well', 'to', 'emulate', 'it', 'as', 'they', 'pursue', 'their', 'own', 'economic', 'transformations', '.']",
         "num_words": 17,
         "_deepnote_index_column": 4920
        },
        {
         "sentences": "All told, Africa is well placed to seize many of the opportunities that the global economy offers emerging markets.",
         "words": "['All', 'told', ',', 'Africa', 'is', 'well', 'placed', 'to', 'seize', 'many', 'of', 'the', 'opportunities', 'that', 'the', 'global', 'economy', 'offers', 'emerging', 'markets', '.']",
         "num_words": 21,
         "_deepnote_index_column": 4921
        },
        {
         "sentences": "It already has the resources and the labor; now it needs committed leaders like Jugnauth who will implement the right policies.",
         "words": "['It', 'already', 'has', 'the', 'resources', 'and', 'the', 'labor', ';', 'now', 'it', 'needs', 'committed', 'leaders', 'like', 'Jugnauth', 'who', 'will', 'implement', 'the', 'right', 'policies', '.']",
         "num_words": 23,
         "_deepnote_index_column": 4922
        },
        {
         "sentences": "Africa’s Alternative Path to Development\nWASHINGTON, DC – Recent projections indicate that several Sub-Saharan African countries will experience robust economic growth over the next five years.",
         "words": "['Africa', '’', 's', 'Alternative', 'Path', 'to', 'Development', 'WASHINGTON', ',', 'DC', '–', 'Recent', 'projections', 'indicate', 'that', 'several', 'Sub-Saharan', 'African', 'countries', 'will', 'experience', 'robust', 'economic', 'growth', 'over', 'the', 'next', 'five', 'years', '.']",
         "num_words": 30,
         "_deepnote_index_column": 4923
        },
        {
         "sentences": "By 2023, around one-third of the region’s economies will have grown at an average annual rate of 5% or higher since 2000.",
         "words": "['By', '2023', ',', 'around', 'one-third', 'of', 'the', 'region', '’', 's', 'economies', 'will', 'have', 'grown', 'at', 'an', 'average', 'annual', 'rate', 'of', '5', '%', 'or', 'higher', 'since', '2000', '.']",
         "num_words": 27,
         "_deepnote_index_column": 4924
        },
        {
         "sentences": "And yet, as The Economist observed last year, Africa’s development model “puzzles economists.”\nAfter all, only four of the continent’s high-growth countries are natural-resource dependent.",
         "words": "['And', 'yet', ',', 'as', 'The', 'Economist', 'observed', 'last', 'year', ',', 'Africa', '’', 's', 'development', 'model', '“', 'puzzles', 'economists.', '”', 'After', 'all', ',', 'only', 'four', 'of', 'the', 'continent', '’', 's', 'high-growth', 'countries', 'are', 'natural-resource', 'dependent', '.']",
         "num_words": 35,
         "_deepnote_index_column": 4925
        },
        {
         "sentences": "Nor is overall performance due primarily to industrialization, as traditional development models would have predicted.",
         "words": "['Nor', 'is', 'overall', 'performance', 'due', 'primarily', 'to', 'industrialization', ',', 'as', 'traditional', 'development', 'models', 'would', 'have', 'predicted', '.']",
         "num_words": 17,
         "_deepnote_index_column": 4926
        },
        {
         "sentences": "What, then, explains the strong economic performance?",
         "words": "['What', ',', 'then', ',', 'explains', 'the', 'strong', 'economic', 'performance', '?']",
         "num_words": 10,
         "_deepnote_index_column": 4927
        },
        {
         "sentences": "New research by the Brookings Institution’s Africa Growth Initiative and the United Nations University World Institute for Development Economics Research (UNU-WIDER) might hold the key to answering that question.",
         "words": "['New', 'research', 'by', 'the', 'Brookings', 'Institution', '’', 's', 'Africa', 'Growth', 'Initiative', 'and', 'the', 'United', 'Nations', 'University', 'World', 'Institute', 'for', 'Development', 'Economics', 'Research', '(', 'UNU-WIDER', ')', 'might', 'hold', 'the', 'key', 'to', 'answering', 'that', 'question', '.']",
         "num_words": 34,
         "_deepnote_index_column": 4928
        },
        {
         "sentences": "According to the forthcoming book Industries Without Smokestacks: Industrialization in Africa Reconsidered, there is evidence to suggest that Sub-Saharan Africa is undergoing a more profound structural transformation than we think.",
         "words": "['According', 'to', 'the', 'forthcoming', 'book', 'Industries', 'Without', 'Smokestacks', ':', 'Industrialization', 'in', 'Africa', 'Reconsidered', ',', 'there', 'is', 'evidence', 'to', 'suggest', 'that', 'Sub-Saharan', 'Africa', 'is', 'undergoing', 'a', 'more', 'profound', 'structural', 'transformation', 'than', 'we', 'think', '.']",
         "num_words": 33,
         "_deepnote_index_column": 4929
        },
        {
         "sentences": "Africa owes this structural transformation not to traditional industries, but to new developments in tradable services and agro-industries that resemble traditional industrialization.",
         "words": "['Africa', 'owes', 'this', 'structural', 'transformation', 'not', 'to', 'traditional', 'industries', ',', 'but', 'to', 'new', 'developments', 'in', 'tradable', 'services', 'and', 'agro-industries', 'that', 'resemble', 'traditional', 'industrialization', '.']",
         "num_words": 24,
         "_deepnote_index_column": 4930
        },
        {
         "sentences": "Aside from horticulture and agro-business, these new industries include information and communication technology-based services (ICT) and tourism.",
         "words": "['Aside', 'from', 'horticulture', 'and', 'agro-business', ',', 'these', 'new', 'industries', 'include', 'information', 'and', 'communication', 'technology-based', 'services', '(', 'ICT', ')', 'and', 'tourism', '.']",
         "num_words": 21,
         "_deepnote_index_column": 4931
        },
        {
         "sentences": "This is a departure from the historical norm.",
         "words": "['This', 'is', 'a', 'departure', 'from', 'the', 'historical', 'norm', '.']",
         "num_words": 9,
         "_deepnote_index_column": 4932
        },
        {
         "sentences": "Traditionally, as Harvard University economist Dani Rodrik points out, economies that have sustained robust growth rates without relying on natural-resource booms, “typically do so through export-oriented industrialization.”\nBut in Africa, manufacturing as a share of total economic activity has stagnated at around 10%, with economic activity moving from agriculture to services.",
         "words": "['Traditionally', ',', 'as', 'Harvard', 'University', 'economist', 'Dani', 'Rodrik', 'points', 'out', ',', 'economies', 'that', 'have', 'sustained', 'robust', 'growth', 'rates', 'without', 'relying', 'on', 'natural-resource', 'booms', ',', '“', 'typically', 'do', 'so', 'through', 'export-oriented', 'industrialization.', '”', 'But', 'in', 'Africa', ',', 'manufacturing', 'as', 'a', 'share', 'of', 'total', 'economic', 'activity', 'has', 'stagnated', 'at', 'around', '10', '%', ',', 'with', 'economic', 'activity', 'moving', 'from', 'agriculture', 'to', 'services', '.']",
         "num_words": 60,
         "_deepnote_index_column": 4933
        },
        {
         "sentences": "And because the rate of productivity growth in services is only about half that of manufacturing, the aggregate productivity gains needed for sustained growth have fallen relatively short.",
         "words": "['And', 'because', 'the', 'rate', 'of', 'productivity', 'growth', 'in', 'services', 'is', 'only', 'about', 'half', 'that', 'of', 'manufacturing', ',', 'the', 'aggregate', 'productivity', 'gains', 'needed', 'for', 'sustained', 'growth', 'have', 'fallen', 'relatively', 'short', '.']",
         "num_words": 30,
         "_deepnote_index_column": 4934
        },
        {
         "sentences": "This process of premature deindustrialization is not unique to Africa.",
         "words": "['This', 'process', 'of', 'premature', 'deindustrialization', 'is', 'not', 'unique', 'to', 'Africa', '.']",
         "num_words": 11,
         "_deepnote_index_column": 4935
        },
        {
         "sentences": "But it is more consequential for the continent, given the scale of its development challenges.",
         "words": "['But', 'it', 'is', 'more', 'consequential', 'for', 'the', 'continent', ',', 'given', 'the', 'scale', 'of', 'its', 'development', 'challenges', '.']",
         "num_words": 17,
         "_deepnote_index_column": 4936
        },
        {
         "sentences": "Owing to its young, rapidly growing labor force, Africa now needs to create more than 11 million jobs in the formal economy every year.",
         "words": "['Owing', 'to', 'its', 'young', ',', 'rapidly', 'growing', 'labor', 'force', ',', 'Africa', 'now', 'needs', 'to', 'create', 'more', 'than', '11', 'million', 'jobs', 'in', 'the', 'formal', 'economy', 'every', 'year', '.']",
         "num_words": 27,
         "_deepnote_index_column": 4937
        },
        {
         "sentences": "But as Nobel laureate economist Joseph E. Stiglitz has warned, Africa cannot replicate East Asia’s manufacturing-led model, so the question is whether it can leverage modern services to achieve economic development.",
         "words": "['But', 'as', 'Nobel', 'laureate', 'economist', 'Joseph', 'E.', 'Stiglitz', 'has', 'warned', ',', 'Africa', 'can', 'not', 'replicate', 'East', 'Asia', '’', 's', 'manufacturing-led', 'model', ',', 'so', 'the', 'question', 'is', 'whether', 'it', 'can', 'leverage', 'modern', 'services', 'to', 'achieve', 'economic', 'development', '.']",
         "num_words": 37,
         "_deepnote_index_column": 4938
        },
        {
         "sentences": "According to Foresight Africa: Top Priorities for 2018, a Brookings Institution report previewing the results of Industries Without Smokestacks, services exports from Africa grew more than six times faster than merchandise exports between 1998 and 2015.",
         "words": "['According', 'to', 'Foresight', 'Africa', ':', 'Top', 'Priorities', 'for', '2018', ',', 'a', 'Brookings', 'Institution', 'report', 'previewing', 'the', 'results', 'of', 'Industries', 'Without', 'Smokestacks', ',', 'services', 'exports', 'from', 'Africa', 'grew', 'more', 'than', 'six', 'times', 'faster', 'than', 'merchandise', 'exports', 'between', '1998', 'and', '2015', '.']",
         "num_words": 40,
         "_deepnote_index_column": 4939
        },
        {
         "sentences": "In Kenya, Rwanda, Senegal, and South Africa, the ICT sector is flourishing.",
         "words": "['In', 'Kenya', ',', 'Rwanda', ',', 'Senegal', ',', 'and', 'South', 'Africa', ',', 'the', 'ICT', 'sector', 'is', 'flourishing', '.']",
         "num_words": 17,
         "_deepnote_index_column": 4940
        },
        {
         "sentences": "In Rwanda, tourism is now the single largest export activity, accounting for about 30% of total exports.",
         "words": "['In', 'Rwanda', ',', 'tourism', 'is', 'now', 'the', 'single', 'largest', 'export', 'activity', ',', 'accounting', 'for', 'about', '30', '%', 'of', 'total', 'exports', '.']",
         "num_words": 21,
         "_deepnote_index_column": 4941
        },
        {
         "sentences": "Ethiopia, Ghana, Kenya, and Senegal are all integrated into global horticultural value chains, and Ethiopia has become a leading player in global flower exports.",
         "words": "['Ethiopia', ',', 'Ghana', ',', 'Kenya', ',', 'and', 'Senegal', 'are', 'all', 'integrated', 'into', 'global', 'horticultural', 'value', 'chains', ',', 'and', 'Ethiopia', 'has', 'become', 'a', 'leading', 'player', 'in', 'global', 'flower', 'exports', '.']",
         "num_words": 29,
         "_deepnote_index_column": 4942
        },
        {
         "sentences": "As these smokestack-less industries have grown, they have generated new patterns of structural change that are distinct from those of East Asia’s manufacturing-led transformation.",
         "words": "['As', 'these', 'smokestack-less', 'industries', 'have', 'grown', ',', 'they', 'have', 'generated', 'new', 'patterns', 'of', 'structural', 'change', 'that', 'are', 'distinct', 'from', 'those', 'of', 'East', 'Asia', '’', 's', 'manufacturing-led', 'transformation', '.']",
         "num_words": 28,
         "_deepnote_index_column": 4943
        },
        {
         "sentences": "But, if properly stewarded, they could play the same role in Africa’s development as manufacturing did in East Asia.",
         "words": "['But', ',', 'if', 'properly', 'stewarded', ',', 'they', 'could', 'play', 'the', 'same', 'role', 'in', 'Africa', '’', 's', 'development', 'as', 'manufacturing', 'did', 'in', 'East', 'Asia', '.']",
         "num_words": 24,
         "_deepnote_index_column": 4944
        },
        {
         "sentences": "Manufacturing-led growth proved to be an effective development model in East Asia for three main reasons.",
         "words": "['Manufacturing-led', 'growth', 'proved', 'to', 'be', 'an', 'effective', 'development', 'model', 'in', 'East', 'Asia', 'for', 'three', 'main', 'reasons', '.']",
         "num_words": 17,
         "_deepnote_index_column": 4945
        },
        {
         "sentences": "First, manufacturing has higher productivity than agriculture, and it can absorb a large number of moderately skilled workers migrating out of the agriculture sector.",
         "words": "['First', ',', 'manufacturing', 'has', 'higher', 'productivity', 'than', 'agriculture', ',', 'and', 'it', 'can', 'absorb', 'a', 'large', 'number', 'of', 'moderately', 'skilled', 'workers', 'migrating', 'out', 'of', 'the', 'agriculture', 'sector', '.']",
         "num_words": 27,
         "_deepnote_index_column": 4946
        },
        {
         "sentences": "Second, manufacturers benefit from technological transfers from abroad, so their productivity rises in line with global trends.",
         "words": "['Second', ',', 'manufacturers', 'benefit', 'from', 'technological', 'transfers', 'from', 'abroad', ',', 'so', 'their', 'productivity', 'rises', 'in', 'line', 'with', 'global', 'trends', '.']",
         "num_words": 20,
         "_deepnote_index_column": 4947
        },
        {
         "sentences": "And third, the shift to manufacturing in East Asia was oriented toward exports, which allowed production to be scaled up.",
         "words": "['And', 'third', ',', 'the', 'shift', 'to', 'manufacturing', 'in', 'East', 'Asia', 'was', 'oriented', 'toward', 'exports', ',', 'which', 'allowed', 'production', 'to', 'be', 'scaled', 'up', '.']",
         "num_words": 23,
         "_deepnote_index_column": 4948
        },
        {
         "sentences": "According to John Page, one of the editors of Industries Without Smokestacks, Africa’s growing service sectors share these same characteristics.",
         "words": "['According', 'to', 'John', 'Page', ',', 'one', 'of', 'the', 'editors', 'of', 'Industries', 'Without', 'Smokestacks', ',', 'Africa', '’', 's', 'growing', 'service', 'sectors', 'share', 'these', 'same', 'characteristics', '.']",
         "num_words": 25,
         "_deepnote_index_column": 4949
        },
        {
         "sentences": "In addition to being tradable, they have higher productivity and can absorb large numbers of moderately skilled workers.",
         "words": "['In', 'addition', 'to', 'being', 'tradable', ',', 'they', 'have', 'higher', 'productivity', 'and', 'can', 'absorb', 'large', 'numbers', 'of', 'moderately', 'skilled', 'workers', '.']",
         "num_words": 20,
         "_deepnote_index_column": 4950
        },
        {
         "sentences": "And like manufacturing, they also benefit from technological change and economies of scale and agglomeration.",
         "words": "['And', 'like', 'manufacturing', ',', 'they', 'also', 'benefit', 'from', 'technological', 'change', 'and', 'economies', 'of', 'scale', 'and', 'agglomeration', '.']",
         "num_words": 17,
         "_deepnote_index_column": 4951
        },
        {
         "sentences": "Moreover, Africa’s smokestack-less service sectors have the added advantage of being less vulnerable to automation.",
         "words": "['Moreover', ',', 'Africa', '’', 's', 'smokestack-less', 'service', 'sectors', 'have', 'the', 'added', 'advantage', 'of', 'being', 'less', 'vulnerable', 'to', 'automation', '.']",
         "num_words": 19,
         "_deepnote_index_column": 4952
        },
        {
         "sentences": "Notwithstanding automation’s many benefits, it presents challenges for countries where the overriding priority is to create a sufficient number of formal-sector jobs.",
         "words": "['Notwithstanding', 'automation', '’', 's', 'many', 'benefits', ',', 'it', 'presents', 'challenges', 'for', 'countries', 'where', 'the', 'overriding', 'priority', 'is', 'to', 'create', 'a', 'sufficient', 'number', 'of', 'formal-sector', 'jobs', '.']",
         "num_words": 26,
         "_deepnote_index_column": 4953
        },
        {
         "sentences": "While economists have been increasingly confident that Africa’s development model will be different from that of East Asia, they have been less certain about what shape it will take.",
         "words": "['While', 'economists', 'have', 'been', 'increasingly', 'confident', 'that', 'Africa', '’', 's', 'development', 'model', 'will', 'be', 'different', 'from', 'that', 'of', 'East', 'Asia', ',', 'they', 'have', 'been', 'less', 'certain', 'about', 'what', 'shape', 'it', 'will', 'take', '.']",
         "num_words": 33,
         "_deepnote_index_column": 4954
        },
        {
         "sentences": "An industries-without-smokestacks model offers one possible answer.",
         "words": "['An', 'industries-without-smokestacks', 'model', 'offers', 'one', 'possible', 'answer', '.']",
         "num_words": 8,
         "_deepnote_index_column": 4955
        },
        {
         "sentences": "From a policy perspective, African leaders should explore more ways to support these industries’ growth, either through targeted reforms or by incorporating them into national industrialization strategies and broader development agendas.",
         "words": "['From', 'a', 'policy', 'perspective', ',', 'African', 'leaders', 'should', 'explore', 'more', 'ways', 'to', 'support', 'these', 'industries', '’', 'growth', ',', 'either', 'through', 'targeted', 'reforms', 'or', 'by', 'incorporating', 'them', 'into', 'national', 'industrialization', 'strategies', 'and', 'broader', 'development', 'agendas', '.']",
         "num_words": 35,
         "_deepnote_index_column": 4956
        },
        {
         "sentences": "The development of industries without smokestacks can occur alongside efforts to develop those with smokestacks, thus offering a multifaceted approach for Africa to achieve structural transformation.",
         "words": "['The', 'development', 'of', 'industries', 'without', 'smokestacks', 'can', 'occur', 'alongside', 'efforts', 'to', 'develop', 'those', 'with', 'smokestacks', ',', 'thus', 'offering', 'a', 'multifaceted', 'approach', 'for', 'Africa', 'to', 'achieve', 'structural', 'transformation', '.']",
         "num_words": 28,
         "_deepnote_index_column": 4957
        },
        {
         "sentences": "Recognizing the High Value of Africa’s Migrants\nLOMÉ – As we mark International Migrants Day on December 18, it’s time to rethink how we value the informal skills and resources of many of Africa’s migrants.",
         "words": "['Recognizing', 'the', 'High', 'Value', 'of', 'Africa', '’', 's', 'Migrants', 'LOMÉ', '–', 'As', 'we', 'mark', 'International', 'Migrants', 'Day', 'on', 'December', '18', ',', 'it', '’', 's', 'time', 'to', 'rethink', 'how', 'we', 'value', 'the', 'informal', 'skills', 'and', 'resources', 'of', 'many', 'of', 'Africa', '’', 's', 'migrants', '.']",
         "num_words": 43,
         "_deepnote_index_column": 4958
        },
        {
         "sentences": "In particular, we need to recognize that migration can help boost long-term economic growth in Africa and the rest of the world.",
         "words": "['In', 'particular', ',', 'we', 'need', 'to', 'recognize', 'that', 'migration', 'can', 'help', 'boost', 'long-term', 'economic', 'growth', 'in', 'Africa', 'and', 'the', 'rest', 'of', 'the', 'world', '.']",
         "num_words": 24,
         "_deepnote_index_column": 4959
        },
        {
         "sentences": "Following its targeted killing of Iran's second most powerful leader, the US could well find itself with no alternative but to devote more military resources to the Middle East, a path that could lead to additional Iranian provocations.",
         "words": "['Following', 'its', 'targeted', 'killing', 'of', 'Iran', \"'s\", 'second', 'most', 'powerful', 'leader', ',', 'the', 'US', 'could', 'well', 'find', 'itself', 'with', 'no', 'alternative', 'but', 'to', 'devote', 'more', 'military', 'resources', 'to', 'the', 'Middle', 'East', ',', 'a', 'path', 'that', 'could', 'lead', 'to', 'additional', 'Iranian', 'provocations', '.']",
         "num_words": 42,
         "_deepnote_index_column": 4960
        },
        {
         "sentences": "And that shift would occur at a time of growing challenges to US interests elsewhere in the world.",
         "words": "['And', 'that', 'shift', 'would', 'occur', 'at', 'a', 'time', 'of', 'growing', 'challenges', 'to', 'US', 'interests', 'elsewhere', 'in', 'the', 'world', '.']",
         "num_words": 19,
         "_deepnote_index_column": 4961
        },
        {
         "sentences": "The targeted killing by the United States of one of Iran's top military leaders represents a significant symbolic defeat for the Iranian regime, but it does not augur all-out war.",
         "words": "['The', 'targeted', 'killing', 'by', 'the', 'United', 'States', 'of', 'one', 'of', 'Iran', \"'s\", 'top', 'military', 'leaders', 'represents', 'a', 'significant', 'symbolic', 'defeat', 'for', 'the', 'Iranian', 'regime', ',', 'but', 'it', 'does', 'not', 'augur', 'all-out', 'war', '.']",
         "num_words": 33,
         "_deepnote_index_column": 4962
        },
        {
         "sentences": "After all, Iran and the US have already been at war for decades, and neither side has an interest in an uncontrolled military escalation now.",
         "words": "['After', 'all', ',', 'Iran', 'and', 'the', 'US', 'have', 'already', 'been', 'at', 'war', 'for', 'decades', ',', 'and', 'neither', 'side', 'has', 'an', 'interest', 'in', 'an', 'uncontrolled', 'military', 'escalation', 'now', '.']",
         "num_words": 28,
         "_deepnote_index_column": 4963
        },
        {
         "sentences": "As in previous years, Project Syndicate asked its commentators to offer their best guesses about the events and trends that will define the coming 12 months.",
         "words": "['As', 'in', 'previous', 'years', ',', 'Project', 'Syndicate', 'asked', 'its', 'commentators', 'to', 'offer', 'their', 'best', 'guesses', 'about', 'the', 'events', 'and', 'trends', 'that', 'will', 'define', 'the', 'coming', '12', 'months', '.']",
         "num_words": 28,
         "_deepnote_index_column": 4964
        },
        {
         "sentences": "If there is one common theme in this year's selection, it is that what happens in 2020 will weigh on the present for many years to come.",
         "words": "['If', 'there', 'is', 'one', 'common', 'theme', 'in', 'this', 'year', \"'s\", 'selection', ',', 'it', 'is', 'that', 'what', 'happens', 'in', '2020', 'will', 'weigh', 'on', 'the', 'present', 'for', 'many', 'years', 'to', 'come', '.']",
         "num_words": 30,
         "_deepnote_index_column": 4965
        },
        {
         "sentences": "On one hand, African migration is less globally significant than many think.",
         "words": "['On', 'one', 'hand', ',', 'African', 'migration', 'is', 'less', 'globally', 'significant', 'than', 'many', 'think', '.']",
         "num_words": 14,
         "_deepnote_index_column": 4966
        },
        {
         "sentences": "According to a report produced by the Mo Ibrahim Foundation, just 14% of the world’s migrants in 2017 came from Africa, while 41% came from Asia and 24% from Europe.",
         "words": "['According', 'to', 'a', 'report', 'produced', 'by', 'the', 'Mo', 'Ibrahim', 'Foundation', ',', 'just', '14', '%', 'of', 'the', 'world', '’', 's', 'migrants', 'in', '2017', 'came', 'from', 'Africa', ',', 'while', '41', '%', 'came', 'from', 'Asia', 'and', '24', '%', 'from', 'Europe', '.']",
         "num_words": 38,
         "_deepnote_index_column": 4967
        },
        {
         "sentences": "The 36.3 million Africans who migrated that year represented less than 3% of the continent’s population (and almost 90% of African refugees remain within the continent.)",
         "words": "['The', '36.3', 'million', 'Africans', 'who', 'migrated', 'that', 'year', 'represented', 'less', 'than', '3', '%', 'of', 'the', 'continent', '’', 's', 'population', '(', 'and', 'almost', '90', '%', 'of', 'African', 'refugees', 'remain', 'within', 'the', 'continent', '.', ')']",
         "num_words": 33,
         "_deepnote_index_column": 4968
        },
        {
         "sentences": "On the other hand, those Africans who do exercise their human right to work where their skills are needed make a significant contribution to the continent’s large informal economy.",
         "words": "['On', 'the', 'other', 'hand', ',', 'those', 'Africans', 'who', 'do', 'exercise', 'their', 'human', 'right', 'to', 'work', 'where', 'their', 'skills', 'are', 'needed', 'make', 'a', 'significant', 'contribution', 'to', 'the', 'continent', '’', 's', 'large', 'informal', 'economy', '.']",
         "num_words": 33,
         "_deepnote_index_column": 4969
        },
        {
         "sentences": "African cities are full of creative traders negotiating prices, supplying jerseys for sports events, and selling drinks to thirsty drivers stuck in traffic jams.",
         "words": "['African', 'cities', 'are', 'full', 'of', 'creative', 'traders', 'negotiating', 'prices', ',', 'supplying', 'jerseys', 'for', 'sports', 'events', ',', 'and', 'selling', 'drinks', 'to', 'thirsty', 'drivers', 'stuck', 'in', 'traffic', 'jams', '.']",
         "num_words": 27,
         "_deepnote_index_column": 4970
        },
        {
         "sentences": "In fact, trading skills –especially those of women – should be at the center of the African migration narrative.",
         "words": "['In', 'fact', ',', 'trading', 'skills', '–especially', 'those', 'of', 'women', '–', 'should', 'be', 'at', 'the', 'center', 'of', 'the', 'African', 'migration', 'narrative', '.']",
         "num_words": 21,
         "_deepnote_index_column": 4971
        },
        {
         "sentences": "In Togo, for example, women previously dominated domestic and international trade in textiles, wax prints, and women’s clothing, running businesses that expanded to Burkina Faso, Mali, Niger, Chad, and other countries in the region.",
         "words": "['In', 'Togo', ',', 'for', 'example', ',', 'women', 'previously', 'dominated', 'domestic', 'and', 'international', 'trade', 'in', 'textiles', ',', 'wax', 'prints', ',', 'and', 'women', '’', 's', 'clothing', ',', 'running', 'businesses', 'that', 'expanded', 'to', 'Burkina', 'Faso', ',', 'Mali', ',', 'Niger', ',', 'Chad', ',', 'and', 'other', 'countries', 'in', 'the', 'region', '.']",
         "num_words": 46,
         "_deepnote_index_column": 4972
        },
        {
         "sentences": "From 1976 to 1984, these “Nana Benz” women – so called because their wealth enabled them to own Mercedes-Benz cars – controlled at least 40% of informal-sector business in Togo.",
         "words": "['From', '1976', 'to', '1984', ',', 'these', '“', 'Nana', 'Benz', '”', 'women', '–', 'so', 'called', 'because', 'their', 'wealth', 'enabled', 'them', 'to', 'own', 'Mercedes-Benz', 'cars', '–', 'controlled', 'at', 'least', '40', '%', 'of', 'informal-sector', 'business', 'in', 'Togo', '.']",
         "num_words": 35,
         "_deepnote_index_column": 4973
        },
        {
         "sentences": "While they are no longer quite so dominant, a third generation of women is keeping their entrepreneurial model alive.",
         "words": "['While', 'they', 'are', 'no', 'longer', 'quite', 'so', 'dominant', ',', 'a', 'third', 'generation', 'of', 'women', 'is', 'keeping', 'their', 'entrepreneurial', 'model', 'alive', '.']",
         "num_words": 21,
         "_deepnote_index_column": 4974
        },
        {
         "sentences": "The Nana Benz demonstrated that informal economies could create pathways to success for their children and communities.",
         "words": "['The', 'Nana', 'Benz', 'demonstrated', 'that', 'informal', 'economies', 'could', 'create', 'pathways', 'to', 'success', 'for', 'their', 'children', 'and', 'communities', '.']",
         "num_words": 18,
         "_deepnote_index_column": 4975
        },
        {
         "sentences": "They not only built mansions in Togo and owned properties around the world, but also invested in their children’s education at home and abroad.",
         "words": "['They', 'not', 'only', 'built', 'mansions', 'in', 'Togo', 'and', 'owned', 'properties', 'around', 'the', 'world', ',', 'but', 'also', 'invested', 'in', 'their', 'children', '’', 's', 'education', 'at', 'home', 'and', 'abroad', '.']",
         "num_words": 28,
         "_deepnote_index_column": 4976
        },
        {
         "sentences": "And they commanded respect despite their own lack of formal education.",
         "words": "['And', 'they', 'commanded', 'respect', 'despite', 'their', 'own', 'lack', 'of', 'formal', 'education', '.']",
         "num_words": 12,
         "_deepnote_index_column": 4977
        },
        {
         "sentences": "European business partners offered them favorable terms to expand their businesses.",
         "words": "['European', 'business', 'partners', 'offered', 'them', 'favorable', 'terms', 'to', 'expand', 'their', 'businesses', '.']",
         "num_words": 12,
         "_deepnote_index_column": 4978
        },
        {
         "sentences": "Today, the informal economy accounts for more than 70% of total employment in Sub-Saharan Africa.",
         "words": "['Today', ',', 'the', 'informal', 'economy', 'accounts', 'for', 'more', 'than', '70', '%', 'of', 'total', 'employment', 'in', 'Sub-Saharan', 'Africa', '.']",
         "num_words": 18,
         "_deepnote_index_column": 4979
        },
        {
         "sentences": "At the same time, however, almost 16 million young Africans are unemployed, in many cases because potential employers undervalue the informal skills that these job seekers learned outside school.",
         "words": "['At', 'the', 'same', 'time', ',', 'however', ',', 'almost', '16', 'million', 'young', 'Africans', 'are', 'unemployed', ',', 'in', 'many', 'cases', 'because', 'potential', 'employers', 'undervalue', 'the', 'informal', 'skills', 'that', 'these', 'job', 'seekers', 'learned', 'outside', 'school', '.']",
         "num_words": 33,
         "_deepnote_index_column": 4980
        },
        {
         "sentences": "So, although we need to create more formal-sector jobs on the continent, we also must recognize the value and skills embedded in the rest of the economy – including through the contribution of internal and cross-border migrants.",
         "words": "['So', ',', 'although', 'we', 'need', 'to', 'create', 'more', 'formal-sector', 'jobs', 'on', 'the', 'continent', ',', 'we', 'also', 'must', 'recognize', 'the', 'value', 'and', 'skills', 'embedded', 'in', 'the', 'rest', 'of', 'the', 'economy', '–', 'including', 'through', 'the', 'contribution', 'of', 'internal', 'and', 'cross-border', 'migrants', '.']",
         "num_words": 40,
         "_deepnote_index_column": 4981
        },
        {
         "sentences": "Of course, informal employment is not just an African phenomenon.",
         "words": "['Of', 'course', ',', 'informal', 'employment', 'is', 'not', 'just', 'an', 'African', 'phenomenon', '.']",
         "num_words": 12,
         "_deepnote_index_column": 4982
        },
        {
         "sentences": "According to the International Labor Organization, two billion people worldwide work in the informal economy, including 1.3 billion in the Asia-Pacific region.",
         "words": "['According', 'to', 'the', 'International', 'Labor', 'Organization', ',', 'two', 'billion', 'people', 'worldwide', 'work', 'in', 'the', 'informal', 'economy', ',', 'including', '1.3', 'billion', 'in', 'the', 'Asia-Pacific', 'region', '.']",
         "num_words": 25,
         "_deepnote_index_column": 4983
        },
        {
         "sentences": "And even in Europe and Central Asia, where the share of formal employment is highest, 25% of the employed population work informally.",
         "words": "['And', 'even', 'in', 'Europe', 'and', 'Central', 'Asia', ',', 'where', 'the', 'share', 'of', 'formal', 'employment', 'is', 'highest', ',', '25', '%', 'of', 'the', 'employed', 'population', 'work', 'informally', '.']",
         "num_words": 26,
         "_deepnote_index_column": 4984
        },
        {
         "sentences": "It is a global coping mechanism through which creative minds address market opportunities.",
         "words": "['It', 'is', 'a', 'global', 'coping', 'mechanism', 'through', 'which', 'creative', 'minds', 'address', 'market', 'opportunities', '.']",
         "num_words": 14,
         "_deepnote_index_column": 4985
        },
        {
         "sentences": "To continue Africa’s social and economic transformation, we must recognize the informal economy as a key lever of development and a facilitator of trade-based migration.",
         "words": "['To', 'continue', 'Africa', '’', 's', 'social', 'and', 'economic', 'transformation', ',', 'we', 'must', 'recognize', 'the', 'informal', 'economy', 'as', 'a', 'key', 'lever', 'of', 'development', 'and', 'a', 'facilitator', 'of', 'trade-based', 'migration', '.']",
         "num_words": 29,
         "_deepnote_index_column": 4986
        },
        {
         "sentences": "African investors could help this process by providing digitally connected migrants with tailor-made safety mechanisms such as insurance and other financial products.",
         "words": "['African', 'investors', 'could', 'help', 'this', 'process', 'by', 'providing', 'digitally', 'connected', 'migrants', 'with', 'tailor-made', 'safety', 'mechanisms', 'such', 'as', 'insurance', 'and', 'other', 'financial', 'products', '.']",
         "num_words": 23,
         "_deepnote_index_column": 4987
        },
        {
         "sentences": "The informal economy sometimes is associated with poverty, disease, and low levels of education.",
         "words": "['The', 'informal', 'economy', 'sometimes', 'is', 'associated', 'with', 'poverty', ',', 'disease', ',', 'and', 'low', 'levels', 'of', 'education', '.']",
         "num_words": 17,
         "_deepnote_index_column": 4988
        },
        {
         "sentences": "But most African migrants are young, educated women and men who can help economies in Europe, Asia, and North America address the challenges posed by aging populations.",
         "words": "['But', 'most', 'African', 'migrants', 'are', 'young', ',', 'educated', 'women', 'and', 'men', 'who', 'can', 'help', 'economies', 'in', 'Europe', ',', 'Asia', ',', 'and', 'North', 'America', 'address', 'the', 'challenges', 'posed', 'by', 'aging', 'populations', '.']",
         "num_words": 31,
         "_deepnote_index_column": 4989
        },
        {
         "sentences": "Between now and 2100, Africa’s young population (aged 15-34) is expected to grow by 181%, while Europe’s will shrink by 21% and Asia’s by almost 28%.",
         "words": "['Between', 'now', 'and', '2100', ',', 'Africa', '’', 's', 'young', 'population', '(', 'aged', '15-34', ')', 'is', 'expected', 'to', 'grow', 'by', '181', '%', ',', 'while', 'Europe', '’', 's', 'will', 'shrink', 'by', '21', '%', 'and', 'Asia', '’', 's', 'by', 'almost', '28', '%', '.']",
         "num_words": 40,
         "_deepnote_index_column": 4990
        },
        {
         "sentences": "But if politicians in destination countries fail to make a positive case for migration, the world will miss out on this opportunity.",
         "words": "['But', 'if', 'politicians', 'in', 'destination', 'countries', 'fail', 'to', 'make', 'a', 'positive', 'case', 'for', 'migration', ',', 'the', 'world', 'will', 'miss', 'out', 'on', 'this', 'opportunity', '.']",
         "num_words": 24,
         "_deepnote_index_column": 4991
        },
        {
         "sentences": "At the same time, Africa must invest in education, like the Nana Benz did, to ensure that its young people are better educated, healthier, and more connected than previous generations.",
         "words": "['At', 'the', 'same', 'time', ',', 'Africa', 'must', 'invest', 'in', 'education', ',', 'like', 'the', 'Nana', 'Benz', 'did', ',', 'to', 'ensure', 'that', 'its', 'young', 'people', 'are', 'better', 'educated', ',', 'healthier', ',', 'and', 'more', 'connected', 'than', 'previous', 'generations', '.']",
         "num_words": 36,
         "_deepnote_index_column": 4992
        },
        {
         "sentences": "Without broader access to quality education, intergenerational transfers of wealth within Africa will damage the future prospects of the 16 million young people looking for work.",
         "words": "['Without', 'broader', 'access', 'to', 'quality', 'education', ',', 'intergenerational', 'transfers', 'of', 'wealth', 'within', 'Africa', 'will', 'damage', 'the', 'future', 'prospects', 'of', 'the', '16', 'million', 'young', 'people', 'looking', 'for', 'work', '.']",
         "num_words": 28,
         "_deepnote_index_column": 4993
        },
        {
         "sentences": "There is thus a case for legal migration, which would help to generate additional tax revenues for host-country governments and enable migrants to send remittances back to their home countries.",
         "words": "['There', 'is', 'thus', 'a', 'case', 'for', 'legal', 'migration', ',', 'which', 'would', 'help', 'to', 'generate', 'additional', 'tax', 'revenues', 'for', 'host-country', 'governments', 'and', 'enable', 'migrants', 'to', 'send', 'remittances', 'back', 'to', 'their', 'home', 'countries', '.']",
         "num_words": 32,
         "_deepnote_index_column": 4994
        },
        {
         "sentences": "On average, African migrants spend or invest about 85% of their income in their destination country, and remit the remaining 15%.",
         "words": "['On', 'average', ',', 'African', 'migrants', 'spend', 'or', 'invest', 'about', '85', '%', 'of', 'their', 'income', 'in', 'their', 'destination', 'country', ',', 'and', 'remit', 'the', 'remaining', '15', '%', '.']",
         "num_words": 26,
         "_deepnote_index_column": 4995
        },
        {
         "sentences": "These remittances, which represented 3.5% of Africa’s $2.3 trillion GDP in 2018, should be pooled to accelerate the continent’s economic transformation.",
         "words": "['These', 'remittances', ',', 'which', 'represented', '3.5', '%', 'of', 'Africa', '’', 's', '$', '2.3', 'trillion', 'GDP', 'in', '2018', ',', 'should', 'be', 'pooled', 'to', 'accelerate', 'the', 'continent', '’', 's', 'economic', 'transformation', '.']",
         "num_words": 30,
         "_deepnote_index_column": 4996
        },
        {
         "sentences": "In the longer term, the facilitation of free movement envisaged under the African Union’s Agenda 2063 will determine the extent to which informal-sector skills transform the continent’s economies.",
         "words": "['In', 'the', 'longer', 'term', ',', 'the', 'facilitation', 'of', 'free', 'movement', 'envisaged', 'under', 'the', 'African', 'Union', '’', 's', 'Agenda', '2063', 'will', 'determine', 'the', 'extent', 'to', 'which', 'informal-sector', 'skills', 'transform', 'the', 'continent', '’', 's', 'economies', '.']",
         "num_words": 34,
         "_deepnote_index_column": 4997
        },
        {
         "sentences": "And although market conditions have changed over the last few decades, the Nana Benz women of Togo already have shown us the way.",
         "words": "['And', 'although', 'market', 'conditions', 'have', 'changed', 'over', 'the', 'last', 'few', 'decades', ',', 'the', 'Nana', 'Benz', 'women', 'of', 'Togo', 'already', 'have', 'shown', 'us', 'the', 'way', '.']",
         "num_words": 25,
         "_deepnote_index_column": 4998
        },
        {
         "sentences": "In Africa and elsewhere, development processes are stronger when they are built on existing networks and mechanisms.",
         "words": "['In', 'Africa', 'and', 'elsewhere', ',', 'development', 'processes', 'are', 'stronger', 'when', 'they', 'are', 'built', 'on', 'existing', 'networks', 'and', 'mechanisms', '.']",
         "num_words": 19,
         "_deepnote_index_column": 4999
        }
       ]
      },
      "text/plain": "                                              sentences  \\\n0     They have lived through countless trials, endu...   \n1     But empires have crumbled; tyrants have passed...   \n2     All the while, the Kurds have held fast, resis...   \n3     And today, they are approaching a milestone: a...   \n4     The Kurdish nation was forged over centuries o...   \n...                                                 ...   \n4995  On average, African migrants spend or invest a...   \n4996  These remittances, which represented 3.5% of A...   \n4997  In the longer term, the facilitation of free m...   \n4998  And although market conditions have changed ov...   \n4999  In Africa and elsewhere, development processes...   \n\n                                                  words  num_words  \n0     [They, have, lived, through, countless, trials...         19  \n1     [But, empires, have, crumbled, ;, tyrants, hav...         21  \n2     [All, the, while, ,, the, Kurds, have, held, f...         19  \n3     [And, today, ,, they, are, approaching, a, mil...         37  \n4     [The, Kurdish, nation, was, forged, over, cent...         12  \n...                                                 ...        ...  \n4995  [On, average, ,, African, migrants, spend, or,...         26  \n4996  [These, remittances, ,, which, represented, 3....         30  \n4997  [In, the, longer, term, ,, the, facilitation, ...         34  \n4998  [And, although, market, conditions, have, chan...         25  \n4999  [In, Africa, and, elsewhere, ,, development, p...         19  \n\n[5000 rows x 3 columns]",
      "text/html": "<div>\n<style scoped>\n    .dataframe tbody tr th:only-of-type {\n        vertical-align: middle;\n    }\n\n    .dataframe tbody tr th {\n        vertical-align: top;\n    }\n\n    .dataframe thead th {\n        text-align: right;\n    }\n</style>\n<table border=\"1\" class=\"dataframe\">\n  <thead>\n    <tr style=\"text-align: right;\">\n      <th></th>\n      <th>sentences</th>\n      <th>words</th>\n      <th>num_words</th>\n    </tr>\n  </thead>\n  <tbody>\n    <tr>\n      <th>0</th>\n      <td>They have lived through countless trials, endu...</td>\n      <td>[They, have, lived, through, countless, trials...</td>\n      <td>19</td>\n    </tr>\n    <tr>\n      <th>1</th>\n      <td>But empires have crumbled; tyrants have passed...</td>\n      <td>[But, empires, have, crumbled, ;, tyrants, hav...</td>\n      <td>21</td>\n    </tr>\n    <tr>\n      <th>2</th>\n      <td>All the while, the Kurds have held fast, resis...</td>\n      <td>[All, the, while, ,, the, Kurds, have, held, f...</td>\n      <td>19</td>\n    </tr>\n    <tr>\n      <th>3</th>\n      <td>And today, they are approaching a milestone: a...</td>\n      <td>[And, today, ,, they, are, approaching, a, mil...</td>\n      <td>37</td>\n    </tr>\n    <tr>\n      <th>4</th>\n      <td>The Kurdish nation was forged over centuries o...</td>\n      <td>[The, Kurdish, nation, was, forged, over, cent...</td>\n      <td>12</td>\n    </tr>\n    <tr>\n      <th>...</th>\n      <td>...</td>\n      <td>...</td>\n      <td>...</td>\n    </tr>\n    <tr>\n      <th>4995</th>\n      <td>On average, African migrants spend or invest a...</td>\n      <td>[On, average, ,, African, migrants, spend, or,...</td>\n      <td>26</td>\n    </tr>\n    <tr>\n      <th>4996</th>\n      <td>These remittances, which represented 3.5% of A...</td>\n      <td>[These, remittances, ,, which, represented, 3....</td>\n      <td>30</td>\n    </tr>\n    <tr>\n      <th>4997</th>\n      <td>In the longer term, the facilitation of free m...</td>\n      <td>[In, the, longer, term, ,, the, facilitation, ...</td>\n      <td>34</td>\n    </tr>\n    <tr>\n      <th>4998</th>\n      <td>And although market conditions have changed ov...</td>\n      <td>[And, although, market, conditions, have, chan...</td>\n      <td>25</td>\n    </tr>\n    <tr>\n      <th>4999</th>\n      <td>In Africa and elsewhere, development processes...</td>\n      <td>[In, Africa, and, elsewhere, ,, development, p...</td>\n      <td>19</td>\n    </tr>\n  </tbody>\n</table>\n<p>5000 rows × 3 columns</p>\n</div>"
     },
     "metadata": {}
    }
   ]
  },
  {
   "cell_type": "markdown",
   "source": "3. Follow the instructions at\nhttp://www.nltk.org/api/nltk.lm.html#module-nltk.lm\nto train maximum-likelihood language models of varying orders (e.g., n=2..6) for\neach of your corpora. Make a note of the size of the n-gram lists for each\nn-gram order. You might also plot them. <br>\n\nIMPORTANT: We will want to compare perplexities across different corpora. This\nonly produces meaningful results if all the models use exactly the same\nvocabulary. To ensure that, create a vocabulary from the largest of your\ndatasets and use it for ALL the corpora. <br>",
   "metadata": {
    "tags": [],
    "cell_id": "00007-ebde3f31-95ab-47a5-8377-a134a941fcd1",
    "deepnote_cell_type": "markdown"
   }
  },
  {
   "cell_type": "code",
   "metadata": {
    "tags": [],
    "cell_id": "00013-3e5f75ba-250f-4d6d-b1c2-7416d40554b6",
    "deepnote_to_be_reexecuted": false,
    "source_hash": "6c411e0d",
    "execution_start": 1620391222586,
    "execution_millis": 2,
    "deepnote_cell_type": "code"
   },
   "source": "vocabulary = list()\n",
   "execution_count": null,
   "outputs": []
  },
  {
   "cell_type": "markdown",
   "source": "4. Use the lm.generate function to generate some example text from each of your\nmodels and compare. <br>",
   "metadata": {
    "tags": [],
    "cell_id": "00013-deddbf58-562b-4c2d-90b4-a62779c10979",
    "deepnote_cell_type": "markdown"
   }
  },
  {
   "cell_type": "code",
   "metadata": {
    "tags": [],
    "cell_id": "00015-a0a9f302-e60d-42f5-bb36-030dbbb950be",
    "deepnote_to_be_reexecuted": false,
    "source_hash": "b623e53d",
    "execution_start": 1620390381988,
    "execution_millis": 3,
    "deepnote_cell_type": "code"
   },
   "source": "",
   "execution_count": null,
   "outputs": []
  },
  {
   "cell_type": "markdown",
   "source": "5. Use lm.score and lm.logscore to calculate the scores of a couple of n-grams\nyou find in the texts with the different models. Try 1 or 2 n-grams with all\nfunction words and 1 or 2 n-grams that contain specific content words or names.",
   "metadata": {
    "tags": [],
    "cell_id": "00015-be1bf706-8544-4b64-9ceb-916dc2892989",
    "deepnote_cell_type": "markdown"
   }
  },
  {
   "cell_type": "code",
   "metadata": {
    "tags": [],
    "cell_id": "00017-2bdb9f6d-b811-4dcd-af6c-d4354aaf27ce",
    "deepnote_to_be_reexecuted": false,
    "source_hash": "b623e53d",
    "execution_start": 1620390381994,
    "deepnote_cell_type": "code"
   },
   "source": "",
   "execution_count": null,
   "outputs": []
  },
  {
   "cell_type": "markdown",
   "source": "6. Use the lm.perplexity function to compute the perplexity of the validation\nsets from each dataset with each of the language models and compare. Keep in\nmind that LOWER perplexity is BETTER.",
   "metadata": {
    "tags": [],
    "cell_id": "00017-8ba35625-02cc-4617-8bf6-21f5b9f955ef",
    "deepnote_cell_type": "markdown"
   }
  },
  {
   "cell_type": "code",
   "metadata": {
    "tags": [],
    "cell_id": "00019-0deaa1b4-a550-4822-88a6-b4c3f3f8bbba",
    "deepnote_to_be_reexecuted": false,
    "source_hash": "b623e53d",
    "execution_start": 1620390382038,
    "deepnote_cell_type": "code"
   },
   "source": "",
   "execution_count": null,
   "outputs": []
  },
  {
   "cell_type": "markdown",
   "source": "\n\n7. Repeat the steps above with another language model implementation, such as\nLaplace, WittenBellInterpolated or KneserNeyInterpolated.",
   "metadata": {
    "tags": [],
    "cell_id": "00019-53f10152-2e1f-4553-802e-d9633cd81656",
    "deepnote_cell_type": "markdown"
   }
  },
  {
   "cell_type": "code",
   "metadata": {
    "tags": [],
    "cell_id": "00021-0296d85a-7888-4ed7-a316-2e9435457c54",
    "deepnote_to_be_reexecuted": false,
    "source_hash": "b623e53d",
    "execution_start": 1620390382039,
    "deepnote_cell_type": "code"
   },
   "source": "",
   "execution_count": null,
   "outputs": []
  },
  {
   "cell_type": "markdown",
   "source": "",
   "metadata": {
    "tags": [],
    "cell_id": "00021-80bc4c01-31e6-4ed2-91de-98f1d9325a0b",
    "deepnote_cell_type": "markdown"
   }
  },
  {
   "cell_type": "markdown",
   "source": "",
   "metadata": {
    "tags": [],
    "cell_id": "00033-1db4464d-f242-4b7e-8252-6cd7b0b6bae2",
    "deepnote_cell_type": "markdown"
   }
  },
  {
   "cell_type": "markdown",
   "source": "<a style='text-decoration:none;line-height:16px;display:flex;color:#5B5B62;padding:10px;justify-content:end;' href='https://deepnote.com?utm_source=created-in-deepnote-cell&projectId=5235cf77-d347-437f-a336-60ef81766ce7' target=\"_blank\">\n<img alt='Created in deepnote.com' style='display:inline;max-height:16px;margin:0px;margin-right:7.5px;' src='data:image/svg+xml;base64,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' > </img>\nCreated in <span style='font-weight:600;margin-left:4px;'>Deepnote</span></a>",
   "metadata": {
    "tags": [],
    "created_in_deepnote_cell": true,
    "deepnote_cell_type": "markdown"
   }
  }
 ],
 "nbformat": 4,
 "nbformat_minor": 2,
 "metadata": {
  "orig_nbformat": 2,
  "deepnote": {
   "is_reactive": false
  },
  "deepnote_notebook_id": "9ce5f367-9087-4380-adfd-233a3c3f01d1",
  "deepnote_execution_queue": []
 }
}