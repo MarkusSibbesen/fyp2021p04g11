{
  "cells": [
    {
      "cell_type": "markdown",
      "source": "## Exercise 1",
      "metadata": {
        "tags": [],
        "cell_id": "00001-f034f263-c20b-483f-96db-88524a842fca",
        "deepnote_cell_type": "markdown"
      }
    },
    {
      "cell_type": "markdown",
      "source": "We have selected **hate speech detection** as the binary classifier and the **sentiment analysis** as the multiclass classifier.",
      "metadata": {
        "tags": [],
        "cell_id": "00001-437886a7-c638-4c73-86de-3ee62144d833",
        "deepnote_cell_type": "markdown"
      }
    },
    {
      "cell_type": "code",
      "source": "#Imports \nimport pandas as pd \nimport csv \nimport re\nimport nltk\nnltk.download('punkt')\nfrom nltk.tokenize import TweetTokenizer\nfrom difflib import ndiff\n",
      "metadata": {
        "tags": [],
        "cell_id": "00001-077c6e66-d22d-4e09-9227-6a35ed8c6592",
        "deepnote_to_be_reexecuted": false,
        "source_hash": "1e7967ad",
        "execution_start": 1620144247768,
        "execution_millis": 9,
        "deepnote_cell_type": "code"
      },
      "outputs": [
        {
          "name": "stderr",
          "text": "[nltk_data] Downloading package punkt to /root/nltk_data...\n[nltk_data]   Package punkt is already up-to-date!\n",
          "output_type": "stream"
        }
      ],
      "execution_count": 180
    },
    {
      "cell_type": "code",
      "source": "# Data loading \n\n# hate\nhate_train = open(\"datasets/hate/train_text.txt\", \"r\", encoding=\"utf-8\").read()\nhate_test = open(\"datasets/hate/test_text.txt\", \"r\", encoding=\"utf-8\").read()\nhate_mapping = open(\"datasets/hate/mapping.txt\", \"r\", encoding=\"utf-8\").read()\n\n# sentiment \nsentiment_train = open(\"datasets/sentiment/train_text.txt\", \"r\", encoding=\"utf-8\").read()\nsentiment_test = open(\"datasets/sentiment/test_text.txt\", \"r\", encoding=\"utf-8\").read()\nsentiment_mapping = open(\"datasets/sentiment/mapping.txt\", \"r\", encoding=\"utf-8\").read()",
      "metadata": {
        "tags": [],
        "cell_id": "00001-f733bea0-7ebd-47a7-9518-baf31430b8d3",
        "deepnote_to_be_reexecuted": false,
        "source_hash": "1e597065",
        "execution_start": 1620137180654,
        "execution_millis": 110,
        "deepnote_cell_type": "code"
      },
      "outputs": [],
      "execution_count": 45
    },
    {
      "cell_type": "markdown",
      "source": "**Preprocessing** <br>\nUsing regular expressions, implement a tokeniser to split the input texts into meaningful tokens. Your tokeniser should be a script that takes as input the data as distributed in the dataset and outputs the tokenised text, one output line per input line, with spaces between tokens.",
      "metadata": {
        "tags": [],
        "cell_id": "00003-2828698c-36ad-4ba1-9ad5-b3ef0486a32e",
        "deepnote_cell_type": "markdown"
      }
    },
    {
      "cell_type": "code",
      "source": "def tokenize_line(line):\n    #replacements = \".,:;?!/#%\\(\\)@$\\-…\"\n    #temp = re.sub(f'([^ ])([{replacements}])', r'\\1 \\2', line)\n    #temp = re.sub(f'([{replacements}])([^ ])', r'\\1 \\2', temp)\n    temp = re.sub(f'([a-zA-Z])([^a-zA-Z ])', r'\\1 \\2', line)\n    temp = re.sub(f'([^a-zA-Z @#])([a-zA-Z])', r'\\1 \\2', temp)\n    return temp\n\ntokenize_line('hej, d/et.te (er) en .test!')",
      "metadata": {
        "tags": [],
        "cell_id": "00004-72832362-94dd-4283-bd62-bcbd5c6e0e9f",
        "deepnote_to_be_reexecuted": false,
        "source_hash": "372aa900",
        "execution_start": 1620144475165,
        "execution_millis": 14,
        "deepnote_cell_type": "code"
      },
      "outputs": [
        {
          "output_type": "execute_result",
          "execution_count": 189,
          "data": {
            "text/plain": "'hej , d / et . te ( er ) en . test !'"
          },
          "metadata": {}
        }
      ],
      "execution_count": 189
    },
    {
      "cell_type": "markdown",
      "source": "1. Use the training set of one of the tasks you’ve chosen to work on. Set aside a part of the training set for evaluating the tokeniser so you don’t have to touch the validation data for that.",
      "metadata": {
        "tags": [],
        "cell_id": "00003-56e1a21a-8531-45ba-85f7-fd44749020e6",
        "deepnote_cell_type": "markdown"
      }
    },
    {
      "cell_type": "code",
      "source": "hate_train_lists = hate_train.split('\\n')\nlhate_train_token)ize = hate_train_lists[0:4500]\nhate_train_set_aside = hate_train_lists[4500:-1]",
      "metadata": {
        "tags": [],
        "cell_id": "00006-518b0e08-4431-4feb-a90a-397a400679c8",
        "deepnote_to_be_reexecuted": false,
        "source_hash": "146d7afe",
        "execution_start": 1620142450608,
        "execution_millis": 1,
        "deepnote_cell_type": "code"
      },
      "outputs": [],
      "execution_count": 134
    },
    {
      "cell_type": "markdown",
      "source": "2. Start by taking a subset of the training data, look through it and discuss in your group what a good tokenisation of this subset should look like. Then design your initial Python implementation to match this ideal tokenisation, and run it over the portion of the training set that you didn’t hold out for tokeniser evaluation. Keep an eye on infrequently occurring tokens in the output that look like tokenisation errors.\n",
      "metadata": {
        "tags": [],
        "cell_id": "00005-20857666-1524-4133-9c66-87cc0298b3d9",
        "deepnote_cell_type": "markdown"
      }
    },
    {
      "cell_type": "code",
      "source": "[tokenize_line(line) for line in hate_train_tokenize[0:20]]",
      "metadata": {
        "tags": [],
        "cell_id": "00006-205f08d1-9c92-4907-9ea2-a49a1791de97",
        "deepnote_to_be_reexecuted": false,
        "source_hash": "5fba0ad7",
        "execution_start": 1620143240101,
        "execution_millis": 6,
        "deepnote_cell_type": "code"
      },
      "outputs": [
        {
          "output_type": "execute_result",
          "execution_count": 161,
          "data": {
            "text/plain": "['@ user nice new signage . Are you not concerned by Beatlemania - style hysterical crowds crongregating on you … ',\n 'A woman who you fucked multiple times saying yo dick small is a compliment you know u hit that spot 😎 ',\n '@ user @ user real talk do you have eyes or were they gouged out by a rapefugee ? ',\n 'your girlfriend lookin at me like a groupie in this bitch ! ',\n 'Hysterical woman like @ user ',\n 'Me flirting - So tell me about your father ... ',\n 'The Philippine Catholic bishops \\' work for migrant workers should focus on families who are \" paying the great ... ',\n \"I AM NOT GOING AFTER YOUR EX BF YOU LIEING SACK OF SHIT ! I ' m done with you dude that ' s why I dumped your ass cause your a lieing 😂😡 bitch \",\n 'When cuffin season is finally over ',\n 'Send home migrants not in need of protection , Peter Dutton tells UN , HEY DUTTON HOW ABOUT THE ONES THAT HAVE STAYED AND NOT LEFT THE COUNTRY WHEN THEY SHOULD OVERSTAYERS ? WHY DONT YOU GO AND ROUND ALL THEM UP ?  ',\n 'Cory Booker and Kamala Harris competing for Most Hysterical Woman at the Kavanaugh hearings , Coulter hilariously tweeted . And yes , liberals immediately got triggered on Twitter , saying her joke was offensive . To them we say , suck it up , snowflakes . ',\n \"Only that in you which is me can hear what I ' m saying . ~ Baba Ram Dass \",\n \"Should have let the Libyan Manchester bomber rot in his own country . How many more mass murderers did the Royal Navy import to Britain ? How many more terrorists do the NGO ' s rescue from international waters ? # RefugeesNotWelcome \",\n 'More migrants take sea route to # Spain than Italy this year : UN ',\n 'Essential reading for those in Scribner , Nebraska who are considering an anti - immigrant ballot measure . ',\n 'This account was temporarily inactive due to an irrational woman reporting us to Twitter . What a lack of judgement , shocking . # YesAllMen ',\n 'RT @ user @ user I am flattered tbh . I got an orgasm just by thinking of it you really are good at this . ',\n 'Making them look ~ anatomically correct ~ just makes them ... Bland . Not all women are tiny and fit , not all men are bulky . ',\n 'listen ... i love lil b but i would not fuck with dej loaf at all . she prob got poison up in her nail polish like that bitch from holes ',\n '@ user @ user keep calling her a bitch and a whore dude real grown up . ']"
          },
          "metadata": {}
        }
      ],
      "execution_count": 161
    },
    {
      "cell_type": "markdown",
      "source": "3. Once you’re done, compare your tokeniser’s output with the baseline tokenisation\nyou get from the social media tokeniser in the NLTK library (nltk.tokenize.TweetTokenizer), using the data you’ve set aside for this purpose.",
      "metadata": {
        "tags": [],
        "cell_id": "00007-ba90aa62-8537-4289-b066-6f78d12fb5d2",
        "deepnote_cell_type": "markdown"
      }
    },
    {
      "cell_type": "code",
      "source": "#TweetTokenizer(hate_train)\ntknzr = TweetTokenizer()\ntokens_homemade = [tokenize_line(hate_train_tokenize[i].strip()) for i in range(20)]\ntokens_nltk = [' '.join(tknzr.tokenize(hate_train_tokenize[i])) for i in range(20)]",
      "metadata": {
        "tags": [],
        "cell_id": "00008-490dca95-88e0-4dd1-8fc5-0656573dbb9f",
        "deepnote_to_be_reexecuted": false,
        "source_hash": "4cc862ba",
        "execution_start": 1620144481288,
        "execution_millis": 3,
        "deepnote_cell_type": "code"
      },
      "outputs": [],
      "execution_count": 190
    },
    {
      "cell_type": "code",
      "source": "print(tokens_homemade)\nprint(tokens_nltk)\n[i for i in ndiff(tokens_homemade, tokens_nltk)]",
      "metadata": {
        "tags": [],
        "cell_id": "00012-b6e8dd00-617d-436b-b88f-ec84bb359020",
        "deepnote_to_be_reexecuted": false,
        "source_hash": "24470fd9",
        "execution_start": 1620144483200,
        "execution_millis": 40,
        "deepnote_cell_type": "code"
      },
      "outputs": [
        {
          "name": "stdout",
          "text": "['@user nice new signage . Are you not concerned by Beatlemania - style hysterical crowds crongregating on you …', 'A woman who you fucked multiple times saying yo dick small is a compliment you know u hit that spot 😎', '@user @user real talk do you have eyes or were they gouged out by a rapefugee ?', 'your girlfriend lookin at me like a groupie in this bitch !', 'Hysterical woman like @user', 'Me flirting - So tell me about your father ...', 'The Philippine Catholic bishops \\' work for migrant workers should focus on families who are \" paying the great ...', \"I AM NOT GOING AFTER YOUR EX BF YOU LIEING SACK OF SHIT ! I ' m done with you dude that ' s why I dumped your ass cause your a lieing 😂😡 bitch\", 'When cuffin season is finally over', 'Send home migrants not in need of protection , Peter Dutton tells UN , HEY DUTTON HOW ABOUT THE ONES THAT HAVE STAYED AND NOT LEFT THE COUNTRY WHEN THEY SHOULD OVERSTAYERS ? WHY DONT YOU GO AND ROUND ALL THEM UP ?', 'Cory Booker and Kamala Harris competing for Most Hysterical Woman at the Kavanaugh hearings , Coulter hilariously tweeted . And yes , liberals immediately got triggered on Twitter , saying her joke was offensive . To them we say , suck it up , snowflakes .', \"Only that in you which is me can hear what I ' m saying . ~ Baba Ram Dass\", \"Should have let the Libyan Manchester bomber rot in his own country . How many more mass murderers did the Royal Navy import to Britain ? How many more terrorists do the NGO ' s rescue from international waters ? #RefugeesNotWelcome\", 'More migrants take sea route to #Spain than Italy this year : UN', 'Essential reading for those in Scribner , Nebraska who are considering an anti - immigrant ballot measure .', 'This account was temporarily inactive due to an irrational woman reporting us to Twitter . What a lack of judgement , shocking . #YesAllMen', 'RT @user @user I am flattered tbh . I got an orgasm just by thinking of it you really are good at this .', 'Making them look ~ anatomically correct ~ just makes them ... Bland . Not all women are tiny and fit , not all men are bulky .', 'listen ... i love lil b but i would not fuck with dej loaf at all . she prob got poison up in her nail polish like that bitch from holes', '@user @user keep calling her a bitch and a whore dude real grown up .']\n['@user nice new signage . Are you not concerned by Beatlemania - style hysterical crowds crongregating on you …', 'A woman who you fucked multiple times saying yo dick small is a compliment you know u hit that spot 😎', '@user @user real talk do you have eyes or were they gouged out by a rapefugee ?', 'your girlfriend lookin at me like a groupie in this bitch !', 'Hysterical woman like @user', 'Me flirting - So tell me about your father ...', 'The Philippine Catholic bishops \\' work for migrant workers should focus on families who are \" paying the great ...', \"I AM NOT GOING AFTER YOUR EX BF YOU LIEING SACK OF SHIT ! I'm done with you dude that's why I dumped your ass cause your a lieing 😂 😡 bitch\", 'When cuffin season is finally over', 'Send home migrants not in need of protection , Peter Dutton tells UN , HEY DUTTON HOW ABOUT THE ONES THAT HAVE STAYED AND NOT LEFT THE COUNTRY WHEN THEY SHOULD OVERSTAYERS ? WHY DONT YOU GO AND ROUND ALL THEM UP ?', 'Cory Booker and Kamala Harris competing for Most Hysterical Woman at the Kavanaugh hearings , Coulter hilariously tweeted.And yes , liberals immediately got triggered on Twitter , saying her joke was offensive . To them we say , suck it up , snowflakes .', \"Only that in you which is me can hear what I'm saying . ~ Baba Ram Dass\", \"Should have let the Libyan Manchester bomber rot in his own country . How many more mass murderers did the Royal Navy import to Britain ? How many more terrorists do the NGO's rescue from international waters ? #RefugeesNotWelcome\", 'More migrants take sea route to #Spain than Italy this year : UN', 'Essential reading for those in Scribner , Nebraska who are considering an anti-immigrant ballot measure .', 'This account was temporarily inactive due to an irrational woman reporting us to Twitter . What a lack of judgement , shocking . #YesAllMen', 'RT @user @user I am flattered tbh . I got an orgasm just by thinking of it you really are good at this .', 'Making them look ~ anatomically correct ~ just makes them ... Bland . Not all women are tiny and fit , not all men are bulky .', 'listen ... i love lil b but i would not fuck with dej loaf at all . she prob got poison up in her nail polish like that bitch from holes', '@user @user keep calling her a bitch and a whore dude real grown up .']\n",
          "output_type": "stream"
        },
        {
          "output_type": "execute_result",
          "execution_count": 191,
          "data": {
            "text/plain": "['  @user nice new signage . Are you not concerned by Beatlemania - style hysterical crowds crongregating on you …',\n '  A woman who you fucked multiple times saying yo dick small is a compliment you know u hit that spot 😎',\n '  @user @user real talk do you have eyes or were they gouged out by a rapefugee ?',\n '  your girlfriend lookin at me like a groupie in this bitch !',\n '  Hysterical woman like @user',\n '  Me flirting - So tell me about your father ...',\n '  The Philippine Catholic bishops \\' work for migrant workers should focus on families who are \" paying the great ...',\n \"- I AM NOT GOING AFTER YOUR EX BF YOU LIEING SACK OF SHIT ! I ' m done with you dude that ' s why I dumped your ass cause your a lieing 😂😡 bitch\",\n '?                                                            - -                         - -\\n',\n \"+ I AM NOT GOING AFTER YOUR EX BF YOU LIEING SACK OF SHIT ! I'm done with you dude that's why I dumped your ass cause your a lieing 😂 😡 bitch\",\n '?                                                                                                                                    +\\n',\n '  When cuffin season is finally over',\n '  Send home migrants not in need of protection , Peter Dutton tells UN , HEY DUTTON HOW ABOUT THE ONES THAT HAVE STAYED AND NOT LEFT THE COUNTRY WHEN THEY SHOULD OVERSTAYERS ? WHY DONT YOU GO AND ROUND ALL THEM UP ?',\n '- Cory Booker and Kamala Harris competing for Most Hysterical Woman at the Kavanaugh hearings , Coulter hilariously tweeted . And yes , liberals immediately got triggered on Twitter , saying her joke was offensive . To them we say , suck it up , snowflakes .',\n '?                                                                                                                          - -\\n',\n '+ Cory Booker and Kamala Harris competing for Most Hysterical Woman at the Kavanaugh hearings , Coulter hilariously tweeted.And yes , liberals immediately got triggered on Twitter , saying her joke was offensive . To them we say , suck it up , snowflakes .',\n \"- Only that in you which is me can hear what I ' m saying . ~ Baba Ram Dass\",\n '?                                             - -\\n',\n \"+ Only that in you which is me can hear what I'm saying . ~ Baba Ram Dass\",\n \"- Should have let the Libyan Manchester bomber rot in his own country . How many more mass murderers did the Royal Navy import to Britain ? How many more terrorists do the NGO ' s rescue from international waters ? #RefugeesNotWelcome\",\n '?                                                                                                                                                                              - ^^^^^^^^^\\n',\n \"+ Should have let the Libyan Manchester bomber rot in his own country . How many more mass murderers did the Royal Navy import to Britain ? How many more terrorists do the NGO's rescue from international waters ? #RefugeesNotWelcome\",\n '?                                                                                                                                                                               ^^^^^^^^\\n',\n '  More migrants take sea route to #Spain than Italy this year : UN',\n '- Essential reading for those in Scribner , Nebraska who are considering an anti - immigrant ballot measure .',\n '?                                                                               - -\\n',\n '+ Essential reading for those in Scribner , Nebraska who are considering an anti-immigrant ballot measure .',\n '  This account was temporarily inactive due to an irrational woman reporting us to Twitter . What a lack of judgement , shocking . #YesAllMen',\n '  RT @user @user I am flattered tbh . I got an orgasm just by thinking of it you really are good at this .',\n '  Making them look ~ anatomically correct ~ just makes them ... Bland . Not all women are tiny and fit , not all men are bulky .',\n '  listen ... i love lil b but i would not fuck with dej loaf at all . she prob got poison up in her nail polish like that bitch from holes',\n '  @user @user keep calling her a bitch and a whore dude real grown up .']"
          },
          "metadata": {}
        }
      ],
      "execution_count": 191
    },
    {
      "cell_type": "markdown",
      "source": "4. Consider using the difflib package in Python, or the diff utility in the Unix shell, to compare the output of the two tokenisers efficiently.",
      "metadata": {
        "tags": [],
        "cell_id": "00009-50d0aa6c-8241-4ab7-8317-1fbf6612264c",
        "deepnote_cell_type": "markdown"
      }
    },
    {
      "cell_type": "markdown",
      "source": "## Exercise 2",
      "metadata": {
        "tags": [],
        "cell_id": "00006-fe906622-f7e5-4d56-8af6-00e3e16cf078",
        "deepnote_cell_type": "markdown"
      }
    },
    {
      "cell_type": "markdown",
      "source": "Exercise: N-gram Language Modelling <br>\n\nIn this exercise, you will get familiar with n-gram language models using the\nnltk library.<br>\n\nYou can work with the corpora from the two tasks you selected for your project.\nAdditionally, you can download a dataset of news editorials collected and\ndistributed by the organisers of the Conference on Machine Translation from\nhere:\nhttp://data.statmt.org/news-commentary/v16/training-monolingual/news-commentary-v16.en.gz <br>\n\nThis is a sizeable data set (albeit still quite small by the standards of the\nNLP community), and if you find that your computer becomes intolerably slow or\nruns into memory problems, you can just use a subset of the corpus for the\nexercises.<br>",
      "metadata": {
        "tags": [],
        "cell_id": "00007-150da941-6517-4865-998d-1a28e8f33900",
        "deepnote_cell_type": "markdown"
      }
    },
    {
      "cell_type": "markdown",
      "source": "\n1. Remove a subset of about 5000 sentences from the news commentary dataset to\nbe used for evaluation. For the TweetEval datasets, you can use the standard\ntraining/validation split. <br>\n\n",
      "metadata": {
        "tags": [],
        "cell_id": "00008-800772e4-47ee-46a7-bc2b-78f84012b681",
        "deepnote_cell_type": "markdown"
      }
    },
    {
      "cell_type": "code",
      "source": "# Loading in the data\nnews_commentary = open(\"news-commentary-v16.en\", \"r\", encoding=\"utf-8\").read()",
      "metadata": {
        "tags": [],
        "cell_id": "00009-d530dda5-b60d-450a-916d-0ca0df0a9ad6",
        "deepnote_to_be_reexecuted": false,
        "source_hash": "f1bf2a7b",
        "execution_start": 1620138599262,
        "execution_millis": 4491,
        "deepnote_cell_type": "code"
      },
      "outputs": [
        {
          "output_type": "error",
          "ename": "CellOutputSizeError",
          "evalue": "Cell output is too big.",
          "traceback": [
            "\u001b[0;31m---------------------------------------------------------------------------\u001b[0m",
            "\u001b[0;31mCellOutputSizeError\u001b[0m:  The output can't be displayed because it exceeded 30MB in size. Please reduce volume of data sending to output. In case of problems, do not hesitate to contact Deepnote support."
          ]
        }
      ],
      "execution_count": 62
    },
    {
      "cell_type": "code",
      "source": "news_commentary = nltk.sent_tokenize(news_commentary)\n",
      "metadata": {
        "tags": [],
        "cell_id": "00018-cf0b8ccc-7be6-4127-a583-baea28706912",
        "deepnote_to_be_reexecuted": false,
        "source_hash": "9d9bfdb7",
        "execution_start": 1620139008382,
        "execution_millis": 48702,
        "deepnote_cell_type": "code"
      },
      "outputs": [],
      "execution_count": 82
    },
    {
      "cell_type": "code",
      "source": "d = {'sentences': news_commentary[0:5000]}\n\nnews_commentary[0:5000]\npd_news5k = pd.DataFrame(d)\npd_news5k",
      "metadata": {
        "tags": [],
        "cell_id": "00019-948ef9af-60db-4b20-b08c-c805903a6638",
        "deepnote_to_be_reexecuted": false,
        "source_hash": "675c9d25",
        "execution_start": 1620141361439,
        "execution_millis": 113,
        "deepnote_cell_type": "code"
      },
      "outputs": [
        {
          "output_type": "execute_result",
          "execution_count": 121,
          "data": {
            "application/vnd.deepnote.dataframe.v2+json": {
              "row_count": 5000,
              "column_count": 1,
              "columns": [
                {
                  "name": "sentences",
                  "dtype": "object",
                  "stats": {
                    "unique_count": 4946,
                    "nan_count": 0,
                    "categories": [
                      {
                        "name": "Following its targeted killing of Iran's second most powerful leader, the US could well find itself with no alternative but to devote more military resources to the Middle East, a path that could lead to additional Iranian provocations.",
                        "count": 10
                      },
                      {
                        "name": "And that shift would occur at a time of growing challenges to US interests elsewhere in the world.",
                        "count": 10
                      },
                      {
                        "name": "4944 others",
                        "count": 4980
                      }
                    ]
                  }
                },
                {
                  "name": "_deepnote_index_column",
                  "dtype": "int64"
                }
              ],
              "rows_top": [
                {
                  "sentences": "$10,000 Gold?",
                  "_deepnote_index_column": 0
                },
                {
                  "sentences": "SAN FRANCISCO – It has never been easy to have a rational conversation about the value of gold.",
                  "_deepnote_index_column": 1
                },
                {
                  "sentences": "Lately, with gold prices up more than 300% over the last decade, it is harder than ever.",
                  "_deepnote_index_column": 2
                },
                {
                  "sentences": "Just last December, fellow economists Martin Feldstein and Nouriel Roubini each penned op-eds bravely questioning bullish market sentiment, sensibly pointing out gold’s risks.",
                  "_deepnote_index_column": 3
                },
                {
                  "sentences": "Wouldn’t you know it?",
                  "_deepnote_index_column": 4
                },
                {
                  "sentences": "Since their articles appeared, the price of gold has moved up still further.",
                  "_deepnote_index_column": 5
                },
                {
                  "sentences": "Gold prices even hit a record-high $1,300 recently.",
                  "_deepnote_index_column": 6
                },
                {
                  "sentences": "Last December, many gold bugs were arguing that the price was inevitably headed for $2,000.",
                  "_deepnote_index_column": 7
                },
                {
                  "sentences": "Now, emboldened by continuing appreciation, some are suggesting that gold could be headed even higher than that.",
                  "_deepnote_index_column": 8
                },
                {
                  "sentences": "One successful gold investor recently explained to me that stock prices languished for a more than a decade before the Dow Jones index crossed the 1,000 mark in the early 1980’s.",
                  "_deepnote_index_column": 9
                },
                {
                  "sentences": "Since then, the index has climbed above 10,000.",
                  "_deepnote_index_column": 10
                },
                {
                  "sentences": "Now that gold has crossed the magic $1,000 barrier, why can’t it increase ten-fold, too?",
                  "_deepnote_index_column": 11
                },
                {
                  "sentences": "Admittedly, getting to a much higher price for gold is not quite the leap of imagination that it seems.",
                  "_deepnote_index_column": 12
                },
                {
                  "sentences": "After adjusting for inflation, today’s price is nowhere near the all-time high of January 1980.",
                  "_deepnote_index_column": 13
                },
                {
                  "sentences": "Back then, gold hit $850, or well over $2,000 in today’s dollars.",
                  "_deepnote_index_column": 14
                },
                {
                  "sentences": "But January 1980 was arguably a “freak peak” during a period of heightened geo-political instability.",
                  "_deepnote_index_column": 15
                },
                {
                  "sentences": "At $1,300, today’s price is probably more than double very long-term, inflation-adjusted, average gold prices.",
                  "_deepnote_index_column": 16
                },
                {
                  "sentences": "So what could justify another huge increase in gold prices from here?",
                  "_deepnote_index_column": 17
                },
                {
                  "sentences": "One answer, of course, is a complete collapse of the US dollar.",
                  "_deepnote_index_column": 18
                },
                {
                  "sentences": "With soaring deficits, and a rudderless fiscal policy, one does wonder whether a populist administration might recklessly turn to the printing press.",
                  "_deepnote_index_column": 19
                },
                {
                  "sentences": "And if you are really worried about that, gold might indeed be the most reliable hedge.",
                  "_deepnote_index_column": 20
                },
                {
                  "sentences": "Sure, some might argue that inflation-indexed bonds offer a better and more direct inflation hedge than gold.",
                  "_deepnote_index_column": 21
                },
                {
                  "sentences": "But gold bugs are right to worry about whether the government will honor its commitments under more extreme circumstances.",
                  "_deepnote_index_column": 22
                },
                {
                  "sentences": "In fact, as Carmen Reinhart and I discuss in our recent book on the history of financial crises, This Time is Different, cash-strapped governments will often forcibly convert indexed debt to non-indexed debt, precisely so that its value might be inflated away.",
                  "_deepnote_index_column": 23
                },
                {
                  "sentences": "Even the United States abrogated indexation clauses in bond contracts during the Great Depression of the 1930’s.",
                  "_deepnote_index_column": 24
                },
                {
                  "sentences": "So it can happen anywhere.",
                  "_deepnote_index_column": 25
                },
                {
                  "sentences": "Even so, the fact that very high inflation is possible does not make it probable, so one should be cautious in arguing that higher gold prices are being driven by inflation expectations.",
                  "_deepnote_index_column": 26
                },
                {
                  "sentences": "Some have argued instead that gold’s long upward march has been partly driven by the development of new financial instruments that make it easier to trade and speculate in gold.",
                  "_deepnote_index_column": 27
                },
                {
                  "sentences": "There is probably some slight truth – and also a certain degree of irony – to this argument.",
                  "_deepnote_index_column": 28
                },
                {
                  "sentences": "After all, medieval alchemists engaged in what we now consider an absurd search for ways to transform base metals into gold.",
                  "_deepnote_index_column": 29
                },
                {
                  "sentences": "Wouldn’t it be paradoxical, then, if financial alchemy could make an ingot of gold worth dramatically more?",
                  "_deepnote_index_column": 30
                },
                {
                  "sentences": "In my view, the most powerful argument to justify today’s high price of gold is the dramatic emergence of Asia, Latin America, and the Middle East into the global economy.",
                  "_deepnote_index_column": 31
                },
                {
                  "sentences": "As legions of new consumers gain purchasing power, demand inevitably rises, driving up the price of scarce commodities.",
                  "_deepnote_index_column": 32
                },
                {
                  "sentences": "At the same time, emerging-market central banks need to accumulate gold reserves, which they still hold in far lower proportion than do rich-country central banks.",
                  "_deepnote_index_column": 33
                },
                {
                  "sentences": "With the euro looking less appetizing as a diversification play away from the dollar, gold’s appeal has naturally grown.",
                  "_deepnote_index_column": 34
                },
                {
                  "sentences": "So, yes, there are solid fundamentals that arguably support today’s higher gold price, although it is far more debatable whether and to what extent they will continue to support higher prices in the future.",
                  "_deepnote_index_column": 35
                },
                {
                  "sentences": "Indeed, another critical fundamental factor that has been sustaining high gold prices might prove far more ephemeral than globalization.",
                  "_deepnote_index_column": 36
                },
                {
                  "sentences": "Gold prices are extremely sensitive to global interest-rate movements.",
                  "_deepnote_index_column": 37
                },
                {
                  "sentences": "After all, gold pays no interest and even costs something to store.",
                  "_deepnote_index_column": 38
                },
                {
                  "sentences": "Today, with interest rates near or at record lows in many countries, it is relatively cheap to speculate in gold instead of investing in bonds.",
                  "_deepnote_index_column": 39
                },
                {
                  "sentences": "But if real interest rates rise significantly, as well they might someday, gold prices could plummet.",
                  "_deepnote_index_column": 40
                },
                {
                  "sentences": "Most economic research suggests that gold prices are very difficult to predict over the short to medium term, with the odds of gains and losses being roughly in balance.",
                  "_deepnote_index_column": 41
                },
                {
                  "sentences": "It is therefore dangerous to extrapolate from short-term trends.",
                  "_deepnote_index_column": 42
                },
                {
                  "sentences": "Yes, gold has had a great run, but so, too, did worldwide housing prices until a couple of years ago.",
                  "_deepnote_index_column": 43
                },
                {
                  "sentences": "If you are a high-net-worth investor, a sovereign wealth fund, or a central bank, it makes perfect sense to hold a modest proportion of your portfolio in gold as a hedge against extreme events.",
                  "_deepnote_index_column": 44
                },
                {
                  "sentences": "But, despite gold’s heightened allure in the wake of an extraordinary run-up in its price, it remains a very risky bet for most of us.",
                  "_deepnote_index_column": 45
                },
                {
                  "sentences": "Of course, such considerations might have little influence on prices.",
                  "_deepnote_index_column": 46
                },
                {
                  "sentences": "What was true for the alchemists of yore remains true today: gold and reason are often difficult to reconcile.",
                  "_deepnote_index_column": 47
                },
                {
                  "sentences": "“Our” Islamists\nNEW DELHI – Following the death of Libya’s Muammar el-Qaddafi, Libya’s interim government announced the “liberation” of the country.",
                  "_deepnote_index_column": 48
                },
                {
                  "sentences": "It also declared that a system based on sharia (Islamic law), including polygamy, would replace the secular dictatorship that Qaddafi ran for 42 years.",
                  "_deepnote_index_column": 49
                },
                {
                  "sentences": "Swapping one form of authoritarianism for another seems a cruel letdown after seven months of NATO airstrikes in the name of democracy.",
                  "_deepnote_index_column": 50
                },
                {
                  "sentences": "In fact, the Western powers that brought about regime change in Libya have made little effort to prevent its new rulers from establishing a theocracy.",
                  "_deepnote_index_column": 51
                },
                {
                  "sentences": "But this is the price that the West willingly pays in exchange for the privilege of choosing the new leadership.",
                  "_deepnote_index_column": 52
                },
                {
                  "sentences": "Indeed, the cloak of Islam helps to protect the credibility of leaders who might otherwise be seen as foreign puppets.",
                  "_deepnote_index_column": 53
                },
                {
                  "sentences": "For the same reason, the West has condoned the rulers of the oil sheikhdoms for their longstanding alliance with radical clerics.",
                  "_deepnote_index_column": 54
                },
                {
                  "sentences": "For example, the decadent House of Saud, backed by the United States, not only practices Wahhabi Islam – the source of modern Islamic fundamentalism – but also exports this fringe form of the faith, gradually snuffing out more liberal Islamic traditions.",
                  "_deepnote_index_column": 55
                },
                {
                  "sentences": "Yet, when the Saudi Crown Prince died recently, the US stood by silently as the ruling family appointed its most reactionary Islamist as the new heir to the throne.",
                  "_deepnote_index_column": 56
                },
                {
                  "sentences": "So intrinsic have the Arab monarchs become to US interests that the Americans have failed to stop these cloistered royals from continuing to fund Muslim extremist groups and madrasas in other countries.",
                  "_deepnote_index_column": 57
                },
                {
                  "sentences": "From Africa to South and Southeast Asia, Arab petrodollars have played a key role in fomenting militant Islamic fundamentalism that targets the West, Israel, and India as its enemies.",
                  "_deepnote_index_column": 58
                },
                {
                  "sentences": "The US interest in maintaining pliant regimes in oil-rich countries trumps all other considerations.",
                  "_deepnote_index_column": 59
                },
                {
                  "sentences": "With Western support, the oil monarchies, even the most tyrannical, have been able to ride out the Arab Spring, emerging virtually unscathed.",
                  "_deepnote_index_column": 60
                },
                {
                  "sentences": "For the US, the sheikhdoms that make up the Gulf Cooperation Council – Saudi Arabia, Kuwait, Bahrain, Qatar, the United Arab Emirates, and Oman – are critical for geostrategic reasons as well.",
                  "_deepnote_index_column": 61
                },
                {
                  "sentences": "After withdrawing its forces from Iraq, the US is considering using Kuwait as a new military hub to expand its military presence in the Persian Gulf region and foster a US-led “security architecture,” under which its air and naval patrols would be regionally integrated.",
                  "_deepnote_index_column": 62
                },
                {
                  "sentences": "NATO-led regime change in Libya – which holds the world’s largest reserves of the light sweet crude oil that American and European refineries prefer – was not really about ushering in an era of liberal democracy.",
                  "_deepnote_index_column": 63
                },
                {
                  "sentences": "The new Libya faces uncertain times.",
                  "_deepnote_index_column": 64
                },
                {
                  "sentences": "The only certain element is that its new rulers will remain beholden to those who helped to install them.",
                  "_deepnote_index_column": 65
                },
                {
                  "sentences": "US Senator John McCain has already announced that the new Libyan rulers are “willing to reimburse us and our allies” for the costs of effecting regime change.",
                  "_deepnote_index_column": 66
                },
                {
                  "sentences": "America’s troubling ties with Islamist rulers and groups were cemented in the 1980’s, when the Reagan administration used Islam as an ideological tool to spur armed resistance to the Soviet occupation of Afghanistan.",
                  "_deepnote_index_column": 67
                },
                {
                  "sentences": "In 1985, at a White House ceremony attended by several Afghan mujahideen – the jihadists out of which the Taliban and al-Qaeda evolved – Reagan gestured toward his guests and declared, “These gentlemen are the moral equivalent of America’s Founding Fathers.”\nYet the lessons of the anti-Soviet struggle in Afghanistan have already been forgotten, including the need to focus on long-term goals rather than short-term victories.",
                  "_deepnote_index_column": 68
                },
                {
                  "sentences": "The Obama administration’s current effort to strike a Faustian bargain with the Taliban, for example, ignores America’s own experience of the consequences of following the path of expediency.",
                  "_deepnote_index_column": 69
                },
                {
                  "sentences": "Another lesson that has been ignored is the need for caution in training Islamic insurgents and funneling lethal arms to them to help overthrow a regime.",
                  "_deepnote_index_column": 70
                },
                {
                  "sentences": "In Libya, bringing the myriad rebel militias under government control is likely to prove difficult, potentially creating a jihadist citadel at Europe’s southern doorstep.",
                  "_deepnote_index_column": 71
                },
                {
                  "sentences": "Exponents of US policy argue that in war it is sometimes necessary to choose the lesser of two evils.",
                  "_deepnote_index_column": 72
                },
                {
                  "sentences": "Unsavory allies – ranging from Islamist militias to regimes that bankroll militant Islamic fundamentalism overseas – may be an unavoidable price to be paid in the service of larger interests.",
                  "_deepnote_index_column": 73
                },
                {
                  "sentences": "Paradoxically, the US practice of propping up malleable Islamist rulers in the Middle East often results in strong anti-US sentiment, as well as support for more independent and “authentically” Islamist forces.",
                  "_deepnote_index_column": 74
                },
                {
                  "sentences": "When elections are held, it is such autonomous Islamists who often emerge as winners, as in Gaza and Tunisia.",
                  "_deepnote_index_column": 75
                },
                {
                  "sentences": "The fight against Islamist terrorism can succeed only by ensuring that states do not strengthen those forms of Islamic fundamentalism that extol violence as a religious tool.",
                  "_deepnote_index_column": 76
                },
                {
                  "sentences": "Unfortunately, with the US willfully ignoring the lessons of the recent past, the extremists are once again waiting in the wings.",
                  "_deepnote_index_column": 77
                },
                {
                  "sentences": "1929 or 1989?",
                  "_deepnote_index_column": 78
                },
                {
                  "sentences": "PARIS – As the economic crisis deepens and widens, the world has been searching for historical analogies to help us understand what has been happening.",
                  "_deepnote_index_column": 79
                },
                {
                  "sentences": "At the start of the crisis, many people likened it to 1982 or 1973, which was reassuring, because both dates refer to classical cyclical downturns.",
                  "_deepnote_index_column": 80
                },
                {
                  "sentences": "Today, the mood is much grimmer, with references to 1929 and 1931 beginning to abound, even if some governments continue to behave as if the crisis was more classical than exceptional.",
                  "_deepnote_index_column": 81
                },
                {
                  "sentences": "The tendency is either excessive restraint (Europe) or a diffusion of the effort (the United States).",
                  "_deepnote_index_column": 82
                },
                {
                  "sentences": "Europe is being cautious in the name of avoiding debt and defending the euro, whereas the US has moved on many fronts in order not to waste an ideal opportunity to implement badly needed structural reforms.",
                  "_deepnote_index_column": 83
                },
                {
                  "sentences": "For geo-strategists, however, the year that naturally comes to mind, in both politics and economics, is 1989.",
                  "_deepnote_index_column": 84
                },
                {
                  "sentences": "Of course, the fall of the house of Lehman Brothers has nothing to do with the fall of the Berlin Wall.",
                  "_deepnote_index_column": 85
                },
                {
                  "sentences": "Indeed, on the surface it seems to be its perfect antithesis: the collapse of a wall symbolizing oppression and artificial divisions versus the collapse of a seemingly indestructible and reassuring institution of financial capitalism.",
                  "_deepnote_index_column": 86
                },
                {
                  "sentences": "Yet 2008-2009, like 1989, may very well correspond to an epochal change, whose unfolding consequences will be felt for decades.",
                  "_deepnote_index_column": 87
                },
                {
                  "sentences": "The end of the East-West ideological divide and the end of absolute faith in markets are historical turning points.",
                  "_deepnote_index_column": 88
                },
                {
                  "sentences": "And what happens in 2009 may jeopardize some of the positive results of 1989, including the peaceful reunification of Europe and the triumph of democratic principles over nationalist, if not xenophobic, tendencies.",
                  "_deepnote_index_column": 89
                },
                {
                  "sentences": "In 1989, liberal democracy triumphed over the socialist ideology incarnated and promoted by the Soviet Bloc.",
                  "_deepnote_index_column": 90
                },
                {
                  "sentences": "For many of his supporters, it was President Ronald Reagan who, with his deliberate escalation of the arms race, pushed the Soviet economy to the brink, thereby fully demonstrating the superiority of liberal societies and free markets.",
                  "_deepnote_index_column": 91
                },
                {
                  "sentences": "Of course, there are obvious differences between 1989 and now.",
                  "_deepnote_index_column": 92
                },
                {
                  "sentences": "First, and perhaps above all, the revolutions of 1989 and the subsequent collapse of the Soviet Union put an end to global bipolarity.",
                  "_deepnote_index_column": 93
                },
                {
                  "sentences": "By contrast, 2009 is likely to pave the way to a new form of bipolarity, but with China substituting for the Soviet Union.",
                  "_deepnote_index_column": 94
                },
                {
                  "sentences": "Second, whereas democracy and market capitalism appeared as clear – if more fragile than expected – winners in 1989, it is difficult in 2009, with the spread of the global crisis, to distinguish winners from losers.",
                  "_deepnote_index_column": 95
                },
                {
                  "sentences": "Everyone seems to be a loser, even if some are more affected than others.",
                  "_deepnote_index_column": 96
                },
                {
                  "sentences": "Yet, history is unfair, and the US, despite its greater responsibility for today’s global crisis, may emerge in better shape than most countries from the morass.",
                  "_deepnote_index_column": 97
                },
                {
                  "sentences": "In better shape, but not alone.",
                  "_deepnote_index_column": 98
                },
                {
                  "sentences": "As a visiting professor at Harvard and MIT, I am getting a good preview of what the world could look like when the crisis finally passes.",
                  "_deepnote_index_column": 99
                },
                {
                  "sentences": "One senses something like the making of an American-Asian dominated universe.",
                  "_deepnote_index_column": 100
                },
                {
                  "sentences": "From the incredible media lab at MIT to the mathematics and economics departments at Harvard, Asians – Chinese and Indians, in particular – are everywhere, like the Romans in Athens in the first century BC: full of admiration for those from whom they were learning so much, and whom they would overcome in the coming decades.",
                  "_deepnote_index_column": 101
                },
                {
                  "sentences": "But before this new order appears, the world may be faced with spreading disorder, if not outright chaos.",
                  "_deepnote_index_column": 102
                },
                {
                  "sentences": "What, for example, will happen to a country as central and vulnerable as Egypt when hundred of thousands of Egyptians working in the Gulf are forced to return to their homeland as a result of the crisis in the oil-producing countries?",
                  "_deepnote_index_column": 103
                },
                {
                  "sentences": "When the rich get less rich, the poor get poorer.",
                  "_deepnote_index_column": 104
                },
                {
                  "sentences": "And what about the foreign workers who have reached for the “European dream” and are now faced with potential explosions of xenophobia in Europe’s supposedly open countries?",
                  "_deepnote_index_column": 105
                },
                {
                  "sentences": "The consequences of 1989 ended up being less enduring than many observers, including me, would have assumed.",
                  "_deepnote_index_column": 106
                },
                {
                  "sentences": "We can only hope that, in the end, the consequences of 2009 similarly prove to be far less dramatic than we now – intuitively and in our historical reflexes – feel them to be.",
                  "_deepnote_index_column": 107
                },
                {
                  "sentences": "The End of 1945\nNEW YORK – On May 8, 1945, when World War II in Europe officially ended, much of the world lay in ruins.",
                  "_deepnote_index_column": 108
                },
                {
                  "sentences": "But if the human capacity for destruction knows few limits, the ability to start over again is just as remarkable.",
                  "_deepnote_index_column": 109
                },
                {
                  "sentences": "Perhaps that is why mankind has so far managed to survive.",
                  "_deepnote_index_column": 110
                },
                {
                  "sentences": "No doubt, millions of people at the end of the war were too hungry and exhausted to do anything much beyond staying alive.",
                  "_deepnote_index_column": 111
                },
                {
                  "sentences": "But, at the same time, a wave of idealism swept across the wreckage, a collective sense of determination to build a more equal, peaceful, and safer world.",
                  "_deepnote_index_column": 112
                },
                {
                  "sentences": "That is why the war’s great hero, Winston Churchill, was voted out of office in the summer of 1945, even before Japan surrendered.",
                  "_deepnote_index_column": 113
                },
                {
                  "sentences": "Men and women had not risked their lives simply to return to the old days of class privilege and social deprivation.",
                  "_deepnote_index_column": 114
                },
                {
                  "sentences": "They wanted better housing, education, and free health care for all.",
                  "_deepnote_index_column": 115
                },
                {
                  "sentences": "Similar demands were heard all over Europe, where the anti-Nazi or anti-fascist resistance was often led by leftists, or indeed Communists, and prewar conservatives were frequently tainted by collaboration with fascist regimes.",
                  "_deepnote_index_column": 116
                },
                {
                  "sentences": "There was talk of revolution in countries such as France, Italy, and Greece.",
                  "_deepnote_index_column": 117
                },
                {
                  "sentences": "This did not happen, because neither the Western Allies nor the Soviet Union supported it.",
                  "_deepnote_index_column": 118
                },
                {
                  "sentences": "Stalin was content to settle for an empire in Eastern Europe.",
                  "_deepnote_index_column": 119
                },
                {
                  "sentences": "But even Charles de Gaulle, a resistance leader of the right, had to accept Communists in his first postwar government, and he agreed to nationalize industries and banks.",
                  "_deepnote_index_column": 120
                },
                {
                  "sentences": "The swing to the left, to social-democratic welfare states, occurred all over Western Europe.",
                  "_deepnote_index_column": 121
                },
                {
                  "sentences": "It was part of the 1945 consensus.",
                  "_deepnote_index_column": 122
                },
                {
                  "sentences": "A different kind of revolution was taking place in Europe’s former colonies in Asia, where native peoples had no desire to be ruled once more by Western powers, which had been so ignominiously defeated by Japan.",
                  "_deepnote_index_column": 123
                },
                {
                  "sentences": "Vietnamese, Indonesians, Filipinos, Burmese, Indians, and Malays wanted their freedom, too.",
                  "_deepnote_index_column": 124
                },
                {
                  "sentences": "These aspirations were often voiced in the United Nations, founded in 1945.",
                  "_deepnote_index_column": 125
                },
                {
                  "sentences": "The UN, like the dream of European unity, was also part of the 1945 consensus.",
                  "_deepnote_index_column": 126
                },
                {
                  "sentences": "For a short while, many prominent people – Albert Einstein, for one – believed that only a world government would be able to ensure global peace.",
                  "_deepnote_index_column": 127
                },
                {
                  "sentences": "This dream quickly faded when the Cold War divided the world into two hostile blocs.",
                  "_deepnote_index_column": 128
                },
                {
                  "sentences": "But in some ways the 1945 consensus, in the West, was strengthened by Cold War politics.",
                  "_deepnote_index_column": 129
                },
                {
                  "sentences": "Communism, still wrapped in the laurel leaf of anti-fascism, had a wide intellectual and emotional appeal, not only in the so-called Third World, but also in Western Europe.",
                  "_deepnote_index_column": 130
                },
                {
                  "sentences": "Social democracy, with its promise of greater equality and opportunities for all, served as an ideological antidote.",
                  "_deepnote_index_column": 131
                },
                {
                  "sentences": "Most social democrats were in fact fiercely anti-communist.",
                  "_deepnote_index_column": 132
                },
                {
                  "sentences": "Today, 70 years later, much of the 1945 consensus no longer survives.",
                  "_deepnote_index_column": 133
                },
                {
                  "sentences": "Few people can muster great enthusiasm for the UN.",
                  "_deepnote_index_column": 134
                },
                {
                  "sentences": "The European dream is in crisis.",
                  "_deepnote_index_column": 135
                },
                {
                  "sentences": "And the post-war social-democratic welfare state is being eroded more and more every day.",
                  "_deepnote_index_column": 136
                },
                {
                  "sentences": "The rot began during the 1980s, under Ronald Reagan and Margaret Thatcher.",
                  "_deepnote_index_column": 137
                },
                {
                  "sentences": "Neoliberals attacked the expense of entitlement programs and the vested interests of trade unions.",
                  "_deepnote_index_column": 138
                },
                {
                  "sentences": "Citizens, it was thought, had to become more self-reliant; government welfare programs were making everyone soft and dependent.",
                  "_deepnote_index_column": 139
                },
                {
                  "sentences": "In Thatcher’s famous words, there was no such thing as “society,” only families and individuals who ought to be taking care of themselves.",
                  "_deepnote_index_column": 140
                },
                {
                  "sentences": "But the 1945 consensus was dealt a much greater blow precisely when we all rejoiced at the collapse of the Soviet Empire, the other great twentieth-century tyranny.",
                  "_deepnote_index_column": 141
                },
                {
                  "sentences": "In 1989, it looked as if the dark legacy of World War II, the enslavement of Eastern Europe, was finally over.",
                  "_deepnote_index_column": 142
                },
                {
                  "sentences": "And in many ways, it was.",
                  "_deepnote_index_column": 143
                },
                {
                  "sentences": "But much else collapsed with the Soviet model.",
                  "_deepnote_index_column": 144
                },
                {
                  "sentences": "Social democracy lost its raison d’être as an antidote to Communism.",
                  "_deepnote_index_column": 145
                },
                {
                  "sentences": "All forms of leftist ideology – indeed, everything that smacked of collective idealism – came to be viewed as misguided utopianism that could lead only to the Gulag.",
                  "_deepnote_index_column": 146
                },
                {
                  "sentences": "Neoliberalism filled the vacuum, creating vast wealth for some people, but at the expense of the ideal of equality that had emerged from World War II.",
                  "_deepnote_index_column": 147
                },
                {
                  "sentences": "The extraordinary reception of Thomas Piketty’s Capital in the Twenty-First Century shows how keenly the consequences of the collapse of the left have been felt.",
                  "_deepnote_index_column": 148
                },
                {
                  "sentences": "In recent years, other ideologies have also emerged to fill the human need for collective ideals.",
                  "_deepnote_index_column": 149
                },
                {
                  "sentences": "The rise of right-wing populism reflects revived yearnings for pure national communities that keep immigrants and minorities out.",
                  "_deepnote_index_column": 150
                },
                {
                  "sentences": "And, perversely, American neo-conservatives have transformed the internationalism of the old left by seeking to impose a democratic world order by US military force.",
                  "_deepnote_index_column": 151
                },
                {
                  "sentences": "The answer to these alarming developments is not nostalgia.",
                  "_deepnote_index_column": 152
                },
                {
                  "sentences": "We cannot simply return to the past.",
                  "_deepnote_index_column": 153
                },
                {
                  "sentences": "Too much has changed.",
                  "_deepnote_index_column": 154
                },
                {
                  "sentences": "But a new aspiration toward social and economic equality, and international solidarity, is badly needed.",
                  "_deepnote_index_column": 155
                },
                {
                  "sentences": "It cannot be the same as the 1945 consensus, but we would do well, on this anniversary, to remember why that consensus was forged in the first place.",
                  "_deepnote_index_column": 156
                },
                {
                  "sentences": "Remembering the Miracle of 1989\nSTOCKHOLM – This month marks 30 years since Europe – and human civilization generally – began to undergo a miraculous transformation that is now etched in the world’s memory.",
                  "_deepnote_index_column": 157
                },
                {
                  "sentences": "By the summer of 1989, the Soviet Union was already in terminal decline.",
                  "_deepnote_index_column": 158
                },
                {
                  "sentences": "The only question was whether communism would disintegrate peacefully, or amid an explosion of violence and devastation.",
                  "_deepnote_index_column": 159
                },
                {
                  "sentences": "Following its targeted killing of Iran's second most powerful leader, the US could well find itself with no alternative but to devote more military resources to the Middle East, a path that could lead to additional Iranian provocations.",
                  "_deepnote_index_column": 160
                },
                {
                  "sentences": "And that shift would occur at a time of growing challenges to US interests elsewhere in the world.",
                  "_deepnote_index_column": 161
                },
                {
                  "sentences": "The targeted killing by the United States of one of Iran's top military leaders represents a significant symbolic defeat for the Iranian regime, but it does not augur all-out war.",
                  "_deepnote_index_column": 162
                },
                {
                  "sentences": "After all, Iran and the US have already been at war for decades, and neither side has an interest in an uncontrolled military escalation now.",
                  "_deepnote_index_column": 163
                },
                {
                  "sentences": "As in previous years, Project Syndicate asked its commentators to offer their best guesses about the events and trends that will define the coming 12 months.",
                  "_deepnote_index_column": 164
                },
                {
                  "sentences": "If there is one common theme in this year's selection, it is that what happens in 2020 will weigh on the present for many years to come.",
                  "_deepnote_index_column": 165
                },
                {
                  "sentences": "In the Soviet Union itself, Mikhail Gorbachev’s policies of glasnost and perestroika had opened the floodgates of change, but Gorbachev still seemed to believe that the communist system could be salvaged through reform.",
                  "_deepnote_index_column": 166
                },
                {
                  "sentences": "Meanwhile, on the periphery of the Soviet empire, many feared that a potential collapse of the system would bring Red Army tanks back into streets and city squares.",
                  "_deepnote_index_column": 167
                },
                {
                  "sentences": "Memories of Soviet crackdowns in Berlin in 1953, Budapest in 1956, and Prague in 1968 remained vivid, as did the severe repression of the Baltic states in the run-up to World War II.",
                  "_deepnote_index_column": 168
                },
                {
                  "sentences": "Born in terror, the Soviet Union had been sustained by jackboots and secret police.",
                  "_deepnote_index_column": 169
                },
                {
                  "sentences": "Nobody knew if it could survive without resorting to brute force once again.",
                  "_deepnote_index_column": 170
                },
                {
                  "sentences": "It was a nervous time for Europe.",
                  "_deepnote_index_column": 171
                },
                {
                  "sentences": "But it was also a time of change.",
                  "_deepnote_index_column": 172
                },
                {
                  "sentences": "Efforts to suppress Poland’s independent trade union, Solidarity(Solidarność), had failed.",
                  "_deepnote_index_column": 173
                },
                {
                  "sentences": "Forced to compromise, the Polish communist regime held semi-free elections in June 1989, in which Solidarity won all but one of the freely contested seats.",
                  "_deepnote_index_column": 174
                },
                {
                  "sentences": "Meanwhile, in the three Baltic republics (Estonia, Latvia, and Lithuania), broad-based “people’s fronts” had already been calling for more autonomy from the Soviet Union, and soon began demanding full independence.",
                  "_deepnote_index_column": 175
                },
                {
                  "sentences": "On August 23, two million people formed a human chain stretching 372 miles (600 kilometers) through Estonia, Latvia, and Lithuania, calling for independence.",
                  "_deepnote_index_column": 176
                },
                {
                  "sentences": "The timing of the so-called Baltic Way was no accident.",
                  "_deepnote_index_column": 177
                },
                {
                  "sentences": "Exactly 50 years earlier, Hitler and Stalin had entered into a secret non-aggression pact, whereby Eastern Europe was to be divided between Nazi Germany and the Soviet Union.",
                  "_deepnote_index_column": 178
                },
                {
                  "sentences": "That paved the way for World War II, and immediately spelled the end of freedom and independence in the Baltics.",
                  "_deepnote_index_column": 179
                },
                {
                  "sentences": "But the central, potentially explosive arena in 1989 was the so-called German Democratic Republic (GDR) – that is, communist East Germany.",
                  "_deepnote_index_column": 180
                },
                {
                  "sentences": "This was essentially a garrison state, built for the protection of five Soviet armies – spanning 19 divisions and comprising 500,000 soldiers – that had been stationed there ever since 1945.",
                  "_deepnote_index_column": 181
                },
                {
                  "sentences": "Although the Berlin Wall became a powerful symbol of Europe’s bifurcation after August 1961, it is worth remembering why it was needed in the first place: to prevent the collapse of the GDR, and thus of the Soviet outer empire in Europe.",
                  "_deepnote_index_column": 182
                },
                {
                  "sentences": "A few days before the human chain formed in the Baltics, some 600-700 East German citizens had held a peaceful demonstration during which they crossed the barbed wire near Sopron, a small Hungarian town on the border with Austria.",
                  "_deepnote_index_column": 183
                },
                {
                  "sentences": "What became known as the Pan-European Picnic was the largest escape from behind the Iron Curtain since the building of the Berlin Wall.",
                  "_deepnote_index_column": 184
                },
                {
                  "sentences": "More to the point, it had been carefully planned to test the reaction of the Soviet authorities.",
                  "_deepnote_index_column": 185
                },
                {
                  "sentences": "In the Kremlin, the Soviet leadership – or Gorbachev, at least – continued to believe that the empire was safe and could be reformed.",
                  "_deepnote_index_column": 186
                },
                {
                  "sentences": "The Baltic Way was tolerated, and the Pan-European Picnic was simply ignored.",
                  "_deepnote_index_column": 187
                },
                {
                  "sentences": "But the latent potential of those demonstrations soon became apparent.",
                  "_deepnote_index_column": 188
                },
                {
                  "sentences": "People began to flee the GDR by the thousands.",
                  "_deepnote_index_column": 189
                },
                {
                  "sentences": "Soon enough, the Hungarian authorities had no alternative but to open the border.",
                  "_deepnote_index_column": 190
                },
                {
                  "sentences": "Droves of East Germans flooded into Czechoslovakia in search of a route to the West.",
                  "_deepnote_index_column": 191
                },
                {
                  "sentences": "On November 9, fumbling GDR leaders even opened the Berlin Wall itself.",
                  "_deepnote_index_column": 192
                },
                {
                  "sentences": "The East German state would be gone in less than a year.",
                  "_deepnote_index_column": 193
                },
                {
                  "sentences": "Following democratic elections in March 1990, East Germans decided to merge with the Federal Republic of Germany.",
                  "_deepnote_index_column": 194
                },
                {
                  "sentences": "With the GDR gone, the collapse of the Soviet empire was all but complete.",
                  "_deepnote_index_column": 195
                },
                {
                  "sentences": "Some think that the momentous change that began in 1989 was inevitable.",
                  "_deepnote_index_column": 196
                },
                {
                  "sentences": "They would do well to remember that in June of the same year, China’s elderly rulers had deployed tanks to crush (literally) the peaceful freedom movement in Tiananmen Square.",
                  "_deepnote_index_column": 197
                },
                {
                  "sentences": "And there were plenty of communist leaders urging a “Chinese solution” for the demonstrations of 1989.",
                  "_deepnote_index_column": 198
                },
                {
                  "sentences": "In fact, at the Soviet command post just south of Berlin (which had served as command center for the German Army during World War II, and which had been seized from Hitler decades earlier), Red Army marshals were awaiting orders to march in and save the empire by whatever means necessary.",
                  "_deepnote_index_column": 199
                },
                {
                  "sentences": "No one can know what would have happened if more conservative forces within the Kremlin had prevailed.",
                  "_deepnote_index_column": 200
                },
                {
                  "sentences": "Most likely, there would have been widespread disorder and violence across much of the region, which would have put the West under substantial pressure to intervene.",
                  "_deepnote_index_column": 201
                },
                {
                  "sentences": "Open war would have been a distinct possibility.",
                  "_deepnote_index_column": 202
                },
                {
                  "sentences": "After all, large empires throughout history have generally gone out with a bang.",
                  "_deepnote_index_column": 203
                },
                {
                  "sentences": "If anything, the Soviet experience was an exception.",
                  "_deepnote_index_column": 204
                },
                {
                  "sentences": "Thankfully, that order to the Red Army was never issued.",
                  "_deepnote_index_column": 205
                },
                {
                  "sentences": "Part of the reason was that Soviet leaders believed, mistakenly, that a crackdown was unnecessary, and that the system would survive.",
                  "_deepnote_index_column": 206
                },
                {
                  "sentences": "But it was also because democratic forces were starting to assert themselves within Russia itself.",
                  "_deepnote_index_column": 207
                },
                {
                  "sentences": "The rising leader in Moscow was Boris Yeltsin, who held no attachment to the nostalgia of an overextended and unsustainable empire.",
                  "_deepnote_index_column": 208
                },
                {
                  "sentences": "Thirty years ago, Europe experienced a truly miraculous few months.",
                  "_deepnote_index_column": 209
                },
                {
                  "sentences": "Today, we should honor not only those who fought for change, but also those who refused to send out the tanks.",
                  "_deepnote_index_column": 210
                },
                {
                  "sentences": "Blood could have flowed through the streets of Europe once again, but it did not.",
                  "_deepnote_index_column": 211
                },
                {
                  "sentences": "The Lost Promise of 1989\nBERLIN – After the collapse of communism in Europe in 1989, many dreamed of building a united and free continent with the European Union at its core.",
                  "_deepnote_index_column": 212
                },
                {
                  "sentences": "But 30 years later, Europeans have awoken to a new reality.",
                  "_deepnote_index_column": 213
                },
                {
                  "sentences": "In Western Europe, political leaders are vetoing further enlargement of the bloc out of fear that Eastern Europeans are not ready to embrace liberal values.",
                  "_deepnote_index_column": 214
                },
                {
                  "sentences": "And in Central and Eastern Europe, there is growing resentment toward Western Europe over its response to immigration and other issues.",
                  "_deepnote_index_column": 215
                },
                {
                  "sentences": "Following its targeted killing of Iran's second most powerful leader, the US could well find itself with no alternative but to devote more military resources to the Middle East, a path that could lead to additional Iranian provocations.",
                  "_deepnote_index_column": 216
                },
                {
                  "sentences": "And that shift would occur at a time of growing challenges to US interests elsewhere in the world.",
                  "_deepnote_index_column": 217
                },
                {
                  "sentences": "The targeted killing by the United States of one of Iran's top military leaders represents a significant symbolic defeat for the Iranian regime, but it does not augur all-out war.",
                  "_deepnote_index_column": 218
                },
                {
                  "sentences": "After all, Iran and the US have already been at war for decades, and neither side has an interest in an uncontrolled military escalation now.",
                  "_deepnote_index_column": 219
                },
                {
                  "sentences": "As in previous years, Project Syndicate asked its commentators to offer their best guesses about the events and trends that will define the coming 12 months.",
                  "_deepnote_index_column": 220
                },
                {
                  "sentences": "If there is one common theme in this year's selection, it is that what happens in 2020 will weigh on the present for many years to come.",
                  "_deepnote_index_column": 221
                },
                {
                  "sentences": "These dynamics were on full display this month in the qualifying rounds for the Euro 2020 soccer tournament, where a match between England and Bulgaria became a contest between two fundamentally different notions of European identity.",
                  "_deepnote_index_column": 222
                },
                {
                  "sentences": "The match, held in Sofia, had to be paused twice for the home-team fans to be warned against racist behavior, including Nazi salutes and monkey chants directed toward England’s black players.",
                  "_deepnote_index_column": 223
                },
                {
                  "sentences": "After the game, British elite opinion was united in a fever of moral righteousness against the perceived barbarity of the Bulgarian fans.",
                  "_deepnote_index_column": 224
                },
                {
                  "sentences": "With multiculturalism having become a central part of the British national story over the last 30 years, many ethnic minorities worry that continental Europe’s perceived racism is a throwback to an ugly era of inequality and exclusion.",
                  "_deepnote_index_column": 225
                },
                {
                  "sentences": "Hence, one of the ironies of the Euro 2020 episode is that it is being cited as further evidence in support of the United Kingdom’s decision to leave the EU.",
                  "_deepnote_index_column": 226
                },
                {
                  "sentences": "According to the pro-Brexit camp, ending automatic immigration from Europe will make it easier for people from India, Bangladesh, Pakistan, and the Caribbean to settle in the UK.",
                  "_deepnote_index_column": 227
                },
                {
                  "sentences": "Viewed from the Bulgarian side, though, Britain’s moral proselytizing looks like hypocrisy.",
                  "_deepnote_index_column": 228
                },
                {
                  "sentences": "After all, Bulgarian and Romanian immigrants were the targets of racist rhetoric during the 2016 Brexit referendum campaign.",
                  "_deepnote_index_column": 229
                },
                {
                  "sentences": "And as many in the Bulgarian media have pointed out, England’s own racist hooligans were responsible for the deadly disaster at Heysel Stadium in Belgium in 1985.",
                  "_deepnote_index_column": 230
                },
                {
                  "sentences": "If the motive behind Brexit is to preserve quintessential Englishness, Eastern Europeans pose no greater threat than multiculturalism does.",
                  "_deepnote_index_column": 231
                },
                {
                  "sentences": "In The Light that Failed, a brilliant look back at the legacy of 1989, Ivan Krastev of Vienna’s Institute for Human Sciences and Stephen Holmes of New York University argue that the fall of the Berlin Wall marked the beginning of an age of imitation, rather than “the end of history.”\nWhen former Soviet bloc countries in Central and Eastern Europe started trying to replicate the culture, values, and legal frameworks of Western Europe, those dreaming of a free and unified Europe had plenty to cheer about.",
                  "_deepnote_index_column": 232
                },
                {
                  "sentences": "The problem is that millions of people in these countries realized that if the goal was to become just like Germans or the British, it would be easier simply to move to those countries, rather than undergo the painful process of transforming their societies into simulacra of others.",
                  "_deepnote_index_column": 233
                },
                {
                  "sentences": "As a result, one in five Bulgarians – disproportionately comprising the most liberal and best-educated segment of the population – emigrated to Western Europe.",
                  "_deepnote_index_column": 234
                },
                {
                  "sentences": "As Krastev and Holmes show, those left behind have increasingly compared their own prospects not to those of their parents, but to the lucky elite who resettled to live the Western dream.",
                  "_deepnote_index_column": 235
                },
                {
                  "sentences": "This has led to widespread frustration and anger toward the post-communist class of liberal reformers in Central and Eastern Europe.",
                  "_deepnote_index_column": 236
                },
                {
                  "sentences": "Not only did these Western-oriented elites fail to meet the unrealistic expectations of Western imitation; they also allowed for a mass exodus of talent.",
                  "_deepnote_index_column": 237
                },
                {
                  "sentences": "When the refugee crisis erupted in 2015, it fed into already deepening fears of demographic extinction among post-communist countries’ remaining native-born populations.",
                  "_deepnote_index_column": 238
                },
                {
                  "sentences": "And as we have seen in recent years, these anxieties have created an ideal political environment for illiberal populist and nationalist politicians like Hungarian Prime Minister Viktor Orbán and Poland’s de facto ruler, Jarosław Kaczyński.",
                  "_deepnote_index_column": 239
                },
                {
                  "sentences": "“While the East is still homogenous and mono-ethnic,” Krastev and Holmes write, “the West has become, as a result of what anti-liberal politicians consider a thoughtless and suicidal immigration policy, heterogenous and multi-ethnic.”\nAs a result, the age of imitation – with its tacit acceptance of Western superiority – has come to a decisive end.",
                  "_deepnote_index_column": 240
                },
                {
                  "sentences": "A similar process of inverse cultural mirroring was on display in the English-Bulgarian soccer match and its aftermath.",
                  "_deepnote_index_column": 241
                },
                {
                  "sentences": "Both sides claimed to be morally appalled by the actions of the other.",
                  "_deepnote_index_column": 242
                },
                {
                  "sentences": "While Britain has gone from implicitly tolerating racism to celebrating multiculturalism over the past 30 years, it has also developed an allergy to freedom of movement from Central and Eastern Europe.",
                  "_deepnote_index_column": 243
                },
                {
                  "sentences": "Bulgaria, by contrast, very much wants to remain in the EU, but has become terrified of further demographic change fueled by emigration and inflows of newcomers from the Middle East and elsewhere.",
                  "_deepnote_index_column": 244
                },
                {
                  "sentences": "The situation doubtless would look perverse to an onlooker visiting from 1989.\nWho would have thought that Britain would be fleeing the EU, or that those advocating it would base their case on an argument in favor of ethnic diversity?",
                  "_deepnote_index_column": 245
                },
                {
                  "sentences": "And how many Central and Eastern Europeans would have predicted that their own governments would be trying to recast the EU as an illiberal project?",
                  "_deepnote_index_column": 246
                },
                {
                  "sentences": "As is often the case, deep historical shifts tend to show up first in popular culture, and only then in formal politics.",
                  "_deepnote_index_column": 247
                },
                {
                  "sentences": "That is why we should look at the complex legacy of 1989 not only in the formal celebrations being held in Berlin, but also in the stands of a soccer stadium in Sofia.",
                  "_deepnote_index_column": 248
                },
                {
                  "sentences": "Modernity with Chinese Characteristics\nHONG KONG – At the start of the 19th National Congress of the Chinese Communist Party (CCP) this month, President Xi Jinping unveiled his “two-stage development plan” to turn China into a “modern socialist state” by 2035.",
                  "_deepnote_index_column": 249
                },
                {
                  "sentences": "Since then, commentators have furiously debated the theme of “China rising” and Xi’s concentration of power in his own hands.",
                  "_deepnote_index_column": 250
                },
                {
                  "sentences": "They are missing the point.",
                  "_deepnote_index_column": 251
                },
                {
                  "sentences": "In fact, Xi’s plan is far more comprehensive and forward-looking than most observers seem to think.",
                  "_deepnote_index_column": 252
                },
                {
                  "sentences": "Much like his predecessors Mao Zedong and Deng Xiaoping, Xi has established a strategy for transforming China into a “prosperous, strong, democratic, culturally advanced, harmonious, and beautiful” country over the next decades.",
                  "_deepnote_index_column": 253
                },
                {
                  "sentences": "The key to success will be the balance between modernity and CCP-led socialism.",
                  "_deepnote_index_column": 254
                },
                {
                  "sentences": "When Xi took over as leader of the CCP in 2012, deep cracks had appeared in both the development model bequeathed to him by Deng and the dominant Western neoliberal model, based on free and open markets.",
                  "_deepnote_index_column": 255
                },
                {
                  "sentences": "China’s rapid industrial growth had brought rampant corruption, growing income inequality, and high levels of pollution.",
                  "_deepnote_index_column": 256
                },
                {
                  "sentences": "Western countries, too, were facing rising inequality, as they reeled from a global crisis of their own making – a crisis that, among other things, weakened their appetite for Chinese imports.",
                  "_deepnote_index_column": 257
                },
                {
                  "sentences": "Recognizing that sustainable development would be possible only within a context of social stability and credible, transparent governance, Xi devoted the last five years to an unprecedented anti-corruption campaign that has brought down 440 senior officials.",
                  "_deepnote_index_column": 258
                },
                {
                  "sentences": "He also implemented more than 1,500 reform measures designed to rebalance the economy, thereby stabilizing annual GDP growth at a “new normal” rate of 6.7%, on average, during his first term.",
                  "_deepnote_index_column": 259
                },
                {
                  "sentences": "Xi’s first term thus laid the groundwork for the ambitious plan that he unveiled at the 19th National Congress.",
                  "_deepnote_index_column": 260
                },
                {
                  "sentences": "That plan establishes a clear and realistic short-term objective of making China a “moderately prosperous society” by 2021, including by increasing per capita income to more than $12,000 per year, the World Bank threshold for a high-income economy.",
                  "_deepnote_index_column": 261
                },
                {
                  "sentences": "Xi’s report also sets out a longer-term strategy for realizing Xi’s much-touted “China Dream” – that is, the country’s “rejuvenation” and establishment as a global leader, on par with the United States and other advanced countries – by 2049.",
                  "_deepnote_index_column": 262
                },
                {
                  "sentences": "According to Xi’s vision, a transparent, accountable, empowered, and socially responsible CCP will act as the guardian of this transition.",
                  "_deepnote_index_column": 263
                },
                {
                  "sentences": "It is a perfectly logical, albeit complex plan.",
                  "_deepnote_index_column": 264
                },
                {
                  "sentences": "Yet it seems somewhat incomprehensible to people outside China.",
                  "_deepnote_index_column": 265
                },
                {
                  "sentences": "This may be because, unlike the standard Western model of competitive party politics that uses periodic elections to direct policy, the Chinese development model relies on a one-party leadership’s ability to learn and adapt its agenda accordingly.",
                  "_deepnote_index_column": 266
                },
                {
                  "sentences": "For a country as large and diverse as China, this approach makes sense, as it balances stability with flexibility.",
                  "_deepnote_index_column": 267
                },
                {
                  "sentences": "The country’s development is guided not by outcomes in decentralized markets, but by the choices of a central government, which presides over the provision of public goods, sets rules, and manages institutions.",
                  "_deepnote_index_column": 268
                },
                {
                  "sentences": "In order to avoid the types of social disruption that political competition could entail, the central government also appoints key provincial and municipal officials and resolves disputes among regions.",
                  "_deepnote_index_column": 269
                },
                {
                  "sentences": "Meanwhile, regional and municipal governments engage in policy experimentation at the local level, where markets and communities interact, with the results of those experiments informing national policy.",
                  "_deepnote_index_column": 270
                },
                {
                  "sentences": "Regional competition not only fuels overall economic growth; it also ensures that the particular needs of each area, from megacities like Beijing to the tiny villages that dot China’s countryside, are met.",
                  "_deepnote_index_column": 271
                },
                {
                  "sentences": "As the situation on the ground changes, with new solutions often creating new and unforeseeable problems, continual adaptation at every level is vital.",
                  "_deepnote_index_column": 272
                },
                {
                  "sentences": "Of course, the predominance of the state does not mean that markets do not have an important role to play.",
                  "_deepnote_index_column": 273
                },
                {
                  "sentences": "But that role is often misunderstood.",
                  "_deepnote_index_column": 274
                },
                {
                  "sentences": "In recent decades, China used state-owned enterprises (SOEs) to build key infrastructure, in order to support the development of China’s markets.",
                  "_deepnote_index_column": 275
                },
                {
                  "sentences": "Today, SOEs still play an important role in social engineering and research and development, but their business models are under pressure from globalization and disruptive technologies.",
                  "_deepnote_index_column": 276
                },
                {
                  "sentences": "That is why Xi has included in his plan measures to support the continued opening of markets, including the use of competition law to enable markets to dictate prices, improve resource allocation, and boost productivity.",
                  "_deepnote_index_column": 277
                },
                {
                  "sentences": "But market liberalization, in a context of globalization and rapid technological change, has also given rise to another potentially damaging trend: the emergence of a few ultra-dominant tech giants.",
                  "_deepnote_index_column": 278
                },
                {
                  "sentences": "Moreover, market liberalization has often outpaced progress in regulation and enforcement, allowing for abuses like speculation and tax avoidance.",
                  "_deepnote_index_column": 279
                },
                {
                  "sentences": "Given this, China’s government has, in recent years, strengthened regulation and enforcement in virtually all sectors.",
                  "_deepnote_index_column": 280
                },
                {
                  "sentences": "It is this apparent contradiction – between the stated objective of liberalizing markets and the reality of tightened regulations – that seems to confuse outsiders.",
                  "_deepnote_index_column": 281
                },
                {
                  "sentences": "But the fact is that rising social imbalances can be addressed only by effective government intervention that avoids state capture or the kind of paralysis that can arise from excessive political competition.",
                  "_deepnote_index_column": 282
                },
                {
                  "sentences": "Another seemingly contradictory element of Xi’s plan is its insistence on party leadership in all national affairs, alongside a pledge to strengthen the rule of law.",
                  "_deepnote_index_column": 283
                },
                {
                  "sentences": "But, again, a closer look reveals a straightforward logic: the transition to a future in which the rule of law is paramount will require China to overcome its legacy of bureaucratic silos that entrench resistance to reform from vested interests.",
                  "_deepnote_index_column": 284
                },
                {
                  "sentences": "Doing so will demand strong leadership.",
                  "_deepnote_index_column": 285
                },
                {
                  "sentences": "In a world comprising a diverse array of countries, each with its own complex, dynamic, and evolving system, there can be no one-size-fits-all development path.",
                  "_deepnote_index_column": 286
                },
                {
                  "sentences": "Though countries may all aspire toward similar lifestyles, business environments, and social systems, they will get there in their own way, determined according to their particular needs, preferences, structures, and legacies.",
                  "_deepnote_index_column": 287
                },
                {
                  "sentences": "For China, that way has now been mapped, with the understanding that the map can and will be revised as needed.",
                  "_deepnote_index_column": 288
                },
                {
                  "sentences": "One Hundred Years of Ineptitude\nBERLIN – The global financial and economic crisis that began in 2008 was the greatest economic stress-test since the Great Depression, and the greatest challenge to social and political systems since World War II.",
                  "_deepnote_index_column": 289
                },
                {
                  "sentences": "It not only put financial markets and currencies at risk; it also exposed serious regulatory and governance shortcomings that have yet to be fully addressed.",
                  "_deepnote_index_column": 290
                },
                {
                  "sentences": "In fact, the 2008 crisis will most likely be remembered as a watershed moment, but not because it led to reforms that strengthened economic resilience and removed vulnerabilities.",
                  "_deepnote_index_column": 291
                },
                {
                  "sentences": "On the contrary, leaders’ failure to discern, much less act on, the lessons of the Great Recession may open the way for a series of fresh crises, economic and otherwise, in the coming decades.",
                  "_deepnote_index_column": 292
                },
                {
                  "sentences": "However serious those crises turn out to be, historians a century from now will likely despair at our shortsightedness.",
                  "_deepnote_index_column": 293
                },
                {
                  "sentences": "They will note that analysts and regulators were narrowly focused on fixing the financial system by strengthening national oversight regimes.",
                  "_deepnote_index_column": 294
                },
                {
                  "sentences": "While this was a worthy goal, historians will point out, it was far from the only imperative.",
                  "_deepnote_index_column": 295
                },
                {
                  "sentences": "To prepare the world to confront the challenges posed by globalization and technological development in a way that supports sustainable and equitable growth, governance institutions and regulations at both the national and international levels must be drastically improved.",
                  "_deepnote_index_column": 296
                },
                {
                  "sentences": "Yet not nearly enough has been invested in this effort.",
                  "_deepnote_index_column": 297
                },
                {
                  "sentences": "Beyond regional bodies like the European Union, international financial governance has remained largely untouched.",
                  "_deepnote_index_column": 298
                },
                {
                  "sentences": "Worse, because the partial fixes to the financial system will enable even more globalization, they will end up making matters worse, as strain on already-inadequate governance and regulatory frameworks increases, not only in finance, but also in other economic and technological fields.",
                  "_deepnote_index_column": 299
                },
                {
                  "sentences": "Meanwhile, enormous financial investments focused on securing a higher rate of return are likely to fuel technological innovation, further stressing regulatory systems in finance and beyond.",
                  "_deepnote_index_column": 300
                },
                {
                  "sentences": "Major technological advances fueled by cheap money can cause markets to change so fast that policy and institutional change cannot keep up.",
                  "_deepnote_index_column": 301
                },
                {
                  "sentences": "And new markets can emerge that offer huge payoffs for early adopters or investors, who benefit from remaining several steps ahead of national and international regulators.",
                  "_deepnote_index_column": 302
                },
                {
                  "sentences": "This is what happened in the run-up to the 2008 crisis.",
                  "_deepnote_index_column": 303
                },
                {
                  "sentences": "New technology-enabled financial instruments created opportunities for some to make huge amounts of money.",
                  "_deepnote_index_column": 304
                },
                {
                  "sentences": "But regulators were unable to keep up with the innovations, which ended up generating risks that affected the entire economy.",
                  "_deepnote_index_column": 305
                },
                {
                  "sentences": "This points to a fundamental difference between global crises of the twenty-first century and, say, the Great Depression in the 1930s or, indeed, any past stock-market crashes.",
                  "_deepnote_index_column": 306
                },
                {
                  "sentences": "Because of the financial sector’s growth, more actors benefit from under-regulation and weak governance in the short term, making today’s crises more difficult to prevent.",
                  "_deepnote_index_column": 307
                },
                {
                  "sentences": "Complicating matters further, the systems affected by today’s crises extend well beyond any one regulatory body’s jurisdiction.",
                  "_deepnote_index_column": 308
                },
                {
                  "sentences": "That makes crises far unrulier, and their consequences – including their long-term influence on societies and politics – more difficult to predict.",
                  "_deepnote_index_column": 309
                },
                {
                  "sentences": "The next crises – made more likely by rising nationalism and a growing disregard for science and fact-based policymaking – may be financial, but they could also implicate realms as varied as migration, trade, cyberspace, pollution, and climate change.",
                  "_deepnote_index_column": 310
                },
                {
                  "sentences": "In all of these areas, national and international governance institutions are weak or incomplete, and there are few independent actors, such as watchdog groups, demanding transparency and accountability.",
                  "_deepnote_index_column": 311
                },
                {
                  "sentences": "This makes it harder not only to prevent crises – not least because it creates opportunities for actors to game the system and shirk responsibility – but also to respond to them.",
                  "_deepnote_index_column": 312
                },
                {
                  "sentences": "The 2008 crisis cast a harsh spotlight on just how bad we are at responding quickly to disasters, especially those fueled by fragmented governance.",
                  "_deepnote_index_column": 313
                },
                {
                  "sentences": "To be sure, as the Hertie School’s 2018 Governance Report shows, there have been some improvements in preparing for and managing crises.",
                  "_deepnote_index_column": 314
                },
                {
                  "sentences": "But we must become more alert to how developments in a wide range of fields – from finance to digital technologies and climate change – can elude the governance capacities of national and international institutions.",
                  "_deepnote_index_column": 315
                },
                {
                  "sentences": "We should be running crisis scenarios and preparing emergency plans for upheaval in all of these fields, and taking stronger steps to mitigate risks, including by managing debt levels, which today remain much higher in the advanced economies than they were before the 2008 crisis.",
                  "_deepnote_index_column": 316
                },
                {
                  "sentences": "Moreover, we should ensure that we provide international institutions with the needed resources and responsibilities.",
                  "_deepnote_index_column": 317
                },
                {
                  "sentences": "And by punishing those who exacerbate risks for the sake of their own interests, we would strengthen the legitimacy of global governance and the institutions that are meant to conduct it.",
                  "_deepnote_index_column": 318
                },
                {
                  "sentences": "As it stands, inadequate cross-border coordination and enforcement of international agreements is a major impediment to crisis prevention and management.",
                  "_deepnote_index_column": 319
                },
                {
                  "sentences": "Yet, far from addressing this weakness, the world is reviving an outdated model of national sovereignty that makes crises of various kinds more likely.",
                  "_deepnote_index_column": 320
                },
                {
                  "sentences": "Unless we change course soon, the world of 2118 will have much reason to regard us with scorn.",
                  "_deepnote_index_column": 321
                },
                {
                  "sentences": "What Failed in 2008?",
                  "_deepnote_index_column": 322
                },
                {
                  "sentences": "BERKELEY – To solve a problem, it is not enough to know what to do.",
                  "_deepnote_index_column": 323
                },
                {
                  "sentences": "You actually have to implement the solution – and be willing to change course if it turns out that you did not know quite as much as you thought.",
                  "_deepnote_index_column": 324
                },
                {
                  "sentences": "That is the message of two recent books that, together, tell you everything you need to know about the 2008 financial crisis: what caused it, what can be done to prevent it from recurring, and why those things have yet to be done.",
                  "_deepnote_index_column": 325
                },
                {
                  "sentences": "The first book is The Shifts and the Shocks, by the conservative British journalist Martin Wolf, who begins by cataloguing the major shifts that set the stage for the economic disaster that continues to shape the world today.",
                  "_deepnote_index_column": 326
                },
                {
                  "sentences": "His starting point is the huge rise in wealth among the world’s richest 0.1% and 0.01% and the consequent pressure for people, governments, and companies to take on increasingly unsustainable levels of debt.",
                  "_deepnote_index_column": 327
                },
                {
                  "sentences": "Meanwhile, policymakers were lulled into complacency by the widespread acceptance of economic theories such as the “efficient-market hypothesis,” which assumes that investors act rationally and use all available information when making their decisions.",
                  "_deepnote_index_column": 328
                },
                {
                  "sentences": "As a result, markets were deregulated, making it easier to trade assets that were perceived to be safe, but were in fact not.",
                  "_deepnote_index_column": 329
                },
                {
                  "sentences": "As a result, systemic risk proliferated beyond central bankers’ wildest imagination.",
                  "_deepnote_index_column": 330
                },
                {
                  "sentences": "Untested – and ultimately incorrect – assumptions created a policymaking environment defined by what can only be called hubris.",
                  "_deepnote_index_column": 331
                },
                {
                  "sentences": "Officials underestimated tail risks.",
                  "_deepnote_index_column": 332
                },
                {
                  "sentences": "They set inflation targets at around 2% – leaving little room for maneuver when the water got choppy.",
                  "_deepnote_index_column": 333
                },
                {
                  "sentences": "And, most audaciously of all, the European Union introduced the euro as a common currency.",
                  "_deepnote_index_column": 334
                },
                {
                  "sentences": "Indeed, wrongheaded policymaking continued long after the crisis began.",
                  "_deepnote_index_column": 335
                },
                {
                  "sentences": "Politicians responded to worsening economic conditions by hewing as closely as possible to failed prescriptions, making sure to do no more than absolutely necessary to address the biggest economic disaster since the Great Depression.",
                  "_deepnote_index_column": 336
                },
                {
                  "sentences": "Wolf’s prescription for countering the crisis is simple, smart, and unassailable.",
                  "_deepnote_index_column": 337
                },
                {
                  "sentences": "In the short term, he suggests that countries with reserve currencies spend more (especially to finance public-sector investments) and issue more debt.",
                  "_deepnote_index_column": 338
                },
                {
                  "sentences": "Their central banks, he argues, should raise inflation targets to 3% or even 4% per year.",
                  "_deepnote_index_column": 339
                },
                {
                  "sentences": "Over the medium term, according to Wolf, countries need to put in place regulatory measures that lower debt levels and discourage overleveraging.",
                  "_deepnote_index_column": 340
                },
                {
                  "sentences": "The eurozone, too, must resolve its internal contradictions, either by disbanding or by introducing “a minimum set of institutions and policies” that allow the monetary union to function properly.",
                  "_deepnote_index_column": 341
                },
                {
                  "sentences": "Wolf’s long-term solutions include tackling inequality, “more global regulation,” a greater degree of “freedom for individual countries to craft their own responses,” and economic analysis that is less in thrall to the free-market ideologues that led us into the crisis in the first place.",
                  "_deepnote_index_column": 342
                },
                {
                  "sentences": "And yet, as recommendable as Wolf’s proposals may be, little has been done to implement them.",
                  "_deepnote_index_column": 343
                },
                {
                  "sentences": "The reasons why are found in the second book: Hall of Mirrors, by my friend, teacher, and patron, Barry Eichengreen.",
                  "_deepnote_index_column": 344
                },
                {
                  "sentences": "Eichengreen traces our tepid response to the crisis to the triumph of monetarist economists, the disciples of Milton Friedman, over their Keynesian and Minskyite peers – at least when it comes to interpretations of the causes and consequences of the Great Depression.",
                  "_deepnote_index_column": 345
                },
                {
                  "sentences": "When the 2008 financial crisis erupted, policymakers tried to apply Friedman’s proposed solutions to the Great Depression.",
                  "_deepnote_index_column": 346
                },
                {
                  "sentences": "Unfortunately, this turned out to be the wrong thing to do, as the monetarist interpretation of the Great Depression was, to put it bluntly, wrong in significant respects and radically incomplete.",
                  "_deepnote_index_column": 347
                },
                {
                  "sentences": "The resulting policies were enough to prevent the post-2008 recession from developing into a full-blown depression; but that partial success turned out to be a Pyrrhic victory, for it allowed politicians to declare that the crisis had been overcome, and that it was time to embrace austerity and focus on structural reform.",
                  "_deepnote_index_column": 348
                },
                {
                  "sentences": "The result is today’s stagnant economy, marked by anemic growth that threatens to become the new normal.",
                  "_deepnote_index_column": 349
                },
                {
                  "sentences": "The United States and Europe are on track to have thrown away 10% of their potential wealth, while the failure to strengthen financial-sector regulation has left the world economy exposed to the risk of another major crisis.",
                  "_deepnote_index_column": 350
                },
                {
                  "sentences": "Wolf and Eichengreen would agree that the main shortcomings that led to the 2008 financial crisis – and that continue to underpin our inadequate response to it – are intellectual.",
                  "_deepnote_index_column": 351
                },
                {
                  "sentences": "Indeed, the only true lesson of the crisis so far seems to be that its lessons will never truly be learned.",
                  "_deepnote_index_column": 352
                },
                {
                  "sentences": "Loser Teens\nPRINCETON – We are at the end of a decade that has no name.",
                  "_deepnote_index_column": 353
                },
                {
                  "sentences": "The 2010s cannot really talk about itself, and this confusion is only partly born of semantics.",
                  "_deepnote_index_column": 354
                },
                {
                  "sentences": "While the term “noughties” was applied to the first decade of the twenty-first century, few would be comfortable calling this past decade the “teenies.”\nA century ago, there was no need to worry about such categorization: the 1910s were simply the era of the Great War.",
                  "_deepnote_index_column": 355
                },
                {
                  "sentences": "Following its targeted killing of Iran's second most powerful leader, the US could well find itself with no alternative but to devote more military resources to the Middle East, a path that could lead to additional Iranian provocations.",
                  "_deepnote_index_column": 356
                },
                {
                  "sentences": "And that shift would occur at a time of growing challenges to US interests elsewhere in the world.",
                  "_deepnote_index_column": 357
                },
                {
                  "sentences": "The targeted killing by the United States of one of Iran's top military leaders represents a significant symbolic defeat for the Iranian regime, but it does not augur all-out war.",
                  "_deepnote_index_column": 358
                },
                {
                  "sentences": "After all, Iran and the US have already been at war for decades, and neither side has an interest in an uncontrolled military escalation now.",
                  "_deepnote_index_column": 359
                },
                {
                  "sentences": "As in previous years, Project Syndicate asked its commentators to offer their best guesses about the events and trends that will define the coming 12 months.",
                  "_deepnote_index_column": 360
                },
                {
                  "sentences": "If there is one common theme in this year's selection, it is that what happens in 2020 will weigh on the present for many years to come.",
                  "_deepnote_index_column": 361
                },
                {
                  "sentences": "But our semantic uncertainty also reflects a deeper problem about analysis and truth.",
                  "_deepnote_index_column": 362
                },
                {
                  "sentences": "As human civilization seeks meaning in its decimally ordered notion of time, language offers labels to capture each generation’s mood.",
                  "_deepnote_index_column": 363
                },
                {
                  "sentences": "In retrospect, the “twenties,” “thirties,” “forties,” “fifties,” “sixties,” “seventies,” “eighties,” and “nineties” all evoke powerful associations.",
                  "_deepnote_index_column": 364
                },
                {
                  "sentences": "The “sixties” immediately calls to mind optimism, youth revolt, the promise of an incipient globalization, and the idea of “one world.”\nOne lesson, then, is that for a decade to have a distinct spirit, it must coincide with a reality that can be clearly and truthfully described.",
                  "_deepnote_index_column": 365
                },
                {
                  "sentences": "Oddly, the 1960s strongly paralleled the 1860s.",
                  "_deepnote_index_column": 366
                },
                {
                  "sentences": "From Giuseppe Verdi and Richard Wagner to the Beatles and the Rolling Stones, each decade gave rise to transformational music.",
                  "_deepnote_index_column": 367
                },
                {
                  "sentences": "And the transoceanic steamship would prove to be as revolutionary as the passenger jet a century later.",
                  "_deepnote_index_column": 368
                },
                {
                  "sentences": "In the case of the United States, each period had a bloody conflict – the Civil War and Vietnam – that would redefine the national ideal.",
                  "_deepnote_index_column": 369
                },
                {
                  "sentences": "Even the mundane history of monetary politics contains striking parallels.",
                  "_deepnote_index_column": 370
                },
                {
                  "sentences": "Under Emperor Napoleon III and again under President Charles de Gaulle, France was pushing for the creation of a European currency to reorder monetary relations globally.",
                  "_deepnote_index_column": 371
                },
                {
                  "sentences": "By contrast, a half-century departure from the sixties tends to be dismal.",
                  "_deepnote_index_column": 372
                },
                {
                  "sentences": "The 1810s and the 1910s were both eras of shattered hope and lost illusions.",
                  "_deepnote_index_column": 373
                },
                {
                  "sentences": "Grand transformative visions – whether of Napoleon I in France, Czar Alexander in Russia, or President Woodrow Wilson in the US – collided with the realities of national projects, social animosities, and economic shock (not least the post-war period of deflation).",
                  "_deepnote_index_column": 374
                },
                {
                  "sentences": "Napoleon, Alexander, and Wilson each imagined a world governed and pacified by rational law.",
                  "_deepnote_index_column": 375
                },
                {
                  "sentences": "And each quickly became a figure of mockery and derision.",
                  "_deepnote_index_column": 376
                },
                {
                  "sentences": "While Napoleon was vilified as a bogeyman, and Alexander as a vicious reactionary, Wilson was ridiculed as a Presbyterian preacher who had been taken for a ride by sophisticated European practitioners of Realpolitik.",
                  "_deepnote_index_column": 377
                },
                {
                  "sentences": "The 2010s also began with grand rhetorical promises and heroic political figures offering hope.",
                  "_deepnote_index_column": 378
                },
                {
                  "sentences": "On June 4, 2009, US President Barack Obama delivered the finest of his many distinguished oratorical performances.",
                  "_deepnote_index_column": 379
                },
                {
                  "sentences": "In his “New Beginning” speech in Cairo, he insisted “that America and Islam are not exclusive and need not be in competition.",
                  "_deepnote_index_column": 380
                },
                {
                  "sentences": "Instead, they overlap, and share common principles – principles of justice and progress; tolerance and the dignity of all human beings.”\nThat argument led nowhere.",
                  "_deepnote_index_column": 381
                },
                {
                  "sentences": "Obama masterfully conjured the appearance of hope, but not its actualization.",
                  "_deepnote_index_column": 382
                },
                {
                  "sentences": "The Arab Spring ended in bitter disillusionment, via repression, civil war, misery, and death.",
                  "_deepnote_index_column": 383
                },
                {
                  "sentences": "As is often the case, political disenchantment has had an economic counterpart.",
                  "_deepnote_index_column": 384
                },
                {
                  "sentences": "But the stubborn disinflation of the 2010s was unlike the major deflationary episodes that followed the Napoleonic wars and World War I.",
                  "_deepnote_index_column": 385
                },
                {
                  "sentences": "The macroeconomic conditions of the 2010s were not the result of a deliberate attempt to replace wartime finance with fiscal stability.",
                  "_deepnote_index_column": 386
                },
                {
                  "sentences": "Rather, disinflationary pressure was driven by a combination of globalization and technological change.",
                  "_deepnote_index_column": 387
                },
                {
                  "sentences": "Moreover, in the eyes of the public, economic underperformance was interpreted as a symptom of policy mistakes and mismanagement during and after the 2008 financial crisis.",
                  "_deepnote_index_column": 388
                },
                {
                  "sentences": "Historically, periods of steady inflation have tended to augur a realization of promises, whereas disinflation and deflation make everything look simultaneously cheaper and unobtainable.",
                  "_deepnote_index_column": 389
                },
                {
                  "sentences": "When inflation comes to an end, society is left like Tantalus, grasping desperately at something that is just out of reach (for central banks, that “something” has been inflation itself).",
                  "_deepnote_index_column": 390
                },
                {
                  "sentences": "Nonetheless, in a 2013 commencement speech, Obama clung to hope: “the cynics may be the loudest voices – but I promise you they will accomplish the least.”\nSadly, he was wrong again.",
                  "_deepnote_index_column": 391
                },
                {
                  "sentences": "Cynicism is the inevitable response to a period of over-promising and under-realizing.",
                  "_deepnote_index_column": 392
                },
                {
                  "sentences": "As it takes hold, it creates the conditions for “post-truth” politics.",
                  "_deepnote_index_column": 393
                },
                {
                  "sentences": "Simply because they did not have Twitter or anything like it, no nineteenth-century US politician could match President Donald Trump’s litany of lies.",
                  "_deepnote_index_column": 394
                },
                {
                  "sentences": "By the Washington Post’s count, Obama’s successor has issued more than 15,000 “false or misleading claims” since taking office.",
                  "_deepnote_index_column": 395
                },
                {
                  "sentences": "America’s promise is that it is a land of equal opportunity.",
                  "_deepnote_index_column": 396
                },
                {
                  "sentences": "But it now lags behind most other advanced economies in terms of socioeconomic mobility.",
                  "_deepnote_index_column": 397
                },
                {
                  "sentences": "Europe’s promise is that it is a domain of toleration and shared values.",
                  "_deepnote_index_column": 398
                },
                {
                  "sentences": "But those sentiments have been overwhelmed by waves of migration and other forces of globalization.",
                  "_deepnote_index_column": 399
                },
                {
                  "sentences": "More to the point, in the 2010s, the promise of a global rules-based order was broken.",
                  "_deepnote_index_column": 400
                },
                {
                  "sentences": "The post-1945 settlement is now the subject of a tug of war between countries that see themselves as old-fashioned great powers.",
                  "_deepnote_index_column": 401
                },
                {
                  "sentences": "Each is equipped with not only military might, but also a specific set of ideas.",
                  "_deepnote_index_column": 402
                },
                {
                  "sentences": "For centuries, the “teens” have been the antithesis of the “sixties.”\nThey have been times when the audacity of hope is replaced with despair, disillusionment, and falsehood.",
                  "_deepnote_index_column": 403
                },
                {
                  "sentences": "As such, they have been profoundly disruptive and destructive.",
                  "_deepnote_index_column": 404
                },
                {
                  "sentences": "It will take a long time to recover, and only some of us will have the privilege of witnessing the 2060s.",
                  "_deepnote_index_column": 405
                },
                {
                  "sentences": "2011: My Space Odyssey\nMOSCOW – Most people who know of me think of me as an information-technology expert, someone who probably lives in California and invests in edgy Internet start-ups.",
                  "_deepnote_index_column": 406
                },
                {
                  "sentences": "In fact, my formal residence is in New York City, but I am about to spend most of the next five months in Russia, training to be a cosmonaut in Star City, just outside Moscow.",
                  "_deepnote_index_column": 407
                },
                {
                  "sentences": "It all came about in a number of ways.",
                  "_deepnote_index_column": 408
                },
                {
                  "sentences": "First of all, as a kid, I just assumed that I would go to the moon, without having to do much in particular to make it happen.",
                  "_deepnote_index_column": 409
                },
                {
                  "sentences": "I just took it for granted that, by the time I was, say, 40, space travel would be a common thing.",
                  "_deepnote_index_column": 410
                },
                {
                  "sentences": "My father was involved with the United States space program, and we had some moon rocks at home, so I thought it was no big deal.",
                  "_deepnote_index_column": 411
                },
                {
                  "sentences": "Then I got distracted for about 40 years.",
                  "_deepnote_index_column": 412
                },
                {
                  "sentences": "A few years ago, however, I started paying attention to space again.",
                  "_deepnote_index_column": 413
                },
                {
                  "sentences": "A lot of people I knew in the IT industry were doing the same: Elon Musk, a co-founder of PayPal, founded Space-X; Jeff Bezos of Amazon started a spacecraft company called Blue Origin; Jeff Greason, a senior manager at Intel, started XCOR Aerospace (in which I’m an investor).",
                  "_deepnote_index_column": 414
                },
                {
                  "sentences": "In 2005, the last year I held my PC Forum conference for IT entrepreneurs, I started a conference called Flight School for entrepreneurs in space and private aviation.",
                  "_deepnote_index_column": 415
                },
                {
                  "sentences": "Meanwhile, in about 2005, I was in South Africa with a small group advising former President Thabo Mbeki and his government about its IT policy.",
                  "_deepnote_index_column": 416
                },
                {
                  "sentences": "One of the group was Mark Shuttleworth, founder of Thawte (sold to VeriSign), who had recently come back from a trip to the space station as the second “space tourist.”\nOne evening, the group sat around a campfire as the sun set, and around 50 African schoolchildren were bussed in.",
                  "_deepnote_index_column": 417
                },
                {
                  "sentences": "Altogether, there were about 100 of us, President Mbeki included, around a roaring fire.",
                  "_deepnote_index_column": 418
                },
                {
                  "sentences": "Once it was dark, a screen was set up and Mark showed home videos from space.",
                  "_deepnote_index_column": 419
                },
                {
                  "sentences": "He gave a fascinating talk about his adventures, complete with clips of him floating around, catching bubbles in his mouth, and so on.",
                  "_deepnote_index_column": 420
                },
                {
                  "sentences": "The kids loved it, and I'm sure some of them decided then and there to study math and science.",
                  "_deepnote_index_column": 421
                },
                {
                  "sentences": "Eventually, I invested in Space Adventures, the company that organized Shuttleworth’s trip into space.",
                  "_deepnote_index_column": 422
                },
                {
                  "sentences": "Later, I went on a tour that they organized to watch the launch of Charles Simonyi, the fifth (and soon seventh) space tourist, from Baikonur in Kazakhstan.",
                  "_deepnote_index_column": 423
                },
                {
                  "sentences": "(Simonyi wrote the Microsoft Word program, and now has another start-up, Intentional Software, and a foundation, as well as a Web site, CharlesinSpace.org.)",
                  "_deepnote_index_column": 424
                },
                {
                  "sentences": "Soon after, I started casually discussing the notion of becoming a backup cosmonaut with the Space Adventures team.",
                  "_deepnote_index_column": 425
                },
                {
                  "sentences": "Yes, I would love to actually go, but the trip to space costs $35 to $40 million, whereas backup training costs “only” $3 million.",
                  "_deepnote_index_column": 426
                },
                {
                  "sentences": "So I had vague thoughts that I might go into space sometime in 2011 - the year that Google co-founder Sergey Brin is (very) tentatively slated to go.",
                  "_deepnote_index_column": 427
                },
                {
                  "sentences": "Space Adventures was pushing for 2009, but I was pretty busy.",
                  "_deepnote_index_column": 428
                },
                {
                  "sentences": "Then something happened last spring: my sister Emily discovered that she had cancer and had a double mastectomy.",
                  "_deepnote_index_column": 429
                },
                {
                  "sentences": "(She is doing well now and, in fact, just won a mini-marathon.)",
                  "_deepnote_index_column": 430
                },
                {
                  "sentences": "A couple of weeks later, I was faced with one of those conflicts: a board meeting here, a conference there, another opportunity at the same time somewhere else.",
                  "_deepnote_index_column": 431
                },
                {
                  "sentences": "“Aaagh,” I thought, “if only I had a double mastectomy: I could cancel all these things and no one would complain!”\nGood grief!",
                  "_deepnote_index_column": 432
                },
                {
                  "sentences": "I realized my priorities were all out of whack.",
                  "_deepnote_index_column": 433
                },
                {
                  "sentences": "So in some odd way, this sabbatical in Russia is my alternative to a double mastectomy – a positive one, to be sure, but the same kind of reset-button experience.",
                  "_deepnote_index_column": 434
                },
                {
                  "sentences": "It is also the answer to another question I hear a lot because of my work on human genetics through 23andMe (www.23andme.com) and the Personal Genome Project (www.personalgenome.org): If you learned you had a high chance of developing Alzheimer’s in a few years, what would you do?",
                  "_deepnote_index_column": 435
                },
                {
                  "sentences": "Why, I’d go train to be a cosmonaut, of course!",
                  "_deepnote_index_column": 436
                },
                {
                  "sentences": "And why wait to find out I may get Alzheimer’s?",
                  "_deepnote_index_column": 437
                },
                {
                  "sentences": "Next month, I will write about what training to go into space actually involves.",
                  "_deepnote_index_column": 438
                },
                {
                  "sentences": "The Hidden Goods of 2015\nPRINCETON – If we were to judge the state of the world by the news headlines, 2015 was the year of Islamist terror, especially in Paris.",
                  "_deepnote_index_column": 439
                },
                {
                  "sentences": "It began with the massacre at Charlie Hebdo and included the much deadlier November 13 shootings in the city, in addition to attacks in Beirut, Ankara, and on a center for disabled people in San Bernadino, California.",
                  "_deepnote_index_column": 440
                },
                {
                  "sentences": "But even if we focused on terrorism, that would be a misleading view of the year’s events.",
                  "_deepnote_index_column": 441
                },
                {
                  "sentences": "In 2015, terrorism killed more people in Syria, Iraq, Nigeria, and Kenya than in France or the United States.",
                  "_deepnote_index_column": 442
                },
                {
                  "sentences": "And if the crash in October of a Russian civilian airliner in Egypt’s Sinai Desert was, as the Islamic State (ISIS) and Russians experts assert, the result of an ISIS plot, then that incident alone killed more people than both terrorist attacks in Paris.",
                  "_deepnote_index_column": 443
                },
                {
                  "sentences": "In any case, concentrating on what the news media find most important to cover can give us a distorted sense of the world.",
                  "_deepnote_index_column": 444
                },
                {
                  "sentences": "The death of each of the innocent victims of last year’s terrorist attacks is a terrible tragedy for that person and his or her family and friends; but that is also true of deaths that occur in traffic accidents, which receive much less media attention.",
                  "_deepnote_index_column": 445
                },
                {
                  "sentences": "Terrorism is shocking, violent, and makes for “good television.”\nIf it occurs in cities like our own, or in cities we might visit, it attracts even greater interest because of the “It could have been me!” factor.",
                  "_deepnote_index_column": 446
                },
                {
                  "sentences": "From a global perspective, however, the two most important things that happened in 2015 were both highly encouraging, though only one, the international climate agreement reached in Paris in December, received significant media coverage.",
                  "_deepnote_index_column": 447
                },
                {
                  "sentences": "Decades will pass before we know if the Paris agreement succeeds in meeting its stated aim of limiting global warming to “well below” 2°C above pre-industrial levels.",
                  "_deepnote_index_column": 448
                },
                {
                  "sentences": "But this is more ambitious language than most observers had expected, and it was accepted by all 194 participating countries.",
                  "_deepnote_index_column": 449
                },
                {
                  "sentences": "Experts tell us that adding up the reductions in greenhouse-gas emissions that these countries have pledged yields a total drop that is still well short of the agreement’s stated goal.",
                  "_deepnote_index_column": 450
                },
                {
                  "sentences": "But a sliver of hope is offered by the commitment to review these targets at five-year intervals and consider what adjustments are needed to meet the goal.",
                  "_deepnote_index_column": 451
                },
                {
                  "sentences": "We will see whether it works (or those of us young enough to live to 2050 will).",
                  "_deepnote_index_column": 452
                },
                {
                  "sentences": "But after the disappointment of the Copenhagen climate-change summit in 2009, the spirit of agreement that animated the Paris meeting should lift our spirits.",
                  "_deepnote_index_column": 453
                },
                {
                  "sentences": "If it does prove to be a turning point for efforts to prevent catastrophic climate change, its importance will dwarf anything else that happened in 2015.",
                  "_deepnote_index_column": 454
                },
                {
                  "sentences": "In contrast to the outcome of the Paris meeting, the second most important thing that happened in 2015 was unequivocally positive: The proportion of the world’s population living in extreme poverty has fallen below 10% for the first time.",
                  "_deepnote_index_column": 455
                },
                {
                  "sentences": "That, at least, is the view of the World Bank, which has been monitoring global poverty since 1990.",
                  "_deepnote_index_column": 456
                },
                {
                  "sentences": "As extreme poverty has fallen, developing countries’ “working middle class,” defined as people living on more than $4 per day, has grown, from only 18% of their workforce in 1991 to one-half today.",
                  "_deepnote_index_column": 457
                },
                {
                  "sentences": "In the same period, the proportion of undernourished people in developing regions has also fallen sharply, from 23.3% to 12.9%.",
                  "_deepnote_index_column": 458
                },
                {
                  "sentences": "The rapid decline in extreme poverty may not attract viewers and readers, but its impact on human welfare surely outstrips that of terrorism.",
                  "_deepnote_index_column": 459
                },
                {
                  "sentences": "In 1990, 1.95 billion people, or nearly 37% of the world’s population, lived in extreme poverty; today there are 702 million.",
                  "_deepnote_index_column": 460
                },
                {
                  "sentences": "If the proportion of people living in extreme poverty had remained unchanged, there would be 2.7 billion of them.",
                  "_deepnote_index_column": 461
                },
                {
                  "sentences": "In other words, the decline in poverty has improved the lives of almost two billion people.",
                  "_deepnote_index_column": 462
                },
                {
                  "sentences": "Extreme poverty kills, through inadequate food and diseases like malaria, measles, and diarrhea.",
                  "_deepnote_index_column": 463
                },
                {
                  "sentences": "So it is not surprising that a drop in child mortality has accompanied the decline in extreme poverty.",
                  "_deepnote_index_column": 464
                },
                {
                  "sentences": "In 1990, 35,000 children per day died before reaching their fifth birthday.",
                  "_deepnote_index_column": 465
                },
                {
                  "sentences": "Today that figure is down to 16,000.",
                  "_deepnote_index_column": 466
                },
                {
                  "sentences": "Yes, 16,000 child deaths a day is far too many, and the fact that 2015 was the hottest year on record shows that the struggle against climate change has only just begun.",
                  "_deepnote_index_column": 467
                },
                {
                  "sentences": "But we can build on the gains made last year.",
                  "_deepnote_index_column": 468
                },
                {
                  "sentences": "We need to be active citizens, pushing our leaders not just to meet, but to surpass, the emission targets they have pledged to achieve.",
                  "_deepnote_index_column": 469
                },
                {
                  "sentences": "If we live in an affluent society, we should also demand that our country play its role in reducing extreme poverty.",
                  "_deepnote_index_column": 470
                },
                {
                  "sentences": "And, whatever our government does, we can find out which charities fighting poverty are the most effective –and contribute to them.",
                  "_deepnote_index_column": 471
                },
                {
                  "sentences": "A Comeback Strategy for Europe\nSTOCKHOLM/MADRID – When Pope Francis addressed the European Parliament last November, he compared the European Union to a grandmother – pleasant and rich with experience, but lacking the vitality and energy of the past.",
                  "_deepnote_index_column": 472
                },
                {
                  "sentences": "It is high time, Francis argued, that EU leaders shed their dozy image, recognize the strategic challenges that Europe faces, and forge a clear policy for tackling them.",
                  "_deepnote_index_column": 473
                },
                {
                  "sentences": "Admittedly, the pope’s characterization was alarmingly accurate in some respects.",
                  "_deepnote_index_column": 474
                },
                {
                  "sentences": "But, despite its seeming lassitude, Europe retains significant strengths.",
                  "_deepnote_index_column": 475
                },
                {
                  "sentences": "It is a hub of high-level thought and innovation; it is home to some of the world’s most competitive regions and industries; and, perhaps most impressive, it has built a community and market encompassing a half-billion people.",
                  "_deepnote_index_column": 476
                },
                {
                  "sentences": "But the world is changing: the Asia-Pacific region is increasingly influencing global developments, economic and otherwise.",
                  "_deepnote_index_column": 477
                },
                {
                  "sentences": "The Trans-Pacific Partnership – by which the United States and 11 other countries would create a mega-regional free-trade zone – would most likely accelerate this shift (all the more so if China eventually joins).",
                  "_deepnote_index_column": 478
                },
                {
                  "sentences": "Though the TPP faces no shortage of hurdles to clear before an agreement is finalized, its potential to augment Asia’s economic power cannot be underestimated.",
                  "_deepnote_index_column": 479
                },
                {
                  "sentences": "Europe must work to secure its position in the new world order – beginning by enhancing its own trade and investment ties with the US.",
                  "_deepnote_index_column": 480
                },
                {
                  "sentences": "The problem is that, as the TPP negotiations progress, talks on the EU-US Transatlantic Trade and Investment Partnership (TTIP) have become so deeply mired in domestic controversies that the entire project may well be scuttled.",
                  "_deepnote_index_column": 481
                },
                {
                  "sentences": "Business leaders on both sides of the Atlantic are convinced that a successful TTIP agreement would bring substantial economic benefits – a perception that many studies reinforce.",
                  "_deepnote_index_column": 482
                },
                {
                  "sentences": "Yet trivial issues – for example, the use of chlorinated chicken and settlements of investor disputes – continue to dominate the debate.",
                  "_deepnote_index_column": 483
                },
                {
                  "sentences": "The TTIP’s goal is to unleash the power of the transatlantic economy, which remains by far the world’s largest and wealthiest market, accounting for three-quarters of global financial activity and more than half of world trade.",
                  "_deepnote_index_column": 484
                },
                {
                  "sentences": "(If the TTIP was opened to other economies – such as Turkey, Mexico, and Canada – the benefits would be even greater.)",
                  "_deepnote_index_column": 485
                },
                {
                  "sentences": "Even more compelling than the benefits of achieving an agreement, though, are the potentially catastrophic consequences of failure.",
                  "_deepnote_index_column": 486
                },
                {
                  "sentences": "For starters, a breakdown of TTIP talks would give considerable ammunition to those in the United Kingdom who advocate withdrawal from the EU; conversely, if the TTIP were implemented, the UK would be unwise – and thus unlikely – to leave.",
                  "_deepnote_index_column": 487
                },
                {
                  "sentences": "Moreover, the perception that the EU’s internal squabbles had led it to squander a strategic opportunity would probably drive the US to accelerate its disengagement from the continent.",
                  "_deepnote_index_column": 488
                },
                {
                  "sentences": "And Russian President Vladimir Putin would invariably regard the EU’s failure as a major opportunity to exert more influence over parts of Europe.",
                  "_deepnote_index_column": 489
                },
                {
                  "sentences": "All of this contributes to a starkly fundamental strategic risk: If the TTIP stalls or collapses, while the TPP moves forward and succeeds, the global balance will tip strongly in Asia’s favor – and Europe will have few options, if any, for regaining its economic and geopolitical influence.",
                  "_deepnote_index_column": 490
                },
                {
                  "sentences": "When the TTIP was first proposed, Europe seemed to recognize its value.",
                  "_deepnote_index_column": 491
                },
                {
                  "sentences": "Indeed, it was the EU that pushed the US, which initially doubted Europe’s commitment, to launch the negotiation process in June 2013.",
                  "_deepnote_index_column": 492
                },
                {
                  "sentences": "The ambition was to complete the negotiations on “one tank of gas.”\nNo one wanted to endure protracted talks – or the associated political pain.",
                  "_deepnote_index_column": 493
                },
                {
                  "sentences": "But EU leaders essentially abandoned the project, seemingly confirming American fears.",
                  "_deepnote_index_column": 494
                },
                {
                  "sentences": "Trade negotiators struggled to make headway, while anti-globalization groups seized control of the public discourse, presenting the TTIP as a threat to everything from Europe’s democracy to its health.",
                  "_deepnote_index_column": 495
                },
                {
                  "sentences": "This is dangerously inaccurate talk, and EU leaders must prevent it from gaining any more traction by making the strategic case for the agreement.",
                  "_deepnote_index_column": 496
                },
                {
                  "sentences": "And they must revive their commitment to conclude the talks successfully in 2015.",
                  "_deepnote_index_column": 497
                },
                {
                  "sentences": "This is not to say that resolving the remaining issues in the TTIP negotiations will be simple.",
                  "_deepnote_index_column": 498
                },
                {
                  "sentences": "But establishing a trade agreement, especially one that entails so many regulatory issues, is always difficult, as it must account for the complexity and changeability of modern economies.",
                  "_deepnote_index_column": 499
                }
              ],
              "rows_bottom": [
                {
                  "sentences": "Adaptation will reduce the climate change-related losses from 5% of GDP to slightly less than 3% – but this is still a significant impact.",
                  "_deepnote_index_column": 4500
                },
                {
                  "sentences": "The real challenge of global warming, therefore, lies in tackling its impact on the Third World.",
                  "_deepnote_index_column": 4501
                },
                {
                  "sentences": "Here, more needs to be done, above and beyond the adaptation that will happen naturally.",
                  "_deepnote_index_column": 4502
                },
                {
                  "sentences": "Importantly, the new research shows that adaptation would achieve a lot more than cuts in carbon emissions.",
                  "_deepnote_index_column": 4503
                },
                {
                  "sentences": "Reducing emissions to a level that does not extinguish economic growth could avert $3 trillion worth of damage, whereas adaptation could prevent around $8 trillion worth of damage.",
                  "_deepnote_index_column": 4504
                },
                {
                  "sentences": "For every dollar spent on adaptation, we would achieve about $1.70 worth of positive changes for the planet.",
                  "_deepnote_index_column": 4505
                },
                {
                  "sentences": "The economic case for focusing more on adaptation is clear.",
                  "_deepnote_index_column": 4506
                },
                {
                  "sentences": "The crucial next step is to ensure that economic arguments become a stronger part of our political debate about how to address global warming.",
                  "_deepnote_index_column": 4507
                },
                {
                  "sentences": "Adapt or Die\nMILAN – In rapidly growing emerging markets, a combination of internal economic forces, supportive policies, and the shifting nature of the global economy drive high-speed and far-reaching change.",
                  "_deepnote_index_column": 4508
                },
                {
                  "sentences": "The transformation of economic structures occurs so quickly that it is virtually impossible not to notice – though the complexity of the change is, at times, bewildering.",
                  "_deepnote_index_column": 4509
                },
                {
                  "sentences": "In this fluid environment, mistakes are frequently made.",
                  "_deepnote_index_column": 4510
                },
                {
                  "sentences": "Arguably the most damaging is to stick to a successful growth strategy (a combination of comparative advantage and supportive policies) for too long.",
                  "_deepnote_index_column": 4511
                },
                {
                  "sentences": "In the economy’s tradable sector, comparative advantage always shifts, causing structural change and creative destruction.",
                  "_deepnote_index_column": 4512
                },
                {
                  "sentences": "Countries undergoing a “middle-income transition” out of poor-country status frequently try to resist these changes, but doing so causes growth to slow, if not stop altogether.",
                  "_deepnote_index_column": 4513
                },
                {
                  "sentences": "While the private sector (domestic and external) drives these shifts, government policies and public-sector investment patterns play an essential supporting and complementary role.",
                  "_deepnote_index_column": 4514
                },
                {
                  "sentences": "These need to adapt, too.",
                  "_deepnote_index_column": 4515
                },
                {
                  "sentences": "The policy framework that has proven to serve the major emerging economies best is one that focuses not only on macro and monetary stability, but also on adaptation, guided by a forward-looking (though inherently imperfect) assessment of coming micro and macro structural shifts and the measures needed to support them.",
                  "_deepnote_index_column": 4516
                },
                {
                  "sentences": "What of the large advanced countries?",
                  "_deepnote_index_column": 4517
                },
                {
                  "sentences": "For historical reasons, the policy mindset is less flexible and adaptive.",
                  "_deepnote_index_column": 4518
                },
                {
                  "sentences": "Structural change is viewed largely as the province of the private sector, and hence not as a key part of long-term policy thinking.",
                  "_deepnote_index_column": 4519
                },
                {
                  "sentences": "In the postwar period, until recently, advanced economies dominated the global economy.",
                  "_deepnote_index_column": 4520
                },
                {
                  "sentences": "Emerging economies’ impact on them was relatively small, and they have yet to respond adequately to the rapid structural changes in the global economy.",
                  "_deepnote_index_column": 4521
                },
                {
                  "sentences": "A small example: as recently as July 8, after the latest disappointing employment report in the United States, President Barack Obama expressed the widely held view that an agreement on the debt ceiling and deficit reduction would remove the uncertainty that is holding back business investment, growth, and employment.",
                  "_deepnote_index_column": 4522
                },
                {
                  "sentences": "In other words, America’s fiscal problems explain its extremely weak economic recovery.",
                  "_deepnote_index_column": 4523
                },
                {
                  "sentences": "Once a fiscal deal is done, government can step aside and let the private sector drive the structural changes that are needed to restore a pattern of inclusive growth.",
                  "_deepnote_index_column": 4524
                },
                {
                  "sentences": "To be fair, there have been exceptions to this stance.",
                  "_deepnote_index_column": 4525
                },
                {
                  "sentences": "In the US, a postwar alliance of government, business, and academia created the human capital and technology base of a dynamic economy, reinforced by the post-Sputnik commitment to scientific and technological excellence and innovation.",
                  "_deepnote_index_column": 4526
                },
                {
                  "sentences": "In Germany, the post-2000 reforms that reset the economy’s productivity, flexibility, and competitiveness have proved crucial to the country’s current economic strength and resilience.",
                  "_deepnote_index_column": 4527
                },
                {
                  "sentences": "Despite these examples, economic and financial commentators appear increasingly puzzled about the weak US recovery, with its modest GDP growth and meager employment gains.",
                  "_deepnote_index_column": 4528
                },
                {
                  "sentences": "Growth estimates since the 2008 crisis have been revised downward several times.",
                  "_deepnote_index_column": 4529
                },
                {
                  "sentences": "The political narrative runs in parallel.",
                  "_deepnote_index_column": 4530
                },
                {
                  "sentences": "A recent (admittedly partisan) study by the US Congress’s Joint Economic Committee documents the relative weakness of the current recovery.",
                  "_deepnote_index_column": 4531
                },
                {
                  "sentences": "Indeed, the differences between the current situation and other postwar US recoveries are so large that the term “recovery” in today’s context is dubious.",
                  "_deepnote_index_column": 4532
                },
                {
                  "sentences": "But US leaders nonetheless accept the cyclical view of the economy, see a weak recovery, and blame it on post-crisis policy failures.",
                  "_deepnote_index_column": 4533
                },
                {
                  "sentences": "But, while that might play well politically, the sensible conclusion is that this is not just a cyclical recovery, but rather the beginning of a delayed process of structural adaptation to a rapidly shifting global economy, to emerging economies’ growth and shifting comparative advantage, and to powerful technological forces.",
                  "_deepnote_index_column": 4534
                },
                {
                  "sentences": "While these changes are difficult to think about with any degree of precision, that doesn’t make them unimportant.",
                  "_deepnote_index_column": 4535
                },
                {
                  "sentences": "Of course, no one would deny that there are cyclical elements in the downturn of 2008.",
                  "_deepnote_index_column": 4536
                },
                {
                  "sentences": "But they were accompanied by structural imbalances that had been building over at least 15 years, and that are at the heart of the US economy’s inability to bounce back in a normal cyclical way.",
                  "_deepnote_index_column": 4537
                },
                {
                  "sentences": "Skeptics might well question why, if these alleged structural imbalances are now impeding GDP and employment growth, they did not appear before the crisis.",
                  "_deepnote_index_column": 4538
                },
                {
                  "sentences": "The answer is that they did, but not in growth and employment figures.",
                  "_deepnote_index_column": 4539
                },
                {
                  "sentences": "Other signals were missed, ignored, or deemed unimportant.",
                  "_deepnote_index_column": 4540
                },
                {
                  "sentences": "A short list of these signals would include excess consumption (now gone) and deficient savings, based on an asset bubble and high debt; a persistent and growing current-account deficit (signaling that domestic consumption and investment exceeded income and output); and negligible net employment growth (over two decades) in the economy’s tradable sector.",
                  "_deepnote_index_column": 4541
                },
                {
                  "sentences": "With domestic aggregate demand in short supply, the only functioning growth engine, external trade in goods and services, is not an employment engine.",
                  "_deepnote_index_column": 4542
                },
                {
                  "sentences": "Missing all of these signals produced the pre-crisis illusion of sustainable growth and employment, and helps explain why the crisis, rather than its causes, is viewed as the culprit.",
                  "_deepnote_index_column": 4543
                },
                {
                  "sentences": "The crisis, however, merely exposed the underlying imbalances and unwound some of them.",
                  "_deepnote_index_column": 4544
                },
                {
                  "sentences": "The “grand bargain” that PIMCO CEO Mohamed El-Erian recently alluded to in describing the appropriate response to the current situation in the US needs to include a fiscal stabilization plan.",
                  "_deepnote_index_column": 4545
                },
                {
                  "sentences": "But it also must include a shift to a policy framework that accurately reflects the non-cyclical nature of the longer-term structural adaptations that will be required to restore growth and employment.",
                  "_deepnote_index_column": 4546
                },
                {
                  "sentences": "A Daughter of Dictatorship and Democracy\nSEOUL – It is something of a cliché question in South Korea nowadays: Who would be the country’s next president if the election were held tomorrow, rather than in December 2012?",
                  "_deepnote_index_column": 4547
                },
                {
                  "sentences": "Numerous opinion polls show Park Geun-hye of the ruling Grand National Party (GNP) to be the leading candidate.",
                  "_deepnote_index_column": 4548
                },
                {
                  "sentences": "If elected, she would be South Korea’s first woman president, and, for her rivals, her dominant position in the race is an uncomfortable but unassailable fact.",
                  "_deepnote_index_column": 4549
                },
                {
                  "sentences": "South Korean voters of all ages and regions have welcomed Park as a candidate for their country’s leadership.",
                  "_deepnote_index_column": 4550
                },
                {
                  "sentences": "Her political style is both refreshing and relevant, because she comes across as sincere and forthright at a time when the public is hungry for moral leadership.",
                  "_deepnote_index_column": 4551
                },
                {
                  "sentences": "And she has an astonishing talent for simplifying complicated issues accurately, which she likely learned – along with how to interpret and manipulate the political connotations of every issue – from her father, former President Park Chung-hee.",
                  "_deepnote_index_column": 4552
                },
                {
                  "sentences": "Acclaimed as a national hero among radical right-wingers, the iron-fisted Park Chung-hee ruled South Korea from 1963 to 1979, in the wake of the 1961 military coup, only to be assassinated by his intelligence chief.",
                  "_deepnote_index_column": 4553
                },
                {
                  "sentences": "His daughter is proud of his legacy, which marked the beginning of South Korea’s economic boom.",
                  "_deepnote_index_column": 4554
                },
                {
                  "sentences": "Indeed, as a pillar of export-oriented modernity, Park Chung-hee was once lionized as the archetype of a modernizing political leadership in military-authoritarian states.",
                  "_deepnote_index_column": 4555
                },
                {
                  "sentences": "At home, he still ranks first in popularity among the country’s heads of state, kindling nostalgia like a popular old record – a corollary to people’s frustration and anger at the current government of President Lee Myung-bak.",
                  "_deepnote_index_column": 4556
                },
                {
                  "sentences": "Park, who lost her first bid for the GNP’s nomination to Lee in 2007, needs to ensure that no rupture with her erstwhile rival knocks her off the path to victory in 2012.",
                  "_deepnote_index_column": 4557
                },
                {
                  "sentences": "An astute politician, Park did not hesitate to campaign wholeheartedly for Lee the last time around – a move that, as part of long-term political strategy, made perfect sense.",
                  "_deepnote_index_column": 4558
                },
                {
                  "sentences": "To many South Koreans, the election is now Park’s to lose.",
                  "_deepnote_index_column": 4559
                },
                {
                  "sentences": "No candidate on the horizon seems able to stop her.",
                  "_deepnote_index_column": 4560
                },
                {
                  "sentences": "If she wins, it will be the result of her seriousness and tenacity, not her political heritage.",
                  "_deepnote_index_column": 4561
                },
                {
                  "sentences": "No one in South Korea’s conservative movement doubts that Park is one of them.",
                  "_deepnote_index_column": 4562
                },
                {
                  "sentences": "And, as an icon of the right, she is well aware that she cannot afford to betray her status.",
                  "_deepnote_index_column": 4563
                },
                {
                  "sentences": "Despite her charisma, Park is neither a Sarah Palin nor an Eva Peron.",
                  "_deepnote_index_column": 4564
                },
                {
                  "sentences": "Indeed, she looks more like a Korean Margaret Thatcher – a lady not for turning, in Thatcher’s famous phrase, and with clearly thought-through political principles animating her actions.",
                  "_deepnote_index_column": 4565
                },
                {
                  "sentences": "In any case, she seems destined to establish a new South Korea focusing on her landmark pledge ‘jul pu se,’ literally meaning ‘reduce-loosen-strengthen tax-cuts,’ deregulation, and law and order, not just to add another chapter to her father’s old book.",
                  "_deepnote_index_column": 4566
                },
                {
                  "sentences": "Her administration would mark a fresh departure from the country’s troubled recent past.",
                  "_deepnote_index_column": 4567
                },
                {
                  "sentences": "Left-leaning pundits claim that the dictator’s daughter has the same autocratic vision as her father, though Park invariably prefers incremental change to radical measures, and cut her political teeth in the tough-minded politics of the GNP.",
                  "_deepnote_index_column": 4568
                },
                {
                  "sentences": "Others take a flagrantly sexist stance, arguing that a woman president would be a non-starter as long as the North Korean regime continues to threaten national security.",
                  "_deepnote_index_column": 4569
                },
                {
                  "sentences": "Although these criticisms don’t seem to bother the electorate very much, Park’s path to victory may yet prove narrower than her supporters expect.",
                  "_deepnote_index_column": 4570
                },
                {
                  "sentences": "She has been called the “Queen of Elections,” in particular since she won a campaign in 2006 after being slashed with a box cutter by a deranged man.",
                  "_deepnote_index_column": 4571
                },
                {
                  "sentences": "But she must convincingly outline practical strategies to resolve South Korea’s most serious problems, including high unemployment, worsening educational performance, and North Korea’s nuclear weapons program.",
                  "_deepnote_index_column": 4572
                },
                {
                  "sentences": "Ms. Park once pledged to provide loans for working-class families from elementary school to college years, while contending that local universities should be empowered to have more autonomy.",
                  "_deepnote_index_column": 4573
                },
                {
                  "sentences": "She favors engagement policy and the six-party talks so as to resolve the nuclear troubles.",
                  "_deepnote_index_column": 4574
                },
                {
                  "sentences": "Come presidential election-day in 2012, South Korean voters will pick the candidate who embodies pragmatism and centrism over a partisan or ideologue.",
                  "_deepnote_index_column": 4575
                },
                {
                  "sentences": "Park’s success will depend, in the end, on the effectiveness of her campaign in further defining her character along those lines.",
                  "_deepnote_index_column": 4576
                },
                {
                  "sentences": "Unlike former Peruvian dictator Alberto Fujimori’s daughter, who lost her presidential bid in Peru last month, Park is likely to defy her family’s tragic history.",
                  "_deepnote_index_column": 4577
                },
                {
                  "sentences": "If she does, she will be Asia’s most powerful woman, perhaps the most powerful in the world, at the end of next year.",
                  "_deepnote_index_column": 4578
                },
                {
                  "sentences": "A Day for Planetary Justice\nPRINCETON – What we are doing to our planet, to our children and grandchildren, and to the poor, by our heedless production of greenhouse gases, is one of the great moral wrongs of our age.",
                  "_deepnote_index_column": 4579
                },
                {
                  "sentences": "On October 24, you can stand up against this injustice.",
                  "_deepnote_index_column": 4580
                },
                {
                  "sentences": "October 24 is 350 Day.",
                  "_deepnote_index_column": 4581
                },
                {
                  "sentences": "The name comes from the number of parts per million of carbon dioxide in the atmosphere that, according to Jim Hansen, perhaps the world’s leading climate scientist, we should not exceed if we are to avoid potentially catastrophic climate change.",
                  "_deepnote_index_column": 4582
                },
                {
                  "sentences": "It is a measure of the seriousness of our problem that CO2 is already at 386 ppm, and is rising by two ppm each year.",
                  "_deepnote_index_column": 4583
                },
                {
                  "sentences": "The need to cut greenhouse gases has become increasingly clear as predictions of global warming – denounced as “alarmist” when they were first made just a few years ago – have repeatedly turned out to have been too conservative.",
                  "_deepnote_index_column": 4584
                },
                {
                  "sentences": "We are approaching a point of no return, at which feedback loops will kick in and continue to warm the planet, no matter what we do.",
                  "_deepnote_index_column": 4585
                },
                {
                  "sentences": "The melting of arctic ice is one example.",
                  "_deepnote_index_column": 4586
                },
                {
                  "sentences": "Four hundred years ago, explorers sought the legendary “Northeast Passage” across the north of Europe and Russia to China.",
                  "_deepnote_index_column": 4587
                },
                {
                  "sentences": "They found the arctic ice impenetrable, and soon gave up their quest.",
                  "_deepnote_index_column": 4588
                },
                {
                  "sentences": "This year, commercial vessels successfully navigated the Northeast Passage.",
                  "_deepnote_index_column": 4589
                },
                {
                  "sentences": "That is one of many recent dramatic signs that our climate is changing and that our planet is warmer than it has been for a very long time.",
                  "_deepnote_index_column": 4590
                },
                {
                  "sentences": "But ice-free arctic waters are more than a symptom of global warming.",
                  "_deepnote_index_column": 4591
                },
                {
                  "sentences": "They are themselves a cause of further warming: ice and snow reflect the sun’s rays.",
                  "_deepnote_index_column": 4592
                },
                {
                  "sentences": "An ice-free surface absorbs more warmth from the sun than one covered in snow or ice.",
                  "_deepnote_index_column": 4593
                },
                {
                  "sentences": "In other words, our greenhouse gas emissions have, by causing enough warming to melt the arctic ice, created a feedback loop that will generate more warming, and melt more ice, even if we were to stop emitting all greenhouse gases tomorrow.",
                  "_deepnote_index_column": 4594
                },
                {
                  "sentences": "Other feedback loops pose a similar danger.",
                  "_deepnote_index_column": 4595
                },
                {
                  "sentences": "In Siberia, vast quantities of methane, an extremely potent greenhouse gas, are locked up in what used to be called “permafrost” – regions in which it was assumed that the ground was permanently frozen.",
                  "_deepnote_index_column": 4596
                },
                {
                  "sentences": "But areas that used to be frozen are now thawing, releasing methane and thus contributing to further warming – and to further thawing, which releases more methane.",
                  "_deepnote_index_column": 4597
                },
                {
                  "sentences": "Developing nations are grasping just how outrageous the current distribution of greenhouse-gas emissions really is.",
                  "_deepnote_index_column": 4598
                },
                {
                  "sentences": "At the United Nations Summit on Climate Change in September, President Paul Kagame of Rwanda pointed out that, while developed nations outside Africa are almost entirely responsible for the problem, its greatest impact will probably be on Africa, which has few resources to cope with the challenge.",
                  "_deepnote_index_column": 4599
                },
                {
                  "sentences": "Kagame then suggested giving every country an annual per capita quota for CO2 emissions, and allowing developing countries that are below the quota to trade their excess quota with countries that are above theirs.",
                  "_deepnote_index_column": 4600
                },
                {
                  "sentences": "The money that developing countries would receive for this would not be aid, but rather a recognition that the rich nations must pay for something that in the past they simply appropriated: far more than their fair share of our atmosphere’s capacity to absorb our waste gases.",
                  "_deepnote_index_column": 4601
                },
                {
                  "sentences": "Sri Lanka took a similar stance, using studies from the UN Intergovernmental Panel on Climate Change to calculate that in 2008, environmentally permissible carbon emissions totaled no more than 2,172 kilograms per person.",
                  "_deepnote_index_column": 4602
                },
                {
                  "sentences": "In fact, the world’s per capita emissions were 4,700 kilograms, or more than double the permissible limit.",
                  "_deepnote_index_column": 4603
                },
                {
                  "sentences": "But, while emissions in the rich nations were far above the permissible limit, Sri Lankan emissions were, at 660 kilograms, well below it.",
                  "_deepnote_index_column": 4604
                },
                {
                  "sentences": "As Sri Lanka’s government pointed out, “That means low-emitting countries like us could not emit more because our space has already been exploited by developed or global heavy polluting countries without our consent.”\nThis situation is an injustice of vast proportions, reminiscent of – and arguably much worse than – the now-repudiated colonialism of the Western powers in the nineteenth century.",
                  "_deepnote_index_column": 4605
                },
                {
                  "sentences": "The task of remedying it must begin at the meeting on climate change that will be held in Copenhagen in December.",
                  "_deepnote_index_column": 4606
                },
                {
                  "sentences": "Many political leaders have expressed support for strong action on climate change, but what most of them regard as “strong action” will not be enough to get us back below 350 ppm.",
                  "_deepnote_index_column": 4607
                },
                {
                  "sentences": "In some countries, including the United States, there are major political obstacles to taking even modest steps.",
                  "_deepnote_index_column": 4608
                },
                {
                  "sentences": "On October 24, people in nearly every country will be taking action to raise awareness of the need for an international treaty to bring our atmosphere back to 350 ppm of CO2.",
                  "_deepnote_index_column": 4609
                },
                {
                  "sentences": "There will be climbers hanging banners high in the Himalayas, where the glaciers are melting, and scuba divers at Australia’s Great Barrier Reef, which is threatened by climate change.",
                  "_deepnote_index_column": 4610
                },
                {
                  "sentences": "Churches will ring bells 350 times, 350 cyclists will circle towns, and, in many places, 350 trees will be planted.",
                  "_deepnote_index_column": 4611
                },
                {
                  "sentences": "At www.350.org you can find out what is happening near you and join in, or put your own idea online.",
                  "_deepnote_index_column": 4612
                },
                {
                  "sentences": "But don’t just sit back and hope that others will do enough to make an impact.",
                  "_deepnote_index_column": 4613
                },
                {
                  "sentences": "One day your grandchildren will ask you: what did you do to meet the greatest moral challenge of your time?",
                  "_deepnote_index_column": 4614
                },
                {
                  "sentences": "A Day of Liberation\nWhen I was seven years old, in 1960, my grandmother Angelica opened my eyes to the meaning of 8 May 1945, the day when Nazi Germany surrendered and World War II ended in Europe.",
                  "_deepnote_index_column": 4615
                },
                {
                  "sentences": "We were spending our summer holidays in Normandy where the liberation of Europe from Nazism had started on D-Day, 6 June 1944.",
                  "_deepnote_index_column": 4616
                },
                {
                  "sentences": "One evening, I listened to my parents and my grandmother talking about the past.",
                  "_deepnote_index_column": 4617
                },
                {
                  "sentences": "I have forgotten the details of their conversation, but I can still hear my grandmother’s sigh of relief when she said “Thank God we lost that war!”\nFrom a child’s perspective, it wasn’t self-evident that losing was a good thing.",
                  "_deepnote_index_column": 4618
                },
                {
                  "sentences": "But of course, my grandmother was right to equate defeat with liberation.",
                  "_deepnote_index_column": 4619
                },
                {
                  "sentences": "The more I have thought about the lesson she taught me 45 years ago, the clearer I have seen another, less obvious dimension in what she said: It is “we” who lost the war.",
                  "_deepnote_index_column": 4620
                },
                {
                  "sentences": "Collectively, the Germans had not been the innocent victims of a small gang of criminal outsiders called “Nazis” – Nazism had been an inside ideology supported by millions of Germans, and every German was liable for its atrocities whether or not he or she had adhered to it individually.",
                  "_deepnote_index_column": 4621
                },
                {
                  "sentences": "In today’s Germany, an overwhelming majority subscribes to the proposition that 8 May 1945 was a day of liberation – not only for Europe, but also for Germany itself.",
                  "_deepnote_index_column": 4622
                },
                {
                  "sentences": "Compared to public opinion in 1960, that’s certainly an enormous progress.",
                  "_deepnote_index_column": 4623
                },
                {
                  "sentences": "But paradoxically, it may also contain an element of forgetfulness, because it tends to conceal the fact that liberation required a military defeat.",
                  "_deepnote_index_column": 4624
                },
                {
                  "sentences": "To use my grandmother’s parlance, it is not “us” who were the liberators, but “them”.",
                  "_deepnote_index_column": 4625
                },
                {
                  "sentences": "The way people see the past tells us more about their present attitudes than about the past itself.",
                  "_deepnote_index_column": 4626
                },
                {
                  "sentences": "This is what the term “politics of memory” is meant to indicate.",
                  "_deepnote_index_column": 4627
                },
                {
                  "sentences": "And this is why it doesn’t matter whether the relevant events happened 60 years ago (as World War II), 90 years (as in the case of the Armenian genocide) or even 600 years (such as the battle of Kosovo in 1389).",
                  "_deepnote_index_column": 4628
                },
                {
                  "sentences": "A violent conflict in the past may survive as a war of memories in the present, as can be observed in the current dispute between China and South Korea on one side, and Japan on the other.",
                  "_deepnote_index_column": 4629
                },
                {
                  "sentences": "A war of memories, in turn, may sometimes lead to a violent conflict in the future.",
                  "_deepnote_index_column": 4630
                },
                {
                  "sentences": "Former perpetrators often try to de-legitimize their former victims’ moral superiority by claiming they were victims themselves.",
                  "_deepnote_index_column": 4631
                },
                {
                  "sentences": "Therefore, the 60th anniversary of the firebombing of Dresden by Allied forces on 13 February 1945 has probably been a more crucial moment in terms of the German “politics of memory” than the 60th anniversary of 8 May 1945 is going to be.",
                  "_deepnote_index_column": 4632
                },
                {
                  "sentences": "Far-right groups infamously dubbed the attack by which at least 30,000 people were killed “Dresden’s Holocaust of bombs.”\nFortunately, their propaganda campaign has been a failure.",
                  "_deepnote_index_column": 4633
                },
                {
                  "sentences": "Although it is true that thousands of the civilians killed in Dresden and other German cities were innocent at an individual level, there can be no doubt it was morally imperative that Germany be defeated collectively.",
                  "_deepnote_index_column": 4634
                },
                {
                  "sentences": "On the left side of the German political spectrum, the proposition that 8 May 1945 was a day of liberation remains unchallenged.",
                  "_deepnote_index_column": 4635
                },
                {
                  "sentences": "However, it is sometimes repressed that the massive use of force had been necessary to achieve that result.",
                  "_deepnote_index_column": 4636
                },
                {
                  "sentences": "Left-wing pacifism tends to overlook this simple fact.",
                  "_deepnote_index_column": 4637
                },
                {
                  "sentences": "Its slogan “Never again war!” is only half the truth – the other half is “Never again appeasement!”\n8 May 1945 was not “zero hour,” as a popular saying in Germany goes.",
                  "_deepnote_index_column": 4638
                },
                {
                  "sentences": "It had an antecedent, that is, a lack of pre-emptive resistance at home and abroad to the threat that built up in Nazi Germany during the 1930’s.",
                  "_deepnote_index_column": 4639
                },
                {
                  "sentences": "There is yet another lesson to be learned.",
                  "_deepnote_index_column": 4640
                },
                {
                  "sentences": "Yes, 8 May 1945 was a day of liberation to which the Soviet army contributed decisively.",
                  "_deepnote_index_column": 4641
                },
                {
                  "sentences": "But for millions of Central and East Europeans, liberation was followed by Stalin’s oppressive regime.",
                  "_deepnote_index_column": 4642
                },
                {
                  "sentences": "The current war of memories between the Baltic republics and Russia, with regard to the international celebration in Moscow on 9 May this year, reminds Germany of a special historic responsibility.",
                  "_deepnote_index_column": 4643
                },
                {
                  "sentences": "The German-Soviet non-aggression treaty, the so-called Hitler-Stalin pact, concluded in August 1939, had been supplemented by a secret appendix dividing the border states Finland, Estonia, Latvia, Lithuania, Poland and Romania into spheres of interest for the two parties.",
                  "_deepnote_index_column": 4644
                },
                {
                  "sentences": "But excusing Nazi atrocities by pointing to Stalinist crimes is an intellectually and morally unacceptable stratagem.",
                  "_deepnote_index_column": 4645
                },
                {
                  "sentences": "When Chancellor Schröder travels to Moscow for the Red Square celebrations, he should bear in mind Nazi Germany’s contribution to the Baltic tragedy.",
                  "_deepnote_index_column": 4646
                },
                {
                  "sentences": "On 8 May this year, public speakers will remind us how important it is not to forget.",
                  "_deepnote_index_column": 4647
                },
                {
                  "sentences": "They will stress that if the lessons of history are not learned, history is bound to repeat itself.",
                  "_deepnote_index_column": 4648
                },
                {
                  "sentences": "All this is perfectly true.",
                  "_deepnote_index_column": 4649
                },
                {
                  "sentences": "But personally, I will also remember my grandmother’s sentence “Thank God we lost that war!”\nThank God – and thanks to all those brave Allied soldiers who sacrificed their lives for the sake of Europe’s liberty.",
                  "_deepnote_index_column": 4650
                },
                {
                  "sentences": "Crashing the SDR\nSANTA BARBARA – The Chinese government’s campaign to have its currency, the renminbi, included in the International Monetary Fund’s reserve asset appears to be on the brink of success.",
                  "_deepnote_index_column": 4651
                },
                {
                  "sentences": "Last week, IMF staff formally recommended adding the renminbi to the basket of currencies that determines the value of its so-called Special Drawing Rights (SDRs).",
                  "_deepnote_index_column": 4652
                },
                {
                  "sentences": "The addition of the renminbi to the basket, which currently includes the US dollar, the euro, the British pound, and the Japanese yen, would provide China with a boost to its prestige.",
                  "_deepnote_index_column": 4653
                },
                {
                  "sentences": "More important, it would advance the government’s efforts to internationalize the renminbi.",
                  "_deepnote_index_column": 4654
                },
                {
                  "sentences": "But it would also be a mistake.",
                  "_deepnote_index_column": 4655
                },
                {
                  "sentences": "The decision to recommend the renminbi’s inclusion, far from having been made on sound economic grounds, can only be understood as political.",
                  "_deepnote_index_column": 4656
                },
                {
                  "sentences": "As such, the long-term consequences are likely to be regrettable.",
                  "_deepnote_index_column": 4657
                },
                {
                  "sentences": "On a purely technical basis, the renminbi’s qualifications for inclusion in the SDR basket are questionable.",
                  "_deepnote_index_column": 4658
                },
                {
                  "sentences": "Traditionally, the IMF has insisted on two criteria: a currency’s issuing country must be among the world’s leading exporters, and the currency must be “freely usable” – widely used and traded.",
                  "_deepnote_index_column": 4659
                },
                {
                  "sentences": "As the world’s largest exporter, China clearly meets the first condition.",
                  "_deepnote_index_column": 4660
                },
                {
                  "sentences": "The second, however, is probably still beyond its reach.",
                  "_deepnote_index_column": 4661
                },
                {
                  "sentences": "The renminbi is by no means in the same league as the SDR basket’s four incumbent currencies.",
                  "_deepnote_index_column": 4662
                },
                {
                  "sentences": "In 2014, China’s currency ranked seventh in global central-bank reserves, eighth in international bond issuance, and 11th in global currency trading.",
                  "_deepnote_index_column": 4663
                },
                {
                  "sentences": "Moreover, the renminbi remains non-convertible for most capital transactions, China’s financial markets are primitive, and trading margins for the exchange rate are still set daily by the monetary authorities.",
                  "_deepnote_index_column": 4664
                },
                {
                  "sentences": "Indeed, as recently as August, the IMF was skeptical about adding the renminbi to the SDR basket, saying that “significant work” was still needed, and suggesting that a decision should be put off until 2016 in order to ensure a “smooth” transition.",
                  "_deepnote_index_column": 4665
                },
                {
                  "sentences": "So why did the IMF flip?",
                  "_deepnote_index_column": 4666
                },
                {
                  "sentences": "The answer is obvious: China mounted a full-court press to change minds.",
                  "_deepnote_index_column": 4667
                },
                {
                  "sentences": "In August, the currency’s exchange-rate regime was loosened slightly.",
                  "_deepnote_index_column": 4668
                },
                {
                  "sentences": "Renminbi-denominated government bonds were issued in London, and plans were laid to create new trading platforms for the currency in several European financial centers.",
                  "_deepnote_index_column": 4669
                },
                {
                  "sentences": "And Chinese policymakers made it abundantly clear how unhappy they would be with a negative decision.",
                  "_deepnote_index_column": 4670
                },
                {
                  "sentences": "Their pressure paid off.",
                  "_deepnote_index_column": 4671
                },
                {
                  "sentences": "One by one, Western governments fell in line behind the renminbi, despite its practical limitations.",
                  "_deepnote_index_column": 4672
                },
                {
                  "sentences": "The Fund got the message, and now the fix is in.",
                  "_deepnote_index_column": 4673
                },
                {
                  "sentences": "The recommendation to enlarge the SDR basket has been warmly backed by Christine Lagarde, the IMF’s managing director, and a final decision by the Fund’s executive board is expected at the end of the month.",
                  "_deepnote_index_column": 4674
                },
                {
                  "sentences": "Many would argue that this is a positive development.",
                  "_deepnote_index_column": 4675
                },
                {
                  "sentences": "Certainly, it mollifies China’s leaders, offering them a stronger incentive to continue to work within the existing international monetary regime.",
                  "_deepnote_index_column": 4676
                },
                {
                  "sentences": "Recent Chinese initiatives, especially the creation of the Asian Infrastructure Investment Bank, have given rise to fears that the country intends to build a new set of international institutions to compete with Western-dominated organizations like the IMF.",
                  "_deepnote_index_column": 4677
                },
                {
                  "sentences": "The decision to add the renminbi to the SDR basket may have put that danger into remission.",
                  "_deepnote_index_column": 4678
                },
                {
                  "sentences": "On the other hand, the move sets a worrying precedent, injecting politics into a policy area that had been governed by objective economic considerations.",
                  "_deepnote_index_column": 4679
                },
                {
                  "sentences": "Conceivably, over the longer term, China’s successful campaign could now open the door to lobbying by other governments to include their currencies as well.",
                  "_deepnote_index_column": 4680
                },
                {
                  "sentences": "Why not add the Swiss franc or the Canadian dollar?",
                  "_deepnote_index_column": 4681
                },
                {
                  "sentences": "Or, for that matter, why not include the Russian ruble or Indian rupee?",
                  "_deepnote_index_column": 4682
                },
                {
                  "sentences": "What was once the dignified preserve of obviously elite currencies could become the site of messy political battles for elevated status.",
                  "_deepnote_index_column": 4683
                },
                {
                  "sentences": "Of course, it can be argued that China’s recent economic trajectory means that it is only a matter of time before the renminbi does become a match for the SDR’s incumbents.",
                  "_deepnote_index_column": 4684
                },
                {
                  "sentences": "After all, international use of the currency has been growing exponentially.",
                  "_deepnote_index_column": 4685
                },
                {
                  "sentences": "But that optimistic assessment overestimates the renminbi’s prospects and illustrates the danger of linear extrapolation of the past into the future.",
                  "_deepnote_index_column": 4686
                },
                {
                  "sentences": "Likewise, use of the renminbi for the purpose of invoicing and settling trade with China is bound to continue growing.",
                  "_deepnote_index_column": 4687
                },
                {
                  "sentences": "But in terms of the all-important roles of a currency as an investment vehicle or reserve asset, the outlook for the renminbi is much less promising, owing to China’s still-tight capital controls and low level of financial development.",
                  "_deepnote_index_column": 4688
                },
                {
                  "sentences": "Nor is inclusion of the renminbi in the SDR basket likely to provide as big a boost to the currency’s internationalization as many believe.",
                  "_deepnote_index_column": 4689
                },
                {
                  "sentences": "Some central banks may decide to follow suit, adding renminbi-denominated assets to their reserves to match the composition of the basket.",
                  "_deepnote_index_column": 4690
                },
                {
                  "sentences": "But the increase will be marginal at best – some $40 billion in the next few years, according to the IMF’s calculations.",
                  "_deepnote_index_column": 4691
                },
                {
                  "sentences": "With global reserves now totaling more than $10 trillion, that is a mere drop in the proverbial bucket.",
                  "_deepnote_index_column": 4692
                },
                {
                  "sentences": "The political reasons for including the renminbi in the SDR are all too clear.",
                  "_deepnote_index_column": 4693
                },
                {
                  "sentences": "Unfortunately, the risks of doing so are no less obvious.",
                  "_deepnote_index_column": 4694
                },
                {
                  "sentences": "A Defeat for International Tax Cooperation\nNEW YORK – Most of the world’s governments – eager to mobilize more tax revenues to finance development and curb pervasive tax-avoidance schemes, such as those revealed in the so-called Luxembourg Leaks scandal last year – have an interest in collaborating on taxation matters.",
                  "_deepnote_index_column": 4695
                },
                {
                  "sentences": "Yet at the Third International Conference on Financing for Development, held in Addis Ababa last month, the momentum toward strengthening international tax cooperation came to an abrupt halt.",
                  "_deepnote_index_column": 4696
                },
                {
                  "sentences": "Developed countries blocked a proposal at the conference to establish an intergovernmental tax body within the United Nations to replace the current UN Committee of Experts.",
                  "_deepnote_index_column": 4697
                },
                {
                  "sentences": "These countries insist that tax cooperation should take place exclusively under the leadership of the OECD, a body that they control.",
                  "_deepnote_index_column": 4698
                },
                {
                  "sentences": "The rest of the world should hope this will prove to be a pause rather than an end to progress on international tax cooperation, which began 13 years ago, at the first International Conference on Financing for Development in Monterrey, Mexico.",
                  "_deepnote_index_column": 4699
                },
                {
                  "sentences": "Two years later, in 2004, the United Nations Economic and Social Council (ECOSOC) upgraded its “ad hoc group” of tax experts to a regular committee.",
                  "_deepnote_index_column": 4700
                },
                {
                  "sentences": "This meant that the experts would meet regularly and have an expanded mandate that went beyond merely updating a model double-taxation treaty.",
                  "_deepnote_index_column": 4701
                },
                {
                  "sentences": "Four years later, at the Second Conference on Financing for Development, in Doha, Qatar, policymakers acknowledged that more needed to be done in tax matters, and asked ECOSOC to consider strengthening institutional arrangements.",
                  "_deepnote_index_column": 4702
                },
                {
                  "sentences": "And then, in the year leading up to the Addis Ababa conference, the UN Secretary-General endorsed the need for “an intergovernmental committee on tax cooperation, under the auspices of the United Nations.”\nHis endorsement, along with strong support from nongovernmental organizations and the Independent Commission for the Reform of International Corporate Taxation, gave greater force to the demand by developing countries, organized around the Group of 77 and China, for an equal voice in setting global tax norms.",
                  "_deepnote_index_column": 4703
                },
                {
                  "sentences": "Up until the 11th hour of negotiations in Addis Ababa, they stood firm in calling for an intergovernmental body with the mandate and resources to create a coherent global framework for international tax cooperation.",
                  "_deepnote_index_column": 4704
                },
                {
                  "sentences": "But to no avail: Developed countries, led by the United States and the United Kingdom –home to many of the multinational corporations implicated in the “Lux Leaks” – succeeded in blocking this much-needed advance in global governance.",
                  "_deepnote_index_column": 4705
                },
                {
                  "sentences": "In the end, the Addis Ababa Action Agenda provides that the current Committee of Experts will continue to function according to its 2004 mandate, with three additional meeting days per year, all funded through voluntary contributions.",
                  "_deepnote_index_column": 4706
                },
                {
                  "sentences": "That is a profoundly disappointing outcome.",
                  "_deepnote_index_column": 4707
                },
                {
                  "sentences": "The developed countries have an argument – but not a convincing one.",
                  "_deepnote_index_column": 4708
                },
                {
                  "sentences": "The OECD, whose members are essentially the world’s 34 richest countries, certainly has the capacity to set international standards on taxation.",
                  "_deepnote_index_column": 4709
                },
                {
                  "sentences": "Yet the domination of a select group of countries over tax norms has meant that, in reality, the global governance architecture for taxation has not kept pace with globalization.",
                  "_deepnote_index_column": 4710
                },
                {
                  "sentences": "The Monterrey Consensus reached in 2002 included a call to enhance “the voice and participation of developing countries in international economic decision-making and norms-setting.”\nBut although the OECD invites some developing countries to participate in its discussions to establish norms, it offers them no decision-making power.",
                  "_deepnote_index_column": 4711
                },
                {
                  "sentences": "The OECD is thus a weak surrogate for a globally representative intergovernmental forum.",
                  "_deepnote_index_column": 4712
                },
                {
                  "sentences": "Such a body must operate under the auspices of the United Nations, which bears the institutional legitimacy necessary to respond effectively to the challenges of globalization with coherent global standards to combat abusive tax practices and ensure fair taxation of corporate profits worldwide.",
                  "_deepnote_index_column": 4713
                },
                {
                  "sentences": "Despite the disappointment in Addis Ababa, the call for reform of the international tax system is not likely to be silenced.",
                  "_deepnote_index_column": 4714
                },
                {
                  "sentences": "Instead, it will grow louder on all sides, as the developed countries’ counter-productive resistance to any give and take on international cooperation results in a tsunami of unilateral tax measures beyond OECD control.",
                  "_deepnote_index_column": 4715
                },
                {
                  "sentences": "The Making of Euro-Jihadism\nMADRID – The Belgian historian Henri Pirenne linked Europe’s birth as a Christian continent in the eighth century to its rupture with Islam.",
                  "_deepnote_index_column": 4716
                },
                {
                  "sentences": "Pirenne probably would never have expected a Muslim ghetto in Brussels to emerge, much less become a hub of jihadism, with marginalized and angry young Muslims revolting against Europe from within its own borders.",
                  "_deepnote_index_column": 4717
                },
                {
                  "sentences": "Divorce is not an option these days.",
                  "_deepnote_index_column": 4718
                },
                {
                  "sentences": "But nor is the kind of marriage that the Islam scholar Tariq Ramadan advocates.",
                  "_deepnote_index_column": 4719
                },
                {
                  "sentences": "Ramadan, a grandson of the founder of the Muslim Brotherhood in Egypt, is a Swiss citizen and a resident of the United Kingdom who argues that Islamic ethics and values should be injected into the European system.",
                  "_deepnote_index_column": 4720
                },
                {
                  "sentences": "Europe would then not just tolerate Islam, but actually embrace it as an integral part of itself.",
                  "_deepnote_index_column": 4721
                },
                {
                  "sentences": "The problem with Ramadan’s vision is that Europe is an overwhelmingly secular continent, with a profoundly forward-thinking approach to ethics.",
                  "_deepnote_index_column": 4722
                },
                {
                  "sentences": "Islamic societies, by contrast, are both deeply religious and deeply embedded in the past.",
                  "_deepnote_index_column": 4723
                },
                {
                  "sentences": "When Islamists speak of political or social reform, they are typically looking backward, hoping to resurrect a time when core European principles – from gender equality to gay marriage – were repudiated.",
                  "_deepnote_index_column": 4724
                },
                {
                  "sentences": "Even Muslims who support the modernization of Islam would typically stop well short of Europe’s ethical vision.",
                  "_deepnote_index_column": 4725
                },
                {
                  "sentences": "The flaws in Ramadan’s proposed solution to Euro-jihadism mirror the flaws in his explanation for the phenomenon, which he attributes largely to Europe’s involvement in the wars in the Middle East, its supposed collusion with Israel’s suppression of the Palestinians, and its support of Arab autocrats.",
                  "_deepnote_index_column": 4726
                },
                {
                  "sentences": "“We cannot,” he writes, “support dictatorships … be silent when civilians are massacred south of our borders, and hope that we will not receive a response to the injustice and humiliation we have provoked.”\nBut it is the United States that launched wars in Iraq and Afghanistan, offers unconditional support to Israel, and has repeatedly propped up Arab autocrats.",
                  "_deepnote_index_column": 4727
                },
                {
                  "sentences": "And it is Europe that has consistently criticized these policies – often harshly.",
                  "_deepnote_index_column": 4728
                },
                {
                  "sentences": "Yet America is not being subjected to a major surge of jihadist sentiment within its borders.",
                  "_deepnote_index_column": 4729
                },
                {
                  "sentences": "It might have helped that US President Barack Obama backed away from some of these policies.",
                  "_deepnote_index_column": 4730
                },
                {
                  "sentences": "When the Arab Spring uprisings began, for example, he was quick to cut support for Tunisian President Zine El Abidine Ben Ali and Egyptian President Hosni Mubarak, allowing protesters – inspired by the Western model of democracy – to secure regime change.",
                  "_deepnote_index_column": 4731
                },
                {
                  "sentences": "The return to autocracy in Egypt in 2013, via Abdel Fattah el-Sisi’s coup d’état, certainly was not aided by the US or Europe, both of which supported the democratically elected Muslim Brotherhood.",
                  "_deepnote_index_column": 4732
                },
                {
                  "sentences": "Europe has offered even more direct help to Arab countries in recent years.",
                  "_deepnote_index_column": 4733
                },
                {
                  "sentences": "If it were not for Europe’s military intervention, Libyans would still be living under the tyrannical Muammar el-Qaddafi.",
                  "_deepnote_index_column": 4734
                },
                {
                  "sentences": "True, Europe could have done more to prevent the ensuing chaos in Libya.",
                  "_deepnote_index_column": 4735
                },
                {
                  "sentences": "But the people of Libya surely must take responsibility for the proliferation of competing militias that refuse to unite to save their state from total collapse.",
                  "_deepnote_index_column": 4736
                },
                {
                  "sentences": "More broadly, though the West – especially the US – has made grave policy errors in the Arab world over the last 50 years, external powers cannot be blamed entirely for the region’s meltdown.",
                  "_deepnote_index_column": 4737
                },
                {
                  "sentences": "That is the result of a profound civilizational crisis – one that can be redressed only by the people of the Arab world.",
                  "_deepnote_index_column": 4738
                },
                {
                  "sentences": "If Europe’s foreign policy is not responsible for the Arab world’s current turmoil, it certainly cannot be the reason for the rise of jihadism within its own borders.",
                  "_deepnote_index_column": 4739
                },
                {
                  "sentences": "The real problem lies at home: a disastrous deficit of effective policies related to social justice, education, housing, and employment for young European Muslims.",
                  "_deepnote_index_column": 4740
                },
                {
                  "sentences": "Marginalization generates frustration, which is subsequently fed by growing Islamophobia and the rise of raucous right-wing movements throughout the continent.",
                  "_deepnote_index_column": 4741
                },
                {
                  "sentences": "This link is apparent in the fact that the majority of European jihadists come from underprivileged backgrounds.",
                  "_deepnote_index_column": 4742
                },
                {
                  "sentences": "Not particularly well versed in the true teachings of Islam, and lacking opportunities to improve their lives, they become easy prey for extremists.",
                  "_deepnote_index_column": 4743
                },
                {
                  "sentences": "Jihadism, with its absolute certainty and grand mission, offers a sense of purpose, pride, and identity – not to mention adventure – and an outlet for their anger against the “home” that has denied them those things.",
                  "_deepnote_index_column": 4744
                },
                {
                  "sentences": "The story of America’s Muslims is the measure of Europe’s failure.",
                  "_deepnote_index_column": 4745
                },
                {
                  "sentences": "Like most Americans, Muslims in the US maintain a certain amount of faith in the American dream.",
                  "_deepnote_index_column": 4746
                },
                {
                  "sentences": "They are mostly middle class, and, despite all the talk about rising economic inequality, they have not given up on the belief that, in the US, hard work and initiative are rewarded.",
                  "_deepnote_index_column": 4747
                },
                {
                  "sentences": "America is a country of immigrants, with a dynamic economy that has enabled newcomers, time and again, to achieve great success.",
                  "_deepnote_index_column": 4748
                },
                {
                  "sentences": "In Europe, by contrast, improving one’s social standing has always been very difficult; and, at a time of economic stagnation and staggeringly high unemployment, it is not getting any easier.",
                  "_deepnote_index_column": 4749
                },
                {
                  "sentences": "Socially, America also offers something to Muslims that Europe does not.",
                  "_deepnote_index_column": 4750
                },
                {
                  "sentences": "Its fundamentally religious culture enables Muslims to retain their identity to a far greater extent than in secular Europe.",
                  "_deepnote_index_column": 4751
                },
                {
                  "sentences": "Indeed, America’s core values – personal responsibility and constitutional patriotism – can be easier for Muslims to swallow than Europe’s more aggressively secular brand of liberalism.",
                  "_deepnote_index_column": 4752
                },
                {
                  "sentences": "As a result, integration and assimilation tend to be easier for Muslims in America.",
                  "_deepnote_index_column": 4753
                },
                {
                  "sentences": "All of this suggests that Europe must look inward to address homegrown jihadism effectively.",
                  "_deepnote_index_column": 4754
                },
                {
                  "sentences": "This does not mean that it should temper its secularism, much less its liberal values.",
                  "_deepnote_index_column": 4755
                },
                {
                  "sentences": "Rather, Europe must breathe life into its own “European dream,” ensuring that all people have access to real opportunities to improve their lives.",
                  "_deepnote_index_column": 4756
                },
                {
                  "sentences": "Otherwise, it will face a lost generation of millions of young Europeans – Muslim and otherwise.",
                  "_deepnote_index_column": 4757
                },
                {
                  "sentences": "The New Climate Economics\nNEW YORK – This Friday, in its latest comprehensive assessment of the evidence on global warming, the United Nations Intergovernmental Panel on Climate Change will show that the world’s climate scientists are more certain than ever that human activity – largely combustion of fossil fuels – is causing temperatures and sea levels to rise.",
                  "_deepnote_index_column": 4758
                },
                {
                  "sentences": "In recent years, a series of extreme weather events – including Hurricane Sandy in New York and New Jersey, floods in China, and droughts in the American Midwest, Russia, and many developing countries – have caused immense damage.",
                  "_deepnote_index_column": 4759
                },
                {
                  "sentences": "Last week, Mexico experienced simultaneous hurricanes in the Pacific and in the Gulf of Mexico that devastated towns and cities in their path.",
                  "_deepnote_index_column": 4760
                },
                {
                  "sentences": "Climate change will be a major driver of such events, and we risk much worse.",
                  "_deepnote_index_column": 4761
                },
                {
                  "sentences": "This puts a new debate center stage: how to reconcile increased action to reduce greenhouse gas emissions with strong economic growth.",
                  "_deepnote_index_column": 4762
                },
                {
                  "sentences": "It is a debate that is already mired in controversy.",
                  "_deepnote_index_column": 4763
                },
                {
                  "sentences": "As most countries have started making serious investments in renewable energy, and many are implementing carbon prices and regulations, critics complain that such policies may undermine growth.",
                  "_deepnote_index_column": 4764
                },
                {
                  "sentences": "With the global economy still recovering from the 2008 financial crash, higher energy costs – not yet fully offset by greater energy efficiency – are worrying business and political leaders.",
                  "_deepnote_index_column": 4765
                },
                {
                  "sentences": "The advent of shale gas has confused the energy debate even more.",
                  "_deepnote_index_column": 4766
                },
                {
                  "sentences": "If gas is substituted for coal, it can be a useful bridge to a low-carbon future.",
                  "_deepnote_index_column": 4767
                },
                {
                  "sentences": "But astonishingly, it is coal, the dirtiest fuel, that is experiencing the sharpest increase in use.",
                  "_deepnote_index_column": 4768
                },
                {
                  "sentences": "Companies and investors are hedging their bets by taking a few resource-efficiency measures and investing in some low-carbon assets, but leaving their high-carbon portfolios and activities largely intact.",
                  "_deepnote_index_column": 4769
                },
                {
                  "sentences": "Policy vacillation in some countries has not helped.",
                  "_deepnote_index_column": 4770
                },
                {
                  "sentences": "Advocates of stronger action respond that low-carbon investments can generate much stronger, cleaner growth.",
                  "_deepnote_index_column": 4771
                },
                {
                  "sentences": "They point to the savings available from energy efficiency, and to the market opportunities generated by clean-energy technologies as the processes of learning and discovery take hold.",
                  "_deepnote_index_column": 4772
                },
                {
                  "sentences": "They seek to demonstrate the benefits that a more sustainable pattern of development can bring to the world’s cities, to people’s health (from the reduction in air pollution), to energy security, and to the ability of the world’s poor to access energy.",
                  "_deepnote_index_column": 4773
                },
                {
                  "sentences": "And they propose green bonds and public investment banks to finance new infrastructure and jobs at a time when world interest rates are low and demand is depressed in many countries.",
                  "_deepnote_index_column": 4774
                },
                {
                  "sentences": "These are serious economic debates, but too often they have become entangled in ideological disputes about the appropriate response to the economic crisis and the value of government intervention in markets.",
                  "_deepnote_index_column": 4775
                },
                {
                  "sentences": "That is regrettable.",
                  "_deepnote_index_column": 4776
                },
                {
                  "sentences": "Climate change is not a partisan issue, and climate policy is essentially market-based.",
                  "_deepnote_index_column": 4777
                },
                {
                  "sentences": "It is about correcting market failures so that markets and entrepreneurship can play their proper role of ensuring innovation and efficient resource allocation.",
                  "_deepnote_index_column": 4778
                },
                {
                  "sentences": "In order to escape this impasse, we have helped to launch the Global Commission on the Economy and Climate.",
                  "_deepnote_index_column": 4779
                },
                {
                  "sentences": "The Commission’s New Climate Economy project brings together seven leading policy research institutes from six continents, overseen by a panel of former heads of government and finance ministers and prominent business leaders, and advised by a panel of leading economists from across the world.",
                  "_deepnote_index_column": 4780
                },
                {
                  "sentences": "Its purpose is to provide authoritative new evidence concerning how governments and businesses can achieve stronger economic growth while simultaneously addressing climate risks.",
                  "_deepnote_index_column": 4781
                },
                {
                  "sentences": "Few governments or investors start from the standpoint of climate change.",
                  "_deepnote_index_column": 4782
                },
                {
                  "sentences": "They want to promote investment and economic growth, create jobs, stabilize public finances, expand markets, turn profits, ensure reliable energy and food supplies, produce goods and services, reduce poverty, and build cities.",
                  "_deepnote_index_column": 4783
                },
                {
                  "sentences": "So the primary question that we need to ask is not whether we can reduce emissions, but how public policy can help to achieve these core goals while reducing emissions and building a more climate-resilient economy.",
                  "_deepnote_index_column": 4784
                },
                {
                  "sentences": "There is now a lot of experience around the world in this area.",
                  "_deepnote_index_column": 4785
                },
                {
                  "sentences": "When the Stern Review on the economics of climate change was published seven years ago, the subject was largely theoretical.",
                  "_deepnote_index_column": 4786
                },
                {
                  "sentences": "Now countries at all stages of development are pursuing new patterns of economic growth that take climate into account.",
                  "_deepnote_index_column": 4787
                },
                {
                  "sentences": "Germany, for example, is planning the world’s most ambitious low-carbon energy transition, based on energy conservation and renewables.",
                  "_deepnote_index_column": 4788
                },
                {
                  "sentences": "South Korea has made “green growth” a central economic goal.",
                  "_deepnote_index_column": 4789
                },
                {
                  "sentences": "Mexico’s 2012 General Law on Climate Change has put it on course for a major increase in clean power.",
                  "_deepnote_index_column": 4790
                },
                {
                  "sentences": "China has placed the industrial development of green technologies at the top of its agenda.",
                  "_deepnote_index_column": 4791
                },
                {
                  "sentences": "Ethiopia is seeking to move to lower-carbon farming.",
                  "_deepnote_index_column": 4792
                },
                {
                  "sentences": "Brazil has significantly reduced the rate of deforestation in the Amazon.",
                  "_deepnote_index_column": 4793
                },
                {
                  "sentences": "Some major businesses are providing powerful examples of what is possible.",
                  "_deepnote_index_column": 4794
                },
                {
                  "sentences": "Unilever has committed to the sustainable sourcing of agricultural and forest products.",
                  "_deepnote_index_column": 4795
                },
                {
                  "sentences": "Coca-Cola is phasing out all use of climate-polluting hydrofluorocarbons.",
                  "_deepnote_index_column": 4796
                },
                {
                  "sentences": "The retail giant Wal-Mart is driving emissions reduction throughout its supply chain.",
                  "_deepnote_index_column": 4797
                },
                {
                  "sentences": "Meanwhile, the World Bank and the European Investment Bank have stopped lending to high-emission coal plants.",
                  "_deepnote_index_column": 4798
                },
                {
                  "sentences": "Yet genuine questions remain about how fast economies should move on to a low-carbon path, and the most effective way to do so.",
                  "_deepnote_index_column": 4799
                },
                {
                  "sentences": "Some low-carbon policies have clearly been expensive, while other, apparently cost-effective options, have not been pursued at all.",
                  "_deepnote_index_column": 4800
                },
                {
                  "sentences": "Any structural transformation involves costs, trade-offs, and uncertainties, and it is vital that we understand these properly.",
                  "_deepnote_index_column": 4801
                },
                {
                  "sentences": "Powerful interests will, of course, oppose any low-carbon transition, dismissing and often drowning out those who stand to benefit.",
                  "_deepnote_index_column": 4802
                },
                {
                  "sentences": "That makes it even more important to clarify the choices.",
                  "_deepnote_index_column": 4803
                },
                {
                  "sentences": "As science makes clear how imperative the climate question is, it is time for economists and policymakers to explain how it can be answered.",
                  "_deepnote_index_column": 4804
                },
                {
                  "sentences": "The West’s Arrested Social Development\nBERLIN – After three decades of worsening economic inequality, advanced-country populations are angry, and they are taking their grievances to the ballot box or the streets.",
                  "_deepnote_index_column": 4805
                },
                {
                  "sentences": "But credibly addressing inequality also demands action regarding a less-discussed facet of this trend: declining intergenerational social mobility.",
                  "_deepnote_index_column": 4806
                },
                {
                  "sentences": "Following its targeted killing of Iran's second most powerful leader, the US could well find itself with no alternative but to devote more military resources to the Middle East, a path that could lead to additional Iranian provocations.",
                  "_deepnote_index_column": 4807
                },
                {
                  "sentences": "And that shift would occur at a time of growing challenges to US interests elsewhere in the world.",
                  "_deepnote_index_column": 4808
                },
                {
                  "sentences": "The targeted killing by the United States of one of Iran's top military leaders represents a significant symbolic defeat for the Iranian regime, but it does not augur all-out war.",
                  "_deepnote_index_column": 4809
                },
                {
                  "sentences": "After all, Iran and the US have already been at war for decades, and neither side has an interest in an uncontrolled military escalation now.",
                  "_deepnote_index_column": 4810
                },
                {
                  "sentences": "As in previous years, Project Syndicate asked its commentators to offer their best guesses about the events and trends that will define the coming 12 months.",
                  "_deepnote_index_column": 4811
                },
                {
                  "sentences": "If there is one common theme in this year's selection, it is that what happens in 2020 will weigh on the present for many years to come.",
                  "_deepnote_index_column": 4812
                },
                {
                  "sentences": "Nowadays, parents cannot assume that their children will be better off than they are.",
                  "_deepnote_index_column": 4813
                },
                {
                  "sentences": "On the contrary, a 2018 OECD report concluded that in the average developed country, it would take 4-5 generations for children from the bottom earnings decile to reach the mean earnings level.",
                  "_deepnote_index_column": 4814
                },
                {
                  "sentences": "The more unequal the country, the longer upward mobility takes.",
                  "_deepnote_index_column": 4815
                },
                {
                  "sentences": "Inequality and lack of social mobility are closely linked to geography, with urban areas typically doing much better than rural ones.",
                  "_deepnote_index_column": 4816
                },
                {
                  "sentences": "In the United States, the Brookings Institution reports that cities with more than one million residents have contributed 72% of total employment growth since the 2008 financial crisis, compared to just 6% for cities with populations of 50,000-250,000.",
                  "_deepnote_index_column": 4817
                },
                {
                  "sentences": "Since 1970, wages in the top 2% of US metropolitan areas have risen by nearly 70%, compared to 45% in the rest of the country.",
                  "_deepnote_index_column": 4818
                },
                {
                  "sentences": "Likewise, in France’s Île-de-France region, which includes Paris, GDP per capita rose from 148% of the national average in 1975 to 165% in 2010, whereas in the less-developed Lorraine, that figure fell from 95% to 76% over the same period.",
                  "_deepnote_index_column": 4819
                },
                {
                  "sentences": "This divide can also be seen in Germany, though one major city, Berlin, does lag behind the rest.",
                  "_deepnote_index_column": 4820
                },
                {
                  "sentences": "In 2016, per capita GDP in Germany’s poorest state, Mecklenburg-Vorpommern, was just $29,133 – 60% lower than Hamburg’s $69,719.",
                  "_deepnote_index_column": 4821
                },
                {
                  "sentences": "The national average was $43,110.",
                  "_deepnote_index_column": 4822
                },
                {
                  "sentences": "A study by the UK2070 Commission shows that from 1971 to 2013, Northern England’s cumulative output growth fell by 17 percentage points, whereas London’s rose by 12.",
                  "_deepnote_index_column": 4823
                },
                {
                  "sentences": "This has important implications for social mobility: a child who is poor enough for free school meals in Hackney, one of London’s poorest boroughs, is still three times more likely to attend university than an equally poor child in the northern town of Hartlepool.",
                  "_deepnote_index_column": 4824
                },
                {
                  "sentences": "These trends can be traced back to the 1980s, when US President Ronald Reagan and UK Prime Minister Margaret Thatcher began to pursue structural reforms that aimed to boost competitiveness by rebalancing their economies away from manufacturing and curbing the power of unions.",
                  "_deepnote_index_column": 4825
                },
                {
                  "sentences": "But, while those reforms were in some ways warranted – recall the “stagflation” of the 1970s – little was done to mitigate their social consequences.",
                  "_deepnote_index_column": 4826
                },
                {
                  "sentences": "This policy failure, exacerbated by the effects of technological progress, led to what the economist Dennis J. Snower calls as the “decoupling” of economic and social trajectories: even as GDP grew, real wages and prospects for advancement stagnated or deteriorated for large swaths of the population.",
                  "_deepnote_index_column": 4827
                },
                {
                  "sentences": "For example, the Economic Policy Institute reports that, from 1979 to 2018, net productivity in the US rose 70%, but real hourly wages increased by only 12%.",
                  "_deepnote_index_column": 4828
                },
                {
                  "sentences": "Today, 14% of Americans – more than half of whom are people of color – are “working poor” (full-time workers with incomes that are less than 200% of the poverty line).",
                  "_deepnote_index_column": 4829
                },
                {
                  "sentences": "With low-paying jobs and little hope of getting ahead, a growing share of people are stuck in a kind of limbo, earning too little to make ends meet, but too much to qualify for government support.",
                  "_deepnote_index_column": 4830
                },
                {
                  "sentences": "Over time, they become economically, socially, and culturally isolated, increasingly resentful of the prosperous elites, and vulnerable to appeals by neo-nationalist populists and aspiring authoritarians.",
                  "_deepnote_index_column": 4831
                },
                {
                  "sentences": "This dynamic is most pronounced in the US, where it contributed to the election of President Donald Trump, and in the UK, where it fueled support for Brexit.",
                  "_deepnote_index_column": 4832
                },
                {
                  "sentences": "But, with much of the Western world having followed Thatcher and Reagan’s example, it is now afflicting all developed economies, dividing societies and stunting their development.",
                  "_deepnote_index_column": 4833
                },
                {
                  "sentences": "None of this should be surprising.",
                  "_deepnote_index_column": 4834
                },
                {
                  "sentences": "In 1995, the sociologist Ralf Dahrendorf described the “perverse choices” demanded by globalization.",
                  "_deepnote_index_column": 4835
                },
                {
                  "sentences": "To become and remain competitive in international markets, he observed, countries had to use resources in ways that threatened social cohesion and political freedom.",
                  "_deepnote_index_column": 4836
                },
                {
                  "sentences": "These choices led, for example, to a new form of inequality that Dahrendorf called inequalization: “building paths to the top for some and digging holes for others, creating cleavages, splitting.”\nHe presciently predicted that the emergence of an “underclass,” excluded and insecure both economically and socially, would give rise to authoritarian temptations.",
                  "_deepnote_index_column": 4837
                },
                {
                  "sentences": "The advanced economies’ “overriding task” for the subsequent decade, Dahrendorf wrote, was to get as close to possible to “[squaring] the circle of wealth creation, social cohesion, and political freedom.”\nYet more than two decades later, most have not even attempted that feat.",
                  "_deepnote_index_column": 4838
                },
                {
                  "sentences": "Instead, following the logic of neoliberalism, they focused on economic growth.",
                  "_deepnote_index_column": 4839
                },
                {
                  "sentences": "It is time to heed Dahrendorf’s call.",
                  "_deepnote_index_column": 4840
                },
                {
                  "sentences": "This does not mean implementing protectionist policies, which would not only undermine economic growth, but also potentially reinforce authoritarian temptations, given such policies’ link to identity politics.",
                  "_deepnote_index_column": 4841
                },
                {
                  "sentences": "Instead, it requires a comprehensive program comprising proven measures for increasing economic security and social and political engagement.",
                  "_deepnote_index_column": 4842
                },
                {
                  "sentences": "For starters, countries should reform their tax systems with an eye to reducing wealth disparities and encouraging entrepreneurship and job creation.",
                  "_deepnote_index_column": 4843
                },
                {
                  "sentences": "At the same time, following the example of California – where post-World War II investment in public universities were pivotal to its subsequent economic success – they should foster social mobility through investment in education and skills training.",
                  "_deepnote_index_column": 4844
                },
                {
                  "sentences": "Social protections targeting those who are most vulnerable to globalization are also needed, as are policies to compensate for regional disparities, including managed migration (both domestically and internationally).",
                  "_deepnote_index_column": 4845
                },
                {
                  "sentences": "In the 1930s, US President Franklin D. Roosevelt’s New Deal, which lifted the US out of the Great Depression, included such measures, as did similar programs in Europe.",
                  "_deepnote_index_column": 4846
                },
                {
                  "sentences": "Finally, to counter social exclusion and fragmentation, efforts must be made to strengthen civil society and to encourage sustained, credible, and respectful public debates.",
                  "_deepnote_index_column": 4847
                },
                {
                  "sentences": "It may take decades to heal social and cultural divides, but it can be done.",
                  "_deepnote_index_column": 4848
                },
                {
                  "sentences": "The question is whether leaders will do what is needed.",
                  "_deepnote_index_column": 4849
                },
                {
                  "sentences": "Only the Poor Die Young\nROTTERDAM – People who are lower on the socioeconomic ladder (indicated by their level of education, occupation, or income) have shorter and less healthy lives, on average, than those on higher rungs.",
                  "_deepnote_index_column": 4850
                },
                {
                  "sentences": "Indeed, life expectancy at birth often varies by 5-10 years, depending on social and economic well-being, with poorer people spending 10-20 more years of life suffering from illness or disability than their wealthier counterparts.",
                  "_deepnote_index_column": 4851
                },
                {
                  "sentences": "In the nineteenth century, this situation would not have been surprising, given low average income, widespread poverty, and lack of social security.",
                  "_deepnote_index_column": 4852
                },
                {
                  "sentences": "But such data are commonly reported for high-income countries today, including those ranking high on indices of economic prosperity and human development – even Western Europe’s highly developed welfare states.",
                  "_deepnote_index_column": 4853
                },
                {
                  "sentences": "Since the end of World War II, Western European countries have tried to reduce socioeconomic inequality, or offset its consequences, through progressive taxation, social security programs, and a wide range of collectively financed provisions, such as public housing, education, health care, and cultural and leisure facilities.",
                  "_deepnote_index_column": 4854
                },
                {
                  "sentences": "But, while these policies have reduced inequalities in some social and economic outcomes, including income, housing quality, and health-care access, they have been insufficient to eliminate health inequalities.",
                  "_deepnote_index_column": 4855
                },
                {
                  "sentences": "Long-term time-series data indicate that the socioeconomic mortality gap narrowed before the 1950’s, but has grown substantially since then.",
                  "_deepnote_index_column": 4856
                },
                {
                  "sentences": "More puzzling is the fact that more generous welfare policies do not translate into smaller health disparities.",
                  "_deepnote_index_column": 4857
                },
                {
                  "sentences": "Even the Nordic countries – world leaders when it comes to creating universal and well-designed welfare policies that cover citizens from cradle to grave – face significant health disparities, despite their relatively low income inequality.",
                  "_deepnote_index_column": 4858
                },
                {
                  "sentences": "To be sure, modern welfare states have far from abolished social inequality, with disparities in access to material and human resources continuing to generate highly unequal lives among their citizens.",
                  "_deepnote_index_column": 4859
                },
                {
                  "sentences": "But the welfare state’s aim has never been radical redistribution of wealth.",
                  "_deepnote_index_column": 4860
                },
                {
                  "sentences": "Rather, welfare policies are intended to create a compromise between the interests of employees and employers, laborers and the middle classes.",
                  "_deepnote_index_column": 4861
                },
                {
                  "sentences": "As a result, their redistributive effects are modest.",
                  "_deepnote_index_column": 4862
                },
                {
                  "sentences": "So, while a partial failure of the welfare state may help to explain the persistence of health inequalities, one must look elsewhere to understand – and reverse – their rise.",
                  "_deepnote_index_column": 4863
                },
                {
                  "sentences": "Two possible explanations have emerged from the rapidly growing scientific literature on the subject: selective upward social mobility and delayed diffusion of behavioral change.",
                  "_deepnote_index_column": 4864
                },
                {
                  "sentences": "In reality, both factors are at work.",
                  "_deepnote_index_column": 4865
                },
                {
                  "sentences": "During the twentieth century, social mobility increased slowly but steadily in all high-income countries, with educational achievement and occupational status depending less on family background and more on cognitive ability and other personal characteristics.",
                  "_deepnote_index_column": 4866
                },
                {
                  "sentences": "As a result, the lower socioeconomic groups have not only shrunk in size, but have probably also become more homogeneous in terms of personal characteristics that increase the risk of health problems.",
                  "_deepnote_index_column": 4867
                },
                {
                  "sentences": "Moreover, people with a higher socioeconomic position tend to adopt new behaviors first, and to abandon more readily behaviors that are found to damage health, such as smoking and high-fat diets.",
                  "_deepnote_index_column": 4868
                },
                {
                  "sentences": "Given this, new behavioral recommendations by health authorities tend to exacerbate health inequalities, at least temporarily.",
                  "_deepnote_index_column": 4869
                },
                {
                  "sentences": "Significant disparities in smoking, physical exercise, diet, and alcohol consumption afflict many of Western Europe’s welfare states.",
                  "_deepnote_index_column": 4870
                },
                {
                  "sentences": "The welfare system, which was created to combat poverty, has been less effective against “diseases of affluence” like heart disease and lung cancer.",
                  "_deepnote_index_column": 4871
                },
                {
                  "sentences": "All of this highlights the need for creative solutions to disparities that unnecessarily and unfairly blight the lives of those who have the least, generate massive health-care costs, and pose a barrier to increased labor-force participation (impeding efforts in some countries to raise the retirement age).",
                  "_deepnote_index_column": 4872
                },
                {
                  "sentences": "In the last few decades, social policy in most Western European countries has moved away from redistribution.",
                  "_deepnote_index_column": 4873
                },
                {
                  "sentences": "This is a mistake, given that the consequences of this shift – rising income inequality, weaker social safety nets, and reduced health-care access – will aggravate health inequalities in the long run.",
                  "_deepnote_index_column": 4874
                },
                {
                  "sentences": "In fact, more, better-targeted redistributive policies, which account for the effects of selective upward social mobility and different rates of diffusion of behavioral change, are crucial to improving health outcomes in lower socioeconomic groups.",
                  "_deepnote_index_column": 4875
                },
                {
                  "sentences": "Income support should be complemented by preventive health programs, while health literacy programs could help to diminish the link between low cognitive ability and bad health.",
                  "_deepnote_index_column": 4876
                },
                {
                  "sentences": "Equal access to health care is not enough.",
                  "_deepnote_index_column": 4877
                },
                {
                  "sentences": "Reducing inequalities in health outcomes requires more intensive health care for patients in lower socioeconomic brackets, tailored to their specific needs and challenges.",
                  "_deepnote_index_column": 4878
                },
                {
                  "sentences": "For example, revenues from tobacco taxation, which disproportionately affects lower income groups, should be used to fund cessation-support programs that target disadvantaged smokers.",
                  "_deepnote_index_column": 4879
                },
                {
                  "sentences": "Significant and persistent health inequality indicates that, by raising the health levels of those with lower incomes or less education, massive strides could be made in improving populations’ overall health.",
                  "_deepnote_index_column": 4880
                },
                {
                  "sentences": "This may require reshaping the welfare system to some extent, but the payoff would be well worth the effort.",
                  "_deepnote_index_column": 4881
                },
                {
                  "sentences": "The Mouse Click that Roared\nCAMBRIDGE – Until recently, cyber security has primarily interested computer geeks and cloak-and-dagger types.",
                  "_deepnote_index_column": 4882
                },
                {
                  "sentences": "The Internet’s creators, part of a small, enclosed community, were very comfortable with an open system in which security was not a primary concern.",
                  "_deepnote_index_column": 4883
                },
                {
                  "sentences": "But, with some three billion or so users on the Web nowadays, that very openness has become a serious vulnerability; indeed, it is endangering the vast economic opportunities that the Internet has opened for the world.",
                  "_deepnote_index_column": 4884
                },
                {
                  "sentences": "A “cyber attack” can take any number of forms, including simple probes, defacement of Web sites, denial-of-service attacks, espionage, and destruction of data.",
                  "_deepnote_index_column": 4885
                },
                {
                  "sentences": "And the term “cyber war,” though best defined as any hostile action in cyberspace that amplifies or is equivalent to major physical violence, remains equally protean, reflecting definitions of “war” that range from armed conflict to any concerted effort to solve a problem (for example, “war on poverty”).",
                  "_deepnote_index_column": 4886
                },
                {
                  "sentences": "Cyber war and cyber espionage are largely associated with states, while cyber crime and cyber terrorism are mostly associated with non-state actors.",
                  "_deepnote_index_column": 4887
                },
                {
                  "sentences": "The highest costs currently stem from espionage and crime; but, over the next decade or so, cyber war and cyber terrorism may become greater threats than they are today.",
                  "_deepnote_index_column": 4888
                },
                {
                  "sentences": "Moreover, as alliances and tactics evolve, the categories may increasingly overlap.",
                  "_deepnote_index_column": 4889
                },
                {
                  "sentences": "Terrorists might buy malware from criminals, and governments might find it useful to hide behind both.",
                  "_deepnote_index_column": 4890
                },
                {
                  "sentences": "Some people argue that deterrence does not work in cyberspace, owing to the difficulties of attribution.",
                  "_deepnote_index_column": 4891
                },
                {
                  "sentences": "But that is facile: inadequate attribution affects inter-state deterrence as well, yet it still operates.",
                  "_deepnote_index_column": 4892
                },
                {
                  "sentences": "Even when the source of an attack can be successfully disguised under a “false flag,” governments may find themselves sufficiently enmeshed in symmetrically interdependent relationships such that a major attack would be counterproductive.",
                  "_deepnote_index_column": 4893
                },
                {
                  "sentences": "China, for example, would lose from an attack that severely damaged the American economy, and vice versa.",
                  "_deepnote_index_column": 4894
                },
                {
                  "sentences": "An unknown attacker may also be deterred by cyber-security measures.",
                  "_deepnote_index_column": 4895
                },
                {
                  "sentences": "If firewalls are strong, or redundancy and resilience allow quick recovery, or the prospect of a self-enforcing response (“an electric fence”) seems possible, an attack becomes less attractive.",
                  "_deepnote_index_column": 4896
                },
                {
                  "sentences": "While accurate attribution of the ultimate source of a cyber attack is sometimes difficult, the determination does not have to be airtight.",
                  "_deepnote_index_column": 4897
                },
                {
                  "sentences": "To the extent that false flags are imperfect and rumors of the source of an attack are widely deemed credible (though not legally probative), reputational damage to an attacker’s soft power may contribute to deterrence.",
                  "_deepnote_index_column": 4898
                },
                {
                  "sentences": "Finally, a reputation for offensive capability and a declared policy that keeps open the means of retaliation can help to reinforce deterrence.",
                  "_deepnote_index_column": 4899
                },
                {
                  "sentences": "Of course, non-state actors are harder to deter, so improved defenses such as pre-emption and human intelligence become important in such cases.",
                  "_deepnote_index_column": 4900
                },
                {
                  "sentences": "But, among states, even nuclear deterrence was more complex than it first looked, and that is doubly true of deterrence in the cyber domain.",
                  "_deepnote_index_column": 4901
                },
                {
                  "sentences": "Given its global nature, the Internet requires a degree of international cooperation to be able to function.",
                  "_deepnote_index_column": 4902
                },
                {
                  "sentences": "Some people call for the cyber equivalent of formal arms-control treaties.",
                  "_deepnote_index_column": 4903
                },
                {
                  "sentences": "But differences in cultural norms and the difficulty of verification would make such treaties hard to negotiate or implement.",
                  "_deepnote_index_column": 4904
                },
                {
                  "sentences": "At the same time, it is important to pursue international efforts to develop rules of the road that can limit conflict.",
                  "_deepnote_index_column": 4905
                },
                {
                  "sentences": "The most promising areas for international cooperation today most likely concern problems posed for states by third parties such as criminals and terrorists.",
                  "_deepnote_index_column": 4906
                },
                {
                  "sentences": "Russia and China have sought to establish a treaty establishing broad international oversight of the Internet and “information security,” which would prohibit deception and embedding malicious code or circuitry that could be activated in the event of war.",
                  "_deepnote_index_column": 4907
                },
                {
                  "sentences": "But the US has argued that arms-control measures banning offensive capabilities could weaken defenses against attacks and would be impossible to verify or enforce.",
                  "_deepnote_index_column": 4908
                },
                {
                  "sentences": "Likewise, in terms of political values, the US has resisted agreements that could legitimize authoritarian governments’ censorship of the Internet – for example, by the “great firewall of China.”\nMoreover, cultural differences impede any broad agreements on regulating online content.",
                  "_deepnote_index_column": 4909
                },
                {
                  "sentences": "Nonetheless, it may be possible to identify behaviors like cyber crime that are illegal in many domestic jurisdictions.",
                  "_deepnote_index_column": 4910
                },
                {
                  "sentences": "Trying to limit all intrusions would be impossible, but one could start with cyber crime and cyber terrorism involving non-state parties.",
                  "_deepnote_index_column": 4911
                },
                {
                  "sentences": "Here, major states would have an interest in limiting damage by agreeing to cooperate on forensics and controls.",
                  "_deepnote_index_column": 4912
                },
                {
                  "sentences": "The transnational cyber domain poses new questions about the meaning of national security.",
                  "_deepnote_index_column": 4913
                },
                {
                  "sentences": "Some of the most important responses must be national and unilateral, focused on hygiene, redundancy, and resilience.",
                  "_deepnote_index_column": 4914
                },
                {
                  "sentences": "It is likely, however, that major governments will soon discover that the insecurity created by non-state cyber actors will require closer cooperation among governments.",
                  "_deepnote_index_column": 4915
                },
                {
                  "sentences": "A Practical Agenda for Revolutionary Times\nOXFORD – As the world’s financial leaders gather for the International Monetary Fund and World Bank spring meetings, many working people around the world are demanding radical change, because they sense that their voices are not being heard.",
                  "_deepnote_index_column": 4916
                },
                {
                  "sentences": "Those who are supposed to represent them should not ignore this anger and frustration any longer.",
                  "_deepnote_index_column": 4917
                },
                {
                  "sentences": "According to the 2017 Edelman Trust Barometer, the public’s confidence in the status quo has collapsed worldwide, owing to widely held concerns about globalization, innovation, immigration, the erosion of social values, and corruption.",
                  "_deepnote_index_column": 4918
                },
                {
                  "sentences": "At the same time, the response from elites who regard themselves as the guardians of economic growth has sometimes made matters worse.",
                  "_deepnote_index_column": 4919
                },
                {
                  "sentences": "If they think they can allay public concerns simply by explaining the benefits of the current global economic system and tweaking policies to compensate those left behind, they are in for a rude awakening.",
                  "_deepnote_index_column": 4920
                },
                {
                  "sentences": "Earlier this month, the IMF, World Bank, and World Trade Organization published a joint report extolling the benefits of trade as a driver of productivity growth, competition, and consumer choice.",
                  "_deepnote_index_column": 4921
                },
                {
                  "sentences": "The report’s argument in favor of free trade is not new, nor is its recommendation that “active labor-market policies” be used to cushion the blow of lost jobs and livelihoods.",
                  "_deepnote_index_column": 4922
                },
                {
                  "sentences": "What is new is that repeating these claims, without also addressing people’s deeper concerns, can now do more harm than good.",
                  "_deepnote_index_column": 4923
                },
                {
                  "sentences": "Global public opinion has changed dramatically in recent years.",
                  "_deepnote_index_column": 4924
                },
                {
                  "sentences": "A majority of people worldwide – and up to 72% of people in France and Italy – now believe that the system has failed them.",
                  "_deepnote_index_column": 4925
                },
                {
                  "sentences": "Moreover, only 29% of people across 28 countries now trust government leaders, while three-quarters of those surveyed say they trust reformers who would upend the status quo.",
                  "_deepnote_index_column": 4926
                },
                {
                  "sentences": "These findings suggest that those defending free trade have lost credibility with the people they hope to persuade.",
                  "_deepnote_index_column": 4927
                },
                {
                  "sentences": "World leaders need to recognize that today’s populist revolts are being fueled by a sense of lost dignity – a sentiment that does not factor into most policymakers’ prescription for economic growth and compensatory payments.",
                  "_deepnote_index_column": 4928
                },
                {
                  "sentences": "Working-class voters have lashed out because they feel not just economically abandoned, but also socially disdained and culturally marginalized.",
                  "_deepnote_index_column": 4929
                },
                {
                  "sentences": "Their vote is the only means they have left to hit back at the establishment.",
                  "_deepnote_index_column": 4930
                },
                {
                  "sentences": "To address the public’s concerns requires a three-part agenda.",
                  "_deepnote_index_column": 4931
                },
                {
                  "sentences": "The first order of business should be to reach out to those who feel voiceless and unrepresented.",
                  "_deepnote_index_column": 4932
                },
                {
                  "sentences": "During the US presidential campaign, Donald Trump tapped into this sentiment when he vowed to punish any company that moves jobs to China or Mexico.",
                  "_deepnote_index_column": 4933
                },
                {
                  "sentences": "As the filmmaker Michael Moore explained prior to the election, American working-class voters were desperate to hear someone promise to take on big business.",
                  "_deepnote_index_column": 4934
                },
                {
                  "sentences": "The fact that it took a populist plutocrat to do it underscores the extent to which the American labor movement has been extinguished.",
                  "_deepnote_index_column": 4935
                },
                {
                  "sentences": "Political parties that originally emerged from the labor movement have long since shifted to the “center.”\nThey now accept political contributions from big business, and have accordingly adopting the language of common prosperity and “consensus politics,” leaving the many working people who do not share in that prosperity and consensus feeling disregarded and displaced.",
                  "_deepnote_index_column": 4936
                },
                {
                  "sentences": "Second, the quality of work, and the status that it confers, must be improved.",
                  "_deepnote_index_column": 4937
                },
                {
                  "sentences": "In wealthy countries, precarious, poorly paid, and even dangerous forms of employment are becoming increasingly common.",
                  "_deepnote_index_column": 4938
                },
                {
                  "sentences": "A recent Bloomberg Businessweek story describes how temporary workers at auto-parts factories in Alabama are paid just $7.25 per hour, and must work in hazardous conditions with no safety training.",
                  "_deepnote_index_column": 4939
                },
                {
                  "sentences": "In 2010, these workers suffered work injuries at a 50% higher rate than unionized auto-parts workers elsewhere.",
                  "_deepnote_index_column": 4940
                },
                {
                  "sentences": "As the OECD has shown, “non-standard” work is proliferating globally.",
                  "_deepnote_index_column": 4941
                },
                {
                  "sentences": "This trend is contributing to deteriorating working conditions, making workers feel increasingly helpless and vulnerable.",
                  "_deepnote_index_column": 4942
                },
                {
                  "sentences": "Reversing it will require robust standards to ensure workplace safety, fair pay, and the right to enter into collective-bargaining arrangements.",
                  "_deepnote_index_column": 4943
                },
                {
                  "sentences": "Governments will have to intervene to set these standards, as they did during the nineteenth and twentieth centuries to improve abysmal conditions in factories.",
                  "_deepnote_index_column": 4944
                },
                {
                  "sentences": "Otherwise, businesses will not be able to behave decently, for fear of being undercut by unscrupulous competitors.",
                  "_deepnote_index_column": 4945
                },
                {
                  "sentences": "Finally, more opportunities must be created for the next generation – and not just economic opportunities.",
                  "_deepnote_index_column": 4946
                },
                {
                  "sentences": "Since the 2008 financial crisis, many governments have reduced their investments in health, education, housing, and other forms of human capital.",
                  "_deepnote_index_column": 4947
                },
                {
                  "sentences": "Many have also cut support for the unemployed, homeless, or indebted.",
                  "_deepnote_index_column": 4948
                },
                {
                  "sentences": "As a result, those who have fallen behind are deprived not just of resources, but, more important, the chance to pursue their aspirations.",
                  "_deepnote_index_column": 4949
                },
                {
                  "sentences": "As the IMF, World Bank, and WTO show in their report, free trade and globalization have certainly increased the size of the overall economic pie.",
                  "_deepnote_index_column": 4950
                },
                {
                  "sentences": "In theory, this should have expanded governments’ capacity to compensate those left behind and create the conditions for them to get ahead.",
                  "_deepnote_index_column": 4951
                },
                {
                  "sentences": "In fact, the opposite has happened, owing to government cutbacks since 2008.",
                  "_deepnote_index_column": 4952
                },
                {
                  "sentences": "The establishment’s agenda has been failing for too long.",
                  "_deepnote_index_column": 4953
                },
                {
                  "sentences": "And as elites continue to proclaim the benefits of free trade and globalization, they are merely widening the chasm of popular mistrust.",
                  "_deepnote_index_column": 4954
                },
                {
                  "sentences": "Over the past year, that mistrust has boiled over in many countries, with voters in one election after another rejecting the status quo.",
                  "_deepnote_index_column": 4955
                },
                {
                  "sentences": "Piecemeal curbs on globalization will not be enough to quell the revolt.",
                  "_deepnote_index_column": 4956
                },
                {
                  "sentences": "Instead, world leaders must leave their echo chamber, take ordinary people’s concerns seriously, diversify their views, and think about why so many have lost faith in the system.",
                  "_deepnote_index_column": 4957
                },
                {
                  "sentences": "The Fourth Jihadist Wave\nSTOCKHOLM – Muscular language has become increasingly prevalent in the debate about how to counter the threat of jihadist terrorism.",
                  "_deepnote_index_column": 4958
                },
                {
                  "sentences": "Television talk-show hosts speculate about when control of Raqqa in Syria or Mosul in Iraq might be wrested from the Islamic State (ISIS), implying that these cities’ liberation will mark, at the very least, the beginning of the end of the problem.",
                  "_deepnote_index_column": 4959
                },
                {
                  "sentences": "And in December, Ted Cruz, a Republican contender in the US presidential race, went so far as to raise the specter of nuclear strikes: “I don’t know if sand can glow in the dark, but we’re going to find out,” he said.",
                  "_deepnote_index_column": 4960
                },
                {
                  "sentences": "Such simplistic sound bites understate the severity of the challenge.",
                  "_deepnote_index_column": 4961
                },
                {
                  "sentences": "As the International Crisis Group highlights in a recent report, the jihadist threat we are facing is the fourth in a series of increasingly perilous waves.",
                  "_deepnote_index_column": 4962
                },
                {
                  "sentences": "If we are to avoid creating an even more powerful fifth wave, it is imperative that we learn from the mistakes we made in seeking to counter the previous three.",
                  "_deepnote_index_column": 4963
                },
                {
                  "sentences": "The first jihadist wave occurred when volunteer fighters from the war against the Soviet occupation of Afghanistan returned home and started attacking regimes they considered un-Islamic.",
                  "_deepnote_index_column": 4964
                },
                {
                  "sentences": "This led to the second, far more deadly jihadist wave, as Al Qaeda launched spectacular attacks against the “far enemy,” seeking to draw Western powers into violent confrontation and outright war.",
                  "_deepnote_index_column": 4965
                },
                {
                  "sentences": "The attacks on the United States, on September 11, 2001, marked the crest of this wave.",
                  "_deepnote_index_column": 4966
                },
                {
                  "sentences": "The global counterterrorist offensive that followed largely succeeded in eliminating Al Qaeda’s ability to launch large-scale attacks.",
                  "_deepnote_index_column": 4967
                },
                {
                  "sentences": "But the 2003 invasion of Iraq created the conditions for the third wave, triggering a vicious sectarian war between Sunni and Shia that allowed Al Qaeda to exploit the chaos of an increasingly fragmented state.",
                  "_deepnote_index_column": 4968
                },
                {
                  "sentences": "Eventually, the so-called Sunni Awakening broke the back of Al Qaeda’s efforts in Iraq, and the 2011 Arab Spring redirected the region’s political development.",
                  "_deepnote_index_column": 4969
                },
                {
                  "sentences": "But the failure to build an inclusive government in Iraq, together with the violent repression of protesters in Syria, offered battle-hardened jihadist leaders an opening to initiate the fourth wave.",
                  "_deepnote_index_column": 4970
                },
                {
                  "sentences": "This wave is by far the most dangerous.",
                  "_deepnote_index_column": 4971
                },
                {
                  "sentences": "Tens of thousands of recruits have joined the effort to build a caliphate in the Fertile Crescent.",
                  "_deepnote_index_column": 4972
                },
                {
                  "sentences": "Meanwhile, ISIS has expanded into numerous other crisis zones and recruited or inspired terrorists within Western societies, as demonstrated by the attacks in Paris, Brussels, and San Bernardino.",
                  "_deepnote_index_column": 4973
                },
                {
                  "sentences": "Countering this threat will require a vigorous ideological battle against the forces of intolerance and hatred, building on Islam’s history of openness and tolerance.",
                  "_deepnote_index_column": 4974
                },
                {
                  "sentences": "But ideological struggle, on its own, will not be enough.",
                  "_deepnote_index_column": 4975
                },
                {
                  "sentences": "We must also recognize the true origins of the jihadist threat: the conflicts and state failures ranging from West Africa across the wider Middle East to South Asia.",
                  "_deepnote_index_column": 4976
                },
                {
                  "sentences": "It was not jihadism that created today’s crises.",
                  "_deepnote_index_column": 4977
                },
                {
                  "sentences": "On the contrary, bad governance and state failure provided jihadism with the opportunity to flourish.",
                  "_deepnote_index_column": 4978
                },
                {
                  "sentences": "Addressing these root causes will be a daunting, decades-long task.",
                  "_deepnote_index_column": 4979
                },
                {
                  "sentences": "Much of the region entered the twenty-first century in a deplorable state; and in most places, things have only gotten worse.",
                  "_deepnote_index_column": 4980
                },
                {
                  "sentences": "Trying to meet the jihadist challenge with repression, as Egypt is doing today, risks exacerbating the problem.",
                  "_deepnote_index_column": 4981
                },
                {
                  "sentences": "And incarcerating Islamists often means providing them with an ideal environment for recruitment, indoctrination, and training.",
                  "_deepnote_index_column": 4982
                },
                {
                  "sentences": "Instead, openings must be created for democratic Islamic political forces to operate.",
                  "_deepnote_index_column": 4983
                },
                {
                  "sentences": "Despite the scale of the challenge, the West lacks a clear policy on what to press for and how to obtain it.",
                  "_deepnote_index_column": 4984
                },
                {
                  "sentences": "Clearly, military force must be used.",
                  "_deepnote_index_column": 4985
                },
                {
                  "sentences": "But retaking Raqqa or Mosul is only the easiest of the tasks facing us.",
                  "_deepnote_index_column": 4986
                },
                {
                  "sentences": "How many times have Western forces retaken Afghanistan’s Helmand province or Anbar province in Iraq, and with what result?",
                  "_deepnote_index_column": 4987
                },
                {
                  "sentences": "Far more difficult – and far more important – will be ensuring that legitimate structures of inclusive governance are set up in the places from which ISIS is driven out.",
                  "_deepnote_index_column": 4988
                },
                {
                  "sentences": "These must address feelings of persecution among Sunni Arabs as well as the victimization of large segments of the population that has fostered rage across the region.",
                  "_deepnote_index_column": 4989
                },
                {
                  "sentences": "Without such a strategy in place, retaking Raqqa and Mosul will merely be a prelude to an even more violent fifth wave of jihadism, which its committed and experienced practitioners will seek to portray as the final epic battle with “crusaders” in the West.",
                  "_deepnote_index_column": 4990
                },
                {
                  "sentences": "It is no coincidence that ISIS has named its slick propaganda magazine Dabiq, for the name of the place where this Islamic version of Armageddon is prophesied to take place.",
                  "_deepnote_index_column": 4991
                },
                {
                  "sentences": "We must not hand our enemies what they want on a silver platter.",
                  "_deepnote_index_column": 4992
                },
                {
                  "sentences": "We must instead wage an ideological battle against them, treat them as the terrorists that they are, and address the conditions that allow them to flourish.",
                  "_deepnote_index_column": 4993
                },
                {
                  "sentences": "The jihadists are seeking escalation in order to drive us into total confrontation.",
                  "_deepnote_index_column": 4994
                },
                {
                  "sentences": "If we have learned anything since 2001, it is that we must not fall into their trap.",
                  "_deepnote_index_column": 4995
                },
                {
                  "sentences": "Address to the Kurdish Nation\nERBIL – By history and by language I am a member of a very old nation, one of the oldest in the world: France.",
                  "_deepnote_index_column": 4996
                },
                {
                  "sentences": "And in spirit I am a member of a very old people, the Jewish people – like the Kurds, one of the oldest on the planet, a people that founded one of the youngest states, Israel.",
                  "_deepnote_index_column": 4997
                },
                {
                  "sentences": "That is an experience that the Kurds are now preparing to replicate.",
                  "_deepnote_index_column": 4998
                },
                {
                  "sentences": "As a people, the Kurds have existed for a very long time.",
                  "_deepnote_index_column": 4999
                }
              ]
            },
            "text/plain": "                                              sentences\n0                                         $10,000 Gold?\n1     SAN FRANCISCO – It has never been easy to have...\n2     Lately, with gold prices up more than 300% ove...\n3     Just last December, fellow economists Martin F...\n4                                 Wouldn’t you know it?\n...                                                 ...\n4995  If we have learned anything since 2001, it is ...\n4996  Address to the Kurdish Nation\\nERBIL – By hist...\n4997  And in spirit I am a member of a very old peop...\n4998  That is an experience that the Kurds are now p...\n4999  As a people, the Kurds have existed for a very...\n\n[5000 rows x 1 columns]",
            "text/html": "<div>\n<style scoped>\n    .dataframe tbody tr th:only-of-type {\n        vertical-align: middle;\n    }\n\n    .dataframe tbody tr th {\n        vertical-align: top;\n    }\n\n    .dataframe thead th {\n        text-align: right;\n    }\n</style>\n<table border=\"1\" class=\"dataframe\">\n  <thead>\n    <tr style=\"text-align: right;\">\n      <th></th>\n      <th>sentences</th>\n    </tr>\n  </thead>\n  <tbody>\n    <tr>\n      <th>0</th>\n      <td>$10,000 Gold?</td>\n    </tr>\n    <tr>\n      <th>1</th>\n      <td>SAN FRANCISCO – It has never been easy to have...</td>\n    </tr>\n    <tr>\n      <th>2</th>\n      <td>Lately, with gold prices up more than 300% ove...</td>\n    </tr>\n    <tr>\n      <th>3</th>\n      <td>Just last December, fellow economists Martin F...</td>\n    </tr>\n    <tr>\n      <th>4</th>\n      <td>Wouldn’t you know it?</td>\n    </tr>\n    <tr>\n      <th>...</th>\n      <td>...</td>\n    </tr>\n    <tr>\n      <th>4995</th>\n      <td>If we have learned anything since 2001, it is ...</td>\n    </tr>\n    <tr>\n      <th>4996</th>\n      <td>Address to the Kurdish Nation\\nERBIL – By hist...</td>\n    </tr>\n    <tr>\n      <th>4997</th>\n      <td>And in spirit I am a member of a very old peop...</td>\n    </tr>\n    <tr>\n      <th>4998</th>\n      <td>That is an experience that the Kurds are now p...</td>\n    </tr>\n    <tr>\n      <th>4999</th>\n      <td>As a people, the Kurds have existed for a very...</td>\n    </tr>\n  </tbody>\n</table>\n<p>5000 rows × 1 columns</p>\n</div>"
          },
          "metadata": {}
        }
      ],
      "execution_count": 121
    },
    {
      "cell_type": "markdown",
      "source": "2. Load and tokenise your datasets so that, for each of the corpora, you get a\nlist of sentences, each sentence represented by a list of tokens. Use the same\ntokeniser for all datasets. <br>\n",
      "metadata": {
        "tags": [],
        "cell_id": "00008-f53cbfac-b18e-4d14-8974-9a70bfc431de",
        "deepnote_cell_type": "markdown"
      }
    },
    {
      "cell_type": "code",
      "source": "tokenized_text = [nltk.word_tokenize(i) for i in pd_news5k[\"sentences\"]]\npd_news5k[\"words\"] = tokenized_text\namount_words = lambda x: len(x)\npd_news5k['num_words'] = pd_news5k['words'].apply(amount_words)\n\npd_news5k",
      "metadata": {
        "tags": [],
        "cell_id": "00011-3b74044a-7f1f-4a39-ad03-aa7d5753c6a3",
        "deepnote_to_be_reexecuted": false,
        "source_hash": "eb4d9080",
        "execution_start": 1620142077158,
        "execution_millis": 1456,
        "deepnote_cell_type": "code"
      },
      "outputs": [
        {
          "output_type": "execute_result",
          "execution_count": 125,
          "data": {
            "application/vnd.deepnote.dataframe.v2+json": {
              "row_count": 5000,
              "column_count": 3,
              "columns": [
                {
                  "name": "sentences",
                  "dtype": "object",
                  "stats": {
                    "unique_count": 4946,
                    "nan_count": 0,
                    "categories": [
                      {
                        "name": "Following its targeted killing of Iran's second most powerful leader, the US could well find itself with no alternative but to devote more military resources to the Middle East, a path that could lead to additional Iranian provocations.",
                        "count": 10
                      },
                      {
                        "name": "And that shift would occur at a time of growing challenges to US interests elsewhere in the world.",
                        "count": 10
                      },
                      {
                        "name": "4944 others",
                        "count": 4980
                      }
                    ]
                  }
                },
                {
                  "name": "words",
                  "dtype": "object",
                  "stats": {
                    "unique_count": 5000,
                    "nan_count": 0,
                    "categories": [
                      {
                        "name": "['Following', 'its', 'targeted', 'killing', 'of', 'Iran', \"'s\", 'second', 'most', 'powerful', 'leader', ',', 'the', 'US', 'could', 'well', 'find', 'itself', 'with', 'no', 'alternative', 'but', 'to', 'devote', 'more', 'military', 'resources', 'to', 'the', 'Middle', 'East', ',', 'a', 'path', 'that', 'could', 'lead', 'to', 'additional', 'Iranian', 'provocations', '.']",
                        "count": 10
                      },
                      {
                        "name": "['And', 'that', 'shift', 'would', 'occur', 'at', 'a', 'time', 'of', 'growing', 'challenges', 'to', 'US', 'interests', 'elsewhere', 'in', 'the', 'world', '.']",
                        "count": 10
                      },
                      {
                        "name": "4944 others",
                        "count": 4980
                      }
                    ]
                  }
                },
                {
                  "name": "num_words",
                  "dtype": "int64",
                  "stats": {
                    "unique_count": 86,
                    "nan_count": 0,
                    "min": "2",
                    "max": "103",
                    "histogram": [
                      {
                        "bin_start": 2,
                        "bin_end": 12.1,
                        "count": 640
                      },
                      {
                        "bin_start": 12.1,
                        "bin_end": 22.2,
                        "count": 1650
                      },
                      {
                        "bin_start": 22.2,
                        "bin_end": 32.3,
                        "count": 1462
                      },
                      {
                        "bin_start": 32.3,
                        "bin_end": 42.4,
                        "count": 762
                      },
                      {
                        "bin_start": 42.4,
                        "bin_end": 52.5,
                        "count": 316
                      },
                      {
                        "bin_start": 52.5,
                        "bin_end": 62.599999999999994,
                        "count": 110
                      },
                      {
                        "bin_start": 62.599999999999994,
                        "bin_end": 72.7,
                        "count": 30
                      },
                      {
                        "bin_start": 72.7,
                        "bin_end": 82.8,
                        "count": 19
                      },
                      {
                        "bin_start": 82.8,
                        "bin_end": 92.89999999999999,
                        "count": 6
                      },
                      {
                        "bin_start": 92.89999999999999,
                        "bin_end": 103,
                        "count": 5
                      }
                    ]
                  }
                },
                {
                  "name": "_deepnote_index_column",
                  "dtype": "int64"
                }
              ],
              "rows_top": [
                {
                  "sentences": "$10,000 Gold?",
                  "words": "['$', '10,000', 'Gold', '?']",
                  "num_words": 4,
                  "_deepnote_index_column": 0
                },
                {
                  "sentences": "SAN FRANCISCO – It has never been easy to have a rational conversation about the value of gold.",
                  "words": "['SAN', 'FRANCISCO', '–', 'It', 'has', 'never', 'been', 'easy', 'to', 'have', 'a', 'rational', 'conversation', 'about', 'the', 'value', 'of', 'gold', '.']",
                  "num_words": 19,
                  "_deepnote_index_column": 1
                },
                {
                  "sentences": "Lately, with gold prices up more than 300% over the last decade, it is harder than ever.",
                  "words": "['Lately', ',', 'with', 'gold', 'prices', 'up', 'more', 'than', '300', '%', 'over', 'the', 'last', 'decade', ',', 'it', 'is', 'harder', 'than', 'ever', '.']",
                  "num_words": 21,
                  "_deepnote_index_column": 2
                },
                {
                  "sentences": "Just last December, fellow economists Martin Feldstein and Nouriel Roubini each penned op-eds bravely questioning bullish market sentiment, sensibly pointing out gold’s risks.",
                  "words": "['Just', 'last', 'December', ',', 'fellow', 'economists', 'Martin', 'Feldstein', 'and', 'Nouriel', 'Roubini', 'each', 'penned', 'op-eds', 'bravely', 'questioning', 'bullish', 'market', 'sentiment', ',', 'sensibly', 'pointing', 'out', 'gold', '’', 's', 'risks', '.']",
                  "num_words": 28,
                  "_deepnote_index_column": 3
                },
                {
                  "sentences": "Wouldn’t you know it?",
                  "words": "['Wouldn', '’', 't', 'you', 'know', 'it', '?']",
                  "num_words": 7,
                  "_deepnote_index_column": 4
                },
                {
                  "sentences": "Since their articles appeared, the price of gold has moved up still further.",
                  "words": "['Since', 'their', 'articles', 'appeared', ',', 'the', 'price', 'of', 'gold', 'has', 'moved', 'up', 'still', 'further', '.']",
                  "num_words": 15,
                  "_deepnote_index_column": 5
                },
                {
                  "sentences": "Gold prices even hit a record-high $1,300 recently.",
                  "words": "['Gold', 'prices', 'even', 'hit', 'a', 'record-high', '$', '1,300', 'recently', '.']",
                  "num_words": 10,
                  "_deepnote_index_column": 6
                },
                {
                  "sentences": "Last December, many gold bugs were arguing that the price was inevitably headed for $2,000.",
                  "words": "['Last', 'December', ',', 'many', 'gold', 'bugs', 'were', 'arguing', 'that', 'the', 'price', 'was', 'inevitably', 'headed', 'for', '$', '2,000', '.']",
                  "num_words": 18,
                  "_deepnote_index_column": 7
                },
                {
                  "sentences": "Now, emboldened by continuing appreciation, some are suggesting that gold could be headed even higher than that.",
                  "words": "['Now', ',', 'emboldened', 'by', 'continuing', 'appreciation', ',', 'some', 'are', 'suggesting', 'that', 'gold', 'could', 'be', 'headed', 'even', 'higher', 'than', 'that', '.']",
                  "num_words": 20,
                  "_deepnote_index_column": 8
                },
                {
                  "sentences": "One successful gold investor recently explained to me that stock prices languished for a more than a decade before the Dow Jones index crossed the 1,000 mark in the early 1980’s.",
                  "words": "['One', 'successful', 'gold', 'investor', 'recently', 'explained', 'to', 'me', 'that', 'stock', 'prices', 'languished', 'for', 'a', 'more', 'than', 'a', 'decade', 'before', 'the', 'Dow', 'Jones', 'index', 'crossed', 'the', '1,000', 'mark', 'in', 'the', 'early', '1980', '’', 's', '.']",
                  "num_words": 34,
                  "_deepnote_index_column": 9
                },
                {
                  "sentences": "Since then, the index has climbed above 10,000.",
                  "words": "['Since', 'then', ',', 'the', 'index', 'has', 'climbed', 'above', '10,000', '.']",
                  "num_words": 10,
                  "_deepnote_index_column": 10
                },
                {
                  "sentences": "Now that gold has crossed the magic $1,000 barrier, why can’t it increase ten-fold, too?",
                  "words": "['Now', 'that', 'gold', 'has', 'crossed', 'the', 'magic', '$', '1,000', 'barrier', ',', 'why', 'can', '’', 't', 'it', 'increase', 'ten-fold', ',', 'too', '?']",
                  "num_words": 21,
                  "_deepnote_index_column": 11
                },
                {
                  "sentences": "Admittedly, getting to a much higher price for gold is not quite the leap of imagination that it seems.",
                  "words": "['Admittedly', ',', 'getting', 'to', 'a', 'much', 'higher', 'price', 'for', 'gold', 'is', 'not', 'quite', 'the', 'leap', 'of', 'imagination', 'that', 'it', 'seems', '.']",
                  "num_words": 21,
                  "_deepnote_index_column": 12
                },
                {
                  "sentences": "After adjusting for inflation, today’s price is nowhere near the all-time high of January 1980.",
                  "words": "['After', 'adjusting', 'for', 'inflation', ',', 'today', '’', 's', 'price', 'is', 'nowhere', 'near', 'the', 'all-time', 'high', 'of', 'January', '1980', '.']",
                  "num_words": 19,
                  "_deepnote_index_column": 13
                },
                {
                  "sentences": "Back then, gold hit $850, or well over $2,000 in today’s dollars.",
                  "words": "['Back', 'then', ',', 'gold', 'hit', '$', '850', ',', 'or', 'well', 'over', '$', '2,000', 'in', 'today', '’', 's', 'dollars', '.']",
                  "num_words": 19,
                  "_deepnote_index_column": 14
                },
                {
                  "sentences": "But January 1980 was arguably a “freak peak” during a period of heightened geo-political instability.",
                  "words": "['But', 'January', '1980', 'was', 'arguably', 'a', '“', 'freak', 'peak', '”', 'during', 'a', 'period', 'of', 'heightened', 'geo-political', 'instability', '.']",
                  "num_words": 18,
                  "_deepnote_index_column": 15
                },
                {
                  "sentences": "At $1,300, today’s price is probably more than double very long-term, inflation-adjusted, average gold prices.",
                  "words": "['At', '$', '1,300', ',', 'today', '’', 's', 'price', 'is', 'probably', 'more', 'than', 'double', 'very', 'long-term', ',', 'inflation-adjusted', ',', 'average', 'gold', 'prices', '.']",
                  "num_words": 22,
                  "_deepnote_index_column": 16
                },
                {
                  "sentences": "So what could justify another huge increase in gold prices from here?",
                  "words": "['So', 'what', 'could', 'justify', 'another', 'huge', 'increase', 'in', 'gold', 'prices', 'from', 'here', '?']",
                  "num_words": 13,
                  "_deepnote_index_column": 17
                },
                {
                  "sentences": "One answer, of course, is a complete collapse of the US dollar.",
                  "words": "['One', 'answer', ',', 'of', 'course', ',', 'is', 'a', 'complete', 'collapse', 'of', 'the', 'US', 'dollar', '.']",
                  "num_words": 15,
                  "_deepnote_index_column": 18
                },
                {
                  "sentences": "With soaring deficits, and a rudderless fiscal policy, one does wonder whether a populist administration might recklessly turn to the printing press.",
                  "words": "['With', 'soaring', 'deficits', ',', 'and', 'a', 'rudderless', 'fiscal', 'policy', ',', 'one', 'does', 'wonder', 'whether', 'a', 'populist', 'administration', 'might', 'recklessly', 'turn', 'to', 'the', 'printing', 'press', '.']",
                  "num_words": 25,
                  "_deepnote_index_column": 19
                },
                {
                  "sentences": "And if you are really worried about that, gold might indeed be the most reliable hedge.",
                  "words": "['And', 'if', 'you', 'are', 'really', 'worried', 'about', 'that', ',', 'gold', 'might', 'indeed', 'be', 'the', 'most', 'reliable', 'hedge', '.']",
                  "num_words": 18,
                  "_deepnote_index_column": 20
                },
                {
                  "sentences": "Sure, some might argue that inflation-indexed bonds offer a better and more direct inflation hedge than gold.",
                  "words": "['Sure', ',', 'some', 'might', 'argue', 'that', 'inflation-indexed', 'bonds', 'offer', 'a', 'better', 'and', 'more', 'direct', 'inflation', 'hedge', 'than', 'gold', '.']",
                  "num_words": 19,
                  "_deepnote_index_column": 21
                },
                {
                  "sentences": "But gold bugs are right to worry about whether the government will honor its commitments under more extreme circumstances.",
                  "words": "['But', 'gold', 'bugs', 'are', 'right', 'to', 'worry', 'about', 'whether', 'the', 'government', 'will', 'honor', 'its', 'commitments', 'under', 'more', 'extreme', 'circumstances', '.']",
                  "num_words": 20,
                  "_deepnote_index_column": 22
                },
                {
                  "sentences": "In fact, as Carmen Reinhart and I discuss in our recent book on the history of financial crises, This Time is Different, cash-strapped governments will often forcibly convert indexed debt to non-indexed debt, precisely so that its value might be inflated away.",
                  "words": "['In', 'fact', ',', 'as', 'Carmen', 'Reinhart', 'and', 'I', 'discuss', 'in', 'our', 'recent', 'book', 'on', 'the', 'history', 'of', 'financial', 'crises', ',', 'This', 'Time', 'is', 'Different', ',', 'cash-strapped', 'governments', 'will', 'often', 'forcibly', 'convert', 'indexed', 'debt', 'to', 'non-indexed', 'debt', ',', 'precisely', 'so', 'that', 'its', 'value', 'might', 'be', 'inflated', 'away', '.']",
                  "num_words": 47,
                  "_deepnote_index_column": 23
                },
                {
                  "sentences": "Even the United States abrogated indexation clauses in bond contracts during the Great Depression of the 1930’s.",
                  "words": "['Even', 'the', 'United', 'States', 'abrogated', 'indexation', 'clauses', 'in', 'bond', 'contracts', 'during', 'the', 'Great', 'Depression', 'of', 'the', '1930', '’', 's', '.']",
                  "num_words": 20,
                  "_deepnote_index_column": 24
                },
                {
                  "sentences": "So it can happen anywhere.",
                  "words": "['So', 'it', 'can', 'happen', 'anywhere', '.']",
                  "num_words": 6,
                  "_deepnote_index_column": 25
                },
                {
                  "sentences": "Even so, the fact that very high inflation is possible does not make it probable, so one should be cautious in arguing that higher gold prices are being driven by inflation expectations.",
                  "words": "['Even', 'so', ',', 'the', 'fact', 'that', 'very', 'high', 'inflation', 'is', 'possible', 'does', 'not', 'make', 'it', 'probable', ',', 'so', 'one', 'should', 'be', 'cautious', 'in', 'arguing', 'that', 'higher', 'gold', 'prices', 'are', 'being', 'driven', 'by', 'inflation', 'expectations', '.']",
                  "num_words": 35,
                  "_deepnote_index_column": 26
                },
                {
                  "sentences": "Some have argued instead that gold’s long upward march has been partly driven by the development of new financial instruments that make it easier to trade and speculate in gold.",
                  "words": "['Some', 'have', 'argued', 'instead', 'that', 'gold', '’', 's', 'long', 'upward', 'march', 'has', 'been', 'partly', 'driven', 'by', 'the', 'development', 'of', 'new', 'financial', 'instruments', 'that', 'make', 'it', 'easier', 'to', 'trade', 'and', 'speculate', 'in', 'gold', '.']",
                  "num_words": 33,
                  "_deepnote_index_column": 27
                },
                {
                  "sentences": "There is probably some slight truth – and also a certain degree of irony – to this argument.",
                  "words": "['There', 'is', 'probably', 'some', 'slight', 'truth', '–', 'and', 'also', 'a', 'certain', 'degree', 'of', 'irony', '–', 'to', 'this', 'argument', '.']",
                  "num_words": 19,
                  "_deepnote_index_column": 28
                },
                {
                  "sentences": "After all, medieval alchemists engaged in what we now consider an absurd search for ways to transform base metals into gold.",
                  "words": "['After', 'all', ',', 'medieval', 'alchemists', 'engaged', 'in', 'what', 'we', 'now', 'consider', 'an', 'absurd', 'search', 'for', 'ways', 'to', 'transform', 'base', 'metals', 'into', 'gold', '.']",
                  "num_words": 23,
                  "_deepnote_index_column": 29
                },
                {
                  "sentences": "Wouldn’t it be paradoxical, then, if financial alchemy could make an ingot of gold worth dramatically more?",
                  "words": "['Wouldn', '’', 't', 'it', 'be', 'paradoxical', ',', 'then', ',', 'if', 'financial', 'alchemy', 'could', 'make', 'an', 'ingot', 'of', 'gold', 'worth', 'dramatically', 'more', '?']",
                  "num_words": 22,
                  "_deepnote_index_column": 30
                },
                {
                  "sentences": "In my view, the most powerful argument to justify today’s high price of gold is the dramatic emergence of Asia, Latin America, and the Middle East into the global economy.",
                  "words": "['In', 'my', 'view', ',', 'the', 'most', 'powerful', 'argument', 'to', 'justify', 'today', '’', 's', 'high', 'price', 'of', 'gold', 'is', 'the', 'dramatic', 'emergence', 'of', 'Asia', ',', 'Latin', 'America', ',', 'and', 'the', 'Middle', 'East', 'into', 'the', 'global', 'economy', '.']",
                  "num_words": 36,
                  "_deepnote_index_column": 31
                },
                {
                  "sentences": "As legions of new consumers gain purchasing power, demand inevitably rises, driving up the price of scarce commodities.",
                  "words": "['As', 'legions', 'of', 'new', 'consumers', 'gain', 'purchasing', 'power', ',', 'demand', 'inevitably', 'rises', ',', 'driving', 'up', 'the', 'price', 'of', 'scarce', 'commodities', '.']",
                  "num_words": 21,
                  "_deepnote_index_column": 32
                },
                {
                  "sentences": "At the same time, emerging-market central banks need to accumulate gold reserves, which they still hold in far lower proportion than do rich-country central banks.",
                  "words": "['At', 'the', 'same', 'time', ',', 'emerging-market', 'central', 'banks', 'need', 'to', 'accumulate', 'gold', 'reserves', ',', 'which', 'they', 'still', 'hold', 'in', 'far', 'lower', 'proportion', 'than', 'do', 'rich-country', 'central', 'banks', '.']",
                  "num_words": 28,
                  "_deepnote_index_column": 33
                },
                {
                  "sentences": "With the euro looking less appetizing as a diversification play away from the dollar, gold’s appeal has naturally grown.",
                  "words": "['With', 'the', 'euro', 'looking', 'less', 'appetizing', 'as', 'a', 'diversification', 'play', 'away', 'from', 'the', 'dollar', ',', 'gold', '’', 's', 'appeal', 'has', 'naturally', 'grown', '.']",
                  "num_words": 23,
                  "_deepnote_index_column": 34
                },
                {
                  "sentences": "So, yes, there are solid fundamentals that arguably support today’s higher gold price, although it is far more debatable whether and to what extent they will continue to support higher prices in the future.",
                  "words": "['So', ',', 'yes', ',', 'there', 'are', 'solid', 'fundamentals', 'that', 'arguably', 'support', 'today', '’', 's', 'higher', 'gold', 'price', ',', 'although', 'it', 'is', 'far', 'more', 'debatable', 'whether', 'and', 'to', 'what', 'extent', 'they', 'will', 'continue', 'to', 'support', 'higher', 'prices', 'in', 'the', 'future', '.']",
                  "num_words": 40,
                  "_deepnote_index_column": 35
                },
                {
                  "sentences": "Indeed, another critical fundamental factor that has been sustaining high gold prices might prove far more ephemeral than globalization.",
                  "words": "['Indeed', ',', 'another', 'critical', 'fundamental', 'factor', 'that', 'has', 'been', 'sustaining', 'high', 'gold', 'prices', 'might', 'prove', 'far', 'more', 'ephemeral', 'than', 'globalization', '.']",
                  "num_words": 21,
                  "_deepnote_index_column": 36
                },
                {
                  "sentences": "Gold prices are extremely sensitive to global interest-rate movements.",
                  "words": "['Gold', 'prices', 'are', 'extremely', 'sensitive', 'to', 'global', 'interest-rate', 'movements', '.']",
                  "num_words": 10,
                  "_deepnote_index_column": 37
                },
                {
                  "sentences": "After all, gold pays no interest and even costs something to store.",
                  "words": "['After', 'all', ',', 'gold', 'pays', 'no', 'interest', 'and', 'even', 'costs', 'something', 'to', 'store', '.']",
                  "num_words": 14,
                  "_deepnote_index_column": 38
                },
                {
                  "sentences": "Today, with interest rates near or at record lows in many countries, it is relatively cheap to speculate in gold instead of investing in bonds.",
                  "words": "['Today', ',', 'with', 'interest', 'rates', 'near', 'or', 'at', 'record', 'lows', 'in', 'many', 'countries', ',', 'it', 'is', 'relatively', 'cheap', 'to', 'speculate', 'in', 'gold', 'instead', 'of', 'investing', 'in', 'bonds', '.']",
                  "num_words": 28,
                  "_deepnote_index_column": 39
                },
                {
                  "sentences": "But if real interest rates rise significantly, as well they might someday, gold prices could plummet.",
                  "words": "['But', 'if', 'real', 'interest', 'rates', 'rise', 'significantly', ',', 'as', 'well', 'they', 'might', 'someday', ',', 'gold', 'prices', 'could', 'plummet', '.']",
                  "num_words": 19,
                  "_deepnote_index_column": 40
                },
                {
                  "sentences": "Most economic research suggests that gold prices are very difficult to predict over the short to medium term, with the odds of gains and losses being roughly in balance.",
                  "words": "['Most', 'economic', 'research', 'suggests', 'that', 'gold', 'prices', 'are', 'very', 'difficult', 'to', 'predict', 'over', 'the', 'short', 'to', 'medium', 'term', ',', 'with', 'the', 'odds', 'of', 'gains', 'and', 'losses', 'being', 'roughly', 'in', 'balance', '.']",
                  "num_words": 31,
                  "_deepnote_index_column": 41
                },
                {
                  "sentences": "It is therefore dangerous to extrapolate from short-term trends.",
                  "words": "['It', 'is', 'therefore', 'dangerous', 'to', 'extrapolate', 'from', 'short-term', 'trends', '.']",
                  "num_words": 10,
                  "_deepnote_index_column": 42
                },
                {
                  "sentences": "Yes, gold has had a great run, but so, too, did worldwide housing prices until a couple of years ago.",
                  "words": "['Yes', ',', 'gold', 'has', 'had', 'a', 'great', 'run', ',', 'but', 'so', ',', 'too', ',', 'did', 'worldwide', 'housing', 'prices', 'until', 'a', 'couple', 'of', 'years', 'ago', '.']",
                  "num_words": 25,
                  "_deepnote_index_column": 43
                },
                {
                  "sentences": "If you are a high-net-worth investor, a sovereign wealth fund, or a central bank, it makes perfect sense to hold a modest proportion of your portfolio in gold as a hedge against extreme events.",
                  "words": "['If', 'you', 'are', 'a', 'high-net-worth', 'investor', ',', 'a', 'sovereign', 'wealth', 'fund', ',', 'or', 'a', 'central', 'bank', ',', 'it', 'makes', 'perfect', 'sense', 'to', 'hold', 'a', 'modest', 'proportion', 'of', 'your', 'portfolio', 'in', 'gold', 'as', 'a', 'hedge', 'against', 'extreme', 'events', '.']",
                  "num_words": 38,
                  "_deepnote_index_column": 44
                },
                {
                  "sentences": "But, despite gold’s heightened allure in the wake of an extraordinary run-up in its price, it remains a very risky bet for most of us.",
                  "words": "['But', ',', 'despite', 'gold', '’', 's', 'heightened', 'allure', 'in', 'the', 'wake', 'of', 'an', 'extraordinary', 'run-up', 'in', 'its', 'price', ',', 'it', 'remains', 'a', 'very', 'risky', 'bet', 'for', 'most', 'of', 'us', '.']",
                  "num_words": 30,
                  "_deepnote_index_column": 45
                },
                {
                  "sentences": "Of course, such considerations might have little influence on prices.",
                  "words": "['Of', 'course', ',', 'such', 'considerations', 'might', 'have', 'little', 'influence', 'on', 'prices', '.']",
                  "num_words": 12,
                  "_deepnote_index_column": 46
                },
                {
                  "sentences": "What was true for the alchemists of yore remains true today: gold and reason are often difficult to reconcile.",
                  "words": "['What', 'was', 'true', 'for', 'the', 'alchemists', 'of', 'yore', 'remains', 'true', 'today', ':', 'gold', 'and', 'reason', 'are', 'often', 'difficult', 'to', 'reconcile', '.']",
                  "num_words": 21,
                  "_deepnote_index_column": 47
                },
                {
                  "sentences": "“Our” Islamists\nNEW DELHI – Following the death of Libya’s Muammar el-Qaddafi, Libya’s interim government announced the “liberation” of the country.",
                  "words": "['“', 'Our', '”', 'Islamists', 'NEW', 'DELHI', '–', 'Following', 'the', 'death', 'of', 'Libya', '’', 's', 'Muammar', 'el-Qaddafi', ',', 'Libya', '’', 's', 'interim', 'government', 'announced', 'the', '“', 'liberation', '”', 'of', 'the', 'country', '.']",
                  "num_words": 31,
                  "_deepnote_index_column": 48
                },
                {
                  "sentences": "It also declared that a system based on sharia (Islamic law), including polygamy, would replace the secular dictatorship that Qaddafi ran for 42 years.",
                  "words": "['It', 'also', 'declared', 'that', 'a', 'system', 'based', 'on', 'sharia', '(', 'Islamic', 'law', ')', ',', 'including', 'polygamy', ',', 'would', 'replace', 'the', 'secular', 'dictatorship', 'that', 'Qaddafi', 'ran', 'for', '42', 'years', '.']",
                  "num_words": 29,
                  "_deepnote_index_column": 49
                },
                {
                  "sentences": "Swapping one form of authoritarianism for another seems a cruel letdown after seven months of NATO airstrikes in the name of democracy.",
                  "words": "['Swapping', 'one', 'form', 'of', 'authoritarianism', 'for', 'another', 'seems', 'a', 'cruel', 'letdown', 'after', 'seven', 'months', 'of', 'NATO', 'airstrikes', 'in', 'the', 'name', 'of', 'democracy', '.']",
                  "num_words": 23,
                  "_deepnote_index_column": 50
                },
                {
                  "sentences": "In fact, the Western powers that brought about regime change in Libya have made little effort to prevent its new rulers from establishing a theocracy.",
                  "words": "['In', 'fact', ',', 'the', 'Western', 'powers', 'that', 'brought', 'about', 'regime', 'change', 'in', 'Libya', 'have', 'made', 'little', 'effort', 'to', 'prevent', 'its', 'new', 'rulers', 'from', 'establishing', 'a', 'theocracy', '.']",
                  "num_words": 27,
                  "_deepnote_index_column": 51
                },
                {
                  "sentences": "But this is the price that the West willingly pays in exchange for the privilege of choosing the new leadership.",
                  "words": "['But', 'this', 'is', 'the', 'price', 'that', 'the', 'West', 'willingly', 'pays', 'in', 'exchange', 'for', 'the', 'privilege', 'of', 'choosing', 'the', 'new', 'leadership', '.']",
                  "num_words": 21,
                  "_deepnote_index_column": 52
                },
                {
                  "sentences": "Indeed, the cloak of Islam helps to protect the credibility of leaders who might otherwise be seen as foreign puppets.",
                  "words": "['Indeed', ',', 'the', 'cloak', 'of', 'Islam', 'helps', 'to', 'protect', 'the', 'credibility', 'of', 'leaders', 'who', 'might', 'otherwise', 'be', 'seen', 'as', 'foreign', 'puppets', '.']",
                  "num_words": 22,
                  "_deepnote_index_column": 53
                },
                {
                  "sentences": "For the same reason, the West has condoned the rulers of the oil sheikhdoms for their longstanding alliance with radical clerics.",
                  "words": "['For', 'the', 'same', 'reason', ',', 'the', 'West', 'has', 'condoned', 'the', 'rulers', 'of', 'the', 'oil', 'sheikhdoms', 'for', 'their', 'longstanding', 'alliance', 'with', 'radical', 'clerics', '.']",
                  "num_words": 23,
                  "_deepnote_index_column": 54
                },
                {
                  "sentences": "For example, the decadent House of Saud, backed by the United States, not only practices Wahhabi Islam – the source of modern Islamic fundamentalism – but also exports this fringe form of the faith, gradually snuffing out more liberal Islamic traditions.",
                  "words": "['For', 'example', ',', 'the', 'decadent', 'House', 'of', 'Saud', ',', 'backed', 'by', 'the', 'United', 'States', ',', 'not', 'only', 'practices', 'Wahhabi', 'Islam', '–', 'the', 'source', 'of', 'modern', 'Islamic', 'fundamentalism', '–', 'but', 'also', 'exports', 'this', 'fringe', 'form', 'of', 'the', 'faith', ',', 'gradually', 'snuffing', 'out', 'more', 'liberal', 'Islamic', 'traditions', '.']",
                  "num_words": 46,
                  "_deepnote_index_column": 55
                },
                {
                  "sentences": "Yet, when the Saudi Crown Prince died recently, the US stood by silently as the ruling family appointed its most reactionary Islamist as the new heir to the throne.",
                  "words": "['Yet', ',', 'when', 'the', 'Saudi', 'Crown', 'Prince', 'died', 'recently', ',', 'the', 'US', 'stood', 'by', 'silently', 'as', 'the', 'ruling', 'family', 'appointed', 'its', 'most', 'reactionary', 'Islamist', 'as', 'the', 'new', 'heir', 'to', 'the', 'throne', '.']",
                  "num_words": 32,
                  "_deepnote_index_column": 56
                },
                {
                  "sentences": "So intrinsic have the Arab monarchs become to US interests that the Americans have failed to stop these cloistered royals from continuing to fund Muslim extremist groups and madrasas in other countries.",
                  "words": "['So', 'intrinsic', 'have', 'the', 'Arab', 'monarchs', 'become', 'to', 'US', 'interests', 'that', 'the', 'Americans', 'have', 'failed', 'to', 'stop', 'these', 'cloistered', 'royals', 'from', 'continuing', 'to', 'fund', 'Muslim', 'extremist', 'groups', 'and', 'madrasas', 'in', 'other', 'countries', '.']",
                  "num_words": 33,
                  "_deepnote_index_column": 57
                },
                {
                  "sentences": "From Africa to South and Southeast Asia, Arab petrodollars have played a key role in fomenting militant Islamic fundamentalism that targets the West, Israel, and India as its enemies.",
                  "words": "['From', 'Africa', 'to', 'South', 'and', 'Southeast', 'Asia', ',', 'Arab', 'petrodollars', 'have', 'played', 'a', 'key', 'role', 'in', 'fomenting', 'militant', 'Islamic', 'fundamentalism', 'that', 'targets', 'the', 'West', ',', 'Israel', ',', 'and', 'India', 'as', 'its', 'enemies', '.']",
                  "num_words": 33,
                  "_deepnote_index_column": 58
                },
                {
                  "sentences": "The US interest in maintaining pliant regimes in oil-rich countries trumps all other considerations.",
                  "words": "['The', 'US', 'interest', 'in', 'maintaining', 'pliant', 'regimes', 'in', 'oil-rich', 'countries', 'trumps', 'all', 'other', 'considerations', '.']",
                  "num_words": 15,
                  "_deepnote_index_column": 59
                },
                {
                  "sentences": "With Western support, the oil monarchies, even the most tyrannical, have been able to ride out the Arab Spring, emerging virtually unscathed.",
                  "words": "['With', 'Western', 'support', ',', 'the', 'oil', 'monarchies', ',', 'even', 'the', 'most', 'tyrannical', ',', 'have', 'been', 'able', 'to', 'ride', 'out', 'the', 'Arab', 'Spring', ',', 'emerging', 'virtually', 'unscathed', '.']",
                  "num_words": 27,
                  "_deepnote_index_column": 60
                },
                {
                  "sentences": "For the US, the sheikhdoms that make up the Gulf Cooperation Council – Saudi Arabia, Kuwait, Bahrain, Qatar, the United Arab Emirates, and Oman – are critical for geostrategic reasons as well.",
                  "words": "['For', 'the', 'US', ',', 'the', 'sheikhdoms', 'that', 'make', 'up', 'the', 'Gulf', 'Cooperation', 'Council', '–', 'Saudi', 'Arabia', ',', 'Kuwait', ',', 'Bahrain', ',', 'Qatar', ',', 'the', 'United', 'Arab', 'Emirates', ',', 'and', 'Oman', '–', 'are', 'critical', 'for', 'geostrategic', 'reasons', 'as', 'well', '.']",
                  "num_words": 39,
                  "_deepnote_index_column": 61
                },
                {
                  "sentences": "After withdrawing its forces from Iraq, the US is considering using Kuwait as a new military hub to expand its military presence in the Persian Gulf region and foster a US-led “security architecture,” under which its air and naval patrols would be regionally integrated.",
                  "words": "['After', 'withdrawing', 'its', 'forces', 'from', 'Iraq', ',', 'the', 'US', 'is', 'considering', 'using', 'Kuwait', 'as', 'a', 'new', 'military', 'hub', 'to', 'expand', 'its', 'military', 'presence', 'in', 'the', 'Persian', 'Gulf', 'region', 'and', 'foster', 'a', 'US-led', '“', 'security', 'architecture', ',', '”', 'under', 'which', 'its', 'air', 'and', 'naval', 'patrols', 'would', 'be', 'regionally', 'integrated', '.']",
                  "num_words": 49,
                  "_deepnote_index_column": 62
                },
                {
                  "sentences": "NATO-led regime change in Libya – which holds the world’s largest reserves of the light sweet crude oil that American and European refineries prefer – was not really about ushering in an era of liberal democracy.",
                  "words": "['NATO-led', 'regime', 'change', 'in', 'Libya', '–', 'which', 'holds', 'the', 'world', '’', 's', 'largest', 'reserves', 'of', 'the', 'light', 'sweet', 'crude', 'oil', 'that', 'American', 'and', 'European', 'refineries', 'prefer', '–', 'was', 'not', 'really', 'about', 'ushering', 'in', 'an', 'era', 'of', 'liberal', 'democracy', '.']",
                  "num_words": 39,
                  "_deepnote_index_column": 63
                },
                {
                  "sentences": "The new Libya faces uncertain times.",
                  "words": "['The', 'new', 'Libya', 'faces', 'uncertain', 'times', '.']",
                  "num_words": 7,
                  "_deepnote_index_column": 64
                },
                {
                  "sentences": "The only certain element is that its new rulers will remain beholden to those who helped to install them.",
                  "words": "['The', 'only', 'certain', 'element', 'is', 'that', 'its', 'new', 'rulers', 'will', 'remain', 'beholden', 'to', 'those', 'who', 'helped', 'to', 'install', 'them', '.']",
                  "num_words": 20,
                  "_deepnote_index_column": 65
                },
                {
                  "sentences": "US Senator John McCain has already announced that the new Libyan rulers are “willing to reimburse us and our allies” for the costs of effecting regime change.",
                  "words": "['US', 'Senator', 'John', 'McCain', 'has', 'already', 'announced', 'that', 'the', 'new', 'Libyan', 'rulers', 'are', '“', 'willing', 'to', 'reimburse', 'us', 'and', 'our', 'allies', '”', 'for', 'the', 'costs', 'of', 'effecting', 'regime', 'change', '.']",
                  "num_words": 30,
                  "_deepnote_index_column": 66
                },
                {
                  "sentences": "America’s troubling ties with Islamist rulers and groups were cemented in the 1980’s, when the Reagan administration used Islam as an ideological tool to spur armed resistance to the Soviet occupation of Afghanistan.",
                  "words": "['America', '’', 's', 'troubling', 'ties', 'with', 'Islamist', 'rulers', 'and', 'groups', 'were', 'cemented', 'in', 'the', '1980', '’', 's', ',', 'when', 'the', 'Reagan', 'administration', 'used', 'Islam', 'as', 'an', 'ideological', 'tool', 'to', 'spur', 'armed', 'resistance', 'to', 'the', 'Soviet', 'occupation', 'of', 'Afghanistan', '.']",
                  "num_words": 39,
                  "_deepnote_index_column": 67
                },
                {
                  "sentences": "In 1985, at a White House ceremony attended by several Afghan mujahideen – the jihadists out of which the Taliban and al-Qaeda evolved – Reagan gestured toward his guests and declared, “These gentlemen are the moral equivalent of America’s Founding Fathers.”\nYet the lessons of the anti-Soviet struggle in Afghanistan have already been forgotten, including the need to focus on long-term goals rather than short-term victories.",
                  "words": "['In', '1985', ',', 'at', 'a', 'White', 'House', 'ceremony', 'attended', 'by', 'several', 'Afghan', 'mujahideen', '–', 'the', 'jihadists', 'out', 'of', 'which', 'the', 'Taliban', 'and', 'al-Qaeda', 'evolved', '–', 'Reagan', 'gestured', 'toward', 'his', 'guests', 'and', 'declared', ',', '“', 'These', 'gentlemen', 'are', 'the', 'moral', 'equivalent', 'of', 'America', '’', 's', 'Founding', 'Fathers.', '”', 'Yet', 'the', 'lessons', 'of', 'the', 'anti-Soviet', 'struggle', 'in', 'Afghanistan', 'have', 'already', 'been', 'forgotten', ',', 'including', 'the', 'need', 'to', 'focus', 'on', 'long-term', 'goals', 'rather', 'than', 'short-term', 'victories', '.']",
                  "num_words": 74,
                  "_deepnote_index_column": 68
                },
                {
                  "sentences": "The Obama administration’s current effort to strike a Faustian bargain with the Taliban, for example, ignores America’s own experience of the consequences of following the path of expediency.",
                  "words": "['The', 'Obama', 'administration', '’', 's', 'current', 'effort', 'to', 'strike', 'a', 'Faustian', 'bargain', 'with', 'the', 'Taliban', ',', 'for', 'example', ',', 'ignores', 'America', '’', 's', 'own', 'experience', 'of', 'the', 'consequences', 'of', 'following', 'the', 'path', 'of', 'expediency', '.']",
                  "num_words": 35,
                  "_deepnote_index_column": 69
                },
                {
                  "sentences": "Another lesson that has been ignored is the need for caution in training Islamic insurgents and funneling lethal arms to them to help overthrow a regime.",
                  "words": "['Another', 'lesson', 'that', 'has', 'been', 'ignored', 'is', 'the', 'need', 'for', 'caution', 'in', 'training', 'Islamic', 'insurgents', 'and', 'funneling', 'lethal', 'arms', 'to', 'them', 'to', 'help', 'overthrow', 'a', 'regime', '.']",
                  "num_words": 27,
                  "_deepnote_index_column": 70
                },
                {
                  "sentences": "In Libya, bringing the myriad rebel militias under government control is likely to prove difficult, potentially creating a jihadist citadel at Europe’s southern doorstep.",
                  "words": "['In', 'Libya', ',', 'bringing', 'the', 'myriad', 'rebel', 'militias', 'under', 'government', 'control', 'is', 'likely', 'to', 'prove', 'difficult', ',', 'potentially', 'creating', 'a', 'jihadist', 'citadel', 'at', 'Europe', '’', 's', 'southern', 'doorstep', '.']",
                  "num_words": 29,
                  "_deepnote_index_column": 71
                },
                {
                  "sentences": "Exponents of US policy argue that in war it is sometimes necessary to choose the lesser of two evils.",
                  "words": "['Exponents', 'of', 'US', 'policy', 'argue', 'that', 'in', 'war', 'it', 'is', 'sometimes', 'necessary', 'to', 'choose', 'the', 'lesser', 'of', 'two', 'evils', '.']",
                  "num_words": 20,
                  "_deepnote_index_column": 72
                },
                {
                  "sentences": "Unsavory allies – ranging from Islamist militias to regimes that bankroll militant Islamic fundamentalism overseas – may be an unavoidable price to be paid in the service of larger interests.",
                  "words": "['Unsavory', 'allies', '–', 'ranging', 'from', 'Islamist', 'militias', 'to', 'regimes', 'that', 'bankroll', 'militant', 'Islamic', 'fundamentalism', 'overseas', '–', 'may', 'be', 'an', 'unavoidable', 'price', 'to', 'be', 'paid', 'in', 'the', 'service', 'of', 'larger', 'interests', '.']",
                  "num_words": 31,
                  "_deepnote_index_column": 73
                },
                {
                  "sentences": "Paradoxically, the US practice of propping up malleable Islamist rulers in the Middle East often results in strong anti-US sentiment, as well as support for more independent and “authentically” Islamist forces.",
                  "words": "['Paradoxically', ',', 'the', 'US', 'practice', 'of', 'propping', 'up', 'malleable', 'Islamist', 'rulers', 'in', 'the', 'Middle', 'East', 'often', 'results', 'in', 'strong', 'anti-US', 'sentiment', ',', 'as', 'well', 'as', 'support', 'for', 'more', 'independent', 'and', '“', 'authentically', '”', 'Islamist', 'forces', '.']",
                  "num_words": 36,
                  "_deepnote_index_column": 74
                },
                {
                  "sentences": "When elections are held, it is such autonomous Islamists who often emerge as winners, as in Gaza and Tunisia.",
                  "words": "['When', 'elections', 'are', 'held', ',', 'it', 'is', 'such', 'autonomous', 'Islamists', 'who', 'often', 'emerge', 'as', 'winners', ',', 'as', 'in', 'Gaza', 'and', 'Tunisia', '.']",
                  "num_words": 22,
                  "_deepnote_index_column": 75
                },
                {
                  "sentences": "The fight against Islamist terrorism can succeed only by ensuring that states do not strengthen those forms of Islamic fundamentalism that extol violence as a religious tool.",
                  "words": "['The', 'fight', 'against', 'Islamist', 'terrorism', 'can', 'succeed', 'only', 'by', 'ensuring', 'that', 'states', 'do', 'not', 'strengthen', 'those', 'forms', 'of', 'Islamic', 'fundamentalism', 'that', 'extol', 'violence', 'as', 'a', 'religious', 'tool', '.']",
                  "num_words": 28,
                  "_deepnote_index_column": 76
                },
                {
                  "sentences": "Unfortunately, with the US willfully ignoring the lessons of the recent past, the extremists are once again waiting in the wings.",
                  "words": "['Unfortunately', ',', 'with', 'the', 'US', 'willfully', 'ignoring', 'the', 'lessons', 'of', 'the', 'recent', 'past', ',', 'the', 'extremists', 'are', 'once', 'again', 'waiting', 'in', 'the', 'wings', '.']",
                  "num_words": 24,
                  "_deepnote_index_column": 77
                },
                {
                  "sentences": "1929 or 1989?",
                  "words": "['1929', 'or', '1989', '?']",
                  "num_words": 4,
                  "_deepnote_index_column": 78
                },
                {
                  "sentences": "PARIS – As the economic crisis deepens and widens, the world has been searching for historical analogies to help us understand what has been happening.",
                  "words": "['PARIS', '–', 'As', 'the', 'economic', 'crisis', 'deepens', 'and', 'widens', ',', 'the', 'world', 'has', 'been', 'searching', 'for', 'historical', 'analogies', 'to', 'help', 'us', 'understand', 'what', 'has', 'been', 'happening', '.']",
                  "num_words": 27,
                  "_deepnote_index_column": 79
                },
                {
                  "sentences": "At the start of the crisis, many people likened it to 1982 or 1973, which was reassuring, because both dates refer to classical cyclical downturns.",
                  "words": "['At', 'the', 'start', 'of', 'the', 'crisis', ',', 'many', 'people', 'likened', 'it', 'to', '1982', 'or', '1973', ',', 'which', 'was', 'reassuring', ',', 'because', 'both', 'dates', 'refer', 'to', 'classical', 'cyclical', 'downturns', '.']",
                  "num_words": 29,
                  "_deepnote_index_column": 80
                },
                {
                  "sentences": "Today, the mood is much grimmer, with references to 1929 and 1931 beginning to abound, even if some governments continue to behave as if the crisis was more classical than exceptional.",
                  "words": "['Today', ',', 'the', 'mood', 'is', 'much', 'grimmer', ',', 'with', 'references', 'to', '1929', 'and', '1931', 'beginning', 'to', 'abound', ',', 'even', 'if', 'some', 'governments', 'continue', 'to', 'behave', 'as', 'if', 'the', 'crisis', 'was', 'more', 'classical', 'than', 'exceptional', '.']",
                  "num_words": 35,
                  "_deepnote_index_column": 81
                },
                {
                  "sentences": "The tendency is either excessive restraint (Europe) or a diffusion of the effort (the United States).",
                  "words": "['The', 'tendency', 'is', 'either', 'excessive', 'restraint', '(', 'Europe', ')', 'or', 'a', 'diffusion', 'of', 'the', 'effort', '(', 'the', 'United', 'States', ')', '.']",
                  "num_words": 21,
                  "_deepnote_index_column": 82
                },
                {
                  "sentences": "Europe is being cautious in the name of avoiding debt and defending the euro, whereas the US has moved on many fronts in order not to waste an ideal opportunity to implement badly needed structural reforms.",
                  "words": "['Europe', 'is', 'being', 'cautious', 'in', 'the', 'name', 'of', 'avoiding', 'debt', 'and', 'defending', 'the', 'euro', ',', 'whereas', 'the', 'US', 'has', 'moved', 'on', 'many', 'fronts', 'in', 'order', 'not', 'to', 'waste', 'an', 'ideal', 'opportunity', 'to', 'implement', 'badly', 'needed', 'structural', 'reforms', '.']",
                  "num_words": 38,
                  "_deepnote_index_column": 83
                },
                {
                  "sentences": "For geo-strategists, however, the year that naturally comes to mind, in both politics and economics, is 1989.",
                  "words": "['For', 'geo-strategists', ',', 'however', ',', 'the', 'year', 'that', 'naturally', 'comes', 'to', 'mind', ',', 'in', 'both', 'politics', 'and', 'economics', ',', 'is', '1989', '.']",
                  "num_words": 22,
                  "_deepnote_index_column": 84
                },
                {
                  "sentences": "Of course, the fall of the house of Lehman Brothers has nothing to do with the fall of the Berlin Wall.",
                  "words": "['Of', 'course', ',', 'the', 'fall', 'of', 'the', 'house', 'of', 'Lehman', 'Brothers', 'has', 'nothing', 'to', 'do', 'with', 'the', 'fall', 'of', 'the', 'Berlin', 'Wall', '.']",
                  "num_words": 23,
                  "_deepnote_index_column": 85
                },
                {
                  "sentences": "Indeed, on the surface it seems to be its perfect antithesis: the collapse of a wall symbolizing oppression and artificial divisions versus the collapse of a seemingly indestructible and reassuring institution of financial capitalism.",
                  "words": "['Indeed', ',', 'on', 'the', 'surface', 'it', 'seems', 'to', 'be', 'its', 'perfect', 'antithesis', ':', 'the', 'collapse', 'of', 'a', 'wall', 'symbolizing', 'oppression', 'and', 'artificial', 'divisions', 'versus', 'the', 'collapse', 'of', 'a', 'seemingly', 'indestructible', 'and', 'reassuring', 'institution', 'of', 'financial', 'capitalism', '.']",
                  "num_words": 37,
                  "_deepnote_index_column": 86
                },
                {
                  "sentences": "Yet 2008-2009, like 1989, may very well correspond to an epochal change, whose unfolding consequences will be felt for decades.",
                  "words": "['Yet', '2008-2009', ',', 'like', '1989', ',', 'may', 'very', 'well', 'correspond', 'to', 'an', 'epochal', 'change', ',', 'whose', 'unfolding', 'consequences', 'will', 'be', 'felt', 'for', 'decades', '.']",
                  "num_words": 24,
                  "_deepnote_index_column": 87
                },
                {
                  "sentences": "The end of the East-West ideological divide and the end of absolute faith in markets are historical turning points.",
                  "words": "['The', 'end', 'of', 'the', 'East-West', 'ideological', 'divide', 'and', 'the', 'end', 'of', 'absolute', 'faith', 'in', 'markets', 'are', 'historical', 'turning', 'points', '.']",
                  "num_words": 20,
                  "_deepnote_index_column": 88
                },
                {
                  "sentences": "And what happens in 2009 may jeopardize some of the positive results of 1989, including the peaceful reunification of Europe and the triumph of democratic principles over nationalist, if not xenophobic, tendencies.",
                  "words": "['And', 'what', 'happens', 'in', '2009', 'may', 'jeopardize', 'some', 'of', 'the', 'positive', 'results', 'of', '1989', ',', 'including', 'the', 'peaceful', 'reunification', 'of', 'Europe', 'and', 'the', 'triumph', 'of', 'democratic', 'principles', 'over', 'nationalist', ',', 'if', 'not', 'xenophobic', ',', 'tendencies', '.']",
                  "num_words": 36,
                  "_deepnote_index_column": 89
                },
                {
                  "sentences": "In 1989, liberal democracy triumphed over the socialist ideology incarnated and promoted by the Soviet Bloc.",
                  "words": "['In', '1989', ',', 'liberal', 'democracy', 'triumphed', 'over', 'the', 'socialist', 'ideology', 'incarnated', 'and', 'promoted', 'by', 'the', 'Soviet', 'Bloc', '.']",
                  "num_words": 18,
                  "_deepnote_index_column": 90
                },
                {
                  "sentences": "For many of his supporters, it was President Ronald Reagan who, with his deliberate escalation of the arms race, pushed the Soviet economy to the brink, thereby fully demonstrating the superiority of liberal societies and free markets.",
                  "words": "['For', 'many', 'of', 'his', 'supporters', ',', 'it', 'was', 'President', 'Ronald', 'Reagan', 'who', ',', 'with', 'his', 'deliberate', 'escalation', 'of', 'the', 'arms', 'race', ',', 'pushed', 'the', 'Soviet', 'economy', 'to', 'the', 'brink', ',', 'thereby', 'fully', 'demonstrating', 'the', 'superiority', 'of', 'liberal', 'societies', 'and', 'free', 'markets', '.']",
                  "num_words": 42,
                  "_deepnote_index_column": 91
                },
                {
                  "sentences": "Of course, there are obvious differences between 1989 and now.",
                  "words": "['Of', 'course', ',', 'there', 'are', 'obvious', 'differences', 'between', '1989', 'and', 'now', '.']",
                  "num_words": 12,
                  "_deepnote_index_column": 92
                },
                {
                  "sentences": "First, and perhaps above all, the revolutions of 1989 and the subsequent collapse of the Soviet Union put an end to global bipolarity.",
                  "words": "['First', ',', 'and', 'perhaps', 'above', 'all', ',', 'the', 'revolutions', 'of', '1989', 'and', 'the', 'subsequent', 'collapse', 'of', 'the', 'Soviet', 'Union', 'put', 'an', 'end', 'to', 'global', 'bipolarity', '.']",
                  "num_words": 26,
                  "_deepnote_index_column": 93
                },
                {
                  "sentences": "By contrast, 2009 is likely to pave the way to a new form of bipolarity, but with China substituting for the Soviet Union.",
                  "words": "['By', 'contrast', ',', '2009', 'is', 'likely', 'to', 'pave', 'the', 'way', 'to', 'a', 'new', 'form', 'of', 'bipolarity', ',', 'but', 'with', 'China', 'substituting', 'for', 'the', 'Soviet', 'Union', '.']",
                  "num_words": 26,
                  "_deepnote_index_column": 94
                },
                {
                  "sentences": "Second, whereas democracy and market capitalism appeared as clear – if more fragile than expected – winners in 1989, it is difficult in 2009, with the spread of the global crisis, to distinguish winners from losers.",
                  "words": "['Second', ',', 'whereas', 'democracy', 'and', 'market', 'capitalism', 'appeared', 'as', 'clear', '–', 'if', 'more', 'fragile', 'than', 'expected', '–', 'winners', 'in', '1989', ',', 'it', 'is', 'difficult', 'in', '2009', ',', 'with', 'the', 'spread', 'of', 'the', 'global', 'crisis', ',', 'to', 'distinguish', 'winners', 'from', 'losers', '.']",
                  "num_words": 41,
                  "_deepnote_index_column": 95
                },
                {
                  "sentences": "Everyone seems to be a loser, even if some are more affected than others.",
                  "words": "['Everyone', 'seems', 'to', 'be', 'a', 'loser', ',', 'even', 'if', 'some', 'are', 'more', 'affected', 'than', 'others', '.']",
                  "num_words": 16,
                  "_deepnote_index_column": 96
                },
                {
                  "sentences": "Yet, history is unfair, and the US, despite its greater responsibility for today’s global crisis, may emerge in better shape than most countries from the morass.",
                  "words": "['Yet', ',', 'history', 'is', 'unfair', ',', 'and', 'the', 'US', ',', 'despite', 'its', 'greater', 'responsibility', 'for', 'today', '’', 's', 'global', 'crisis', ',', 'may', 'emerge', 'in', 'better', 'shape', 'than', 'most', 'countries', 'from', 'the', 'morass', '.']",
                  "num_words": 33,
                  "_deepnote_index_column": 97
                },
                {
                  "sentences": "In better shape, but not alone.",
                  "words": "['In', 'better', 'shape', ',', 'but', 'not', 'alone', '.']",
                  "num_words": 8,
                  "_deepnote_index_column": 98
                },
                {
                  "sentences": "As a visiting professor at Harvard and MIT, I am getting a good preview of what the world could look like when the crisis finally passes.",
                  "words": "['As', 'a', 'visiting', 'professor', 'at', 'Harvard', 'and', 'MIT', ',', 'I', 'am', 'getting', 'a', 'good', 'preview', 'of', 'what', 'the', 'world', 'could', 'look', 'like', 'when', 'the', 'crisis', 'finally', 'passes', '.']",
                  "num_words": 28,
                  "_deepnote_index_column": 99
                },
                {
                  "sentences": "One senses something like the making of an American-Asian dominated universe.",
                  "words": "['One', 'senses', 'something', 'like', 'the', 'making', 'of', 'an', 'American-Asian', 'dominated', 'universe', '.']",
                  "num_words": 12,
                  "_deepnote_index_column": 100
                },
                {
                  "sentences": "From the incredible media lab at MIT to the mathematics and economics departments at Harvard, Asians – Chinese and Indians, in particular – are everywhere, like the Romans in Athens in the first century BC: full of admiration for those from whom they were learning so much, and whom they would overcome in the coming decades.",
                  "words": "['From', 'the', 'incredible', 'media', 'lab', 'at', 'MIT', 'to', 'the', 'mathematics', 'and', 'economics', 'departments', 'at', 'Harvard', ',', 'Asians', '–', 'Chinese', 'and', 'Indians', ',', 'in', 'particular', '–', 'are', 'everywhere', ',', 'like', 'the', 'Romans', 'in', 'Athens', 'in', 'the', 'first', 'century', 'BC', ':', 'full', 'of', 'admiration', 'for', 'those', 'from', 'whom', 'they', 'were', 'learning', 'so', 'much', ',', 'and', 'whom', 'they', 'would', 'overcome', 'in', 'the', 'coming', 'decades', '.']",
                  "num_words": 62,
                  "_deepnote_index_column": 101
                },
                {
                  "sentences": "But before this new order appears, the world may be faced with spreading disorder, if not outright chaos.",
                  "words": "['But', 'before', 'this', 'new', 'order', 'appears', ',', 'the', 'world', 'may', 'be', 'faced', 'with', 'spreading', 'disorder', ',', 'if', 'not', 'outright', 'chaos', '.']",
                  "num_words": 21,
                  "_deepnote_index_column": 102
                },
                {
                  "sentences": "What, for example, will happen to a country as central and vulnerable as Egypt when hundred of thousands of Egyptians working in the Gulf are forced to return to their homeland as a result of the crisis in the oil-producing countries?",
                  "words": "['What', ',', 'for', 'example', ',', 'will', 'happen', 'to', 'a', 'country', 'as', 'central', 'and', 'vulnerable', 'as', 'Egypt', 'when', 'hundred', 'of', 'thousands', 'of', 'Egyptians', 'working', 'in', 'the', 'Gulf', 'are', 'forced', 'to', 'return', 'to', 'their', 'homeland', 'as', 'a', 'result', 'of', 'the', 'crisis', 'in', 'the', 'oil-producing', 'countries', '?']",
                  "num_words": 44,
                  "_deepnote_index_column": 103
                },
                {
                  "sentences": "When the rich get less rich, the poor get poorer.",
                  "words": "['When', 'the', 'rich', 'get', 'less', 'rich', ',', 'the', 'poor', 'get', 'poorer', '.']",
                  "num_words": 12,
                  "_deepnote_index_column": 104
                },
                {
                  "sentences": "And what about the foreign workers who have reached for the “European dream” and are now faced with potential explosions of xenophobia in Europe’s supposedly open countries?",
                  "words": "['And', 'what', 'about', 'the', 'foreign', 'workers', 'who', 'have', 'reached', 'for', 'the', '“', 'European', 'dream', '”', 'and', 'are', 'now', 'faced', 'with', 'potential', 'explosions', 'of', 'xenophobia', 'in', 'Europe', '’', 's', 'supposedly', 'open', 'countries', '?']",
                  "num_words": 32,
                  "_deepnote_index_column": 105
                },
                {
                  "sentences": "The consequences of 1989 ended up being less enduring than many observers, including me, would have assumed.",
                  "words": "['The', 'consequences', 'of', '1989', 'ended', 'up', 'being', 'less', 'enduring', 'than', 'many', 'observers', ',', 'including', 'me', ',', 'would', 'have', 'assumed', '.']",
                  "num_words": 20,
                  "_deepnote_index_column": 106
                },
                {
                  "sentences": "We can only hope that, in the end, the consequences of 2009 similarly prove to be far less dramatic than we now – intuitively and in our historical reflexes – feel them to be.",
                  "words": "['We', 'can', 'only', 'hope', 'that', ',', 'in', 'the', 'end', ',', 'the', 'consequences', 'of', '2009', 'similarly', 'prove', 'to', 'be', 'far', 'less', 'dramatic', 'than', 'we', 'now', '–', 'intuitively', 'and', 'in', 'our', 'historical', 'reflexes', '–', 'feel', 'them', 'to', 'be', '.']",
                  "num_words": 37,
                  "_deepnote_index_column": 107
                },
                {
                  "sentences": "The End of 1945\nNEW YORK – On May 8, 1945, when World War II in Europe officially ended, much of the world lay in ruins.",
                  "words": "['The', 'End', 'of', '1945', 'NEW', 'YORK', '–', 'On', 'May', '8', ',', '1945', ',', 'when', 'World', 'War', 'II', 'in', 'Europe', 'officially', 'ended', ',', 'much', 'of', 'the', 'world', 'lay', 'in', 'ruins', '.']",
                  "num_words": 30,
                  "_deepnote_index_column": 108
                },
                {
                  "sentences": "But if the human capacity for destruction knows few limits, the ability to start over again is just as remarkable.",
                  "words": "['But', 'if', 'the', 'human', 'capacity', 'for', 'destruction', 'knows', 'few', 'limits', ',', 'the', 'ability', 'to', 'start', 'over', 'again', 'is', 'just', 'as', 'remarkable', '.']",
                  "num_words": 22,
                  "_deepnote_index_column": 109
                },
                {
                  "sentences": "Perhaps that is why mankind has so far managed to survive.",
                  "words": "['Perhaps', 'that', 'is', 'why', 'mankind', 'has', 'so', 'far', 'managed', 'to', 'survive', '.']",
                  "num_words": 12,
                  "_deepnote_index_column": 110
                },
                {
                  "sentences": "No doubt, millions of people at the end of the war were too hungry and exhausted to do anything much beyond staying alive.",
                  "words": "['No', 'doubt', ',', 'millions', 'of', 'people', 'at', 'the', 'end', 'of', 'the', 'war', 'were', 'too', 'hungry', 'and', 'exhausted', 'to', 'do', 'anything', 'much', 'beyond', 'staying', 'alive', '.']",
                  "num_words": 25,
                  "_deepnote_index_column": 111
                },
                {
                  "sentences": "But, at the same time, a wave of idealism swept across the wreckage, a collective sense of determination to build a more equal, peaceful, and safer world.",
                  "words": "['But', ',', 'at', 'the', 'same', 'time', ',', 'a', 'wave', 'of', 'idealism', 'swept', 'across', 'the', 'wreckage', ',', 'a', 'collective', 'sense', 'of', 'determination', 'to', 'build', 'a', 'more', 'equal', ',', 'peaceful', ',', 'and', 'safer', 'world', '.']",
                  "num_words": 33,
                  "_deepnote_index_column": 112
                },
                {
                  "sentences": "That is why the war’s great hero, Winston Churchill, was voted out of office in the summer of 1945, even before Japan surrendered.",
                  "words": "['That', 'is', 'why', 'the', 'war', '’', 's', 'great', 'hero', ',', 'Winston', 'Churchill', ',', 'was', 'voted', 'out', 'of', 'office', 'in', 'the', 'summer', 'of', '1945', ',', 'even', 'before', 'Japan', 'surrendered', '.']",
                  "num_words": 29,
                  "_deepnote_index_column": 113
                },
                {
                  "sentences": "Men and women had not risked their lives simply to return to the old days of class privilege and social deprivation.",
                  "words": "['Men', 'and', 'women', 'had', 'not', 'risked', 'their', 'lives', 'simply', 'to', 'return', 'to', 'the', 'old', 'days', 'of', 'class', 'privilege', 'and', 'social', 'deprivation', '.']",
                  "num_words": 22,
                  "_deepnote_index_column": 114
                },
                {
                  "sentences": "They wanted better housing, education, and free health care for all.",
                  "words": "['They', 'wanted', 'better', 'housing', ',', 'education', ',', 'and', 'free', 'health', 'care', 'for', 'all', '.']",
                  "num_words": 14,
                  "_deepnote_index_column": 115
                },
                {
                  "sentences": "Similar demands were heard all over Europe, where the anti-Nazi or anti-fascist resistance was often led by leftists, or indeed Communists, and prewar conservatives were frequently tainted by collaboration with fascist regimes.",
                  "words": "['Similar', 'demands', 'were', 'heard', 'all', 'over', 'Europe', ',', 'where', 'the', 'anti-Nazi', 'or', 'anti-fascist', 'resistance', 'was', 'often', 'led', 'by', 'leftists', ',', 'or', 'indeed', 'Communists', ',', 'and', 'prewar', 'conservatives', 'were', 'frequently', 'tainted', 'by', 'collaboration', 'with', 'fascist', 'regimes', '.']",
                  "num_words": 36,
                  "_deepnote_index_column": 116
                },
                {
                  "sentences": "There was talk of revolution in countries such as France, Italy, and Greece.",
                  "words": "['There', 'was', 'talk', 'of', 'revolution', 'in', 'countries', 'such', 'as', 'France', ',', 'Italy', ',', 'and', 'Greece', '.']",
                  "num_words": 16,
                  "_deepnote_index_column": 117
                },
                {
                  "sentences": "This did not happen, because neither the Western Allies nor the Soviet Union supported it.",
                  "words": "['This', 'did', 'not', 'happen', ',', 'because', 'neither', 'the', 'Western', 'Allies', 'nor', 'the', 'Soviet', 'Union', 'supported', 'it', '.']",
                  "num_words": 17,
                  "_deepnote_index_column": 118
                },
                {
                  "sentences": "Stalin was content to settle for an empire in Eastern Europe.",
                  "words": "['Stalin', 'was', 'content', 'to', 'settle', 'for', 'an', 'empire', 'in', 'Eastern', 'Europe', '.']",
                  "num_words": 12,
                  "_deepnote_index_column": 119
                },
                {
                  "sentences": "But even Charles de Gaulle, a resistance leader of the right, had to accept Communists in his first postwar government, and he agreed to nationalize industries and banks.",
                  "words": "['But', 'even', 'Charles', 'de', 'Gaulle', ',', 'a', 'resistance', 'leader', 'of', 'the', 'right', ',', 'had', 'to', 'accept', 'Communists', 'in', 'his', 'first', 'postwar', 'government', ',', 'and', 'he', 'agreed', 'to', 'nationalize', 'industries', 'and', 'banks', '.']",
                  "num_words": 32,
                  "_deepnote_index_column": 120
                },
                {
                  "sentences": "The swing to the left, to social-democratic welfare states, occurred all over Western Europe.",
                  "words": "['The', 'swing', 'to', 'the', 'left', ',', 'to', 'social-democratic', 'welfare', 'states', ',', 'occurred', 'all', 'over', 'Western', 'Europe', '.']",
                  "num_words": 17,
                  "_deepnote_index_column": 121
                },
                {
                  "sentences": "It was part of the 1945 consensus.",
                  "words": "['It', 'was', 'part', 'of', 'the', '1945', 'consensus', '.']",
                  "num_words": 8,
                  "_deepnote_index_column": 122
                },
                {
                  "sentences": "A different kind of revolution was taking place in Europe’s former colonies in Asia, where native peoples had no desire to be ruled once more by Western powers, which had been so ignominiously defeated by Japan.",
                  "words": "['A', 'different', 'kind', 'of', 'revolution', 'was', 'taking', 'place', 'in', 'Europe', '’', 's', 'former', 'colonies', 'in', 'Asia', ',', 'where', 'native', 'peoples', 'had', 'no', 'desire', 'to', 'be', 'ruled', 'once', 'more', 'by', 'Western', 'powers', ',', 'which', 'had', 'been', 'so', 'ignominiously', 'defeated', 'by', 'Japan', '.']",
                  "num_words": 41,
                  "_deepnote_index_column": 123
                },
                {
                  "sentences": "Vietnamese, Indonesians, Filipinos, Burmese, Indians, and Malays wanted their freedom, too.",
                  "words": "['Vietnamese', ',', 'Indonesians', ',', 'Filipinos', ',', 'Burmese', ',', 'Indians', ',', 'and', 'Malays', 'wanted', 'their', 'freedom', ',', 'too', '.']",
                  "num_words": 18,
                  "_deepnote_index_column": 124
                },
                {
                  "sentences": "These aspirations were often voiced in the United Nations, founded in 1945.",
                  "words": "['These', 'aspirations', 'were', 'often', 'voiced', 'in', 'the', 'United', 'Nations', ',', 'founded', 'in', '1945', '.']",
                  "num_words": 14,
                  "_deepnote_index_column": 125
                },
                {
                  "sentences": "The UN, like the dream of European unity, was also part of the 1945 consensus.",
                  "words": "['The', 'UN', ',', 'like', 'the', 'dream', 'of', 'European', 'unity', ',', 'was', 'also', 'part', 'of', 'the', '1945', 'consensus', '.']",
                  "num_words": 18,
                  "_deepnote_index_column": 126
                },
                {
                  "sentences": "For a short while, many prominent people – Albert Einstein, for one – believed that only a world government would be able to ensure global peace.",
                  "words": "['For', 'a', 'short', 'while', ',', 'many', 'prominent', 'people', '–', 'Albert', 'Einstein', ',', 'for', 'one', '–', 'believed', 'that', 'only', 'a', 'world', 'government', 'would', 'be', 'able', 'to', 'ensure', 'global', 'peace', '.']",
                  "num_words": 29,
                  "_deepnote_index_column": 127
                },
                {
                  "sentences": "This dream quickly faded when the Cold War divided the world into two hostile blocs.",
                  "words": "['This', 'dream', 'quickly', 'faded', 'when', 'the', 'Cold', 'War', 'divided', 'the', 'world', 'into', 'two', 'hostile', 'blocs', '.']",
                  "num_words": 16,
                  "_deepnote_index_column": 128
                },
                {
                  "sentences": "But in some ways the 1945 consensus, in the West, was strengthened by Cold War politics.",
                  "words": "['But', 'in', 'some', 'ways', 'the', '1945', 'consensus', ',', 'in', 'the', 'West', ',', 'was', 'strengthened', 'by', 'Cold', 'War', 'politics', '.']",
                  "num_words": 19,
                  "_deepnote_index_column": 129
                },
                {
                  "sentences": "Communism, still wrapped in the laurel leaf of anti-fascism, had a wide intellectual and emotional appeal, not only in the so-called Third World, but also in Western Europe.",
                  "words": "['Communism', ',', 'still', 'wrapped', 'in', 'the', 'laurel', 'leaf', 'of', 'anti-fascism', ',', 'had', 'a', 'wide', 'intellectual', 'and', 'emotional', 'appeal', ',', 'not', 'only', 'in', 'the', 'so-called', 'Third', 'World', ',', 'but', 'also', 'in', 'Western', 'Europe', '.']",
                  "num_words": 33,
                  "_deepnote_index_column": 130
                },
                {
                  "sentences": "Social democracy, with its promise of greater equality and opportunities for all, served as an ideological antidote.",
                  "words": "['Social', 'democracy', ',', 'with', 'its', 'promise', 'of', 'greater', 'equality', 'and', 'opportunities', 'for', 'all', ',', 'served', 'as', 'an', 'ideological', 'antidote', '.']",
                  "num_words": 20,
                  "_deepnote_index_column": 131
                },
                {
                  "sentences": "Most social democrats were in fact fiercely anti-communist.",
                  "words": "['Most', 'social', 'democrats', 'were', 'in', 'fact', 'fiercely', 'anti-communist', '.']",
                  "num_words": 9,
                  "_deepnote_index_column": 132
                },
                {
                  "sentences": "Today, 70 years later, much of the 1945 consensus no longer survives.",
                  "words": "['Today', ',', '70', 'years', 'later', ',', 'much', 'of', 'the', '1945', 'consensus', 'no', 'longer', 'survives', '.']",
                  "num_words": 15,
                  "_deepnote_index_column": 133
                },
                {
                  "sentences": "Few people can muster great enthusiasm for the UN.",
                  "words": "['Few', 'people', 'can', 'muster', 'great', 'enthusiasm', 'for', 'the', 'UN', '.']",
                  "num_words": 10,
                  "_deepnote_index_column": 134
                },
                {
                  "sentences": "The European dream is in crisis.",
                  "words": "['The', 'European', 'dream', 'is', 'in', 'crisis', '.']",
                  "num_words": 7,
                  "_deepnote_index_column": 135
                },
                {
                  "sentences": "And the post-war social-democratic welfare state is being eroded more and more every day.",
                  "words": "['And', 'the', 'post-war', 'social-democratic', 'welfare', 'state', 'is', 'being', 'eroded', 'more', 'and', 'more', 'every', 'day', '.']",
                  "num_words": 15,
                  "_deepnote_index_column": 136
                },
                {
                  "sentences": "The rot began during the 1980s, under Ronald Reagan and Margaret Thatcher.",
                  "words": "['The', 'rot', 'began', 'during', 'the', '1980s', ',', 'under', 'Ronald', 'Reagan', 'and', 'Margaret', 'Thatcher', '.']",
                  "num_words": 14,
                  "_deepnote_index_column": 137
                },
                {
                  "sentences": "Neoliberals attacked the expense of entitlement programs and the vested interests of trade unions.",
                  "words": "['Neoliberals', 'attacked', 'the', 'expense', 'of', 'entitlement', 'programs', 'and', 'the', 'vested', 'interests', 'of', 'trade', 'unions', '.']",
                  "num_words": 15,
                  "_deepnote_index_column": 138
                },
                {
                  "sentences": "Citizens, it was thought, had to become more self-reliant; government welfare programs were making everyone soft and dependent.",
                  "words": "['Citizens', ',', 'it', 'was', 'thought', ',', 'had', 'to', 'become', 'more', 'self-reliant', ';', 'government', 'welfare', 'programs', 'were', 'making', 'everyone', 'soft', 'and', 'dependent', '.']",
                  "num_words": 22,
                  "_deepnote_index_column": 139
                },
                {
                  "sentences": "In Thatcher’s famous words, there was no such thing as “society,” only families and individuals who ought to be taking care of themselves.",
                  "words": "['In', 'Thatcher', '’', 's', 'famous', 'words', ',', 'there', 'was', 'no', 'such', 'thing', 'as', '“', 'society', ',', '”', 'only', 'families', 'and', 'individuals', 'who', 'ought', 'to', 'be', 'taking', 'care', 'of', 'themselves', '.']",
                  "num_words": 30,
                  "_deepnote_index_column": 140
                },
                {
                  "sentences": "But the 1945 consensus was dealt a much greater blow precisely when we all rejoiced at the collapse of the Soviet Empire, the other great twentieth-century tyranny.",
                  "words": "['But', 'the', '1945', 'consensus', 'was', 'dealt', 'a', 'much', 'greater', 'blow', 'precisely', 'when', 'we', 'all', 'rejoiced', 'at', 'the', 'collapse', 'of', 'the', 'Soviet', 'Empire', ',', 'the', 'other', 'great', 'twentieth-century', 'tyranny', '.']",
                  "num_words": 29,
                  "_deepnote_index_column": 141
                },
                {
                  "sentences": "In 1989, it looked as if the dark legacy of World War II, the enslavement of Eastern Europe, was finally over.",
                  "words": "['In', '1989', ',', 'it', 'looked', 'as', 'if', 'the', 'dark', 'legacy', 'of', 'World', 'War', 'II', ',', 'the', 'enslavement', 'of', 'Eastern', 'Europe', ',', 'was', 'finally', 'over', '.']",
                  "num_words": 25,
                  "_deepnote_index_column": 142
                },
                {
                  "sentences": "And in many ways, it was.",
                  "words": "['And', 'in', 'many', 'ways', ',', 'it', 'was', '.']",
                  "num_words": 8,
                  "_deepnote_index_column": 143
                },
                {
                  "sentences": "But much else collapsed with the Soviet model.",
                  "words": "['But', 'much', 'else', 'collapsed', 'with', 'the', 'Soviet', 'model', '.']",
                  "num_words": 9,
                  "_deepnote_index_column": 144
                },
                {
                  "sentences": "Social democracy lost its raison d’être as an antidote to Communism.",
                  "words": "['Social', 'democracy', 'lost', 'its', 'raison', 'd', '’', 'être', 'as', 'an', 'antidote', 'to', 'Communism', '.']",
                  "num_words": 14,
                  "_deepnote_index_column": 145
                },
                {
                  "sentences": "All forms of leftist ideology – indeed, everything that smacked of collective idealism – came to be viewed as misguided utopianism that could lead only to the Gulag.",
                  "words": "['All', 'forms', 'of', 'leftist', 'ideology', '–', 'indeed', ',', 'everything', 'that', 'smacked', 'of', 'collective', 'idealism', '–', 'came', 'to', 'be', 'viewed', 'as', 'misguided', 'utopianism', 'that', 'could', 'lead', 'only', 'to', 'the', 'Gulag', '.']",
                  "num_words": 30,
                  "_deepnote_index_column": 146
                },
                {
                  "sentences": "Neoliberalism filled the vacuum, creating vast wealth for some people, but at the expense of the ideal of equality that had emerged from World War II.",
                  "words": "['Neoliberalism', 'filled', 'the', 'vacuum', ',', 'creating', 'vast', 'wealth', 'for', 'some', 'people', ',', 'but', 'at', 'the', 'expense', 'of', 'the', 'ideal', 'of', 'equality', 'that', 'had', 'emerged', 'from', 'World', 'War', 'II', '.']",
                  "num_words": 29,
                  "_deepnote_index_column": 147
                },
                {
                  "sentences": "The extraordinary reception of Thomas Piketty’s Capital in the Twenty-First Century shows how keenly the consequences of the collapse of the left have been felt.",
                  "words": "['The', 'extraordinary', 'reception', 'of', 'Thomas', 'Piketty', '’', 's', 'Capital', 'in', 'the', 'Twenty-First', 'Century', 'shows', 'how', 'keenly', 'the', 'consequences', 'of', 'the', 'collapse', 'of', 'the', 'left', 'have', 'been', 'felt', '.']",
                  "num_words": 28,
                  "_deepnote_index_column": 148
                },
                {
                  "sentences": "In recent years, other ideologies have also emerged to fill the human need for collective ideals.",
                  "words": "['In', 'recent', 'years', ',', 'other', 'ideologies', 'have', 'also', 'emerged', 'to', 'fill', 'the', 'human', 'need', 'for', 'collective', 'ideals', '.']",
                  "num_words": 18,
                  "_deepnote_index_column": 149
                },
                {
                  "sentences": "The rise of right-wing populism reflects revived yearnings for pure national communities that keep immigrants and minorities out.",
                  "words": "['The', 'rise', 'of', 'right-wing', 'populism', 'reflects', 'revived', 'yearnings', 'for', 'pure', 'national', 'communities', 'that', 'keep', 'immigrants', 'and', 'minorities', 'out', '.']",
                  "num_words": 19,
                  "_deepnote_index_column": 150
                },
                {
                  "sentences": "And, perversely, American neo-conservatives have transformed the internationalism of the old left by seeking to impose a democratic world order by US military force.",
                  "words": "['And', ',', 'perversely', ',', 'American', 'neo-conservatives', 'have', 'transformed', 'the', 'internationalism', 'of', 'the', 'old', 'left', 'by', 'seeking', 'to', 'impose', 'a', 'democratic', 'world', 'order', 'by', 'US', 'military', 'force', '.']",
                  "num_words": 27,
                  "_deepnote_index_column": 151
                },
                {
                  "sentences": "The answer to these alarming developments is not nostalgia.",
                  "words": "['The', 'answer', 'to', 'these', 'alarming', 'developments', 'is', 'not', 'nostalgia', '.']",
                  "num_words": 10,
                  "_deepnote_index_column": 152
                },
                {
                  "sentences": "We cannot simply return to the past.",
                  "words": "['We', 'can', 'not', 'simply', 'return', 'to', 'the', 'past', '.']",
                  "num_words": 9,
                  "_deepnote_index_column": 153
                },
                {
                  "sentences": "Too much has changed.",
                  "words": "['Too', 'much', 'has', 'changed', '.']",
                  "num_words": 5,
                  "_deepnote_index_column": 154
                },
                {
                  "sentences": "But a new aspiration toward social and economic equality, and international solidarity, is badly needed.",
                  "words": "['But', 'a', 'new', 'aspiration', 'toward', 'social', 'and', 'economic', 'equality', ',', 'and', 'international', 'solidarity', ',', 'is', 'badly', 'needed', '.']",
                  "num_words": 18,
                  "_deepnote_index_column": 155
                },
                {
                  "sentences": "It cannot be the same as the 1945 consensus, but we would do well, on this anniversary, to remember why that consensus was forged in the first place.",
                  "words": "['It', 'can', 'not', 'be', 'the', 'same', 'as', 'the', '1945', 'consensus', ',', 'but', 'we', 'would', 'do', 'well', ',', 'on', 'this', 'anniversary', ',', 'to', 'remember', 'why', 'that', 'consensus', 'was', 'forged', 'in', 'the', 'first', 'place', '.']",
                  "num_words": 33,
                  "_deepnote_index_column": 156
                },
                {
                  "sentences": "Remembering the Miracle of 1989\nSTOCKHOLM – This month marks 30 years since Europe – and human civilization generally – began to undergo a miraculous transformation that is now etched in the world’s memory.",
                  "words": "['Remembering', 'the', 'Miracle', 'of', '1989', 'STOCKHOLM', '–', 'This', 'month', 'marks', '30', 'years', 'since', 'Europe', '–', 'and', 'human', 'civilization', 'generally', '–', 'began', 'to', 'undergo', 'a', 'miraculous', 'transformation', 'that', 'is', 'now', 'etched', 'in', 'the', 'world', '’', 's', 'memory', '.']",
                  "num_words": 37,
                  "_deepnote_index_column": 157
                },
                {
                  "sentences": "By the summer of 1989, the Soviet Union was already in terminal decline.",
                  "words": "['By', 'the', 'summer', 'of', '1989', ',', 'the', 'Soviet', 'Union', 'was', 'already', 'in', 'terminal', 'decline', '.']",
                  "num_words": 15,
                  "_deepnote_index_column": 158
                },
                {
                  "sentences": "The only question was whether communism would disintegrate peacefully, or amid an explosion of violence and devastation.",
                  "words": "['The', 'only', 'question', 'was', 'whether', 'communism', 'would', 'disintegrate', 'peacefully', ',', 'or', 'amid', 'an', 'explosion', 'of', 'violence', 'and', 'devastation', '.']",
                  "num_words": 19,
                  "_deepnote_index_column": 159
                },
                {
                  "sentences": "Following its targeted killing of Iran's second most powerful leader, the US could well find itself with no alternative but to devote more military resources to the Middle East, a path that could lead to additional Iranian provocations.",
                  "words": "['Following', 'its', 'targeted', 'killing', 'of', 'Iran', \"'s\", 'second', 'most', 'powerful', 'leader', ',', 'the', 'US', 'could', 'well', 'find', 'itself', 'with', 'no', 'alternative', 'but', 'to', 'devote', 'more', 'military', 'resources', 'to', 'the', 'Middle', 'East', ',', 'a', 'path', 'that', 'could', 'lead', 'to', 'additional', 'Iranian', 'provocations', '.']",
                  "num_words": 42,
                  "_deepnote_index_column": 160
                },
                {
                  "sentences": "And that shift would occur at a time of growing challenges to US interests elsewhere in the world.",
                  "words": "['And', 'that', 'shift', 'would', 'occur', 'at', 'a', 'time', 'of', 'growing', 'challenges', 'to', 'US', 'interests', 'elsewhere', 'in', 'the', 'world', '.']",
                  "num_words": 19,
                  "_deepnote_index_column": 161
                },
                {
                  "sentences": "The targeted killing by the United States of one of Iran's top military leaders represents a significant symbolic defeat for the Iranian regime, but it does not augur all-out war.",
                  "words": "['The', 'targeted', 'killing', 'by', 'the', 'United', 'States', 'of', 'one', 'of', 'Iran', \"'s\", 'top', 'military', 'leaders', 'represents', 'a', 'significant', 'symbolic', 'defeat', 'for', 'the', 'Iranian', 'regime', ',', 'but', 'it', 'does', 'not', 'augur', 'all-out', 'war', '.']",
                  "num_words": 33,
                  "_deepnote_index_column": 162
                },
                {
                  "sentences": "After all, Iran and the US have already been at war for decades, and neither side has an interest in an uncontrolled military escalation now.",
                  "words": "['After', 'all', ',', 'Iran', 'and', 'the', 'US', 'have', 'already', 'been', 'at', 'war', 'for', 'decades', ',', 'and', 'neither', 'side', 'has', 'an', 'interest', 'in', 'an', 'uncontrolled', 'military', 'escalation', 'now', '.']",
                  "num_words": 28,
                  "_deepnote_index_column": 163
                },
                {
                  "sentences": "As in previous years, Project Syndicate asked its commentators to offer their best guesses about the events and trends that will define the coming 12 months.",
                  "words": "['As', 'in', 'previous', 'years', ',', 'Project', 'Syndicate', 'asked', 'its', 'commentators', 'to', 'offer', 'their', 'best', 'guesses', 'about', 'the', 'events', 'and', 'trends', 'that', 'will', 'define', 'the', 'coming', '12', 'months', '.']",
                  "num_words": 28,
                  "_deepnote_index_column": 164
                },
                {
                  "sentences": "If there is one common theme in this year's selection, it is that what happens in 2020 will weigh on the present for many years to come.",
                  "words": "['If', 'there', 'is', 'one', 'common', 'theme', 'in', 'this', 'year', \"'s\", 'selection', ',', 'it', 'is', 'that', 'what', 'happens', 'in', '2020', 'will', 'weigh', 'on', 'the', 'present', 'for', 'many', 'years', 'to', 'come', '.']",
                  "num_words": 30,
                  "_deepnote_index_column": 165
                }
              ],
              "rows_bottom": [
                {
                  "sentences": "But, with much of the Western world having followed Thatcher and Reagan’s example, it is now afflicting all developed economies, dividing societies and stunting their development.",
                  "words": "['But', ',', 'with', 'much', 'of', 'the', 'Western', 'world', 'having', 'followed', 'Thatcher', 'and', 'Reagan', '’', 's', 'example', ',', 'it', 'is', 'now', 'afflicting', 'all', 'developed', 'economies', ',', 'dividing', 'societies', 'and', 'stunting', 'their', 'development', '.']",
                  "num_words": 32,
                  "_deepnote_index_column": 4833
                },
                {
                  "sentences": "None of this should be surprising.",
                  "words": "['None', 'of', 'this', 'should', 'be', 'surprising', '.']",
                  "num_words": 7,
                  "_deepnote_index_column": 4834
                },
                {
                  "sentences": "In 1995, the sociologist Ralf Dahrendorf described the “perverse choices” demanded by globalization.",
                  "words": "['In', '1995', ',', 'the', 'sociologist', 'Ralf', 'Dahrendorf', 'described', 'the', '“', 'perverse', 'choices', '”', 'demanded', 'by', 'globalization', '.']",
                  "num_words": 17,
                  "_deepnote_index_column": 4835
                },
                {
                  "sentences": "To become and remain competitive in international markets, he observed, countries had to use resources in ways that threatened social cohesion and political freedom.",
                  "words": "['To', 'become', 'and', 'remain', 'competitive', 'in', 'international', 'markets', ',', 'he', 'observed', ',', 'countries', 'had', 'to', 'use', 'resources', 'in', 'ways', 'that', 'threatened', 'social', 'cohesion', 'and', 'political', 'freedom', '.']",
                  "num_words": 27,
                  "_deepnote_index_column": 4836
                },
                {
                  "sentences": "These choices led, for example, to a new form of inequality that Dahrendorf called inequalization: “building paths to the top for some and digging holes for others, creating cleavages, splitting.”\nHe presciently predicted that the emergence of an “underclass,” excluded and insecure both economically and socially, would give rise to authoritarian temptations.",
                  "words": "['These', 'choices', 'led', ',', 'for', 'example', ',', 'to', 'a', 'new', 'form', 'of', 'inequality', 'that', 'Dahrendorf', 'called', 'inequalization', ':', '“', 'building', 'paths', 'to', 'the', 'top', 'for', 'some', 'and', 'digging', 'holes', 'for', 'others', ',', 'creating', 'cleavages', ',', 'splitting.', '”', 'He', 'presciently', 'predicted', 'that', 'the', 'emergence', 'of', 'an', '“', 'underclass', ',', '”', 'excluded', 'and', 'insecure', 'both', 'economically', 'and', 'socially', ',', 'would', 'give', 'rise', 'to', 'authoritarian', 'temptations', '.']",
                  "num_words": 64,
                  "_deepnote_index_column": 4837
                },
                {
                  "sentences": "The advanced economies’ “overriding task” for the subsequent decade, Dahrendorf wrote, was to get as close to possible to “[squaring] the circle of wealth creation, social cohesion, and political freedom.”\nYet more than two decades later, most have not even attempted that feat.",
                  "words": "['The', 'advanced', 'economies', '’', '“', 'overriding', 'task', '”', 'for', 'the', 'subsequent', 'decade', ',', 'Dahrendorf', 'wrote', ',', 'was', 'to', 'get', 'as', 'close', 'to', 'possible', 'to', '“', '[', 'squaring', ']', 'the', 'circle', 'of', 'wealth', 'creation', ',', 'social', 'cohesion', ',', 'and', 'political', 'freedom.', '”', 'Yet', 'more', 'than', 'two', 'decades', 'later', ',', 'most', 'have', 'not', 'even', 'attempted', 'that', 'feat', '.']",
                  "num_words": 56,
                  "_deepnote_index_column": 4838
                },
                {
                  "sentences": "Instead, following the logic of neoliberalism, they focused on economic growth.",
                  "words": "['Instead', ',', 'following', 'the', 'logic', 'of', 'neoliberalism', ',', 'they', 'focused', 'on', 'economic', 'growth', '.']",
                  "num_words": 14,
                  "_deepnote_index_column": 4839
                },
                {
                  "sentences": "It is time to heed Dahrendorf’s call.",
                  "words": "['It', 'is', 'time', 'to', 'heed', 'Dahrendorf', '’', 's', 'call', '.']",
                  "num_words": 10,
                  "_deepnote_index_column": 4840
                },
                {
                  "sentences": "This does not mean implementing protectionist policies, which would not only undermine economic growth, but also potentially reinforce authoritarian temptations, given such policies’ link to identity politics.",
                  "words": "['This', 'does', 'not', 'mean', 'implementing', 'protectionist', 'policies', ',', 'which', 'would', 'not', 'only', 'undermine', 'economic', 'growth', ',', 'but', 'also', 'potentially', 'reinforce', 'authoritarian', 'temptations', ',', 'given', 'such', 'policies', '’', 'link', 'to', 'identity', 'politics', '.']",
                  "num_words": 32,
                  "_deepnote_index_column": 4841
                },
                {
                  "sentences": "Instead, it requires a comprehensive program comprising proven measures for increasing economic security and social and political engagement.",
                  "words": "['Instead', ',', 'it', 'requires', 'a', 'comprehensive', 'program', 'comprising', 'proven', 'measures', 'for', 'increasing', 'economic', 'security', 'and', 'social', 'and', 'political', 'engagement', '.']",
                  "num_words": 20,
                  "_deepnote_index_column": 4842
                },
                {
                  "sentences": "For starters, countries should reform their tax systems with an eye to reducing wealth disparities and encouraging entrepreneurship and job creation.",
                  "words": "['For', 'starters', ',', 'countries', 'should', 'reform', 'their', 'tax', 'systems', 'with', 'an', 'eye', 'to', 'reducing', 'wealth', 'disparities', 'and', 'encouraging', 'entrepreneurship', 'and', 'job', 'creation', '.']",
                  "num_words": 23,
                  "_deepnote_index_column": 4843
                },
                {
                  "sentences": "At the same time, following the example of California – where post-World War II investment in public universities were pivotal to its subsequent economic success – they should foster social mobility through investment in education and skills training.",
                  "words": "['At', 'the', 'same', 'time', ',', 'following', 'the', 'example', 'of', 'California', '–', 'where', 'post-World', 'War', 'II', 'investment', 'in', 'public', 'universities', 'were', 'pivotal', 'to', 'its', 'subsequent', 'economic', 'success', '–', 'they', 'should', 'foster', 'social', 'mobility', 'through', 'investment', 'in', 'education', 'and', 'skills', 'training', '.']",
                  "num_words": 40,
                  "_deepnote_index_column": 4844
                },
                {
                  "sentences": "Social protections targeting those who are most vulnerable to globalization are also needed, as are policies to compensate for regional disparities, including managed migration (both domestically and internationally).",
                  "words": "['Social', 'protections', 'targeting', 'those', 'who', 'are', 'most', 'vulnerable', 'to', 'globalization', 'are', 'also', 'needed', ',', 'as', 'are', 'policies', 'to', 'compensate', 'for', 'regional', 'disparities', ',', 'including', 'managed', 'migration', '(', 'both', 'domestically', 'and', 'internationally', ')', '.']",
                  "num_words": 33,
                  "_deepnote_index_column": 4845
                },
                {
                  "sentences": "In the 1930s, US President Franklin D. Roosevelt’s New Deal, which lifted the US out of the Great Depression, included such measures, as did similar programs in Europe.",
                  "words": "['In', 'the', '1930s', ',', 'US', 'President', 'Franklin', 'D.', 'Roosevelt', '’', 's', 'New', 'Deal', ',', 'which', 'lifted', 'the', 'US', 'out', 'of', 'the', 'Great', 'Depression', ',', 'included', 'such', 'measures', ',', 'as', 'did', 'similar', 'programs', 'in', 'Europe', '.']",
                  "num_words": 35,
                  "_deepnote_index_column": 4846
                },
                {
                  "sentences": "Finally, to counter social exclusion and fragmentation, efforts must be made to strengthen civil society and to encourage sustained, credible, and respectful public debates.",
                  "words": "['Finally', ',', 'to', 'counter', 'social', 'exclusion', 'and', 'fragmentation', ',', 'efforts', 'must', 'be', 'made', 'to', 'strengthen', 'civil', 'society', 'and', 'to', 'encourage', 'sustained', ',', 'credible', ',', 'and', 'respectful', 'public', 'debates', '.']",
                  "num_words": 29,
                  "_deepnote_index_column": 4847
                },
                {
                  "sentences": "It may take decades to heal social and cultural divides, but it can be done.",
                  "words": "['It', 'may', 'take', 'decades', 'to', 'heal', 'social', 'and', 'cultural', 'divides', ',', 'but', 'it', 'can', 'be', 'done', '.']",
                  "num_words": 17,
                  "_deepnote_index_column": 4848
                },
                {
                  "sentences": "The question is whether leaders will do what is needed.",
                  "words": "['The', 'question', 'is', 'whether', 'leaders', 'will', 'do', 'what', 'is', 'needed', '.']",
                  "num_words": 11,
                  "_deepnote_index_column": 4849
                },
                {
                  "sentences": "Only the Poor Die Young\nROTTERDAM – People who are lower on the socioeconomic ladder (indicated by their level of education, occupation, or income) have shorter and less healthy lives, on average, than those on higher rungs.",
                  "words": "['Only', 'the', 'Poor', 'Die', 'Young', 'ROTTERDAM', '–', 'People', 'who', 'are', 'lower', 'on', 'the', 'socioeconomic', 'ladder', '(', 'indicated', 'by', 'their', 'level', 'of', 'education', ',', 'occupation', ',', 'or', 'income', ')', 'have', 'shorter', 'and', 'less', 'healthy', 'lives', ',', 'on', 'average', ',', 'than', 'those', 'on', 'higher', 'rungs', '.']",
                  "num_words": 44,
                  "_deepnote_index_column": 4850
                },
                {
                  "sentences": "Indeed, life expectancy at birth often varies by 5-10 years, depending on social and economic well-being, with poorer people spending 10-20 more years of life suffering from illness or disability than their wealthier counterparts.",
                  "words": "['Indeed', ',', 'life', 'expectancy', 'at', 'birth', 'often', 'varies', 'by', '5-10', 'years', ',', 'depending', 'on', 'social', 'and', 'economic', 'well-being', ',', 'with', 'poorer', 'people', 'spending', '10-20', 'more', 'years', 'of', 'life', 'suffering', 'from', 'illness', 'or', 'disability', 'than', 'their', 'wealthier', 'counterparts', '.']",
                  "num_words": 38,
                  "_deepnote_index_column": 4851
                },
                {
                  "sentences": "In the nineteenth century, this situation would not have been surprising, given low average income, widespread poverty, and lack of social security.",
                  "words": "['In', 'the', 'nineteenth', 'century', ',', 'this', 'situation', 'would', 'not', 'have', 'been', 'surprising', ',', 'given', 'low', 'average', 'income', ',', 'widespread', 'poverty', ',', 'and', 'lack', 'of', 'social', 'security', '.']",
                  "num_words": 27,
                  "_deepnote_index_column": 4852
                },
                {
                  "sentences": "But such data are commonly reported for high-income countries today, including those ranking high on indices of economic prosperity and human development – even Western Europe’s highly developed welfare states.",
                  "words": "['But', 'such', 'data', 'are', 'commonly', 'reported', 'for', 'high-income', 'countries', 'today', ',', 'including', 'those', 'ranking', 'high', 'on', 'indices', 'of', 'economic', 'prosperity', 'and', 'human', 'development', '–', 'even', 'Western', 'Europe', '’', 's', 'highly', 'developed', 'welfare', 'states', '.']",
                  "num_words": 34,
                  "_deepnote_index_column": 4853
                },
                {
                  "sentences": "Since the end of World War II, Western European countries have tried to reduce socioeconomic inequality, or offset its consequences, through progressive taxation, social security programs, and a wide range of collectively financed provisions, such as public housing, education, health care, and cultural and leisure facilities.",
                  "words": "['Since', 'the', 'end', 'of', 'World', 'War', 'II', ',', 'Western', 'European', 'countries', 'have', 'tried', 'to', 'reduce', 'socioeconomic', 'inequality', ',', 'or', 'offset', 'its', 'consequences', ',', 'through', 'progressive', 'taxation', ',', 'social', 'security', 'programs', ',', 'and', 'a', 'wide', 'range', 'of', 'collectively', 'financed', 'provisions', ',', 'such', 'as', 'public', 'housing', ',', 'education', ',', 'health', 'care', ',', 'and', 'cultural', 'and', 'leisure', 'facilities', '.']",
                  "num_words": 56,
                  "_deepnote_index_column": 4854
                },
                {
                  "sentences": "But, while these policies have reduced inequalities in some social and economic outcomes, including income, housing quality, and health-care access, they have been insufficient to eliminate health inequalities.",
                  "words": "['But', ',', 'while', 'these', 'policies', 'have', 'reduced', 'inequalities', 'in', 'some', 'social', 'and', 'economic', 'outcomes', ',', 'including', 'income', ',', 'housing', 'quality', ',', 'and', 'health-care', 'access', ',', 'they', 'have', 'been', 'insufficient', 'to', 'eliminate', 'health', 'inequalities', '.']",
                  "num_words": 34,
                  "_deepnote_index_column": 4855
                },
                {
                  "sentences": "Long-term time-series data indicate that the socioeconomic mortality gap narrowed before the 1950’s, but has grown substantially since then.",
                  "words": "['Long-term', 'time-series', 'data', 'indicate', 'that', 'the', 'socioeconomic', 'mortality', 'gap', 'narrowed', 'before', 'the', '1950', '’', 's', ',', 'but', 'has', 'grown', 'substantially', 'since', 'then', '.']",
                  "num_words": 23,
                  "_deepnote_index_column": 4856
                },
                {
                  "sentences": "More puzzling is the fact that more generous welfare policies do not translate into smaller health disparities.",
                  "words": "['More', 'puzzling', 'is', 'the', 'fact', 'that', 'more', 'generous', 'welfare', 'policies', 'do', 'not', 'translate', 'into', 'smaller', 'health', 'disparities', '.']",
                  "num_words": 18,
                  "_deepnote_index_column": 4857
                },
                {
                  "sentences": "Even the Nordic countries – world leaders when it comes to creating universal and well-designed welfare policies that cover citizens from cradle to grave – face significant health disparities, despite their relatively low income inequality.",
                  "words": "['Even', 'the', 'Nordic', 'countries', '–', 'world', 'leaders', 'when', 'it', 'comes', 'to', 'creating', 'universal', 'and', 'well-designed', 'welfare', 'policies', 'that', 'cover', 'citizens', 'from', 'cradle', 'to', 'grave', '–', 'face', 'significant', 'health', 'disparities', ',', 'despite', 'their', 'relatively', 'low', 'income', 'inequality', '.']",
                  "num_words": 37,
                  "_deepnote_index_column": 4858
                },
                {
                  "sentences": "To be sure, modern welfare states have far from abolished social inequality, with disparities in access to material and human resources continuing to generate highly unequal lives among their citizens.",
                  "words": "['To', 'be', 'sure', ',', 'modern', 'welfare', 'states', 'have', 'far', 'from', 'abolished', 'social', 'inequality', ',', 'with', 'disparities', 'in', 'access', 'to', 'material', 'and', 'human', 'resources', 'continuing', 'to', 'generate', 'highly', 'unequal', 'lives', 'among', 'their', 'citizens', '.']",
                  "num_words": 33,
                  "_deepnote_index_column": 4859
                },
                {
                  "sentences": "But the welfare state’s aim has never been radical redistribution of wealth.",
                  "words": "['But', 'the', 'welfare', 'state', '’', 's', 'aim', 'has', 'never', 'been', 'radical', 'redistribution', 'of', 'wealth', '.']",
                  "num_words": 15,
                  "_deepnote_index_column": 4860
                },
                {
                  "sentences": "Rather, welfare policies are intended to create a compromise between the interests of employees and employers, laborers and the middle classes.",
                  "words": "['Rather', ',', 'welfare', 'policies', 'are', 'intended', 'to', 'create', 'a', 'compromise', 'between', 'the', 'interests', 'of', 'employees', 'and', 'employers', ',', 'laborers', 'and', 'the', 'middle', 'classes', '.']",
                  "num_words": 24,
                  "_deepnote_index_column": 4861
                },
                {
                  "sentences": "As a result, their redistributive effects are modest.",
                  "words": "['As', 'a', 'result', ',', 'their', 'redistributive', 'effects', 'are', 'modest', '.']",
                  "num_words": 10,
                  "_deepnote_index_column": 4862
                },
                {
                  "sentences": "So, while a partial failure of the welfare state may help to explain the persistence of health inequalities, one must look elsewhere to understand – and reverse – their rise.",
                  "words": "['So', ',', 'while', 'a', 'partial', 'failure', 'of', 'the', 'welfare', 'state', 'may', 'help', 'to', 'explain', 'the', 'persistence', 'of', 'health', 'inequalities', ',', 'one', 'must', 'look', 'elsewhere', 'to', 'understand', '–', 'and', 'reverse', '–', 'their', 'rise', '.']",
                  "num_words": 33,
                  "_deepnote_index_column": 4863
                },
                {
                  "sentences": "Two possible explanations have emerged from the rapidly growing scientific literature on the subject: selective upward social mobility and delayed diffusion of behavioral change.",
                  "words": "['Two', 'possible', 'explanations', 'have', 'emerged', 'from', 'the', 'rapidly', 'growing', 'scientific', 'literature', 'on', 'the', 'subject', ':', 'selective', 'upward', 'social', 'mobility', 'and', 'delayed', 'diffusion', 'of', 'behavioral', 'change', '.']",
                  "num_words": 26,
                  "_deepnote_index_column": 4864
                },
                {
                  "sentences": "In reality, both factors are at work.",
                  "words": "['In', 'reality', ',', 'both', 'factors', 'are', 'at', 'work', '.']",
                  "num_words": 9,
                  "_deepnote_index_column": 4865
                },
                {
                  "sentences": "During the twentieth century, social mobility increased slowly but steadily in all high-income countries, with educational achievement and occupational status depending less on family background and more on cognitive ability and other personal characteristics.",
                  "words": "['During', 'the', 'twentieth', 'century', ',', 'social', 'mobility', 'increased', 'slowly', 'but', 'steadily', 'in', 'all', 'high-income', 'countries', ',', 'with', 'educational', 'achievement', 'and', 'occupational', 'status', 'depending', 'less', 'on', 'family', 'background', 'and', 'more', 'on', 'cognitive', 'ability', 'and', 'other', 'personal', 'characteristics', '.']",
                  "num_words": 37,
                  "_deepnote_index_column": 4866
                },
                {
                  "sentences": "As a result, the lower socioeconomic groups have not only shrunk in size, but have probably also become more homogeneous in terms of personal characteristics that increase the risk of health problems.",
                  "words": "['As', 'a', 'result', ',', 'the', 'lower', 'socioeconomic', 'groups', 'have', 'not', 'only', 'shrunk', 'in', 'size', ',', 'but', 'have', 'probably', 'also', 'become', 'more', 'homogeneous', 'in', 'terms', 'of', 'personal', 'characteristics', 'that', 'increase', 'the', 'risk', 'of', 'health', 'problems', '.']",
                  "num_words": 35,
                  "_deepnote_index_column": 4867
                },
                {
                  "sentences": "Moreover, people with a higher socioeconomic position tend to adopt new behaviors first, and to abandon more readily behaviors that are found to damage health, such as smoking and high-fat diets.",
                  "words": "['Moreover', ',', 'people', 'with', 'a', 'higher', 'socioeconomic', 'position', 'tend', 'to', 'adopt', 'new', 'behaviors', 'first', ',', 'and', 'to', 'abandon', 'more', 'readily', 'behaviors', 'that', 'are', 'found', 'to', 'damage', 'health', ',', 'such', 'as', 'smoking', 'and', 'high-fat', 'diets', '.']",
                  "num_words": 35,
                  "_deepnote_index_column": 4868
                },
                {
                  "sentences": "Given this, new behavioral recommendations by health authorities tend to exacerbate health inequalities, at least temporarily.",
                  "words": "['Given', 'this', ',', 'new', 'behavioral', 'recommendations', 'by', 'health', 'authorities', 'tend', 'to', 'exacerbate', 'health', 'inequalities', ',', 'at', 'least', 'temporarily', '.']",
                  "num_words": 19,
                  "_deepnote_index_column": 4869
                },
                {
                  "sentences": "Significant disparities in smoking, physical exercise, diet, and alcohol consumption afflict many of Western Europe’s welfare states.",
                  "words": "['Significant', 'disparities', 'in', 'smoking', ',', 'physical', 'exercise', ',', 'diet', ',', 'and', 'alcohol', 'consumption', 'afflict', 'many', 'of', 'Western', 'Europe', '’', 's', 'welfare', 'states', '.']",
                  "num_words": 23,
                  "_deepnote_index_column": 4870
                },
                {
                  "sentences": "The welfare system, which was created to combat poverty, has been less effective against “diseases of affluence” like heart disease and lung cancer.",
                  "words": "['The', 'welfare', 'system', ',', 'which', 'was', 'created', 'to', 'combat', 'poverty', ',', 'has', 'been', 'less', 'effective', 'against', '“', 'diseases', 'of', 'affluence', '”', 'like', 'heart', 'disease', 'and', 'lung', 'cancer', '.']",
                  "num_words": 28,
                  "_deepnote_index_column": 4871
                },
                {
                  "sentences": "All of this highlights the need for creative solutions to disparities that unnecessarily and unfairly blight the lives of those who have the least, generate massive health-care costs, and pose a barrier to increased labor-force participation (impeding efforts in some countries to raise the retirement age).",
                  "words": "['All', 'of', 'this', 'highlights', 'the', 'need', 'for', 'creative', 'solutions', 'to', 'disparities', 'that', 'unnecessarily', 'and', 'unfairly', 'blight', 'the', 'lives', 'of', 'those', 'who', 'have', 'the', 'least', ',', 'generate', 'massive', 'health-care', 'costs', ',', 'and', 'pose', 'a', 'barrier', 'to', 'increased', 'labor-force', 'participation', '(', 'impeding', 'efforts', 'in', 'some', 'countries', 'to', 'raise', 'the', 'retirement', 'age', ')', '.']",
                  "num_words": 51,
                  "_deepnote_index_column": 4872
                },
                {
                  "sentences": "In the last few decades, social policy in most Western European countries has moved away from redistribution.",
                  "words": "['In', 'the', 'last', 'few', 'decades', ',', 'social', 'policy', 'in', 'most', 'Western', 'European', 'countries', 'has', 'moved', 'away', 'from', 'redistribution', '.']",
                  "num_words": 19,
                  "_deepnote_index_column": 4873
                },
                {
                  "sentences": "This is a mistake, given that the consequences of this shift – rising income inequality, weaker social safety nets, and reduced health-care access – will aggravate health inequalities in the long run.",
                  "words": "['This', 'is', 'a', 'mistake', ',', 'given', 'that', 'the', 'consequences', 'of', 'this', 'shift', '–', 'rising', 'income', 'inequality', ',', 'weaker', 'social', 'safety', 'nets', ',', 'and', 'reduced', 'health-care', 'access', '–', 'will', 'aggravate', 'health', 'inequalities', 'in', 'the', 'long', 'run', '.']",
                  "num_words": 36,
                  "_deepnote_index_column": 4874
                },
                {
                  "sentences": "In fact, more, better-targeted redistributive policies, which account for the effects of selective upward social mobility and different rates of diffusion of behavioral change, are crucial to improving health outcomes in lower socioeconomic groups.",
                  "words": "['In', 'fact', ',', 'more', ',', 'better-targeted', 'redistributive', 'policies', ',', 'which', 'account', 'for', 'the', 'effects', 'of', 'selective', 'upward', 'social', 'mobility', 'and', 'different', 'rates', 'of', 'diffusion', 'of', 'behavioral', 'change', ',', 'are', 'crucial', 'to', 'improving', 'health', 'outcomes', 'in', 'lower', 'socioeconomic', 'groups', '.']",
                  "num_words": 39,
                  "_deepnote_index_column": 4875
                },
                {
                  "sentences": "Income support should be complemented by preventive health programs, while health literacy programs could help to diminish the link between low cognitive ability and bad health.",
                  "words": "['Income', 'support', 'should', 'be', 'complemented', 'by', 'preventive', 'health', 'programs', ',', 'while', 'health', 'literacy', 'programs', 'could', 'help', 'to', 'diminish', 'the', 'link', 'between', 'low', 'cognitive', 'ability', 'and', 'bad', 'health', '.']",
                  "num_words": 28,
                  "_deepnote_index_column": 4876
                },
                {
                  "sentences": "Equal access to health care is not enough.",
                  "words": "['Equal', 'access', 'to', 'health', 'care', 'is', 'not', 'enough', '.']",
                  "num_words": 9,
                  "_deepnote_index_column": 4877
                },
                {
                  "sentences": "Reducing inequalities in health outcomes requires more intensive health care for patients in lower socioeconomic brackets, tailored to their specific needs and challenges.",
                  "words": "['Reducing', 'inequalities', 'in', 'health', 'outcomes', 'requires', 'more', 'intensive', 'health', 'care', 'for', 'patients', 'in', 'lower', 'socioeconomic', 'brackets', ',', 'tailored', 'to', 'their', 'specific', 'needs', 'and', 'challenges', '.']",
                  "num_words": 25,
                  "_deepnote_index_column": 4878
                },
                {
                  "sentences": "For example, revenues from tobacco taxation, which disproportionately affects lower income groups, should be used to fund cessation-support programs that target disadvantaged smokers.",
                  "words": "['For', 'example', ',', 'revenues', 'from', 'tobacco', 'taxation', ',', 'which', 'disproportionately', 'affects', 'lower', 'income', 'groups', ',', 'should', 'be', 'used', 'to', 'fund', 'cessation-support', 'programs', 'that', 'target', 'disadvantaged', 'smokers', '.']",
                  "num_words": 27,
                  "_deepnote_index_column": 4879
                },
                {
                  "sentences": "Significant and persistent health inequality indicates that, by raising the health levels of those with lower incomes or less education, massive strides could be made in improving populations’ overall health.",
                  "words": "['Significant', 'and', 'persistent', 'health', 'inequality', 'indicates', 'that', ',', 'by', 'raising', 'the', 'health', 'levels', 'of', 'those', 'with', 'lower', 'incomes', 'or', 'less', 'education', ',', 'massive', 'strides', 'could', 'be', 'made', 'in', 'improving', 'populations', '’', 'overall', 'health', '.']",
                  "num_words": 34,
                  "_deepnote_index_column": 4880
                },
                {
                  "sentences": "This may require reshaping the welfare system to some extent, but the payoff would be well worth the effort.",
                  "words": "['This', 'may', 'require', 'reshaping', 'the', 'welfare', 'system', 'to', 'some', 'extent', ',', 'but', 'the', 'payoff', 'would', 'be', 'well', 'worth', 'the', 'effort', '.']",
                  "num_words": 21,
                  "_deepnote_index_column": 4881
                },
                {
                  "sentences": "The Mouse Click that Roared\nCAMBRIDGE – Until recently, cyber security has primarily interested computer geeks and cloak-and-dagger types.",
                  "words": "['The', 'Mouse', 'Click', 'that', 'Roared', 'CAMBRIDGE', '–', 'Until', 'recently', ',', 'cyber', 'security', 'has', 'primarily', 'interested', 'computer', 'geeks', 'and', 'cloak-and-dagger', 'types', '.']",
                  "num_words": 21,
                  "_deepnote_index_column": 4882
                },
                {
                  "sentences": "The Internet’s creators, part of a small, enclosed community, were very comfortable with an open system in which security was not a primary concern.",
                  "words": "['The', 'Internet', '’', 's', 'creators', ',', 'part', 'of', 'a', 'small', ',', 'enclosed', 'community', ',', 'were', 'very', 'comfortable', 'with', 'an', 'open', 'system', 'in', 'which', 'security', 'was', 'not', 'a', 'primary', 'concern', '.']",
                  "num_words": 30,
                  "_deepnote_index_column": 4883
                },
                {
                  "sentences": "But, with some three billion or so users on the Web nowadays, that very openness has become a serious vulnerability; indeed, it is endangering the vast economic opportunities that the Internet has opened for the world.",
                  "words": "['But', ',', 'with', 'some', 'three', 'billion', 'or', 'so', 'users', 'on', 'the', 'Web', 'nowadays', ',', 'that', 'very', 'openness', 'has', 'become', 'a', 'serious', 'vulnerability', ';', 'indeed', ',', 'it', 'is', 'endangering', 'the', 'vast', 'economic', 'opportunities', 'that', 'the', 'Internet', 'has', 'opened', 'for', 'the', 'world', '.']",
                  "num_words": 41,
                  "_deepnote_index_column": 4884
                },
                {
                  "sentences": "A “cyber attack” can take any number of forms, including simple probes, defacement of Web sites, denial-of-service attacks, espionage, and destruction of data.",
                  "words": "['A', '“', 'cyber', 'attack', '”', 'can', 'take', 'any', 'number', 'of', 'forms', ',', 'including', 'simple', 'probes', ',', 'defacement', 'of', 'Web', 'sites', ',', 'denial-of-service', 'attacks', ',', 'espionage', ',', 'and', 'destruction', 'of', 'data', '.']",
                  "num_words": 31,
                  "_deepnote_index_column": 4885
                },
                {
                  "sentences": "And the term “cyber war,” though best defined as any hostile action in cyberspace that amplifies or is equivalent to major physical violence, remains equally protean, reflecting definitions of “war” that range from armed conflict to any concerted effort to solve a problem (for example, “war on poverty”).",
                  "words": "['And', 'the', 'term', '“', 'cyber', 'war', ',', '”', 'though', 'best', 'defined', 'as', 'any', 'hostile', 'action', 'in', 'cyberspace', 'that', 'amplifies', 'or', 'is', 'equivalent', 'to', 'major', 'physical', 'violence', ',', 'remains', 'equally', 'protean', ',', 'reflecting', 'definitions', 'of', '“', 'war', '”', 'that', 'range', 'from', 'armed', 'conflict', 'to', 'any', 'concerted', 'effort', 'to', 'solve', 'a', 'problem', '(', 'for', 'example', ',', '“', 'war', 'on', 'poverty', '”', ')', '.']",
                  "num_words": 61,
                  "_deepnote_index_column": 4886
                },
                {
                  "sentences": "Cyber war and cyber espionage are largely associated with states, while cyber crime and cyber terrorism are mostly associated with non-state actors.",
                  "words": "['Cyber', 'war', 'and', 'cyber', 'espionage', 'are', 'largely', 'associated', 'with', 'states', ',', 'while', 'cyber', 'crime', 'and', 'cyber', 'terrorism', 'are', 'mostly', 'associated', 'with', 'non-state', 'actors', '.']",
                  "num_words": 24,
                  "_deepnote_index_column": 4887
                },
                {
                  "sentences": "The highest costs currently stem from espionage and crime; but, over the next decade or so, cyber war and cyber terrorism may become greater threats than they are today.",
                  "words": "['The', 'highest', 'costs', 'currently', 'stem', 'from', 'espionage', 'and', 'crime', ';', 'but', ',', 'over', 'the', 'next', 'decade', 'or', 'so', ',', 'cyber', 'war', 'and', 'cyber', 'terrorism', 'may', 'become', 'greater', 'threats', 'than', 'they', 'are', 'today', '.']",
                  "num_words": 33,
                  "_deepnote_index_column": 4888
                },
                {
                  "sentences": "Moreover, as alliances and tactics evolve, the categories may increasingly overlap.",
                  "words": "['Moreover', ',', 'as', 'alliances', 'and', 'tactics', 'evolve', ',', 'the', 'categories', 'may', 'increasingly', 'overlap', '.']",
                  "num_words": 14,
                  "_deepnote_index_column": 4889
                },
                {
                  "sentences": "Terrorists might buy malware from criminals, and governments might find it useful to hide behind both.",
                  "words": "['Terrorists', 'might', 'buy', 'malware', 'from', 'criminals', ',', 'and', 'governments', 'might', 'find', 'it', 'useful', 'to', 'hide', 'behind', 'both', '.']",
                  "num_words": 18,
                  "_deepnote_index_column": 4890
                },
                {
                  "sentences": "Some people argue that deterrence does not work in cyberspace, owing to the difficulties of attribution.",
                  "words": "['Some', 'people', 'argue', 'that', 'deterrence', 'does', 'not', 'work', 'in', 'cyberspace', ',', 'owing', 'to', 'the', 'difficulties', 'of', 'attribution', '.']",
                  "num_words": 18,
                  "_deepnote_index_column": 4891
                },
                {
                  "sentences": "But that is facile: inadequate attribution affects inter-state deterrence as well, yet it still operates.",
                  "words": "['But', 'that', 'is', 'facile', ':', 'inadequate', 'attribution', 'affects', 'inter-state', 'deterrence', 'as', 'well', ',', 'yet', 'it', 'still', 'operates', '.']",
                  "num_words": 18,
                  "_deepnote_index_column": 4892
                },
                {
                  "sentences": "Even when the source of an attack can be successfully disguised under a “false flag,” governments may find themselves sufficiently enmeshed in symmetrically interdependent relationships such that a major attack would be counterproductive.",
                  "words": "['Even', 'when', 'the', 'source', 'of', 'an', 'attack', 'can', 'be', 'successfully', 'disguised', 'under', 'a', '“', 'false', 'flag', ',', '”', 'governments', 'may', 'find', 'themselves', 'sufficiently', 'enmeshed', 'in', 'symmetrically', 'interdependent', 'relationships', 'such', 'that', 'a', 'major', 'attack', 'would', 'be', 'counterproductive', '.']",
                  "num_words": 37,
                  "_deepnote_index_column": 4893
                },
                {
                  "sentences": "China, for example, would lose from an attack that severely damaged the American economy, and vice versa.",
                  "words": "['China', ',', 'for', 'example', ',', 'would', 'lose', 'from', 'an', 'attack', 'that', 'severely', 'damaged', 'the', 'American', 'economy', ',', 'and', 'vice', 'versa', '.']",
                  "num_words": 21,
                  "_deepnote_index_column": 4894
                },
                {
                  "sentences": "An unknown attacker may also be deterred by cyber-security measures.",
                  "words": "['An', 'unknown', 'attacker', 'may', 'also', 'be', 'deterred', 'by', 'cyber-security', 'measures', '.']",
                  "num_words": 11,
                  "_deepnote_index_column": 4895
                },
                {
                  "sentences": "If firewalls are strong, or redundancy and resilience allow quick recovery, or the prospect of a self-enforcing response (“an electric fence”) seems possible, an attack becomes less attractive.",
                  "words": "['If', 'firewalls', 'are', 'strong', ',', 'or', 'redundancy', 'and', 'resilience', 'allow', 'quick', 'recovery', ',', 'or', 'the', 'prospect', 'of', 'a', 'self-enforcing', 'response', '(', '“', 'an', 'electric', 'fence', '”', ')', 'seems', 'possible', ',', 'an', 'attack', 'becomes', 'less', 'attractive', '.']",
                  "num_words": 36,
                  "_deepnote_index_column": 4896
                },
                {
                  "sentences": "While accurate attribution of the ultimate source of a cyber attack is sometimes difficult, the determination does not have to be airtight.",
                  "words": "['While', 'accurate', 'attribution', 'of', 'the', 'ultimate', 'source', 'of', 'a', 'cyber', 'attack', 'is', 'sometimes', 'difficult', ',', 'the', 'determination', 'does', 'not', 'have', 'to', 'be', 'airtight', '.']",
                  "num_words": 24,
                  "_deepnote_index_column": 4897
                },
                {
                  "sentences": "To the extent that false flags are imperfect and rumors of the source of an attack are widely deemed credible (though not legally probative), reputational damage to an attacker’s soft power may contribute to deterrence.",
                  "words": "['To', 'the', 'extent', 'that', 'false', 'flags', 'are', 'imperfect', 'and', 'rumors', 'of', 'the', 'source', 'of', 'an', 'attack', 'are', 'widely', 'deemed', 'credible', '(', 'though', 'not', 'legally', 'probative', ')', ',', 'reputational', 'damage', 'to', 'an', 'attacker', '’', 's', 'soft', 'power', 'may', 'contribute', 'to', 'deterrence', '.']",
                  "num_words": 41,
                  "_deepnote_index_column": 4898
                },
                {
                  "sentences": "Finally, a reputation for offensive capability and a declared policy that keeps open the means of retaliation can help to reinforce deterrence.",
                  "words": "['Finally', ',', 'a', 'reputation', 'for', 'offensive', 'capability', 'and', 'a', 'declared', 'policy', 'that', 'keeps', 'open', 'the', 'means', 'of', 'retaliation', 'can', 'help', 'to', 'reinforce', 'deterrence', '.']",
                  "num_words": 24,
                  "_deepnote_index_column": 4899
                },
                {
                  "sentences": "Of course, non-state actors are harder to deter, so improved defenses such as pre-emption and human intelligence become important in such cases.",
                  "words": "['Of', 'course', ',', 'non-state', 'actors', 'are', 'harder', 'to', 'deter', ',', 'so', 'improved', 'defenses', 'such', 'as', 'pre-emption', 'and', 'human', 'intelligence', 'become', 'important', 'in', 'such', 'cases', '.']",
                  "num_words": 25,
                  "_deepnote_index_column": 4900
                },
                {
                  "sentences": "But, among states, even nuclear deterrence was more complex than it first looked, and that is doubly true of deterrence in the cyber domain.",
                  "words": "['But', ',', 'among', 'states', ',', 'even', 'nuclear', 'deterrence', 'was', 'more', 'complex', 'than', 'it', 'first', 'looked', ',', 'and', 'that', 'is', 'doubly', 'true', 'of', 'deterrence', 'in', 'the', 'cyber', 'domain', '.']",
                  "num_words": 28,
                  "_deepnote_index_column": 4901
                },
                {
                  "sentences": "Given its global nature, the Internet requires a degree of international cooperation to be able to function.",
                  "words": "['Given', 'its', 'global', 'nature', ',', 'the', 'Internet', 'requires', 'a', 'degree', 'of', 'international', 'cooperation', 'to', 'be', 'able', 'to', 'function', '.']",
                  "num_words": 19,
                  "_deepnote_index_column": 4902
                },
                {
                  "sentences": "Some people call for the cyber equivalent of formal arms-control treaties.",
                  "words": "['Some', 'people', 'call', 'for', 'the', 'cyber', 'equivalent', 'of', 'formal', 'arms-control', 'treaties', '.']",
                  "num_words": 12,
                  "_deepnote_index_column": 4903
                },
                {
                  "sentences": "But differences in cultural norms and the difficulty of verification would make such treaties hard to negotiate or implement.",
                  "words": "['But', 'differences', 'in', 'cultural', 'norms', 'and', 'the', 'difficulty', 'of', 'verification', 'would', 'make', 'such', 'treaties', 'hard', 'to', 'negotiate', 'or', 'implement', '.']",
                  "num_words": 20,
                  "_deepnote_index_column": 4904
                },
                {
                  "sentences": "At the same time, it is important to pursue international efforts to develop rules of the road that can limit conflict.",
                  "words": "['At', 'the', 'same', 'time', ',', 'it', 'is', 'important', 'to', 'pursue', 'international', 'efforts', 'to', 'develop', 'rules', 'of', 'the', 'road', 'that', 'can', 'limit', 'conflict', '.']",
                  "num_words": 23,
                  "_deepnote_index_column": 4905
                },
                {
                  "sentences": "The most promising areas for international cooperation today most likely concern problems posed for states by third parties such as criminals and terrorists.",
                  "words": "['The', 'most', 'promising', 'areas', 'for', 'international', 'cooperation', 'today', 'most', 'likely', 'concern', 'problems', 'posed', 'for', 'states', 'by', 'third', 'parties', 'such', 'as', 'criminals', 'and', 'terrorists', '.']",
                  "num_words": 24,
                  "_deepnote_index_column": 4906
                },
                {
                  "sentences": "Russia and China have sought to establish a treaty establishing broad international oversight of the Internet and “information security,” which would prohibit deception and embedding malicious code or circuitry that could be activated in the event of war.",
                  "words": "['Russia', 'and', 'China', 'have', 'sought', 'to', 'establish', 'a', 'treaty', 'establishing', 'broad', 'international', 'oversight', 'of', 'the', 'Internet', 'and', '“', 'information', 'security', ',', '”', 'which', 'would', 'prohibit', 'deception', 'and', 'embedding', 'malicious', 'code', 'or', 'circuitry', 'that', 'could', 'be', 'activated', 'in', 'the', 'event', 'of', 'war', '.']",
                  "num_words": 42,
                  "_deepnote_index_column": 4907
                },
                {
                  "sentences": "But the US has argued that arms-control measures banning offensive capabilities could weaken defenses against attacks and would be impossible to verify or enforce.",
                  "words": "['But', 'the', 'US', 'has', 'argued', 'that', 'arms-control', 'measures', 'banning', 'offensive', 'capabilities', 'could', 'weaken', 'defenses', 'against', 'attacks', 'and', 'would', 'be', 'impossible', 'to', 'verify', 'or', 'enforce', '.']",
                  "num_words": 25,
                  "_deepnote_index_column": 4908
                },
                {
                  "sentences": "Likewise, in terms of political values, the US has resisted agreements that could legitimize authoritarian governments’ censorship of the Internet – for example, by the “great firewall of China.”\nMoreover, cultural differences impede any broad agreements on regulating online content.",
                  "words": "['Likewise', ',', 'in', 'terms', 'of', 'political', 'values', ',', 'the', 'US', 'has', 'resisted', 'agreements', 'that', 'could', 'legitimize', 'authoritarian', 'governments', '’', 'censorship', 'of', 'the', 'Internet', '–', 'for', 'example', ',', 'by', 'the', '“', 'great', 'firewall', 'of', 'China.', '”', 'Moreover', ',', 'cultural', 'differences', 'impede', 'any', 'broad', 'agreements', 'on', 'regulating', 'online', 'content', '.']",
                  "num_words": 48,
                  "_deepnote_index_column": 4909
                },
                {
                  "sentences": "Nonetheless, it may be possible to identify behaviors like cyber crime that are illegal in many domestic jurisdictions.",
                  "words": "['Nonetheless', ',', 'it', 'may', 'be', 'possible', 'to', 'identify', 'behaviors', 'like', 'cyber', 'crime', 'that', 'are', 'illegal', 'in', 'many', 'domestic', 'jurisdictions', '.']",
                  "num_words": 20,
                  "_deepnote_index_column": 4910
                },
                {
                  "sentences": "Trying to limit all intrusions would be impossible, but one could start with cyber crime and cyber terrorism involving non-state parties.",
                  "words": "['Trying', 'to', 'limit', 'all', 'intrusions', 'would', 'be', 'impossible', ',', 'but', 'one', 'could', 'start', 'with', 'cyber', 'crime', 'and', 'cyber', 'terrorism', 'involving', 'non-state', 'parties', '.']",
                  "num_words": 23,
                  "_deepnote_index_column": 4911
                },
                {
                  "sentences": "Here, major states would have an interest in limiting damage by agreeing to cooperate on forensics and controls.",
                  "words": "['Here', ',', 'major', 'states', 'would', 'have', 'an', 'interest', 'in', 'limiting', 'damage', 'by', 'agreeing', 'to', 'cooperate', 'on', 'forensics', 'and', 'controls', '.']",
                  "num_words": 20,
                  "_deepnote_index_column": 4912
                },
                {
                  "sentences": "The transnational cyber domain poses new questions about the meaning of national security.",
                  "words": "['The', 'transnational', 'cyber', 'domain', 'poses', 'new', 'questions', 'about', 'the', 'meaning', 'of', 'national', 'security', '.']",
                  "num_words": 14,
                  "_deepnote_index_column": 4913
                },
                {
                  "sentences": "Some of the most important responses must be national and unilateral, focused on hygiene, redundancy, and resilience.",
                  "words": "['Some', 'of', 'the', 'most', 'important', 'responses', 'must', 'be', 'national', 'and', 'unilateral', ',', 'focused', 'on', 'hygiene', ',', 'redundancy', ',', 'and', 'resilience', '.']",
                  "num_words": 21,
                  "_deepnote_index_column": 4914
                },
                {
                  "sentences": "It is likely, however, that major governments will soon discover that the insecurity created by non-state cyber actors will require closer cooperation among governments.",
                  "words": "['It', 'is', 'likely', ',', 'however', ',', 'that', 'major', 'governments', 'will', 'soon', 'discover', 'that', 'the', 'insecurity', 'created', 'by', 'non-state', 'cyber', 'actors', 'will', 'require', 'closer', 'cooperation', 'among', 'governments', '.']",
                  "num_words": 27,
                  "_deepnote_index_column": 4915
                },
                {
                  "sentences": "A Practical Agenda for Revolutionary Times\nOXFORD – As the world’s financial leaders gather for the International Monetary Fund and World Bank spring meetings, many working people around the world are demanding radical change, because they sense that their voices are not being heard.",
                  "words": "['A', 'Practical', 'Agenda', 'for', 'Revolutionary', 'Times', 'OXFORD', '–', 'As', 'the', 'world', '’', 's', 'financial', 'leaders', 'gather', 'for', 'the', 'International', 'Monetary', 'Fund', 'and', 'World', 'Bank', 'spring', 'meetings', ',', 'many', 'working', 'people', 'around', 'the', 'world', 'are', 'demanding', 'radical', 'change', ',', 'because', 'they', 'sense', 'that', 'their', 'voices', 'are', 'not', 'being', 'heard', '.']",
                  "num_words": 49,
                  "_deepnote_index_column": 4916
                },
                {
                  "sentences": "Those who are supposed to represent them should not ignore this anger and frustration any longer.",
                  "words": "['Those', 'who', 'are', 'supposed', 'to', 'represent', 'them', 'should', 'not', 'ignore', 'this', 'anger', 'and', 'frustration', 'any', 'longer', '.']",
                  "num_words": 17,
                  "_deepnote_index_column": 4917
                },
                {
                  "sentences": "According to the 2017 Edelman Trust Barometer, the public’s confidence in the status quo has collapsed worldwide, owing to widely held concerns about globalization, innovation, immigration, the erosion of social values, and corruption.",
                  "words": "['According', 'to', 'the', '2017', 'Edelman', 'Trust', 'Barometer', ',', 'the', 'public', '’', 's', 'confidence', 'in', 'the', 'status', 'quo', 'has', 'collapsed', 'worldwide', ',', 'owing', 'to', 'widely', 'held', 'concerns', 'about', 'globalization', ',', 'innovation', ',', 'immigration', ',', 'the', 'erosion', 'of', 'social', 'values', ',', 'and', 'corruption', '.']",
                  "num_words": 42,
                  "_deepnote_index_column": 4918
                },
                {
                  "sentences": "At the same time, the response from elites who regard themselves as the guardians of economic growth has sometimes made matters worse.",
                  "words": "['At', 'the', 'same', 'time', ',', 'the', 'response', 'from', 'elites', 'who', 'regard', 'themselves', 'as', 'the', 'guardians', 'of', 'economic', 'growth', 'has', 'sometimes', 'made', 'matters', 'worse', '.']",
                  "num_words": 24,
                  "_deepnote_index_column": 4919
                },
                {
                  "sentences": "If they think they can allay public concerns simply by explaining the benefits of the current global economic system and tweaking policies to compensate those left behind, they are in for a rude awakening.",
                  "words": "['If', 'they', 'think', 'they', 'can', 'allay', 'public', 'concerns', 'simply', 'by', 'explaining', 'the', 'benefits', 'of', 'the', 'current', 'global', 'economic', 'system', 'and', 'tweaking', 'policies', 'to', 'compensate', 'those', 'left', 'behind', ',', 'they', 'are', 'in', 'for', 'a', 'rude', 'awakening', '.']",
                  "num_words": 36,
                  "_deepnote_index_column": 4920
                },
                {
                  "sentences": "Earlier this month, the IMF, World Bank, and World Trade Organization published a joint report extolling the benefits of trade as a driver of productivity growth, competition, and consumer choice.",
                  "words": "['Earlier', 'this', 'month', ',', 'the', 'IMF', ',', 'World', 'Bank', ',', 'and', 'World', 'Trade', 'Organization', 'published', 'a', 'joint', 'report', 'extolling', 'the', 'benefits', 'of', 'trade', 'as', 'a', 'driver', 'of', 'productivity', 'growth', ',', 'competition', ',', 'and', 'consumer', 'choice', '.']",
                  "num_words": 36,
                  "_deepnote_index_column": 4921
                },
                {
                  "sentences": "The report’s argument in favor of free trade is not new, nor is its recommendation that “active labor-market policies” be used to cushion the blow of lost jobs and livelihoods.",
                  "words": "['The', 'report', '’', 's', 'argument', 'in', 'favor', 'of', 'free', 'trade', 'is', 'not', 'new', ',', 'nor', 'is', 'its', 'recommendation', 'that', '“', 'active', 'labor-market', 'policies', '”', 'be', 'used', 'to', 'cushion', 'the', 'blow', 'of', 'lost', 'jobs', 'and', 'livelihoods', '.']",
                  "num_words": 36,
                  "_deepnote_index_column": 4922
                },
                {
                  "sentences": "What is new is that repeating these claims, without also addressing people’s deeper concerns, can now do more harm than good.",
                  "words": "['What', 'is', 'new', 'is', 'that', 'repeating', 'these', 'claims', ',', 'without', 'also', 'addressing', 'people', '’', 's', 'deeper', 'concerns', ',', 'can', 'now', 'do', 'more', 'harm', 'than', 'good', '.']",
                  "num_words": 26,
                  "_deepnote_index_column": 4923
                },
                {
                  "sentences": "Global public opinion has changed dramatically in recent years.",
                  "words": "['Global', 'public', 'opinion', 'has', 'changed', 'dramatically', 'in', 'recent', 'years', '.']",
                  "num_words": 10,
                  "_deepnote_index_column": 4924
                },
                {
                  "sentences": "A majority of people worldwide – and up to 72% of people in France and Italy – now believe that the system has failed them.",
                  "words": "['A', 'majority', 'of', 'people', 'worldwide', '–', 'and', 'up', 'to', '72', '%', 'of', 'people', 'in', 'France', 'and', 'Italy', '–', 'now', 'believe', 'that', 'the', 'system', 'has', 'failed', 'them', '.']",
                  "num_words": 27,
                  "_deepnote_index_column": 4925
                },
                {
                  "sentences": "Moreover, only 29% of people across 28 countries now trust government leaders, while three-quarters of those surveyed say they trust reformers who would upend the status quo.",
                  "words": "['Moreover', ',', 'only', '29', '%', 'of', 'people', 'across', '28', 'countries', 'now', 'trust', 'government', 'leaders', ',', 'while', 'three-quarters', 'of', 'those', 'surveyed', 'say', 'they', 'trust', 'reformers', 'who', 'would', 'upend', 'the', 'status', 'quo', '.']",
                  "num_words": 31,
                  "_deepnote_index_column": 4926
                },
                {
                  "sentences": "These findings suggest that those defending free trade have lost credibility with the people they hope to persuade.",
                  "words": "['These', 'findings', 'suggest', 'that', 'those', 'defending', 'free', 'trade', 'have', 'lost', 'credibility', 'with', 'the', 'people', 'they', 'hope', 'to', 'persuade', '.']",
                  "num_words": 19,
                  "_deepnote_index_column": 4927
                },
                {
                  "sentences": "World leaders need to recognize that today’s populist revolts are being fueled by a sense of lost dignity – a sentiment that does not factor into most policymakers’ prescription for economic growth and compensatory payments.",
                  "words": "['World', 'leaders', 'need', 'to', 'recognize', 'that', 'today', '’', 's', 'populist', 'revolts', 'are', 'being', 'fueled', 'by', 'a', 'sense', 'of', 'lost', 'dignity', '–', 'a', 'sentiment', 'that', 'does', 'not', 'factor', 'into', 'most', 'policymakers', '’', 'prescription', 'for', 'economic', 'growth', 'and', 'compensatory', 'payments', '.']",
                  "num_words": 39,
                  "_deepnote_index_column": 4928
                },
                {
                  "sentences": "Working-class voters have lashed out because they feel not just economically abandoned, but also socially disdained and culturally marginalized.",
                  "words": "['Working-class', 'voters', 'have', 'lashed', 'out', 'because', 'they', 'feel', 'not', 'just', 'economically', 'abandoned', ',', 'but', 'also', 'socially', 'disdained', 'and', 'culturally', 'marginalized', '.']",
                  "num_words": 21,
                  "_deepnote_index_column": 4929
                },
                {
                  "sentences": "Their vote is the only means they have left to hit back at the establishment.",
                  "words": "['Their', 'vote', 'is', 'the', 'only', 'means', 'they', 'have', 'left', 'to', 'hit', 'back', 'at', 'the', 'establishment', '.']",
                  "num_words": 16,
                  "_deepnote_index_column": 4930
                },
                {
                  "sentences": "To address the public’s concerns requires a three-part agenda.",
                  "words": "['To', 'address', 'the', 'public', '’', 's', 'concerns', 'requires', 'a', 'three-part', 'agenda', '.']",
                  "num_words": 12,
                  "_deepnote_index_column": 4931
                },
                {
                  "sentences": "The first order of business should be to reach out to those who feel voiceless and unrepresented.",
                  "words": "['The', 'first', 'order', 'of', 'business', 'should', 'be', 'to', 'reach', 'out', 'to', 'those', 'who', 'feel', 'voiceless', 'and', 'unrepresented', '.']",
                  "num_words": 18,
                  "_deepnote_index_column": 4932
                },
                {
                  "sentences": "During the US presidential campaign, Donald Trump tapped into this sentiment when he vowed to punish any company that moves jobs to China or Mexico.",
                  "words": "['During', 'the', 'US', 'presidential', 'campaign', ',', 'Donald', 'Trump', 'tapped', 'into', 'this', 'sentiment', 'when', 'he', 'vowed', 'to', 'punish', 'any', 'company', 'that', 'moves', 'jobs', 'to', 'China', 'or', 'Mexico', '.']",
                  "num_words": 27,
                  "_deepnote_index_column": 4933
                },
                {
                  "sentences": "As the filmmaker Michael Moore explained prior to the election, American working-class voters were desperate to hear someone promise to take on big business.",
                  "words": "['As', 'the', 'filmmaker', 'Michael', 'Moore', 'explained', 'prior', 'to', 'the', 'election', ',', 'American', 'working-class', 'voters', 'were', 'desperate', 'to', 'hear', 'someone', 'promise', 'to', 'take', 'on', 'big', 'business', '.']",
                  "num_words": 26,
                  "_deepnote_index_column": 4934
                },
                {
                  "sentences": "The fact that it took a populist plutocrat to do it underscores the extent to which the American labor movement has been extinguished.",
                  "words": "['The', 'fact', 'that', 'it', 'took', 'a', 'populist', 'plutocrat', 'to', 'do', 'it', 'underscores', 'the', 'extent', 'to', 'which', 'the', 'American', 'labor', 'movement', 'has', 'been', 'extinguished', '.']",
                  "num_words": 24,
                  "_deepnote_index_column": 4935
                },
                {
                  "sentences": "Political parties that originally emerged from the labor movement have long since shifted to the “center.”\nThey now accept political contributions from big business, and have accordingly adopting the language of common prosperity and “consensus politics,” leaving the many working people who do not share in that prosperity and consensus feeling disregarded and displaced.",
                  "words": "['Political', 'parties', 'that', 'originally', 'emerged', 'from', 'the', 'labor', 'movement', 'have', 'long', 'since', 'shifted', 'to', 'the', '“', 'center.', '”', 'They', 'now', 'accept', 'political', 'contributions', 'from', 'big', 'business', ',', 'and', 'have', 'accordingly', 'adopting', 'the', 'language', 'of', 'common', 'prosperity', 'and', '“', 'consensus', 'politics', ',', '”', 'leaving', 'the', 'many', 'working', 'people', 'who', 'do', 'not', 'share', 'in', 'that', 'prosperity', 'and', 'consensus', 'feeling', 'disregarded', 'and', 'displaced', '.']",
                  "num_words": 61,
                  "_deepnote_index_column": 4936
                },
                {
                  "sentences": "Second, the quality of work, and the status that it confers, must be improved.",
                  "words": "['Second', ',', 'the', 'quality', 'of', 'work', ',', 'and', 'the', 'status', 'that', 'it', 'confers', ',', 'must', 'be', 'improved', '.']",
                  "num_words": 18,
                  "_deepnote_index_column": 4937
                },
                {
                  "sentences": "In wealthy countries, precarious, poorly paid, and even dangerous forms of employment are becoming increasingly common.",
                  "words": "['In', 'wealthy', 'countries', ',', 'precarious', ',', 'poorly', 'paid', ',', 'and', 'even', 'dangerous', 'forms', 'of', 'employment', 'are', 'becoming', 'increasingly', 'common', '.']",
                  "num_words": 20,
                  "_deepnote_index_column": 4938
                },
                {
                  "sentences": "A recent Bloomberg Businessweek story describes how temporary workers at auto-parts factories in Alabama are paid just $7.25 per hour, and must work in hazardous conditions with no safety training.",
                  "words": "['A', 'recent', 'Bloomberg', 'Businessweek', 'story', 'describes', 'how', 'temporary', 'workers', 'at', 'auto-parts', 'factories', 'in', 'Alabama', 'are', 'paid', 'just', '$', '7.25', 'per', 'hour', ',', 'and', 'must', 'work', 'in', 'hazardous', 'conditions', 'with', 'no', 'safety', 'training', '.']",
                  "num_words": 33,
                  "_deepnote_index_column": 4939
                },
                {
                  "sentences": "In 2010, these workers suffered work injuries at a 50% higher rate than unionized auto-parts workers elsewhere.",
                  "words": "['In', '2010', ',', 'these', 'workers', 'suffered', 'work', 'injuries', 'at', 'a', '50', '%', 'higher', 'rate', 'than', 'unionized', 'auto-parts', 'workers', 'elsewhere', '.']",
                  "num_words": 20,
                  "_deepnote_index_column": 4940
                },
                {
                  "sentences": "As the OECD has shown, “non-standard” work is proliferating globally.",
                  "words": "['As', 'the', 'OECD', 'has', 'shown', ',', '“', 'non-standard', '”', 'work', 'is', 'proliferating', 'globally', '.']",
                  "num_words": 14,
                  "_deepnote_index_column": 4941
                },
                {
                  "sentences": "This trend is contributing to deteriorating working conditions, making workers feel increasingly helpless and vulnerable.",
                  "words": "['This', 'trend', 'is', 'contributing', 'to', 'deteriorating', 'working', 'conditions', ',', 'making', 'workers', 'feel', 'increasingly', 'helpless', 'and', 'vulnerable', '.']",
                  "num_words": 17,
                  "_deepnote_index_column": 4942
                },
                {
                  "sentences": "Reversing it will require robust standards to ensure workplace safety, fair pay, and the right to enter into collective-bargaining arrangements.",
                  "words": "['Reversing', 'it', 'will', 'require', 'robust', 'standards', 'to', 'ensure', 'workplace', 'safety', ',', 'fair', 'pay', ',', 'and', 'the', 'right', 'to', 'enter', 'into', 'collective-bargaining', 'arrangements', '.']",
                  "num_words": 23,
                  "_deepnote_index_column": 4943
                },
                {
                  "sentences": "Governments will have to intervene to set these standards, as they did during the nineteenth and twentieth centuries to improve abysmal conditions in factories.",
                  "words": "['Governments', 'will', 'have', 'to', 'intervene', 'to', 'set', 'these', 'standards', ',', 'as', 'they', 'did', 'during', 'the', 'nineteenth', 'and', 'twentieth', 'centuries', 'to', 'improve', 'abysmal', 'conditions', 'in', 'factories', '.']",
                  "num_words": 26,
                  "_deepnote_index_column": 4944
                },
                {
                  "sentences": "Otherwise, businesses will not be able to behave decently, for fear of being undercut by unscrupulous competitors.",
                  "words": "['Otherwise', ',', 'businesses', 'will', 'not', 'be', 'able', 'to', 'behave', 'decently', ',', 'for', 'fear', 'of', 'being', 'undercut', 'by', 'unscrupulous', 'competitors', '.']",
                  "num_words": 20,
                  "_deepnote_index_column": 4945
                },
                {
                  "sentences": "Finally, more opportunities must be created for the next generation – and not just economic opportunities.",
                  "words": "['Finally', ',', 'more', 'opportunities', 'must', 'be', 'created', 'for', 'the', 'next', 'generation', '–', 'and', 'not', 'just', 'economic', 'opportunities', '.']",
                  "num_words": 18,
                  "_deepnote_index_column": 4946
                },
                {
                  "sentences": "Since the 2008 financial crisis, many governments have reduced their investments in health, education, housing, and other forms of human capital.",
                  "words": "['Since', 'the', '2008', 'financial', 'crisis', ',', 'many', 'governments', 'have', 'reduced', 'their', 'investments', 'in', 'health', ',', 'education', ',', 'housing', ',', 'and', 'other', 'forms', 'of', 'human', 'capital', '.']",
                  "num_words": 26,
                  "_deepnote_index_column": 4947
                },
                {
                  "sentences": "Many have also cut support for the unemployed, homeless, or indebted.",
                  "words": "['Many', 'have', 'also', 'cut', 'support', 'for', 'the', 'unemployed', ',', 'homeless', ',', 'or', 'indebted', '.']",
                  "num_words": 14,
                  "_deepnote_index_column": 4948
                },
                {
                  "sentences": "As a result, those who have fallen behind are deprived not just of resources, but, more important, the chance to pursue their aspirations.",
                  "words": "['As', 'a', 'result', ',', 'those', 'who', 'have', 'fallen', 'behind', 'are', 'deprived', 'not', 'just', 'of', 'resources', ',', 'but', ',', 'more', 'important', ',', 'the', 'chance', 'to', 'pursue', 'their', 'aspirations', '.']",
                  "num_words": 28,
                  "_deepnote_index_column": 4949
                },
                {
                  "sentences": "As the IMF, World Bank, and WTO show in their report, free trade and globalization have certainly increased the size of the overall economic pie.",
                  "words": "['As', 'the', 'IMF', ',', 'World', 'Bank', ',', 'and', 'WTO', 'show', 'in', 'their', 'report', ',', 'free', 'trade', 'and', 'globalization', 'have', 'certainly', 'increased', 'the', 'size', 'of', 'the', 'overall', 'economic', 'pie', '.']",
                  "num_words": 29,
                  "_deepnote_index_column": 4950
                },
                {
                  "sentences": "In theory, this should have expanded governments’ capacity to compensate those left behind and create the conditions for them to get ahead.",
                  "words": "['In', 'theory', ',', 'this', 'should', 'have', 'expanded', 'governments', '’', 'capacity', 'to', 'compensate', 'those', 'left', 'behind', 'and', 'create', 'the', 'conditions', 'for', 'them', 'to', 'get', 'ahead', '.']",
                  "num_words": 25,
                  "_deepnote_index_column": 4951
                },
                {
                  "sentences": "In fact, the opposite has happened, owing to government cutbacks since 2008.",
                  "words": "['In', 'fact', ',', 'the', 'opposite', 'has', 'happened', ',', 'owing', 'to', 'government', 'cutbacks', 'since', '2008', '.']",
                  "num_words": 15,
                  "_deepnote_index_column": 4952
                },
                {
                  "sentences": "The establishment’s agenda has been failing for too long.",
                  "words": "['The', 'establishment', '’', 's', 'agenda', 'has', 'been', 'failing', 'for', 'too', 'long', '.']",
                  "num_words": 12,
                  "_deepnote_index_column": 4953
                },
                {
                  "sentences": "And as elites continue to proclaim the benefits of free trade and globalization, they are merely widening the chasm of popular mistrust.",
                  "words": "['And', 'as', 'elites', 'continue', 'to', 'proclaim', 'the', 'benefits', 'of', 'free', 'trade', 'and', 'globalization', ',', 'they', 'are', 'merely', 'widening', 'the', 'chasm', 'of', 'popular', 'mistrust', '.']",
                  "num_words": 24,
                  "_deepnote_index_column": 4954
                },
                {
                  "sentences": "Over the past year, that mistrust has boiled over in many countries, with voters in one election after another rejecting the status quo.",
                  "words": "['Over', 'the', 'past', 'year', ',', 'that', 'mistrust', 'has', 'boiled', 'over', 'in', 'many', 'countries', ',', 'with', 'voters', 'in', 'one', 'election', 'after', 'another', 'rejecting', 'the', 'status', 'quo', '.']",
                  "num_words": 26,
                  "_deepnote_index_column": 4955
                },
                {
                  "sentences": "Piecemeal curbs on globalization will not be enough to quell the revolt.",
                  "words": "['Piecemeal', 'curbs', 'on', 'globalization', 'will', 'not', 'be', 'enough', 'to', 'quell', 'the', 'revolt', '.']",
                  "num_words": 13,
                  "_deepnote_index_column": 4956
                },
                {
                  "sentences": "Instead, world leaders must leave their echo chamber, take ordinary people’s concerns seriously, diversify their views, and think about why so many have lost faith in the system.",
                  "words": "['Instead', ',', 'world', 'leaders', 'must', 'leave', 'their', 'echo', 'chamber', ',', 'take', 'ordinary', 'people', '’', 's', 'concerns', 'seriously', ',', 'diversify', 'their', 'views', ',', 'and', 'think', 'about', 'why', 'so', 'many', 'have', 'lost', 'faith', 'in', 'the', 'system', '.']",
                  "num_words": 35,
                  "_deepnote_index_column": 4957
                },
                {
                  "sentences": "The Fourth Jihadist Wave\nSTOCKHOLM – Muscular language has become increasingly prevalent in the debate about how to counter the threat of jihadist terrorism.",
                  "words": "['The', 'Fourth', 'Jihadist', 'Wave', 'STOCKHOLM', '–', 'Muscular', 'language', 'has', 'become', 'increasingly', 'prevalent', 'in', 'the', 'debate', 'about', 'how', 'to', 'counter', 'the', 'threat', 'of', 'jihadist', 'terrorism', '.']",
                  "num_words": 25,
                  "_deepnote_index_column": 4958
                },
                {
                  "sentences": "Television talk-show hosts speculate about when control of Raqqa in Syria or Mosul in Iraq might be wrested from the Islamic State (ISIS), implying that these cities’ liberation will mark, at the very least, the beginning of the end of the problem.",
                  "words": "['Television', 'talk-show', 'hosts', 'speculate', 'about', 'when', 'control', 'of', 'Raqqa', 'in', 'Syria', 'or', 'Mosul', 'in', 'Iraq', 'might', 'be', 'wrested', 'from', 'the', 'Islamic', 'State', '(', 'ISIS', ')', ',', 'implying', 'that', 'these', 'cities', '’', 'liberation', 'will', 'mark', ',', 'at', 'the', 'very', 'least', ',', 'the', 'beginning', 'of', 'the', 'end', 'of', 'the', 'problem', '.']",
                  "num_words": 49,
                  "_deepnote_index_column": 4959
                },
                {
                  "sentences": "And in December, Ted Cruz, a Republican contender in the US presidential race, went so far as to raise the specter of nuclear strikes: “I don’t know if sand can glow in the dark, but we’re going to find out,” he said.",
                  "words": "['And', 'in', 'December', ',', 'Ted', 'Cruz', ',', 'a', 'Republican', 'contender', 'in', 'the', 'US', 'presidential', 'race', ',', 'went', 'so', 'far', 'as', 'to', 'raise', 'the', 'specter', 'of', 'nuclear', 'strikes', ':', '“', 'I', 'don', '’', 't', 'know', 'if', 'sand', 'can', 'glow', 'in', 'the', 'dark', ',', 'but', 'we', '’', 're', 'going', 'to', 'find', 'out', ',', '”', 'he', 'said', '.']",
                  "num_words": 55,
                  "_deepnote_index_column": 4960
                },
                {
                  "sentences": "Such simplistic sound bites understate the severity of the challenge.",
                  "words": "['Such', 'simplistic', 'sound', 'bites', 'understate', 'the', 'severity', 'of', 'the', 'challenge', '.']",
                  "num_words": 11,
                  "_deepnote_index_column": 4961
                },
                {
                  "sentences": "As the International Crisis Group highlights in a recent report, the jihadist threat we are facing is the fourth in a series of increasingly perilous waves.",
                  "words": "['As', 'the', 'International', 'Crisis', 'Group', 'highlights', 'in', 'a', 'recent', 'report', ',', 'the', 'jihadist', 'threat', 'we', 'are', 'facing', 'is', 'the', 'fourth', 'in', 'a', 'series', 'of', 'increasingly', 'perilous', 'waves', '.']",
                  "num_words": 28,
                  "_deepnote_index_column": 4962
                },
                {
                  "sentences": "If we are to avoid creating an even more powerful fifth wave, it is imperative that we learn from the mistakes we made in seeking to counter the previous three.",
                  "words": "['If', 'we', 'are', 'to', 'avoid', 'creating', 'an', 'even', 'more', 'powerful', 'fifth', 'wave', ',', 'it', 'is', 'imperative', 'that', 'we', 'learn', 'from', 'the', 'mistakes', 'we', 'made', 'in', 'seeking', 'to', 'counter', 'the', 'previous', 'three', '.']",
                  "num_words": 32,
                  "_deepnote_index_column": 4963
                },
                {
                  "sentences": "The first jihadist wave occurred when volunteer fighters from the war against the Soviet occupation of Afghanistan returned home and started attacking regimes they considered un-Islamic.",
                  "words": "['The', 'first', 'jihadist', 'wave', 'occurred', 'when', 'volunteer', 'fighters', 'from', 'the', 'war', 'against', 'the', 'Soviet', 'occupation', 'of', 'Afghanistan', 'returned', 'home', 'and', 'started', 'attacking', 'regimes', 'they', 'considered', 'un-Islamic', '.']",
                  "num_words": 27,
                  "_deepnote_index_column": 4964
                },
                {
                  "sentences": "This led to the second, far more deadly jihadist wave, as Al Qaeda launched spectacular attacks against the “far enemy,” seeking to draw Western powers into violent confrontation and outright war.",
                  "words": "['This', 'led', 'to', 'the', 'second', ',', 'far', 'more', 'deadly', 'jihadist', 'wave', ',', 'as', 'Al', 'Qaeda', 'launched', 'spectacular', 'attacks', 'against', 'the', '“', 'far', 'enemy', ',', '”', 'seeking', 'to', 'draw', 'Western', 'powers', 'into', 'violent', 'confrontation', 'and', 'outright', 'war', '.']",
                  "num_words": 37,
                  "_deepnote_index_column": 4965
                },
                {
                  "sentences": "The attacks on the United States, on September 11, 2001, marked the crest of this wave.",
                  "words": "['The', 'attacks', 'on', 'the', 'United', 'States', ',', 'on', 'September', '11', ',', '2001', ',', 'marked', 'the', 'crest', 'of', 'this', 'wave', '.']",
                  "num_words": 20,
                  "_deepnote_index_column": 4966
                },
                {
                  "sentences": "The global counterterrorist offensive that followed largely succeeded in eliminating Al Qaeda’s ability to launch large-scale attacks.",
                  "words": "['The', 'global', 'counterterrorist', 'offensive', 'that', 'followed', 'largely', 'succeeded', 'in', 'eliminating', 'Al', 'Qaeda', '’', 's', 'ability', 'to', 'launch', 'large-scale', 'attacks', '.']",
                  "num_words": 20,
                  "_deepnote_index_column": 4967
                },
                {
                  "sentences": "But the 2003 invasion of Iraq created the conditions for the third wave, triggering a vicious sectarian war between Sunni and Shia that allowed Al Qaeda to exploit the chaos of an increasingly fragmented state.",
                  "words": "['But', 'the', '2003', 'invasion', 'of', 'Iraq', 'created', 'the', 'conditions', 'for', 'the', 'third', 'wave', ',', 'triggering', 'a', 'vicious', 'sectarian', 'war', 'between', 'Sunni', 'and', 'Shia', 'that', 'allowed', 'Al', 'Qaeda', 'to', 'exploit', 'the', 'chaos', 'of', 'an', 'increasingly', 'fragmented', 'state', '.']",
                  "num_words": 37,
                  "_deepnote_index_column": 4968
                },
                {
                  "sentences": "Eventually, the so-called Sunni Awakening broke the back of Al Qaeda’s efforts in Iraq, and the 2011 Arab Spring redirected the region’s political development.",
                  "words": "['Eventually', ',', 'the', 'so-called', 'Sunni', 'Awakening', 'broke', 'the', 'back', 'of', 'Al', 'Qaeda', '’', 's', 'efforts', 'in', 'Iraq', ',', 'and', 'the', '2011', 'Arab', 'Spring', 'redirected', 'the', 'region', '’', 's', 'political', 'development', '.']",
                  "num_words": 31,
                  "_deepnote_index_column": 4969
                },
                {
                  "sentences": "But the failure to build an inclusive government in Iraq, together with the violent repression of protesters in Syria, offered battle-hardened jihadist leaders an opening to initiate the fourth wave.",
                  "words": "['But', 'the', 'failure', 'to', 'build', 'an', 'inclusive', 'government', 'in', 'Iraq', ',', 'together', 'with', 'the', 'violent', 'repression', 'of', 'protesters', 'in', 'Syria', ',', 'offered', 'battle-hardened', 'jihadist', 'leaders', 'an', 'opening', 'to', 'initiate', 'the', 'fourth', 'wave', '.']",
                  "num_words": 33,
                  "_deepnote_index_column": 4970
                },
                {
                  "sentences": "This wave is by far the most dangerous.",
                  "words": "['This', 'wave', 'is', 'by', 'far', 'the', 'most', 'dangerous', '.']",
                  "num_words": 9,
                  "_deepnote_index_column": 4971
                },
                {
                  "sentences": "Tens of thousands of recruits have joined the effort to build a caliphate in the Fertile Crescent.",
                  "words": "['Tens', 'of', 'thousands', 'of', 'recruits', 'have', 'joined', 'the', 'effort', 'to', 'build', 'a', 'caliphate', 'in', 'the', 'Fertile', 'Crescent', '.']",
                  "num_words": 18,
                  "_deepnote_index_column": 4972
                },
                {
                  "sentences": "Meanwhile, ISIS has expanded into numerous other crisis zones and recruited or inspired terrorists within Western societies, as demonstrated by the attacks in Paris, Brussels, and San Bernardino.",
                  "words": "['Meanwhile', ',', 'ISIS', 'has', 'expanded', 'into', 'numerous', 'other', 'crisis', 'zones', 'and', 'recruited', 'or', 'inspired', 'terrorists', 'within', 'Western', 'societies', ',', 'as', 'demonstrated', 'by', 'the', 'attacks', 'in', 'Paris', ',', 'Brussels', ',', 'and', 'San', 'Bernardino', '.']",
                  "num_words": 33,
                  "_deepnote_index_column": 4973
                },
                {
                  "sentences": "Countering this threat will require a vigorous ideological battle against the forces of intolerance and hatred, building on Islam’s history of openness and tolerance.",
                  "words": "['Countering', 'this', 'threat', 'will', 'require', 'a', 'vigorous', 'ideological', 'battle', 'against', 'the', 'forces', 'of', 'intolerance', 'and', 'hatred', ',', 'building', 'on', 'Islam', '’', 's', 'history', 'of', 'openness', 'and', 'tolerance', '.']",
                  "num_words": 28,
                  "_deepnote_index_column": 4974
                },
                {
                  "sentences": "But ideological struggle, on its own, will not be enough.",
                  "words": "['But', 'ideological', 'struggle', ',', 'on', 'its', 'own', ',', 'will', 'not', 'be', 'enough', '.']",
                  "num_words": 13,
                  "_deepnote_index_column": 4975
                },
                {
                  "sentences": "We must also recognize the true origins of the jihadist threat: the conflicts and state failures ranging from West Africa across the wider Middle East to South Asia.",
                  "words": "['We', 'must', 'also', 'recognize', 'the', 'true', 'origins', 'of', 'the', 'jihadist', 'threat', ':', 'the', 'conflicts', 'and', 'state', 'failures', 'ranging', 'from', 'West', 'Africa', 'across', 'the', 'wider', 'Middle', 'East', 'to', 'South', 'Asia', '.']",
                  "num_words": 30,
                  "_deepnote_index_column": 4976
                },
                {
                  "sentences": "It was not jihadism that created today’s crises.",
                  "words": "['It', 'was', 'not', 'jihadism', 'that', 'created', 'today', '’', 's', 'crises', '.']",
                  "num_words": 11,
                  "_deepnote_index_column": 4977
                },
                {
                  "sentences": "On the contrary, bad governance and state failure provided jihadism with the opportunity to flourish.",
                  "words": "['On', 'the', 'contrary', ',', 'bad', 'governance', 'and', 'state', 'failure', 'provided', 'jihadism', 'with', 'the', 'opportunity', 'to', 'flourish', '.']",
                  "num_words": 17,
                  "_deepnote_index_column": 4978
                },
                {
                  "sentences": "Addressing these root causes will be a daunting, decades-long task.",
                  "words": "['Addressing', 'these', 'root', 'causes', 'will', 'be', 'a', 'daunting', ',', 'decades-long', 'task', '.']",
                  "num_words": 12,
                  "_deepnote_index_column": 4979
                },
                {
                  "sentences": "Much of the region entered the twenty-first century in a deplorable state; and in most places, things have only gotten worse.",
                  "words": "['Much', 'of', 'the', 'region', 'entered', 'the', 'twenty-first', 'century', 'in', 'a', 'deplorable', 'state', ';', 'and', 'in', 'most', 'places', ',', 'things', 'have', 'only', 'gotten', 'worse', '.']",
                  "num_words": 24,
                  "_deepnote_index_column": 4980
                },
                {
                  "sentences": "Trying to meet the jihadist challenge with repression, as Egypt is doing today, risks exacerbating the problem.",
                  "words": "['Trying', 'to', 'meet', 'the', 'jihadist', 'challenge', 'with', 'repression', ',', 'as', 'Egypt', 'is', 'doing', 'today', ',', 'risks', 'exacerbating', 'the', 'problem', '.']",
                  "num_words": 20,
                  "_deepnote_index_column": 4981
                },
                {
                  "sentences": "And incarcerating Islamists often means providing them with an ideal environment for recruitment, indoctrination, and training.",
                  "words": "['And', 'incarcerating', 'Islamists', 'often', 'means', 'providing', 'them', 'with', 'an', 'ideal', 'environment', 'for', 'recruitment', ',', 'indoctrination', ',', 'and', 'training', '.']",
                  "num_words": 19,
                  "_deepnote_index_column": 4982
                },
                {
                  "sentences": "Instead, openings must be created for democratic Islamic political forces to operate.",
                  "words": "['Instead', ',', 'openings', 'must', 'be', 'created', 'for', 'democratic', 'Islamic', 'political', 'forces', 'to', 'operate', '.']",
                  "num_words": 14,
                  "_deepnote_index_column": 4983
                },
                {
                  "sentences": "Despite the scale of the challenge, the West lacks a clear policy on what to press for and how to obtain it.",
                  "words": "['Despite', 'the', 'scale', 'of', 'the', 'challenge', ',', 'the', 'West', 'lacks', 'a', 'clear', 'policy', 'on', 'what', 'to', 'press', 'for', 'and', 'how', 'to', 'obtain', 'it', '.']",
                  "num_words": 24,
                  "_deepnote_index_column": 4984
                },
                {
                  "sentences": "Clearly, military force must be used.",
                  "words": "['Clearly', ',', 'military', 'force', 'must', 'be', 'used', '.']",
                  "num_words": 8,
                  "_deepnote_index_column": 4985
                },
                {
                  "sentences": "But retaking Raqqa or Mosul is only the easiest of the tasks facing us.",
                  "words": "['But', 'retaking', 'Raqqa', 'or', 'Mosul', 'is', 'only', 'the', 'easiest', 'of', 'the', 'tasks', 'facing', 'us', '.']",
                  "num_words": 15,
                  "_deepnote_index_column": 4986
                },
                {
                  "sentences": "How many times have Western forces retaken Afghanistan’s Helmand province or Anbar province in Iraq, and with what result?",
                  "words": "['How', 'many', 'times', 'have', 'Western', 'forces', 'retaken', 'Afghanistan', '’', 's', 'Helmand', 'province', 'or', 'Anbar', 'province', 'in', 'Iraq', ',', 'and', 'with', 'what', 'result', '?']",
                  "num_words": 23,
                  "_deepnote_index_column": 4987
                },
                {
                  "sentences": "Far more difficult – and far more important – will be ensuring that legitimate structures of inclusive governance are set up in the places from which ISIS is driven out.",
                  "words": "['Far', 'more', 'difficult', '–', 'and', 'far', 'more', 'important', '–', 'will', 'be', 'ensuring', 'that', 'legitimate', 'structures', 'of', 'inclusive', 'governance', 'are', 'set', 'up', 'in', 'the', 'places', 'from', 'which', 'ISIS', 'is', 'driven', 'out', '.']",
                  "num_words": 31,
                  "_deepnote_index_column": 4988
                },
                {
                  "sentences": "These must address feelings of persecution among Sunni Arabs as well as the victimization of large segments of the population that has fostered rage across the region.",
                  "words": "['These', 'must', 'address', 'feelings', 'of', 'persecution', 'among', 'Sunni', 'Arabs', 'as', 'well', 'as', 'the', 'victimization', 'of', 'large', 'segments', 'of', 'the', 'population', 'that', 'has', 'fostered', 'rage', 'across', 'the', 'region', '.']",
                  "num_words": 28,
                  "_deepnote_index_column": 4989
                },
                {
                  "sentences": "Without such a strategy in place, retaking Raqqa and Mosul will merely be a prelude to an even more violent fifth wave of jihadism, which its committed and experienced practitioners will seek to portray as the final epic battle with “crusaders” in the West.",
                  "words": "['Without', 'such', 'a', 'strategy', 'in', 'place', ',', 'retaking', 'Raqqa', 'and', 'Mosul', 'will', 'merely', 'be', 'a', 'prelude', 'to', 'an', 'even', 'more', 'violent', 'fifth', 'wave', 'of', 'jihadism', ',', 'which', 'its', 'committed', 'and', 'experienced', 'practitioners', 'will', 'seek', 'to', 'portray', 'as', 'the', 'final', 'epic', 'battle', 'with', '“', 'crusaders', '”', 'in', 'the', 'West', '.']",
                  "num_words": 49,
                  "_deepnote_index_column": 4990
                },
                {
                  "sentences": "It is no coincidence that ISIS has named its slick propaganda magazine Dabiq, for the name of the place where this Islamic version of Armageddon is prophesied to take place.",
                  "words": "['It', 'is', 'no', 'coincidence', 'that', 'ISIS', 'has', 'named', 'its', 'slick', 'propaganda', 'magazine', 'Dabiq', ',', 'for', 'the', 'name', 'of', 'the', 'place', 'where', 'this', 'Islamic', 'version', 'of', 'Armageddon', 'is', 'prophesied', 'to', 'take', 'place', '.']",
                  "num_words": 32,
                  "_deepnote_index_column": 4991
                },
                {
                  "sentences": "We must not hand our enemies what they want on a silver platter.",
                  "words": "['We', 'must', 'not', 'hand', 'our', 'enemies', 'what', 'they', 'want', 'on', 'a', 'silver', 'platter', '.']",
                  "num_words": 14,
                  "_deepnote_index_column": 4992
                },
                {
                  "sentences": "We must instead wage an ideological battle against them, treat them as the terrorists that they are, and address the conditions that allow them to flourish.",
                  "words": "['We', 'must', 'instead', 'wage', 'an', 'ideological', 'battle', 'against', 'them', ',', 'treat', 'them', 'as', 'the', 'terrorists', 'that', 'they', 'are', ',', 'and', 'address', 'the', 'conditions', 'that', 'allow', 'them', 'to', 'flourish', '.']",
                  "num_words": 29,
                  "_deepnote_index_column": 4993
                },
                {
                  "sentences": "The jihadists are seeking escalation in order to drive us into total confrontation.",
                  "words": "['The', 'jihadists', 'are', 'seeking', 'escalation', 'in', 'order', 'to', 'drive', 'us', 'into', 'total', 'confrontation', '.']",
                  "num_words": 14,
                  "_deepnote_index_column": 4994
                },
                {
                  "sentences": "If we have learned anything since 2001, it is that we must not fall into their trap.",
                  "words": "['If', 'we', 'have', 'learned', 'anything', 'since', '2001', ',', 'it', 'is', 'that', 'we', 'must', 'not', 'fall', 'into', 'their', 'trap', '.']",
                  "num_words": 19,
                  "_deepnote_index_column": 4995
                },
                {
                  "sentences": "Address to the Kurdish Nation\nERBIL – By history and by language I am a member of a very old nation, one of the oldest in the world: France.",
                  "words": "['Address', 'to', 'the', 'Kurdish', 'Nation', 'ERBIL', '–', 'By', 'history', 'and', 'by', 'language', 'I', 'am', 'a', 'member', 'of', 'a', 'very', 'old', 'nation', ',', 'one', 'of', 'the', 'oldest', 'in', 'the', 'world', ':', 'France', '.']",
                  "num_words": 32,
                  "_deepnote_index_column": 4996
                },
                {
                  "sentences": "And in spirit I am a member of a very old people, the Jewish people – like the Kurds, one of the oldest on the planet, a people that founded one of the youngest states, Israel.",
                  "words": "['And', 'in', 'spirit', 'I', 'am', 'a', 'member', 'of', 'a', 'very', 'old', 'people', ',', 'the', 'Jewish', 'people', '–', 'like', 'the', 'Kurds', ',', 'one', 'of', 'the', 'oldest', 'on', 'the', 'planet', ',', 'a', 'people', 'that', 'founded', 'one', 'of', 'the', 'youngest', 'states', ',', 'Israel', '.']",
                  "num_words": 41,
                  "_deepnote_index_column": 4997
                },
                {
                  "sentences": "That is an experience that the Kurds are now preparing to replicate.",
                  "words": "['That', 'is', 'an', 'experience', 'that', 'the', 'Kurds', 'are', 'now', 'preparing', 'to', 'replicate', '.']",
                  "num_words": 13,
                  "_deepnote_index_column": 4998
                },
                {
                  "sentences": "As a people, the Kurds have existed for a very long time.",
                  "words": "['As', 'a', 'people', ',', 'the', 'Kurds', 'have', 'existed', 'for', 'a', 'very', 'long', 'time', '.']",
                  "num_words": 14,
                  "_deepnote_index_column": 4999
                }
              ]
            },
            "text/plain": "                                              sentences  \\\n0                                         $10,000 Gold?   \n1     SAN FRANCISCO – It has never been easy to have...   \n2     Lately, with gold prices up more than 300% ove...   \n3     Just last December, fellow economists Martin F...   \n4                                 Wouldn’t you know it?   \n...                                                 ...   \n4995  If we have learned anything since 2001, it is ...   \n4996  Address to the Kurdish Nation\\nERBIL – By hist...   \n4997  And in spirit I am a member of a very old peop...   \n4998  That is an experience that the Kurds are now p...   \n4999  As a people, the Kurds have existed for a very...   \n\n                                                  words  num_words  \n0                                  [$, 10,000, Gold, ?]          4  \n1     [SAN, FRANCISCO, –, It, has, never, been, easy...         19  \n2     [Lately, ,, with, gold, prices, up, more, than...         21  \n3     [Just, last, December, ,, fellow, economists, ...         28  \n4                      [Wouldn, ’, t, you, know, it, ?]          7  \n...                                                 ...        ...  \n4995  [If, we, have, learned, anything, since, 2001,...         19  \n4996  [Address, to, the, Kurdish, Nation, ERBIL, –, ...         32  \n4997  [And, in, spirit, I, am, a, member, of, a, ver...         41  \n4998  [That, is, an, experience, that, the, Kurds, a...         13  \n4999  [As, a, people, ,, the, Kurds, have, existed, ...         14  \n\n[5000 rows x 3 columns]",
            "text/html": "<div>\n<style scoped>\n    .dataframe tbody tr th:only-of-type {\n        vertical-align: middle;\n    }\n\n    .dataframe tbody tr th {\n        vertical-align: top;\n    }\n\n    .dataframe thead th {\n        text-align: right;\n    }\n</style>\n<table border=\"1\" class=\"dataframe\">\n  <thead>\n    <tr style=\"text-align: right;\">\n      <th></th>\n      <th>sentences</th>\n      <th>words</th>\n      <th>num_words</th>\n    </tr>\n  </thead>\n  <tbody>\n    <tr>\n      <th>0</th>\n      <td>$10,000 Gold?</td>\n      <td>[$, 10,000, Gold, ?]</td>\n      <td>4</td>\n    </tr>\n    <tr>\n      <th>1</th>\n      <td>SAN FRANCISCO – It has never been easy to have...</td>\n      <td>[SAN, FRANCISCO, –, It, has, never, been, easy...</td>\n      <td>19</td>\n    </tr>\n    <tr>\n      <th>2</th>\n      <td>Lately, with gold prices up more than 300% ove...</td>\n      <td>[Lately, ,, with, gold, prices, up, more, than...</td>\n      <td>21</td>\n    </tr>\n    <tr>\n      <th>3</th>\n      <td>Just last December, fellow economists Martin F...</td>\n      <td>[Just, last, December, ,, fellow, economists, ...</td>\n      <td>28</td>\n    </tr>\n    <tr>\n      <th>4</th>\n      <td>Wouldn’t you know it?</td>\n      <td>[Wouldn, ’, t, you, know, it, ?]</td>\n      <td>7</td>\n    </tr>\n    <tr>\n      <th>...</th>\n      <td>...</td>\n      <td>...</td>\n      <td>...</td>\n    </tr>\n    <tr>\n      <th>4995</th>\n      <td>If we have learned anything since 2001, it is ...</td>\n      <td>[If, we, have, learned, anything, since, 2001,...</td>\n      <td>19</td>\n    </tr>\n    <tr>\n      <th>4996</th>\n      <td>Address to the Kurdish Nation\\nERBIL – By hist...</td>\n      <td>[Address, to, the, Kurdish, Nation, ERBIL, –, ...</td>\n      <td>32</td>\n    </tr>\n    <tr>\n      <th>4997</th>\n      <td>And in spirit I am a member of a very old peop...</td>\n      <td>[And, in, spirit, I, am, a, member, of, a, ver...</td>\n      <td>41</td>\n    </tr>\n    <tr>\n      <th>4998</th>\n      <td>That is an experience that the Kurds are now p...</td>\n      <td>[That, is, an, experience, that, the, Kurds, a...</td>\n      <td>13</td>\n    </tr>\n    <tr>\n      <th>4999</th>\n      <td>As a people, the Kurds have existed for a very...</td>\n      <td>[As, a, people, ,, the, Kurds, have, existed, ...</td>\n      <td>14</td>\n    </tr>\n  </tbody>\n</table>\n<p>5000 rows × 3 columns</p>\n</div>"
          },
          "metadata": {}
        }
      ],
      "execution_count": 125
    },
    {
      "cell_type": "markdown",
      "source": "3. Follow the instructions at\nhttp://www.nltk.org/api/nltk.lm.html#module-nltk.lm\nto train maximum-likelihood language models of varying orders (e.g., n=2..6) for\neach of your corpora. Make a note of the size of the n-gram lists for each\nn-gram order. You might also plot them. <br>\n\nIMPORTANT: We will want to compare perplexities across different corpora. This\nonly produces meaningful results if all the models use exactly the same\nvocabulary. To ensure that, create a vocabulary from the largest of your\ndatasets and use it for ALL the corpora. <br>",
      "metadata": {
        "tags": [],
        "cell_id": "00007-ebde3f31-95ab-47a5-8377-a134a941fcd1",
        "deepnote_cell_type": "markdown"
      }
    },
    {
      "cell_type": "code",
      "source": "vocabulary = list()\n",
      "metadata": {
        "tags": [],
        "cell_id": "00013-3e5f75ba-250f-4d6d-b1c2-7416d40554b6",
        "deepnote_cell_type": "code"
      },
      "outputs": [],
      "execution_count": null
    },
    {
      "cell_type": "markdown",
      "source": "4. Use the lm.generate function to generate some example text from each of your\nmodels and compare. <br>",
      "metadata": {
        "tags": [],
        "cell_id": "00013-deddbf58-562b-4c2d-90b4-a62779c10979",
        "deepnote_cell_type": "markdown"
      }
    },
    {
      "cell_type": "code",
      "source": "",
      "metadata": {
        "tags": [],
        "cell_id": "00015-a0a9f302-e60d-42f5-bb36-030dbbb950be",
        "deepnote_cell_type": "code"
      },
      "outputs": [],
      "execution_count": null
    },
    {
      "cell_type": "markdown",
      "source": "5. Use lm.score and lm.logscore to calculate the scores of a couple of n-grams\nyou find in the texts with the different models. Try 1 or 2 n-grams with all\nfunction words and 1 or 2 n-grams that contain specific content words or names.",
      "metadata": {
        "tags": [],
        "cell_id": "00015-be1bf706-8544-4b64-9ceb-916dc2892989",
        "deepnote_cell_type": "markdown"
      }
    },
    {
      "cell_type": "code",
      "source": "",
      "metadata": {
        "tags": [],
        "cell_id": "00017-2bdb9f6d-b811-4dcd-af6c-d4354aaf27ce",
        "deepnote_cell_type": "code"
      },
      "outputs": [],
      "execution_count": null
    },
    {
      "cell_type": "markdown",
      "source": "6. Use the lm.perplexity function to compute the perplexity of the validation\nsets from each dataset with each of the language models and compare. Keep in\nmind that LOWER perplexity is BETTER.",
      "metadata": {
        "tags": [],
        "cell_id": "00017-8ba35625-02cc-4617-8bf6-21f5b9f955ef",
        "deepnote_cell_type": "markdown"
      }
    },
    {
      "cell_type": "code",
      "source": "",
      "metadata": {
        "tags": [],
        "cell_id": "00019-0deaa1b4-a550-4822-88a6-b4c3f3f8bbba",
        "deepnote_cell_type": "code"
      },
      "outputs": [],
      "execution_count": null
    },
    {
      "cell_type": "markdown",
      "source": "\n\n7. Repeat the steps above with another language model implementation, such as\nLaplace, WittenBellInterpolated or KneserNeyInterpolated.",
      "metadata": {
        "tags": [],
        "cell_id": "00019-53f10152-2e1f-4553-802e-d9633cd81656",
        "deepnote_cell_type": "markdown"
      }
    },
    {
      "cell_type": "code",
      "source": "",
      "metadata": {
        "tags": [],
        "cell_id": "00021-0296d85a-7888-4ed7-a316-2e9435457c54",
        "deepnote_cell_type": "code"
      },
      "outputs": [],
      "execution_count": null
    },
    {
      "cell_type": "markdown",
      "source": "",
      "metadata": {
        "tags": [],
        "cell_id": "00021-80bc4c01-31e6-4ed2-91de-98f1d9325a0b",
        "deepnote_cell_type": "markdown"
      }
    },
    {
      "cell_type": "markdown",
      "source": "<a style='text-decoration:none;line-height:16px;display:flex;color:#5B5B62;padding:10px;justify-content:end;' href='https://deepnote.com?utm_source=created-in-deepnote-cell&projectId=5235cf77-d347-437f-a336-60ef81766ce7' target=\"_blank\">\n<img alt='Created in deepnote.com' style='display:inline;max-height:16px;margin:0px;margin-right:7.5px;' src='data:image/svg+xml;base64,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' > </img>\nCreated in <span style='font-weight:600;margin-left:4px;'>Deepnote</span></a>",
      "metadata": {
        "tags": [],
        "created_in_deepnote_cell": true,
        "deepnote_cell_type": "markdown"
      }
    }
  ],
  "nbformat": 4,
  "nbformat_minor": 2,
  "metadata": {
    "orig_nbformat": 2,
    "deepnote": {
      "is_reactive": false
    },
    "deepnote_notebook_id": "9ce5f367-9087-4380-adfd-233a3c3f01d1",
    "deepnote_execution_queue": []
  }
}