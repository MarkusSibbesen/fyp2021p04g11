{
 "cells": [
  {
   "cell_type": "markdown",
   "source": "# Group 11\n\n## Iben Mai Huse, Karlis Buiko, Markus Sibbesen, Ida Kathrine Jensen",
   "metadata": {
    "tags": [],
    "cell_id": "00000-fde8f23b-a8ff-4a2a-aa40-8aeaf7c6ea2d",
    "deepnote_cell_type": "markdown"
   }
  },
  {
   "cell_type": "markdown",
   "source": "This notebook contains the code for data exploration, and will be the hand-in for the First Year Project 4\n\nCreated 04.05.2021\n\nLast modified, modified by:\n\n04.05.2021, Ida",
   "metadata": {
    "tags": [],
    "cell_id": "00001-96196863-3c10-4b9f-82ec-ecf208043f9a",
    "deepnote_cell_type": "markdown"
   }
  },
  {
   "cell_type": "markdown",
   "source": "### Imports",
   "metadata": {
    "tags": [],
    "cell_id": "00002-8c8740c1-2e4a-4087-bf8c-ccec04a3ffdd",
    "deepnote_cell_type": "markdown"
   }
  },
  {
   "cell_type": "code",
   "metadata": {
    "tags": [],
    "cell_id": "00000-add3736a-6dbe-424f-bed3-d8e3c41d9f2c",
    "deepnote_to_be_reexecuted": false,
    "source_hash": "81ac5a29",
    "execution_start": 1620713158983,
    "execution_millis": 3497,
    "deepnote_cell_type": "code"
   },
   "source": "import pandas as pd \nimport csv \nimport re\nimport nltk\nnltk.download('punkt')\nfrom nltk.tokenize import TweetTokenizer\nfrom difflib import ndiff\nfrom collections import Counter\nfrom matplotlib import pyplot as plt",
   "execution_count": 1,
   "outputs": [
    {
     "name": "stderr",
     "text": "[nltk_data] Downloading package punkt to /root/nltk_data...\n[nltk_data]   Unzipping tokenizers/punkt.zip.\n",
     "output_type": "stream"
    }
   ]
  },
  {
   "cell_type": "markdown",
   "source": "### Path to files",
   "metadata": {
    "tags": [],
    "cell_id": "00004-1ecb2c91-4974-4eb1-8815-ff9e30ea2df5",
    "deepnote_cell_type": "markdown"
   }
  },
  {
   "cell_type": "code",
   "metadata": {
    "tags": [],
    "cell_id": "00004-d3022775-00a7-42bb-86bd-dd445262d0ee",
    "deepnote_to_be_reexecuted": false,
    "source_hash": "a5ff8cc0",
    "execution_start": 1620713162483,
    "execution_millis": 91,
    "deepnote_cell_type": "code"
   },
   "source": "# For hate speech detection\nhate_train = open(\"datasets/hate/train_text.txt\", \"r\", encoding=\"utf-8\").read()\nhate_test = open(\"datasets/hate/test_text.txt\", \"r\", encoding=\"utf-8\").read()\nhate_mapping = open(\"datasets/hate/mapping.txt\", \"r\", encoding=\"utf-8\").read()\n\n# For sentiment analysis\nsentiment_train = open(\"datasets/sentiment/train_text.txt\", \"r\", encoding=\"utf-8\").read()\nsentiment_test = open(\"datasets/sentiment/test_text.txt\", \"r\", encoding=\"utf-8\").read()\nsentiment_mapping = open(\"datasets/sentiment/mapping.txt\", \"r\", encoding=\"utf-8\").read()",
   "execution_count": 2,
   "outputs": []
  },
  {
   "cell_type": "markdown",
   "source": "## Task 1: Preprocessing",
   "metadata": {
    "tags": [],
    "cell_id": "00006-e877412a-0991-45b0-b70a-c43564b532c7",
    "deepnote_cell_type": "markdown"
   }
  },
  {
   "cell_type": "markdown",
   "source": "#### We have selected *hate speech detection* as the binary classifier and the *sentiment analysis* as the multiclass classifier.",
   "metadata": {
    "tags": [],
    "cell_id": "00007-2214d8d1-86a5-4d11-8cb2-81d8e9b293bc",
    "deepnote_cell_type": "markdown"
   }
  },
  {
   "cell_type": "markdown",
   "source": "*Using regular expressions, implement a tokeniser to split the input texts into meaningful tokens. Your tokeniser should be a script that takes as input the data as distributed in the dataset and outputs the tokenised text, one output line per input line, with spaces between tokens.*",
   "metadata": {
    "tags": [],
    "cell_id": "00007-961b9d3a-d1dc-45b4-9bc1-06374420cf99",
    "deepnote_cell_type": "markdown"
   }
  },
  {
   "cell_type": "markdown",
   "source": "*• Use the training set of one of the tasks you’ve chosen to work on. Set aside a part of the training set for evaluating the tokeniser so you don’t have to touch the validation data for that.*",
   "metadata": {
    "tags": [],
    "cell_id": "00008-9ab3099e-6000-4e8d-858f-583beb76182b",
    "deepnote_cell_type": "markdown"
   }
  },
  {
   "cell_type": "code",
   "metadata": {
    "tags": [],
    "cell_id": "00004-3e1a99a1-b62b-45e2-9e24-861fd814ce53",
    "deepnote_to_be_reexecuted": false,
    "source_hash": "146d7afe",
    "execution_start": 1620713162582,
    "execution_millis": 1,
    "deepnote_cell_type": "code"
   },
   "source": "hate_train_lists = hate_train.split('\\n')\nhate_train_tokenize = hate_train_lists[0:4500]\nhate_train_set_aside = hate_train_lists[4500:-1]",
   "execution_count": 3,
   "outputs": []
  },
  {
   "cell_type": "markdown",
   "source": "*• Start by taking a subset of the trainingdata, look through it and discuss in your group what a good tokenisation of this subset should look like. Then design your initial Python implementation to match this ideal tokenisation, and run it over the portion of the training set that you didn’t hold out for tokeniser evaluation. Keep an eye on infrequently occurring tokens in the output that look like tokenisation errors.*",
   "metadata": {
    "tags": [],
    "cell_id": "00010-df5b7a5e-b940-49f0-b90e-4d5acffae875",
    "deepnote_cell_type": "markdown"
   }
  },
  {
   "cell_type": "code",
   "metadata": {
    "tags": [],
    "cell_id": "00005-f6acf72a-efe3-4baa-9377-46c2f3da9c99",
    "deepnote_to_be_reexecuted": false,
    "source_hash": "372aa900",
    "execution_start": 1620713162591,
    "execution_millis": 11,
    "deepnote_cell_type": "code"
   },
   "source": "def tokenize_line(line):\n    #replacements = \".,:;?!/#%\\(\\)@$\\-…\"\n    #temp = re.sub(f'([^ ])([{replacements}])', r'\\1 \\2', line)\n    #temp = re.sub(f'([{replacements}])([^ ])', r'\\1 \\2', temp)\n    temp = re.sub(f'([a-zA-Z])([^a-zA-Z ])', r'\\1 \\2', line)\n    temp = re.sub(f'([^a-zA-Z @#])([a-zA-Z])', r'\\1 \\2', temp)\n    return temp\n\ntokenize_line('hej, d/et.te (er) en .test!')",
   "execution_count": 4,
   "outputs": [
    {
     "output_type": "execute_result",
     "execution_count": 4,
     "data": {
      "text/plain": "'hej , d / et . te ( er ) en . test !'"
     },
     "metadata": {}
    }
   ]
  },
  {
   "cell_type": "markdown",
   "source": "*• Once you’re done, compare your tokeniser’s output with the baseline tokenisation\nyou get from the social media tokeniser in the NLTK library (nltk.tokenize.TweetTokenizer), using the data you’ve set aside for this purpose.*",
   "metadata": {
    "tags": [],
    "cell_id": "00012-74a6c041-800b-41d6-8ae5-9a8481744c4f",
    "deepnote_cell_type": "markdown"
   }
  },
  {
   "cell_type": "code",
   "metadata": {
    "tags": [],
    "cell_id": "00006-29e43166-5498-4517-b2d4-f9a239256fb0",
    "deepnote_to_be_reexecuted": false,
    "source_hash": "9e050f70",
    "execution_start": 1620713162597,
    "execution_millis": 28,
    "deepnote_cell_type": "code"
   },
   "source": "#TweetTokenizer(hate_train)\ntknzr = TweetTokenizer()\ntokens_homemade = [tokenize_line(hate_train_tokenize[i].strip()) for i in range(20)]\ntokens_nltk = [' '.join(tknzr.tokenize(hate_train_tokenize[i])) for i in range(20)]\nprint(tokens_homemade)\nprint(tokens_nltk)",
   "execution_count": 5,
   "outputs": [
    {
     "name": "stdout",
     "text": "['@user nice new signage . Are you not concerned by Beatlemania - style hysterical crowds crongregating on you …', 'A woman who you fucked multiple times saying yo dick small is a compliment you know u hit that spot 😎', '@user @user real talk do you have eyes or were they gouged out by a rapefugee ?', 'your girlfriend lookin at me like a groupie in this bitch !', 'Hysterical woman like @user', 'Me flirting - So tell me about your father ...', 'The Philippine Catholic bishops \\' work for migrant workers should focus on families who are \" paying the great ...', \"I AM NOT GOING AFTER YOUR EX BF YOU LIEING SACK OF SHIT ! I ' m done with you dude that ' s why I dumped your ass cause your a lieing 😂😡 bitch\", 'When cuffin season is finally over', 'Send home migrants not in need of protection , Peter Dutton tells UN , HEY DUTTON HOW ABOUT THE ONES THAT HAVE STAYED AND NOT LEFT THE COUNTRY WHEN THEY SHOULD OVERSTAYERS ? WHY DONT YOU GO AND ROUND ALL THEM UP ?', 'Cory Booker and Kamala Harris competing for Most Hysterical Woman at the Kavanaugh hearings , Coulter hilariously tweeted . And yes , liberals immediately got triggered on Twitter , saying her joke was offensive . To them we say , suck it up , snowflakes .', \"Only that in you which is me can hear what I ' m saying . ~ Baba Ram Dass\", \"Should have let the Libyan Manchester bomber rot in his own country . How many more mass murderers did the Royal Navy import to Britain ? How many more terrorists do the NGO ' s rescue from international waters ? #RefugeesNotWelcome\", 'More migrants take sea route to #Spain than Italy this year : UN', 'Essential reading for those in Scribner , Nebraska who are considering an anti - immigrant ballot measure .', 'This account was temporarily inactive due to an irrational woman reporting us to Twitter . What a lack of judgement , shocking . #YesAllMen', 'RT @user @user I am flattered tbh . I got an orgasm just by thinking of it you really are good at this .', 'Making them look ~ anatomically correct ~ just makes them ... Bland . Not all women are tiny and fit , not all men are bulky .', 'listen ... i love lil b but i would not fuck with dej loaf at all . she prob got poison up in her nail polish like that bitch from holes', '@user @user keep calling her a bitch and a whore dude real grown up .']\n['@user nice new signage . Are you not concerned by Beatlemania - style hysterical crowds crongregating on you …', 'A woman who you fucked multiple times saying yo dick small is a compliment you know u hit that spot 😎', '@user @user real talk do you have eyes or were they gouged out by a rapefugee ?', 'your girlfriend lookin at me like a groupie in this bitch !', 'Hysterical woman like @user', 'Me flirting - So tell me about your father ...', 'The Philippine Catholic bishops \\' work for migrant workers should focus on families who are \" paying the great ...', \"I AM NOT GOING AFTER YOUR EX BF YOU LIEING SACK OF SHIT ! I'm done with you dude that's why I dumped your ass cause your a lieing 😂 😡 bitch\", 'When cuffin season is finally over', 'Send home migrants not in need of protection , Peter Dutton tells UN , HEY DUTTON HOW ABOUT THE ONES THAT HAVE STAYED AND NOT LEFT THE COUNTRY WHEN THEY SHOULD OVERSTAYERS ? WHY DONT YOU GO AND ROUND ALL THEM UP ?', 'Cory Booker and Kamala Harris competing for Most Hysterical Woman at the Kavanaugh hearings , Coulter hilariously tweeted.And yes , liberals immediately got triggered on Twitter , saying her joke was offensive . To them we say , suck it up , snowflakes .', \"Only that in you which is me can hear what I'm saying . ~ Baba Ram Dass\", \"Should have let the Libyan Manchester bomber rot in his own country . How many more mass murderers did the Royal Navy import to Britain ? How many more terrorists do the NGO's rescue from international waters ? #RefugeesNotWelcome\", 'More migrants take sea route to #Spain than Italy this year : UN', 'Essential reading for those in Scribner , Nebraska who are considering an anti-immigrant ballot measure .', 'This account was temporarily inactive due to an irrational woman reporting us to Twitter . What a lack of judgement , shocking . #YesAllMen', 'RT @user @user I am flattered tbh . I got an orgasm just by thinking of it you really are good at this .', 'Making them look ~ anatomically correct ~ just makes them ... Bland . Not all women are tiny and fit , not all men are bulky .', 'listen ... i love lil b but i would not fuck with dej loaf at all . she prob got poison up in her nail polish like that bitch from holes', '@user @user keep calling her a bitch and a whore dude real grown up .']\n",
     "output_type": "stream"
    }
   ]
  },
  {
   "cell_type": "markdown",
   "source": "*\n• Consider using the difflib package in Python, or the diff utility in the Unix shell, to compare the output of the two tokenisers efficiently.*",
   "metadata": {
    "tags": [],
    "cell_id": "00014-23083094-9a58-40ef-9480-983c9ed9d1dc",
    "deepnote_cell_type": "markdown"
   }
  },
  {
   "cell_type": "code",
   "metadata": {
    "tags": [],
    "cell_id": "00007-6b488828-5f55-4991-aa9f-dfca5dc698ec",
    "deepnote_to_be_reexecuted": false,
    "source_hash": "222d58a",
    "execution_start": 1620713162615,
    "execution_millis": 10,
    "deepnote_cell_type": "code"
   },
   "source": "[i for i in ndiff(tokens_homemade, tokens_nltk)]",
   "execution_count": 6,
   "outputs": [
    {
     "output_type": "execute_result",
     "execution_count": 6,
     "data": {
      "text/plain": "['  @user nice new signage . Are you not concerned by Beatlemania - style hysterical crowds crongregating on you …',\n '  A woman who you fucked multiple times saying yo dick small is a compliment you know u hit that spot 😎',\n '  @user @user real talk do you have eyes or were they gouged out by a rapefugee ?',\n '  your girlfriend lookin at me like a groupie in this bitch !',\n '  Hysterical woman like @user',\n '  Me flirting - So tell me about your father ...',\n '  The Philippine Catholic bishops \\' work for migrant workers should focus on families who are \" paying the great ...',\n \"- I AM NOT GOING AFTER YOUR EX BF YOU LIEING SACK OF SHIT ! I ' m done with you dude that ' s why I dumped your ass cause your a lieing 😂😡 bitch\",\n '?                                                            - -                         - -\\n',\n \"+ I AM NOT GOING AFTER YOUR EX BF YOU LIEING SACK OF SHIT ! I'm done with you dude that's why I dumped your ass cause your a lieing 😂 😡 bitch\",\n '?                                                                                                                                    +\\n',\n '  When cuffin season is finally over',\n '  Send home migrants not in need of protection , Peter Dutton tells UN , HEY DUTTON HOW ABOUT THE ONES THAT HAVE STAYED AND NOT LEFT THE COUNTRY WHEN THEY SHOULD OVERSTAYERS ? WHY DONT YOU GO AND ROUND ALL THEM UP ?',\n '- Cory Booker and Kamala Harris competing for Most Hysterical Woman at the Kavanaugh hearings , Coulter hilariously tweeted . And yes , liberals immediately got triggered on Twitter , saying her joke was offensive . To them we say , suck it up , snowflakes .',\n '?                                                                                                                          - -\\n',\n '+ Cory Booker and Kamala Harris competing for Most Hysterical Woman at the Kavanaugh hearings , Coulter hilariously tweeted.And yes , liberals immediately got triggered on Twitter , saying her joke was offensive . To them we say , suck it up , snowflakes .',\n \"- Only that in you which is me can hear what I ' m saying . ~ Baba Ram Dass\",\n '?                                             - -\\n',\n \"+ Only that in you which is me can hear what I'm saying . ~ Baba Ram Dass\",\n \"- Should have let the Libyan Manchester bomber rot in his own country . How many more mass murderers did the Royal Navy import to Britain ? How many more terrorists do the NGO ' s rescue from international waters ? #RefugeesNotWelcome\",\n '?                                                                                                                                                                              - ^^^^^^^^^\\n',\n \"+ Should have let the Libyan Manchester bomber rot in his own country . How many more mass murderers did the Royal Navy import to Britain ? How many more terrorists do the NGO's rescue from international waters ? #RefugeesNotWelcome\",\n '?                                                                                                                                                                               ^^^^^^^^\\n',\n '  More migrants take sea route to #Spain than Italy this year : UN',\n '- Essential reading for those in Scribner , Nebraska who are considering an anti - immigrant ballot measure .',\n '?                                                                               - -\\n',\n '+ Essential reading for those in Scribner , Nebraska who are considering an anti-immigrant ballot measure .',\n '  This account was temporarily inactive due to an irrational woman reporting us to Twitter . What a lack of judgement , shocking . #YesAllMen',\n '  RT @user @user I am flattered tbh . I got an orgasm just by thinking of it you really are good at this .',\n '  Making them look ~ anatomically correct ~ just makes them ... Bland . Not all women are tiny and fit , not all men are bulky .',\n '  listen ... i love lil b but i would not fuck with dej loaf at all . she prob got poison up in her nail polish like that bitch from holes',\n '  @user @user keep calling her a bitch and a whore dude real grown up .']"
     },
     "metadata": {}
    }
   ]
  },
  {
   "cell_type": "markdown",
   "source": "## Task 2: Characterising Your Data",
   "metadata": {
    "tags": [],
    "cell_id": "00016-732de60c-ac86-4eb2-9537-542d2bd99250",
    "deepnote_cell_type": "markdown"
   }
  },
  {
   "cell_type": "code",
   "metadata": {
    "tags": [],
    "cell_id": "00019-1a17ab59-87b5-460d-98dd-d6466ec0204e",
    "deepnote_to_be_reexecuted": false,
    "source_hash": "95c751dd",
    "execution_start": 1620713162662,
    "execution_millis": 4498,
    "deepnote_cell_type": "code"
   },
   "source": "df_hate = pd.DataFrame()\ndf_hate['raw'] = hate_train_lists\ndf_hate['tokenized'] = df_hate['raw'].apply(tknzr.tokenize)\n\ndf_sentiment = pd.DataFrame()\ndf_sentiment['raw'] = sentiment_train.split('\\n')\ndf_sentiment['tokenized'] = df_sentiment['raw'].apply(tknzr.tokenize)",
   "execution_count": 7,
   "outputs": []
  },
  {
   "cell_type": "markdown",
   "source": "*Characterise the training sets of the two tasks you’ve chosen in terms of elementary corpus statistics: <br>\n• Corpus size, vocabulary size, type/token ratio.*",
   "metadata": {
    "tags": [],
    "cell_id": "00019-5e008527-cb95-4595-aa6d-e43e33f12632",
    "deepnote_cell_type": "markdown"
   }
  },
  {
   "cell_type": "code",
   "metadata": {
    "tags": [],
    "cell_id": "00020-d55ef57c-a96d-4623-b893-e782b46b05f3",
    "deepnote_to_be_reexecuted": false,
    "source_hash": "adc7dfc1",
    "execution_start": 1620713167162,
    "execution_millis": 10,
    "deepnote_cell_type": "code"
   },
   "source": "# Corpus size:\nprint('Corpus size for hate: ',len(df_hate))\nprint('Corpus size for sentiment: ', len(df_sentiment))",
   "execution_count": 8,
   "outputs": [
    {
     "name": "stdout",
     "text": "Corpus size for hate:  9001\nCorpus size for sentiment:  45616\n",
     "output_type": "stream"
    }
   ]
  },
  {
   "cell_type": "code",
   "metadata": {
    "tags": [],
    "cell_id": "00021-a7712c94-67ac-48a2-aa16-03bc0788cfaa",
    "deepnote_to_be_reexecuted": false,
    "source_hash": "abd335bb",
    "execution_start": 1620713167168,
    "execution_millis": 4854,
    "deepnote_cell_type": "code"
   },
   "source": "tokens_sentiment = list(df_sentiment['tokenized'][:9001])\ntokens_sentiment = sum(tokens_sentiment, [])",
   "execution_count": 9,
   "outputs": []
  },
  {
   "cell_type": "code",
   "metadata": {
    "tags": [],
    "cell_id": "00022-f8a40561-3663-41c5-a817-7b8dee429547",
    "deepnote_to_be_reexecuted": false,
    "source_hash": "74463cc7",
    "execution_start": 1620713172023,
    "execution_millis": 4807,
    "deepnote_cell_type": "code"
   },
   "source": "tokens_sentiment2 = list(df_sentiment['tokenized'][9001:18000])\ntokens_sentiment2 = sum(tokens_sentiment2, [])",
   "execution_count": 10,
   "outputs": []
  },
  {
   "cell_type": "code",
   "metadata": {
    "tags": [],
    "cell_id": "00023-d564d299-381f-4680-89ac-9db069bfdc0d",
    "deepnote_to_be_reexecuted": false,
    "source_hash": "ff5b48fa",
    "execution_start": 1620713176832,
    "execution_millis": 4841,
    "deepnote_cell_type": "code"
   },
   "source": "tokens_sentiment3 = list(df_sentiment['tokenized'][18000:27000])\ntokens_sentiment3 = sum(tokens_sentiment3, [])",
   "execution_count": 11,
   "outputs": []
  },
  {
   "cell_type": "code",
   "metadata": {
    "tags": [],
    "cell_id": "00024-f0995bda-446c-4849-a3c5-90e9cb7a64c6",
    "deepnote_to_be_reexecuted": false,
    "source_hash": "41d1d975",
    "execution_start": 1620713181682,
    "execution_millis": 5014,
    "deepnote_cell_type": "code"
   },
   "source": "tokens_sentiment4 = list(df_sentiment['tokenized'][27000:36000])\ntokens_sentiment4 = sum(tokens_sentiment4, [])",
   "execution_count": 12,
   "outputs": []
  },
  {
   "cell_type": "code",
   "metadata": {
    "tags": [],
    "cell_id": "00026-34d1236c-2cf6-4feb-a097-6aea5e9f674d",
    "deepnote_to_be_reexecuted": false,
    "source_hash": "26de76fb",
    "execution_start": 1620713192847,
    "execution_millis": 44,
    "deepnote_cell_type": "code"
   },
   "source": "tokens_sentiment5 = list(df_sentiment['tokenized'][36000:])\ntokens_sentiment5 = sum(tokens_sentiment5, [])",
   "execution_count": 13,
   "outputs": []
  },
  {
   "cell_type": "code",
   "metadata": {
    "tags": [],
    "cell_id": "00026-7de49f86-ce35-47bf-9ed8-915f51a46f25",
    "deepnote_to_be_reexecuted": false,
    "source_hash": "1d11818a",
    "execution_start": 1620713192891,
    "execution_millis": 14,
    "deepnote_cell_type": "code"
   },
   "source": "tokens_sentiment_full = tokens_sentiment + tokens_sentiment2 + tokens_sentiment3 + tokens_sentiment4 + tokens_sentiment5",
   "execution_count": 14,
   "outputs": []
  },
  {
   "cell_type": "code",
   "metadata": {
    "tags": [],
    "cell_id": "00027-d2f73860-e908-48cf-8218-bb5757731ed5",
    "deepnote_to_be_reexecuted": false,
    "source_hash": "64306e6a",
    "execution_start": 1620713193294,
    "execution_millis": 24,
    "deepnote_cell_type": "code"
   },
   "source": "tokens_sentiment_list = sorted(Counter(tokens_sentiment_full).items(), key=lambda x: x[1], reverse=True)\n\nprint('Vocabulary size for sentiment: ', len(tokens_sentiment_list))",
   "execution_count": 15,
   "outputs": [
    {
     "name": "stdout",
     "text": "Vocabulary size for sentiment:  62251\n",
     "output_type": "stream"
    }
   ]
  },
  {
   "cell_type": "code",
   "metadata": {
    "tags": [],
    "cell_id": "00021-42c0313f-3dc8-40e7-9ed8-793f0c63f354",
    "deepnote_to_be_reexecuted": false,
    "source_hash": "d91786f1",
    "execution_start": 1620713222628,
    "execution_millis": 8,
    "deepnote_cell_type": "code"
   },
   "source": "# Vocabulary size:\ntokens_hate = list(df_hate['tokenized'])\ntokens_hate = sum(tokens_hate, [])\ntokens_hate_list = sorted(Counter(tokens_hate).items(), key=lambda x: x[1], reverse=True)\n\nprint('Vocabulary size for hate: ',len(tokens_hate_list))\n",
   "execution_count": 17,
   "outputs": [
    {
     "name": "stdout",
     "text": "Vocabulary size for hate:  23483\n",
     "output_type": "stream"
    }
   ]
  },
  {
   "cell_type": "markdown",
   "source": "Vocab size for hate:  23483 , Corpus size for hate:  9001\n\nVocabulary size for sentiment:  62251   , Corpus size for sentiment:  45616\n",
   "metadata": {
    "tags": [],
    "cell_id": "00022-00c37017-5d87-4f26-91bc-96435490ea74",
    "deepnote_cell_type": "markdown"
   }
  },
  {
   "cell_type": "code",
   "metadata": {
    "tags": [],
    "cell_id": "00022-6abdff49-8752-44f1-8715-0142a5e6f381",
    "deepnote_to_be_reexecuted": false,
    "source_hash": "6d5b2543",
    "execution_start": 1620713409569,
    "execution_millis": 8,
    "deepnote_cell_type": "code"
   },
   "source": "# Type/ token ratio: Number of unique tokens / total number of tokens \nprint(f'Type/token ratio for hate: {len(tokens_hate_list) / len(tokens_hate)}')\nprint(f'Type/token ratio for sentiment: {len(tokens_sentiment_list) / len(tokens_sentiment_full)}')",
   "execution_count": 29,
   "outputs": [
    {
     "name": "stdout",
     "text": "Type/token ratio for hate: 0.11005764634203496\nType/token ratio for sentiment: 0.06027681379459929\n",
     "output_type": "stream"
    }
   ]
  },
  {
   "cell_type": "markdown",
   "source": "• *What are the most frequent tokens?*",
   "metadata": {
    "tags": [],
    "cell_id": "00020-bae2f395-9762-4f2b-97dd-c8c12212b266",
    "deepnote_cell_type": "markdown"
   }
  },
  {
   "cell_type": "code",
   "metadata": {
    "tags": [],
    "cell_id": "00021-25ca02ce-b29f-4e28-942e-4e78a433f915",
    "deepnote_to_be_reexecuted": false,
    "source_hash": "511a26f3",
    "execution_start": 1620713225475,
    "execution_millis": 9,
    "deepnote_cell_type": "code"
   },
   "source": "tokens_hate_list[:30]\n# maye decapitalize some words and then count. ",
   "execution_count": 19,
   "outputs": [
    {
     "output_type": "execute_result",
     "execution_count": 19,
     "data": {
      "text/plain": "[('.', 6257),\n ('@user', 6014),\n ('the', 4788),\n ('to', 4606),\n (',', 4356),\n ('a', 3677),\n ('and', 2995),\n ('you', 2823),\n ('of', 2797),\n ('in', 2384),\n ('!', 2147),\n ('is', 1930),\n ('for', 1739),\n ('I', 1606),\n ('are', 1502),\n ('?', 1353),\n ('that', 1298),\n (\"'\", 1250),\n ('on', 1135),\n ('not', 1089),\n ('’', 966),\n ('-', 943),\n ('it', 907),\n ('be', 894),\n ('your', 890),\n ('with', 889),\n ('...', 874),\n ('bitch', 873),\n ('all', 864),\n (':', 833)]"
     },
     "metadata": {}
    }
   ]
  },
  {
   "cell_type": "code",
   "metadata": {
    "tags": [],
    "cell_id": "00033-5e919261-0114-4662-a2c2-fa6bf8fe978d",
    "deepnote_to_be_reexecuted": false,
    "source_hash": "62a4ce56",
    "execution_start": 1620713226893,
    "execution_millis": 12,
    "deepnote_cell_type": "code"
   },
   "source": "tokens_sentiment_list[:30]",
   "execution_count": 20,
   "outputs": [
    {
     "output_type": "execute_result",
     "execution_count": 20,
     "data": {
      "text/plain": "[('the', 34863),\n ('.', 32569),\n ('\"', 29124),\n ('to', 20647),\n (',', 17627),\n ('@user', 16830),\n ('!', 16090),\n ('in', 13096),\n ('on', 12551),\n ('a', 12192),\n ('I', 12161),\n ('and', 12008),\n ('of', 10676),\n ('\\\\', 10614),\n ('for', 9667),\n ('is', 9267),\n ('...', 8429),\n ('you', 7426),\n ('with', 7350),\n ('?', 7095),\n ('be', 7092),\n ('at', 6893),\n ('tomorrow', 6557),\n ('it', 6385),\n (':', 6345),\n ('may', 5618),\n ('u002c', 4466),\n ('that', 4334),\n ('have', 4185),\n ('-', 4159)]"
     },
     "metadata": {}
    }
   ]
  },
  {
   "cell_type": "markdown",
   "source": "• *What types of tokens occur only once, or 2 or 3 times?*",
   "metadata": {
    "tags": [],
    "cell_id": "00022-06e9e5d7-280f-40bb-beb9-4c8abb4aad71",
    "deepnote_cell_type": "markdown"
   }
  },
  {
   "cell_type": "code",
   "metadata": {
    "tags": [],
    "cell_id": "00035-f74b84b3-3d3d-4fb6-bfdd-3996ae126963",
    "deepnote_to_be_reexecuted": false,
    "source_hash": "a357d8a3",
    "execution_start": 1620713227323,
    "execution_millis": 25,
    "deepnote_cell_type": "code"
   },
   "source": "tokens_hate_df = pd.DataFrame(tokens_hate_list)\ntokens_sentiment_df = pd.DataFrame(tokens_sentiment_list)\n",
   "execution_count": 21,
   "outputs": []
  },
  {
   "cell_type": "code",
   "metadata": {
    "tags": [],
    "cell_id": "00036-ef8ddd88-f25e-4528-b517-1fe26254bd16",
    "deepnote_to_be_reexecuted": false,
    "source_hash": "229a7f1f",
    "execution_start": 1620713227466,
    "execution_millis": 16,
    "deepnote_cell_type": "code"
   },
   "source": "# The amount of 2nd and 3rd most poluar for hate and sentiment\ntwos_thress_hate = tokens_hate_df.loc[(tokens_hate_df[1] == 2) | (tokens_hate_df[1] == 3)] \n\ntwos_thress_sentiment = tokens_sentiment_df.loc[(tokens_sentiment_df[1] == 2) | (tokens_sentiment_df[1] == 3)]  \n",
   "execution_count": 22,
   "outputs": []
  },
  {
   "cell_type": "markdown",
   "source": "• *Are there any noticeable differences between your two datasets?*<br>",
   "metadata": {
    "tags": [],
    "cell_id": "00024-f702de57-b3da-4665-8878-6a722fe66095",
    "deepnote_cell_type": "markdown"
   }
  },
  {
   "cell_type": "code",
   "metadata": {
    "tags": [],
    "cell_id": "00025-d0b15343-7cda-4232-9b1c-f300e73522d2",
    "deepnote_to_be_reexecuted": false,
    "source_hash": "bd5baa83",
    "execution_start": 1620713227797,
    "execution_millis": 2,
    "deepnote_cell_type": "code"
   },
   "source": "## one is way bigger than the other\n## the hate one has a lot more politics",
   "execution_count": 23,
   "outputs": []
  },
  {
   "cell_type": "markdown",
   "source": "• *Are the corpus statistics consistent with Zipf’slaw?(no formal test needed,but a plot would be helpful)*<br>",
   "metadata": {
    "tags": [],
    "cell_id": "00026-32aef508-44a1-48b5-a175-0b0b6ec6b894",
    "deepnote_cell_type": "markdown"
   }
  },
  {
   "cell_type": "code",
   "metadata": {
    "tags": [],
    "cell_id": "00027-56785100-feeb-412c-a1c6-5e71c2ff9af7",
    "deepnote_to_be_reexecuted": false,
    "source_hash": "fe79ecb0",
    "execution_start": 1620713228249,
    "execution_millis": 751,
    "deepnote_cell_type": "code"
   },
   "source": "# zipfs law for hate\ntokens_hate_df['rank'] = range(len(tokens_hate_list))\nplt.plot(tokens_hate_df[1], tokens_hate_df['rank'])\nplt.yscale('log')\nplt.xscale('log')\nplt.title(\"Zipf's Law for Hate data\")",
   "execution_count": 24,
   "outputs": [
    {
     "output_type": "execute_result",
     "execution_count": 24,
     "data": {
      "text/plain": "Text(0.5, 1.0, \"Zipf's Law for Hate data\")"
     },
     "metadata": {}
    },
    {
     "data": {
      "text/plain": "<Figure size 432x288 with 1 Axes>",
      "image/png": "[encoded data removed]"
     },
     "metadata": {
      "needs_background": "light",
      "image/png": {
       "width": 375,
       "height": 268
      }
     },
     "output_type": "display_data"
    }
   ]
  },
  {
   "cell_type": "code",
   "metadata": {
    "tags": [],
    "cell_id": "00041-b6cc519d-23eb-4329-928e-037bb10a6045",
    "deepnote_to_be_reexecuted": false,
    "source_hash": "69781281",
    "execution_start": 1620713229008,
    "execution_millis": 642,
    "deepnote_cell_type": "code"
   },
   "source": "tokens_sentiment_df['rank'] = range(len(tokens_sentiment_list))\nplt.plot(tokens_sentiment_df[1], tokens_sentiment_df['rank'])\nplt.yscale('log')\nplt.xscale('log')\nplt.title(\"Zipf's law on Sentiment data\")",
   "execution_count": 25,
   "outputs": [
    {
     "output_type": "execute_result",
     "execution_count": 25,
     "data": {
      "text/plain": "Text(0.5, 1.0, \"Zipf's law on Sentiment data\")"
     },
     "metadata": {}
    },
    {
     "data": {
      "text/plain": "<Figure size 432x288 with 1 Axes>",
      "image/png": "[encoded data removed]"
     },
     "metadata": {
      "needs_background": "light",
      "image/png": {
       "width": 375,
       "height": 268
      }
     },
     "output_type": "display_data"
    }
   ]
  },
  {
   "cell_type": "markdown",
   "source": "## Task 3: Manual Annotation and Inter-Annotator Agreement",
   "metadata": {
    "tags": [],
    "cell_id": "00017-7ed94529-8efb-42e1-8a73-825d0b6fa5eb",
    "deepnote_cell_type": "markdown"
   }
  },
  {
   "cell_type": "markdown",
   "source": "*Choose one of your two datasets. For this subtask, the emoji prediction dataset doesn’t make sense, so if that is one of your choices, pick the other one for this part of the assignment.*",
   "metadata": {
    "tags": [],
    "cell_id": "00020-70c4397e-1bda-4990-b82a-799b45a72296",
    "deepnote_cell_type": "markdown"
   }
  },
  {
   "cell_type": "markdown",
   "source": "Our choice of dataset: \"Hate\"",
   "metadata": {
    "tags": [],
    "cell_id": "00044-aeb4788d-0a1a-4f50-99b8-afc5450d6ca8",
    "deepnote_cell_type": "markdown"
   }
  },
  {
   "cell_type": "markdown",
   "source": "*In the README file in the TweetEval corpus repository, there are links to research papers from the SemEval workshop, describing how each of the datasets was created and annot- ated. Locate the one that belongs to the dataset you’ve picked for this subtask and find the passages that describe in detail how the labels for the dataset were created. Read these passages carefully.*",
   "metadata": {
    "tags": [],
    "cell_id": "00021-9ab1a68d-7e5b-468c-8f87-dac50da5c404",
    "deepnote_cell_type": "markdown"
   }
  },
  {
   "cell_type": "markdown",
   "source": "*Next, select a random sample of 100 tweets from the training set. Working independently from each other and without consulting the labels published in the TweetEval corpus, each member of your group should now go manually through this sample and label them according to the same scheme.*",
   "metadata": {
    "tags": [],
    "cell_id": "00022-9203f65c-1a7f-434e-9d07-8c065e55b179",
    "deepnote_cell_type": "markdown"
   }
  },
  {
   "cell_type": "code",
   "source": "Karlis_hate = [0] + open(\"iaa/KarlisHateOrNot.txt\", \"r\", encoding=\"utf-8\").read().split('\\n')\nIben_hate = [0] + open(\"iaa/iben_map.txt\", \"r\", encoding=\"utf-8\").read().split('\\n')\nMarkus_hate = [0] + open(\"iaa/iaa_labels_markus.txt\", \"r\", encoding=\"utf-8\").read().split('\\n')\nIda_hate = [0] + open(\"iaa/LabelsHateIda.txt\", \"r\", encoding=\"utf-8\").read().split('\\n')\ncorrect_hate = [0] + open(\"iaa/iaa_labels.txt\", \"r\", encoding=\"utf-8\").read().split('\\n')\nHate_labels = pd.DataFrame(list(zip(Karlis_hate,Iben_hate,Markus_hate,Ida_hate, correct_hate)), columns =['Karlis', 'Iben',\"Markus\",\"Ida\", \"Answers\"])",
   "metadata": {
    "tags": [],
    "cell_id": "00048-6097d61b-af57-456d-9ea9-15354362b3a2",
    "deepnote_to_be_reexecuted": false,
    "source_hash": "e19c1418",
    "execution_start": 1620719295084,
    "execution_millis": 11,
    "deepnote_cell_type": "code"
   },
   "outputs": [],
   "execution_count": 47
  },
  {
   "cell_type": "code",
   "source": "for i in ['Karlis', 'Iben',\"Markus\",\"Ida\", \"Answers\"]:\n    Hate_labels[i] = Hate_labels[i].astype('int')",
   "metadata": {
    "tags": [],
    "cell_id": "00048-bcd37550-328d-4833-8186-20fabbcbcb1a",
    "deepnote_to_be_reexecuted": false,
    "source_hash": "b0e72086",
    "execution_start": 1620724144856,
    "execution_millis": 4,
    "deepnote_cell_type": "code"
   },
   "outputs": [],
   "execution_count": 65
  },
  {
   "cell_type": "code",
   "source": "Hate_labels",
   "metadata": {
    "tags": [],
    "cell_id": "00048-c697ba78-81b8-4c50-addc-d9436f1cd50e",
    "deepnote_to_be_reexecuted": false,
    "source_hash": "d98e16ed",
    "execution_start": 1620736108142,
    "execution_millis": 52,
    "deepnote_cell_type": "code"
   },
   "outputs": [
    {
     "output_type": "execute_result",
     "execution_count": 104,
     "data": {
      "application/vnd.deepnote.dataframe.v2+json": {
       "row_count": 121,
       "column_count": 5,
       "columns": [
        {
         "name": "Karlis",
         "dtype": "int64",
         "stats": {
          "unique_count": 2,
          "nan_count": 0,
          "min": "0",
          "max": "1",
          "histogram": [
           {
            "bin_start": 0,
            "bin_end": 0.1,
            "count": 79
           },
           {
            "bin_start": 0.1,
            "bin_end": 0.2,
            "count": 0
           },
           {
            "bin_start": 0.2,
            "bin_end": 0.30000000000000004,
            "count": 0
           },
           {
            "bin_start": 0.30000000000000004,
            "bin_end": 0.4,
            "count": 0
           },
           {
            "bin_start": 0.4,
            "bin_end": 0.5,
            "count": 0
           },
           {
            "bin_start": 0.5,
            "bin_end": 0.6000000000000001,
            "count": 0
           },
           {
            "bin_start": 0.6000000000000001,
            "bin_end": 0.7000000000000001,
            "count": 0
           },
           {
            "bin_start": 0.7000000000000001,
            "bin_end": 0.8,
            "count": 0
           },
           {
            "bin_start": 0.8,
            "bin_end": 0.9,
            "count": 0
           },
           {
            "bin_start": 0.9,
            "bin_end": 1,
            "count": 42
           }
          ]
         }
        },
        {
         "name": "Iben",
         "dtype": "int64",
         "stats": {
          "unique_count": 2,
          "nan_count": 0,
          "min": "0",
          "max": "1",
          "histogram": [
           {
            "bin_start": 0,
            "bin_end": 0.1,
            "count": 97
           },
           {
            "bin_start": 0.1,
            "bin_end": 0.2,
            "count": 0
           },
           {
            "bin_start": 0.2,
            "bin_end": 0.30000000000000004,
            "count": 0
           },
           {
            "bin_start": 0.30000000000000004,
            "bin_end": 0.4,
            "count": 0
           },
           {
            "bin_start": 0.4,
            "bin_end": 0.5,
            "count": 0
           },
           {
            "bin_start": 0.5,
            "bin_end": 0.6000000000000001,
            "count": 0
           },
           {
            "bin_start": 0.6000000000000001,
            "bin_end": 0.7000000000000001,
            "count": 0
           },
           {
            "bin_start": 0.7000000000000001,
            "bin_end": 0.8,
            "count": 0
           },
           {
            "bin_start": 0.8,
            "bin_end": 0.9,
            "count": 0
           },
           {
            "bin_start": 0.9,
            "bin_end": 1,
            "count": 24
           }
          ]
         }
        },
        {
         "name": "Markus",
         "dtype": "int64",
         "stats": {
          "unique_count": 2,
          "nan_count": 0,
          "min": "0",
          "max": "1",
          "histogram": [
           {
            "bin_start": 0,
            "bin_end": 0.1,
            "count": 81
           },
           {
            "bin_start": 0.1,
            "bin_end": 0.2,
            "count": 0
           },
           {
            "bin_start": 0.2,
            "bin_end": 0.30000000000000004,
            "count": 0
           },
           {
            "bin_start": 0.30000000000000004,
            "bin_end": 0.4,
            "count": 0
           },
           {
            "bin_start": 0.4,
            "bin_end": 0.5,
            "count": 0
           },
           {
            "bin_start": 0.5,
            "bin_end": 0.6000000000000001,
            "count": 0
           },
           {
            "bin_start": 0.6000000000000001,
            "bin_end": 0.7000000000000001,
            "count": 0
           },
           {
            "bin_start": 0.7000000000000001,
            "bin_end": 0.8,
            "count": 0
           },
           {
            "bin_start": 0.8,
            "bin_end": 0.9,
            "count": 0
           },
           {
            "bin_start": 0.9,
            "bin_end": 1,
            "count": 40
           }
          ]
         }
        },
        {
         "name": "Ida",
         "dtype": "int64",
         "stats": {
          "unique_count": 2,
          "nan_count": 0,
          "min": "0",
          "max": "1",
          "histogram": [
           {
            "bin_start": 0,
            "bin_end": 0.1,
            "count": 49
           },
           {
            "bin_start": 0.1,
            "bin_end": 0.2,
            "count": 0
           },
           {
            "bin_start": 0.2,
            "bin_end": 0.30000000000000004,
            "count": 0
           },
           {
            "bin_start": 0.30000000000000004,
            "bin_end": 0.4,
            "count": 0
           },
           {
            "bin_start": 0.4,
            "bin_end": 0.5,
            "count": 0
           },
           {
            "bin_start": 0.5,
            "bin_end": 0.6000000000000001,
            "count": 0
           },
           {
            "bin_start": 0.6000000000000001,
            "bin_end": 0.7000000000000001,
            "count": 0
           },
           {
            "bin_start": 0.7000000000000001,
            "bin_end": 0.8,
            "count": 0
           },
           {
            "bin_start": 0.8,
            "bin_end": 0.9,
            "count": 0
           },
           {
            "bin_start": 0.9,
            "bin_end": 1,
            "count": 72
           }
          ]
         }
        },
        {
         "name": "Answers",
         "dtype": "int64",
         "stats": {
          "unique_count": 2,
          "nan_count": 0,
          "min": "0",
          "max": "1",
          "histogram": [
           {
            "bin_start": 0,
            "bin_end": 0.1,
            "count": 82
           },
           {
            "bin_start": 0.1,
            "bin_end": 0.2,
            "count": 0
           },
           {
            "bin_start": 0.2,
            "bin_end": 0.30000000000000004,
            "count": 0
           },
           {
            "bin_start": 0.30000000000000004,
            "bin_end": 0.4,
            "count": 0
           },
           {
            "bin_start": 0.4,
            "bin_end": 0.5,
            "count": 0
           },
           {
            "bin_start": 0.5,
            "bin_end": 0.6000000000000001,
            "count": 0
           },
           {
            "bin_start": 0.6000000000000001,
            "bin_end": 0.7000000000000001,
            "count": 0
           },
           {
            "bin_start": 0.7000000000000001,
            "bin_end": 0.8,
            "count": 0
           },
           {
            "bin_start": 0.8,
            "bin_end": 0.9,
            "count": 0
           },
           {
            "bin_start": 0.9,
            "bin_end": 1,
            "count": 39
           }
          ]
         }
        },
        {
         "name": "_deepnote_index_column",
         "dtype": "int64"
        }
       ],
       "rows_top": [
        {
         "Karlis": 0,
         "Iben": 0,
         "Markus": 0,
         "Ida": 0,
         "Answers": 0,
         "_deepnote_index_column": 0
        },
        {
         "Karlis": 1,
         "Iben": 1,
         "Markus": 1,
         "Ida": 1,
         "Answers": 1,
         "_deepnote_index_column": 1
        },
        {
         "Karlis": 0,
         "Iben": 0,
         "Markus": 0,
         "Ida": 0,
         "Answers": 0,
         "_deepnote_index_column": 2
        },
        {
         "Karlis": 1,
         "Iben": 0,
         "Markus": 0,
         "Ida": 0,
         "Answers": 0,
         "_deepnote_index_column": 3
        },
        {
         "Karlis": 1,
         "Iben": 1,
         "Markus": 1,
         "Ida": 1,
         "Answers": 1,
         "_deepnote_index_column": 4
        },
        {
         "Karlis": 0,
         "Iben": 0,
         "Markus": 0,
         "Ida": 0,
         "Answers": 1,
         "_deepnote_index_column": 5
        },
        {
         "Karlis": 1,
         "Iben": 1,
         "Markus": 1,
         "Ida": 1,
         "Answers": 1,
         "_deepnote_index_column": 6
        },
        {
         "Karlis": 0,
         "Iben": 0,
         "Markus": 0,
         "Ida": 0,
         "Answers": 0,
         "_deepnote_index_column": 7
        },
        {
         "Karlis": 0,
         "Iben": 0,
         "Markus": 0,
         "Ida": 0,
         "Answers": 0,
         "_deepnote_index_column": 8
        },
        {
         "Karlis": 1,
         "Iben": 0,
         "Markus": 0,
         "Ida": 1,
         "Answers": 0,
         "_deepnote_index_column": 9
        },
        {
         "Karlis": 0,
         "Iben": 0,
         "Markus": 0,
         "Ida": 0,
         "Answers": 0,
         "_deepnote_index_column": 10
        },
        {
         "Karlis": 0,
         "Iben": 0,
         "Markus": 0,
         "Ida": 0,
         "Answers": 0,
         "_deepnote_index_column": 11
        },
        {
         "Karlis": 0,
         "Iben": 0,
         "Markus": 0,
         "Ida": 0,
         "Answers": 1,
         "_deepnote_index_column": 12
        },
        {
         "Karlis": 0,
         "Iben": 0,
         "Markus": 0,
         "Ida": 1,
         "Answers": 0,
         "_deepnote_index_column": 13
        },
        {
         "Karlis": 1,
         "Iben": 1,
         "Markus": 1,
         "Ida": 1,
         "Answers": 1,
         "_deepnote_index_column": 14
        },
        {
         "Karlis": 1,
         "Iben": 1,
         "Markus": 1,
         "Ida": 1,
         "Answers": 1,
         "_deepnote_index_column": 15
        },
        {
         "Karlis": 0,
         "Iben": 0,
         "Markus": 1,
         "Ida": 0,
         "Answers": 0,
         "_deepnote_index_column": 16
        },
        {
         "Karlis": 0,
         "Iben": 0,
         "Markus": 0,
         "Ida": 0,
         "Answers": 0,
         "_deepnote_index_column": 17
        },
        {
         "Karlis": 0,
         "Iben": 0,
         "Markus": 1,
         "Ida": 1,
         "Answers": 1,
         "_deepnote_index_column": 18
        },
        {
         "Karlis": 1,
         "Iben": 0,
         "Markus": 0,
         "Ida": 1,
         "Answers": 1,
         "_deepnote_index_column": 19
        },
        {
         "Karlis": 0,
         "Iben": 0,
         "Markus": 0,
         "Ida": 1,
         "Answers": 0,
         "_deepnote_index_column": 20
        },
        {
         "Karlis": 0,
         "Iben": 1,
         "Markus": 1,
         "Ida": 0,
         "Answers": 0,
         "_deepnote_index_column": 21
        },
        {
         "Karlis": 0,
         "Iben": 1,
         "Markus": 1,
         "Ida": 1,
         "Answers": 1,
         "_deepnote_index_column": 22
        },
        {
         "Karlis": 1,
         "Iben": 0,
         "Markus": 0,
         "Ida": 1,
         "Answers": 1,
         "_deepnote_index_column": 23
        },
        {
         "Karlis": 0,
         "Iben": 0,
         "Markus": 1,
         "Ida": 0,
         "Answers": 0,
         "_deepnote_index_column": 24
        },
        {
         "Karlis": 1,
         "Iben": 0,
         "Markus": 1,
         "Ida": 1,
         "Answers": 0,
         "_deepnote_index_column": 25
        },
        {
         "Karlis": 0,
         "Iben": 0,
         "Markus": 0,
         "Ida": 0,
         "Answers": 0,
         "_deepnote_index_column": 26
        },
        {
         "Karlis": 0,
         "Iben": 0,
         "Markus": 0,
         "Ida": 0,
         "Answers": 0,
         "_deepnote_index_column": 27
        },
        {
         "Karlis": 0,
         "Iben": 0,
         "Markus": 0,
         "Ida": 0,
         "Answers": 1,
         "_deepnote_index_column": 28
        },
        {
         "Karlis": 0,
         "Iben": 0,
         "Markus": 0,
         "Ida": 0,
         "Answers": 0,
         "_deepnote_index_column": 29
        },
        {
         "Karlis": 0,
         "Iben": 0,
         "Markus": 0,
         "Ida": 0,
         "Answers": 0,
         "_deepnote_index_column": 30
        },
        {
         "Karlis": 1,
         "Iben": 0,
         "Markus": 1,
         "Ida": 1,
         "Answers": 1,
         "_deepnote_index_column": 31
        },
        {
         "Karlis": 1,
         "Iben": 0,
         "Markus": 1,
         "Ida": 1,
         "Answers": 0,
         "_deepnote_index_column": 32
        },
        {
         "Karlis": 0,
         "Iben": 0,
         "Markus": 0,
         "Ida": 1,
         "Answers": 1,
         "_deepnote_index_column": 33
        },
        {
         "Karlis": 0,
         "Iben": 0,
         "Markus": 0,
         "Ida": 0,
         "Answers": 0,
         "_deepnote_index_column": 34
        },
        {
         "Karlis": 0,
         "Iben": 0,
         "Markus": 0,
         "Ida": 0,
         "Answers": 0,
         "_deepnote_index_column": 35
        },
        {
         "Karlis": 1,
         "Iben": 0,
         "Markus": 0,
         "Ida": 0,
         "Answers": 0,
         "_deepnote_index_column": 36
        },
        {
         "Karlis": 0,
         "Iben": 0,
         "Markus": 0,
         "Ida": 0,
         "Answers": 0,
         "_deepnote_index_column": 37
        },
        {
         "Karlis": 0,
         "Iben": 0,
         "Markus": 0,
         "Ida": 1,
         "Answers": 0,
         "_deepnote_index_column": 38
        },
        {
         "Karlis": 0,
         "Iben": 0,
         "Markus": 0,
         "Ida": 0,
         "Answers": 1,
         "_deepnote_index_column": 39
        },
        {
         "Karlis": 0,
         "Iben": 0,
         "Markus": 0,
         "Ida": 0,
         "Answers": 0,
         "_deepnote_index_column": 40
        },
        {
         "Karlis": 0,
         "Iben": 0,
         "Markus": 0,
         "Ida": 1,
         "Answers": 0,
         "_deepnote_index_column": 41
        },
        {
         "Karlis": 0,
         "Iben": 0,
         "Markus": 1,
         "Ida": 1,
         "Answers": 1,
         "_deepnote_index_column": 42
        },
        {
         "Karlis": 1,
         "Iben": 1,
         "Markus": 1,
         "Ida": 1,
         "Answers": 0,
         "_deepnote_index_column": 43
        },
        {
         "Karlis": 0,
         "Iben": 0,
         "Markus": 0,
         "Ida": 0,
         "Answers": 0,
         "_deepnote_index_column": 44
        },
        {
         "Karlis": 0,
         "Iben": 0,
         "Markus": 0,
         "Ida": 1,
         "Answers": 0,
         "_deepnote_index_column": 45
        },
        {
         "Karlis": 0,
         "Iben": 0,
         "Markus": 0,
         "Ida": 0,
         "Answers": 0,
         "_deepnote_index_column": 46
        },
        {
         "Karlis": 1,
         "Iben": 0,
         "Markus": 1,
         "Ida": 1,
         "Answers": 0,
         "_deepnote_index_column": 47
        },
        {
         "Karlis": 0,
         "Iben": 0,
         "Markus": 1,
         "Ida": 1,
         "Answers": 1,
         "_deepnote_index_column": 48
        },
        {
         "Karlis": 0,
         "Iben": 0,
         "Markus": 0,
         "Ida": 1,
         "Answers": 0,
         "_deepnote_index_column": 49
        },
        {
         "Karlis": 1,
         "Iben": 1,
         "Markus": 1,
         "Ida": 1,
         "Answers": 1,
         "_deepnote_index_column": 50
        },
        {
         "Karlis": 0,
         "Iben": 0,
         "Markus": 1,
         "Ida": 1,
         "Answers": 1,
         "_deepnote_index_column": 51
        },
        {
         "Karlis": 0,
         "Iben": 0,
         "Markus": 0,
         "Ida": 0,
         "Answers": 0,
         "_deepnote_index_column": 52
        },
        {
         "Karlis": 1,
         "Iben": 0,
         "Markus": 0,
         "Ida": 1,
         "Answers": 0,
         "_deepnote_index_column": 53
        },
        {
         "Karlis": 0,
         "Iben": 0,
         "Markus": 0,
         "Ida": 0,
         "Answers": 0,
         "_deepnote_index_column": 54
        },
        {
         "Karlis": 0,
         "Iben": 0,
         "Markus": 0,
         "Ida": 1,
         "Answers": 0,
         "_deepnote_index_column": 55
        },
        {
         "Karlis": 0,
         "Iben": 0,
         "Markus": 0,
         "Ida": 0,
         "Answers": 0,
         "_deepnote_index_column": 56
        },
        {
         "Karlis": 1,
         "Iben": 0,
         "Markus": 0,
         "Ida": 1,
         "Answers": 0,
         "_deepnote_index_column": 57
        },
        {
         "Karlis": 1,
         "Iben": 1,
         "Markus": 1,
         "Ida": 1,
         "Answers": 1,
         "_deepnote_index_column": 58
        },
        {
         "Karlis": 0,
         "Iben": 0,
         "Markus": 0,
         "Ida": 1,
         "Answers": 0,
         "_deepnote_index_column": 59
        },
        {
         "Karlis": 1,
         "Iben": 1,
         "Markus": 1,
         "Ida": 1,
         "Answers": 1,
         "_deepnote_index_column": 60
        },
        {
         "Karlis": 1,
         "Iben": 1,
         "Markus": 0,
         "Ida": 1,
         "Answers": 1,
         "_deepnote_index_column": 61
        },
        {
         "Karlis": 1,
         "Iben": 0,
         "Markus": 0,
         "Ida": 1,
         "Answers": 1,
         "_deepnote_index_column": 62
        },
        {
         "Karlis": 0,
         "Iben": 0,
         "Markus": 0,
         "Ida": 0,
         "Answers": 0,
         "_deepnote_index_column": 63
        },
        {
         "Karlis": 0,
         "Iben": 0,
         "Markus": 0,
         "Ida": 0,
         "Answers": 0,
         "_deepnote_index_column": 64
        },
        {
         "Karlis": 1,
         "Iben": 1,
         "Markus": 1,
         "Ida": 1,
         "Answers": 0,
         "_deepnote_index_column": 65
        },
        {
         "Karlis": 1,
         "Iben": 0,
         "Markus": 1,
         "Ida": 1,
         "Answers": 1,
         "_deepnote_index_column": 66
        },
        {
         "Karlis": 0,
         "Iben": 0,
         "Markus": 0,
         "Ida": 1,
         "Answers": 0,
         "_deepnote_index_column": 67
        },
        {
         "Karlis": 1,
         "Iben": 0,
         "Markus": 0,
         "Ida": 1,
         "Answers": 1,
         "_deepnote_index_column": 68
        },
        {
         "Karlis": 0,
         "Iben": 0,
         "Markus": 0,
         "Ida": 1,
         "Answers": 0,
         "_deepnote_index_column": 69
        },
        {
         "Karlis": 0,
         "Iben": 0,
         "Markus": 1,
         "Ida": 1,
         "Answers": 1,
         "_deepnote_index_column": 70
        },
        {
         "Karlis": 0,
         "Iben": 0,
         "Markus": 0,
         "Ida": 0,
         "Answers": 0,
         "_deepnote_index_column": 71
        },
        {
         "Karlis": 0,
         "Iben": 1,
         "Markus": 1,
         "Ida": 1,
         "Answers": 1,
         "_deepnote_index_column": 72
        },
        {
         "Karlis": 1,
         "Iben": 1,
         "Markus": 1,
         "Ida": 1,
         "Answers": 1,
         "_deepnote_index_column": 73
        },
        {
         "Karlis": 0,
         "Iben": 0,
         "Markus": 0,
         "Ida": 1,
         "Answers": 0,
         "_deepnote_index_column": 74
        },
        {
         "Karlis": 1,
         "Iben": 1,
         "Markus": 0,
         "Ida": 1,
         "Answers": 0,
         "_deepnote_index_column": 75
        },
        {
         "Karlis": 0,
         "Iben": 0,
         "Markus": 0,
         "Ida": 0,
         "Answers": 0,
         "_deepnote_index_column": 76
        },
        {
         "Karlis": 0,
         "Iben": 0,
         "Markus": 0,
         "Ida": 0,
         "Answers": 0,
         "_deepnote_index_column": 77
        },
        {
         "Karlis": 0,
         "Iben": 0,
         "Markus": 0,
         "Ida": 0,
         "Answers": 0,
         "_deepnote_index_column": 78
        },
        {
         "Karlis": 1,
         "Iben": 1,
         "Markus": 1,
         "Ida": 1,
         "Answers": 1,
         "_deepnote_index_column": 79
        },
        {
         "Karlis": 1,
         "Iben": 0,
         "Markus": 0,
         "Ida": 1,
         "Answers": 0,
         "_deepnote_index_column": 80
        },
        {
         "Karlis": 0,
         "Iben": 0,
         "Markus": 0,
         "Ida": 0,
         "Answers": 0,
         "_deepnote_index_column": 81
        },
        {
         "Karlis": 1,
         "Iben": 0,
         "Markus": 1,
         "Ida": 1,
         "Answers": 0,
         "_deepnote_index_column": 82
        },
        {
         "Karlis": 0,
         "Iben": 0,
         "Markus": 0,
         "Ida": 1,
         "Answers": 0,
         "_deepnote_index_column": 83
        },
        {
         "Karlis": 1,
         "Iben": 0,
         "Markus": 0,
         "Ida": 1,
         "Answers": 0,
         "_deepnote_index_column": 84
        },
        {
         "Karlis": 0,
         "Iben": 1,
         "Markus": 1,
         "Ida": 1,
         "Answers": 1,
         "_deepnote_index_column": 85
        },
        {
         "Karlis": 0,
         "Iben": 0,
         "Markus": 0,
         "Ida": 1,
         "Answers": 0,
         "_deepnote_index_column": 86
        },
        {
         "Karlis": 0,
         "Iben": 0,
         "Markus": 0,
         "Ida": 0,
         "Answers": 0,
         "_deepnote_index_column": 87
        },
        {
         "Karlis": 0,
         "Iben": 0,
         "Markus": 0,
         "Ida": 0,
         "Answers": 0,
         "_deepnote_index_column": 88
        },
        {
         "Karlis": 1,
         "Iben": 0,
         "Markus": 1,
         "Ida": 1,
         "Answers": 1,
         "_deepnote_index_column": 89
        },
        {
         "Karlis": 0,
         "Iben": 0,
         "Markus": 0,
         "Ida": 0,
         "Answers": 0,
         "_deepnote_index_column": 90
        },
        {
         "Karlis": 0,
         "Iben": 0,
         "Markus": 0,
         "Ida": 0,
         "Answers": 0,
         "_deepnote_index_column": 91
        },
        {
         "Karlis": 0,
         "Iben": 0,
         "Markus": 0,
         "Ida": 0,
         "Answers": 0,
         "_deepnote_index_column": 92
        },
        {
         "Karlis": 0,
         "Iben": 0,
         "Markus": 0,
         "Ida": 0,
         "Answers": 0,
         "_deepnote_index_column": 93
        },
        {
         "Karlis": 1,
         "Iben": 1,
         "Markus": 1,
         "Ida": 1,
         "Answers": 1,
         "_deepnote_index_column": 94
        },
        {
         "Karlis": 0,
         "Iben": 0,
         "Markus": 0,
         "Ida": 0,
         "Answers": 0,
         "_deepnote_index_column": 95
        },
        {
         "Karlis": 0,
         "Iben": 0,
         "Markus": 0,
         "Ida": 0,
         "Answers": 0,
         "_deepnote_index_column": 96
        },
        {
         "Karlis": 0,
         "Iben": 0,
         "Markus": 0,
         "Ida": 1,
         "Answers": 0,
         "_deepnote_index_column": 97
        },
        {
         "Karlis": 0,
         "Iben": 0,
         "Markus": 0,
         "Ida": 1,
         "Answers": 0,
         "_deepnote_index_column": 98
        },
        {
         "Karlis": 0,
         "Iben": 0,
         "Markus": 1,
         "Ida": 1,
         "Answers": 0,
         "_deepnote_index_column": 99
        },
        {
         "Karlis": 0,
         "Iben": 0,
         "Markus": 0,
         "Ida": 1,
         "Answers": 0,
         "_deepnote_index_column": 100
        },
        {
         "Karlis": 1,
         "Iben": 0,
         "Markus": 1,
         "Ida": 1,
         "Answers": 0,
         "_deepnote_index_column": 101
        },
        {
         "Karlis": 0,
         "Iben": 0,
         "Markus": 0,
         "Ida": 0,
         "Answers": 0,
         "_deepnote_index_column": 102
        },
        {
         "Karlis": 1,
         "Iben": 0,
         "Markus": 0,
         "Ida": 1,
         "Answers": 0,
         "_deepnote_index_column": 103
        },
        {
         "Karlis": 0,
         "Iben": 0,
         "Markus": 0,
         "Ida": 1,
         "Answers": 0,
         "_deepnote_index_column": 104
        },
        {
         "Karlis": 0,
         "Iben": 0,
         "Markus": 0,
         "Ida": 1,
         "Answers": 0,
         "_deepnote_index_column": 105
        },
        {
         "Karlis": 0,
         "Iben": 0,
         "Markus": 0,
         "Ida": 0,
         "Answers": 0,
         "_deepnote_index_column": 106
        },
        {
         "Karlis": 0,
         "Iben": 0,
         "Markus": 1,
         "Ida": 1,
         "Answers": 1,
         "_deepnote_index_column": 107
        },
        {
         "Karlis": 0,
         "Iben": 0,
         "Markus": 0,
         "Ida": 1,
         "Answers": 1,
         "_deepnote_index_column": 108
        },
        {
         "Karlis": 1,
         "Iben": 1,
         "Markus": 1,
         "Ida": 1,
         "Answers": 0,
         "_deepnote_index_column": 109
        },
        {
         "Karlis": 0,
         "Iben": 0,
         "Markus": 0,
         "Ida": 1,
         "Answers": 0,
         "_deepnote_index_column": 110
        },
        {
         "Karlis": 0,
         "Iben": 0,
         "Markus": 0,
         "Ida": 0,
         "Answers": 0,
         "_deepnote_index_column": 111
        },
        {
         "Karlis": 1,
         "Iben": 0,
         "Markus": 0,
         "Ida": 1,
         "Answers": 0,
         "_deepnote_index_column": 112
        },
        {
         "Karlis": 1,
         "Iben": 1,
         "Markus": 1,
         "Ida": 1,
         "Answers": 1,
         "_deepnote_index_column": 113
        },
        {
         "Karlis": 1,
         "Iben": 1,
         "Markus": 1,
         "Ida": 1,
         "Answers": 1,
         "_deepnote_index_column": 114
        },
        {
         "Karlis": 0,
         "Iben": 0,
         "Markus": 0,
         "Ida": 0,
         "Answers": 0,
         "_deepnote_index_column": 115
        },
        {
         "Karlis": 1,
         "Iben": 0,
         "Markus": 1,
         "Ida": 1,
         "Answers": 0,
         "_deepnote_index_column": 116
        },
        {
         "Karlis": 0,
         "Iben": 0,
         "Markus": 1,
         "Ida": 1,
         "Answers": 1,
         "_deepnote_index_column": 117
        },
        {
         "Karlis": 1,
         "Iben": 1,
         "Markus": 0,
         "Ida": 1,
         "Answers": 1,
         "_deepnote_index_column": 118
        },
        {
         "Karlis": 0,
         "Iben": 0,
         "Markus": 0,
         "Ida": 0,
         "Answers": 0,
         "_deepnote_index_column": 119
        },
        {
         "Karlis": 1,
         "Iben": 1,
         "Markus": 1,
         "Ida": 1,
         "Answers": 1,
         "_deepnote_index_column": 120
        }
       ],
       "rows_bottom": null
      },
      "text/plain": "     Karlis  Iben  Markus  Ida  Answers\n0         0     0       0    0        0\n1         1     1       1    1        1\n2         0     0       0    0        0\n3         1     0       0    0        0\n4         1     1       1    1        1\n..      ...   ...     ...  ...      ...\n116       1     0       1    1        0\n117       0     0       1    1        1\n118       1     1       0    1        1\n119       0     0       0    0        0\n120       1     1       1    1        1\n\n[121 rows x 5 columns]",
      "text/html": "<div>\n<style scoped>\n    .dataframe tbody tr th:only-of-type {\n        vertical-align: middle;\n    }\n\n    .dataframe tbody tr th {\n        vertical-align: top;\n    }\n\n    .dataframe thead th {\n        text-align: right;\n    }\n</style>\n<table border=\"1\" class=\"dataframe\">\n  <thead>\n    <tr style=\"text-align: right;\">\n      <th></th>\n      <th>Karlis</th>\n      <th>Iben</th>\n      <th>Markus</th>\n      <th>Ida</th>\n      <th>Answers</th>\n    </tr>\n  </thead>\n  <tbody>\n    <tr>\n      <th>0</th>\n      <td>0</td>\n      <td>0</td>\n      <td>0</td>\n      <td>0</td>\n      <td>0</td>\n    </tr>\n    <tr>\n      <th>1</th>\n      <td>1</td>\n      <td>1</td>\n      <td>1</td>\n      <td>1</td>\n      <td>1</td>\n    </tr>\n    <tr>\n      <th>2</th>\n      <td>0</td>\n      <td>0</td>\n      <td>0</td>\n      <td>0</td>\n      <td>0</td>\n    </tr>\n    <tr>\n      <th>3</th>\n      <td>1</td>\n      <td>0</td>\n      <td>0</td>\n      <td>0</td>\n      <td>0</td>\n    </tr>\n    <tr>\n      <th>4</th>\n      <td>1</td>\n      <td>1</td>\n      <td>1</td>\n      <td>1</td>\n      <td>1</td>\n    </tr>\n    <tr>\n      <th>...</th>\n      <td>...</td>\n      <td>...</td>\n      <td>...</td>\n      <td>...</td>\n      <td>...</td>\n    </tr>\n    <tr>\n      <th>116</th>\n      <td>1</td>\n      <td>0</td>\n      <td>1</td>\n      <td>1</td>\n      <td>0</td>\n    </tr>\n    <tr>\n      <th>117</th>\n      <td>0</td>\n      <td>0</td>\n      <td>1</td>\n      <td>1</td>\n      <td>1</td>\n    </tr>\n    <tr>\n      <th>118</th>\n      <td>1</td>\n      <td>1</td>\n      <td>0</td>\n      <td>1</td>\n      <td>1</td>\n    </tr>\n    <tr>\n      <th>119</th>\n      <td>0</td>\n      <td>0</td>\n      <td>0</td>\n      <td>0</td>\n      <td>0</td>\n    </tr>\n    <tr>\n      <th>120</th>\n      <td>1</td>\n      <td>1</td>\n      <td>1</td>\n      <td>1</td>\n      <td>1</td>\n    </tr>\n  </tbody>\n</table>\n<p>121 rows × 5 columns</p>\n</div>"
     },
     "metadata": {}
    }
   ],
   "execution_count": 104
  },
  {
   "cell_type": "markdown",
   "source": "*Report on the inter-annotator agreement, including the agreement with the published labels, and discuss what phenomena in the data caused the biggest problems for inter-annotator agreement.*",
   "metadata": {
    "tags": [],
    "cell_id": "00023-fde6d355-ef4d-46d8-a767-14afffb468e2",
    "deepnote_cell_type": "markdown"
   }
  },
  {
   "cell_type": "code",
   "source": "",
   "metadata": {
    "tags": [],
    "cell_id": "00053-17001f0e-f5d3-4af9-ab2b-6eaf98e14cce",
    "deepnote_to_be_reexecuted": false,
    "source_hash": "bfae518d",
    "execution_start": 1620725509327,
    "execution_millis": 11,
    "deepnote_cell_type": "code"
   },
   "outputs": [
    {
     "output_type": "execute_result",
     "execution_count": 94,
     "data": {
      "text/plain": "0       True\n1      False\n2       True\n3      False\n4      False\n       ...  \n116    False\n117     True\n118    False\n119     True\n120    False\nLength: 121, dtype: bool"
     },
     "metadata": {}
    }
   ],
   "execution_count": 94
  },
  {
   "cell_type": "code",
   "source": "n = 121\nagree_1 = Hate_labels['Karlis'] & Hate_labels['Iben']  & Hate_labels['Markus']  & Hate_labels['Ida'] & Hate_labels['Answers']\nagree_0 = (Hate_labels['Karlis'] == 0) & (Hate_labels['Iben'] == 0)  & (Hate_labels['Markus'] == 0)  & (Hate_labels['Ida'] == 0) & (Hate_labels['Answers'] == 0)\nA_0 = sum(agree_1)/n + sum(agree_0)/n\nprint(A_0)\n# expected agreement cohens kappa\ncolumns = ['Karlis', 'Iben',\"Markus\",\"Ida\", 'Answers']\nk_is_1 = 1\nfor i in columns:\n    k_is_1 = k_is_1 * (sum(Hate_labels[i])/n)\nk_is_0 = 1\nfor i in columns:\n    k_is_0 = k_is_0 * ((121 - sum(Hate_labels[i]))/n)\n\nA_e = k_is_0 + k_is_1\n\nagree_factor = (A_0 - A_e)/(1 - A_e)\nagree_factor",
   "metadata": {
    "tags": [],
    "cell_id": "00052-5fc244bd-1fe4-41dc-a43a-6ba9c93b47f5",
    "deepnote_to_be_reexecuted": false,
    "source_hash": "df60cbb8",
    "execution_start": 1620735623237,
    "execution_millis": 11,
    "deepnote_cell_type": "code"
   },
   "outputs": [
    {
     "name": "stdout",
     "text": "0.4462809917355372\n",
     "output_type": "stream"
    },
    {
     "output_type": "execute_result",
     "execution_count": 102,
     "data": {
      "text/plain": "0.38440168274602066"
     },
     "metadata": {}
    }
   ],
   "execution_count": 102
  },
  {
   "cell_type": "markdown",
   "source": "*What phenomena in the data caused the biggest problems for inter-annotator agreement?*",
   "metadata": {
    "tags": [],
    "cell_id": "00054-8dcb14b4-bc7d-4c88-b47c-cd90aeb4110a",
    "deepnote_cell_type": "markdown"
   }
  },
  {
   "cell_type": "markdown",
   "source": "ANSWER: \n- Sensitive (often political) subjects, but not hate which gave us a diversity of labels.  \n- explicit language, but not hate\n\nAgreement was mostly on misogyny and disagreement on xenophobia\n- It was difficult to tell if the tweet was hateful xenophobia or just a political position.\n- Whereas, there were less political positions on women and just outright hate. \n\nSometime, there was hateful speech but not about the selected topics which confused us. \nWe did not know if a simple hastag like #buildthatwall is hate speech but it seemed like it is.\n\nIncidents of no hate speech but the citation had hate speech in them, this also confused us.",
   "metadata": {
    "tags": [],
    "cell_id": "00056-34393397-1265-478a-b695-5661da1a7cc1",
    "deepnote_cell_type": "markdown"
   }
  },
  {
   "cell_type": "markdown",
   "source": "## Task 4: Automatic Prediction",
   "metadata": {
    "tags": [],
    "cell_id": "00021-c60d322e-a641-46f4-b2b0-9c460a4ec7b8",
    "deepnote_cell_type": "markdown"
   }
  },
  {
   "cell_type": "markdown",
   "source": "*Finally, use scikit-learn to train a classifier for the automatic prediction of the labels in the two datasets you have chosen. During the lessons, we have not had time to discuss machine learning techniques and classification methods in detail, so in this exercise you will be using library implementations as “black box” methods.* <br>\n\n*Run all classification experiments on both of the tasks you’ve chosen (one binary and one multi-class task). Evaluate your different classifiers on the validation set and report relevant evaluation metrics (accuracy, precision/recall/F-score).* <br>\n\n*As a baseline, start with the sklearn.linear_model.SGDClassifier in a logistic regression configuration (loss=’log’) using bag of words features. Then run at least additional experiments trying to improve your initial scores by any means you can think of. Try out at least 4 different methods. Usually you will need to run several experiments for each methods to test different parameter values. Here are some settings in scikit-learn that you could experiment with:*",
   "metadata": {
    "tags": [],
    "cell_id": "00026-f7b991ea-912f-4854-b2b3-7fe0b015640b",
    "deepnote_cell_type": "markdown"
   }
  },
  {
   "cell_type": "markdown",
   "source": "*• Count transformations (sklearn.feature_extraction.text.TfIdfTransformer).* <br>\n",
   "metadata": {
    "tags": [],
    "cell_id": "00055-a01b0d61-0a6c-4d03-9ba9-af55b2b11718",
    "deepnote_cell_type": "markdown"
   }
  },
  {
   "cell_type": "code",
   "source": "\n",
   "metadata": {
    "tags": [],
    "cell_id": "00056-214f72af-bcaf-4be0-80f8-dc8ba14bb9d7",
    "deepnote_cell_type": "code"
   },
   "outputs": [],
   "execution_count": null
  },
  {
   "cell_type": "markdown",
   "source": "*• The classification loss(lossparametertoSGDClassifier).* <br>\n",
   "metadata": {
    "tags": [],
    "cell_id": "00056-5f519c6b-4159-4f91-8573-f57e5eeee47c",
    "deepnote_cell_type": "markdown"
   }
  },
  {
   "cell_type": "code",
   "source": "",
   "metadata": {
    "tags": [],
    "cell_id": "00058-b3a3c17e-372f-40e0-9cb0-aa0d87db21a3",
    "deepnote_cell_type": "code"
   },
   "outputs": [],
   "execution_count": null
  },
  {
   "cell_type": "markdown",
   "source": "• The regularisation strength (alpha parameter to SGDClassifier – try varying it in\nexponentially spaced steps).",
   "metadata": {
    "tags": [],
    "cell_id": "00057-a969a3b1-dfcc-4bb2-9d3a-d479114a0c21",
    "deepnote_cell_type": "markdown"
   }
  },
  {
   "cell_type": "code",
   "source": "",
   "metadata": {
    "tags": [],
    "cell_id": "00060-a989ea2d-f43f-4360-9c51-7ea9f70f58ba",
    "deepnote_cell_type": "code"
   },
   "outputs": [],
   "execution_count": null
  },
  {
   "cell_type": "markdown",
   "source": "• Different classifiers (e.g., sklearn.ensemble.RandomForestClassifier or\nsklearn.naive_bayes.MultinomialNB.",
   "metadata": {
    "tags": [],
    "cell_id": "00061-2233f19a-99ea-4a31-b6e5-2109e1f2a296",
    "deepnote_cell_type": "markdown"
   }
  },
  {
   "cell_type": "markdown",
   "source": "",
   "metadata": {
    "tags": [],
    "cell_id": "00057-53c31397-d58f-49bc-90c4-68acb49dc694",
    "deepnote_cell_type": "markdown"
   }
  },
  {
   "cell_type": "markdown",
   "source": "• Anything else discussed during the lessons, or implemented in scikit-learn.\n",
   "metadata": {
    "tags": [],
    "cell_id": "00063-a062d44d-d538-4dda-98a3-df5f5bb9c7fd",
    "deepnote_cell_type": "markdown"
   }
  },
  {
   "cell_type": "code",
   "source": "",
   "metadata": {
    "tags": [],
    "cell_id": "00064-9a97a523-a67a-4e00-b7f6-3630097d2c53",
    "deepnote_cell_type": "code"
   },
   "outputs": [],
   "execution_count": null
  },
  {
   "cell_type": "markdown",
   "source": "*(For the systems that achieves the highest accuracy on the validation set, run the evaluation on the test set and report your results. We will share an anonymous overview of the test set scores of all groups after the reports are handed in.)*",
   "metadata": {
    "tags": [],
    "cell_id": "00028-ed4f8ae2-0bac-402a-99e9-0fd0073bac46",
    "deepnote_cell_type": "markdown"
   }
  },
  {
   "cell_type": "code",
   "metadata": {
    "tags": [],
    "cell_id": "00027-2af8bb81-94fa-43a6-9563-7ec0b9819d8e",
    "deepnote_to_be_reexecuted": true,
    "source_hash": "b623e53d",
    "execution_start": 1620392032142,
    "execution_millis": 0,
    "deepnote_cell_type": "code"
   },
   "source": "",
   "execution_count": null,
   "outputs": []
  },
  {
   "cell_type": "markdown",
   "source": "",
   "metadata": {
    "tags": [],
    "cell_id": "00023-2351ca9a-9100-4fb3-a26d-8df47e552dbc",
    "deepnote_cell_type": "markdown"
   }
  },
  {
   "cell_type": "markdown",
   "source": "<a style='text-decoration:none;line-height:16px;display:flex;color:#5B5B62;padding:10px;justify-content:end;' href='https://deepnote.com?utm_source=created-in-deepnote-cell&projectId=5235cf77-d347-437f-a336-60ef81766ce7' target=\"_blank\">\n<img alt='Created in deepnote.com' style='display:inline;max-height:16px;margin:0px;margin-right:7.5px;' src='data:image/svg+xml;base64,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' > </img>\nCreated in <span style='font-weight:600;margin-left:4px;'>Deepnote</span></a>",
   "metadata": {
    "tags": [],
    "created_in_deepnote_cell": true,
    "deepnote_cell_type": "markdown"
   }
  }
 ],
 "nbformat": 4,
 "nbformat_minor": 2,
 "metadata": {
  "orig_nbformat": 2,
  "deepnote": {
   "is_reactive": false
  },
  "deepnote_notebook_id": "7a186dc4-7f7b-4be7-ae14-975d1edff29c",
  "deepnote_execution_queue": []
 }
}